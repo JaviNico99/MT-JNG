{
 "cells": [
  {
   "cell_type": "markdown",
   "metadata": {},
   "source": [
    "# \"kdd Internet Usage\" Dataset"
   ]
  },
  {
   "cell_type": "code",
   "execution_count": 1,
   "id": "60f5dfa4",
   "metadata": {},
   "outputs": [],
   "source": [
    "# data manipulation\n",
    "from scipy.io import arff\n",
    "import pandas as pd\n",
    "import numpy as np"
   ]
  },
  {
   "cell_type": "code",
   "execution_count": 2,
   "id": "c9fd1af0",
   "metadata": {},
   "outputs": [],
   "source": [
    "from sklearn.datasets import fetch_openml\n",
    "\n",
    "data = fetch_openml(data_id=981, parser='auto')\n",
    "\n",
    "# The returned dataset is a Bunch object, similar to a dictionary\n",
    "X = data['data']\n",
    "X = pd.DataFrame(X)\n",
    "y = data['target']"
   ]
  },
  {
   "cell_type": "code",
   "execution_count": 3,
   "metadata": {},
   "outputs": [],
   "source": [
    "# Summary vectors creation\n",
    "\n",
    "default_summary  = []\n",
    "encoder_summary  = []\n",
    "value_summary    = []\n",
    "time_summary     = []\n",
    "n_models_summary = []\n",
    "card_9_summary   = []"
   ]
  },
  {
   "cell_type": "code",
   "execution_count": 4,
   "id": "27451de4",
   "metadata": {},
   "outputs": [
    {
     "data": {
      "text/html": [
       "<div>\n",
       "<style scoped>\n",
       "    .dataframe tbody tr th:only-of-type {\n",
       "        vertical-align: middle;\n",
       "    }\n",
       "\n",
       "    .dataframe tbody tr th {\n",
       "        vertical-align: top;\n",
       "    }\n",
       "\n",
       "    .dataframe thead th {\n",
       "        text-align: right;\n",
       "    }\n",
       "</style>\n",
       "<table border=\"1\" class=\"dataframe\">\n",
       "  <thead>\n",
       "    <tr style=\"text-align: right;\">\n",
       "      <th></th>\n",
       "      <th>Actual_Time</th>\n",
       "      <th>Age</th>\n",
       "      <th>Community_Building</th>\n",
       "      <th>Community_Membership_Family</th>\n",
       "      <th>Community_Membership_Hobbies</th>\n",
       "      <th>Community_Membership_None</th>\n",
       "      <th>Community_Membership_Other</th>\n",
       "      <th>Community_Membership_Political</th>\n",
       "      <th>Community_Membership_Professional</th>\n",
       "      <th>Community_Membership_Religious</th>\n",
       "      <th>...</th>\n",
       "      <th>Not_Purchasing_Unfamiliar_vendor</th>\n",
       "      <th>Registered_to_Vote</th>\n",
       "      <th>Sexual_Preference</th>\n",
       "      <th>Web_Ordering</th>\n",
       "      <th>Web_Page_Creation</th>\n",
       "      <th>Who_Pays_for_Access_Dont_Know</th>\n",
       "      <th>Who_Pays_for_Access_Other</th>\n",
       "      <th>Who_Pays_for_Access_Parents</th>\n",
       "      <th>Who_Pays_for_Access_School</th>\n",
       "      <th>Who_Pays_for_Access_Self</th>\n",
       "    </tr>\n",
       "  </thead>\n",
       "  <tbody>\n",
       "    <tr>\n",
       "      <th>0</th>\n",
       "      <td>Consultant</td>\n",
       "      <td>41</td>\n",
       "      <td>Equally</td>\n",
       "      <td>0</td>\n",
       "      <td>0</td>\n",
       "      <td>1</td>\n",
       "      <td>0</td>\n",
       "      <td>0</td>\n",
       "      <td>0</td>\n",
       "      <td>0</td>\n",
       "      <td>...</td>\n",
       "      <td>0</td>\n",
       "      <td>Yes</td>\n",
       "      <td>Heterosexual</td>\n",
       "      <td>Yes</td>\n",
       "      <td>Yes</td>\n",
       "      <td>0</td>\n",
       "      <td>0</td>\n",
       "      <td>0</td>\n",
       "      <td>0</td>\n",
       "      <td>1</td>\n",
       "    </tr>\n",
       "    <tr>\n",
       "      <th>1</th>\n",
       "      <td>College_Student</td>\n",
       "      <td>28</td>\n",
       "      <td>Equally</td>\n",
       "      <td>0</td>\n",
       "      <td>0</td>\n",
       "      <td>0</td>\n",
       "      <td>0</td>\n",
       "      <td>0</td>\n",
       "      <td>0</td>\n",
       "      <td>0</td>\n",
       "      <td>...</td>\n",
       "      <td>0</td>\n",
       "      <td>Yes</td>\n",
       "      <td>Heterosexual</td>\n",
       "      <td>Yes</td>\n",
       "      <td>No</td>\n",
       "      <td>0</td>\n",
       "      <td>0</td>\n",
       "      <td>0</td>\n",
       "      <td>0</td>\n",
       "      <td>1</td>\n",
       "    </tr>\n",
       "    <tr>\n",
       "      <th>2</th>\n",
       "      <td>Other</td>\n",
       "      <td>25</td>\n",
       "      <td>More</td>\n",
       "      <td>1</td>\n",
       "      <td>1</td>\n",
       "      <td>0</td>\n",
       "      <td>0</td>\n",
       "      <td>0</td>\n",
       "      <td>1</td>\n",
       "      <td>0</td>\n",
       "      <td>...</td>\n",
       "      <td>1</td>\n",
       "      <td>No</td>\n",
       "      <td>Heterosexual</td>\n",
       "      <td>Yes</td>\n",
       "      <td>Yes</td>\n",
       "      <td>0</td>\n",
       "      <td>0</td>\n",
       "      <td>0</td>\n",
       "      <td>0</td>\n",
       "      <td>1</td>\n",
       "    </tr>\n",
       "    <tr>\n",
       "      <th>3</th>\n",
       "      <td>Salesperson</td>\n",
       "      <td>28</td>\n",
       "      <td>More</td>\n",
       "      <td>0</td>\n",
       "      <td>0</td>\n",
       "      <td>0</td>\n",
       "      <td>1</td>\n",
       "      <td>0</td>\n",
       "      <td>0</td>\n",
       "      <td>0</td>\n",
       "      <td>...</td>\n",
       "      <td>0</td>\n",
       "      <td>Yes</td>\n",
       "      <td>Heterosexual</td>\n",
       "      <td>Yes</td>\n",
       "      <td>Yes</td>\n",
       "      <td>0</td>\n",
       "      <td>0</td>\n",
       "      <td>0</td>\n",
       "      <td>0</td>\n",
       "      <td>1</td>\n",
       "    </tr>\n",
       "    <tr>\n",
       "      <th>4</th>\n",
       "      <td>K-12_Student</td>\n",
       "      <td>17</td>\n",
       "      <td>More</td>\n",
       "      <td>0</td>\n",
       "      <td>0</td>\n",
       "      <td>0</td>\n",
       "      <td>0</td>\n",
       "      <td>1</td>\n",
       "      <td>1</td>\n",
       "      <td>0</td>\n",
       "      <td>...</td>\n",
       "      <td>0</td>\n",
       "      <td>No</td>\n",
       "      <td>Heterosexual</td>\n",
       "      <td>Yes</td>\n",
       "      <td>Yes</td>\n",
       "      <td>0</td>\n",
       "      <td>0</td>\n",
       "      <td>0</td>\n",
       "      <td>0</td>\n",
       "      <td>1</td>\n",
       "    </tr>\n",
       "  </tbody>\n",
       "</table>\n",
       "<p>5 rows × 68 columns</p>\n",
       "</div>"
      ],
      "text/plain": [
       "       Actual_Time Age Community_Building Community_Membership_Family  \\\n",
       "0       Consultant  41            Equally                           0   \n",
       "1  College_Student  28            Equally                           0   \n",
       "2            Other  25               More                           1   \n",
       "3      Salesperson  28               More                           0   \n",
       "4     K-12_Student  17               More                           0   \n",
       "\n",
       "  Community_Membership_Hobbies Community_Membership_None  \\\n",
       "0                            0                         1   \n",
       "1                            0                         0   \n",
       "2                            1                         0   \n",
       "3                            0                         0   \n",
       "4                            0                         0   \n",
       "\n",
       "  Community_Membership_Other Community_Membership_Political  \\\n",
       "0                          0                              0   \n",
       "1                          0                              0   \n",
       "2                          0                              0   \n",
       "3                          1                              0   \n",
       "4                          0                              1   \n",
       "\n",
       "  Community_Membership_Professional Community_Membership_Religious  ...  \\\n",
       "0                                 0                              0  ...   \n",
       "1                                 0                              0  ...   \n",
       "2                                 1                              0  ...   \n",
       "3                                 0                              0  ...   \n",
       "4                                 1                              0  ...   \n",
       "\n",
       "  Not_Purchasing_Unfamiliar_vendor Registered_to_Vote Sexual_Preference  \\\n",
       "0                                0                Yes      Heterosexual   \n",
       "1                                0                Yes      Heterosexual   \n",
       "2                                1                 No      Heterosexual   \n",
       "3                                0                Yes      Heterosexual   \n",
       "4                                0                 No      Heterosexual   \n",
       "\n",
       "  Web_Ordering Web_Page_Creation Who_Pays_for_Access_Dont_Know  \\\n",
       "0          Yes               Yes                             0   \n",
       "1          Yes                No                             0   \n",
       "2          Yes               Yes                             0   \n",
       "3          Yes               Yes                             0   \n",
       "4          Yes               Yes                             0   \n",
       "\n",
       "  Who_Pays_for_Access_Other Who_Pays_for_Access_Parents  \\\n",
       "0                         0                           0   \n",
       "1                         0                           0   \n",
       "2                         0                           0   \n",
       "3                         0                           0   \n",
       "4                         0                           0   \n",
       "\n",
       "  Who_Pays_for_Access_School Who_Pays_for_Access_Self  \n",
       "0                          0                        1  \n",
       "1                          0                        1  \n",
       "2                          0                        1  \n",
       "3                          0                        1  \n",
       "4                          0                        1  \n",
       "\n",
       "[5 rows x 68 columns]"
      ]
     },
     "execution_count": 4,
     "metadata": {},
     "output_type": "execute_result"
    }
   ],
   "source": [
    "X.head()"
   ]
  },
  {
   "cell_type": "code",
   "execution_count": 5,
   "id": "41ddd271",
   "metadata": {
    "scrolled": true
   },
   "outputs": [
    {
     "name": "stdout",
     "output_type": "stream",
     "text": [
      "<class 'pandas.core.frame.DataFrame'>\n",
      "RangeIndex: 10108 entries, 0 to 10107\n",
      "Data columns (total 68 columns):\n",
      " #   Column                                    Non-Null Count  Dtype   \n",
      "---  ------                                    --------------  -----   \n",
      " 0   Actual_Time                               10108 non-null  category\n",
      " 1   Age                                       10108 non-null  category\n",
      " 2   Community_Building                        10108 non-null  category\n",
      " 3   Community_Membership_Family               10108 non-null  category\n",
      " 4   Community_Membership_Hobbies              10108 non-null  category\n",
      " 5   Community_Membership_None                 10108 non-null  category\n",
      " 6   Community_Membership_Other                10108 non-null  category\n",
      " 7   Community_Membership_Political            10108 non-null  category\n",
      " 8   Community_Membership_Professional         10108 non-null  category\n",
      " 9   Community_Membership_Religious            10108 non-null  category\n",
      " 10  Community_Membership_Support              10108 non-null  category\n",
      " 11  Country                                   10108 non-null  category\n",
      " 12  Disability_Cognitive                      10108 non-null  category\n",
      " 13  Disability_Hearing                        10108 non-null  category\n",
      " 14  Disability_Motor                          10108 non-null  category\n",
      " 15  Disability_Not_Impaired                   10108 non-null  category\n",
      " 16  Disability_Not_Say                        10108 non-null  category\n",
      " 17  Disability_Vision                         10108 non-null  category\n",
      " 18  Education_Attainment                      10108 non-null  category\n",
      " 19  Falsification_of_Information              10108 non-null  category\n",
      " 20  Gender                                    10108 non-null  category\n",
      " 21  Household_Income                          10108 non-null  category\n",
      " 22  How_You_Heard_About_Survey_Banner         10108 non-null  category\n",
      " 23  How_You_Heard_About_Survey_Friend         10108 non-null  category\n",
      " 24  How_You_Heard_About_Survey_Mailing_List   10108 non-null  category\n",
      " 25  How_You_Heard_About_Survey_Others         10108 non-null  category\n",
      " 26  How_You_Heard_About_Survey_Printed_Media  10108 non-null  category\n",
      " 27  How_You_Heard_About_Survey_Remebered      10108 non-null  category\n",
      " 28  How_You_Heard_About_Survey_Search_Engine  10108 non-null  category\n",
      " 29  How_You_Heard_About_Survey_Usenet_News    10108 non-null  category\n",
      " 30  How_You_Heard_About_Survey_WWW_Page       10108 non-null  category\n",
      " 31  Major_Geographical_Location               10108 non-null  category\n",
      " 32  Major_Occupation                          10108 non-null  category\n",
      " 33  Marital_Status                            10108 non-null  category\n",
      " 34  Most_Import_Issue_Facing_the_Internet     10108 non-null  category\n",
      " 35  Opinions_on_Censorship                    10108 non-null  category\n",
      " 36  Primary_Computing_Platform                7409 non-null   category\n",
      " 37  Primary_Language                          10108 non-null  category\n",
      " 38  Primary_Place_of_WWW_Access               10108 non-null  category\n",
      " 39  Race                                      10108 non-null  category\n",
      " 40  Not_Purchasing_Bad_experience             10108 non-null  category\n",
      " 41  Not_Purchasing_Bad_press                  10108 non-null  category\n",
      " 42  Not_Purchasing_Cant_find                  10108 non-null  category\n",
      " 43  Not_Purchasing_Company_policy             10108 non-null  category\n",
      " 44  Not_Purchasing_Easier_locally             10108 non-null  category\n",
      " 45  Not_Purchasing_Enough_info                10108 non-null  category\n",
      " 46  Not_Purchasing_Judge_quality              10108 non-null  category\n",
      " 47  Not_Purchasing_Never_tried                10108 non-null  category\n",
      " 48  Not_Purchasing_No_credit                  10108 non-null  category\n",
      " 49  Not_Purchasing_Not_applicable             10108 non-null  category\n",
      " 50  Not_Purchasing_Not_option                 10108 non-null  category\n",
      " 51  Not_Purchasing_Other                      10108 non-null  category\n",
      " 52  Not_Purchasing_Prefer_people              10108 non-null  category\n",
      " 53  Not_Purchasing_Privacy                    10108 non-null  category\n",
      " 54  Not_Purchasing_Receipt                    10108 non-null  category\n",
      " 55  Not_Purchasing_Security                   10108 non-null  category\n",
      " 56  Not_Purchasing_Too_complicated            10108 non-null  category\n",
      " 57  Not_Purchasing_Uncomfortable              10108 non-null  category\n",
      " 58  Not_Purchasing_Unfamiliar_vendor          10108 non-null  category\n",
      " 59  Registered_to_Vote                        10108 non-null  category\n",
      " 60  Sexual_Preference                         10108 non-null  category\n",
      " 61  Web_Ordering                              10108 non-null  category\n",
      " 62  Web_Page_Creation                         10108 non-null  category\n",
      " 63  Who_Pays_for_Access_Dont_Know             10108 non-null  category\n",
      " 64  Who_Pays_for_Access_Other                 10108 non-null  category\n",
      " 65  Who_Pays_for_Access_Parents               10108 non-null  category\n",
      " 66  Who_Pays_for_Access_School                10108 non-null  category\n",
      " 67  Who_Pays_for_Access_Self                  10108 non-null  category\n",
      "dtypes: category(68)\n",
      "memory usage: 705.7 KB\n"
     ]
    }
   ],
   "source": [
    "X.info()"
   ]
  },
  {
   "cell_type": "code",
   "execution_count": 6,
   "id": "fdd9bf0f",
   "metadata": {
    "scrolled": true
   },
   "outputs": [
    {
     "data": {
      "text/plain": [
       "(10108, 68)"
      ]
     },
     "execution_count": 6,
     "metadata": {},
     "output_type": "execute_result"
    }
   ],
   "source": [
    "X.shape"
   ]
  },
  {
   "cell_type": "code",
   "execution_count": 7,
   "id": "c564e688",
   "metadata": {},
   "outputs": [
    {
     "data": {
      "text/html": [
       "<div>\n",
       "<style scoped>\n",
       "    .dataframe tbody tr th:only-of-type {\n",
       "        vertical-align: middle;\n",
       "    }\n",
       "\n",
       "    .dataframe tbody tr th {\n",
       "        vertical-align: top;\n",
       "    }\n",
       "\n",
       "    .dataframe thead th {\n",
       "        text-align: right;\n",
       "    }\n",
       "</style>\n",
       "<table border=\"1\" class=\"dataframe\">\n",
       "  <thead>\n",
       "    <tr style=\"text-align: right;\">\n",
       "      <th></th>\n",
       "      <th>Actual_Time</th>\n",
       "      <th>Age</th>\n",
       "      <th>Community_Building</th>\n",
       "      <th>Community_Membership_Family</th>\n",
       "      <th>Community_Membership_Hobbies</th>\n",
       "      <th>Community_Membership_None</th>\n",
       "      <th>Community_Membership_Other</th>\n",
       "      <th>Community_Membership_Political</th>\n",
       "      <th>Community_Membership_Professional</th>\n",
       "      <th>Community_Membership_Religious</th>\n",
       "      <th>...</th>\n",
       "      <th>Not_Purchasing_Unfamiliar_vendor</th>\n",
       "      <th>Registered_to_Vote</th>\n",
       "      <th>Sexual_Preference</th>\n",
       "      <th>Web_Ordering</th>\n",
       "      <th>Web_Page_Creation</th>\n",
       "      <th>Who_Pays_for_Access_Dont_Know</th>\n",
       "      <th>Who_Pays_for_Access_Other</th>\n",
       "      <th>Who_Pays_for_Access_Parents</th>\n",
       "      <th>Who_Pays_for_Access_School</th>\n",
       "      <th>Who_Pays_for_Access_Self</th>\n",
       "    </tr>\n",
       "  </thead>\n",
       "  <tbody>\n",
       "    <tr>\n",
       "      <th>count</th>\n",
       "      <td>10108</td>\n",
       "      <td>10108</td>\n",
       "      <td>10108</td>\n",
       "      <td>10108</td>\n",
       "      <td>10108</td>\n",
       "      <td>10108</td>\n",
       "      <td>10108</td>\n",
       "      <td>10108</td>\n",
       "      <td>10108</td>\n",
       "      <td>10108</td>\n",
       "      <td>...</td>\n",
       "      <td>10108</td>\n",
       "      <td>10108</td>\n",
       "      <td>10108</td>\n",
       "      <td>10108</td>\n",
       "      <td>10108</td>\n",
       "      <td>10108</td>\n",
       "      <td>10108</td>\n",
       "      <td>10108</td>\n",
       "      <td>10108</td>\n",
       "      <td>10108</td>\n",
       "    </tr>\n",
       "    <tr>\n",
       "      <th>unique</th>\n",
       "      <td>46</td>\n",
       "      <td>77</td>\n",
       "      <td>4</td>\n",
       "      <td>2</td>\n",
       "      <td>2</td>\n",
       "      <td>2</td>\n",
       "      <td>2</td>\n",
       "      <td>2</td>\n",
       "      <td>2</td>\n",
       "      <td>2</td>\n",
       "      <td>...</td>\n",
       "      <td>2</td>\n",
       "      <td>4</td>\n",
       "      <td>6</td>\n",
       "      <td>3</td>\n",
       "      <td>3</td>\n",
       "      <td>2</td>\n",
       "      <td>2</td>\n",
       "      <td>2</td>\n",
       "      <td>2</td>\n",
       "      <td>2</td>\n",
       "    </tr>\n",
       "    <tr>\n",
       "      <th>top</th>\n",
       "      <td>Other</td>\n",
       "      <td>26</td>\n",
       "      <td>More</td>\n",
       "      <td>0</td>\n",
       "      <td>0</td>\n",
       "      <td>0</td>\n",
       "      <td>0</td>\n",
       "      <td>0</td>\n",
       "      <td>0</td>\n",
       "      <td>0</td>\n",
       "      <td>...</td>\n",
       "      <td>0</td>\n",
       "      <td>Yes</td>\n",
       "      <td>Heterosexual</td>\n",
       "      <td>Yes</td>\n",
       "      <td>No</td>\n",
       "      <td>0</td>\n",
       "      <td>0</td>\n",
       "      <td>0</td>\n",
       "      <td>0</td>\n",
       "      <td>1</td>\n",
       "    </tr>\n",
       "    <tr>\n",
       "      <th>freq</th>\n",
       "      <td>2878</td>\n",
       "      <td>325</td>\n",
       "      <td>4596</td>\n",
       "      <td>7362</td>\n",
       "      <td>5577</td>\n",
       "      <td>7646</td>\n",
       "      <td>8228</td>\n",
       "      <td>9147</td>\n",
       "      <td>6923</td>\n",
       "      <td>9408</td>\n",
       "      <td>...</td>\n",
       "      <td>8400</td>\n",
       "      <td>8374</td>\n",
       "      <td>8669</td>\n",
       "      <td>6888</td>\n",
       "      <td>5429</td>\n",
       "      <td>10059</td>\n",
       "      <td>9776</td>\n",
       "      <td>9525</td>\n",
       "      <td>8768</td>\n",
       "      <td>7165</td>\n",
       "    </tr>\n",
       "  </tbody>\n",
       "</table>\n",
       "<p>4 rows × 68 columns</p>\n",
       "</div>"
      ],
      "text/plain": [
       "       Actual_Time    Age Community_Building Community_Membership_Family  \\\n",
       "count        10108  10108              10108                       10108   \n",
       "unique          46     77                  4                           2   \n",
       "top          Other     26               More                           0   \n",
       "freq          2878    325               4596                        7362   \n",
       "\n",
       "       Community_Membership_Hobbies Community_Membership_None  \\\n",
       "count                         10108                     10108   \n",
       "unique                            2                         2   \n",
       "top                               0                         0   \n",
       "freq                           5577                      7646   \n",
       "\n",
       "       Community_Membership_Other Community_Membership_Political  \\\n",
       "count                       10108                          10108   \n",
       "unique                          2                              2   \n",
       "top                             0                              0   \n",
       "freq                         8228                           9147   \n",
       "\n",
       "       Community_Membership_Professional Community_Membership_Religious  ...  \\\n",
       "count                              10108                          10108  ...   \n",
       "unique                                 2                              2  ...   \n",
       "top                                    0                              0  ...   \n",
       "freq                                6923                           9408  ...   \n",
       "\n",
       "       Not_Purchasing_Unfamiliar_vendor Registered_to_Vote Sexual_Preference  \\\n",
       "count                             10108              10108             10108   \n",
       "unique                                2                  4                 6   \n",
       "top                                   0                Yes      Heterosexual   \n",
       "freq                               8400               8374              8669   \n",
       "\n",
       "       Web_Ordering Web_Page_Creation Who_Pays_for_Access_Dont_Know  \\\n",
       "count         10108             10108                         10108   \n",
       "unique            3                 3                             2   \n",
       "top             Yes                No                             0   \n",
       "freq           6888              5429                         10059   \n",
       "\n",
       "       Who_Pays_for_Access_Other Who_Pays_for_Access_Parents  \\\n",
       "count                      10108                       10108   \n",
       "unique                         2                           2   \n",
       "top                            0                           0   \n",
       "freq                        9776                        9525   \n",
       "\n",
       "       Who_Pays_for_Access_School Who_Pays_for_Access_Self  \n",
       "count                       10108                    10108  \n",
       "unique                          2                        2  \n",
       "top                             0                        1  \n",
       "freq                         8768                     7165  \n",
       "\n",
       "[4 rows x 68 columns]"
      ]
     },
     "execution_count": 7,
     "metadata": {},
     "output_type": "execute_result"
    }
   ],
   "source": [
    "X.describe()"
   ]
  },
  {
   "cell_type": "markdown",
   "id": "26547dc6",
   "metadata": {},
   "source": [
    "We check for duplicate rows."
   ]
  },
  {
   "cell_type": "code",
   "execution_count": 8,
   "id": "b04401c9",
   "metadata": {
    "scrolled": false
   },
   "outputs": [
    {
     "data": {
      "text/plain": [
       "0"
      ]
     },
     "execution_count": 8,
     "metadata": {},
     "output_type": "execute_result"
    }
   ],
   "source": [
    "X.duplicated().sum()"
   ]
  },
  {
   "cell_type": "markdown",
   "id": "22682c0e",
   "metadata": {},
   "source": [
    " "
   ]
  },
  {
   "cell_type": "markdown",
   "id": "8a850463",
   "metadata": {},
   "source": [
    "## Study of NA's"
   ]
  },
  {
   "cell_type": "code",
   "execution_count": 9,
   "id": "0e19b7ec",
   "metadata": {
    "scrolled": true
   },
   "outputs": [
    {
     "data": {
      "text/plain": [
       "Primary_Computing_Platform                  2699\n",
       "Actual_Time                                    0\n",
       "Not_Purchasing_Company_policy                  0\n",
       "Not_Purchasing_Not_applicable                  0\n",
       "Not_Purchasing_No_credit                       0\n",
       "                                            ... \n",
       "How_You_Heard_About_Survey_Search_Engine       0\n",
       "How_You_Heard_About_Survey_Usenet_News         0\n",
       "How_You_Heard_About_Survey_WWW_Page            0\n",
       "Major_Geographical_Location                    0\n",
       "Who_Pays_for_Access_Self                       0\n",
       "Length: 68, dtype: int64"
      ]
     },
     "execution_count": 9,
     "metadata": {},
     "output_type": "execute_result"
    }
   ],
   "source": [
    "X.isna().sum().sort_values(ascending = False)"
   ]
  },
  {
   "cell_type": "markdown",
   "id": "7387acd9",
   "metadata": {},
   "source": [
    "As can be seen, there are two features with np.nan values. However, this does not mean that there are no more variables containing missing values."
   ]
  },
  {
   "cell_type": "code",
   "execution_count": 10,
   "id": "831fc56d",
   "metadata": {
    "scrolled": true
   },
   "outputs": [
    {
     "data": {
      "text/plain": [
       "7"
      ]
     },
     "execution_count": 10,
     "metadata": {},
     "output_type": "execute_result"
    }
   ],
   "source": [
    "(X=='Not_Say').any().sum()"
   ]
  },
  {
   "cell_type": "code",
   "execution_count": 11,
   "id": "2138e90a",
   "metadata": {},
   "outputs": [
    {
     "data": {
      "text/plain": [
       "3"
      ]
     },
     "execution_count": 11,
     "metadata": {},
     "output_type": "execute_result"
    }
   ],
   "source": [
    "(X==\"Dont_Know\").any().sum()"
   ]
  },
  {
   "cell_type": "markdown",
   "id": "111c2b01",
   "metadata": {},
   "source": [
    "#### Not_Say"
   ]
  },
  {
   "cell_type": "code",
   "execution_count": 12,
   "id": "c1537f88",
   "metadata": {},
   "outputs": [
    {
     "data": {
      "text/plain": [
       "Index(['Age', 'Falsification_of_Information', 'Household_Income',\n",
       "       'Marital_Status', 'Primary_Language', 'Race', 'Registered_to_Vote'],\n",
       "      dtype='object')"
      ]
     },
     "execution_count": 12,
     "metadata": {},
     "output_type": "execute_result"
    }
   ],
   "source": [
    "not_say_columns = X.columns[np.unique(np.where(X.eq('Not_Say'))[1])]\n",
    "not_say_columns"
   ]
  },
  {
   "cell_type": "markdown",
   "id": "092e6bc7",
   "metadata": {},
   "source": [
    "We convert these values into NaN."
   ]
  },
  {
   "cell_type": "code",
   "execution_count": 13,
   "id": "d727f99e",
   "metadata": {},
   "outputs": [],
   "source": [
    "X[not_say_columns] = X[not_say_columns].replace(\"Not_Say\", np.nan)"
   ]
  },
  {
   "cell_type": "code",
   "execution_count": 14,
   "id": "46a68807",
   "metadata": {},
   "outputs": [
    {
     "data": {
      "text/plain": [
       "array([], dtype=int64)"
      ]
     },
     "execution_count": 14,
     "metadata": {},
     "output_type": "execute_result"
    }
   ],
   "source": [
    "np.unique(np.where(X.eq('Not_Say'))[1])"
   ]
  },
  {
   "cell_type": "markdown",
   "id": "eb1b2476",
   "metadata": {},
   "source": [
    "#### Don't know"
   ]
  },
  {
   "cell_type": "code",
   "execution_count": 15,
   "id": "54fd64e5",
   "metadata": {},
   "outputs": [
    {
     "data": {
      "text/plain": [
       "Index(['Community_Building', 'Most_Import_Issue_Facing_the_Internet',\n",
       "       'Primary_Computing_Platform'],\n",
       "      dtype='object')"
      ]
     },
     "execution_count": 15,
     "metadata": {},
     "output_type": "execute_result"
    }
   ],
   "source": [
    "X.columns[np.unique(np.where(X.eq('Dont_Know'))[1])]"
   ]
  },
  {
   "cell_type": "markdown",
   "id": "385aa4c9",
   "metadata": {},
   "source": [
    "We leave them as another category."
   ]
  },
  {
   "cell_type": "markdown",
   "id": "eeb83041",
   "metadata": {},
   "source": [
    "Final percentage of NAs in the dataset:"
   ]
  },
  {
   "cell_type": "code",
   "execution_count": 16,
   "id": "5b9a37eb",
   "metadata": {},
   "outputs": [
    {
     "data": {
      "text/plain": [
       "0.8157487371679975"
      ]
     },
     "execution_count": 16,
     "metadata": {},
     "output_type": "execute_result"
    }
   ],
   "source": [
    "(X.isna().sum().sort_values(ascending = False).sum() / (X.shape[0]*X.shape[1]))*100"
   ]
  },
  {
   "cell_type": "markdown",
   "id": "3037136b",
   "metadata": {},
   "source": [
    " "
   ]
  },
  {
   "cell_type": "markdown",
   "id": "655e679a",
   "metadata": {},
   "source": [
    "## Type of Variables"
   ]
  },
  {
   "cell_type": "markdown",
   "id": "40c63dbc",
   "metadata": {},
   "source": [
    "Due to the information in OpenML, we converte the **Age** variable in categorical."
   ]
  },
  {
   "cell_type": "code",
   "execution_count": 17,
   "id": "233cca5a",
   "metadata": {},
   "outputs": [],
   "source": [
    "X['Age'] = X['Age'].astype(str)"
   ]
  },
  {
   "cell_type": "markdown",
   "id": "7e1722be",
   "metadata": {},
   "source": [
    "Also, we convert **Gender** variable in numerical binary."
   ]
  },
  {
   "cell_type": "code",
   "execution_count": 18,
   "id": "97448254",
   "metadata": {},
   "outputs": [
    {
     "data": {
      "text/plain": [
       "Gender\n",
       "Male      6217\n",
       "Female    3891\n",
       "Name: count, dtype: int64"
      ]
     },
     "execution_count": 18,
     "metadata": {},
     "output_type": "execute_result"
    }
   ],
   "source": [
    "X['Gender'].value_counts()"
   ]
  },
  {
   "cell_type": "code",
   "execution_count": 19,
   "id": "ca7fe998",
   "metadata": {},
   "outputs": [],
   "source": [
    "X['Gender'] = X['Gender'].map({'Male':0, 'Female':1}).astype(float)"
   ]
  },
  {
   "cell_type": "markdown",
   "id": "11bbc9d0",
   "metadata": {},
   "source": [
    "We see which and how many variables contain only the values {\"0\", \"1\"}."
   ]
  },
  {
   "cell_type": "code",
   "execution_count": 20,
   "id": "f38e4305",
   "metadata": {
    "scrolled": true
   },
   "outputs": [
    {
     "data": {
      "text/plain": [
       "47"
      ]
     },
     "execution_count": 20,
     "metadata": {},
     "output_type": "execute_result"
    }
   ],
   "source": [
    "variables_01 = X.columns[X.isin(['0', '1',]).all()]\n",
    "len(variables_01)"
   ]
  },
  {
   "cell_type": "code",
   "execution_count": 21,
   "id": "92dbba20",
   "metadata": {},
   "outputs": [],
   "source": [
    "for col in variables_01:\n",
    "    X[col] = X[col].astype(float)"
   ]
  },
  {
   "cell_type": "markdown",
   "id": "6b536a1c",
   "metadata": {},
   "source": [
    "Variable types:"
   ]
  },
  {
   "cell_type": "code",
   "execution_count": 22,
   "id": "df6a27bb",
   "metadata": {},
   "outputs": [
    {
     "data": {
      "text/plain": [
       "48"
      ]
     },
     "execution_count": 22,
     "metadata": {},
     "output_type": "execute_result"
    }
   ],
   "source": [
    "num_columns = X.select_dtypes(include=['number']).columns\n",
    "len(num_columns)"
   ]
  },
  {
   "cell_type": "code",
   "execution_count": 23,
   "id": "5e3cf764",
   "metadata": {},
   "outputs": [
    {
     "data": {
      "text/plain": [
       "20"
      ]
     },
     "execution_count": 23,
     "metadata": {},
     "output_type": "execute_result"
    }
   ],
   "source": [
    "cat_columns = X.select_dtypes(include=['category','object']).columns\n",
    "len(cat_columns)"
   ]
  },
  {
   "cell_type": "markdown",
   "id": "1d2c8ba0",
   "metadata": {},
   "source": [
    "Cardinality of the 20 variables with the highest number of unique values."
   ]
  },
  {
   "cell_type": "code",
   "execution_count": 24,
   "id": "4f246eb2",
   "metadata": {},
   "outputs": [
    {
     "data": {
      "text/plain": [
       "Country                                  129\n",
       "Primary_Language                         118\n",
       "Age                                       77\n",
       "Actual_Time                               46\n",
       "Primary_Computing_Platform                11\n",
       "Major_Geographical_Location               10\n",
       "Primary_Place_of_WWW_Access                9\n",
       "Most_Import_Issue_Facing_the_Internet      9\n",
       "Education_Attainment                       9\n",
       "Household_Income                           8\n",
       "Race                                       7\n",
       "Marital_Status                             6\n",
       "Falsification_of_Information               6\n",
       "Sexual_Preference                          6\n",
       "Major_Occupation                           5\n",
       "Opinions_on_Censorship                     4\n",
       "Community_Building                         4\n",
       "Registered_to_Vote                         3\n",
       "Web_Ordering                               3\n",
       "Web_Page_Creation                          3\n",
       "dtype: int64"
      ]
     },
     "execution_count": 24,
     "metadata": {},
     "output_type": "execute_result"
    }
   ],
   "source": [
    "X[cat_columns].apply(lambda col: col.nunique()).sort_values(ascending=False)[0:20]"
   ]
  },
  {
   "cell_type": "markdown",
   "id": "ded817d9",
   "metadata": {},
   "source": [
    " "
   ]
  },
  {
   "cell_type": "markdown",
   "id": "befa1f00",
   "metadata": {},
   "source": [
    "## Value counts of the variables with more cardinality"
   ]
  },
  {
   "cell_type": "markdown",
   "id": "373bdb51",
   "metadata": {},
   "source": [
    "#### Country"
   ]
  },
  {
   "cell_type": "code",
   "execution_count": 25,
   "id": "51613df7",
   "metadata": {
    "scrolled": true
   },
   "outputs": [
    {
     "data": {
      "text/plain": [
       "Country\n",
       "California      1021\n",
       "New_York         603\n",
       "Texas            494\n",
       "Florida          474\n",
       "Georgia          431\n",
       "Pennsylvania     393\n",
       "Ohio             318\n",
       "Illinois         318\n",
       "Michigan         307\n",
       "Washington       301\n",
       "Name: count, dtype: int64"
      ]
     },
     "execution_count": 25,
     "metadata": {},
     "output_type": "execute_result"
    }
   ],
   "source": [
    "X.Country.value_counts()[0:10]"
   ]
  },
  {
   "cell_type": "markdown",
   "id": "0b9a7c5f",
   "metadata": {},
   "source": [
    "#### Primary Language"
   ]
  },
  {
   "cell_type": "code",
   "execution_count": 26,
   "id": "0af8cf29",
   "metadata": {},
   "outputs": [
    {
     "data": {
      "text/plain": [
       "Primary_Language\n",
       "English       9412\n",
       "German          95\n",
       "French          74\n",
       "Dutch           73\n",
       "Spanish         72\n",
       "Chinese         32\n",
       "Swedish         30\n",
       "Italian         24\n",
       "Norwegian       22\n",
       "Portuguese      17\n",
       "Name: count, dtype: int64"
      ]
     },
     "execution_count": 26,
     "metadata": {},
     "output_type": "execute_result"
    }
   ],
   "source": [
    "X.Primary_Language.value_counts()[0:10]"
   ]
  },
  {
   "cell_type": "markdown",
   "id": "5e640dd7",
   "metadata": {},
   "source": [
    "#### Actual Time"
   ]
  },
  {
   "cell_type": "code",
   "execution_count": 27,
   "id": "2703be4c",
   "metadata": {},
   "outputs": [
    {
     "data": {
      "text/plain": [
       "Actual_Time\n",
       "Other                          2878\n",
       "College_Student                1458\n",
       "Retired                         494\n",
       "Manager                         490\n",
       "Programmer                      477\n",
       "Service_Industry_Occupation     327\n",
       "K-12_Student                    326\n",
       "Homemaker                       253\n",
       "Administrator/Secretary         231\n",
       "Engineer                        226\n",
       "Name: count, dtype: int64"
      ]
     },
     "execution_count": 27,
     "metadata": {},
     "output_type": "execute_result"
    }
   ],
   "source": [
    "X.Actual_Time.value_counts()[0:10]"
   ]
  },
  {
   "cell_type": "markdown",
   "id": "d0dfbf69",
   "metadata": {},
   "source": [
    " "
   ]
  },
  {
   "cell_type": "markdown",
   "id": "9edec00b",
   "metadata": {},
   "source": [
    "## Response variable distribution"
   ]
  },
  {
   "cell_type": "code",
   "execution_count": 28,
   "id": "b91f1181",
   "metadata": {},
   "outputs": [
    {
     "data": {
      "text/plain": [
       "Who_Pays_for_Access_Work\n",
       "0    7393\n",
       "1    2715\n",
       "Name: count, dtype: int64"
      ]
     },
     "execution_count": 28,
     "metadata": {},
     "output_type": "execute_result"
    }
   ],
   "source": [
    "y.value_counts()"
   ]
  },
  {
   "cell_type": "code",
   "execution_count": 29,
   "id": "3b9ee832",
   "metadata": {},
   "outputs": [
    {
     "data": {
      "text/plain": [
       "Who_Pays_for_Access_Work\n",
       "0    0.731401\n",
       "1    0.268599\n",
       "Name: proportion, dtype: float64"
      ]
     },
     "execution_count": 29,
     "metadata": {},
     "output_type": "execute_result"
    }
   ],
   "source": [
    "y.value_counts(normalize=True)"
   ]
  },
  {
   "cell_type": "markdown",
   "id": "1ed156a4",
   "metadata": {},
   "source": [
    " "
   ]
  },
  {
   "cell_type": "markdown",
   "id": "9be21378",
   "metadata": {},
   "source": [
    "## Train-Test Split"
   ]
  },
  {
   "cell_type": "code",
   "execution_count": 30,
   "id": "89692b0b",
   "metadata": {},
   "outputs": [],
   "source": [
    "from sklearn.model_selection import train_test_split"
   ]
  },
  {
   "cell_type": "code",
   "execution_count": 31,
   "id": "c3bdc944",
   "metadata": {},
   "outputs": [],
   "source": [
    "X_train, X_test, y_train, y_test = train_test_split(X,y, \n",
    "                                                    test_size = 0.33, \n",
    "                                                    random_state = 42,\n",
    "                                                    stratify = y)"
   ]
  },
  {
   "cell_type": "code",
   "execution_count": 32,
   "id": "d1d04710",
   "metadata": {},
   "outputs": [
    {
     "name": "stdout",
     "output_type": "stream",
     "text": [
      "X_train shape: (6772, 68)\n",
      "X_test shape:  (3336, 68)\n",
      "y_train shape: (6772,)\n",
      "y_test shape:  (3336,)\n"
     ]
    }
   ],
   "source": [
    "print(f'X_train shape: {X_train.shape}')\n",
    "print(f'X_test shape:  {X_test.shape}')\n",
    "print(f'y_train shape: {y_train.shape}')\n",
    "print(f'y_test shape:  {y_test.shape}')"
   ]
  },
  {
   "cell_type": "markdown",
   "id": "47ce5680",
   "metadata": {},
   "source": [
    " "
   ]
  },
  {
   "cell_type": "markdown",
   "id": "3db2e0d9",
   "metadata": {},
   "source": [
    "## Pipelines"
   ]
  },
  {
   "cell_type": "code",
   "execution_count": 33,
   "id": "5d53bd83",
   "metadata": {},
   "outputs": [],
   "source": [
    "from sklearn.pipeline import Pipeline\n",
    "from sklearn.compose import ColumnTransformer\n",
    "\n",
    "from sklearn.experimental import enable_iterative_imputer\n",
    "from sklearn.impute import IterativeImputer, SimpleImputer\n",
    "from sklearn.preprocessing import OneHotEncoder\n",
    "\n",
    "from sklearn.ensemble import RandomForestRegressor, HistGradientBoostingClassifier\n",
    "from sklearn.metrics import balanced_accuracy_score\n",
    "\n",
    "import scipy.stats\n",
    "from sklearn.model_selection import StratifiedKFold\n",
    "from sklearn.model_selection import RandomizedSearchCV\n",
    "\n",
    "import time"
   ]
  },
  {
   "cell_type": "code",
   "execution_count": 34,
   "id": "ffd7fde4",
   "metadata": {},
   "outputs": [],
   "source": [
    "num_cols = X_train.select_dtypes(include=['number']).columns.to_list()\n",
    "cat_cols = X_train.select_dtypes(include=['category']).columns.to_list()\n",
    "\n",
    "cat_cols_less9 = [col for col in cat_cols if X[col].nunique() <= 9]\n",
    "cat_cols_more9 = [col for col in cat_cols if X[col].nunique() > 9]"
   ]
  },
  {
   "cell_type": "code",
   "execution_count": 430,
   "id": "8940ee7a",
   "metadata": {},
   "outputs": [],
   "source": [
    "# Define the HistGradientBoostingClassifier\n",
    "hgb_default = HistGradientBoostingClassifier(random_state=1234,\n",
    "                                             early_stopping=False,\n",
    "                                             min_samples_leaf=30,\n",
    "                                             scoring='balanced_accuracy',\n",
    "                                             class_weight='balanced')\n",
    "\n",
    "hgb_default9 = HistGradientBoostingClassifier(random_state=1234,\n",
    "                                              early_stopping=False,\n",
    "                                              min_samples_leaf=30,\n",
    "                                              scoring='balanced_accuracy',\n",
    "                                              class_weight='balanced')\n",
    "\n",
    "\n",
    "# Define the hyperparameter search space\n",
    "param_distributions = {\n",
    "    'model__max_iter': scipy.stats.randint(10,300),\n",
    "    'model__learning_rate': scipy.stats.uniform(0.01, 0.3),\n",
    "    'model__min_samples_leaf': scipy.stats.randint(10, 50),\n",
    "}\n",
    "# Create a StratifiedKFold cross-validation instance\n",
    "stratified_kfold = StratifiedKFold(n_splits=3, shuffle=True, random_state=1234)"
   ]
  },
  {
   "cell_type": "markdown",
   "id": "08d62e9c",
   "metadata": {},
   "source": [
    " "
   ]
  },
  {
   "cell_type": "markdown",
   "id": "6f393bd6",
   "metadata": {},
   "source": [
    "### One Hot Encoding + HistGradientBoosting"
   ]
  },
  {
   "cell_type": "markdown",
   "id": "bfa2707e",
   "metadata": {},
   "source": [
    "#### Preprocessing"
   ]
  },
  {
   "cell_type": "code",
   "execution_count": 37,
   "id": "5e34dd74",
   "metadata": {},
   "outputs": [],
   "source": [
    "num_pipeline = Pipeline([\n",
    "    (\"imputer\", SimpleImputer(strategy = \"median\"))\n",
    "])\n",
    "\n",
    "cat_pipeline = Pipeline([\n",
    "    (\"imputer\", SimpleImputer(strategy = \"most_frequent\")),\n",
    "    (\"encoder\", OneHotEncoder(drop = \"first\", handle_unknown = \"ignore\"))\n",
    "])\n",
    "\n",
    "preprop_pipeline = ColumnTransformer(\n",
    "    transformers = [(\"num\", num_pipeline, num_cols),\n",
    "                    (\"one_hot\", cat_pipeline, cat_cols)],\n",
    "    sparse_threshold=0\n",
    ")"
   ]
  },
  {
   "cell_type": "markdown",
   "id": "a5810fcc",
   "metadata": {},
   "source": [
    "#### Create a HistGradientBoostingClassifier model with default parameters and early stopping"
   ]
  },
  {
   "cell_type": "code",
   "execution_count": 432,
   "id": "5cf85af6",
   "metadata": {},
   "outputs": [],
   "source": [
    "ohe_hgb_default_pipeline = Pipeline([('preprocessing', preprop_pipeline),\n",
    "                                     ('model', hgb_default)])"
   ]
  },
  {
   "cell_type": "code",
   "execution_count": 433,
   "id": "de2a1e53",
   "metadata": {},
   "outputs": [],
   "source": [
    "tic = time.time()\n",
    "\n",
    "ohe_hgb_default = ohe_hgb_default_pipeline.fit(X_train, y_train)\n",
    "\n",
    "toc = time.time()\n",
    "ohe_hgb_default_time_taken = toc-tic"
   ]
  },
  {
   "cell_type": "code",
   "execution_count": 434,
   "metadata": {},
   "outputs": [
    {
     "name": "stdout",
     "output_type": "stream",
     "text": [
      "Time taken:  4.347279071807861\n"
     ]
    },
    {
     "data": {
      "text/html": [
       "<style>#sk-container-id-49 {color: black;}#sk-container-id-49 pre{padding: 0;}#sk-container-id-49 div.sk-toggleable {background-color: white;}#sk-container-id-49 label.sk-toggleable__label {cursor: pointer;display: block;width: 100%;margin-bottom: 0;padding: 0.3em;box-sizing: border-box;text-align: center;}#sk-container-id-49 label.sk-toggleable__label-arrow:before {content: \"▸\";float: left;margin-right: 0.25em;color: #696969;}#sk-container-id-49 label.sk-toggleable__label-arrow:hover:before {color: black;}#sk-container-id-49 div.sk-estimator:hover label.sk-toggleable__label-arrow:before {color: black;}#sk-container-id-49 div.sk-toggleable__content {max-height: 0;max-width: 0;overflow: hidden;text-align: left;background-color: #f0f8ff;}#sk-container-id-49 div.sk-toggleable__content pre {margin: 0.2em;color: black;border-radius: 0.25em;background-color: #f0f8ff;}#sk-container-id-49 input.sk-toggleable__control:checked~div.sk-toggleable__content {max-height: 200px;max-width: 100%;overflow: auto;}#sk-container-id-49 input.sk-toggleable__control:checked~label.sk-toggleable__label-arrow:before {content: \"▾\";}#sk-container-id-49 div.sk-estimator input.sk-toggleable__control:checked~label.sk-toggleable__label {background-color: #d4ebff;}#sk-container-id-49 div.sk-label input.sk-toggleable__control:checked~label.sk-toggleable__label {background-color: #d4ebff;}#sk-container-id-49 input.sk-hidden--visually {border: 0;clip: rect(1px 1px 1px 1px);clip: rect(1px, 1px, 1px, 1px);height: 1px;margin: -1px;overflow: hidden;padding: 0;position: absolute;width: 1px;}#sk-container-id-49 div.sk-estimator {font-family: monospace;background-color: #f0f8ff;border: 1px dotted black;border-radius: 0.25em;box-sizing: border-box;margin-bottom: 0.5em;}#sk-container-id-49 div.sk-estimator:hover {background-color: #d4ebff;}#sk-container-id-49 div.sk-parallel-item::after {content: \"\";width: 100%;border-bottom: 1px solid gray;flex-grow: 1;}#sk-container-id-49 div.sk-label:hover label.sk-toggleable__label {background-color: #d4ebff;}#sk-container-id-49 div.sk-serial::before {content: \"\";position: absolute;border-left: 1px solid gray;box-sizing: border-box;top: 0;bottom: 0;left: 50%;z-index: 0;}#sk-container-id-49 div.sk-serial {display: flex;flex-direction: column;align-items: center;background-color: white;padding-right: 0.2em;padding-left: 0.2em;position: relative;}#sk-container-id-49 div.sk-item {position: relative;z-index: 1;}#sk-container-id-49 div.sk-parallel {display: flex;align-items: stretch;justify-content: center;background-color: white;position: relative;}#sk-container-id-49 div.sk-item::before, #sk-container-id-49 div.sk-parallel-item::before {content: \"\";position: absolute;border-left: 1px solid gray;box-sizing: border-box;top: 0;bottom: 0;left: 50%;z-index: -1;}#sk-container-id-49 div.sk-parallel-item {display: flex;flex-direction: column;z-index: 1;position: relative;background-color: white;}#sk-container-id-49 div.sk-parallel-item:first-child::after {align-self: flex-end;width: 50%;}#sk-container-id-49 div.sk-parallel-item:last-child::after {align-self: flex-start;width: 50%;}#sk-container-id-49 div.sk-parallel-item:only-child::after {width: 0;}#sk-container-id-49 div.sk-dashed-wrapped {border: 1px dashed gray;margin: 0 0.4em 0.5em 0.4em;box-sizing: border-box;padding-bottom: 0.4em;background-color: white;}#sk-container-id-49 div.sk-label label {font-family: monospace;font-weight: bold;display: inline-block;line-height: 1.2em;}#sk-container-id-49 div.sk-label-container {text-align: center;}#sk-container-id-49 div.sk-container {/* jupyter's `normalize.less` sets `[hidden] { display: none; }` but bootstrap.min.css set `[hidden] { display: none !important; }` so we also need the `!important` here to be able to override the default hidden behavior on the sphinx rendered scikit-learn.org. See: https://github.com/scikit-learn/scikit-learn/issues/21755 */display: inline-block !important;position: relative;}#sk-container-id-49 div.sk-text-repr-fallback {display: none;}</style><div id=\"sk-container-id-49\" class=\"sk-top-container\"><div class=\"sk-text-repr-fallback\"><pre>Pipeline(steps=[(&#x27;preprocessing&#x27;,\n",
       "                 ColumnTransformer(sparse_threshold=0,\n",
       "                                   transformers=[(&#x27;num&#x27;,\n",
       "                                                  Pipeline(steps=[(&#x27;imputer&#x27;,\n",
       "                                                                   SimpleImputer(strategy=&#x27;median&#x27;))]),\n",
       "                                                  [&#x27;Community_Membership_Family&#x27;,\n",
       "                                                   &#x27;Community_Membership_Hobbies&#x27;,\n",
       "                                                   &#x27;Community_Membership_None&#x27;,\n",
       "                                                   &#x27;Community_Membership_Other&#x27;,\n",
       "                                                   &#x27;Community_Membership_Political&#x27;,\n",
       "                                                   &#x27;Community_Membership_Professional&#x27;,\n",
       "                                                   &#x27;Communi...\n",
       "                                                   &#x27;Most_Import_Issue_Facing_the_Internet&#x27;,\n",
       "                                                   &#x27;Opinions_on_Censorship&#x27;,\n",
       "                                                   &#x27;Primary_Computing_Platform&#x27;,\n",
       "                                                   &#x27;Primary_Language&#x27;,\n",
       "                                                   &#x27;Primary_Place_of_WWW_Access&#x27;,\n",
       "                                                   &#x27;Race&#x27;, &#x27;Registered_to_Vote&#x27;,\n",
       "                                                   &#x27;Sexual_Preference&#x27;,\n",
       "                                                   &#x27;Web_Ordering&#x27;,\n",
       "                                                   &#x27;Web_Page_Creation&#x27;])])),\n",
       "                (&#x27;model&#x27;,\n",
       "                 HistGradientBoostingClassifier(class_weight=&#x27;balanced&#x27;,\n",
       "                                                early_stopping=False,\n",
       "                                                min_samples_leaf=30,\n",
       "                                                random_state=1234,\n",
       "                                                scoring=&#x27;balanced_accuracy&#x27;))])</pre><b>In a Jupyter environment, please rerun this cell to show the HTML representation or trust the notebook. <br />On GitHub, the HTML representation is unable to render, please try loading this page with nbviewer.org.</b></div><div class=\"sk-container\" hidden><div class=\"sk-item sk-dashed-wrapped\"><div class=\"sk-label-container\"><div class=\"sk-label sk-toggleable\"><input class=\"sk-toggleable__control sk-hidden--visually\" id=\"sk-estimator-id-464\" type=\"checkbox\" ><label for=\"sk-estimator-id-464\" class=\"sk-toggleable__label sk-toggleable__label-arrow\">Pipeline</label><div class=\"sk-toggleable__content\"><pre>Pipeline(steps=[(&#x27;preprocessing&#x27;,\n",
       "                 ColumnTransformer(sparse_threshold=0,\n",
       "                                   transformers=[(&#x27;num&#x27;,\n",
       "                                                  Pipeline(steps=[(&#x27;imputer&#x27;,\n",
       "                                                                   SimpleImputer(strategy=&#x27;median&#x27;))]),\n",
       "                                                  [&#x27;Community_Membership_Family&#x27;,\n",
       "                                                   &#x27;Community_Membership_Hobbies&#x27;,\n",
       "                                                   &#x27;Community_Membership_None&#x27;,\n",
       "                                                   &#x27;Community_Membership_Other&#x27;,\n",
       "                                                   &#x27;Community_Membership_Political&#x27;,\n",
       "                                                   &#x27;Community_Membership_Professional&#x27;,\n",
       "                                                   &#x27;Communi...\n",
       "                                                   &#x27;Most_Import_Issue_Facing_the_Internet&#x27;,\n",
       "                                                   &#x27;Opinions_on_Censorship&#x27;,\n",
       "                                                   &#x27;Primary_Computing_Platform&#x27;,\n",
       "                                                   &#x27;Primary_Language&#x27;,\n",
       "                                                   &#x27;Primary_Place_of_WWW_Access&#x27;,\n",
       "                                                   &#x27;Race&#x27;, &#x27;Registered_to_Vote&#x27;,\n",
       "                                                   &#x27;Sexual_Preference&#x27;,\n",
       "                                                   &#x27;Web_Ordering&#x27;,\n",
       "                                                   &#x27;Web_Page_Creation&#x27;])])),\n",
       "                (&#x27;model&#x27;,\n",
       "                 HistGradientBoostingClassifier(class_weight=&#x27;balanced&#x27;,\n",
       "                                                early_stopping=False,\n",
       "                                                min_samples_leaf=30,\n",
       "                                                random_state=1234,\n",
       "                                                scoring=&#x27;balanced_accuracy&#x27;))])</pre></div></div></div><div class=\"sk-serial\"><div class=\"sk-item sk-dashed-wrapped\"><div class=\"sk-label-container\"><div class=\"sk-label sk-toggleable\"><input class=\"sk-toggleable__control sk-hidden--visually\" id=\"sk-estimator-id-465\" type=\"checkbox\" ><label for=\"sk-estimator-id-465\" class=\"sk-toggleable__label sk-toggleable__label-arrow\">preprocessing: ColumnTransformer</label><div class=\"sk-toggleable__content\"><pre>ColumnTransformer(sparse_threshold=0,\n",
       "                  transformers=[(&#x27;num&#x27;,\n",
       "                                 Pipeline(steps=[(&#x27;imputer&#x27;,\n",
       "                                                  SimpleImputer(strategy=&#x27;median&#x27;))]),\n",
       "                                 [&#x27;Community_Membership_Family&#x27;,\n",
       "                                  &#x27;Community_Membership_Hobbies&#x27;,\n",
       "                                  &#x27;Community_Membership_None&#x27;,\n",
       "                                  &#x27;Community_Membership_Other&#x27;,\n",
       "                                  &#x27;Community_Membership_Political&#x27;,\n",
       "                                  &#x27;Community_Membership_Professional&#x27;,\n",
       "                                  &#x27;Community_Membership_Religious&#x27;,\n",
       "                                  &#x27;Communi...\n",
       "                                  &#x27;Country&#x27;, &#x27;Education_Attainment&#x27;,\n",
       "                                  &#x27;Falsification_of_Information&#x27;,\n",
       "                                  &#x27;Household_Income&#x27;,\n",
       "                                  &#x27;Major_Geographical_Location&#x27;,\n",
       "                                  &#x27;Major_Occupation&#x27;, &#x27;Marital_Status&#x27;,\n",
       "                                  &#x27;Most_Import_Issue_Facing_the_Internet&#x27;,\n",
       "                                  &#x27;Opinions_on_Censorship&#x27;,\n",
       "                                  &#x27;Primary_Computing_Platform&#x27;,\n",
       "                                  &#x27;Primary_Language&#x27;,\n",
       "                                  &#x27;Primary_Place_of_WWW_Access&#x27;, &#x27;Race&#x27;,\n",
       "                                  &#x27;Registered_to_Vote&#x27;, &#x27;Sexual_Preference&#x27;,\n",
       "                                  &#x27;Web_Ordering&#x27;, &#x27;Web_Page_Creation&#x27;])])</pre></div></div></div><div class=\"sk-parallel\"><div class=\"sk-parallel-item\"><div class=\"sk-item\"><div class=\"sk-label-container\"><div class=\"sk-label sk-toggleable\"><input class=\"sk-toggleable__control sk-hidden--visually\" id=\"sk-estimator-id-466\" type=\"checkbox\" ><label for=\"sk-estimator-id-466\" class=\"sk-toggleable__label sk-toggleable__label-arrow\">num</label><div class=\"sk-toggleable__content\"><pre>[&#x27;Community_Membership_Family&#x27;, &#x27;Community_Membership_Hobbies&#x27;, &#x27;Community_Membership_None&#x27;, &#x27;Community_Membership_Other&#x27;, &#x27;Community_Membership_Political&#x27;, &#x27;Community_Membership_Professional&#x27;, &#x27;Community_Membership_Religious&#x27;, &#x27;Community_Membership_Support&#x27;, &#x27;Disability_Cognitive&#x27;, &#x27;Disability_Hearing&#x27;, &#x27;Disability_Motor&#x27;, &#x27;Disability_Not_Impaired&#x27;, &#x27;Disability_Not_Say&#x27;, &#x27;Disability_Vision&#x27;, &#x27;Gender&#x27;, &#x27;How_You_Heard_About_Survey_Banner&#x27;, &#x27;How_You_Heard_About_Survey_Friend&#x27;, &#x27;How_You_Heard_About_Survey_Mailing_List&#x27;, &#x27;How_You_Heard_About_Survey_Others&#x27;, &#x27;How_You_Heard_About_Survey_Printed_Media&#x27;, &#x27;How_You_Heard_About_Survey_Remebered&#x27;, &#x27;How_You_Heard_About_Survey_Search_Engine&#x27;, &#x27;How_You_Heard_About_Survey_Usenet_News&#x27;, &#x27;How_You_Heard_About_Survey_WWW_Page&#x27;, &#x27;Not_Purchasing_Bad_experience&#x27;, &#x27;Not_Purchasing_Bad_press&#x27;, &#x27;Not_Purchasing_Cant_find&#x27;, &#x27;Not_Purchasing_Company_policy&#x27;, &#x27;Not_Purchasing_Easier_locally&#x27;, &#x27;Not_Purchasing_Enough_info&#x27;, &#x27;Not_Purchasing_Judge_quality&#x27;, &#x27;Not_Purchasing_Never_tried&#x27;, &#x27;Not_Purchasing_No_credit&#x27;, &#x27;Not_Purchasing_Not_applicable&#x27;, &#x27;Not_Purchasing_Not_option&#x27;, &#x27;Not_Purchasing_Other&#x27;, &#x27;Not_Purchasing_Prefer_people&#x27;, &#x27;Not_Purchasing_Privacy&#x27;, &#x27;Not_Purchasing_Receipt&#x27;, &#x27;Not_Purchasing_Security&#x27;, &#x27;Not_Purchasing_Too_complicated&#x27;, &#x27;Not_Purchasing_Uncomfortable&#x27;, &#x27;Not_Purchasing_Unfamiliar_vendor&#x27;, &#x27;Who_Pays_for_Access_Dont_Know&#x27;, &#x27;Who_Pays_for_Access_Other&#x27;, &#x27;Who_Pays_for_Access_Parents&#x27;, &#x27;Who_Pays_for_Access_School&#x27;, &#x27;Who_Pays_for_Access_Self&#x27;]</pre></div></div></div><div class=\"sk-serial\"><div class=\"sk-item\"><div class=\"sk-serial\"><div class=\"sk-item\"><div class=\"sk-estimator sk-toggleable\"><input class=\"sk-toggleable__control sk-hidden--visually\" id=\"sk-estimator-id-467\" type=\"checkbox\" ><label for=\"sk-estimator-id-467\" class=\"sk-toggleable__label sk-toggleable__label-arrow\">SimpleImputer</label><div class=\"sk-toggleable__content\"><pre>SimpleImputer(strategy=&#x27;median&#x27;)</pre></div></div></div></div></div></div></div></div><div class=\"sk-parallel-item\"><div class=\"sk-item\"><div class=\"sk-label-container\"><div class=\"sk-label sk-toggleable\"><input class=\"sk-toggleable__control sk-hidden--visually\" id=\"sk-estimator-id-468\" type=\"checkbox\" ><label for=\"sk-estimator-id-468\" class=\"sk-toggleable__label sk-toggleable__label-arrow\">one_hot</label><div class=\"sk-toggleable__content\"><pre>[&#x27;Actual_Time&#x27;, &#x27;Community_Building&#x27;, &#x27;Country&#x27;, &#x27;Education_Attainment&#x27;, &#x27;Falsification_of_Information&#x27;, &#x27;Household_Income&#x27;, &#x27;Major_Geographical_Location&#x27;, &#x27;Major_Occupation&#x27;, &#x27;Marital_Status&#x27;, &#x27;Most_Import_Issue_Facing_the_Internet&#x27;, &#x27;Opinions_on_Censorship&#x27;, &#x27;Primary_Computing_Platform&#x27;, &#x27;Primary_Language&#x27;, &#x27;Primary_Place_of_WWW_Access&#x27;, &#x27;Race&#x27;, &#x27;Registered_to_Vote&#x27;, &#x27;Sexual_Preference&#x27;, &#x27;Web_Ordering&#x27;, &#x27;Web_Page_Creation&#x27;]</pre></div></div></div><div class=\"sk-serial\"><div class=\"sk-item\"><div class=\"sk-serial\"><div class=\"sk-item\"><div class=\"sk-estimator sk-toggleable\"><input class=\"sk-toggleable__control sk-hidden--visually\" id=\"sk-estimator-id-469\" type=\"checkbox\" ><label for=\"sk-estimator-id-469\" class=\"sk-toggleable__label sk-toggleable__label-arrow\">SimpleImputer</label><div class=\"sk-toggleable__content\"><pre>SimpleImputer(strategy=&#x27;most_frequent&#x27;)</pre></div></div></div><div class=\"sk-item\"><div class=\"sk-estimator sk-toggleable\"><input class=\"sk-toggleable__control sk-hidden--visually\" id=\"sk-estimator-id-470\" type=\"checkbox\" ><label for=\"sk-estimator-id-470\" class=\"sk-toggleable__label sk-toggleable__label-arrow\">OneHotEncoder</label><div class=\"sk-toggleable__content\"><pre>OneHotEncoder(drop=&#x27;first&#x27;, handle_unknown=&#x27;ignore&#x27;)</pre></div></div></div></div></div></div></div></div></div></div><div class=\"sk-item\"><div class=\"sk-estimator sk-toggleable\"><input class=\"sk-toggleable__control sk-hidden--visually\" id=\"sk-estimator-id-471\" type=\"checkbox\" ><label for=\"sk-estimator-id-471\" class=\"sk-toggleable__label sk-toggleable__label-arrow\">HistGradientBoostingClassifier</label><div class=\"sk-toggleable__content\"><pre>HistGradientBoostingClassifier(class_weight=&#x27;balanced&#x27;, early_stopping=False,\n",
       "                               min_samples_leaf=30, random_state=1234,\n",
       "                               scoring=&#x27;balanced_accuracy&#x27;)</pre></div></div></div></div></div></div></div>"
      ],
      "text/plain": [
       "Pipeline(steps=[('preprocessing',\n",
       "                 ColumnTransformer(sparse_threshold=0,\n",
       "                                   transformers=[('num',\n",
       "                                                  Pipeline(steps=[('imputer',\n",
       "                                                                   SimpleImputer(strategy='median'))]),\n",
       "                                                  ['Community_Membership_Family',\n",
       "                                                   'Community_Membership_Hobbies',\n",
       "                                                   'Community_Membership_None',\n",
       "                                                   'Community_Membership_Other',\n",
       "                                                   'Community_Membership_Political',\n",
       "                                                   'Community_Membership_Professional',\n",
       "                                                   'Communi...\n",
       "                                                   'Most_Import_Issue_Facing_the_Internet',\n",
       "                                                   'Opinions_on_Censorship',\n",
       "                                                   'Primary_Computing_Platform',\n",
       "                                                   'Primary_Language',\n",
       "                                                   'Primary_Place_of_WWW_Access',\n",
       "                                                   'Race', 'Registered_to_Vote',\n",
       "                                                   'Sexual_Preference',\n",
       "                                                   'Web_Ordering',\n",
       "                                                   'Web_Page_Creation'])])),\n",
       "                ('model',\n",
       "                 HistGradientBoostingClassifier(class_weight='balanced',\n",
       "                                                early_stopping=False,\n",
       "                                                min_samples_leaf=30,\n",
       "                                                random_state=1234,\n",
       "                                                scoring='balanced_accuracy'))])"
      ]
     },
     "execution_count": 434,
     "metadata": {},
     "output_type": "execute_result"
    }
   ],
   "source": [
    "# Display pipeline\n",
    "print(\"Time taken: \", ohe_hgb_default_time_taken)\n",
    "ohe_hgb_default"
   ]
  },
  {
   "cell_type": "code",
   "execution_count": 435,
   "id": "7dbc6f3f",
   "metadata": {},
   "outputs": [
    {
     "name": "stdout",
     "output_type": "stream",
     "text": [
      "Balanced accuracy with default parameters: 0.8793911007025761\n"
     ]
    },
    {
     "name": "stderr",
     "output_type": "stream",
     "text": [
      "c:\\Users\\jnico\\AppData\\Local\\Programs\\Python\\Python310\\lib\\site-packages\\sklearn\\preprocessing\\_encoders.py:228: UserWarning: Found unknown categories in columns [2, 12] during transform. These unknown categories will be encoded as all zeros\n",
      "  warnings.warn(\n"
     ]
    }
   ],
   "source": [
    "# # Calculate balanced accuracy for the model with default parameters\n",
    "y_ohe_hgb_default_pred = ohe_hgb_default.predict(X_test)\n",
    "ohe_hgb_default_accuracy = balanced_accuracy_score(y_test, y_ohe_hgb_default_pred)\n",
    "print(f'Balanced accuracy with default parameters: {ohe_hgb_default_accuracy}')\n",
    "\n",
    "# Save results\n",
    "default_summary.append(\"Default\")\n",
    "card_9_summary.append(\"AllVariables\")\n",
    "encoder_summary.append(\"OneHotEncoding\")\n",
    "value_summary.append(ohe_hgb_default_accuracy)\n",
    "time_summary.append(ohe_hgb_default_time_taken)\n",
    "n_models_summary.append(1)"
   ]
  },
  {
   "cell_type": "markdown",
   "id": "f858e758",
   "metadata": {},
   "source": [
    "#### Create a HistGradientBoostingClassifier model for tuning"
   ]
  },
  {
   "cell_type": "code",
   "execution_count": 436,
   "id": "9e5b850c",
   "metadata": {},
   "outputs": [],
   "source": [
    "ohe_hgb_tune = RandomizedSearchCV(estimator = ohe_hgb_default_pipeline, \n",
    "                                  param_distributions = param_distributions, \n",
    "                                  n_iter = 20,\n",
    "                                  cv = stratified_kfold,\n",
    "                                  scoring = 'balanced_accuracy', \n",
    "                                  random_state = 1234,\n",
    "                                  n_jobs = -1)"
   ]
  },
  {
   "cell_type": "code",
   "execution_count": 437,
   "id": "d9091ebc",
   "metadata": {},
   "outputs": [],
   "source": [
    "tic = time.time()\n",
    "\n",
    "ohe_hgb_tune = ohe_hgb_tune.fit(X_train, y_train)\n",
    "\n",
    "toc = time.time()\n",
    "ohe_hgb_tune_time_taken = toc-tic"
   ]
  },
  {
   "cell_type": "code",
   "execution_count": 438,
   "metadata": {},
   "outputs": [
    {
     "name": "stdout",
     "output_type": "stream",
     "text": [
      "Time taken:  232.33854150772095\n"
     ]
    },
    {
     "data": {
      "text/html": [
       "<style>#sk-container-id-50 {color: black;}#sk-container-id-50 pre{padding: 0;}#sk-container-id-50 div.sk-toggleable {background-color: white;}#sk-container-id-50 label.sk-toggleable__label {cursor: pointer;display: block;width: 100%;margin-bottom: 0;padding: 0.3em;box-sizing: border-box;text-align: center;}#sk-container-id-50 label.sk-toggleable__label-arrow:before {content: \"▸\";float: left;margin-right: 0.25em;color: #696969;}#sk-container-id-50 label.sk-toggleable__label-arrow:hover:before {color: black;}#sk-container-id-50 div.sk-estimator:hover label.sk-toggleable__label-arrow:before {color: black;}#sk-container-id-50 div.sk-toggleable__content {max-height: 0;max-width: 0;overflow: hidden;text-align: left;background-color: #f0f8ff;}#sk-container-id-50 div.sk-toggleable__content pre {margin: 0.2em;color: black;border-radius: 0.25em;background-color: #f0f8ff;}#sk-container-id-50 input.sk-toggleable__control:checked~div.sk-toggleable__content {max-height: 200px;max-width: 100%;overflow: auto;}#sk-container-id-50 input.sk-toggleable__control:checked~label.sk-toggleable__label-arrow:before {content: \"▾\";}#sk-container-id-50 div.sk-estimator input.sk-toggleable__control:checked~label.sk-toggleable__label {background-color: #d4ebff;}#sk-container-id-50 div.sk-label input.sk-toggleable__control:checked~label.sk-toggleable__label {background-color: #d4ebff;}#sk-container-id-50 input.sk-hidden--visually {border: 0;clip: rect(1px 1px 1px 1px);clip: rect(1px, 1px, 1px, 1px);height: 1px;margin: -1px;overflow: hidden;padding: 0;position: absolute;width: 1px;}#sk-container-id-50 div.sk-estimator {font-family: monospace;background-color: #f0f8ff;border: 1px dotted black;border-radius: 0.25em;box-sizing: border-box;margin-bottom: 0.5em;}#sk-container-id-50 div.sk-estimator:hover {background-color: #d4ebff;}#sk-container-id-50 div.sk-parallel-item::after {content: \"\";width: 100%;border-bottom: 1px solid gray;flex-grow: 1;}#sk-container-id-50 div.sk-label:hover label.sk-toggleable__label {background-color: #d4ebff;}#sk-container-id-50 div.sk-serial::before {content: \"\";position: absolute;border-left: 1px solid gray;box-sizing: border-box;top: 0;bottom: 0;left: 50%;z-index: 0;}#sk-container-id-50 div.sk-serial {display: flex;flex-direction: column;align-items: center;background-color: white;padding-right: 0.2em;padding-left: 0.2em;position: relative;}#sk-container-id-50 div.sk-item {position: relative;z-index: 1;}#sk-container-id-50 div.sk-parallel {display: flex;align-items: stretch;justify-content: center;background-color: white;position: relative;}#sk-container-id-50 div.sk-item::before, #sk-container-id-50 div.sk-parallel-item::before {content: \"\";position: absolute;border-left: 1px solid gray;box-sizing: border-box;top: 0;bottom: 0;left: 50%;z-index: -1;}#sk-container-id-50 div.sk-parallel-item {display: flex;flex-direction: column;z-index: 1;position: relative;background-color: white;}#sk-container-id-50 div.sk-parallel-item:first-child::after {align-self: flex-end;width: 50%;}#sk-container-id-50 div.sk-parallel-item:last-child::after {align-self: flex-start;width: 50%;}#sk-container-id-50 div.sk-parallel-item:only-child::after {width: 0;}#sk-container-id-50 div.sk-dashed-wrapped {border: 1px dashed gray;margin: 0 0.4em 0.5em 0.4em;box-sizing: border-box;padding-bottom: 0.4em;background-color: white;}#sk-container-id-50 div.sk-label label {font-family: monospace;font-weight: bold;display: inline-block;line-height: 1.2em;}#sk-container-id-50 div.sk-label-container {text-align: center;}#sk-container-id-50 div.sk-container {/* jupyter's `normalize.less` sets `[hidden] { display: none; }` but bootstrap.min.css set `[hidden] { display: none !important; }` so we also need the `!important` here to be able to override the default hidden behavior on the sphinx rendered scikit-learn.org. See: https://github.com/scikit-learn/scikit-learn/issues/21755 */display: inline-block !important;position: relative;}#sk-container-id-50 div.sk-text-repr-fallback {display: none;}</style><div id=\"sk-container-id-50\" class=\"sk-top-container\"><div class=\"sk-text-repr-fallback\"><pre>RandomizedSearchCV(cv=StratifiedKFold(n_splits=3, random_state=1234, shuffle=True),\n",
       "                   estimator=Pipeline(steps=[(&#x27;preprocessing&#x27;,\n",
       "                                              ColumnTransformer(sparse_threshold=0,\n",
       "                                                                transformers=[(&#x27;num&#x27;,\n",
       "                                                                               Pipeline(steps=[(&#x27;imputer&#x27;,\n",
       "                                                                                                SimpleImputer(strategy=&#x27;median&#x27;))]),\n",
       "                                                                               [&#x27;Community_Membership_Family&#x27;,\n",
       "                                                                                &#x27;Community_Membership_Hobbies&#x27;,\n",
       "                                                                                &#x27;Community_Membership_None&#x27;,\n",
       "                                                                                &#x27;Community_Memb...\n",
       "                   param_distributions={&#x27;model__learning_rate&#x27;: &lt;scipy.stats._distn_infrastructure.rv_continuous_frozen object at 0x000001CDE78041C0&gt;,\n",
       "                                        &#x27;model__max_iter&#x27;: &lt;scipy.stats._distn_infrastructure.rv_discrete_frozen object at 0x000001CDE7808100&gt;,\n",
       "                                        &#x27;model__min_samples_leaf&#x27;: &lt;scipy.stats._distn_infrastructure.rv_discrete_frozen object at 0x000001CDE77F4430&gt;},\n",
       "                   random_state=1234, scoring=&#x27;balanced_accuracy&#x27;)</pre><b>In a Jupyter environment, please rerun this cell to show the HTML representation or trust the notebook. <br />On GitHub, the HTML representation is unable to render, please try loading this page with nbviewer.org.</b></div><div class=\"sk-container\" hidden><div class=\"sk-item sk-dashed-wrapped\"><div class=\"sk-label-container\"><div class=\"sk-label sk-toggleable\"><input class=\"sk-toggleable__control sk-hidden--visually\" id=\"sk-estimator-id-472\" type=\"checkbox\" ><label for=\"sk-estimator-id-472\" class=\"sk-toggleable__label sk-toggleable__label-arrow\">RandomizedSearchCV</label><div class=\"sk-toggleable__content\"><pre>RandomizedSearchCV(cv=StratifiedKFold(n_splits=3, random_state=1234, shuffle=True),\n",
       "                   estimator=Pipeline(steps=[(&#x27;preprocessing&#x27;,\n",
       "                                              ColumnTransformer(sparse_threshold=0,\n",
       "                                                                transformers=[(&#x27;num&#x27;,\n",
       "                                                                               Pipeline(steps=[(&#x27;imputer&#x27;,\n",
       "                                                                                                SimpleImputer(strategy=&#x27;median&#x27;))]),\n",
       "                                                                               [&#x27;Community_Membership_Family&#x27;,\n",
       "                                                                                &#x27;Community_Membership_Hobbies&#x27;,\n",
       "                                                                                &#x27;Community_Membership_None&#x27;,\n",
       "                                                                                &#x27;Community_Memb...\n",
       "                   param_distributions={&#x27;model__learning_rate&#x27;: &lt;scipy.stats._distn_infrastructure.rv_continuous_frozen object at 0x000001CDE78041C0&gt;,\n",
       "                                        &#x27;model__max_iter&#x27;: &lt;scipy.stats._distn_infrastructure.rv_discrete_frozen object at 0x000001CDE7808100&gt;,\n",
       "                                        &#x27;model__min_samples_leaf&#x27;: &lt;scipy.stats._distn_infrastructure.rv_discrete_frozen object at 0x000001CDE77F4430&gt;},\n",
       "                   random_state=1234, scoring=&#x27;balanced_accuracy&#x27;)</pre></div></div></div><div class=\"sk-parallel\"><div class=\"sk-parallel-item\"><div class=\"sk-item\"><div class=\"sk-label-container\"><div class=\"sk-label sk-toggleable\"><input class=\"sk-toggleable__control sk-hidden--visually\" id=\"sk-estimator-id-473\" type=\"checkbox\" ><label for=\"sk-estimator-id-473\" class=\"sk-toggleable__label sk-toggleable__label-arrow\">estimator: Pipeline</label><div class=\"sk-toggleable__content\"><pre>Pipeline(steps=[(&#x27;preprocessing&#x27;,\n",
       "                 ColumnTransformer(sparse_threshold=0,\n",
       "                                   transformers=[(&#x27;num&#x27;,\n",
       "                                                  Pipeline(steps=[(&#x27;imputer&#x27;,\n",
       "                                                                   SimpleImputer(strategy=&#x27;median&#x27;))]),\n",
       "                                                  [&#x27;Community_Membership_Family&#x27;,\n",
       "                                                   &#x27;Community_Membership_Hobbies&#x27;,\n",
       "                                                   &#x27;Community_Membership_None&#x27;,\n",
       "                                                   &#x27;Community_Membership_Other&#x27;,\n",
       "                                                   &#x27;Community_Membership_Political&#x27;,\n",
       "                                                   &#x27;Community_Membership_Professional&#x27;,\n",
       "                                                   &#x27;Communi...\n",
       "                                                   &#x27;Most_Import_Issue_Facing_the_Internet&#x27;,\n",
       "                                                   &#x27;Opinions_on_Censorship&#x27;,\n",
       "                                                   &#x27;Primary_Computing_Platform&#x27;,\n",
       "                                                   &#x27;Primary_Language&#x27;,\n",
       "                                                   &#x27;Primary_Place_of_WWW_Access&#x27;,\n",
       "                                                   &#x27;Race&#x27;, &#x27;Registered_to_Vote&#x27;,\n",
       "                                                   &#x27;Sexual_Preference&#x27;,\n",
       "                                                   &#x27;Web_Ordering&#x27;,\n",
       "                                                   &#x27;Web_Page_Creation&#x27;])])),\n",
       "                (&#x27;model&#x27;,\n",
       "                 HistGradientBoostingClassifier(class_weight=&#x27;balanced&#x27;,\n",
       "                                                early_stopping=False,\n",
       "                                                min_samples_leaf=30,\n",
       "                                                random_state=1234,\n",
       "                                                scoring=&#x27;balanced_accuracy&#x27;))])</pre></div></div></div><div class=\"sk-serial\"><div class=\"sk-item\"><div class=\"sk-serial\"><div class=\"sk-item sk-dashed-wrapped\"><div class=\"sk-label-container\"><div class=\"sk-label sk-toggleable\"><input class=\"sk-toggleable__control sk-hidden--visually\" id=\"sk-estimator-id-474\" type=\"checkbox\" ><label for=\"sk-estimator-id-474\" class=\"sk-toggleable__label sk-toggleable__label-arrow\">preprocessing: ColumnTransformer</label><div class=\"sk-toggleable__content\"><pre>ColumnTransformer(sparse_threshold=0,\n",
       "                  transformers=[(&#x27;num&#x27;,\n",
       "                                 Pipeline(steps=[(&#x27;imputer&#x27;,\n",
       "                                                  SimpleImputer(strategy=&#x27;median&#x27;))]),\n",
       "                                 [&#x27;Community_Membership_Family&#x27;,\n",
       "                                  &#x27;Community_Membership_Hobbies&#x27;,\n",
       "                                  &#x27;Community_Membership_None&#x27;,\n",
       "                                  &#x27;Community_Membership_Other&#x27;,\n",
       "                                  &#x27;Community_Membership_Political&#x27;,\n",
       "                                  &#x27;Community_Membership_Professional&#x27;,\n",
       "                                  &#x27;Community_Membership_Religious&#x27;,\n",
       "                                  &#x27;Communi...\n",
       "                                  &#x27;Country&#x27;, &#x27;Education_Attainment&#x27;,\n",
       "                                  &#x27;Falsification_of_Information&#x27;,\n",
       "                                  &#x27;Household_Income&#x27;,\n",
       "                                  &#x27;Major_Geographical_Location&#x27;,\n",
       "                                  &#x27;Major_Occupation&#x27;, &#x27;Marital_Status&#x27;,\n",
       "                                  &#x27;Most_Import_Issue_Facing_the_Internet&#x27;,\n",
       "                                  &#x27;Opinions_on_Censorship&#x27;,\n",
       "                                  &#x27;Primary_Computing_Platform&#x27;,\n",
       "                                  &#x27;Primary_Language&#x27;,\n",
       "                                  &#x27;Primary_Place_of_WWW_Access&#x27;, &#x27;Race&#x27;,\n",
       "                                  &#x27;Registered_to_Vote&#x27;, &#x27;Sexual_Preference&#x27;,\n",
       "                                  &#x27;Web_Ordering&#x27;, &#x27;Web_Page_Creation&#x27;])])</pre></div></div></div><div class=\"sk-parallel\"><div class=\"sk-parallel-item\"><div class=\"sk-item\"><div class=\"sk-label-container\"><div class=\"sk-label sk-toggleable\"><input class=\"sk-toggleable__control sk-hidden--visually\" id=\"sk-estimator-id-475\" type=\"checkbox\" ><label for=\"sk-estimator-id-475\" class=\"sk-toggleable__label sk-toggleable__label-arrow\">num</label><div class=\"sk-toggleable__content\"><pre>[&#x27;Community_Membership_Family&#x27;, &#x27;Community_Membership_Hobbies&#x27;, &#x27;Community_Membership_None&#x27;, &#x27;Community_Membership_Other&#x27;, &#x27;Community_Membership_Political&#x27;, &#x27;Community_Membership_Professional&#x27;, &#x27;Community_Membership_Religious&#x27;, &#x27;Community_Membership_Support&#x27;, &#x27;Disability_Cognitive&#x27;, &#x27;Disability_Hearing&#x27;, &#x27;Disability_Motor&#x27;, &#x27;Disability_Not_Impaired&#x27;, &#x27;Disability_Not_Say&#x27;, &#x27;Disability_Vision&#x27;, &#x27;Gender&#x27;, &#x27;How_You_Heard_About_Survey_Banner&#x27;, &#x27;How_You_Heard_About_Survey_Friend&#x27;, &#x27;How_You_Heard_About_Survey_Mailing_List&#x27;, &#x27;How_You_Heard_About_Survey_Others&#x27;, &#x27;How_You_Heard_About_Survey_Printed_Media&#x27;, &#x27;How_You_Heard_About_Survey_Remebered&#x27;, &#x27;How_You_Heard_About_Survey_Search_Engine&#x27;, &#x27;How_You_Heard_About_Survey_Usenet_News&#x27;, &#x27;How_You_Heard_About_Survey_WWW_Page&#x27;, &#x27;Not_Purchasing_Bad_experience&#x27;, &#x27;Not_Purchasing_Bad_press&#x27;, &#x27;Not_Purchasing_Cant_find&#x27;, &#x27;Not_Purchasing_Company_policy&#x27;, &#x27;Not_Purchasing_Easier_locally&#x27;, &#x27;Not_Purchasing_Enough_info&#x27;, &#x27;Not_Purchasing_Judge_quality&#x27;, &#x27;Not_Purchasing_Never_tried&#x27;, &#x27;Not_Purchasing_No_credit&#x27;, &#x27;Not_Purchasing_Not_applicable&#x27;, &#x27;Not_Purchasing_Not_option&#x27;, &#x27;Not_Purchasing_Other&#x27;, &#x27;Not_Purchasing_Prefer_people&#x27;, &#x27;Not_Purchasing_Privacy&#x27;, &#x27;Not_Purchasing_Receipt&#x27;, &#x27;Not_Purchasing_Security&#x27;, &#x27;Not_Purchasing_Too_complicated&#x27;, &#x27;Not_Purchasing_Uncomfortable&#x27;, &#x27;Not_Purchasing_Unfamiliar_vendor&#x27;, &#x27;Who_Pays_for_Access_Dont_Know&#x27;, &#x27;Who_Pays_for_Access_Other&#x27;, &#x27;Who_Pays_for_Access_Parents&#x27;, &#x27;Who_Pays_for_Access_School&#x27;, &#x27;Who_Pays_for_Access_Self&#x27;]</pre></div></div></div><div class=\"sk-serial\"><div class=\"sk-item\"><div class=\"sk-serial\"><div class=\"sk-item\"><div class=\"sk-estimator sk-toggleable\"><input class=\"sk-toggleable__control sk-hidden--visually\" id=\"sk-estimator-id-476\" type=\"checkbox\" ><label for=\"sk-estimator-id-476\" class=\"sk-toggleable__label sk-toggleable__label-arrow\">SimpleImputer</label><div class=\"sk-toggleable__content\"><pre>SimpleImputer(strategy=&#x27;median&#x27;)</pre></div></div></div></div></div></div></div></div><div class=\"sk-parallel-item\"><div class=\"sk-item\"><div class=\"sk-label-container\"><div class=\"sk-label sk-toggleable\"><input class=\"sk-toggleable__control sk-hidden--visually\" id=\"sk-estimator-id-477\" type=\"checkbox\" ><label for=\"sk-estimator-id-477\" class=\"sk-toggleable__label sk-toggleable__label-arrow\">one_hot</label><div class=\"sk-toggleable__content\"><pre>[&#x27;Actual_Time&#x27;, &#x27;Community_Building&#x27;, &#x27;Country&#x27;, &#x27;Education_Attainment&#x27;, &#x27;Falsification_of_Information&#x27;, &#x27;Household_Income&#x27;, &#x27;Major_Geographical_Location&#x27;, &#x27;Major_Occupation&#x27;, &#x27;Marital_Status&#x27;, &#x27;Most_Import_Issue_Facing_the_Internet&#x27;, &#x27;Opinions_on_Censorship&#x27;, &#x27;Primary_Computing_Platform&#x27;, &#x27;Primary_Language&#x27;, &#x27;Primary_Place_of_WWW_Access&#x27;, &#x27;Race&#x27;, &#x27;Registered_to_Vote&#x27;, &#x27;Sexual_Preference&#x27;, &#x27;Web_Ordering&#x27;, &#x27;Web_Page_Creation&#x27;]</pre></div></div></div><div class=\"sk-serial\"><div class=\"sk-item\"><div class=\"sk-serial\"><div class=\"sk-item\"><div class=\"sk-estimator sk-toggleable\"><input class=\"sk-toggleable__control sk-hidden--visually\" id=\"sk-estimator-id-478\" type=\"checkbox\" ><label for=\"sk-estimator-id-478\" class=\"sk-toggleable__label sk-toggleable__label-arrow\">SimpleImputer</label><div class=\"sk-toggleable__content\"><pre>SimpleImputer(strategy=&#x27;most_frequent&#x27;)</pre></div></div></div><div class=\"sk-item\"><div class=\"sk-estimator sk-toggleable\"><input class=\"sk-toggleable__control sk-hidden--visually\" id=\"sk-estimator-id-479\" type=\"checkbox\" ><label for=\"sk-estimator-id-479\" class=\"sk-toggleable__label sk-toggleable__label-arrow\">OneHotEncoder</label><div class=\"sk-toggleable__content\"><pre>OneHotEncoder(drop=&#x27;first&#x27;, handle_unknown=&#x27;ignore&#x27;)</pre></div></div></div></div></div></div></div></div></div></div><div class=\"sk-item\"><div class=\"sk-estimator sk-toggleable\"><input class=\"sk-toggleable__control sk-hidden--visually\" id=\"sk-estimator-id-480\" type=\"checkbox\" ><label for=\"sk-estimator-id-480\" class=\"sk-toggleable__label sk-toggleable__label-arrow\">HistGradientBoostingClassifier</label><div class=\"sk-toggleable__content\"><pre>HistGradientBoostingClassifier(class_weight=&#x27;balanced&#x27;, early_stopping=False,\n",
       "                               min_samples_leaf=30, random_state=1234,\n",
       "                               scoring=&#x27;balanced_accuracy&#x27;)</pre></div></div></div></div></div></div></div></div></div></div></div></div>"
      ],
      "text/plain": [
       "RandomizedSearchCV(cv=StratifiedKFold(n_splits=3, random_state=1234, shuffle=True),\n",
       "                   estimator=Pipeline(steps=[('preprocessing',\n",
       "                                              ColumnTransformer(sparse_threshold=0,\n",
       "                                                                transformers=[('num',\n",
       "                                                                               Pipeline(steps=[('imputer',\n",
       "                                                                                                SimpleImputer(strategy='median'))]),\n",
       "                                                                               ['Community_Membership_Family',\n",
       "                                                                                'Community_Membership_Hobbies',\n",
       "                                                                                'Community_Membership_None',\n",
       "                                                                                'Community_Memb...\n",
       "                   param_distributions={'model__learning_rate': <scipy.stats._distn_infrastructure.rv_continuous_frozen object at 0x000001CDE78041C0>,\n",
       "                                        'model__max_iter': <scipy.stats._distn_infrastructure.rv_discrete_frozen object at 0x000001CDE7808100>,\n",
       "                                        'model__min_samples_leaf': <scipy.stats._distn_infrastructure.rv_discrete_frozen object at 0x000001CDE77F4430>},\n",
       "                   random_state=1234, scoring='balanced_accuracy')"
      ]
     },
     "execution_count": 438,
     "metadata": {},
     "output_type": "execute_result"
    }
   ],
   "source": [
    "# Display pipeline\n",
    "print(\"Time taken: \", ohe_hgb_tune_time_taken)\n",
    "ohe_hgb_tune"
   ]
  },
  {
   "cell_type": "code",
   "execution_count": 439,
   "id": "c78badf0",
   "metadata": {},
   "outputs": [
    {
     "name": "stdout",
     "output_type": "stream",
     "text": [
      "Best parameters: {'model__learning_rate': 0.1281347056881595, 'model__max_iter': 117, 'model__min_samples_leaf': 27}\n",
      "Balanced accuracy with best parameters: 0.8830229069086651\n"
     ]
    },
    {
     "name": "stderr",
     "output_type": "stream",
     "text": [
      "c:\\Users\\jnico\\AppData\\Local\\Programs\\Python\\Python310\\lib\\site-packages\\sklearn\\preprocessing\\_encoders.py:228: UserWarning: Found unknown categories in columns [2, 12] during transform. These unknown categories will be encoded as all zeros\n",
      "  warnings.warn(\n"
     ]
    }
   ],
   "source": [
    "# Predict using the model with the best parameters\n",
    "y_ohe_hgb_tune_pred = ohe_hgb_tune.predict(X_test)\n",
    "\n",
    "# Get the best parameters\n",
    "ohe_hgb_tune_best_params = ohe_hgb_tune.best_params_\n",
    "print(f'Best parameters: {ohe_hgb_tune_best_params}')\n",
    "\n",
    "# Calculate balanced accuracy for the model with the best parameters\n",
    "ohe_hgb_tune_accuracy = balanced_accuracy_score(y_test, y_ohe_hgb_tune_pred)\n",
    "print(f'Balanced accuracy with best parameters: {ohe_hgb_tune_accuracy}')\n",
    "\n",
    "# Save results\n",
    "default_summary.append(\"Tune\")\n",
    "card_9_summary.append(\"AllVariables\")\n",
    "encoder_summary.append(\"OneHotEncoding\")\n",
    "value_summary.append(ohe_hgb_tune_accuracy)\n",
    "time_summary.append(ohe_hgb_tune_time_taken)\n",
    "n_models_summary.append(ohe_hgb_tune.n_iter)"
   ]
  },
  {
   "cell_type": "markdown",
   "id": "66d32bfc",
   "metadata": {},
   "source": [
    " "
   ]
  },
  {
   "cell_type": "markdown",
   "id": "08858430",
   "metadata": {},
   "source": [
    "### Count Encoder + HistGradientBoosting\n"
   ]
  },
  {
   "cell_type": "code",
   "execution_count": 440,
   "id": "61db2219",
   "metadata": {},
   "outputs": [],
   "source": [
    "from category_encoders.count import CountEncoder"
   ]
  },
  {
   "cell_type": "markdown",
   "id": "9cedba6a",
   "metadata": {},
   "source": [
    "#### Preprocessing"
   ]
  },
  {
   "cell_type": "code",
   "execution_count": 441,
   "id": "d73d6a57",
   "metadata": {},
   "outputs": [],
   "source": [
    "cat_pipeline_more9 = Pipeline([\n",
    "    (\"imputer\", SimpleImputer(strategy = \"most_frequent\")),\n",
    "    (\"encoder\", CountEncoder())\n",
    "])\n",
    "\n",
    "cat_pipeline_less9 = Pipeline([\n",
    "    (\"imputer\", SimpleImputer(strategy = \"most_frequent\")),\n",
    "    (\"encoder\", OneHotEncoder(drop = \"first\", handle_unknown = \"ignore\"))\n",
    "])\n",
    "\n",
    "preprop_pipeline = ColumnTransformer(\n",
    "    transformers = [(\"num\", num_pipeline, num_cols),\n",
    "                    (\"count_encoder\", cat_pipeline_more9, cat_cols)],\n",
    "    sparse_threshold=0\n",
    ")\n",
    "\n",
    "preprop_pipeline9 = ColumnTransformer(\n",
    "    transformers = [(\"num\", num_pipeline, num_cols),\n",
    "                    (\"count_encoder\", cat_pipeline_more9, cat_cols_more9),\n",
    "                    (\"one_hot_encoding\", cat_pipeline_less9, cat_cols_less9)],\n",
    "    sparse_threshold=0\n",
    ")"
   ]
  },
  {
   "cell_type": "markdown",
   "id": "037efae9",
   "metadata": {},
   "source": [
    "#### Create a HistGradientBoostingClassifier model with default parameters and early stopping"
   ]
  },
  {
   "cell_type": "code",
   "execution_count": 442,
   "id": "fd90a4a3",
   "metadata": {},
   "outputs": [],
   "source": [
    "count_hgb_default_pipeline = Pipeline([('preprocessing', preprop_pipeline),\n",
    "                                       ('model', hgb_default)])\n",
    "count_hgb_default_pipeline9 = Pipeline([('preprocessing', preprop_pipeline9),\n",
    "                                        ('model', hgb_default9)])"
   ]
  },
  {
   "cell_type": "code",
   "execution_count": 443,
   "id": "bc4e2c6c",
   "metadata": {
    "scrolled": false
   },
   "outputs": [],
   "source": [
    "tic = time.time()\n",
    "\n",
    "count_hgb_default = count_hgb_default_pipeline.fit(X_train, y_train)\n",
    "\n",
    "toc = time.time()\n",
    "count_hgb_default_time_taken = toc-tic"
   ]
  },
  {
   "cell_type": "code",
   "execution_count": 444,
   "metadata": {},
   "outputs": [
    {
     "name": "stdout",
     "output_type": "stream",
     "text": [
      "Time taken:  0.9964916706085205\n"
     ]
    },
    {
     "data": {
      "text/html": [
       "<style>#sk-container-id-51 {color: black;}#sk-container-id-51 pre{padding: 0;}#sk-container-id-51 div.sk-toggleable {background-color: white;}#sk-container-id-51 label.sk-toggleable__label {cursor: pointer;display: block;width: 100%;margin-bottom: 0;padding: 0.3em;box-sizing: border-box;text-align: center;}#sk-container-id-51 label.sk-toggleable__label-arrow:before {content: \"▸\";float: left;margin-right: 0.25em;color: #696969;}#sk-container-id-51 label.sk-toggleable__label-arrow:hover:before {color: black;}#sk-container-id-51 div.sk-estimator:hover label.sk-toggleable__label-arrow:before {color: black;}#sk-container-id-51 div.sk-toggleable__content {max-height: 0;max-width: 0;overflow: hidden;text-align: left;background-color: #f0f8ff;}#sk-container-id-51 div.sk-toggleable__content pre {margin: 0.2em;color: black;border-radius: 0.25em;background-color: #f0f8ff;}#sk-container-id-51 input.sk-toggleable__control:checked~div.sk-toggleable__content {max-height: 200px;max-width: 100%;overflow: auto;}#sk-container-id-51 input.sk-toggleable__control:checked~label.sk-toggleable__label-arrow:before {content: \"▾\";}#sk-container-id-51 div.sk-estimator input.sk-toggleable__control:checked~label.sk-toggleable__label {background-color: #d4ebff;}#sk-container-id-51 div.sk-label input.sk-toggleable__control:checked~label.sk-toggleable__label {background-color: #d4ebff;}#sk-container-id-51 input.sk-hidden--visually {border: 0;clip: rect(1px 1px 1px 1px);clip: rect(1px, 1px, 1px, 1px);height: 1px;margin: -1px;overflow: hidden;padding: 0;position: absolute;width: 1px;}#sk-container-id-51 div.sk-estimator {font-family: monospace;background-color: #f0f8ff;border: 1px dotted black;border-radius: 0.25em;box-sizing: border-box;margin-bottom: 0.5em;}#sk-container-id-51 div.sk-estimator:hover {background-color: #d4ebff;}#sk-container-id-51 div.sk-parallel-item::after {content: \"\";width: 100%;border-bottom: 1px solid gray;flex-grow: 1;}#sk-container-id-51 div.sk-label:hover label.sk-toggleable__label {background-color: #d4ebff;}#sk-container-id-51 div.sk-serial::before {content: \"\";position: absolute;border-left: 1px solid gray;box-sizing: border-box;top: 0;bottom: 0;left: 50%;z-index: 0;}#sk-container-id-51 div.sk-serial {display: flex;flex-direction: column;align-items: center;background-color: white;padding-right: 0.2em;padding-left: 0.2em;position: relative;}#sk-container-id-51 div.sk-item {position: relative;z-index: 1;}#sk-container-id-51 div.sk-parallel {display: flex;align-items: stretch;justify-content: center;background-color: white;position: relative;}#sk-container-id-51 div.sk-item::before, #sk-container-id-51 div.sk-parallel-item::before {content: \"\";position: absolute;border-left: 1px solid gray;box-sizing: border-box;top: 0;bottom: 0;left: 50%;z-index: -1;}#sk-container-id-51 div.sk-parallel-item {display: flex;flex-direction: column;z-index: 1;position: relative;background-color: white;}#sk-container-id-51 div.sk-parallel-item:first-child::after {align-self: flex-end;width: 50%;}#sk-container-id-51 div.sk-parallel-item:last-child::after {align-self: flex-start;width: 50%;}#sk-container-id-51 div.sk-parallel-item:only-child::after {width: 0;}#sk-container-id-51 div.sk-dashed-wrapped {border: 1px dashed gray;margin: 0 0.4em 0.5em 0.4em;box-sizing: border-box;padding-bottom: 0.4em;background-color: white;}#sk-container-id-51 div.sk-label label {font-family: monospace;font-weight: bold;display: inline-block;line-height: 1.2em;}#sk-container-id-51 div.sk-label-container {text-align: center;}#sk-container-id-51 div.sk-container {/* jupyter's `normalize.less` sets `[hidden] { display: none; }` but bootstrap.min.css set `[hidden] { display: none !important; }` so we also need the `!important` here to be able to override the default hidden behavior on the sphinx rendered scikit-learn.org. See: https://github.com/scikit-learn/scikit-learn/issues/21755 */display: inline-block !important;position: relative;}#sk-container-id-51 div.sk-text-repr-fallback {display: none;}</style><div id=\"sk-container-id-51\" class=\"sk-top-container\"><div class=\"sk-text-repr-fallback\"><pre>Pipeline(steps=[(&#x27;preprocessing&#x27;,\n",
       "                 ColumnTransformer(sparse_threshold=0,\n",
       "                                   transformers=[(&#x27;num&#x27;,\n",
       "                                                  Pipeline(steps=[(&#x27;imputer&#x27;,\n",
       "                                                                   SimpleImputer(strategy=&#x27;median&#x27;))]),\n",
       "                                                  [&#x27;Community_Membership_Family&#x27;,\n",
       "                                                   &#x27;Community_Membership_Hobbies&#x27;,\n",
       "                                                   &#x27;Community_Membership_None&#x27;,\n",
       "                                                   &#x27;Community_Membership_Other&#x27;,\n",
       "                                                   &#x27;Community_Membership_Political&#x27;,\n",
       "                                                   &#x27;Community_Membership_Professional&#x27;,\n",
       "                                                   &#x27;Communi...\n",
       "                                                   &#x27;Most_Import_Issue_Facing_the_Internet&#x27;,\n",
       "                                                   &#x27;Opinions_on_Censorship&#x27;,\n",
       "                                                   &#x27;Primary_Computing_Platform&#x27;,\n",
       "                                                   &#x27;Primary_Language&#x27;,\n",
       "                                                   &#x27;Primary_Place_of_WWW_Access&#x27;,\n",
       "                                                   &#x27;Race&#x27;, &#x27;Registered_to_Vote&#x27;,\n",
       "                                                   &#x27;Sexual_Preference&#x27;,\n",
       "                                                   &#x27;Web_Ordering&#x27;,\n",
       "                                                   &#x27;Web_Page_Creation&#x27;])])),\n",
       "                (&#x27;model&#x27;,\n",
       "                 HistGradientBoostingClassifier(class_weight=&#x27;balanced&#x27;,\n",
       "                                                early_stopping=False,\n",
       "                                                min_samples_leaf=30,\n",
       "                                                random_state=1234,\n",
       "                                                scoring=&#x27;balanced_accuracy&#x27;))])</pre><b>In a Jupyter environment, please rerun this cell to show the HTML representation or trust the notebook. <br />On GitHub, the HTML representation is unable to render, please try loading this page with nbviewer.org.</b></div><div class=\"sk-container\" hidden><div class=\"sk-item sk-dashed-wrapped\"><div class=\"sk-label-container\"><div class=\"sk-label sk-toggleable\"><input class=\"sk-toggleable__control sk-hidden--visually\" id=\"sk-estimator-id-481\" type=\"checkbox\" ><label for=\"sk-estimator-id-481\" class=\"sk-toggleable__label sk-toggleable__label-arrow\">Pipeline</label><div class=\"sk-toggleable__content\"><pre>Pipeline(steps=[(&#x27;preprocessing&#x27;,\n",
       "                 ColumnTransformer(sparse_threshold=0,\n",
       "                                   transformers=[(&#x27;num&#x27;,\n",
       "                                                  Pipeline(steps=[(&#x27;imputer&#x27;,\n",
       "                                                                   SimpleImputer(strategy=&#x27;median&#x27;))]),\n",
       "                                                  [&#x27;Community_Membership_Family&#x27;,\n",
       "                                                   &#x27;Community_Membership_Hobbies&#x27;,\n",
       "                                                   &#x27;Community_Membership_None&#x27;,\n",
       "                                                   &#x27;Community_Membership_Other&#x27;,\n",
       "                                                   &#x27;Community_Membership_Political&#x27;,\n",
       "                                                   &#x27;Community_Membership_Professional&#x27;,\n",
       "                                                   &#x27;Communi...\n",
       "                                                   &#x27;Most_Import_Issue_Facing_the_Internet&#x27;,\n",
       "                                                   &#x27;Opinions_on_Censorship&#x27;,\n",
       "                                                   &#x27;Primary_Computing_Platform&#x27;,\n",
       "                                                   &#x27;Primary_Language&#x27;,\n",
       "                                                   &#x27;Primary_Place_of_WWW_Access&#x27;,\n",
       "                                                   &#x27;Race&#x27;, &#x27;Registered_to_Vote&#x27;,\n",
       "                                                   &#x27;Sexual_Preference&#x27;,\n",
       "                                                   &#x27;Web_Ordering&#x27;,\n",
       "                                                   &#x27;Web_Page_Creation&#x27;])])),\n",
       "                (&#x27;model&#x27;,\n",
       "                 HistGradientBoostingClassifier(class_weight=&#x27;balanced&#x27;,\n",
       "                                                early_stopping=False,\n",
       "                                                min_samples_leaf=30,\n",
       "                                                random_state=1234,\n",
       "                                                scoring=&#x27;balanced_accuracy&#x27;))])</pre></div></div></div><div class=\"sk-serial\"><div class=\"sk-item sk-dashed-wrapped\"><div class=\"sk-label-container\"><div class=\"sk-label sk-toggleable\"><input class=\"sk-toggleable__control sk-hidden--visually\" id=\"sk-estimator-id-482\" type=\"checkbox\" ><label for=\"sk-estimator-id-482\" class=\"sk-toggleable__label sk-toggleable__label-arrow\">preprocessing: ColumnTransformer</label><div class=\"sk-toggleable__content\"><pre>ColumnTransformer(sparse_threshold=0,\n",
       "                  transformers=[(&#x27;num&#x27;,\n",
       "                                 Pipeline(steps=[(&#x27;imputer&#x27;,\n",
       "                                                  SimpleImputer(strategy=&#x27;median&#x27;))]),\n",
       "                                 [&#x27;Community_Membership_Family&#x27;,\n",
       "                                  &#x27;Community_Membership_Hobbies&#x27;,\n",
       "                                  &#x27;Community_Membership_None&#x27;,\n",
       "                                  &#x27;Community_Membership_Other&#x27;,\n",
       "                                  &#x27;Community_Membership_Political&#x27;,\n",
       "                                  &#x27;Community_Membership_Professional&#x27;,\n",
       "                                  &#x27;Community_Membership_Religious&#x27;,\n",
       "                                  &#x27;Communi...\n",
       "                                  &#x27;Country&#x27;, &#x27;Education_Attainment&#x27;,\n",
       "                                  &#x27;Falsification_of_Information&#x27;,\n",
       "                                  &#x27;Household_Income&#x27;,\n",
       "                                  &#x27;Major_Geographical_Location&#x27;,\n",
       "                                  &#x27;Major_Occupation&#x27;, &#x27;Marital_Status&#x27;,\n",
       "                                  &#x27;Most_Import_Issue_Facing_the_Internet&#x27;,\n",
       "                                  &#x27;Opinions_on_Censorship&#x27;,\n",
       "                                  &#x27;Primary_Computing_Platform&#x27;,\n",
       "                                  &#x27;Primary_Language&#x27;,\n",
       "                                  &#x27;Primary_Place_of_WWW_Access&#x27;, &#x27;Race&#x27;,\n",
       "                                  &#x27;Registered_to_Vote&#x27;, &#x27;Sexual_Preference&#x27;,\n",
       "                                  &#x27;Web_Ordering&#x27;, &#x27;Web_Page_Creation&#x27;])])</pre></div></div></div><div class=\"sk-parallel\"><div class=\"sk-parallel-item\"><div class=\"sk-item\"><div class=\"sk-label-container\"><div class=\"sk-label sk-toggleable\"><input class=\"sk-toggleable__control sk-hidden--visually\" id=\"sk-estimator-id-483\" type=\"checkbox\" ><label for=\"sk-estimator-id-483\" class=\"sk-toggleable__label sk-toggleable__label-arrow\">num</label><div class=\"sk-toggleable__content\"><pre>[&#x27;Community_Membership_Family&#x27;, &#x27;Community_Membership_Hobbies&#x27;, &#x27;Community_Membership_None&#x27;, &#x27;Community_Membership_Other&#x27;, &#x27;Community_Membership_Political&#x27;, &#x27;Community_Membership_Professional&#x27;, &#x27;Community_Membership_Religious&#x27;, &#x27;Community_Membership_Support&#x27;, &#x27;Disability_Cognitive&#x27;, &#x27;Disability_Hearing&#x27;, &#x27;Disability_Motor&#x27;, &#x27;Disability_Not_Impaired&#x27;, &#x27;Disability_Not_Say&#x27;, &#x27;Disability_Vision&#x27;, &#x27;Gender&#x27;, &#x27;How_You_Heard_About_Survey_Banner&#x27;, &#x27;How_You_Heard_About_Survey_Friend&#x27;, &#x27;How_You_Heard_About_Survey_Mailing_List&#x27;, &#x27;How_You_Heard_About_Survey_Others&#x27;, &#x27;How_You_Heard_About_Survey_Printed_Media&#x27;, &#x27;How_You_Heard_About_Survey_Remebered&#x27;, &#x27;How_You_Heard_About_Survey_Search_Engine&#x27;, &#x27;How_You_Heard_About_Survey_Usenet_News&#x27;, &#x27;How_You_Heard_About_Survey_WWW_Page&#x27;, &#x27;Not_Purchasing_Bad_experience&#x27;, &#x27;Not_Purchasing_Bad_press&#x27;, &#x27;Not_Purchasing_Cant_find&#x27;, &#x27;Not_Purchasing_Company_policy&#x27;, &#x27;Not_Purchasing_Easier_locally&#x27;, &#x27;Not_Purchasing_Enough_info&#x27;, &#x27;Not_Purchasing_Judge_quality&#x27;, &#x27;Not_Purchasing_Never_tried&#x27;, &#x27;Not_Purchasing_No_credit&#x27;, &#x27;Not_Purchasing_Not_applicable&#x27;, &#x27;Not_Purchasing_Not_option&#x27;, &#x27;Not_Purchasing_Other&#x27;, &#x27;Not_Purchasing_Prefer_people&#x27;, &#x27;Not_Purchasing_Privacy&#x27;, &#x27;Not_Purchasing_Receipt&#x27;, &#x27;Not_Purchasing_Security&#x27;, &#x27;Not_Purchasing_Too_complicated&#x27;, &#x27;Not_Purchasing_Uncomfortable&#x27;, &#x27;Not_Purchasing_Unfamiliar_vendor&#x27;, &#x27;Who_Pays_for_Access_Dont_Know&#x27;, &#x27;Who_Pays_for_Access_Other&#x27;, &#x27;Who_Pays_for_Access_Parents&#x27;, &#x27;Who_Pays_for_Access_School&#x27;, &#x27;Who_Pays_for_Access_Self&#x27;]</pre></div></div></div><div class=\"sk-serial\"><div class=\"sk-item\"><div class=\"sk-serial\"><div class=\"sk-item\"><div class=\"sk-estimator sk-toggleable\"><input class=\"sk-toggleable__control sk-hidden--visually\" id=\"sk-estimator-id-484\" type=\"checkbox\" ><label for=\"sk-estimator-id-484\" class=\"sk-toggleable__label sk-toggleable__label-arrow\">SimpleImputer</label><div class=\"sk-toggleable__content\"><pre>SimpleImputer(strategy=&#x27;median&#x27;)</pre></div></div></div></div></div></div></div></div><div class=\"sk-parallel-item\"><div class=\"sk-item\"><div class=\"sk-label-container\"><div class=\"sk-label sk-toggleable\"><input class=\"sk-toggleable__control sk-hidden--visually\" id=\"sk-estimator-id-485\" type=\"checkbox\" ><label for=\"sk-estimator-id-485\" class=\"sk-toggleable__label sk-toggleable__label-arrow\">count_encoder</label><div class=\"sk-toggleable__content\"><pre>[&#x27;Actual_Time&#x27;, &#x27;Community_Building&#x27;, &#x27;Country&#x27;, &#x27;Education_Attainment&#x27;, &#x27;Falsification_of_Information&#x27;, &#x27;Household_Income&#x27;, &#x27;Major_Geographical_Location&#x27;, &#x27;Major_Occupation&#x27;, &#x27;Marital_Status&#x27;, &#x27;Most_Import_Issue_Facing_the_Internet&#x27;, &#x27;Opinions_on_Censorship&#x27;, &#x27;Primary_Computing_Platform&#x27;, &#x27;Primary_Language&#x27;, &#x27;Primary_Place_of_WWW_Access&#x27;, &#x27;Race&#x27;, &#x27;Registered_to_Vote&#x27;, &#x27;Sexual_Preference&#x27;, &#x27;Web_Ordering&#x27;, &#x27;Web_Page_Creation&#x27;]</pre></div></div></div><div class=\"sk-serial\"><div class=\"sk-item\"><div class=\"sk-serial\"><div class=\"sk-item\"><div class=\"sk-estimator sk-toggleable\"><input class=\"sk-toggleable__control sk-hidden--visually\" id=\"sk-estimator-id-486\" type=\"checkbox\" ><label for=\"sk-estimator-id-486\" class=\"sk-toggleable__label sk-toggleable__label-arrow\">SimpleImputer</label><div class=\"sk-toggleable__content\"><pre>SimpleImputer(strategy=&#x27;most_frequent&#x27;)</pre></div></div></div><div class=\"sk-item\"><div class=\"sk-estimator sk-toggleable\"><input class=\"sk-toggleable__control sk-hidden--visually\" id=\"sk-estimator-id-487\" type=\"checkbox\" ><label for=\"sk-estimator-id-487\" class=\"sk-toggleable__label sk-toggleable__label-arrow\">CountEncoder</label><div class=\"sk-toggleable__content\"><pre>CountEncoder(combine_min_nan_groups=True)</pre></div></div></div></div></div></div></div></div></div></div><div class=\"sk-item\"><div class=\"sk-estimator sk-toggleable\"><input class=\"sk-toggleable__control sk-hidden--visually\" id=\"sk-estimator-id-488\" type=\"checkbox\" ><label for=\"sk-estimator-id-488\" class=\"sk-toggleable__label sk-toggleable__label-arrow\">HistGradientBoostingClassifier</label><div class=\"sk-toggleable__content\"><pre>HistGradientBoostingClassifier(class_weight=&#x27;balanced&#x27;, early_stopping=False,\n",
       "                               min_samples_leaf=30, random_state=1234,\n",
       "                               scoring=&#x27;balanced_accuracy&#x27;)</pre></div></div></div></div></div></div></div>"
      ],
      "text/plain": [
       "Pipeline(steps=[('preprocessing',\n",
       "                 ColumnTransformer(sparse_threshold=0,\n",
       "                                   transformers=[('num',\n",
       "                                                  Pipeline(steps=[('imputer',\n",
       "                                                                   SimpleImputer(strategy='median'))]),\n",
       "                                                  ['Community_Membership_Family',\n",
       "                                                   'Community_Membership_Hobbies',\n",
       "                                                   'Community_Membership_None',\n",
       "                                                   'Community_Membership_Other',\n",
       "                                                   'Community_Membership_Political',\n",
       "                                                   'Community_Membership_Professional',\n",
       "                                                   'Communi...\n",
       "                                                   'Most_Import_Issue_Facing_the_Internet',\n",
       "                                                   'Opinions_on_Censorship',\n",
       "                                                   'Primary_Computing_Platform',\n",
       "                                                   'Primary_Language',\n",
       "                                                   'Primary_Place_of_WWW_Access',\n",
       "                                                   'Race', 'Registered_to_Vote',\n",
       "                                                   'Sexual_Preference',\n",
       "                                                   'Web_Ordering',\n",
       "                                                   'Web_Page_Creation'])])),\n",
       "                ('model',\n",
       "                 HistGradientBoostingClassifier(class_weight='balanced',\n",
       "                                                early_stopping=False,\n",
       "                                                min_samples_leaf=30,\n",
       "                                                random_state=1234,\n",
       "                                                scoring='balanced_accuracy'))])"
      ]
     },
     "execution_count": 444,
     "metadata": {},
     "output_type": "execute_result"
    }
   ],
   "source": [
    "# Display pipeline\n",
    "print(\"Time taken: \", count_hgb_default_time_taken)\n",
    "count_hgb_default"
   ]
  },
  {
   "cell_type": "code",
   "execution_count": 445,
   "id": "623276a2",
   "metadata": {
    "scrolled": true
   },
   "outputs": [],
   "source": [
    "tic = time.time()\n",
    "\n",
    "count_hgb_default9 = count_hgb_default_pipeline9.fit(X_train, y_train)\n",
    "\n",
    "toc = time.time()\n",
    "count_hgb_default9_time_taken = toc-tic"
   ]
  },
  {
   "cell_type": "code",
   "execution_count": 446,
   "metadata": {},
   "outputs": [
    {
     "name": "stdout",
     "output_type": "stream",
     "text": [
      "Time taken:  1.4434614181518555\n"
     ]
    },
    {
     "data": {
      "text/html": [
       "<style>#sk-container-id-52 {color: black;}#sk-container-id-52 pre{padding: 0;}#sk-container-id-52 div.sk-toggleable {background-color: white;}#sk-container-id-52 label.sk-toggleable__label {cursor: pointer;display: block;width: 100%;margin-bottom: 0;padding: 0.3em;box-sizing: border-box;text-align: center;}#sk-container-id-52 label.sk-toggleable__label-arrow:before {content: \"▸\";float: left;margin-right: 0.25em;color: #696969;}#sk-container-id-52 label.sk-toggleable__label-arrow:hover:before {color: black;}#sk-container-id-52 div.sk-estimator:hover label.sk-toggleable__label-arrow:before {color: black;}#sk-container-id-52 div.sk-toggleable__content {max-height: 0;max-width: 0;overflow: hidden;text-align: left;background-color: #f0f8ff;}#sk-container-id-52 div.sk-toggleable__content pre {margin: 0.2em;color: black;border-radius: 0.25em;background-color: #f0f8ff;}#sk-container-id-52 input.sk-toggleable__control:checked~div.sk-toggleable__content {max-height: 200px;max-width: 100%;overflow: auto;}#sk-container-id-52 input.sk-toggleable__control:checked~label.sk-toggleable__label-arrow:before {content: \"▾\";}#sk-container-id-52 div.sk-estimator input.sk-toggleable__control:checked~label.sk-toggleable__label {background-color: #d4ebff;}#sk-container-id-52 div.sk-label input.sk-toggleable__control:checked~label.sk-toggleable__label {background-color: #d4ebff;}#sk-container-id-52 input.sk-hidden--visually {border: 0;clip: rect(1px 1px 1px 1px);clip: rect(1px, 1px, 1px, 1px);height: 1px;margin: -1px;overflow: hidden;padding: 0;position: absolute;width: 1px;}#sk-container-id-52 div.sk-estimator {font-family: monospace;background-color: #f0f8ff;border: 1px dotted black;border-radius: 0.25em;box-sizing: border-box;margin-bottom: 0.5em;}#sk-container-id-52 div.sk-estimator:hover {background-color: #d4ebff;}#sk-container-id-52 div.sk-parallel-item::after {content: \"\";width: 100%;border-bottom: 1px solid gray;flex-grow: 1;}#sk-container-id-52 div.sk-label:hover label.sk-toggleable__label {background-color: #d4ebff;}#sk-container-id-52 div.sk-serial::before {content: \"\";position: absolute;border-left: 1px solid gray;box-sizing: border-box;top: 0;bottom: 0;left: 50%;z-index: 0;}#sk-container-id-52 div.sk-serial {display: flex;flex-direction: column;align-items: center;background-color: white;padding-right: 0.2em;padding-left: 0.2em;position: relative;}#sk-container-id-52 div.sk-item {position: relative;z-index: 1;}#sk-container-id-52 div.sk-parallel {display: flex;align-items: stretch;justify-content: center;background-color: white;position: relative;}#sk-container-id-52 div.sk-item::before, #sk-container-id-52 div.sk-parallel-item::before {content: \"\";position: absolute;border-left: 1px solid gray;box-sizing: border-box;top: 0;bottom: 0;left: 50%;z-index: -1;}#sk-container-id-52 div.sk-parallel-item {display: flex;flex-direction: column;z-index: 1;position: relative;background-color: white;}#sk-container-id-52 div.sk-parallel-item:first-child::after {align-self: flex-end;width: 50%;}#sk-container-id-52 div.sk-parallel-item:last-child::after {align-self: flex-start;width: 50%;}#sk-container-id-52 div.sk-parallel-item:only-child::after {width: 0;}#sk-container-id-52 div.sk-dashed-wrapped {border: 1px dashed gray;margin: 0 0.4em 0.5em 0.4em;box-sizing: border-box;padding-bottom: 0.4em;background-color: white;}#sk-container-id-52 div.sk-label label {font-family: monospace;font-weight: bold;display: inline-block;line-height: 1.2em;}#sk-container-id-52 div.sk-label-container {text-align: center;}#sk-container-id-52 div.sk-container {/* jupyter's `normalize.less` sets `[hidden] { display: none; }` but bootstrap.min.css set `[hidden] { display: none !important; }` so we also need the `!important` here to be able to override the default hidden behavior on the sphinx rendered scikit-learn.org. See: https://github.com/scikit-learn/scikit-learn/issues/21755 */display: inline-block !important;position: relative;}#sk-container-id-52 div.sk-text-repr-fallback {display: none;}</style><div id=\"sk-container-id-52\" class=\"sk-top-container\"><div class=\"sk-text-repr-fallback\"><pre>Pipeline(steps=[(&#x27;preprocessing&#x27;,\n",
       "                 ColumnTransformer(sparse_threshold=0,\n",
       "                                   transformers=[(&#x27;num&#x27;,\n",
       "                                                  Pipeline(steps=[(&#x27;imputer&#x27;,\n",
       "                                                                   SimpleImputer(strategy=&#x27;median&#x27;))]),\n",
       "                                                  [&#x27;Community_Membership_Family&#x27;,\n",
       "                                                   &#x27;Community_Membership_Hobbies&#x27;,\n",
       "                                                   &#x27;Community_Membership_None&#x27;,\n",
       "                                                   &#x27;Community_Membership_Other&#x27;,\n",
       "                                                   &#x27;Community_Membership_Political&#x27;,\n",
       "                                                   &#x27;Community_Membership_Professional&#x27;,\n",
       "                                                   &#x27;Communi...\n",
       "                                                   &#x27;Marital_Status&#x27;,\n",
       "                                                   &#x27;Most_Import_Issue_Facing_the_Internet&#x27;,\n",
       "                                                   &#x27;Opinions_on_Censorship&#x27;,\n",
       "                                                   &#x27;Primary_Place_of_WWW_Access&#x27;,\n",
       "                                                   &#x27;Race&#x27;, &#x27;Registered_to_Vote&#x27;,\n",
       "                                                   &#x27;Sexual_Preference&#x27;,\n",
       "                                                   &#x27;Web_Ordering&#x27;,\n",
       "                                                   &#x27;Web_Page_Creation&#x27;])])),\n",
       "                (&#x27;model&#x27;,\n",
       "                 HistGradientBoostingClassifier(class_weight=&#x27;balanced&#x27;,\n",
       "                                                early_stopping=False,\n",
       "                                                min_samples_leaf=30,\n",
       "                                                random_state=1234,\n",
       "                                                scoring=&#x27;balanced_accuracy&#x27;))])</pre><b>In a Jupyter environment, please rerun this cell to show the HTML representation or trust the notebook. <br />On GitHub, the HTML representation is unable to render, please try loading this page with nbviewer.org.</b></div><div class=\"sk-container\" hidden><div class=\"sk-item sk-dashed-wrapped\"><div class=\"sk-label-container\"><div class=\"sk-label sk-toggleable\"><input class=\"sk-toggleable__control sk-hidden--visually\" id=\"sk-estimator-id-489\" type=\"checkbox\" ><label for=\"sk-estimator-id-489\" class=\"sk-toggleable__label sk-toggleable__label-arrow\">Pipeline</label><div class=\"sk-toggleable__content\"><pre>Pipeline(steps=[(&#x27;preprocessing&#x27;,\n",
       "                 ColumnTransformer(sparse_threshold=0,\n",
       "                                   transformers=[(&#x27;num&#x27;,\n",
       "                                                  Pipeline(steps=[(&#x27;imputer&#x27;,\n",
       "                                                                   SimpleImputer(strategy=&#x27;median&#x27;))]),\n",
       "                                                  [&#x27;Community_Membership_Family&#x27;,\n",
       "                                                   &#x27;Community_Membership_Hobbies&#x27;,\n",
       "                                                   &#x27;Community_Membership_None&#x27;,\n",
       "                                                   &#x27;Community_Membership_Other&#x27;,\n",
       "                                                   &#x27;Community_Membership_Political&#x27;,\n",
       "                                                   &#x27;Community_Membership_Professional&#x27;,\n",
       "                                                   &#x27;Communi...\n",
       "                                                   &#x27;Marital_Status&#x27;,\n",
       "                                                   &#x27;Most_Import_Issue_Facing_the_Internet&#x27;,\n",
       "                                                   &#x27;Opinions_on_Censorship&#x27;,\n",
       "                                                   &#x27;Primary_Place_of_WWW_Access&#x27;,\n",
       "                                                   &#x27;Race&#x27;, &#x27;Registered_to_Vote&#x27;,\n",
       "                                                   &#x27;Sexual_Preference&#x27;,\n",
       "                                                   &#x27;Web_Ordering&#x27;,\n",
       "                                                   &#x27;Web_Page_Creation&#x27;])])),\n",
       "                (&#x27;model&#x27;,\n",
       "                 HistGradientBoostingClassifier(class_weight=&#x27;balanced&#x27;,\n",
       "                                                early_stopping=False,\n",
       "                                                min_samples_leaf=30,\n",
       "                                                random_state=1234,\n",
       "                                                scoring=&#x27;balanced_accuracy&#x27;))])</pre></div></div></div><div class=\"sk-serial\"><div class=\"sk-item sk-dashed-wrapped\"><div class=\"sk-label-container\"><div class=\"sk-label sk-toggleable\"><input class=\"sk-toggleable__control sk-hidden--visually\" id=\"sk-estimator-id-490\" type=\"checkbox\" ><label for=\"sk-estimator-id-490\" class=\"sk-toggleable__label sk-toggleable__label-arrow\">preprocessing: ColumnTransformer</label><div class=\"sk-toggleable__content\"><pre>ColumnTransformer(sparse_threshold=0,\n",
       "                  transformers=[(&#x27;num&#x27;,\n",
       "                                 Pipeline(steps=[(&#x27;imputer&#x27;,\n",
       "                                                  SimpleImputer(strategy=&#x27;median&#x27;))]),\n",
       "                                 [&#x27;Community_Membership_Family&#x27;,\n",
       "                                  &#x27;Community_Membership_Hobbies&#x27;,\n",
       "                                  &#x27;Community_Membership_None&#x27;,\n",
       "                                  &#x27;Community_Membership_Other&#x27;,\n",
       "                                  &#x27;Community_Membership_Political&#x27;,\n",
       "                                  &#x27;Community_Membership_Professional&#x27;,\n",
       "                                  &#x27;Community_Membership_Religious&#x27;,\n",
       "                                  &#x27;Communi...\n",
       "                                                  OneHotEncoder(drop=&#x27;first&#x27;,\n",
       "                                                                handle_unknown=&#x27;ignore&#x27;))]),\n",
       "                                 [&#x27;Community_Building&#x27;, &#x27;Education_Attainment&#x27;,\n",
       "                                  &#x27;Falsification_of_Information&#x27;,\n",
       "                                  &#x27;Household_Income&#x27;, &#x27;Major_Occupation&#x27;,\n",
       "                                  &#x27;Marital_Status&#x27;,\n",
       "                                  &#x27;Most_Import_Issue_Facing_the_Internet&#x27;,\n",
       "                                  &#x27;Opinions_on_Censorship&#x27;,\n",
       "                                  &#x27;Primary_Place_of_WWW_Access&#x27;, &#x27;Race&#x27;,\n",
       "                                  &#x27;Registered_to_Vote&#x27;, &#x27;Sexual_Preference&#x27;,\n",
       "                                  &#x27;Web_Ordering&#x27;, &#x27;Web_Page_Creation&#x27;])])</pre></div></div></div><div class=\"sk-parallel\"><div class=\"sk-parallel-item\"><div class=\"sk-item\"><div class=\"sk-label-container\"><div class=\"sk-label sk-toggleable\"><input class=\"sk-toggleable__control sk-hidden--visually\" id=\"sk-estimator-id-491\" type=\"checkbox\" ><label for=\"sk-estimator-id-491\" class=\"sk-toggleable__label sk-toggleable__label-arrow\">num</label><div class=\"sk-toggleable__content\"><pre>[&#x27;Community_Membership_Family&#x27;, &#x27;Community_Membership_Hobbies&#x27;, &#x27;Community_Membership_None&#x27;, &#x27;Community_Membership_Other&#x27;, &#x27;Community_Membership_Political&#x27;, &#x27;Community_Membership_Professional&#x27;, &#x27;Community_Membership_Religious&#x27;, &#x27;Community_Membership_Support&#x27;, &#x27;Disability_Cognitive&#x27;, &#x27;Disability_Hearing&#x27;, &#x27;Disability_Motor&#x27;, &#x27;Disability_Not_Impaired&#x27;, &#x27;Disability_Not_Say&#x27;, &#x27;Disability_Vision&#x27;, &#x27;Gender&#x27;, &#x27;How_You_Heard_About_Survey_Banner&#x27;, &#x27;How_You_Heard_About_Survey_Friend&#x27;, &#x27;How_You_Heard_About_Survey_Mailing_List&#x27;, &#x27;How_You_Heard_About_Survey_Others&#x27;, &#x27;How_You_Heard_About_Survey_Printed_Media&#x27;, &#x27;How_You_Heard_About_Survey_Remebered&#x27;, &#x27;How_You_Heard_About_Survey_Search_Engine&#x27;, &#x27;How_You_Heard_About_Survey_Usenet_News&#x27;, &#x27;How_You_Heard_About_Survey_WWW_Page&#x27;, &#x27;Not_Purchasing_Bad_experience&#x27;, &#x27;Not_Purchasing_Bad_press&#x27;, &#x27;Not_Purchasing_Cant_find&#x27;, &#x27;Not_Purchasing_Company_policy&#x27;, &#x27;Not_Purchasing_Easier_locally&#x27;, &#x27;Not_Purchasing_Enough_info&#x27;, &#x27;Not_Purchasing_Judge_quality&#x27;, &#x27;Not_Purchasing_Never_tried&#x27;, &#x27;Not_Purchasing_No_credit&#x27;, &#x27;Not_Purchasing_Not_applicable&#x27;, &#x27;Not_Purchasing_Not_option&#x27;, &#x27;Not_Purchasing_Other&#x27;, &#x27;Not_Purchasing_Prefer_people&#x27;, &#x27;Not_Purchasing_Privacy&#x27;, &#x27;Not_Purchasing_Receipt&#x27;, &#x27;Not_Purchasing_Security&#x27;, &#x27;Not_Purchasing_Too_complicated&#x27;, &#x27;Not_Purchasing_Uncomfortable&#x27;, &#x27;Not_Purchasing_Unfamiliar_vendor&#x27;, &#x27;Who_Pays_for_Access_Dont_Know&#x27;, &#x27;Who_Pays_for_Access_Other&#x27;, &#x27;Who_Pays_for_Access_Parents&#x27;, &#x27;Who_Pays_for_Access_School&#x27;, &#x27;Who_Pays_for_Access_Self&#x27;]</pre></div></div></div><div class=\"sk-serial\"><div class=\"sk-item\"><div class=\"sk-serial\"><div class=\"sk-item\"><div class=\"sk-estimator sk-toggleable\"><input class=\"sk-toggleable__control sk-hidden--visually\" id=\"sk-estimator-id-492\" type=\"checkbox\" ><label for=\"sk-estimator-id-492\" class=\"sk-toggleable__label sk-toggleable__label-arrow\">SimpleImputer</label><div class=\"sk-toggleable__content\"><pre>SimpleImputer(strategy=&#x27;median&#x27;)</pre></div></div></div></div></div></div></div></div><div class=\"sk-parallel-item\"><div class=\"sk-item\"><div class=\"sk-label-container\"><div class=\"sk-label sk-toggleable\"><input class=\"sk-toggleable__control sk-hidden--visually\" id=\"sk-estimator-id-493\" type=\"checkbox\" ><label for=\"sk-estimator-id-493\" class=\"sk-toggleable__label sk-toggleable__label-arrow\">count_encoder</label><div class=\"sk-toggleable__content\"><pre>[&#x27;Actual_Time&#x27;, &#x27;Country&#x27;, &#x27;Major_Geographical_Location&#x27;, &#x27;Primary_Computing_Platform&#x27;, &#x27;Primary_Language&#x27;]</pre></div></div></div><div class=\"sk-serial\"><div class=\"sk-item\"><div class=\"sk-serial\"><div class=\"sk-item\"><div class=\"sk-estimator sk-toggleable\"><input class=\"sk-toggleable__control sk-hidden--visually\" id=\"sk-estimator-id-494\" type=\"checkbox\" ><label for=\"sk-estimator-id-494\" class=\"sk-toggleable__label sk-toggleable__label-arrow\">SimpleImputer</label><div class=\"sk-toggleable__content\"><pre>SimpleImputer(strategy=&#x27;most_frequent&#x27;)</pre></div></div></div><div class=\"sk-item\"><div class=\"sk-estimator sk-toggleable\"><input class=\"sk-toggleable__control sk-hidden--visually\" id=\"sk-estimator-id-495\" type=\"checkbox\" ><label for=\"sk-estimator-id-495\" class=\"sk-toggleable__label sk-toggleable__label-arrow\">CountEncoder</label><div class=\"sk-toggleable__content\"><pre>CountEncoder(combine_min_nan_groups=True)</pre></div></div></div></div></div></div></div></div><div class=\"sk-parallel-item\"><div class=\"sk-item\"><div class=\"sk-label-container\"><div class=\"sk-label sk-toggleable\"><input class=\"sk-toggleable__control sk-hidden--visually\" id=\"sk-estimator-id-496\" type=\"checkbox\" ><label for=\"sk-estimator-id-496\" class=\"sk-toggleable__label sk-toggleable__label-arrow\">one_hot_encoding</label><div class=\"sk-toggleable__content\"><pre>[&#x27;Community_Building&#x27;, &#x27;Education_Attainment&#x27;, &#x27;Falsification_of_Information&#x27;, &#x27;Household_Income&#x27;, &#x27;Major_Occupation&#x27;, &#x27;Marital_Status&#x27;, &#x27;Most_Import_Issue_Facing_the_Internet&#x27;, &#x27;Opinions_on_Censorship&#x27;, &#x27;Primary_Place_of_WWW_Access&#x27;, &#x27;Race&#x27;, &#x27;Registered_to_Vote&#x27;, &#x27;Sexual_Preference&#x27;, &#x27;Web_Ordering&#x27;, &#x27;Web_Page_Creation&#x27;]</pre></div></div></div><div class=\"sk-serial\"><div class=\"sk-item\"><div class=\"sk-serial\"><div class=\"sk-item\"><div class=\"sk-estimator sk-toggleable\"><input class=\"sk-toggleable__control sk-hidden--visually\" id=\"sk-estimator-id-497\" type=\"checkbox\" ><label for=\"sk-estimator-id-497\" class=\"sk-toggleable__label sk-toggleable__label-arrow\">SimpleImputer</label><div class=\"sk-toggleable__content\"><pre>SimpleImputer(strategy=&#x27;most_frequent&#x27;)</pre></div></div></div><div class=\"sk-item\"><div class=\"sk-estimator sk-toggleable\"><input class=\"sk-toggleable__control sk-hidden--visually\" id=\"sk-estimator-id-498\" type=\"checkbox\" ><label for=\"sk-estimator-id-498\" class=\"sk-toggleable__label sk-toggleable__label-arrow\">OneHotEncoder</label><div class=\"sk-toggleable__content\"><pre>OneHotEncoder(drop=&#x27;first&#x27;, handle_unknown=&#x27;ignore&#x27;)</pre></div></div></div></div></div></div></div></div></div></div><div class=\"sk-item\"><div class=\"sk-estimator sk-toggleable\"><input class=\"sk-toggleable__control sk-hidden--visually\" id=\"sk-estimator-id-499\" type=\"checkbox\" ><label for=\"sk-estimator-id-499\" class=\"sk-toggleable__label sk-toggleable__label-arrow\">HistGradientBoostingClassifier</label><div class=\"sk-toggleable__content\"><pre>HistGradientBoostingClassifier(class_weight=&#x27;balanced&#x27;, early_stopping=False,\n",
       "                               min_samples_leaf=30, random_state=1234,\n",
       "                               scoring=&#x27;balanced_accuracy&#x27;)</pre></div></div></div></div></div></div></div>"
      ],
      "text/plain": [
       "Pipeline(steps=[('preprocessing',\n",
       "                 ColumnTransformer(sparse_threshold=0,\n",
       "                                   transformers=[('num',\n",
       "                                                  Pipeline(steps=[('imputer',\n",
       "                                                                   SimpleImputer(strategy='median'))]),\n",
       "                                                  ['Community_Membership_Family',\n",
       "                                                   'Community_Membership_Hobbies',\n",
       "                                                   'Community_Membership_None',\n",
       "                                                   'Community_Membership_Other',\n",
       "                                                   'Community_Membership_Political',\n",
       "                                                   'Community_Membership_Professional',\n",
       "                                                   'Communi...\n",
       "                                                   'Marital_Status',\n",
       "                                                   'Most_Import_Issue_Facing_the_Internet',\n",
       "                                                   'Opinions_on_Censorship',\n",
       "                                                   'Primary_Place_of_WWW_Access',\n",
       "                                                   'Race', 'Registered_to_Vote',\n",
       "                                                   'Sexual_Preference',\n",
       "                                                   'Web_Ordering',\n",
       "                                                   'Web_Page_Creation'])])),\n",
       "                ('model',\n",
       "                 HistGradientBoostingClassifier(class_weight='balanced',\n",
       "                                                early_stopping=False,\n",
       "                                                min_samples_leaf=30,\n",
       "                                                random_state=1234,\n",
       "                                                scoring='balanced_accuracy'))])"
      ]
     },
     "execution_count": 446,
     "metadata": {},
     "output_type": "execute_result"
    }
   ],
   "source": [
    "# Display pipeline\n",
    "print(\"Time taken: \", count_hgb_default9_time_taken)\n",
    "count_hgb_default9"
   ]
  },
  {
   "cell_type": "code",
   "execution_count": 447,
   "id": "513c585e",
   "metadata": {},
   "outputs": [
    {
     "name": "stdout",
     "output_type": "stream",
     "text": [
      "Balanced accuracy with default parameters: 0.8855734045667447\n"
     ]
    }
   ],
   "source": [
    "# Calculate balanced accuracy for the model with default parameters\n",
    "y_count_hgb_default_pred = count_hgb_default.predict(X_test)\n",
    "count_hgb_default_accuracy = balanced_accuracy_score(y_test, y_count_hgb_default_pred)\n",
    "print(f'Balanced accuracy with default parameters: {count_hgb_default_accuracy}')\n",
    "\n",
    "# Save results\n",
    "default_summary.append(\"Default\")\n",
    "card_9_summary.append(\"AllVariables\")\n",
    "encoder_summary.append(\"CountEncoding\")\n",
    "value_summary.append(count_hgb_default_accuracy)\n",
    "time_summary.append(count_hgb_default_time_taken)\n",
    "n_models_summary.append(1)"
   ]
  },
  {
   "cell_type": "code",
   "execution_count": 448,
   "id": "9d97deb1",
   "metadata": {},
   "outputs": [
    {
     "name": "stdout",
     "output_type": "stream",
     "text": [
      "Balanced accuracy with default parameters: 0.8848104508196721\n"
     ]
    }
   ],
   "source": [
    "# Calculate balanced accuracy for the model with default parameters\n",
    "y_count_hgb_default_pred9 = count_hgb_default9.predict(X_test)\n",
    "count_hgb_default_accuracy9 = balanced_accuracy_score(y_test, y_count_hgb_default_pred9)\n",
    "print(f'Balanced accuracy with default parameters: {count_hgb_default_accuracy9}')\n",
    "\n",
    "# Save results\n",
    "default_summary.append(\"Default\")\n",
    "card_9_summary.append(\"OnlyVariablesWithCard>9\")\n",
    "encoder_summary.append(\"CountEncoding\")\n",
    "value_summary.append(count_hgb_default_accuracy9)\n",
    "time_summary.append(count_hgb_default9_time_taken)\n",
    "n_models_summary.append(1)"
   ]
  },
  {
   "cell_type": "markdown",
   "id": "5535ba26",
   "metadata": {},
   "source": [
    "#### Create a HistGradientBoostingClassifier model for tuning"
   ]
  },
  {
   "cell_type": "code",
   "execution_count": 449,
   "id": "3449fd82",
   "metadata": {},
   "outputs": [],
   "source": [
    "count_hgb_tune = RandomizedSearchCV(estimator = count_hgb_default_pipeline, \n",
    "                                   param_distributions = param_distributions, \n",
    "                                   n_iter = 20,\n",
    "                                   cv = stratified_kfold,\n",
    "                                   scoring = 'balanced_accuracy', \n",
    "                                   random_state = 1234,\n",
    "                                   n_jobs = -1)\n",
    "\n",
    "count_hgb_tune9 = RandomizedSearchCV(estimator = count_hgb_default_pipeline9, \n",
    "                                     param_distributions = param_distributions, \n",
    "                                     n_iter = 20,\n",
    "                                     cv = stratified_kfold,\n",
    "                                     scoring = 'balanced_accuracy', \n",
    "                                     random_state = 1234,\n",
    "                                     n_jobs = -1)"
   ]
  },
  {
   "cell_type": "code",
   "execution_count": 450,
   "id": "0f16c9c0",
   "metadata": {},
   "outputs": [],
   "source": [
    "tic = time.time()\n",
    "\n",
    "count_hgb_tune = count_hgb_tune.fit(X_train, y_train)\n",
    "\n",
    "toc = time.time()\n",
    "count_hgb_tune_time_taken = toc-tic"
   ]
  },
  {
   "cell_type": "code",
   "execution_count": 451,
   "metadata": {},
   "outputs": [
    {
     "name": "stdout",
     "output_type": "stream",
     "text": [
      "Time taken:  25.306138277053833\n"
     ]
    },
    {
     "data": {
      "text/html": [
       "<style>#sk-container-id-53 {color: black;}#sk-container-id-53 pre{padding: 0;}#sk-container-id-53 div.sk-toggleable {background-color: white;}#sk-container-id-53 label.sk-toggleable__label {cursor: pointer;display: block;width: 100%;margin-bottom: 0;padding: 0.3em;box-sizing: border-box;text-align: center;}#sk-container-id-53 label.sk-toggleable__label-arrow:before {content: \"▸\";float: left;margin-right: 0.25em;color: #696969;}#sk-container-id-53 label.sk-toggleable__label-arrow:hover:before {color: black;}#sk-container-id-53 div.sk-estimator:hover label.sk-toggleable__label-arrow:before {color: black;}#sk-container-id-53 div.sk-toggleable__content {max-height: 0;max-width: 0;overflow: hidden;text-align: left;background-color: #f0f8ff;}#sk-container-id-53 div.sk-toggleable__content pre {margin: 0.2em;color: black;border-radius: 0.25em;background-color: #f0f8ff;}#sk-container-id-53 input.sk-toggleable__control:checked~div.sk-toggleable__content {max-height: 200px;max-width: 100%;overflow: auto;}#sk-container-id-53 input.sk-toggleable__control:checked~label.sk-toggleable__label-arrow:before {content: \"▾\";}#sk-container-id-53 div.sk-estimator input.sk-toggleable__control:checked~label.sk-toggleable__label {background-color: #d4ebff;}#sk-container-id-53 div.sk-label input.sk-toggleable__control:checked~label.sk-toggleable__label {background-color: #d4ebff;}#sk-container-id-53 input.sk-hidden--visually {border: 0;clip: rect(1px 1px 1px 1px);clip: rect(1px, 1px, 1px, 1px);height: 1px;margin: -1px;overflow: hidden;padding: 0;position: absolute;width: 1px;}#sk-container-id-53 div.sk-estimator {font-family: monospace;background-color: #f0f8ff;border: 1px dotted black;border-radius: 0.25em;box-sizing: border-box;margin-bottom: 0.5em;}#sk-container-id-53 div.sk-estimator:hover {background-color: #d4ebff;}#sk-container-id-53 div.sk-parallel-item::after {content: \"\";width: 100%;border-bottom: 1px solid gray;flex-grow: 1;}#sk-container-id-53 div.sk-label:hover label.sk-toggleable__label {background-color: #d4ebff;}#sk-container-id-53 div.sk-serial::before {content: \"\";position: absolute;border-left: 1px solid gray;box-sizing: border-box;top: 0;bottom: 0;left: 50%;z-index: 0;}#sk-container-id-53 div.sk-serial {display: flex;flex-direction: column;align-items: center;background-color: white;padding-right: 0.2em;padding-left: 0.2em;position: relative;}#sk-container-id-53 div.sk-item {position: relative;z-index: 1;}#sk-container-id-53 div.sk-parallel {display: flex;align-items: stretch;justify-content: center;background-color: white;position: relative;}#sk-container-id-53 div.sk-item::before, #sk-container-id-53 div.sk-parallel-item::before {content: \"\";position: absolute;border-left: 1px solid gray;box-sizing: border-box;top: 0;bottom: 0;left: 50%;z-index: -1;}#sk-container-id-53 div.sk-parallel-item {display: flex;flex-direction: column;z-index: 1;position: relative;background-color: white;}#sk-container-id-53 div.sk-parallel-item:first-child::after {align-self: flex-end;width: 50%;}#sk-container-id-53 div.sk-parallel-item:last-child::after {align-self: flex-start;width: 50%;}#sk-container-id-53 div.sk-parallel-item:only-child::after {width: 0;}#sk-container-id-53 div.sk-dashed-wrapped {border: 1px dashed gray;margin: 0 0.4em 0.5em 0.4em;box-sizing: border-box;padding-bottom: 0.4em;background-color: white;}#sk-container-id-53 div.sk-label label {font-family: monospace;font-weight: bold;display: inline-block;line-height: 1.2em;}#sk-container-id-53 div.sk-label-container {text-align: center;}#sk-container-id-53 div.sk-container {/* jupyter's `normalize.less` sets `[hidden] { display: none; }` but bootstrap.min.css set `[hidden] { display: none !important; }` so we also need the `!important` here to be able to override the default hidden behavior on the sphinx rendered scikit-learn.org. See: https://github.com/scikit-learn/scikit-learn/issues/21755 */display: inline-block !important;position: relative;}#sk-container-id-53 div.sk-text-repr-fallback {display: none;}</style><div id=\"sk-container-id-53\" class=\"sk-top-container\"><div class=\"sk-text-repr-fallback\"><pre>RandomizedSearchCV(cv=StratifiedKFold(n_splits=3, random_state=1234, shuffle=True),\n",
       "                   estimator=Pipeline(steps=[(&#x27;preprocessing&#x27;,\n",
       "                                              ColumnTransformer(sparse_threshold=0,\n",
       "                                                                transformers=[(&#x27;num&#x27;,\n",
       "                                                                               Pipeline(steps=[(&#x27;imputer&#x27;,\n",
       "                                                                                                SimpleImputer(strategy=&#x27;median&#x27;))]),\n",
       "                                                                               [&#x27;Community_Membership_Family&#x27;,\n",
       "                                                                                &#x27;Community_Membership_Hobbies&#x27;,\n",
       "                                                                                &#x27;Community_Membership_None&#x27;,\n",
       "                                                                                &#x27;Community_Memb...\n",
       "                   param_distributions={&#x27;model__learning_rate&#x27;: &lt;scipy.stats._distn_infrastructure.rv_continuous_frozen object at 0x000001CDE78041C0&gt;,\n",
       "                                        &#x27;model__max_iter&#x27;: &lt;scipy.stats._distn_infrastructure.rv_discrete_frozen object at 0x000001CDE7808100&gt;,\n",
       "                                        &#x27;model__min_samples_leaf&#x27;: &lt;scipy.stats._distn_infrastructure.rv_discrete_frozen object at 0x000001CDE77F4430&gt;},\n",
       "                   random_state=1234, scoring=&#x27;balanced_accuracy&#x27;)</pre><b>In a Jupyter environment, please rerun this cell to show the HTML representation or trust the notebook. <br />On GitHub, the HTML representation is unable to render, please try loading this page with nbviewer.org.</b></div><div class=\"sk-container\" hidden><div class=\"sk-item sk-dashed-wrapped\"><div class=\"sk-label-container\"><div class=\"sk-label sk-toggleable\"><input class=\"sk-toggleable__control sk-hidden--visually\" id=\"sk-estimator-id-500\" type=\"checkbox\" ><label for=\"sk-estimator-id-500\" class=\"sk-toggleable__label sk-toggleable__label-arrow\">RandomizedSearchCV</label><div class=\"sk-toggleable__content\"><pre>RandomizedSearchCV(cv=StratifiedKFold(n_splits=3, random_state=1234, shuffle=True),\n",
       "                   estimator=Pipeline(steps=[(&#x27;preprocessing&#x27;,\n",
       "                                              ColumnTransformer(sparse_threshold=0,\n",
       "                                                                transformers=[(&#x27;num&#x27;,\n",
       "                                                                               Pipeline(steps=[(&#x27;imputer&#x27;,\n",
       "                                                                                                SimpleImputer(strategy=&#x27;median&#x27;))]),\n",
       "                                                                               [&#x27;Community_Membership_Family&#x27;,\n",
       "                                                                                &#x27;Community_Membership_Hobbies&#x27;,\n",
       "                                                                                &#x27;Community_Membership_None&#x27;,\n",
       "                                                                                &#x27;Community_Memb...\n",
       "                   param_distributions={&#x27;model__learning_rate&#x27;: &lt;scipy.stats._distn_infrastructure.rv_continuous_frozen object at 0x000001CDE78041C0&gt;,\n",
       "                                        &#x27;model__max_iter&#x27;: &lt;scipy.stats._distn_infrastructure.rv_discrete_frozen object at 0x000001CDE7808100&gt;,\n",
       "                                        &#x27;model__min_samples_leaf&#x27;: &lt;scipy.stats._distn_infrastructure.rv_discrete_frozen object at 0x000001CDE77F4430&gt;},\n",
       "                   random_state=1234, scoring=&#x27;balanced_accuracy&#x27;)</pre></div></div></div><div class=\"sk-parallel\"><div class=\"sk-parallel-item\"><div class=\"sk-item\"><div class=\"sk-label-container\"><div class=\"sk-label sk-toggleable\"><input class=\"sk-toggleable__control sk-hidden--visually\" id=\"sk-estimator-id-501\" type=\"checkbox\" ><label for=\"sk-estimator-id-501\" class=\"sk-toggleable__label sk-toggleable__label-arrow\">estimator: Pipeline</label><div class=\"sk-toggleable__content\"><pre>Pipeline(steps=[(&#x27;preprocessing&#x27;,\n",
       "                 ColumnTransformer(sparse_threshold=0,\n",
       "                                   transformers=[(&#x27;num&#x27;,\n",
       "                                                  Pipeline(steps=[(&#x27;imputer&#x27;,\n",
       "                                                                   SimpleImputer(strategy=&#x27;median&#x27;))]),\n",
       "                                                  [&#x27;Community_Membership_Family&#x27;,\n",
       "                                                   &#x27;Community_Membership_Hobbies&#x27;,\n",
       "                                                   &#x27;Community_Membership_None&#x27;,\n",
       "                                                   &#x27;Community_Membership_Other&#x27;,\n",
       "                                                   &#x27;Community_Membership_Political&#x27;,\n",
       "                                                   &#x27;Community_Membership_Professional&#x27;,\n",
       "                                                   &#x27;Communi...\n",
       "                                                   &#x27;Most_Import_Issue_Facing_the_Internet&#x27;,\n",
       "                                                   &#x27;Opinions_on_Censorship&#x27;,\n",
       "                                                   &#x27;Primary_Computing_Platform&#x27;,\n",
       "                                                   &#x27;Primary_Language&#x27;,\n",
       "                                                   &#x27;Primary_Place_of_WWW_Access&#x27;,\n",
       "                                                   &#x27;Race&#x27;, &#x27;Registered_to_Vote&#x27;,\n",
       "                                                   &#x27;Sexual_Preference&#x27;,\n",
       "                                                   &#x27;Web_Ordering&#x27;,\n",
       "                                                   &#x27;Web_Page_Creation&#x27;])])),\n",
       "                (&#x27;model&#x27;,\n",
       "                 HistGradientBoostingClassifier(class_weight=&#x27;balanced&#x27;,\n",
       "                                                early_stopping=False,\n",
       "                                                min_samples_leaf=30,\n",
       "                                                random_state=1234,\n",
       "                                                scoring=&#x27;balanced_accuracy&#x27;))])</pre></div></div></div><div class=\"sk-serial\"><div class=\"sk-item\"><div class=\"sk-serial\"><div class=\"sk-item sk-dashed-wrapped\"><div class=\"sk-label-container\"><div class=\"sk-label sk-toggleable\"><input class=\"sk-toggleable__control sk-hidden--visually\" id=\"sk-estimator-id-502\" type=\"checkbox\" ><label for=\"sk-estimator-id-502\" class=\"sk-toggleable__label sk-toggleable__label-arrow\">preprocessing: ColumnTransformer</label><div class=\"sk-toggleable__content\"><pre>ColumnTransformer(sparse_threshold=0,\n",
       "                  transformers=[(&#x27;num&#x27;,\n",
       "                                 Pipeline(steps=[(&#x27;imputer&#x27;,\n",
       "                                                  SimpleImputer(strategy=&#x27;median&#x27;))]),\n",
       "                                 [&#x27;Community_Membership_Family&#x27;,\n",
       "                                  &#x27;Community_Membership_Hobbies&#x27;,\n",
       "                                  &#x27;Community_Membership_None&#x27;,\n",
       "                                  &#x27;Community_Membership_Other&#x27;,\n",
       "                                  &#x27;Community_Membership_Political&#x27;,\n",
       "                                  &#x27;Community_Membership_Professional&#x27;,\n",
       "                                  &#x27;Community_Membership_Religious&#x27;,\n",
       "                                  &#x27;Communi...\n",
       "                                  &#x27;Country&#x27;, &#x27;Education_Attainment&#x27;,\n",
       "                                  &#x27;Falsification_of_Information&#x27;,\n",
       "                                  &#x27;Household_Income&#x27;,\n",
       "                                  &#x27;Major_Geographical_Location&#x27;,\n",
       "                                  &#x27;Major_Occupation&#x27;, &#x27;Marital_Status&#x27;,\n",
       "                                  &#x27;Most_Import_Issue_Facing_the_Internet&#x27;,\n",
       "                                  &#x27;Opinions_on_Censorship&#x27;,\n",
       "                                  &#x27;Primary_Computing_Platform&#x27;,\n",
       "                                  &#x27;Primary_Language&#x27;,\n",
       "                                  &#x27;Primary_Place_of_WWW_Access&#x27;, &#x27;Race&#x27;,\n",
       "                                  &#x27;Registered_to_Vote&#x27;, &#x27;Sexual_Preference&#x27;,\n",
       "                                  &#x27;Web_Ordering&#x27;, &#x27;Web_Page_Creation&#x27;])])</pre></div></div></div><div class=\"sk-parallel\"><div class=\"sk-parallel-item\"><div class=\"sk-item\"><div class=\"sk-label-container\"><div class=\"sk-label sk-toggleable\"><input class=\"sk-toggleable__control sk-hidden--visually\" id=\"sk-estimator-id-503\" type=\"checkbox\" ><label for=\"sk-estimator-id-503\" class=\"sk-toggleable__label sk-toggleable__label-arrow\">num</label><div class=\"sk-toggleable__content\"><pre>[&#x27;Community_Membership_Family&#x27;, &#x27;Community_Membership_Hobbies&#x27;, &#x27;Community_Membership_None&#x27;, &#x27;Community_Membership_Other&#x27;, &#x27;Community_Membership_Political&#x27;, &#x27;Community_Membership_Professional&#x27;, &#x27;Community_Membership_Religious&#x27;, &#x27;Community_Membership_Support&#x27;, &#x27;Disability_Cognitive&#x27;, &#x27;Disability_Hearing&#x27;, &#x27;Disability_Motor&#x27;, &#x27;Disability_Not_Impaired&#x27;, &#x27;Disability_Not_Say&#x27;, &#x27;Disability_Vision&#x27;, &#x27;Gender&#x27;, &#x27;How_You_Heard_About_Survey_Banner&#x27;, &#x27;How_You_Heard_About_Survey_Friend&#x27;, &#x27;How_You_Heard_About_Survey_Mailing_List&#x27;, &#x27;How_You_Heard_About_Survey_Others&#x27;, &#x27;How_You_Heard_About_Survey_Printed_Media&#x27;, &#x27;How_You_Heard_About_Survey_Remebered&#x27;, &#x27;How_You_Heard_About_Survey_Search_Engine&#x27;, &#x27;How_You_Heard_About_Survey_Usenet_News&#x27;, &#x27;How_You_Heard_About_Survey_WWW_Page&#x27;, &#x27;Not_Purchasing_Bad_experience&#x27;, &#x27;Not_Purchasing_Bad_press&#x27;, &#x27;Not_Purchasing_Cant_find&#x27;, &#x27;Not_Purchasing_Company_policy&#x27;, &#x27;Not_Purchasing_Easier_locally&#x27;, &#x27;Not_Purchasing_Enough_info&#x27;, &#x27;Not_Purchasing_Judge_quality&#x27;, &#x27;Not_Purchasing_Never_tried&#x27;, &#x27;Not_Purchasing_No_credit&#x27;, &#x27;Not_Purchasing_Not_applicable&#x27;, &#x27;Not_Purchasing_Not_option&#x27;, &#x27;Not_Purchasing_Other&#x27;, &#x27;Not_Purchasing_Prefer_people&#x27;, &#x27;Not_Purchasing_Privacy&#x27;, &#x27;Not_Purchasing_Receipt&#x27;, &#x27;Not_Purchasing_Security&#x27;, &#x27;Not_Purchasing_Too_complicated&#x27;, &#x27;Not_Purchasing_Uncomfortable&#x27;, &#x27;Not_Purchasing_Unfamiliar_vendor&#x27;, &#x27;Who_Pays_for_Access_Dont_Know&#x27;, &#x27;Who_Pays_for_Access_Other&#x27;, &#x27;Who_Pays_for_Access_Parents&#x27;, &#x27;Who_Pays_for_Access_School&#x27;, &#x27;Who_Pays_for_Access_Self&#x27;]</pre></div></div></div><div class=\"sk-serial\"><div class=\"sk-item\"><div class=\"sk-serial\"><div class=\"sk-item\"><div class=\"sk-estimator sk-toggleable\"><input class=\"sk-toggleable__control sk-hidden--visually\" id=\"sk-estimator-id-504\" type=\"checkbox\" ><label for=\"sk-estimator-id-504\" class=\"sk-toggleable__label sk-toggleable__label-arrow\">SimpleImputer</label><div class=\"sk-toggleable__content\"><pre>SimpleImputer(strategy=&#x27;median&#x27;)</pre></div></div></div></div></div></div></div></div><div class=\"sk-parallel-item\"><div class=\"sk-item\"><div class=\"sk-label-container\"><div class=\"sk-label sk-toggleable\"><input class=\"sk-toggleable__control sk-hidden--visually\" id=\"sk-estimator-id-505\" type=\"checkbox\" ><label for=\"sk-estimator-id-505\" class=\"sk-toggleable__label sk-toggleable__label-arrow\">count_encoder</label><div class=\"sk-toggleable__content\"><pre>[&#x27;Actual_Time&#x27;, &#x27;Community_Building&#x27;, &#x27;Country&#x27;, &#x27;Education_Attainment&#x27;, &#x27;Falsification_of_Information&#x27;, &#x27;Household_Income&#x27;, &#x27;Major_Geographical_Location&#x27;, &#x27;Major_Occupation&#x27;, &#x27;Marital_Status&#x27;, &#x27;Most_Import_Issue_Facing_the_Internet&#x27;, &#x27;Opinions_on_Censorship&#x27;, &#x27;Primary_Computing_Platform&#x27;, &#x27;Primary_Language&#x27;, &#x27;Primary_Place_of_WWW_Access&#x27;, &#x27;Race&#x27;, &#x27;Registered_to_Vote&#x27;, &#x27;Sexual_Preference&#x27;, &#x27;Web_Ordering&#x27;, &#x27;Web_Page_Creation&#x27;]</pre></div></div></div><div class=\"sk-serial\"><div class=\"sk-item\"><div class=\"sk-serial\"><div class=\"sk-item\"><div class=\"sk-estimator sk-toggleable\"><input class=\"sk-toggleable__control sk-hidden--visually\" id=\"sk-estimator-id-506\" type=\"checkbox\" ><label for=\"sk-estimator-id-506\" class=\"sk-toggleable__label sk-toggleable__label-arrow\">SimpleImputer</label><div class=\"sk-toggleable__content\"><pre>SimpleImputer(strategy=&#x27;most_frequent&#x27;)</pre></div></div></div><div class=\"sk-item\"><div class=\"sk-estimator sk-toggleable\"><input class=\"sk-toggleable__control sk-hidden--visually\" id=\"sk-estimator-id-507\" type=\"checkbox\" ><label for=\"sk-estimator-id-507\" class=\"sk-toggleable__label sk-toggleable__label-arrow\">CountEncoder</label><div class=\"sk-toggleable__content\"><pre>CountEncoder(combine_min_nan_groups=True)</pre></div></div></div></div></div></div></div></div></div></div><div class=\"sk-item\"><div class=\"sk-estimator sk-toggleable\"><input class=\"sk-toggleable__control sk-hidden--visually\" id=\"sk-estimator-id-508\" type=\"checkbox\" ><label for=\"sk-estimator-id-508\" class=\"sk-toggleable__label sk-toggleable__label-arrow\">HistGradientBoostingClassifier</label><div class=\"sk-toggleable__content\"><pre>HistGradientBoostingClassifier(class_weight=&#x27;balanced&#x27;, early_stopping=False,\n",
       "                               min_samples_leaf=30, random_state=1234,\n",
       "                               scoring=&#x27;balanced_accuracy&#x27;)</pre></div></div></div></div></div></div></div></div></div></div></div></div>"
      ],
      "text/plain": [
       "RandomizedSearchCV(cv=StratifiedKFold(n_splits=3, random_state=1234, shuffle=True),\n",
       "                   estimator=Pipeline(steps=[('preprocessing',\n",
       "                                              ColumnTransformer(sparse_threshold=0,\n",
       "                                                                transformers=[('num',\n",
       "                                                                               Pipeline(steps=[('imputer',\n",
       "                                                                                                SimpleImputer(strategy='median'))]),\n",
       "                                                                               ['Community_Membership_Family',\n",
       "                                                                                'Community_Membership_Hobbies',\n",
       "                                                                                'Community_Membership_None',\n",
       "                                                                                'Community_Memb...\n",
       "                   param_distributions={'model__learning_rate': <scipy.stats._distn_infrastructure.rv_continuous_frozen object at 0x000001CDE78041C0>,\n",
       "                                        'model__max_iter': <scipy.stats._distn_infrastructure.rv_discrete_frozen object at 0x000001CDE7808100>,\n",
       "                                        'model__min_samples_leaf': <scipy.stats._distn_infrastructure.rv_discrete_frozen object at 0x000001CDE77F4430>},\n",
       "                   random_state=1234, scoring='balanced_accuracy')"
      ]
     },
     "execution_count": 451,
     "metadata": {},
     "output_type": "execute_result"
    }
   ],
   "source": [
    "# Display pipeline\n",
    "print(\"Time taken: \", count_hgb_tune_time_taken)\n",
    "count_hgb_tune"
   ]
  },
  {
   "cell_type": "code",
   "execution_count": 452,
   "id": "b511e936",
   "metadata": {},
   "outputs": [],
   "source": [
    "tic = time.time()\n",
    "\n",
    "count_hgb_tune9 = count_hgb_tune9.fit(X_train, y_train)\n",
    "\n",
    "toc = time.time()\n",
    "count_hgb_tune9_time_taken = toc-tic"
   ]
  },
  {
   "cell_type": "code",
   "execution_count": 453,
   "metadata": {},
   "outputs": [
    {
     "name": "stdout",
     "output_type": "stream",
     "text": [
      "Time taken:  49.40161085128784\n"
     ]
    },
    {
     "data": {
      "text/html": [
       "<style>#sk-container-id-54 {color: black;}#sk-container-id-54 pre{padding: 0;}#sk-container-id-54 div.sk-toggleable {background-color: white;}#sk-container-id-54 label.sk-toggleable__label {cursor: pointer;display: block;width: 100%;margin-bottom: 0;padding: 0.3em;box-sizing: border-box;text-align: center;}#sk-container-id-54 label.sk-toggleable__label-arrow:before {content: \"▸\";float: left;margin-right: 0.25em;color: #696969;}#sk-container-id-54 label.sk-toggleable__label-arrow:hover:before {color: black;}#sk-container-id-54 div.sk-estimator:hover label.sk-toggleable__label-arrow:before {color: black;}#sk-container-id-54 div.sk-toggleable__content {max-height: 0;max-width: 0;overflow: hidden;text-align: left;background-color: #f0f8ff;}#sk-container-id-54 div.sk-toggleable__content pre {margin: 0.2em;color: black;border-radius: 0.25em;background-color: #f0f8ff;}#sk-container-id-54 input.sk-toggleable__control:checked~div.sk-toggleable__content {max-height: 200px;max-width: 100%;overflow: auto;}#sk-container-id-54 input.sk-toggleable__control:checked~label.sk-toggleable__label-arrow:before {content: \"▾\";}#sk-container-id-54 div.sk-estimator input.sk-toggleable__control:checked~label.sk-toggleable__label {background-color: #d4ebff;}#sk-container-id-54 div.sk-label input.sk-toggleable__control:checked~label.sk-toggleable__label {background-color: #d4ebff;}#sk-container-id-54 input.sk-hidden--visually {border: 0;clip: rect(1px 1px 1px 1px);clip: rect(1px, 1px, 1px, 1px);height: 1px;margin: -1px;overflow: hidden;padding: 0;position: absolute;width: 1px;}#sk-container-id-54 div.sk-estimator {font-family: monospace;background-color: #f0f8ff;border: 1px dotted black;border-radius: 0.25em;box-sizing: border-box;margin-bottom: 0.5em;}#sk-container-id-54 div.sk-estimator:hover {background-color: #d4ebff;}#sk-container-id-54 div.sk-parallel-item::after {content: \"\";width: 100%;border-bottom: 1px solid gray;flex-grow: 1;}#sk-container-id-54 div.sk-label:hover label.sk-toggleable__label {background-color: #d4ebff;}#sk-container-id-54 div.sk-serial::before {content: \"\";position: absolute;border-left: 1px solid gray;box-sizing: border-box;top: 0;bottom: 0;left: 50%;z-index: 0;}#sk-container-id-54 div.sk-serial {display: flex;flex-direction: column;align-items: center;background-color: white;padding-right: 0.2em;padding-left: 0.2em;position: relative;}#sk-container-id-54 div.sk-item {position: relative;z-index: 1;}#sk-container-id-54 div.sk-parallel {display: flex;align-items: stretch;justify-content: center;background-color: white;position: relative;}#sk-container-id-54 div.sk-item::before, #sk-container-id-54 div.sk-parallel-item::before {content: \"\";position: absolute;border-left: 1px solid gray;box-sizing: border-box;top: 0;bottom: 0;left: 50%;z-index: -1;}#sk-container-id-54 div.sk-parallel-item {display: flex;flex-direction: column;z-index: 1;position: relative;background-color: white;}#sk-container-id-54 div.sk-parallel-item:first-child::after {align-self: flex-end;width: 50%;}#sk-container-id-54 div.sk-parallel-item:last-child::after {align-self: flex-start;width: 50%;}#sk-container-id-54 div.sk-parallel-item:only-child::after {width: 0;}#sk-container-id-54 div.sk-dashed-wrapped {border: 1px dashed gray;margin: 0 0.4em 0.5em 0.4em;box-sizing: border-box;padding-bottom: 0.4em;background-color: white;}#sk-container-id-54 div.sk-label label {font-family: monospace;font-weight: bold;display: inline-block;line-height: 1.2em;}#sk-container-id-54 div.sk-label-container {text-align: center;}#sk-container-id-54 div.sk-container {/* jupyter's `normalize.less` sets `[hidden] { display: none; }` but bootstrap.min.css set `[hidden] { display: none !important; }` so we also need the `!important` here to be able to override the default hidden behavior on the sphinx rendered scikit-learn.org. See: https://github.com/scikit-learn/scikit-learn/issues/21755 */display: inline-block !important;position: relative;}#sk-container-id-54 div.sk-text-repr-fallback {display: none;}</style><div id=\"sk-container-id-54\" class=\"sk-top-container\"><div class=\"sk-text-repr-fallback\"><pre>RandomizedSearchCV(cv=StratifiedKFold(n_splits=3, random_state=1234, shuffle=True),\n",
       "                   estimator=Pipeline(steps=[(&#x27;preprocessing&#x27;,\n",
       "                                              ColumnTransformer(sparse_threshold=0,\n",
       "                                                                transformers=[(&#x27;num&#x27;,\n",
       "                                                                               Pipeline(steps=[(&#x27;imputer&#x27;,\n",
       "                                                                                                SimpleImputer(strategy=&#x27;median&#x27;))]),\n",
       "                                                                               [&#x27;Community_Membership_Family&#x27;,\n",
       "                                                                                &#x27;Community_Membership_Hobbies&#x27;,\n",
       "                                                                                &#x27;Community_Membership_None&#x27;,\n",
       "                                                                                &#x27;Community_Memb...\n",
       "                   param_distributions={&#x27;model__learning_rate&#x27;: &lt;scipy.stats._distn_infrastructure.rv_continuous_frozen object at 0x000001CDE78041C0&gt;,\n",
       "                                        &#x27;model__max_iter&#x27;: &lt;scipy.stats._distn_infrastructure.rv_discrete_frozen object at 0x000001CDE7808100&gt;,\n",
       "                                        &#x27;model__min_samples_leaf&#x27;: &lt;scipy.stats._distn_infrastructure.rv_discrete_frozen object at 0x000001CDE77F4430&gt;},\n",
       "                   random_state=1234, scoring=&#x27;balanced_accuracy&#x27;)</pre><b>In a Jupyter environment, please rerun this cell to show the HTML representation or trust the notebook. <br />On GitHub, the HTML representation is unable to render, please try loading this page with nbviewer.org.</b></div><div class=\"sk-container\" hidden><div class=\"sk-item sk-dashed-wrapped\"><div class=\"sk-label-container\"><div class=\"sk-label sk-toggleable\"><input class=\"sk-toggleable__control sk-hidden--visually\" id=\"sk-estimator-id-509\" type=\"checkbox\" ><label for=\"sk-estimator-id-509\" class=\"sk-toggleable__label sk-toggleable__label-arrow\">RandomizedSearchCV</label><div class=\"sk-toggleable__content\"><pre>RandomizedSearchCV(cv=StratifiedKFold(n_splits=3, random_state=1234, shuffle=True),\n",
       "                   estimator=Pipeline(steps=[(&#x27;preprocessing&#x27;,\n",
       "                                              ColumnTransformer(sparse_threshold=0,\n",
       "                                                                transformers=[(&#x27;num&#x27;,\n",
       "                                                                               Pipeline(steps=[(&#x27;imputer&#x27;,\n",
       "                                                                                                SimpleImputer(strategy=&#x27;median&#x27;))]),\n",
       "                                                                               [&#x27;Community_Membership_Family&#x27;,\n",
       "                                                                                &#x27;Community_Membership_Hobbies&#x27;,\n",
       "                                                                                &#x27;Community_Membership_None&#x27;,\n",
       "                                                                                &#x27;Community_Memb...\n",
       "                   param_distributions={&#x27;model__learning_rate&#x27;: &lt;scipy.stats._distn_infrastructure.rv_continuous_frozen object at 0x000001CDE78041C0&gt;,\n",
       "                                        &#x27;model__max_iter&#x27;: &lt;scipy.stats._distn_infrastructure.rv_discrete_frozen object at 0x000001CDE7808100&gt;,\n",
       "                                        &#x27;model__min_samples_leaf&#x27;: &lt;scipy.stats._distn_infrastructure.rv_discrete_frozen object at 0x000001CDE77F4430&gt;},\n",
       "                   random_state=1234, scoring=&#x27;balanced_accuracy&#x27;)</pre></div></div></div><div class=\"sk-parallel\"><div class=\"sk-parallel-item\"><div class=\"sk-item\"><div class=\"sk-label-container\"><div class=\"sk-label sk-toggleable\"><input class=\"sk-toggleable__control sk-hidden--visually\" id=\"sk-estimator-id-510\" type=\"checkbox\" ><label for=\"sk-estimator-id-510\" class=\"sk-toggleable__label sk-toggleable__label-arrow\">estimator: Pipeline</label><div class=\"sk-toggleable__content\"><pre>Pipeline(steps=[(&#x27;preprocessing&#x27;,\n",
       "                 ColumnTransformer(sparse_threshold=0,\n",
       "                                   transformers=[(&#x27;num&#x27;,\n",
       "                                                  Pipeline(steps=[(&#x27;imputer&#x27;,\n",
       "                                                                   SimpleImputer(strategy=&#x27;median&#x27;))]),\n",
       "                                                  [&#x27;Community_Membership_Family&#x27;,\n",
       "                                                   &#x27;Community_Membership_Hobbies&#x27;,\n",
       "                                                   &#x27;Community_Membership_None&#x27;,\n",
       "                                                   &#x27;Community_Membership_Other&#x27;,\n",
       "                                                   &#x27;Community_Membership_Political&#x27;,\n",
       "                                                   &#x27;Community_Membership_Professional&#x27;,\n",
       "                                                   &#x27;Communi...\n",
       "                                                   &#x27;Marital_Status&#x27;,\n",
       "                                                   &#x27;Most_Import_Issue_Facing_the_Internet&#x27;,\n",
       "                                                   &#x27;Opinions_on_Censorship&#x27;,\n",
       "                                                   &#x27;Primary_Place_of_WWW_Access&#x27;,\n",
       "                                                   &#x27;Race&#x27;, &#x27;Registered_to_Vote&#x27;,\n",
       "                                                   &#x27;Sexual_Preference&#x27;,\n",
       "                                                   &#x27;Web_Ordering&#x27;,\n",
       "                                                   &#x27;Web_Page_Creation&#x27;])])),\n",
       "                (&#x27;model&#x27;,\n",
       "                 HistGradientBoostingClassifier(class_weight=&#x27;balanced&#x27;,\n",
       "                                                early_stopping=False,\n",
       "                                                min_samples_leaf=30,\n",
       "                                                random_state=1234,\n",
       "                                                scoring=&#x27;balanced_accuracy&#x27;))])</pre></div></div></div><div class=\"sk-serial\"><div class=\"sk-item\"><div class=\"sk-serial\"><div class=\"sk-item sk-dashed-wrapped\"><div class=\"sk-label-container\"><div class=\"sk-label sk-toggleable\"><input class=\"sk-toggleable__control sk-hidden--visually\" id=\"sk-estimator-id-511\" type=\"checkbox\" ><label for=\"sk-estimator-id-511\" class=\"sk-toggleable__label sk-toggleable__label-arrow\">preprocessing: ColumnTransformer</label><div class=\"sk-toggleable__content\"><pre>ColumnTransformer(sparse_threshold=0,\n",
       "                  transformers=[(&#x27;num&#x27;,\n",
       "                                 Pipeline(steps=[(&#x27;imputer&#x27;,\n",
       "                                                  SimpleImputer(strategy=&#x27;median&#x27;))]),\n",
       "                                 [&#x27;Community_Membership_Family&#x27;,\n",
       "                                  &#x27;Community_Membership_Hobbies&#x27;,\n",
       "                                  &#x27;Community_Membership_None&#x27;,\n",
       "                                  &#x27;Community_Membership_Other&#x27;,\n",
       "                                  &#x27;Community_Membership_Political&#x27;,\n",
       "                                  &#x27;Community_Membership_Professional&#x27;,\n",
       "                                  &#x27;Community_Membership_Religious&#x27;,\n",
       "                                  &#x27;Communi...\n",
       "                                                  OneHotEncoder(drop=&#x27;first&#x27;,\n",
       "                                                                handle_unknown=&#x27;ignore&#x27;))]),\n",
       "                                 [&#x27;Community_Building&#x27;, &#x27;Education_Attainment&#x27;,\n",
       "                                  &#x27;Falsification_of_Information&#x27;,\n",
       "                                  &#x27;Household_Income&#x27;, &#x27;Major_Occupation&#x27;,\n",
       "                                  &#x27;Marital_Status&#x27;,\n",
       "                                  &#x27;Most_Import_Issue_Facing_the_Internet&#x27;,\n",
       "                                  &#x27;Opinions_on_Censorship&#x27;,\n",
       "                                  &#x27;Primary_Place_of_WWW_Access&#x27;, &#x27;Race&#x27;,\n",
       "                                  &#x27;Registered_to_Vote&#x27;, &#x27;Sexual_Preference&#x27;,\n",
       "                                  &#x27;Web_Ordering&#x27;, &#x27;Web_Page_Creation&#x27;])])</pre></div></div></div><div class=\"sk-parallel\"><div class=\"sk-parallel-item\"><div class=\"sk-item\"><div class=\"sk-label-container\"><div class=\"sk-label sk-toggleable\"><input class=\"sk-toggleable__control sk-hidden--visually\" id=\"sk-estimator-id-512\" type=\"checkbox\" ><label for=\"sk-estimator-id-512\" class=\"sk-toggleable__label sk-toggleable__label-arrow\">num</label><div class=\"sk-toggleable__content\"><pre>[&#x27;Community_Membership_Family&#x27;, &#x27;Community_Membership_Hobbies&#x27;, &#x27;Community_Membership_None&#x27;, &#x27;Community_Membership_Other&#x27;, &#x27;Community_Membership_Political&#x27;, &#x27;Community_Membership_Professional&#x27;, &#x27;Community_Membership_Religious&#x27;, &#x27;Community_Membership_Support&#x27;, &#x27;Disability_Cognitive&#x27;, &#x27;Disability_Hearing&#x27;, &#x27;Disability_Motor&#x27;, &#x27;Disability_Not_Impaired&#x27;, &#x27;Disability_Not_Say&#x27;, &#x27;Disability_Vision&#x27;, &#x27;Gender&#x27;, &#x27;How_You_Heard_About_Survey_Banner&#x27;, &#x27;How_You_Heard_About_Survey_Friend&#x27;, &#x27;How_You_Heard_About_Survey_Mailing_List&#x27;, &#x27;How_You_Heard_About_Survey_Others&#x27;, &#x27;How_You_Heard_About_Survey_Printed_Media&#x27;, &#x27;How_You_Heard_About_Survey_Remebered&#x27;, &#x27;How_You_Heard_About_Survey_Search_Engine&#x27;, &#x27;How_You_Heard_About_Survey_Usenet_News&#x27;, &#x27;How_You_Heard_About_Survey_WWW_Page&#x27;, &#x27;Not_Purchasing_Bad_experience&#x27;, &#x27;Not_Purchasing_Bad_press&#x27;, &#x27;Not_Purchasing_Cant_find&#x27;, &#x27;Not_Purchasing_Company_policy&#x27;, &#x27;Not_Purchasing_Easier_locally&#x27;, &#x27;Not_Purchasing_Enough_info&#x27;, &#x27;Not_Purchasing_Judge_quality&#x27;, &#x27;Not_Purchasing_Never_tried&#x27;, &#x27;Not_Purchasing_No_credit&#x27;, &#x27;Not_Purchasing_Not_applicable&#x27;, &#x27;Not_Purchasing_Not_option&#x27;, &#x27;Not_Purchasing_Other&#x27;, &#x27;Not_Purchasing_Prefer_people&#x27;, &#x27;Not_Purchasing_Privacy&#x27;, &#x27;Not_Purchasing_Receipt&#x27;, &#x27;Not_Purchasing_Security&#x27;, &#x27;Not_Purchasing_Too_complicated&#x27;, &#x27;Not_Purchasing_Uncomfortable&#x27;, &#x27;Not_Purchasing_Unfamiliar_vendor&#x27;, &#x27;Who_Pays_for_Access_Dont_Know&#x27;, &#x27;Who_Pays_for_Access_Other&#x27;, &#x27;Who_Pays_for_Access_Parents&#x27;, &#x27;Who_Pays_for_Access_School&#x27;, &#x27;Who_Pays_for_Access_Self&#x27;]</pre></div></div></div><div class=\"sk-serial\"><div class=\"sk-item\"><div class=\"sk-serial\"><div class=\"sk-item\"><div class=\"sk-estimator sk-toggleable\"><input class=\"sk-toggleable__control sk-hidden--visually\" id=\"sk-estimator-id-513\" type=\"checkbox\" ><label for=\"sk-estimator-id-513\" class=\"sk-toggleable__label sk-toggleable__label-arrow\">SimpleImputer</label><div class=\"sk-toggleable__content\"><pre>SimpleImputer(strategy=&#x27;median&#x27;)</pre></div></div></div></div></div></div></div></div><div class=\"sk-parallel-item\"><div class=\"sk-item\"><div class=\"sk-label-container\"><div class=\"sk-label sk-toggleable\"><input class=\"sk-toggleable__control sk-hidden--visually\" id=\"sk-estimator-id-514\" type=\"checkbox\" ><label for=\"sk-estimator-id-514\" class=\"sk-toggleable__label sk-toggleable__label-arrow\">count_encoder</label><div class=\"sk-toggleable__content\"><pre>[&#x27;Actual_Time&#x27;, &#x27;Country&#x27;, &#x27;Major_Geographical_Location&#x27;, &#x27;Primary_Computing_Platform&#x27;, &#x27;Primary_Language&#x27;]</pre></div></div></div><div class=\"sk-serial\"><div class=\"sk-item\"><div class=\"sk-serial\"><div class=\"sk-item\"><div class=\"sk-estimator sk-toggleable\"><input class=\"sk-toggleable__control sk-hidden--visually\" id=\"sk-estimator-id-515\" type=\"checkbox\" ><label for=\"sk-estimator-id-515\" class=\"sk-toggleable__label sk-toggleable__label-arrow\">SimpleImputer</label><div class=\"sk-toggleable__content\"><pre>SimpleImputer(strategy=&#x27;most_frequent&#x27;)</pre></div></div></div><div class=\"sk-item\"><div class=\"sk-estimator sk-toggleable\"><input class=\"sk-toggleable__control sk-hidden--visually\" id=\"sk-estimator-id-516\" type=\"checkbox\" ><label for=\"sk-estimator-id-516\" class=\"sk-toggleable__label sk-toggleable__label-arrow\">CountEncoder</label><div class=\"sk-toggleable__content\"><pre>CountEncoder(combine_min_nan_groups=True)</pre></div></div></div></div></div></div></div></div><div class=\"sk-parallel-item\"><div class=\"sk-item\"><div class=\"sk-label-container\"><div class=\"sk-label sk-toggleable\"><input class=\"sk-toggleable__control sk-hidden--visually\" id=\"sk-estimator-id-517\" type=\"checkbox\" ><label for=\"sk-estimator-id-517\" class=\"sk-toggleable__label sk-toggleable__label-arrow\">one_hot_encoding</label><div class=\"sk-toggleable__content\"><pre>[&#x27;Community_Building&#x27;, &#x27;Education_Attainment&#x27;, &#x27;Falsification_of_Information&#x27;, &#x27;Household_Income&#x27;, &#x27;Major_Occupation&#x27;, &#x27;Marital_Status&#x27;, &#x27;Most_Import_Issue_Facing_the_Internet&#x27;, &#x27;Opinions_on_Censorship&#x27;, &#x27;Primary_Place_of_WWW_Access&#x27;, &#x27;Race&#x27;, &#x27;Registered_to_Vote&#x27;, &#x27;Sexual_Preference&#x27;, &#x27;Web_Ordering&#x27;, &#x27;Web_Page_Creation&#x27;]</pre></div></div></div><div class=\"sk-serial\"><div class=\"sk-item\"><div class=\"sk-serial\"><div class=\"sk-item\"><div class=\"sk-estimator sk-toggleable\"><input class=\"sk-toggleable__control sk-hidden--visually\" id=\"sk-estimator-id-518\" type=\"checkbox\" ><label for=\"sk-estimator-id-518\" class=\"sk-toggleable__label sk-toggleable__label-arrow\">SimpleImputer</label><div class=\"sk-toggleable__content\"><pre>SimpleImputer(strategy=&#x27;most_frequent&#x27;)</pre></div></div></div><div class=\"sk-item\"><div class=\"sk-estimator sk-toggleable\"><input class=\"sk-toggleable__control sk-hidden--visually\" id=\"sk-estimator-id-519\" type=\"checkbox\" ><label for=\"sk-estimator-id-519\" class=\"sk-toggleable__label sk-toggleable__label-arrow\">OneHotEncoder</label><div class=\"sk-toggleable__content\"><pre>OneHotEncoder(drop=&#x27;first&#x27;, handle_unknown=&#x27;ignore&#x27;)</pre></div></div></div></div></div></div></div></div></div></div><div class=\"sk-item\"><div class=\"sk-estimator sk-toggleable\"><input class=\"sk-toggleable__control sk-hidden--visually\" id=\"sk-estimator-id-520\" type=\"checkbox\" ><label for=\"sk-estimator-id-520\" class=\"sk-toggleable__label sk-toggleable__label-arrow\">HistGradientBoostingClassifier</label><div class=\"sk-toggleable__content\"><pre>HistGradientBoostingClassifier(class_weight=&#x27;balanced&#x27;, early_stopping=False,\n",
       "                               min_samples_leaf=30, random_state=1234,\n",
       "                               scoring=&#x27;balanced_accuracy&#x27;)</pre></div></div></div></div></div></div></div></div></div></div></div></div>"
      ],
      "text/plain": [
       "RandomizedSearchCV(cv=StratifiedKFold(n_splits=3, random_state=1234, shuffle=True),\n",
       "                   estimator=Pipeline(steps=[('preprocessing',\n",
       "                                              ColumnTransformer(sparse_threshold=0,\n",
       "                                                                transformers=[('num',\n",
       "                                                                               Pipeline(steps=[('imputer',\n",
       "                                                                                                SimpleImputer(strategy='median'))]),\n",
       "                                                                               ['Community_Membership_Family',\n",
       "                                                                                'Community_Membership_Hobbies',\n",
       "                                                                                'Community_Membership_None',\n",
       "                                                                                'Community_Memb...\n",
       "                   param_distributions={'model__learning_rate': <scipy.stats._distn_infrastructure.rv_continuous_frozen object at 0x000001CDE78041C0>,\n",
       "                                        'model__max_iter': <scipy.stats._distn_infrastructure.rv_discrete_frozen object at 0x000001CDE7808100>,\n",
       "                                        'model__min_samples_leaf': <scipy.stats._distn_infrastructure.rv_discrete_frozen object at 0x000001CDE77F4430>},\n",
       "                   random_state=1234, scoring='balanced_accuracy')"
      ]
     },
     "execution_count": 453,
     "metadata": {},
     "output_type": "execute_result"
    }
   ],
   "source": [
    "# Display pipeline\n",
    "print(\"Time taken: \", count_hgb_tune9_time_taken)\n",
    "count_hgb_tune9"
   ]
  },
  {
   "cell_type": "code",
   "execution_count": 454,
   "id": "ef4cf8a9",
   "metadata": {},
   "outputs": [
    {
     "name": "stdout",
     "output_type": "stream",
     "text": [
      "Best parameters: {'model__learning_rate': 0.06745583511366768, 'model__max_iter': 63, 'model__min_samples_leaf': 22}\n",
      "Balanced accuracy with best parameters: 0.8808730971896955\n"
     ]
    }
   ],
   "source": [
    "# Predict using the model with the best parameters\n",
    "y_count_hgb_tune_pred = count_hgb_tune.predict(X_test)\n",
    "\n",
    "# Get the best parameters\n",
    "count_hgb_tune_best_params = count_hgb_tune.best_params_\n",
    "print(f'Best parameters: {count_hgb_tune_best_params}')\n",
    "\n",
    "# Calculate balanced accuracy for the model with the best parameters\n",
    "count_hgb_tune_accuracy = balanced_accuracy_score(y_test, y_count_hgb_tune_pred)\n",
    "print(f'Balanced accuracy with best parameters: {count_hgb_tune_accuracy}')\n",
    "\n",
    "# Save results\n",
    "default_summary.append(\"Tune\")\n",
    "card_9_summary.append(\"AllVariables\")\n",
    "encoder_summary.append(\"CountEncoding\")\n",
    "value_summary.append(count_hgb_tune_accuracy)\n",
    "time_summary.append(count_hgb_tune_time_taken)\n",
    "n_models_summary.append(count_hgb_tune.n_iter)"
   ]
  },
  {
   "cell_type": "code",
   "execution_count": 455,
   "id": "163e71c4",
   "metadata": {},
   "outputs": [
    {
     "name": "stdout",
     "output_type": "stream",
     "text": [
      "Best parameters: {'model__learning_rate': 0.06745583511366768, 'model__max_iter': 63, 'model__min_samples_leaf': 22}\n",
      "Balanced accuracy with best parameters: 0.8860308108899297\n"
     ]
    }
   ],
   "source": [
    "# Predict using the model with the best parameters\n",
    "y_count_hgb_tune_pred9 = count_hgb_tune9.predict(X_test)\n",
    "\n",
    "# Get the best parameters\n",
    "count_hgb_tune_best_params9 = count_hgb_tune9.best_params_\n",
    "print(f'Best parameters: {count_hgb_tune_best_params9}')\n",
    "\n",
    "# Calculate balanced accuracy for the model with the best parameters\n",
    "count_hgb_tune_accuracy9 = balanced_accuracy_score(y_test, y_count_hgb_tune_pred9)\n",
    "print(f'Balanced accuracy with best parameters: {count_hgb_tune_accuracy9}')\n",
    "\n",
    "# Save results\n",
    "default_summary.append(\"Tune\")\n",
    "card_9_summary.append(\"OnlyVariablesWithCard>9\")\n",
    "encoder_summary.append(\"CountEncoding\")\n",
    "value_summary.append(count_hgb_tune_accuracy9)\n",
    "time_summary.append(count_hgb_tune9_time_taken)\n",
    "n_models_summary.append(count_hgb_tune9.n_iter)"
   ]
  },
  {
   "cell_type": "markdown",
   "id": "6dca814d",
   "metadata": {},
   "source": [
    " "
   ]
  },
  {
   "cell_type": "markdown",
   "id": "f3e2a21f",
   "metadata": {},
   "source": [
    "### Ordinal Encoding + HistGradientBoosting"
   ]
  },
  {
   "cell_type": "code",
   "execution_count": 456,
   "id": "578d442a",
   "metadata": {},
   "outputs": [],
   "source": [
    "from sklearn.preprocessing import OrdinalEncoder"
   ]
  },
  {
   "cell_type": "markdown",
   "id": "a82791dc",
   "metadata": {},
   "source": [
    "#### Preprocessing"
   ]
  },
  {
   "cell_type": "code",
   "execution_count": 457,
   "id": "10599c9c",
   "metadata": {},
   "outputs": [],
   "source": [
    "cat_pipeline_more9 = Pipeline([\n",
    "    (\"imputer\", SimpleImputer(strategy = \"most_frequent\")),\n",
    "    (\"encoder\", OrdinalEncoder(dtype = int,\n",
    "                               handle_unknown = 'use_encoded_value',\n",
    "                               unknown_value = 99999,\n",
    "                               encoded_missing_value = 99999))\n",
    "])\n",
    "\n",
    "cat_pipeline_less9 = Pipeline([\n",
    "    (\"imputer\", SimpleImputer(strategy = \"most_frequent\")),\n",
    "    (\"encoder\", OneHotEncoder(drop = \"first\", handle_unknown = \"ignore\"))\n",
    "])\n",
    "\n",
    "preprop_pipeline = ColumnTransformer(\n",
    "    transformers = [(\"num\", num_pipeline, num_cols),\n",
    "                    (\"ordinal_encoder\", cat_pipeline_more9, cat_cols)],\n",
    "    sparse_threshold=0\n",
    ")\n",
    "\n",
    "preprop_pipeline9 = ColumnTransformer(\n",
    "    transformers = [(\"num\", num_pipeline, num_cols),\n",
    "                    (\"ordinal_encoder\", cat_pipeline_more9, cat_cols_more9),\n",
    "                    (\"one_hot_encoding\", cat_pipeline_less9, cat_cols_less9)],\n",
    "    sparse_threshold=0\n",
    ")"
   ]
  },
  {
   "cell_type": "markdown",
   "id": "68e444f8",
   "metadata": {},
   "source": [
    "#### Create a HistGradientBoostingClassifier model with default parameters and early stopping"
   ]
  },
  {
   "cell_type": "code",
   "execution_count": 458,
   "id": "7f301c7f",
   "metadata": {},
   "outputs": [],
   "source": [
    "ordinal_hgb_default_pipeline = Pipeline([('preprocessing', preprop_pipeline),\n",
    "                                       ('model', hgb_default)])\n",
    "\n",
    "ordinal_hgb_default_pipeline9 = Pipeline([('preprocessing', preprop_pipeline9),\n",
    "                                       ('model', hgb_default9)])"
   ]
  },
  {
   "cell_type": "code",
   "execution_count": 459,
   "id": "c9283dd5",
   "metadata": {},
   "outputs": [],
   "source": [
    "tic = time.time()\n",
    "\n",
    "ordinal_hgb_default = ordinal_hgb_default_pipeline.fit(X_train, y_train)\n",
    "\n",
    "toc = time.time()\n",
    "ordinal_hgb_default_time_taken = toc-tic"
   ]
  },
  {
   "cell_type": "code",
   "execution_count": 460,
   "metadata": {},
   "outputs": [
    {
     "name": "stdout",
     "output_type": "stream",
     "text": [
      "Time taken:  0.9352047443389893\n"
     ]
    },
    {
     "data": {
      "text/html": [
       "<style>#sk-container-id-55 {color: black;}#sk-container-id-55 pre{padding: 0;}#sk-container-id-55 div.sk-toggleable {background-color: white;}#sk-container-id-55 label.sk-toggleable__label {cursor: pointer;display: block;width: 100%;margin-bottom: 0;padding: 0.3em;box-sizing: border-box;text-align: center;}#sk-container-id-55 label.sk-toggleable__label-arrow:before {content: \"▸\";float: left;margin-right: 0.25em;color: #696969;}#sk-container-id-55 label.sk-toggleable__label-arrow:hover:before {color: black;}#sk-container-id-55 div.sk-estimator:hover label.sk-toggleable__label-arrow:before {color: black;}#sk-container-id-55 div.sk-toggleable__content {max-height: 0;max-width: 0;overflow: hidden;text-align: left;background-color: #f0f8ff;}#sk-container-id-55 div.sk-toggleable__content pre {margin: 0.2em;color: black;border-radius: 0.25em;background-color: #f0f8ff;}#sk-container-id-55 input.sk-toggleable__control:checked~div.sk-toggleable__content {max-height: 200px;max-width: 100%;overflow: auto;}#sk-container-id-55 input.sk-toggleable__control:checked~label.sk-toggleable__label-arrow:before {content: \"▾\";}#sk-container-id-55 div.sk-estimator input.sk-toggleable__control:checked~label.sk-toggleable__label {background-color: #d4ebff;}#sk-container-id-55 div.sk-label input.sk-toggleable__control:checked~label.sk-toggleable__label {background-color: #d4ebff;}#sk-container-id-55 input.sk-hidden--visually {border: 0;clip: rect(1px 1px 1px 1px);clip: rect(1px, 1px, 1px, 1px);height: 1px;margin: -1px;overflow: hidden;padding: 0;position: absolute;width: 1px;}#sk-container-id-55 div.sk-estimator {font-family: monospace;background-color: #f0f8ff;border: 1px dotted black;border-radius: 0.25em;box-sizing: border-box;margin-bottom: 0.5em;}#sk-container-id-55 div.sk-estimator:hover {background-color: #d4ebff;}#sk-container-id-55 div.sk-parallel-item::after {content: \"\";width: 100%;border-bottom: 1px solid gray;flex-grow: 1;}#sk-container-id-55 div.sk-label:hover label.sk-toggleable__label {background-color: #d4ebff;}#sk-container-id-55 div.sk-serial::before {content: \"\";position: absolute;border-left: 1px solid gray;box-sizing: border-box;top: 0;bottom: 0;left: 50%;z-index: 0;}#sk-container-id-55 div.sk-serial {display: flex;flex-direction: column;align-items: center;background-color: white;padding-right: 0.2em;padding-left: 0.2em;position: relative;}#sk-container-id-55 div.sk-item {position: relative;z-index: 1;}#sk-container-id-55 div.sk-parallel {display: flex;align-items: stretch;justify-content: center;background-color: white;position: relative;}#sk-container-id-55 div.sk-item::before, #sk-container-id-55 div.sk-parallel-item::before {content: \"\";position: absolute;border-left: 1px solid gray;box-sizing: border-box;top: 0;bottom: 0;left: 50%;z-index: -1;}#sk-container-id-55 div.sk-parallel-item {display: flex;flex-direction: column;z-index: 1;position: relative;background-color: white;}#sk-container-id-55 div.sk-parallel-item:first-child::after {align-self: flex-end;width: 50%;}#sk-container-id-55 div.sk-parallel-item:last-child::after {align-self: flex-start;width: 50%;}#sk-container-id-55 div.sk-parallel-item:only-child::after {width: 0;}#sk-container-id-55 div.sk-dashed-wrapped {border: 1px dashed gray;margin: 0 0.4em 0.5em 0.4em;box-sizing: border-box;padding-bottom: 0.4em;background-color: white;}#sk-container-id-55 div.sk-label label {font-family: monospace;font-weight: bold;display: inline-block;line-height: 1.2em;}#sk-container-id-55 div.sk-label-container {text-align: center;}#sk-container-id-55 div.sk-container {/* jupyter's `normalize.less` sets `[hidden] { display: none; }` but bootstrap.min.css set `[hidden] { display: none !important; }` so we also need the `!important` here to be able to override the default hidden behavior on the sphinx rendered scikit-learn.org. See: https://github.com/scikit-learn/scikit-learn/issues/21755 */display: inline-block !important;position: relative;}#sk-container-id-55 div.sk-text-repr-fallback {display: none;}</style><div id=\"sk-container-id-55\" class=\"sk-top-container\"><div class=\"sk-text-repr-fallback\"><pre>Pipeline(steps=[(&#x27;preprocessing&#x27;,\n",
       "                 ColumnTransformer(sparse_threshold=0,\n",
       "                                   transformers=[(&#x27;num&#x27;,\n",
       "                                                  Pipeline(steps=[(&#x27;imputer&#x27;,\n",
       "                                                                   SimpleImputer(strategy=&#x27;median&#x27;))]),\n",
       "                                                  [&#x27;Community_Membership_Family&#x27;,\n",
       "                                                   &#x27;Community_Membership_Hobbies&#x27;,\n",
       "                                                   &#x27;Community_Membership_None&#x27;,\n",
       "                                                   &#x27;Community_Membership_Other&#x27;,\n",
       "                                                   &#x27;Community_Membership_Political&#x27;,\n",
       "                                                   &#x27;Community_Membership_Professional&#x27;,\n",
       "                                                   &#x27;Communi...\n",
       "                                                   &#x27;Most_Import_Issue_Facing_the_Internet&#x27;,\n",
       "                                                   &#x27;Opinions_on_Censorship&#x27;,\n",
       "                                                   &#x27;Primary_Computing_Platform&#x27;,\n",
       "                                                   &#x27;Primary_Language&#x27;,\n",
       "                                                   &#x27;Primary_Place_of_WWW_Access&#x27;,\n",
       "                                                   &#x27;Race&#x27;, &#x27;Registered_to_Vote&#x27;,\n",
       "                                                   &#x27;Sexual_Preference&#x27;,\n",
       "                                                   &#x27;Web_Ordering&#x27;,\n",
       "                                                   &#x27;Web_Page_Creation&#x27;])])),\n",
       "                (&#x27;model&#x27;,\n",
       "                 HistGradientBoostingClassifier(class_weight=&#x27;balanced&#x27;,\n",
       "                                                early_stopping=False,\n",
       "                                                min_samples_leaf=30,\n",
       "                                                random_state=1234,\n",
       "                                                scoring=&#x27;balanced_accuracy&#x27;))])</pre><b>In a Jupyter environment, please rerun this cell to show the HTML representation or trust the notebook. <br />On GitHub, the HTML representation is unable to render, please try loading this page with nbviewer.org.</b></div><div class=\"sk-container\" hidden><div class=\"sk-item sk-dashed-wrapped\"><div class=\"sk-label-container\"><div class=\"sk-label sk-toggleable\"><input class=\"sk-toggleable__control sk-hidden--visually\" id=\"sk-estimator-id-521\" type=\"checkbox\" ><label for=\"sk-estimator-id-521\" class=\"sk-toggleable__label sk-toggleable__label-arrow\">Pipeline</label><div class=\"sk-toggleable__content\"><pre>Pipeline(steps=[(&#x27;preprocessing&#x27;,\n",
       "                 ColumnTransformer(sparse_threshold=0,\n",
       "                                   transformers=[(&#x27;num&#x27;,\n",
       "                                                  Pipeline(steps=[(&#x27;imputer&#x27;,\n",
       "                                                                   SimpleImputer(strategy=&#x27;median&#x27;))]),\n",
       "                                                  [&#x27;Community_Membership_Family&#x27;,\n",
       "                                                   &#x27;Community_Membership_Hobbies&#x27;,\n",
       "                                                   &#x27;Community_Membership_None&#x27;,\n",
       "                                                   &#x27;Community_Membership_Other&#x27;,\n",
       "                                                   &#x27;Community_Membership_Political&#x27;,\n",
       "                                                   &#x27;Community_Membership_Professional&#x27;,\n",
       "                                                   &#x27;Communi...\n",
       "                                                   &#x27;Most_Import_Issue_Facing_the_Internet&#x27;,\n",
       "                                                   &#x27;Opinions_on_Censorship&#x27;,\n",
       "                                                   &#x27;Primary_Computing_Platform&#x27;,\n",
       "                                                   &#x27;Primary_Language&#x27;,\n",
       "                                                   &#x27;Primary_Place_of_WWW_Access&#x27;,\n",
       "                                                   &#x27;Race&#x27;, &#x27;Registered_to_Vote&#x27;,\n",
       "                                                   &#x27;Sexual_Preference&#x27;,\n",
       "                                                   &#x27;Web_Ordering&#x27;,\n",
       "                                                   &#x27;Web_Page_Creation&#x27;])])),\n",
       "                (&#x27;model&#x27;,\n",
       "                 HistGradientBoostingClassifier(class_weight=&#x27;balanced&#x27;,\n",
       "                                                early_stopping=False,\n",
       "                                                min_samples_leaf=30,\n",
       "                                                random_state=1234,\n",
       "                                                scoring=&#x27;balanced_accuracy&#x27;))])</pre></div></div></div><div class=\"sk-serial\"><div class=\"sk-item sk-dashed-wrapped\"><div class=\"sk-label-container\"><div class=\"sk-label sk-toggleable\"><input class=\"sk-toggleable__control sk-hidden--visually\" id=\"sk-estimator-id-522\" type=\"checkbox\" ><label for=\"sk-estimator-id-522\" class=\"sk-toggleable__label sk-toggleable__label-arrow\">preprocessing: ColumnTransformer</label><div class=\"sk-toggleable__content\"><pre>ColumnTransformer(sparse_threshold=0,\n",
       "                  transformers=[(&#x27;num&#x27;,\n",
       "                                 Pipeline(steps=[(&#x27;imputer&#x27;,\n",
       "                                                  SimpleImputer(strategy=&#x27;median&#x27;))]),\n",
       "                                 [&#x27;Community_Membership_Family&#x27;,\n",
       "                                  &#x27;Community_Membership_Hobbies&#x27;,\n",
       "                                  &#x27;Community_Membership_None&#x27;,\n",
       "                                  &#x27;Community_Membership_Other&#x27;,\n",
       "                                  &#x27;Community_Membership_Political&#x27;,\n",
       "                                  &#x27;Community_Membership_Professional&#x27;,\n",
       "                                  &#x27;Community_Membership_Religious&#x27;,\n",
       "                                  &#x27;Communi...\n",
       "                                  &#x27;Country&#x27;, &#x27;Education_Attainment&#x27;,\n",
       "                                  &#x27;Falsification_of_Information&#x27;,\n",
       "                                  &#x27;Household_Income&#x27;,\n",
       "                                  &#x27;Major_Geographical_Location&#x27;,\n",
       "                                  &#x27;Major_Occupation&#x27;, &#x27;Marital_Status&#x27;,\n",
       "                                  &#x27;Most_Import_Issue_Facing_the_Internet&#x27;,\n",
       "                                  &#x27;Opinions_on_Censorship&#x27;,\n",
       "                                  &#x27;Primary_Computing_Platform&#x27;,\n",
       "                                  &#x27;Primary_Language&#x27;,\n",
       "                                  &#x27;Primary_Place_of_WWW_Access&#x27;, &#x27;Race&#x27;,\n",
       "                                  &#x27;Registered_to_Vote&#x27;, &#x27;Sexual_Preference&#x27;,\n",
       "                                  &#x27;Web_Ordering&#x27;, &#x27;Web_Page_Creation&#x27;])])</pre></div></div></div><div class=\"sk-parallel\"><div class=\"sk-parallel-item\"><div class=\"sk-item\"><div class=\"sk-label-container\"><div class=\"sk-label sk-toggleable\"><input class=\"sk-toggleable__control sk-hidden--visually\" id=\"sk-estimator-id-523\" type=\"checkbox\" ><label for=\"sk-estimator-id-523\" class=\"sk-toggleable__label sk-toggleable__label-arrow\">num</label><div class=\"sk-toggleable__content\"><pre>[&#x27;Community_Membership_Family&#x27;, &#x27;Community_Membership_Hobbies&#x27;, &#x27;Community_Membership_None&#x27;, &#x27;Community_Membership_Other&#x27;, &#x27;Community_Membership_Political&#x27;, &#x27;Community_Membership_Professional&#x27;, &#x27;Community_Membership_Religious&#x27;, &#x27;Community_Membership_Support&#x27;, &#x27;Disability_Cognitive&#x27;, &#x27;Disability_Hearing&#x27;, &#x27;Disability_Motor&#x27;, &#x27;Disability_Not_Impaired&#x27;, &#x27;Disability_Not_Say&#x27;, &#x27;Disability_Vision&#x27;, &#x27;Gender&#x27;, &#x27;How_You_Heard_About_Survey_Banner&#x27;, &#x27;How_You_Heard_About_Survey_Friend&#x27;, &#x27;How_You_Heard_About_Survey_Mailing_List&#x27;, &#x27;How_You_Heard_About_Survey_Others&#x27;, &#x27;How_You_Heard_About_Survey_Printed_Media&#x27;, &#x27;How_You_Heard_About_Survey_Remebered&#x27;, &#x27;How_You_Heard_About_Survey_Search_Engine&#x27;, &#x27;How_You_Heard_About_Survey_Usenet_News&#x27;, &#x27;How_You_Heard_About_Survey_WWW_Page&#x27;, &#x27;Not_Purchasing_Bad_experience&#x27;, &#x27;Not_Purchasing_Bad_press&#x27;, &#x27;Not_Purchasing_Cant_find&#x27;, &#x27;Not_Purchasing_Company_policy&#x27;, &#x27;Not_Purchasing_Easier_locally&#x27;, &#x27;Not_Purchasing_Enough_info&#x27;, &#x27;Not_Purchasing_Judge_quality&#x27;, &#x27;Not_Purchasing_Never_tried&#x27;, &#x27;Not_Purchasing_No_credit&#x27;, &#x27;Not_Purchasing_Not_applicable&#x27;, &#x27;Not_Purchasing_Not_option&#x27;, &#x27;Not_Purchasing_Other&#x27;, &#x27;Not_Purchasing_Prefer_people&#x27;, &#x27;Not_Purchasing_Privacy&#x27;, &#x27;Not_Purchasing_Receipt&#x27;, &#x27;Not_Purchasing_Security&#x27;, &#x27;Not_Purchasing_Too_complicated&#x27;, &#x27;Not_Purchasing_Uncomfortable&#x27;, &#x27;Not_Purchasing_Unfamiliar_vendor&#x27;, &#x27;Who_Pays_for_Access_Dont_Know&#x27;, &#x27;Who_Pays_for_Access_Other&#x27;, &#x27;Who_Pays_for_Access_Parents&#x27;, &#x27;Who_Pays_for_Access_School&#x27;, &#x27;Who_Pays_for_Access_Self&#x27;]</pre></div></div></div><div class=\"sk-serial\"><div class=\"sk-item\"><div class=\"sk-serial\"><div class=\"sk-item\"><div class=\"sk-estimator sk-toggleable\"><input class=\"sk-toggleable__control sk-hidden--visually\" id=\"sk-estimator-id-524\" type=\"checkbox\" ><label for=\"sk-estimator-id-524\" class=\"sk-toggleable__label sk-toggleable__label-arrow\">SimpleImputer</label><div class=\"sk-toggleable__content\"><pre>SimpleImputer(strategy=&#x27;median&#x27;)</pre></div></div></div></div></div></div></div></div><div class=\"sk-parallel-item\"><div class=\"sk-item\"><div class=\"sk-label-container\"><div class=\"sk-label sk-toggleable\"><input class=\"sk-toggleable__control sk-hidden--visually\" id=\"sk-estimator-id-525\" type=\"checkbox\" ><label for=\"sk-estimator-id-525\" class=\"sk-toggleable__label sk-toggleable__label-arrow\">ordinal_encoder</label><div class=\"sk-toggleable__content\"><pre>[&#x27;Actual_Time&#x27;, &#x27;Community_Building&#x27;, &#x27;Country&#x27;, &#x27;Education_Attainment&#x27;, &#x27;Falsification_of_Information&#x27;, &#x27;Household_Income&#x27;, &#x27;Major_Geographical_Location&#x27;, &#x27;Major_Occupation&#x27;, &#x27;Marital_Status&#x27;, &#x27;Most_Import_Issue_Facing_the_Internet&#x27;, &#x27;Opinions_on_Censorship&#x27;, &#x27;Primary_Computing_Platform&#x27;, &#x27;Primary_Language&#x27;, &#x27;Primary_Place_of_WWW_Access&#x27;, &#x27;Race&#x27;, &#x27;Registered_to_Vote&#x27;, &#x27;Sexual_Preference&#x27;, &#x27;Web_Ordering&#x27;, &#x27;Web_Page_Creation&#x27;]</pre></div></div></div><div class=\"sk-serial\"><div class=\"sk-item\"><div class=\"sk-serial\"><div class=\"sk-item\"><div class=\"sk-estimator sk-toggleable\"><input class=\"sk-toggleable__control sk-hidden--visually\" id=\"sk-estimator-id-526\" type=\"checkbox\" ><label for=\"sk-estimator-id-526\" class=\"sk-toggleable__label sk-toggleable__label-arrow\">SimpleImputer</label><div class=\"sk-toggleable__content\"><pre>SimpleImputer(strategy=&#x27;most_frequent&#x27;)</pre></div></div></div><div class=\"sk-item\"><div class=\"sk-estimator sk-toggleable\"><input class=\"sk-toggleable__control sk-hidden--visually\" id=\"sk-estimator-id-527\" type=\"checkbox\" ><label for=\"sk-estimator-id-527\" class=\"sk-toggleable__label sk-toggleable__label-arrow\">OrdinalEncoder</label><div class=\"sk-toggleable__content\"><pre>OrdinalEncoder(dtype=&lt;class &#x27;int&#x27;&gt;, encoded_missing_value=99999,\n",
       "               handle_unknown=&#x27;use_encoded_value&#x27;, unknown_value=99999)</pre></div></div></div></div></div></div></div></div></div></div><div class=\"sk-item\"><div class=\"sk-estimator sk-toggleable\"><input class=\"sk-toggleable__control sk-hidden--visually\" id=\"sk-estimator-id-528\" type=\"checkbox\" ><label for=\"sk-estimator-id-528\" class=\"sk-toggleable__label sk-toggleable__label-arrow\">HistGradientBoostingClassifier</label><div class=\"sk-toggleable__content\"><pre>HistGradientBoostingClassifier(class_weight=&#x27;balanced&#x27;, early_stopping=False,\n",
       "                               min_samples_leaf=30, random_state=1234,\n",
       "                               scoring=&#x27;balanced_accuracy&#x27;)</pre></div></div></div></div></div></div></div>"
      ],
      "text/plain": [
       "Pipeline(steps=[('preprocessing',\n",
       "                 ColumnTransformer(sparse_threshold=0,\n",
       "                                   transformers=[('num',\n",
       "                                                  Pipeline(steps=[('imputer',\n",
       "                                                                   SimpleImputer(strategy='median'))]),\n",
       "                                                  ['Community_Membership_Family',\n",
       "                                                   'Community_Membership_Hobbies',\n",
       "                                                   'Community_Membership_None',\n",
       "                                                   'Community_Membership_Other',\n",
       "                                                   'Community_Membership_Political',\n",
       "                                                   'Community_Membership_Professional',\n",
       "                                                   'Communi...\n",
       "                                                   'Most_Import_Issue_Facing_the_Internet',\n",
       "                                                   'Opinions_on_Censorship',\n",
       "                                                   'Primary_Computing_Platform',\n",
       "                                                   'Primary_Language',\n",
       "                                                   'Primary_Place_of_WWW_Access',\n",
       "                                                   'Race', 'Registered_to_Vote',\n",
       "                                                   'Sexual_Preference',\n",
       "                                                   'Web_Ordering',\n",
       "                                                   'Web_Page_Creation'])])),\n",
       "                ('model',\n",
       "                 HistGradientBoostingClassifier(class_weight='balanced',\n",
       "                                                early_stopping=False,\n",
       "                                                min_samples_leaf=30,\n",
       "                                                random_state=1234,\n",
       "                                                scoring='balanced_accuracy'))])"
      ]
     },
     "execution_count": 460,
     "metadata": {},
     "output_type": "execute_result"
    }
   ],
   "source": [
    "# Display pipeline\n",
    "print(\"Time taken: \", ordinal_hgb_default_time_taken)\n",
    "ordinal_hgb_default"
   ]
  },
  {
   "cell_type": "code",
   "execution_count": 461,
   "id": "0e71def8",
   "metadata": {},
   "outputs": [],
   "source": [
    "tic = time.time()\n",
    "\n",
    "ordinal_hgb_default9 = ordinal_hgb_default_pipeline9.fit(X_train, y_train)\n",
    "\n",
    "toc = time.time()\n",
    "ordinal_hgb_default9_time_taken = toc-tic"
   ]
  },
  {
   "cell_type": "code",
   "execution_count": 462,
   "metadata": {},
   "outputs": [
    {
     "name": "stdout",
     "output_type": "stream",
     "text": [
      "Time taken:  1.3448114395141602\n"
     ]
    },
    {
     "data": {
      "text/html": [
       "<style>#sk-container-id-56 {color: black;}#sk-container-id-56 pre{padding: 0;}#sk-container-id-56 div.sk-toggleable {background-color: white;}#sk-container-id-56 label.sk-toggleable__label {cursor: pointer;display: block;width: 100%;margin-bottom: 0;padding: 0.3em;box-sizing: border-box;text-align: center;}#sk-container-id-56 label.sk-toggleable__label-arrow:before {content: \"▸\";float: left;margin-right: 0.25em;color: #696969;}#sk-container-id-56 label.sk-toggleable__label-arrow:hover:before {color: black;}#sk-container-id-56 div.sk-estimator:hover label.sk-toggleable__label-arrow:before {color: black;}#sk-container-id-56 div.sk-toggleable__content {max-height: 0;max-width: 0;overflow: hidden;text-align: left;background-color: #f0f8ff;}#sk-container-id-56 div.sk-toggleable__content pre {margin: 0.2em;color: black;border-radius: 0.25em;background-color: #f0f8ff;}#sk-container-id-56 input.sk-toggleable__control:checked~div.sk-toggleable__content {max-height: 200px;max-width: 100%;overflow: auto;}#sk-container-id-56 input.sk-toggleable__control:checked~label.sk-toggleable__label-arrow:before {content: \"▾\";}#sk-container-id-56 div.sk-estimator input.sk-toggleable__control:checked~label.sk-toggleable__label {background-color: #d4ebff;}#sk-container-id-56 div.sk-label input.sk-toggleable__control:checked~label.sk-toggleable__label {background-color: #d4ebff;}#sk-container-id-56 input.sk-hidden--visually {border: 0;clip: rect(1px 1px 1px 1px);clip: rect(1px, 1px, 1px, 1px);height: 1px;margin: -1px;overflow: hidden;padding: 0;position: absolute;width: 1px;}#sk-container-id-56 div.sk-estimator {font-family: monospace;background-color: #f0f8ff;border: 1px dotted black;border-radius: 0.25em;box-sizing: border-box;margin-bottom: 0.5em;}#sk-container-id-56 div.sk-estimator:hover {background-color: #d4ebff;}#sk-container-id-56 div.sk-parallel-item::after {content: \"\";width: 100%;border-bottom: 1px solid gray;flex-grow: 1;}#sk-container-id-56 div.sk-label:hover label.sk-toggleable__label {background-color: #d4ebff;}#sk-container-id-56 div.sk-serial::before {content: \"\";position: absolute;border-left: 1px solid gray;box-sizing: border-box;top: 0;bottom: 0;left: 50%;z-index: 0;}#sk-container-id-56 div.sk-serial {display: flex;flex-direction: column;align-items: center;background-color: white;padding-right: 0.2em;padding-left: 0.2em;position: relative;}#sk-container-id-56 div.sk-item {position: relative;z-index: 1;}#sk-container-id-56 div.sk-parallel {display: flex;align-items: stretch;justify-content: center;background-color: white;position: relative;}#sk-container-id-56 div.sk-item::before, #sk-container-id-56 div.sk-parallel-item::before {content: \"\";position: absolute;border-left: 1px solid gray;box-sizing: border-box;top: 0;bottom: 0;left: 50%;z-index: -1;}#sk-container-id-56 div.sk-parallel-item {display: flex;flex-direction: column;z-index: 1;position: relative;background-color: white;}#sk-container-id-56 div.sk-parallel-item:first-child::after {align-self: flex-end;width: 50%;}#sk-container-id-56 div.sk-parallel-item:last-child::after {align-self: flex-start;width: 50%;}#sk-container-id-56 div.sk-parallel-item:only-child::after {width: 0;}#sk-container-id-56 div.sk-dashed-wrapped {border: 1px dashed gray;margin: 0 0.4em 0.5em 0.4em;box-sizing: border-box;padding-bottom: 0.4em;background-color: white;}#sk-container-id-56 div.sk-label label {font-family: monospace;font-weight: bold;display: inline-block;line-height: 1.2em;}#sk-container-id-56 div.sk-label-container {text-align: center;}#sk-container-id-56 div.sk-container {/* jupyter's `normalize.less` sets `[hidden] { display: none; }` but bootstrap.min.css set `[hidden] { display: none !important; }` so we also need the `!important` here to be able to override the default hidden behavior on the sphinx rendered scikit-learn.org. See: https://github.com/scikit-learn/scikit-learn/issues/21755 */display: inline-block !important;position: relative;}#sk-container-id-56 div.sk-text-repr-fallback {display: none;}</style><div id=\"sk-container-id-56\" class=\"sk-top-container\"><div class=\"sk-text-repr-fallback\"><pre>Pipeline(steps=[(&#x27;preprocessing&#x27;,\n",
       "                 ColumnTransformer(sparse_threshold=0,\n",
       "                                   transformers=[(&#x27;num&#x27;,\n",
       "                                                  Pipeline(steps=[(&#x27;imputer&#x27;,\n",
       "                                                                   SimpleImputer(strategy=&#x27;median&#x27;))]),\n",
       "                                                  [&#x27;Community_Membership_Family&#x27;,\n",
       "                                                   &#x27;Community_Membership_Hobbies&#x27;,\n",
       "                                                   &#x27;Community_Membership_None&#x27;,\n",
       "                                                   &#x27;Community_Membership_Other&#x27;,\n",
       "                                                   &#x27;Community_Membership_Political&#x27;,\n",
       "                                                   &#x27;Community_Membership_Professional&#x27;,\n",
       "                                                   &#x27;Communi...\n",
       "                                                   &#x27;Marital_Status&#x27;,\n",
       "                                                   &#x27;Most_Import_Issue_Facing_the_Internet&#x27;,\n",
       "                                                   &#x27;Opinions_on_Censorship&#x27;,\n",
       "                                                   &#x27;Primary_Place_of_WWW_Access&#x27;,\n",
       "                                                   &#x27;Race&#x27;, &#x27;Registered_to_Vote&#x27;,\n",
       "                                                   &#x27;Sexual_Preference&#x27;,\n",
       "                                                   &#x27;Web_Ordering&#x27;,\n",
       "                                                   &#x27;Web_Page_Creation&#x27;])])),\n",
       "                (&#x27;model&#x27;,\n",
       "                 HistGradientBoostingClassifier(class_weight=&#x27;balanced&#x27;,\n",
       "                                                early_stopping=False,\n",
       "                                                min_samples_leaf=30,\n",
       "                                                random_state=1234,\n",
       "                                                scoring=&#x27;balanced_accuracy&#x27;))])</pre><b>In a Jupyter environment, please rerun this cell to show the HTML representation or trust the notebook. <br />On GitHub, the HTML representation is unable to render, please try loading this page with nbviewer.org.</b></div><div class=\"sk-container\" hidden><div class=\"sk-item sk-dashed-wrapped\"><div class=\"sk-label-container\"><div class=\"sk-label sk-toggleable\"><input class=\"sk-toggleable__control sk-hidden--visually\" id=\"sk-estimator-id-529\" type=\"checkbox\" ><label for=\"sk-estimator-id-529\" class=\"sk-toggleable__label sk-toggleable__label-arrow\">Pipeline</label><div class=\"sk-toggleable__content\"><pre>Pipeline(steps=[(&#x27;preprocessing&#x27;,\n",
       "                 ColumnTransformer(sparse_threshold=0,\n",
       "                                   transformers=[(&#x27;num&#x27;,\n",
       "                                                  Pipeline(steps=[(&#x27;imputer&#x27;,\n",
       "                                                                   SimpleImputer(strategy=&#x27;median&#x27;))]),\n",
       "                                                  [&#x27;Community_Membership_Family&#x27;,\n",
       "                                                   &#x27;Community_Membership_Hobbies&#x27;,\n",
       "                                                   &#x27;Community_Membership_None&#x27;,\n",
       "                                                   &#x27;Community_Membership_Other&#x27;,\n",
       "                                                   &#x27;Community_Membership_Political&#x27;,\n",
       "                                                   &#x27;Community_Membership_Professional&#x27;,\n",
       "                                                   &#x27;Communi...\n",
       "                                                   &#x27;Marital_Status&#x27;,\n",
       "                                                   &#x27;Most_Import_Issue_Facing_the_Internet&#x27;,\n",
       "                                                   &#x27;Opinions_on_Censorship&#x27;,\n",
       "                                                   &#x27;Primary_Place_of_WWW_Access&#x27;,\n",
       "                                                   &#x27;Race&#x27;, &#x27;Registered_to_Vote&#x27;,\n",
       "                                                   &#x27;Sexual_Preference&#x27;,\n",
       "                                                   &#x27;Web_Ordering&#x27;,\n",
       "                                                   &#x27;Web_Page_Creation&#x27;])])),\n",
       "                (&#x27;model&#x27;,\n",
       "                 HistGradientBoostingClassifier(class_weight=&#x27;balanced&#x27;,\n",
       "                                                early_stopping=False,\n",
       "                                                min_samples_leaf=30,\n",
       "                                                random_state=1234,\n",
       "                                                scoring=&#x27;balanced_accuracy&#x27;))])</pre></div></div></div><div class=\"sk-serial\"><div class=\"sk-item sk-dashed-wrapped\"><div class=\"sk-label-container\"><div class=\"sk-label sk-toggleable\"><input class=\"sk-toggleable__control sk-hidden--visually\" id=\"sk-estimator-id-530\" type=\"checkbox\" ><label for=\"sk-estimator-id-530\" class=\"sk-toggleable__label sk-toggleable__label-arrow\">preprocessing: ColumnTransformer</label><div class=\"sk-toggleable__content\"><pre>ColumnTransformer(sparse_threshold=0,\n",
       "                  transformers=[(&#x27;num&#x27;,\n",
       "                                 Pipeline(steps=[(&#x27;imputer&#x27;,\n",
       "                                                  SimpleImputer(strategy=&#x27;median&#x27;))]),\n",
       "                                 [&#x27;Community_Membership_Family&#x27;,\n",
       "                                  &#x27;Community_Membership_Hobbies&#x27;,\n",
       "                                  &#x27;Community_Membership_None&#x27;,\n",
       "                                  &#x27;Community_Membership_Other&#x27;,\n",
       "                                  &#x27;Community_Membership_Political&#x27;,\n",
       "                                  &#x27;Community_Membership_Professional&#x27;,\n",
       "                                  &#x27;Community_Membership_Religious&#x27;,\n",
       "                                  &#x27;Communi...\n",
       "                                                  OneHotEncoder(drop=&#x27;first&#x27;,\n",
       "                                                                handle_unknown=&#x27;ignore&#x27;))]),\n",
       "                                 [&#x27;Community_Building&#x27;, &#x27;Education_Attainment&#x27;,\n",
       "                                  &#x27;Falsification_of_Information&#x27;,\n",
       "                                  &#x27;Household_Income&#x27;, &#x27;Major_Occupation&#x27;,\n",
       "                                  &#x27;Marital_Status&#x27;,\n",
       "                                  &#x27;Most_Import_Issue_Facing_the_Internet&#x27;,\n",
       "                                  &#x27;Opinions_on_Censorship&#x27;,\n",
       "                                  &#x27;Primary_Place_of_WWW_Access&#x27;, &#x27;Race&#x27;,\n",
       "                                  &#x27;Registered_to_Vote&#x27;, &#x27;Sexual_Preference&#x27;,\n",
       "                                  &#x27;Web_Ordering&#x27;, &#x27;Web_Page_Creation&#x27;])])</pre></div></div></div><div class=\"sk-parallel\"><div class=\"sk-parallel-item\"><div class=\"sk-item\"><div class=\"sk-label-container\"><div class=\"sk-label sk-toggleable\"><input class=\"sk-toggleable__control sk-hidden--visually\" id=\"sk-estimator-id-531\" type=\"checkbox\" ><label for=\"sk-estimator-id-531\" class=\"sk-toggleable__label sk-toggleable__label-arrow\">num</label><div class=\"sk-toggleable__content\"><pre>[&#x27;Community_Membership_Family&#x27;, &#x27;Community_Membership_Hobbies&#x27;, &#x27;Community_Membership_None&#x27;, &#x27;Community_Membership_Other&#x27;, &#x27;Community_Membership_Political&#x27;, &#x27;Community_Membership_Professional&#x27;, &#x27;Community_Membership_Religious&#x27;, &#x27;Community_Membership_Support&#x27;, &#x27;Disability_Cognitive&#x27;, &#x27;Disability_Hearing&#x27;, &#x27;Disability_Motor&#x27;, &#x27;Disability_Not_Impaired&#x27;, &#x27;Disability_Not_Say&#x27;, &#x27;Disability_Vision&#x27;, &#x27;Gender&#x27;, &#x27;How_You_Heard_About_Survey_Banner&#x27;, &#x27;How_You_Heard_About_Survey_Friend&#x27;, &#x27;How_You_Heard_About_Survey_Mailing_List&#x27;, &#x27;How_You_Heard_About_Survey_Others&#x27;, &#x27;How_You_Heard_About_Survey_Printed_Media&#x27;, &#x27;How_You_Heard_About_Survey_Remebered&#x27;, &#x27;How_You_Heard_About_Survey_Search_Engine&#x27;, &#x27;How_You_Heard_About_Survey_Usenet_News&#x27;, &#x27;How_You_Heard_About_Survey_WWW_Page&#x27;, &#x27;Not_Purchasing_Bad_experience&#x27;, &#x27;Not_Purchasing_Bad_press&#x27;, &#x27;Not_Purchasing_Cant_find&#x27;, &#x27;Not_Purchasing_Company_policy&#x27;, &#x27;Not_Purchasing_Easier_locally&#x27;, &#x27;Not_Purchasing_Enough_info&#x27;, &#x27;Not_Purchasing_Judge_quality&#x27;, &#x27;Not_Purchasing_Never_tried&#x27;, &#x27;Not_Purchasing_No_credit&#x27;, &#x27;Not_Purchasing_Not_applicable&#x27;, &#x27;Not_Purchasing_Not_option&#x27;, &#x27;Not_Purchasing_Other&#x27;, &#x27;Not_Purchasing_Prefer_people&#x27;, &#x27;Not_Purchasing_Privacy&#x27;, &#x27;Not_Purchasing_Receipt&#x27;, &#x27;Not_Purchasing_Security&#x27;, &#x27;Not_Purchasing_Too_complicated&#x27;, &#x27;Not_Purchasing_Uncomfortable&#x27;, &#x27;Not_Purchasing_Unfamiliar_vendor&#x27;, &#x27;Who_Pays_for_Access_Dont_Know&#x27;, &#x27;Who_Pays_for_Access_Other&#x27;, &#x27;Who_Pays_for_Access_Parents&#x27;, &#x27;Who_Pays_for_Access_School&#x27;, &#x27;Who_Pays_for_Access_Self&#x27;]</pre></div></div></div><div class=\"sk-serial\"><div class=\"sk-item\"><div class=\"sk-serial\"><div class=\"sk-item\"><div class=\"sk-estimator sk-toggleable\"><input class=\"sk-toggleable__control sk-hidden--visually\" id=\"sk-estimator-id-532\" type=\"checkbox\" ><label for=\"sk-estimator-id-532\" class=\"sk-toggleable__label sk-toggleable__label-arrow\">SimpleImputer</label><div class=\"sk-toggleable__content\"><pre>SimpleImputer(strategy=&#x27;median&#x27;)</pre></div></div></div></div></div></div></div></div><div class=\"sk-parallel-item\"><div class=\"sk-item\"><div class=\"sk-label-container\"><div class=\"sk-label sk-toggleable\"><input class=\"sk-toggleable__control sk-hidden--visually\" id=\"sk-estimator-id-533\" type=\"checkbox\" ><label for=\"sk-estimator-id-533\" class=\"sk-toggleable__label sk-toggleable__label-arrow\">ordinal_encoder</label><div class=\"sk-toggleable__content\"><pre>[&#x27;Actual_Time&#x27;, &#x27;Country&#x27;, &#x27;Major_Geographical_Location&#x27;, &#x27;Primary_Computing_Platform&#x27;, &#x27;Primary_Language&#x27;]</pre></div></div></div><div class=\"sk-serial\"><div class=\"sk-item\"><div class=\"sk-serial\"><div class=\"sk-item\"><div class=\"sk-estimator sk-toggleable\"><input class=\"sk-toggleable__control sk-hidden--visually\" id=\"sk-estimator-id-534\" type=\"checkbox\" ><label for=\"sk-estimator-id-534\" class=\"sk-toggleable__label sk-toggleable__label-arrow\">SimpleImputer</label><div class=\"sk-toggleable__content\"><pre>SimpleImputer(strategy=&#x27;most_frequent&#x27;)</pre></div></div></div><div class=\"sk-item\"><div class=\"sk-estimator sk-toggleable\"><input class=\"sk-toggleable__control sk-hidden--visually\" id=\"sk-estimator-id-535\" type=\"checkbox\" ><label for=\"sk-estimator-id-535\" class=\"sk-toggleable__label sk-toggleable__label-arrow\">OrdinalEncoder</label><div class=\"sk-toggleable__content\"><pre>OrdinalEncoder(dtype=&lt;class &#x27;int&#x27;&gt;, encoded_missing_value=99999,\n",
       "               handle_unknown=&#x27;use_encoded_value&#x27;, unknown_value=99999)</pre></div></div></div></div></div></div></div></div><div class=\"sk-parallel-item\"><div class=\"sk-item\"><div class=\"sk-label-container\"><div class=\"sk-label sk-toggleable\"><input class=\"sk-toggleable__control sk-hidden--visually\" id=\"sk-estimator-id-536\" type=\"checkbox\" ><label for=\"sk-estimator-id-536\" class=\"sk-toggleable__label sk-toggleable__label-arrow\">one_hot_encoding</label><div class=\"sk-toggleable__content\"><pre>[&#x27;Community_Building&#x27;, &#x27;Education_Attainment&#x27;, &#x27;Falsification_of_Information&#x27;, &#x27;Household_Income&#x27;, &#x27;Major_Occupation&#x27;, &#x27;Marital_Status&#x27;, &#x27;Most_Import_Issue_Facing_the_Internet&#x27;, &#x27;Opinions_on_Censorship&#x27;, &#x27;Primary_Place_of_WWW_Access&#x27;, &#x27;Race&#x27;, &#x27;Registered_to_Vote&#x27;, &#x27;Sexual_Preference&#x27;, &#x27;Web_Ordering&#x27;, &#x27;Web_Page_Creation&#x27;]</pre></div></div></div><div class=\"sk-serial\"><div class=\"sk-item\"><div class=\"sk-serial\"><div class=\"sk-item\"><div class=\"sk-estimator sk-toggleable\"><input class=\"sk-toggleable__control sk-hidden--visually\" id=\"sk-estimator-id-537\" type=\"checkbox\" ><label for=\"sk-estimator-id-537\" class=\"sk-toggleable__label sk-toggleable__label-arrow\">SimpleImputer</label><div class=\"sk-toggleable__content\"><pre>SimpleImputer(strategy=&#x27;most_frequent&#x27;)</pre></div></div></div><div class=\"sk-item\"><div class=\"sk-estimator sk-toggleable\"><input class=\"sk-toggleable__control sk-hidden--visually\" id=\"sk-estimator-id-538\" type=\"checkbox\" ><label for=\"sk-estimator-id-538\" class=\"sk-toggleable__label sk-toggleable__label-arrow\">OneHotEncoder</label><div class=\"sk-toggleable__content\"><pre>OneHotEncoder(drop=&#x27;first&#x27;, handle_unknown=&#x27;ignore&#x27;)</pre></div></div></div></div></div></div></div></div></div></div><div class=\"sk-item\"><div class=\"sk-estimator sk-toggleable\"><input class=\"sk-toggleable__control sk-hidden--visually\" id=\"sk-estimator-id-539\" type=\"checkbox\" ><label for=\"sk-estimator-id-539\" class=\"sk-toggleable__label sk-toggleable__label-arrow\">HistGradientBoostingClassifier</label><div class=\"sk-toggleable__content\"><pre>HistGradientBoostingClassifier(class_weight=&#x27;balanced&#x27;, early_stopping=False,\n",
       "                               min_samples_leaf=30, random_state=1234,\n",
       "                               scoring=&#x27;balanced_accuracy&#x27;)</pre></div></div></div></div></div></div></div>"
      ],
      "text/plain": [
       "Pipeline(steps=[('preprocessing',\n",
       "                 ColumnTransformer(sparse_threshold=0,\n",
       "                                   transformers=[('num',\n",
       "                                                  Pipeline(steps=[('imputer',\n",
       "                                                                   SimpleImputer(strategy='median'))]),\n",
       "                                                  ['Community_Membership_Family',\n",
       "                                                   'Community_Membership_Hobbies',\n",
       "                                                   'Community_Membership_None',\n",
       "                                                   'Community_Membership_Other',\n",
       "                                                   'Community_Membership_Political',\n",
       "                                                   'Community_Membership_Professional',\n",
       "                                                   'Communi...\n",
       "                                                   'Marital_Status',\n",
       "                                                   'Most_Import_Issue_Facing_the_Internet',\n",
       "                                                   'Opinions_on_Censorship',\n",
       "                                                   'Primary_Place_of_WWW_Access',\n",
       "                                                   'Race', 'Registered_to_Vote',\n",
       "                                                   'Sexual_Preference',\n",
       "                                                   'Web_Ordering',\n",
       "                                                   'Web_Page_Creation'])])),\n",
       "                ('model',\n",
       "                 HistGradientBoostingClassifier(class_weight='balanced',\n",
       "                                                early_stopping=False,\n",
       "                                                min_samples_leaf=30,\n",
       "                                                random_state=1234,\n",
       "                                                scoring='balanced_accuracy'))])"
      ]
     },
     "execution_count": 462,
     "metadata": {},
     "output_type": "execute_result"
    }
   ],
   "source": [
    "# Display pipeline\n",
    "print(\"Time taken: \", ordinal_hgb_default9_time_taken)\n",
    "ordinal_hgb_default9"
   ]
  },
  {
   "cell_type": "code",
   "execution_count": 463,
   "id": "b2fded98",
   "metadata": {},
   "outputs": [
    {
     "name": "stdout",
     "output_type": "stream",
     "text": [
      "Balanced accuracy with default parameters: 0.8842871779859485\n"
     ]
    }
   ],
   "source": [
    "# Calculate balanced accuracy for the model with default parameters\n",
    "y_ordinal_hgb_default_pred = ordinal_hgb_default.predict(X_test)\n",
    "ordinal_hgb_default_accuracy = balanced_accuracy_score(y_test, y_ordinal_hgb_default_pred)\n",
    "print(f'Balanced accuracy with default parameters: {ordinal_hgb_default_accuracy}')\n",
    "\n",
    "# Save results\n",
    "default_summary.append(\"Default\")\n",
    "card_9_summary.append(\"AllVariables\")\n",
    "encoder_summary.append(\"OrdinalEncoder\")\n",
    "value_summary.append(ordinal_hgb_default_accuracy)\n",
    "time_summary.append(ordinal_hgb_default_time_taken)\n",
    "n_models_summary.append(1)"
   ]
  },
  {
   "cell_type": "code",
   "execution_count": 464,
   "id": "60b3b940",
   "metadata": {},
   "outputs": [
    {
     "name": "stdout",
     "output_type": "stream",
     "text": [
      "Balanced accuracy with default parameters: 0.8823166715456674\n"
     ]
    }
   ],
   "source": [
    "# Calculate balanced accuracy for the model with default parameters\n",
    "y_ordinal_hgb_default_pred9 = ordinal_hgb_default9.predict(X_test)\n",
    "ordinal_hgb_default_accuracy9 = balanced_accuracy_score(y_test, y_ordinal_hgb_default_pred9)\n",
    "print(f'Balanced accuracy with default parameters: {ordinal_hgb_default_accuracy9}')\n",
    "\n",
    "# Save results\n",
    "default_summary.append(\"Default\")\n",
    "card_9_summary.append(\"OnlyVariablesWithCard>9\")\n",
    "encoder_summary.append(\"OrdinalEncoder\")\n",
    "value_summary.append(ordinal_hgb_default_accuracy9)\n",
    "time_summary.append(ordinal_hgb_default9_time_taken)\n",
    "n_models_summary.append(1)"
   ]
  },
  {
   "cell_type": "markdown",
   "id": "e2ec5c24",
   "metadata": {},
   "source": [
    "#### Create a HistGradientBoostingClassifier model for tuning"
   ]
  },
  {
   "cell_type": "code",
   "execution_count": 465,
   "id": "ce9e4b10",
   "metadata": {},
   "outputs": [],
   "source": [
    "ordinal_hgb_tune = RandomizedSearchCV(estimator = ordinal_hgb_default_pipeline, \n",
    "                                   param_distributions = param_distributions, \n",
    "                                   n_iter = 20,\n",
    "                                   cv = stratified_kfold,\n",
    "                                   scoring = 'balanced_accuracy', \n",
    "                                   random_state = 1234,\n",
    "                                   n_jobs = -1)\n",
    "\n",
    "ordinal_hgb_tune9 = RandomizedSearchCV(estimator = ordinal_hgb_default_pipeline9, \n",
    "                                    param_distributions = param_distributions, \n",
    "                                    n_iter = 20,\n",
    "                                    cv = stratified_kfold,\n",
    "                                    scoring = 'balanced_accuracy', \n",
    "                                    random_state = 1234,\n",
    "                                    n_jobs = -1)"
   ]
  },
  {
   "cell_type": "code",
   "execution_count": 466,
   "id": "015700c9",
   "metadata": {},
   "outputs": [],
   "source": [
    "tic = time.time()\n",
    "\n",
    "ordinal_hgb_tune = ordinal_hgb_tune.fit(X_train, y_train)\n",
    "\n",
    "toc = time.time()\n",
    "ordinal_hgb_tune_time_taken = toc-tic"
   ]
  },
  {
   "cell_type": "code",
   "execution_count": 467,
   "metadata": {},
   "outputs": [
    {
     "name": "stdout",
     "output_type": "stream",
     "text": [
      "Time taken:  23.36292839050293\n"
     ]
    },
    {
     "data": {
      "text/html": [
       "<style>#sk-container-id-57 {color: black;}#sk-container-id-57 pre{padding: 0;}#sk-container-id-57 div.sk-toggleable {background-color: white;}#sk-container-id-57 label.sk-toggleable__label {cursor: pointer;display: block;width: 100%;margin-bottom: 0;padding: 0.3em;box-sizing: border-box;text-align: center;}#sk-container-id-57 label.sk-toggleable__label-arrow:before {content: \"▸\";float: left;margin-right: 0.25em;color: #696969;}#sk-container-id-57 label.sk-toggleable__label-arrow:hover:before {color: black;}#sk-container-id-57 div.sk-estimator:hover label.sk-toggleable__label-arrow:before {color: black;}#sk-container-id-57 div.sk-toggleable__content {max-height: 0;max-width: 0;overflow: hidden;text-align: left;background-color: #f0f8ff;}#sk-container-id-57 div.sk-toggleable__content pre {margin: 0.2em;color: black;border-radius: 0.25em;background-color: #f0f8ff;}#sk-container-id-57 input.sk-toggleable__control:checked~div.sk-toggleable__content {max-height: 200px;max-width: 100%;overflow: auto;}#sk-container-id-57 input.sk-toggleable__control:checked~label.sk-toggleable__label-arrow:before {content: \"▾\";}#sk-container-id-57 div.sk-estimator input.sk-toggleable__control:checked~label.sk-toggleable__label {background-color: #d4ebff;}#sk-container-id-57 div.sk-label input.sk-toggleable__control:checked~label.sk-toggleable__label {background-color: #d4ebff;}#sk-container-id-57 input.sk-hidden--visually {border: 0;clip: rect(1px 1px 1px 1px);clip: rect(1px, 1px, 1px, 1px);height: 1px;margin: -1px;overflow: hidden;padding: 0;position: absolute;width: 1px;}#sk-container-id-57 div.sk-estimator {font-family: monospace;background-color: #f0f8ff;border: 1px dotted black;border-radius: 0.25em;box-sizing: border-box;margin-bottom: 0.5em;}#sk-container-id-57 div.sk-estimator:hover {background-color: #d4ebff;}#sk-container-id-57 div.sk-parallel-item::after {content: \"\";width: 100%;border-bottom: 1px solid gray;flex-grow: 1;}#sk-container-id-57 div.sk-label:hover label.sk-toggleable__label {background-color: #d4ebff;}#sk-container-id-57 div.sk-serial::before {content: \"\";position: absolute;border-left: 1px solid gray;box-sizing: border-box;top: 0;bottom: 0;left: 50%;z-index: 0;}#sk-container-id-57 div.sk-serial {display: flex;flex-direction: column;align-items: center;background-color: white;padding-right: 0.2em;padding-left: 0.2em;position: relative;}#sk-container-id-57 div.sk-item {position: relative;z-index: 1;}#sk-container-id-57 div.sk-parallel {display: flex;align-items: stretch;justify-content: center;background-color: white;position: relative;}#sk-container-id-57 div.sk-item::before, #sk-container-id-57 div.sk-parallel-item::before {content: \"\";position: absolute;border-left: 1px solid gray;box-sizing: border-box;top: 0;bottom: 0;left: 50%;z-index: -1;}#sk-container-id-57 div.sk-parallel-item {display: flex;flex-direction: column;z-index: 1;position: relative;background-color: white;}#sk-container-id-57 div.sk-parallel-item:first-child::after {align-self: flex-end;width: 50%;}#sk-container-id-57 div.sk-parallel-item:last-child::after {align-self: flex-start;width: 50%;}#sk-container-id-57 div.sk-parallel-item:only-child::after {width: 0;}#sk-container-id-57 div.sk-dashed-wrapped {border: 1px dashed gray;margin: 0 0.4em 0.5em 0.4em;box-sizing: border-box;padding-bottom: 0.4em;background-color: white;}#sk-container-id-57 div.sk-label label {font-family: monospace;font-weight: bold;display: inline-block;line-height: 1.2em;}#sk-container-id-57 div.sk-label-container {text-align: center;}#sk-container-id-57 div.sk-container {/* jupyter's `normalize.less` sets `[hidden] { display: none; }` but bootstrap.min.css set `[hidden] { display: none !important; }` so we also need the `!important` here to be able to override the default hidden behavior on the sphinx rendered scikit-learn.org. See: https://github.com/scikit-learn/scikit-learn/issues/21755 */display: inline-block !important;position: relative;}#sk-container-id-57 div.sk-text-repr-fallback {display: none;}</style><div id=\"sk-container-id-57\" class=\"sk-top-container\"><div class=\"sk-text-repr-fallback\"><pre>RandomizedSearchCV(cv=StratifiedKFold(n_splits=3, random_state=1234, shuffle=True),\n",
       "                   estimator=Pipeline(steps=[(&#x27;preprocessing&#x27;,\n",
       "                                              ColumnTransformer(sparse_threshold=0,\n",
       "                                                                transformers=[(&#x27;num&#x27;,\n",
       "                                                                               Pipeline(steps=[(&#x27;imputer&#x27;,\n",
       "                                                                                                SimpleImputer(strategy=&#x27;median&#x27;))]),\n",
       "                                                                               [&#x27;Community_Membership_Family&#x27;,\n",
       "                                                                                &#x27;Community_Membership_Hobbies&#x27;,\n",
       "                                                                                &#x27;Community_Membership_None&#x27;,\n",
       "                                                                                &#x27;Community_Memb...\n",
       "                   param_distributions={&#x27;model__learning_rate&#x27;: &lt;scipy.stats._distn_infrastructure.rv_continuous_frozen object at 0x000001CDE78041C0&gt;,\n",
       "                                        &#x27;model__max_iter&#x27;: &lt;scipy.stats._distn_infrastructure.rv_discrete_frozen object at 0x000001CDE7808100&gt;,\n",
       "                                        &#x27;model__min_samples_leaf&#x27;: &lt;scipy.stats._distn_infrastructure.rv_discrete_frozen object at 0x000001CDE77F4430&gt;},\n",
       "                   random_state=1234, scoring=&#x27;balanced_accuracy&#x27;)</pre><b>In a Jupyter environment, please rerun this cell to show the HTML representation or trust the notebook. <br />On GitHub, the HTML representation is unable to render, please try loading this page with nbviewer.org.</b></div><div class=\"sk-container\" hidden><div class=\"sk-item sk-dashed-wrapped\"><div class=\"sk-label-container\"><div class=\"sk-label sk-toggleable\"><input class=\"sk-toggleable__control sk-hidden--visually\" id=\"sk-estimator-id-540\" type=\"checkbox\" ><label for=\"sk-estimator-id-540\" class=\"sk-toggleable__label sk-toggleable__label-arrow\">RandomizedSearchCV</label><div class=\"sk-toggleable__content\"><pre>RandomizedSearchCV(cv=StratifiedKFold(n_splits=3, random_state=1234, shuffle=True),\n",
       "                   estimator=Pipeline(steps=[(&#x27;preprocessing&#x27;,\n",
       "                                              ColumnTransformer(sparse_threshold=0,\n",
       "                                                                transformers=[(&#x27;num&#x27;,\n",
       "                                                                               Pipeline(steps=[(&#x27;imputer&#x27;,\n",
       "                                                                                                SimpleImputer(strategy=&#x27;median&#x27;))]),\n",
       "                                                                               [&#x27;Community_Membership_Family&#x27;,\n",
       "                                                                                &#x27;Community_Membership_Hobbies&#x27;,\n",
       "                                                                                &#x27;Community_Membership_None&#x27;,\n",
       "                                                                                &#x27;Community_Memb...\n",
       "                   param_distributions={&#x27;model__learning_rate&#x27;: &lt;scipy.stats._distn_infrastructure.rv_continuous_frozen object at 0x000001CDE78041C0&gt;,\n",
       "                                        &#x27;model__max_iter&#x27;: &lt;scipy.stats._distn_infrastructure.rv_discrete_frozen object at 0x000001CDE7808100&gt;,\n",
       "                                        &#x27;model__min_samples_leaf&#x27;: &lt;scipy.stats._distn_infrastructure.rv_discrete_frozen object at 0x000001CDE77F4430&gt;},\n",
       "                   random_state=1234, scoring=&#x27;balanced_accuracy&#x27;)</pre></div></div></div><div class=\"sk-parallel\"><div class=\"sk-parallel-item\"><div class=\"sk-item\"><div class=\"sk-label-container\"><div class=\"sk-label sk-toggleable\"><input class=\"sk-toggleable__control sk-hidden--visually\" id=\"sk-estimator-id-541\" type=\"checkbox\" ><label for=\"sk-estimator-id-541\" class=\"sk-toggleable__label sk-toggleable__label-arrow\">estimator: Pipeline</label><div class=\"sk-toggleable__content\"><pre>Pipeline(steps=[(&#x27;preprocessing&#x27;,\n",
       "                 ColumnTransformer(sparse_threshold=0,\n",
       "                                   transformers=[(&#x27;num&#x27;,\n",
       "                                                  Pipeline(steps=[(&#x27;imputer&#x27;,\n",
       "                                                                   SimpleImputer(strategy=&#x27;median&#x27;))]),\n",
       "                                                  [&#x27;Community_Membership_Family&#x27;,\n",
       "                                                   &#x27;Community_Membership_Hobbies&#x27;,\n",
       "                                                   &#x27;Community_Membership_None&#x27;,\n",
       "                                                   &#x27;Community_Membership_Other&#x27;,\n",
       "                                                   &#x27;Community_Membership_Political&#x27;,\n",
       "                                                   &#x27;Community_Membership_Professional&#x27;,\n",
       "                                                   &#x27;Communi...\n",
       "                                                   &#x27;Most_Import_Issue_Facing_the_Internet&#x27;,\n",
       "                                                   &#x27;Opinions_on_Censorship&#x27;,\n",
       "                                                   &#x27;Primary_Computing_Platform&#x27;,\n",
       "                                                   &#x27;Primary_Language&#x27;,\n",
       "                                                   &#x27;Primary_Place_of_WWW_Access&#x27;,\n",
       "                                                   &#x27;Race&#x27;, &#x27;Registered_to_Vote&#x27;,\n",
       "                                                   &#x27;Sexual_Preference&#x27;,\n",
       "                                                   &#x27;Web_Ordering&#x27;,\n",
       "                                                   &#x27;Web_Page_Creation&#x27;])])),\n",
       "                (&#x27;model&#x27;,\n",
       "                 HistGradientBoostingClassifier(class_weight=&#x27;balanced&#x27;,\n",
       "                                                early_stopping=False,\n",
       "                                                min_samples_leaf=30,\n",
       "                                                random_state=1234,\n",
       "                                                scoring=&#x27;balanced_accuracy&#x27;))])</pre></div></div></div><div class=\"sk-serial\"><div class=\"sk-item\"><div class=\"sk-serial\"><div class=\"sk-item sk-dashed-wrapped\"><div class=\"sk-label-container\"><div class=\"sk-label sk-toggleable\"><input class=\"sk-toggleable__control sk-hidden--visually\" id=\"sk-estimator-id-542\" type=\"checkbox\" ><label for=\"sk-estimator-id-542\" class=\"sk-toggleable__label sk-toggleable__label-arrow\">preprocessing: ColumnTransformer</label><div class=\"sk-toggleable__content\"><pre>ColumnTransformer(sparse_threshold=0,\n",
       "                  transformers=[(&#x27;num&#x27;,\n",
       "                                 Pipeline(steps=[(&#x27;imputer&#x27;,\n",
       "                                                  SimpleImputer(strategy=&#x27;median&#x27;))]),\n",
       "                                 [&#x27;Community_Membership_Family&#x27;,\n",
       "                                  &#x27;Community_Membership_Hobbies&#x27;,\n",
       "                                  &#x27;Community_Membership_None&#x27;,\n",
       "                                  &#x27;Community_Membership_Other&#x27;,\n",
       "                                  &#x27;Community_Membership_Political&#x27;,\n",
       "                                  &#x27;Community_Membership_Professional&#x27;,\n",
       "                                  &#x27;Community_Membership_Religious&#x27;,\n",
       "                                  &#x27;Communi...\n",
       "                                  &#x27;Country&#x27;, &#x27;Education_Attainment&#x27;,\n",
       "                                  &#x27;Falsification_of_Information&#x27;,\n",
       "                                  &#x27;Household_Income&#x27;,\n",
       "                                  &#x27;Major_Geographical_Location&#x27;,\n",
       "                                  &#x27;Major_Occupation&#x27;, &#x27;Marital_Status&#x27;,\n",
       "                                  &#x27;Most_Import_Issue_Facing_the_Internet&#x27;,\n",
       "                                  &#x27;Opinions_on_Censorship&#x27;,\n",
       "                                  &#x27;Primary_Computing_Platform&#x27;,\n",
       "                                  &#x27;Primary_Language&#x27;,\n",
       "                                  &#x27;Primary_Place_of_WWW_Access&#x27;, &#x27;Race&#x27;,\n",
       "                                  &#x27;Registered_to_Vote&#x27;, &#x27;Sexual_Preference&#x27;,\n",
       "                                  &#x27;Web_Ordering&#x27;, &#x27;Web_Page_Creation&#x27;])])</pre></div></div></div><div class=\"sk-parallel\"><div class=\"sk-parallel-item\"><div class=\"sk-item\"><div class=\"sk-label-container\"><div class=\"sk-label sk-toggleable\"><input class=\"sk-toggleable__control sk-hidden--visually\" id=\"sk-estimator-id-543\" type=\"checkbox\" ><label for=\"sk-estimator-id-543\" class=\"sk-toggleable__label sk-toggleable__label-arrow\">num</label><div class=\"sk-toggleable__content\"><pre>[&#x27;Community_Membership_Family&#x27;, &#x27;Community_Membership_Hobbies&#x27;, &#x27;Community_Membership_None&#x27;, &#x27;Community_Membership_Other&#x27;, &#x27;Community_Membership_Political&#x27;, &#x27;Community_Membership_Professional&#x27;, &#x27;Community_Membership_Religious&#x27;, &#x27;Community_Membership_Support&#x27;, &#x27;Disability_Cognitive&#x27;, &#x27;Disability_Hearing&#x27;, &#x27;Disability_Motor&#x27;, &#x27;Disability_Not_Impaired&#x27;, &#x27;Disability_Not_Say&#x27;, &#x27;Disability_Vision&#x27;, &#x27;Gender&#x27;, &#x27;How_You_Heard_About_Survey_Banner&#x27;, &#x27;How_You_Heard_About_Survey_Friend&#x27;, &#x27;How_You_Heard_About_Survey_Mailing_List&#x27;, &#x27;How_You_Heard_About_Survey_Others&#x27;, &#x27;How_You_Heard_About_Survey_Printed_Media&#x27;, &#x27;How_You_Heard_About_Survey_Remebered&#x27;, &#x27;How_You_Heard_About_Survey_Search_Engine&#x27;, &#x27;How_You_Heard_About_Survey_Usenet_News&#x27;, &#x27;How_You_Heard_About_Survey_WWW_Page&#x27;, &#x27;Not_Purchasing_Bad_experience&#x27;, &#x27;Not_Purchasing_Bad_press&#x27;, &#x27;Not_Purchasing_Cant_find&#x27;, &#x27;Not_Purchasing_Company_policy&#x27;, &#x27;Not_Purchasing_Easier_locally&#x27;, &#x27;Not_Purchasing_Enough_info&#x27;, &#x27;Not_Purchasing_Judge_quality&#x27;, &#x27;Not_Purchasing_Never_tried&#x27;, &#x27;Not_Purchasing_No_credit&#x27;, &#x27;Not_Purchasing_Not_applicable&#x27;, &#x27;Not_Purchasing_Not_option&#x27;, &#x27;Not_Purchasing_Other&#x27;, &#x27;Not_Purchasing_Prefer_people&#x27;, &#x27;Not_Purchasing_Privacy&#x27;, &#x27;Not_Purchasing_Receipt&#x27;, &#x27;Not_Purchasing_Security&#x27;, &#x27;Not_Purchasing_Too_complicated&#x27;, &#x27;Not_Purchasing_Uncomfortable&#x27;, &#x27;Not_Purchasing_Unfamiliar_vendor&#x27;, &#x27;Who_Pays_for_Access_Dont_Know&#x27;, &#x27;Who_Pays_for_Access_Other&#x27;, &#x27;Who_Pays_for_Access_Parents&#x27;, &#x27;Who_Pays_for_Access_School&#x27;, &#x27;Who_Pays_for_Access_Self&#x27;]</pre></div></div></div><div class=\"sk-serial\"><div class=\"sk-item\"><div class=\"sk-serial\"><div class=\"sk-item\"><div class=\"sk-estimator sk-toggleable\"><input class=\"sk-toggleable__control sk-hidden--visually\" id=\"sk-estimator-id-544\" type=\"checkbox\" ><label for=\"sk-estimator-id-544\" class=\"sk-toggleable__label sk-toggleable__label-arrow\">SimpleImputer</label><div class=\"sk-toggleable__content\"><pre>SimpleImputer(strategy=&#x27;median&#x27;)</pre></div></div></div></div></div></div></div></div><div class=\"sk-parallel-item\"><div class=\"sk-item\"><div class=\"sk-label-container\"><div class=\"sk-label sk-toggleable\"><input class=\"sk-toggleable__control sk-hidden--visually\" id=\"sk-estimator-id-545\" type=\"checkbox\" ><label for=\"sk-estimator-id-545\" class=\"sk-toggleable__label sk-toggleable__label-arrow\">ordinal_encoder</label><div class=\"sk-toggleable__content\"><pre>[&#x27;Actual_Time&#x27;, &#x27;Community_Building&#x27;, &#x27;Country&#x27;, &#x27;Education_Attainment&#x27;, &#x27;Falsification_of_Information&#x27;, &#x27;Household_Income&#x27;, &#x27;Major_Geographical_Location&#x27;, &#x27;Major_Occupation&#x27;, &#x27;Marital_Status&#x27;, &#x27;Most_Import_Issue_Facing_the_Internet&#x27;, &#x27;Opinions_on_Censorship&#x27;, &#x27;Primary_Computing_Platform&#x27;, &#x27;Primary_Language&#x27;, &#x27;Primary_Place_of_WWW_Access&#x27;, &#x27;Race&#x27;, &#x27;Registered_to_Vote&#x27;, &#x27;Sexual_Preference&#x27;, &#x27;Web_Ordering&#x27;, &#x27;Web_Page_Creation&#x27;]</pre></div></div></div><div class=\"sk-serial\"><div class=\"sk-item\"><div class=\"sk-serial\"><div class=\"sk-item\"><div class=\"sk-estimator sk-toggleable\"><input class=\"sk-toggleable__control sk-hidden--visually\" id=\"sk-estimator-id-546\" type=\"checkbox\" ><label for=\"sk-estimator-id-546\" class=\"sk-toggleable__label sk-toggleable__label-arrow\">SimpleImputer</label><div class=\"sk-toggleable__content\"><pre>SimpleImputer(strategy=&#x27;most_frequent&#x27;)</pre></div></div></div><div class=\"sk-item\"><div class=\"sk-estimator sk-toggleable\"><input class=\"sk-toggleable__control sk-hidden--visually\" id=\"sk-estimator-id-547\" type=\"checkbox\" ><label for=\"sk-estimator-id-547\" class=\"sk-toggleable__label sk-toggleable__label-arrow\">OrdinalEncoder</label><div class=\"sk-toggleable__content\"><pre>OrdinalEncoder(dtype=&lt;class &#x27;int&#x27;&gt;, encoded_missing_value=99999,\n",
       "               handle_unknown=&#x27;use_encoded_value&#x27;, unknown_value=99999)</pre></div></div></div></div></div></div></div></div></div></div><div class=\"sk-item\"><div class=\"sk-estimator sk-toggleable\"><input class=\"sk-toggleable__control sk-hidden--visually\" id=\"sk-estimator-id-548\" type=\"checkbox\" ><label for=\"sk-estimator-id-548\" class=\"sk-toggleable__label sk-toggleable__label-arrow\">HistGradientBoostingClassifier</label><div class=\"sk-toggleable__content\"><pre>HistGradientBoostingClassifier(class_weight=&#x27;balanced&#x27;, early_stopping=False,\n",
       "                               min_samples_leaf=30, random_state=1234,\n",
       "                               scoring=&#x27;balanced_accuracy&#x27;)</pre></div></div></div></div></div></div></div></div></div></div></div></div>"
      ],
      "text/plain": [
       "RandomizedSearchCV(cv=StratifiedKFold(n_splits=3, random_state=1234, shuffle=True),\n",
       "                   estimator=Pipeline(steps=[('preprocessing',\n",
       "                                              ColumnTransformer(sparse_threshold=0,\n",
       "                                                                transformers=[('num',\n",
       "                                                                               Pipeline(steps=[('imputer',\n",
       "                                                                                                SimpleImputer(strategy='median'))]),\n",
       "                                                                               ['Community_Membership_Family',\n",
       "                                                                                'Community_Membership_Hobbies',\n",
       "                                                                                'Community_Membership_None',\n",
       "                                                                                'Community_Memb...\n",
       "                   param_distributions={'model__learning_rate': <scipy.stats._distn_infrastructure.rv_continuous_frozen object at 0x000001CDE78041C0>,\n",
       "                                        'model__max_iter': <scipy.stats._distn_infrastructure.rv_discrete_frozen object at 0x000001CDE7808100>,\n",
       "                                        'model__min_samples_leaf': <scipy.stats._distn_infrastructure.rv_discrete_frozen object at 0x000001CDE77F4430>},\n",
       "                   random_state=1234, scoring='balanced_accuracy')"
      ]
     },
     "execution_count": 467,
     "metadata": {},
     "output_type": "execute_result"
    }
   ],
   "source": [
    "# Display pipeline\n",
    "print(\"Time taken: \", ordinal_hgb_tune_time_taken)\n",
    "ordinal_hgb_tune"
   ]
  },
  {
   "cell_type": "code",
   "execution_count": 468,
   "id": "a445354e",
   "metadata": {},
   "outputs": [],
   "source": [
    "tic = time.time()\n",
    "\n",
    "ordinal_hgb_tune9 = ordinal_hgb_tune9.fit(X_train, y_train)\n",
    "\n",
    "toc = time.time()\n",
    "ordinal_hgb_tune9_time_taken = toc-tic"
   ]
  },
  {
   "cell_type": "code",
   "execution_count": 469,
   "metadata": {},
   "outputs": [
    {
     "name": "stdout",
     "output_type": "stream",
     "text": [
      "Time taken:  47.762805461883545\n"
     ]
    },
    {
     "data": {
      "text/html": [
       "<style>#sk-container-id-58 {color: black;}#sk-container-id-58 pre{padding: 0;}#sk-container-id-58 div.sk-toggleable {background-color: white;}#sk-container-id-58 label.sk-toggleable__label {cursor: pointer;display: block;width: 100%;margin-bottom: 0;padding: 0.3em;box-sizing: border-box;text-align: center;}#sk-container-id-58 label.sk-toggleable__label-arrow:before {content: \"▸\";float: left;margin-right: 0.25em;color: #696969;}#sk-container-id-58 label.sk-toggleable__label-arrow:hover:before {color: black;}#sk-container-id-58 div.sk-estimator:hover label.sk-toggleable__label-arrow:before {color: black;}#sk-container-id-58 div.sk-toggleable__content {max-height: 0;max-width: 0;overflow: hidden;text-align: left;background-color: #f0f8ff;}#sk-container-id-58 div.sk-toggleable__content pre {margin: 0.2em;color: black;border-radius: 0.25em;background-color: #f0f8ff;}#sk-container-id-58 input.sk-toggleable__control:checked~div.sk-toggleable__content {max-height: 200px;max-width: 100%;overflow: auto;}#sk-container-id-58 input.sk-toggleable__control:checked~label.sk-toggleable__label-arrow:before {content: \"▾\";}#sk-container-id-58 div.sk-estimator input.sk-toggleable__control:checked~label.sk-toggleable__label {background-color: #d4ebff;}#sk-container-id-58 div.sk-label input.sk-toggleable__control:checked~label.sk-toggleable__label {background-color: #d4ebff;}#sk-container-id-58 input.sk-hidden--visually {border: 0;clip: rect(1px 1px 1px 1px);clip: rect(1px, 1px, 1px, 1px);height: 1px;margin: -1px;overflow: hidden;padding: 0;position: absolute;width: 1px;}#sk-container-id-58 div.sk-estimator {font-family: monospace;background-color: #f0f8ff;border: 1px dotted black;border-radius: 0.25em;box-sizing: border-box;margin-bottom: 0.5em;}#sk-container-id-58 div.sk-estimator:hover {background-color: #d4ebff;}#sk-container-id-58 div.sk-parallel-item::after {content: \"\";width: 100%;border-bottom: 1px solid gray;flex-grow: 1;}#sk-container-id-58 div.sk-label:hover label.sk-toggleable__label {background-color: #d4ebff;}#sk-container-id-58 div.sk-serial::before {content: \"\";position: absolute;border-left: 1px solid gray;box-sizing: border-box;top: 0;bottom: 0;left: 50%;z-index: 0;}#sk-container-id-58 div.sk-serial {display: flex;flex-direction: column;align-items: center;background-color: white;padding-right: 0.2em;padding-left: 0.2em;position: relative;}#sk-container-id-58 div.sk-item {position: relative;z-index: 1;}#sk-container-id-58 div.sk-parallel {display: flex;align-items: stretch;justify-content: center;background-color: white;position: relative;}#sk-container-id-58 div.sk-item::before, #sk-container-id-58 div.sk-parallel-item::before {content: \"\";position: absolute;border-left: 1px solid gray;box-sizing: border-box;top: 0;bottom: 0;left: 50%;z-index: -1;}#sk-container-id-58 div.sk-parallel-item {display: flex;flex-direction: column;z-index: 1;position: relative;background-color: white;}#sk-container-id-58 div.sk-parallel-item:first-child::after {align-self: flex-end;width: 50%;}#sk-container-id-58 div.sk-parallel-item:last-child::after {align-self: flex-start;width: 50%;}#sk-container-id-58 div.sk-parallel-item:only-child::after {width: 0;}#sk-container-id-58 div.sk-dashed-wrapped {border: 1px dashed gray;margin: 0 0.4em 0.5em 0.4em;box-sizing: border-box;padding-bottom: 0.4em;background-color: white;}#sk-container-id-58 div.sk-label label {font-family: monospace;font-weight: bold;display: inline-block;line-height: 1.2em;}#sk-container-id-58 div.sk-label-container {text-align: center;}#sk-container-id-58 div.sk-container {/* jupyter's `normalize.less` sets `[hidden] { display: none; }` but bootstrap.min.css set `[hidden] { display: none !important; }` so we also need the `!important` here to be able to override the default hidden behavior on the sphinx rendered scikit-learn.org. See: https://github.com/scikit-learn/scikit-learn/issues/21755 */display: inline-block !important;position: relative;}#sk-container-id-58 div.sk-text-repr-fallback {display: none;}</style><div id=\"sk-container-id-58\" class=\"sk-top-container\"><div class=\"sk-text-repr-fallback\"><pre>RandomizedSearchCV(cv=StratifiedKFold(n_splits=3, random_state=1234, shuffle=True),\n",
       "                   estimator=Pipeline(steps=[(&#x27;preprocessing&#x27;,\n",
       "                                              ColumnTransformer(sparse_threshold=0,\n",
       "                                                                transformers=[(&#x27;num&#x27;,\n",
       "                                                                               Pipeline(steps=[(&#x27;imputer&#x27;,\n",
       "                                                                                                SimpleImputer(strategy=&#x27;median&#x27;))]),\n",
       "                                                                               [&#x27;Community_Membership_Family&#x27;,\n",
       "                                                                                &#x27;Community_Membership_Hobbies&#x27;,\n",
       "                                                                                &#x27;Community_Membership_None&#x27;,\n",
       "                                                                                &#x27;Community_Memb...\n",
       "                   param_distributions={&#x27;model__learning_rate&#x27;: &lt;scipy.stats._distn_infrastructure.rv_continuous_frozen object at 0x000001CDE78041C0&gt;,\n",
       "                                        &#x27;model__max_iter&#x27;: &lt;scipy.stats._distn_infrastructure.rv_discrete_frozen object at 0x000001CDE7808100&gt;,\n",
       "                                        &#x27;model__min_samples_leaf&#x27;: &lt;scipy.stats._distn_infrastructure.rv_discrete_frozen object at 0x000001CDE77F4430&gt;},\n",
       "                   random_state=1234, scoring=&#x27;balanced_accuracy&#x27;)</pre><b>In a Jupyter environment, please rerun this cell to show the HTML representation or trust the notebook. <br />On GitHub, the HTML representation is unable to render, please try loading this page with nbviewer.org.</b></div><div class=\"sk-container\" hidden><div class=\"sk-item sk-dashed-wrapped\"><div class=\"sk-label-container\"><div class=\"sk-label sk-toggleable\"><input class=\"sk-toggleable__control sk-hidden--visually\" id=\"sk-estimator-id-549\" type=\"checkbox\" ><label for=\"sk-estimator-id-549\" class=\"sk-toggleable__label sk-toggleable__label-arrow\">RandomizedSearchCV</label><div class=\"sk-toggleable__content\"><pre>RandomizedSearchCV(cv=StratifiedKFold(n_splits=3, random_state=1234, shuffle=True),\n",
       "                   estimator=Pipeline(steps=[(&#x27;preprocessing&#x27;,\n",
       "                                              ColumnTransformer(sparse_threshold=0,\n",
       "                                                                transformers=[(&#x27;num&#x27;,\n",
       "                                                                               Pipeline(steps=[(&#x27;imputer&#x27;,\n",
       "                                                                                                SimpleImputer(strategy=&#x27;median&#x27;))]),\n",
       "                                                                               [&#x27;Community_Membership_Family&#x27;,\n",
       "                                                                                &#x27;Community_Membership_Hobbies&#x27;,\n",
       "                                                                                &#x27;Community_Membership_None&#x27;,\n",
       "                                                                                &#x27;Community_Memb...\n",
       "                   param_distributions={&#x27;model__learning_rate&#x27;: &lt;scipy.stats._distn_infrastructure.rv_continuous_frozen object at 0x000001CDE78041C0&gt;,\n",
       "                                        &#x27;model__max_iter&#x27;: &lt;scipy.stats._distn_infrastructure.rv_discrete_frozen object at 0x000001CDE7808100&gt;,\n",
       "                                        &#x27;model__min_samples_leaf&#x27;: &lt;scipy.stats._distn_infrastructure.rv_discrete_frozen object at 0x000001CDE77F4430&gt;},\n",
       "                   random_state=1234, scoring=&#x27;balanced_accuracy&#x27;)</pre></div></div></div><div class=\"sk-parallel\"><div class=\"sk-parallel-item\"><div class=\"sk-item\"><div class=\"sk-label-container\"><div class=\"sk-label sk-toggleable\"><input class=\"sk-toggleable__control sk-hidden--visually\" id=\"sk-estimator-id-550\" type=\"checkbox\" ><label for=\"sk-estimator-id-550\" class=\"sk-toggleable__label sk-toggleable__label-arrow\">estimator: Pipeline</label><div class=\"sk-toggleable__content\"><pre>Pipeline(steps=[(&#x27;preprocessing&#x27;,\n",
       "                 ColumnTransformer(sparse_threshold=0,\n",
       "                                   transformers=[(&#x27;num&#x27;,\n",
       "                                                  Pipeline(steps=[(&#x27;imputer&#x27;,\n",
       "                                                                   SimpleImputer(strategy=&#x27;median&#x27;))]),\n",
       "                                                  [&#x27;Community_Membership_Family&#x27;,\n",
       "                                                   &#x27;Community_Membership_Hobbies&#x27;,\n",
       "                                                   &#x27;Community_Membership_None&#x27;,\n",
       "                                                   &#x27;Community_Membership_Other&#x27;,\n",
       "                                                   &#x27;Community_Membership_Political&#x27;,\n",
       "                                                   &#x27;Community_Membership_Professional&#x27;,\n",
       "                                                   &#x27;Communi...\n",
       "                                                   &#x27;Marital_Status&#x27;,\n",
       "                                                   &#x27;Most_Import_Issue_Facing_the_Internet&#x27;,\n",
       "                                                   &#x27;Opinions_on_Censorship&#x27;,\n",
       "                                                   &#x27;Primary_Place_of_WWW_Access&#x27;,\n",
       "                                                   &#x27;Race&#x27;, &#x27;Registered_to_Vote&#x27;,\n",
       "                                                   &#x27;Sexual_Preference&#x27;,\n",
       "                                                   &#x27;Web_Ordering&#x27;,\n",
       "                                                   &#x27;Web_Page_Creation&#x27;])])),\n",
       "                (&#x27;model&#x27;,\n",
       "                 HistGradientBoostingClassifier(class_weight=&#x27;balanced&#x27;,\n",
       "                                                early_stopping=False,\n",
       "                                                min_samples_leaf=30,\n",
       "                                                random_state=1234,\n",
       "                                                scoring=&#x27;balanced_accuracy&#x27;))])</pre></div></div></div><div class=\"sk-serial\"><div class=\"sk-item\"><div class=\"sk-serial\"><div class=\"sk-item sk-dashed-wrapped\"><div class=\"sk-label-container\"><div class=\"sk-label sk-toggleable\"><input class=\"sk-toggleable__control sk-hidden--visually\" id=\"sk-estimator-id-551\" type=\"checkbox\" ><label for=\"sk-estimator-id-551\" class=\"sk-toggleable__label sk-toggleable__label-arrow\">preprocessing: ColumnTransformer</label><div class=\"sk-toggleable__content\"><pre>ColumnTransformer(sparse_threshold=0,\n",
       "                  transformers=[(&#x27;num&#x27;,\n",
       "                                 Pipeline(steps=[(&#x27;imputer&#x27;,\n",
       "                                                  SimpleImputer(strategy=&#x27;median&#x27;))]),\n",
       "                                 [&#x27;Community_Membership_Family&#x27;,\n",
       "                                  &#x27;Community_Membership_Hobbies&#x27;,\n",
       "                                  &#x27;Community_Membership_None&#x27;,\n",
       "                                  &#x27;Community_Membership_Other&#x27;,\n",
       "                                  &#x27;Community_Membership_Political&#x27;,\n",
       "                                  &#x27;Community_Membership_Professional&#x27;,\n",
       "                                  &#x27;Community_Membership_Religious&#x27;,\n",
       "                                  &#x27;Communi...\n",
       "                                                  OneHotEncoder(drop=&#x27;first&#x27;,\n",
       "                                                                handle_unknown=&#x27;ignore&#x27;))]),\n",
       "                                 [&#x27;Community_Building&#x27;, &#x27;Education_Attainment&#x27;,\n",
       "                                  &#x27;Falsification_of_Information&#x27;,\n",
       "                                  &#x27;Household_Income&#x27;, &#x27;Major_Occupation&#x27;,\n",
       "                                  &#x27;Marital_Status&#x27;,\n",
       "                                  &#x27;Most_Import_Issue_Facing_the_Internet&#x27;,\n",
       "                                  &#x27;Opinions_on_Censorship&#x27;,\n",
       "                                  &#x27;Primary_Place_of_WWW_Access&#x27;, &#x27;Race&#x27;,\n",
       "                                  &#x27;Registered_to_Vote&#x27;, &#x27;Sexual_Preference&#x27;,\n",
       "                                  &#x27;Web_Ordering&#x27;, &#x27;Web_Page_Creation&#x27;])])</pre></div></div></div><div class=\"sk-parallel\"><div class=\"sk-parallel-item\"><div class=\"sk-item\"><div class=\"sk-label-container\"><div class=\"sk-label sk-toggleable\"><input class=\"sk-toggleable__control sk-hidden--visually\" id=\"sk-estimator-id-552\" type=\"checkbox\" ><label for=\"sk-estimator-id-552\" class=\"sk-toggleable__label sk-toggleable__label-arrow\">num</label><div class=\"sk-toggleable__content\"><pre>[&#x27;Community_Membership_Family&#x27;, &#x27;Community_Membership_Hobbies&#x27;, &#x27;Community_Membership_None&#x27;, &#x27;Community_Membership_Other&#x27;, &#x27;Community_Membership_Political&#x27;, &#x27;Community_Membership_Professional&#x27;, &#x27;Community_Membership_Religious&#x27;, &#x27;Community_Membership_Support&#x27;, &#x27;Disability_Cognitive&#x27;, &#x27;Disability_Hearing&#x27;, &#x27;Disability_Motor&#x27;, &#x27;Disability_Not_Impaired&#x27;, &#x27;Disability_Not_Say&#x27;, &#x27;Disability_Vision&#x27;, &#x27;Gender&#x27;, &#x27;How_You_Heard_About_Survey_Banner&#x27;, &#x27;How_You_Heard_About_Survey_Friend&#x27;, &#x27;How_You_Heard_About_Survey_Mailing_List&#x27;, &#x27;How_You_Heard_About_Survey_Others&#x27;, &#x27;How_You_Heard_About_Survey_Printed_Media&#x27;, &#x27;How_You_Heard_About_Survey_Remebered&#x27;, &#x27;How_You_Heard_About_Survey_Search_Engine&#x27;, &#x27;How_You_Heard_About_Survey_Usenet_News&#x27;, &#x27;How_You_Heard_About_Survey_WWW_Page&#x27;, &#x27;Not_Purchasing_Bad_experience&#x27;, &#x27;Not_Purchasing_Bad_press&#x27;, &#x27;Not_Purchasing_Cant_find&#x27;, &#x27;Not_Purchasing_Company_policy&#x27;, &#x27;Not_Purchasing_Easier_locally&#x27;, &#x27;Not_Purchasing_Enough_info&#x27;, &#x27;Not_Purchasing_Judge_quality&#x27;, &#x27;Not_Purchasing_Never_tried&#x27;, &#x27;Not_Purchasing_No_credit&#x27;, &#x27;Not_Purchasing_Not_applicable&#x27;, &#x27;Not_Purchasing_Not_option&#x27;, &#x27;Not_Purchasing_Other&#x27;, &#x27;Not_Purchasing_Prefer_people&#x27;, &#x27;Not_Purchasing_Privacy&#x27;, &#x27;Not_Purchasing_Receipt&#x27;, &#x27;Not_Purchasing_Security&#x27;, &#x27;Not_Purchasing_Too_complicated&#x27;, &#x27;Not_Purchasing_Uncomfortable&#x27;, &#x27;Not_Purchasing_Unfamiliar_vendor&#x27;, &#x27;Who_Pays_for_Access_Dont_Know&#x27;, &#x27;Who_Pays_for_Access_Other&#x27;, &#x27;Who_Pays_for_Access_Parents&#x27;, &#x27;Who_Pays_for_Access_School&#x27;, &#x27;Who_Pays_for_Access_Self&#x27;]</pre></div></div></div><div class=\"sk-serial\"><div class=\"sk-item\"><div class=\"sk-serial\"><div class=\"sk-item\"><div class=\"sk-estimator sk-toggleable\"><input class=\"sk-toggleable__control sk-hidden--visually\" id=\"sk-estimator-id-553\" type=\"checkbox\" ><label for=\"sk-estimator-id-553\" class=\"sk-toggleable__label sk-toggleable__label-arrow\">SimpleImputer</label><div class=\"sk-toggleable__content\"><pre>SimpleImputer(strategy=&#x27;median&#x27;)</pre></div></div></div></div></div></div></div></div><div class=\"sk-parallel-item\"><div class=\"sk-item\"><div class=\"sk-label-container\"><div class=\"sk-label sk-toggleable\"><input class=\"sk-toggleable__control sk-hidden--visually\" id=\"sk-estimator-id-554\" type=\"checkbox\" ><label for=\"sk-estimator-id-554\" class=\"sk-toggleable__label sk-toggleable__label-arrow\">ordinal_encoder</label><div class=\"sk-toggleable__content\"><pre>[&#x27;Actual_Time&#x27;, &#x27;Country&#x27;, &#x27;Major_Geographical_Location&#x27;, &#x27;Primary_Computing_Platform&#x27;, &#x27;Primary_Language&#x27;]</pre></div></div></div><div class=\"sk-serial\"><div class=\"sk-item\"><div class=\"sk-serial\"><div class=\"sk-item\"><div class=\"sk-estimator sk-toggleable\"><input class=\"sk-toggleable__control sk-hidden--visually\" id=\"sk-estimator-id-555\" type=\"checkbox\" ><label for=\"sk-estimator-id-555\" class=\"sk-toggleable__label sk-toggleable__label-arrow\">SimpleImputer</label><div class=\"sk-toggleable__content\"><pre>SimpleImputer(strategy=&#x27;most_frequent&#x27;)</pre></div></div></div><div class=\"sk-item\"><div class=\"sk-estimator sk-toggleable\"><input class=\"sk-toggleable__control sk-hidden--visually\" id=\"sk-estimator-id-556\" type=\"checkbox\" ><label for=\"sk-estimator-id-556\" class=\"sk-toggleable__label sk-toggleable__label-arrow\">OrdinalEncoder</label><div class=\"sk-toggleable__content\"><pre>OrdinalEncoder(dtype=&lt;class &#x27;int&#x27;&gt;, encoded_missing_value=99999,\n",
       "               handle_unknown=&#x27;use_encoded_value&#x27;, unknown_value=99999)</pre></div></div></div></div></div></div></div></div><div class=\"sk-parallel-item\"><div class=\"sk-item\"><div class=\"sk-label-container\"><div class=\"sk-label sk-toggleable\"><input class=\"sk-toggleable__control sk-hidden--visually\" id=\"sk-estimator-id-557\" type=\"checkbox\" ><label for=\"sk-estimator-id-557\" class=\"sk-toggleable__label sk-toggleable__label-arrow\">one_hot_encoding</label><div class=\"sk-toggleable__content\"><pre>[&#x27;Community_Building&#x27;, &#x27;Education_Attainment&#x27;, &#x27;Falsification_of_Information&#x27;, &#x27;Household_Income&#x27;, &#x27;Major_Occupation&#x27;, &#x27;Marital_Status&#x27;, &#x27;Most_Import_Issue_Facing_the_Internet&#x27;, &#x27;Opinions_on_Censorship&#x27;, &#x27;Primary_Place_of_WWW_Access&#x27;, &#x27;Race&#x27;, &#x27;Registered_to_Vote&#x27;, &#x27;Sexual_Preference&#x27;, &#x27;Web_Ordering&#x27;, &#x27;Web_Page_Creation&#x27;]</pre></div></div></div><div class=\"sk-serial\"><div class=\"sk-item\"><div class=\"sk-serial\"><div class=\"sk-item\"><div class=\"sk-estimator sk-toggleable\"><input class=\"sk-toggleable__control sk-hidden--visually\" id=\"sk-estimator-id-558\" type=\"checkbox\" ><label for=\"sk-estimator-id-558\" class=\"sk-toggleable__label sk-toggleable__label-arrow\">SimpleImputer</label><div class=\"sk-toggleable__content\"><pre>SimpleImputer(strategy=&#x27;most_frequent&#x27;)</pre></div></div></div><div class=\"sk-item\"><div class=\"sk-estimator sk-toggleable\"><input class=\"sk-toggleable__control sk-hidden--visually\" id=\"sk-estimator-id-559\" type=\"checkbox\" ><label for=\"sk-estimator-id-559\" class=\"sk-toggleable__label sk-toggleable__label-arrow\">OneHotEncoder</label><div class=\"sk-toggleable__content\"><pre>OneHotEncoder(drop=&#x27;first&#x27;, handle_unknown=&#x27;ignore&#x27;)</pre></div></div></div></div></div></div></div></div></div></div><div class=\"sk-item\"><div class=\"sk-estimator sk-toggleable\"><input class=\"sk-toggleable__control sk-hidden--visually\" id=\"sk-estimator-id-560\" type=\"checkbox\" ><label for=\"sk-estimator-id-560\" class=\"sk-toggleable__label sk-toggleable__label-arrow\">HistGradientBoostingClassifier</label><div class=\"sk-toggleable__content\"><pre>HistGradientBoostingClassifier(class_weight=&#x27;balanced&#x27;, early_stopping=False,\n",
       "                               min_samples_leaf=30, random_state=1234,\n",
       "                               scoring=&#x27;balanced_accuracy&#x27;)</pre></div></div></div></div></div></div></div></div></div></div></div></div>"
      ],
      "text/plain": [
       "RandomizedSearchCV(cv=StratifiedKFold(n_splits=3, random_state=1234, shuffle=True),\n",
       "                   estimator=Pipeline(steps=[('preprocessing',\n",
       "                                              ColumnTransformer(sparse_threshold=0,\n",
       "                                                                transformers=[('num',\n",
       "                                                                               Pipeline(steps=[('imputer',\n",
       "                                                                                                SimpleImputer(strategy='median'))]),\n",
       "                                                                               ['Community_Membership_Family',\n",
       "                                                                                'Community_Membership_Hobbies',\n",
       "                                                                                'Community_Membership_None',\n",
       "                                                                                'Community_Memb...\n",
       "                   param_distributions={'model__learning_rate': <scipy.stats._distn_infrastructure.rv_continuous_frozen object at 0x000001CDE78041C0>,\n",
       "                                        'model__max_iter': <scipy.stats._distn_infrastructure.rv_discrete_frozen object at 0x000001CDE7808100>,\n",
       "                                        'model__min_samples_leaf': <scipy.stats._distn_infrastructure.rv_discrete_frozen object at 0x000001CDE77F4430>},\n",
       "                   random_state=1234, scoring='balanced_accuracy')"
      ]
     },
     "execution_count": 469,
     "metadata": {},
     "output_type": "execute_result"
    }
   ],
   "source": [
    "# Display pipeline\n",
    "print(\"Time taken: \", ordinal_hgb_tune9_time_taken)\n",
    "ordinal_hgb_tune9"
   ]
  },
  {
   "cell_type": "code",
   "execution_count": 470,
   "id": "d40efae2",
   "metadata": {},
   "outputs": [
    {
     "name": "stdout",
     "output_type": "stream",
     "text": [
      "Best parameters: {'model__learning_rate': 0.06745583511366768, 'model__max_iter': 63, 'model__min_samples_leaf': 22}\n",
      "Balanced accuracy with best parameters: 0.8872950819672132\n"
     ]
    }
   ],
   "source": [
    "# Predict using the model with the best parameters\n",
    "y_ordinal_hgb_tune_pred = ordinal_hgb_tune.predict(X_test)\n",
    "\n",
    "# Get the best parameters\n",
    "ordinal_hgb_tune_best_params = ordinal_hgb_tune.best_params_\n",
    "print(f'Best parameters: {ordinal_hgb_tune_best_params}')\n",
    "\n",
    "# Calculate balanced accuracy for the model with the best parameters\n",
    "ordinal_hgb_tune_accuracy = balanced_accuracy_score(y_test, y_ordinal_hgb_tune_pred)\n",
    "print(f'Balanced accuracy with best parameters: {ordinal_hgb_tune_accuracy}')\n",
    "\n",
    "# Save results\n",
    "default_summary.append(\"Tune\")\n",
    "card_9_summary.append(\"AllVariables\")\n",
    "encoder_summary.append(\"OrdinalEncoder\")\n",
    "value_summary.append(ordinal_hgb_tune_accuracy)\n",
    "time_summary.append(ordinal_hgb_tune_time_taken)\n",
    "n_models_summary.append(ordinal_hgb_tune.n_iter)"
   ]
  },
  {
   "cell_type": "code",
   "execution_count": 471,
   "id": "b5cecc7f",
   "metadata": {},
   "outputs": [
    {
     "name": "stdout",
     "output_type": "stream",
     "text": [
      "Best parameters: {'model__learning_rate': 0.06745583511366768, 'model__max_iter': 63, 'model__min_samples_leaf': 22}\n",
      "Balanced accuracy with best parameters: 0.8757940573770492\n"
     ]
    }
   ],
   "source": [
    "# Predict using the model with the best parameters\n",
    "y_ordinal_hgb_tune_pred9 = ordinal_hgb_tune9.predict(X_test)\n",
    "\n",
    "# Get the best parameters\n",
    "ordinal_hgb_tune_best_params9 = ordinal_hgb_tune9.best_params_\n",
    "print(f'Best parameters: {ordinal_hgb_tune_best_params9}')\n",
    "\n",
    "# Calculate balanced accuracy for the model with the best parameters\n",
    "ordinal_hgb_tune_accuracy9 = balanced_accuracy_score(y_test, y_ordinal_hgb_tune_pred9)\n",
    "print(f'Balanced accuracy with best parameters: {ordinal_hgb_tune_accuracy9}')\n",
    "\n",
    "# Save results\n",
    "default_summary.append(\"Tune\")\n",
    "card_9_summary.append(\"OnlyVariablesWithCard>9\")\n",
    "encoder_summary.append(\"OrdinalEncoder\")\n",
    "value_summary.append(ordinal_hgb_tune_accuracy9)\n",
    "time_summary.append(ordinal_hgb_tune9_time_taken)\n",
    "n_models_summary.append(ordinal_hgb_tune9.n_iter)"
   ]
  },
  {
   "cell_type": "markdown",
   "id": "2f8b5553",
   "metadata": {},
   "source": [
    " "
   ]
  },
  {
   "cell_type": "markdown",
   "id": "985ecffa",
   "metadata": {},
   "source": [
    "### Native HistGradientBoosting support for categorical variables\n"
   ]
  },
  {
   "cell_type": "code",
   "execution_count": 472,
   "id": "6bd403bb",
   "metadata": {},
   "outputs": [],
   "source": [
    "from sklearn.preprocessing import OrdinalEncoder"
   ]
  },
  {
   "cell_type": "markdown",
   "id": "681d104a",
   "metadata": {},
   "source": [
    "#### Preprocessing"
   ]
  },
  {
   "cell_type": "code",
   "execution_count": 473,
   "id": "2c5d7bd7",
   "metadata": {},
   "outputs": [],
   "source": [
    "cat_pipeline_more9 = Pipeline([\n",
    "    (\"imputer\", SimpleImputer(strategy = \"most_frequent\")),\n",
    "    (\"encoder\", OrdinalEncoder(dtype = int,\n",
    "                               handle_unknown = 'use_encoded_value',\n",
    "                               unknown_value = 99999,\n",
    "                               encoded_missing_value = 99999,\n",
    "                               max_categories = 254))\n",
    "])\n",
    "\n",
    "cat_pipeline_less9 = Pipeline([\n",
    "    (\"imputer\", SimpleImputer(strategy = \"most_frequent\")),\n",
    "    (\"encoder\", OneHotEncoder(drop = \"first\", handle_unknown = \"ignore\"))\n",
    "])\n",
    "\n",
    "preprop_pipeline = ColumnTransformer(\n",
    "    transformers = [(\"num\", num_pipeline, num_cols),\n",
    "                    (\"cat\", cat_pipeline_more9, cat_cols)],\n",
    "    sparse_threshold=0\n",
    ")\n",
    "\n",
    "preprop_pipeline9 = ColumnTransformer(\n",
    "    transformers = [(\"num\", num_pipeline, num_cols),\n",
    "                    (\"one_hot_encoding\", cat_pipeline_less9, cat_cols_less9),\n",
    "                    (\"ordinal_encoding\", cat_pipeline_more9, cat_cols_more9)\n",
    "                    ],\n",
    "    sparse_threshold=0\n",
    ")"
   ]
  },
  {
   "cell_type": "code",
   "execution_count": 474,
   "id": "67969826",
   "metadata": {},
   "outputs": [],
   "source": [
    "category_features_for_nativesupport = [False]*len(num_cols) + [True]*len(cat_cols)\n",
    "\n",
    "X_train_check = preprop_pipeline9.fit_transform(X_train)\n",
    "category_features_for_nativesupport9 = [False]*(X_train_check.shape[1]-len(cat_cols_more9)) + [True]*len(cat_cols_more9)"
   ]
  },
  {
   "cell_type": "code",
   "execution_count": 475,
   "id": "a0fc9a12",
   "metadata": {},
   "outputs": [],
   "source": [
    "hgb_default_categories_support = HistGradientBoostingClassifier(random_state=1234,\n",
    "                                                                early_stopping=False,\n",
    "                                                                min_samples_leaf=30,\n",
    "                                                                scoring='balanced_accuracy',\n",
    "                                                                class_weight='balanced',\n",
    "                                                                categorical_features=category_features_for_nativesupport)\n",
    "\n",
    "hgb_default_categories_support9 = HistGradientBoostingClassifier(random_state=1234,\n",
    "                                                                early_stopping=False,\n",
    "                                                                min_samples_leaf=30,\n",
    "                                                                scoring='balanced_accuracy',\n",
    "                                                                class_weight='balanced',\n",
    "                                                                categorical_features=category_features_for_nativesupport9)"
   ]
  },
  {
   "cell_type": "markdown",
   "id": "02fcc97d",
   "metadata": {},
   "source": [
    "#### Create a HistGradientBoostingClassifier model with default parameters and early stopping"
   ]
  },
  {
   "cell_type": "code",
   "execution_count": 476,
   "id": "6c468e79",
   "metadata": {},
   "outputs": [],
   "source": [
    "catsup_hgb_default_pipeline = Pipeline([('preprocessing', preprop_pipeline),\n",
    "                                        ('model', hgb_default_categories_support)])\n",
    "\n",
    "catsup_hgb_default_pipeline9 = Pipeline([('preprocessing', preprop_pipeline9),\n",
    "                                        ('model', hgb_default_categories_support9)])"
   ]
  },
  {
   "cell_type": "code",
   "execution_count": 477,
   "id": "5a99084d",
   "metadata": {},
   "outputs": [],
   "source": [
    "tic = time.time()\n",
    "\n",
    "catsup_hgb_default = catsup_hgb_default_pipeline.fit(X_train, y_train)\n",
    "\n",
    "toc = time.time()\n",
    "catsup_hgb_default_time_taken = toc-tic"
   ]
  },
  {
   "cell_type": "code",
   "execution_count": 478,
   "metadata": {},
   "outputs": [
    {
     "name": "stdout",
     "output_type": "stream",
     "text": [
      "Time taken:  1.0696344375610352\n"
     ]
    },
    {
     "data": {
      "text/html": [
       "<style>#sk-container-id-59 {color: black;}#sk-container-id-59 pre{padding: 0;}#sk-container-id-59 div.sk-toggleable {background-color: white;}#sk-container-id-59 label.sk-toggleable__label {cursor: pointer;display: block;width: 100%;margin-bottom: 0;padding: 0.3em;box-sizing: border-box;text-align: center;}#sk-container-id-59 label.sk-toggleable__label-arrow:before {content: \"▸\";float: left;margin-right: 0.25em;color: #696969;}#sk-container-id-59 label.sk-toggleable__label-arrow:hover:before {color: black;}#sk-container-id-59 div.sk-estimator:hover label.sk-toggleable__label-arrow:before {color: black;}#sk-container-id-59 div.sk-toggleable__content {max-height: 0;max-width: 0;overflow: hidden;text-align: left;background-color: #f0f8ff;}#sk-container-id-59 div.sk-toggleable__content pre {margin: 0.2em;color: black;border-radius: 0.25em;background-color: #f0f8ff;}#sk-container-id-59 input.sk-toggleable__control:checked~div.sk-toggleable__content {max-height: 200px;max-width: 100%;overflow: auto;}#sk-container-id-59 input.sk-toggleable__control:checked~label.sk-toggleable__label-arrow:before {content: \"▾\";}#sk-container-id-59 div.sk-estimator input.sk-toggleable__control:checked~label.sk-toggleable__label {background-color: #d4ebff;}#sk-container-id-59 div.sk-label input.sk-toggleable__control:checked~label.sk-toggleable__label {background-color: #d4ebff;}#sk-container-id-59 input.sk-hidden--visually {border: 0;clip: rect(1px 1px 1px 1px);clip: rect(1px, 1px, 1px, 1px);height: 1px;margin: -1px;overflow: hidden;padding: 0;position: absolute;width: 1px;}#sk-container-id-59 div.sk-estimator {font-family: monospace;background-color: #f0f8ff;border: 1px dotted black;border-radius: 0.25em;box-sizing: border-box;margin-bottom: 0.5em;}#sk-container-id-59 div.sk-estimator:hover {background-color: #d4ebff;}#sk-container-id-59 div.sk-parallel-item::after {content: \"\";width: 100%;border-bottom: 1px solid gray;flex-grow: 1;}#sk-container-id-59 div.sk-label:hover label.sk-toggleable__label {background-color: #d4ebff;}#sk-container-id-59 div.sk-serial::before {content: \"\";position: absolute;border-left: 1px solid gray;box-sizing: border-box;top: 0;bottom: 0;left: 50%;z-index: 0;}#sk-container-id-59 div.sk-serial {display: flex;flex-direction: column;align-items: center;background-color: white;padding-right: 0.2em;padding-left: 0.2em;position: relative;}#sk-container-id-59 div.sk-item {position: relative;z-index: 1;}#sk-container-id-59 div.sk-parallel {display: flex;align-items: stretch;justify-content: center;background-color: white;position: relative;}#sk-container-id-59 div.sk-item::before, #sk-container-id-59 div.sk-parallel-item::before {content: \"\";position: absolute;border-left: 1px solid gray;box-sizing: border-box;top: 0;bottom: 0;left: 50%;z-index: -1;}#sk-container-id-59 div.sk-parallel-item {display: flex;flex-direction: column;z-index: 1;position: relative;background-color: white;}#sk-container-id-59 div.sk-parallel-item:first-child::after {align-self: flex-end;width: 50%;}#sk-container-id-59 div.sk-parallel-item:last-child::after {align-self: flex-start;width: 50%;}#sk-container-id-59 div.sk-parallel-item:only-child::after {width: 0;}#sk-container-id-59 div.sk-dashed-wrapped {border: 1px dashed gray;margin: 0 0.4em 0.5em 0.4em;box-sizing: border-box;padding-bottom: 0.4em;background-color: white;}#sk-container-id-59 div.sk-label label {font-family: monospace;font-weight: bold;display: inline-block;line-height: 1.2em;}#sk-container-id-59 div.sk-label-container {text-align: center;}#sk-container-id-59 div.sk-container {/* jupyter's `normalize.less` sets `[hidden] { display: none; }` but bootstrap.min.css set `[hidden] { display: none !important; }` so we also need the `!important` here to be able to override the default hidden behavior on the sphinx rendered scikit-learn.org. See: https://github.com/scikit-learn/scikit-learn/issues/21755 */display: inline-block !important;position: relative;}#sk-container-id-59 div.sk-text-repr-fallback {display: none;}</style><div id=\"sk-container-id-59\" class=\"sk-top-container\"><div class=\"sk-text-repr-fallback\"><pre>Pipeline(steps=[(&#x27;preprocessing&#x27;,\n",
       "                 ColumnTransformer(sparse_threshold=0,\n",
       "                                   transformers=[(&#x27;num&#x27;,\n",
       "                                                  Pipeline(steps=[(&#x27;imputer&#x27;,\n",
       "                                                                   SimpleImputer(strategy=&#x27;median&#x27;))]),\n",
       "                                                  [&#x27;Community_Membership_Family&#x27;,\n",
       "                                                   &#x27;Community_Membership_Hobbies&#x27;,\n",
       "                                                   &#x27;Community_Membership_None&#x27;,\n",
       "                                                   &#x27;Community_Membership_Other&#x27;,\n",
       "                                                   &#x27;Community_Membership_Political&#x27;,\n",
       "                                                   &#x27;Community_Membership_Professional&#x27;,\n",
       "                                                   &#x27;Communi...\n",
       "                 HistGradientBoostingClassifier(categorical_features=[False,\n",
       "                                                                      False,\n",
       "                                                                      False,\n",
       "                                                                      False,\n",
       "                                                                      False,\n",
       "                                                                      False,\n",
       "                                                                      False,\n",
       "                                                                      False,\n",
       "                                                                      False,\n",
       "                                                                      False,\n",
       "                                                                      False,\n",
       "                                                                      False,\n",
       "                                                                      False,\n",
       "                                                                      False,\n",
       "                                                                      False,\n",
       "                                                                      False,\n",
       "                                                                      False,\n",
       "                                                                      False,\n",
       "                                                                      False,\n",
       "                                                                      False,\n",
       "                                                                      False,\n",
       "                                                                      False,\n",
       "                                                                      False,\n",
       "                                                                      False,\n",
       "                                                                      False,\n",
       "                                                                      False,\n",
       "                                                                      False,\n",
       "                                                                      False,\n",
       "                                                                      False,\n",
       "                                                                      False, ...],\n",
       "                                                class_weight=&#x27;balanced&#x27;,\n",
       "                                                early_stopping=False,\n",
       "                                                min_samples_leaf=30,\n",
       "                                                random_state=1234,\n",
       "                                                scoring=&#x27;balanced_accuracy&#x27;))])</pre><b>In a Jupyter environment, please rerun this cell to show the HTML representation or trust the notebook. <br />On GitHub, the HTML representation is unable to render, please try loading this page with nbviewer.org.</b></div><div class=\"sk-container\" hidden><div class=\"sk-item sk-dashed-wrapped\"><div class=\"sk-label-container\"><div class=\"sk-label sk-toggleable\"><input class=\"sk-toggleable__control sk-hidden--visually\" id=\"sk-estimator-id-561\" type=\"checkbox\" ><label for=\"sk-estimator-id-561\" class=\"sk-toggleable__label sk-toggleable__label-arrow\">Pipeline</label><div class=\"sk-toggleable__content\"><pre>Pipeline(steps=[(&#x27;preprocessing&#x27;,\n",
       "                 ColumnTransformer(sparse_threshold=0,\n",
       "                                   transformers=[(&#x27;num&#x27;,\n",
       "                                                  Pipeline(steps=[(&#x27;imputer&#x27;,\n",
       "                                                                   SimpleImputer(strategy=&#x27;median&#x27;))]),\n",
       "                                                  [&#x27;Community_Membership_Family&#x27;,\n",
       "                                                   &#x27;Community_Membership_Hobbies&#x27;,\n",
       "                                                   &#x27;Community_Membership_None&#x27;,\n",
       "                                                   &#x27;Community_Membership_Other&#x27;,\n",
       "                                                   &#x27;Community_Membership_Political&#x27;,\n",
       "                                                   &#x27;Community_Membership_Professional&#x27;,\n",
       "                                                   &#x27;Communi...\n",
       "                 HistGradientBoostingClassifier(categorical_features=[False,\n",
       "                                                                      False,\n",
       "                                                                      False,\n",
       "                                                                      False,\n",
       "                                                                      False,\n",
       "                                                                      False,\n",
       "                                                                      False,\n",
       "                                                                      False,\n",
       "                                                                      False,\n",
       "                                                                      False,\n",
       "                                                                      False,\n",
       "                                                                      False,\n",
       "                                                                      False,\n",
       "                                                                      False,\n",
       "                                                                      False,\n",
       "                                                                      False,\n",
       "                                                                      False,\n",
       "                                                                      False,\n",
       "                                                                      False,\n",
       "                                                                      False,\n",
       "                                                                      False,\n",
       "                                                                      False,\n",
       "                                                                      False,\n",
       "                                                                      False,\n",
       "                                                                      False,\n",
       "                                                                      False,\n",
       "                                                                      False,\n",
       "                                                                      False,\n",
       "                                                                      False,\n",
       "                                                                      False, ...],\n",
       "                                                class_weight=&#x27;balanced&#x27;,\n",
       "                                                early_stopping=False,\n",
       "                                                min_samples_leaf=30,\n",
       "                                                random_state=1234,\n",
       "                                                scoring=&#x27;balanced_accuracy&#x27;))])</pre></div></div></div><div class=\"sk-serial\"><div class=\"sk-item sk-dashed-wrapped\"><div class=\"sk-label-container\"><div class=\"sk-label sk-toggleable\"><input class=\"sk-toggleable__control sk-hidden--visually\" id=\"sk-estimator-id-562\" type=\"checkbox\" ><label for=\"sk-estimator-id-562\" class=\"sk-toggleable__label sk-toggleable__label-arrow\">preprocessing: ColumnTransformer</label><div class=\"sk-toggleable__content\"><pre>ColumnTransformer(sparse_threshold=0,\n",
       "                  transformers=[(&#x27;num&#x27;,\n",
       "                                 Pipeline(steps=[(&#x27;imputer&#x27;,\n",
       "                                                  SimpleImputer(strategy=&#x27;median&#x27;))]),\n",
       "                                 [&#x27;Community_Membership_Family&#x27;,\n",
       "                                  &#x27;Community_Membership_Hobbies&#x27;,\n",
       "                                  &#x27;Community_Membership_None&#x27;,\n",
       "                                  &#x27;Community_Membership_Other&#x27;,\n",
       "                                  &#x27;Community_Membership_Political&#x27;,\n",
       "                                  &#x27;Community_Membership_Professional&#x27;,\n",
       "                                  &#x27;Community_Membership_Religious&#x27;,\n",
       "                                  &#x27;Communi...\n",
       "                                  &#x27;Country&#x27;, &#x27;Education_Attainment&#x27;,\n",
       "                                  &#x27;Falsification_of_Information&#x27;,\n",
       "                                  &#x27;Household_Income&#x27;,\n",
       "                                  &#x27;Major_Geographical_Location&#x27;,\n",
       "                                  &#x27;Major_Occupation&#x27;, &#x27;Marital_Status&#x27;,\n",
       "                                  &#x27;Most_Import_Issue_Facing_the_Internet&#x27;,\n",
       "                                  &#x27;Opinions_on_Censorship&#x27;,\n",
       "                                  &#x27;Primary_Computing_Platform&#x27;,\n",
       "                                  &#x27;Primary_Language&#x27;,\n",
       "                                  &#x27;Primary_Place_of_WWW_Access&#x27;, &#x27;Race&#x27;,\n",
       "                                  &#x27;Registered_to_Vote&#x27;, &#x27;Sexual_Preference&#x27;,\n",
       "                                  &#x27;Web_Ordering&#x27;, &#x27;Web_Page_Creation&#x27;])])</pre></div></div></div><div class=\"sk-parallel\"><div class=\"sk-parallel-item\"><div class=\"sk-item\"><div class=\"sk-label-container\"><div class=\"sk-label sk-toggleable\"><input class=\"sk-toggleable__control sk-hidden--visually\" id=\"sk-estimator-id-563\" type=\"checkbox\" ><label for=\"sk-estimator-id-563\" class=\"sk-toggleable__label sk-toggleable__label-arrow\">num</label><div class=\"sk-toggleable__content\"><pre>[&#x27;Community_Membership_Family&#x27;, &#x27;Community_Membership_Hobbies&#x27;, &#x27;Community_Membership_None&#x27;, &#x27;Community_Membership_Other&#x27;, &#x27;Community_Membership_Political&#x27;, &#x27;Community_Membership_Professional&#x27;, &#x27;Community_Membership_Religious&#x27;, &#x27;Community_Membership_Support&#x27;, &#x27;Disability_Cognitive&#x27;, &#x27;Disability_Hearing&#x27;, &#x27;Disability_Motor&#x27;, &#x27;Disability_Not_Impaired&#x27;, &#x27;Disability_Not_Say&#x27;, &#x27;Disability_Vision&#x27;, &#x27;Gender&#x27;, &#x27;How_You_Heard_About_Survey_Banner&#x27;, &#x27;How_You_Heard_About_Survey_Friend&#x27;, &#x27;How_You_Heard_About_Survey_Mailing_List&#x27;, &#x27;How_You_Heard_About_Survey_Others&#x27;, &#x27;How_You_Heard_About_Survey_Printed_Media&#x27;, &#x27;How_You_Heard_About_Survey_Remebered&#x27;, &#x27;How_You_Heard_About_Survey_Search_Engine&#x27;, &#x27;How_You_Heard_About_Survey_Usenet_News&#x27;, &#x27;How_You_Heard_About_Survey_WWW_Page&#x27;, &#x27;Not_Purchasing_Bad_experience&#x27;, &#x27;Not_Purchasing_Bad_press&#x27;, &#x27;Not_Purchasing_Cant_find&#x27;, &#x27;Not_Purchasing_Company_policy&#x27;, &#x27;Not_Purchasing_Easier_locally&#x27;, &#x27;Not_Purchasing_Enough_info&#x27;, &#x27;Not_Purchasing_Judge_quality&#x27;, &#x27;Not_Purchasing_Never_tried&#x27;, &#x27;Not_Purchasing_No_credit&#x27;, &#x27;Not_Purchasing_Not_applicable&#x27;, &#x27;Not_Purchasing_Not_option&#x27;, &#x27;Not_Purchasing_Other&#x27;, &#x27;Not_Purchasing_Prefer_people&#x27;, &#x27;Not_Purchasing_Privacy&#x27;, &#x27;Not_Purchasing_Receipt&#x27;, &#x27;Not_Purchasing_Security&#x27;, &#x27;Not_Purchasing_Too_complicated&#x27;, &#x27;Not_Purchasing_Uncomfortable&#x27;, &#x27;Not_Purchasing_Unfamiliar_vendor&#x27;, &#x27;Who_Pays_for_Access_Dont_Know&#x27;, &#x27;Who_Pays_for_Access_Other&#x27;, &#x27;Who_Pays_for_Access_Parents&#x27;, &#x27;Who_Pays_for_Access_School&#x27;, &#x27;Who_Pays_for_Access_Self&#x27;]</pre></div></div></div><div class=\"sk-serial\"><div class=\"sk-item\"><div class=\"sk-serial\"><div class=\"sk-item\"><div class=\"sk-estimator sk-toggleable\"><input class=\"sk-toggleable__control sk-hidden--visually\" id=\"sk-estimator-id-564\" type=\"checkbox\" ><label for=\"sk-estimator-id-564\" class=\"sk-toggleable__label sk-toggleable__label-arrow\">SimpleImputer</label><div class=\"sk-toggleable__content\"><pre>SimpleImputer(strategy=&#x27;median&#x27;)</pre></div></div></div></div></div></div></div></div><div class=\"sk-parallel-item\"><div class=\"sk-item\"><div class=\"sk-label-container\"><div class=\"sk-label sk-toggleable\"><input class=\"sk-toggleable__control sk-hidden--visually\" id=\"sk-estimator-id-565\" type=\"checkbox\" ><label for=\"sk-estimator-id-565\" class=\"sk-toggleable__label sk-toggleable__label-arrow\">cat</label><div class=\"sk-toggleable__content\"><pre>[&#x27;Actual_Time&#x27;, &#x27;Community_Building&#x27;, &#x27;Country&#x27;, &#x27;Education_Attainment&#x27;, &#x27;Falsification_of_Information&#x27;, &#x27;Household_Income&#x27;, &#x27;Major_Geographical_Location&#x27;, &#x27;Major_Occupation&#x27;, &#x27;Marital_Status&#x27;, &#x27;Most_Import_Issue_Facing_the_Internet&#x27;, &#x27;Opinions_on_Censorship&#x27;, &#x27;Primary_Computing_Platform&#x27;, &#x27;Primary_Language&#x27;, &#x27;Primary_Place_of_WWW_Access&#x27;, &#x27;Race&#x27;, &#x27;Registered_to_Vote&#x27;, &#x27;Sexual_Preference&#x27;, &#x27;Web_Ordering&#x27;, &#x27;Web_Page_Creation&#x27;]</pre></div></div></div><div class=\"sk-serial\"><div class=\"sk-item\"><div class=\"sk-serial\"><div class=\"sk-item\"><div class=\"sk-estimator sk-toggleable\"><input class=\"sk-toggleable__control sk-hidden--visually\" id=\"sk-estimator-id-566\" type=\"checkbox\" ><label for=\"sk-estimator-id-566\" class=\"sk-toggleable__label sk-toggleable__label-arrow\">SimpleImputer</label><div class=\"sk-toggleable__content\"><pre>SimpleImputer(strategy=&#x27;most_frequent&#x27;)</pre></div></div></div><div class=\"sk-item\"><div class=\"sk-estimator sk-toggleable\"><input class=\"sk-toggleable__control sk-hidden--visually\" id=\"sk-estimator-id-567\" type=\"checkbox\" ><label for=\"sk-estimator-id-567\" class=\"sk-toggleable__label sk-toggleable__label-arrow\">OrdinalEncoder</label><div class=\"sk-toggleable__content\"><pre>OrdinalEncoder(dtype=&lt;class &#x27;int&#x27;&gt;, encoded_missing_value=99999,\n",
       "               handle_unknown=&#x27;use_encoded_value&#x27;, max_categories=254,\n",
       "               unknown_value=99999)</pre></div></div></div></div></div></div></div></div></div></div><div class=\"sk-item\"><div class=\"sk-estimator sk-toggleable\"><input class=\"sk-toggleable__control sk-hidden--visually\" id=\"sk-estimator-id-568\" type=\"checkbox\" ><label for=\"sk-estimator-id-568\" class=\"sk-toggleable__label sk-toggleable__label-arrow\">HistGradientBoostingClassifier</label><div class=\"sk-toggleable__content\"><pre>HistGradientBoostingClassifier(categorical_features=[False, False, False, False,\n",
       "                                                     False, False, False, False,\n",
       "                                                     False, False, False, False,\n",
       "                                                     False, False, False, False,\n",
       "                                                     False, False, False, False,\n",
       "                                                     False, False, False, False,\n",
       "                                                     False, False, False, False,\n",
       "                                                     False, False, ...],\n",
       "                               class_weight=&#x27;balanced&#x27;, early_stopping=False,\n",
       "                               min_samples_leaf=30, random_state=1234,\n",
       "                               scoring=&#x27;balanced_accuracy&#x27;)</pre></div></div></div></div></div></div></div>"
      ],
      "text/plain": [
       "Pipeline(steps=[('preprocessing',\n",
       "                 ColumnTransformer(sparse_threshold=0,\n",
       "                                   transformers=[('num',\n",
       "                                                  Pipeline(steps=[('imputer',\n",
       "                                                                   SimpleImputer(strategy='median'))]),\n",
       "                                                  ['Community_Membership_Family',\n",
       "                                                   'Community_Membership_Hobbies',\n",
       "                                                   'Community_Membership_None',\n",
       "                                                   'Community_Membership_Other',\n",
       "                                                   'Community_Membership_Political',\n",
       "                                                   'Community_Membership_Professional',\n",
       "                                                   'Communi...\n",
       "                 HistGradientBoostingClassifier(categorical_features=[False,\n",
       "                                                                      False,\n",
       "                                                                      False,\n",
       "                                                                      False,\n",
       "                                                                      False,\n",
       "                                                                      False,\n",
       "                                                                      False,\n",
       "                                                                      False,\n",
       "                                                                      False,\n",
       "                                                                      False,\n",
       "                                                                      False,\n",
       "                                                                      False,\n",
       "                                                                      False,\n",
       "                                                                      False,\n",
       "                                                                      False,\n",
       "                                                                      False,\n",
       "                                                                      False,\n",
       "                                                                      False,\n",
       "                                                                      False,\n",
       "                                                                      False,\n",
       "                                                                      False,\n",
       "                                                                      False,\n",
       "                                                                      False,\n",
       "                                                                      False,\n",
       "                                                                      False,\n",
       "                                                                      False,\n",
       "                                                                      False,\n",
       "                                                                      False,\n",
       "                                                                      False,\n",
       "                                                                      False, ...],\n",
       "                                                class_weight='balanced',\n",
       "                                                early_stopping=False,\n",
       "                                                min_samples_leaf=30,\n",
       "                                                random_state=1234,\n",
       "                                                scoring='balanced_accuracy'))])"
      ]
     },
     "execution_count": 478,
     "metadata": {},
     "output_type": "execute_result"
    }
   ],
   "source": [
    "# Display pipeline\n",
    "print(\"Time taken: \", catsup_hgb_default_time_taken)\n",
    "catsup_hgb_default"
   ]
  },
  {
   "cell_type": "code",
   "execution_count": 479,
   "id": "6434d612",
   "metadata": {},
   "outputs": [],
   "source": [
    "tic = time.time()\n",
    "\n",
    "catsup_hgb_default9 = catsup_hgb_default_pipeline9.fit(X_train, y_train)\n",
    "\n",
    "toc = time.time()\n",
    "catsup_hgb_default9_time_taken = toc-tic"
   ]
  },
  {
   "cell_type": "code",
   "execution_count": 480,
   "metadata": {},
   "outputs": [
    {
     "name": "stdout",
     "output_type": "stream",
     "text": [
      "Time taken:  1.4469726085662842\n"
     ]
    },
    {
     "data": {
      "text/html": [
       "<style>#sk-container-id-60 {color: black;}#sk-container-id-60 pre{padding: 0;}#sk-container-id-60 div.sk-toggleable {background-color: white;}#sk-container-id-60 label.sk-toggleable__label {cursor: pointer;display: block;width: 100%;margin-bottom: 0;padding: 0.3em;box-sizing: border-box;text-align: center;}#sk-container-id-60 label.sk-toggleable__label-arrow:before {content: \"▸\";float: left;margin-right: 0.25em;color: #696969;}#sk-container-id-60 label.sk-toggleable__label-arrow:hover:before {color: black;}#sk-container-id-60 div.sk-estimator:hover label.sk-toggleable__label-arrow:before {color: black;}#sk-container-id-60 div.sk-toggleable__content {max-height: 0;max-width: 0;overflow: hidden;text-align: left;background-color: #f0f8ff;}#sk-container-id-60 div.sk-toggleable__content pre {margin: 0.2em;color: black;border-radius: 0.25em;background-color: #f0f8ff;}#sk-container-id-60 input.sk-toggleable__control:checked~div.sk-toggleable__content {max-height: 200px;max-width: 100%;overflow: auto;}#sk-container-id-60 input.sk-toggleable__control:checked~label.sk-toggleable__label-arrow:before {content: \"▾\";}#sk-container-id-60 div.sk-estimator input.sk-toggleable__control:checked~label.sk-toggleable__label {background-color: #d4ebff;}#sk-container-id-60 div.sk-label input.sk-toggleable__control:checked~label.sk-toggleable__label {background-color: #d4ebff;}#sk-container-id-60 input.sk-hidden--visually {border: 0;clip: rect(1px 1px 1px 1px);clip: rect(1px, 1px, 1px, 1px);height: 1px;margin: -1px;overflow: hidden;padding: 0;position: absolute;width: 1px;}#sk-container-id-60 div.sk-estimator {font-family: monospace;background-color: #f0f8ff;border: 1px dotted black;border-radius: 0.25em;box-sizing: border-box;margin-bottom: 0.5em;}#sk-container-id-60 div.sk-estimator:hover {background-color: #d4ebff;}#sk-container-id-60 div.sk-parallel-item::after {content: \"\";width: 100%;border-bottom: 1px solid gray;flex-grow: 1;}#sk-container-id-60 div.sk-label:hover label.sk-toggleable__label {background-color: #d4ebff;}#sk-container-id-60 div.sk-serial::before {content: \"\";position: absolute;border-left: 1px solid gray;box-sizing: border-box;top: 0;bottom: 0;left: 50%;z-index: 0;}#sk-container-id-60 div.sk-serial {display: flex;flex-direction: column;align-items: center;background-color: white;padding-right: 0.2em;padding-left: 0.2em;position: relative;}#sk-container-id-60 div.sk-item {position: relative;z-index: 1;}#sk-container-id-60 div.sk-parallel {display: flex;align-items: stretch;justify-content: center;background-color: white;position: relative;}#sk-container-id-60 div.sk-item::before, #sk-container-id-60 div.sk-parallel-item::before {content: \"\";position: absolute;border-left: 1px solid gray;box-sizing: border-box;top: 0;bottom: 0;left: 50%;z-index: -1;}#sk-container-id-60 div.sk-parallel-item {display: flex;flex-direction: column;z-index: 1;position: relative;background-color: white;}#sk-container-id-60 div.sk-parallel-item:first-child::after {align-self: flex-end;width: 50%;}#sk-container-id-60 div.sk-parallel-item:last-child::after {align-self: flex-start;width: 50%;}#sk-container-id-60 div.sk-parallel-item:only-child::after {width: 0;}#sk-container-id-60 div.sk-dashed-wrapped {border: 1px dashed gray;margin: 0 0.4em 0.5em 0.4em;box-sizing: border-box;padding-bottom: 0.4em;background-color: white;}#sk-container-id-60 div.sk-label label {font-family: monospace;font-weight: bold;display: inline-block;line-height: 1.2em;}#sk-container-id-60 div.sk-label-container {text-align: center;}#sk-container-id-60 div.sk-container {/* jupyter's `normalize.less` sets `[hidden] { display: none; }` but bootstrap.min.css set `[hidden] { display: none !important; }` so we also need the `!important` here to be able to override the default hidden behavior on the sphinx rendered scikit-learn.org. See: https://github.com/scikit-learn/scikit-learn/issues/21755 */display: inline-block !important;position: relative;}#sk-container-id-60 div.sk-text-repr-fallback {display: none;}</style><div id=\"sk-container-id-60\" class=\"sk-top-container\"><div class=\"sk-text-repr-fallback\"><pre>Pipeline(steps=[(&#x27;preprocessing&#x27;,\n",
       "                 ColumnTransformer(sparse_threshold=0,\n",
       "                                   transformers=[(&#x27;num&#x27;,\n",
       "                                                  Pipeline(steps=[(&#x27;imputer&#x27;,\n",
       "                                                                   SimpleImputer(strategy=&#x27;median&#x27;))]),\n",
       "                                                  [&#x27;Community_Membership_Family&#x27;,\n",
       "                                                   &#x27;Community_Membership_Hobbies&#x27;,\n",
       "                                                   &#x27;Community_Membership_None&#x27;,\n",
       "                                                   &#x27;Community_Membership_Other&#x27;,\n",
       "                                                   &#x27;Community_Membership_Political&#x27;,\n",
       "                                                   &#x27;Community_Membership_Professional&#x27;,\n",
       "                                                   &#x27;Communi...\n",
       "                 HistGradientBoostingClassifier(categorical_features=[False,\n",
       "                                                                      False,\n",
       "                                                                      False,\n",
       "                                                                      False,\n",
       "                                                                      False,\n",
       "                                                                      False,\n",
       "                                                                      False,\n",
       "                                                                      False,\n",
       "                                                                      False,\n",
       "                                                                      False,\n",
       "                                                                      False,\n",
       "                                                                      False,\n",
       "                                                                      False,\n",
       "                                                                      False,\n",
       "                                                                      False,\n",
       "                                                                      False,\n",
       "                                                                      False,\n",
       "                                                                      False,\n",
       "                                                                      False,\n",
       "                                                                      False,\n",
       "                                                                      False,\n",
       "                                                                      False,\n",
       "                                                                      False,\n",
       "                                                                      False,\n",
       "                                                                      False,\n",
       "                                                                      False,\n",
       "                                                                      False,\n",
       "                                                                      False,\n",
       "                                                                      False,\n",
       "                                                                      False, ...],\n",
       "                                                class_weight=&#x27;balanced&#x27;,\n",
       "                                                early_stopping=False,\n",
       "                                                min_samples_leaf=30,\n",
       "                                                random_state=1234,\n",
       "                                                scoring=&#x27;balanced_accuracy&#x27;))])</pre><b>In a Jupyter environment, please rerun this cell to show the HTML representation or trust the notebook. <br />On GitHub, the HTML representation is unable to render, please try loading this page with nbviewer.org.</b></div><div class=\"sk-container\" hidden><div class=\"sk-item sk-dashed-wrapped\"><div class=\"sk-label-container\"><div class=\"sk-label sk-toggleable\"><input class=\"sk-toggleable__control sk-hidden--visually\" id=\"sk-estimator-id-569\" type=\"checkbox\" ><label for=\"sk-estimator-id-569\" class=\"sk-toggleable__label sk-toggleable__label-arrow\">Pipeline</label><div class=\"sk-toggleable__content\"><pre>Pipeline(steps=[(&#x27;preprocessing&#x27;,\n",
       "                 ColumnTransformer(sparse_threshold=0,\n",
       "                                   transformers=[(&#x27;num&#x27;,\n",
       "                                                  Pipeline(steps=[(&#x27;imputer&#x27;,\n",
       "                                                                   SimpleImputer(strategy=&#x27;median&#x27;))]),\n",
       "                                                  [&#x27;Community_Membership_Family&#x27;,\n",
       "                                                   &#x27;Community_Membership_Hobbies&#x27;,\n",
       "                                                   &#x27;Community_Membership_None&#x27;,\n",
       "                                                   &#x27;Community_Membership_Other&#x27;,\n",
       "                                                   &#x27;Community_Membership_Political&#x27;,\n",
       "                                                   &#x27;Community_Membership_Professional&#x27;,\n",
       "                                                   &#x27;Communi...\n",
       "                 HistGradientBoostingClassifier(categorical_features=[False,\n",
       "                                                                      False,\n",
       "                                                                      False,\n",
       "                                                                      False,\n",
       "                                                                      False,\n",
       "                                                                      False,\n",
       "                                                                      False,\n",
       "                                                                      False,\n",
       "                                                                      False,\n",
       "                                                                      False,\n",
       "                                                                      False,\n",
       "                                                                      False,\n",
       "                                                                      False,\n",
       "                                                                      False,\n",
       "                                                                      False,\n",
       "                                                                      False,\n",
       "                                                                      False,\n",
       "                                                                      False,\n",
       "                                                                      False,\n",
       "                                                                      False,\n",
       "                                                                      False,\n",
       "                                                                      False,\n",
       "                                                                      False,\n",
       "                                                                      False,\n",
       "                                                                      False,\n",
       "                                                                      False,\n",
       "                                                                      False,\n",
       "                                                                      False,\n",
       "                                                                      False,\n",
       "                                                                      False, ...],\n",
       "                                                class_weight=&#x27;balanced&#x27;,\n",
       "                                                early_stopping=False,\n",
       "                                                min_samples_leaf=30,\n",
       "                                                random_state=1234,\n",
       "                                                scoring=&#x27;balanced_accuracy&#x27;))])</pre></div></div></div><div class=\"sk-serial\"><div class=\"sk-item sk-dashed-wrapped\"><div class=\"sk-label-container\"><div class=\"sk-label sk-toggleable\"><input class=\"sk-toggleable__control sk-hidden--visually\" id=\"sk-estimator-id-570\" type=\"checkbox\" ><label for=\"sk-estimator-id-570\" class=\"sk-toggleable__label sk-toggleable__label-arrow\">preprocessing: ColumnTransformer</label><div class=\"sk-toggleable__content\"><pre>ColumnTransformer(sparse_threshold=0,\n",
       "                  transformers=[(&#x27;num&#x27;,\n",
       "                                 Pipeline(steps=[(&#x27;imputer&#x27;,\n",
       "                                                  SimpleImputer(strategy=&#x27;median&#x27;))]),\n",
       "                                 [&#x27;Community_Membership_Family&#x27;,\n",
       "                                  &#x27;Community_Membership_Hobbies&#x27;,\n",
       "                                  &#x27;Community_Membership_None&#x27;,\n",
       "                                  &#x27;Community_Membership_Other&#x27;,\n",
       "                                  &#x27;Community_Membership_Political&#x27;,\n",
       "                                  &#x27;Community_Membership_Professional&#x27;,\n",
       "                                  &#x27;Community_Membership_Religious&#x27;,\n",
       "                                  &#x27;Communi...\n",
       "                                  &#x27;Web_Ordering&#x27;, &#x27;Web_Page_Creation&#x27;]),\n",
       "                                (&#x27;ordinal_encoding&#x27;,\n",
       "                                 Pipeline(steps=[(&#x27;imputer&#x27;,\n",
       "                                                  SimpleImputer(strategy=&#x27;most_frequent&#x27;)),\n",
       "                                                 (&#x27;encoder&#x27;,\n",
       "                                                  OrdinalEncoder(dtype=&lt;class &#x27;int&#x27;&gt;,\n",
       "                                                                 encoded_missing_value=99999,\n",
       "                                                                 handle_unknown=&#x27;use_encoded_value&#x27;,\n",
       "                                                                 max_categories=254,\n",
       "                                                                 unknown_value=99999))]),\n",
       "                                 [&#x27;Actual_Time&#x27;, &#x27;Country&#x27;,\n",
       "                                  &#x27;Major_Geographical_Location&#x27;,\n",
       "                                  &#x27;Primary_Computing_Platform&#x27;,\n",
       "                                  &#x27;Primary_Language&#x27;])])</pre></div></div></div><div class=\"sk-parallel\"><div class=\"sk-parallel-item\"><div class=\"sk-item\"><div class=\"sk-label-container\"><div class=\"sk-label sk-toggleable\"><input class=\"sk-toggleable__control sk-hidden--visually\" id=\"sk-estimator-id-571\" type=\"checkbox\" ><label for=\"sk-estimator-id-571\" class=\"sk-toggleable__label sk-toggleable__label-arrow\">num</label><div class=\"sk-toggleable__content\"><pre>[&#x27;Community_Membership_Family&#x27;, &#x27;Community_Membership_Hobbies&#x27;, &#x27;Community_Membership_None&#x27;, &#x27;Community_Membership_Other&#x27;, &#x27;Community_Membership_Political&#x27;, &#x27;Community_Membership_Professional&#x27;, &#x27;Community_Membership_Religious&#x27;, &#x27;Community_Membership_Support&#x27;, &#x27;Disability_Cognitive&#x27;, &#x27;Disability_Hearing&#x27;, &#x27;Disability_Motor&#x27;, &#x27;Disability_Not_Impaired&#x27;, &#x27;Disability_Not_Say&#x27;, &#x27;Disability_Vision&#x27;, &#x27;Gender&#x27;, &#x27;How_You_Heard_About_Survey_Banner&#x27;, &#x27;How_You_Heard_About_Survey_Friend&#x27;, &#x27;How_You_Heard_About_Survey_Mailing_List&#x27;, &#x27;How_You_Heard_About_Survey_Others&#x27;, &#x27;How_You_Heard_About_Survey_Printed_Media&#x27;, &#x27;How_You_Heard_About_Survey_Remebered&#x27;, &#x27;How_You_Heard_About_Survey_Search_Engine&#x27;, &#x27;How_You_Heard_About_Survey_Usenet_News&#x27;, &#x27;How_You_Heard_About_Survey_WWW_Page&#x27;, &#x27;Not_Purchasing_Bad_experience&#x27;, &#x27;Not_Purchasing_Bad_press&#x27;, &#x27;Not_Purchasing_Cant_find&#x27;, &#x27;Not_Purchasing_Company_policy&#x27;, &#x27;Not_Purchasing_Easier_locally&#x27;, &#x27;Not_Purchasing_Enough_info&#x27;, &#x27;Not_Purchasing_Judge_quality&#x27;, &#x27;Not_Purchasing_Never_tried&#x27;, &#x27;Not_Purchasing_No_credit&#x27;, &#x27;Not_Purchasing_Not_applicable&#x27;, &#x27;Not_Purchasing_Not_option&#x27;, &#x27;Not_Purchasing_Other&#x27;, &#x27;Not_Purchasing_Prefer_people&#x27;, &#x27;Not_Purchasing_Privacy&#x27;, &#x27;Not_Purchasing_Receipt&#x27;, &#x27;Not_Purchasing_Security&#x27;, &#x27;Not_Purchasing_Too_complicated&#x27;, &#x27;Not_Purchasing_Uncomfortable&#x27;, &#x27;Not_Purchasing_Unfamiliar_vendor&#x27;, &#x27;Who_Pays_for_Access_Dont_Know&#x27;, &#x27;Who_Pays_for_Access_Other&#x27;, &#x27;Who_Pays_for_Access_Parents&#x27;, &#x27;Who_Pays_for_Access_School&#x27;, &#x27;Who_Pays_for_Access_Self&#x27;]</pre></div></div></div><div class=\"sk-serial\"><div class=\"sk-item\"><div class=\"sk-serial\"><div class=\"sk-item\"><div class=\"sk-estimator sk-toggleable\"><input class=\"sk-toggleable__control sk-hidden--visually\" id=\"sk-estimator-id-572\" type=\"checkbox\" ><label for=\"sk-estimator-id-572\" class=\"sk-toggleable__label sk-toggleable__label-arrow\">SimpleImputer</label><div class=\"sk-toggleable__content\"><pre>SimpleImputer(strategy=&#x27;median&#x27;)</pre></div></div></div></div></div></div></div></div><div class=\"sk-parallel-item\"><div class=\"sk-item\"><div class=\"sk-label-container\"><div class=\"sk-label sk-toggleable\"><input class=\"sk-toggleable__control sk-hidden--visually\" id=\"sk-estimator-id-573\" type=\"checkbox\" ><label for=\"sk-estimator-id-573\" class=\"sk-toggleable__label sk-toggleable__label-arrow\">one_hot_encoding</label><div class=\"sk-toggleable__content\"><pre>[&#x27;Community_Building&#x27;, &#x27;Education_Attainment&#x27;, &#x27;Falsification_of_Information&#x27;, &#x27;Household_Income&#x27;, &#x27;Major_Occupation&#x27;, &#x27;Marital_Status&#x27;, &#x27;Most_Import_Issue_Facing_the_Internet&#x27;, &#x27;Opinions_on_Censorship&#x27;, &#x27;Primary_Place_of_WWW_Access&#x27;, &#x27;Race&#x27;, &#x27;Registered_to_Vote&#x27;, &#x27;Sexual_Preference&#x27;, &#x27;Web_Ordering&#x27;, &#x27;Web_Page_Creation&#x27;]</pre></div></div></div><div class=\"sk-serial\"><div class=\"sk-item\"><div class=\"sk-serial\"><div class=\"sk-item\"><div class=\"sk-estimator sk-toggleable\"><input class=\"sk-toggleable__control sk-hidden--visually\" id=\"sk-estimator-id-574\" type=\"checkbox\" ><label for=\"sk-estimator-id-574\" class=\"sk-toggleable__label sk-toggleable__label-arrow\">SimpleImputer</label><div class=\"sk-toggleable__content\"><pre>SimpleImputer(strategy=&#x27;most_frequent&#x27;)</pre></div></div></div><div class=\"sk-item\"><div class=\"sk-estimator sk-toggleable\"><input class=\"sk-toggleable__control sk-hidden--visually\" id=\"sk-estimator-id-575\" type=\"checkbox\" ><label for=\"sk-estimator-id-575\" class=\"sk-toggleable__label sk-toggleable__label-arrow\">OneHotEncoder</label><div class=\"sk-toggleable__content\"><pre>OneHotEncoder(drop=&#x27;first&#x27;, handle_unknown=&#x27;ignore&#x27;)</pre></div></div></div></div></div></div></div></div><div class=\"sk-parallel-item\"><div class=\"sk-item\"><div class=\"sk-label-container\"><div class=\"sk-label sk-toggleable\"><input class=\"sk-toggleable__control sk-hidden--visually\" id=\"sk-estimator-id-576\" type=\"checkbox\" ><label for=\"sk-estimator-id-576\" class=\"sk-toggleable__label sk-toggleable__label-arrow\">ordinal_encoding</label><div class=\"sk-toggleable__content\"><pre>[&#x27;Actual_Time&#x27;, &#x27;Country&#x27;, &#x27;Major_Geographical_Location&#x27;, &#x27;Primary_Computing_Platform&#x27;, &#x27;Primary_Language&#x27;]</pre></div></div></div><div class=\"sk-serial\"><div class=\"sk-item\"><div class=\"sk-serial\"><div class=\"sk-item\"><div class=\"sk-estimator sk-toggleable\"><input class=\"sk-toggleable__control sk-hidden--visually\" id=\"sk-estimator-id-577\" type=\"checkbox\" ><label for=\"sk-estimator-id-577\" class=\"sk-toggleable__label sk-toggleable__label-arrow\">SimpleImputer</label><div class=\"sk-toggleable__content\"><pre>SimpleImputer(strategy=&#x27;most_frequent&#x27;)</pre></div></div></div><div class=\"sk-item\"><div class=\"sk-estimator sk-toggleable\"><input class=\"sk-toggleable__control sk-hidden--visually\" id=\"sk-estimator-id-578\" type=\"checkbox\" ><label for=\"sk-estimator-id-578\" class=\"sk-toggleable__label sk-toggleable__label-arrow\">OrdinalEncoder</label><div class=\"sk-toggleable__content\"><pre>OrdinalEncoder(dtype=&lt;class &#x27;int&#x27;&gt;, encoded_missing_value=99999,\n",
       "               handle_unknown=&#x27;use_encoded_value&#x27;, max_categories=254,\n",
       "               unknown_value=99999)</pre></div></div></div></div></div></div></div></div></div></div><div class=\"sk-item\"><div class=\"sk-estimator sk-toggleable\"><input class=\"sk-toggleable__control sk-hidden--visually\" id=\"sk-estimator-id-579\" type=\"checkbox\" ><label for=\"sk-estimator-id-579\" class=\"sk-toggleable__label sk-toggleable__label-arrow\">HistGradientBoostingClassifier</label><div class=\"sk-toggleable__content\"><pre>HistGradientBoostingClassifier(categorical_features=[False, False, False, False,\n",
       "                                                     False, False, False, False,\n",
       "                                                     False, False, False, False,\n",
       "                                                     False, False, False, False,\n",
       "                                                     False, False, False, False,\n",
       "                                                     False, False, False, False,\n",
       "                                                     False, False, False, False,\n",
       "                                                     False, False, ...],\n",
       "                               class_weight=&#x27;balanced&#x27;, early_stopping=False,\n",
       "                               min_samples_leaf=30, random_state=1234,\n",
       "                               scoring=&#x27;balanced_accuracy&#x27;)</pre></div></div></div></div></div></div></div>"
      ],
      "text/plain": [
       "Pipeline(steps=[('preprocessing',\n",
       "                 ColumnTransformer(sparse_threshold=0,\n",
       "                                   transformers=[('num',\n",
       "                                                  Pipeline(steps=[('imputer',\n",
       "                                                                   SimpleImputer(strategy='median'))]),\n",
       "                                                  ['Community_Membership_Family',\n",
       "                                                   'Community_Membership_Hobbies',\n",
       "                                                   'Community_Membership_None',\n",
       "                                                   'Community_Membership_Other',\n",
       "                                                   'Community_Membership_Political',\n",
       "                                                   'Community_Membership_Professional',\n",
       "                                                   'Communi...\n",
       "                 HistGradientBoostingClassifier(categorical_features=[False,\n",
       "                                                                      False,\n",
       "                                                                      False,\n",
       "                                                                      False,\n",
       "                                                                      False,\n",
       "                                                                      False,\n",
       "                                                                      False,\n",
       "                                                                      False,\n",
       "                                                                      False,\n",
       "                                                                      False,\n",
       "                                                                      False,\n",
       "                                                                      False,\n",
       "                                                                      False,\n",
       "                                                                      False,\n",
       "                                                                      False,\n",
       "                                                                      False,\n",
       "                                                                      False,\n",
       "                                                                      False,\n",
       "                                                                      False,\n",
       "                                                                      False,\n",
       "                                                                      False,\n",
       "                                                                      False,\n",
       "                                                                      False,\n",
       "                                                                      False,\n",
       "                                                                      False,\n",
       "                                                                      False,\n",
       "                                                                      False,\n",
       "                                                                      False,\n",
       "                                                                      False,\n",
       "                                                                      False, ...],\n",
       "                                                class_weight='balanced',\n",
       "                                                early_stopping=False,\n",
       "                                                min_samples_leaf=30,\n",
       "                                                random_state=1234,\n",
       "                                                scoring='balanced_accuracy'))])"
      ]
     },
     "execution_count": 480,
     "metadata": {},
     "output_type": "execute_result"
    }
   ],
   "source": [
    "# Display pipeline\n",
    "print(\"Time taken: \", catsup_hgb_default9_time_taken)\n",
    "catsup_hgb_default9"
   ]
  },
  {
   "cell_type": "code",
   "execution_count": 481,
   "id": "59e4912c",
   "metadata": {},
   "outputs": [
    {
     "name": "stdout",
     "output_type": "stream",
     "text": [
      "Balanced accuracy with default parameters: 0.8778395784543326\n"
     ]
    }
   ],
   "source": [
    "# Calculate balanced accuracy for the model with default parameters\n",
    "y_catsup_hgb_default_pred = catsup_hgb_default.predict(X_test)\n",
    "catsup_hgb_default_accuracy = balanced_accuracy_score(y_test, y_catsup_hgb_default_pred)\n",
    "print(f'Balanced accuracy with default parameters: {catsup_hgb_default_accuracy}')\n",
    "\n",
    "# Save results\n",
    "default_summary.append(\"Default\")\n",
    "card_9_summary.append(\"AllVariables\")\n",
    "encoder_summary.append(\"HGB_NativeSupport\")\n",
    "value_summary.append(catsup_hgb_default_accuracy)\n",
    "time_summary.append(catsup_hgb_default_time_taken)\n",
    "n_models_summary.append(1)"
   ]
  },
  {
   "cell_type": "code",
   "execution_count": 482,
   "id": "d02d126b",
   "metadata": {},
   "outputs": [
    {
     "name": "stdout",
     "output_type": "stream",
     "text": [
      "Balanced accuracy with default parameters: 0.8741162909836065\n"
     ]
    }
   ],
   "source": [
    "# Calculate balanced accuracy for the model with default parameters\n",
    "y_catsup_hgb_default_pred9 = catsup_hgb_default9.predict(X_test)\n",
    "catsup_hgb_default_accuracy9 = balanced_accuracy_score(y_test, y_catsup_hgb_default_pred9)\n",
    "print(f'Balanced accuracy with default parameters: {catsup_hgb_default_accuracy9}')\n",
    "\n",
    "# Save results\n",
    "default_summary.append(\"Default\")\n",
    "card_9_summary.append(\"OnlyVariablesWithCard>9\")\n",
    "encoder_summary.append(\"HGB_NativeSupport\")\n",
    "value_summary.append(catsup_hgb_default_accuracy9)\n",
    "time_summary.append(catsup_hgb_default9_time_taken)\n",
    "n_models_summary.append(1)"
   ]
  },
  {
   "cell_type": "markdown",
   "id": "39380734",
   "metadata": {},
   "source": [
    "#### Create a HistGradientBoostingClassifier model for tuning"
   ]
  },
  {
   "cell_type": "code",
   "execution_count": 483,
   "id": "b1da0715",
   "metadata": {},
   "outputs": [],
   "source": [
    "catsup_hgb_tune = RandomizedSearchCV(estimator = catsup_hgb_default_pipeline, \n",
    "                                   param_distributions = param_distributions, \n",
    "                                   n_iter = 20,\n",
    "                                   cv = stratified_kfold,\n",
    "                                   scoring = 'balanced_accuracy', \n",
    "                                   random_state = 1234,\n",
    "                                   n_jobs = -1)\n",
    "\n",
    "catsup_hgb_tune9 = RandomizedSearchCV(estimator = catsup_hgb_default_pipeline9, \n",
    "                                   param_distributions = param_distributions, \n",
    "                                   n_iter = 20,\n",
    "                                   cv = stratified_kfold,\n",
    "                                   scoring = 'balanced_accuracy', \n",
    "                                   random_state = 1234,\n",
    "                                   n_jobs = -1)"
   ]
  },
  {
   "cell_type": "code",
   "execution_count": 484,
   "id": "9d0cffeb",
   "metadata": {
    "scrolled": false
   },
   "outputs": [],
   "source": [
    "tic = time.time() \n",
    "\n",
    "catsup_hgb_tune = catsup_hgb_tune.fit(X_train, y_train)\n",
    "\n",
    "toc = time.time()\n",
    "catsup_hgb_tune_time_taken = toc-tic"
   ]
  },
  {
   "cell_type": "code",
   "execution_count": 485,
   "metadata": {},
   "outputs": [
    {
     "name": "stdout",
     "output_type": "stream",
     "text": [
      "Time taken:  27.93917965888977\n"
     ]
    },
    {
     "data": {
      "text/html": [
       "<style>#sk-container-id-61 {color: black;}#sk-container-id-61 pre{padding: 0;}#sk-container-id-61 div.sk-toggleable {background-color: white;}#sk-container-id-61 label.sk-toggleable__label {cursor: pointer;display: block;width: 100%;margin-bottom: 0;padding: 0.3em;box-sizing: border-box;text-align: center;}#sk-container-id-61 label.sk-toggleable__label-arrow:before {content: \"▸\";float: left;margin-right: 0.25em;color: #696969;}#sk-container-id-61 label.sk-toggleable__label-arrow:hover:before {color: black;}#sk-container-id-61 div.sk-estimator:hover label.sk-toggleable__label-arrow:before {color: black;}#sk-container-id-61 div.sk-toggleable__content {max-height: 0;max-width: 0;overflow: hidden;text-align: left;background-color: #f0f8ff;}#sk-container-id-61 div.sk-toggleable__content pre {margin: 0.2em;color: black;border-radius: 0.25em;background-color: #f0f8ff;}#sk-container-id-61 input.sk-toggleable__control:checked~div.sk-toggleable__content {max-height: 200px;max-width: 100%;overflow: auto;}#sk-container-id-61 input.sk-toggleable__control:checked~label.sk-toggleable__label-arrow:before {content: \"▾\";}#sk-container-id-61 div.sk-estimator input.sk-toggleable__control:checked~label.sk-toggleable__label {background-color: #d4ebff;}#sk-container-id-61 div.sk-label input.sk-toggleable__control:checked~label.sk-toggleable__label {background-color: #d4ebff;}#sk-container-id-61 input.sk-hidden--visually {border: 0;clip: rect(1px 1px 1px 1px);clip: rect(1px, 1px, 1px, 1px);height: 1px;margin: -1px;overflow: hidden;padding: 0;position: absolute;width: 1px;}#sk-container-id-61 div.sk-estimator {font-family: monospace;background-color: #f0f8ff;border: 1px dotted black;border-radius: 0.25em;box-sizing: border-box;margin-bottom: 0.5em;}#sk-container-id-61 div.sk-estimator:hover {background-color: #d4ebff;}#sk-container-id-61 div.sk-parallel-item::after {content: \"\";width: 100%;border-bottom: 1px solid gray;flex-grow: 1;}#sk-container-id-61 div.sk-label:hover label.sk-toggleable__label {background-color: #d4ebff;}#sk-container-id-61 div.sk-serial::before {content: \"\";position: absolute;border-left: 1px solid gray;box-sizing: border-box;top: 0;bottom: 0;left: 50%;z-index: 0;}#sk-container-id-61 div.sk-serial {display: flex;flex-direction: column;align-items: center;background-color: white;padding-right: 0.2em;padding-left: 0.2em;position: relative;}#sk-container-id-61 div.sk-item {position: relative;z-index: 1;}#sk-container-id-61 div.sk-parallel {display: flex;align-items: stretch;justify-content: center;background-color: white;position: relative;}#sk-container-id-61 div.sk-item::before, #sk-container-id-61 div.sk-parallel-item::before {content: \"\";position: absolute;border-left: 1px solid gray;box-sizing: border-box;top: 0;bottom: 0;left: 50%;z-index: -1;}#sk-container-id-61 div.sk-parallel-item {display: flex;flex-direction: column;z-index: 1;position: relative;background-color: white;}#sk-container-id-61 div.sk-parallel-item:first-child::after {align-self: flex-end;width: 50%;}#sk-container-id-61 div.sk-parallel-item:last-child::after {align-self: flex-start;width: 50%;}#sk-container-id-61 div.sk-parallel-item:only-child::after {width: 0;}#sk-container-id-61 div.sk-dashed-wrapped {border: 1px dashed gray;margin: 0 0.4em 0.5em 0.4em;box-sizing: border-box;padding-bottom: 0.4em;background-color: white;}#sk-container-id-61 div.sk-label label {font-family: monospace;font-weight: bold;display: inline-block;line-height: 1.2em;}#sk-container-id-61 div.sk-label-container {text-align: center;}#sk-container-id-61 div.sk-container {/* jupyter's `normalize.less` sets `[hidden] { display: none; }` but bootstrap.min.css set `[hidden] { display: none !important; }` so we also need the `!important` here to be able to override the default hidden behavior on the sphinx rendered scikit-learn.org. See: https://github.com/scikit-learn/scikit-learn/issues/21755 */display: inline-block !important;position: relative;}#sk-container-id-61 div.sk-text-repr-fallback {display: none;}</style><div id=\"sk-container-id-61\" class=\"sk-top-container\"><div class=\"sk-text-repr-fallback\"><pre>RandomizedSearchCV(cv=StratifiedKFold(n_splits=3, random_state=1234, shuffle=True),\n",
       "                   estimator=Pipeline(steps=[(&#x27;preprocessing&#x27;,\n",
       "                                              ColumnTransformer(sparse_threshold=0,\n",
       "                                                                transformers=[(&#x27;num&#x27;,\n",
       "                                                                               Pipeline(steps=[(&#x27;imputer&#x27;,\n",
       "                                                                                                SimpleImputer(strategy=&#x27;median&#x27;))]),\n",
       "                                                                               [&#x27;Community_Membership_Family&#x27;,\n",
       "                                                                                &#x27;Community_Membership_Hobbies&#x27;,\n",
       "                                                                                &#x27;Community_Membership_None&#x27;,\n",
       "                                                                                &#x27;Community_Memb...\n",
       "                   param_distributions={&#x27;model__learning_rate&#x27;: &lt;scipy.stats._distn_infrastructure.rv_continuous_frozen object at 0x000001CDE78041C0&gt;,\n",
       "                                        &#x27;model__max_iter&#x27;: &lt;scipy.stats._distn_infrastructure.rv_discrete_frozen object at 0x000001CDE7808100&gt;,\n",
       "                                        &#x27;model__min_samples_leaf&#x27;: &lt;scipy.stats._distn_infrastructure.rv_discrete_frozen object at 0x000001CDE77F4430&gt;},\n",
       "                   random_state=1234, scoring=&#x27;balanced_accuracy&#x27;)</pre><b>In a Jupyter environment, please rerun this cell to show the HTML representation or trust the notebook. <br />On GitHub, the HTML representation is unable to render, please try loading this page with nbviewer.org.</b></div><div class=\"sk-container\" hidden><div class=\"sk-item sk-dashed-wrapped\"><div class=\"sk-label-container\"><div class=\"sk-label sk-toggleable\"><input class=\"sk-toggleable__control sk-hidden--visually\" id=\"sk-estimator-id-580\" type=\"checkbox\" ><label for=\"sk-estimator-id-580\" class=\"sk-toggleable__label sk-toggleable__label-arrow\">RandomizedSearchCV</label><div class=\"sk-toggleable__content\"><pre>RandomizedSearchCV(cv=StratifiedKFold(n_splits=3, random_state=1234, shuffle=True),\n",
       "                   estimator=Pipeline(steps=[(&#x27;preprocessing&#x27;,\n",
       "                                              ColumnTransformer(sparse_threshold=0,\n",
       "                                                                transformers=[(&#x27;num&#x27;,\n",
       "                                                                               Pipeline(steps=[(&#x27;imputer&#x27;,\n",
       "                                                                                                SimpleImputer(strategy=&#x27;median&#x27;))]),\n",
       "                                                                               [&#x27;Community_Membership_Family&#x27;,\n",
       "                                                                                &#x27;Community_Membership_Hobbies&#x27;,\n",
       "                                                                                &#x27;Community_Membership_None&#x27;,\n",
       "                                                                                &#x27;Community_Memb...\n",
       "                   param_distributions={&#x27;model__learning_rate&#x27;: &lt;scipy.stats._distn_infrastructure.rv_continuous_frozen object at 0x000001CDE78041C0&gt;,\n",
       "                                        &#x27;model__max_iter&#x27;: &lt;scipy.stats._distn_infrastructure.rv_discrete_frozen object at 0x000001CDE7808100&gt;,\n",
       "                                        &#x27;model__min_samples_leaf&#x27;: &lt;scipy.stats._distn_infrastructure.rv_discrete_frozen object at 0x000001CDE77F4430&gt;},\n",
       "                   random_state=1234, scoring=&#x27;balanced_accuracy&#x27;)</pre></div></div></div><div class=\"sk-parallel\"><div class=\"sk-parallel-item\"><div class=\"sk-item\"><div class=\"sk-label-container\"><div class=\"sk-label sk-toggleable\"><input class=\"sk-toggleable__control sk-hidden--visually\" id=\"sk-estimator-id-581\" type=\"checkbox\" ><label for=\"sk-estimator-id-581\" class=\"sk-toggleable__label sk-toggleable__label-arrow\">estimator: Pipeline</label><div class=\"sk-toggleable__content\"><pre>Pipeline(steps=[(&#x27;preprocessing&#x27;,\n",
       "                 ColumnTransformer(sparse_threshold=0,\n",
       "                                   transformers=[(&#x27;num&#x27;,\n",
       "                                                  Pipeline(steps=[(&#x27;imputer&#x27;,\n",
       "                                                                   SimpleImputer(strategy=&#x27;median&#x27;))]),\n",
       "                                                  [&#x27;Community_Membership_Family&#x27;,\n",
       "                                                   &#x27;Community_Membership_Hobbies&#x27;,\n",
       "                                                   &#x27;Community_Membership_None&#x27;,\n",
       "                                                   &#x27;Community_Membership_Other&#x27;,\n",
       "                                                   &#x27;Community_Membership_Political&#x27;,\n",
       "                                                   &#x27;Community_Membership_Professional&#x27;,\n",
       "                                                   &#x27;Communi...\n",
       "                 HistGradientBoostingClassifier(categorical_features=[False,\n",
       "                                                                      False,\n",
       "                                                                      False,\n",
       "                                                                      False,\n",
       "                                                                      False,\n",
       "                                                                      False,\n",
       "                                                                      False,\n",
       "                                                                      False,\n",
       "                                                                      False,\n",
       "                                                                      False,\n",
       "                                                                      False,\n",
       "                                                                      False,\n",
       "                                                                      False,\n",
       "                                                                      False,\n",
       "                                                                      False,\n",
       "                                                                      False,\n",
       "                                                                      False,\n",
       "                                                                      False,\n",
       "                                                                      False,\n",
       "                                                                      False,\n",
       "                                                                      False,\n",
       "                                                                      False,\n",
       "                                                                      False,\n",
       "                                                                      False,\n",
       "                                                                      False,\n",
       "                                                                      False,\n",
       "                                                                      False,\n",
       "                                                                      False,\n",
       "                                                                      False,\n",
       "                                                                      False, ...],\n",
       "                                                class_weight=&#x27;balanced&#x27;,\n",
       "                                                early_stopping=False,\n",
       "                                                min_samples_leaf=30,\n",
       "                                                random_state=1234,\n",
       "                                                scoring=&#x27;balanced_accuracy&#x27;))])</pre></div></div></div><div class=\"sk-serial\"><div class=\"sk-item\"><div class=\"sk-serial\"><div class=\"sk-item sk-dashed-wrapped\"><div class=\"sk-label-container\"><div class=\"sk-label sk-toggleable\"><input class=\"sk-toggleable__control sk-hidden--visually\" id=\"sk-estimator-id-582\" type=\"checkbox\" ><label for=\"sk-estimator-id-582\" class=\"sk-toggleable__label sk-toggleable__label-arrow\">preprocessing: ColumnTransformer</label><div class=\"sk-toggleable__content\"><pre>ColumnTransformer(sparse_threshold=0,\n",
       "                  transformers=[(&#x27;num&#x27;,\n",
       "                                 Pipeline(steps=[(&#x27;imputer&#x27;,\n",
       "                                                  SimpleImputer(strategy=&#x27;median&#x27;))]),\n",
       "                                 [&#x27;Community_Membership_Family&#x27;,\n",
       "                                  &#x27;Community_Membership_Hobbies&#x27;,\n",
       "                                  &#x27;Community_Membership_None&#x27;,\n",
       "                                  &#x27;Community_Membership_Other&#x27;,\n",
       "                                  &#x27;Community_Membership_Political&#x27;,\n",
       "                                  &#x27;Community_Membership_Professional&#x27;,\n",
       "                                  &#x27;Community_Membership_Religious&#x27;,\n",
       "                                  &#x27;Communi...\n",
       "                                  &#x27;Country&#x27;, &#x27;Education_Attainment&#x27;,\n",
       "                                  &#x27;Falsification_of_Information&#x27;,\n",
       "                                  &#x27;Household_Income&#x27;,\n",
       "                                  &#x27;Major_Geographical_Location&#x27;,\n",
       "                                  &#x27;Major_Occupation&#x27;, &#x27;Marital_Status&#x27;,\n",
       "                                  &#x27;Most_Import_Issue_Facing_the_Internet&#x27;,\n",
       "                                  &#x27;Opinions_on_Censorship&#x27;,\n",
       "                                  &#x27;Primary_Computing_Platform&#x27;,\n",
       "                                  &#x27;Primary_Language&#x27;,\n",
       "                                  &#x27;Primary_Place_of_WWW_Access&#x27;, &#x27;Race&#x27;,\n",
       "                                  &#x27;Registered_to_Vote&#x27;, &#x27;Sexual_Preference&#x27;,\n",
       "                                  &#x27;Web_Ordering&#x27;, &#x27;Web_Page_Creation&#x27;])])</pre></div></div></div><div class=\"sk-parallel\"><div class=\"sk-parallel-item\"><div class=\"sk-item\"><div class=\"sk-label-container\"><div class=\"sk-label sk-toggleable\"><input class=\"sk-toggleable__control sk-hidden--visually\" id=\"sk-estimator-id-583\" type=\"checkbox\" ><label for=\"sk-estimator-id-583\" class=\"sk-toggleable__label sk-toggleable__label-arrow\">num</label><div class=\"sk-toggleable__content\"><pre>[&#x27;Community_Membership_Family&#x27;, &#x27;Community_Membership_Hobbies&#x27;, &#x27;Community_Membership_None&#x27;, &#x27;Community_Membership_Other&#x27;, &#x27;Community_Membership_Political&#x27;, &#x27;Community_Membership_Professional&#x27;, &#x27;Community_Membership_Religious&#x27;, &#x27;Community_Membership_Support&#x27;, &#x27;Disability_Cognitive&#x27;, &#x27;Disability_Hearing&#x27;, &#x27;Disability_Motor&#x27;, &#x27;Disability_Not_Impaired&#x27;, &#x27;Disability_Not_Say&#x27;, &#x27;Disability_Vision&#x27;, &#x27;Gender&#x27;, &#x27;How_You_Heard_About_Survey_Banner&#x27;, &#x27;How_You_Heard_About_Survey_Friend&#x27;, &#x27;How_You_Heard_About_Survey_Mailing_List&#x27;, &#x27;How_You_Heard_About_Survey_Others&#x27;, &#x27;How_You_Heard_About_Survey_Printed_Media&#x27;, &#x27;How_You_Heard_About_Survey_Remebered&#x27;, &#x27;How_You_Heard_About_Survey_Search_Engine&#x27;, &#x27;How_You_Heard_About_Survey_Usenet_News&#x27;, &#x27;How_You_Heard_About_Survey_WWW_Page&#x27;, &#x27;Not_Purchasing_Bad_experience&#x27;, &#x27;Not_Purchasing_Bad_press&#x27;, &#x27;Not_Purchasing_Cant_find&#x27;, &#x27;Not_Purchasing_Company_policy&#x27;, &#x27;Not_Purchasing_Easier_locally&#x27;, &#x27;Not_Purchasing_Enough_info&#x27;, &#x27;Not_Purchasing_Judge_quality&#x27;, &#x27;Not_Purchasing_Never_tried&#x27;, &#x27;Not_Purchasing_No_credit&#x27;, &#x27;Not_Purchasing_Not_applicable&#x27;, &#x27;Not_Purchasing_Not_option&#x27;, &#x27;Not_Purchasing_Other&#x27;, &#x27;Not_Purchasing_Prefer_people&#x27;, &#x27;Not_Purchasing_Privacy&#x27;, &#x27;Not_Purchasing_Receipt&#x27;, &#x27;Not_Purchasing_Security&#x27;, &#x27;Not_Purchasing_Too_complicated&#x27;, &#x27;Not_Purchasing_Uncomfortable&#x27;, &#x27;Not_Purchasing_Unfamiliar_vendor&#x27;, &#x27;Who_Pays_for_Access_Dont_Know&#x27;, &#x27;Who_Pays_for_Access_Other&#x27;, &#x27;Who_Pays_for_Access_Parents&#x27;, &#x27;Who_Pays_for_Access_School&#x27;, &#x27;Who_Pays_for_Access_Self&#x27;]</pre></div></div></div><div class=\"sk-serial\"><div class=\"sk-item\"><div class=\"sk-serial\"><div class=\"sk-item\"><div class=\"sk-estimator sk-toggleable\"><input class=\"sk-toggleable__control sk-hidden--visually\" id=\"sk-estimator-id-584\" type=\"checkbox\" ><label for=\"sk-estimator-id-584\" class=\"sk-toggleable__label sk-toggleable__label-arrow\">SimpleImputer</label><div class=\"sk-toggleable__content\"><pre>SimpleImputer(strategy=&#x27;median&#x27;)</pre></div></div></div></div></div></div></div></div><div class=\"sk-parallel-item\"><div class=\"sk-item\"><div class=\"sk-label-container\"><div class=\"sk-label sk-toggleable\"><input class=\"sk-toggleable__control sk-hidden--visually\" id=\"sk-estimator-id-585\" type=\"checkbox\" ><label for=\"sk-estimator-id-585\" class=\"sk-toggleable__label sk-toggleable__label-arrow\">cat</label><div class=\"sk-toggleable__content\"><pre>[&#x27;Actual_Time&#x27;, &#x27;Community_Building&#x27;, &#x27;Country&#x27;, &#x27;Education_Attainment&#x27;, &#x27;Falsification_of_Information&#x27;, &#x27;Household_Income&#x27;, &#x27;Major_Geographical_Location&#x27;, &#x27;Major_Occupation&#x27;, &#x27;Marital_Status&#x27;, &#x27;Most_Import_Issue_Facing_the_Internet&#x27;, &#x27;Opinions_on_Censorship&#x27;, &#x27;Primary_Computing_Platform&#x27;, &#x27;Primary_Language&#x27;, &#x27;Primary_Place_of_WWW_Access&#x27;, &#x27;Race&#x27;, &#x27;Registered_to_Vote&#x27;, &#x27;Sexual_Preference&#x27;, &#x27;Web_Ordering&#x27;, &#x27;Web_Page_Creation&#x27;]</pre></div></div></div><div class=\"sk-serial\"><div class=\"sk-item\"><div class=\"sk-serial\"><div class=\"sk-item\"><div class=\"sk-estimator sk-toggleable\"><input class=\"sk-toggleable__control sk-hidden--visually\" id=\"sk-estimator-id-586\" type=\"checkbox\" ><label for=\"sk-estimator-id-586\" class=\"sk-toggleable__label sk-toggleable__label-arrow\">SimpleImputer</label><div class=\"sk-toggleable__content\"><pre>SimpleImputer(strategy=&#x27;most_frequent&#x27;)</pre></div></div></div><div class=\"sk-item\"><div class=\"sk-estimator sk-toggleable\"><input class=\"sk-toggleable__control sk-hidden--visually\" id=\"sk-estimator-id-587\" type=\"checkbox\" ><label for=\"sk-estimator-id-587\" class=\"sk-toggleable__label sk-toggleable__label-arrow\">OrdinalEncoder</label><div class=\"sk-toggleable__content\"><pre>OrdinalEncoder(dtype=&lt;class &#x27;int&#x27;&gt;, encoded_missing_value=99999,\n",
       "               handle_unknown=&#x27;use_encoded_value&#x27;, max_categories=254,\n",
       "               unknown_value=99999)</pre></div></div></div></div></div></div></div></div></div></div><div class=\"sk-item\"><div class=\"sk-estimator sk-toggleable\"><input class=\"sk-toggleable__control sk-hidden--visually\" id=\"sk-estimator-id-588\" type=\"checkbox\" ><label for=\"sk-estimator-id-588\" class=\"sk-toggleable__label sk-toggleable__label-arrow\">HistGradientBoostingClassifier</label><div class=\"sk-toggleable__content\"><pre>HistGradientBoostingClassifier(categorical_features=[False, False, False, False,\n",
       "                                                     False, False, False, False,\n",
       "                                                     False, False, False, False,\n",
       "                                                     False, False, False, False,\n",
       "                                                     False, False, False, False,\n",
       "                                                     False, False, False, False,\n",
       "                                                     False, False, False, False,\n",
       "                                                     False, False, ...],\n",
       "                               class_weight=&#x27;balanced&#x27;, early_stopping=False,\n",
       "                               min_samples_leaf=30, random_state=1234,\n",
       "                               scoring=&#x27;balanced_accuracy&#x27;)</pre></div></div></div></div></div></div></div></div></div></div></div></div>"
      ],
      "text/plain": [
       "RandomizedSearchCV(cv=StratifiedKFold(n_splits=3, random_state=1234, shuffle=True),\n",
       "                   estimator=Pipeline(steps=[('preprocessing',\n",
       "                                              ColumnTransformer(sparse_threshold=0,\n",
       "                                                                transformers=[('num',\n",
       "                                                                               Pipeline(steps=[('imputer',\n",
       "                                                                                                SimpleImputer(strategy='median'))]),\n",
       "                                                                               ['Community_Membership_Family',\n",
       "                                                                                'Community_Membership_Hobbies',\n",
       "                                                                                'Community_Membership_None',\n",
       "                                                                                'Community_Memb...\n",
       "                   param_distributions={'model__learning_rate': <scipy.stats._distn_infrastructure.rv_continuous_frozen object at 0x000001CDE78041C0>,\n",
       "                                        'model__max_iter': <scipy.stats._distn_infrastructure.rv_discrete_frozen object at 0x000001CDE7808100>,\n",
       "                                        'model__min_samples_leaf': <scipy.stats._distn_infrastructure.rv_discrete_frozen object at 0x000001CDE77F4430>},\n",
       "                   random_state=1234, scoring='balanced_accuracy')"
      ]
     },
     "execution_count": 485,
     "metadata": {},
     "output_type": "execute_result"
    }
   ],
   "source": [
    "# Display pipeline\n",
    "print(\"Time taken: \", catsup_hgb_tune_time_taken)\n",
    "catsup_hgb_tune"
   ]
  },
  {
   "cell_type": "code",
   "execution_count": 486,
   "id": "6a80e003",
   "metadata": {},
   "outputs": [],
   "source": [
    "tic = time.time() \n",
    "\n",
    "catsup_hgb_tune9 = catsup_hgb_tune9.fit(X_train, y_train)\n",
    "\n",
    "toc = time.time()\n",
    "catsup_hgb_tune9_time_taken = toc-tic"
   ]
  },
  {
   "cell_type": "code",
   "execution_count": 487,
   "metadata": {},
   "outputs": [
    {
     "name": "stdout",
     "output_type": "stream",
     "text": [
      "Time taken:  55.06607365608215\n"
     ]
    },
    {
     "data": {
      "text/html": [
       "<style>#sk-container-id-62 {color: black;}#sk-container-id-62 pre{padding: 0;}#sk-container-id-62 div.sk-toggleable {background-color: white;}#sk-container-id-62 label.sk-toggleable__label {cursor: pointer;display: block;width: 100%;margin-bottom: 0;padding: 0.3em;box-sizing: border-box;text-align: center;}#sk-container-id-62 label.sk-toggleable__label-arrow:before {content: \"▸\";float: left;margin-right: 0.25em;color: #696969;}#sk-container-id-62 label.sk-toggleable__label-arrow:hover:before {color: black;}#sk-container-id-62 div.sk-estimator:hover label.sk-toggleable__label-arrow:before {color: black;}#sk-container-id-62 div.sk-toggleable__content {max-height: 0;max-width: 0;overflow: hidden;text-align: left;background-color: #f0f8ff;}#sk-container-id-62 div.sk-toggleable__content pre {margin: 0.2em;color: black;border-radius: 0.25em;background-color: #f0f8ff;}#sk-container-id-62 input.sk-toggleable__control:checked~div.sk-toggleable__content {max-height: 200px;max-width: 100%;overflow: auto;}#sk-container-id-62 input.sk-toggleable__control:checked~label.sk-toggleable__label-arrow:before {content: \"▾\";}#sk-container-id-62 div.sk-estimator input.sk-toggleable__control:checked~label.sk-toggleable__label {background-color: #d4ebff;}#sk-container-id-62 div.sk-label input.sk-toggleable__control:checked~label.sk-toggleable__label {background-color: #d4ebff;}#sk-container-id-62 input.sk-hidden--visually {border: 0;clip: rect(1px 1px 1px 1px);clip: rect(1px, 1px, 1px, 1px);height: 1px;margin: -1px;overflow: hidden;padding: 0;position: absolute;width: 1px;}#sk-container-id-62 div.sk-estimator {font-family: monospace;background-color: #f0f8ff;border: 1px dotted black;border-radius: 0.25em;box-sizing: border-box;margin-bottom: 0.5em;}#sk-container-id-62 div.sk-estimator:hover {background-color: #d4ebff;}#sk-container-id-62 div.sk-parallel-item::after {content: \"\";width: 100%;border-bottom: 1px solid gray;flex-grow: 1;}#sk-container-id-62 div.sk-label:hover label.sk-toggleable__label {background-color: #d4ebff;}#sk-container-id-62 div.sk-serial::before {content: \"\";position: absolute;border-left: 1px solid gray;box-sizing: border-box;top: 0;bottom: 0;left: 50%;z-index: 0;}#sk-container-id-62 div.sk-serial {display: flex;flex-direction: column;align-items: center;background-color: white;padding-right: 0.2em;padding-left: 0.2em;position: relative;}#sk-container-id-62 div.sk-item {position: relative;z-index: 1;}#sk-container-id-62 div.sk-parallel {display: flex;align-items: stretch;justify-content: center;background-color: white;position: relative;}#sk-container-id-62 div.sk-item::before, #sk-container-id-62 div.sk-parallel-item::before {content: \"\";position: absolute;border-left: 1px solid gray;box-sizing: border-box;top: 0;bottom: 0;left: 50%;z-index: -1;}#sk-container-id-62 div.sk-parallel-item {display: flex;flex-direction: column;z-index: 1;position: relative;background-color: white;}#sk-container-id-62 div.sk-parallel-item:first-child::after {align-self: flex-end;width: 50%;}#sk-container-id-62 div.sk-parallel-item:last-child::after {align-self: flex-start;width: 50%;}#sk-container-id-62 div.sk-parallel-item:only-child::after {width: 0;}#sk-container-id-62 div.sk-dashed-wrapped {border: 1px dashed gray;margin: 0 0.4em 0.5em 0.4em;box-sizing: border-box;padding-bottom: 0.4em;background-color: white;}#sk-container-id-62 div.sk-label label {font-family: monospace;font-weight: bold;display: inline-block;line-height: 1.2em;}#sk-container-id-62 div.sk-label-container {text-align: center;}#sk-container-id-62 div.sk-container {/* jupyter's `normalize.less` sets `[hidden] { display: none; }` but bootstrap.min.css set `[hidden] { display: none !important; }` so we also need the `!important` here to be able to override the default hidden behavior on the sphinx rendered scikit-learn.org. See: https://github.com/scikit-learn/scikit-learn/issues/21755 */display: inline-block !important;position: relative;}#sk-container-id-62 div.sk-text-repr-fallback {display: none;}</style><div id=\"sk-container-id-62\" class=\"sk-top-container\"><div class=\"sk-text-repr-fallback\"><pre>RandomizedSearchCV(cv=StratifiedKFold(n_splits=3, random_state=1234, shuffle=True),\n",
       "                   estimator=Pipeline(steps=[(&#x27;preprocessing&#x27;,\n",
       "                                              ColumnTransformer(sparse_threshold=0,\n",
       "                                                                transformers=[(&#x27;num&#x27;,\n",
       "                                                                               Pipeline(steps=[(&#x27;imputer&#x27;,\n",
       "                                                                                                SimpleImputer(strategy=&#x27;median&#x27;))]),\n",
       "                                                                               [&#x27;Community_Membership_Family&#x27;,\n",
       "                                                                                &#x27;Community_Membership_Hobbies&#x27;,\n",
       "                                                                                &#x27;Community_Membership_None&#x27;,\n",
       "                                                                                &#x27;Community_Memb...\n",
       "                   param_distributions={&#x27;model__learning_rate&#x27;: &lt;scipy.stats._distn_infrastructure.rv_continuous_frozen object at 0x000001CDE78041C0&gt;,\n",
       "                                        &#x27;model__max_iter&#x27;: &lt;scipy.stats._distn_infrastructure.rv_discrete_frozen object at 0x000001CDE7808100&gt;,\n",
       "                                        &#x27;model__min_samples_leaf&#x27;: &lt;scipy.stats._distn_infrastructure.rv_discrete_frozen object at 0x000001CDE77F4430&gt;},\n",
       "                   random_state=1234, scoring=&#x27;balanced_accuracy&#x27;)</pre><b>In a Jupyter environment, please rerun this cell to show the HTML representation or trust the notebook. <br />On GitHub, the HTML representation is unable to render, please try loading this page with nbviewer.org.</b></div><div class=\"sk-container\" hidden><div class=\"sk-item sk-dashed-wrapped\"><div class=\"sk-label-container\"><div class=\"sk-label sk-toggleable\"><input class=\"sk-toggleable__control sk-hidden--visually\" id=\"sk-estimator-id-589\" type=\"checkbox\" ><label for=\"sk-estimator-id-589\" class=\"sk-toggleable__label sk-toggleable__label-arrow\">RandomizedSearchCV</label><div class=\"sk-toggleable__content\"><pre>RandomizedSearchCV(cv=StratifiedKFold(n_splits=3, random_state=1234, shuffle=True),\n",
       "                   estimator=Pipeline(steps=[(&#x27;preprocessing&#x27;,\n",
       "                                              ColumnTransformer(sparse_threshold=0,\n",
       "                                                                transformers=[(&#x27;num&#x27;,\n",
       "                                                                               Pipeline(steps=[(&#x27;imputer&#x27;,\n",
       "                                                                                                SimpleImputer(strategy=&#x27;median&#x27;))]),\n",
       "                                                                               [&#x27;Community_Membership_Family&#x27;,\n",
       "                                                                                &#x27;Community_Membership_Hobbies&#x27;,\n",
       "                                                                                &#x27;Community_Membership_None&#x27;,\n",
       "                                                                                &#x27;Community_Memb...\n",
       "                   param_distributions={&#x27;model__learning_rate&#x27;: &lt;scipy.stats._distn_infrastructure.rv_continuous_frozen object at 0x000001CDE78041C0&gt;,\n",
       "                                        &#x27;model__max_iter&#x27;: &lt;scipy.stats._distn_infrastructure.rv_discrete_frozen object at 0x000001CDE7808100&gt;,\n",
       "                                        &#x27;model__min_samples_leaf&#x27;: &lt;scipy.stats._distn_infrastructure.rv_discrete_frozen object at 0x000001CDE77F4430&gt;},\n",
       "                   random_state=1234, scoring=&#x27;balanced_accuracy&#x27;)</pre></div></div></div><div class=\"sk-parallel\"><div class=\"sk-parallel-item\"><div class=\"sk-item\"><div class=\"sk-label-container\"><div class=\"sk-label sk-toggleable\"><input class=\"sk-toggleable__control sk-hidden--visually\" id=\"sk-estimator-id-590\" type=\"checkbox\" ><label for=\"sk-estimator-id-590\" class=\"sk-toggleable__label sk-toggleable__label-arrow\">estimator: Pipeline</label><div class=\"sk-toggleable__content\"><pre>Pipeline(steps=[(&#x27;preprocessing&#x27;,\n",
       "                 ColumnTransformer(sparse_threshold=0,\n",
       "                                   transformers=[(&#x27;num&#x27;,\n",
       "                                                  Pipeline(steps=[(&#x27;imputer&#x27;,\n",
       "                                                                   SimpleImputer(strategy=&#x27;median&#x27;))]),\n",
       "                                                  [&#x27;Community_Membership_Family&#x27;,\n",
       "                                                   &#x27;Community_Membership_Hobbies&#x27;,\n",
       "                                                   &#x27;Community_Membership_None&#x27;,\n",
       "                                                   &#x27;Community_Membership_Other&#x27;,\n",
       "                                                   &#x27;Community_Membership_Political&#x27;,\n",
       "                                                   &#x27;Community_Membership_Professional&#x27;,\n",
       "                                                   &#x27;Communi...\n",
       "                 HistGradientBoostingClassifier(categorical_features=[False,\n",
       "                                                                      False,\n",
       "                                                                      False,\n",
       "                                                                      False,\n",
       "                                                                      False,\n",
       "                                                                      False,\n",
       "                                                                      False,\n",
       "                                                                      False,\n",
       "                                                                      False,\n",
       "                                                                      False,\n",
       "                                                                      False,\n",
       "                                                                      False,\n",
       "                                                                      False,\n",
       "                                                                      False,\n",
       "                                                                      False,\n",
       "                                                                      False,\n",
       "                                                                      False,\n",
       "                                                                      False,\n",
       "                                                                      False,\n",
       "                                                                      False,\n",
       "                                                                      False,\n",
       "                                                                      False,\n",
       "                                                                      False,\n",
       "                                                                      False,\n",
       "                                                                      False,\n",
       "                                                                      False,\n",
       "                                                                      False,\n",
       "                                                                      False,\n",
       "                                                                      False,\n",
       "                                                                      False, ...],\n",
       "                                                class_weight=&#x27;balanced&#x27;,\n",
       "                                                early_stopping=False,\n",
       "                                                min_samples_leaf=30,\n",
       "                                                random_state=1234,\n",
       "                                                scoring=&#x27;balanced_accuracy&#x27;))])</pre></div></div></div><div class=\"sk-serial\"><div class=\"sk-item\"><div class=\"sk-serial\"><div class=\"sk-item sk-dashed-wrapped\"><div class=\"sk-label-container\"><div class=\"sk-label sk-toggleable\"><input class=\"sk-toggleable__control sk-hidden--visually\" id=\"sk-estimator-id-591\" type=\"checkbox\" ><label for=\"sk-estimator-id-591\" class=\"sk-toggleable__label sk-toggleable__label-arrow\">preprocessing: ColumnTransformer</label><div class=\"sk-toggleable__content\"><pre>ColumnTransformer(sparse_threshold=0,\n",
       "                  transformers=[(&#x27;num&#x27;,\n",
       "                                 Pipeline(steps=[(&#x27;imputer&#x27;,\n",
       "                                                  SimpleImputer(strategy=&#x27;median&#x27;))]),\n",
       "                                 [&#x27;Community_Membership_Family&#x27;,\n",
       "                                  &#x27;Community_Membership_Hobbies&#x27;,\n",
       "                                  &#x27;Community_Membership_None&#x27;,\n",
       "                                  &#x27;Community_Membership_Other&#x27;,\n",
       "                                  &#x27;Community_Membership_Political&#x27;,\n",
       "                                  &#x27;Community_Membership_Professional&#x27;,\n",
       "                                  &#x27;Community_Membership_Religious&#x27;,\n",
       "                                  &#x27;Communi...\n",
       "                                  &#x27;Web_Ordering&#x27;, &#x27;Web_Page_Creation&#x27;]),\n",
       "                                (&#x27;ordinal_encoding&#x27;,\n",
       "                                 Pipeline(steps=[(&#x27;imputer&#x27;,\n",
       "                                                  SimpleImputer(strategy=&#x27;most_frequent&#x27;)),\n",
       "                                                 (&#x27;encoder&#x27;,\n",
       "                                                  OrdinalEncoder(dtype=&lt;class &#x27;int&#x27;&gt;,\n",
       "                                                                 encoded_missing_value=99999,\n",
       "                                                                 handle_unknown=&#x27;use_encoded_value&#x27;,\n",
       "                                                                 max_categories=254,\n",
       "                                                                 unknown_value=99999))]),\n",
       "                                 [&#x27;Actual_Time&#x27;, &#x27;Country&#x27;,\n",
       "                                  &#x27;Major_Geographical_Location&#x27;,\n",
       "                                  &#x27;Primary_Computing_Platform&#x27;,\n",
       "                                  &#x27;Primary_Language&#x27;])])</pre></div></div></div><div class=\"sk-parallel\"><div class=\"sk-parallel-item\"><div class=\"sk-item\"><div class=\"sk-label-container\"><div class=\"sk-label sk-toggleable\"><input class=\"sk-toggleable__control sk-hidden--visually\" id=\"sk-estimator-id-592\" type=\"checkbox\" ><label for=\"sk-estimator-id-592\" class=\"sk-toggleable__label sk-toggleable__label-arrow\">num</label><div class=\"sk-toggleable__content\"><pre>[&#x27;Community_Membership_Family&#x27;, &#x27;Community_Membership_Hobbies&#x27;, &#x27;Community_Membership_None&#x27;, &#x27;Community_Membership_Other&#x27;, &#x27;Community_Membership_Political&#x27;, &#x27;Community_Membership_Professional&#x27;, &#x27;Community_Membership_Religious&#x27;, &#x27;Community_Membership_Support&#x27;, &#x27;Disability_Cognitive&#x27;, &#x27;Disability_Hearing&#x27;, &#x27;Disability_Motor&#x27;, &#x27;Disability_Not_Impaired&#x27;, &#x27;Disability_Not_Say&#x27;, &#x27;Disability_Vision&#x27;, &#x27;Gender&#x27;, &#x27;How_You_Heard_About_Survey_Banner&#x27;, &#x27;How_You_Heard_About_Survey_Friend&#x27;, &#x27;How_You_Heard_About_Survey_Mailing_List&#x27;, &#x27;How_You_Heard_About_Survey_Others&#x27;, &#x27;How_You_Heard_About_Survey_Printed_Media&#x27;, &#x27;How_You_Heard_About_Survey_Remebered&#x27;, &#x27;How_You_Heard_About_Survey_Search_Engine&#x27;, &#x27;How_You_Heard_About_Survey_Usenet_News&#x27;, &#x27;How_You_Heard_About_Survey_WWW_Page&#x27;, &#x27;Not_Purchasing_Bad_experience&#x27;, &#x27;Not_Purchasing_Bad_press&#x27;, &#x27;Not_Purchasing_Cant_find&#x27;, &#x27;Not_Purchasing_Company_policy&#x27;, &#x27;Not_Purchasing_Easier_locally&#x27;, &#x27;Not_Purchasing_Enough_info&#x27;, &#x27;Not_Purchasing_Judge_quality&#x27;, &#x27;Not_Purchasing_Never_tried&#x27;, &#x27;Not_Purchasing_No_credit&#x27;, &#x27;Not_Purchasing_Not_applicable&#x27;, &#x27;Not_Purchasing_Not_option&#x27;, &#x27;Not_Purchasing_Other&#x27;, &#x27;Not_Purchasing_Prefer_people&#x27;, &#x27;Not_Purchasing_Privacy&#x27;, &#x27;Not_Purchasing_Receipt&#x27;, &#x27;Not_Purchasing_Security&#x27;, &#x27;Not_Purchasing_Too_complicated&#x27;, &#x27;Not_Purchasing_Uncomfortable&#x27;, &#x27;Not_Purchasing_Unfamiliar_vendor&#x27;, &#x27;Who_Pays_for_Access_Dont_Know&#x27;, &#x27;Who_Pays_for_Access_Other&#x27;, &#x27;Who_Pays_for_Access_Parents&#x27;, &#x27;Who_Pays_for_Access_School&#x27;, &#x27;Who_Pays_for_Access_Self&#x27;]</pre></div></div></div><div class=\"sk-serial\"><div class=\"sk-item\"><div class=\"sk-serial\"><div class=\"sk-item\"><div class=\"sk-estimator sk-toggleable\"><input class=\"sk-toggleable__control sk-hidden--visually\" id=\"sk-estimator-id-593\" type=\"checkbox\" ><label for=\"sk-estimator-id-593\" class=\"sk-toggleable__label sk-toggleable__label-arrow\">SimpleImputer</label><div class=\"sk-toggleable__content\"><pre>SimpleImputer(strategy=&#x27;median&#x27;)</pre></div></div></div></div></div></div></div></div><div class=\"sk-parallel-item\"><div class=\"sk-item\"><div class=\"sk-label-container\"><div class=\"sk-label sk-toggleable\"><input class=\"sk-toggleable__control sk-hidden--visually\" id=\"sk-estimator-id-594\" type=\"checkbox\" ><label for=\"sk-estimator-id-594\" class=\"sk-toggleable__label sk-toggleable__label-arrow\">one_hot_encoding</label><div class=\"sk-toggleable__content\"><pre>[&#x27;Community_Building&#x27;, &#x27;Education_Attainment&#x27;, &#x27;Falsification_of_Information&#x27;, &#x27;Household_Income&#x27;, &#x27;Major_Occupation&#x27;, &#x27;Marital_Status&#x27;, &#x27;Most_Import_Issue_Facing_the_Internet&#x27;, &#x27;Opinions_on_Censorship&#x27;, &#x27;Primary_Place_of_WWW_Access&#x27;, &#x27;Race&#x27;, &#x27;Registered_to_Vote&#x27;, &#x27;Sexual_Preference&#x27;, &#x27;Web_Ordering&#x27;, &#x27;Web_Page_Creation&#x27;]</pre></div></div></div><div class=\"sk-serial\"><div class=\"sk-item\"><div class=\"sk-serial\"><div class=\"sk-item\"><div class=\"sk-estimator sk-toggleable\"><input class=\"sk-toggleable__control sk-hidden--visually\" id=\"sk-estimator-id-595\" type=\"checkbox\" ><label for=\"sk-estimator-id-595\" class=\"sk-toggleable__label sk-toggleable__label-arrow\">SimpleImputer</label><div class=\"sk-toggleable__content\"><pre>SimpleImputer(strategy=&#x27;most_frequent&#x27;)</pre></div></div></div><div class=\"sk-item\"><div class=\"sk-estimator sk-toggleable\"><input class=\"sk-toggleable__control sk-hidden--visually\" id=\"sk-estimator-id-596\" type=\"checkbox\" ><label for=\"sk-estimator-id-596\" class=\"sk-toggleable__label sk-toggleable__label-arrow\">OneHotEncoder</label><div class=\"sk-toggleable__content\"><pre>OneHotEncoder(drop=&#x27;first&#x27;, handle_unknown=&#x27;ignore&#x27;)</pre></div></div></div></div></div></div></div></div><div class=\"sk-parallel-item\"><div class=\"sk-item\"><div class=\"sk-label-container\"><div class=\"sk-label sk-toggleable\"><input class=\"sk-toggleable__control sk-hidden--visually\" id=\"sk-estimator-id-597\" type=\"checkbox\" ><label for=\"sk-estimator-id-597\" class=\"sk-toggleable__label sk-toggleable__label-arrow\">ordinal_encoding</label><div class=\"sk-toggleable__content\"><pre>[&#x27;Actual_Time&#x27;, &#x27;Country&#x27;, &#x27;Major_Geographical_Location&#x27;, &#x27;Primary_Computing_Platform&#x27;, &#x27;Primary_Language&#x27;]</pre></div></div></div><div class=\"sk-serial\"><div class=\"sk-item\"><div class=\"sk-serial\"><div class=\"sk-item\"><div class=\"sk-estimator sk-toggleable\"><input class=\"sk-toggleable__control sk-hidden--visually\" id=\"sk-estimator-id-598\" type=\"checkbox\" ><label for=\"sk-estimator-id-598\" class=\"sk-toggleable__label sk-toggleable__label-arrow\">SimpleImputer</label><div class=\"sk-toggleable__content\"><pre>SimpleImputer(strategy=&#x27;most_frequent&#x27;)</pre></div></div></div><div class=\"sk-item\"><div class=\"sk-estimator sk-toggleable\"><input class=\"sk-toggleable__control sk-hidden--visually\" id=\"sk-estimator-id-599\" type=\"checkbox\" ><label for=\"sk-estimator-id-599\" class=\"sk-toggleable__label sk-toggleable__label-arrow\">OrdinalEncoder</label><div class=\"sk-toggleable__content\"><pre>OrdinalEncoder(dtype=&lt;class &#x27;int&#x27;&gt;, encoded_missing_value=99999,\n",
       "               handle_unknown=&#x27;use_encoded_value&#x27;, max_categories=254,\n",
       "               unknown_value=99999)</pre></div></div></div></div></div></div></div></div></div></div><div class=\"sk-item\"><div class=\"sk-estimator sk-toggleable\"><input class=\"sk-toggleable__control sk-hidden--visually\" id=\"sk-estimator-id-600\" type=\"checkbox\" ><label for=\"sk-estimator-id-600\" class=\"sk-toggleable__label sk-toggleable__label-arrow\">HistGradientBoostingClassifier</label><div class=\"sk-toggleable__content\"><pre>HistGradientBoostingClassifier(categorical_features=[False, False, False, False,\n",
       "                                                     False, False, False, False,\n",
       "                                                     False, False, False, False,\n",
       "                                                     False, False, False, False,\n",
       "                                                     False, False, False, False,\n",
       "                                                     False, False, False, False,\n",
       "                                                     False, False, False, False,\n",
       "                                                     False, False, ...],\n",
       "                               class_weight=&#x27;balanced&#x27;, early_stopping=False,\n",
       "                               min_samples_leaf=30, random_state=1234,\n",
       "                               scoring=&#x27;balanced_accuracy&#x27;)</pre></div></div></div></div></div></div></div></div></div></div></div></div>"
      ],
      "text/plain": [
       "RandomizedSearchCV(cv=StratifiedKFold(n_splits=3, random_state=1234, shuffle=True),\n",
       "                   estimator=Pipeline(steps=[('preprocessing',\n",
       "                                              ColumnTransformer(sparse_threshold=0,\n",
       "                                                                transformers=[('num',\n",
       "                                                                               Pipeline(steps=[('imputer',\n",
       "                                                                                                SimpleImputer(strategy='median'))]),\n",
       "                                                                               ['Community_Membership_Family',\n",
       "                                                                                'Community_Membership_Hobbies',\n",
       "                                                                                'Community_Membership_None',\n",
       "                                                                                'Community_Memb...\n",
       "                   param_distributions={'model__learning_rate': <scipy.stats._distn_infrastructure.rv_continuous_frozen object at 0x000001CDE78041C0>,\n",
       "                                        'model__max_iter': <scipy.stats._distn_infrastructure.rv_discrete_frozen object at 0x000001CDE7808100>,\n",
       "                                        'model__min_samples_leaf': <scipy.stats._distn_infrastructure.rv_discrete_frozen object at 0x000001CDE77F4430>},\n",
       "                   random_state=1234, scoring='balanced_accuracy')"
      ]
     },
     "execution_count": 487,
     "metadata": {},
     "output_type": "execute_result"
    }
   ],
   "source": [
    "# Display pipeline\n",
    "print(\"Time taken: \", catsup_hgb_tune9_time_taken)\n",
    "catsup_hgb_tune9"
   ]
  },
  {
   "cell_type": "code",
   "execution_count": 488,
   "id": "0089267a",
   "metadata": {},
   "outputs": [
    {
     "name": "stdout",
     "output_type": "stream",
     "text": [
      "Best parameters: {'model__learning_rate': 0.06745583511366768, 'model__max_iter': 63, 'model__min_samples_leaf': 22}\n",
      "Balanced accuracy with best parameters: 0.8803370169789227\n"
     ]
    }
   ],
   "source": [
    "# Predict using the model with the best parameters\n",
    "y_catsup_hgb_tune_pred = catsup_hgb_tune.predict(X_test)\n",
    "\n",
    "# Get the best parameters\n",
    "catsup_hgb_tune_best_params = catsup_hgb_tune.best_params_\n",
    "print(f'Best parameters: {catsup_hgb_tune_best_params}')\n",
    "\n",
    "# Calculate balanced accuracy for the model with the best parameters\n",
    "catsup_hgb_tune_accuracy = balanced_accuracy_score(y_test, y_catsup_hgb_tune_pred)\n",
    "print(f'Balanced accuracy with best parameters: {catsup_hgb_tune_accuracy}')\n",
    "\n",
    "# Save results\n",
    "default_summary.append(\"Tune\")\n",
    "card_9_summary.append(\"AllVariables\")\n",
    "encoder_summary.append(\"HGB_NativeSupport\")\n",
    "value_summary.append(catsup_hgb_tune_accuracy)\n",
    "time_summary.append(catsup_hgb_tune_time_taken)\n",
    "n_models_summary.append(catsup_hgb_tune.n_iter)"
   ]
  },
  {
   "cell_type": "code",
   "execution_count": 489,
   "id": "e9c4b6cd",
   "metadata": {
    "scrolled": true
   },
   "outputs": [
    {
     "name": "stdout",
     "output_type": "stream",
     "text": [
      "Best parameters: {'model__learning_rate': 0.06745583511366768, 'model__max_iter': 63, 'model__min_samples_leaf': 22}\n",
      "Balanced accuracy with best parameters: 0.8814878512880562\n"
     ]
    }
   ],
   "source": [
    "# Predict using the model with the best parameters\n",
    "y_catsup_hgb_tune_pred9 = catsup_hgb_tune9.predict(X_test)\n",
    "\n",
    "# Get the best parameters\n",
    "catsup_hgb_tune_best_params9 = catsup_hgb_tune9.best_params_\n",
    "print(f'Best parameters: {catsup_hgb_tune_best_params9}')\n",
    "\n",
    "# Calculate balanced accuracy for the model with the best parameters\n",
    "catsup_hgb_tune_accuracy9 = balanced_accuracy_score(y_test, y_catsup_hgb_tune_pred9)\n",
    "print(f'Balanced accuracy with best parameters: {catsup_hgb_tune_accuracy9}')\n",
    "\n",
    "# Save results\n",
    "default_summary.append(\"Tune\")\n",
    "card_9_summary.append(\"OnlyVariablesWithCard>9\")\n",
    "encoder_summary.append(\"HGB_NativeSupport\")\n",
    "value_summary.append(catsup_hgb_tune_accuracy9)\n",
    "time_summary.append(catsup_hgb_tune9_time_taken)\n",
    "n_models_summary.append(catsup_hgb_tune9.n_iter)"
   ]
  },
  {
   "cell_type": "markdown",
   "id": "438f6b67",
   "metadata": {},
   "source": [
    " "
   ]
  },
  {
   "cell_type": "markdown",
   "id": "a3f4c3b4",
   "metadata": {},
   "source": [
    "### Target Encoder (scikit-learn)"
   ]
  },
  {
   "cell_type": "code",
   "execution_count": 490,
   "id": "d9290198",
   "metadata": {},
   "outputs": [],
   "source": [
    "from sklearn.preprocessing import TargetEncoder"
   ]
  },
  {
   "cell_type": "markdown",
   "id": "8c8d4972",
   "metadata": {},
   "source": [
    "#### Preprocessing"
   ]
  },
  {
   "cell_type": "code",
   "execution_count": 491,
   "id": "ecceaf49",
   "metadata": {},
   "outputs": [],
   "source": [
    "cat_pipeline_more9 = Pipeline([\n",
    "    (\"imputer\", SimpleImputer(strategy = \"most_frequent\")),\n",
    "    (\"encoder\", TargetEncoder())\n",
    "])\n",
    "\n",
    "cat_pipeline_less9 = Pipeline([\n",
    "    (\"imputer\", SimpleImputer(strategy = \"most_frequent\")),\n",
    "    (\"encoder\", OneHotEncoder(drop = \"first\", handle_unknown = \"ignore\"))\n",
    "])\n",
    "\n",
    "preprop_pipeline = ColumnTransformer(\n",
    "    transformers = [(\"num\", num_pipeline, num_cols),\n",
    "                    (\"cat\", cat_pipeline_more9, cat_cols)],\n",
    "    sparse_threshold=0\n",
    ")\n",
    "\n",
    "preprop_pipeline9 = ColumnTransformer(\n",
    "    transformers = [(\"num\", num_pipeline, num_cols),\n",
    "                    (\"one_hot_encoding\", cat_pipeline_less9, cat_cols_less9),\n",
    "                    (\"ordinal_encoding\", cat_pipeline_more9, cat_cols_more9)\n",
    "                    ],\n",
    "    sparse_threshold=0\n",
    ")"
   ]
  },
  {
   "cell_type": "markdown",
   "id": "31b4246b",
   "metadata": {},
   "source": [
    "#### Create a HistGradientBoostingClassifier model with default parameters and early stopping"
   ]
  },
  {
   "cell_type": "code",
   "execution_count": 492,
   "id": "21ad5f2b",
   "metadata": {},
   "outputs": [],
   "source": [
    "target_hgb_default_pipeline = Pipeline([('preprocessing', preprop_pipeline),\n",
    "                                       ('model', hgb_default)])\n",
    "\n",
    "target_hgb_default_pipeline9 = Pipeline([('preprocessing', preprop_pipeline9),\n",
    "                                       ('model', hgb_default9)])"
   ]
  },
  {
   "cell_type": "code",
   "execution_count": 493,
   "id": "ebaf1b23",
   "metadata": {},
   "outputs": [],
   "source": [
    "tic = time.time()\n",
    "\n",
    "target_hgb_default = target_hgb_default_pipeline.fit(X_train, y_train)\n",
    "\n",
    "toc = time.time()\n",
    "target_hgb_default_time_taken = toc-tic"
   ]
  },
  {
   "cell_type": "code",
   "execution_count": 494,
   "metadata": {},
   "outputs": [
    {
     "name": "stdout",
     "output_type": "stream",
     "text": [
      "Time taken:  0.9612064361572266\n"
     ]
    },
    {
     "data": {
      "text/html": [
       "<style>#sk-container-id-63 {color: black;}#sk-container-id-63 pre{padding: 0;}#sk-container-id-63 div.sk-toggleable {background-color: white;}#sk-container-id-63 label.sk-toggleable__label {cursor: pointer;display: block;width: 100%;margin-bottom: 0;padding: 0.3em;box-sizing: border-box;text-align: center;}#sk-container-id-63 label.sk-toggleable__label-arrow:before {content: \"▸\";float: left;margin-right: 0.25em;color: #696969;}#sk-container-id-63 label.sk-toggleable__label-arrow:hover:before {color: black;}#sk-container-id-63 div.sk-estimator:hover label.sk-toggleable__label-arrow:before {color: black;}#sk-container-id-63 div.sk-toggleable__content {max-height: 0;max-width: 0;overflow: hidden;text-align: left;background-color: #f0f8ff;}#sk-container-id-63 div.sk-toggleable__content pre {margin: 0.2em;color: black;border-radius: 0.25em;background-color: #f0f8ff;}#sk-container-id-63 input.sk-toggleable__control:checked~div.sk-toggleable__content {max-height: 200px;max-width: 100%;overflow: auto;}#sk-container-id-63 input.sk-toggleable__control:checked~label.sk-toggleable__label-arrow:before {content: \"▾\";}#sk-container-id-63 div.sk-estimator input.sk-toggleable__control:checked~label.sk-toggleable__label {background-color: #d4ebff;}#sk-container-id-63 div.sk-label input.sk-toggleable__control:checked~label.sk-toggleable__label {background-color: #d4ebff;}#sk-container-id-63 input.sk-hidden--visually {border: 0;clip: rect(1px 1px 1px 1px);clip: rect(1px, 1px, 1px, 1px);height: 1px;margin: -1px;overflow: hidden;padding: 0;position: absolute;width: 1px;}#sk-container-id-63 div.sk-estimator {font-family: monospace;background-color: #f0f8ff;border: 1px dotted black;border-radius: 0.25em;box-sizing: border-box;margin-bottom: 0.5em;}#sk-container-id-63 div.sk-estimator:hover {background-color: #d4ebff;}#sk-container-id-63 div.sk-parallel-item::after {content: \"\";width: 100%;border-bottom: 1px solid gray;flex-grow: 1;}#sk-container-id-63 div.sk-label:hover label.sk-toggleable__label {background-color: #d4ebff;}#sk-container-id-63 div.sk-serial::before {content: \"\";position: absolute;border-left: 1px solid gray;box-sizing: border-box;top: 0;bottom: 0;left: 50%;z-index: 0;}#sk-container-id-63 div.sk-serial {display: flex;flex-direction: column;align-items: center;background-color: white;padding-right: 0.2em;padding-left: 0.2em;position: relative;}#sk-container-id-63 div.sk-item {position: relative;z-index: 1;}#sk-container-id-63 div.sk-parallel {display: flex;align-items: stretch;justify-content: center;background-color: white;position: relative;}#sk-container-id-63 div.sk-item::before, #sk-container-id-63 div.sk-parallel-item::before {content: \"\";position: absolute;border-left: 1px solid gray;box-sizing: border-box;top: 0;bottom: 0;left: 50%;z-index: -1;}#sk-container-id-63 div.sk-parallel-item {display: flex;flex-direction: column;z-index: 1;position: relative;background-color: white;}#sk-container-id-63 div.sk-parallel-item:first-child::after {align-self: flex-end;width: 50%;}#sk-container-id-63 div.sk-parallel-item:last-child::after {align-self: flex-start;width: 50%;}#sk-container-id-63 div.sk-parallel-item:only-child::after {width: 0;}#sk-container-id-63 div.sk-dashed-wrapped {border: 1px dashed gray;margin: 0 0.4em 0.5em 0.4em;box-sizing: border-box;padding-bottom: 0.4em;background-color: white;}#sk-container-id-63 div.sk-label label {font-family: monospace;font-weight: bold;display: inline-block;line-height: 1.2em;}#sk-container-id-63 div.sk-label-container {text-align: center;}#sk-container-id-63 div.sk-container {/* jupyter's `normalize.less` sets `[hidden] { display: none; }` but bootstrap.min.css set `[hidden] { display: none !important; }` so we also need the `!important` here to be able to override the default hidden behavior on the sphinx rendered scikit-learn.org. See: https://github.com/scikit-learn/scikit-learn/issues/21755 */display: inline-block !important;position: relative;}#sk-container-id-63 div.sk-text-repr-fallback {display: none;}</style><div id=\"sk-container-id-63\" class=\"sk-top-container\"><div class=\"sk-text-repr-fallback\"><pre>Pipeline(steps=[(&#x27;preprocessing&#x27;,\n",
       "                 ColumnTransformer(sparse_threshold=0,\n",
       "                                   transformers=[(&#x27;num&#x27;,\n",
       "                                                  Pipeline(steps=[(&#x27;imputer&#x27;,\n",
       "                                                                   SimpleImputer(strategy=&#x27;median&#x27;))]),\n",
       "                                                  [&#x27;Community_Membership_Family&#x27;,\n",
       "                                                   &#x27;Community_Membership_Hobbies&#x27;,\n",
       "                                                   &#x27;Community_Membership_None&#x27;,\n",
       "                                                   &#x27;Community_Membership_Other&#x27;,\n",
       "                                                   &#x27;Community_Membership_Political&#x27;,\n",
       "                                                   &#x27;Community_Membership_Professional&#x27;,\n",
       "                                                   &#x27;Communi...\n",
       "                                                   &#x27;Most_Import_Issue_Facing_the_Internet&#x27;,\n",
       "                                                   &#x27;Opinions_on_Censorship&#x27;,\n",
       "                                                   &#x27;Primary_Computing_Platform&#x27;,\n",
       "                                                   &#x27;Primary_Language&#x27;,\n",
       "                                                   &#x27;Primary_Place_of_WWW_Access&#x27;,\n",
       "                                                   &#x27;Race&#x27;, &#x27;Registered_to_Vote&#x27;,\n",
       "                                                   &#x27;Sexual_Preference&#x27;,\n",
       "                                                   &#x27;Web_Ordering&#x27;,\n",
       "                                                   &#x27;Web_Page_Creation&#x27;])])),\n",
       "                (&#x27;model&#x27;,\n",
       "                 HistGradientBoostingClassifier(class_weight=&#x27;balanced&#x27;,\n",
       "                                                early_stopping=False,\n",
       "                                                min_samples_leaf=30,\n",
       "                                                random_state=1234,\n",
       "                                                scoring=&#x27;balanced_accuracy&#x27;))])</pre><b>In a Jupyter environment, please rerun this cell to show the HTML representation or trust the notebook. <br />On GitHub, the HTML representation is unable to render, please try loading this page with nbviewer.org.</b></div><div class=\"sk-container\" hidden><div class=\"sk-item sk-dashed-wrapped\"><div class=\"sk-label-container\"><div class=\"sk-label sk-toggleable\"><input class=\"sk-toggleable__control sk-hidden--visually\" id=\"sk-estimator-id-601\" type=\"checkbox\" ><label for=\"sk-estimator-id-601\" class=\"sk-toggleable__label sk-toggleable__label-arrow\">Pipeline</label><div class=\"sk-toggleable__content\"><pre>Pipeline(steps=[(&#x27;preprocessing&#x27;,\n",
       "                 ColumnTransformer(sparse_threshold=0,\n",
       "                                   transformers=[(&#x27;num&#x27;,\n",
       "                                                  Pipeline(steps=[(&#x27;imputer&#x27;,\n",
       "                                                                   SimpleImputer(strategy=&#x27;median&#x27;))]),\n",
       "                                                  [&#x27;Community_Membership_Family&#x27;,\n",
       "                                                   &#x27;Community_Membership_Hobbies&#x27;,\n",
       "                                                   &#x27;Community_Membership_None&#x27;,\n",
       "                                                   &#x27;Community_Membership_Other&#x27;,\n",
       "                                                   &#x27;Community_Membership_Political&#x27;,\n",
       "                                                   &#x27;Community_Membership_Professional&#x27;,\n",
       "                                                   &#x27;Communi...\n",
       "                                                   &#x27;Most_Import_Issue_Facing_the_Internet&#x27;,\n",
       "                                                   &#x27;Opinions_on_Censorship&#x27;,\n",
       "                                                   &#x27;Primary_Computing_Platform&#x27;,\n",
       "                                                   &#x27;Primary_Language&#x27;,\n",
       "                                                   &#x27;Primary_Place_of_WWW_Access&#x27;,\n",
       "                                                   &#x27;Race&#x27;, &#x27;Registered_to_Vote&#x27;,\n",
       "                                                   &#x27;Sexual_Preference&#x27;,\n",
       "                                                   &#x27;Web_Ordering&#x27;,\n",
       "                                                   &#x27;Web_Page_Creation&#x27;])])),\n",
       "                (&#x27;model&#x27;,\n",
       "                 HistGradientBoostingClassifier(class_weight=&#x27;balanced&#x27;,\n",
       "                                                early_stopping=False,\n",
       "                                                min_samples_leaf=30,\n",
       "                                                random_state=1234,\n",
       "                                                scoring=&#x27;balanced_accuracy&#x27;))])</pre></div></div></div><div class=\"sk-serial\"><div class=\"sk-item sk-dashed-wrapped\"><div class=\"sk-label-container\"><div class=\"sk-label sk-toggleable\"><input class=\"sk-toggleable__control sk-hidden--visually\" id=\"sk-estimator-id-602\" type=\"checkbox\" ><label for=\"sk-estimator-id-602\" class=\"sk-toggleable__label sk-toggleable__label-arrow\">preprocessing: ColumnTransformer</label><div class=\"sk-toggleable__content\"><pre>ColumnTransformer(sparse_threshold=0,\n",
       "                  transformers=[(&#x27;num&#x27;,\n",
       "                                 Pipeline(steps=[(&#x27;imputer&#x27;,\n",
       "                                                  SimpleImputer(strategy=&#x27;median&#x27;))]),\n",
       "                                 [&#x27;Community_Membership_Family&#x27;,\n",
       "                                  &#x27;Community_Membership_Hobbies&#x27;,\n",
       "                                  &#x27;Community_Membership_None&#x27;,\n",
       "                                  &#x27;Community_Membership_Other&#x27;,\n",
       "                                  &#x27;Community_Membership_Political&#x27;,\n",
       "                                  &#x27;Community_Membership_Professional&#x27;,\n",
       "                                  &#x27;Community_Membership_Religious&#x27;,\n",
       "                                  &#x27;Communi...\n",
       "                                  &#x27;Country&#x27;, &#x27;Education_Attainment&#x27;,\n",
       "                                  &#x27;Falsification_of_Information&#x27;,\n",
       "                                  &#x27;Household_Income&#x27;,\n",
       "                                  &#x27;Major_Geographical_Location&#x27;,\n",
       "                                  &#x27;Major_Occupation&#x27;, &#x27;Marital_Status&#x27;,\n",
       "                                  &#x27;Most_Import_Issue_Facing_the_Internet&#x27;,\n",
       "                                  &#x27;Opinions_on_Censorship&#x27;,\n",
       "                                  &#x27;Primary_Computing_Platform&#x27;,\n",
       "                                  &#x27;Primary_Language&#x27;,\n",
       "                                  &#x27;Primary_Place_of_WWW_Access&#x27;, &#x27;Race&#x27;,\n",
       "                                  &#x27;Registered_to_Vote&#x27;, &#x27;Sexual_Preference&#x27;,\n",
       "                                  &#x27;Web_Ordering&#x27;, &#x27;Web_Page_Creation&#x27;])])</pre></div></div></div><div class=\"sk-parallel\"><div class=\"sk-parallel-item\"><div class=\"sk-item\"><div class=\"sk-label-container\"><div class=\"sk-label sk-toggleable\"><input class=\"sk-toggleable__control sk-hidden--visually\" id=\"sk-estimator-id-603\" type=\"checkbox\" ><label for=\"sk-estimator-id-603\" class=\"sk-toggleable__label sk-toggleable__label-arrow\">num</label><div class=\"sk-toggleable__content\"><pre>[&#x27;Community_Membership_Family&#x27;, &#x27;Community_Membership_Hobbies&#x27;, &#x27;Community_Membership_None&#x27;, &#x27;Community_Membership_Other&#x27;, &#x27;Community_Membership_Political&#x27;, &#x27;Community_Membership_Professional&#x27;, &#x27;Community_Membership_Religious&#x27;, &#x27;Community_Membership_Support&#x27;, &#x27;Disability_Cognitive&#x27;, &#x27;Disability_Hearing&#x27;, &#x27;Disability_Motor&#x27;, &#x27;Disability_Not_Impaired&#x27;, &#x27;Disability_Not_Say&#x27;, &#x27;Disability_Vision&#x27;, &#x27;Gender&#x27;, &#x27;How_You_Heard_About_Survey_Banner&#x27;, &#x27;How_You_Heard_About_Survey_Friend&#x27;, &#x27;How_You_Heard_About_Survey_Mailing_List&#x27;, &#x27;How_You_Heard_About_Survey_Others&#x27;, &#x27;How_You_Heard_About_Survey_Printed_Media&#x27;, &#x27;How_You_Heard_About_Survey_Remebered&#x27;, &#x27;How_You_Heard_About_Survey_Search_Engine&#x27;, &#x27;How_You_Heard_About_Survey_Usenet_News&#x27;, &#x27;How_You_Heard_About_Survey_WWW_Page&#x27;, &#x27;Not_Purchasing_Bad_experience&#x27;, &#x27;Not_Purchasing_Bad_press&#x27;, &#x27;Not_Purchasing_Cant_find&#x27;, &#x27;Not_Purchasing_Company_policy&#x27;, &#x27;Not_Purchasing_Easier_locally&#x27;, &#x27;Not_Purchasing_Enough_info&#x27;, &#x27;Not_Purchasing_Judge_quality&#x27;, &#x27;Not_Purchasing_Never_tried&#x27;, &#x27;Not_Purchasing_No_credit&#x27;, &#x27;Not_Purchasing_Not_applicable&#x27;, &#x27;Not_Purchasing_Not_option&#x27;, &#x27;Not_Purchasing_Other&#x27;, &#x27;Not_Purchasing_Prefer_people&#x27;, &#x27;Not_Purchasing_Privacy&#x27;, &#x27;Not_Purchasing_Receipt&#x27;, &#x27;Not_Purchasing_Security&#x27;, &#x27;Not_Purchasing_Too_complicated&#x27;, &#x27;Not_Purchasing_Uncomfortable&#x27;, &#x27;Not_Purchasing_Unfamiliar_vendor&#x27;, &#x27;Who_Pays_for_Access_Dont_Know&#x27;, &#x27;Who_Pays_for_Access_Other&#x27;, &#x27;Who_Pays_for_Access_Parents&#x27;, &#x27;Who_Pays_for_Access_School&#x27;, &#x27;Who_Pays_for_Access_Self&#x27;]</pre></div></div></div><div class=\"sk-serial\"><div class=\"sk-item\"><div class=\"sk-serial\"><div class=\"sk-item\"><div class=\"sk-estimator sk-toggleable\"><input class=\"sk-toggleable__control sk-hidden--visually\" id=\"sk-estimator-id-604\" type=\"checkbox\" ><label for=\"sk-estimator-id-604\" class=\"sk-toggleable__label sk-toggleable__label-arrow\">SimpleImputer</label><div class=\"sk-toggleable__content\"><pre>SimpleImputer(strategy=&#x27;median&#x27;)</pre></div></div></div></div></div></div></div></div><div class=\"sk-parallel-item\"><div class=\"sk-item\"><div class=\"sk-label-container\"><div class=\"sk-label sk-toggleable\"><input class=\"sk-toggleable__control sk-hidden--visually\" id=\"sk-estimator-id-605\" type=\"checkbox\" ><label for=\"sk-estimator-id-605\" class=\"sk-toggleable__label sk-toggleable__label-arrow\">cat</label><div class=\"sk-toggleable__content\"><pre>[&#x27;Actual_Time&#x27;, &#x27;Community_Building&#x27;, &#x27;Country&#x27;, &#x27;Education_Attainment&#x27;, &#x27;Falsification_of_Information&#x27;, &#x27;Household_Income&#x27;, &#x27;Major_Geographical_Location&#x27;, &#x27;Major_Occupation&#x27;, &#x27;Marital_Status&#x27;, &#x27;Most_Import_Issue_Facing_the_Internet&#x27;, &#x27;Opinions_on_Censorship&#x27;, &#x27;Primary_Computing_Platform&#x27;, &#x27;Primary_Language&#x27;, &#x27;Primary_Place_of_WWW_Access&#x27;, &#x27;Race&#x27;, &#x27;Registered_to_Vote&#x27;, &#x27;Sexual_Preference&#x27;, &#x27;Web_Ordering&#x27;, &#x27;Web_Page_Creation&#x27;]</pre></div></div></div><div class=\"sk-serial\"><div class=\"sk-item\"><div class=\"sk-serial\"><div class=\"sk-item\"><div class=\"sk-estimator sk-toggleable\"><input class=\"sk-toggleable__control sk-hidden--visually\" id=\"sk-estimator-id-606\" type=\"checkbox\" ><label for=\"sk-estimator-id-606\" class=\"sk-toggleable__label sk-toggleable__label-arrow\">SimpleImputer</label><div class=\"sk-toggleable__content\"><pre>SimpleImputer(strategy=&#x27;most_frequent&#x27;)</pre></div></div></div><div class=\"sk-item\"><div class=\"sk-estimator sk-toggleable\"><input class=\"sk-toggleable__control sk-hidden--visually\" id=\"sk-estimator-id-607\" type=\"checkbox\" ><label for=\"sk-estimator-id-607\" class=\"sk-toggleable__label sk-toggleable__label-arrow\">TargetEncoder</label><div class=\"sk-toggleable__content\"><pre>TargetEncoder()</pre></div></div></div></div></div></div></div></div></div></div><div class=\"sk-item\"><div class=\"sk-estimator sk-toggleable\"><input class=\"sk-toggleable__control sk-hidden--visually\" id=\"sk-estimator-id-608\" type=\"checkbox\" ><label for=\"sk-estimator-id-608\" class=\"sk-toggleable__label sk-toggleable__label-arrow\">HistGradientBoostingClassifier</label><div class=\"sk-toggleable__content\"><pre>HistGradientBoostingClassifier(class_weight=&#x27;balanced&#x27;, early_stopping=False,\n",
       "                               min_samples_leaf=30, random_state=1234,\n",
       "                               scoring=&#x27;balanced_accuracy&#x27;)</pre></div></div></div></div></div></div></div>"
      ],
      "text/plain": [
       "Pipeline(steps=[('preprocessing',\n",
       "                 ColumnTransformer(sparse_threshold=0,\n",
       "                                   transformers=[('num',\n",
       "                                                  Pipeline(steps=[('imputer',\n",
       "                                                                   SimpleImputer(strategy='median'))]),\n",
       "                                                  ['Community_Membership_Family',\n",
       "                                                   'Community_Membership_Hobbies',\n",
       "                                                   'Community_Membership_None',\n",
       "                                                   'Community_Membership_Other',\n",
       "                                                   'Community_Membership_Political',\n",
       "                                                   'Community_Membership_Professional',\n",
       "                                                   'Communi...\n",
       "                                                   'Most_Import_Issue_Facing_the_Internet',\n",
       "                                                   'Opinions_on_Censorship',\n",
       "                                                   'Primary_Computing_Platform',\n",
       "                                                   'Primary_Language',\n",
       "                                                   'Primary_Place_of_WWW_Access',\n",
       "                                                   'Race', 'Registered_to_Vote',\n",
       "                                                   'Sexual_Preference',\n",
       "                                                   'Web_Ordering',\n",
       "                                                   'Web_Page_Creation'])])),\n",
       "                ('model',\n",
       "                 HistGradientBoostingClassifier(class_weight='balanced',\n",
       "                                                early_stopping=False,\n",
       "                                                min_samples_leaf=30,\n",
       "                                                random_state=1234,\n",
       "                                                scoring='balanced_accuracy'))])"
      ]
     },
     "execution_count": 494,
     "metadata": {},
     "output_type": "execute_result"
    }
   ],
   "source": [
    "# Display pipeline\n",
    "print(\"Time taken: \", target_hgb_default_time_taken)\n",
    "target_hgb_default"
   ]
  },
  {
   "cell_type": "code",
   "execution_count": 495,
   "id": "1b7085fe",
   "metadata": {
    "scrolled": true
   },
   "outputs": [],
   "source": [
    "tic = time.time()\n",
    "\n",
    "target_hgb_default9 = target_hgb_default_pipeline9.fit(X_train, y_train)\n",
    "\n",
    "toc = time.time()\n",
    "target_hgb_default9_time_taken = toc-tic"
   ]
  },
  {
   "cell_type": "code",
   "execution_count": 496,
   "metadata": {},
   "outputs": [
    {
     "name": "stdout",
     "output_type": "stream",
     "text": [
      "Time taken:  1.3074548244476318\n"
     ]
    },
    {
     "data": {
      "text/html": [
       "<style>#sk-container-id-64 {color: black;}#sk-container-id-64 pre{padding: 0;}#sk-container-id-64 div.sk-toggleable {background-color: white;}#sk-container-id-64 label.sk-toggleable__label {cursor: pointer;display: block;width: 100%;margin-bottom: 0;padding: 0.3em;box-sizing: border-box;text-align: center;}#sk-container-id-64 label.sk-toggleable__label-arrow:before {content: \"▸\";float: left;margin-right: 0.25em;color: #696969;}#sk-container-id-64 label.sk-toggleable__label-arrow:hover:before {color: black;}#sk-container-id-64 div.sk-estimator:hover label.sk-toggleable__label-arrow:before {color: black;}#sk-container-id-64 div.sk-toggleable__content {max-height: 0;max-width: 0;overflow: hidden;text-align: left;background-color: #f0f8ff;}#sk-container-id-64 div.sk-toggleable__content pre {margin: 0.2em;color: black;border-radius: 0.25em;background-color: #f0f8ff;}#sk-container-id-64 input.sk-toggleable__control:checked~div.sk-toggleable__content {max-height: 200px;max-width: 100%;overflow: auto;}#sk-container-id-64 input.sk-toggleable__control:checked~label.sk-toggleable__label-arrow:before {content: \"▾\";}#sk-container-id-64 div.sk-estimator input.sk-toggleable__control:checked~label.sk-toggleable__label {background-color: #d4ebff;}#sk-container-id-64 div.sk-label input.sk-toggleable__control:checked~label.sk-toggleable__label {background-color: #d4ebff;}#sk-container-id-64 input.sk-hidden--visually {border: 0;clip: rect(1px 1px 1px 1px);clip: rect(1px, 1px, 1px, 1px);height: 1px;margin: -1px;overflow: hidden;padding: 0;position: absolute;width: 1px;}#sk-container-id-64 div.sk-estimator {font-family: monospace;background-color: #f0f8ff;border: 1px dotted black;border-radius: 0.25em;box-sizing: border-box;margin-bottom: 0.5em;}#sk-container-id-64 div.sk-estimator:hover {background-color: #d4ebff;}#sk-container-id-64 div.sk-parallel-item::after {content: \"\";width: 100%;border-bottom: 1px solid gray;flex-grow: 1;}#sk-container-id-64 div.sk-label:hover label.sk-toggleable__label {background-color: #d4ebff;}#sk-container-id-64 div.sk-serial::before {content: \"\";position: absolute;border-left: 1px solid gray;box-sizing: border-box;top: 0;bottom: 0;left: 50%;z-index: 0;}#sk-container-id-64 div.sk-serial {display: flex;flex-direction: column;align-items: center;background-color: white;padding-right: 0.2em;padding-left: 0.2em;position: relative;}#sk-container-id-64 div.sk-item {position: relative;z-index: 1;}#sk-container-id-64 div.sk-parallel {display: flex;align-items: stretch;justify-content: center;background-color: white;position: relative;}#sk-container-id-64 div.sk-item::before, #sk-container-id-64 div.sk-parallel-item::before {content: \"\";position: absolute;border-left: 1px solid gray;box-sizing: border-box;top: 0;bottom: 0;left: 50%;z-index: -1;}#sk-container-id-64 div.sk-parallel-item {display: flex;flex-direction: column;z-index: 1;position: relative;background-color: white;}#sk-container-id-64 div.sk-parallel-item:first-child::after {align-self: flex-end;width: 50%;}#sk-container-id-64 div.sk-parallel-item:last-child::after {align-self: flex-start;width: 50%;}#sk-container-id-64 div.sk-parallel-item:only-child::after {width: 0;}#sk-container-id-64 div.sk-dashed-wrapped {border: 1px dashed gray;margin: 0 0.4em 0.5em 0.4em;box-sizing: border-box;padding-bottom: 0.4em;background-color: white;}#sk-container-id-64 div.sk-label label {font-family: monospace;font-weight: bold;display: inline-block;line-height: 1.2em;}#sk-container-id-64 div.sk-label-container {text-align: center;}#sk-container-id-64 div.sk-container {/* jupyter's `normalize.less` sets `[hidden] { display: none; }` but bootstrap.min.css set `[hidden] { display: none !important; }` so we also need the `!important` here to be able to override the default hidden behavior on the sphinx rendered scikit-learn.org. See: https://github.com/scikit-learn/scikit-learn/issues/21755 */display: inline-block !important;position: relative;}#sk-container-id-64 div.sk-text-repr-fallback {display: none;}</style><div id=\"sk-container-id-64\" class=\"sk-top-container\"><div class=\"sk-text-repr-fallback\"><pre>Pipeline(steps=[(&#x27;preprocessing&#x27;,\n",
       "                 ColumnTransformer(sparse_threshold=0,\n",
       "                                   transformers=[(&#x27;num&#x27;,\n",
       "                                                  Pipeline(steps=[(&#x27;imputer&#x27;,\n",
       "                                                                   SimpleImputer(strategy=&#x27;median&#x27;))]),\n",
       "                                                  [&#x27;Community_Membership_Family&#x27;,\n",
       "                                                   &#x27;Community_Membership_Hobbies&#x27;,\n",
       "                                                   &#x27;Community_Membership_None&#x27;,\n",
       "                                                   &#x27;Community_Membership_Other&#x27;,\n",
       "                                                   &#x27;Community_Membership_Political&#x27;,\n",
       "                                                   &#x27;Community_Membership_Professional&#x27;,\n",
       "                                                   &#x27;Communi...\n",
       "                                                  Pipeline(steps=[(&#x27;imputer&#x27;,\n",
       "                                                                   SimpleImputer(strategy=&#x27;most_frequent&#x27;)),\n",
       "                                                                  (&#x27;encoder&#x27;,\n",
       "                                                                   TargetEncoder())]),\n",
       "                                                  [&#x27;Actual_Time&#x27;, &#x27;Country&#x27;,\n",
       "                                                   &#x27;Major_Geographical_Location&#x27;,\n",
       "                                                   &#x27;Primary_Computing_Platform&#x27;,\n",
       "                                                   &#x27;Primary_Language&#x27;])])),\n",
       "                (&#x27;model&#x27;,\n",
       "                 HistGradientBoostingClassifier(class_weight=&#x27;balanced&#x27;,\n",
       "                                                early_stopping=False,\n",
       "                                                min_samples_leaf=30,\n",
       "                                                random_state=1234,\n",
       "                                                scoring=&#x27;balanced_accuracy&#x27;))])</pre><b>In a Jupyter environment, please rerun this cell to show the HTML representation or trust the notebook. <br />On GitHub, the HTML representation is unable to render, please try loading this page with nbviewer.org.</b></div><div class=\"sk-container\" hidden><div class=\"sk-item sk-dashed-wrapped\"><div class=\"sk-label-container\"><div class=\"sk-label sk-toggleable\"><input class=\"sk-toggleable__control sk-hidden--visually\" id=\"sk-estimator-id-609\" type=\"checkbox\" ><label for=\"sk-estimator-id-609\" class=\"sk-toggleable__label sk-toggleable__label-arrow\">Pipeline</label><div class=\"sk-toggleable__content\"><pre>Pipeline(steps=[(&#x27;preprocessing&#x27;,\n",
       "                 ColumnTransformer(sparse_threshold=0,\n",
       "                                   transformers=[(&#x27;num&#x27;,\n",
       "                                                  Pipeline(steps=[(&#x27;imputer&#x27;,\n",
       "                                                                   SimpleImputer(strategy=&#x27;median&#x27;))]),\n",
       "                                                  [&#x27;Community_Membership_Family&#x27;,\n",
       "                                                   &#x27;Community_Membership_Hobbies&#x27;,\n",
       "                                                   &#x27;Community_Membership_None&#x27;,\n",
       "                                                   &#x27;Community_Membership_Other&#x27;,\n",
       "                                                   &#x27;Community_Membership_Political&#x27;,\n",
       "                                                   &#x27;Community_Membership_Professional&#x27;,\n",
       "                                                   &#x27;Communi...\n",
       "                                                  Pipeline(steps=[(&#x27;imputer&#x27;,\n",
       "                                                                   SimpleImputer(strategy=&#x27;most_frequent&#x27;)),\n",
       "                                                                  (&#x27;encoder&#x27;,\n",
       "                                                                   TargetEncoder())]),\n",
       "                                                  [&#x27;Actual_Time&#x27;, &#x27;Country&#x27;,\n",
       "                                                   &#x27;Major_Geographical_Location&#x27;,\n",
       "                                                   &#x27;Primary_Computing_Platform&#x27;,\n",
       "                                                   &#x27;Primary_Language&#x27;])])),\n",
       "                (&#x27;model&#x27;,\n",
       "                 HistGradientBoostingClassifier(class_weight=&#x27;balanced&#x27;,\n",
       "                                                early_stopping=False,\n",
       "                                                min_samples_leaf=30,\n",
       "                                                random_state=1234,\n",
       "                                                scoring=&#x27;balanced_accuracy&#x27;))])</pre></div></div></div><div class=\"sk-serial\"><div class=\"sk-item sk-dashed-wrapped\"><div class=\"sk-label-container\"><div class=\"sk-label sk-toggleable\"><input class=\"sk-toggleable__control sk-hidden--visually\" id=\"sk-estimator-id-610\" type=\"checkbox\" ><label for=\"sk-estimator-id-610\" class=\"sk-toggleable__label sk-toggleable__label-arrow\">preprocessing: ColumnTransformer</label><div class=\"sk-toggleable__content\"><pre>ColumnTransformer(sparse_threshold=0,\n",
       "                  transformers=[(&#x27;num&#x27;,\n",
       "                                 Pipeline(steps=[(&#x27;imputer&#x27;,\n",
       "                                                  SimpleImputer(strategy=&#x27;median&#x27;))]),\n",
       "                                 [&#x27;Community_Membership_Family&#x27;,\n",
       "                                  &#x27;Community_Membership_Hobbies&#x27;,\n",
       "                                  &#x27;Community_Membership_None&#x27;,\n",
       "                                  &#x27;Community_Membership_Other&#x27;,\n",
       "                                  &#x27;Community_Membership_Political&#x27;,\n",
       "                                  &#x27;Community_Membership_Professional&#x27;,\n",
       "                                  &#x27;Community_Membership_Religious&#x27;,\n",
       "                                  &#x27;Communi...\n",
       "                                  &#x27;Opinions_on_Censorship&#x27;,\n",
       "                                  &#x27;Primary_Place_of_WWW_Access&#x27;, &#x27;Race&#x27;,\n",
       "                                  &#x27;Registered_to_Vote&#x27;, &#x27;Sexual_Preference&#x27;,\n",
       "                                  &#x27;Web_Ordering&#x27;, &#x27;Web_Page_Creation&#x27;]),\n",
       "                                (&#x27;ordinal_encoding&#x27;,\n",
       "                                 Pipeline(steps=[(&#x27;imputer&#x27;,\n",
       "                                                  SimpleImputer(strategy=&#x27;most_frequent&#x27;)),\n",
       "                                                 (&#x27;encoder&#x27;, TargetEncoder())]),\n",
       "                                 [&#x27;Actual_Time&#x27;, &#x27;Country&#x27;,\n",
       "                                  &#x27;Major_Geographical_Location&#x27;,\n",
       "                                  &#x27;Primary_Computing_Platform&#x27;,\n",
       "                                  &#x27;Primary_Language&#x27;])])</pre></div></div></div><div class=\"sk-parallel\"><div class=\"sk-parallel-item\"><div class=\"sk-item\"><div class=\"sk-label-container\"><div class=\"sk-label sk-toggleable\"><input class=\"sk-toggleable__control sk-hidden--visually\" id=\"sk-estimator-id-611\" type=\"checkbox\" ><label for=\"sk-estimator-id-611\" class=\"sk-toggleable__label sk-toggleable__label-arrow\">num</label><div class=\"sk-toggleable__content\"><pre>[&#x27;Community_Membership_Family&#x27;, &#x27;Community_Membership_Hobbies&#x27;, &#x27;Community_Membership_None&#x27;, &#x27;Community_Membership_Other&#x27;, &#x27;Community_Membership_Political&#x27;, &#x27;Community_Membership_Professional&#x27;, &#x27;Community_Membership_Religious&#x27;, &#x27;Community_Membership_Support&#x27;, &#x27;Disability_Cognitive&#x27;, &#x27;Disability_Hearing&#x27;, &#x27;Disability_Motor&#x27;, &#x27;Disability_Not_Impaired&#x27;, &#x27;Disability_Not_Say&#x27;, &#x27;Disability_Vision&#x27;, &#x27;Gender&#x27;, &#x27;How_You_Heard_About_Survey_Banner&#x27;, &#x27;How_You_Heard_About_Survey_Friend&#x27;, &#x27;How_You_Heard_About_Survey_Mailing_List&#x27;, &#x27;How_You_Heard_About_Survey_Others&#x27;, &#x27;How_You_Heard_About_Survey_Printed_Media&#x27;, &#x27;How_You_Heard_About_Survey_Remebered&#x27;, &#x27;How_You_Heard_About_Survey_Search_Engine&#x27;, &#x27;How_You_Heard_About_Survey_Usenet_News&#x27;, &#x27;How_You_Heard_About_Survey_WWW_Page&#x27;, &#x27;Not_Purchasing_Bad_experience&#x27;, &#x27;Not_Purchasing_Bad_press&#x27;, &#x27;Not_Purchasing_Cant_find&#x27;, &#x27;Not_Purchasing_Company_policy&#x27;, &#x27;Not_Purchasing_Easier_locally&#x27;, &#x27;Not_Purchasing_Enough_info&#x27;, &#x27;Not_Purchasing_Judge_quality&#x27;, &#x27;Not_Purchasing_Never_tried&#x27;, &#x27;Not_Purchasing_No_credit&#x27;, &#x27;Not_Purchasing_Not_applicable&#x27;, &#x27;Not_Purchasing_Not_option&#x27;, &#x27;Not_Purchasing_Other&#x27;, &#x27;Not_Purchasing_Prefer_people&#x27;, &#x27;Not_Purchasing_Privacy&#x27;, &#x27;Not_Purchasing_Receipt&#x27;, &#x27;Not_Purchasing_Security&#x27;, &#x27;Not_Purchasing_Too_complicated&#x27;, &#x27;Not_Purchasing_Uncomfortable&#x27;, &#x27;Not_Purchasing_Unfamiliar_vendor&#x27;, &#x27;Who_Pays_for_Access_Dont_Know&#x27;, &#x27;Who_Pays_for_Access_Other&#x27;, &#x27;Who_Pays_for_Access_Parents&#x27;, &#x27;Who_Pays_for_Access_School&#x27;, &#x27;Who_Pays_for_Access_Self&#x27;]</pre></div></div></div><div class=\"sk-serial\"><div class=\"sk-item\"><div class=\"sk-serial\"><div class=\"sk-item\"><div class=\"sk-estimator sk-toggleable\"><input class=\"sk-toggleable__control sk-hidden--visually\" id=\"sk-estimator-id-612\" type=\"checkbox\" ><label for=\"sk-estimator-id-612\" class=\"sk-toggleable__label sk-toggleable__label-arrow\">SimpleImputer</label><div class=\"sk-toggleable__content\"><pre>SimpleImputer(strategy=&#x27;median&#x27;)</pre></div></div></div></div></div></div></div></div><div class=\"sk-parallel-item\"><div class=\"sk-item\"><div class=\"sk-label-container\"><div class=\"sk-label sk-toggleable\"><input class=\"sk-toggleable__control sk-hidden--visually\" id=\"sk-estimator-id-613\" type=\"checkbox\" ><label for=\"sk-estimator-id-613\" class=\"sk-toggleable__label sk-toggleable__label-arrow\">one_hot_encoding</label><div class=\"sk-toggleable__content\"><pre>[&#x27;Community_Building&#x27;, &#x27;Education_Attainment&#x27;, &#x27;Falsification_of_Information&#x27;, &#x27;Household_Income&#x27;, &#x27;Major_Occupation&#x27;, &#x27;Marital_Status&#x27;, &#x27;Most_Import_Issue_Facing_the_Internet&#x27;, &#x27;Opinions_on_Censorship&#x27;, &#x27;Primary_Place_of_WWW_Access&#x27;, &#x27;Race&#x27;, &#x27;Registered_to_Vote&#x27;, &#x27;Sexual_Preference&#x27;, &#x27;Web_Ordering&#x27;, &#x27;Web_Page_Creation&#x27;]</pre></div></div></div><div class=\"sk-serial\"><div class=\"sk-item\"><div class=\"sk-serial\"><div class=\"sk-item\"><div class=\"sk-estimator sk-toggleable\"><input class=\"sk-toggleable__control sk-hidden--visually\" id=\"sk-estimator-id-614\" type=\"checkbox\" ><label for=\"sk-estimator-id-614\" class=\"sk-toggleable__label sk-toggleable__label-arrow\">SimpleImputer</label><div class=\"sk-toggleable__content\"><pre>SimpleImputer(strategy=&#x27;most_frequent&#x27;)</pre></div></div></div><div class=\"sk-item\"><div class=\"sk-estimator sk-toggleable\"><input class=\"sk-toggleable__control sk-hidden--visually\" id=\"sk-estimator-id-615\" type=\"checkbox\" ><label for=\"sk-estimator-id-615\" class=\"sk-toggleable__label sk-toggleable__label-arrow\">OneHotEncoder</label><div class=\"sk-toggleable__content\"><pre>OneHotEncoder(drop=&#x27;first&#x27;, handle_unknown=&#x27;ignore&#x27;)</pre></div></div></div></div></div></div></div></div><div class=\"sk-parallel-item\"><div class=\"sk-item\"><div class=\"sk-label-container\"><div class=\"sk-label sk-toggleable\"><input class=\"sk-toggleable__control sk-hidden--visually\" id=\"sk-estimator-id-616\" type=\"checkbox\" ><label for=\"sk-estimator-id-616\" class=\"sk-toggleable__label sk-toggleable__label-arrow\">ordinal_encoding</label><div class=\"sk-toggleable__content\"><pre>[&#x27;Actual_Time&#x27;, &#x27;Country&#x27;, &#x27;Major_Geographical_Location&#x27;, &#x27;Primary_Computing_Platform&#x27;, &#x27;Primary_Language&#x27;]</pre></div></div></div><div class=\"sk-serial\"><div class=\"sk-item\"><div class=\"sk-serial\"><div class=\"sk-item\"><div class=\"sk-estimator sk-toggleable\"><input class=\"sk-toggleable__control sk-hidden--visually\" id=\"sk-estimator-id-617\" type=\"checkbox\" ><label for=\"sk-estimator-id-617\" class=\"sk-toggleable__label sk-toggleable__label-arrow\">SimpleImputer</label><div class=\"sk-toggleable__content\"><pre>SimpleImputer(strategy=&#x27;most_frequent&#x27;)</pre></div></div></div><div class=\"sk-item\"><div class=\"sk-estimator sk-toggleable\"><input class=\"sk-toggleable__control sk-hidden--visually\" id=\"sk-estimator-id-618\" type=\"checkbox\" ><label for=\"sk-estimator-id-618\" class=\"sk-toggleable__label sk-toggleable__label-arrow\">TargetEncoder</label><div class=\"sk-toggleable__content\"><pre>TargetEncoder()</pre></div></div></div></div></div></div></div></div></div></div><div class=\"sk-item\"><div class=\"sk-estimator sk-toggleable\"><input class=\"sk-toggleable__control sk-hidden--visually\" id=\"sk-estimator-id-619\" type=\"checkbox\" ><label for=\"sk-estimator-id-619\" class=\"sk-toggleable__label sk-toggleable__label-arrow\">HistGradientBoostingClassifier</label><div class=\"sk-toggleable__content\"><pre>HistGradientBoostingClassifier(class_weight=&#x27;balanced&#x27;, early_stopping=False,\n",
       "                               min_samples_leaf=30, random_state=1234,\n",
       "                               scoring=&#x27;balanced_accuracy&#x27;)</pre></div></div></div></div></div></div></div>"
      ],
      "text/plain": [
       "Pipeline(steps=[('preprocessing',\n",
       "                 ColumnTransformer(sparse_threshold=0,\n",
       "                                   transformers=[('num',\n",
       "                                                  Pipeline(steps=[('imputer',\n",
       "                                                                   SimpleImputer(strategy='median'))]),\n",
       "                                                  ['Community_Membership_Family',\n",
       "                                                   'Community_Membership_Hobbies',\n",
       "                                                   'Community_Membership_None',\n",
       "                                                   'Community_Membership_Other',\n",
       "                                                   'Community_Membership_Political',\n",
       "                                                   'Community_Membership_Professional',\n",
       "                                                   'Communi...\n",
       "                                                  Pipeline(steps=[('imputer',\n",
       "                                                                   SimpleImputer(strategy='most_frequent')),\n",
       "                                                                  ('encoder',\n",
       "                                                                   TargetEncoder())]),\n",
       "                                                  ['Actual_Time', 'Country',\n",
       "                                                   'Major_Geographical_Location',\n",
       "                                                   'Primary_Computing_Platform',\n",
       "                                                   'Primary_Language'])])),\n",
       "                ('model',\n",
       "                 HistGradientBoostingClassifier(class_weight='balanced',\n",
       "                                                early_stopping=False,\n",
       "                                                min_samples_leaf=30,\n",
       "                                                random_state=1234,\n",
       "                                                scoring='balanced_accuracy'))])"
      ]
     },
     "execution_count": 496,
     "metadata": {},
     "output_type": "execute_result"
    }
   ],
   "source": [
    "# Display pipeline\n",
    "print(\"Time taken: \", target_hgb_default9_time_taken)\n",
    "target_hgb_default9"
   ]
  },
  {
   "cell_type": "code",
   "execution_count": 497,
   "id": "7499758f",
   "metadata": {},
   "outputs": [
    {
     "name": "stdout",
     "output_type": "stream",
     "text": [
      "Balanced accuracy with default parameters: 0.8824429156908665\n"
     ]
    }
   ],
   "source": [
    "# Calculate balanced accuracy for the model with default parameters\n",
    "y_target_hgb_default_pred = target_hgb_default.predict(X_test)\n",
    "target_hgb_default_accuracy = balanced_accuracy_score(y_test, y_target_hgb_default_pred)\n",
    "print(f'Balanced accuracy with default parameters: {target_hgb_default_accuracy}')\n",
    "\n",
    "# Save results\n",
    "default_summary.append(\"Default\")\n",
    "card_9_summary.append(\"AllVariables\")\n",
    "encoder_summary.append(\"TargetEncoder\")\n",
    "value_summary.append(target_hgb_default_accuracy)\n",
    "time_summary.append(target_hgb_default_time_taken)\n",
    "n_models_summary.append(1)"
   ]
  },
  {
   "cell_type": "code",
   "execution_count": 498,
   "id": "015aa2d9",
   "metadata": {},
   "outputs": [
    {
     "name": "stdout",
     "output_type": "stream",
     "text": [
      "Balanced accuracy with default parameters: 0.8827832259953161\n"
     ]
    }
   ],
   "source": [
    "# Calculate balanced accuracy for the model with default parameters\n",
    "y_target_hgb_default_pred9 = target_hgb_default9.predict(X_test)\n",
    "target_hgb_default_accuracy9 = balanced_accuracy_score(y_test, y_target_hgb_default_pred9)\n",
    "print(f'Balanced accuracy with default parameters: {target_hgb_default_accuracy9}')\n",
    "\n",
    "# Save results\n",
    "default_summary.append(\"Default\")\n",
    "card_9_summary.append(\"OnlyVariablesWithCard>9\")\n",
    "encoder_summary.append(\"TargetEncoder\")\n",
    "value_summary.append(target_hgb_default_accuracy9)\n",
    "time_summary.append(target_hgb_default9_time_taken)\n",
    "n_models_summary.append(1)"
   ]
  },
  {
   "cell_type": "markdown",
   "id": "adec275d",
   "metadata": {},
   "source": [
    " "
   ]
  },
  {
   "cell_type": "code",
   "execution_count": 499,
   "id": "75d035cb",
   "metadata": {},
   "outputs": [],
   "source": [
    "target_hgb_tune = RandomizedSearchCV(estimator = target_hgb_default_pipeline, \n",
    "                                     param_distributions = param_distributions, \n",
    "                                     n_iter = 20,\n",
    "                                     cv = stratified_kfold,\n",
    "                                     scoring = 'balanced_accuracy', \n",
    "                                     random_state = 1234,\n",
    "                                     n_jobs = -1)\n",
    "\n",
    "target_hgb_tune9 = RandomizedSearchCV(estimator = target_hgb_default_pipeline9, \n",
    "                                      param_distributions = param_distributions, \n",
    "                                      n_iter = 20,\n",
    "                                      cv = stratified_kfold,\n",
    "                                      scoring = 'balanced_accuracy', \n",
    "                                      random_state = 1234,\n",
    "                                      n_jobs = -1)"
   ]
  },
  {
   "cell_type": "code",
   "execution_count": 500,
   "id": "aea490b2",
   "metadata": {
    "scrolled": true
   },
   "outputs": [],
   "source": [
    "tic = time.time() \n",
    "\n",
    "target_hgb_tune = target_hgb_tune.fit(X_train, y_train)\n",
    "\n",
    "toc = time.time()\n",
    "target_hgb_tune_time_taken = toc-tic"
   ]
  },
  {
   "cell_type": "code",
   "execution_count": 501,
   "metadata": {},
   "outputs": [
    {
     "name": "stdout",
     "output_type": "stream",
     "text": [
      "Time taken:  24.141162395477295\n"
     ]
    },
    {
     "data": {
      "text/html": [
       "<style>#sk-container-id-65 {color: black;}#sk-container-id-65 pre{padding: 0;}#sk-container-id-65 div.sk-toggleable {background-color: white;}#sk-container-id-65 label.sk-toggleable__label {cursor: pointer;display: block;width: 100%;margin-bottom: 0;padding: 0.3em;box-sizing: border-box;text-align: center;}#sk-container-id-65 label.sk-toggleable__label-arrow:before {content: \"▸\";float: left;margin-right: 0.25em;color: #696969;}#sk-container-id-65 label.sk-toggleable__label-arrow:hover:before {color: black;}#sk-container-id-65 div.sk-estimator:hover label.sk-toggleable__label-arrow:before {color: black;}#sk-container-id-65 div.sk-toggleable__content {max-height: 0;max-width: 0;overflow: hidden;text-align: left;background-color: #f0f8ff;}#sk-container-id-65 div.sk-toggleable__content pre {margin: 0.2em;color: black;border-radius: 0.25em;background-color: #f0f8ff;}#sk-container-id-65 input.sk-toggleable__control:checked~div.sk-toggleable__content {max-height: 200px;max-width: 100%;overflow: auto;}#sk-container-id-65 input.sk-toggleable__control:checked~label.sk-toggleable__label-arrow:before {content: \"▾\";}#sk-container-id-65 div.sk-estimator input.sk-toggleable__control:checked~label.sk-toggleable__label {background-color: #d4ebff;}#sk-container-id-65 div.sk-label input.sk-toggleable__control:checked~label.sk-toggleable__label {background-color: #d4ebff;}#sk-container-id-65 input.sk-hidden--visually {border: 0;clip: rect(1px 1px 1px 1px);clip: rect(1px, 1px, 1px, 1px);height: 1px;margin: -1px;overflow: hidden;padding: 0;position: absolute;width: 1px;}#sk-container-id-65 div.sk-estimator {font-family: monospace;background-color: #f0f8ff;border: 1px dotted black;border-radius: 0.25em;box-sizing: border-box;margin-bottom: 0.5em;}#sk-container-id-65 div.sk-estimator:hover {background-color: #d4ebff;}#sk-container-id-65 div.sk-parallel-item::after {content: \"\";width: 100%;border-bottom: 1px solid gray;flex-grow: 1;}#sk-container-id-65 div.sk-label:hover label.sk-toggleable__label {background-color: #d4ebff;}#sk-container-id-65 div.sk-serial::before {content: \"\";position: absolute;border-left: 1px solid gray;box-sizing: border-box;top: 0;bottom: 0;left: 50%;z-index: 0;}#sk-container-id-65 div.sk-serial {display: flex;flex-direction: column;align-items: center;background-color: white;padding-right: 0.2em;padding-left: 0.2em;position: relative;}#sk-container-id-65 div.sk-item {position: relative;z-index: 1;}#sk-container-id-65 div.sk-parallel {display: flex;align-items: stretch;justify-content: center;background-color: white;position: relative;}#sk-container-id-65 div.sk-item::before, #sk-container-id-65 div.sk-parallel-item::before {content: \"\";position: absolute;border-left: 1px solid gray;box-sizing: border-box;top: 0;bottom: 0;left: 50%;z-index: -1;}#sk-container-id-65 div.sk-parallel-item {display: flex;flex-direction: column;z-index: 1;position: relative;background-color: white;}#sk-container-id-65 div.sk-parallel-item:first-child::after {align-self: flex-end;width: 50%;}#sk-container-id-65 div.sk-parallel-item:last-child::after {align-self: flex-start;width: 50%;}#sk-container-id-65 div.sk-parallel-item:only-child::after {width: 0;}#sk-container-id-65 div.sk-dashed-wrapped {border: 1px dashed gray;margin: 0 0.4em 0.5em 0.4em;box-sizing: border-box;padding-bottom: 0.4em;background-color: white;}#sk-container-id-65 div.sk-label label {font-family: monospace;font-weight: bold;display: inline-block;line-height: 1.2em;}#sk-container-id-65 div.sk-label-container {text-align: center;}#sk-container-id-65 div.sk-container {/* jupyter's `normalize.less` sets `[hidden] { display: none; }` but bootstrap.min.css set `[hidden] { display: none !important; }` so we also need the `!important` here to be able to override the default hidden behavior on the sphinx rendered scikit-learn.org. See: https://github.com/scikit-learn/scikit-learn/issues/21755 */display: inline-block !important;position: relative;}#sk-container-id-65 div.sk-text-repr-fallback {display: none;}</style><div id=\"sk-container-id-65\" class=\"sk-top-container\"><div class=\"sk-text-repr-fallback\"><pre>RandomizedSearchCV(cv=StratifiedKFold(n_splits=3, random_state=1234, shuffle=True),\n",
       "                   estimator=Pipeline(steps=[(&#x27;preprocessing&#x27;,\n",
       "                                              ColumnTransformer(sparse_threshold=0,\n",
       "                                                                transformers=[(&#x27;num&#x27;,\n",
       "                                                                               Pipeline(steps=[(&#x27;imputer&#x27;,\n",
       "                                                                                                SimpleImputer(strategy=&#x27;median&#x27;))]),\n",
       "                                                                               [&#x27;Community_Membership_Family&#x27;,\n",
       "                                                                                &#x27;Community_Membership_Hobbies&#x27;,\n",
       "                                                                                &#x27;Community_Membership_None&#x27;,\n",
       "                                                                                &#x27;Community_Memb...\n",
       "                   param_distributions={&#x27;model__learning_rate&#x27;: &lt;scipy.stats._distn_infrastructure.rv_continuous_frozen object at 0x000001CDE78041C0&gt;,\n",
       "                                        &#x27;model__max_iter&#x27;: &lt;scipy.stats._distn_infrastructure.rv_discrete_frozen object at 0x000001CDE7808100&gt;,\n",
       "                                        &#x27;model__min_samples_leaf&#x27;: &lt;scipy.stats._distn_infrastructure.rv_discrete_frozen object at 0x000001CDE77F4430&gt;},\n",
       "                   random_state=1234, scoring=&#x27;balanced_accuracy&#x27;)</pre><b>In a Jupyter environment, please rerun this cell to show the HTML representation or trust the notebook. <br />On GitHub, the HTML representation is unable to render, please try loading this page with nbviewer.org.</b></div><div class=\"sk-container\" hidden><div class=\"sk-item sk-dashed-wrapped\"><div class=\"sk-label-container\"><div class=\"sk-label sk-toggleable\"><input class=\"sk-toggleable__control sk-hidden--visually\" id=\"sk-estimator-id-620\" type=\"checkbox\" ><label for=\"sk-estimator-id-620\" class=\"sk-toggleable__label sk-toggleable__label-arrow\">RandomizedSearchCV</label><div class=\"sk-toggleable__content\"><pre>RandomizedSearchCV(cv=StratifiedKFold(n_splits=3, random_state=1234, shuffle=True),\n",
       "                   estimator=Pipeline(steps=[(&#x27;preprocessing&#x27;,\n",
       "                                              ColumnTransformer(sparse_threshold=0,\n",
       "                                                                transformers=[(&#x27;num&#x27;,\n",
       "                                                                               Pipeline(steps=[(&#x27;imputer&#x27;,\n",
       "                                                                                                SimpleImputer(strategy=&#x27;median&#x27;))]),\n",
       "                                                                               [&#x27;Community_Membership_Family&#x27;,\n",
       "                                                                                &#x27;Community_Membership_Hobbies&#x27;,\n",
       "                                                                                &#x27;Community_Membership_None&#x27;,\n",
       "                                                                                &#x27;Community_Memb...\n",
       "                   param_distributions={&#x27;model__learning_rate&#x27;: &lt;scipy.stats._distn_infrastructure.rv_continuous_frozen object at 0x000001CDE78041C0&gt;,\n",
       "                                        &#x27;model__max_iter&#x27;: &lt;scipy.stats._distn_infrastructure.rv_discrete_frozen object at 0x000001CDE7808100&gt;,\n",
       "                                        &#x27;model__min_samples_leaf&#x27;: &lt;scipy.stats._distn_infrastructure.rv_discrete_frozen object at 0x000001CDE77F4430&gt;},\n",
       "                   random_state=1234, scoring=&#x27;balanced_accuracy&#x27;)</pre></div></div></div><div class=\"sk-parallel\"><div class=\"sk-parallel-item\"><div class=\"sk-item\"><div class=\"sk-label-container\"><div class=\"sk-label sk-toggleable\"><input class=\"sk-toggleable__control sk-hidden--visually\" id=\"sk-estimator-id-621\" type=\"checkbox\" ><label for=\"sk-estimator-id-621\" class=\"sk-toggleable__label sk-toggleable__label-arrow\">estimator: Pipeline</label><div class=\"sk-toggleable__content\"><pre>Pipeline(steps=[(&#x27;preprocessing&#x27;,\n",
       "                 ColumnTransformer(sparse_threshold=0,\n",
       "                                   transformers=[(&#x27;num&#x27;,\n",
       "                                                  Pipeline(steps=[(&#x27;imputer&#x27;,\n",
       "                                                                   SimpleImputer(strategy=&#x27;median&#x27;))]),\n",
       "                                                  [&#x27;Community_Membership_Family&#x27;,\n",
       "                                                   &#x27;Community_Membership_Hobbies&#x27;,\n",
       "                                                   &#x27;Community_Membership_None&#x27;,\n",
       "                                                   &#x27;Community_Membership_Other&#x27;,\n",
       "                                                   &#x27;Community_Membership_Political&#x27;,\n",
       "                                                   &#x27;Community_Membership_Professional&#x27;,\n",
       "                                                   &#x27;Communi...\n",
       "                                                   &#x27;Most_Import_Issue_Facing_the_Internet&#x27;,\n",
       "                                                   &#x27;Opinions_on_Censorship&#x27;,\n",
       "                                                   &#x27;Primary_Computing_Platform&#x27;,\n",
       "                                                   &#x27;Primary_Language&#x27;,\n",
       "                                                   &#x27;Primary_Place_of_WWW_Access&#x27;,\n",
       "                                                   &#x27;Race&#x27;, &#x27;Registered_to_Vote&#x27;,\n",
       "                                                   &#x27;Sexual_Preference&#x27;,\n",
       "                                                   &#x27;Web_Ordering&#x27;,\n",
       "                                                   &#x27;Web_Page_Creation&#x27;])])),\n",
       "                (&#x27;model&#x27;,\n",
       "                 HistGradientBoostingClassifier(class_weight=&#x27;balanced&#x27;,\n",
       "                                                early_stopping=False,\n",
       "                                                min_samples_leaf=30,\n",
       "                                                random_state=1234,\n",
       "                                                scoring=&#x27;balanced_accuracy&#x27;))])</pre></div></div></div><div class=\"sk-serial\"><div class=\"sk-item\"><div class=\"sk-serial\"><div class=\"sk-item sk-dashed-wrapped\"><div class=\"sk-label-container\"><div class=\"sk-label sk-toggleable\"><input class=\"sk-toggleable__control sk-hidden--visually\" id=\"sk-estimator-id-622\" type=\"checkbox\" ><label for=\"sk-estimator-id-622\" class=\"sk-toggleable__label sk-toggleable__label-arrow\">preprocessing: ColumnTransformer</label><div class=\"sk-toggleable__content\"><pre>ColumnTransformer(sparse_threshold=0,\n",
       "                  transformers=[(&#x27;num&#x27;,\n",
       "                                 Pipeline(steps=[(&#x27;imputer&#x27;,\n",
       "                                                  SimpleImputer(strategy=&#x27;median&#x27;))]),\n",
       "                                 [&#x27;Community_Membership_Family&#x27;,\n",
       "                                  &#x27;Community_Membership_Hobbies&#x27;,\n",
       "                                  &#x27;Community_Membership_None&#x27;,\n",
       "                                  &#x27;Community_Membership_Other&#x27;,\n",
       "                                  &#x27;Community_Membership_Political&#x27;,\n",
       "                                  &#x27;Community_Membership_Professional&#x27;,\n",
       "                                  &#x27;Community_Membership_Religious&#x27;,\n",
       "                                  &#x27;Communi...\n",
       "                                  &#x27;Country&#x27;, &#x27;Education_Attainment&#x27;,\n",
       "                                  &#x27;Falsification_of_Information&#x27;,\n",
       "                                  &#x27;Household_Income&#x27;,\n",
       "                                  &#x27;Major_Geographical_Location&#x27;,\n",
       "                                  &#x27;Major_Occupation&#x27;, &#x27;Marital_Status&#x27;,\n",
       "                                  &#x27;Most_Import_Issue_Facing_the_Internet&#x27;,\n",
       "                                  &#x27;Opinions_on_Censorship&#x27;,\n",
       "                                  &#x27;Primary_Computing_Platform&#x27;,\n",
       "                                  &#x27;Primary_Language&#x27;,\n",
       "                                  &#x27;Primary_Place_of_WWW_Access&#x27;, &#x27;Race&#x27;,\n",
       "                                  &#x27;Registered_to_Vote&#x27;, &#x27;Sexual_Preference&#x27;,\n",
       "                                  &#x27;Web_Ordering&#x27;, &#x27;Web_Page_Creation&#x27;])])</pre></div></div></div><div class=\"sk-parallel\"><div class=\"sk-parallel-item\"><div class=\"sk-item\"><div class=\"sk-label-container\"><div class=\"sk-label sk-toggleable\"><input class=\"sk-toggleable__control sk-hidden--visually\" id=\"sk-estimator-id-623\" type=\"checkbox\" ><label for=\"sk-estimator-id-623\" class=\"sk-toggleable__label sk-toggleable__label-arrow\">num</label><div class=\"sk-toggleable__content\"><pre>[&#x27;Community_Membership_Family&#x27;, &#x27;Community_Membership_Hobbies&#x27;, &#x27;Community_Membership_None&#x27;, &#x27;Community_Membership_Other&#x27;, &#x27;Community_Membership_Political&#x27;, &#x27;Community_Membership_Professional&#x27;, &#x27;Community_Membership_Religious&#x27;, &#x27;Community_Membership_Support&#x27;, &#x27;Disability_Cognitive&#x27;, &#x27;Disability_Hearing&#x27;, &#x27;Disability_Motor&#x27;, &#x27;Disability_Not_Impaired&#x27;, &#x27;Disability_Not_Say&#x27;, &#x27;Disability_Vision&#x27;, &#x27;Gender&#x27;, &#x27;How_You_Heard_About_Survey_Banner&#x27;, &#x27;How_You_Heard_About_Survey_Friend&#x27;, &#x27;How_You_Heard_About_Survey_Mailing_List&#x27;, &#x27;How_You_Heard_About_Survey_Others&#x27;, &#x27;How_You_Heard_About_Survey_Printed_Media&#x27;, &#x27;How_You_Heard_About_Survey_Remebered&#x27;, &#x27;How_You_Heard_About_Survey_Search_Engine&#x27;, &#x27;How_You_Heard_About_Survey_Usenet_News&#x27;, &#x27;How_You_Heard_About_Survey_WWW_Page&#x27;, &#x27;Not_Purchasing_Bad_experience&#x27;, &#x27;Not_Purchasing_Bad_press&#x27;, &#x27;Not_Purchasing_Cant_find&#x27;, &#x27;Not_Purchasing_Company_policy&#x27;, &#x27;Not_Purchasing_Easier_locally&#x27;, &#x27;Not_Purchasing_Enough_info&#x27;, &#x27;Not_Purchasing_Judge_quality&#x27;, &#x27;Not_Purchasing_Never_tried&#x27;, &#x27;Not_Purchasing_No_credit&#x27;, &#x27;Not_Purchasing_Not_applicable&#x27;, &#x27;Not_Purchasing_Not_option&#x27;, &#x27;Not_Purchasing_Other&#x27;, &#x27;Not_Purchasing_Prefer_people&#x27;, &#x27;Not_Purchasing_Privacy&#x27;, &#x27;Not_Purchasing_Receipt&#x27;, &#x27;Not_Purchasing_Security&#x27;, &#x27;Not_Purchasing_Too_complicated&#x27;, &#x27;Not_Purchasing_Uncomfortable&#x27;, &#x27;Not_Purchasing_Unfamiliar_vendor&#x27;, &#x27;Who_Pays_for_Access_Dont_Know&#x27;, &#x27;Who_Pays_for_Access_Other&#x27;, &#x27;Who_Pays_for_Access_Parents&#x27;, &#x27;Who_Pays_for_Access_School&#x27;, &#x27;Who_Pays_for_Access_Self&#x27;]</pre></div></div></div><div class=\"sk-serial\"><div class=\"sk-item\"><div class=\"sk-serial\"><div class=\"sk-item\"><div class=\"sk-estimator sk-toggleable\"><input class=\"sk-toggleable__control sk-hidden--visually\" id=\"sk-estimator-id-624\" type=\"checkbox\" ><label for=\"sk-estimator-id-624\" class=\"sk-toggleable__label sk-toggleable__label-arrow\">SimpleImputer</label><div class=\"sk-toggleable__content\"><pre>SimpleImputer(strategy=&#x27;median&#x27;)</pre></div></div></div></div></div></div></div></div><div class=\"sk-parallel-item\"><div class=\"sk-item\"><div class=\"sk-label-container\"><div class=\"sk-label sk-toggleable\"><input class=\"sk-toggleable__control sk-hidden--visually\" id=\"sk-estimator-id-625\" type=\"checkbox\" ><label for=\"sk-estimator-id-625\" class=\"sk-toggleable__label sk-toggleable__label-arrow\">cat</label><div class=\"sk-toggleable__content\"><pre>[&#x27;Actual_Time&#x27;, &#x27;Community_Building&#x27;, &#x27;Country&#x27;, &#x27;Education_Attainment&#x27;, &#x27;Falsification_of_Information&#x27;, &#x27;Household_Income&#x27;, &#x27;Major_Geographical_Location&#x27;, &#x27;Major_Occupation&#x27;, &#x27;Marital_Status&#x27;, &#x27;Most_Import_Issue_Facing_the_Internet&#x27;, &#x27;Opinions_on_Censorship&#x27;, &#x27;Primary_Computing_Platform&#x27;, &#x27;Primary_Language&#x27;, &#x27;Primary_Place_of_WWW_Access&#x27;, &#x27;Race&#x27;, &#x27;Registered_to_Vote&#x27;, &#x27;Sexual_Preference&#x27;, &#x27;Web_Ordering&#x27;, &#x27;Web_Page_Creation&#x27;]</pre></div></div></div><div class=\"sk-serial\"><div class=\"sk-item\"><div class=\"sk-serial\"><div class=\"sk-item\"><div class=\"sk-estimator sk-toggleable\"><input class=\"sk-toggleable__control sk-hidden--visually\" id=\"sk-estimator-id-626\" type=\"checkbox\" ><label for=\"sk-estimator-id-626\" class=\"sk-toggleable__label sk-toggleable__label-arrow\">SimpleImputer</label><div class=\"sk-toggleable__content\"><pre>SimpleImputer(strategy=&#x27;most_frequent&#x27;)</pre></div></div></div><div class=\"sk-item\"><div class=\"sk-estimator sk-toggleable\"><input class=\"sk-toggleable__control sk-hidden--visually\" id=\"sk-estimator-id-627\" type=\"checkbox\" ><label for=\"sk-estimator-id-627\" class=\"sk-toggleable__label sk-toggleable__label-arrow\">TargetEncoder</label><div class=\"sk-toggleable__content\"><pre>TargetEncoder()</pre></div></div></div></div></div></div></div></div></div></div><div class=\"sk-item\"><div class=\"sk-estimator sk-toggleable\"><input class=\"sk-toggleable__control sk-hidden--visually\" id=\"sk-estimator-id-628\" type=\"checkbox\" ><label for=\"sk-estimator-id-628\" class=\"sk-toggleable__label sk-toggleable__label-arrow\">HistGradientBoostingClassifier</label><div class=\"sk-toggleable__content\"><pre>HistGradientBoostingClassifier(class_weight=&#x27;balanced&#x27;, early_stopping=False,\n",
       "                               min_samples_leaf=30, random_state=1234,\n",
       "                               scoring=&#x27;balanced_accuracy&#x27;)</pre></div></div></div></div></div></div></div></div></div></div></div></div>"
      ],
      "text/plain": [
       "RandomizedSearchCV(cv=StratifiedKFold(n_splits=3, random_state=1234, shuffle=True),\n",
       "                   estimator=Pipeline(steps=[('preprocessing',\n",
       "                                              ColumnTransformer(sparse_threshold=0,\n",
       "                                                                transformers=[('num',\n",
       "                                                                               Pipeline(steps=[('imputer',\n",
       "                                                                                                SimpleImputer(strategy='median'))]),\n",
       "                                                                               ['Community_Membership_Family',\n",
       "                                                                                'Community_Membership_Hobbies',\n",
       "                                                                                'Community_Membership_None',\n",
       "                                                                                'Community_Memb...\n",
       "                   param_distributions={'model__learning_rate': <scipy.stats._distn_infrastructure.rv_continuous_frozen object at 0x000001CDE78041C0>,\n",
       "                                        'model__max_iter': <scipy.stats._distn_infrastructure.rv_discrete_frozen object at 0x000001CDE7808100>,\n",
       "                                        'model__min_samples_leaf': <scipy.stats._distn_infrastructure.rv_discrete_frozen object at 0x000001CDE77F4430>},\n",
       "                   random_state=1234, scoring='balanced_accuracy')"
      ]
     },
     "execution_count": 501,
     "metadata": {},
     "output_type": "execute_result"
    }
   ],
   "source": [
    "# Display pipeline\n",
    "print(\"Time taken: \", target_hgb_tune_time_taken)\n",
    "target_hgb_tune"
   ]
  },
  {
   "cell_type": "code",
   "execution_count": 502,
   "id": "f310e635",
   "metadata": {
    "scrolled": false
   },
   "outputs": [],
   "source": [
    "tic = time.time() \n",
    "\n",
    "target_hgb_tune9 = target_hgb_tune9.fit(X_train, y_train)\n",
    "\n",
    "toc = time.time()\n",
    "target_hgb_tune9_time_taken = toc-tic"
   ]
  },
  {
   "cell_type": "code",
   "execution_count": 503,
   "metadata": {},
   "outputs": [
    {
     "name": "stdout",
     "output_type": "stream",
     "text": [
      "Time taken:  49.048253774642944\n"
     ]
    },
    {
     "data": {
      "text/html": [
       "<style>#sk-container-id-66 {color: black;}#sk-container-id-66 pre{padding: 0;}#sk-container-id-66 div.sk-toggleable {background-color: white;}#sk-container-id-66 label.sk-toggleable__label {cursor: pointer;display: block;width: 100%;margin-bottom: 0;padding: 0.3em;box-sizing: border-box;text-align: center;}#sk-container-id-66 label.sk-toggleable__label-arrow:before {content: \"▸\";float: left;margin-right: 0.25em;color: #696969;}#sk-container-id-66 label.sk-toggleable__label-arrow:hover:before {color: black;}#sk-container-id-66 div.sk-estimator:hover label.sk-toggleable__label-arrow:before {color: black;}#sk-container-id-66 div.sk-toggleable__content {max-height: 0;max-width: 0;overflow: hidden;text-align: left;background-color: #f0f8ff;}#sk-container-id-66 div.sk-toggleable__content pre {margin: 0.2em;color: black;border-radius: 0.25em;background-color: #f0f8ff;}#sk-container-id-66 input.sk-toggleable__control:checked~div.sk-toggleable__content {max-height: 200px;max-width: 100%;overflow: auto;}#sk-container-id-66 input.sk-toggleable__control:checked~label.sk-toggleable__label-arrow:before {content: \"▾\";}#sk-container-id-66 div.sk-estimator input.sk-toggleable__control:checked~label.sk-toggleable__label {background-color: #d4ebff;}#sk-container-id-66 div.sk-label input.sk-toggleable__control:checked~label.sk-toggleable__label {background-color: #d4ebff;}#sk-container-id-66 input.sk-hidden--visually {border: 0;clip: rect(1px 1px 1px 1px);clip: rect(1px, 1px, 1px, 1px);height: 1px;margin: -1px;overflow: hidden;padding: 0;position: absolute;width: 1px;}#sk-container-id-66 div.sk-estimator {font-family: monospace;background-color: #f0f8ff;border: 1px dotted black;border-radius: 0.25em;box-sizing: border-box;margin-bottom: 0.5em;}#sk-container-id-66 div.sk-estimator:hover {background-color: #d4ebff;}#sk-container-id-66 div.sk-parallel-item::after {content: \"\";width: 100%;border-bottom: 1px solid gray;flex-grow: 1;}#sk-container-id-66 div.sk-label:hover label.sk-toggleable__label {background-color: #d4ebff;}#sk-container-id-66 div.sk-serial::before {content: \"\";position: absolute;border-left: 1px solid gray;box-sizing: border-box;top: 0;bottom: 0;left: 50%;z-index: 0;}#sk-container-id-66 div.sk-serial {display: flex;flex-direction: column;align-items: center;background-color: white;padding-right: 0.2em;padding-left: 0.2em;position: relative;}#sk-container-id-66 div.sk-item {position: relative;z-index: 1;}#sk-container-id-66 div.sk-parallel {display: flex;align-items: stretch;justify-content: center;background-color: white;position: relative;}#sk-container-id-66 div.sk-item::before, #sk-container-id-66 div.sk-parallel-item::before {content: \"\";position: absolute;border-left: 1px solid gray;box-sizing: border-box;top: 0;bottom: 0;left: 50%;z-index: -1;}#sk-container-id-66 div.sk-parallel-item {display: flex;flex-direction: column;z-index: 1;position: relative;background-color: white;}#sk-container-id-66 div.sk-parallel-item:first-child::after {align-self: flex-end;width: 50%;}#sk-container-id-66 div.sk-parallel-item:last-child::after {align-self: flex-start;width: 50%;}#sk-container-id-66 div.sk-parallel-item:only-child::after {width: 0;}#sk-container-id-66 div.sk-dashed-wrapped {border: 1px dashed gray;margin: 0 0.4em 0.5em 0.4em;box-sizing: border-box;padding-bottom: 0.4em;background-color: white;}#sk-container-id-66 div.sk-label label {font-family: monospace;font-weight: bold;display: inline-block;line-height: 1.2em;}#sk-container-id-66 div.sk-label-container {text-align: center;}#sk-container-id-66 div.sk-container {/* jupyter's `normalize.less` sets `[hidden] { display: none; }` but bootstrap.min.css set `[hidden] { display: none !important; }` so we also need the `!important` here to be able to override the default hidden behavior on the sphinx rendered scikit-learn.org. See: https://github.com/scikit-learn/scikit-learn/issues/21755 */display: inline-block !important;position: relative;}#sk-container-id-66 div.sk-text-repr-fallback {display: none;}</style><div id=\"sk-container-id-66\" class=\"sk-top-container\"><div class=\"sk-text-repr-fallback\"><pre>RandomizedSearchCV(cv=StratifiedKFold(n_splits=3, random_state=1234, shuffle=True),\n",
       "                   estimator=Pipeline(steps=[(&#x27;preprocessing&#x27;,\n",
       "                                              ColumnTransformer(sparse_threshold=0,\n",
       "                                                                transformers=[(&#x27;num&#x27;,\n",
       "                                                                               Pipeline(steps=[(&#x27;imputer&#x27;,\n",
       "                                                                                                SimpleImputer(strategy=&#x27;median&#x27;))]),\n",
       "                                                                               [&#x27;Community_Membership_Family&#x27;,\n",
       "                                                                                &#x27;Community_Membership_Hobbies&#x27;,\n",
       "                                                                                &#x27;Community_Membership_None&#x27;,\n",
       "                                                                                &#x27;Community_Memb...\n",
       "                   param_distributions={&#x27;model__learning_rate&#x27;: &lt;scipy.stats._distn_infrastructure.rv_continuous_frozen object at 0x000001CDE78041C0&gt;,\n",
       "                                        &#x27;model__max_iter&#x27;: &lt;scipy.stats._distn_infrastructure.rv_discrete_frozen object at 0x000001CDE7808100&gt;,\n",
       "                                        &#x27;model__min_samples_leaf&#x27;: &lt;scipy.stats._distn_infrastructure.rv_discrete_frozen object at 0x000001CDE77F4430&gt;},\n",
       "                   random_state=1234, scoring=&#x27;balanced_accuracy&#x27;)</pre><b>In a Jupyter environment, please rerun this cell to show the HTML representation or trust the notebook. <br />On GitHub, the HTML representation is unable to render, please try loading this page with nbviewer.org.</b></div><div class=\"sk-container\" hidden><div class=\"sk-item sk-dashed-wrapped\"><div class=\"sk-label-container\"><div class=\"sk-label sk-toggleable\"><input class=\"sk-toggleable__control sk-hidden--visually\" id=\"sk-estimator-id-629\" type=\"checkbox\" ><label for=\"sk-estimator-id-629\" class=\"sk-toggleable__label sk-toggleable__label-arrow\">RandomizedSearchCV</label><div class=\"sk-toggleable__content\"><pre>RandomizedSearchCV(cv=StratifiedKFold(n_splits=3, random_state=1234, shuffle=True),\n",
       "                   estimator=Pipeline(steps=[(&#x27;preprocessing&#x27;,\n",
       "                                              ColumnTransformer(sparse_threshold=0,\n",
       "                                                                transformers=[(&#x27;num&#x27;,\n",
       "                                                                               Pipeline(steps=[(&#x27;imputer&#x27;,\n",
       "                                                                                                SimpleImputer(strategy=&#x27;median&#x27;))]),\n",
       "                                                                               [&#x27;Community_Membership_Family&#x27;,\n",
       "                                                                                &#x27;Community_Membership_Hobbies&#x27;,\n",
       "                                                                                &#x27;Community_Membership_None&#x27;,\n",
       "                                                                                &#x27;Community_Memb...\n",
       "                   param_distributions={&#x27;model__learning_rate&#x27;: &lt;scipy.stats._distn_infrastructure.rv_continuous_frozen object at 0x000001CDE78041C0&gt;,\n",
       "                                        &#x27;model__max_iter&#x27;: &lt;scipy.stats._distn_infrastructure.rv_discrete_frozen object at 0x000001CDE7808100&gt;,\n",
       "                                        &#x27;model__min_samples_leaf&#x27;: &lt;scipy.stats._distn_infrastructure.rv_discrete_frozen object at 0x000001CDE77F4430&gt;},\n",
       "                   random_state=1234, scoring=&#x27;balanced_accuracy&#x27;)</pre></div></div></div><div class=\"sk-parallel\"><div class=\"sk-parallel-item\"><div class=\"sk-item\"><div class=\"sk-label-container\"><div class=\"sk-label sk-toggleable\"><input class=\"sk-toggleable__control sk-hidden--visually\" id=\"sk-estimator-id-630\" type=\"checkbox\" ><label for=\"sk-estimator-id-630\" class=\"sk-toggleable__label sk-toggleable__label-arrow\">estimator: Pipeline</label><div class=\"sk-toggleable__content\"><pre>Pipeline(steps=[(&#x27;preprocessing&#x27;,\n",
       "                 ColumnTransformer(sparse_threshold=0,\n",
       "                                   transformers=[(&#x27;num&#x27;,\n",
       "                                                  Pipeline(steps=[(&#x27;imputer&#x27;,\n",
       "                                                                   SimpleImputer(strategy=&#x27;median&#x27;))]),\n",
       "                                                  [&#x27;Community_Membership_Family&#x27;,\n",
       "                                                   &#x27;Community_Membership_Hobbies&#x27;,\n",
       "                                                   &#x27;Community_Membership_None&#x27;,\n",
       "                                                   &#x27;Community_Membership_Other&#x27;,\n",
       "                                                   &#x27;Community_Membership_Political&#x27;,\n",
       "                                                   &#x27;Community_Membership_Professional&#x27;,\n",
       "                                                   &#x27;Communi...\n",
       "                                                  Pipeline(steps=[(&#x27;imputer&#x27;,\n",
       "                                                                   SimpleImputer(strategy=&#x27;most_frequent&#x27;)),\n",
       "                                                                  (&#x27;encoder&#x27;,\n",
       "                                                                   TargetEncoder())]),\n",
       "                                                  [&#x27;Actual_Time&#x27;, &#x27;Country&#x27;,\n",
       "                                                   &#x27;Major_Geographical_Location&#x27;,\n",
       "                                                   &#x27;Primary_Computing_Platform&#x27;,\n",
       "                                                   &#x27;Primary_Language&#x27;])])),\n",
       "                (&#x27;model&#x27;,\n",
       "                 HistGradientBoostingClassifier(class_weight=&#x27;balanced&#x27;,\n",
       "                                                early_stopping=False,\n",
       "                                                min_samples_leaf=30,\n",
       "                                                random_state=1234,\n",
       "                                                scoring=&#x27;balanced_accuracy&#x27;))])</pre></div></div></div><div class=\"sk-serial\"><div class=\"sk-item\"><div class=\"sk-serial\"><div class=\"sk-item sk-dashed-wrapped\"><div class=\"sk-label-container\"><div class=\"sk-label sk-toggleable\"><input class=\"sk-toggleable__control sk-hidden--visually\" id=\"sk-estimator-id-631\" type=\"checkbox\" ><label for=\"sk-estimator-id-631\" class=\"sk-toggleable__label sk-toggleable__label-arrow\">preprocessing: ColumnTransformer</label><div class=\"sk-toggleable__content\"><pre>ColumnTransformer(sparse_threshold=0,\n",
       "                  transformers=[(&#x27;num&#x27;,\n",
       "                                 Pipeline(steps=[(&#x27;imputer&#x27;,\n",
       "                                                  SimpleImputer(strategy=&#x27;median&#x27;))]),\n",
       "                                 [&#x27;Community_Membership_Family&#x27;,\n",
       "                                  &#x27;Community_Membership_Hobbies&#x27;,\n",
       "                                  &#x27;Community_Membership_None&#x27;,\n",
       "                                  &#x27;Community_Membership_Other&#x27;,\n",
       "                                  &#x27;Community_Membership_Political&#x27;,\n",
       "                                  &#x27;Community_Membership_Professional&#x27;,\n",
       "                                  &#x27;Community_Membership_Religious&#x27;,\n",
       "                                  &#x27;Communi...\n",
       "                                  &#x27;Opinions_on_Censorship&#x27;,\n",
       "                                  &#x27;Primary_Place_of_WWW_Access&#x27;, &#x27;Race&#x27;,\n",
       "                                  &#x27;Registered_to_Vote&#x27;, &#x27;Sexual_Preference&#x27;,\n",
       "                                  &#x27;Web_Ordering&#x27;, &#x27;Web_Page_Creation&#x27;]),\n",
       "                                (&#x27;ordinal_encoding&#x27;,\n",
       "                                 Pipeline(steps=[(&#x27;imputer&#x27;,\n",
       "                                                  SimpleImputer(strategy=&#x27;most_frequent&#x27;)),\n",
       "                                                 (&#x27;encoder&#x27;, TargetEncoder())]),\n",
       "                                 [&#x27;Actual_Time&#x27;, &#x27;Country&#x27;,\n",
       "                                  &#x27;Major_Geographical_Location&#x27;,\n",
       "                                  &#x27;Primary_Computing_Platform&#x27;,\n",
       "                                  &#x27;Primary_Language&#x27;])])</pre></div></div></div><div class=\"sk-parallel\"><div class=\"sk-parallel-item\"><div class=\"sk-item\"><div class=\"sk-label-container\"><div class=\"sk-label sk-toggleable\"><input class=\"sk-toggleable__control sk-hidden--visually\" id=\"sk-estimator-id-632\" type=\"checkbox\" ><label for=\"sk-estimator-id-632\" class=\"sk-toggleable__label sk-toggleable__label-arrow\">num</label><div class=\"sk-toggleable__content\"><pre>[&#x27;Community_Membership_Family&#x27;, &#x27;Community_Membership_Hobbies&#x27;, &#x27;Community_Membership_None&#x27;, &#x27;Community_Membership_Other&#x27;, &#x27;Community_Membership_Political&#x27;, &#x27;Community_Membership_Professional&#x27;, &#x27;Community_Membership_Religious&#x27;, &#x27;Community_Membership_Support&#x27;, &#x27;Disability_Cognitive&#x27;, &#x27;Disability_Hearing&#x27;, &#x27;Disability_Motor&#x27;, &#x27;Disability_Not_Impaired&#x27;, &#x27;Disability_Not_Say&#x27;, &#x27;Disability_Vision&#x27;, &#x27;Gender&#x27;, &#x27;How_You_Heard_About_Survey_Banner&#x27;, &#x27;How_You_Heard_About_Survey_Friend&#x27;, &#x27;How_You_Heard_About_Survey_Mailing_List&#x27;, &#x27;How_You_Heard_About_Survey_Others&#x27;, &#x27;How_You_Heard_About_Survey_Printed_Media&#x27;, &#x27;How_You_Heard_About_Survey_Remebered&#x27;, &#x27;How_You_Heard_About_Survey_Search_Engine&#x27;, &#x27;How_You_Heard_About_Survey_Usenet_News&#x27;, &#x27;How_You_Heard_About_Survey_WWW_Page&#x27;, &#x27;Not_Purchasing_Bad_experience&#x27;, &#x27;Not_Purchasing_Bad_press&#x27;, &#x27;Not_Purchasing_Cant_find&#x27;, &#x27;Not_Purchasing_Company_policy&#x27;, &#x27;Not_Purchasing_Easier_locally&#x27;, &#x27;Not_Purchasing_Enough_info&#x27;, &#x27;Not_Purchasing_Judge_quality&#x27;, &#x27;Not_Purchasing_Never_tried&#x27;, &#x27;Not_Purchasing_No_credit&#x27;, &#x27;Not_Purchasing_Not_applicable&#x27;, &#x27;Not_Purchasing_Not_option&#x27;, &#x27;Not_Purchasing_Other&#x27;, &#x27;Not_Purchasing_Prefer_people&#x27;, &#x27;Not_Purchasing_Privacy&#x27;, &#x27;Not_Purchasing_Receipt&#x27;, &#x27;Not_Purchasing_Security&#x27;, &#x27;Not_Purchasing_Too_complicated&#x27;, &#x27;Not_Purchasing_Uncomfortable&#x27;, &#x27;Not_Purchasing_Unfamiliar_vendor&#x27;, &#x27;Who_Pays_for_Access_Dont_Know&#x27;, &#x27;Who_Pays_for_Access_Other&#x27;, &#x27;Who_Pays_for_Access_Parents&#x27;, &#x27;Who_Pays_for_Access_School&#x27;, &#x27;Who_Pays_for_Access_Self&#x27;]</pre></div></div></div><div class=\"sk-serial\"><div class=\"sk-item\"><div class=\"sk-serial\"><div class=\"sk-item\"><div class=\"sk-estimator sk-toggleable\"><input class=\"sk-toggleable__control sk-hidden--visually\" id=\"sk-estimator-id-633\" type=\"checkbox\" ><label for=\"sk-estimator-id-633\" class=\"sk-toggleable__label sk-toggleable__label-arrow\">SimpleImputer</label><div class=\"sk-toggleable__content\"><pre>SimpleImputer(strategy=&#x27;median&#x27;)</pre></div></div></div></div></div></div></div></div><div class=\"sk-parallel-item\"><div class=\"sk-item\"><div class=\"sk-label-container\"><div class=\"sk-label sk-toggleable\"><input class=\"sk-toggleable__control sk-hidden--visually\" id=\"sk-estimator-id-634\" type=\"checkbox\" ><label for=\"sk-estimator-id-634\" class=\"sk-toggleable__label sk-toggleable__label-arrow\">one_hot_encoding</label><div class=\"sk-toggleable__content\"><pre>[&#x27;Community_Building&#x27;, &#x27;Education_Attainment&#x27;, &#x27;Falsification_of_Information&#x27;, &#x27;Household_Income&#x27;, &#x27;Major_Occupation&#x27;, &#x27;Marital_Status&#x27;, &#x27;Most_Import_Issue_Facing_the_Internet&#x27;, &#x27;Opinions_on_Censorship&#x27;, &#x27;Primary_Place_of_WWW_Access&#x27;, &#x27;Race&#x27;, &#x27;Registered_to_Vote&#x27;, &#x27;Sexual_Preference&#x27;, &#x27;Web_Ordering&#x27;, &#x27;Web_Page_Creation&#x27;]</pre></div></div></div><div class=\"sk-serial\"><div class=\"sk-item\"><div class=\"sk-serial\"><div class=\"sk-item\"><div class=\"sk-estimator sk-toggleable\"><input class=\"sk-toggleable__control sk-hidden--visually\" id=\"sk-estimator-id-635\" type=\"checkbox\" ><label for=\"sk-estimator-id-635\" class=\"sk-toggleable__label sk-toggleable__label-arrow\">SimpleImputer</label><div class=\"sk-toggleable__content\"><pre>SimpleImputer(strategy=&#x27;most_frequent&#x27;)</pre></div></div></div><div class=\"sk-item\"><div class=\"sk-estimator sk-toggleable\"><input class=\"sk-toggleable__control sk-hidden--visually\" id=\"sk-estimator-id-636\" type=\"checkbox\" ><label for=\"sk-estimator-id-636\" class=\"sk-toggleable__label sk-toggleable__label-arrow\">OneHotEncoder</label><div class=\"sk-toggleable__content\"><pre>OneHotEncoder(drop=&#x27;first&#x27;, handle_unknown=&#x27;ignore&#x27;)</pre></div></div></div></div></div></div></div></div><div class=\"sk-parallel-item\"><div class=\"sk-item\"><div class=\"sk-label-container\"><div class=\"sk-label sk-toggleable\"><input class=\"sk-toggleable__control sk-hidden--visually\" id=\"sk-estimator-id-637\" type=\"checkbox\" ><label for=\"sk-estimator-id-637\" class=\"sk-toggleable__label sk-toggleable__label-arrow\">ordinal_encoding</label><div class=\"sk-toggleable__content\"><pre>[&#x27;Actual_Time&#x27;, &#x27;Country&#x27;, &#x27;Major_Geographical_Location&#x27;, &#x27;Primary_Computing_Platform&#x27;, &#x27;Primary_Language&#x27;]</pre></div></div></div><div class=\"sk-serial\"><div class=\"sk-item\"><div class=\"sk-serial\"><div class=\"sk-item\"><div class=\"sk-estimator sk-toggleable\"><input class=\"sk-toggleable__control sk-hidden--visually\" id=\"sk-estimator-id-638\" type=\"checkbox\" ><label for=\"sk-estimator-id-638\" class=\"sk-toggleable__label sk-toggleable__label-arrow\">SimpleImputer</label><div class=\"sk-toggleable__content\"><pre>SimpleImputer(strategy=&#x27;most_frequent&#x27;)</pre></div></div></div><div class=\"sk-item\"><div class=\"sk-estimator sk-toggleable\"><input class=\"sk-toggleable__control sk-hidden--visually\" id=\"sk-estimator-id-639\" type=\"checkbox\" ><label for=\"sk-estimator-id-639\" class=\"sk-toggleable__label sk-toggleable__label-arrow\">TargetEncoder</label><div class=\"sk-toggleable__content\"><pre>TargetEncoder()</pre></div></div></div></div></div></div></div></div></div></div><div class=\"sk-item\"><div class=\"sk-estimator sk-toggleable\"><input class=\"sk-toggleable__control sk-hidden--visually\" id=\"sk-estimator-id-640\" type=\"checkbox\" ><label for=\"sk-estimator-id-640\" class=\"sk-toggleable__label sk-toggleable__label-arrow\">HistGradientBoostingClassifier</label><div class=\"sk-toggleable__content\"><pre>HistGradientBoostingClassifier(class_weight=&#x27;balanced&#x27;, early_stopping=False,\n",
       "                               min_samples_leaf=30, random_state=1234,\n",
       "                               scoring=&#x27;balanced_accuracy&#x27;)</pre></div></div></div></div></div></div></div></div></div></div></div></div>"
      ],
      "text/plain": [
       "RandomizedSearchCV(cv=StratifiedKFold(n_splits=3, random_state=1234, shuffle=True),\n",
       "                   estimator=Pipeline(steps=[('preprocessing',\n",
       "                                              ColumnTransformer(sparse_threshold=0,\n",
       "                                                                transformers=[('num',\n",
       "                                                                               Pipeline(steps=[('imputer',\n",
       "                                                                                                SimpleImputer(strategy='median'))]),\n",
       "                                                                               ['Community_Membership_Family',\n",
       "                                                                                'Community_Membership_Hobbies',\n",
       "                                                                                'Community_Membership_None',\n",
       "                                                                                'Community_Memb...\n",
       "                   param_distributions={'model__learning_rate': <scipy.stats._distn_infrastructure.rv_continuous_frozen object at 0x000001CDE78041C0>,\n",
       "                                        'model__max_iter': <scipy.stats._distn_infrastructure.rv_discrete_frozen object at 0x000001CDE7808100>,\n",
       "                                        'model__min_samples_leaf': <scipy.stats._distn_infrastructure.rv_discrete_frozen object at 0x000001CDE77F4430>},\n",
       "                   random_state=1234, scoring='balanced_accuracy')"
      ]
     },
     "execution_count": 503,
     "metadata": {},
     "output_type": "execute_result"
    }
   ],
   "source": [
    "# Display pipeline\n",
    "print(\"Time taken: \", target_hgb_tune9_time_taken)\n",
    "target_hgb_tune9"
   ]
  },
  {
   "cell_type": "code",
   "execution_count": 504,
   "id": "a0a522f3",
   "metadata": {
    "scrolled": true
   },
   "outputs": [
    {
     "name": "stdout",
     "output_type": "stream",
     "text": [
      "Best parameters: {'model__learning_rate': 0.016643174080908176, 'model__max_iter': 205, 'model__min_samples_leaf': 49}\n",
      "Balanced accuracy with best parameters: 0.8799052254098361\n"
     ]
    }
   ],
   "source": [
    "# Predict using the model with the best parameters\n",
    "y_target_hgb_tune_pred = target_hgb_tune.predict(X_test)\n",
    "\n",
    "# Get the best parameters\n",
    "target_hgb_tune_best_params = target_hgb_tune.best_params_\n",
    "print(f'Best parameters: {target_hgb_tune_best_params}')\n",
    "\n",
    "# Calculate balanced accuracy for the model with the best parameters\n",
    "target_hgb_tune_accuracy = balanced_accuracy_score(y_test, y_target_hgb_tune_pred)\n",
    "print(f'Balanced accuracy with best parameters: {target_hgb_tune_accuracy}')\n",
    "\n",
    "# Save results\n",
    "default_summary.append(\"Tune\")\n",
    "card_9_summary.append(\"AllVariables\")\n",
    "encoder_summary.append(\"TargetEncoder\")\n",
    "value_summary.append(target_hgb_tune_accuracy)\n",
    "time_summary.append(target_hgb_tune_time_taken)\n",
    "n_models_summary.append(target_hgb_tune.n_iter)"
   ]
  },
  {
   "cell_type": "code",
   "execution_count": 505,
   "id": "2c354c7b",
   "metadata": {},
   "outputs": [
    {
     "name": "stdout",
     "output_type": "stream",
     "text": [
      "Best parameters: {'model__learning_rate': 0.06745583511366768, 'model__max_iter': 63, 'model__min_samples_leaf': 22}\n",
      "Balanced accuracy with best parameters: 0.8800753805620609\n"
     ]
    }
   ],
   "source": [
    "# Predict using the model with the best parameters\n",
    "y_target_hgb_tune_pred9 = target_hgb_tune9.predict(X_test)\n",
    "\n",
    "# Get the best parameters\n",
    "target_hgb_tune_best_params9 = target_hgb_tune9.best_params_\n",
    "print(f'Best parameters: {target_hgb_tune_best_params9}')\n",
    "\n",
    "# Calculate balanced accuracy for the model with the best parameters\n",
    "target_hgb_tune_accuracy9 = balanced_accuracy_score(y_test, y_target_hgb_tune_pred9)\n",
    "print(f'Balanced accuracy with best parameters: {target_hgb_tune_accuracy9}')\n",
    "\n",
    "# Save results\n",
    "default_summary.append(\"Tune\")\n",
    "card_9_summary.append(\"OnlyVariablesWithCard>9\")\n",
    "encoder_summary.append(\"TargetEncoder\")\n",
    "value_summary.append(target_hgb_tune_accuracy9)\n",
    "time_summary.append(target_hgb_tune9_time_taken)\n",
    "n_models_summary.append(target_hgb_tune9.n_iter)"
   ]
  },
  {
   "cell_type": "markdown",
   "id": "28ba33b9",
   "metadata": {},
   "source": []
  },
  {
   "cell_type": "markdown",
   "id": "b1aa587e",
   "metadata": {},
   "source": []
  },
  {
   "cell_type": "markdown",
   "id": "55d4149b",
   "metadata": {},
   "source": [
    "### CatBoost"
   ]
  },
  {
   "cell_type": "code",
   "execution_count": 38,
   "id": "e5b53613",
   "metadata": {},
   "outputs": [],
   "source": [
    "from catboost import CatBoostClassifier"
   ]
  },
  {
   "cell_type": "markdown",
   "id": "4736b3c9",
   "metadata": {},
   "source": [
    "#### Preprocessing"
   ]
  },
  {
   "cell_type": "code",
   "execution_count": 39,
   "id": "26143662",
   "metadata": {},
   "outputs": [],
   "source": [
    "cat_pipeline = Pipeline([\n",
    "    (\"imputer\", SimpleImputer(strategy = \"most_frequent\"))\n",
    "])\n",
    "\n",
    "preprop_pipeline = ColumnTransformer(\n",
    "    transformers = [(\"num\", num_pipeline, num_cols),\n",
    "                    (\"cat_less9\", cat_pipeline, cat_cols_less9),\n",
    "                    (\"cat_more9\", cat_pipeline, cat_cols_more9)],\n",
    "    sparse_threshold=0\n",
    ")"
   ]
  },
  {
   "cell_type": "code",
   "execution_count": 40,
   "id": "815ae6f1",
   "metadata": {},
   "outputs": [
    {
     "name": "stdout",
     "output_type": "stream",
     "text": [
      "[48, 49, 50, 51, 52, 53, 54, 55, 56, 57, 58, 59, 60, 61, 62, 63, 64, 65, 66]\n",
      "[62, 63, 64, 65, 66]\n"
     ]
    }
   ],
   "source": [
    "category_features_for_catboostsupport = [index for index in range(len(num_cols), len(num_cols) + len(cat_cols))]\n",
    "category_features_for_catboostsupport9 = [index for index in range(len(num_cols) + len(cat_cols_less9), len(num_cols) + len(cat_cols))]\n",
    "print(category_features_for_catboostsupport)\n",
    "print(category_features_for_catboostsupport9)"
   ]
  },
  {
   "cell_type": "markdown",
   "id": "0a43eb68",
   "metadata": {},
   "source": []
  },
  {
   "cell_type": "markdown",
   "id": "5f370c86",
   "metadata": {},
   "source": [
    "Catboost allows to give a maximum value of unique categories for which a variable is encoded or not by One-Hot-Encoder."
   ]
  },
  {
   "cell_type": "code",
   "execution_count": 41,
   "id": "8cdab085",
   "metadata": {},
   "outputs": [],
   "source": [
    "# Create catboost models\n",
    "catboost_default_raw = CatBoostClassifier(iterations=100,\n",
    "                                          eval_metric = 'BalancedAccuracy',\n",
    "                                          loss_function = 'Logloss',\n",
    "                                          auto_class_weights = 'Balanced',\n",
    "                                          od_type='Iter',\n",
    "                                          one_hot_max_size = 0,\n",
    "                                          random_seed = 1234,\n",
    "                                          min_data_in_leaf = 30,\n",
    "                                          cat_features=category_features_for_catboostsupport,\n",
    "                                          verbose = False)\n",
    "\n",
    "catboost_default9_raw = CatBoostClassifier(iterations=100,\n",
    "                                           eval_metric = 'BalancedAccuracy',\n",
    "                                           loss_function = 'Logloss',\n",
    "                                           auto_class_weights = 'Balanced',\n",
    "                                           od_type='Iter',\n",
    "                                           one_hot_max_size = 9,\n",
    "                                           random_seed = 1234,\n",
    "                                           min_data_in_leaf = 30,\n",
    "                                           cat_features=category_features_for_catboostsupport9,\n",
    "                                           verbose = False)\n",
    "\n",
    "\n",
    "# Default CatBoostClassifier Pipeline\n",
    "catboost_default_pipeline = Pipeline([('preprocessing', preprop_pipeline),\n",
    "                                        ('model', catboost_default_raw)])\n",
    "\n",
    "catboost_default_pipeline9 = Pipeline([('preprocessing', preprop_pipeline),\n",
    "                                         ('model', catboost_default9_raw)])\n",
    "\n",
    "# Define the hyperparameter search space\n",
    "catboost_param_distributions = {\n",
    "    'model__iterations': scipy.stats.randint(10, 300),\n",
    "    'model__learning_rate': scipy.stats.uniform(0.01, 0.3),\n",
    "    'model__min_data_in_leaf': scipy.stats.randint(5,30),\n",
    "}\n",
    "\n",
    "# Create a StratifiedKFold cross-validation instance\n",
    "stratified_kfold = StratifiedKFold(n_splits=3, shuffle=True, random_state=1234)\n",
    "\n",
    "catboost_tune_raw = RandomizedSearchCV(estimator = catboost_default_pipeline, \n",
    "                                   param_distributions = catboost_param_distributions, \n",
    "                                   n_iter = 20,\n",
    "                                   cv = stratified_kfold,\n",
    "                                   scoring = 'balanced_accuracy', \n",
    "                                   random_state = 1234,\n",
    "                                   n_jobs = -1)\n",
    "\n",
    "\n",
    "catboost_tune9_raw = RandomizedSearchCV(estimator = catboost_default_pipeline, \n",
    "                                        param_distributions = catboost_param_distributions, \n",
    "                                        n_iter = 20,\n",
    "                                        cv = stratified_kfold,\n",
    "                                        scoring = 'balanced_accuracy', \n",
    "                                        random_state = 1234,\n",
    "                                        n_jobs = -1)"
   ]
  },
  {
   "cell_type": "code",
   "execution_count": 42,
   "id": "53c7ca29",
   "metadata": {},
   "outputs": [],
   "source": [
    "tic = time.time()\n",
    "\n",
    "catboost_default = catboost_default_pipeline.fit(X_train, y_train)\n",
    "\n",
    "toc = time.time()\n",
    "catboost_default_time_taken = toc-tic"
   ]
  },
  {
   "cell_type": "code",
   "execution_count": 43,
   "id": "0b0fc645",
   "metadata": {},
   "outputs": [
    {
     "name": "stdout",
     "output_type": "stream",
     "text": [
      "Time taken:  3.8353679180145264\n"
     ]
    },
    {
     "data": {
      "text/html": [
       "<style>#sk-container-id-1 {color: black;}#sk-container-id-1 pre{padding: 0;}#sk-container-id-1 div.sk-toggleable {background-color: white;}#sk-container-id-1 label.sk-toggleable__label {cursor: pointer;display: block;width: 100%;margin-bottom: 0;padding: 0.3em;box-sizing: border-box;text-align: center;}#sk-container-id-1 label.sk-toggleable__label-arrow:before {content: \"▸\";float: left;margin-right: 0.25em;color: #696969;}#sk-container-id-1 label.sk-toggleable__label-arrow:hover:before {color: black;}#sk-container-id-1 div.sk-estimator:hover label.sk-toggleable__label-arrow:before {color: black;}#sk-container-id-1 div.sk-toggleable__content {max-height: 0;max-width: 0;overflow: hidden;text-align: left;background-color: #f0f8ff;}#sk-container-id-1 div.sk-toggleable__content pre {margin: 0.2em;color: black;border-radius: 0.25em;background-color: #f0f8ff;}#sk-container-id-1 input.sk-toggleable__control:checked~div.sk-toggleable__content {max-height: 200px;max-width: 100%;overflow: auto;}#sk-container-id-1 input.sk-toggleable__control:checked~label.sk-toggleable__label-arrow:before {content: \"▾\";}#sk-container-id-1 div.sk-estimator input.sk-toggleable__control:checked~label.sk-toggleable__label {background-color: #d4ebff;}#sk-container-id-1 div.sk-label input.sk-toggleable__control:checked~label.sk-toggleable__label {background-color: #d4ebff;}#sk-container-id-1 input.sk-hidden--visually {border: 0;clip: rect(1px 1px 1px 1px);clip: rect(1px, 1px, 1px, 1px);height: 1px;margin: -1px;overflow: hidden;padding: 0;position: absolute;width: 1px;}#sk-container-id-1 div.sk-estimator {font-family: monospace;background-color: #f0f8ff;border: 1px dotted black;border-radius: 0.25em;box-sizing: border-box;margin-bottom: 0.5em;}#sk-container-id-1 div.sk-estimator:hover {background-color: #d4ebff;}#sk-container-id-1 div.sk-parallel-item::after {content: \"\";width: 100%;border-bottom: 1px solid gray;flex-grow: 1;}#sk-container-id-1 div.sk-label:hover label.sk-toggleable__label {background-color: #d4ebff;}#sk-container-id-1 div.sk-serial::before {content: \"\";position: absolute;border-left: 1px solid gray;box-sizing: border-box;top: 0;bottom: 0;left: 50%;z-index: 0;}#sk-container-id-1 div.sk-serial {display: flex;flex-direction: column;align-items: center;background-color: white;padding-right: 0.2em;padding-left: 0.2em;position: relative;}#sk-container-id-1 div.sk-item {position: relative;z-index: 1;}#sk-container-id-1 div.sk-parallel {display: flex;align-items: stretch;justify-content: center;background-color: white;position: relative;}#sk-container-id-1 div.sk-item::before, #sk-container-id-1 div.sk-parallel-item::before {content: \"\";position: absolute;border-left: 1px solid gray;box-sizing: border-box;top: 0;bottom: 0;left: 50%;z-index: -1;}#sk-container-id-1 div.sk-parallel-item {display: flex;flex-direction: column;z-index: 1;position: relative;background-color: white;}#sk-container-id-1 div.sk-parallel-item:first-child::after {align-self: flex-end;width: 50%;}#sk-container-id-1 div.sk-parallel-item:last-child::after {align-self: flex-start;width: 50%;}#sk-container-id-1 div.sk-parallel-item:only-child::after {width: 0;}#sk-container-id-1 div.sk-dashed-wrapped {border: 1px dashed gray;margin: 0 0.4em 0.5em 0.4em;box-sizing: border-box;padding-bottom: 0.4em;background-color: white;}#sk-container-id-1 div.sk-label label {font-family: monospace;font-weight: bold;display: inline-block;line-height: 1.2em;}#sk-container-id-1 div.sk-label-container {text-align: center;}#sk-container-id-1 div.sk-container {/* jupyter's `normalize.less` sets `[hidden] { display: none; }` but bootstrap.min.css set `[hidden] { display: none !important; }` so we also need the `!important` here to be able to override the default hidden behavior on the sphinx rendered scikit-learn.org. See: https://github.com/scikit-learn/scikit-learn/issues/21755 */display: inline-block !important;position: relative;}#sk-container-id-1 div.sk-text-repr-fallback {display: none;}</style><div id=\"sk-container-id-1\" class=\"sk-top-container\"><div class=\"sk-text-repr-fallback\"><pre>Pipeline(steps=[(&#x27;preprocessing&#x27;,\n",
       "                 ColumnTransformer(sparse_threshold=0,\n",
       "                                   transformers=[(&#x27;num&#x27;,\n",
       "                                                  Pipeline(steps=[(&#x27;imputer&#x27;,\n",
       "                                                                   SimpleImputer(strategy=&#x27;median&#x27;))]),\n",
       "                                                  [&#x27;Community_Membership_Family&#x27;,\n",
       "                                                   &#x27;Community_Membership_Hobbies&#x27;,\n",
       "                                                   &#x27;Community_Membership_None&#x27;,\n",
       "                                                   &#x27;Community_Membership_Other&#x27;,\n",
       "                                                   &#x27;Community_Membership_Political&#x27;,\n",
       "                                                   &#x27;Community_Membership_Professional&#x27;,\n",
       "                                                   &#x27;Communi...\n",
       "                                                   &#x27;Primary_Place_of_WWW_Access&#x27;,\n",
       "                                                   &#x27;Race&#x27;, &#x27;Registered_to_Vote&#x27;,\n",
       "                                                   &#x27;Sexual_Preference&#x27;,\n",
       "                                                   &#x27;Web_Ordering&#x27;,\n",
       "                                                   &#x27;Web_Page_Creation&#x27;]),\n",
       "                                                 (&#x27;cat_more9&#x27;,\n",
       "                                                  Pipeline(steps=[(&#x27;imputer&#x27;,\n",
       "                                                                   SimpleImputer(strategy=&#x27;most_frequent&#x27;))]),\n",
       "                                                  [&#x27;Actual_Time&#x27;, &#x27;Country&#x27;,\n",
       "                                                   &#x27;Major_Geographical_Location&#x27;,\n",
       "                                                   &#x27;Primary_Computing_Platform&#x27;,\n",
       "                                                   &#x27;Primary_Language&#x27;])])),\n",
       "                (&#x27;model&#x27;,\n",
       "                 &lt;catboost.core.CatBoostClassifier object at 0x000001D53A07F520&gt;)])</pre><b>In a Jupyter environment, please rerun this cell to show the HTML representation or trust the notebook. <br />On GitHub, the HTML representation is unable to render, please try loading this page with nbviewer.org.</b></div><div class=\"sk-container\" hidden><div class=\"sk-item sk-dashed-wrapped\"><div class=\"sk-label-container\"><div class=\"sk-label sk-toggleable\"><input class=\"sk-toggleable__control sk-hidden--visually\" id=\"sk-estimator-id-1\" type=\"checkbox\" ><label for=\"sk-estimator-id-1\" class=\"sk-toggleable__label sk-toggleable__label-arrow\">Pipeline</label><div class=\"sk-toggleable__content\"><pre>Pipeline(steps=[(&#x27;preprocessing&#x27;,\n",
       "                 ColumnTransformer(sparse_threshold=0,\n",
       "                                   transformers=[(&#x27;num&#x27;,\n",
       "                                                  Pipeline(steps=[(&#x27;imputer&#x27;,\n",
       "                                                                   SimpleImputer(strategy=&#x27;median&#x27;))]),\n",
       "                                                  [&#x27;Community_Membership_Family&#x27;,\n",
       "                                                   &#x27;Community_Membership_Hobbies&#x27;,\n",
       "                                                   &#x27;Community_Membership_None&#x27;,\n",
       "                                                   &#x27;Community_Membership_Other&#x27;,\n",
       "                                                   &#x27;Community_Membership_Political&#x27;,\n",
       "                                                   &#x27;Community_Membership_Professional&#x27;,\n",
       "                                                   &#x27;Communi...\n",
       "                                                   &#x27;Primary_Place_of_WWW_Access&#x27;,\n",
       "                                                   &#x27;Race&#x27;, &#x27;Registered_to_Vote&#x27;,\n",
       "                                                   &#x27;Sexual_Preference&#x27;,\n",
       "                                                   &#x27;Web_Ordering&#x27;,\n",
       "                                                   &#x27;Web_Page_Creation&#x27;]),\n",
       "                                                 (&#x27;cat_more9&#x27;,\n",
       "                                                  Pipeline(steps=[(&#x27;imputer&#x27;,\n",
       "                                                                   SimpleImputer(strategy=&#x27;most_frequent&#x27;))]),\n",
       "                                                  [&#x27;Actual_Time&#x27;, &#x27;Country&#x27;,\n",
       "                                                   &#x27;Major_Geographical_Location&#x27;,\n",
       "                                                   &#x27;Primary_Computing_Platform&#x27;,\n",
       "                                                   &#x27;Primary_Language&#x27;])])),\n",
       "                (&#x27;model&#x27;,\n",
       "                 &lt;catboost.core.CatBoostClassifier object at 0x000001D53A07F520&gt;)])</pre></div></div></div><div class=\"sk-serial\"><div class=\"sk-item sk-dashed-wrapped\"><div class=\"sk-label-container\"><div class=\"sk-label sk-toggleable\"><input class=\"sk-toggleable__control sk-hidden--visually\" id=\"sk-estimator-id-2\" type=\"checkbox\" ><label for=\"sk-estimator-id-2\" class=\"sk-toggleable__label sk-toggleable__label-arrow\">preprocessing: ColumnTransformer</label><div class=\"sk-toggleable__content\"><pre>ColumnTransformer(sparse_threshold=0,\n",
       "                  transformers=[(&#x27;num&#x27;,\n",
       "                                 Pipeline(steps=[(&#x27;imputer&#x27;,\n",
       "                                                  SimpleImputer(strategy=&#x27;median&#x27;))]),\n",
       "                                 [&#x27;Community_Membership_Family&#x27;,\n",
       "                                  &#x27;Community_Membership_Hobbies&#x27;,\n",
       "                                  &#x27;Community_Membership_None&#x27;,\n",
       "                                  &#x27;Community_Membership_Other&#x27;,\n",
       "                                  &#x27;Community_Membership_Political&#x27;,\n",
       "                                  &#x27;Community_Membership_Professional&#x27;,\n",
       "                                  &#x27;Community_Membership_Religious&#x27;,\n",
       "                                  &#x27;Communi...\n",
       "                                  &#x27;Most_Import_Issue_Facing_the_Internet&#x27;,\n",
       "                                  &#x27;Opinions_on_Censorship&#x27;,\n",
       "                                  &#x27;Primary_Place_of_WWW_Access&#x27;, &#x27;Race&#x27;,\n",
       "                                  &#x27;Registered_to_Vote&#x27;, &#x27;Sexual_Preference&#x27;,\n",
       "                                  &#x27;Web_Ordering&#x27;, &#x27;Web_Page_Creation&#x27;]),\n",
       "                                (&#x27;cat_more9&#x27;,\n",
       "                                 Pipeline(steps=[(&#x27;imputer&#x27;,\n",
       "                                                  SimpleImputer(strategy=&#x27;most_frequent&#x27;))]),\n",
       "                                 [&#x27;Actual_Time&#x27;, &#x27;Country&#x27;,\n",
       "                                  &#x27;Major_Geographical_Location&#x27;,\n",
       "                                  &#x27;Primary_Computing_Platform&#x27;,\n",
       "                                  &#x27;Primary_Language&#x27;])])</pre></div></div></div><div class=\"sk-parallel\"><div class=\"sk-parallel-item\"><div class=\"sk-item\"><div class=\"sk-label-container\"><div class=\"sk-label sk-toggleable\"><input class=\"sk-toggleable__control sk-hidden--visually\" id=\"sk-estimator-id-3\" type=\"checkbox\" ><label for=\"sk-estimator-id-3\" class=\"sk-toggleable__label sk-toggleable__label-arrow\">num</label><div class=\"sk-toggleable__content\"><pre>[&#x27;Community_Membership_Family&#x27;, &#x27;Community_Membership_Hobbies&#x27;, &#x27;Community_Membership_None&#x27;, &#x27;Community_Membership_Other&#x27;, &#x27;Community_Membership_Political&#x27;, &#x27;Community_Membership_Professional&#x27;, &#x27;Community_Membership_Religious&#x27;, &#x27;Community_Membership_Support&#x27;, &#x27;Disability_Cognitive&#x27;, &#x27;Disability_Hearing&#x27;, &#x27;Disability_Motor&#x27;, &#x27;Disability_Not_Impaired&#x27;, &#x27;Disability_Not_Say&#x27;, &#x27;Disability_Vision&#x27;, &#x27;Gender&#x27;, &#x27;How_You_Heard_About_Survey_Banner&#x27;, &#x27;How_You_Heard_About_Survey_Friend&#x27;, &#x27;How_You_Heard_About_Survey_Mailing_List&#x27;, &#x27;How_You_Heard_About_Survey_Others&#x27;, &#x27;How_You_Heard_About_Survey_Printed_Media&#x27;, &#x27;How_You_Heard_About_Survey_Remebered&#x27;, &#x27;How_You_Heard_About_Survey_Search_Engine&#x27;, &#x27;How_You_Heard_About_Survey_Usenet_News&#x27;, &#x27;How_You_Heard_About_Survey_WWW_Page&#x27;, &#x27;Not_Purchasing_Bad_experience&#x27;, &#x27;Not_Purchasing_Bad_press&#x27;, &#x27;Not_Purchasing_Cant_find&#x27;, &#x27;Not_Purchasing_Company_policy&#x27;, &#x27;Not_Purchasing_Easier_locally&#x27;, &#x27;Not_Purchasing_Enough_info&#x27;, &#x27;Not_Purchasing_Judge_quality&#x27;, &#x27;Not_Purchasing_Never_tried&#x27;, &#x27;Not_Purchasing_No_credit&#x27;, &#x27;Not_Purchasing_Not_applicable&#x27;, &#x27;Not_Purchasing_Not_option&#x27;, &#x27;Not_Purchasing_Other&#x27;, &#x27;Not_Purchasing_Prefer_people&#x27;, &#x27;Not_Purchasing_Privacy&#x27;, &#x27;Not_Purchasing_Receipt&#x27;, &#x27;Not_Purchasing_Security&#x27;, &#x27;Not_Purchasing_Too_complicated&#x27;, &#x27;Not_Purchasing_Uncomfortable&#x27;, &#x27;Not_Purchasing_Unfamiliar_vendor&#x27;, &#x27;Who_Pays_for_Access_Dont_Know&#x27;, &#x27;Who_Pays_for_Access_Other&#x27;, &#x27;Who_Pays_for_Access_Parents&#x27;, &#x27;Who_Pays_for_Access_School&#x27;, &#x27;Who_Pays_for_Access_Self&#x27;]</pre></div></div></div><div class=\"sk-serial\"><div class=\"sk-item\"><div class=\"sk-serial\"><div class=\"sk-item\"><div class=\"sk-estimator sk-toggleable\"><input class=\"sk-toggleable__control sk-hidden--visually\" id=\"sk-estimator-id-4\" type=\"checkbox\" ><label for=\"sk-estimator-id-4\" class=\"sk-toggleable__label sk-toggleable__label-arrow\">SimpleImputer</label><div class=\"sk-toggleable__content\"><pre>SimpleImputer(strategy=&#x27;median&#x27;)</pre></div></div></div></div></div></div></div></div><div class=\"sk-parallel-item\"><div class=\"sk-item\"><div class=\"sk-label-container\"><div class=\"sk-label sk-toggleable\"><input class=\"sk-toggleable__control sk-hidden--visually\" id=\"sk-estimator-id-5\" type=\"checkbox\" ><label for=\"sk-estimator-id-5\" class=\"sk-toggleable__label sk-toggleable__label-arrow\">cat_less9</label><div class=\"sk-toggleable__content\"><pre>[&#x27;Community_Building&#x27;, &#x27;Education_Attainment&#x27;, &#x27;Falsification_of_Information&#x27;, &#x27;Household_Income&#x27;, &#x27;Major_Occupation&#x27;, &#x27;Marital_Status&#x27;, &#x27;Most_Import_Issue_Facing_the_Internet&#x27;, &#x27;Opinions_on_Censorship&#x27;, &#x27;Primary_Place_of_WWW_Access&#x27;, &#x27;Race&#x27;, &#x27;Registered_to_Vote&#x27;, &#x27;Sexual_Preference&#x27;, &#x27;Web_Ordering&#x27;, &#x27;Web_Page_Creation&#x27;]</pre></div></div></div><div class=\"sk-serial\"><div class=\"sk-item\"><div class=\"sk-serial\"><div class=\"sk-item\"><div class=\"sk-estimator sk-toggleable\"><input class=\"sk-toggleable__control sk-hidden--visually\" id=\"sk-estimator-id-6\" type=\"checkbox\" ><label for=\"sk-estimator-id-6\" class=\"sk-toggleable__label sk-toggleable__label-arrow\">SimpleImputer</label><div class=\"sk-toggleable__content\"><pre>SimpleImputer(strategy=&#x27;most_frequent&#x27;)</pre></div></div></div></div></div></div></div></div><div class=\"sk-parallel-item\"><div class=\"sk-item\"><div class=\"sk-label-container\"><div class=\"sk-label sk-toggleable\"><input class=\"sk-toggleable__control sk-hidden--visually\" id=\"sk-estimator-id-7\" type=\"checkbox\" ><label for=\"sk-estimator-id-7\" class=\"sk-toggleable__label sk-toggleable__label-arrow\">cat_more9</label><div class=\"sk-toggleable__content\"><pre>[&#x27;Actual_Time&#x27;, &#x27;Country&#x27;, &#x27;Major_Geographical_Location&#x27;, &#x27;Primary_Computing_Platform&#x27;, &#x27;Primary_Language&#x27;]</pre></div></div></div><div class=\"sk-serial\"><div class=\"sk-item\"><div class=\"sk-serial\"><div class=\"sk-item\"><div class=\"sk-estimator sk-toggleable\"><input class=\"sk-toggleable__control sk-hidden--visually\" id=\"sk-estimator-id-8\" type=\"checkbox\" ><label for=\"sk-estimator-id-8\" class=\"sk-toggleable__label sk-toggleable__label-arrow\">SimpleImputer</label><div class=\"sk-toggleable__content\"><pre>SimpleImputer(strategy=&#x27;most_frequent&#x27;)</pre></div></div></div></div></div></div></div></div></div></div><div class=\"sk-item\"><div class=\"sk-estimator sk-toggleable\"><input class=\"sk-toggleable__control sk-hidden--visually\" id=\"sk-estimator-id-9\" type=\"checkbox\" ><label for=\"sk-estimator-id-9\" class=\"sk-toggleable__label sk-toggleable__label-arrow\">CatBoostClassifier</label><div class=\"sk-toggleable__content\"><pre>&lt;catboost.core.CatBoostClassifier object at 0x000001D53A07F520&gt;</pre></div></div></div></div></div></div></div>"
      ],
      "text/plain": [
       "Pipeline(steps=[('preprocessing',\n",
       "                 ColumnTransformer(sparse_threshold=0,\n",
       "                                   transformers=[('num',\n",
       "                                                  Pipeline(steps=[('imputer',\n",
       "                                                                   SimpleImputer(strategy='median'))]),\n",
       "                                                  ['Community_Membership_Family',\n",
       "                                                   'Community_Membership_Hobbies',\n",
       "                                                   'Community_Membership_None',\n",
       "                                                   'Community_Membership_Other',\n",
       "                                                   'Community_Membership_Political',\n",
       "                                                   'Community_Membership_Professional',\n",
       "                                                   'Communi...\n",
       "                                                   'Primary_Place_of_WWW_Access',\n",
       "                                                   'Race', 'Registered_to_Vote',\n",
       "                                                   'Sexual_Preference',\n",
       "                                                   'Web_Ordering',\n",
       "                                                   'Web_Page_Creation']),\n",
       "                                                 ('cat_more9',\n",
       "                                                  Pipeline(steps=[('imputer',\n",
       "                                                                   SimpleImputer(strategy='most_frequent'))]),\n",
       "                                                  ['Actual_Time', 'Country',\n",
       "                                                   'Major_Geographical_Location',\n",
       "                                                   'Primary_Computing_Platform',\n",
       "                                                   'Primary_Language'])])),\n",
       "                ('model',\n",
       "                 <catboost.core.CatBoostClassifier object at 0x000001D53A07F520>)])"
      ]
     },
     "execution_count": 43,
     "metadata": {},
     "output_type": "execute_result"
    }
   ],
   "source": [
    "# Display pipeline\n",
    "print(\"Time taken: \", catboost_default_time_taken)\n",
    "catboost_default"
   ]
  },
  {
   "cell_type": "code",
   "execution_count": 44,
   "id": "31da5144",
   "metadata": {},
   "outputs": [],
   "source": [
    "tic = time.time()\n",
    "\n",
    "catboost_default9 = catboost_default_pipeline.fit(X_train, y_train)\n",
    "\n",
    "toc = time.time()\n",
    "catboost_default_time_taken9 = toc-tic"
   ]
  },
  {
   "cell_type": "code",
   "execution_count": 45,
   "id": "6cac5e07",
   "metadata": {},
   "outputs": [
    {
     "name": "stdout",
     "output_type": "stream",
     "text": [
      "Time taken:  3.5030059814453125\n"
     ]
    },
    {
     "data": {
      "text/html": [
       "<style>#sk-container-id-2 {color: black;}#sk-container-id-2 pre{padding: 0;}#sk-container-id-2 div.sk-toggleable {background-color: white;}#sk-container-id-2 label.sk-toggleable__label {cursor: pointer;display: block;width: 100%;margin-bottom: 0;padding: 0.3em;box-sizing: border-box;text-align: center;}#sk-container-id-2 label.sk-toggleable__label-arrow:before {content: \"▸\";float: left;margin-right: 0.25em;color: #696969;}#sk-container-id-2 label.sk-toggleable__label-arrow:hover:before {color: black;}#sk-container-id-2 div.sk-estimator:hover label.sk-toggleable__label-arrow:before {color: black;}#sk-container-id-2 div.sk-toggleable__content {max-height: 0;max-width: 0;overflow: hidden;text-align: left;background-color: #f0f8ff;}#sk-container-id-2 div.sk-toggleable__content pre {margin: 0.2em;color: black;border-radius: 0.25em;background-color: #f0f8ff;}#sk-container-id-2 input.sk-toggleable__control:checked~div.sk-toggleable__content {max-height: 200px;max-width: 100%;overflow: auto;}#sk-container-id-2 input.sk-toggleable__control:checked~label.sk-toggleable__label-arrow:before {content: \"▾\";}#sk-container-id-2 div.sk-estimator input.sk-toggleable__control:checked~label.sk-toggleable__label {background-color: #d4ebff;}#sk-container-id-2 div.sk-label input.sk-toggleable__control:checked~label.sk-toggleable__label {background-color: #d4ebff;}#sk-container-id-2 input.sk-hidden--visually {border: 0;clip: rect(1px 1px 1px 1px);clip: rect(1px, 1px, 1px, 1px);height: 1px;margin: -1px;overflow: hidden;padding: 0;position: absolute;width: 1px;}#sk-container-id-2 div.sk-estimator {font-family: monospace;background-color: #f0f8ff;border: 1px dotted black;border-radius: 0.25em;box-sizing: border-box;margin-bottom: 0.5em;}#sk-container-id-2 div.sk-estimator:hover {background-color: #d4ebff;}#sk-container-id-2 div.sk-parallel-item::after {content: \"\";width: 100%;border-bottom: 1px solid gray;flex-grow: 1;}#sk-container-id-2 div.sk-label:hover label.sk-toggleable__label {background-color: #d4ebff;}#sk-container-id-2 div.sk-serial::before {content: \"\";position: absolute;border-left: 1px solid gray;box-sizing: border-box;top: 0;bottom: 0;left: 50%;z-index: 0;}#sk-container-id-2 div.sk-serial {display: flex;flex-direction: column;align-items: center;background-color: white;padding-right: 0.2em;padding-left: 0.2em;position: relative;}#sk-container-id-2 div.sk-item {position: relative;z-index: 1;}#sk-container-id-2 div.sk-parallel {display: flex;align-items: stretch;justify-content: center;background-color: white;position: relative;}#sk-container-id-2 div.sk-item::before, #sk-container-id-2 div.sk-parallel-item::before {content: \"\";position: absolute;border-left: 1px solid gray;box-sizing: border-box;top: 0;bottom: 0;left: 50%;z-index: -1;}#sk-container-id-2 div.sk-parallel-item {display: flex;flex-direction: column;z-index: 1;position: relative;background-color: white;}#sk-container-id-2 div.sk-parallel-item:first-child::after {align-self: flex-end;width: 50%;}#sk-container-id-2 div.sk-parallel-item:last-child::after {align-self: flex-start;width: 50%;}#sk-container-id-2 div.sk-parallel-item:only-child::after {width: 0;}#sk-container-id-2 div.sk-dashed-wrapped {border: 1px dashed gray;margin: 0 0.4em 0.5em 0.4em;box-sizing: border-box;padding-bottom: 0.4em;background-color: white;}#sk-container-id-2 div.sk-label label {font-family: monospace;font-weight: bold;display: inline-block;line-height: 1.2em;}#sk-container-id-2 div.sk-label-container {text-align: center;}#sk-container-id-2 div.sk-container {/* jupyter's `normalize.less` sets `[hidden] { display: none; }` but bootstrap.min.css set `[hidden] { display: none !important; }` so we also need the `!important` here to be able to override the default hidden behavior on the sphinx rendered scikit-learn.org. See: https://github.com/scikit-learn/scikit-learn/issues/21755 */display: inline-block !important;position: relative;}#sk-container-id-2 div.sk-text-repr-fallback {display: none;}</style><div id=\"sk-container-id-2\" class=\"sk-top-container\"><div class=\"sk-text-repr-fallback\"><pre>Pipeline(steps=[(&#x27;preprocessing&#x27;,\n",
       "                 ColumnTransformer(sparse_threshold=0,\n",
       "                                   transformers=[(&#x27;num&#x27;,\n",
       "                                                  Pipeline(steps=[(&#x27;imputer&#x27;,\n",
       "                                                                   SimpleImputer(strategy=&#x27;median&#x27;))]),\n",
       "                                                  [&#x27;Community_Membership_Family&#x27;,\n",
       "                                                   &#x27;Community_Membership_Hobbies&#x27;,\n",
       "                                                   &#x27;Community_Membership_None&#x27;,\n",
       "                                                   &#x27;Community_Membership_Other&#x27;,\n",
       "                                                   &#x27;Community_Membership_Political&#x27;,\n",
       "                                                   &#x27;Community_Membership_Professional&#x27;,\n",
       "                                                   &#x27;Communi...\n",
       "                                                   &#x27;Primary_Place_of_WWW_Access&#x27;,\n",
       "                                                   &#x27;Race&#x27;, &#x27;Registered_to_Vote&#x27;,\n",
       "                                                   &#x27;Sexual_Preference&#x27;,\n",
       "                                                   &#x27;Web_Ordering&#x27;,\n",
       "                                                   &#x27;Web_Page_Creation&#x27;]),\n",
       "                                                 (&#x27;cat_more9&#x27;,\n",
       "                                                  Pipeline(steps=[(&#x27;imputer&#x27;,\n",
       "                                                                   SimpleImputer(strategy=&#x27;most_frequent&#x27;))]),\n",
       "                                                  [&#x27;Actual_Time&#x27;, &#x27;Country&#x27;,\n",
       "                                                   &#x27;Major_Geographical_Location&#x27;,\n",
       "                                                   &#x27;Primary_Computing_Platform&#x27;,\n",
       "                                                   &#x27;Primary_Language&#x27;])])),\n",
       "                (&#x27;model&#x27;,\n",
       "                 &lt;catboost.core.CatBoostClassifier object at 0x000001D53A07F520&gt;)])</pre><b>In a Jupyter environment, please rerun this cell to show the HTML representation or trust the notebook. <br />On GitHub, the HTML representation is unable to render, please try loading this page with nbviewer.org.</b></div><div class=\"sk-container\" hidden><div class=\"sk-item sk-dashed-wrapped\"><div class=\"sk-label-container\"><div class=\"sk-label sk-toggleable\"><input class=\"sk-toggleable__control sk-hidden--visually\" id=\"sk-estimator-id-10\" type=\"checkbox\" ><label for=\"sk-estimator-id-10\" class=\"sk-toggleable__label sk-toggleable__label-arrow\">Pipeline</label><div class=\"sk-toggleable__content\"><pre>Pipeline(steps=[(&#x27;preprocessing&#x27;,\n",
       "                 ColumnTransformer(sparse_threshold=0,\n",
       "                                   transformers=[(&#x27;num&#x27;,\n",
       "                                                  Pipeline(steps=[(&#x27;imputer&#x27;,\n",
       "                                                                   SimpleImputer(strategy=&#x27;median&#x27;))]),\n",
       "                                                  [&#x27;Community_Membership_Family&#x27;,\n",
       "                                                   &#x27;Community_Membership_Hobbies&#x27;,\n",
       "                                                   &#x27;Community_Membership_None&#x27;,\n",
       "                                                   &#x27;Community_Membership_Other&#x27;,\n",
       "                                                   &#x27;Community_Membership_Political&#x27;,\n",
       "                                                   &#x27;Community_Membership_Professional&#x27;,\n",
       "                                                   &#x27;Communi...\n",
       "                                                   &#x27;Primary_Place_of_WWW_Access&#x27;,\n",
       "                                                   &#x27;Race&#x27;, &#x27;Registered_to_Vote&#x27;,\n",
       "                                                   &#x27;Sexual_Preference&#x27;,\n",
       "                                                   &#x27;Web_Ordering&#x27;,\n",
       "                                                   &#x27;Web_Page_Creation&#x27;]),\n",
       "                                                 (&#x27;cat_more9&#x27;,\n",
       "                                                  Pipeline(steps=[(&#x27;imputer&#x27;,\n",
       "                                                                   SimpleImputer(strategy=&#x27;most_frequent&#x27;))]),\n",
       "                                                  [&#x27;Actual_Time&#x27;, &#x27;Country&#x27;,\n",
       "                                                   &#x27;Major_Geographical_Location&#x27;,\n",
       "                                                   &#x27;Primary_Computing_Platform&#x27;,\n",
       "                                                   &#x27;Primary_Language&#x27;])])),\n",
       "                (&#x27;model&#x27;,\n",
       "                 &lt;catboost.core.CatBoostClassifier object at 0x000001D53A07F520&gt;)])</pre></div></div></div><div class=\"sk-serial\"><div class=\"sk-item sk-dashed-wrapped\"><div class=\"sk-label-container\"><div class=\"sk-label sk-toggleable\"><input class=\"sk-toggleable__control sk-hidden--visually\" id=\"sk-estimator-id-11\" type=\"checkbox\" ><label for=\"sk-estimator-id-11\" class=\"sk-toggleable__label sk-toggleable__label-arrow\">preprocessing: ColumnTransformer</label><div class=\"sk-toggleable__content\"><pre>ColumnTransformer(sparse_threshold=0,\n",
       "                  transformers=[(&#x27;num&#x27;,\n",
       "                                 Pipeline(steps=[(&#x27;imputer&#x27;,\n",
       "                                                  SimpleImputer(strategy=&#x27;median&#x27;))]),\n",
       "                                 [&#x27;Community_Membership_Family&#x27;,\n",
       "                                  &#x27;Community_Membership_Hobbies&#x27;,\n",
       "                                  &#x27;Community_Membership_None&#x27;,\n",
       "                                  &#x27;Community_Membership_Other&#x27;,\n",
       "                                  &#x27;Community_Membership_Political&#x27;,\n",
       "                                  &#x27;Community_Membership_Professional&#x27;,\n",
       "                                  &#x27;Community_Membership_Religious&#x27;,\n",
       "                                  &#x27;Communi...\n",
       "                                  &#x27;Most_Import_Issue_Facing_the_Internet&#x27;,\n",
       "                                  &#x27;Opinions_on_Censorship&#x27;,\n",
       "                                  &#x27;Primary_Place_of_WWW_Access&#x27;, &#x27;Race&#x27;,\n",
       "                                  &#x27;Registered_to_Vote&#x27;, &#x27;Sexual_Preference&#x27;,\n",
       "                                  &#x27;Web_Ordering&#x27;, &#x27;Web_Page_Creation&#x27;]),\n",
       "                                (&#x27;cat_more9&#x27;,\n",
       "                                 Pipeline(steps=[(&#x27;imputer&#x27;,\n",
       "                                                  SimpleImputer(strategy=&#x27;most_frequent&#x27;))]),\n",
       "                                 [&#x27;Actual_Time&#x27;, &#x27;Country&#x27;,\n",
       "                                  &#x27;Major_Geographical_Location&#x27;,\n",
       "                                  &#x27;Primary_Computing_Platform&#x27;,\n",
       "                                  &#x27;Primary_Language&#x27;])])</pre></div></div></div><div class=\"sk-parallel\"><div class=\"sk-parallel-item\"><div class=\"sk-item\"><div class=\"sk-label-container\"><div class=\"sk-label sk-toggleable\"><input class=\"sk-toggleable__control sk-hidden--visually\" id=\"sk-estimator-id-12\" type=\"checkbox\" ><label for=\"sk-estimator-id-12\" class=\"sk-toggleable__label sk-toggleable__label-arrow\">num</label><div class=\"sk-toggleable__content\"><pre>[&#x27;Community_Membership_Family&#x27;, &#x27;Community_Membership_Hobbies&#x27;, &#x27;Community_Membership_None&#x27;, &#x27;Community_Membership_Other&#x27;, &#x27;Community_Membership_Political&#x27;, &#x27;Community_Membership_Professional&#x27;, &#x27;Community_Membership_Religious&#x27;, &#x27;Community_Membership_Support&#x27;, &#x27;Disability_Cognitive&#x27;, &#x27;Disability_Hearing&#x27;, &#x27;Disability_Motor&#x27;, &#x27;Disability_Not_Impaired&#x27;, &#x27;Disability_Not_Say&#x27;, &#x27;Disability_Vision&#x27;, &#x27;Gender&#x27;, &#x27;How_You_Heard_About_Survey_Banner&#x27;, &#x27;How_You_Heard_About_Survey_Friend&#x27;, &#x27;How_You_Heard_About_Survey_Mailing_List&#x27;, &#x27;How_You_Heard_About_Survey_Others&#x27;, &#x27;How_You_Heard_About_Survey_Printed_Media&#x27;, &#x27;How_You_Heard_About_Survey_Remebered&#x27;, &#x27;How_You_Heard_About_Survey_Search_Engine&#x27;, &#x27;How_You_Heard_About_Survey_Usenet_News&#x27;, &#x27;How_You_Heard_About_Survey_WWW_Page&#x27;, &#x27;Not_Purchasing_Bad_experience&#x27;, &#x27;Not_Purchasing_Bad_press&#x27;, &#x27;Not_Purchasing_Cant_find&#x27;, &#x27;Not_Purchasing_Company_policy&#x27;, &#x27;Not_Purchasing_Easier_locally&#x27;, &#x27;Not_Purchasing_Enough_info&#x27;, &#x27;Not_Purchasing_Judge_quality&#x27;, &#x27;Not_Purchasing_Never_tried&#x27;, &#x27;Not_Purchasing_No_credit&#x27;, &#x27;Not_Purchasing_Not_applicable&#x27;, &#x27;Not_Purchasing_Not_option&#x27;, &#x27;Not_Purchasing_Other&#x27;, &#x27;Not_Purchasing_Prefer_people&#x27;, &#x27;Not_Purchasing_Privacy&#x27;, &#x27;Not_Purchasing_Receipt&#x27;, &#x27;Not_Purchasing_Security&#x27;, &#x27;Not_Purchasing_Too_complicated&#x27;, &#x27;Not_Purchasing_Uncomfortable&#x27;, &#x27;Not_Purchasing_Unfamiliar_vendor&#x27;, &#x27;Who_Pays_for_Access_Dont_Know&#x27;, &#x27;Who_Pays_for_Access_Other&#x27;, &#x27;Who_Pays_for_Access_Parents&#x27;, &#x27;Who_Pays_for_Access_School&#x27;, &#x27;Who_Pays_for_Access_Self&#x27;]</pre></div></div></div><div class=\"sk-serial\"><div class=\"sk-item\"><div class=\"sk-serial\"><div class=\"sk-item\"><div class=\"sk-estimator sk-toggleable\"><input class=\"sk-toggleable__control sk-hidden--visually\" id=\"sk-estimator-id-13\" type=\"checkbox\" ><label for=\"sk-estimator-id-13\" class=\"sk-toggleable__label sk-toggleable__label-arrow\">SimpleImputer</label><div class=\"sk-toggleable__content\"><pre>SimpleImputer(strategy=&#x27;median&#x27;)</pre></div></div></div></div></div></div></div></div><div class=\"sk-parallel-item\"><div class=\"sk-item\"><div class=\"sk-label-container\"><div class=\"sk-label sk-toggleable\"><input class=\"sk-toggleable__control sk-hidden--visually\" id=\"sk-estimator-id-14\" type=\"checkbox\" ><label for=\"sk-estimator-id-14\" class=\"sk-toggleable__label sk-toggleable__label-arrow\">cat_less9</label><div class=\"sk-toggleable__content\"><pre>[&#x27;Community_Building&#x27;, &#x27;Education_Attainment&#x27;, &#x27;Falsification_of_Information&#x27;, &#x27;Household_Income&#x27;, &#x27;Major_Occupation&#x27;, &#x27;Marital_Status&#x27;, &#x27;Most_Import_Issue_Facing_the_Internet&#x27;, &#x27;Opinions_on_Censorship&#x27;, &#x27;Primary_Place_of_WWW_Access&#x27;, &#x27;Race&#x27;, &#x27;Registered_to_Vote&#x27;, &#x27;Sexual_Preference&#x27;, &#x27;Web_Ordering&#x27;, &#x27;Web_Page_Creation&#x27;]</pre></div></div></div><div class=\"sk-serial\"><div class=\"sk-item\"><div class=\"sk-serial\"><div class=\"sk-item\"><div class=\"sk-estimator sk-toggleable\"><input class=\"sk-toggleable__control sk-hidden--visually\" id=\"sk-estimator-id-15\" type=\"checkbox\" ><label for=\"sk-estimator-id-15\" class=\"sk-toggleable__label sk-toggleable__label-arrow\">SimpleImputer</label><div class=\"sk-toggleable__content\"><pre>SimpleImputer(strategy=&#x27;most_frequent&#x27;)</pre></div></div></div></div></div></div></div></div><div class=\"sk-parallel-item\"><div class=\"sk-item\"><div class=\"sk-label-container\"><div class=\"sk-label sk-toggleable\"><input class=\"sk-toggleable__control sk-hidden--visually\" id=\"sk-estimator-id-16\" type=\"checkbox\" ><label for=\"sk-estimator-id-16\" class=\"sk-toggleable__label sk-toggleable__label-arrow\">cat_more9</label><div class=\"sk-toggleable__content\"><pre>[&#x27;Actual_Time&#x27;, &#x27;Country&#x27;, &#x27;Major_Geographical_Location&#x27;, &#x27;Primary_Computing_Platform&#x27;, &#x27;Primary_Language&#x27;]</pre></div></div></div><div class=\"sk-serial\"><div class=\"sk-item\"><div class=\"sk-serial\"><div class=\"sk-item\"><div class=\"sk-estimator sk-toggleable\"><input class=\"sk-toggleable__control sk-hidden--visually\" id=\"sk-estimator-id-17\" type=\"checkbox\" ><label for=\"sk-estimator-id-17\" class=\"sk-toggleable__label sk-toggleable__label-arrow\">SimpleImputer</label><div class=\"sk-toggleable__content\"><pre>SimpleImputer(strategy=&#x27;most_frequent&#x27;)</pre></div></div></div></div></div></div></div></div></div></div><div class=\"sk-item\"><div class=\"sk-estimator sk-toggleable\"><input class=\"sk-toggleable__control sk-hidden--visually\" id=\"sk-estimator-id-18\" type=\"checkbox\" ><label for=\"sk-estimator-id-18\" class=\"sk-toggleable__label sk-toggleable__label-arrow\">CatBoostClassifier</label><div class=\"sk-toggleable__content\"><pre>&lt;catboost.core.CatBoostClassifier object at 0x000001D53A07F520&gt;</pre></div></div></div></div></div></div></div>"
      ],
      "text/plain": [
       "Pipeline(steps=[('preprocessing',\n",
       "                 ColumnTransformer(sparse_threshold=0,\n",
       "                                   transformers=[('num',\n",
       "                                                  Pipeline(steps=[('imputer',\n",
       "                                                                   SimpleImputer(strategy='median'))]),\n",
       "                                                  ['Community_Membership_Family',\n",
       "                                                   'Community_Membership_Hobbies',\n",
       "                                                   'Community_Membership_None',\n",
       "                                                   'Community_Membership_Other',\n",
       "                                                   'Community_Membership_Political',\n",
       "                                                   'Community_Membership_Professional',\n",
       "                                                   'Communi...\n",
       "                                                   'Primary_Place_of_WWW_Access',\n",
       "                                                   'Race', 'Registered_to_Vote',\n",
       "                                                   'Sexual_Preference',\n",
       "                                                   'Web_Ordering',\n",
       "                                                   'Web_Page_Creation']),\n",
       "                                                 ('cat_more9',\n",
       "                                                  Pipeline(steps=[('imputer',\n",
       "                                                                   SimpleImputer(strategy='most_frequent'))]),\n",
       "                                                  ['Actual_Time', 'Country',\n",
       "                                                   'Major_Geographical_Location',\n",
       "                                                   'Primary_Computing_Platform',\n",
       "                                                   'Primary_Language'])])),\n",
       "                ('model',\n",
       "                 <catboost.core.CatBoostClassifier object at 0x000001D53A07F520>)])"
      ]
     },
     "execution_count": 45,
     "metadata": {},
     "output_type": "execute_result"
    }
   ],
   "source": [
    "# Display pipeline\n",
    "print(\"Time taken: \", catboost_default_time_taken9)\n",
    "catboost_default9"
   ]
  },
  {
   "cell_type": "code",
   "execution_count": 514,
   "id": "9227acb8",
   "metadata": {},
   "outputs": [
    {
     "name": "stdout",
     "output_type": "stream",
     "text": [
      "Balanced accuracy with default parameters: 0.8898108167447307\n"
     ]
    }
   ],
   "source": [
    "# Calculate balanced accuracy for the model with default parameters\n",
    "y_catboost_default_pred = catboost_default.predict(X_test)\n",
    "catboost_default_accuracy = balanced_accuracy_score(y_test, y_catboost_default_pred)\n",
    "print(f'Balanced accuracy with default parameters: {catboost_default_accuracy}')\n",
    "\n",
    "# Save results\n",
    "default_summary.append(\"Default\")\n",
    "card_9_summary.append(\"AllVariables\")\n",
    "encoder_summary.append(\"CatboostNativeSupport\")\n",
    "value_summary.append(catboost_default_accuracy)\n",
    "time_summary.append(catboost_default_time_taken)\n",
    "n_models_summary.append(1)"
   ]
  },
  {
   "cell_type": "code",
   "execution_count": 515,
   "id": "46f59b4e",
   "metadata": {},
   "outputs": [
    {
     "name": "stdout",
     "output_type": "stream",
     "text": [
      "Balanced accuracy with default parameters: 0.8898108167447307\n"
     ]
    }
   ],
   "source": [
    "# Calculate balanced accuracy for the model with default parameters\n",
    "y_catboost_default_pred9 = catboost_default9.predict(X_test)\n",
    "catboost_default_accuracy9 = balanced_accuracy_score(y_test, y_catboost_default_pred9)\n",
    "print(f'Balanced accuracy with default parameters: {catboost_default_accuracy9}')\n",
    "\n",
    "# Save results\n",
    "default_summary.append(\"Default\")\n",
    "card_9_summary.append(\"OnlyVariablesWithCard>9\")\n",
    "encoder_summary.append(\"CatboostNativeSupport\")\n",
    "value_summary.append(catboost_default_accuracy9)\n",
    "time_summary.append(catboost_default_time_taken9)\n",
    "n_models_summary.append(1)"
   ]
  },
  {
   "cell_type": "markdown",
   "id": "6f032a60",
   "metadata": {},
   "source": []
  },
  {
   "cell_type": "code",
   "execution_count": 47,
   "id": "7c717415",
   "metadata": {},
   "outputs": [],
   "source": [
    "tic = time.time()\n",
    "\n",
    "catboost_tune = catboost_tune_raw.fit(X_train, y_train)\n",
    "\n",
    "toc = time.time()\n",
    "catboost_tune_time_taken = toc-tic"
   ]
  },
  {
   "cell_type": "code",
   "execution_count": 48,
   "id": "beecbb82",
   "metadata": {},
   "outputs": [
    {
     "name": "stdout",
     "output_type": "stream",
     "text": [
      "Time taken:  104.32765460014343\n"
     ]
    },
    {
     "data": {
      "text/html": [
       "<style>#sk-container-id-3 {color: black;}#sk-container-id-3 pre{padding: 0;}#sk-container-id-3 div.sk-toggleable {background-color: white;}#sk-container-id-3 label.sk-toggleable__label {cursor: pointer;display: block;width: 100%;margin-bottom: 0;padding: 0.3em;box-sizing: border-box;text-align: center;}#sk-container-id-3 label.sk-toggleable__label-arrow:before {content: \"▸\";float: left;margin-right: 0.25em;color: #696969;}#sk-container-id-3 label.sk-toggleable__label-arrow:hover:before {color: black;}#sk-container-id-3 div.sk-estimator:hover label.sk-toggleable__label-arrow:before {color: black;}#sk-container-id-3 div.sk-toggleable__content {max-height: 0;max-width: 0;overflow: hidden;text-align: left;background-color: #f0f8ff;}#sk-container-id-3 div.sk-toggleable__content pre {margin: 0.2em;color: black;border-radius: 0.25em;background-color: #f0f8ff;}#sk-container-id-3 input.sk-toggleable__control:checked~div.sk-toggleable__content {max-height: 200px;max-width: 100%;overflow: auto;}#sk-container-id-3 input.sk-toggleable__control:checked~label.sk-toggleable__label-arrow:before {content: \"▾\";}#sk-container-id-3 div.sk-estimator input.sk-toggleable__control:checked~label.sk-toggleable__label {background-color: #d4ebff;}#sk-container-id-3 div.sk-label input.sk-toggleable__control:checked~label.sk-toggleable__label {background-color: #d4ebff;}#sk-container-id-3 input.sk-hidden--visually {border: 0;clip: rect(1px 1px 1px 1px);clip: rect(1px, 1px, 1px, 1px);height: 1px;margin: -1px;overflow: hidden;padding: 0;position: absolute;width: 1px;}#sk-container-id-3 div.sk-estimator {font-family: monospace;background-color: #f0f8ff;border: 1px dotted black;border-radius: 0.25em;box-sizing: border-box;margin-bottom: 0.5em;}#sk-container-id-3 div.sk-estimator:hover {background-color: #d4ebff;}#sk-container-id-3 div.sk-parallel-item::after {content: \"\";width: 100%;border-bottom: 1px solid gray;flex-grow: 1;}#sk-container-id-3 div.sk-label:hover label.sk-toggleable__label {background-color: #d4ebff;}#sk-container-id-3 div.sk-serial::before {content: \"\";position: absolute;border-left: 1px solid gray;box-sizing: border-box;top: 0;bottom: 0;left: 50%;z-index: 0;}#sk-container-id-3 div.sk-serial {display: flex;flex-direction: column;align-items: center;background-color: white;padding-right: 0.2em;padding-left: 0.2em;position: relative;}#sk-container-id-3 div.sk-item {position: relative;z-index: 1;}#sk-container-id-3 div.sk-parallel {display: flex;align-items: stretch;justify-content: center;background-color: white;position: relative;}#sk-container-id-3 div.sk-item::before, #sk-container-id-3 div.sk-parallel-item::before {content: \"\";position: absolute;border-left: 1px solid gray;box-sizing: border-box;top: 0;bottom: 0;left: 50%;z-index: -1;}#sk-container-id-3 div.sk-parallel-item {display: flex;flex-direction: column;z-index: 1;position: relative;background-color: white;}#sk-container-id-3 div.sk-parallel-item:first-child::after {align-self: flex-end;width: 50%;}#sk-container-id-3 div.sk-parallel-item:last-child::after {align-self: flex-start;width: 50%;}#sk-container-id-3 div.sk-parallel-item:only-child::after {width: 0;}#sk-container-id-3 div.sk-dashed-wrapped {border: 1px dashed gray;margin: 0 0.4em 0.5em 0.4em;box-sizing: border-box;padding-bottom: 0.4em;background-color: white;}#sk-container-id-3 div.sk-label label {font-family: monospace;font-weight: bold;display: inline-block;line-height: 1.2em;}#sk-container-id-3 div.sk-label-container {text-align: center;}#sk-container-id-3 div.sk-container {/* jupyter's `normalize.less` sets `[hidden] { display: none; }` but bootstrap.min.css set `[hidden] { display: none !important; }` so we also need the `!important` here to be able to override the default hidden behavior on the sphinx rendered scikit-learn.org. See: https://github.com/scikit-learn/scikit-learn/issues/21755 */display: inline-block !important;position: relative;}#sk-container-id-3 div.sk-text-repr-fallback {display: none;}</style><div id=\"sk-container-id-3\" class=\"sk-top-container\"><div class=\"sk-text-repr-fallback\"><pre>RandomizedSearchCV(cv=StratifiedKFold(n_splits=3, random_state=1234, shuffle=True),\n",
       "                   estimator=Pipeline(steps=[(&#x27;preprocessing&#x27;,\n",
       "                                              ColumnTransformer(sparse_threshold=0,\n",
       "                                                                transformers=[(&#x27;num&#x27;,\n",
       "                                                                               Pipeline(steps=[(&#x27;imputer&#x27;,\n",
       "                                                                                                SimpleImputer(strategy=&#x27;median&#x27;))]),\n",
       "                                                                               [&#x27;Community_Membership_Family&#x27;,\n",
       "                                                                                &#x27;Community_Membership_Hobbies&#x27;,\n",
       "                                                                                &#x27;Community_Membership_None&#x27;,\n",
       "                                                                                &#x27;Community_Memb...\n",
       "                   param_distributions={&#x27;model__iterations&#x27;: &lt;scipy.stats._distn_infrastructure.rv_discrete_frozen object at 0x000001D53A07F3D0&gt;,\n",
       "                                        &#x27;model__learning_rate&#x27;: &lt;scipy.stats._distn_infrastructure.rv_continuous_frozen object at 0x000001D53A11C910&gt;,\n",
       "                                        &#x27;model__min_data_in_leaf&#x27;: &lt;scipy.stats._distn_infrastructure.rv_discrete_frozen object at 0x000001D53A07E7A0&gt;},\n",
       "                   random_state=1234, scoring=&#x27;balanced_accuracy&#x27;)</pre><b>In a Jupyter environment, please rerun this cell to show the HTML representation or trust the notebook. <br />On GitHub, the HTML representation is unable to render, please try loading this page with nbviewer.org.</b></div><div class=\"sk-container\" hidden><div class=\"sk-item sk-dashed-wrapped\"><div class=\"sk-label-container\"><div class=\"sk-label sk-toggleable\"><input class=\"sk-toggleable__control sk-hidden--visually\" id=\"sk-estimator-id-19\" type=\"checkbox\" ><label for=\"sk-estimator-id-19\" class=\"sk-toggleable__label sk-toggleable__label-arrow\">RandomizedSearchCV</label><div class=\"sk-toggleable__content\"><pre>RandomizedSearchCV(cv=StratifiedKFold(n_splits=3, random_state=1234, shuffle=True),\n",
       "                   estimator=Pipeline(steps=[(&#x27;preprocessing&#x27;,\n",
       "                                              ColumnTransformer(sparse_threshold=0,\n",
       "                                                                transformers=[(&#x27;num&#x27;,\n",
       "                                                                               Pipeline(steps=[(&#x27;imputer&#x27;,\n",
       "                                                                                                SimpleImputer(strategy=&#x27;median&#x27;))]),\n",
       "                                                                               [&#x27;Community_Membership_Family&#x27;,\n",
       "                                                                                &#x27;Community_Membership_Hobbies&#x27;,\n",
       "                                                                                &#x27;Community_Membership_None&#x27;,\n",
       "                                                                                &#x27;Community_Memb...\n",
       "                   param_distributions={&#x27;model__iterations&#x27;: &lt;scipy.stats._distn_infrastructure.rv_discrete_frozen object at 0x000001D53A07F3D0&gt;,\n",
       "                                        &#x27;model__learning_rate&#x27;: &lt;scipy.stats._distn_infrastructure.rv_continuous_frozen object at 0x000001D53A11C910&gt;,\n",
       "                                        &#x27;model__min_data_in_leaf&#x27;: &lt;scipy.stats._distn_infrastructure.rv_discrete_frozen object at 0x000001D53A07E7A0&gt;},\n",
       "                   random_state=1234, scoring=&#x27;balanced_accuracy&#x27;)</pre></div></div></div><div class=\"sk-parallel\"><div class=\"sk-parallel-item\"><div class=\"sk-item\"><div class=\"sk-label-container\"><div class=\"sk-label sk-toggleable\"><input class=\"sk-toggleable__control sk-hidden--visually\" id=\"sk-estimator-id-20\" type=\"checkbox\" ><label for=\"sk-estimator-id-20\" class=\"sk-toggleable__label sk-toggleable__label-arrow\">estimator: Pipeline</label><div class=\"sk-toggleable__content\"><pre>Pipeline(steps=[(&#x27;preprocessing&#x27;,\n",
       "                 ColumnTransformer(sparse_threshold=0,\n",
       "                                   transformers=[(&#x27;num&#x27;,\n",
       "                                                  Pipeline(steps=[(&#x27;imputer&#x27;,\n",
       "                                                                   SimpleImputer(strategy=&#x27;median&#x27;))]),\n",
       "                                                  [&#x27;Community_Membership_Family&#x27;,\n",
       "                                                   &#x27;Community_Membership_Hobbies&#x27;,\n",
       "                                                   &#x27;Community_Membership_None&#x27;,\n",
       "                                                   &#x27;Community_Membership_Other&#x27;,\n",
       "                                                   &#x27;Community_Membership_Political&#x27;,\n",
       "                                                   &#x27;Community_Membership_Professional&#x27;,\n",
       "                                                   &#x27;Communi...\n",
       "                                                   &#x27;Primary_Place_of_WWW_Access&#x27;,\n",
       "                                                   &#x27;Race&#x27;, &#x27;Registered_to_Vote&#x27;,\n",
       "                                                   &#x27;Sexual_Preference&#x27;,\n",
       "                                                   &#x27;Web_Ordering&#x27;,\n",
       "                                                   &#x27;Web_Page_Creation&#x27;]),\n",
       "                                                 (&#x27;cat_more9&#x27;,\n",
       "                                                  Pipeline(steps=[(&#x27;imputer&#x27;,\n",
       "                                                                   SimpleImputer(strategy=&#x27;most_frequent&#x27;))]),\n",
       "                                                  [&#x27;Actual_Time&#x27;, &#x27;Country&#x27;,\n",
       "                                                   &#x27;Major_Geographical_Location&#x27;,\n",
       "                                                   &#x27;Primary_Computing_Platform&#x27;,\n",
       "                                                   &#x27;Primary_Language&#x27;])])),\n",
       "                (&#x27;model&#x27;,\n",
       "                 &lt;catboost.core.CatBoostClassifier object at 0x000001D53A07F520&gt;)])</pre></div></div></div><div class=\"sk-serial\"><div class=\"sk-item\"><div class=\"sk-serial\"><div class=\"sk-item sk-dashed-wrapped\"><div class=\"sk-label-container\"><div class=\"sk-label sk-toggleable\"><input class=\"sk-toggleable__control sk-hidden--visually\" id=\"sk-estimator-id-21\" type=\"checkbox\" ><label for=\"sk-estimator-id-21\" class=\"sk-toggleable__label sk-toggleable__label-arrow\">preprocessing: ColumnTransformer</label><div class=\"sk-toggleable__content\"><pre>ColumnTransformer(sparse_threshold=0,\n",
       "                  transformers=[(&#x27;num&#x27;,\n",
       "                                 Pipeline(steps=[(&#x27;imputer&#x27;,\n",
       "                                                  SimpleImputer(strategy=&#x27;median&#x27;))]),\n",
       "                                 [&#x27;Community_Membership_Family&#x27;,\n",
       "                                  &#x27;Community_Membership_Hobbies&#x27;,\n",
       "                                  &#x27;Community_Membership_None&#x27;,\n",
       "                                  &#x27;Community_Membership_Other&#x27;,\n",
       "                                  &#x27;Community_Membership_Political&#x27;,\n",
       "                                  &#x27;Community_Membership_Professional&#x27;,\n",
       "                                  &#x27;Community_Membership_Religious&#x27;,\n",
       "                                  &#x27;Communi...\n",
       "                                  &#x27;Most_Import_Issue_Facing_the_Internet&#x27;,\n",
       "                                  &#x27;Opinions_on_Censorship&#x27;,\n",
       "                                  &#x27;Primary_Place_of_WWW_Access&#x27;, &#x27;Race&#x27;,\n",
       "                                  &#x27;Registered_to_Vote&#x27;, &#x27;Sexual_Preference&#x27;,\n",
       "                                  &#x27;Web_Ordering&#x27;, &#x27;Web_Page_Creation&#x27;]),\n",
       "                                (&#x27;cat_more9&#x27;,\n",
       "                                 Pipeline(steps=[(&#x27;imputer&#x27;,\n",
       "                                                  SimpleImputer(strategy=&#x27;most_frequent&#x27;))]),\n",
       "                                 [&#x27;Actual_Time&#x27;, &#x27;Country&#x27;,\n",
       "                                  &#x27;Major_Geographical_Location&#x27;,\n",
       "                                  &#x27;Primary_Computing_Platform&#x27;,\n",
       "                                  &#x27;Primary_Language&#x27;])])</pre></div></div></div><div class=\"sk-parallel\"><div class=\"sk-parallel-item\"><div class=\"sk-item\"><div class=\"sk-label-container\"><div class=\"sk-label sk-toggleable\"><input class=\"sk-toggleable__control sk-hidden--visually\" id=\"sk-estimator-id-22\" type=\"checkbox\" ><label for=\"sk-estimator-id-22\" class=\"sk-toggleable__label sk-toggleable__label-arrow\">num</label><div class=\"sk-toggleable__content\"><pre>[&#x27;Community_Membership_Family&#x27;, &#x27;Community_Membership_Hobbies&#x27;, &#x27;Community_Membership_None&#x27;, &#x27;Community_Membership_Other&#x27;, &#x27;Community_Membership_Political&#x27;, &#x27;Community_Membership_Professional&#x27;, &#x27;Community_Membership_Religious&#x27;, &#x27;Community_Membership_Support&#x27;, &#x27;Disability_Cognitive&#x27;, &#x27;Disability_Hearing&#x27;, &#x27;Disability_Motor&#x27;, &#x27;Disability_Not_Impaired&#x27;, &#x27;Disability_Not_Say&#x27;, &#x27;Disability_Vision&#x27;, &#x27;Gender&#x27;, &#x27;How_You_Heard_About_Survey_Banner&#x27;, &#x27;How_You_Heard_About_Survey_Friend&#x27;, &#x27;How_You_Heard_About_Survey_Mailing_List&#x27;, &#x27;How_You_Heard_About_Survey_Others&#x27;, &#x27;How_You_Heard_About_Survey_Printed_Media&#x27;, &#x27;How_You_Heard_About_Survey_Remebered&#x27;, &#x27;How_You_Heard_About_Survey_Search_Engine&#x27;, &#x27;How_You_Heard_About_Survey_Usenet_News&#x27;, &#x27;How_You_Heard_About_Survey_WWW_Page&#x27;, &#x27;Not_Purchasing_Bad_experience&#x27;, &#x27;Not_Purchasing_Bad_press&#x27;, &#x27;Not_Purchasing_Cant_find&#x27;, &#x27;Not_Purchasing_Company_policy&#x27;, &#x27;Not_Purchasing_Easier_locally&#x27;, &#x27;Not_Purchasing_Enough_info&#x27;, &#x27;Not_Purchasing_Judge_quality&#x27;, &#x27;Not_Purchasing_Never_tried&#x27;, &#x27;Not_Purchasing_No_credit&#x27;, &#x27;Not_Purchasing_Not_applicable&#x27;, &#x27;Not_Purchasing_Not_option&#x27;, &#x27;Not_Purchasing_Other&#x27;, &#x27;Not_Purchasing_Prefer_people&#x27;, &#x27;Not_Purchasing_Privacy&#x27;, &#x27;Not_Purchasing_Receipt&#x27;, &#x27;Not_Purchasing_Security&#x27;, &#x27;Not_Purchasing_Too_complicated&#x27;, &#x27;Not_Purchasing_Uncomfortable&#x27;, &#x27;Not_Purchasing_Unfamiliar_vendor&#x27;, &#x27;Who_Pays_for_Access_Dont_Know&#x27;, &#x27;Who_Pays_for_Access_Other&#x27;, &#x27;Who_Pays_for_Access_Parents&#x27;, &#x27;Who_Pays_for_Access_School&#x27;, &#x27;Who_Pays_for_Access_Self&#x27;]</pre></div></div></div><div class=\"sk-serial\"><div class=\"sk-item\"><div class=\"sk-serial\"><div class=\"sk-item\"><div class=\"sk-estimator sk-toggleable\"><input class=\"sk-toggleable__control sk-hidden--visually\" id=\"sk-estimator-id-23\" type=\"checkbox\" ><label for=\"sk-estimator-id-23\" class=\"sk-toggleable__label sk-toggleable__label-arrow\">SimpleImputer</label><div class=\"sk-toggleable__content\"><pre>SimpleImputer(strategy=&#x27;median&#x27;)</pre></div></div></div></div></div></div></div></div><div class=\"sk-parallel-item\"><div class=\"sk-item\"><div class=\"sk-label-container\"><div class=\"sk-label sk-toggleable\"><input class=\"sk-toggleable__control sk-hidden--visually\" id=\"sk-estimator-id-24\" type=\"checkbox\" ><label for=\"sk-estimator-id-24\" class=\"sk-toggleable__label sk-toggleable__label-arrow\">cat_less9</label><div class=\"sk-toggleable__content\"><pre>[&#x27;Community_Building&#x27;, &#x27;Education_Attainment&#x27;, &#x27;Falsification_of_Information&#x27;, &#x27;Household_Income&#x27;, &#x27;Major_Occupation&#x27;, &#x27;Marital_Status&#x27;, &#x27;Most_Import_Issue_Facing_the_Internet&#x27;, &#x27;Opinions_on_Censorship&#x27;, &#x27;Primary_Place_of_WWW_Access&#x27;, &#x27;Race&#x27;, &#x27;Registered_to_Vote&#x27;, &#x27;Sexual_Preference&#x27;, &#x27;Web_Ordering&#x27;, &#x27;Web_Page_Creation&#x27;]</pre></div></div></div><div class=\"sk-serial\"><div class=\"sk-item\"><div class=\"sk-serial\"><div class=\"sk-item\"><div class=\"sk-estimator sk-toggleable\"><input class=\"sk-toggleable__control sk-hidden--visually\" id=\"sk-estimator-id-25\" type=\"checkbox\" ><label for=\"sk-estimator-id-25\" class=\"sk-toggleable__label sk-toggleable__label-arrow\">SimpleImputer</label><div class=\"sk-toggleable__content\"><pre>SimpleImputer(strategy=&#x27;most_frequent&#x27;)</pre></div></div></div></div></div></div></div></div><div class=\"sk-parallel-item\"><div class=\"sk-item\"><div class=\"sk-label-container\"><div class=\"sk-label sk-toggleable\"><input class=\"sk-toggleable__control sk-hidden--visually\" id=\"sk-estimator-id-26\" type=\"checkbox\" ><label for=\"sk-estimator-id-26\" class=\"sk-toggleable__label sk-toggleable__label-arrow\">cat_more9</label><div class=\"sk-toggleable__content\"><pre>[&#x27;Actual_Time&#x27;, &#x27;Country&#x27;, &#x27;Major_Geographical_Location&#x27;, &#x27;Primary_Computing_Platform&#x27;, &#x27;Primary_Language&#x27;]</pre></div></div></div><div class=\"sk-serial\"><div class=\"sk-item\"><div class=\"sk-serial\"><div class=\"sk-item\"><div class=\"sk-estimator sk-toggleable\"><input class=\"sk-toggleable__control sk-hidden--visually\" id=\"sk-estimator-id-27\" type=\"checkbox\" ><label for=\"sk-estimator-id-27\" class=\"sk-toggleable__label sk-toggleable__label-arrow\">SimpleImputer</label><div class=\"sk-toggleable__content\"><pre>SimpleImputer(strategy=&#x27;most_frequent&#x27;)</pre></div></div></div></div></div></div></div></div></div></div><div class=\"sk-item\"><div class=\"sk-estimator sk-toggleable\"><input class=\"sk-toggleable__control sk-hidden--visually\" id=\"sk-estimator-id-28\" type=\"checkbox\" ><label for=\"sk-estimator-id-28\" class=\"sk-toggleable__label sk-toggleable__label-arrow\">CatBoostClassifier</label><div class=\"sk-toggleable__content\"><pre>&lt;catboost.core.CatBoostClassifier object at 0x000001D53A07F520&gt;</pre></div></div></div></div></div></div></div></div></div></div></div></div>"
      ],
      "text/plain": [
       "RandomizedSearchCV(cv=StratifiedKFold(n_splits=3, random_state=1234, shuffle=True),\n",
       "                   estimator=Pipeline(steps=[('preprocessing',\n",
       "                                              ColumnTransformer(sparse_threshold=0,\n",
       "                                                                transformers=[('num',\n",
       "                                                                               Pipeline(steps=[('imputer',\n",
       "                                                                                                SimpleImputer(strategy='median'))]),\n",
       "                                                                               ['Community_Membership_Family',\n",
       "                                                                                'Community_Membership_Hobbies',\n",
       "                                                                                'Community_Membership_None',\n",
       "                                                                                'Community_Memb...\n",
       "                   param_distributions={'model__iterations': <scipy.stats._distn_infrastructure.rv_discrete_frozen object at 0x000001D53A07F3D0>,\n",
       "                                        'model__learning_rate': <scipy.stats._distn_infrastructure.rv_continuous_frozen object at 0x000001D53A11C910>,\n",
       "                                        'model__min_data_in_leaf': <scipy.stats._distn_infrastructure.rv_discrete_frozen object at 0x000001D53A07E7A0>},\n",
       "                   random_state=1234, scoring='balanced_accuracy')"
      ]
     },
     "execution_count": 48,
     "metadata": {},
     "output_type": "execute_result"
    }
   ],
   "source": [
    "# Display pipeline\n",
    "print(\"Time taken: \", catboost_tune_time_taken)\n",
    "catboost_tune"
   ]
  },
  {
   "cell_type": "code",
   "execution_count": 49,
   "id": "c0cea617",
   "metadata": {},
   "outputs": [],
   "source": [
    "tic = time.time()\n",
    "\n",
    "catboost_tune9 = catboost_tune9_raw.fit(X_train, y_train)\n",
    "\n",
    "toc = time.time()\n",
    "catboost_tune_time_taken9 = toc-tic"
   ]
  },
  {
   "cell_type": "code",
   "execution_count": 50,
   "id": "cfba08d0",
   "metadata": {},
   "outputs": [
    {
     "name": "stdout",
     "output_type": "stream",
     "text": [
      "Time taken:  97.95873236656189\n"
     ]
    },
    {
     "data": {
      "text/html": [
       "<style>#sk-container-id-4 {color: black;}#sk-container-id-4 pre{padding: 0;}#sk-container-id-4 div.sk-toggleable {background-color: white;}#sk-container-id-4 label.sk-toggleable__label {cursor: pointer;display: block;width: 100%;margin-bottom: 0;padding: 0.3em;box-sizing: border-box;text-align: center;}#sk-container-id-4 label.sk-toggleable__label-arrow:before {content: \"▸\";float: left;margin-right: 0.25em;color: #696969;}#sk-container-id-4 label.sk-toggleable__label-arrow:hover:before {color: black;}#sk-container-id-4 div.sk-estimator:hover label.sk-toggleable__label-arrow:before {color: black;}#sk-container-id-4 div.sk-toggleable__content {max-height: 0;max-width: 0;overflow: hidden;text-align: left;background-color: #f0f8ff;}#sk-container-id-4 div.sk-toggleable__content pre {margin: 0.2em;color: black;border-radius: 0.25em;background-color: #f0f8ff;}#sk-container-id-4 input.sk-toggleable__control:checked~div.sk-toggleable__content {max-height: 200px;max-width: 100%;overflow: auto;}#sk-container-id-4 input.sk-toggleable__control:checked~label.sk-toggleable__label-arrow:before {content: \"▾\";}#sk-container-id-4 div.sk-estimator input.sk-toggleable__control:checked~label.sk-toggleable__label {background-color: #d4ebff;}#sk-container-id-4 div.sk-label input.sk-toggleable__control:checked~label.sk-toggleable__label {background-color: #d4ebff;}#sk-container-id-4 input.sk-hidden--visually {border: 0;clip: rect(1px 1px 1px 1px);clip: rect(1px, 1px, 1px, 1px);height: 1px;margin: -1px;overflow: hidden;padding: 0;position: absolute;width: 1px;}#sk-container-id-4 div.sk-estimator {font-family: monospace;background-color: #f0f8ff;border: 1px dotted black;border-radius: 0.25em;box-sizing: border-box;margin-bottom: 0.5em;}#sk-container-id-4 div.sk-estimator:hover {background-color: #d4ebff;}#sk-container-id-4 div.sk-parallel-item::after {content: \"\";width: 100%;border-bottom: 1px solid gray;flex-grow: 1;}#sk-container-id-4 div.sk-label:hover label.sk-toggleable__label {background-color: #d4ebff;}#sk-container-id-4 div.sk-serial::before {content: \"\";position: absolute;border-left: 1px solid gray;box-sizing: border-box;top: 0;bottom: 0;left: 50%;z-index: 0;}#sk-container-id-4 div.sk-serial {display: flex;flex-direction: column;align-items: center;background-color: white;padding-right: 0.2em;padding-left: 0.2em;position: relative;}#sk-container-id-4 div.sk-item {position: relative;z-index: 1;}#sk-container-id-4 div.sk-parallel {display: flex;align-items: stretch;justify-content: center;background-color: white;position: relative;}#sk-container-id-4 div.sk-item::before, #sk-container-id-4 div.sk-parallel-item::before {content: \"\";position: absolute;border-left: 1px solid gray;box-sizing: border-box;top: 0;bottom: 0;left: 50%;z-index: -1;}#sk-container-id-4 div.sk-parallel-item {display: flex;flex-direction: column;z-index: 1;position: relative;background-color: white;}#sk-container-id-4 div.sk-parallel-item:first-child::after {align-self: flex-end;width: 50%;}#sk-container-id-4 div.sk-parallel-item:last-child::after {align-self: flex-start;width: 50%;}#sk-container-id-4 div.sk-parallel-item:only-child::after {width: 0;}#sk-container-id-4 div.sk-dashed-wrapped {border: 1px dashed gray;margin: 0 0.4em 0.5em 0.4em;box-sizing: border-box;padding-bottom: 0.4em;background-color: white;}#sk-container-id-4 div.sk-label label {font-family: monospace;font-weight: bold;display: inline-block;line-height: 1.2em;}#sk-container-id-4 div.sk-label-container {text-align: center;}#sk-container-id-4 div.sk-container {/* jupyter's `normalize.less` sets `[hidden] { display: none; }` but bootstrap.min.css set `[hidden] { display: none !important; }` so we also need the `!important` here to be able to override the default hidden behavior on the sphinx rendered scikit-learn.org. See: https://github.com/scikit-learn/scikit-learn/issues/21755 */display: inline-block !important;position: relative;}#sk-container-id-4 div.sk-text-repr-fallback {display: none;}</style><div id=\"sk-container-id-4\" class=\"sk-top-container\"><div class=\"sk-text-repr-fallback\"><pre>RandomizedSearchCV(cv=StratifiedKFold(n_splits=3, random_state=1234, shuffle=True),\n",
       "                   estimator=Pipeline(steps=[(&#x27;preprocessing&#x27;,\n",
       "                                              ColumnTransformer(sparse_threshold=0,\n",
       "                                                                transformers=[(&#x27;num&#x27;,\n",
       "                                                                               Pipeline(steps=[(&#x27;imputer&#x27;,\n",
       "                                                                                                SimpleImputer(strategy=&#x27;median&#x27;))]),\n",
       "                                                                               [&#x27;Community_Membership_Family&#x27;,\n",
       "                                                                                &#x27;Community_Membership_Hobbies&#x27;,\n",
       "                                                                                &#x27;Community_Membership_None&#x27;,\n",
       "                                                                                &#x27;Community_Memb...\n",
       "                   param_distributions={&#x27;model__iterations&#x27;: &lt;scipy.stats._distn_infrastructure.rv_discrete_frozen object at 0x000001D53A07F3D0&gt;,\n",
       "                                        &#x27;model__learning_rate&#x27;: &lt;scipy.stats._distn_infrastructure.rv_continuous_frozen object at 0x000001D53A11C910&gt;,\n",
       "                                        &#x27;model__min_data_in_leaf&#x27;: &lt;scipy.stats._distn_infrastructure.rv_discrete_frozen object at 0x000001D53A07E7A0&gt;},\n",
       "                   random_state=1234, scoring=&#x27;balanced_accuracy&#x27;)</pre><b>In a Jupyter environment, please rerun this cell to show the HTML representation or trust the notebook. <br />On GitHub, the HTML representation is unable to render, please try loading this page with nbviewer.org.</b></div><div class=\"sk-container\" hidden><div class=\"sk-item sk-dashed-wrapped\"><div class=\"sk-label-container\"><div class=\"sk-label sk-toggleable\"><input class=\"sk-toggleable__control sk-hidden--visually\" id=\"sk-estimator-id-29\" type=\"checkbox\" ><label for=\"sk-estimator-id-29\" class=\"sk-toggleable__label sk-toggleable__label-arrow\">RandomizedSearchCV</label><div class=\"sk-toggleable__content\"><pre>RandomizedSearchCV(cv=StratifiedKFold(n_splits=3, random_state=1234, shuffle=True),\n",
       "                   estimator=Pipeline(steps=[(&#x27;preprocessing&#x27;,\n",
       "                                              ColumnTransformer(sparse_threshold=0,\n",
       "                                                                transformers=[(&#x27;num&#x27;,\n",
       "                                                                               Pipeline(steps=[(&#x27;imputer&#x27;,\n",
       "                                                                                                SimpleImputer(strategy=&#x27;median&#x27;))]),\n",
       "                                                                               [&#x27;Community_Membership_Family&#x27;,\n",
       "                                                                                &#x27;Community_Membership_Hobbies&#x27;,\n",
       "                                                                                &#x27;Community_Membership_None&#x27;,\n",
       "                                                                                &#x27;Community_Memb...\n",
       "                   param_distributions={&#x27;model__iterations&#x27;: &lt;scipy.stats._distn_infrastructure.rv_discrete_frozen object at 0x000001D53A07F3D0&gt;,\n",
       "                                        &#x27;model__learning_rate&#x27;: &lt;scipy.stats._distn_infrastructure.rv_continuous_frozen object at 0x000001D53A11C910&gt;,\n",
       "                                        &#x27;model__min_data_in_leaf&#x27;: &lt;scipy.stats._distn_infrastructure.rv_discrete_frozen object at 0x000001D53A07E7A0&gt;},\n",
       "                   random_state=1234, scoring=&#x27;balanced_accuracy&#x27;)</pre></div></div></div><div class=\"sk-parallel\"><div class=\"sk-parallel-item\"><div class=\"sk-item\"><div class=\"sk-label-container\"><div class=\"sk-label sk-toggleable\"><input class=\"sk-toggleable__control sk-hidden--visually\" id=\"sk-estimator-id-30\" type=\"checkbox\" ><label for=\"sk-estimator-id-30\" class=\"sk-toggleable__label sk-toggleable__label-arrow\">estimator: Pipeline</label><div class=\"sk-toggleable__content\"><pre>Pipeline(steps=[(&#x27;preprocessing&#x27;,\n",
       "                 ColumnTransformer(sparse_threshold=0,\n",
       "                                   transformers=[(&#x27;num&#x27;,\n",
       "                                                  Pipeline(steps=[(&#x27;imputer&#x27;,\n",
       "                                                                   SimpleImputer(strategy=&#x27;median&#x27;))]),\n",
       "                                                  [&#x27;Community_Membership_Family&#x27;,\n",
       "                                                   &#x27;Community_Membership_Hobbies&#x27;,\n",
       "                                                   &#x27;Community_Membership_None&#x27;,\n",
       "                                                   &#x27;Community_Membership_Other&#x27;,\n",
       "                                                   &#x27;Community_Membership_Political&#x27;,\n",
       "                                                   &#x27;Community_Membership_Professional&#x27;,\n",
       "                                                   &#x27;Communi...\n",
       "                                                   &#x27;Primary_Place_of_WWW_Access&#x27;,\n",
       "                                                   &#x27;Race&#x27;, &#x27;Registered_to_Vote&#x27;,\n",
       "                                                   &#x27;Sexual_Preference&#x27;,\n",
       "                                                   &#x27;Web_Ordering&#x27;,\n",
       "                                                   &#x27;Web_Page_Creation&#x27;]),\n",
       "                                                 (&#x27;cat_more9&#x27;,\n",
       "                                                  Pipeline(steps=[(&#x27;imputer&#x27;,\n",
       "                                                                   SimpleImputer(strategy=&#x27;most_frequent&#x27;))]),\n",
       "                                                  [&#x27;Actual_Time&#x27;, &#x27;Country&#x27;,\n",
       "                                                   &#x27;Major_Geographical_Location&#x27;,\n",
       "                                                   &#x27;Primary_Computing_Platform&#x27;,\n",
       "                                                   &#x27;Primary_Language&#x27;])])),\n",
       "                (&#x27;model&#x27;,\n",
       "                 &lt;catboost.core.CatBoostClassifier object at 0x000001D53A07F520&gt;)])</pre></div></div></div><div class=\"sk-serial\"><div class=\"sk-item\"><div class=\"sk-serial\"><div class=\"sk-item sk-dashed-wrapped\"><div class=\"sk-label-container\"><div class=\"sk-label sk-toggleable\"><input class=\"sk-toggleable__control sk-hidden--visually\" id=\"sk-estimator-id-31\" type=\"checkbox\" ><label for=\"sk-estimator-id-31\" class=\"sk-toggleable__label sk-toggleable__label-arrow\">preprocessing: ColumnTransformer</label><div class=\"sk-toggleable__content\"><pre>ColumnTransformer(sparse_threshold=0,\n",
       "                  transformers=[(&#x27;num&#x27;,\n",
       "                                 Pipeline(steps=[(&#x27;imputer&#x27;,\n",
       "                                                  SimpleImputer(strategy=&#x27;median&#x27;))]),\n",
       "                                 [&#x27;Community_Membership_Family&#x27;,\n",
       "                                  &#x27;Community_Membership_Hobbies&#x27;,\n",
       "                                  &#x27;Community_Membership_None&#x27;,\n",
       "                                  &#x27;Community_Membership_Other&#x27;,\n",
       "                                  &#x27;Community_Membership_Political&#x27;,\n",
       "                                  &#x27;Community_Membership_Professional&#x27;,\n",
       "                                  &#x27;Community_Membership_Religious&#x27;,\n",
       "                                  &#x27;Communi...\n",
       "                                  &#x27;Most_Import_Issue_Facing_the_Internet&#x27;,\n",
       "                                  &#x27;Opinions_on_Censorship&#x27;,\n",
       "                                  &#x27;Primary_Place_of_WWW_Access&#x27;, &#x27;Race&#x27;,\n",
       "                                  &#x27;Registered_to_Vote&#x27;, &#x27;Sexual_Preference&#x27;,\n",
       "                                  &#x27;Web_Ordering&#x27;, &#x27;Web_Page_Creation&#x27;]),\n",
       "                                (&#x27;cat_more9&#x27;,\n",
       "                                 Pipeline(steps=[(&#x27;imputer&#x27;,\n",
       "                                                  SimpleImputer(strategy=&#x27;most_frequent&#x27;))]),\n",
       "                                 [&#x27;Actual_Time&#x27;, &#x27;Country&#x27;,\n",
       "                                  &#x27;Major_Geographical_Location&#x27;,\n",
       "                                  &#x27;Primary_Computing_Platform&#x27;,\n",
       "                                  &#x27;Primary_Language&#x27;])])</pre></div></div></div><div class=\"sk-parallel\"><div class=\"sk-parallel-item\"><div class=\"sk-item\"><div class=\"sk-label-container\"><div class=\"sk-label sk-toggleable\"><input class=\"sk-toggleable__control sk-hidden--visually\" id=\"sk-estimator-id-32\" type=\"checkbox\" ><label for=\"sk-estimator-id-32\" class=\"sk-toggleable__label sk-toggleable__label-arrow\">num</label><div class=\"sk-toggleable__content\"><pre>[&#x27;Community_Membership_Family&#x27;, &#x27;Community_Membership_Hobbies&#x27;, &#x27;Community_Membership_None&#x27;, &#x27;Community_Membership_Other&#x27;, &#x27;Community_Membership_Political&#x27;, &#x27;Community_Membership_Professional&#x27;, &#x27;Community_Membership_Religious&#x27;, &#x27;Community_Membership_Support&#x27;, &#x27;Disability_Cognitive&#x27;, &#x27;Disability_Hearing&#x27;, &#x27;Disability_Motor&#x27;, &#x27;Disability_Not_Impaired&#x27;, &#x27;Disability_Not_Say&#x27;, &#x27;Disability_Vision&#x27;, &#x27;Gender&#x27;, &#x27;How_You_Heard_About_Survey_Banner&#x27;, &#x27;How_You_Heard_About_Survey_Friend&#x27;, &#x27;How_You_Heard_About_Survey_Mailing_List&#x27;, &#x27;How_You_Heard_About_Survey_Others&#x27;, &#x27;How_You_Heard_About_Survey_Printed_Media&#x27;, &#x27;How_You_Heard_About_Survey_Remebered&#x27;, &#x27;How_You_Heard_About_Survey_Search_Engine&#x27;, &#x27;How_You_Heard_About_Survey_Usenet_News&#x27;, &#x27;How_You_Heard_About_Survey_WWW_Page&#x27;, &#x27;Not_Purchasing_Bad_experience&#x27;, &#x27;Not_Purchasing_Bad_press&#x27;, &#x27;Not_Purchasing_Cant_find&#x27;, &#x27;Not_Purchasing_Company_policy&#x27;, &#x27;Not_Purchasing_Easier_locally&#x27;, &#x27;Not_Purchasing_Enough_info&#x27;, &#x27;Not_Purchasing_Judge_quality&#x27;, &#x27;Not_Purchasing_Never_tried&#x27;, &#x27;Not_Purchasing_No_credit&#x27;, &#x27;Not_Purchasing_Not_applicable&#x27;, &#x27;Not_Purchasing_Not_option&#x27;, &#x27;Not_Purchasing_Other&#x27;, &#x27;Not_Purchasing_Prefer_people&#x27;, &#x27;Not_Purchasing_Privacy&#x27;, &#x27;Not_Purchasing_Receipt&#x27;, &#x27;Not_Purchasing_Security&#x27;, &#x27;Not_Purchasing_Too_complicated&#x27;, &#x27;Not_Purchasing_Uncomfortable&#x27;, &#x27;Not_Purchasing_Unfamiliar_vendor&#x27;, &#x27;Who_Pays_for_Access_Dont_Know&#x27;, &#x27;Who_Pays_for_Access_Other&#x27;, &#x27;Who_Pays_for_Access_Parents&#x27;, &#x27;Who_Pays_for_Access_School&#x27;, &#x27;Who_Pays_for_Access_Self&#x27;]</pre></div></div></div><div class=\"sk-serial\"><div class=\"sk-item\"><div class=\"sk-serial\"><div class=\"sk-item\"><div class=\"sk-estimator sk-toggleable\"><input class=\"sk-toggleable__control sk-hidden--visually\" id=\"sk-estimator-id-33\" type=\"checkbox\" ><label for=\"sk-estimator-id-33\" class=\"sk-toggleable__label sk-toggleable__label-arrow\">SimpleImputer</label><div class=\"sk-toggleable__content\"><pre>SimpleImputer(strategy=&#x27;median&#x27;)</pre></div></div></div></div></div></div></div></div><div class=\"sk-parallel-item\"><div class=\"sk-item\"><div class=\"sk-label-container\"><div class=\"sk-label sk-toggleable\"><input class=\"sk-toggleable__control sk-hidden--visually\" id=\"sk-estimator-id-34\" type=\"checkbox\" ><label for=\"sk-estimator-id-34\" class=\"sk-toggleable__label sk-toggleable__label-arrow\">cat_less9</label><div class=\"sk-toggleable__content\"><pre>[&#x27;Community_Building&#x27;, &#x27;Education_Attainment&#x27;, &#x27;Falsification_of_Information&#x27;, &#x27;Household_Income&#x27;, &#x27;Major_Occupation&#x27;, &#x27;Marital_Status&#x27;, &#x27;Most_Import_Issue_Facing_the_Internet&#x27;, &#x27;Opinions_on_Censorship&#x27;, &#x27;Primary_Place_of_WWW_Access&#x27;, &#x27;Race&#x27;, &#x27;Registered_to_Vote&#x27;, &#x27;Sexual_Preference&#x27;, &#x27;Web_Ordering&#x27;, &#x27;Web_Page_Creation&#x27;]</pre></div></div></div><div class=\"sk-serial\"><div class=\"sk-item\"><div class=\"sk-serial\"><div class=\"sk-item\"><div class=\"sk-estimator sk-toggleable\"><input class=\"sk-toggleable__control sk-hidden--visually\" id=\"sk-estimator-id-35\" type=\"checkbox\" ><label for=\"sk-estimator-id-35\" class=\"sk-toggleable__label sk-toggleable__label-arrow\">SimpleImputer</label><div class=\"sk-toggleable__content\"><pre>SimpleImputer(strategy=&#x27;most_frequent&#x27;)</pre></div></div></div></div></div></div></div></div><div class=\"sk-parallel-item\"><div class=\"sk-item\"><div class=\"sk-label-container\"><div class=\"sk-label sk-toggleable\"><input class=\"sk-toggleable__control sk-hidden--visually\" id=\"sk-estimator-id-36\" type=\"checkbox\" ><label for=\"sk-estimator-id-36\" class=\"sk-toggleable__label sk-toggleable__label-arrow\">cat_more9</label><div class=\"sk-toggleable__content\"><pre>[&#x27;Actual_Time&#x27;, &#x27;Country&#x27;, &#x27;Major_Geographical_Location&#x27;, &#x27;Primary_Computing_Platform&#x27;, &#x27;Primary_Language&#x27;]</pre></div></div></div><div class=\"sk-serial\"><div class=\"sk-item\"><div class=\"sk-serial\"><div class=\"sk-item\"><div class=\"sk-estimator sk-toggleable\"><input class=\"sk-toggleable__control sk-hidden--visually\" id=\"sk-estimator-id-37\" type=\"checkbox\" ><label for=\"sk-estimator-id-37\" class=\"sk-toggleable__label sk-toggleable__label-arrow\">SimpleImputer</label><div class=\"sk-toggleable__content\"><pre>SimpleImputer(strategy=&#x27;most_frequent&#x27;)</pre></div></div></div></div></div></div></div></div></div></div><div class=\"sk-item\"><div class=\"sk-estimator sk-toggleable\"><input class=\"sk-toggleable__control sk-hidden--visually\" id=\"sk-estimator-id-38\" type=\"checkbox\" ><label for=\"sk-estimator-id-38\" class=\"sk-toggleable__label sk-toggleable__label-arrow\">CatBoostClassifier</label><div class=\"sk-toggleable__content\"><pre>&lt;catboost.core.CatBoostClassifier object at 0x000001D53A07F520&gt;</pre></div></div></div></div></div></div></div></div></div></div></div></div>"
      ],
      "text/plain": [
       "RandomizedSearchCV(cv=StratifiedKFold(n_splits=3, random_state=1234, shuffle=True),\n",
       "                   estimator=Pipeline(steps=[('preprocessing',\n",
       "                                              ColumnTransformer(sparse_threshold=0,\n",
       "                                                                transformers=[('num',\n",
       "                                                                               Pipeline(steps=[('imputer',\n",
       "                                                                                                SimpleImputer(strategy='median'))]),\n",
       "                                                                               ['Community_Membership_Family',\n",
       "                                                                                'Community_Membership_Hobbies',\n",
       "                                                                                'Community_Membership_None',\n",
       "                                                                                'Community_Memb...\n",
       "                   param_distributions={'model__iterations': <scipy.stats._distn_infrastructure.rv_discrete_frozen object at 0x000001D53A07F3D0>,\n",
       "                                        'model__learning_rate': <scipy.stats._distn_infrastructure.rv_continuous_frozen object at 0x000001D53A11C910>,\n",
       "                                        'model__min_data_in_leaf': <scipy.stats._distn_infrastructure.rv_discrete_frozen object at 0x000001D53A07E7A0>},\n",
       "                   random_state=1234, scoring='balanced_accuracy')"
      ]
     },
     "execution_count": 50,
     "metadata": {},
     "output_type": "execute_result"
    }
   ],
   "source": [
    "# Display pipeline\n",
    "print(\"Time taken: \", catboost_tune_time_taken9)\n",
    "catboost_tune9"
   ]
  },
  {
   "cell_type": "code",
   "execution_count": 520,
   "id": "a17283f6",
   "metadata": {},
   "outputs": [
    {
     "name": "stdout",
     "output_type": "stream",
     "text": [
      "Best parameters: {'model__iterations': 169, 'model__learning_rate': 0.142642226621253, 'model__min_data_in_leaf': 25}\n",
      "Balanced accuracy with best parameters: 0.8882849092505855\n"
     ]
    }
   ],
   "source": [
    "# Predict using the model with the best parameters\n",
    "y_catboost_tune_pred = catboost_tune.predict(X_test)\n",
    "\n",
    "# Get the best parameters\n",
    "catboost_tune_best_params = catboost_tune.best_params_\n",
    "print(f'Best parameters: {catboost_tune_best_params}')\n",
    "\n",
    "# Calculate balanced accuracy for the model with the best parameters\n",
    "catboost_tune_accuracy = balanced_accuracy_score(y_test, y_catboost_tune_pred)\n",
    "print(f'Balanced accuracy with best parameters: {catboost_tune_accuracy}')\n",
    "\n",
    "# Save results\n",
    "default_summary.append(\"Tune\")\n",
    "card_9_summary.append(\"AllVariables\")\n",
    "encoder_summary.append(\"CatboostNativeSupport\")\n",
    "value_summary.append(catboost_tune_accuracy)\n",
    "time_summary.append(catboost_tune_time_taken)\n",
    "n_models_summary.append(catboost_tune.n_iter)"
   ]
  },
  {
   "cell_type": "code",
   "execution_count": 521,
   "id": "6812cae0",
   "metadata": {},
   "outputs": [
    {
     "name": "stdout",
     "output_type": "stream",
     "text": [
      "Best parameters: {'model__iterations': 169, 'model__learning_rate': 0.142642226621253, 'model__min_data_in_leaf': 25}\n",
      "Balanced accuracy with best parameters: 0.8882849092505855\n"
     ]
    }
   ],
   "source": [
    "# Predict using the model with the best parameters\n",
    "y_catboost_tune_pred9 = catboost_tune9.predict(X_test)\n",
    "\n",
    "# Get the best parameters\n",
    "catboost_tune_best_params9 = catboost_tune9.best_params_\n",
    "print(f'Best parameters: {catboost_tune_best_params9}')\n",
    "\n",
    "# Calculate balanced accuracy for the model with the best parameters\n",
    "catboost_tune_accuracy9 = balanced_accuracy_score(y_test, y_catboost_tune_pred9)\n",
    "print(f'Balanced accuracy with best parameters: {catboost_tune_accuracy9}')\n",
    "\n",
    "# Save results\n",
    "default_summary.append(\"Tune\")\n",
    "card_9_summary.append(\"OnlyVariablesWithCard>9\")\n",
    "encoder_summary.append(\"CatboostNativeSupport\")\n",
    "value_summary.append(catboost_tune_accuracy9)\n",
    "time_summary.append(catboost_tune_time_taken9)\n",
    "n_models_summary.append(catboost_tune9.n_iter)"
   ]
  },
  {
   "cell_type": "markdown",
   "metadata": {},
   "source": [
    "### Results Summary"
   ]
  },
  {
   "cell_type": "code",
   "execution_count": 522,
   "metadata": {},
   "outputs": [
    {
     "data": {
      "text/html": [
       "<div>\n",
       "<style scoped>\n",
       "    .dataframe tbody tr th:only-of-type {\n",
       "        vertical-align: middle;\n",
       "    }\n",
       "\n",
       "    .dataframe tbody tr th {\n",
       "        vertical-align: top;\n",
       "    }\n",
       "\n",
       "    .dataframe thead th {\n",
       "        text-align: right;\n",
       "    }\n",
       "</style>\n",
       "<table border=\"1\" class=\"dataframe\">\n",
       "  <thead>\n",
       "    <tr style=\"text-align: right;\">\n",
       "      <th></th>\n",
       "      <th>Dataset</th>\n",
       "      <th>Variables</th>\n",
       "      <th>Default/Tune</th>\n",
       "      <th>Encoder</th>\n",
       "      <th>Metric</th>\n",
       "      <th>Value</th>\n",
       "      <th>Time</th>\n",
       "      <th>Iterations</th>\n",
       "      <th>mean_Time</th>\n",
       "    </tr>\n",
       "  </thead>\n",
       "  <tbody>\n",
       "    <tr>\n",
       "      <th>0</th>\n",
       "      <td>kdd_internet_usage</td>\n",
       "      <td>AllVariables</td>\n",
       "      <td>Default</td>\n",
       "      <td>OneHotEncoding</td>\n",
       "      <td>BalancedAccuracy</td>\n",
       "      <td>0.879391</td>\n",
       "      <td>4.347279</td>\n",
       "      <td>1</td>\n",
       "      <td>4.347279</td>\n",
       "    </tr>\n",
       "    <tr>\n",
       "      <th>1</th>\n",
       "      <td>kdd_internet_usage</td>\n",
       "      <td>AllVariables</td>\n",
       "      <td>Tune</td>\n",
       "      <td>OneHotEncoding</td>\n",
       "      <td>BalancedAccuracy</td>\n",
       "      <td>0.883023</td>\n",
       "      <td>232.338542</td>\n",
       "      <td>20</td>\n",
       "      <td>11.616927</td>\n",
       "    </tr>\n",
       "    <tr>\n",
       "      <th>2</th>\n",
       "      <td>kdd_internet_usage</td>\n",
       "      <td>AllVariables</td>\n",
       "      <td>Default</td>\n",
       "      <td>CountEncoding</td>\n",
       "      <td>BalancedAccuracy</td>\n",
       "      <td>0.885573</td>\n",
       "      <td>0.996492</td>\n",
       "      <td>1</td>\n",
       "      <td>0.996492</td>\n",
       "    </tr>\n",
       "    <tr>\n",
       "      <th>3</th>\n",
       "      <td>kdd_internet_usage</td>\n",
       "      <td>OnlyVariablesWithCard&gt;9</td>\n",
       "      <td>Default</td>\n",
       "      <td>CountEncoding</td>\n",
       "      <td>BalancedAccuracy</td>\n",
       "      <td>0.884810</td>\n",
       "      <td>1.443461</td>\n",
       "      <td>1</td>\n",
       "      <td>1.443461</td>\n",
       "    </tr>\n",
       "    <tr>\n",
       "      <th>4</th>\n",
       "      <td>kdd_internet_usage</td>\n",
       "      <td>AllVariables</td>\n",
       "      <td>Tune</td>\n",
       "      <td>CountEncoding</td>\n",
       "      <td>BalancedAccuracy</td>\n",
       "      <td>0.880873</td>\n",
       "      <td>25.306138</td>\n",
       "      <td>20</td>\n",
       "      <td>1.265307</td>\n",
       "    </tr>\n",
       "    <tr>\n",
       "      <th>5</th>\n",
       "      <td>kdd_internet_usage</td>\n",
       "      <td>OnlyVariablesWithCard&gt;9</td>\n",
       "      <td>Tune</td>\n",
       "      <td>CountEncoding</td>\n",
       "      <td>BalancedAccuracy</td>\n",
       "      <td>0.886031</td>\n",
       "      <td>49.401611</td>\n",
       "      <td>20</td>\n",
       "      <td>2.470081</td>\n",
       "    </tr>\n",
       "    <tr>\n",
       "      <th>6</th>\n",
       "      <td>kdd_internet_usage</td>\n",
       "      <td>AllVariables</td>\n",
       "      <td>Default</td>\n",
       "      <td>OrdinalEncoder</td>\n",
       "      <td>BalancedAccuracy</td>\n",
       "      <td>0.884287</td>\n",
       "      <td>0.935205</td>\n",
       "      <td>1</td>\n",
       "      <td>0.935205</td>\n",
       "    </tr>\n",
       "    <tr>\n",
       "      <th>7</th>\n",
       "      <td>kdd_internet_usage</td>\n",
       "      <td>OnlyVariablesWithCard&gt;9</td>\n",
       "      <td>Default</td>\n",
       "      <td>OrdinalEncoder</td>\n",
       "      <td>BalancedAccuracy</td>\n",
       "      <td>0.882317</td>\n",
       "      <td>1.344811</td>\n",
       "      <td>1</td>\n",
       "      <td>1.344811</td>\n",
       "    </tr>\n",
       "    <tr>\n",
       "      <th>8</th>\n",
       "      <td>kdd_internet_usage</td>\n",
       "      <td>AllVariables</td>\n",
       "      <td>Tune</td>\n",
       "      <td>OrdinalEncoder</td>\n",
       "      <td>BalancedAccuracy</td>\n",
       "      <td>0.887295</td>\n",
       "      <td>23.362928</td>\n",
       "      <td>20</td>\n",
       "      <td>1.168146</td>\n",
       "    </tr>\n",
       "    <tr>\n",
       "      <th>9</th>\n",
       "      <td>kdd_internet_usage</td>\n",
       "      <td>OnlyVariablesWithCard&gt;9</td>\n",
       "      <td>Tune</td>\n",
       "      <td>OrdinalEncoder</td>\n",
       "      <td>BalancedAccuracy</td>\n",
       "      <td>0.875794</td>\n",
       "      <td>47.762805</td>\n",
       "      <td>20</td>\n",
       "      <td>2.388140</td>\n",
       "    </tr>\n",
       "    <tr>\n",
       "      <th>10</th>\n",
       "      <td>kdd_internet_usage</td>\n",
       "      <td>AllVariables</td>\n",
       "      <td>Default</td>\n",
       "      <td>HGB_NativeSupport</td>\n",
       "      <td>BalancedAccuracy</td>\n",
       "      <td>0.877840</td>\n",
       "      <td>1.069634</td>\n",
       "      <td>1</td>\n",
       "      <td>1.069634</td>\n",
       "    </tr>\n",
       "    <tr>\n",
       "      <th>11</th>\n",
       "      <td>kdd_internet_usage</td>\n",
       "      <td>OnlyVariablesWithCard&gt;9</td>\n",
       "      <td>Default</td>\n",
       "      <td>HGB_NativeSupport</td>\n",
       "      <td>BalancedAccuracy</td>\n",
       "      <td>0.874116</td>\n",
       "      <td>1.446973</td>\n",
       "      <td>1</td>\n",
       "      <td>1.446973</td>\n",
       "    </tr>\n",
       "    <tr>\n",
       "      <th>12</th>\n",
       "      <td>kdd_internet_usage</td>\n",
       "      <td>AllVariables</td>\n",
       "      <td>Tune</td>\n",
       "      <td>HGB_NativeSupport</td>\n",
       "      <td>BalancedAccuracy</td>\n",
       "      <td>0.880337</td>\n",
       "      <td>27.939180</td>\n",
       "      <td>20</td>\n",
       "      <td>1.396959</td>\n",
       "    </tr>\n",
       "    <tr>\n",
       "      <th>13</th>\n",
       "      <td>kdd_internet_usage</td>\n",
       "      <td>OnlyVariablesWithCard&gt;9</td>\n",
       "      <td>Tune</td>\n",
       "      <td>HGB_NativeSupport</td>\n",
       "      <td>BalancedAccuracy</td>\n",
       "      <td>0.881488</td>\n",
       "      <td>55.066074</td>\n",
       "      <td>20</td>\n",
       "      <td>2.753304</td>\n",
       "    </tr>\n",
       "    <tr>\n",
       "      <th>14</th>\n",
       "      <td>kdd_internet_usage</td>\n",
       "      <td>AllVariables</td>\n",
       "      <td>Default</td>\n",
       "      <td>TargetEncoder</td>\n",
       "      <td>BalancedAccuracy</td>\n",
       "      <td>0.882443</td>\n",
       "      <td>0.961206</td>\n",
       "      <td>1</td>\n",
       "      <td>0.961206</td>\n",
       "    </tr>\n",
       "    <tr>\n",
       "      <th>15</th>\n",
       "      <td>kdd_internet_usage</td>\n",
       "      <td>OnlyVariablesWithCard&gt;9</td>\n",
       "      <td>Default</td>\n",
       "      <td>TargetEncoder</td>\n",
       "      <td>BalancedAccuracy</td>\n",
       "      <td>0.882783</td>\n",
       "      <td>1.307455</td>\n",
       "      <td>1</td>\n",
       "      <td>1.307455</td>\n",
       "    </tr>\n",
       "    <tr>\n",
       "      <th>16</th>\n",
       "      <td>kdd_internet_usage</td>\n",
       "      <td>AllVariables</td>\n",
       "      <td>Tune</td>\n",
       "      <td>TargetEncoder</td>\n",
       "      <td>BalancedAccuracy</td>\n",
       "      <td>0.879905</td>\n",
       "      <td>24.141162</td>\n",
       "      <td>20</td>\n",
       "      <td>1.207058</td>\n",
       "    </tr>\n",
       "    <tr>\n",
       "      <th>17</th>\n",
       "      <td>kdd_internet_usage</td>\n",
       "      <td>OnlyVariablesWithCard&gt;9</td>\n",
       "      <td>Tune</td>\n",
       "      <td>TargetEncoder</td>\n",
       "      <td>BalancedAccuracy</td>\n",
       "      <td>0.880075</td>\n",
       "      <td>49.048254</td>\n",
       "      <td>20</td>\n",
       "      <td>2.452413</td>\n",
       "    </tr>\n",
       "    <tr>\n",
       "      <th>18</th>\n",
       "      <td>kdd_internet_usage</td>\n",
       "      <td>AllVariables</td>\n",
       "      <td>Default</td>\n",
       "      <td>CatboostNativeSupport</td>\n",
       "      <td>BalancedAccuracy</td>\n",
       "      <td>0.889811</td>\n",
       "      <td>26.348343</td>\n",
       "      <td>1</td>\n",
       "      <td>26.348343</td>\n",
       "    </tr>\n",
       "    <tr>\n",
       "      <th>19</th>\n",
       "      <td>kdd_internet_usage</td>\n",
       "      <td>OnlyVariablesWithCard&gt;9</td>\n",
       "      <td>Default</td>\n",
       "      <td>CatboostNativeSupport</td>\n",
       "      <td>BalancedAccuracy</td>\n",
       "      <td>0.889811</td>\n",
       "      <td>26.307296</td>\n",
       "      <td>1</td>\n",
       "      <td>26.307296</td>\n",
       "    </tr>\n",
       "    <tr>\n",
       "      <th>20</th>\n",
       "      <td>kdd_internet_usage</td>\n",
       "      <td>AllVariables</td>\n",
       "      <td>Tune</td>\n",
       "      <td>CatboostNativeSupport</td>\n",
       "      <td>BalancedAccuracy</td>\n",
       "      <td>0.888285</td>\n",
       "      <td>84.052415</td>\n",
       "      <td>20</td>\n",
       "      <td>4.202621</td>\n",
       "    </tr>\n",
       "    <tr>\n",
       "      <th>21</th>\n",
       "      <td>kdd_internet_usage</td>\n",
       "      <td>OnlyVariablesWithCard&gt;9</td>\n",
       "      <td>Tune</td>\n",
       "      <td>CatboostNativeSupport</td>\n",
       "      <td>BalancedAccuracy</td>\n",
       "      <td>0.888285</td>\n",
       "      <td>84.648079</td>\n",
       "      <td>20</td>\n",
       "      <td>4.232404</td>\n",
       "    </tr>\n",
       "  </tbody>\n",
       "</table>\n",
       "</div>"
      ],
      "text/plain": [
       "               Dataset                Variables Default/Tune  \\\n",
       "0   kdd_internet_usage             AllVariables      Default   \n",
       "1   kdd_internet_usage             AllVariables         Tune   \n",
       "2   kdd_internet_usage             AllVariables      Default   \n",
       "3   kdd_internet_usage  OnlyVariablesWithCard>9      Default   \n",
       "4   kdd_internet_usage             AllVariables         Tune   \n",
       "5   kdd_internet_usage  OnlyVariablesWithCard>9         Tune   \n",
       "6   kdd_internet_usage             AllVariables      Default   \n",
       "7   kdd_internet_usage  OnlyVariablesWithCard>9      Default   \n",
       "8   kdd_internet_usage             AllVariables         Tune   \n",
       "9   kdd_internet_usage  OnlyVariablesWithCard>9         Tune   \n",
       "10  kdd_internet_usage             AllVariables      Default   \n",
       "11  kdd_internet_usage  OnlyVariablesWithCard>9      Default   \n",
       "12  kdd_internet_usage             AllVariables         Tune   \n",
       "13  kdd_internet_usage  OnlyVariablesWithCard>9         Tune   \n",
       "14  kdd_internet_usage             AllVariables      Default   \n",
       "15  kdd_internet_usage  OnlyVariablesWithCard>9      Default   \n",
       "16  kdd_internet_usage             AllVariables         Tune   \n",
       "17  kdd_internet_usage  OnlyVariablesWithCard>9         Tune   \n",
       "18  kdd_internet_usage             AllVariables      Default   \n",
       "19  kdd_internet_usage  OnlyVariablesWithCard>9      Default   \n",
       "20  kdd_internet_usage             AllVariables         Tune   \n",
       "21  kdd_internet_usage  OnlyVariablesWithCard>9         Tune   \n",
       "\n",
       "                  Encoder            Metric     Value        Time  Iterations  \\\n",
       "0          OneHotEncoding  BalancedAccuracy  0.879391    4.347279           1   \n",
       "1          OneHotEncoding  BalancedAccuracy  0.883023  232.338542          20   \n",
       "2           CountEncoding  BalancedAccuracy  0.885573    0.996492           1   \n",
       "3           CountEncoding  BalancedAccuracy  0.884810    1.443461           1   \n",
       "4           CountEncoding  BalancedAccuracy  0.880873   25.306138          20   \n",
       "5           CountEncoding  BalancedAccuracy  0.886031   49.401611          20   \n",
       "6          OrdinalEncoder  BalancedAccuracy  0.884287    0.935205           1   \n",
       "7          OrdinalEncoder  BalancedAccuracy  0.882317    1.344811           1   \n",
       "8          OrdinalEncoder  BalancedAccuracy  0.887295   23.362928          20   \n",
       "9          OrdinalEncoder  BalancedAccuracy  0.875794   47.762805          20   \n",
       "10      HGB_NativeSupport  BalancedAccuracy  0.877840    1.069634           1   \n",
       "11      HGB_NativeSupport  BalancedAccuracy  0.874116    1.446973           1   \n",
       "12      HGB_NativeSupport  BalancedAccuracy  0.880337   27.939180          20   \n",
       "13      HGB_NativeSupport  BalancedAccuracy  0.881488   55.066074          20   \n",
       "14          TargetEncoder  BalancedAccuracy  0.882443    0.961206           1   \n",
       "15          TargetEncoder  BalancedAccuracy  0.882783    1.307455           1   \n",
       "16          TargetEncoder  BalancedAccuracy  0.879905   24.141162          20   \n",
       "17          TargetEncoder  BalancedAccuracy  0.880075   49.048254          20   \n",
       "18  CatboostNativeSupport  BalancedAccuracy  0.889811   26.348343           1   \n",
       "19  CatboostNativeSupport  BalancedAccuracy  0.889811   26.307296           1   \n",
       "20  CatboostNativeSupport  BalancedAccuracy  0.888285   84.052415          20   \n",
       "21  CatboostNativeSupport  BalancedAccuracy  0.888285   84.648079          20   \n",
       "\n",
       "    mean_Time  \n",
       "0    4.347279  \n",
       "1   11.616927  \n",
       "2    0.996492  \n",
       "3    1.443461  \n",
       "4    1.265307  \n",
       "5    2.470081  \n",
       "6    0.935205  \n",
       "7    1.344811  \n",
       "8    1.168146  \n",
       "9    2.388140  \n",
       "10   1.069634  \n",
       "11   1.446973  \n",
       "12   1.396959  \n",
       "13   2.753304  \n",
       "14   0.961206  \n",
       "15   1.307455  \n",
       "16   1.207058  \n",
       "17   2.452413  \n",
       "18  26.348343  \n",
       "19  26.307296  \n",
       "20   4.202621  \n",
       "21   4.232404  "
      ]
     },
     "execution_count": 522,
     "metadata": {},
     "output_type": "execute_result"
    }
   ],
   "source": [
    "results_summary = pd.DataFrame({\"Dataset\":\"kdd_internet_usage\",\n",
    "                                \"Variables\":card_9_summary,\n",
    "                                \"Default/Tune\":default_summary,\n",
    "                                \"Encoder\":encoder_summary,\n",
    "                                \"Metric\":\"BalancedAccuracy\",\n",
    "                                \"Value\":value_summary,\n",
    "                                \"Time\":time_summary,\n",
    "                                \"Iterations\":n_models_summary})\n",
    "results_summary[\"mean_Time\"] = (results_summary[\"Time\"] / results_summary[\"Iterations\"])\n",
    "results_summary"
   ]
  },
  {
   "cell_type": "code",
   "execution_count": 523,
   "metadata": {},
   "outputs": [],
   "source": [
    "results_summary.to_excel(\"kdd_internet_usage_results.xlsx\")"
   ]
  }
 ],
 "metadata": {
  "kernelspec": {
   "display_name": "Python 3 (ipykernel)",
   "language": "python",
   "name": "python3"
  },
  "language_info": {
   "codemirror_mode": {
    "name": "ipython",
    "version": 3
   },
   "file_extension": ".py",
   "mimetype": "text/x-python",
   "name": "python",
   "nbconvert_exporter": "python",
   "pygments_lexer": "ipython3",
   "version": "3.10.11"
  }
 },
 "nbformat": 4,
 "nbformat_minor": 5
}
