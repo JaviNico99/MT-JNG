{
 "cells": [
  {
   "cell_type": "markdown",
   "metadata": {},
   "source": [
    "# \"Churn\" Dataset"
   ]
  },
  {
   "cell_type": "code",
   "execution_count": 1,
   "metadata": {},
   "outputs": [],
   "source": [
    "# data manipulation\n",
    "from scipy.io import arff\n",
    "import pandas as pd\n",
    "import numpy as np"
   ]
  },
  {
   "cell_type": "code",
   "execution_count": 2,
   "metadata": {},
   "outputs": [],
   "source": [
    "from sklearn.datasets import fetch_openml\n",
    "\n",
    "data = fetch_openml(data_id=40701, parser='auto')\n",
    "\n",
    "# The returned dataset is a Bunch object, similar to a dictionary\n",
    "X = data['data']\n",
    "y = data['target']"
   ]
  },
  {
   "cell_type": "code",
   "execution_count": 3,
   "metadata": {},
   "outputs": [],
   "source": [
    "# Summary vectors creation\n",
    "\n",
    "default_summary  = []\n",
    "encoder_summary  = []\n",
    "value_summary    = []\n",
    "time_summary     = []\n",
    "n_models_summary = []\n",
    "card_9_summary   = []"
   ]
  },
  {
   "cell_type": "markdown",
   "metadata": {},
   "source": [
    "#### Description\n",
    "A dataset relating characteristics of telephony account features and usage and whether or not the customer churned."
   ]
  },
  {
   "cell_type": "markdown",
   "metadata": {},
   "source": [
    "#### Exploratory Data Analysis"
   ]
  },
  {
   "cell_type": "code",
   "execution_count": 4,
   "metadata": {},
   "outputs": [
    {
     "data": {
      "text/html": [
       "<div>\n",
       "<style scoped>\n",
       "    .dataframe tbody tr th:only-of-type {\n",
       "        vertical-align: middle;\n",
       "    }\n",
       "\n",
       "    .dataframe tbody tr th {\n",
       "        vertical-align: top;\n",
       "    }\n",
       "\n",
       "    .dataframe thead th {\n",
       "        text-align: right;\n",
       "    }\n",
       "</style>\n",
       "<table border=\"1\" class=\"dataframe\">\n",
       "  <thead>\n",
       "    <tr style=\"text-align: right;\">\n",
       "      <th></th>\n",
       "      <th>state</th>\n",
       "      <th>account_length</th>\n",
       "      <th>area_code</th>\n",
       "      <th>phone_number</th>\n",
       "      <th>international_plan</th>\n",
       "      <th>voice_mail_plan</th>\n",
       "      <th>number_vmail_messages</th>\n",
       "      <th>total_day_minutes</th>\n",
       "      <th>total_day_calls</th>\n",
       "      <th>total_day_charge</th>\n",
       "      <th>total_eve_minutes</th>\n",
       "      <th>total_eve_calls</th>\n",
       "      <th>total_eve_charge</th>\n",
       "      <th>total_night_minutes</th>\n",
       "      <th>total_night_calls</th>\n",
       "      <th>total_night_charge</th>\n",
       "      <th>total_intl_minutes</th>\n",
       "      <th>total_intl_calls</th>\n",
       "      <th>total_intl_charge</th>\n",
       "      <th>number_customer_service_calls</th>\n",
       "    </tr>\n",
       "  </thead>\n",
       "  <tbody>\n",
       "    <tr>\n",
       "      <th>0</th>\n",
       "      <td>16</td>\n",
       "      <td>128</td>\n",
       "      <td>415</td>\n",
       "      <td>2845</td>\n",
       "      <td>0</td>\n",
       "      <td>1</td>\n",
       "      <td>25</td>\n",
       "      <td>265.1</td>\n",
       "      <td>110</td>\n",
       "      <td>45.07</td>\n",
       "      <td>197.4</td>\n",
       "      <td>99</td>\n",
       "      <td>16.78</td>\n",
       "      <td>244.7</td>\n",
       "      <td>91</td>\n",
       "      <td>11.01</td>\n",
       "      <td>10.0</td>\n",
       "      <td>3</td>\n",
       "      <td>2.70</td>\n",
       "      <td>1</td>\n",
       "    </tr>\n",
       "    <tr>\n",
       "      <th>1</th>\n",
       "      <td>35</td>\n",
       "      <td>107</td>\n",
       "      <td>415</td>\n",
       "      <td>2301</td>\n",
       "      <td>0</td>\n",
       "      <td>1</td>\n",
       "      <td>26</td>\n",
       "      <td>161.6</td>\n",
       "      <td>123</td>\n",
       "      <td>27.47</td>\n",
       "      <td>195.5</td>\n",
       "      <td>103</td>\n",
       "      <td>16.62</td>\n",
       "      <td>254.4</td>\n",
       "      <td>103</td>\n",
       "      <td>11.45</td>\n",
       "      <td>13.7</td>\n",
       "      <td>3</td>\n",
       "      <td>3.70</td>\n",
       "      <td>1</td>\n",
       "    </tr>\n",
       "    <tr>\n",
       "      <th>2</th>\n",
       "      <td>31</td>\n",
       "      <td>137</td>\n",
       "      <td>415</td>\n",
       "      <td>1616</td>\n",
       "      <td>0</td>\n",
       "      <td>0</td>\n",
       "      <td>0</td>\n",
       "      <td>243.4</td>\n",
       "      <td>114</td>\n",
       "      <td>41.38</td>\n",
       "      <td>121.2</td>\n",
       "      <td>110</td>\n",
       "      <td>10.30</td>\n",
       "      <td>162.6</td>\n",
       "      <td>104</td>\n",
       "      <td>7.32</td>\n",
       "      <td>12.2</td>\n",
       "      <td>5</td>\n",
       "      <td>3.29</td>\n",
       "      <td>0</td>\n",
       "    </tr>\n",
       "    <tr>\n",
       "      <th>3</th>\n",
       "      <td>35</td>\n",
       "      <td>84</td>\n",
       "      <td>408</td>\n",
       "      <td>2510</td>\n",
       "      <td>1</td>\n",
       "      <td>0</td>\n",
       "      <td>0</td>\n",
       "      <td>299.4</td>\n",
       "      <td>71</td>\n",
       "      <td>50.90</td>\n",
       "      <td>61.9</td>\n",
       "      <td>88</td>\n",
       "      <td>5.26</td>\n",
       "      <td>196.9</td>\n",
       "      <td>89</td>\n",
       "      <td>8.86</td>\n",
       "      <td>6.6</td>\n",
       "      <td>7</td>\n",
       "      <td>1.78</td>\n",
       "      <td>2</td>\n",
       "    </tr>\n",
       "    <tr>\n",
       "      <th>4</th>\n",
       "      <td>36</td>\n",
       "      <td>75</td>\n",
       "      <td>415</td>\n",
       "      <td>155</td>\n",
       "      <td>1</td>\n",
       "      <td>0</td>\n",
       "      <td>0</td>\n",
       "      <td>166.7</td>\n",
       "      <td>113</td>\n",
       "      <td>28.34</td>\n",
       "      <td>148.3</td>\n",
       "      <td>122</td>\n",
       "      <td>12.61</td>\n",
       "      <td>186.9</td>\n",
       "      <td>121</td>\n",
       "      <td>8.41</td>\n",
       "      <td>10.1</td>\n",
       "      <td>3</td>\n",
       "      <td>2.73</td>\n",
       "      <td>3</td>\n",
       "    </tr>\n",
       "  </tbody>\n",
       "</table>\n",
       "</div>"
      ],
      "text/plain": [
       "   state  account_length area_code  phone_number international_plan  \\\n",
       "0     16             128       415          2845                  0   \n",
       "1     35             107       415          2301                  0   \n",
       "2     31             137       415          1616                  0   \n",
       "3     35              84       408          2510                  1   \n",
       "4     36              75       415           155                  1   \n",
       "\n",
       "  voice_mail_plan  number_vmail_messages  total_day_minutes  total_day_calls  \\\n",
       "0               1                     25              265.1              110   \n",
       "1               1                     26              161.6              123   \n",
       "2               0                      0              243.4              114   \n",
       "3               0                      0              299.4               71   \n",
       "4               0                      0              166.7              113   \n",
       "\n",
       "   total_day_charge  total_eve_minutes  total_eve_calls  total_eve_charge  \\\n",
       "0             45.07              197.4               99             16.78   \n",
       "1             27.47              195.5              103             16.62   \n",
       "2             41.38              121.2              110             10.30   \n",
       "3             50.90               61.9               88              5.26   \n",
       "4             28.34              148.3              122             12.61   \n",
       "\n",
       "   total_night_minutes  total_night_calls  total_night_charge  \\\n",
       "0                244.7                 91               11.01   \n",
       "1                254.4                103               11.45   \n",
       "2                162.6                104                7.32   \n",
       "3                196.9                 89                8.86   \n",
       "4                186.9                121                8.41   \n",
       "\n",
       "   total_intl_minutes  total_intl_calls  total_intl_charge  \\\n",
       "0                10.0                 3               2.70   \n",
       "1                13.7                 3               3.70   \n",
       "2                12.2                 5               3.29   \n",
       "3                 6.6                 7               1.78   \n",
       "4                10.1                 3               2.73   \n",
       "\n",
       "  number_customer_service_calls  \n",
       "0                             1  \n",
       "1                             1  \n",
       "2                             0  \n",
       "3                             2  \n",
       "4                             3  "
      ]
     },
     "execution_count": 4,
     "metadata": {},
     "output_type": "execute_result"
    }
   ],
   "source": [
    "X.head()"
   ]
  },
  {
   "cell_type": "code",
   "execution_count": 5,
   "id": "9066a713",
   "metadata": {},
   "outputs": [
    {
     "data": {
      "text/plain": [
       "(5000, 20)"
      ]
     },
     "execution_count": 5,
     "metadata": {},
     "output_type": "execute_result"
    }
   ],
   "source": [
    "X.shape"
   ]
  },
  {
   "cell_type": "code",
   "execution_count": 6,
   "metadata": {},
   "outputs": [
    {
     "data": {
      "text/plain": [
       "state                               int64\n",
       "account_length                      int64\n",
       "area_code                        category\n",
       "phone_number                        int64\n",
       "international_plan               category\n",
       "voice_mail_plan                  category\n",
       "number_vmail_messages               int64\n",
       "total_day_minutes                 float64\n",
       "total_day_calls                     int64\n",
       "total_day_charge                  float64\n",
       "total_eve_minutes                 float64\n",
       "total_eve_calls                     int64\n",
       "total_eve_charge                  float64\n",
       "total_night_minutes               float64\n",
       "total_night_calls                   int64\n",
       "total_night_charge                float64\n",
       "total_intl_minutes                float64\n",
       "total_intl_calls                    int64\n",
       "total_intl_charge                 float64\n",
       "number_customer_service_calls    category\n",
       "dtype: object"
      ]
     },
     "execution_count": 6,
     "metadata": {},
     "output_type": "execute_result"
    }
   ],
   "source": [
    "X.dtypes"
   ]
  },
  {
   "cell_type": "code",
   "execution_count": 7,
   "id": "1b3d0e28",
   "metadata": {},
   "outputs": [],
   "source": [
    "X.loc[:,'state'] = X['state'].astype(str)\n",
    "X.loc[:,'international_plan'] = X['international_plan'].astype(float)\n",
    "X.loc[:,'voice_mail_plan'] = X['voice_mail_plan'].astype(float)"
   ]
  },
  {
   "cell_type": "code",
   "execution_count": 8,
   "id": "691e41a7",
   "metadata": {},
   "outputs": [
    {
     "data": {
      "text/plain": [
       "state                              51\n",
       "account_length                    218\n",
       "area_code                           3\n",
       "phone_number                     5000\n",
       "international_plan                  2\n",
       "voice_mail_plan                     2\n",
       "number_vmail_messages              48\n",
       "total_day_minutes                1961\n",
       "total_day_calls                   123\n",
       "total_day_charge                 1961\n",
       "total_eve_minutes                1879\n",
       "total_eve_calls                   126\n",
       "total_eve_charge                 1659\n",
       "total_night_minutes              1853\n",
       "total_night_calls                 131\n",
       "total_night_charge               1028\n",
       "total_intl_minutes                170\n",
       "total_intl_calls                   21\n",
       "total_intl_charge                 170\n",
       "number_customer_service_calls      10\n",
       "dtype: int64"
      ]
     },
     "execution_count": 8,
     "metadata": {},
     "output_type": "execute_result"
    }
   ],
   "source": [
    "X.nunique()"
   ]
  },
  {
   "cell_type": "code",
   "execution_count": 9,
   "metadata": {},
   "outputs": [
    {
     "data": {
      "text/html": [
       "<div>\n",
       "<style scoped>\n",
       "    .dataframe tbody tr th:only-of-type {\n",
       "        vertical-align: middle;\n",
       "    }\n",
       "\n",
       "    .dataframe tbody tr th {\n",
       "        vertical-align: top;\n",
       "    }\n",
       "\n",
       "    .dataframe thead th {\n",
       "        text-align: right;\n",
       "    }\n",
       "</style>\n",
       "<table border=\"1\" class=\"dataframe\">\n",
       "  <thead>\n",
       "    <tr style=\"text-align: right;\">\n",
       "      <th></th>\n",
       "      <th>account_length</th>\n",
       "      <th>phone_number</th>\n",
       "      <th>international_plan</th>\n",
       "      <th>voice_mail_plan</th>\n",
       "      <th>number_vmail_messages</th>\n",
       "      <th>total_day_minutes</th>\n",
       "      <th>total_day_calls</th>\n",
       "      <th>total_day_charge</th>\n",
       "      <th>total_eve_minutes</th>\n",
       "      <th>total_eve_calls</th>\n",
       "      <th>total_eve_charge</th>\n",
       "      <th>total_night_minutes</th>\n",
       "      <th>total_night_calls</th>\n",
       "      <th>total_night_charge</th>\n",
       "      <th>total_intl_minutes</th>\n",
       "      <th>total_intl_calls</th>\n",
       "      <th>total_intl_charge</th>\n",
       "    </tr>\n",
       "  </thead>\n",
       "  <tbody>\n",
       "    <tr>\n",
       "      <th>count</th>\n",
       "      <td>5000.00000</td>\n",
       "      <td>5000.000000</td>\n",
       "      <td>5000.000000</td>\n",
       "      <td>5000.000000</td>\n",
       "      <td>5000.000000</td>\n",
       "      <td>5000.000000</td>\n",
       "      <td>5000.000000</td>\n",
       "      <td>5000.000000</td>\n",
       "      <td>5000.000000</td>\n",
       "      <td>5000.000000</td>\n",
       "      <td>5000.000000</td>\n",
       "      <td>5000.000000</td>\n",
       "      <td>5000.000000</td>\n",
       "      <td>5000.000000</td>\n",
       "      <td>5000.000000</td>\n",
       "      <td>5000.000000</td>\n",
       "      <td>5000.000000</td>\n",
       "    </tr>\n",
       "    <tr>\n",
       "      <th>mean</th>\n",
       "      <td>100.25860</td>\n",
       "      <td>2499.500000</td>\n",
       "      <td>0.094600</td>\n",
       "      <td>0.264600</td>\n",
       "      <td>7.755200</td>\n",
       "      <td>180.288900</td>\n",
       "      <td>100.029400</td>\n",
       "      <td>30.649668</td>\n",
       "      <td>200.636560</td>\n",
       "      <td>100.191000</td>\n",
       "      <td>17.054322</td>\n",
       "      <td>200.391620</td>\n",
       "      <td>99.919200</td>\n",
       "      <td>9.017732</td>\n",
       "      <td>10.261780</td>\n",
       "      <td>4.435200</td>\n",
       "      <td>2.771196</td>\n",
       "    </tr>\n",
       "    <tr>\n",
       "      <th>std</th>\n",
       "      <td>39.69456</td>\n",
       "      <td>1443.520003</td>\n",
       "      <td>0.292691</td>\n",
       "      <td>0.441164</td>\n",
       "      <td>13.546393</td>\n",
       "      <td>53.894699</td>\n",
       "      <td>19.831197</td>\n",
       "      <td>9.162069</td>\n",
       "      <td>50.551309</td>\n",
       "      <td>19.826496</td>\n",
       "      <td>4.296843</td>\n",
       "      <td>50.527789</td>\n",
       "      <td>19.958686</td>\n",
       "      <td>2.273763</td>\n",
       "      <td>2.761396</td>\n",
       "      <td>2.456788</td>\n",
       "      <td>0.745514</td>\n",
       "    </tr>\n",
       "    <tr>\n",
       "      <th>min</th>\n",
       "      <td>1.00000</td>\n",
       "      <td>0.000000</td>\n",
       "      <td>0.000000</td>\n",
       "      <td>0.000000</td>\n",
       "      <td>0.000000</td>\n",
       "      <td>0.000000</td>\n",
       "      <td>0.000000</td>\n",
       "      <td>0.000000</td>\n",
       "      <td>0.000000</td>\n",
       "      <td>0.000000</td>\n",
       "      <td>0.000000</td>\n",
       "      <td>0.000000</td>\n",
       "      <td>0.000000</td>\n",
       "      <td>0.000000</td>\n",
       "      <td>0.000000</td>\n",
       "      <td>0.000000</td>\n",
       "      <td>0.000000</td>\n",
       "    </tr>\n",
       "    <tr>\n",
       "      <th>25%</th>\n",
       "      <td>73.00000</td>\n",
       "      <td>1249.750000</td>\n",
       "      <td>0.000000</td>\n",
       "      <td>0.000000</td>\n",
       "      <td>0.000000</td>\n",
       "      <td>143.700000</td>\n",
       "      <td>87.000000</td>\n",
       "      <td>24.430000</td>\n",
       "      <td>166.375000</td>\n",
       "      <td>87.000000</td>\n",
       "      <td>14.140000</td>\n",
       "      <td>166.900000</td>\n",
       "      <td>87.000000</td>\n",
       "      <td>7.510000</td>\n",
       "      <td>8.500000</td>\n",
       "      <td>3.000000</td>\n",
       "      <td>2.300000</td>\n",
       "    </tr>\n",
       "    <tr>\n",
       "      <th>50%</th>\n",
       "      <td>100.00000</td>\n",
       "      <td>2499.500000</td>\n",
       "      <td>0.000000</td>\n",
       "      <td>0.000000</td>\n",
       "      <td>0.000000</td>\n",
       "      <td>180.100000</td>\n",
       "      <td>100.000000</td>\n",
       "      <td>30.620000</td>\n",
       "      <td>201.000000</td>\n",
       "      <td>100.000000</td>\n",
       "      <td>17.090000</td>\n",
       "      <td>200.400000</td>\n",
       "      <td>100.000000</td>\n",
       "      <td>9.020000</td>\n",
       "      <td>10.300000</td>\n",
       "      <td>4.000000</td>\n",
       "      <td>2.780000</td>\n",
       "    </tr>\n",
       "    <tr>\n",
       "      <th>75%</th>\n",
       "      <td>127.00000</td>\n",
       "      <td>3749.250000</td>\n",
       "      <td>0.000000</td>\n",
       "      <td>1.000000</td>\n",
       "      <td>17.000000</td>\n",
       "      <td>216.200000</td>\n",
       "      <td>113.000000</td>\n",
       "      <td>36.750000</td>\n",
       "      <td>234.100000</td>\n",
       "      <td>114.000000</td>\n",
       "      <td>19.900000</td>\n",
       "      <td>234.700000</td>\n",
       "      <td>113.000000</td>\n",
       "      <td>10.560000</td>\n",
       "      <td>12.000000</td>\n",
       "      <td>6.000000</td>\n",
       "      <td>3.240000</td>\n",
       "    </tr>\n",
       "    <tr>\n",
       "      <th>max</th>\n",
       "      <td>243.00000</td>\n",
       "      <td>4999.000000</td>\n",
       "      <td>1.000000</td>\n",
       "      <td>1.000000</td>\n",
       "      <td>52.000000</td>\n",
       "      <td>351.500000</td>\n",
       "      <td>165.000000</td>\n",
       "      <td>59.760000</td>\n",
       "      <td>363.700000</td>\n",
       "      <td>170.000000</td>\n",
       "      <td>30.910000</td>\n",
       "      <td>395.000000</td>\n",
       "      <td>175.000000</td>\n",
       "      <td>17.770000</td>\n",
       "      <td>20.000000</td>\n",
       "      <td>20.000000</td>\n",
       "      <td>5.400000</td>\n",
       "    </tr>\n",
       "  </tbody>\n",
       "</table>\n",
       "</div>"
      ],
      "text/plain": [
       "       account_length  phone_number  international_plan  voice_mail_plan  \\\n",
       "count      5000.00000   5000.000000         5000.000000      5000.000000   \n",
       "mean        100.25860   2499.500000            0.094600         0.264600   \n",
       "std          39.69456   1443.520003            0.292691         0.441164   \n",
       "min           1.00000      0.000000            0.000000         0.000000   \n",
       "25%          73.00000   1249.750000            0.000000         0.000000   \n",
       "50%         100.00000   2499.500000            0.000000         0.000000   \n",
       "75%         127.00000   3749.250000            0.000000         1.000000   \n",
       "max         243.00000   4999.000000            1.000000         1.000000   \n",
       "\n",
       "       number_vmail_messages  total_day_minutes  total_day_calls  \\\n",
       "count            5000.000000        5000.000000      5000.000000   \n",
       "mean                7.755200         180.288900       100.029400   \n",
       "std                13.546393          53.894699        19.831197   \n",
       "min                 0.000000           0.000000         0.000000   \n",
       "25%                 0.000000         143.700000        87.000000   \n",
       "50%                 0.000000         180.100000       100.000000   \n",
       "75%                17.000000         216.200000       113.000000   \n",
       "max                52.000000         351.500000       165.000000   \n",
       "\n",
       "       total_day_charge  total_eve_minutes  total_eve_calls  total_eve_charge  \\\n",
       "count       5000.000000        5000.000000      5000.000000       5000.000000   \n",
       "mean          30.649668         200.636560       100.191000         17.054322   \n",
       "std            9.162069          50.551309        19.826496          4.296843   \n",
       "min            0.000000           0.000000         0.000000          0.000000   \n",
       "25%           24.430000         166.375000        87.000000         14.140000   \n",
       "50%           30.620000         201.000000       100.000000         17.090000   \n",
       "75%           36.750000         234.100000       114.000000         19.900000   \n",
       "max           59.760000         363.700000       170.000000         30.910000   \n",
       "\n",
       "       total_night_minutes  total_night_calls  total_night_charge  \\\n",
       "count          5000.000000        5000.000000         5000.000000   \n",
       "mean            200.391620          99.919200            9.017732   \n",
       "std              50.527789          19.958686            2.273763   \n",
       "min               0.000000           0.000000            0.000000   \n",
       "25%             166.900000          87.000000            7.510000   \n",
       "50%             200.400000         100.000000            9.020000   \n",
       "75%             234.700000         113.000000           10.560000   \n",
       "max             395.000000         175.000000           17.770000   \n",
       "\n",
       "       total_intl_minutes  total_intl_calls  total_intl_charge  \n",
       "count         5000.000000       5000.000000        5000.000000  \n",
       "mean            10.261780          4.435200           2.771196  \n",
       "std              2.761396          2.456788           0.745514  \n",
       "min              0.000000          0.000000           0.000000  \n",
       "25%              8.500000          3.000000           2.300000  \n",
       "50%             10.300000          4.000000           2.780000  \n",
       "75%             12.000000          6.000000           3.240000  \n",
       "max             20.000000         20.000000           5.400000  "
      ]
     },
     "execution_count": 9,
     "metadata": {},
     "output_type": "execute_result"
    }
   ],
   "source": [
    "X.describe()"
   ]
  },
  {
   "cell_type": "markdown",
   "metadata": {},
   "source": [
    "We check for duplicate rows."
   ]
  },
  {
   "cell_type": "code",
   "execution_count": 10,
   "metadata": {},
   "outputs": [
    {
     "data": {
      "text/plain": [
       "0"
      ]
     },
     "execution_count": 10,
     "metadata": {},
     "output_type": "execute_result"
    }
   ],
   "source": [
    "X.duplicated().sum()"
   ]
  },
  {
   "cell_type": "code",
   "execution_count": 11,
   "id": "15f6bfad",
   "metadata": {},
   "outputs": [
    {
     "data": {
      "text/plain": [
       "Index(['state', 'account_length', 'area_code', 'phone_number',\n",
       "       'international_plan', 'voice_mail_plan', 'number_vmail_messages',\n",
       "       'total_day_minutes', 'total_day_calls', 'total_day_charge',\n",
       "       'total_eve_minutes', 'total_eve_calls', 'total_eve_charge',\n",
       "       'total_night_minutes', 'total_night_calls', 'total_night_charge',\n",
       "       'total_intl_minutes', 'total_intl_calls', 'total_intl_charge',\n",
       "       'number_customer_service_calls'],\n",
       "      dtype='object')"
      ]
     },
     "execution_count": 11,
     "metadata": {},
     "output_type": "execute_result"
    }
   ],
   "source": [
    "X.columns"
   ]
  },
  {
   "cell_type": "markdown",
   "metadata": {},
   "source": [
    " "
   ]
  },
  {
   "cell_type": "markdown",
   "id": "733787a5",
   "metadata": {},
   "source": [
    "### Variables"
   ]
  },
  {
   "cell_type": "markdown",
   "id": "9c8590bb",
   "metadata": {},
   "source": [
    "The **phone_number** variable serves as an identifier for each observation, but cannot be used as a predictor variable."
   ]
  },
  {
   "cell_type": "code",
   "execution_count": 12,
   "id": "cb3e8f94",
   "metadata": {},
   "outputs": [
    {
     "name": "stdout",
     "output_type": "stream",
     "text": [
      "Number of rows: 5000\n",
      "Number of unique phone numbers: 5000\n"
     ]
    }
   ],
   "source": [
    "print(f'Number of rows: {len(X)}')\n",
    "print(f'Number of unique phone numbers: {X.phone_number.nunique()}')"
   ]
  },
  {
   "cell_type": "code",
   "execution_count": 13,
   "id": "051c282e",
   "metadata": {},
   "outputs": [],
   "source": [
    "X = X.drop('phone_number', axis=1)"
   ]
  },
  {
   "cell_type": "markdown",
   "id": "f0a8859c",
   "metadata": {},
   "source": []
  },
  {
   "cell_type": "markdown",
   "metadata": {},
   "source": [
    "## Study of NA's"
   ]
  },
  {
   "cell_type": "code",
   "execution_count": 14,
   "metadata": {},
   "outputs": [
    {
     "data": {
      "text/plain": [
       "state                            0\n",
       "total_eve_calls                  0\n",
       "total_intl_charge                0\n",
       "total_intl_calls                 0\n",
       "total_intl_minutes               0\n",
       "total_night_charge               0\n",
       "total_night_calls                0\n",
       "total_night_minutes              0\n",
       "total_eve_charge                 0\n",
       "total_eve_minutes                0\n",
       "account_length                   0\n",
       "total_day_charge                 0\n",
       "total_day_calls                  0\n",
       "total_day_minutes                0\n",
       "number_vmail_messages            0\n",
       "voice_mail_plan                  0\n",
       "international_plan               0\n",
       "area_code                        0\n",
       "number_customer_service_calls    0\n",
       "dtype: int64"
      ]
     },
     "execution_count": 14,
     "metadata": {},
     "output_type": "execute_result"
    }
   ],
   "source": [
    "X.isna().sum().sort_values(ascending = False)"
   ]
  },
  {
   "cell_type": "markdown",
   "metadata": {},
   "source": [
    "As can be seen, there are no np.nan in any of the variables."
   ]
  },
  {
   "cell_type": "markdown",
   "metadata": {},
   "source": [
    "  "
   ]
  },
  {
   "cell_type": "markdown",
   "metadata": {},
   "source": [
    "## Type of Variables"
   ]
  },
  {
   "cell_type": "markdown",
   "metadata": {},
   "source": [
    "Check the numeric features."
   ]
  },
  {
   "cell_type": "code",
   "execution_count": 15,
   "metadata": {},
   "outputs": [
    {
     "name": "stdout",
     "output_type": "stream",
     "text": [
      "Numeric columns: 14\n",
      "Binary columns: 2\n"
     ]
    }
   ],
   "source": [
    "num_cols = X.select_dtypes(exclude=['object','category']).columns\n",
    "binary_cols = [col for col in X.columns if X[col].isin([0, 1]).all()]\n",
    "num_cols = [num_col for num_col in num_cols if num_col not in binary_cols]\n",
    "\n",
    "print(f'Numeric columns: {len(num_cols)}')\n",
    "print(f'Binary columns: {len(binary_cols)}')"
   ]
  },
  {
   "cell_type": "markdown",
   "metadata": {},
   "source": [
    "Check the categorical features."
   ]
  },
  {
   "cell_type": "code",
   "execution_count": 16,
   "metadata": {},
   "outputs": [
    {
     "name": "stdout",
     "output_type": "stream",
     "text": [
      "Category columns: 3\n"
     ]
    }
   ],
   "source": [
    "cat_columns = X.select_dtypes(include=['category','object']).columns\n",
    "print(f'Category columns: {len(cat_columns)}')"
   ]
  },
  {
   "cell_type": "markdown",
   "metadata": {},
   "source": [
    "General review of the values of all variables."
   ]
  },
  {
   "cell_type": "code",
   "execution_count": 17,
   "metadata": {},
   "outputs": [
    {
     "data": {
      "text/plain": [
       "state                            51\n",
       "number_customer_service_calls    10\n",
       "area_code                         3\n",
       "dtype: int64"
      ]
     },
     "execution_count": 17,
     "metadata": {},
     "output_type": "execute_result"
    }
   ],
   "source": [
    "X[cat_columns].apply(lambda col: col.nunique()).sort_values(ascending=False)"
   ]
  },
  {
   "cell_type": "markdown",
   "metadata": {},
   "source": [
    " "
   ]
  },
  {
   "cell_type": "markdown",
   "metadata": {},
   "source": [
    "## Value counts of the variables with more cardinality"
   ]
  },
  {
   "cell_type": "markdown",
   "metadata": {},
   "source": [
    "#### state"
   ]
  },
  {
   "cell_type": "code",
   "execution_count": 18,
   "metadata": {},
   "outputs": [
    {
     "data": {
      "text/plain": [
       "state\n",
       "49    158\n",
       "23    125\n",
       "1     124\n",
       "13    119\n",
       "45    118\n",
       "35    116\n",
       "43    116\n",
       "50    115\n",
       "34    114\n",
       "37    114\n",
       "Name: count, dtype: int64"
      ]
     },
     "execution_count": 18,
     "metadata": {},
     "output_type": "execute_result"
    }
   ],
   "source": [
    "X['state'].value_counts()[0:10]"
   ]
  },
  {
   "cell_type": "markdown",
   "metadata": {},
   "source": [
    "#### number_customer_service_calls"
   ]
  },
  {
   "cell_type": "code",
   "execution_count": 19,
   "metadata": {},
   "outputs": [
    {
     "data": {
      "text/plain": [
       "number_customer_service_calls\n",
       "1    1786\n",
       "2    1127\n",
       "0    1023\n",
       "3     665\n",
       "4     252\n",
       "5      96\n",
       "6      34\n",
       "7      13\n",
       "8       2\n",
       "9       2\n",
       "Name: count, dtype: int64"
      ]
     },
     "execution_count": 19,
     "metadata": {},
     "output_type": "execute_result"
    }
   ],
   "source": [
    "X[\"number_customer_service_calls\"].value_counts()[0:10]"
   ]
  },
  {
   "cell_type": "markdown",
   "metadata": {},
   "source": [
    "#### area_code"
   ]
  },
  {
   "cell_type": "code",
   "execution_count": 20,
   "metadata": {},
   "outputs": [
    {
     "data": {
      "text/plain": [
       "area_code\n",
       "415    2495\n",
       "408    1259\n",
       "510    1246\n",
       "Name: count, dtype: int64"
      ]
     },
     "execution_count": 20,
     "metadata": {},
     "output_type": "execute_result"
    }
   ],
   "source": [
    "X[\"area_code\"].value_counts()[0:10]"
   ]
  },
  {
   "cell_type": "markdown",
   "metadata": {},
   "source": [
    " "
   ]
  },
  {
   "cell_type": "markdown",
   "metadata": {},
   "source": [
    "## Response variable distribution"
   ]
  },
  {
   "cell_type": "code",
   "execution_count": 21,
   "metadata": {},
   "outputs": [
    {
     "data": {
      "text/plain": [
       "class\n",
       "0    4293\n",
       "1     707\n",
       "Name: count, dtype: int64"
      ]
     },
     "execution_count": 21,
     "metadata": {},
     "output_type": "execute_result"
    }
   ],
   "source": [
    "y.value_counts()"
   ]
  },
  {
   "cell_type": "code",
   "execution_count": 22,
   "metadata": {},
   "outputs": [
    {
     "data": {
      "text/plain": [
       "class\n",
       "0    0.8586\n",
       "1    0.1414\n",
       "Name: proportion, dtype: float64"
      ]
     },
     "execution_count": 22,
     "metadata": {},
     "output_type": "execute_result"
    }
   ],
   "source": [
    "y.value_counts(normalize=True)"
   ]
  },
  {
   "cell_type": "markdown",
   "metadata": {},
   "source": [
    " "
   ]
  },
  {
   "cell_type": "markdown",
   "metadata": {},
   "source": [
    "## Train-Test Split"
   ]
  },
  {
   "cell_type": "code",
   "execution_count": 23,
   "metadata": {},
   "outputs": [],
   "source": [
    "from sklearn.model_selection import train_test_split"
   ]
  },
  {
   "cell_type": "code",
   "execution_count": 24,
   "metadata": {},
   "outputs": [],
   "source": [
    "X_train, X_test, y_train, y_test = train_test_split(X,y, \n",
    "                                                    test_size = 0.33, \n",
    "                                                    random_state = 42,\n",
    "                                                    stratify = y)"
   ]
  },
  {
   "cell_type": "code",
   "execution_count": 25,
   "metadata": {},
   "outputs": [
    {
     "name": "stdout",
     "output_type": "stream",
     "text": [
      "X_train shape: (3350, 19)\n",
      "X_test shape:  (1650, 19)\n",
      "y_train shape: (3350,)\n",
      "y_test shape:  (1650,)\n"
     ]
    }
   ],
   "source": [
    "print(f'X_train shape: {X_train.shape}')\n",
    "print(f'X_test shape:  {X_test.shape}')\n",
    "print(f'y_train shape: {y_train.shape}')\n",
    "print(f'y_test shape:  {y_test.shape}')"
   ]
  },
  {
   "cell_type": "markdown",
   "id": "4bd50e20",
   "metadata": {},
   "source": []
  },
  {
   "cell_type": "markdown",
   "id": "3db2e0d9",
   "metadata": {},
   "source": [
    "## Pipelines "
   ]
  },
  {
   "cell_type": "code",
   "execution_count": 26,
   "id": "5d53bd83",
   "metadata": {},
   "outputs": [],
   "source": [
    "from sklearn.pipeline import Pipeline\n",
    "from sklearn.compose import ColumnTransformer\n",
    "\n",
    "from sklearn.experimental import enable_iterative_imputer\n",
    "from sklearn.impute import IterativeImputer, SimpleImputer\n",
    "from sklearn.preprocessing import OneHotEncoder\n",
    "\n",
    "from sklearn.ensemble import RandomForestRegressor\n",
    "from sklearn.ensemble import HistGradientBoostingClassifier\n",
    "\n",
    "from sklearn.metrics import balanced_accuracy_score\n",
    "\n",
    "import scipy.stats\n",
    "from sklearn.model_selection import StratifiedKFold\n",
    "from sklearn.model_selection import RandomizedSearchCV\n",
    "\n",
    "import time"
   ]
  },
  {
   "cell_type": "code",
   "execution_count": 27,
   "id": "ffd7fde4",
   "metadata": {},
   "outputs": [],
   "source": [
    "num_cols = X_train.select_dtypes(include=['float64', 'int']).columns.to_list()\n",
    "cat_cols = X_train.select_dtypes(include=['category', 'object']).columns.to_list()\n",
    "\n",
    "cat_cols_less9 = [col for col in cat_cols if X[col].nunique() <= 9]\n",
    "cat_cols_more9 = [col for col in cat_cols if X[col].nunique() > 9]"
   ]
  },
  {
   "cell_type": "code",
   "execution_count": 28,
   "id": "8940ee7a",
   "metadata": {},
   "outputs": [],
   "source": [
    "# Define the HistGradientBoostingClassifier models\n",
    "hgb_default = HistGradientBoostingClassifier(random_state=1234,\n",
    "                                             early_stopping=False,\n",
    "                                             min_samples_leaf=30,\n",
    "                                             scoring='balanced_accuracy',\n",
    "                                             class_weight='balanced')\n",
    "\n",
    "hgb_default9 = HistGradientBoostingClassifier(random_state=1234,\n",
    "                                              early_stopping=False,\n",
    "                                              min_samples_leaf=30,\n",
    "                                              scoring='balanced_accuracy',\n",
    "                                              class_weight='balanced')\n",
    "\n",
    "# Define the hyperparameter search space\n",
    "param_distributions = {\n",
    "    'model__max_iter': scipy.stats.randint(10,300),\n",
    "    'model__learning_rate': scipy.stats.uniform(0.01, 0.3),\n",
    "    'model__min_samples_leaf': scipy.stats.randint(10, 50),\n",
    "}\n",
    "\n",
    "# Create a StratifiedKFold cross-validation instance\n",
    "stratified_kfold = StratifiedKFold(n_splits=3, shuffle=True, random_state=1234)"
   ]
  },
  {
   "cell_type": "markdown",
   "id": "6f393bd6",
   "metadata": {},
   "source": [
    "### One Hot Encoding + HistGradientBoosting"
   ]
  },
  {
   "cell_type": "markdown",
   "id": "bfa2707e",
   "metadata": {},
   "source": [
    "#### Preprocessing"
   ]
  },
  {
   "cell_type": "code",
   "execution_count": 31,
   "id": "5e34dd74",
   "metadata": {},
   "outputs": [],
   "source": [
    "num_pipeline = Pipeline([\n",
    "    (\"imputer\", SimpleImputer(strategy = \"median\"))\n",
    "])\n",
    "\n",
    "cat_pipeline = Pipeline([\n",
    "    (\"imputer\", SimpleImputer(strategy = \"most_frequent\")),\n",
    "    (\"encoder\", OneHotEncoder(drop = \"first\", handle_unknown = \"ignore\"))\n",
    "])\n",
    "\n",
    "preprop_pipeline = ColumnTransformer(\n",
    "    transformers = [(\"num\", num_pipeline, num_cols),\n",
    "                    (\"one_hot\", cat_pipeline, cat_cols)],\n",
    "    sparse_threshold=0\n",
    ")"
   ]
  },
  {
   "cell_type": "markdown",
   "id": "a5810fcc",
   "metadata": {},
   "source": [
    "#### Create a HistGradientBoostingClassifier model with default parameters and early stopping"
   ]
  },
  {
   "cell_type": "code",
   "execution_count": 30,
   "id": "1bb9245b",
   "metadata": {},
   "outputs": [],
   "source": [
    "ohe_hgb_default_pipeline = Pipeline([('preprocessing', preprop_pipeline),\n",
    "                                     ('model', hgb_default)])"
   ]
  },
  {
   "cell_type": "code",
   "execution_count": 31,
   "metadata": {},
   "outputs": [],
   "source": [
    "tic = time.time()\n",
    "\n",
    "ohe_hgb_default = ohe_hgb_default_pipeline.fit(X_train, y_train)\n",
    "\n",
    "toc = time.time()\n",
    "ohe_hgb_default_time_taken = toc-tic"
   ]
  },
  {
   "cell_type": "code",
   "execution_count": 32,
   "metadata": {},
   "outputs": [
    {
     "name": "stdout",
     "output_type": "stream",
     "text": [
      "Time taken:  1.3159816265106201\n"
     ]
    },
    {
     "data": {
      "text/html": [
       "<style>#sk-container-id-1 {color: black;}#sk-container-id-1 pre{padding: 0;}#sk-container-id-1 div.sk-toggleable {background-color: white;}#sk-container-id-1 label.sk-toggleable__label {cursor: pointer;display: block;width: 100%;margin-bottom: 0;padding: 0.3em;box-sizing: border-box;text-align: center;}#sk-container-id-1 label.sk-toggleable__label-arrow:before {content: \"▸\";float: left;margin-right: 0.25em;color: #696969;}#sk-container-id-1 label.sk-toggleable__label-arrow:hover:before {color: black;}#sk-container-id-1 div.sk-estimator:hover label.sk-toggleable__label-arrow:before {color: black;}#sk-container-id-1 div.sk-toggleable__content {max-height: 0;max-width: 0;overflow: hidden;text-align: left;background-color: #f0f8ff;}#sk-container-id-1 div.sk-toggleable__content pre {margin: 0.2em;color: black;border-radius: 0.25em;background-color: #f0f8ff;}#sk-container-id-1 input.sk-toggleable__control:checked~div.sk-toggleable__content {max-height: 200px;max-width: 100%;overflow: auto;}#sk-container-id-1 input.sk-toggleable__control:checked~label.sk-toggleable__label-arrow:before {content: \"▾\";}#sk-container-id-1 div.sk-estimator input.sk-toggleable__control:checked~label.sk-toggleable__label {background-color: #d4ebff;}#sk-container-id-1 div.sk-label input.sk-toggleable__control:checked~label.sk-toggleable__label {background-color: #d4ebff;}#sk-container-id-1 input.sk-hidden--visually {border: 0;clip: rect(1px 1px 1px 1px);clip: rect(1px, 1px, 1px, 1px);height: 1px;margin: -1px;overflow: hidden;padding: 0;position: absolute;width: 1px;}#sk-container-id-1 div.sk-estimator {font-family: monospace;background-color: #f0f8ff;border: 1px dotted black;border-radius: 0.25em;box-sizing: border-box;margin-bottom: 0.5em;}#sk-container-id-1 div.sk-estimator:hover {background-color: #d4ebff;}#sk-container-id-1 div.sk-parallel-item::after {content: \"\";width: 100%;border-bottom: 1px solid gray;flex-grow: 1;}#sk-container-id-1 div.sk-label:hover label.sk-toggleable__label {background-color: #d4ebff;}#sk-container-id-1 div.sk-serial::before {content: \"\";position: absolute;border-left: 1px solid gray;box-sizing: border-box;top: 0;bottom: 0;left: 50%;z-index: 0;}#sk-container-id-1 div.sk-serial {display: flex;flex-direction: column;align-items: center;background-color: white;padding-right: 0.2em;padding-left: 0.2em;position: relative;}#sk-container-id-1 div.sk-item {position: relative;z-index: 1;}#sk-container-id-1 div.sk-parallel {display: flex;align-items: stretch;justify-content: center;background-color: white;position: relative;}#sk-container-id-1 div.sk-item::before, #sk-container-id-1 div.sk-parallel-item::before {content: \"\";position: absolute;border-left: 1px solid gray;box-sizing: border-box;top: 0;bottom: 0;left: 50%;z-index: -1;}#sk-container-id-1 div.sk-parallel-item {display: flex;flex-direction: column;z-index: 1;position: relative;background-color: white;}#sk-container-id-1 div.sk-parallel-item:first-child::after {align-self: flex-end;width: 50%;}#sk-container-id-1 div.sk-parallel-item:last-child::after {align-self: flex-start;width: 50%;}#sk-container-id-1 div.sk-parallel-item:only-child::after {width: 0;}#sk-container-id-1 div.sk-dashed-wrapped {border: 1px dashed gray;margin: 0 0.4em 0.5em 0.4em;box-sizing: border-box;padding-bottom: 0.4em;background-color: white;}#sk-container-id-1 div.sk-label label {font-family: monospace;font-weight: bold;display: inline-block;line-height: 1.2em;}#sk-container-id-1 div.sk-label-container {text-align: center;}#sk-container-id-1 div.sk-container {/* jupyter's `normalize.less` sets `[hidden] { display: none; }` but bootstrap.min.css set `[hidden] { display: none !important; }` so we also need the `!important` here to be able to override the default hidden behavior on the sphinx rendered scikit-learn.org. See: https://github.com/scikit-learn/scikit-learn/issues/21755 */display: inline-block !important;position: relative;}#sk-container-id-1 div.sk-text-repr-fallback {display: none;}</style><div id=\"sk-container-id-1\" class=\"sk-top-container\"><div class=\"sk-text-repr-fallback\"><pre>Pipeline(steps=[(&#x27;preprocessing&#x27;,\n",
       "                 ColumnTransformer(sparse_threshold=0,\n",
       "                                   transformers=[(&#x27;num&#x27;,\n",
       "                                                  Pipeline(steps=[(&#x27;imputer&#x27;,\n",
       "                                                                   SimpleImputer(strategy=&#x27;median&#x27;))]),\n",
       "                                                  [&#x27;account_length&#x27;,\n",
       "                                                   &#x27;international_plan&#x27;,\n",
       "                                                   &#x27;voice_mail_plan&#x27;,\n",
       "                                                   &#x27;number_vmail_messages&#x27;,\n",
       "                                                   &#x27;total_day_minutes&#x27;,\n",
       "                                                   &#x27;total_day_calls&#x27;,\n",
       "                                                   &#x27;total_day_charge&#x27;,\n",
       "                                                   &#x27;total_eve_minutes&#x27;,\n",
       "                                                   &#x27;total_eve_calls&#x27;,\n",
       "                                                   &#x27;total_eve_charge&#x27;,\n",
       "                                                   &#x27;...\n",
       "                                                 (&#x27;one_hot&#x27;,\n",
       "                                                  Pipeline(steps=[(&#x27;imputer&#x27;,\n",
       "                                                                   SimpleImputer(strategy=&#x27;most_frequent&#x27;)),\n",
       "                                                                  (&#x27;encoder&#x27;,\n",
       "                                                                   OneHotEncoder(drop=&#x27;first&#x27;,\n",
       "                                                                                 handle_unknown=&#x27;ignore&#x27;))]),\n",
       "                                                  [&#x27;state&#x27;, &#x27;area_code&#x27;,\n",
       "                                                   &#x27;number_customer_service_calls&#x27;])])),\n",
       "                (&#x27;model&#x27;,\n",
       "                 HistGradientBoostingClassifier(class_weight=&#x27;balanced&#x27;,\n",
       "                                                early_stopping=False,\n",
       "                                                min_samples_leaf=30,\n",
       "                                                random_state=1234,\n",
       "                                                scoring=&#x27;balanced_accuracy&#x27;))])</pre><b>In a Jupyter environment, please rerun this cell to show the HTML representation or trust the notebook. <br />On GitHub, the HTML representation is unable to render, please try loading this page with nbviewer.org.</b></div><div class=\"sk-container\" hidden><div class=\"sk-item sk-dashed-wrapped\"><div class=\"sk-label-container\"><div class=\"sk-label sk-toggleable\"><input class=\"sk-toggleable__control sk-hidden--visually\" id=\"sk-estimator-id-1\" type=\"checkbox\" ><label for=\"sk-estimator-id-1\" class=\"sk-toggleable__label sk-toggleable__label-arrow\">Pipeline</label><div class=\"sk-toggleable__content\"><pre>Pipeline(steps=[(&#x27;preprocessing&#x27;,\n",
       "                 ColumnTransformer(sparse_threshold=0,\n",
       "                                   transformers=[(&#x27;num&#x27;,\n",
       "                                                  Pipeline(steps=[(&#x27;imputer&#x27;,\n",
       "                                                                   SimpleImputer(strategy=&#x27;median&#x27;))]),\n",
       "                                                  [&#x27;account_length&#x27;,\n",
       "                                                   &#x27;international_plan&#x27;,\n",
       "                                                   &#x27;voice_mail_plan&#x27;,\n",
       "                                                   &#x27;number_vmail_messages&#x27;,\n",
       "                                                   &#x27;total_day_minutes&#x27;,\n",
       "                                                   &#x27;total_day_calls&#x27;,\n",
       "                                                   &#x27;total_day_charge&#x27;,\n",
       "                                                   &#x27;total_eve_minutes&#x27;,\n",
       "                                                   &#x27;total_eve_calls&#x27;,\n",
       "                                                   &#x27;total_eve_charge&#x27;,\n",
       "                                                   &#x27;...\n",
       "                                                 (&#x27;one_hot&#x27;,\n",
       "                                                  Pipeline(steps=[(&#x27;imputer&#x27;,\n",
       "                                                                   SimpleImputer(strategy=&#x27;most_frequent&#x27;)),\n",
       "                                                                  (&#x27;encoder&#x27;,\n",
       "                                                                   OneHotEncoder(drop=&#x27;first&#x27;,\n",
       "                                                                                 handle_unknown=&#x27;ignore&#x27;))]),\n",
       "                                                  [&#x27;state&#x27;, &#x27;area_code&#x27;,\n",
       "                                                   &#x27;number_customer_service_calls&#x27;])])),\n",
       "                (&#x27;model&#x27;,\n",
       "                 HistGradientBoostingClassifier(class_weight=&#x27;balanced&#x27;,\n",
       "                                                early_stopping=False,\n",
       "                                                min_samples_leaf=30,\n",
       "                                                random_state=1234,\n",
       "                                                scoring=&#x27;balanced_accuracy&#x27;))])</pre></div></div></div><div class=\"sk-serial\"><div class=\"sk-item sk-dashed-wrapped\"><div class=\"sk-label-container\"><div class=\"sk-label sk-toggleable\"><input class=\"sk-toggleable__control sk-hidden--visually\" id=\"sk-estimator-id-2\" type=\"checkbox\" ><label for=\"sk-estimator-id-2\" class=\"sk-toggleable__label sk-toggleable__label-arrow\">preprocessing: ColumnTransformer</label><div class=\"sk-toggleable__content\"><pre>ColumnTransformer(sparse_threshold=0,\n",
       "                  transformers=[(&#x27;num&#x27;,\n",
       "                                 Pipeline(steps=[(&#x27;imputer&#x27;,\n",
       "                                                  SimpleImputer(strategy=&#x27;median&#x27;))]),\n",
       "                                 [&#x27;account_length&#x27;, &#x27;international_plan&#x27;,\n",
       "                                  &#x27;voice_mail_plan&#x27;, &#x27;number_vmail_messages&#x27;,\n",
       "                                  &#x27;total_day_minutes&#x27;, &#x27;total_day_calls&#x27;,\n",
       "                                  &#x27;total_day_charge&#x27;, &#x27;total_eve_minutes&#x27;,\n",
       "                                  &#x27;total_eve_calls&#x27;, &#x27;total_eve_charge&#x27;,\n",
       "                                  &#x27;total_night_minutes&#x27;, &#x27;total_night_calls&#x27;,\n",
       "                                  &#x27;total_night_charge&#x27;, &#x27;total_intl_minutes&#x27;,\n",
       "                                  &#x27;total_intl_calls&#x27;, &#x27;total_intl_charge&#x27;]),\n",
       "                                (&#x27;one_hot&#x27;,\n",
       "                                 Pipeline(steps=[(&#x27;imputer&#x27;,\n",
       "                                                  SimpleImputer(strategy=&#x27;most_frequent&#x27;)),\n",
       "                                                 (&#x27;encoder&#x27;,\n",
       "                                                  OneHotEncoder(drop=&#x27;first&#x27;,\n",
       "                                                                handle_unknown=&#x27;ignore&#x27;))]),\n",
       "                                 [&#x27;state&#x27;, &#x27;area_code&#x27;,\n",
       "                                  &#x27;number_customer_service_calls&#x27;])])</pre></div></div></div><div class=\"sk-parallel\"><div class=\"sk-parallel-item\"><div class=\"sk-item\"><div class=\"sk-label-container\"><div class=\"sk-label sk-toggleable\"><input class=\"sk-toggleable__control sk-hidden--visually\" id=\"sk-estimator-id-3\" type=\"checkbox\" ><label for=\"sk-estimator-id-3\" class=\"sk-toggleable__label sk-toggleable__label-arrow\">num</label><div class=\"sk-toggleable__content\"><pre>[&#x27;account_length&#x27;, &#x27;international_plan&#x27;, &#x27;voice_mail_plan&#x27;, &#x27;number_vmail_messages&#x27;, &#x27;total_day_minutes&#x27;, &#x27;total_day_calls&#x27;, &#x27;total_day_charge&#x27;, &#x27;total_eve_minutes&#x27;, &#x27;total_eve_calls&#x27;, &#x27;total_eve_charge&#x27;, &#x27;total_night_minutes&#x27;, &#x27;total_night_calls&#x27;, &#x27;total_night_charge&#x27;, &#x27;total_intl_minutes&#x27;, &#x27;total_intl_calls&#x27;, &#x27;total_intl_charge&#x27;]</pre></div></div></div><div class=\"sk-serial\"><div class=\"sk-item\"><div class=\"sk-serial\"><div class=\"sk-item\"><div class=\"sk-estimator sk-toggleable\"><input class=\"sk-toggleable__control sk-hidden--visually\" id=\"sk-estimator-id-4\" type=\"checkbox\" ><label for=\"sk-estimator-id-4\" class=\"sk-toggleable__label sk-toggleable__label-arrow\">SimpleImputer</label><div class=\"sk-toggleable__content\"><pre>SimpleImputer(strategy=&#x27;median&#x27;)</pre></div></div></div></div></div></div></div></div><div class=\"sk-parallel-item\"><div class=\"sk-item\"><div class=\"sk-label-container\"><div class=\"sk-label sk-toggleable\"><input class=\"sk-toggleable__control sk-hidden--visually\" id=\"sk-estimator-id-5\" type=\"checkbox\" ><label for=\"sk-estimator-id-5\" class=\"sk-toggleable__label sk-toggleable__label-arrow\">one_hot</label><div class=\"sk-toggleable__content\"><pre>[&#x27;state&#x27;, &#x27;area_code&#x27;, &#x27;number_customer_service_calls&#x27;]</pre></div></div></div><div class=\"sk-serial\"><div class=\"sk-item\"><div class=\"sk-serial\"><div class=\"sk-item\"><div class=\"sk-estimator sk-toggleable\"><input class=\"sk-toggleable__control sk-hidden--visually\" id=\"sk-estimator-id-6\" type=\"checkbox\" ><label for=\"sk-estimator-id-6\" class=\"sk-toggleable__label sk-toggleable__label-arrow\">SimpleImputer</label><div class=\"sk-toggleable__content\"><pre>SimpleImputer(strategy=&#x27;most_frequent&#x27;)</pre></div></div></div><div class=\"sk-item\"><div class=\"sk-estimator sk-toggleable\"><input class=\"sk-toggleable__control sk-hidden--visually\" id=\"sk-estimator-id-7\" type=\"checkbox\" ><label for=\"sk-estimator-id-7\" class=\"sk-toggleable__label sk-toggleable__label-arrow\">OneHotEncoder</label><div class=\"sk-toggleable__content\"><pre>OneHotEncoder(drop=&#x27;first&#x27;, handle_unknown=&#x27;ignore&#x27;)</pre></div></div></div></div></div></div></div></div></div></div><div class=\"sk-item\"><div class=\"sk-estimator sk-toggleable\"><input class=\"sk-toggleable__control sk-hidden--visually\" id=\"sk-estimator-id-8\" type=\"checkbox\" ><label for=\"sk-estimator-id-8\" class=\"sk-toggleable__label sk-toggleable__label-arrow\">HistGradientBoostingClassifier</label><div class=\"sk-toggleable__content\"><pre>HistGradientBoostingClassifier(class_weight=&#x27;balanced&#x27;, early_stopping=False,\n",
       "                               min_samples_leaf=30, random_state=1234,\n",
       "                               scoring=&#x27;balanced_accuracy&#x27;)</pre></div></div></div></div></div></div></div>"
      ],
      "text/plain": [
       "Pipeline(steps=[('preprocessing',\n",
       "                 ColumnTransformer(sparse_threshold=0,\n",
       "                                   transformers=[('num',\n",
       "                                                  Pipeline(steps=[('imputer',\n",
       "                                                                   SimpleImputer(strategy='median'))]),\n",
       "                                                  ['account_length',\n",
       "                                                   'international_plan',\n",
       "                                                   'voice_mail_plan',\n",
       "                                                   'number_vmail_messages',\n",
       "                                                   'total_day_minutes',\n",
       "                                                   'total_day_calls',\n",
       "                                                   'total_day_charge',\n",
       "                                                   'total_eve_minutes',\n",
       "                                                   'total_eve_calls',\n",
       "                                                   'total_eve_charge',\n",
       "                                                   '...\n",
       "                                                 ('one_hot',\n",
       "                                                  Pipeline(steps=[('imputer',\n",
       "                                                                   SimpleImputer(strategy='most_frequent')),\n",
       "                                                                  ('encoder',\n",
       "                                                                   OneHotEncoder(drop='first',\n",
       "                                                                                 handle_unknown='ignore'))]),\n",
       "                                                  ['state', 'area_code',\n",
       "                                                   'number_customer_service_calls'])])),\n",
       "                ('model',\n",
       "                 HistGradientBoostingClassifier(class_weight='balanced',\n",
       "                                                early_stopping=False,\n",
       "                                                min_samples_leaf=30,\n",
       "                                                random_state=1234,\n",
       "                                                scoring='balanced_accuracy'))])"
      ]
     },
     "execution_count": 32,
     "metadata": {},
     "output_type": "execute_result"
    }
   ],
   "source": [
    "# Display pipeline\n",
    "print(\"Time taken: \", ohe_hgb_default_time_taken)\n",
    "ohe_hgb_default"
   ]
  },
  {
   "cell_type": "code",
   "execution_count": 33,
   "id": "ee554470",
   "metadata": {},
   "outputs": [
    {
     "name": "stdout",
     "output_type": "stream",
     "text": [
      "Balanced accuracy with default parameters: 0.8874685380768776\n"
     ]
    }
   ],
   "source": [
    "# # Calculate balanced accuracy for the model with default parameters\n",
    "y_ohe_hgb_default_pred = ohe_hgb_default.predict(X_test)\n",
    "ohe_hgb_default_accuracy = balanced_accuracy_score(y_test, y_ohe_hgb_default_pred)\n",
    "print(f'Balanced accuracy with default parameters: {ohe_hgb_default_accuracy}')\n",
    "\n",
    "# Save results\n",
    "default_summary.append(\"Default\")\n",
    "card_9_summary.append(\"AllVariables\")\n",
    "encoder_summary.append(\"OneHotEncoding\")\n",
    "value_summary.append(ohe_hgb_default_accuracy)\n",
    "time_summary.append(ohe_hgb_default_time_taken)\n",
    "n_models_summary.append(1)"
   ]
  },
  {
   "cell_type": "markdown",
   "id": "f858e758",
   "metadata": {},
   "source": [
    "#### Create a HistGradientBoostingClassifier model for tuning"
   ]
  },
  {
   "cell_type": "code",
   "execution_count": 34,
   "id": "41dc2ce8",
   "metadata": {},
   "outputs": [],
   "source": [
    "ohe_hgb_tune = RandomizedSearchCV(estimator = ohe_hgb_default_pipeline, \n",
    "                                  param_distributions = param_distributions, \n",
    "                                  n_iter =100,\n",
    "                                  cv = stratified_kfold,\n",
    "                                  scoring = 'balanced_accuracy', \n",
    "                                  random_state = 1234,\n",
    "                                  n_jobs = -1)"
   ]
  },
  {
   "cell_type": "code",
   "execution_count": 35,
   "metadata": {},
   "outputs": [],
   "source": [
    "tic = time.time()\n",
    "\n",
    "ohe_hgb_tune = ohe_hgb_tune.fit(X_train, y_train)\n",
    "\n",
    "toc = time.time()\n",
    "ohe_hgb_tune_time_taken = toc-tic"
   ]
  },
  {
   "cell_type": "code",
   "execution_count": 36,
   "metadata": {},
   "outputs": [
    {
     "name": "stdout",
     "output_type": "stream",
     "text": [
      "Time taken:  95.50823664665222\n"
     ]
    },
    {
     "data": {
      "text/html": [
       "<style>#sk-container-id-2 {color: black;}#sk-container-id-2 pre{padding: 0;}#sk-container-id-2 div.sk-toggleable {background-color: white;}#sk-container-id-2 label.sk-toggleable__label {cursor: pointer;display: block;width: 100%;margin-bottom: 0;padding: 0.3em;box-sizing: border-box;text-align: center;}#sk-container-id-2 label.sk-toggleable__label-arrow:before {content: \"▸\";float: left;margin-right: 0.25em;color: #696969;}#sk-container-id-2 label.sk-toggleable__label-arrow:hover:before {color: black;}#sk-container-id-2 div.sk-estimator:hover label.sk-toggleable__label-arrow:before {color: black;}#sk-container-id-2 div.sk-toggleable__content {max-height: 0;max-width: 0;overflow: hidden;text-align: left;background-color: #f0f8ff;}#sk-container-id-2 div.sk-toggleable__content pre {margin: 0.2em;color: black;border-radius: 0.25em;background-color: #f0f8ff;}#sk-container-id-2 input.sk-toggleable__control:checked~div.sk-toggleable__content {max-height: 200px;max-width: 100%;overflow: auto;}#sk-container-id-2 input.sk-toggleable__control:checked~label.sk-toggleable__label-arrow:before {content: \"▾\";}#sk-container-id-2 div.sk-estimator input.sk-toggleable__control:checked~label.sk-toggleable__label {background-color: #d4ebff;}#sk-container-id-2 div.sk-label input.sk-toggleable__control:checked~label.sk-toggleable__label {background-color: #d4ebff;}#sk-container-id-2 input.sk-hidden--visually {border: 0;clip: rect(1px 1px 1px 1px);clip: rect(1px, 1px, 1px, 1px);height: 1px;margin: -1px;overflow: hidden;padding: 0;position: absolute;width: 1px;}#sk-container-id-2 div.sk-estimator {font-family: monospace;background-color: #f0f8ff;border: 1px dotted black;border-radius: 0.25em;box-sizing: border-box;margin-bottom: 0.5em;}#sk-container-id-2 div.sk-estimator:hover {background-color: #d4ebff;}#sk-container-id-2 div.sk-parallel-item::after {content: \"\";width: 100%;border-bottom: 1px solid gray;flex-grow: 1;}#sk-container-id-2 div.sk-label:hover label.sk-toggleable__label {background-color: #d4ebff;}#sk-container-id-2 div.sk-serial::before {content: \"\";position: absolute;border-left: 1px solid gray;box-sizing: border-box;top: 0;bottom: 0;left: 50%;z-index: 0;}#sk-container-id-2 div.sk-serial {display: flex;flex-direction: column;align-items: center;background-color: white;padding-right: 0.2em;padding-left: 0.2em;position: relative;}#sk-container-id-2 div.sk-item {position: relative;z-index: 1;}#sk-container-id-2 div.sk-parallel {display: flex;align-items: stretch;justify-content: center;background-color: white;position: relative;}#sk-container-id-2 div.sk-item::before, #sk-container-id-2 div.sk-parallel-item::before {content: \"\";position: absolute;border-left: 1px solid gray;box-sizing: border-box;top: 0;bottom: 0;left: 50%;z-index: -1;}#sk-container-id-2 div.sk-parallel-item {display: flex;flex-direction: column;z-index: 1;position: relative;background-color: white;}#sk-container-id-2 div.sk-parallel-item:first-child::after {align-self: flex-end;width: 50%;}#sk-container-id-2 div.sk-parallel-item:last-child::after {align-self: flex-start;width: 50%;}#sk-container-id-2 div.sk-parallel-item:only-child::after {width: 0;}#sk-container-id-2 div.sk-dashed-wrapped {border: 1px dashed gray;margin: 0 0.4em 0.5em 0.4em;box-sizing: border-box;padding-bottom: 0.4em;background-color: white;}#sk-container-id-2 div.sk-label label {font-family: monospace;font-weight: bold;display: inline-block;line-height: 1.2em;}#sk-container-id-2 div.sk-label-container {text-align: center;}#sk-container-id-2 div.sk-container {/* jupyter's `normalize.less` sets `[hidden] { display: none; }` but bootstrap.min.css set `[hidden] { display: none !important; }` so we also need the `!important` here to be able to override the default hidden behavior on the sphinx rendered scikit-learn.org. See: https://github.com/scikit-learn/scikit-learn/issues/21755 */display: inline-block !important;position: relative;}#sk-container-id-2 div.sk-text-repr-fallback {display: none;}</style><div id=\"sk-container-id-2\" class=\"sk-top-container\"><div class=\"sk-text-repr-fallback\"><pre>RandomizedSearchCV(cv=StratifiedKFold(n_splits=3, random_state=1234, shuffle=True),\n",
       "                   estimator=Pipeline(steps=[(&#x27;preprocessing&#x27;,\n",
       "                                              ColumnTransformer(sparse_threshold=0,\n",
       "                                                                transformers=[(&#x27;num&#x27;,\n",
       "                                                                               Pipeline(steps=[(&#x27;imputer&#x27;,\n",
       "                                                                                                SimpleImputer(strategy=&#x27;median&#x27;))]),\n",
       "                                                                               [&#x27;account_length&#x27;,\n",
       "                                                                                &#x27;international_plan&#x27;,\n",
       "                                                                                &#x27;voice_mail_plan&#x27;,\n",
       "                                                                                &#x27;number_vmail_messages&#x27;,\n",
       "                                                                                &#x27;total_day_minutes&#x27;,\n",
       "                                                                                &#x27;tot...\n",
       "                   param_distributions={&#x27;model__learning_rate&#x27;: &lt;scipy.stats._distn_infrastructure.rv_continuous_frozen object at 0x00000252B0583280&gt;,\n",
       "                                        &#x27;model__max_iter&#x27;: &lt;scipy.stats._distn_infrastructure.rv_discrete_frozen object at 0x00000252B0167CA0&gt;,\n",
       "                                        &#x27;model__min_samples_leaf&#x27;: &lt;scipy.stats._distn_infrastructure.rv_discrete_frozen object at 0x00000252B0583EB0&gt;},\n",
       "                   random_state=1234, scoring=&#x27;balanced_accuracy&#x27;)</pre><b>In a Jupyter environment, please rerun this cell to show the HTML representation or trust the notebook. <br />On GitHub, the HTML representation is unable to render, please try loading this page with nbviewer.org.</b></div><div class=\"sk-container\" hidden><div class=\"sk-item sk-dashed-wrapped\"><div class=\"sk-label-container\"><div class=\"sk-label sk-toggleable\"><input class=\"sk-toggleable__control sk-hidden--visually\" id=\"sk-estimator-id-9\" type=\"checkbox\" ><label for=\"sk-estimator-id-9\" class=\"sk-toggleable__label sk-toggleable__label-arrow\">RandomizedSearchCV</label><div class=\"sk-toggleable__content\"><pre>RandomizedSearchCV(cv=StratifiedKFold(n_splits=3, random_state=1234, shuffle=True),\n",
       "                   estimator=Pipeline(steps=[(&#x27;preprocessing&#x27;,\n",
       "                                              ColumnTransformer(sparse_threshold=0,\n",
       "                                                                transformers=[(&#x27;num&#x27;,\n",
       "                                                                               Pipeline(steps=[(&#x27;imputer&#x27;,\n",
       "                                                                                                SimpleImputer(strategy=&#x27;median&#x27;))]),\n",
       "                                                                               [&#x27;account_length&#x27;,\n",
       "                                                                                &#x27;international_plan&#x27;,\n",
       "                                                                                &#x27;voice_mail_plan&#x27;,\n",
       "                                                                                &#x27;number_vmail_messages&#x27;,\n",
       "                                                                                &#x27;total_day_minutes&#x27;,\n",
       "                                                                                &#x27;tot...\n",
       "                   param_distributions={&#x27;model__learning_rate&#x27;: &lt;scipy.stats._distn_infrastructure.rv_continuous_frozen object at 0x00000252B0583280&gt;,\n",
       "                                        &#x27;model__max_iter&#x27;: &lt;scipy.stats._distn_infrastructure.rv_discrete_frozen object at 0x00000252B0167CA0&gt;,\n",
       "                                        &#x27;model__min_samples_leaf&#x27;: &lt;scipy.stats._distn_infrastructure.rv_discrete_frozen object at 0x00000252B0583EB0&gt;},\n",
       "                   random_state=1234, scoring=&#x27;balanced_accuracy&#x27;)</pre></div></div></div><div class=\"sk-parallel\"><div class=\"sk-parallel-item\"><div class=\"sk-item\"><div class=\"sk-label-container\"><div class=\"sk-label sk-toggleable\"><input class=\"sk-toggleable__control sk-hidden--visually\" id=\"sk-estimator-id-10\" type=\"checkbox\" ><label for=\"sk-estimator-id-10\" class=\"sk-toggleable__label sk-toggleable__label-arrow\">estimator: Pipeline</label><div class=\"sk-toggleable__content\"><pre>Pipeline(steps=[(&#x27;preprocessing&#x27;,\n",
       "                 ColumnTransformer(sparse_threshold=0,\n",
       "                                   transformers=[(&#x27;num&#x27;,\n",
       "                                                  Pipeline(steps=[(&#x27;imputer&#x27;,\n",
       "                                                                   SimpleImputer(strategy=&#x27;median&#x27;))]),\n",
       "                                                  [&#x27;account_length&#x27;,\n",
       "                                                   &#x27;international_plan&#x27;,\n",
       "                                                   &#x27;voice_mail_plan&#x27;,\n",
       "                                                   &#x27;number_vmail_messages&#x27;,\n",
       "                                                   &#x27;total_day_minutes&#x27;,\n",
       "                                                   &#x27;total_day_calls&#x27;,\n",
       "                                                   &#x27;total_day_charge&#x27;,\n",
       "                                                   &#x27;total_eve_minutes&#x27;,\n",
       "                                                   &#x27;total_eve_calls&#x27;,\n",
       "                                                   &#x27;total_eve_charge&#x27;,\n",
       "                                                   &#x27;...\n",
       "                                                 (&#x27;one_hot&#x27;,\n",
       "                                                  Pipeline(steps=[(&#x27;imputer&#x27;,\n",
       "                                                                   SimpleImputer(strategy=&#x27;most_frequent&#x27;)),\n",
       "                                                                  (&#x27;encoder&#x27;,\n",
       "                                                                   OneHotEncoder(drop=&#x27;first&#x27;,\n",
       "                                                                                 handle_unknown=&#x27;ignore&#x27;))]),\n",
       "                                                  [&#x27;state&#x27;, &#x27;area_code&#x27;,\n",
       "                                                   &#x27;number_customer_service_calls&#x27;])])),\n",
       "                (&#x27;model&#x27;,\n",
       "                 HistGradientBoostingClassifier(class_weight=&#x27;balanced&#x27;,\n",
       "                                                early_stopping=False,\n",
       "                                                min_samples_leaf=30,\n",
       "                                                random_state=1234,\n",
       "                                                scoring=&#x27;balanced_accuracy&#x27;))])</pre></div></div></div><div class=\"sk-serial\"><div class=\"sk-item\"><div class=\"sk-serial\"><div class=\"sk-item sk-dashed-wrapped\"><div class=\"sk-label-container\"><div class=\"sk-label sk-toggleable\"><input class=\"sk-toggleable__control sk-hidden--visually\" id=\"sk-estimator-id-11\" type=\"checkbox\" ><label for=\"sk-estimator-id-11\" class=\"sk-toggleable__label sk-toggleable__label-arrow\">preprocessing: ColumnTransformer</label><div class=\"sk-toggleable__content\"><pre>ColumnTransformer(sparse_threshold=0,\n",
       "                  transformers=[(&#x27;num&#x27;,\n",
       "                                 Pipeline(steps=[(&#x27;imputer&#x27;,\n",
       "                                                  SimpleImputer(strategy=&#x27;median&#x27;))]),\n",
       "                                 [&#x27;account_length&#x27;, &#x27;international_plan&#x27;,\n",
       "                                  &#x27;voice_mail_plan&#x27;, &#x27;number_vmail_messages&#x27;,\n",
       "                                  &#x27;total_day_minutes&#x27;, &#x27;total_day_calls&#x27;,\n",
       "                                  &#x27;total_day_charge&#x27;, &#x27;total_eve_minutes&#x27;,\n",
       "                                  &#x27;total_eve_calls&#x27;, &#x27;total_eve_charge&#x27;,\n",
       "                                  &#x27;total_night_minutes&#x27;, &#x27;total_night_calls&#x27;,\n",
       "                                  &#x27;total_night_charge&#x27;, &#x27;total_intl_minutes&#x27;,\n",
       "                                  &#x27;total_intl_calls&#x27;, &#x27;total_intl_charge&#x27;]),\n",
       "                                (&#x27;one_hot&#x27;,\n",
       "                                 Pipeline(steps=[(&#x27;imputer&#x27;,\n",
       "                                                  SimpleImputer(strategy=&#x27;most_frequent&#x27;)),\n",
       "                                                 (&#x27;encoder&#x27;,\n",
       "                                                  OneHotEncoder(drop=&#x27;first&#x27;,\n",
       "                                                                handle_unknown=&#x27;ignore&#x27;))]),\n",
       "                                 [&#x27;state&#x27;, &#x27;area_code&#x27;,\n",
       "                                  &#x27;number_customer_service_calls&#x27;])])</pre></div></div></div><div class=\"sk-parallel\"><div class=\"sk-parallel-item\"><div class=\"sk-item\"><div class=\"sk-label-container\"><div class=\"sk-label sk-toggleable\"><input class=\"sk-toggleable__control sk-hidden--visually\" id=\"sk-estimator-id-12\" type=\"checkbox\" ><label for=\"sk-estimator-id-12\" class=\"sk-toggleable__label sk-toggleable__label-arrow\">num</label><div class=\"sk-toggleable__content\"><pre>[&#x27;account_length&#x27;, &#x27;international_plan&#x27;, &#x27;voice_mail_plan&#x27;, &#x27;number_vmail_messages&#x27;, &#x27;total_day_minutes&#x27;, &#x27;total_day_calls&#x27;, &#x27;total_day_charge&#x27;, &#x27;total_eve_minutes&#x27;, &#x27;total_eve_calls&#x27;, &#x27;total_eve_charge&#x27;, &#x27;total_night_minutes&#x27;, &#x27;total_night_calls&#x27;, &#x27;total_night_charge&#x27;, &#x27;total_intl_minutes&#x27;, &#x27;total_intl_calls&#x27;, &#x27;total_intl_charge&#x27;]</pre></div></div></div><div class=\"sk-serial\"><div class=\"sk-item\"><div class=\"sk-serial\"><div class=\"sk-item\"><div class=\"sk-estimator sk-toggleable\"><input class=\"sk-toggleable__control sk-hidden--visually\" id=\"sk-estimator-id-13\" type=\"checkbox\" ><label for=\"sk-estimator-id-13\" class=\"sk-toggleable__label sk-toggleable__label-arrow\">SimpleImputer</label><div class=\"sk-toggleable__content\"><pre>SimpleImputer(strategy=&#x27;median&#x27;)</pre></div></div></div></div></div></div></div></div><div class=\"sk-parallel-item\"><div class=\"sk-item\"><div class=\"sk-label-container\"><div class=\"sk-label sk-toggleable\"><input class=\"sk-toggleable__control sk-hidden--visually\" id=\"sk-estimator-id-14\" type=\"checkbox\" ><label for=\"sk-estimator-id-14\" class=\"sk-toggleable__label sk-toggleable__label-arrow\">one_hot</label><div class=\"sk-toggleable__content\"><pre>[&#x27;state&#x27;, &#x27;area_code&#x27;, &#x27;number_customer_service_calls&#x27;]</pre></div></div></div><div class=\"sk-serial\"><div class=\"sk-item\"><div class=\"sk-serial\"><div class=\"sk-item\"><div class=\"sk-estimator sk-toggleable\"><input class=\"sk-toggleable__control sk-hidden--visually\" id=\"sk-estimator-id-15\" type=\"checkbox\" ><label for=\"sk-estimator-id-15\" class=\"sk-toggleable__label sk-toggleable__label-arrow\">SimpleImputer</label><div class=\"sk-toggleable__content\"><pre>SimpleImputer(strategy=&#x27;most_frequent&#x27;)</pre></div></div></div><div class=\"sk-item\"><div class=\"sk-estimator sk-toggleable\"><input class=\"sk-toggleable__control sk-hidden--visually\" id=\"sk-estimator-id-16\" type=\"checkbox\" ><label for=\"sk-estimator-id-16\" class=\"sk-toggleable__label sk-toggleable__label-arrow\">OneHotEncoder</label><div class=\"sk-toggleable__content\"><pre>OneHotEncoder(drop=&#x27;first&#x27;, handle_unknown=&#x27;ignore&#x27;)</pre></div></div></div></div></div></div></div></div></div></div><div class=\"sk-item\"><div class=\"sk-estimator sk-toggleable\"><input class=\"sk-toggleable__control sk-hidden--visually\" id=\"sk-estimator-id-17\" type=\"checkbox\" ><label for=\"sk-estimator-id-17\" class=\"sk-toggleable__label sk-toggleable__label-arrow\">HistGradientBoostingClassifier</label><div class=\"sk-toggleable__content\"><pre>HistGradientBoostingClassifier(class_weight=&#x27;balanced&#x27;, early_stopping=False,\n",
       "                               min_samples_leaf=30, random_state=1234,\n",
       "                               scoring=&#x27;balanced_accuracy&#x27;)</pre></div></div></div></div></div></div></div></div></div></div></div></div>"
      ],
      "text/plain": [
       "RandomizedSearchCV(cv=StratifiedKFold(n_splits=3, random_state=1234, shuffle=True),\n",
       "                   estimator=Pipeline(steps=[('preprocessing',\n",
       "                                              ColumnTransformer(sparse_threshold=0,\n",
       "                                                                transformers=[('num',\n",
       "                                                                               Pipeline(steps=[('imputer',\n",
       "                                                                                                SimpleImputer(strategy='median'))]),\n",
       "                                                                               ['account_length',\n",
       "                                                                                'international_plan',\n",
       "                                                                                'voice_mail_plan',\n",
       "                                                                                'number_vmail_messages',\n",
       "                                                                                'total_day_minutes',\n",
       "                                                                                'tot...\n",
       "                   param_distributions={'model__learning_rate': <scipy.stats._distn_infrastructure.rv_continuous_frozen object at 0x00000252B0583280>,\n",
       "                                        'model__max_iter': <scipy.stats._distn_infrastructure.rv_discrete_frozen object at 0x00000252B0167CA0>,\n",
       "                                        'model__min_samples_leaf': <scipy.stats._distn_infrastructure.rv_discrete_frozen object at 0x00000252B0583EB0>},\n",
       "                   random_state=1234, scoring='balanced_accuracy')"
      ]
     },
     "execution_count": 36,
     "metadata": {},
     "output_type": "execute_result"
    }
   ],
   "source": [
    "# Display pipeline\n",
    "print(\"Time taken: \", ohe_hgb_tune_time_taken)\n",
    "ohe_hgb_tune"
   ]
  },
  {
   "cell_type": "code",
   "execution_count": 37,
   "id": "51aaf60f",
   "metadata": {
    "scrolled": true
   },
   "outputs": [
    {
     "name": "stdout",
     "output_type": "stream",
     "text": [
      "Best parameters: {'model__learning_rate': 0.25048077955082804, 'model__max_iter': 11, 'model__min_samples_leaf': 12}\n",
      "Balanced accuracy with best parameters: 0.8890238398841778\n"
     ]
    }
   ],
   "source": [
    "# Get the best parameters\n",
    "ohe_hgb_tune_best_params = ohe_hgb_tune.best_params_\n",
    "print(f'Best parameters: {ohe_hgb_tune_best_params}')\n",
    "\n",
    "# Predict using the model with the best parameters\n",
    "y_ohe_hgb_tune_pred = ohe_hgb_tune.predict(X_test)\n",
    "ohe_hgb_tune_accuracy = balanced_accuracy_score(y_test, y_ohe_hgb_tune_pred)\n",
    "print(f'Balanced accuracy with best parameters: {ohe_hgb_tune_accuracy}')\n",
    "\n",
    "# Save results\n",
    "default_summary.append(\"Tune\")\n",
    "card_9_summary.append(\"AllVariables\")\n",
    "encoder_summary.append(\"OneHotEncoding\")\n",
    "value_summary.append(ohe_hgb_tune_accuracy)\n",
    "time_summary.append(ohe_hgb_tune_time_taken)\n",
    "n_models_summary.append(ohe_hgb_tune.n_iter)"
   ]
  },
  {
   "cell_type": "markdown",
   "id": "08858430",
   "metadata": {},
   "source": [
    "### Count Encoder + HistGradientBoosting\n"
   ]
  },
  {
   "cell_type": "code",
   "execution_count": 38,
   "id": "61db2219",
   "metadata": {},
   "outputs": [],
   "source": [
    "from category_encoders.count import CountEncoder"
   ]
  },
  {
   "cell_type": "markdown",
   "id": "9cedba6a",
   "metadata": {},
   "source": [
    "#### Preprocessing"
   ]
  },
  {
   "cell_type": "code",
   "execution_count": 39,
   "id": "d73d6a57",
   "metadata": {},
   "outputs": [],
   "source": [
    "cat_pipeline_more9 = Pipeline([\n",
    "    (\"imputer\", SimpleImputer(strategy = \"most_frequent\")),\n",
    "    (\"encoder\", CountEncoder())\n",
    "])\n",
    "\n",
    "cat_pipeline_less9 = Pipeline([\n",
    "    (\"imputer\", SimpleImputer(strategy = \"most_frequent\")),\n",
    "    (\"encoder\", OneHotEncoder(drop = \"first\", handle_unknown = \"ignore\"))\n",
    "])\n",
    "\n",
    "preprop_pipeline = ColumnTransformer(\n",
    "    transformers = [(\"num\", num_pipeline, num_cols),\n",
    "                    (\"count_encoder\", cat_pipeline_more9, cat_cols)],\n",
    "    sparse_threshold=0\n",
    ")\n",
    "\n",
    "preprop_pipeline9 = ColumnTransformer(\n",
    "    transformers = [(\"num\", num_pipeline, num_cols),\n",
    "                    (\"one_hot_encoding\", cat_pipeline_less9, cat_cols_less9),\n",
    "                    (\"count_encoder\", cat_pipeline_more9, cat_cols_more9)],\n",
    "    sparse_threshold=0\n",
    ")"
   ]
  },
  {
   "cell_type": "markdown",
   "id": "037efae9",
   "metadata": {},
   "source": [
    "#### Create a HistGradientBoostingClassifier model with default parameters and early stopping"
   ]
  },
  {
   "cell_type": "code",
   "execution_count": 40,
   "id": "fd90a4a3",
   "metadata": {},
   "outputs": [],
   "source": [
    "count_hgb_default_pipeline = Pipeline([('preprocessing', preprop_pipeline),\n",
    "                                       ('model', hgb_default)])\n",
    "count_hgb_default_pipeline9 = Pipeline([('preprocessing', preprop_pipeline9),\n",
    "                                        ('model', hgb_default9)])"
   ]
  },
  {
   "cell_type": "code",
   "execution_count": 41,
   "id": "bc4e2c6c",
   "metadata": {},
   "outputs": [],
   "source": [
    "tic = time.time()\n",
    "\n",
    "count_hgb_default = count_hgb_default_pipeline.fit(X_train, y_train)\n",
    "\n",
    "toc = time.time()\n",
    "count_hgb_default_time_taken = toc-tic"
   ]
  },
  {
   "cell_type": "code",
   "execution_count": 42,
   "metadata": {},
   "outputs": [
    {
     "name": "stdout",
     "output_type": "stream",
     "text": [
      "Time taken:  0.6058032512664795\n"
     ]
    },
    {
     "data": {
      "text/html": [
       "<style>#sk-container-id-3 {color: black;}#sk-container-id-3 pre{padding: 0;}#sk-container-id-3 div.sk-toggleable {background-color: white;}#sk-container-id-3 label.sk-toggleable__label {cursor: pointer;display: block;width: 100%;margin-bottom: 0;padding: 0.3em;box-sizing: border-box;text-align: center;}#sk-container-id-3 label.sk-toggleable__label-arrow:before {content: \"▸\";float: left;margin-right: 0.25em;color: #696969;}#sk-container-id-3 label.sk-toggleable__label-arrow:hover:before {color: black;}#sk-container-id-3 div.sk-estimator:hover label.sk-toggleable__label-arrow:before {color: black;}#sk-container-id-3 div.sk-toggleable__content {max-height: 0;max-width: 0;overflow: hidden;text-align: left;background-color: #f0f8ff;}#sk-container-id-3 div.sk-toggleable__content pre {margin: 0.2em;color: black;border-radius: 0.25em;background-color: #f0f8ff;}#sk-container-id-3 input.sk-toggleable__control:checked~div.sk-toggleable__content {max-height: 200px;max-width: 100%;overflow: auto;}#sk-container-id-3 input.sk-toggleable__control:checked~label.sk-toggleable__label-arrow:before {content: \"▾\";}#sk-container-id-3 div.sk-estimator input.sk-toggleable__control:checked~label.sk-toggleable__label {background-color: #d4ebff;}#sk-container-id-3 div.sk-label input.sk-toggleable__control:checked~label.sk-toggleable__label {background-color: #d4ebff;}#sk-container-id-3 input.sk-hidden--visually {border: 0;clip: rect(1px 1px 1px 1px);clip: rect(1px, 1px, 1px, 1px);height: 1px;margin: -1px;overflow: hidden;padding: 0;position: absolute;width: 1px;}#sk-container-id-3 div.sk-estimator {font-family: monospace;background-color: #f0f8ff;border: 1px dotted black;border-radius: 0.25em;box-sizing: border-box;margin-bottom: 0.5em;}#sk-container-id-3 div.sk-estimator:hover {background-color: #d4ebff;}#sk-container-id-3 div.sk-parallel-item::after {content: \"\";width: 100%;border-bottom: 1px solid gray;flex-grow: 1;}#sk-container-id-3 div.sk-label:hover label.sk-toggleable__label {background-color: #d4ebff;}#sk-container-id-3 div.sk-serial::before {content: \"\";position: absolute;border-left: 1px solid gray;box-sizing: border-box;top: 0;bottom: 0;left: 50%;z-index: 0;}#sk-container-id-3 div.sk-serial {display: flex;flex-direction: column;align-items: center;background-color: white;padding-right: 0.2em;padding-left: 0.2em;position: relative;}#sk-container-id-3 div.sk-item {position: relative;z-index: 1;}#sk-container-id-3 div.sk-parallel {display: flex;align-items: stretch;justify-content: center;background-color: white;position: relative;}#sk-container-id-3 div.sk-item::before, #sk-container-id-3 div.sk-parallel-item::before {content: \"\";position: absolute;border-left: 1px solid gray;box-sizing: border-box;top: 0;bottom: 0;left: 50%;z-index: -1;}#sk-container-id-3 div.sk-parallel-item {display: flex;flex-direction: column;z-index: 1;position: relative;background-color: white;}#sk-container-id-3 div.sk-parallel-item:first-child::after {align-self: flex-end;width: 50%;}#sk-container-id-3 div.sk-parallel-item:last-child::after {align-self: flex-start;width: 50%;}#sk-container-id-3 div.sk-parallel-item:only-child::after {width: 0;}#sk-container-id-3 div.sk-dashed-wrapped {border: 1px dashed gray;margin: 0 0.4em 0.5em 0.4em;box-sizing: border-box;padding-bottom: 0.4em;background-color: white;}#sk-container-id-3 div.sk-label label {font-family: monospace;font-weight: bold;display: inline-block;line-height: 1.2em;}#sk-container-id-3 div.sk-label-container {text-align: center;}#sk-container-id-3 div.sk-container {/* jupyter's `normalize.less` sets `[hidden] { display: none; }` but bootstrap.min.css set `[hidden] { display: none !important; }` so we also need the `!important` here to be able to override the default hidden behavior on the sphinx rendered scikit-learn.org. See: https://github.com/scikit-learn/scikit-learn/issues/21755 */display: inline-block !important;position: relative;}#sk-container-id-3 div.sk-text-repr-fallback {display: none;}</style><div id=\"sk-container-id-3\" class=\"sk-top-container\"><div class=\"sk-text-repr-fallback\"><pre>Pipeline(steps=[(&#x27;preprocessing&#x27;,\n",
       "                 ColumnTransformer(sparse_threshold=0,\n",
       "                                   transformers=[(&#x27;num&#x27;,\n",
       "                                                  Pipeline(steps=[(&#x27;imputer&#x27;,\n",
       "                                                                   SimpleImputer(strategy=&#x27;median&#x27;))]),\n",
       "                                                  [&#x27;account_length&#x27;,\n",
       "                                                   &#x27;international_plan&#x27;,\n",
       "                                                   &#x27;voice_mail_plan&#x27;,\n",
       "                                                   &#x27;number_vmail_messages&#x27;,\n",
       "                                                   &#x27;total_day_minutes&#x27;,\n",
       "                                                   &#x27;total_day_calls&#x27;,\n",
       "                                                   &#x27;total_day_charge&#x27;,\n",
       "                                                   &#x27;total_eve_minutes&#x27;,\n",
       "                                                   &#x27;total_eve_calls&#x27;,\n",
       "                                                   &#x27;total_eve_charge&#x27;,\n",
       "                                                   &#x27;...\n",
       "                                                 (&#x27;count_encoder&#x27;,\n",
       "                                                  Pipeline(steps=[(&#x27;imputer&#x27;,\n",
       "                                                                   SimpleImputer(strategy=&#x27;most_frequent&#x27;)),\n",
       "                                                                  (&#x27;encoder&#x27;,\n",
       "                                                                   CountEncoder(combine_min_nan_groups=True))]),\n",
       "                                                  [&#x27;state&#x27;, &#x27;area_code&#x27;,\n",
       "                                                   &#x27;number_customer_service_calls&#x27;])])),\n",
       "                (&#x27;model&#x27;,\n",
       "                 HistGradientBoostingClassifier(class_weight=&#x27;balanced&#x27;,\n",
       "                                                early_stopping=False,\n",
       "                                                min_samples_leaf=30,\n",
       "                                                random_state=1234,\n",
       "                                                scoring=&#x27;balanced_accuracy&#x27;))])</pre><b>In a Jupyter environment, please rerun this cell to show the HTML representation or trust the notebook. <br />On GitHub, the HTML representation is unable to render, please try loading this page with nbviewer.org.</b></div><div class=\"sk-container\" hidden><div class=\"sk-item sk-dashed-wrapped\"><div class=\"sk-label-container\"><div class=\"sk-label sk-toggleable\"><input class=\"sk-toggleable__control sk-hidden--visually\" id=\"sk-estimator-id-18\" type=\"checkbox\" ><label for=\"sk-estimator-id-18\" class=\"sk-toggleable__label sk-toggleable__label-arrow\">Pipeline</label><div class=\"sk-toggleable__content\"><pre>Pipeline(steps=[(&#x27;preprocessing&#x27;,\n",
       "                 ColumnTransformer(sparse_threshold=0,\n",
       "                                   transformers=[(&#x27;num&#x27;,\n",
       "                                                  Pipeline(steps=[(&#x27;imputer&#x27;,\n",
       "                                                                   SimpleImputer(strategy=&#x27;median&#x27;))]),\n",
       "                                                  [&#x27;account_length&#x27;,\n",
       "                                                   &#x27;international_plan&#x27;,\n",
       "                                                   &#x27;voice_mail_plan&#x27;,\n",
       "                                                   &#x27;number_vmail_messages&#x27;,\n",
       "                                                   &#x27;total_day_minutes&#x27;,\n",
       "                                                   &#x27;total_day_calls&#x27;,\n",
       "                                                   &#x27;total_day_charge&#x27;,\n",
       "                                                   &#x27;total_eve_minutes&#x27;,\n",
       "                                                   &#x27;total_eve_calls&#x27;,\n",
       "                                                   &#x27;total_eve_charge&#x27;,\n",
       "                                                   &#x27;...\n",
       "                                                 (&#x27;count_encoder&#x27;,\n",
       "                                                  Pipeline(steps=[(&#x27;imputer&#x27;,\n",
       "                                                                   SimpleImputer(strategy=&#x27;most_frequent&#x27;)),\n",
       "                                                                  (&#x27;encoder&#x27;,\n",
       "                                                                   CountEncoder(combine_min_nan_groups=True))]),\n",
       "                                                  [&#x27;state&#x27;, &#x27;area_code&#x27;,\n",
       "                                                   &#x27;number_customer_service_calls&#x27;])])),\n",
       "                (&#x27;model&#x27;,\n",
       "                 HistGradientBoostingClassifier(class_weight=&#x27;balanced&#x27;,\n",
       "                                                early_stopping=False,\n",
       "                                                min_samples_leaf=30,\n",
       "                                                random_state=1234,\n",
       "                                                scoring=&#x27;balanced_accuracy&#x27;))])</pre></div></div></div><div class=\"sk-serial\"><div class=\"sk-item sk-dashed-wrapped\"><div class=\"sk-label-container\"><div class=\"sk-label sk-toggleable\"><input class=\"sk-toggleable__control sk-hidden--visually\" id=\"sk-estimator-id-19\" type=\"checkbox\" ><label for=\"sk-estimator-id-19\" class=\"sk-toggleable__label sk-toggleable__label-arrow\">preprocessing: ColumnTransformer</label><div class=\"sk-toggleable__content\"><pre>ColumnTransformer(sparse_threshold=0,\n",
       "                  transformers=[(&#x27;num&#x27;,\n",
       "                                 Pipeline(steps=[(&#x27;imputer&#x27;,\n",
       "                                                  SimpleImputer(strategy=&#x27;median&#x27;))]),\n",
       "                                 [&#x27;account_length&#x27;, &#x27;international_plan&#x27;,\n",
       "                                  &#x27;voice_mail_plan&#x27;, &#x27;number_vmail_messages&#x27;,\n",
       "                                  &#x27;total_day_minutes&#x27;, &#x27;total_day_calls&#x27;,\n",
       "                                  &#x27;total_day_charge&#x27;, &#x27;total_eve_minutes&#x27;,\n",
       "                                  &#x27;total_eve_calls&#x27;, &#x27;total_eve_charge&#x27;,\n",
       "                                  &#x27;total_night_minutes&#x27;, &#x27;total_night_calls&#x27;,\n",
       "                                  &#x27;total_night_charge&#x27;, &#x27;total_intl_minutes&#x27;,\n",
       "                                  &#x27;total_intl_calls&#x27;, &#x27;total_intl_charge&#x27;]),\n",
       "                                (&#x27;count_encoder&#x27;,\n",
       "                                 Pipeline(steps=[(&#x27;imputer&#x27;,\n",
       "                                                  SimpleImputer(strategy=&#x27;most_frequent&#x27;)),\n",
       "                                                 (&#x27;encoder&#x27;,\n",
       "                                                  CountEncoder(combine_min_nan_groups=True))]),\n",
       "                                 [&#x27;state&#x27;, &#x27;area_code&#x27;,\n",
       "                                  &#x27;number_customer_service_calls&#x27;])])</pre></div></div></div><div class=\"sk-parallel\"><div class=\"sk-parallel-item\"><div class=\"sk-item\"><div class=\"sk-label-container\"><div class=\"sk-label sk-toggleable\"><input class=\"sk-toggleable__control sk-hidden--visually\" id=\"sk-estimator-id-20\" type=\"checkbox\" ><label for=\"sk-estimator-id-20\" class=\"sk-toggleable__label sk-toggleable__label-arrow\">num</label><div class=\"sk-toggleable__content\"><pre>[&#x27;account_length&#x27;, &#x27;international_plan&#x27;, &#x27;voice_mail_plan&#x27;, &#x27;number_vmail_messages&#x27;, &#x27;total_day_minutes&#x27;, &#x27;total_day_calls&#x27;, &#x27;total_day_charge&#x27;, &#x27;total_eve_minutes&#x27;, &#x27;total_eve_calls&#x27;, &#x27;total_eve_charge&#x27;, &#x27;total_night_minutes&#x27;, &#x27;total_night_calls&#x27;, &#x27;total_night_charge&#x27;, &#x27;total_intl_minutes&#x27;, &#x27;total_intl_calls&#x27;, &#x27;total_intl_charge&#x27;]</pre></div></div></div><div class=\"sk-serial\"><div class=\"sk-item\"><div class=\"sk-serial\"><div class=\"sk-item\"><div class=\"sk-estimator sk-toggleable\"><input class=\"sk-toggleable__control sk-hidden--visually\" id=\"sk-estimator-id-21\" type=\"checkbox\" ><label for=\"sk-estimator-id-21\" class=\"sk-toggleable__label sk-toggleable__label-arrow\">SimpleImputer</label><div class=\"sk-toggleable__content\"><pre>SimpleImputer(strategy=&#x27;median&#x27;)</pre></div></div></div></div></div></div></div></div><div class=\"sk-parallel-item\"><div class=\"sk-item\"><div class=\"sk-label-container\"><div class=\"sk-label sk-toggleable\"><input class=\"sk-toggleable__control sk-hidden--visually\" id=\"sk-estimator-id-22\" type=\"checkbox\" ><label for=\"sk-estimator-id-22\" class=\"sk-toggleable__label sk-toggleable__label-arrow\">count_encoder</label><div class=\"sk-toggleable__content\"><pre>[&#x27;state&#x27;, &#x27;area_code&#x27;, &#x27;number_customer_service_calls&#x27;]</pre></div></div></div><div class=\"sk-serial\"><div class=\"sk-item\"><div class=\"sk-serial\"><div class=\"sk-item\"><div class=\"sk-estimator sk-toggleable\"><input class=\"sk-toggleable__control sk-hidden--visually\" id=\"sk-estimator-id-23\" type=\"checkbox\" ><label for=\"sk-estimator-id-23\" class=\"sk-toggleable__label sk-toggleable__label-arrow\">SimpleImputer</label><div class=\"sk-toggleable__content\"><pre>SimpleImputer(strategy=&#x27;most_frequent&#x27;)</pre></div></div></div><div class=\"sk-item\"><div class=\"sk-estimator sk-toggleable\"><input class=\"sk-toggleable__control sk-hidden--visually\" id=\"sk-estimator-id-24\" type=\"checkbox\" ><label for=\"sk-estimator-id-24\" class=\"sk-toggleable__label sk-toggleable__label-arrow\">CountEncoder</label><div class=\"sk-toggleable__content\"><pre>CountEncoder(combine_min_nan_groups=True)</pre></div></div></div></div></div></div></div></div></div></div><div class=\"sk-item\"><div class=\"sk-estimator sk-toggleable\"><input class=\"sk-toggleable__control sk-hidden--visually\" id=\"sk-estimator-id-25\" type=\"checkbox\" ><label for=\"sk-estimator-id-25\" class=\"sk-toggleable__label sk-toggleable__label-arrow\">HistGradientBoostingClassifier</label><div class=\"sk-toggleable__content\"><pre>HistGradientBoostingClassifier(class_weight=&#x27;balanced&#x27;, early_stopping=False,\n",
       "                               min_samples_leaf=30, random_state=1234,\n",
       "                               scoring=&#x27;balanced_accuracy&#x27;)</pre></div></div></div></div></div></div></div>"
      ],
      "text/plain": [
       "Pipeline(steps=[('preprocessing',\n",
       "                 ColumnTransformer(sparse_threshold=0,\n",
       "                                   transformers=[('num',\n",
       "                                                  Pipeline(steps=[('imputer',\n",
       "                                                                   SimpleImputer(strategy='median'))]),\n",
       "                                                  ['account_length',\n",
       "                                                   'international_plan',\n",
       "                                                   'voice_mail_plan',\n",
       "                                                   'number_vmail_messages',\n",
       "                                                   'total_day_minutes',\n",
       "                                                   'total_day_calls',\n",
       "                                                   'total_day_charge',\n",
       "                                                   'total_eve_minutes',\n",
       "                                                   'total_eve_calls',\n",
       "                                                   'total_eve_charge',\n",
       "                                                   '...\n",
       "                                                 ('count_encoder',\n",
       "                                                  Pipeline(steps=[('imputer',\n",
       "                                                                   SimpleImputer(strategy='most_frequent')),\n",
       "                                                                  ('encoder',\n",
       "                                                                   CountEncoder(combine_min_nan_groups=True))]),\n",
       "                                                  ['state', 'area_code',\n",
       "                                                   'number_customer_service_calls'])])),\n",
       "                ('model',\n",
       "                 HistGradientBoostingClassifier(class_weight='balanced',\n",
       "                                                early_stopping=False,\n",
       "                                                min_samples_leaf=30,\n",
       "                                                random_state=1234,\n",
       "                                                scoring='balanced_accuracy'))])"
      ]
     },
     "execution_count": 42,
     "metadata": {},
     "output_type": "execute_result"
    }
   ],
   "source": [
    "# Display pipeline\n",
    "print(\"Time taken: \", count_hgb_default_time_taken)\n",
    "count_hgb_default"
   ]
  },
  {
   "cell_type": "code",
   "execution_count": 43,
   "id": "623276a2",
   "metadata": {
    "scrolled": false
   },
   "outputs": [],
   "source": [
    "tic = time.time()\n",
    "\n",
    "count_hgb_default9 = count_hgb_default_pipeline9.fit(X_train, y_train)\n",
    "\n",
    "toc = time.time()\n",
    "count_hgb_default9_time_taken = toc-tic"
   ]
  },
  {
   "cell_type": "code",
   "execution_count": 44,
   "metadata": {},
   "outputs": [
    {
     "name": "stdout",
     "output_type": "stream",
     "text": [
      "Time taken:  0.650198221206665\n"
     ]
    },
    {
     "data": {
      "text/html": [
       "<style>#sk-container-id-4 {color: black;}#sk-container-id-4 pre{padding: 0;}#sk-container-id-4 div.sk-toggleable {background-color: white;}#sk-container-id-4 label.sk-toggleable__label {cursor: pointer;display: block;width: 100%;margin-bottom: 0;padding: 0.3em;box-sizing: border-box;text-align: center;}#sk-container-id-4 label.sk-toggleable__label-arrow:before {content: \"▸\";float: left;margin-right: 0.25em;color: #696969;}#sk-container-id-4 label.sk-toggleable__label-arrow:hover:before {color: black;}#sk-container-id-4 div.sk-estimator:hover label.sk-toggleable__label-arrow:before {color: black;}#sk-container-id-4 div.sk-toggleable__content {max-height: 0;max-width: 0;overflow: hidden;text-align: left;background-color: #f0f8ff;}#sk-container-id-4 div.sk-toggleable__content pre {margin: 0.2em;color: black;border-radius: 0.25em;background-color: #f0f8ff;}#sk-container-id-4 input.sk-toggleable__control:checked~div.sk-toggleable__content {max-height: 200px;max-width: 100%;overflow: auto;}#sk-container-id-4 input.sk-toggleable__control:checked~label.sk-toggleable__label-arrow:before {content: \"▾\";}#sk-container-id-4 div.sk-estimator input.sk-toggleable__control:checked~label.sk-toggleable__label {background-color: #d4ebff;}#sk-container-id-4 div.sk-label input.sk-toggleable__control:checked~label.sk-toggleable__label {background-color: #d4ebff;}#sk-container-id-4 input.sk-hidden--visually {border: 0;clip: rect(1px 1px 1px 1px);clip: rect(1px, 1px, 1px, 1px);height: 1px;margin: -1px;overflow: hidden;padding: 0;position: absolute;width: 1px;}#sk-container-id-4 div.sk-estimator {font-family: monospace;background-color: #f0f8ff;border: 1px dotted black;border-radius: 0.25em;box-sizing: border-box;margin-bottom: 0.5em;}#sk-container-id-4 div.sk-estimator:hover {background-color: #d4ebff;}#sk-container-id-4 div.sk-parallel-item::after {content: \"\";width: 100%;border-bottom: 1px solid gray;flex-grow: 1;}#sk-container-id-4 div.sk-label:hover label.sk-toggleable__label {background-color: #d4ebff;}#sk-container-id-4 div.sk-serial::before {content: \"\";position: absolute;border-left: 1px solid gray;box-sizing: border-box;top: 0;bottom: 0;left: 50%;z-index: 0;}#sk-container-id-4 div.sk-serial {display: flex;flex-direction: column;align-items: center;background-color: white;padding-right: 0.2em;padding-left: 0.2em;position: relative;}#sk-container-id-4 div.sk-item {position: relative;z-index: 1;}#sk-container-id-4 div.sk-parallel {display: flex;align-items: stretch;justify-content: center;background-color: white;position: relative;}#sk-container-id-4 div.sk-item::before, #sk-container-id-4 div.sk-parallel-item::before {content: \"\";position: absolute;border-left: 1px solid gray;box-sizing: border-box;top: 0;bottom: 0;left: 50%;z-index: -1;}#sk-container-id-4 div.sk-parallel-item {display: flex;flex-direction: column;z-index: 1;position: relative;background-color: white;}#sk-container-id-4 div.sk-parallel-item:first-child::after {align-self: flex-end;width: 50%;}#sk-container-id-4 div.sk-parallel-item:last-child::after {align-self: flex-start;width: 50%;}#sk-container-id-4 div.sk-parallel-item:only-child::after {width: 0;}#sk-container-id-4 div.sk-dashed-wrapped {border: 1px dashed gray;margin: 0 0.4em 0.5em 0.4em;box-sizing: border-box;padding-bottom: 0.4em;background-color: white;}#sk-container-id-4 div.sk-label label {font-family: monospace;font-weight: bold;display: inline-block;line-height: 1.2em;}#sk-container-id-4 div.sk-label-container {text-align: center;}#sk-container-id-4 div.sk-container {/* jupyter's `normalize.less` sets `[hidden] { display: none; }` but bootstrap.min.css set `[hidden] { display: none !important; }` so we also need the `!important` here to be able to override the default hidden behavior on the sphinx rendered scikit-learn.org. See: https://github.com/scikit-learn/scikit-learn/issues/21755 */display: inline-block !important;position: relative;}#sk-container-id-4 div.sk-text-repr-fallback {display: none;}</style><div id=\"sk-container-id-4\" class=\"sk-top-container\"><div class=\"sk-text-repr-fallback\"><pre>Pipeline(steps=[(&#x27;preprocessing&#x27;,\n",
       "                 ColumnTransformer(sparse_threshold=0,\n",
       "                                   transformers=[(&#x27;num&#x27;,\n",
       "                                                  Pipeline(steps=[(&#x27;imputer&#x27;,\n",
       "                                                                   SimpleImputer(strategy=&#x27;median&#x27;))]),\n",
       "                                                  [&#x27;account_length&#x27;,\n",
       "                                                   &#x27;international_plan&#x27;,\n",
       "                                                   &#x27;voice_mail_plan&#x27;,\n",
       "                                                   &#x27;number_vmail_messages&#x27;,\n",
       "                                                   &#x27;total_day_minutes&#x27;,\n",
       "                                                   &#x27;total_day_calls&#x27;,\n",
       "                                                   &#x27;total_day_charge&#x27;,\n",
       "                                                   &#x27;total_eve_minutes&#x27;,\n",
       "                                                   &#x27;total_eve_calls&#x27;,\n",
       "                                                   &#x27;total_eve_charge&#x27;,\n",
       "                                                   &#x27;...\n",
       "                                                  [&#x27;area_code&#x27;]),\n",
       "                                                 (&#x27;count_encoder&#x27;,\n",
       "                                                  Pipeline(steps=[(&#x27;imputer&#x27;,\n",
       "                                                                   SimpleImputer(strategy=&#x27;most_frequent&#x27;)),\n",
       "                                                                  (&#x27;encoder&#x27;,\n",
       "                                                                   CountEncoder(combine_min_nan_groups=True))]),\n",
       "                                                  [&#x27;state&#x27;,\n",
       "                                                   &#x27;number_customer_service_calls&#x27;])])),\n",
       "                (&#x27;model&#x27;,\n",
       "                 HistGradientBoostingClassifier(class_weight=&#x27;balanced&#x27;,\n",
       "                                                early_stopping=False,\n",
       "                                                min_samples_leaf=30,\n",
       "                                                random_state=1234,\n",
       "                                                scoring=&#x27;balanced_accuracy&#x27;))])</pre><b>In a Jupyter environment, please rerun this cell to show the HTML representation or trust the notebook. <br />On GitHub, the HTML representation is unable to render, please try loading this page with nbviewer.org.</b></div><div class=\"sk-container\" hidden><div class=\"sk-item sk-dashed-wrapped\"><div class=\"sk-label-container\"><div class=\"sk-label sk-toggleable\"><input class=\"sk-toggleable__control sk-hidden--visually\" id=\"sk-estimator-id-26\" type=\"checkbox\" ><label for=\"sk-estimator-id-26\" class=\"sk-toggleable__label sk-toggleable__label-arrow\">Pipeline</label><div class=\"sk-toggleable__content\"><pre>Pipeline(steps=[(&#x27;preprocessing&#x27;,\n",
       "                 ColumnTransformer(sparse_threshold=0,\n",
       "                                   transformers=[(&#x27;num&#x27;,\n",
       "                                                  Pipeline(steps=[(&#x27;imputer&#x27;,\n",
       "                                                                   SimpleImputer(strategy=&#x27;median&#x27;))]),\n",
       "                                                  [&#x27;account_length&#x27;,\n",
       "                                                   &#x27;international_plan&#x27;,\n",
       "                                                   &#x27;voice_mail_plan&#x27;,\n",
       "                                                   &#x27;number_vmail_messages&#x27;,\n",
       "                                                   &#x27;total_day_minutes&#x27;,\n",
       "                                                   &#x27;total_day_calls&#x27;,\n",
       "                                                   &#x27;total_day_charge&#x27;,\n",
       "                                                   &#x27;total_eve_minutes&#x27;,\n",
       "                                                   &#x27;total_eve_calls&#x27;,\n",
       "                                                   &#x27;total_eve_charge&#x27;,\n",
       "                                                   &#x27;...\n",
       "                                                  [&#x27;area_code&#x27;]),\n",
       "                                                 (&#x27;count_encoder&#x27;,\n",
       "                                                  Pipeline(steps=[(&#x27;imputer&#x27;,\n",
       "                                                                   SimpleImputer(strategy=&#x27;most_frequent&#x27;)),\n",
       "                                                                  (&#x27;encoder&#x27;,\n",
       "                                                                   CountEncoder(combine_min_nan_groups=True))]),\n",
       "                                                  [&#x27;state&#x27;,\n",
       "                                                   &#x27;number_customer_service_calls&#x27;])])),\n",
       "                (&#x27;model&#x27;,\n",
       "                 HistGradientBoostingClassifier(class_weight=&#x27;balanced&#x27;,\n",
       "                                                early_stopping=False,\n",
       "                                                min_samples_leaf=30,\n",
       "                                                random_state=1234,\n",
       "                                                scoring=&#x27;balanced_accuracy&#x27;))])</pre></div></div></div><div class=\"sk-serial\"><div class=\"sk-item sk-dashed-wrapped\"><div class=\"sk-label-container\"><div class=\"sk-label sk-toggleable\"><input class=\"sk-toggleable__control sk-hidden--visually\" id=\"sk-estimator-id-27\" type=\"checkbox\" ><label for=\"sk-estimator-id-27\" class=\"sk-toggleable__label sk-toggleable__label-arrow\">preprocessing: ColumnTransformer</label><div class=\"sk-toggleable__content\"><pre>ColumnTransformer(sparse_threshold=0,\n",
       "                  transformers=[(&#x27;num&#x27;,\n",
       "                                 Pipeline(steps=[(&#x27;imputer&#x27;,\n",
       "                                                  SimpleImputer(strategy=&#x27;median&#x27;))]),\n",
       "                                 [&#x27;account_length&#x27;, &#x27;international_plan&#x27;,\n",
       "                                  &#x27;voice_mail_plan&#x27;, &#x27;number_vmail_messages&#x27;,\n",
       "                                  &#x27;total_day_minutes&#x27;, &#x27;total_day_calls&#x27;,\n",
       "                                  &#x27;total_day_charge&#x27;, &#x27;total_eve_minutes&#x27;,\n",
       "                                  &#x27;total_eve_calls&#x27;, &#x27;total_eve_charge&#x27;,\n",
       "                                  &#x27;total_night_minutes&#x27;, &#x27;total_night...\n",
       "                                (&#x27;one_hot_encoding&#x27;,\n",
       "                                 Pipeline(steps=[(&#x27;imputer&#x27;,\n",
       "                                                  SimpleImputer(strategy=&#x27;most_frequent&#x27;)),\n",
       "                                                 (&#x27;encoder&#x27;,\n",
       "                                                  OneHotEncoder(drop=&#x27;first&#x27;,\n",
       "                                                                handle_unknown=&#x27;ignore&#x27;))]),\n",
       "                                 [&#x27;area_code&#x27;]),\n",
       "                                (&#x27;count_encoder&#x27;,\n",
       "                                 Pipeline(steps=[(&#x27;imputer&#x27;,\n",
       "                                                  SimpleImputer(strategy=&#x27;most_frequent&#x27;)),\n",
       "                                                 (&#x27;encoder&#x27;,\n",
       "                                                  CountEncoder(combine_min_nan_groups=True))]),\n",
       "                                 [&#x27;state&#x27;, &#x27;number_customer_service_calls&#x27;])])</pre></div></div></div><div class=\"sk-parallel\"><div class=\"sk-parallel-item\"><div class=\"sk-item\"><div class=\"sk-label-container\"><div class=\"sk-label sk-toggleable\"><input class=\"sk-toggleable__control sk-hidden--visually\" id=\"sk-estimator-id-28\" type=\"checkbox\" ><label for=\"sk-estimator-id-28\" class=\"sk-toggleable__label sk-toggleable__label-arrow\">num</label><div class=\"sk-toggleable__content\"><pre>[&#x27;account_length&#x27;, &#x27;international_plan&#x27;, &#x27;voice_mail_plan&#x27;, &#x27;number_vmail_messages&#x27;, &#x27;total_day_minutes&#x27;, &#x27;total_day_calls&#x27;, &#x27;total_day_charge&#x27;, &#x27;total_eve_minutes&#x27;, &#x27;total_eve_calls&#x27;, &#x27;total_eve_charge&#x27;, &#x27;total_night_minutes&#x27;, &#x27;total_night_calls&#x27;, &#x27;total_night_charge&#x27;, &#x27;total_intl_minutes&#x27;, &#x27;total_intl_calls&#x27;, &#x27;total_intl_charge&#x27;]</pre></div></div></div><div class=\"sk-serial\"><div class=\"sk-item\"><div class=\"sk-serial\"><div class=\"sk-item\"><div class=\"sk-estimator sk-toggleable\"><input class=\"sk-toggleable__control sk-hidden--visually\" id=\"sk-estimator-id-29\" type=\"checkbox\" ><label for=\"sk-estimator-id-29\" class=\"sk-toggleable__label sk-toggleable__label-arrow\">SimpleImputer</label><div class=\"sk-toggleable__content\"><pre>SimpleImputer(strategy=&#x27;median&#x27;)</pre></div></div></div></div></div></div></div></div><div class=\"sk-parallel-item\"><div class=\"sk-item\"><div class=\"sk-label-container\"><div class=\"sk-label sk-toggleable\"><input class=\"sk-toggleable__control sk-hidden--visually\" id=\"sk-estimator-id-30\" type=\"checkbox\" ><label for=\"sk-estimator-id-30\" class=\"sk-toggleable__label sk-toggleable__label-arrow\">one_hot_encoding</label><div class=\"sk-toggleable__content\"><pre>[&#x27;area_code&#x27;]</pre></div></div></div><div class=\"sk-serial\"><div class=\"sk-item\"><div class=\"sk-serial\"><div class=\"sk-item\"><div class=\"sk-estimator sk-toggleable\"><input class=\"sk-toggleable__control sk-hidden--visually\" id=\"sk-estimator-id-31\" type=\"checkbox\" ><label for=\"sk-estimator-id-31\" class=\"sk-toggleable__label sk-toggleable__label-arrow\">SimpleImputer</label><div class=\"sk-toggleable__content\"><pre>SimpleImputer(strategy=&#x27;most_frequent&#x27;)</pre></div></div></div><div class=\"sk-item\"><div class=\"sk-estimator sk-toggleable\"><input class=\"sk-toggleable__control sk-hidden--visually\" id=\"sk-estimator-id-32\" type=\"checkbox\" ><label for=\"sk-estimator-id-32\" class=\"sk-toggleable__label sk-toggleable__label-arrow\">OneHotEncoder</label><div class=\"sk-toggleable__content\"><pre>OneHotEncoder(drop=&#x27;first&#x27;, handle_unknown=&#x27;ignore&#x27;)</pre></div></div></div></div></div></div></div></div><div class=\"sk-parallel-item\"><div class=\"sk-item\"><div class=\"sk-label-container\"><div class=\"sk-label sk-toggleable\"><input class=\"sk-toggleable__control sk-hidden--visually\" id=\"sk-estimator-id-33\" type=\"checkbox\" ><label for=\"sk-estimator-id-33\" class=\"sk-toggleable__label sk-toggleable__label-arrow\">count_encoder</label><div class=\"sk-toggleable__content\"><pre>[&#x27;state&#x27;, &#x27;number_customer_service_calls&#x27;]</pre></div></div></div><div class=\"sk-serial\"><div class=\"sk-item\"><div class=\"sk-serial\"><div class=\"sk-item\"><div class=\"sk-estimator sk-toggleable\"><input class=\"sk-toggleable__control sk-hidden--visually\" id=\"sk-estimator-id-34\" type=\"checkbox\" ><label for=\"sk-estimator-id-34\" class=\"sk-toggleable__label sk-toggleable__label-arrow\">SimpleImputer</label><div class=\"sk-toggleable__content\"><pre>SimpleImputer(strategy=&#x27;most_frequent&#x27;)</pre></div></div></div><div class=\"sk-item\"><div class=\"sk-estimator sk-toggleable\"><input class=\"sk-toggleable__control sk-hidden--visually\" id=\"sk-estimator-id-35\" type=\"checkbox\" ><label for=\"sk-estimator-id-35\" class=\"sk-toggleable__label sk-toggleable__label-arrow\">CountEncoder</label><div class=\"sk-toggleable__content\"><pre>CountEncoder(combine_min_nan_groups=True)</pre></div></div></div></div></div></div></div></div></div></div><div class=\"sk-item\"><div class=\"sk-estimator sk-toggleable\"><input class=\"sk-toggleable__control sk-hidden--visually\" id=\"sk-estimator-id-36\" type=\"checkbox\" ><label for=\"sk-estimator-id-36\" class=\"sk-toggleable__label sk-toggleable__label-arrow\">HistGradientBoostingClassifier</label><div class=\"sk-toggleable__content\"><pre>HistGradientBoostingClassifier(class_weight=&#x27;balanced&#x27;, early_stopping=False,\n",
       "                               min_samples_leaf=30, random_state=1234,\n",
       "                               scoring=&#x27;balanced_accuracy&#x27;)</pre></div></div></div></div></div></div></div>"
      ],
      "text/plain": [
       "Pipeline(steps=[('preprocessing',\n",
       "                 ColumnTransformer(sparse_threshold=0,\n",
       "                                   transformers=[('num',\n",
       "                                                  Pipeline(steps=[('imputer',\n",
       "                                                                   SimpleImputer(strategy='median'))]),\n",
       "                                                  ['account_length',\n",
       "                                                   'international_plan',\n",
       "                                                   'voice_mail_plan',\n",
       "                                                   'number_vmail_messages',\n",
       "                                                   'total_day_minutes',\n",
       "                                                   'total_day_calls',\n",
       "                                                   'total_day_charge',\n",
       "                                                   'total_eve_minutes',\n",
       "                                                   'total_eve_calls',\n",
       "                                                   'total_eve_charge',\n",
       "                                                   '...\n",
       "                                                  ['area_code']),\n",
       "                                                 ('count_encoder',\n",
       "                                                  Pipeline(steps=[('imputer',\n",
       "                                                                   SimpleImputer(strategy='most_frequent')),\n",
       "                                                                  ('encoder',\n",
       "                                                                   CountEncoder(combine_min_nan_groups=True))]),\n",
       "                                                  ['state',\n",
       "                                                   'number_customer_service_calls'])])),\n",
       "                ('model',\n",
       "                 HistGradientBoostingClassifier(class_weight='balanced',\n",
       "                                                early_stopping=False,\n",
       "                                                min_samples_leaf=30,\n",
       "                                                random_state=1234,\n",
       "                                                scoring='balanced_accuracy'))])"
      ]
     },
     "execution_count": 44,
     "metadata": {},
     "output_type": "execute_result"
    }
   ],
   "source": [
    "# Display pipeline\n",
    "print(\"Time taken: \", count_hgb_default9_time_taken)\n",
    "count_hgb_default9"
   ]
  },
  {
   "cell_type": "code",
   "execution_count": 45,
   "id": "513c585e",
   "metadata": {
    "scrolled": true
   },
   "outputs": [
    {
     "name": "stdout",
     "output_type": "stream",
     "text": [
      "Balanced accuracy with default parameters: 0.9046359200511266\n"
     ]
    }
   ],
   "source": [
    "# Calculate balanced accuracy for the model with default parameters\n",
    "y_count_hgb_default_pred = count_hgb_default.predict(X_test)\n",
    "count_hgb_default_accuracy = balanced_accuracy_score(y_test, y_count_hgb_default_pred)\n",
    "print(f'Balanced accuracy with default parameters: {count_hgb_default_accuracy}')\n",
    "\n",
    "# Save results\n",
    "default_summary.append(\"Default\")\n",
    "card_9_summary.append(\"AllVariables\")\n",
    "encoder_summary.append(\"CountEncoding\")\n",
    "value_summary.append(count_hgb_default_accuracy)\n",
    "time_summary.append(count_hgb_default_time_taken)\n",
    "n_models_summary.append(1)"
   ]
  },
  {
   "cell_type": "code",
   "execution_count": 46,
   "id": "9d97deb1",
   "metadata": {},
   "outputs": [
    {
     "name": "stdout",
     "output_type": "stream",
     "text": [
      "Balanced accuracy with default parameters: 0.9046359200511266\n"
     ]
    }
   ],
   "source": [
    "# Calculate balanced accuracy for the model with default parameters\n",
    "y_count_hgb_default_pred9 = count_hgb_default9.predict(X_test)\n",
    "count_hgb_default_accuracy9 = balanced_accuracy_score(y_test, y_count_hgb_default_pred9)\n",
    "print(f'Balanced accuracy with default parameters: {count_hgb_default_accuracy9}')\n",
    "\n",
    "# Save results\n",
    "default_summary.append(\"Default\")\n",
    "card_9_summary.append(\"OnlyVariablesWithCard>9\")\n",
    "encoder_summary.append(\"CountEncoding\")\n",
    "value_summary.append(count_hgb_default_accuracy9)\n",
    "time_summary.append(count_hgb_default9_time_taken)\n",
    "n_models_summary.append(1)"
   ]
  },
  {
   "cell_type": "markdown",
   "id": "5535ba26",
   "metadata": {},
   "source": [
    "#### Create a HistGradientBoostingClassifier model for tuning"
   ]
  },
  {
   "cell_type": "code",
   "execution_count": 47,
   "id": "3449fd82",
   "metadata": {},
   "outputs": [],
   "source": [
    "count_hgb_tune = RandomizedSearchCV(estimator = count_hgb_default_pipeline, \n",
    "                                   param_distributions = param_distributions, \n",
    "                                   n_iter = 100,\n",
    "                                   cv = stratified_kfold,\n",
    "                                   scoring = 'balanced_accuracy', \n",
    "                                   random_state = 1234,\n",
    "                                   n_jobs = -1)\n",
    "\n",
    "count_hgb_tune9 = RandomizedSearchCV(estimator = count_hgb_default_pipeline9, \n",
    "                                     param_distributions = param_distributions, \n",
    "                                     n_iter = 100,\n",
    "                                     cv = stratified_kfold,\n",
    "                                     scoring = 'balanced_accuracy', \n",
    "                                     random_state = 1234,\n",
    "                                     n_jobs = -1)"
   ]
  },
  {
   "cell_type": "code",
   "execution_count": 48,
   "id": "fe710784",
   "metadata": {},
   "outputs": [],
   "source": [
    "tic = time.time()\n",
    "\n",
    "count_hgb_tune = count_hgb_tune.fit(X_train, y_train)\n",
    "\n",
    "toc = time.time()\n",
    "count_hgb_tune_time_taken = toc-tic"
   ]
  },
  {
   "cell_type": "code",
   "execution_count": 49,
   "metadata": {},
   "outputs": [
    {
     "name": "stdout",
     "output_type": "stream",
     "text": [
      "Time taken:  25.01795244216919\n"
     ]
    },
    {
     "data": {
      "text/html": [
       "<style>#sk-container-id-5 {color: black;}#sk-container-id-5 pre{padding: 0;}#sk-container-id-5 div.sk-toggleable {background-color: white;}#sk-container-id-5 label.sk-toggleable__label {cursor: pointer;display: block;width: 100%;margin-bottom: 0;padding: 0.3em;box-sizing: border-box;text-align: center;}#sk-container-id-5 label.sk-toggleable__label-arrow:before {content: \"▸\";float: left;margin-right: 0.25em;color: #696969;}#sk-container-id-5 label.sk-toggleable__label-arrow:hover:before {color: black;}#sk-container-id-5 div.sk-estimator:hover label.sk-toggleable__label-arrow:before {color: black;}#sk-container-id-5 div.sk-toggleable__content {max-height: 0;max-width: 0;overflow: hidden;text-align: left;background-color: #f0f8ff;}#sk-container-id-5 div.sk-toggleable__content pre {margin: 0.2em;color: black;border-radius: 0.25em;background-color: #f0f8ff;}#sk-container-id-5 input.sk-toggleable__control:checked~div.sk-toggleable__content {max-height: 200px;max-width: 100%;overflow: auto;}#sk-container-id-5 input.sk-toggleable__control:checked~label.sk-toggleable__label-arrow:before {content: \"▾\";}#sk-container-id-5 div.sk-estimator input.sk-toggleable__control:checked~label.sk-toggleable__label {background-color: #d4ebff;}#sk-container-id-5 div.sk-label input.sk-toggleable__control:checked~label.sk-toggleable__label {background-color: #d4ebff;}#sk-container-id-5 input.sk-hidden--visually {border: 0;clip: rect(1px 1px 1px 1px);clip: rect(1px, 1px, 1px, 1px);height: 1px;margin: -1px;overflow: hidden;padding: 0;position: absolute;width: 1px;}#sk-container-id-5 div.sk-estimator {font-family: monospace;background-color: #f0f8ff;border: 1px dotted black;border-radius: 0.25em;box-sizing: border-box;margin-bottom: 0.5em;}#sk-container-id-5 div.sk-estimator:hover {background-color: #d4ebff;}#sk-container-id-5 div.sk-parallel-item::after {content: \"\";width: 100%;border-bottom: 1px solid gray;flex-grow: 1;}#sk-container-id-5 div.sk-label:hover label.sk-toggleable__label {background-color: #d4ebff;}#sk-container-id-5 div.sk-serial::before {content: \"\";position: absolute;border-left: 1px solid gray;box-sizing: border-box;top: 0;bottom: 0;left: 50%;z-index: 0;}#sk-container-id-5 div.sk-serial {display: flex;flex-direction: column;align-items: center;background-color: white;padding-right: 0.2em;padding-left: 0.2em;position: relative;}#sk-container-id-5 div.sk-item {position: relative;z-index: 1;}#sk-container-id-5 div.sk-parallel {display: flex;align-items: stretch;justify-content: center;background-color: white;position: relative;}#sk-container-id-5 div.sk-item::before, #sk-container-id-5 div.sk-parallel-item::before {content: \"\";position: absolute;border-left: 1px solid gray;box-sizing: border-box;top: 0;bottom: 0;left: 50%;z-index: -1;}#sk-container-id-5 div.sk-parallel-item {display: flex;flex-direction: column;z-index: 1;position: relative;background-color: white;}#sk-container-id-5 div.sk-parallel-item:first-child::after {align-self: flex-end;width: 50%;}#sk-container-id-5 div.sk-parallel-item:last-child::after {align-self: flex-start;width: 50%;}#sk-container-id-5 div.sk-parallel-item:only-child::after {width: 0;}#sk-container-id-5 div.sk-dashed-wrapped {border: 1px dashed gray;margin: 0 0.4em 0.5em 0.4em;box-sizing: border-box;padding-bottom: 0.4em;background-color: white;}#sk-container-id-5 div.sk-label label {font-family: monospace;font-weight: bold;display: inline-block;line-height: 1.2em;}#sk-container-id-5 div.sk-label-container {text-align: center;}#sk-container-id-5 div.sk-container {/* jupyter's `normalize.less` sets `[hidden] { display: none; }` but bootstrap.min.css set `[hidden] { display: none !important; }` so we also need the `!important` here to be able to override the default hidden behavior on the sphinx rendered scikit-learn.org. See: https://github.com/scikit-learn/scikit-learn/issues/21755 */display: inline-block !important;position: relative;}#sk-container-id-5 div.sk-text-repr-fallback {display: none;}</style><div id=\"sk-container-id-5\" class=\"sk-top-container\"><div class=\"sk-text-repr-fallback\"><pre>RandomizedSearchCV(cv=StratifiedKFold(n_splits=3, random_state=1234, shuffle=True),\n",
       "                   estimator=Pipeline(steps=[(&#x27;preprocessing&#x27;,\n",
       "                                              ColumnTransformer(sparse_threshold=0,\n",
       "                                                                transformers=[(&#x27;num&#x27;,\n",
       "                                                                               Pipeline(steps=[(&#x27;imputer&#x27;,\n",
       "                                                                                                SimpleImputer(strategy=&#x27;median&#x27;))]),\n",
       "                                                                               [&#x27;account_length&#x27;,\n",
       "                                                                                &#x27;international_plan&#x27;,\n",
       "                                                                                &#x27;voice_mail_plan&#x27;,\n",
       "                                                                                &#x27;number_vmail_messages&#x27;,\n",
       "                                                                                &#x27;total_day_minutes&#x27;,\n",
       "                                                                                &#x27;tot...\n",
       "                   param_distributions={&#x27;model__learning_rate&#x27;: &lt;scipy.stats._distn_infrastructure.rv_continuous_frozen object at 0x00000252B0583280&gt;,\n",
       "                                        &#x27;model__max_iter&#x27;: &lt;scipy.stats._distn_infrastructure.rv_discrete_frozen object at 0x00000252B0167CA0&gt;,\n",
       "                                        &#x27;model__min_samples_leaf&#x27;: &lt;scipy.stats._distn_infrastructure.rv_discrete_frozen object at 0x00000252B0583EB0&gt;},\n",
       "                   random_state=1234, scoring=&#x27;balanced_accuracy&#x27;)</pre><b>In a Jupyter environment, please rerun this cell to show the HTML representation or trust the notebook. <br />On GitHub, the HTML representation is unable to render, please try loading this page with nbviewer.org.</b></div><div class=\"sk-container\" hidden><div class=\"sk-item sk-dashed-wrapped\"><div class=\"sk-label-container\"><div class=\"sk-label sk-toggleable\"><input class=\"sk-toggleable__control sk-hidden--visually\" id=\"sk-estimator-id-37\" type=\"checkbox\" ><label for=\"sk-estimator-id-37\" class=\"sk-toggleable__label sk-toggleable__label-arrow\">RandomizedSearchCV</label><div class=\"sk-toggleable__content\"><pre>RandomizedSearchCV(cv=StratifiedKFold(n_splits=3, random_state=1234, shuffle=True),\n",
       "                   estimator=Pipeline(steps=[(&#x27;preprocessing&#x27;,\n",
       "                                              ColumnTransformer(sparse_threshold=0,\n",
       "                                                                transformers=[(&#x27;num&#x27;,\n",
       "                                                                               Pipeline(steps=[(&#x27;imputer&#x27;,\n",
       "                                                                                                SimpleImputer(strategy=&#x27;median&#x27;))]),\n",
       "                                                                               [&#x27;account_length&#x27;,\n",
       "                                                                                &#x27;international_plan&#x27;,\n",
       "                                                                                &#x27;voice_mail_plan&#x27;,\n",
       "                                                                                &#x27;number_vmail_messages&#x27;,\n",
       "                                                                                &#x27;total_day_minutes&#x27;,\n",
       "                                                                                &#x27;tot...\n",
       "                   param_distributions={&#x27;model__learning_rate&#x27;: &lt;scipy.stats._distn_infrastructure.rv_continuous_frozen object at 0x00000252B0583280&gt;,\n",
       "                                        &#x27;model__max_iter&#x27;: &lt;scipy.stats._distn_infrastructure.rv_discrete_frozen object at 0x00000252B0167CA0&gt;,\n",
       "                                        &#x27;model__min_samples_leaf&#x27;: &lt;scipy.stats._distn_infrastructure.rv_discrete_frozen object at 0x00000252B0583EB0&gt;},\n",
       "                   random_state=1234, scoring=&#x27;balanced_accuracy&#x27;)</pre></div></div></div><div class=\"sk-parallel\"><div class=\"sk-parallel-item\"><div class=\"sk-item\"><div class=\"sk-label-container\"><div class=\"sk-label sk-toggleable\"><input class=\"sk-toggleable__control sk-hidden--visually\" id=\"sk-estimator-id-38\" type=\"checkbox\" ><label for=\"sk-estimator-id-38\" class=\"sk-toggleable__label sk-toggleable__label-arrow\">estimator: Pipeline</label><div class=\"sk-toggleable__content\"><pre>Pipeline(steps=[(&#x27;preprocessing&#x27;,\n",
       "                 ColumnTransformer(sparse_threshold=0,\n",
       "                                   transformers=[(&#x27;num&#x27;,\n",
       "                                                  Pipeline(steps=[(&#x27;imputer&#x27;,\n",
       "                                                                   SimpleImputer(strategy=&#x27;median&#x27;))]),\n",
       "                                                  [&#x27;account_length&#x27;,\n",
       "                                                   &#x27;international_plan&#x27;,\n",
       "                                                   &#x27;voice_mail_plan&#x27;,\n",
       "                                                   &#x27;number_vmail_messages&#x27;,\n",
       "                                                   &#x27;total_day_minutes&#x27;,\n",
       "                                                   &#x27;total_day_calls&#x27;,\n",
       "                                                   &#x27;total_day_charge&#x27;,\n",
       "                                                   &#x27;total_eve_minutes&#x27;,\n",
       "                                                   &#x27;total_eve_calls&#x27;,\n",
       "                                                   &#x27;total_eve_charge&#x27;,\n",
       "                                                   &#x27;...\n",
       "                                                 (&#x27;count_encoder&#x27;,\n",
       "                                                  Pipeline(steps=[(&#x27;imputer&#x27;,\n",
       "                                                                   SimpleImputer(strategy=&#x27;most_frequent&#x27;)),\n",
       "                                                                  (&#x27;encoder&#x27;,\n",
       "                                                                   CountEncoder(combine_min_nan_groups=True))]),\n",
       "                                                  [&#x27;state&#x27;, &#x27;area_code&#x27;,\n",
       "                                                   &#x27;number_customer_service_calls&#x27;])])),\n",
       "                (&#x27;model&#x27;,\n",
       "                 HistGradientBoostingClassifier(class_weight=&#x27;balanced&#x27;,\n",
       "                                                early_stopping=False,\n",
       "                                                min_samples_leaf=30,\n",
       "                                                random_state=1234,\n",
       "                                                scoring=&#x27;balanced_accuracy&#x27;))])</pre></div></div></div><div class=\"sk-serial\"><div class=\"sk-item\"><div class=\"sk-serial\"><div class=\"sk-item sk-dashed-wrapped\"><div class=\"sk-label-container\"><div class=\"sk-label sk-toggleable\"><input class=\"sk-toggleable__control sk-hidden--visually\" id=\"sk-estimator-id-39\" type=\"checkbox\" ><label for=\"sk-estimator-id-39\" class=\"sk-toggleable__label sk-toggleable__label-arrow\">preprocessing: ColumnTransformer</label><div class=\"sk-toggleable__content\"><pre>ColumnTransformer(sparse_threshold=0,\n",
       "                  transformers=[(&#x27;num&#x27;,\n",
       "                                 Pipeline(steps=[(&#x27;imputer&#x27;,\n",
       "                                                  SimpleImputer(strategy=&#x27;median&#x27;))]),\n",
       "                                 [&#x27;account_length&#x27;, &#x27;international_plan&#x27;,\n",
       "                                  &#x27;voice_mail_plan&#x27;, &#x27;number_vmail_messages&#x27;,\n",
       "                                  &#x27;total_day_minutes&#x27;, &#x27;total_day_calls&#x27;,\n",
       "                                  &#x27;total_day_charge&#x27;, &#x27;total_eve_minutes&#x27;,\n",
       "                                  &#x27;total_eve_calls&#x27;, &#x27;total_eve_charge&#x27;,\n",
       "                                  &#x27;total_night_minutes&#x27;, &#x27;total_night_calls&#x27;,\n",
       "                                  &#x27;total_night_charge&#x27;, &#x27;total_intl_minutes&#x27;,\n",
       "                                  &#x27;total_intl_calls&#x27;, &#x27;total_intl_charge&#x27;]),\n",
       "                                (&#x27;count_encoder&#x27;,\n",
       "                                 Pipeline(steps=[(&#x27;imputer&#x27;,\n",
       "                                                  SimpleImputer(strategy=&#x27;most_frequent&#x27;)),\n",
       "                                                 (&#x27;encoder&#x27;,\n",
       "                                                  CountEncoder(combine_min_nan_groups=True))]),\n",
       "                                 [&#x27;state&#x27;, &#x27;area_code&#x27;,\n",
       "                                  &#x27;number_customer_service_calls&#x27;])])</pre></div></div></div><div class=\"sk-parallel\"><div class=\"sk-parallel-item\"><div class=\"sk-item\"><div class=\"sk-label-container\"><div class=\"sk-label sk-toggleable\"><input class=\"sk-toggleable__control sk-hidden--visually\" id=\"sk-estimator-id-40\" type=\"checkbox\" ><label for=\"sk-estimator-id-40\" class=\"sk-toggleable__label sk-toggleable__label-arrow\">num</label><div class=\"sk-toggleable__content\"><pre>[&#x27;account_length&#x27;, &#x27;international_plan&#x27;, &#x27;voice_mail_plan&#x27;, &#x27;number_vmail_messages&#x27;, &#x27;total_day_minutes&#x27;, &#x27;total_day_calls&#x27;, &#x27;total_day_charge&#x27;, &#x27;total_eve_minutes&#x27;, &#x27;total_eve_calls&#x27;, &#x27;total_eve_charge&#x27;, &#x27;total_night_minutes&#x27;, &#x27;total_night_calls&#x27;, &#x27;total_night_charge&#x27;, &#x27;total_intl_minutes&#x27;, &#x27;total_intl_calls&#x27;, &#x27;total_intl_charge&#x27;]</pre></div></div></div><div class=\"sk-serial\"><div class=\"sk-item\"><div class=\"sk-serial\"><div class=\"sk-item\"><div class=\"sk-estimator sk-toggleable\"><input class=\"sk-toggleable__control sk-hidden--visually\" id=\"sk-estimator-id-41\" type=\"checkbox\" ><label for=\"sk-estimator-id-41\" class=\"sk-toggleable__label sk-toggleable__label-arrow\">SimpleImputer</label><div class=\"sk-toggleable__content\"><pre>SimpleImputer(strategy=&#x27;median&#x27;)</pre></div></div></div></div></div></div></div></div><div class=\"sk-parallel-item\"><div class=\"sk-item\"><div class=\"sk-label-container\"><div class=\"sk-label sk-toggleable\"><input class=\"sk-toggleable__control sk-hidden--visually\" id=\"sk-estimator-id-42\" type=\"checkbox\" ><label for=\"sk-estimator-id-42\" class=\"sk-toggleable__label sk-toggleable__label-arrow\">count_encoder</label><div class=\"sk-toggleable__content\"><pre>[&#x27;state&#x27;, &#x27;area_code&#x27;, &#x27;number_customer_service_calls&#x27;]</pre></div></div></div><div class=\"sk-serial\"><div class=\"sk-item\"><div class=\"sk-serial\"><div class=\"sk-item\"><div class=\"sk-estimator sk-toggleable\"><input class=\"sk-toggleable__control sk-hidden--visually\" id=\"sk-estimator-id-43\" type=\"checkbox\" ><label for=\"sk-estimator-id-43\" class=\"sk-toggleable__label sk-toggleable__label-arrow\">SimpleImputer</label><div class=\"sk-toggleable__content\"><pre>SimpleImputer(strategy=&#x27;most_frequent&#x27;)</pre></div></div></div><div class=\"sk-item\"><div class=\"sk-estimator sk-toggleable\"><input class=\"sk-toggleable__control sk-hidden--visually\" id=\"sk-estimator-id-44\" type=\"checkbox\" ><label for=\"sk-estimator-id-44\" class=\"sk-toggleable__label sk-toggleable__label-arrow\">CountEncoder</label><div class=\"sk-toggleable__content\"><pre>CountEncoder(combine_min_nan_groups=True)</pre></div></div></div></div></div></div></div></div></div></div><div class=\"sk-item\"><div class=\"sk-estimator sk-toggleable\"><input class=\"sk-toggleable__control sk-hidden--visually\" id=\"sk-estimator-id-45\" type=\"checkbox\" ><label for=\"sk-estimator-id-45\" class=\"sk-toggleable__label sk-toggleable__label-arrow\">HistGradientBoostingClassifier</label><div class=\"sk-toggleable__content\"><pre>HistGradientBoostingClassifier(class_weight=&#x27;balanced&#x27;, early_stopping=False,\n",
       "                               min_samples_leaf=30, random_state=1234,\n",
       "                               scoring=&#x27;balanced_accuracy&#x27;)</pre></div></div></div></div></div></div></div></div></div></div></div></div>"
      ],
      "text/plain": [
       "RandomizedSearchCV(cv=StratifiedKFold(n_splits=3, random_state=1234, shuffle=True),\n",
       "                   estimator=Pipeline(steps=[('preprocessing',\n",
       "                                              ColumnTransformer(sparse_threshold=0,\n",
       "                                                                transformers=[('num',\n",
       "                                                                               Pipeline(steps=[('imputer',\n",
       "                                                                                                SimpleImputer(strategy='median'))]),\n",
       "                                                                               ['account_length',\n",
       "                                                                                'international_plan',\n",
       "                                                                                'voice_mail_plan',\n",
       "                                                                                'number_vmail_messages',\n",
       "                                                                                'total_day_minutes',\n",
       "                                                                                'tot...\n",
       "                   param_distributions={'model__learning_rate': <scipy.stats._distn_infrastructure.rv_continuous_frozen object at 0x00000252B0583280>,\n",
       "                                        'model__max_iter': <scipy.stats._distn_infrastructure.rv_discrete_frozen object at 0x00000252B0167CA0>,\n",
       "                                        'model__min_samples_leaf': <scipy.stats._distn_infrastructure.rv_discrete_frozen object at 0x00000252B0583EB0>},\n",
       "                   random_state=1234, scoring='balanced_accuracy')"
      ]
     },
     "execution_count": 49,
     "metadata": {},
     "output_type": "execute_result"
    }
   ],
   "source": [
    "# Display pipeline\n",
    "print(\"Time taken: \", count_hgb_tune_time_taken)\n",
    "count_hgb_tune"
   ]
  },
  {
   "cell_type": "code",
   "execution_count": 50,
   "id": "154c1a20",
   "metadata": {},
   "outputs": [],
   "source": [
    "tic = time.time()\n",
    "\n",
    "count_hgb_tune9 = count_hgb_tune9.fit(X_train, y_train)\n",
    "\n",
    "toc = time.time()\n",
    "count_hgb_tune9_time_taken = toc-tic"
   ]
  },
  {
   "cell_type": "code",
   "execution_count": 51,
   "metadata": {},
   "outputs": [
    {
     "name": "stdout",
     "output_type": "stream",
     "text": [
      "Time taken:  21.505852937698364\n"
     ]
    },
    {
     "data": {
      "text/html": [
       "<style>#sk-container-id-6 {color: black;}#sk-container-id-6 pre{padding: 0;}#sk-container-id-6 div.sk-toggleable {background-color: white;}#sk-container-id-6 label.sk-toggleable__label {cursor: pointer;display: block;width: 100%;margin-bottom: 0;padding: 0.3em;box-sizing: border-box;text-align: center;}#sk-container-id-6 label.sk-toggleable__label-arrow:before {content: \"▸\";float: left;margin-right: 0.25em;color: #696969;}#sk-container-id-6 label.sk-toggleable__label-arrow:hover:before {color: black;}#sk-container-id-6 div.sk-estimator:hover label.sk-toggleable__label-arrow:before {color: black;}#sk-container-id-6 div.sk-toggleable__content {max-height: 0;max-width: 0;overflow: hidden;text-align: left;background-color: #f0f8ff;}#sk-container-id-6 div.sk-toggleable__content pre {margin: 0.2em;color: black;border-radius: 0.25em;background-color: #f0f8ff;}#sk-container-id-6 input.sk-toggleable__control:checked~div.sk-toggleable__content {max-height: 200px;max-width: 100%;overflow: auto;}#sk-container-id-6 input.sk-toggleable__control:checked~label.sk-toggleable__label-arrow:before {content: \"▾\";}#sk-container-id-6 div.sk-estimator input.sk-toggleable__control:checked~label.sk-toggleable__label {background-color: #d4ebff;}#sk-container-id-6 div.sk-label input.sk-toggleable__control:checked~label.sk-toggleable__label {background-color: #d4ebff;}#sk-container-id-6 input.sk-hidden--visually {border: 0;clip: rect(1px 1px 1px 1px);clip: rect(1px, 1px, 1px, 1px);height: 1px;margin: -1px;overflow: hidden;padding: 0;position: absolute;width: 1px;}#sk-container-id-6 div.sk-estimator {font-family: monospace;background-color: #f0f8ff;border: 1px dotted black;border-radius: 0.25em;box-sizing: border-box;margin-bottom: 0.5em;}#sk-container-id-6 div.sk-estimator:hover {background-color: #d4ebff;}#sk-container-id-6 div.sk-parallel-item::after {content: \"\";width: 100%;border-bottom: 1px solid gray;flex-grow: 1;}#sk-container-id-6 div.sk-label:hover label.sk-toggleable__label {background-color: #d4ebff;}#sk-container-id-6 div.sk-serial::before {content: \"\";position: absolute;border-left: 1px solid gray;box-sizing: border-box;top: 0;bottom: 0;left: 50%;z-index: 0;}#sk-container-id-6 div.sk-serial {display: flex;flex-direction: column;align-items: center;background-color: white;padding-right: 0.2em;padding-left: 0.2em;position: relative;}#sk-container-id-6 div.sk-item {position: relative;z-index: 1;}#sk-container-id-6 div.sk-parallel {display: flex;align-items: stretch;justify-content: center;background-color: white;position: relative;}#sk-container-id-6 div.sk-item::before, #sk-container-id-6 div.sk-parallel-item::before {content: \"\";position: absolute;border-left: 1px solid gray;box-sizing: border-box;top: 0;bottom: 0;left: 50%;z-index: -1;}#sk-container-id-6 div.sk-parallel-item {display: flex;flex-direction: column;z-index: 1;position: relative;background-color: white;}#sk-container-id-6 div.sk-parallel-item:first-child::after {align-self: flex-end;width: 50%;}#sk-container-id-6 div.sk-parallel-item:last-child::after {align-self: flex-start;width: 50%;}#sk-container-id-6 div.sk-parallel-item:only-child::after {width: 0;}#sk-container-id-6 div.sk-dashed-wrapped {border: 1px dashed gray;margin: 0 0.4em 0.5em 0.4em;box-sizing: border-box;padding-bottom: 0.4em;background-color: white;}#sk-container-id-6 div.sk-label label {font-family: monospace;font-weight: bold;display: inline-block;line-height: 1.2em;}#sk-container-id-6 div.sk-label-container {text-align: center;}#sk-container-id-6 div.sk-container {/* jupyter's `normalize.less` sets `[hidden] { display: none; }` but bootstrap.min.css set `[hidden] { display: none !important; }` so we also need the `!important` here to be able to override the default hidden behavior on the sphinx rendered scikit-learn.org. See: https://github.com/scikit-learn/scikit-learn/issues/21755 */display: inline-block !important;position: relative;}#sk-container-id-6 div.sk-text-repr-fallback {display: none;}</style><div id=\"sk-container-id-6\" class=\"sk-top-container\"><div class=\"sk-text-repr-fallback\"><pre>RandomizedSearchCV(cv=StratifiedKFold(n_splits=3, random_state=1234, shuffle=True),\n",
       "                   estimator=Pipeline(steps=[(&#x27;preprocessing&#x27;,\n",
       "                                              ColumnTransformer(sparse_threshold=0,\n",
       "                                                                transformers=[(&#x27;num&#x27;,\n",
       "                                                                               Pipeline(steps=[(&#x27;imputer&#x27;,\n",
       "                                                                                                SimpleImputer(strategy=&#x27;median&#x27;))]),\n",
       "                                                                               [&#x27;account_length&#x27;,\n",
       "                                                                                &#x27;international_plan&#x27;,\n",
       "                                                                                &#x27;voice_mail_plan&#x27;,\n",
       "                                                                                &#x27;number_vmail_messages&#x27;,\n",
       "                                                                                &#x27;total_day_minutes&#x27;,\n",
       "                                                                                &#x27;tot...\n",
       "                   param_distributions={&#x27;model__learning_rate&#x27;: &lt;scipy.stats._distn_infrastructure.rv_continuous_frozen object at 0x00000252B0583280&gt;,\n",
       "                                        &#x27;model__max_iter&#x27;: &lt;scipy.stats._distn_infrastructure.rv_discrete_frozen object at 0x00000252B0167CA0&gt;,\n",
       "                                        &#x27;model__min_samples_leaf&#x27;: &lt;scipy.stats._distn_infrastructure.rv_discrete_frozen object at 0x00000252B0583EB0&gt;},\n",
       "                   random_state=1234, scoring=&#x27;balanced_accuracy&#x27;)</pre><b>In a Jupyter environment, please rerun this cell to show the HTML representation or trust the notebook. <br />On GitHub, the HTML representation is unable to render, please try loading this page with nbviewer.org.</b></div><div class=\"sk-container\" hidden><div class=\"sk-item sk-dashed-wrapped\"><div class=\"sk-label-container\"><div class=\"sk-label sk-toggleable\"><input class=\"sk-toggleable__control sk-hidden--visually\" id=\"sk-estimator-id-46\" type=\"checkbox\" ><label for=\"sk-estimator-id-46\" class=\"sk-toggleable__label sk-toggleable__label-arrow\">RandomizedSearchCV</label><div class=\"sk-toggleable__content\"><pre>RandomizedSearchCV(cv=StratifiedKFold(n_splits=3, random_state=1234, shuffle=True),\n",
       "                   estimator=Pipeline(steps=[(&#x27;preprocessing&#x27;,\n",
       "                                              ColumnTransformer(sparse_threshold=0,\n",
       "                                                                transformers=[(&#x27;num&#x27;,\n",
       "                                                                               Pipeline(steps=[(&#x27;imputer&#x27;,\n",
       "                                                                                                SimpleImputer(strategy=&#x27;median&#x27;))]),\n",
       "                                                                               [&#x27;account_length&#x27;,\n",
       "                                                                                &#x27;international_plan&#x27;,\n",
       "                                                                                &#x27;voice_mail_plan&#x27;,\n",
       "                                                                                &#x27;number_vmail_messages&#x27;,\n",
       "                                                                                &#x27;total_day_minutes&#x27;,\n",
       "                                                                                &#x27;tot...\n",
       "                   param_distributions={&#x27;model__learning_rate&#x27;: &lt;scipy.stats._distn_infrastructure.rv_continuous_frozen object at 0x00000252B0583280&gt;,\n",
       "                                        &#x27;model__max_iter&#x27;: &lt;scipy.stats._distn_infrastructure.rv_discrete_frozen object at 0x00000252B0167CA0&gt;,\n",
       "                                        &#x27;model__min_samples_leaf&#x27;: &lt;scipy.stats._distn_infrastructure.rv_discrete_frozen object at 0x00000252B0583EB0&gt;},\n",
       "                   random_state=1234, scoring=&#x27;balanced_accuracy&#x27;)</pre></div></div></div><div class=\"sk-parallel\"><div class=\"sk-parallel-item\"><div class=\"sk-item\"><div class=\"sk-label-container\"><div class=\"sk-label sk-toggleable\"><input class=\"sk-toggleable__control sk-hidden--visually\" id=\"sk-estimator-id-47\" type=\"checkbox\" ><label for=\"sk-estimator-id-47\" class=\"sk-toggleable__label sk-toggleable__label-arrow\">estimator: Pipeline</label><div class=\"sk-toggleable__content\"><pre>Pipeline(steps=[(&#x27;preprocessing&#x27;,\n",
       "                 ColumnTransformer(sparse_threshold=0,\n",
       "                                   transformers=[(&#x27;num&#x27;,\n",
       "                                                  Pipeline(steps=[(&#x27;imputer&#x27;,\n",
       "                                                                   SimpleImputer(strategy=&#x27;median&#x27;))]),\n",
       "                                                  [&#x27;account_length&#x27;,\n",
       "                                                   &#x27;international_plan&#x27;,\n",
       "                                                   &#x27;voice_mail_plan&#x27;,\n",
       "                                                   &#x27;number_vmail_messages&#x27;,\n",
       "                                                   &#x27;total_day_minutes&#x27;,\n",
       "                                                   &#x27;total_day_calls&#x27;,\n",
       "                                                   &#x27;total_day_charge&#x27;,\n",
       "                                                   &#x27;total_eve_minutes&#x27;,\n",
       "                                                   &#x27;total_eve_calls&#x27;,\n",
       "                                                   &#x27;total_eve_charge&#x27;,\n",
       "                                                   &#x27;...\n",
       "                                                  [&#x27;area_code&#x27;]),\n",
       "                                                 (&#x27;count_encoder&#x27;,\n",
       "                                                  Pipeline(steps=[(&#x27;imputer&#x27;,\n",
       "                                                                   SimpleImputer(strategy=&#x27;most_frequent&#x27;)),\n",
       "                                                                  (&#x27;encoder&#x27;,\n",
       "                                                                   CountEncoder(combine_min_nan_groups=True))]),\n",
       "                                                  [&#x27;state&#x27;,\n",
       "                                                   &#x27;number_customer_service_calls&#x27;])])),\n",
       "                (&#x27;model&#x27;,\n",
       "                 HistGradientBoostingClassifier(class_weight=&#x27;balanced&#x27;,\n",
       "                                                early_stopping=False,\n",
       "                                                min_samples_leaf=30,\n",
       "                                                random_state=1234,\n",
       "                                                scoring=&#x27;balanced_accuracy&#x27;))])</pre></div></div></div><div class=\"sk-serial\"><div class=\"sk-item\"><div class=\"sk-serial\"><div class=\"sk-item sk-dashed-wrapped\"><div class=\"sk-label-container\"><div class=\"sk-label sk-toggleable\"><input class=\"sk-toggleable__control sk-hidden--visually\" id=\"sk-estimator-id-48\" type=\"checkbox\" ><label for=\"sk-estimator-id-48\" class=\"sk-toggleable__label sk-toggleable__label-arrow\">preprocessing: ColumnTransformer</label><div class=\"sk-toggleable__content\"><pre>ColumnTransformer(sparse_threshold=0,\n",
       "                  transformers=[(&#x27;num&#x27;,\n",
       "                                 Pipeline(steps=[(&#x27;imputer&#x27;,\n",
       "                                                  SimpleImputer(strategy=&#x27;median&#x27;))]),\n",
       "                                 [&#x27;account_length&#x27;, &#x27;international_plan&#x27;,\n",
       "                                  &#x27;voice_mail_plan&#x27;, &#x27;number_vmail_messages&#x27;,\n",
       "                                  &#x27;total_day_minutes&#x27;, &#x27;total_day_calls&#x27;,\n",
       "                                  &#x27;total_day_charge&#x27;, &#x27;total_eve_minutes&#x27;,\n",
       "                                  &#x27;total_eve_calls&#x27;, &#x27;total_eve_charge&#x27;,\n",
       "                                  &#x27;total_night_minutes&#x27;, &#x27;total_night...\n",
       "                                (&#x27;one_hot_encoding&#x27;,\n",
       "                                 Pipeline(steps=[(&#x27;imputer&#x27;,\n",
       "                                                  SimpleImputer(strategy=&#x27;most_frequent&#x27;)),\n",
       "                                                 (&#x27;encoder&#x27;,\n",
       "                                                  OneHotEncoder(drop=&#x27;first&#x27;,\n",
       "                                                                handle_unknown=&#x27;ignore&#x27;))]),\n",
       "                                 [&#x27;area_code&#x27;]),\n",
       "                                (&#x27;count_encoder&#x27;,\n",
       "                                 Pipeline(steps=[(&#x27;imputer&#x27;,\n",
       "                                                  SimpleImputer(strategy=&#x27;most_frequent&#x27;)),\n",
       "                                                 (&#x27;encoder&#x27;,\n",
       "                                                  CountEncoder(combine_min_nan_groups=True))]),\n",
       "                                 [&#x27;state&#x27;, &#x27;number_customer_service_calls&#x27;])])</pre></div></div></div><div class=\"sk-parallel\"><div class=\"sk-parallel-item\"><div class=\"sk-item\"><div class=\"sk-label-container\"><div class=\"sk-label sk-toggleable\"><input class=\"sk-toggleable__control sk-hidden--visually\" id=\"sk-estimator-id-49\" type=\"checkbox\" ><label for=\"sk-estimator-id-49\" class=\"sk-toggleable__label sk-toggleable__label-arrow\">num</label><div class=\"sk-toggleable__content\"><pre>[&#x27;account_length&#x27;, &#x27;international_plan&#x27;, &#x27;voice_mail_plan&#x27;, &#x27;number_vmail_messages&#x27;, &#x27;total_day_minutes&#x27;, &#x27;total_day_calls&#x27;, &#x27;total_day_charge&#x27;, &#x27;total_eve_minutes&#x27;, &#x27;total_eve_calls&#x27;, &#x27;total_eve_charge&#x27;, &#x27;total_night_minutes&#x27;, &#x27;total_night_calls&#x27;, &#x27;total_night_charge&#x27;, &#x27;total_intl_minutes&#x27;, &#x27;total_intl_calls&#x27;, &#x27;total_intl_charge&#x27;]</pre></div></div></div><div class=\"sk-serial\"><div class=\"sk-item\"><div class=\"sk-serial\"><div class=\"sk-item\"><div class=\"sk-estimator sk-toggleable\"><input class=\"sk-toggleable__control sk-hidden--visually\" id=\"sk-estimator-id-50\" type=\"checkbox\" ><label for=\"sk-estimator-id-50\" class=\"sk-toggleable__label sk-toggleable__label-arrow\">SimpleImputer</label><div class=\"sk-toggleable__content\"><pre>SimpleImputer(strategy=&#x27;median&#x27;)</pre></div></div></div></div></div></div></div></div><div class=\"sk-parallel-item\"><div class=\"sk-item\"><div class=\"sk-label-container\"><div class=\"sk-label sk-toggleable\"><input class=\"sk-toggleable__control sk-hidden--visually\" id=\"sk-estimator-id-51\" type=\"checkbox\" ><label for=\"sk-estimator-id-51\" class=\"sk-toggleable__label sk-toggleable__label-arrow\">one_hot_encoding</label><div class=\"sk-toggleable__content\"><pre>[&#x27;area_code&#x27;]</pre></div></div></div><div class=\"sk-serial\"><div class=\"sk-item\"><div class=\"sk-serial\"><div class=\"sk-item\"><div class=\"sk-estimator sk-toggleable\"><input class=\"sk-toggleable__control sk-hidden--visually\" id=\"sk-estimator-id-52\" type=\"checkbox\" ><label for=\"sk-estimator-id-52\" class=\"sk-toggleable__label sk-toggleable__label-arrow\">SimpleImputer</label><div class=\"sk-toggleable__content\"><pre>SimpleImputer(strategy=&#x27;most_frequent&#x27;)</pre></div></div></div><div class=\"sk-item\"><div class=\"sk-estimator sk-toggleable\"><input class=\"sk-toggleable__control sk-hidden--visually\" id=\"sk-estimator-id-53\" type=\"checkbox\" ><label for=\"sk-estimator-id-53\" class=\"sk-toggleable__label sk-toggleable__label-arrow\">OneHotEncoder</label><div class=\"sk-toggleable__content\"><pre>OneHotEncoder(drop=&#x27;first&#x27;, handle_unknown=&#x27;ignore&#x27;)</pre></div></div></div></div></div></div></div></div><div class=\"sk-parallel-item\"><div class=\"sk-item\"><div class=\"sk-label-container\"><div class=\"sk-label sk-toggleable\"><input class=\"sk-toggleable__control sk-hidden--visually\" id=\"sk-estimator-id-54\" type=\"checkbox\" ><label for=\"sk-estimator-id-54\" class=\"sk-toggleable__label sk-toggleable__label-arrow\">count_encoder</label><div class=\"sk-toggleable__content\"><pre>[&#x27;state&#x27;, &#x27;number_customer_service_calls&#x27;]</pre></div></div></div><div class=\"sk-serial\"><div class=\"sk-item\"><div class=\"sk-serial\"><div class=\"sk-item\"><div class=\"sk-estimator sk-toggleable\"><input class=\"sk-toggleable__control sk-hidden--visually\" id=\"sk-estimator-id-55\" type=\"checkbox\" ><label for=\"sk-estimator-id-55\" class=\"sk-toggleable__label sk-toggleable__label-arrow\">SimpleImputer</label><div class=\"sk-toggleable__content\"><pre>SimpleImputer(strategy=&#x27;most_frequent&#x27;)</pre></div></div></div><div class=\"sk-item\"><div class=\"sk-estimator sk-toggleable\"><input class=\"sk-toggleable__control sk-hidden--visually\" id=\"sk-estimator-id-56\" type=\"checkbox\" ><label for=\"sk-estimator-id-56\" class=\"sk-toggleable__label sk-toggleable__label-arrow\">CountEncoder</label><div class=\"sk-toggleable__content\"><pre>CountEncoder(combine_min_nan_groups=True)</pre></div></div></div></div></div></div></div></div></div></div><div class=\"sk-item\"><div class=\"sk-estimator sk-toggleable\"><input class=\"sk-toggleable__control sk-hidden--visually\" id=\"sk-estimator-id-57\" type=\"checkbox\" ><label for=\"sk-estimator-id-57\" class=\"sk-toggleable__label sk-toggleable__label-arrow\">HistGradientBoostingClassifier</label><div class=\"sk-toggleable__content\"><pre>HistGradientBoostingClassifier(class_weight=&#x27;balanced&#x27;, early_stopping=False,\n",
       "                               min_samples_leaf=30, random_state=1234,\n",
       "                               scoring=&#x27;balanced_accuracy&#x27;)</pre></div></div></div></div></div></div></div></div></div></div></div></div>"
      ],
      "text/plain": [
       "RandomizedSearchCV(cv=StratifiedKFold(n_splits=3, random_state=1234, shuffle=True),\n",
       "                   estimator=Pipeline(steps=[('preprocessing',\n",
       "                                              ColumnTransformer(sparse_threshold=0,\n",
       "                                                                transformers=[('num',\n",
       "                                                                               Pipeline(steps=[('imputer',\n",
       "                                                                                                SimpleImputer(strategy='median'))]),\n",
       "                                                                               ['account_length',\n",
       "                                                                                'international_plan',\n",
       "                                                                                'voice_mail_plan',\n",
       "                                                                                'number_vmail_messages',\n",
       "                                                                                'total_day_minutes',\n",
       "                                                                                'tot...\n",
       "                   param_distributions={'model__learning_rate': <scipy.stats._distn_infrastructure.rv_continuous_frozen object at 0x00000252B0583280>,\n",
       "                                        'model__max_iter': <scipy.stats._distn_infrastructure.rv_discrete_frozen object at 0x00000252B0167CA0>,\n",
       "                                        'model__min_samples_leaf': <scipy.stats._distn_infrastructure.rv_discrete_frozen object at 0x00000252B0583EB0>},\n",
       "                   random_state=1234, scoring='balanced_accuracy')"
      ]
     },
     "execution_count": 51,
     "metadata": {},
     "output_type": "execute_result"
    }
   ],
   "source": [
    "# Display pipeline\n",
    "print(\"Time taken: \", count_hgb_tune9_time_taken)\n",
    "count_hgb_tune9"
   ]
  },
  {
   "cell_type": "code",
   "execution_count": 52,
   "id": "aae5e3ff",
   "metadata": {},
   "outputs": [
    {
     "name": "stdout",
     "output_type": "stream",
     "text": [
      "Best parameters: {'model__learning_rate': 0.05020636179965285, 'model__max_iter': 51, 'model__min_samples_leaf': 29}\n",
      "Balanced accuracy with best parameters: 0.8990477373160368\n"
     ]
    }
   ],
   "source": [
    "# Predict using the model with the best parameters\n",
    "y_count_hgb_tune_pred = count_hgb_tune.predict(X_test)\n",
    "\n",
    "# Get the best parameters\n",
    "count_hgb_tune_best_params = count_hgb_tune.best_params_\n",
    "print(f'Best parameters: {count_hgb_tune_best_params}')\n",
    "\n",
    "# Calculate balanced accuracy for the model with the best parameters\n",
    "count_hgb_tune_accuracy = balanced_accuracy_score(y_test, y_count_hgb_tune_pred)\n",
    "print(f'Balanced accuracy with best parameters: {count_hgb_tune_accuracy}')\n",
    "\n",
    "# Save results\n",
    "default_summary.append(\"Tune\")\n",
    "card_9_summary.append(\"AllVariables\")\n",
    "encoder_summary.append(\"CountEncoding\")\n",
    "value_summary.append(count_hgb_tune_accuracy)\n",
    "time_summary.append(count_hgb_tune_time_taken)\n",
    "n_models_summary.append(count_hgb_tune.n_iter * count_hgb_tune.n_splits_)"
   ]
  },
  {
   "cell_type": "code",
   "execution_count": 53,
   "id": "97739fce",
   "metadata": {},
   "outputs": [
    {
     "name": "stdout",
     "output_type": "stream",
     "text": [
      "Best parameters: {'model__learning_rate': 0.05020636179965285, 'model__max_iter': 51, 'model__min_samples_leaf': 29}\n",
      "Balanced accuracy with best parameters: 0.8990477373160368\n"
     ]
    }
   ],
   "source": [
    "# Predict using the model with the best parameters\n",
    "y_count_hgb_tune_pred9 = count_hgb_tune9.predict(X_test)\n",
    "\n",
    "# Get the best parameters\n",
    "count_hgb_tune_best_params9 = count_hgb_tune9.best_params_\n",
    "print(f'Best parameters: {count_hgb_tune_best_params9}')\n",
    "\n",
    "# Calculate balanced accuracy for the model with the best parameters\n",
    "count_hgb_tune_accuracy9 = balanced_accuracy_score(y_test, y_count_hgb_tune_pred9)\n",
    "print(f'Balanced accuracy with best parameters: {count_hgb_tune_accuracy9}')\n",
    "\n",
    "# Save results\n",
    "default_summary.append(\"Tune\")\n",
    "card_9_summary.append(\"OnlyVariablesWithCard>9\")\n",
    "encoder_summary.append(\"CountEncoding\")\n",
    "value_summary.append(count_hgb_tune_accuracy9)\n",
    "time_summary.append(count_hgb_tune9_time_taken)\n",
    "n_models_summary.append(count_hgb_tune9.n_iter)"
   ]
  },
  {
   "cell_type": "markdown",
   "id": "f3e2a21f",
   "metadata": {},
   "source": [
    "### Ordinal Encoding + HistGradientBoosting\n"
   ]
  },
  {
   "cell_type": "code",
   "execution_count": 54,
   "metadata": {},
   "outputs": [],
   "source": [
    "from sklearn.preprocessing import OrdinalEncoder"
   ]
  },
  {
   "cell_type": "markdown",
   "id": "a82791dc",
   "metadata": {},
   "source": [
    "#### Preprocessing"
   ]
  },
  {
   "cell_type": "code",
   "execution_count": 55,
   "metadata": {},
   "outputs": [],
   "source": [
    "cat_pipeline_more9 = Pipeline([\n",
    "    (\"imputer\", SimpleImputer(strategy = \"most_frequent\")),\n",
    "    (\"encoder\", OrdinalEncoder(dtype = int,\n",
    "                               handle_unknown = 'use_encoded_value',\n",
    "                               unknown_value = 99999,\n",
    "                               encoded_missing_value = 99999))\n",
    "])\n",
    "\n",
    "cat_pipeline_less9 = Pipeline([\n",
    "    (\"imputer\", SimpleImputer(strategy = \"most_frequent\")),\n",
    "    (\"encoder\", OneHotEncoder(drop = \"first\", handle_unknown = \"ignore\"))\n",
    "])\n",
    "\n",
    "preprop_pipeline = ColumnTransformer(\n",
    "    transformers = [(\"num\", num_pipeline, num_cols),\n",
    "                    (\"ordinal_encoder\", cat_pipeline_more9, cat_cols)],\n",
    "    sparse_threshold=0\n",
    ")\n",
    "\n",
    "preprop_pipeline9 = ColumnTransformer(\n",
    "    transformers = [(\"num\", num_pipeline, num_cols),\n",
    "                    (\"one_hot_encoding\", cat_pipeline_less9, cat_cols_less9),\n",
    "                    (\"ordinalencoder\", cat_pipeline_more9, cat_cols_more9)\n",
    "                   ],\n",
    "    sparse_threshold=0\n",
    ")"
   ]
  },
  {
   "cell_type": "markdown",
   "id": "68e444f8",
   "metadata": {},
   "source": [
    "#### Create a HistGradientBoostingClassifier model with default parameters and early stopping"
   ]
  },
  {
   "cell_type": "code",
   "execution_count": 56,
   "metadata": {},
   "outputs": [],
   "source": [
    "ordinal_hgb_default_pipeline = Pipeline([('preprocessing', preprop_pipeline),\n",
    "                                         ('model', hgb_default)])\n",
    "\n",
    "ordinal_hgb_default_pipeline9 = Pipeline([('preprocessing', preprop_pipeline9),\n",
    "                                          ('model', hgb_default9)])"
   ]
  },
  {
   "cell_type": "code",
   "execution_count": 57,
   "metadata": {},
   "outputs": [],
   "source": [
    "tic = time.time()\n",
    "\n",
    "ordinal_hgb_default = ordinal_hgb_default_pipeline.fit(X_train, y_train)\n",
    "\n",
    "toc = time.time()\n",
    "ordinal_hgb_default_time_taken = toc-tic"
   ]
  },
  {
   "cell_type": "code",
   "execution_count": 58,
   "metadata": {},
   "outputs": [
    {
     "name": "stdout",
     "output_type": "stream",
     "text": [
      "Time taken:  0.5798184871673584\n"
     ]
    },
    {
     "data": {
      "text/html": [
       "<style>#sk-container-id-7 {color: black;}#sk-container-id-7 pre{padding: 0;}#sk-container-id-7 div.sk-toggleable {background-color: white;}#sk-container-id-7 label.sk-toggleable__label {cursor: pointer;display: block;width: 100%;margin-bottom: 0;padding: 0.3em;box-sizing: border-box;text-align: center;}#sk-container-id-7 label.sk-toggleable__label-arrow:before {content: \"▸\";float: left;margin-right: 0.25em;color: #696969;}#sk-container-id-7 label.sk-toggleable__label-arrow:hover:before {color: black;}#sk-container-id-7 div.sk-estimator:hover label.sk-toggleable__label-arrow:before {color: black;}#sk-container-id-7 div.sk-toggleable__content {max-height: 0;max-width: 0;overflow: hidden;text-align: left;background-color: #f0f8ff;}#sk-container-id-7 div.sk-toggleable__content pre {margin: 0.2em;color: black;border-radius: 0.25em;background-color: #f0f8ff;}#sk-container-id-7 input.sk-toggleable__control:checked~div.sk-toggleable__content {max-height: 200px;max-width: 100%;overflow: auto;}#sk-container-id-7 input.sk-toggleable__control:checked~label.sk-toggleable__label-arrow:before {content: \"▾\";}#sk-container-id-7 div.sk-estimator input.sk-toggleable__control:checked~label.sk-toggleable__label {background-color: #d4ebff;}#sk-container-id-7 div.sk-label input.sk-toggleable__control:checked~label.sk-toggleable__label {background-color: #d4ebff;}#sk-container-id-7 input.sk-hidden--visually {border: 0;clip: rect(1px 1px 1px 1px);clip: rect(1px, 1px, 1px, 1px);height: 1px;margin: -1px;overflow: hidden;padding: 0;position: absolute;width: 1px;}#sk-container-id-7 div.sk-estimator {font-family: monospace;background-color: #f0f8ff;border: 1px dotted black;border-radius: 0.25em;box-sizing: border-box;margin-bottom: 0.5em;}#sk-container-id-7 div.sk-estimator:hover {background-color: #d4ebff;}#sk-container-id-7 div.sk-parallel-item::after {content: \"\";width: 100%;border-bottom: 1px solid gray;flex-grow: 1;}#sk-container-id-7 div.sk-label:hover label.sk-toggleable__label {background-color: #d4ebff;}#sk-container-id-7 div.sk-serial::before {content: \"\";position: absolute;border-left: 1px solid gray;box-sizing: border-box;top: 0;bottom: 0;left: 50%;z-index: 0;}#sk-container-id-7 div.sk-serial {display: flex;flex-direction: column;align-items: center;background-color: white;padding-right: 0.2em;padding-left: 0.2em;position: relative;}#sk-container-id-7 div.sk-item {position: relative;z-index: 1;}#sk-container-id-7 div.sk-parallel {display: flex;align-items: stretch;justify-content: center;background-color: white;position: relative;}#sk-container-id-7 div.sk-item::before, #sk-container-id-7 div.sk-parallel-item::before {content: \"\";position: absolute;border-left: 1px solid gray;box-sizing: border-box;top: 0;bottom: 0;left: 50%;z-index: -1;}#sk-container-id-7 div.sk-parallel-item {display: flex;flex-direction: column;z-index: 1;position: relative;background-color: white;}#sk-container-id-7 div.sk-parallel-item:first-child::after {align-self: flex-end;width: 50%;}#sk-container-id-7 div.sk-parallel-item:last-child::after {align-self: flex-start;width: 50%;}#sk-container-id-7 div.sk-parallel-item:only-child::after {width: 0;}#sk-container-id-7 div.sk-dashed-wrapped {border: 1px dashed gray;margin: 0 0.4em 0.5em 0.4em;box-sizing: border-box;padding-bottom: 0.4em;background-color: white;}#sk-container-id-7 div.sk-label label {font-family: monospace;font-weight: bold;display: inline-block;line-height: 1.2em;}#sk-container-id-7 div.sk-label-container {text-align: center;}#sk-container-id-7 div.sk-container {/* jupyter's `normalize.less` sets `[hidden] { display: none; }` but bootstrap.min.css set `[hidden] { display: none !important; }` so we also need the `!important` here to be able to override the default hidden behavior on the sphinx rendered scikit-learn.org. See: https://github.com/scikit-learn/scikit-learn/issues/21755 */display: inline-block !important;position: relative;}#sk-container-id-7 div.sk-text-repr-fallback {display: none;}</style><div id=\"sk-container-id-7\" class=\"sk-top-container\"><div class=\"sk-text-repr-fallback\"><pre>Pipeline(steps=[(&#x27;preprocessing&#x27;,\n",
       "                 ColumnTransformer(sparse_threshold=0,\n",
       "                                   transformers=[(&#x27;num&#x27;,\n",
       "                                                  Pipeline(steps=[(&#x27;imputer&#x27;,\n",
       "                                                                   SimpleImputer(strategy=&#x27;median&#x27;))]),\n",
       "                                                  [&#x27;account_length&#x27;,\n",
       "                                                   &#x27;international_plan&#x27;,\n",
       "                                                   &#x27;voice_mail_plan&#x27;,\n",
       "                                                   &#x27;number_vmail_messages&#x27;,\n",
       "                                                   &#x27;total_day_minutes&#x27;,\n",
       "                                                   &#x27;total_day_calls&#x27;,\n",
       "                                                   &#x27;total_day_charge&#x27;,\n",
       "                                                   &#x27;total_eve_minutes&#x27;,\n",
       "                                                   &#x27;total_eve_calls&#x27;,\n",
       "                                                   &#x27;total_eve_charge&#x27;,\n",
       "                                                   &#x27;...\n",
       "                                                                   SimpleImputer(strategy=&#x27;most_frequent&#x27;)),\n",
       "                                                                  (&#x27;encoder&#x27;,\n",
       "                                                                   OrdinalEncoder(dtype=&lt;class &#x27;int&#x27;&gt;,\n",
       "                                                                                  encoded_missing_value=99999,\n",
       "                                                                                  handle_unknown=&#x27;use_encoded_value&#x27;,\n",
       "                                                                                  unknown_value=99999))]),\n",
       "                                                  [&#x27;state&#x27;, &#x27;area_code&#x27;,\n",
       "                                                   &#x27;number_customer_service_calls&#x27;])])),\n",
       "                (&#x27;model&#x27;,\n",
       "                 HistGradientBoostingClassifier(class_weight=&#x27;balanced&#x27;,\n",
       "                                                early_stopping=False,\n",
       "                                                min_samples_leaf=30,\n",
       "                                                random_state=1234,\n",
       "                                                scoring=&#x27;balanced_accuracy&#x27;))])</pre><b>In a Jupyter environment, please rerun this cell to show the HTML representation or trust the notebook. <br />On GitHub, the HTML representation is unable to render, please try loading this page with nbviewer.org.</b></div><div class=\"sk-container\" hidden><div class=\"sk-item sk-dashed-wrapped\"><div class=\"sk-label-container\"><div class=\"sk-label sk-toggleable\"><input class=\"sk-toggleable__control sk-hidden--visually\" id=\"sk-estimator-id-58\" type=\"checkbox\" ><label for=\"sk-estimator-id-58\" class=\"sk-toggleable__label sk-toggleable__label-arrow\">Pipeline</label><div class=\"sk-toggleable__content\"><pre>Pipeline(steps=[(&#x27;preprocessing&#x27;,\n",
       "                 ColumnTransformer(sparse_threshold=0,\n",
       "                                   transformers=[(&#x27;num&#x27;,\n",
       "                                                  Pipeline(steps=[(&#x27;imputer&#x27;,\n",
       "                                                                   SimpleImputer(strategy=&#x27;median&#x27;))]),\n",
       "                                                  [&#x27;account_length&#x27;,\n",
       "                                                   &#x27;international_plan&#x27;,\n",
       "                                                   &#x27;voice_mail_plan&#x27;,\n",
       "                                                   &#x27;number_vmail_messages&#x27;,\n",
       "                                                   &#x27;total_day_minutes&#x27;,\n",
       "                                                   &#x27;total_day_calls&#x27;,\n",
       "                                                   &#x27;total_day_charge&#x27;,\n",
       "                                                   &#x27;total_eve_minutes&#x27;,\n",
       "                                                   &#x27;total_eve_calls&#x27;,\n",
       "                                                   &#x27;total_eve_charge&#x27;,\n",
       "                                                   &#x27;...\n",
       "                                                                   SimpleImputer(strategy=&#x27;most_frequent&#x27;)),\n",
       "                                                                  (&#x27;encoder&#x27;,\n",
       "                                                                   OrdinalEncoder(dtype=&lt;class &#x27;int&#x27;&gt;,\n",
       "                                                                                  encoded_missing_value=99999,\n",
       "                                                                                  handle_unknown=&#x27;use_encoded_value&#x27;,\n",
       "                                                                                  unknown_value=99999))]),\n",
       "                                                  [&#x27;state&#x27;, &#x27;area_code&#x27;,\n",
       "                                                   &#x27;number_customer_service_calls&#x27;])])),\n",
       "                (&#x27;model&#x27;,\n",
       "                 HistGradientBoostingClassifier(class_weight=&#x27;balanced&#x27;,\n",
       "                                                early_stopping=False,\n",
       "                                                min_samples_leaf=30,\n",
       "                                                random_state=1234,\n",
       "                                                scoring=&#x27;balanced_accuracy&#x27;))])</pre></div></div></div><div class=\"sk-serial\"><div class=\"sk-item sk-dashed-wrapped\"><div class=\"sk-label-container\"><div class=\"sk-label sk-toggleable\"><input class=\"sk-toggleable__control sk-hidden--visually\" id=\"sk-estimator-id-59\" type=\"checkbox\" ><label for=\"sk-estimator-id-59\" class=\"sk-toggleable__label sk-toggleable__label-arrow\">preprocessing: ColumnTransformer</label><div class=\"sk-toggleable__content\"><pre>ColumnTransformer(sparse_threshold=0,\n",
       "                  transformers=[(&#x27;num&#x27;,\n",
       "                                 Pipeline(steps=[(&#x27;imputer&#x27;,\n",
       "                                                  SimpleImputer(strategy=&#x27;median&#x27;))]),\n",
       "                                 [&#x27;account_length&#x27;, &#x27;international_plan&#x27;,\n",
       "                                  &#x27;voice_mail_plan&#x27;, &#x27;number_vmail_messages&#x27;,\n",
       "                                  &#x27;total_day_minutes&#x27;, &#x27;total_day_calls&#x27;,\n",
       "                                  &#x27;total_day_charge&#x27;, &#x27;total_eve_minutes&#x27;,\n",
       "                                  &#x27;total_eve_calls&#x27;, &#x27;total_eve_charge&#x27;,\n",
       "                                  &#x27;total_night_minutes&#x27;, &#x27;total_night...\n",
       "                                  &#x27;total_night_charge&#x27;, &#x27;total_intl_minutes&#x27;,\n",
       "                                  &#x27;total_intl_calls&#x27;, &#x27;total_intl_charge&#x27;]),\n",
       "                                (&#x27;ordinal_encoder&#x27;,\n",
       "                                 Pipeline(steps=[(&#x27;imputer&#x27;,\n",
       "                                                  SimpleImputer(strategy=&#x27;most_frequent&#x27;)),\n",
       "                                                 (&#x27;encoder&#x27;,\n",
       "                                                  OrdinalEncoder(dtype=&lt;class &#x27;int&#x27;&gt;,\n",
       "                                                                 encoded_missing_value=99999,\n",
       "                                                                 handle_unknown=&#x27;use_encoded_value&#x27;,\n",
       "                                                                 unknown_value=99999))]),\n",
       "                                 [&#x27;state&#x27;, &#x27;area_code&#x27;,\n",
       "                                  &#x27;number_customer_service_calls&#x27;])])</pre></div></div></div><div class=\"sk-parallel\"><div class=\"sk-parallel-item\"><div class=\"sk-item\"><div class=\"sk-label-container\"><div class=\"sk-label sk-toggleable\"><input class=\"sk-toggleable__control sk-hidden--visually\" id=\"sk-estimator-id-60\" type=\"checkbox\" ><label for=\"sk-estimator-id-60\" class=\"sk-toggleable__label sk-toggleable__label-arrow\">num</label><div class=\"sk-toggleable__content\"><pre>[&#x27;account_length&#x27;, &#x27;international_plan&#x27;, &#x27;voice_mail_plan&#x27;, &#x27;number_vmail_messages&#x27;, &#x27;total_day_minutes&#x27;, &#x27;total_day_calls&#x27;, &#x27;total_day_charge&#x27;, &#x27;total_eve_minutes&#x27;, &#x27;total_eve_calls&#x27;, &#x27;total_eve_charge&#x27;, &#x27;total_night_minutes&#x27;, &#x27;total_night_calls&#x27;, &#x27;total_night_charge&#x27;, &#x27;total_intl_minutes&#x27;, &#x27;total_intl_calls&#x27;, &#x27;total_intl_charge&#x27;]</pre></div></div></div><div class=\"sk-serial\"><div class=\"sk-item\"><div class=\"sk-serial\"><div class=\"sk-item\"><div class=\"sk-estimator sk-toggleable\"><input class=\"sk-toggleable__control sk-hidden--visually\" id=\"sk-estimator-id-61\" type=\"checkbox\" ><label for=\"sk-estimator-id-61\" class=\"sk-toggleable__label sk-toggleable__label-arrow\">SimpleImputer</label><div class=\"sk-toggleable__content\"><pre>SimpleImputer(strategy=&#x27;median&#x27;)</pre></div></div></div></div></div></div></div></div><div class=\"sk-parallel-item\"><div class=\"sk-item\"><div class=\"sk-label-container\"><div class=\"sk-label sk-toggleable\"><input class=\"sk-toggleable__control sk-hidden--visually\" id=\"sk-estimator-id-62\" type=\"checkbox\" ><label for=\"sk-estimator-id-62\" class=\"sk-toggleable__label sk-toggleable__label-arrow\">ordinal_encoder</label><div class=\"sk-toggleable__content\"><pre>[&#x27;state&#x27;, &#x27;area_code&#x27;, &#x27;number_customer_service_calls&#x27;]</pre></div></div></div><div class=\"sk-serial\"><div class=\"sk-item\"><div class=\"sk-serial\"><div class=\"sk-item\"><div class=\"sk-estimator sk-toggleable\"><input class=\"sk-toggleable__control sk-hidden--visually\" id=\"sk-estimator-id-63\" type=\"checkbox\" ><label for=\"sk-estimator-id-63\" class=\"sk-toggleable__label sk-toggleable__label-arrow\">SimpleImputer</label><div class=\"sk-toggleable__content\"><pre>SimpleImputer(strategy=&#x27;most_frequent&#x27;)</pre></div></div></div><div class=\"sk-item\"><div class=\"sk-estimator sk-toggleable\"><input class=\"sk-toggleable__control sk-hidden--visually\" id=\"sk-estimator-id-64\" type=\"checkbox\" ><label for=\"sk-estimator-id-64\" class=\"sk-toggleable__label sk-toggleable__label-arrow\">OrdinalEncoder</label><div class=\"sk-toggleable__content\"><pre>OrdinalEncoder(dtype=&lt;class &#x27;int&#x27;&gt;, encoded_missing_value=99999,\n",
       "               handle_unknown=&#x27;use_encoded_value&#x27;, unknown_value=99999)</pre></div></div></div></div></div></div></div></div></div></div><div class=\"sk-item\"><div class=\"sk-estimator sk-toggleable\"><input class=\"sk-toggleable__control sk-hidden--visually\" id=\"sk-estimator-id-65\" type=\"checkbox\" ><label for=\"sk-estimator-id-65\" class=\"sk-toggleable__label sk-toggleable__label-arrow\">HistGradientBoostingClassifier</label><div class=\"sk-toggleable__content\"><pre>HistGradientBoostingClassifier(class_weight=&#x27;balanced&#x27;, early_stopping=False,\n",
       "                               min_samples_leaf=30, random_state=1234,\n",
       "                               scoring=&#x27;balanced_accuracy&#x27;)</pre></div></div></div></div></div></div></div>"
      ],
      "text/plain": [
       "Pipeline(steps=[('preprocessing',\n",
       "                 ColumnTransformer(sparse_threshold=0,\n",
       "                                   transformers=[('num',\n",
       "                                                  Pipeline(steps=[('imputer',\n",
       "                                                                   SimpleImputer(strategy='median'))]),\n",
       "                                                  ['account_length',\n",
       "                                                   'international_plan',\n",
       "                                                   'voice_mail_plan',\n",
       "                                                   'number_vmail_messages',\n",
       "                                                   'total_day_minutes',\n",
       "                                                   'total_day_calls',\n",
       "                                                   'total_day_charge',\n",
       "                                                   'total_eve_minutes',\n",
       "                                                   'total_eve_calls',\n",
       "                                                   'total_eve_charge',\n",
       "                                                   '...\n",
       "                                                                   SimpleImputer(strategy='most_frequent')),\n",
       "                                                                  ('encoder',\n",
       "                                                                   OrdinalEncoder(dtype=<class 'int'>,\n",
       "                                                                                  encoded_missing_value=99999,\n",
       "                                                                                  handle_unknown='use_encoded_value',\n",
       "                                                                                  unknown_value=99999))]),\n",
       "                                                  ['state', 'area_code',\n",
       "                                                   'number_customer_service_calls'])])),\n",
       "                ('model',\n",
       "                 HistGradientBoostingClassifier(class_weight='balanced',\n",
       "                                                early_stopping=False,\n",
       "                                                min_samples_leaf=30,\n",
       "                                                random_state=1234,\n",
       "                                                scoring='balanced_accuracy'))])"
      ]
     },
     "execution_count": 58,
     "metadata": {},
     "output_type": "execute_result"
    }
   ],
   "source": [
    "# Display pipeline\n",
    "print(\"Time taken: \", ordinal_hgb_default_time_taken)\n",
    "ordinal_hgb_default"
   ]
  },
  {
   "cell_type": "code",
   "execution_count": 59,
   "metadata": {},
   "outputs": [],
   "source": [
    "tic = time.time()\n",
    "\n",
    "ordinal_hgb_default9 = ordinal_hgb_default_pipeline9.fit(X_train, y_train)\n",
    "\n",
    "toc = time.time()\n",
    "ordinal_hgb_default9_time_taken = toc-tic"
   ]
  },
  {
   "cell_type": "code",
   "execution_count": 60,
   "metadata": {},
   "outputs": [
    {
     "name": "stdout",
     "output_type": "stream",
     "text": [
      "Time taken:  0.6227858066558838\n"
     ]
    },
    {
     "data": {
      "text/html": [
       "<style>#sk-container-id-8 {color: black;}#sk-container-id-8 pre{padding: 0;}#sk-container-id-8 div.sk-toggleable {background-color: white;}#sk-container-id-8 label.sk-toggleable__label {cursor: pointer;display: block;width: 100%;margin-bottom: 0;padding: 0.3em;box-sizing: border-box;text-align: center;}#sk-container-id-8 label.sk-toggleable__label-arrow:before {content: \"▸\";float: left;margin-right: 0.25em;color: #696969;}#sk-container-id-8 label.sk-toggleable__label-arrow:hover:before {color: black;}#sk-container-id-8 div.sk-estimator:hover label.sk-toggleable__label-arrow:before {color: black;}#sk-container-id-8 div.sk-toggleable__content {max-height: 0;max-width: 0;overflow: hidden;text-align: left;background-color: #f0f8ff;}#sk-container-id-8 div.sk-toggleable__content pre {margin: 0.2em;color: black;border-radius: 0.25em;background-color: #f0f8ff;}#sk-container-id-8 input.sk-toggleable__control:checked~div.sk-toggleable__content {max-height: 200px;max-width: 100%;overflow: auto;}#sk-container-id-8 input.sk-toggleable__control:checked~label.sk-toggleable__label-arrow:before {content: \"▾\";}#sk-container-id-8 div.sk-estimator input.sk-toggleable__control:checked~label.sk-toggleable__label {background-color: #d4ebff;}#sk-container-id-8 div.sk-label input.sk-toggleable__control:checked~label.sk-toggleable__label {background-color: #d4ebff;}#sk-container-id-8 input.sk-hidden--visually {border: 0;clip: rect(1px 1px 1px 1px);clip: rect(1px, 1px, 1px, 1px);height: 1px;margin: -1px;overflow: hidden;padding: 0;position: absolute;width: 1px;}#sk-container-id-8 div.sk-estimator {font-family: monospace;background-color: #f0f8ff;border: 1px dotted black;border-radius: 0.25em;box-sizing: border-box;margin-bottom: 0.5em;}#sk-container-id-8 div.sk-estimator:hover {background-color: #d4ebff;}#sk-container-id-8 div.sk-parallel-item::after {content: \"\";width: 100%;border-bottom: 1px solid gray;flex-grow: 1;}#sk-container-id-8 div.sk-label:hover label.sk-toggleable__label {background-color: #d4ebff;}#sk-container-id-8 div.sk-serial::before {content: \"\";position: absolute;border-left: 1px solid gray;box-sizing: border-box;top: 0;bottom: 0;left: 50%;z-index: 0;}#sk-container-id-8 div.sk-serial {display: flex;flex-direction: column;align-items: center;background-color: white;padding-right: 0.2em;padding-left: 0.2em;position: relative;}#sk-container-id-8 div.sk-item {position: relative;z-index: 1;}#sk-container-id-8 div.sk-parallel {display: flex;align-items: stretch;justify-content: center;background-color: white;position: relative;}#sk-container-id-8 div.sk-item::before, #sk-container-id-8 div.sk-parallel-item::before {content: \"\";position: absolute;border-left: 1px solid gray;box-sizing: border-box;top: 0;bottom: 0;left: 50%;z-index: -1;}#sk-container-id-8 div.sk-parallel-item {display: flex;flex-direction: column;z-index: 1;position: relative;background-color: white;}#sk-container-id-8 div.sk-parallel-item:first-child::after {align-self: flex-end;width: 50%;}#sk-container-id-8 div.sk-parallel-item:last-child::after {align-self: flex-start;width: 50%;}#sk-container-id-8 div.sk-parallel-item:only-child::after {width: 0;}#sk-container-id-8 div.sk-dashed-wrapped {border: 1px dashed gray;margin: 0 0.4em 0.5em 0.4em;box-sizing: border-box;padding-bottom: 0.4em;background-color: white;}#sk-container-id-8 div.sk-label label {font-family: monospace;font-weight: bold;display: inline-block;line-height: 1.2em;}#sk-container-id-8 div.sk-label-container {text-align: center;}#sk-container-id-8 div.sk-container {/* jupyter's `normalize.less` sets `[hidden] { display: none; }` but bootstrap.min.css set `[hidden] { display: none !important; }` so we also need the `!important` here to be able to override the default hidden behavior on the sphinx rendered scikit-learn.org. See: https://github.com/scikit-learn/scikit-learn/issues/21755 */display: inline-block !important;position: relative;}#sk-container-id-8 div.sk-text-repr-fallback {display: none;}</style><div id=\"sk-container-id-8\" class=\"sk-top-container\"><div class=\"sk-text-repr-fallback\"><pre>Pipeline(steps=[(&#x27;preprocessing&#x27;,\n",
       "                 ColumnTransformer(sparse_threshold=0,\n",
       "                                   transformers=[(&#x27;num&#x27;,\n",
       "                                                  Pipeline(steps=[(&#x27;imputer&#x27;,\n",
       "                                                                   SimpleImputer(strategy=&#x27;median&#x27;))]),\n",
       "                                                  [&#x27;account_length&#x27;,\n",
       "                                                   &#x27;international_plan&#x27;,\n",
       "                                                   &#x27;voice_mail_plan&#x27;,\n",
       "                                                   &#x27;number_vmail_messages&#x27;,\n",
       "                                                   &#x27;total_day_minutes&#x27;,\n",
       "                                                   &#x27;total_day_calls&#x27;,\n",
       "                                                   &#x27;total_day_charge&#x27;,\n",
       "                                                   &#x27;total_eve_minutes&#x27;,\n",
       "                                                   &#x27;total_eve_calls&#x27;,\n",
       "                                                   &#x27;total_eve_charge&#x27;,\n",
       "                                                   &#x27;...\n",
       "                                                                   SimpleImputer(strategy=&#x27;most_frequent&#x27;)),\n",
       "                                                                  (&#x27;encoder&#x27;,\n",
       "                                                                   OrdinalEncoder(dtype=&lt;class &#x27;int&#x27;&gt;,\n",
       "                                                                                  encoded_missing_value=99999,\n",
       "                                                                                  handle_unknown=&#x27;use_encoded_value&#x27;,\n",
       "                                                                                  unknown_value=99999))]),\n",
       "                                                  [&#x27;state&#x27;,\n",
       "                                                   &#x27;number_customer_service_calls&#x27;])])),\n",
       "                (&#x27;model&#x27;,\n",
       "                 HistGradientBoostingClassifier(class_weight=&#x27;balanced&#x27;,\n",
       "                                                early_stopping=False,\n",
       "                                                min_samples_leaf=30,\n",
       "                                                random_state=1234,\n",
       "                                                scoring=&#x27;balanced_accuracy&#x27;))])</pre><b>In a Jupyter environment, please rerun this cell to show the HTML representation or trust the notebook. <br />On GitHub, the HTML representation is unable to render, please try loading this page with nbviewer.org.</b></div><div class=\"sk-container\" hidden><div class=\"sk-item sk-dashed-wrapped\"><div class=\"sk-label-container\"><div class=\"sk-label sk-toggleable\"><input class=\"sk-toggleable__control sk-hidden--visually\" id=\"sk-estimator-id-66\" type=\"checkbox\" ><label for=\"sk-estimator-id-66\" class=\"sk-toggleable__label sk-toggleable__label-arrow\">Pipeline</label><div class=\"sk-toggleable__content\"><pre>Pipeline(steps=[(&#x27;preprocessing&#x27;,\n",
       "                 ColumnTransformer(sparse_threshold=0,\n",
       "                                   transformers=[(&#x27;num&#x27;,\n",
       "                                                  Pipeline(steps=[(&#x27;imputer&#x27;,\n",
       "                                                                   SimpleImputer(strategy=&#x27;median&#x27;))]),\n",
       "                                                  [&#x27;account_length&#x27;,\n",
       "                                                   &#x27;international_plan&#x27;,\n",
       "                                                   &#x27;voice_mail_plan&#x27;,\n",
       "                                                   &#x27;number_vmail_messages&#x27;,\n",
       "                                                   &#x27;total_day_minutes&#x27;,\n",
       "                                                   &#x27;total_day_calls&#x27;,\n",
       "                                                   &#x27;total_day_charge&#x27;,\n",
       "                                                   &#x27;total_eve_minutes&#x27;,\n",
       "                                                   &#x27;total_eve_calls&#x27;,\n",
       "                                                   &#x27;total_eve_charge&#x27;,\n",
       "                                                   &#x27;...\n",
       "                                                                   SimpleImputer(strategy=&#x27;most_frequent&#x27;)),\n",
       "                                                                  (&#x27;encoder&#x27;,\n",
       "                                                                   OrdinalEncoder(dtype=&lt;class &#x27;int&#x27;&gt;,\n",
       "                                                                                  encoded_missing_value=99999,\n",
       "                                                                                  handle_unknown=&#x27;use_encoded_value&#x27;,\n",
       "                                                                                  unknown_value=99999))]),\n",
       "                                                  [&#x27;state&#x27;,\n",
       "                                                   &#x27;number_customer_service_calls&#x27;])])),\n",
       "                (&#x27;model&#x27;,\n",
       "                 HistGradientBoostingClassifier(class_weight=&#x27;balanced&#x27;,\n",
       "                                                early_stopping=False,\n",
       "                                                min_samples_leaf=30,\n",
       "                                                random_state=1234,\n",
       "                                                scoring=&#x27;balanced_accuracy&#x27;))])</pre></div></div></div><div class=\"sk-serial\"><div class=\"sk-item sk-dashed-wrapped\"><div class=\"sk-label-container\"><div class=\"sk-label sk-toggleable\"><input class=\"sk-toggleable__control sk-hidden--visually\" id=\"sk-estimator-id-67\" type=\"checkbox\" ><label for=\"sk-estimator-id-67\" class=\"sk-toggleable__label sk-toggleable__label-arrow\">preprocessing: ColumnTransformer</label><div class=\"sk-toggleable__content\"><pre>ColumnTransformer(sparse_threshold=0,\n",
       "                  transformers=[(&#x27;num&#x27;,\n",
       "                                 Pipeline(steps=[(&#x27;imputer&#x27;,\n",
       "                                                  SimpleImputer(strategy=&#x27;median&#x27;))]),\n",
       "                                 [&#x27;account_length&#x27;, &#x27;international_plan&#x27;,\n",
       "                                  &#x27;voice_mail_plan&#x27;, &#x27;number_vmail_messages&#x27;,\n",
       "                                  &#x27;total_day_minutes&#x27;, &#x27;total_day_calls&#x27;,\n",
       "                                  &#x27;total_day_charge&#x27;, &#x27;total_eve_minutes&#x27;,\n",
       "                                  &#x27;total_eve_calls&#x27;, &#x27;total_eve_charge&#x27;,\n",
       "                                  &#x27;total_night_minutes&#x27;, &#x27;total_night...\n",
       "                                                  SimpleImputer(strategy=&#x27;most_frequent&#x27;)),\n",
       "                                                 (&#x27;encoder&#x27;,\n",
       "                                                  OneHotEncoder(drop=&#x27;first&#x27;,\n",
       "                                                                handle_unknown=&#x27;ignore&#x27;))]),\n",
       "                                 [&#x27;area_code&#x27;]),\n",
       "                                (&#x27;ordinalencoder&#x27;,\n",
       "                                 Pipeline(steps=[(&#x27;imputer&#x27;,\n",
       "                                                  SimpleImputer(strategy=&#x27;most_frequent&#x27;)),\n",
       "                                                 (&#x27;encoder&#x27;,\n",
       "                                                  OrdinalEncoder(dtype=&lt;class &#x27;int&#x27;&gt;,\n",
       "                                                                 encoded_missing_value=99999,\n",
       "                                                                 handle_unknown=&#x27;use_encoded_value&#x27;,\n",
       "                                                                 unknown_value=99999))]),\n",
       "                                 [&#x27;state&#x27;, &#x27;number_customer_service_calls&#x27;])])</pre></div></div></div><div class=\"sk-parallel\"><div class=\"sk-parallel-item\"><div class=\"sk-item\"><div class=\"sk-label-container\"><div class=\"sk-label sk-toggleable\"><input class=\"sk-toggleable__control sk-hidden--visually\" id=\"sk-estimator-id-68\" type=\"checkbox\" ><label for=\"sk-estimator-id-68\" class=\"sk-toggleable__label sk-toggleable__label-arrow\">num</label><div class=\"sk-toggleable__content\"><pre>[&#x27;account_length&#x27;, &#x27;international_plan&#x27;, &#x27;voice_mail_plan&#x27;, &#x27;number_vmail_messages&#x27;, &#x27;total_day_minutes&#x27;, &#x27;total_day_calls&#x27;, &#x27;total_day_charge&#x27;, &#x27;total_eve_minutes&#x27;, &#x27;total_eve_calls&#x27;, &#x27;total_eve_charge&#x27;, &#x27;total_night_minutes&#x27;, &#x27;total_night_calls&#x27;, &#x27;total_night_charge&#x27;, &#x27;total_intl_minutes&#x27;, &#x27;total_intl_calls&#x27;, &#x27;total_intl_charge&#x27;]</pre></div></div></div><div class=\"sk-serial\"><div class=\"sk-item\"><div class=\"sk-serial\"><div class=\"sk-item\"><div class=\"sk-estimator sk-toggleable\"><input class=\"sk-toggleable__control sk-hidden--visually\" id=\"sk-estimator-id-69\" type=\"checkbox\" ><label for=\"sk-estimator-id-69\" class=\"sk-toggleable__label sk-toggleable__label-arrow\">SimpleImputer</label><div class=\"sk-toggleable__content\"><pre>SimpleImputer(strategy=&#x27;median&#x27;)</pre></div></div></div></div></div></div></div></div><div class=\"sk-parallel-item\"><div class=\"sk-item\"><div class=\"sk-label-container\"><div class=\"sk-label sk-toggleable\"><input class=\"sk-toggleable__control sk-hidden--visually\" id=\"sk-estimator-id-70\" type=\"checkbox\" ><label for=\"sk-estimator-id-70\" class=\"sk-toggleable__label sk-toggleable__label-arrow\">one_hot_encoding</label><div class=\"sk-toggleable__content\"><pre>[&#x27;area_code&#x27;]</pre></div></div></div><div class=\"sk-serial\"><div class=\"sk-item\"><div class=\"sk-serial\"><div class=\"sk-item\"><div class=\"sk-estimator sk-toggleable\"><input class=\"sk-toggleable__control sk-hidden--visually\" id=\"sk-estimator-id-71\" type=\"checkbox\" ><label for=\"sk-estimator-id-71\" class=\"sk-toggleable__label sk-toggleable__label-arrow\">SimpleImputer</label><div class=\"sk-toggleable__content\"><pre>SimpleImputer(strategy=&#x27;most_frequent&#x27;)</pre></div></div></div><div class=\"sk-item\"><div class=\"sk-estimator sk-toggleable\"><input class=\"sk-toggleable__control sk-hidden--visually\" id=\"sk-estimator-id-72\" type=\"checkbox\" ><label for=\"sk-estimator-id-72\" class=\"sk-toggleable__label sk-toggleable__label-arrow\">OneHotEncoder</label><div class=\"sk-toggleable__content\"><pre>OneHotEncoder(drop=&#x27;first&#x27;, handle_unknown=&#x27;ignore&#x27;)</pre></div></div></div></div></div></div></div></div><div class=\"sk-parallel-item\"><div class=\"sk-item\"><div class=\"sk-label-container\"><div class=\"sk-label sk-toggleable\"><input class=\"sk-toggleable__control sk-hidden--visually\" id=\"sk-estimator-id-73\" type=\"checkbox\" ><label for=\"sk-estimator-id-73\" class=\"sk-toggleable__label sk-toggleable__label-arrow\">ordinalencoder</label><div class=\"sk-toggleable__content\"><pre>[&#x27;state&#x27;, &#x27;number_customer_service_calls&#x27;]</pre></div></div></div><div class=\"sk-serial\"><div class=\"sk-item\"><div class=\"sk-serial\"><div class=\"sk-item\"><div class=\"sk-estimator sk-toggleable\"><input class=\"sk-toggleable__control sk-hidden--visually\" id=\"sk-estimator-id-74\" type=\"checkbox\" ><label for=\"sk-estimator-id-74\" class=\"sk-toggleable__label sk-toggleable__label-arrow\">SimpleImputer</label><div class=\"sk-toggleable__content\"><pre>SimpleImputer(strategy=&#x27;most_frequent&#x27;)</pre></div></div></div><div class=\"sk-item\"><div class=\"sk-estimator sk-toggleable\"><input class=\"sk-toggleable__control sk-hidden--visually\" id=\"sk-estimator-id-75\" type=\"checkbox\" ><label for=\"sk-estimator-id-75\" class=\"sk-toggleable__label sk-toggleable__label-arrow\">OrdinalEncoder</label><div class=\"sk-toggleable__content\"><pre>OrdinalEncoder(dtype=&lt;class &#x27;int&#x27;&gt;, encoded_missing_value=99999,\n",
       "               handle_unknown=&#x27;use_encoded_value&#x27;, unknown_value=99999)</pre></div></div></div></div></div></div></div></div></div></div><div class=\"sk-item\"><div class=\"sk-estimator sk-toggleable\"><input class=\"sk-toggleable__control sk-hidden--visually\" id=\"sk-estimator-id-76\" type=\"checkbox\" ><label for=\"sk-estimator-id-76\" class=\"sk-toggleable__label sk-toggleable__label-arrow\">HistGradientBoostingClassifier</label><div class=\"sk-toggleable__content\"><pre>HistGradientBoostingClassifier(class_weight=&#x27;balanced&#x27;, early_stopping=False,\n",
       "                               min_samples_leaf=30, random_state=1234,\n",
       "                               scoring=&#x27;balanced_accuracy&#x27;)</pre></div></div></div></div></div></div></div>"
      ],
      "text/plain": [
       "Pipeline(steps=[('preprocessing',\n",
       "                 ColumnTransformer(sparse_threshold=0,\n",
       "                                   transformers=[('num',\n",
       "                                                  Pipeline(steps=[('imputer',\n",
       "                                                                   SimpleImputer(strategy='median'))]),\n",
       "                                                  ['account_length',\n",
       "                                                   'international_plan',\n",
       "                                                   'voice_mail_plan',\n",
       "                                                   'number_vmail_messages',\n",
       "                                                   'total_day_minutes',\n",
       "                                                   'total_day_calls',\n",
       "                                                   'total_day_charge',\n",
       "                                                   'total_eve_minutes',\n",
       "                                                   'total_eve_calls',\n",
       "                                                   'total_eve_charge',\n",
       "                                                   '...\n",
       "                                                                   SimpleImputer(strategy='most_frequent')),\n",
       "                                                                  ('encoder',\n",
       "                                                                   OrdinalEncoder(dtype=<class 'int'>,\n",
       "                                                                                  encoded_missing_value=99999,\n",
       "                                                                                  handle_unknown='use_encoded_value',\n",
       "                                                                                  unknown_value=99999))]),\n",
       "                                                  ['state',\n",
       "                                                   'number_customer_service_calls'])])),\n",
       "                ('model',\n",
       "                 HistGradientBoostingClassifier(class_weight='balanced',\n",
       "                                                early_stopping=False,\n",
       "                                                min_samples_leaf=30,\n",
       "                                                random_state=1234,\n",
       "                                                scoring='balanced_accuracy'))])"
      ]
     },
     "execution_count": 60,
     "metadata": {},
     "output_type": "execute_result"
    }
   ],
   "source": [
    "# Display pipeline\n",
    "print(\"Time taken: \", ordinal_hgb_default9_time_taken)\n",
    "ordinal_hgb_default9"
   ]
  },
  {
   "cell_type": "code",
   "execution_count": 61,
   "metadata": {},
   "outputs": [
    {
     "name": "stdout",
     "output_type": "stream",
     "text": [
      "Balanced accuracy with default parameters: 0.9017555071616575\n"
     ]
    }
   ],
   "source": [
    "# Calculate balanced accuracy for the model with default parameters\n",
    "y_ordinal_hgb_default_pred = ordinal_hgb_default.predict(X_test)\n",
    "ordinal_hgb_default_accuracy = balanced_accuracy_score(y_test, y_ordinal_hgb_default_pred)\n",
    "print(f'Balanced accuracy with default parameters: {ordinal_hgb_default_accuracy}')\n",
    "\n",
    "# Save results\n",
    "default_summary.append(\"Default\")\n",
    "card_9_summary.append(\"AllVariables\")\n",
    "encoder_summary.append(\"OrdinalEncoder\")\n",
    "value_summary.append(ordinal_hgb_default_accuracy)\n",
    "time_summary.append(ordinal_hgb_default_time_taken)\n",
    "n_models_summary.append(1)\n"
   ]
  },
  {
   "cell_type": "code",
   "execution_count": 62,
   "metadata": {},
   "outputs": [
    {
     "name": "stdout",
     "output_type": "stream",
     "text": [
      "Balanced accuracy with default parameters: 0.9114265464424932\n"
     ]
    }
   ],
   "source": [
    "# Calculate balanced accuracy for the model with default parameters\n",
    "y_ordinal_hgb_default_pred9 = ordinal_hgb_default9.predict(X_test)\n",
    "ordinal_hgb_default_accuracy9 = balanced_accuracy_score(y_test, y_ordinal_hgb_default_pred9)\n",
    "print(f'Balanced accuracy with default parameters: {ordinal_hgb_default_accuracy9}')\n",
    "\n",
    "# Save results\n",
    "default_summary.append(\"Default\")\n",
    "card_9_summary.append(\"OnlyVariablesWithCard>9\")\n",
    "encoder_summary.append(\"OrdinalEncoder\")\n",
    "value_summary.append(ordinal_hgb_default_accuracy9)\n",
    "time_summary.append(ordinal_hgb_default9_time_taken)\n",
    "n_models_summary.append(1)"
   ]
  },
  {
   "cell_type": "markdown",
   "id": "e2ec5c24",
   "metadata": {},
   "source": [
    "#### Create a HistGradientBoostingClassifier model for tuning"
   ]
  },
  {
   "cell_type": "code",
   "execution_count": 63,
   "metadata": {},
   "outputs": [],
   "source": [
    "ordinal_hgb_tune = RandomizedSearchCV(estimator = ordinal_hgb_default_pipeline, \n",
    "                                      param_distributions = param_distributions, \n",
    "                                      n_iter = 100,\n",
    "                                      cv = stratified_kfold,\n",
    "                                      scoring = 'balanced_accuracy', \n",
    "                                      random_state = 1234,\n",
    "                                      n_jobs = -1)\n",
    "\n",
    "ordinal_hgb_tune9 = RandomizedSearchCV(estimator = ordinal_hgb_default_pipeline9, \n",
    "                                       param_distributions = param_distributions, \n",
    "                                       n_iter = 100,\n",
    "                                       cv = stratified_kfold,\n",
    "                                       scoring = 'balanced_accuracy', \n",
    "                                       random_state = 1234,\n",
    "                                       n_jobs = -1)"
   ]
  },
  {
   "cell_type": "code",
   "execution_count": 64,
   "metadata": {},
   "outputs": [],
   "source": [
    "tic = time.time()\n",
    "\n",
    "ordinal_hgb_tune = ordinal_hgb_tune.fit(X_train, y_train)\n",
    "\n",
    "toc = time.time()\n",
    "ordinal_hgb_tune_time_taken = toc-tic"
   ]
  },
  {
   "cell_type": "code",
   "execution_count": 65,
   "metadata": {},
   "outputs": [
    {
     "name": "stdout",
     "output_type": "stream",
     "text": [
      "Time taken:  21.22732901573181\n"
     ]
    },
    {
     "data": {
      "text/html": [
       "<style>#sk-container-id-9 {color: black;}#sk-container-id-9 pre{padding: 0;}#sk-container-id-9 div.sk-toggleable {background-color: white;}#sk-container-id-9 label.sk-toggleable__label {cursor: pointer;display: block;width: 100%;margin-bottom: 0;padding: 0.3em;box-sizing: border-box;text-align: center;}#sk-container-id-9 label.sk-toggleable__label-arrow:before {content: \"▸\";float: left;margin-right: 0.25em;color: #696969;}#sk-container-id-9 label.sk-toggleable__label-arrow:hover:before {color: black;}#sk-container-id-9 div.sk-estimator:hover label.sk-toggleable__label-arrow:before {color: black;}#sk-container-id-9 div.sk-toggleable__content {max-height: 0;max-width: 0;overflow: hidden;text-align: left;background-color: #f0f8ff;}#sk-container-id-9 div.sk-toggleable__content pre {margin: 0.2em;color: black;border-radius: 0.25em;background-color: #f0f8ff;}#sk-container-id-9 input.sk-toggleable__control:checked~div.sk-toggleable__content {max-height: 200px;max-width: 100%;overflow: auto;}#sk-container-id-9 input.sk-toggleable__control:checked~label.sk-toggleable__label-arrow:before {content: \"▾\";}#sk-container-id-9 div.sk-estimator input.sk-toggleable__control:checked~label.sk-toggleable__label {background-color: #d4ebff;}#sk-container-id-9 div.sk-label input.sk-toggleable__control:checked~label.sk-toggleable__label {background-color: #d4ebff;}#sk-container-id-9 input.sk-hidden--visually {border: 0;clip: rect(1px 1px 1px 1px);clip: rect(1px, 1px, 1px, 1px);height: 1px;margin: -1px;overflow: hidden;padding: 0;position: absolute;width: 1px;}#sk-container-id-9 div.sk-estimator {font-family: monospace;background-color: #f0f8ff;border: 1px dotted black;border-radius: 0.25em;box-sizing: border-box;margin-bottom: 0.5em;}#sk-container-id-9 div.sk-estimator:hover {background-color: #d4ebff;}#sk-container-id-9 div.sk-parallel-item::after {content: \"\";width: 100%;border-bottom: 1px solid gray;flex-grow: 1;}#sk-container-id-9 div.sk-label:hover label.sk-toggleable__label {background-color: #d4ebff;}#sk-container-id-9 div.sk-serial::before {content: \"\";position: absolute;border-left: 1px solid gray;box-sizing: border-box;top: 0;bottom: 0;left: 50%;z-index: 0;}#sk-container-id-9 div.sk-serial {display: flex;flex-direction: column;align-items: center;background-color: white;padding-right: 0.2em;padding-left: 0.2em;position: relative;}#sk-container-id-9 div.sk-item {position: relative;z-index: 1;}#sk-container-id-9 div.sk-parallel {display: flex;align-items: stretch;justify-content: center;background-color: white;position: relative;}#sk-container-id-9 div.sk-item::before, #sk-container-id-9 div.sk-parallel-item::before {content: \"\";position: absolute;border-left: 1px solid gray;box-sizing: border-box;top: 0;bottom: 0;left: 50%;z-index: -1;}#sk-container-id-9 div.sk-parallel-item {display: flex;flex-direction: column;z-index: 1;position: relative;background-color: white;}#sk-container-id-9 div.sk-parallel-item:first-child::after {align-self: flex-end;width: 50%;}#sk-container-id-9 div.sk-parallel-item:last-child::after {align-self: flex-start;width: 50%;}#sk-container-id-9 div.sk-parallel-item:only-child::after {width: 0;}#sk-container-id-9 div.sk-dashed-wrapped {border: 1px dashed gray;margin: 0 0.4em 0.5em 0.4em;box-sizing: border-box;padding-bottom: 0.4em;background-color: white;}#sk-container-id-9 div.sk-label label {font-family: monospace;font-weight: bold;display: inline-block;line-height: 1.2em;}#sk-container-id-9 div.sk-label-container {text-align: center;}#sk-container-id-9 div.sk-container {/* jupyter's `normalize.less` sets `[hidden] { display: none; }` but bootstrap.min.css set `[hidden] { display: none !important; }` so we also need the `!important` here to be able to override the default hidden behavior on the sphinx rendered scikit-learn.org. See: https://github.com/scikit-learn/scikit-learn/issues/21755 */display: inline-block !important;position: relative;}#sk-container-id-9 div.sk-text-repr-fallback {display: none;}</style><div id=\"sk-container-id-9\" class=\"sk-top-container\"><div class=\"sk-text-repr-fallback\"><pre>RandomizedSearchCV(cv=StratifiedKFold(n_splits=3, random_state=1234, shuffle=True),\n",
       "                   estimator=Pipeline(steps=[(&#x27;preprocessing&#x27;,\n",
       "                                              ColumnTransformer(sparse_threshold=0,\n",
       "                                                                transformers=[(&#x27;num&#x27;,\n",
       "                                                                               Pipeline(steps=[(&#x27;imputer&#x27;,\n",
       "                                                                                                SimpleImputer(strategy=&#x27;median&#x27;))]),\n",
       "                                                                               [&#x27;account_length&#x27;,\n",
       "                                                                                &#x27;international_plan&#x27;,\n",
       "                                                                                &#x27;voice_mail_plan&#x27;,\n",
       "                                                                                &#x27;number_vmail_messages&#x27;,\n",
       "                                                                                &#x27;total_day_minutes&#x27;,\n",
       "                                                                                &#x27;tot...\n",
       "                   param_distributions={&#x27;model__learning_rate&#x27;: &lt;scipy.stats._distn_infrastructure.rv_continuous_frozen object at 0x00000252B0583280&gt;,\n",
       "                                        &#x27;model__max_iter&#x27;: &lt;scipy.stats._distn_infrastructure.rv_discrete_frozen object at 0x00000252B0167CA0&gt;,\n",
       "                                        &#x27;model__min_samples_leaf&#x27;: &lt;scipy.stats._distn_infrastructure.rv_discrete_frozen object at 0x00000252B0583EB0&gt;},\n",
       "                   random_state=1234, scoring=&#x27;balanced_accuracy&#x27;)</pre><b>In a Jupyter environment, please rerun this cell to show the HTML representation or trust the notebook. <br />On GitHub, the HTML representation is unable to render, please try loading this page with nbviewer.org.</b></div><div class=\"sk-container\" hidden><div class=\"sk-item sk-dashed-wrapped\"><div class=\"sk-label-container\"><div class=\"sk-label sk-toggleable\"><input class=\"sk-toggleable__control sk-hidden--visually\" id=\"sk-estimator-id-77\" type=\"checkbox\" ><label for=\"sk-estimator-id-77\" class=\"sk-toggleable__label sk-toggleable__label-arrow\">RandomizedSearchCV</label><div class=\"sk-toggleable__content\"><pre>RandomizedSearchCV(cv=StratifiedKFold(n_splits=3, random_state=1234, shuffle=True),\n",
       "                   estimator=Pipeline(steps=[(&#x27;preprocessing&#x27;,\n",
       "                                              ColumnTransformer(sparse_threshold=0,\n",
       "                                                                transformers=[(&#x27;num&#x27;,\n",
       "                                                                               Pipeline(steps=[(&#x27;imputer&#x27;,\n",
       "                                                                                                SimpleImputer(strategy=&#x27;median&#x27;))]),\n",
       "                                                                               [&#x27;account_length&#x27;,\n",
       "                                                                                &#x27;international_plan&#x27;,\n",
       "                                                                                &#x27;voice_mail_plan&#x27;,\n",
       "                                                                                &#x27;number_vmail_messages&#x27;,\n",
       "                                                                                &#x27;total_day_minutes&#x27;,\n",
       "                                                                                &#x27;tot...\n",
       "                   param_distributions={&#x27;model__learning_rate&#x27;: &lt;scipy.stats._distn_infrastructure.rv_continuous_frozen object at 0x00000252B0583280&gt;,\n",
       "                                        &#x27;model__max_iter&#x27;: &lt;scipy.stats._distn_infrastructure.rv_discrete_frozen object at 0x00000252B0167CA0&gt;,\n",
       "                                        &#x27;model__min_samples_leaf&#x27;: &lt;scipy.stats._distn_infrastructure.rv_discrete_frozen object at 0x00000252B0583EB0&gt;},\n",
       "                   random_state=1234, scoring=&#x27;balanced_accuracy&#x27;)</pre></div></div></div><div class=\"sk-parallel\"><div class=\"sk-parallel-item\"><div class=\"sk-item\"><div class=\"sk-label-container\"><div class=\"sk-label sk-toggleable\"><input class=\"sk-toggleable__control sk-hidden--visually\" id=\"sk-estimator-id-78\" type=\"checkbox\" ><label for=\"sk-estimator-id-78\" class=\"sk-toggleable__label sk-toggleable__label-arrow\">estimator: Pipeline</label><div class=\"sk-toggleable__content\"><pre>Pipeline(steps=[(&#x27;preprocessing&#x27;,\n",
       "                 ColumnTransformer(sparse_threshold=0,\n",
       "                                   transformers=[(&#x27;num&#x27;,\n",
       "                                                  Pipeline(steps=[(&#x27;imputer&#x27;,\n",
       "                                                                   SimpleImputer(strategy=&#x27;median&#x27;))]),\n",
       "                                                  [&#x27;account_length&#x27;,\n",
       "                                                   &#x27;international_plan&#x27;,\n",
       "                                                   &#x27;voice_mail_plan&#x27;,\n",
       "                                                   &#x27;number_vmail_messages&#x27;,\n",
       "                                                   &#x27;total_day_minutes&#x27;,\n",
       "                                                   &#x27;total_day_calls&#x27;,\n",
       "                                                   &#x27;total_day_charge&#x27;,\n",
       "                                                   &#x27;total_eve_minutes&#x27;,\n",
       "                                                   &#x27;total_eve_calls&#x27;,\n",
       "                                                   &#x27;total_eve_charge&#x27;,\n",
       "                                                   &#x27;...\n",
       "                                                                   SimpleImputer(strategy=&#x27;most_frequent&#x27;)),\n",
       "                                                                  (&#x27;encoder&#x27;,\n",
       "                                                                   OrdinalEncoder(dtype=&lt;class &#x27;int&#x27;&gt;,\n",
       "                                                                                  encoded_missing_value=99999,\n",
       "                                                                                  handle_unknown=&#x27;use_encoded_value&#x27;,\n",
       "                                                                                  unknown_value=99999))]),\n",
       "                                                  [&#x27;state&#x27;, &#x27;area_code&#x27;,\n",
       "                                                   &#x27;number_customer_service_calls&#x27;])])),\n",
       "                (&#x27;model&#x27;,\n",
       "                 HistGradientBoostingClassifier(class_weight=&#x27;balanced&#x27;,\n",
       "                                                early_stopping=False,\n",
       "                                                min_samples_leaf=30,\n",
       "                                                random_state=1234,\n",
       "                                                scoring=&#x27;balanced_accuracy&#x27;))])</pre></div></div></div><div class=\"sk-serial\"><div class=\"sk-item\"><div class=\"sk-serial\"><div class=\"sk-item sk-dashed-wrapped\"><div class=\"sk-label-container\"><div class=\"sk-label sk-toggleable\"><input class=\"sk-toggleable__control sk-hidden--visually\" id=\"sk-estimator-id-79\" type=\"checkbox\" ><label for=\"sk-estimator-id-79\" class=\"sk-toggleable__label sk-toggleable__label-arrow\">preprocessing: ColumnTransformer</label><div class=\"sk-toggleable__content\"><pre>ColumnTransformer(sparse_threshold=0,\n",
       "                  transformers=[(&#x27;num&#x27;,\n",
       "                                 Pipeline(steps=[(&#x27;imputer&#x27;,\n",
       "                                                  SimpleImputer(strategy=&#x27;median&#x27;))]),\n",
       "                                 [&#x27;account_length&#x27;, &#x27;international_plan&#x27;,\n",
       "                                  &#x27;voice_mail_plan&#x27;, &#x27;number_vmail_messages&#x27;,\n",
       "                                  &#x27;total_day_minutes&#x27;, &#x27;total_day_calls&#x27;,\n",
       "                                  &#x27;total_day_charge&#x27;, &#x27;total_eve_minutes&#x27;,\n",
       "                                  &#x27;total_eve_calls&#x27;, &#x27;total_eve_charge&#x27;,\n",
       "                                  &#x27;total_night_minutes&#x27;, &#x27;total_night...\n",
       "                                  &#x27;total_night_charge&#x27;, &#x27;total_intl_minutes&#x27;,\n",
       "                                  &#x27;total_intl_calls&#x27;, &#x27;total_intl_charge&#x27;]),\n",
       "                                (&#x27;ordinal_encoder&#x27;,\n",
       "                                 Pipeline(steps=[(&#x27;imputer&#x27;,\n",
       "                                                  SimpleImputer(strategy=&#x27;most_frequent&#x27;)),\n",
       "                                                 (&#x27;encoder&#x27;,\n",
       "                                                  OrdinalEncoder(dtype=&lt;class &#x27;int&#x27;&gt;,\n",
       "                                                                 encoded_missing_value=99999,\n",
       "                                                                 handle_unknown=&#x27;use_encoded_value&#x27;,\n",
       "                                                                 unknown_value=99999))]),\n",
       "                                 [&#x27;state&#x27;, &#x27;area_code&#x27;,\n",
       "                                  &#x27;number_customer_service_calls&#x27;])])</pre></div></div></div><div class=\"sk-parallel\"><div class=\"sk-parallel-item\"><div class=\"sk-item\"><div class=\"sk-label-container\"><div class=\"sk-label sk-toggleable\"><input class=\"sk-toggleable__control sk-hidden--visually\" id=\"sk-estimator-id-80\" type=\"checkbox\" ><label for=\"sk-estimator-id-80\" class=\"sk-toggleable__label sk-toggleable__label-arrow\">num</label><div class=\"sk-toggleable__content\"><pre>[&#x27;account_length&#x27;, &#x27;international_plan&#x27;, &#x27;voice_mail_plan&#x27;, &#x27;number_vmail_messages&#x27;, &#x27;total_day_minutes&#x27;, &#x27;total_day_calls&#x27;, &#x27;total_day_charge&#x27;, &#x27;total_eve_minutes&#x27;, &#x27;total_eve_calls&#x27;, &#x27;total_eve_charge&#x27;, &#x27;total_night_minutes&#x27;, &#x27;total_night_calls&#x27;, &#x27;total_night_charge&#x27;, &#x27;total_intl_minutes&#x27;, &#x27;total_intl_calls&#x27;, &#x27;total_intl_charge&#x27;]</pre></div></div></div><div class=\"sk-serial\"><div class=\"sk-item\"><div class=\"sk-serial\"><div class=\"sk-item\"><div class=\"sk-estimator sk-toggleable\"><input class=\"sk-toggleable__control sk-hidden--visually\" id=\"sk-estimator-id-81\" type=\"checkbox\" ><label for=\"sk-estimator-id-81\" class=\"sk-toggleable__label sk-toggleable__label-arrow\">SimpleImputer</label><div class=\"sk-toggleable__content\"><pre>SimpleImputer(strategy=&#x27;median&#x27;)</pre></div></div></div></div></div></div></div></div><div class=\"sk-parallel-item\"><div class=\"sk-item\"><div class=\"sk-label-container\"><div class=\"sk-label sk-toggleable\"><input class=\"sk-toggleable__control sk-hidden--visually\" id=\"sk-estimator-id-82\" type=\"checkbox\" ><label for=\"sk-estimator-id-82\" class=\"sk-toggleable__label sk-toggleable__label-arrow\">ordinal_encoder</label><div class=\"sk-toggleable__content\"><pre>[&#x27;state&#x27;, &#x27;area_code&#x27;, &#x27;number_customer_service_calls&#x27;]</pre></div></div></div><div class=\"sk-serial\"><div class=\"sk-item\"><div class=\"sk-serial\"><div class=\"sk-item\"><div class=\"sk-estimator sk-toggleable\"><input class=\"sk-toggleable__control sk-hidden--visually\" id=\"sk-estimator-id-83\" type=\"checkbox\" ><label for=\"sk-estimator-id-83\" class=\"sk-toggleable__label sk-toggleable__label-arrow\">SimpleImputer</label><div class=\"sk-toggleable__content\"><pre>SimpleImputer(strategy=&#x27;most_frequent&#x27;)</pre></div></div></div><div class=\"sk-item\"><div class=\"sk-estimator sk-toggleable\"><input class=\"sk-toggleable__control sk-hidden--visually\" id=\"sk-estimator-id-84\" type=\"checkbox\" ><label for=\"sk-estimator-id-84\" class=\"sk-toggleable__label sk-toggleable__label-arrow\">OrdinalEncoder</label><div class=\"sk-toggleable__content\"><pre>OrdinalEncoder(dtype=&lt;class &#x27;int&#x27;&gt;, encoded_missing_value=99999,\n",
       "               handle_unknown=&#x27;use_encoded_value&#x27;, unknown_value=99999)</pre></div></div></div></div></div></div></div></div></div></div><div class=\"sk-item\"><div class=\"sk-estimator sk-toggleable\"><input class=\"sk-toggleable__control sk-hidden--visually\" id=\"sk-estimator-id-85\" type=\"checkbox\" ><label for=\"sk-estimator-id-85\" class=\"sk-toggleable__label sk-toggleable__label-arrow\">HistGradientBoostingClassifier</label><div class=\"sk-toggleable__content\"><pre>HistGradientBoostingClassifier(class_weight=&#x27;balanced&#x27;, early_stopping=False,\n",
       "                               min_samples_leaf=30, random_state=1234,\n",
       "                               scoring=&#x27;balanced_accuracy&#x27;)</pre></div></div></div></div></div></div></div></div></div></div></div></div>"
      ],
      "text/plain": [
       "RandomizedSearchCV(cv=StratifiedKFold(n_splits=3, random_state=1234, shuffle=True),\n",
       "                   estimator=Pipeline(steps=[('preprocessing',\n",
       "                                              ColumnTransformer(sparse_threshold=0,\n",
       "                                                                transformers=[('num',\n",
       "                                                                               Pipeline(steps=[('imputer',\n",
       "                                                                                                SimpleImputer(strategy='median'))]),\n",
       "                                                                               ['account_length',\n",
       "                                                                                'international_plan',\n",
       "                                                                                'voice_mail_plan',\n",
       "                                                                                'number_vmail_messages',\n",
       "                                                                                'total_day_minutes',\n",
       "                                                                                'tot...\n",
       "                   param_distributions={'model__learning_rate': <scipy.stats._distn_infrastructure.rv_continuous_frozen object at 0x00000252B0583280>,\n",
       "                                        'model__max_iter': <scipy.stats._distn_infrastructure.rv_discrete_frozen object at 0x00000252B0167CA0>,\n",
       "                                        'model__min_samples_leaf': <scipy.stats._distn_infrastructure.rv_discrete_frozen object at 0x00000252B0583EB0>},\n",
       "                   random_state=1234, scoring='balanced_accuracy')"
      ]
     },
     "execution_count": 65,
     "metadata": {},
     "output_type": "execute_result"
    }
   ],
   "source": [
    "# Display pipeline\n",
    "print(\"Time taken: \", ordinal_hgb_tune_time_taken)\n",
    "ordinal_hgb_tune"
   ]
  },
  {
   "cell_type": "code",
   "execution_count": 66,
   "metadata": {},
   "outputs": [],
   "source": [
    "tic = time.time()\n",
    "\n",
    "ordinal_hgb_tune9 = ordinal_hgb_tune9.fit(X_train, y_train)\n",
    "\n",
    "toc = time.time()\n",
    "ordinal_hgb_tune9_time_taken = toc-tic"
   ]
  },
  {
   "cell_type": "code",
   "execution_count": 67,
   "metadata": {},
   "outputs": [
    {
     "name": "stdout",
     "output_type": "stream",
     "text": [
      "Time taken:  20.529820442199707\n"
     ]
    },
    {
     "data": {
      "text/html": [
       "<style>#sk-container-id-10 {color: black;}#sk-container-id-10 pre{padding: 0;}#sk-container-id-10 div.sk-toggleable {background-color: white;}#sk-container-id-10 label.sk-toggleable__label {cursor: pointer;display: block;width: 100%;margin-bottom: 0;padding: 0.3em;box-sizing: border-box;text-align: center;}#sk-container-id-10 label.sk-toggleable__label-arrow:before {content: \"▸\";float: left;margin-right: 0.25em;color: #696969;}#sk-container-id-10 label.sk-toggleable__label-arrow:hover:before {color: black;}#sk-container-id-10 div.sk-estimator:hover label.sk-toggleable__label-arrow:before {color: black;}#sk-container-id-10 div.sk-toggleable__content {max-height: 0;max-width: 0;overflow: hidden;text-align: left;background-color: #f0f8ff;}#sk-container-id-10 div.sk-toggleable__content pre {margin: 0.2em;color: black;border-radius: 0.25em;background-color: #f0f8ff;}#sk-container-id-10 input.sk-toggleable__control:checked~div.sk-toggleable__content {max-height: 200px;max-width: 100%;overflow: auto;}#sk-container-id-10 input.sk-toggleable__control:checked~label.sk-toggleable__label-arrow:before {content: \"▾\";}#sk-container-id-10 div.sk-estimator input.sk-toggleable__control:checked~label.sk-toggleable__label {background-color: #d4ebff;}#sk-container-id-10 div.sk-label input.sk-toggleable__control:checked~label.sk-toggleable__label {background-color: #d4ebff;}#sk-container-id-10 input.sk-hidden--visually {border: 0;clip: rect(1px 1px 1px 1px);clip: rect(1px, 1px, 1px, 1px);height: 1px;margin: -1px;overflow: hidden;padding: 0;position: absolute;width: 1px;}#sk-container-id-10 div.sk-estimator {font-family: monospace;background-color: #f0f8ff;border: 1px dotted black;border-radius: 0.25em;box-sizing: border-box;margin-bottom: 0.5em;}#sk-container-id-10 div.sk-estimator:hover {background-color: #d4ebff;}#sk-container-id-10 div.sk-parallel-item::after {content: \"\";width: 100%;border-bottom: 1px solid gray;flex-grow: 1;}#sk-container-id-10 div.sk-label:hover label.sk-toggleable__label {background-color: #d4ebff;}#sk-container-id-10 div.sk-serial::before {content: \"\";position: absolute;border-left: 1px solid gray;box-sizing: border-box;top: 0;bottom: 0;left: 50%;z-index: 0;}#sk-container-id-10 div.sk-serial {display: flex;flex-direction: column;align-items: center;background-color: white;padding-right: 0.2em;padding-left: 0.2em;position: relative;}#sk-container-id-10 div.sk-item {position: relative;z-index: 1;}#sk-container-id-10 div.sk-parallel {display: flex;align-items: stretch;justify-content: center;background-color: white;position: relative;}#sk-container-id-10 div.sk-item::before, #sk-container-id-10 div.sk-parallel-item::before {content: \"\";position: absolute;border-left: 1px solid gray;box-sizing: border-box;top: 0;bottom: 0;left: 50%;z-index: -1;}#sk-container-id-10 div.sk-parallel-item {display: flex;flex-direction: column;z-index: 1;position: relative;background-color: white;}#sk-container-id-10 div.sk-parallel-item:first-child::after {align-self: flex-end;width: 50%;}#sk-container-id-10 div.sk-parallel-item:last-child::after {align-self: flex-start;width: 50%;}#sk-container-id-10 div.sk-parallel-item:only-child::after {width: 0;}#sk-container-id-10 div.sk-dashed-wrapped {border: 1px dashed gray;margin: 0 0.4em 0.5em 0.4em;box-sizing: border-box;padding-bottom: 0.4em;background-color: white;}#sk-container-id-10 div.sk-label label {font-family: monospace;font-weight: bold;display: inline-block;line-height: 1.2em;}#sk-container-id-10 div.sk-label-container {text-align: center;}#sk-container-id-10 div.sk-container {/* jupyter's `normalize.less` sets `[hidden] { display: none; }` but bootstrap.min.css set `[hidden] { display: none !important; }` so we also need the `!important` here to be able to override the default hidden behavior on the sphinx rendered scikit-learn.org. See: https://github.com/scikit-learn/scikit-learn/issues/21755 */display: inline-block !important;position: relative;}#sk-container-id-10 div.sk-text-repr-fallback {display: none;}</style><div id=\"sk-container-id-10\" class=\"sk-top-container\"><div class=\"sk-text-repr-fallback\"><pre>RandomizedSearchCV(cv=StratifiedKFold(n_splits=3, random_state=1234, shuffle=True),\n",
       "                   estimator=Pipeline(steps=[(&#x27;preprocessing&#x27;,\n",
       "                                              ColumnTransformer(sparse_threshold=0,\n",
       "                                                                transformers=[(&#x27;num&#x27;,\n",
       "                                                                               Pipeline(steps=[(&#x27;imputer&#x27;,\n",
       "                                                                                                SimpleImputer(strategy=&#x27;median&#x27;))]),\n",
       "                                                                               [&#x27;account_length&#x27;,\n",
       "                                                                                &#x27;international_plan&#x27;,\n",
       "                                                                                &#x27;voice_mail_plan&#x27;,\n",
       "                                                                                &#x27;number_vmail_messages&#x27;,\n",
       "                                                                                &#x27;total_day_minutes&#x27;,\n",
       "                                                                                &#x27;tot...\n",
       "                   param_distributions={&#x27;model__learning_rate&#x27;: &lt;scipy.stats._distn_infrastructure.rv_continuous_frozen object at 0x00000252B0583280&gt;,\n",
       "                                        &#x27;model__max_iter&#x27;: &lt;scipy.stats._distn_infrastructure.rv_discrete_frozen object at 0x00000252B0167CA0&gt;,\n",
       "                                        &#x27;model__min_samples_leaf&#x27;: &lt;scipy.stats._distn_infrastructure.rv_discrete_frozen object at 0x00000252B0583EB0&gt;},\n",
       "                   random_state=1234, scoring=&#x27;balanced_accuracy&#x27;)</pre><b>In a Jupyter environment, please rerun this cell to show the HTML representation or trust the notebook. <br />On GitHub, the HTML representation is unable to render, please try loading this page with nbviewer.org.</b></div><div class=\"sk-container\" hidden><div class=\"sk-item sk-dashed-wrapped\"><div class=\"sk-label-container\"><div class=\"sk-label sk-toggleable\"><input class=\"sk-toggleable__control sk-hidden--visually\" id=\"sk-estimator-id-86\" type=\"checkbox\" ><label for=\"sk-estimator-id-86\" class=\"sk-toggleable__label sk-toggleable__label-arrow\">RandomizedSearchCV</label><div class=\"sk-toggleable__content\"><pre>RandomizedSearchCV(cv=StratifiedKFold(n_splits=3, random_state=1234, shuffle=True),\n",
       "                   estimator=Pipeline(steps=[(&#x27;preprocessing&#x27;,\n",
       "                                              ColumnTransformer(sparse_threshold=0,\n",
       "                                                                transformers=[(&#x27;num&#x27;,\n",
       "                                                                               Pipeline(steps=[(&#x27;imputer&#x27;,\n",
       "                                                                                                SimpleImputer(strategy=&#x27;median&#x27;))]),\n",
       "                                                                               [&#x27;account_length&#x27;,\n",
       "                                                                                &#x27;international_plan&#x27;,\n",
       "                                                                                &#x27;voice_mail_plan&#x27;,\n",
       "                                                                                &#x27;number_vmail_messages&#x27;,\n",
       "                                                                                &#x27;total_day_minutes&#x27;,\n",
       "                                                                                &#x27;tot...\n",
       "                   param_distributions={&#x27;model__learning_rate&#x27;: &lt;scipy.stats._distn_infrastructure.rv_continuous_frozen object at 0x00000252B0583280&gt;,\n",
       "                                        &#x27;model__max_iter&#x27;: &lt;scipy.stats._distn_infrastructure.rv_discrete_frozen object at 0x00000252B0167CA0&gt;,\n",
       "                                        &#x27;model__min_samples_leaf&#x27;: &lt;scipy.stats._distn_infrastructure.rv_discrete_frozen object at 0x00000252B0583EB0&gt;},\n",
       "                   random_state=1234, scoring=&#x27;balanced_accuracy&#x27;)</pre></div></div></div><div class=\"sk-parallel\"><div class=\"sk-parallel-item\"><div class=\"sk-item\"><div class=\"sk-label-container\"><div class=\"sk-label sk-toggleable\"><input class=\"sk-toggleable__control sk-hidden--visually\" id=\"sk-estimator-id-87\" type=\"checkbox\" ><label for=\"sk-estimator-id-87\" class=\"sk-toggleable__label sk-toggleable__label-arrow\">estimator: Pipeline</label><div class=\"sk-toggleable__content\"><pre>Pipeline(steps=[(&#x27;preprocessing&#x27;,\n",
       "                 ColumnTransformer(sparse_threshold=0,\n",
       "                                   transformers=[(&#x27;num&#x27;,\n",
       "                                                  Pipeline(steps=[(&#x27;imputer&#x27;,\n",
       "                                                                   SimpleImputer(strategy=&#x27;median&#x27;))]),\n",
       "                                                  [&#x27;account_length&#x27;,\n",
       "                                                   &#x27;international_plan&#x27;,\n",
       "                                                   &#x27;voice_mail_plan&#x27;,\n",
       "                                                   &#x27;number_vmail_messages&#x27;,\n",
       "                                                   &#x27;total_day_minutes&#x27;,\n",
       "                                                   &#x27;total_day_calls&#x27;,\n",
       "                                                   &#x27;total_day_charge&#x27;,\n",
       "                                                   &#x27;total_eve_minutes&#x27;,\n",
       "                                                   &#x27;total_eve_calls&#x27;,\n",
       "                                                   &#x27;total_eve_charge&#x27;,\n",
       "                                                   &#x27;...\n",
       "                                                                   SimpleImputer(strategy=&#x27;most_frequent&#x27;)),\n",
       "                                                                  (&#x27;encoder&#x27;,\n",
       "                                                                   OrdinalEncoder(dtype=&lt;class &#x27;int&#x27;&gt;,\n",
       "                                                                                  encoded_missing_value=99999,\n",
       "                                                                                  handle_unknown=&#x27;use_encoded_value&#x27;,\n",
       "                                                                                  unknown_value=99999))]),\n",
       "                                                  [&#x27;state&#x27;,\n",
       "                                                   &#x27;number_customer_service_calls&#x27;])])),\n",
       "                (&#x27;model&#x27;,\n",
       "                 HistGradientBoostingClassifier(class_weight=&#x27;balanced&#x27;,\n",
       "                                                early_stopping=False,\n",
       "                                                min_samples_leaf=30,\n",
       "                                                random_state=1234,\n",
       "                                                scoring=&#x27;balanced_accuracy&#x27;))])</pre></div></div></div><div class=\"sk-serial\"><div class=\"sk-item\"><div class=\"sk-serial\"><div class=\"sk-item sk-dashed-wrapped\"><div class=\"sk-label-container\"><div class=\"sk-label sk-toggleable\"><input class=\"sk-toggleable__control sk-hidden--visually\" id=\"sk-estimator-id-88\" type=\"checkbox\" ><label for=\"sk-estimator-id-88\" class=\"sk-toggleable__label sk-toggleable__label-arrow\">preprocessing: ColumnTransformer</label><div class=\"sk-toggleable__content\"><pre>ColumnTransformer(sparse_threshold=0,\n",
       "                  transformers=[(&#x27;num&#x27;,\n",
       "                                 Pipeline(steps=[(&#x27;imputer&#x27;,\n",
       "                                                  SimpleImputer(strategy=&#x27;median&#x27;))]),\n",
       "                                 [&#x27;account_length&#x27;, &#x27;international_plan&#x27;,\n",
       "                                  &#x27;voice_mail_plan&#x27;, &#x27;number_vmail_messages&#x27;,\n",
       "                                  &#x27;total_day_minutes&#x27;, &#x27;total_day_calls&#x27;,\n",
       "                                  &#x27;total_day_charge&#x27;, &#x27;total_eve_minutes&#x27;,\n",
       "                                  &#x27;total_eve_calls&#x27;, &#x27;total_eve_charge&#x27;,\n",
       "                                  &#x27;total_night_minutes&#x27;, &#x27;total_night...\n",
       "                                                  SimpleImputer(strategy=&#x27;most_frequent&#x27;)),\n",
       "                                                 (&#x27;encoder&#x27;,\n",
       "                                                  OneHotEncoder(drop=&#x27;first&#x27;,\n",
       "                                                                handle_unknown=&#x27;ignore&#x27;))]),\n",
       "                                 [&#x27;area_code&#x27;]),\n",
       "                                (&#x27;ordinalencoder&#x27;,\n",
       "                                 Pipeline(steps=[(&#x27;imputer&#x27;,\n",
       "                                                  SimpleImputer(strategy=&#x27;most_frequent&#x27;)),\n",
       "                                                 (&#x27;encoder&#x27;,\n",
       "                                                  OrdinalEncoder(dtype=&lt;class &#x27;int&#x27;&gt;,\n",
       "                                                                 encoded_missing_value=99999,\n",
       "                                                                 handle_unknown=&#x27;use_encoded_value&#x27;,\n",
       "                                                                 unknown_value=99999))]),\n",
       "                                 [&#x27;state&#x27;, &#x27;number_customer_service_calls&#x27;])])</pre></div></div></div><div class=\"sk-parallel\"><div class=\"sk-parallel-item\"><div class=\"sk-item\"><div class=\"sk-label-container\"><div class=\"sk-label sk-toggleable\"><input class=\"sk-toggleable__control sk-hidden--visually\" id=\"sk-estimator-id-89\" type=\"checkbox\" ><label for=\"sk-estimator-id-89\" class=\"sk-toggleable__label sk-toggleable__label-arrow\">num</label><div class=\"sk-toggleable__content\"><pre>[&#x27;account_length&#x27;, &#x27;international_plan&#x27;, &#x27;voice_mail_plan&#x27;, &#x27;number_vmail_messages&#x27;, &#x27;total_day_minutes&#x27;, &#x27;total_day_calls&#x27;, &#x27;total_day_charge&#x27;, &#x27;total_eve_minutes&#x27;, &#x27;total_eve_calls&#x27;, &#x27;total_eve_charge&#x27;, &#x27;total_night_minutes&#x27;, &#x27;total_night_calls&#x27;, &#x27;total_night_charge&#x27;, &#x27;total_intl_minutes&#x27;, &#x27;total_intl_calls&#x27;, &#x27;total_intl_charge&#x27;]</pre></div></div></div><div class=\"sk-serial\"><div class=\"sk-item\"><div class=\"sk-serial\"><div class=\"sk-item\"><div class=\"sk-estimator sk-toggleable\"><input class=\"sk-toggleable__control sk-hidden--visually\" id=\"sk-estimator-id-90\" type=\"checkbox\" ><label for=\"sk-estimator-id-90\" class=\"sk-toggleable__label sk-toggleable__label-arrow\">SimpleImputer</label><div class=\"sk-toggleable__content\"><pre>SimpleImputer(strategy=&#x27;median&#x27;)</pre></div></div></div></div></div></div></div></div><div class=\"sk-parallel-item\"><div class=\"sk-item\"><div class=\"sk-label-container\"><div class=\"sk-label sk-toggleable\"><input class=\"sk-toggleable__control sk-hidden--visually\" id=\"sk-estimator-id-91\" type=\"checkbox\" ><label for=\"sk-estimator-id-91\" class=\"sk-toggleable__label sk-toggleable__label-arrow\">one_hot_encoding</label><div class=\"sk-toggleable__content\"><pre>[&#x27;area_code&#x27;]</pre></div></div></div><div class=\"sk-serial\"><div class=\"sk-item\"><div class=\"sk-serial\"><div class=\"sk-item\"><div class=\"sk-estimator sk-toggleable\"><input class=\"sk-toggleable__control sk-hidden--visually\" id=\"sk-estimator-id-92\" type=\"checkbox\" ><label for=\"sk-estimator-id-92\" class=\"sk-toggleable__label sk-toggleable__label-arrow\">SimpleImputer</label><div class=\"sk-toggleable__content\"><pre>SimpleImputer(strategy=&#x27;most_frequent&#x27;)</pre></div></div></div><div class=\"sk-item\"><div class=\"sk-estimator sk-toggleable\"><input class=\"sk-toggleable__control sk-hidden--visually\" id=\"sk-estimator-id-93\" type=\"checkbox\" ><label for=\"sk-estimator-id-93\" class=\"sk-toggleable__label sk-toggleable__label-arrow\">OneHotEncoder</label><div class=\"sk-toggleable__content\"><pre>OneHotEncoder(drop=&#x27;first&#x27;, handle_unknown=&#x27;ignore&#x27;)</pre></div></div></div></div></div></div></div></div><div class=\"sk-parallel-item\"><div class=\"sk-item\"><div class=\"sk-label-container\"><div class=\"sk-label sk-toggleable\"><input class=\"sk-toggleable__control sk-hidden--visually\" id=\"sk-estimator-id-94\" type=\"checkbox\" ><label for=\"sk-estimator-id-94\" class=\"sk-toggleable__label sk-toggleable__label-arrow\">ordinalencoder</label><div class=\"sk-toggleable__content\"><pre>[&#x27;state&#x27;, &#x27;number_customer_service_calls&#x27;]</pre></div></div></div><div class=\"sk-serial\"><div class=\"sk-item\"><div class=\"sk-serial\"><div class=\"sk-item\"><div class=\"sk-estimator sk-toggleable\"><input class=\"sk-toggleable__control sk-hidden--visually\" id=\"sk-estimator-id-95\" type=\"checkbox\" ><label for=\"sk-estimator-id-95\" class=\"sk-toggleable__label sk-toggleable__label-arrow\">SimpleImputer</label><div class=\"sk-toggleable__content\"><pre>SimpleImputer(strategy=&#x27;most_frequent&#x27;)</pre></div></div></div><div class=\"sk-item\"><div class=\"sk-estimator sk-toggleable\"><input class=\"sk-toggleable__control sk-hidden--visually\" id=\"sk-estimator-id-96\" type=\"checkbox\" ><label for=\"sk-estimator-id-96\" class=\"sk-toggleable__label sk-toggleable__label-arrow\">OrdinalEncoder</label><div class=\"sk-toggleable__content\"><pre>OrdinalEncoder(dtype=&lt;class &#x27;int&#x27;&gt;, encoded_missing_value=99999,\n",
       "               handle_unknown=&#x27;use_encoded_value&#x27;, unknown_value=99999)</pre></div></div></div></div></div></div></div></div></div></div><div class=\"sk-item\"><div class=\"sk-estimator sk-toggleable\"><input class=\"sk-toggleable__control sk-hidden--visually\" id=\"sk-estimator-id-97\" type=\"checkbox\" ><label for=\"sk-estimator-id-97\" class=\"sk-toggleable__label sk-toggleable__label-arrow\">HistGradientBoostingClassifier</label><div class=\"sk-toggleable__content\"><pre>HistGradientBoostingClassifier(class_weight=&#x27;balanced&#x27;, early_stopping=False,\n",
       "                               min_samples_leaf=30, random_state=1234,\n",
       "                               scoring=&#x27;balanced_accuracy&#x27;)</pre></div></div></div></div></div></div></div></div></div></div></div></div>"
      ],
      "text/plain": [
       "RandomizedSearchCV(cv=StratifiedKFold(n_splits=3, random_state=1234, shuffle=True),\n",
       "                   estimator=Pipeline(steps=[('preprocessing',\n",
       "                                              ColumnTransformer(sparse_threshold=0,\n",
       "                                                                transformers=[('num',\n",
       "                                                                               Pipeline(steps=[('imputer',\n",
       "                                                                                                SimpleImputer(strategy='median'))]),\n",
       "                                                                               ['account_length',\n",
       "                                                                                'international_plan',\n",
       "                                                                                'voice_mail_plan',\n",
       "                                                                                'number_vmail_messages',\n",
       "                                                                                'total_day_minutes',\n",
       "                                                                                'tot...\n",
       "                   param_distributions={'model__learning_rate': <scipy.stats._distn_infrastructure.rv_continuous_frozen object at 0x00000252B0583280>,\n",
       "                                        'model__max_iter': <scipy.stats._distn_infrastructure.rv_discrete_frozen object at 0x00000252B0167CA0>,\n",
       "                                        'model__min_samples_leaf': <scipy.stats._distn_infrastructure.rv_discrete_frozen object at 0x00000252B0583EB0>},\n",
       "                   random_state=1234, scoring='balanced_accuracy')"
      ]
     },
     "execution_count": 67,
     "metadata": {},
     "output_type": "execute_result"
    }
   ],
   "source": [
    "# Display pipeline\n",
    "print(\"Time taken: \", ordinal_hgb_tune9_time_taken)\n",
    "ordinal_hgb_tune9"
   ]
  },
  {
   "cell_type": "code",
   "execution_count": 68,
   "metadata": {},
   "outputs": [
    {
     "name": "stdout",
     "output_type": "stream",
     "text": [
      "Best parameters: {'model__learning_rate': 0.03505810211332009, 'model__max_iter': 113, 'model__min_samples_leaf': 33}\n",
      "Balanced accuracy with best parameters: 0.9168920617516909\n"
     ]
    }
   ],
   "source": [
    "# Predict using the model with the best parameters\n",
    "y_ordinal_hgb_tune_pred = ordinal_hgb_tune.predict(X_test)\n",
    "\n",
    "# Get the best parameters\n",
    "ordinal_hgb_tune_best_params = ordinal_hgb_tune.best_params_\n",
    "print(f'Best parameters: {ordinal_hgb_tune_best_params}')\n",
    "\n",
    "# Calculate balanced accuracy for the model with the best parameters\n",
    "ordinal_hgb_tune_accuracy = balanced_accuracy_score(y_test, y_ordinal_hgb_tune_pred)\n",
    "print(f'Balanced accuracy with best parameters: {ordinal_hgb_tune_accuracy}')\n",
    "\n",
    "# Save results\n",
    "default_summary.append(\"Tune\")\n",
    "card_9_summary.append(\"AllVariables\")\n",
    "encoder_summary.append(\"OrdinalEncoder\")\n",
    "value_summary.append(ordinal_hgb_tune_accuracy)\n",
    "time_summary.append(ordinal_hgb_tune_time_taken)\n",
    "n_models_summary.append(ordinal_hgb_tune.n_iter)"
   ]
  },
  {
   "cell_type": "code",
   "execution_count": 69,
   "metadata": {},
   "outputs": [
    {
     "name": "stdout",
     "output_type": "stream",
     "text": [
      "Best parameters: {'model__learning_rate': 0.165443649776894, 'model__max_iter': 40, 'model__min_samples_leaf': 24}\n",
      "Balanced accuracy with best parameters: 0.9032532612876748\n"
     ]
    }
   ],
   "source": [
    "# Predict using the model with the best parameters\n",
    "y_ordinal_hgb_tune_pred9 = ordinal_hgb_tune9.predict(X_test)\n",
    "\n",
    "# Get the best parameters\n",
    "ordinal_hgb_tune_best_params9 = ordinal_hgb_tune9.best_params_\n",
    "print(f'Best parameters: {ordinal_hgb_tune_best_params9}')\n",
    "\n",
    "# Calculate balanced accuracy for the model with the best parameters\n",
    "ordinal_hgb_tune_accuracy9 = balanced_accuracy_score(y_test, y_ordinal_hgb_tune_pred9)\n",
    "print(f'Balanced accuracy with best parameters: {ordinal_hgb_tune_accuracy9}')\n",
    "\n",
    "# Save results\n",
    "default_summary.append(\"Tune\")\n",
    "card_9_summary.append(\"OnlyVariablesWithCard>9\")\n",
    "encoder_summary.append(\"OrdinalEncoder\")\n",
    "value_summary.append(ordinal_hgb_tune_accuracy9)\n",
    "time_summary.append(ordinal_hgb_tune9_time_taken)\n",
    "n_models_summary.append(ordinal_hgb_tune9.n_iter)"
   ]
  },
  {
   "cell_type": "markdown",
   "id": "985ecffa",
   "metadata": {},
   "source": [
    "### Native HistGradientBoosting support for categorical variables\n"
   ]
  },
  {
   "cell_type": "code",
   "execution_count": 70,
   "id": "cb532976",
   "metadata": {},
   "outputs": [],
   "source": [
    "from sklearn.preprocessing import OrdinalEncoder"
   ]
  },
  {
   "cell_type": "markdown",
   "id": "681d104a",
   "metadata": {},
   "source": [
    "#### Preprocessing"
   ]
  },
  {
   "cell_type": "code",
   "execution_count": 71,
   "id": "85d2a6c2",
   "metadata": {},
   "outputs": [],
   "source": [
    "cat_pipeline_more9 = Pipeline([\n",
    "    (\"imputer\", SimpleImputer(strategy = \"most_frequent\")),\n",
    "    (\"encoder\", OrdinalEncoder(dtype = int,\n",
    "                               handle_unknown = 'use_encoded_value',\n",
    "                               unknown_value = 99999,\n",
    "                               encoded_missing_value = 99999,\n",
    "                               max_categories = 254))\n",
    "])\n",
    "\n",
    "cat_pipeline_less9 = Pipeline([\n",
    "    (\"imputer\", SimpleImputer(strategy = \"most_frequent\")),\n",
    "    (\"encoder\", OneHotEncoder(drop = \"first\", handle_unknown = \"ignore\"))\n",
    "])\n",
    "\n",
    "preprop_pipeline = ColumnTransformer(\n",
    "    transformers = [(\"num\", num_pipeline, num_cols),\n",
    "                    (\"cat\", cat_pipeline_more9, cat_cols)],\n",
    "    sparse_threshold=0\n",
    ")\n",
    "\n",
    "preprop_pipeline9 = ColumnTransformer(\n",
    "    transformers = [(\"num\", num_pipeline, num_cols),\n",
    "                    (\"one_hot_encoding\", cat_pipeline_less9, cat_cols_less9),\n",
    "                    (\"ordinal_encoding\", cat_pipeline_more9, cat_cols_more9)\n",
    "                    ],\n",
    "    sparse_threshold=0\n",
    ")"
   ]
  },
  {
   "cell_type": "code",
   "execution_count": 72,
   "id": "5ceb32ac",
   "metadata": {},
   "outputs": [],
   "source": [
    "category_features_for_nativesupport = [False]*len(num_cols) + [True]*len(cat_cols)\n",
    "\n",
    "X_train_check = preprop_pipeline9.fit_transform(X_train)\n",
    "category_features_for_nativesupport_9 = [False]*(X_train_check.shape[1]-len(cat_cols_more9)) + [True]*len(cat_cols_more9)"
   ]
  },
  {
   "cell_type": "code",
   "execution_count": 73,
   "id": "38f342b1",
   "metadata": {},
   "outputs": [],
   "source": [
    "hgb_default_categories_support = HistGradientBoostingClassifier(random_state=1234,\n",
    "                                                                early_stopping=False,\n",
    "                                                                min_samples_leaf=30,\n",
    "                                                                scoring='balanced_accuracy',\n",
    "                                                                class_weight='balanced',\n",
    "                                                                categorical_features=category_features_for_nativesupport)\n",
    "\n",
    "hgb_default_categories_support9 = HistGradientBoostingClassifier(random_state=1234,\n",
    "                                                                 early_stopping=False,\n",
    "                                                                 min_samples_leaf=30,\n",
    "                                                                 scoring='balanced_accuracy',\n",
    "                                                                 class_weight='balanced',\n",
    "                                                                 categorical_features=category_features_for_nativesupport_9)"
   ]
  },
  {
   "cell_type": "markdown",
   "id": "02fcc97d",
   "metadata": {},
   "source": [
    "#### Create a HistGradientBoostingClassifier model with default parameters and early stopping"
   ]
  },
  {
   "cell_type": "code",
   "execution_count": 74,
   "id": "6c468e79",
   "metadata": {},
   "outputs": [],
   "source": [
    "catsup_hgb_default_pipeline = Pipeline([('preprocessing', preprop_pipeline),\n",
    "                                        ('model', hgb_default_categories_support)])\n",
    "\n",
    "catsup_hgb_default_pipeline9 = Pipeline([('preprocessing', preprop_pipeline9),\n",
    "                                        ('model', hgb_default_categories_support9)])"
   ]
  },
  {
   "cell_type": "code",
   "execution_count": 75,
   "id": "5a99084d",
   "metadata": {},
   "outputs": [],
   "source": [
    "tic = time.time()\n",
    "\n",
    "catsup_hgb_default = catsup_hgb_default_pipeline.fit(X_train, y_train)\n",
    "\n",
    "toc = time.time()\n",
    "catsup_hgb_default_time_taken = toc-tic"
   ]
  },
  {
   "cell_type": "code",
   "execution_count": 76,
   "metadata": {},
   "outputs": [
    {
     "name": "stdout",
     "output_type": "stream",
     "text": [
      "Time taken:  0.6746971607208252\n"
     ]
    },
    {
     "data": {
      "text/html": [
       "<style>#sk-container-id-11 {color: black;}#sk-container-id-11 pre{padding: 0;}#sk-container-id-11 div.sk-toggleable {background-color: white;}#sk-container-id-11 label.sk-toggleable__label {cursor: pointer;display: block;width: 100%;margin-bottom: 0;padding: 0.3em;box-sizing: border-box;text-align: center;}#sk-container-id-11 label.sk-toggleable__label-arrow:before {content: \"▸\";float: left;margin-right: 0.25em;color: #696969;}#sk-container-id-11 label.sk-toggleable__label-arrow:hover:before {color: black;}#sk-container-id-11 div.sk-estimator:hover label.sk-toggleable__label-arrow:before {color: black;}#sk-container-id-11 div.sk-toggleable__content {max-height: 0;max-width: 0;overflow: hidden;text-align: left;background-color: #f0f8ff;}#sk-container-id-11 div.sk-toggleable__content pre {margin: 0.2em;color: black;border-radius: 0.25em;background-color: #f0f8ff;}#sk-container-id-11 input.sk-toggleable__control:checked~div.sk-toggleable__content {max-height: 200px;max-width: 100%;overflow: auto;}#sk-container-id-11 input.sk-toggleable__control:checked~label.sk-toggleable__label-arrow:before {content: \"▾\";}#sk-container-id-11 div.sk-estimator input.sk-toggleable__control:checked~label.sk-toggleable__label {background-color: #d4ebff;}#sk-container-id-11 div.sk-label input.sk-toggleable__control:checked~label.sk-toggleable__label {background-color: #d4ebff;}#sk-container-id-11 input.sk-hidden--visually {border: 0;clip: rect(1px 1px 1px 1px);clip: rect(1px, 1px, 1px, 1px);height: 1px;margin: -1px;overflow: hidden;padding: 0;position: absolute;width: 1px;}#sk-container-id-11 div.sk-estimator {font-family: monospace;background-color: #f0f8ff;border: 1px dotted black;border-radius: 0.25em;box-sizing: border-box;margin-bottom: 0.5em;}#sk-container-id-11 div.sk-estimator:hover {background-color: #d4ebff;}#sk-container-id-11 div.sk-parallel-item::after {content: \"\";width: 100%;border-bottom: 1px solid gray;flex-grow: 1;}#sk-container-id-11 div.sk-label:hover label.sk-toggleable__label {background-color: #d4ebff;}#sk-container-id-11 div.sk-serial::before {content: \"\";position: absolute;border-left: 1px solid gray;box-sizing: border-box;top: 0;bottom: 0;left: 50%;z-index: 0;}#sk-container-id-11 div.sk-serial {display: flex;flex-direction: column;align-items: center;background-color: white;padding-right: 0.2em;padding-left: 0.2em;position: relative;}#sk-container-id-11 div.sk-item {position: relative;z-index: 1;}#sk-container-id-11 div.sk-parallel {display: flex;align-items: stretch;justify-content: center;background-color: white;position: relative;}#sk-container-id-11 div.sk-item::before, #sk-container-id-11 div.sk-parallel-item::before {content: \"\";position: absolute;border-left: 1px solid gray;box-sizing: border-box;top: 0;bottom: 0;left: 50%;z-index: -1;}#sk-container-id-11 div.sk-parallel-item {display: flex;flex-direction: column;z-index: 1;position: relative;background-color: white;}#sk-container-id-11 div.sk-parallel-item:first-child::after {align-self: flex-end;width: 50%;}#sk-container-id-11 div.sk-parallel-item:last-child::after {align-self: flex-start;width: 50%;}#sk-container-id-11 div.sk-parallel-item:only-child::after {width: 0;}#sk-container-id-11 div.sk-dashed-wrapped {border: 1px dashed gray;margin: 0 0.4em 0.5em 0.4em;box-sizing: border-box;padding-bottom: 0.4em;background-color: white;}#sk-container-id-11 div.sk-label label {font-family: monospace;font-weight: bold;display: inline-block;line-height: 1.2em;}#sk-container-id-11 div.sk-label-container {text-align: center;}#sk-container-id-11 div.sk-container {/* jupyter's `normalize.less` sets `[hidden] { display: none; }` but bootstrap.min.css set `[hidden] { display: none !important; }` so we also need the `!important` here to be able to override the default hidden behavior on the sphinx rendered scikit-learn.org. See: https://github.com/scikit-learn/scikit-learn/issues/21755 */display: inline-block !important;position: relative;}#sk-container-id-11 div.sk-text-repr-fallback {display: none;}</style><div id=\"sk-container-id-11\" class=\"sk-top-container\"><div class=\"sk-text-repr-fallback\"><pre>Pipeline(steps=[(&#x27;preprocessing&#x27;,\n",
       "                 ColumnTransformer(sparse_threshold=0,\n",
       "                                   transformers=[(&#x27;num&#x27;,\n",
       "                                                  Pipeline(steps=[(&#x27;imputer&#x27;,\n",
       "                                                                   SimpleImputer(strategy=&#x27;median&#x27;))]),\n",
       "                                                  [&#x27;account_length&#x27;,\n",
       "                                                   &#x27;international_plan&#x27;,\n",
       "                                                   &#x27;voice_mail_plan&#x27;,\n",
       "                                                   &#x27;number_vmail_messages&#x27;,\n",
       "                                                   &#x27;total_day_minutes&#x27;,\n",
       "                                                   &#x27;total_day_calls&#x27;,\n",
       "                                                   &#x27;total_day_charge&#x27;,\n",
       "                                                   &#x27;total_eve_minutes&#x27;,\n",
       "                                                   &#x27;total_eve_calls&#x27;,\n",
       "                                                   &#x27;total_eve_charge&#x27;,\n",
       "                                                   &#x27;...\n",
       "                                                                                  unknown_value=99999))]),\n",
       "                                                  [&#x27;state&#x27;, &#x27;area_code&#x27;,\n",
       "                                                   &#x27;number_customer_service_calls&#x27;])])),\n",
       "                (&#x27;model&#x27;,\n",
       "                 HistGradientBoostingClassifier(categorical_features=[False,\n",
       "                                                                      False,\n",
       "                                                                      False,\n",
       "                                                                      False,\n",
       "                                                                      False,\n",
       "                                                                      False,\n",
       "                                                                      False,\n",
       "                                                                      False,\n",
       "                                                                      False,\n",
       "                                                                      False,\n",
       "                                                                      False,\n",
       "                                                                      False,\n",
       "                                                                      False,\n",
       "                                                                      False,\n",
       "                                                                      False,\n",
       "                                                                      False,\n",
       "                                                                      True,\n",
       "                                                                      True,\n",
       "                                                                      True],\n",
       "                                                class_weight=&#x27;balanced&#x27;,\n",
       "                                                early_stopping=False,\n",
       "                                                min_samples_leaf=30,\n",
       "                                                random_state=1234,\n",
       "                                                scoring=&#x27;balanced_accuracy&#x27;))])</pre><b>In a Jupyter environment, please rerun this cell to show the HTML representation or trust the notebook. <br />On GitHub, the HTML representation is unable to render, please try loading this page with nbviewer.org.</b></div><div class=\"sk-container\" hidden><div class=\"sk-item sk-dashed-wrapped\"><div class=\"sk-label-container\"><div class=\"sk-label sk-toggleable\"><input class=\"sk-toggleable__control sk-hidden--visually\" id=\"sk-estimator-id-98\" type=\"checkbox\" ><label for=\"sk-estimator-id-98\" class=\"sk-toggleable__label sk-toggleable__label-arrow\">Pipeline</label><div class=\"sk-toggleable__content\"><pre>Pipeline(steps=[(&#x27;preprocessing&#x27;,\n",
       "                 ColumnTransformer(sparse_threshold=0,\n",
       "                                   transformers=[(&#x27;num&#x27;,\n",
       "                                                  Pipeline(steps=[(&#x27;imputer&#x27;,\n",
       "                                                                   SimpleImputer(strategy=&#x27;median&#x27;))]),\n",
       "                                                  [&#x27;account_length&#x27;,\n",
       "                                                   &#x27;international_plan&#x27;,\n",
       "                                                   &#x27;voice_mail_plan&#x27;,\n",
       "                                                   &#x27;number_vmail_messages&#x27;,\n",
       "                                                   &#x27;total_day_minutes&#x27;,\n",
       "                                                   &#x27;total_day_calls&#x27;,\n",
       "                                                   &#x27;total_day_charge&#x27;,\n",
       "                                                   &#x27;total_eve_minutes&#x27;,\n",
       "                                                   &#x27;total_eve_calls&#x27;,\n",
       "                                                   &#x27;total_eve_charge&#x27;,\n",
       "                                                   &#x27;...\n",
       "                                                                                  unknown_value=99999))]),\n",
       "                                                  [&#x27;state&#x27;, &#x27;area_code&#x27;,\n",
       "                                                   &#x27;number_customer_service_calls&#x27;])])),\n",
       "                (&#x27;model&#x27;,\n",
       "                 HistGradientBoostingClassifier(categorical_features=[False,\n",
       "                                                                      False,\n",
       "                                                                      False,\n",
       "                                                                      False,\n",
       "                                                                      False,\n",
       "                                                                      False,\n",
       "                                                                      False,\n",
       "                                                                      False,\n",
       "                                                                      False,\n",
       "                                                                      False,\n",
       "                                                                      False,\n",
       "                                                                      False,\n",
       "                                                                      False,\n",
       "                                                                      False,\n",
       "                                                                      False,\n",
       "                                                                      False,\n",
       "                                                                      True,\n",
       "                                                                      True,\n",
       "                                                                      True],\n",
       "                                                class_weight=&#x27;balanced&#x27;,\n",
       "                                                early_stopping=False,\n",
       "                                                min_samples_leaf=30,\n",
       "                                                random_state=1234,\n",
       "                                                scoring=&#x27;balanced_accuracy&#x27;))])</pre></div></div></div><div class=\"sk-serial\"><div class=\"sk-item sk-dashed-wrapped\"><div class=\"sk-label-container\"><div class=\"sk-label sk-toggleable\"><input class=\"sk-toggleable__control sk-hidden--visually\" id=\"sk-estimator-id-99\" type=\"checkbox\" ><label for=\"sk-estimator-id-99\" class=\"sk-toggleable__label sk-toggleable__label-arrow\">preprocessing: ColumnTransformer</label><div class=\"sk-toggleable__content\"><pre>ColumnTransformer(sparse_threshold=0,\n",
       "                  transformers=[(&#x27;num&#x27;,\n",
       "                                 Pipeline(steps=[(&#x27;imputer&#x27;,\n",
       "                                                  SimpleImputer(strategy=&#x27;median&#x27;))]),\n",
       "                                 [&#x27;account_length&#x27;, &#x27;international_plan&#x27;,\n",
       "                                  &#x27;voice_mail_plan&#x27;, &#x27;number_vmail_messages&#x27;,\n",
       "                                  &#x27;total_day_minutes&#x27;, &#x27;total_day_calls&#x27;,\n",
       "                                  &#x27;total_day_charge&#x27;, &#x27;total_eve_minutes&#x27;,\n",
       "                                  &#x27;total_eve_calls&#x27;, &#x27;total_eve_charge&#x27;,\n",
       "                                  &#x27;total_night_minutes&#x27;, &#x27;total_night...\n",
       "                                  &#x27;total_night_charge&#x27;, &#x27;total_intl_minutes&#x27;,\n",
       "                                  &#x27;total_intl_calls&#x27;, &#x27;total_intl_charge&#x27;]),\n",
       "                                (&#x27;cat&#x27;,\n",
       "                                 Pipeline(steps=[(&#x27;imputer&#x27;,\n",
       "                                                  SimpleImputer(strategy=&#x27;most_frequent&#x27;)),\n",
       "                                                 (&#x27;encoder&#x27;,\n",
       "                                                  OrdinalEncoder(dtype=&lt;class &#x27;int&#x27;&gt;,\n",
       "                                                                 encoded_missing_value=99999,\n",
       "                                                                 handle_unknown=&#x27;use_encoded_value&#x27;,\n",
       "                                                                 max_categories=254,\n",
       "                                                                 unknown_value=99999))]),\n",
       "                                 [&#x27;state&#x27;, &#x27;area_code&#x27;,\n",
       "                                  &#x27;number_customer_service_calls&#x27;])])</pre></div></div></div><div class=\"sk-parallel\"><div class=\"sk-parallel-item\"><div class=\"sk-item\"><div class=\"sk-label-container\"><div class=\"sk-label sk-toggleable\"><input class=\"sk-toggleable__control sk-hidden--visually\" id=\"sk-estimator-id-100\" type=\"checkbox\" ><label for=\"sk-estimator-id-100\" class=\"sk-toggleable__label sk-toggleable__label-arrow\">num</label><div class=\"sk-toggleable__content\"><pre>[&#x27;account_length&#x27;, &#x27;international_plan&#x27;, &#x27;voice_mail_plan&#x27;, &#x27;number_vmail_messages&#x27;, &#x27;total_day_minutes&#x27;, &#x27;total_day_calls&#x27;, &#x27;total_day_charge&#x27;, &#x27;total_eve_minutes&#x27;, &#x27;total_eve_calls&#x27;, &#x27;total_eve_charge&#x27;, &#x27;total_night_minutes&#x27;, &#x27;total_night_calls&#x27;, &#x27;total_night_charge&#x27;, &#x27;total_intl_minutes&#x27;, &#x27;total_intl_calls&#x27;, &#x27;total_intl_charge&#x27;]</pre></div></div></div><div class=\"sk-serial\"><div class=\"sk-item\"><div class=\"sk-serial\"><div class=\"sk-item\"><div class=\"sk-estimator sk-toggleable\"><input class=\"sk-toggleable__control sk-hidden--visually\" id=\"sk-estimator-id-101\" type=\"checkbox\" ><label for=\"sk-estimator-id-101\" class=\"sk-toggleable__label sk-toggleable__label-arrow\">SimpleImputer</label><div class=\"sk-toggleable__content\"><pre>SimpleImputer(strategy=&#x27;median&#x27;)</pre></div></div></div></div></div></div></div></div><div class=\"sk-parallel-item\"><div class=\"sk-item\"><div class=\"sk-label-container\"><div class=\"sk-label sk-toggleable\"><input class=\"sk-toggleable__control sk-hidden--visually\" id=\"sk-estimator-id-102\" type=\"checkbox\" ><label for=\"sk-estimator-id-102\" class=\"sk-toggleable__label sk-toggleable__label-arrow\">cat</label><div class=\"sk-toggleable__content\"><pre>[&#x27;state&#x27;, &#x27;area_code&#x27;, &#x27;number_customer_service_calls&#x27;]</pre></div></div></div><div class=\"sk-serial\"><div class=\"sk-item\"><div class=\"sk-serial\"><div class=\"sk-item\"><div class=\"sk-estimator sk-toggleable\"><input class=\"sk-toggleable__control sk-hidden--visually\" id=\"sk-estimator-id-103\" type=\"checkbox\" ><label for=\"sk-estimator-id-103\" class=\"sk-toggleable__label sk-toggleable__label-arrow\">SimpleImputer</label><div class=\"sk-toggleable__content\"><pre>SimpleImputer(strategy=&#x27;most_frequent&#x27;)</pre></div></div></div><div class=\"sk-item\"><div class=\"sk-estimator sk-toggleable\"><input class=\"sk-toggleable__control sk-hidden--visually\" id=\"sk-estimator-id-104\" type=\"checkbox\" ><label for=\"sk-estimator-id-104\" class=\"sk-toggleable__label sk-toggleable__label-arrow\">OrdinalEncoder</label><div class=\"sk-toggleable__content\"><pre>OrdinalEncoder(dtype=&lt;class &#x27;int&#x27;&gt;, encoded_missing_value=99999,\n",
       "               handle_unknown=&#x27;use_encoded_value&#x27;, max_categories=254,\n",
       "               unknown_value=99999)</pre></div></div></div></div></div></div></div></div></div></div><div class=\"sk-item\"><div class=\"sk-estimator sk-toggleable\"><input class=\"sk-toggleable__control sk-hidden--visually\" id=\"sk-estimator-id-105\" type=\"checkbox\" ><label for=\"sk-estimator-id-105\" class=\"sk-toggleable__label sk-toggleable__label-arrow\">HistGradientBoostingClassifier</label><div class=\"sk-toggleable__content\"><pre>HistGradientBoostingClassifier(categorical_features=[False, False, False, False,\n",
       "                                                     False, False, False, False,\n",
       "                                                     False, False, False, False,\n",
       "                                                     False, False, False, False,\n",
       "                                                     True, True, True],\n",
       "                               class_weight=&#x27;balanced&#x27;, early_stopping=False,\n",
       "                               min_samples_leaf=30, random_state=1234,\n",
       "                               scoring=&#x27;balanced_accuracy&#x27;)</pre></div></div></div></div></div></div></div>"
      ],
      "text/plain": [
       "Pipeline(steps=[('preprocessing',\n",
       "                 ColumnTransformer(sparse_threshold=0,\n",
       "                                   transformers=[('num',\n",
       "                                                  Pipeline(steps=[('imputer',\n",
       "                                                                   SimpleImputer(strategy='median'))]),\n",
       "                                                  ['account_length',\n",
       "                                                   'international_plan',\n",
       "                                                   'voice_mail_plan',\n",
       "                                                   'number_vmail_messages',\n",
       "                                                   'total_day_minutes',\n",
       "                                                   'total_day_calls',\n",
       "                                                   'total_day_charge',\n",
       "                                                   'total_eve_minutes',\n",
       "                                                   'total_eve_calls',\n",
       "                                                   'total_eve_charge',\n",
       "                                                   '...\n",
       "                                                                                  unknown_value=99999))]),\n",
       "                                                  ['state', 'area_code',\n",
       "                                                   'number_customer_service_calls'])])),\n",
       "                ('model',\n",
       "                 HistGradientBoostingClassifier(categorical_features=[False,\n",
       "                                                                      False,\n",
       "                                                                      False,\n",
       "                                                                      False,\n",
       "                                                                      False,\n",
       "                                                                      False,\n",
       "                                                                      False,\n",
       "                                                                      False,\n",
       "                                                                      False,\n",
       "                                                                      False,\n",
       "                                                                      False,\n",
       "                                                                      False,\n",
       "                                                                      False,\n",
       "                                                                      False,\n",
       "                                                                      False,\n",
       "                                                                      False,\n",
       "                                                                      True,\n",
       "                                                                      True,\n",
       "                                                                      True],\n",
       "                                                class_weight='balanced',\n",
       "                                                early_stopping=False,\n",
       "                                                min_samples_leaf=30,\n",
       "                                                random_state=1234,\n",
       "                                                scoring='balanced_accuracy'))])"
      ]
     },
     "execution_count": 76,
     "metadata": {},
     "output_type": "execute_result"
    }
   ],
   "source": [
    "# Display pipeline\n",
    "print(\"Time taken: \", catsup_hgb_default_time_taken)\n",
    "catsup_hgb_default"
   ]
  },
  {
   "cell_type": "code",
   "execution_count": 77,
   "id": "6434d612",
   "metadata": {},
   "outputs": [],
   "source": [
    "tic = time.time()\n",
    "\n",
    "catsup_hgb_default9 = catsup_hgb_default_pipeline9.fit(X_train, y_train)\n",
    "\n",
    "toc = time.time()\n",
    "catsup_hgb_default9_time_taken = toc-tic"
   ]
  },
  {
   "cell_type": "code",
   "execution_count": 78,
   "metadata": {},
   "outputs": [
    {
     "name": "stdout",
     "output_type": "stream",
     "text": [
      "Time taken:  0.6633844375610352\n"
     ]
    },
    {
     "data": {
      "text/html": [
       "<style>#sk-container-id-12 {color: black;}#sk-container-id-12 pre{padding: 0;}#sk-container-id-12 div.sk-toggleable {background-color: white;}#sk-container-id-12 label.sk-toggleable__label {cursor: pointer;display: block;width: 100%;margin-bottom: 0;padding: 0.3em;box-sizing: border-box;text-align: center;}#sk-container-id-12 label.sk-toggleable__label-arrow:before {content: \"▸\";float: left;margin-right: 0.25em;color: #696969;}#sk-container-id-12 label.sk-toggleable__label-arrow:hover:before {color: black;}#sk-container-id-12 div.sk-estimator:hover label.sk-toggleable__label-arrow:before {color: black;}#sk-container-id-12 div.sk-toggleable__content {max-height: 0;max-width: 0;overflow: hidden;text-align: left;background-color: #f0f8ff;}#sk-container-id-12 div.sk-toggleable__content pre {margin: 0.2em;color: black;border-radius: 0.25em;background-color: #f0f8ff;}#sk-container-id-12 input.sk-toggleable__control:checked~div.sk-toggleable__content {max-height: 200px;max-width: 100%;overflow: auto;}#sk-container-id-12 input.sk-toggleable__control:checked~label.sk-toggleable__label-arrow:before {content: \"▾\";}#sk-container-id-12 div.sk-estimator input.sk-toggleable__control:checked~label.sk-toggleable__label {background-color: #d4ebff;}#sk-container-id-12 div.sk-label input.sk-toggleable__control:checked~label.sk-toggleable__label {background-color: #d4ebff;}#sk-container-id-12 input.sk-hidden--visually {border: 0;clip: rect(1px 1px 1px 1px);clip: rect(1px, 1px, 1px, 1px);height: 1px;margin: -1px;overflow: hidden;padding: 0;position: absolute;width: 1px;}#sk-container-id-12 div.sk-estimator {font-family: monospace;background-color: #f0f8ff;border: 1px dotted black;border-radius: 0.25em;box-sizing: border-box;margin-bottom: 0.5em;}#sk-container-id-12 div.sk-estimator:hover {background-color: #d4ebff;}#sk-container-id-12 div.sk-parallel-item::after {content: \"\";width: 100%;border-bottom: 1px solid gray;flex-grow: 1;}#sk-container-id-12 div.sk-label:hover label.sk-toggleable__label {background-color: #d4ebff;}#sk-container-id-12 div.sk-serial::before {content: \"\";position: absolute;border-left: 1px solid gray;box-sizing: border-box;top: 0;bottom: 0;left: 50%;z-index: 0;}#sk-container-id-12 div.sk-serial {display: flex;flex-direction: column;align-items: center;background-color: white;padding-right: 0.2em;padding-left: 0.2em;position: relative;}#sk-container-id-12 div.sk-item {position: relative;z-index: 1;}#sk-container-id-12 div.sk-parallel {display: flex;align-items: stretch;justify-content: center;background-color: white;position: relative;}#sk-container-id-12 div.sk-item::before, #sk-container-id-12 div.sk-parallel-item::before {content: \"\";position: absolute;border-left: 1px solid gray;box-sizing: border-box;top: 0;bottom: 0;left: 50%;z-index: -1;}#sk-container-id-12 div.sk-parallel-item {display: flex;flex-direction: column;z-index: 1;position: relative;background-color: white;}#sk-container-id-12 div.sk-parallel-item:first-child::after {align-self: flex-end;width: 50%;}#sk-container-id-12 div.sk-parallel-item:last-child::after {align-self: flex-start;width: 50%;}#sk-container-id-12 div.sk-parallel-item:only-child::after {width: 0;}#sk-container-id-12 div.sk-dashed-wrapped {border: 1px dashed gray;margin: 0 0.4em 0.5em 0.4em;box-sizing: border-box;padding-bottom: 0.4em;background-color: white;}#sk-container-id-12 div.sk-label label {font-family: monospace;font-weight: bold;display: inline-block;line-height: 1.2em;}#sk-container-id-12 div.sk-label-container {text-align: center;}#sk-container-id-12 div.sk-container {/* jupyter's `normalize.less` sets `[hidden] { display: none; }` but bootstrap.min.css set `[hidden] { display: none !important; }` so we also need the `!important` here to be able to override the default hidden behavior on the sphinx rendered scikit-learn.org. See: https://github.com/scikit-learn/scikit-learn/issues/21755 */display: inline-block !important;position: relative;}#sk-container-id-12 div.sk-text-repr-fallback {display: none;}</style><div id=\"sk-container-id-12\" class=\"sk-top-container\"><div class=\"sk-text-repr-fallback\"><pre>Pipeline(steps=[(&#x27;preprocessing&#x27;,\n",
       "                 ColumnTransformer(sparse_threshold=0,\n",
       "                                   transformers=[(&#x27;num&#x27;,\n",
       "                                                  Pipeline(steps=[(&#x27;imputer&#x27;,\n",
       "                                                                   SimpleImputer(strategy=&#x27;median&#x27;))]),\n",
       "                                                  [&#x27;account_length&#x27;,\n",
       "                                                   &#x27;international_plan&#x27;,\n",
       "                                                   &#x27;voice_mail_plan&#x27;,\n",
       "                                                   &#x27;number_vmail_messages&#x27;,\n",
       "                                                   &#x27;total_day_minutes&#x27;,\n",
       "                                                   &#x27;total_day_calls&#x27;,\n",
       "                                                   &#x27;total_day_charge&#x27;,\n",
       "                                                   &#x27;total_eve_minutes&#x27;,\n",
       "                                                   &#x27;total_eve_calls&#x27;,\n",
       "                                                   &#x27;total_eve_charge&#x27;,\n",
       "                                                   &#x27;...\n",
       "                                                                                  unknown_value=99999))]),\n",
       "                                                  [&#x27;state&#x27;,\n",
       "                                                   &#x27;number_customer_service_calls&#x27;])])),\n",
       "                (&#x27;model&#x27;,\n",
       "                 HistGradientBoostingClassifier(categorical_features=[False,\n",
       "                                                                      False,\n",
       "                                                                      False,\n",
       "                                                                      False,\n",
       "                                                                      False,\n",
       "                                                                      False,\n",
       "                                                                      False,\n",
       "                                                                      False,\n",
       "                                                                      False,\n",
       "                                                                      False,\n",
       "                                                                      False,\n",
       "                                                                      False,\n",
       "                                                                      False,\n",
       "                                                                      False,\n",
       "                                                                      False,\n",
       "                                                                      False,\n",
       "                                                                      False,\n",
       "                                                                      False,\n",
       "                                                                      True,\n",
       "                                                                      True],\n",
       "                                                class_weight=&#x27;balanced&#x27;,\n",
       "                                                early_stopping=False,\n",
       "                                                min_samples_leaf=30,\n",
       "                                                random_state=1234,\n",
       "                                                scoring=&#x27;balanced_accuracy&#x27;))])</pre><b>In a Jupyter environment, please rerun this cell to show the HTML representation or trust the notebook. <br />On GitHub, the HTML representation is unable to render, please try loading this page with nbviewer.org.</b></div><div class=\"sk-container\" hidden><div class=\"sk-item sk-dashed-wrapped\"><div class=\"sk-label-container\"><div class=\"sk-label sk-toggleable\"><input class=\"sk-toggleable__control sk-hidden--visually\" id=\"sk-estimator-id-106\" type=\"checkbox\" ><label for=\"sk-estimator-id-106\" class=\"sk-toggleable__label sk-toggleable__label-arrow\">Pipeline</label><div class=\"sk-toggleable__content\"><pre>Pipeline(steps=[(&#x27;preprocessing&#x27;,\n",
       "                 ColumnTransformer(sparse_threshold=0,\n",
       "                                   transformers=[(&#x27;num&#x27;,\n",
       "                                                  Pipeline(steps=[(&#x27;imputer&#x27;,\n",
       "                                                                   SimpleImputer(strategy=&#x27;median&#x27;))]),\n",
       "                                                  [&#x27;account_length&#x27;,\n",
       "                                                   &#x27;international_plan&#x27;,\n",
       "                                                   &#x27;voice_mail_plan&#x27;,\n",
       "                                                   &#x27;number_vmail_messages&#x27;,\n",
       "                                                   &#x27;total_day_minutes&#x27;,\n",
       "                                                   &#x27;total_day_calls&#x27;,\n",
       "                                                   &#x27;total_day_charge&#x27;,\n",
       "                                                   &#x27;total_eve_minutes&#x27;,\n",
       "                                                   &#x27;total_eve_calls&#x27;,\n",
       "                                                   &#x27;total_eve_charge&#x27;,\n",
       "                                                   &#x27;...\n",
       "                                                                                  unknown_value=99999))]),\n",
       "                                                  [&#x27;state&#x27;,\n",
       "                                                   &#x27;number_customer_service_calls&#x27;])])),\n",
       "                (&#x27;model&#x27;,\n",
       "                 HistGradientBoostingClassifier(categorical_features=[False,\n",
       "                                                                      False,\n",
       "                                                                      False,\n",
       "                                                                      False,\n",
       "                                                                      False,\n",
       "                                                                      False,\n",
       "                                                                      False,\n",
       "                                                                      False,\n",
       "                                                                      False,\n",
       "                                                                      False,\n",
       "                                                                      False,\n",
       "                                                                      False,\n",
       "                                                                      False,\n",
       "                                                                      False,\n",
       "                                                                      False,\n",
       "                                                                      False,\n",
       "                                                                      False,\n",
       "                                                                      False,\n",
       "                                                                      True,\n",
       "                                                                      True],\n",
       "                                                class_weight=&#x27;balanced&#x27;,\n",
       "                                                early_stopping=False,\n",
       "                                                min_samples_leaf=30,\n",
       "                                                random_state=1234,\n",
       "                                                scoring=&#x27;balanced_accuracy&#x27;))])</pre></div></div></div><div class=\"sk-serial\"><div class=\"sk-item sk-dashed-wrapped\"><div class=\"sk-label-container\"><div class=\"sk-label sk-toggleable\"><input class=\"sk-toggleable__control sk-hidden--visually\" id=\"sk-estimator-id-107\" type=\"checkbox\" ><label for=\"sk-estimator-id-107\" class=\"sk-toggleable__label sk-toggleable__label-arrow\">preprocessing: ColumnTransformer</label><div class=\"sk-toggleable__content\"><pre>ColumnTransformer(sparse_threshold=0,\n",
       "                  transformers=[(&#x27;num&#x27;,\n",
       "                                 Pipeline(steps=[(&#x27;imputer&#x27;,\n",
       "                                                  SimpleImputer(strategy=&#x27;median&#x27;))]),\n",
       "                                 [&#x27;account_length&#x27;, &#x27;international_plan&#x27;,\n",
       "                                  &#x27;voice_mail_plan&#x27;, &#x27;number_vmail_messages&#x27;,\n",
       "                                  &#x27;total_day_minutes&#x27;, &#x27;total_day_calls&#x27;,\n",
       "                                  &#x27;total_day_charge&#x27;, &#x27;total_eve_minutes&#x27;,\n",
       "                                  &#x27;total_eve_calls&#x27;, &#x27;total_eve_charge&#x27;,\n",
       "                                  &#x27;total_night_minutes&#x27;, &#x27;total_night...\n",
       "                                                  OneHotEncoder(drop=&#x27;first&#x27;,\n",
       "                                                                handle_unknown=&#x27;ignore&#x27;))]),\n",
       "                                 [&#x27;area_code&#x27;]),\n",
       "                                (&#x27;ordinal_encoding&#x27;,\n",
       "                                 Pipeline(steps=[(&#x27;imputer&#x27;,\n",
       "                                                  SimpleImputer(strategy=&#x27;most_frequent&#x27;)),\n",
       "                                                 (&#x27;encoder&#x27;,\n",
       "                                                  OrdinalEncoder(dtype=&lt;class &#x27;int&#x27;&gt;,\n",
       "                                                                 encoded_missing_value=99999,\n",
       "                                                                 handle_unknown=&#x27;use_encoded_value&#x27;,\n",
       "                                                                 max_categories=254,\n",
       "                                                                 unknown_value=99999))]),\n",
       "                                 [&#x27;state&#x27;, &#x27;number_customer_service_calls&#x27;])])</pre></div></div></div><div class=\"sk-parallel\"><div class=\"sk-parallel-item\"><div class=\"sk-item\"><div class=\"sk-label-container\"><div class=\"sk-label sk-toggleable\"><input class=\"sk-toggleable__control sk-hidden--visually\" id=\"sk-estimator-id-108\" type=\"checkbox\" ><label for=\"sk-estimator-id-108\" class=\"sk-toggleable__label sk-toggleable__label-arrow\">num</label><div class=\"sk-toggleable__content\"><pre>[&#x27;account_length&#x27;, &#x27;international_plan&#x27;, &#x27;voice_mail_plan&#x27;, &#x27;number_vmail_messages&#x27;, &#x27;total_day_minutes&#x27;, &#x27;total_day_calls&#x27;, &#x27;total_day_charge&#x27;, &#x27;total_eve_minutes&#x27;, &#x27;total_eve_calls&#x27;, &#x27;total_eve_charge&#x27;, &#x27;total_night_minutes&#x27;, &#x27;total_night_calls&#x27;, &#x27;total_night_charge&#x27;, &#x27;total_intl_minutes&#x27;, &#x27;total_intl_calls&#x27;, &#x27;total_intl_charge&#x27;]</pre></div></div></div><div class=\"sk-serial\"><div class=\"sk-item\"><div class=\"sk-serial\"><div class=\"sk-item\"><div class=\"sk-estimator sk-toggleable\"><input class=\"sk-toggleable__control sk-hidden--visually\" id=\"sk-estimator-id-109\" type=\"checkbox\" ><label for=\"sk-estimator-id-109\" class=\"sk-toggleable__label sk-toggleable__label-arrow\">SimpleImputer</label><div class=\"sk-toggleable__content\"><pre>SimpleImputer(strategy=&#x27;median&#x27;)</pre></div></div></div></div></div></div></div></div><div class=\"sk-parallel-item\"><div class=\"sk-item\"><div class=\"sk-label-container\"><div class=\"sk-label sk-toggleable\"><input class=\"sk-toggleable__control sk-hidden--visually\" id=\"sk-estimator-id-110\" type=\"checkbox\" ><label for=\"sk-estimator-id-110\" class=\"sk-toggleable__label sk-toggleable__label-arrow\">one_hot_encoding</label><div class=\"sk-toggleable__content\"><pre>[&#x27;area_code&#x27;]</pre></div></div></div><div class=\"sk-serial\"><div class=\"sk-item\"><div class=\"sk-serial\"><div class=\"sk-item\"><div class=\"sk-estimator sk-toggleable\"><input class=\"sk-toggleable__control sk-hidden--visually\" id=\"sk-estimator-id-111\" type=\"checkbox\" ><label for=\"sk-estimator-id-111\" class=\"sk-toggleable__label sk-toggleable__label-arrow\">SimpleImputer</label><div class=\"sk-toggleable__content\"><pre>SimpleImputer(strategy=&#x27;most_frequent&#x27;)</pre></div></div></div><div class=\"sk-item\"><div class=\"sk-estimator sk-toggleable\"><input class=\"sk-toggleable__control sk-hidden--visually\" id=\"sk-estimator-id-112\" type=\"checkbox\" ><label for=\"sk-estimator-id-112\" class=\"sk-toggleable__label sk-toggleable__label-arrow\">OneHotEncoder</label><div class=\"sk-toggleable__content\"><pre>OneHotEncoder(drop=&#x27;first&#x27;, handle_unknown=&#x27;ignore&#x27;)</pre></div></div></div></div></div></div></div></div><div class=\"sk-parallel-item\"><div class=\"sk-item\"><div class=\"sk-label-container\"><div class=\"sk-label sk-toggleable\"><input class=\"sk-toggleable__control sk-hidden--visually\" id=\"sk-estimator-id-113\" type=\"checkbox\" ><label for=\"sk-estimator-id-113\" class=\"sk-toggleable__label sk-toggleable__label-arrow\">ordinal_encoding</label><div class=\"sk-toggleable__content\"><pre>[&#x27;state&#x27;, &#x27;number_customer_service_calls&#x27;]</pre></div></div></div><div class=\"sk-serial\"><div class=\"sk-item\"><div class=\"sk-serial\"><div class=\"sk-item\"><div class=\"sk-estimator sk-toggleable\"><input class=\"sk-toggleable__control sk-hidden--visually\" id=\"sk-estimator-id-114\" type=\"checkbox\" ><label for=\"sk-estimator-id-114\" class=\"sk-toggleable__label sk-toggleable__label-arrow\">SimpleImputer</label><div class=\"sk-toggleable__content\"><pre>SimpleImputer(strategy=&#x27;most_frequent&#x27;)</pre></div></div></div><div class=\"sk-item\"><div class=\"sk-estimator sk-toggleable\"><input class=\"sk-toggleable__control sk-hidden--visually\" id=\"sk-estimator-id-115\" type=\"checkbox\" ><label for=\"sk-estimator-id-115\" class=\"sk-toggleable__label sk-toggleable__label-arrow\">OrdinalEncoder</label><div class=\"sk-toggleable__content\"><pre>OrdinalEncoder(dtype=&lt;class &#x27;int&#x27;&gt;, encoded_missing_value=99999,\n",
       "               handle_unknown=&#x27;use_encoded_value&#x27;, max_categories=254,\n",
       "               unknown_value=99999)</pre></div></div></div></div></div></div></div></div></div></div><div class=\"sk-item\"><div class=\"sk-estimator sk-toggleable\"><input class=\"sk-toggleable__control sk-hidden--visually\" id=\"sk-estimator-id-116\" type=\"checkbox\" ><label for=\"sk-estimator-id-116\" class=\"sk-toggleable__label sk-toggleable__label-arrow\">HistGradientBoostingClassifier</label><div class=\"sk-toggleable__content\"><pre>HistGradientBoostingClassifier(categorical_features=[False, False, False, False,\n",
       "                                                     False, False, False, False,\n",
       "                                                     False, False, False, False,\n",
       "                                                     False, False, False, False,\n",
       "                                                     False, False, True, True],\n",
       "                               class_weight=&#x27;balanced&#x27;, early_stopping=False,\n",
       "                               min_samples_leaf=30, random_state=1234,\n",
       "                               scoring=&#x27;balanced_accuracy&#x27;)</pre></div></div></div></div></div></div></div>"
      ],
      "text/plain": [
       "Pipeline(steps=[('preprocessing',\n",
       "                 ColumnTransformer(sparse_threshold=0,\n",
       "                                   transformers=[('num',\n",
       "                                                  Pipeline(steps=[('imputer',\n",
       "                                                                   SimpleImputer(strategy='median'))]),\n",
       "                                                  ['account_length',\n",
       "                                                   'international_plan',\n",
       "                                                   'voice_mail_plan',\n",
       "                                                   'number_vmail_messages',\n",
       "                                                   'total_day_minutes',\n",
       "                                                   'total_day_calls',\n",
       "                                                   'total_day_charge',\n",
       "                                                   'total_eve_minutes',\n",
       "                                                   'total_eve_calls',\n",
       "                                                   'total_eve_charge',\n",
       "                                                   '...\n",
       "                                                                                  unknown_value=99999))]),\n",
       "                                                  ['state',\n",
       "                                                   'number_customer_service_calls'])])),\n",
       "                ('model',\n",
       "                 HistGradientBoostingClassifier(categorical_features=[False,\n",
       "                                                                      False,\n",
       "                                                                      False,\n",
       "                                                                      False,\n",
       "                                                                      False,\n",
       "                                                                      False,\n",
       "                                                                      False,\n",
       "                                                                      False,\n",
       "                                                                      False,\n",
       "                                                                      False,\n",
       "                                                                      False,\n",
       "                                                                      False,\n",
       "                                                                      False,\n",
       "                                                                      False,\n",
       "                                                                      False,\n",
       "                                                                      False,\n",
       "                                                                      False,\n",
       "                                                                      False,\n",
       "                                                                      True,\n",
       "                                                                      True],\n",
       "                                                class_weight='balanced',\n",
       "                                                early_stopping=False,\n",
       "                                                min_samples_leaf=30,\n",
       "                                                random_state=1234,\n",
       "                                                scoring='balanced_accuracy'))])"
      ]
     },
     "execution_count": 78,
     "metadata": {},
     "output_type": "execute_result"
    }
   ],
   "source": [
    "# Display pipeline\n",
    "print(\"Time taken: \", catsup_hgb_default9_time_taken)\n",
    "catsup_hgb_default9"
   ]
  },
  {
   "cell_type": "code",
   "execution_count": 79,
   "id": "59e4912c",
   "metadata": {},
   "outputs": [
    {
     "name": "stdout",
     "output_type": "stream",
     "text": [
      "Balanced accuracy with default parameters: 0.8932005900151745\n"
     ]
    }
   ],
   "source": [
    "# Calculate balanced accuracy for the model with default parameters\n",
    "y_catsup_hgb_default_pred = catsup_hgb_default.predict(X_test)\n",
    "catsup_hgb_default_accuracy = balanced_accuracy_score(y_test, y_catsup_hgb_default_pred)\n",
    "print(f'Balanced accuracy with default parameters: {catsup_hgb_default_accuracy}')\n",
    "\n",
    "# Save results\n",
    "default_summary.append(\"Default\")\n",
    "card_9_summary.append(\"AllVariables\")\n",
    "encoder_summary.append(\"HGB_NativeSupport\")\n",
    "value_summary.append(catsup_hgb_default_accuracy)\n",
    "time_summary.append(catsup_hgb_default_time_taken)\n",
    "n_models_summary.append(1)"
   ]
  },
  {
   "cell_type": "code",
   "execution_count": 80,
   "id": "d02d126b",
   "metadata": {},
   "outputs": [
    {
     "name": "stdout",
     "output_type": "stream",
     "text": [
      "Balanced accuracy with default parameters: 0.8989038681128299\n"
     ]
    }
   ],
   "source": [
    "# Calculate balanced accuracy for the model with default parameters\n",
    "y_catsup_hgb_default_pred9 = catsup_hgb_default9.predict(X_test)\n",
    "catsup_hgb_default_accuracy9 = balanced_accuracy_score(y_test, y_catsup_hgb_default_pred9)\n",
    "print(f'Balanced accuracy with default parameters: {catsup_hgb_default_accuracy9}')\n",
    "\n",
    "# Save results\n",
    "default_summary.append(\"Default\")\n",
    "card_9_summary.append(\"OnlyVariablesWithCard>9\")\n",
    "encoder_summary.append(\"HGB_NativeSupport\")\n",
    "value_summary.append(catsup_hgb_default_accuracy9)\n",
    "time_summary.append(catsup_hgb_default9_time_taken)\n",
    "n_models_summary.append(1)"
   ]
  },
  {
   "cell_type": "markdown",
   "id": "39380734",
   "metadata": {},
   "source": [
    "#### Create a HistGradientBoostingClassifier model for tuning"
   ]
  },
  {
   "cell_type": "code",
   "execution_count": 81,
   "id": "b1da0715",
   "metadata": {},
   "outputs": [],
   "source": [
    "catsup_hgb_tune = RandomizedSearchCV(estimator = catsup_hgb_default_pipeline, \n",
    "                                   param_distributions = param_distributions, \n",
    "                                   n_iter = 100,\n",
    "                                   cv = stratified_kfold,\n",
    "                                   scoring = 'balanced_accuracy', \n",
    "                                   random_state = 1234,\n",
    "                                   n_jobs = -1)\n",
    "\n",
    "catsup_hgb_tune9 = RandomizedSearchCV(estimator = catsup_hgb_default_pipeline9, \n",
    "                                   param_distributions = param_distributions, \n",
    "                                   n_iter = 100,\n",
    "                                   cv = stratified_kfold,\n",
    "                                   scoring = 'balanced_accuracy', \n",
    "                                   random_state = 1234,\n",
    "                                   n_jobs = -1)"
   ]
  },
  {
   "cell_type": "code",
   "execution_count": 82,
   "id": "9d0cffeb",
   "metadata": {
    "scrolled": true
   },
   "outputs": [],
   "source": [
    "tic = time.time() \n",
    "\n",
    "catsup_hgb_tune = catsup_hgb_tune.fit(X_train, y_train)\n",
    "\n",
    "toc = time.time()\n",
    "catsup_hgb_tune_time_taken = toc-tic"
   ]
  },
  {
   "cell_type": "code",
   "execution_count": 83,
   "metadata": {},
   "outputs": [
    {
     "name": "stdout",
     "output_type": "stream",
     "text": [
      "Time taken:  22.051368951797485\n"
     ]
    },
    {
     "data": {
      "text/html": [
       "<style>#sk-container-id-13 {color: black;}#sk-container-id-13 pre{padding: 0;}#sk-container-id-13 div.sk-toggleable {background-color: white;}#sk-container-id-13 label.sk-toggleable__label {cursor: pointer;display: block;width: 100%;margin-bottom: 0;padding: 0.3em;box-sizing: border-box;text-align: center;}#sk-container-id-13 label.sk-toggleable__label-arrow:before {content: \"▸\";float: left;margin-right: 0.25em;color: #696969;}#sk-container-id-13 label.sk-toggleable__label-arrow:hover:before {color: black;}#sk-container-id-13 div.sk-estimator:hover label.sk-toggleable__label-arrow:before {color: black;}#sk-container-id-13 div.sk-toggleable__content {max-height: 0;max-width: 0;overflow: hidden;text-align: left;background-color: #f0f8ff;}#sk-container-id-13 div.sk-toggleable__content pre {margin: 0.2em;color: black;border-radius: 0.25em;background-color: #f0f8ff;}#sk-container-id-13 input.sk-toggleable__control:checked~div.sk-toggleable__content {max-height: 200px;max-width: 100%;overflow: auto;}#sk-container-id-13 input.sk-toggleable__control:checked~label.sk-toggleable__label-arrow:before {content: \"▾\";}#sk-container-id-13 div.sk-estimator input.sk-toggleable__control:checked~label.sk-toggleable__label {background-color: #d4ebff;}#sk-container-id-13 div.sk-label input.sk-toggleable__control:checked~label.sk-toggleable__label {background-color: #d4ebff;}#sk-container-id-13 input.sk-hidden--visually {border: 0;clip: rect(1px 1px 1px 1px);clip: rect(1px, 1px, 1px, 1px);height: 1px;margin: -1px;overflow: hidden;padding: 0;position: absolute;width: 1px;}#sk-container-id-13 div.sk-estimator {font-family: monospace;background-color: #f0f8ff;border: 1px dotted black;border-radius: 0.25em;box-sizing: border-box;margin-bottom: 0.5em;}#sk-container-id-13 div.sk-estimator:hover {background-color: #d4ebff;}#sk-container-id-13 div.sk-parallel-item::after {content: \"\";width: 100%;border-bottom: 1px solid gray;flex-grow: 1;}#sk-container-id-13 div.sk-label:hover label.sk-toggleable__label {background-color: #d4ebff;}#sk-container-id-13 div.sk-serial::before {content: \"\";position: absolute;border-left: 1px solid gray;box-sizing: border-box;top: 0;bottom: 0;left: 50%;z-index: 0;}#sk-container-id-13 div.sk-serial {display: flex;flex-direction: column;align-items: center;background-color: white;padding-right: 0.2em;padding-left: 0.2em;position: relative;}#sk-container-id-13 div.sk-item {position: relative;z-index: 1;}#sk-container-id-13 div.sk-parallel {display: flex;align-items: stretch;justify-content: center;background-color: white;position: relative;}#sk-container-id-13 div.sk-item::before, #sk-container-id-13 div.sk-parallel-item::before {content: \"\";position: absolute;border-left: 1px solid gray;box-sizing: border-box;top: 0;bottom: 0;left: 50%;z-index: -1;}#sk-container-id-13 div.sk-parallel-item {display: flex;flex-direction: column;z-index: 1;position: relative;background-color: white;}#sk-container-id-13 div.sk-parallel-item:first-child::after {align-self: flex-end;width: 50%;}#sk-container-id-13 div.sk-parallel-item:last-child::after {align-self: flex-start;width: 50%;}#sk-container-id-13 div.sk-parallel-item:only-child::after {width: 0;}#sk-container-id-13 div.sk-dashed-wrapped {border: 1px dashed gray;margin: 0 0.4em 0.5em 0.4em;box-sizing: border-box;padding-bottom: 0.4em;background-color: white;}#sk-container-id-13 div.sk-label label {font-family: monospace;font-weight: bold;display: inline-block;line-height: 1.2em;}#sk-container-id-13 div.sk-label-container {text-align: center;}#sk-container-id-13 div.sk-container {/* jupyter's `normalize.less` sets `[hidden] { display: none; }` but bootstrap.min.css set `[hidden] { display: none !important; }` so we also need the `!important` here to be able to override the default hidden behavior on the sphinx rendered scikit-learn.org. See: https://github.com/scikit-learn/scikit-learn/issues/21755 */display: inline-block !important;position: relative;}#sk-container-id-13 div.sk-text-repr-fallback {display: none;}</style><div id=\"sk-container-id-13\" class=\"sk-top-container\"><div class=\"sk-text-repr-fallback\"><pre>RandomizedSearchCV(cv=StratifiedKFold(n_splits=3, random_state=1234, shuffle=True),\n",
       "                   estimator=Pipeline(steps=[(&#x27;preprocessing&#x27;,\n",
       "                                              ColumnTransformer(sparse_threshold=0,\n",
       "                                                                transformers=[(&#x27;num&#x27;,\n",
       "                                                                               Pipeline(steps=[(&#x27;imputer&#x27;,\n",
       "                                                                                                SimpleImputer(strategy=&#x27;median&#x27;))]),\n",
       "                                                                               [&#x27;account_length&#x27;,\n",
       "                                                                                &#x27;international_plan&#x27;,\n",
       "                                                                                &#x27;voice_mail_plan&#x27;,\n",
       "                                                                                &#x27;number_vmail_messages&#x27;,\n",
       "                                                                                &#x27;total_day_minutes&#x27;,\n",
       "                                                                                &#x27;tot...\n",
       "                   param_distributions={&#x27;model__learning_rate&#x27;: &lt;scipy.stats._distn_infrastructure.rv_continuous_frozen object at 0x00000252B0583280&gt;,\n",
       "                                        &#x27;model__max_iter&#x27;: &lt;scipy.stats._distn_infrastructure.rv_discrete_frozen object at 0x00000252B0167CA0&gt;,\n",
       "                                        &#x27;model__min_samples_leaf&#x27;: &lt;scipy.stats._distn_infrastructure.rv_discrete_frozen object at 0x00000252B0583EB0&gt;},\n",
       "                   random_state=1234, scoring=&#x27;balanced_accuracy&#x27;)</pre><b>In a Jupyter environment, please rerun this cell to show the HTML representation or trust the notebook. <br />On GitHub, the HTML representation is unable to render, please try loading this page with nbviewer.org.</b></div><div class=\"sk-container\" hidden><div class=\"sk-item sk-dashed-wrapped\"><div class=\"sk-label-container\"><div class=\"sk-label sk-toggleable\"><input class=\"sk-toggleable__control sk-hidden--visually\" id=\"sk-estimator-id-117\" type=\"checkbox\" ><label for=\"sk-estimator-id-117\" class=\"sk-toggleable__label sk-toggleable__label-arrow\">RandomizedSearchCV</label><div class=\"sk-toggleable__content\"><pre>RandomizedSearchCV(cv=StratifiedKFold(n_splits=3, random_state=1234, shuffle=True),\n",
       "                   estimator=Pipeline(steps=[(&#x27;preprocessing&#x27;,\n",
       "                                              ColumnTransformer(sparse_threshold=0,\n",
       "                                                                transformers=[(&#x27;num&#x27;,\n",
       "                                                                               Pipeline(steps=[(&#x27;imputer&#x27;,\n",
       "                                                                                                SimpleImputer(strategy=&#x27;median&#x27;))]),\n",
       "                                                                               [&#x27;account_length&#x27;,\n",
       "                                                                                &#x27;international_plan&#x27;,\n",
       "                                                                                &#x27;voice_mail_plan&#x27;,\n",
       "                                                                                &#x27;number_vmail_messages&#x27;,\n",
       "                                                                                &#x27;total_day_minutes&#x27;,\n",
       "                                                                                &#x27;tot...\n",
       "                   param_distributions={&#x27;model__learning_rate&#x27;: &lt;scipy.stats._distn_infrastructure.rv_continuous_frozen object at 0x00000252B0583280&gt;,\n",
       "                                        &#x27;model__max_iter&#x27;: &lt;scipy.stats._distn_infrastructure.rv_discrete_frozen object at 0x00000252B0167CA0&gt;,\n",
       "                                        &#x27;model__min_samples_leaf&#x27;: &lt;scipy.stats._distn_infrastructure.rv_discrete_frozen object at 0x00000252B0583EB0&gt;},\n",
       "                   random_state=1234, scoring=&#x27;balanced_accuracy&#x27;)</pre></div></div></div><div class=\"sk-parallel\"><div class=\"sk-parallel-item\"><div class=\"sk-item\"><div class=\"sk-label-container\"><div class=\"sk-label sk-toggleable\"><input class=\"sk-toggleable__control sk-hidden--visually\" id=\"sk-estimator-id-118\" type=\"checkbox\" ><label for=\"sk-estimator-id-118\" class=\"sk-toggleable__label sk-toggleable__label-arrow\">estimator: Pipeline</label><div class=\"sk-toggleable__content\"><pre>Pipeline(steps=[(&#x27;preprocessing&#x27;,\n",
       "                 ColumnTransformer(sparse_threshold=0,\n",
       "                                   transformers=[(&#x27;num&#x27;,\n",
       "                                                  Pipeline(steps=[(&#x27;imputer&#x27;,\n",
       "                                                                   SimpleImputer(strategy=&#x27;median&#x27;))]),\n",
       "                                                  [&#x27;account_length&#x27;,\n",
       "                                                   &#x27;international_plan&#x27;,\n",
       "                                                   &#x27;voice_mail_plan&#x27;,\n",
       "                                                   &#x27;number_vmail_messages&#x27;,\n",
       "                                                   &#x27;total_day_minutes&#x27;,\n",
       "                                                   &#x27;total_day_calls&#x27;,\n",
       "                                                   &#x27;total_day_charge&#x27;,\n",
       "                                                   &#x27;total_eve_minutes&#x27;,\n",
       "                                                   &#x27;total_eve_calls&#x27;,\n",
       "                                                   &#x27;total_eve_charge&#x27;,\n",
       "                                                   &#x27;...\n",
       "                                                                                  unknown_value=99999))]),\n",
       "                                                  [&#x27;state&#x27;, &#x27;area_code&#x27;,\n",
       "                                                   &#x27;number_customer_service_calls&#x27;])])),\n",
       "                (&#x27;model&#x27;,\n",
       "                 HistGradientBoostingClassifier(categorical_features=[False,\n",
       "                                                                      False,\n",
       "                                                                      False,\n",
       "                                                                      False,\n",
       "                                                                      False,\n",
       "                                                                      False,\n",
       "                                                                      False,\n",
       "                                                                      False,\n",
       "                                                                      False,\n",
       "                                                                      False,\n",
       "                                                                      False,\n",
       "                                                                      False,\n",
       "                                                                      False,\n",
       "                                                                      False,\n",
       "                                                                      False,\n",
       "                                                                      False,\n",
       "                                                                      True,\n",
       "                                                                      True,\n",
       "                                                                      True],\n",
       "                                                class_weight=&#x27;balanced&#x27;,\n",
       "                                                early_stopping=False,\n",
       "                                                min_samples_leaf=30,\n",
       "                                                random_state=1234,\n",
       "                                                scoring=&#x27;balanced_accuracy&#x27;))])</pre></div></div></div><div class=\"sk-serial\"><div class=\"sk-item\"><div class=\"sk-serial\"><div class=\"sk-item sk-dashed-wrapped\"><div class=\"sk-label-container\"><div class=\"sk-label sk-toggleable\"><input class=\"sk-toggleable__control sk-hidden--visually\" id=\"sk-estimator-id-119\" type=\"checkbox\" ><label for=\"sk-estimator-id-119\" class=\"sk-toggleable__label sk-toggleable__label-arrow\">preprocessing: ColumnTransformer</label><div class=\"sk-toggleable__content\"><pre>ColumnTransformer(sparse_threshold=0,\n",
       "                  transformers=[(&#x27;num&#x27;,\n",
       "                                 Pipeline(steps=[(&#x27;imputer&#x27;,\n",
       "                                                  SimpleImputer(strategy=&#x27;median&#x27;))]),\n",
       "                                 [&#x27;account_length&#x27;, &#x27;international_plan&#x27;,\n",
       "                                  &#x27;voice_mail_plan&#x27;, &#x27;number_vmail_messages&#x27;,\n",
       "                                  &#x27;total_day_minutes&#x27;, &#x27;total_day_calls&#x27;,\n",
       "                                  &#x27;total_day_charge&#x27;, &#x27;total_eve_minutes&#x27;,\n",
       "                                  &#x27;total_eve_calls&#x27;, &#x27;total_eve_charge&#x27;,\n",
       "                                  &#x27;total_night_minutes&#x27;, &#x27;total_night...\n",
       "                                  &#x27;total_night_charge&#x27;, &#x27;total_intl_minutes&#x27;,\n",
       "                                  &#x27;total_intl_calls&#x27;, &#x27;total_intl_charge&#x27;]),\n",
       "                                (&#x27;cat&#x27;,\n",
       "                                 Pipeline(steps=[(&#x27;imputer&#x27;,\n",
       "                                                  SimpleImputer(strategy=&#x27;most_frequent&#x27;)),\n",
       "                                                 (&#x27;encoder&#x27;,\n",
       "                                                  OrdinalEncoder(dtype=&lt;class &#x27;int&#x27;&gt;,\n",
       "                                                                 encoded_missing_value=99999,\n",
       "                                                                 handle_unknown=&#x27;use_encoded_value&#x27;,\n",
       "                                                                 max_categories=254,\n",
       "                                                                 unknown_value=99999))]),\n",
       "                                 [&#x27;state&#x27;, &#x27;area_code&#x27;,\n",
       "                                  &#x27;number_customer_service_calls&#x27;])])</pre></div></div></div><div class=\"sk-parallel\"><div class=\"sk-parallel-item\"><div class=\"sk-item\"><div class=\"sk-label-container\"><div class=\"sk-label sk-toggleable\"><input class=\"sk-toggleable__control sk-hidden--visually\" id=\"sk-estimator-id-120\" type=\"checkbox\" ><label for=\"sk-estimator-id-120\" class=\"sk-toggleable__label sk-toggleable__label-arrow\">num</label><div class=\"sk-toggleable__content\"><pre>[&#x27;account_length&#x27;, &#x27;international_plan&#x27;, &#x27;voice_mail_plan&#x27;, &#x27;number_vmail_messages&#x27;, &#x27;total_day_minutes&#x27;, &#x27;total_day_calls&#x27;, &#x27;total_day_charge&#x27;, &#x27;total_eve_minutes&#x27;, &#x27;total_eve_calls&#x27;, &#x27;total_eve_charge&#x27;, &#x27;total_night_minutes&#x27;, &#x27;total_night_calls&#x27;, &#x27;total_night_charge&#x27;, &#x27;total_intl_minutes&#x27;, &#x27;total_intl_calls&#x27;, &#x27;total_intl_charge&#x27;]</pre></div></div></div><div class=\"sk-serial\"><div class=\"sk-item\"><div class=\"sk-serial\"><div class=\"sk-item\"><div class=\"sk-estimator sk-toggleable\"><input class=\"sk-toggleable__control sk-hidden--visually\" id=\"sk-estimator-id-121\" type=\"checkbox\" ><label for=\"sk-estimator-id-121\" class=\"sk-toggleable__label sk-toggleable__label-arrow\">SimpleImputer</label><div class=\"sk-toggleable__content\"><pre>SimpleImputer(strategy=&#x27;median&#x27;)</pre></div></div></div></div></div></div></div></div><div class=\"sk-parallel-item\"><div class=\"sk-item\"><div class=\"sk-label-container\"><div class=\"sk-label sk-toggleable\"><input class=\"sk-toggleable__control sk-hidden--visually\" id=\"sk-estimator-id-122\" type=\"checkbox\" ><label for=\"sk-estimator-id-122\" class=\"sk-toggleable__label sk-toggleable__label-arrow\">cat</label><div class=\"sk-toggleable__content\"><pre>[&#x27;state&#x27;, &#x27;area_code&#x27;, &#x27;number_customer_service_calls&#x27;]</pre></div></div></div><div class=\"sk-serial\"><div class=\"sk-item\"><div class=\"sk-serial\"><div class=\"sk-item\"><div class=\"sk-estimator sk-toggleable\"><input class=\"sk-toggleable__control sk-hidden--visually\" id=\"sk-estimator-id-123\" type=\"checkbox\" ><label for=\"sk-estimator-id-123\" class=\"sk-toggleable__label sk-toggleable__label-arrow\">SimpleImputer</label><div class=\"sk-toggleable__content\"><pre>SimpleImputer(strategy=&#x27;most_frequent&#x27;)</pre></div></div></div><div class=\"sk-item\"><div class=\"sk-estimator sk-toggleable\"><input class=\"sk-toggleable__control sk-hidden--visually\" id=\"sk-estimator-id-124\" type=\"checkbox\" ><label for=\"sk-estimator-id-124\" class=\"sk-toggleable__label sk-toggleable__label-arrow\">OrdinalEncoder</label><div class=\"sk-toggleable__content\"><pre>OrdinalEncoder(dtype=&lt;class &#x27;int&#x27;&gt;, encoded_missing_value=99999,\n",
       "               handle_unknown=&#x27;use_encoded_value&#x27;, max_categories=254,\n",
       "               unknown_value=99999)</pre></div></div></div></div></div></div></div></div></div></div><div class=\"sk-item\"><div class=\"sk-estimator sk-toggleable\"><input class=\"sk-toggleable__control sk-hidden--visually\" id=\"sk-estimator-id-125\" type=\"checkbox\" ><label for=\"sk-estimator-id-125\" class=\"sk-toggleable__label sk-toggleable__label-arrow\">HistGradientBoostingClassifier</label><div class=\"sk-toggleable__content\"><pre>HistGradientBoostingClassifier(categorical_features=[False, False, False, False,\n",
       "                                                     False, False, False, False,\n",
       "                                                     False, False, False, False,\n",
       "                                                     False, False, False, False,\n",
       "                                                     True, True, True],\n",
       "                               class_weight=&#x27;balanced&#x27;, early_stopping=False,\n",
       "                               min_samples_leaf=30, random_state=1234,\n",
       "                               scoring=&#x27;balanced_accuracy&#x27;)</pre></div></div></div></div></div></div></div></div></div></div></div></div>"
      ],
      "text/plain": [
       "RandomizedSearchCV(cv=StratifiedKFold(n_splits=3, random_state=1234, shuffle=True),\n",
       "                   estimator=Pipeline(steps=[('preprocessing',\n",
       "                                              ColumnTransformer(sparse_threshold=0,\n",
       "                                                                transformers=[('num',\n",
       "                                                                               Pipeline(steps=[('imputer',\n",
       "                                                                                                SimpleImputer(strategy='median'))]),\n",
       "                                                                               ['account_length',\n",
       "                                                                                'international_plan',\n",
       "                                                                                'voice_mail_plan',\n",
       "                                                                                'number_vmail_messages',\n",
       "                                                                                'total_day_minutes',\n",
       "                                                                                'tot...\n",
       "                   param_distributions={'model__learning_rate': <scipy.stats._distn_infrastructure.rv_continuous_frozen object at 0x00000252B0583280>,\n",
       "                                        'model__max_iter': <scipy.stats._distn_infrastructure.rv_discrete_frozen object at 0x00000252B0167CA0>,\n",
       "                                        'model__min_samples_leaf': <scipy.stats._distn_infrastructure.rv_discrete_frozen object at 0x00000252B0583EB0>},\n",
       "                   random_state=1234, scoring='balanced_accuracy')"
      ]
     },
     "execution_count": 83,
     "metadata": {},
     "output_type": "execute_result"
    }
   ],
   "source": [
    "# Display pipeline\n",
    "print(\"Time taken: \", catsup_hgb_tune_time_taken)\n",
    "catsup_hgb_tune"
   ]
  },
  {
   "cell_type": "code",
   "execution_count": 84,
   "id": "6a80e003",
   "metadata": {},
   "outputs": [],
   "source": [
    "tic = time.time() \n",
    "\n",
    "catsup_hgb_tune9 = catsup_hgb_tune9.fit(X_train, y_train)\n",
    "\n",
    "toc = time.time()\n",
    "catsup_hgb_tune9_time_taken = toc-tic"
   ]
  },
  {
   "cell_type": "code",
   "execution_count": 85,
   "metadata": {},
   "outputs": [
    {
     "name": "stdout",
     "output_type": "stream",
     "text": [
      "Time taken:  21.516291618347168\n"
     ]
    },
    {
     "data": {
      "text/html": [
       "<style>#sk-container-id-14 {color: black;}#sk-container-id-14 pre{padding: 0;}#sk-container-id-14 div.sk-toggleable {background-color: white;}#sk-container-id-14 label.sk-toggleable__label {cursor: pointer;display: block;width: 100%;margin-bottom: 0;padding: 0.3em;box-sizing: border-box;text-align: center;}#sk-container-id-14 label.sk-toggleable__label-arrow:before {content: \"▸\";float: left;margin-right: 0.25em;color: #696969;}#sk-container-id-14 label.sk-toggleable__label-arrow:hover:before {color: black;}#sk-container-id-14 div.sk-estimator:hover label.sk-toggleable__label-arrow:before {color: black;}#sk-container-id-14 div.sk-toggleable__content {max-height: 0;max-width: 0;overflow: hidden;text-align: left;background-color: #f0f8ff;}#sk-container-id-14 div.sk-toggleable__content pre {margin: 0.2em;color: black;border-radius: 0.25em;background-color: #f0f8ff;}#sk-container-id-14 input.sk-toggleable__control:checked~div.sk-toggleable__content {max-height: 200px;max-width: 100%;overflow: auto;}#sk-container-id-14 input.sk-toggleable__control:checked~label.sk-toggleable__label-arrow:before {content: \"▾\";}#sk-container-id-14 div.sk-estimator input.sk-toggleable__control:checked~label.sk-toggleable__label {background-color: #d4ebff;}#sk-container-id-14 div.sk-label input.sk-toggleable__control:checked~label.sk-toggleable__label {background-color: #d4ebff;}#sk-container-id-14 input.sk-hidden--visually {border: 0;clip: rect(1px 1px 1px 1px);clip: rect(1px, 1px, 1px, 1px);height: 1px;margin: -1px;overflow: hidden;padding: 0;position: absolute;width: 1px;}#sk-container-id-14 div.sk-estimator {font-family: monospace;background-color: #f0f8ff;border: 1px dotted black;border-radius: 0.25em;box-sizing: border-box;margin-bottom: 0.5em;}#sk-container-id-14 div.sk-estimator:hover {background-color: #d4ebff;}#sk-container-id-14 div.sk-parallel-item::after {content: \"\";width: 100%;border-bottom: 1px solid gray;flex-grow: 1;}#sk-container-id-14 div.sk-label:hover label.sk-toggleable__label {background-color: #d4ebff;}#sk-container-id-14 div.sk-serial::before {content: \"\";position: absolute;border-left: 1px solid gray;box-sizing: border-box;top: 0;bottom: 0;left: 50%;z-index: 0;}#sk-container-id-14 div.sk-serial {display: flex;flex-direction: column;align-items: center;background-color: white;padding-right: 0.2em;padding-left: 0.2em;position: relative;}#sk-container-id-14 div.sk-item {position: relative;z-index: 1;}#sk-container-id-14 div.sk-parallel {display: flex;align-items: stretch;justify-content: center;background-color: white;position: relative;}#sk-container-id-14 div.sk-item::before, #sk-container-id-14 div.sk-parallel-item::before {content: \"\";position: absolute;border-left: 1px solid gray;box-sizing: border-box;top: 0;bottom: 0;left: 50%;z-index: -1;}#sk-container-id-14 div.sk-parallel-item {display: flex;flex-direction: column;z-index: 1;position: relative;background-color: white;}#sk-container-id-14 div.sk-parallel-item:first-child::after {align-self: flex-end;width: 50%;}#sk-container-id-14 div.sk-parallel-item:last-child::after {align-self: flex-start;width: 50%;}#sk-container-id-14 div.sk-parallel-item:only-child::after {width: 0;}#sk-container-id-14 div.sk-dashed-wrapped {border: 1px dashed gray;margin: 0 0.4em 0.5em 0.4em;box-sizing: border-box;padding-bottom: 0.4em;background-color: white;}#sk-container-id-14 div.sk-label label {font-family: monospace;font-weight: bold;display: inline-block;line-height: 1.2em;}#sk-container-id-14 div.sk-label-container {text-align: center;}#sk-container-id-14 div.sk-container {/* jupyter's `normalize.less` sets `[hidden] { display: none; }` but bootstrap.min.css set `[hidden] { display: none !important; }` so we also need the `!important` here to be able to override the default hidden behavior on the sphinx rendered scikit-learn.org. See: https://github.com/scikit-learn/scikit-learn/issues/21755 */display: inline-block !important;position: relative;}#sk-container-id-14 div.sk-text-repr-fallback {display: none;}</style><div id=\"sk-container-id-14\" class=\"sk-top-container\"><div class=\"sk-text-repr-fallback\"><pre>RandomizedSearchCV(cv=StratifiedKFold(n_splits=3, random_state=1234, shuffle=True),\n",
       "                   estimator=Pipeline(steps=[(&#x27;preprocessing&#x27;,\n",
       "                                              ColumnTransformer(sparse_threshold=0,\n",
       "                                                                transformers=[(&#x27;num&#x27;,\n",
       "                                                                               Pipeline(steps=[(&#x27;imputer&#x27;,\n",
       "                                                                                                SimpleImputer(strategy=&#x27;median&#x27;))]),\n",
       "                                                                               [&#x27;account_length&#x27;,\n",
       "                                                                                &#x27;international_plan&#x27;,\n",
       "                                                                                &#x27;voice_mail_plan&#x27;,\n",
       "                                                                                &#x27;number_vmail_messages&#x27;,\n",
       "                                                                                &#x27;total_day_minutes&#x27;,\n",
       "                                                                                &#x27;tot...\n",
       "                   param_distributions={&#x27;model__learning_rate&#x27;: &lt;scipy.stats._distn_infrastructure.rv_continuous_frozen object at 0x00000252B0583280&gt;,\n",
       "                                        &#x27;model__max_iter&#x27;: &lt;scipy.stats._distn_infrastructure.rv_discrete_frozen object at 0x00000252B0167CA0&gt;,\n",
       "                                        &#x27;model__min_samples_leaf&#x27;: &lt;scipy.stats._distn_infrastructure.rv_discrete_frozen object at 0x00000252B0583EB0&gt;},\n",
       "                   random_state=1234, scoring=&#x27;balanced_accuracy&#x27;)</pre><b>In a Jupyter environment, please rerun this cell to show the HTML representation or trust the notebook. <br />On GitHub, the HTML representation is unable to render, please try loading this page with nbviewer.org.</b></div><div class=\"sk-container\" hidden><div class=\"sk-item sk-dashed-wrapped\"><div class=\"sk-label-container\"><div class=\"sk-label sk-toggleable\"><input class=\"sk-toggleable__control sk-hidden--visually\" id=\"sk-estimator-id-126\" type=\"checkbox\" ><label for=\"sk-estimator-id-126\" class=\"sk-toggleable__label sk-toggleable__label-arrow\">RandomizedSearchCV</label><div class=\"sk-toggleable__content\"><pre>RandomizedSearchCV(cv=StratifiedKFold(n_splits=3, random_state=1234, shuffle=True),\n",
       "                   estimator=Pipeline(steps=[(&#x27;preprocessing&#x27;,\n",
       "                                              ColumnTransformer(sparse_threshold=0,\n",
       "                                                                transformers=[(&#x27;num&#x27;,\n",
       "                                                                               Pipeline(steps=[(&#x27;imputer&#x27;,\n",
       "                                                                                                SimpleImputer(strategy=&#x27;median&#x27;))]),\n",
       "                                                                               [&#x27;account_length&#x27;,\n",
       "                                                                                &#x27;international_plan&#x27;,\n",
       "                                                                                &#x27;voice_mail_plan&#x27;,\n",
       "                                                                                &#x27;number_vmail_messages&#x27;,\n",
       "                                                                                &#x27;total_day_minutes&#x27;,\n",
       "                                                                                &#x27;tot...\n",
       "                   param_distributions={&#x27;model__learning_rate&#x27;: &lt;scipy.stats._distn_infrastructure.rv_continuous_frozen object at 0x00000252B0583280&gt;,\n",
       "                                        &#x27;model__max_iter&#x27;: &lt;scipy.stats._distn_infrastructure.rv_discrete_frozen object at 0x00000252B0167CA0&gt;,\n",
       "                                        &#x27;model__min_samples_leaf&#x27;: &lt;scipy.stats._distn_infrastructure.rv_discrete_frozen object at 0x00000252B0583EB0&gt;},\n",
       "                   random_state=1234, scoring=&#x27;balanced_accuracy&#x27;)</pre></div></div></div><div class=\"sk-parallel\"><div class=\"sk-parallel-item\"><div class=\"sk-item\"><div class=\"sk-label-container\"><div class=\"sk-label sk-toggleable\"><input class=\"sk-toggleable__control sk-hidden--visually\" id=\"sk-estimator-id-127\" type=\"checkbox\" ><label for=\"sk-estimator-id-127\" class=\"sk-toggleable__label sk-toggleable__label-arrow\">estimator: Pipeline</label><div class=\"sk-toggleable__content\"><pre>Pipeline(steps=[(&#x27;preprocessing&#x27;,\n",
       "                 ColumnTransformer(sparse_threshold=0,\n",
       "                                   transformers=[(&#x27;num&#x27;,\n",
       "                                                  Pipeline(steps=[(&#x27;imputer&#x27;,\n",
       "                                                                   SimpleImputer(strategy=&#x27;median&#x27;))]),\n",
       "                                                  [&#x27;account_length&#x27;,\n",
       "                                                   &#x27;international_plan&#x27;,\n",
       "                                                   &#x27;voice_mail_plan&#x27;,\n",
       "                                                   &#x27;number_vmail_messages&#x27;,\n",
       "                                                   &#x27;total_day_minutes&#x27;,\n",
       "                                                   &#x27;total_day_calls&#x27;,\n",
       "                                                   &#x27;total_day_charge&#x27;,\n",
       "                                                   &#x27;total_eve_minutes&#x27;,\n",
       "                                                   &#x27;total_eve_calls&#x27;,\n",
       "                                                   &#x27;total_eve_charge&#x27;,\n",
       "                                                   &#x27;...\n",
       "                                                                                  unknown_value=99999))]),\n",
       "                                                  [&#x27;state&#x27;,\n",
       "                                                   &#x27;number_customer_service_calls&#x27;])])),\n",
       "                (&#x27;model&#x27;,\n",
       "                 HistGradientBoostingClassifier(categorical_features=[False,\n",
       "                                                                      False,\n",
       "                                                                      False,\n",
       "                                                                      False,\n",
       "                                                                      False,\n",
       "                                                                      False,\n",
       "                                                                      False,\n",
       "                                                                      False,\n",
       "                                                                      False,\n",
       "                                                                      False,\n",
       "                                                                      False,\n",
       "                                                                      False,\n",
       "                                                                      False,\n",
       "                                                                      False,\n",
       "                                                                      False,\n",
       "                                                                      False,\n",
       "                                                                      False,\n",
       "                                                                      False,\n",
       "                                                                      True,\n",
       "                                                                      True],\n",
       "                                                class_weight=&#x27;balanced&#x27;,\n",
       "                                                early_stopping=False,\n",
       "                                                min_samples_leaf=30,\n",
       "                                                random_state=1234,\n",
       "                                                scoring=&#x27;balanced_accuracy&#x27;))])</pre></div></div></div><div class=\"sk-serial\"><div class=\"sk-item\"><div class=\"sk-serial\"><div class=\"sk-item sk-dashed-wrapped\"><div class=\"sk-label-container\"><div class=\"sk-label sk-toggleable\"><input class=\"sk-toggleable__control sk-hidden--visually\" id=\"sk-estimator-id-128\" type=\"checkbox\" ><label for=\"sk-estimator-id-128\" class=\"sk-toggleable__label sk-toggleable__label-arrow\">preprocessing: ColumnTransformer</label><div class=\"sk-toggleable__content\"><pre>ColumnTransformer(sparse_threshold=0,\n",
       "                  transformers=[(&#x27;num&#x27;,\n",
       "                                 Pipeline(steps=[(&#x27;imputer&#x27;,\n",
       "                                                  SimpleImputer(strategy=&#x27;median&#x27;))]),\n",
       "                                 [&#x27;account_length&#x27;, &#x27;international_plan&#x27;,\n",
       "                                  &#x27;voice_mail_plan&#x27;, &#x27;number_vmail_messages&#x27;,\n",
       "                                  &#x27;total_day_minutes&#x27;, &#x27;total_day_calls&#x27;,\n",
       "                                  &#x27;total_day_charge&#x27;, &#x27;total_eve_minutes&#x27;,\n",
       "                                  &#x27;total_eve_calls&#x27;, &#x27;total_eve_charge&#x27;,\n",
       "                                  &#x27;total_night_minutes&#x27;, &#x27;total_night...\n",
       "                                                  OneHotEncoder(drop=&#x27;first&#x27;,\n",
       "                                                                handle_unknown=&#x27;ignore&#x27;))]),\n",
       "                                 [&#x27;area_code&#x27;]),\n",
       "                                (&#x27;ordinal_encoding&#x27;,\n",
       "                                 Pipeline(steps=[(&#x27;imputer&#x27;,\n",
       "                                                  SimpleImputer(strategy=&#x27;most_frequent&#x27;)),\n",
       "                                                 (&#x27;encoder&#x27;,\n",
       "                                                  OrdinalEncoder(dtype=&lt;class &#x27;int&#x27;&gt;,\n",
       "                                                                 encoded_missing_value=99999,\n",
       "                                                                 handle_unknown=&#x27;use_encoded_value&#x27;,\n",
       "                                                                 max_categories=254,\n",
       "                                                                 unknown_value=99999))]),\n",
       "                                 [&#x27;state&#x27;, &#x27;number_customer_service_calls&#x27;])])</pre></div></div></div><div class=\"sk-parallel\"><div class=\"sk-parallel-item\"><div class=\"sk-item\"><div class=\"sk-label-container\"><div class=\"sk-label sk-toggleable\"><input class=\"sk-toggleable__control sk-hidden--visually\" id=\"sk-estimator-id-129\" type=\"checkbox\" ><label for=\"sk-estimator-id-129\" class=\"sk-toggleable__label sk-toggleable__label-arrow\">num</label><div class=\"sk-toggleable__content\"><pre>[&#x27;account_length&#x27;, &#x27;international_plan&#x27;, &#x27;voice_mail_plan&#x27;, &#x27;number_vmail_messages&#x27;, &#x27;total_day_minutes&#x27;, &#x27;total_day_calls&#x27;, &#x27;total_day_charge&#x27;, &#x27;total_eve_minutes&#x27;, &#x27;total_eve_calls&#x27;, &#x27;total_eve_charge&#x27;, &#x27;total_night_minutes&#x27;, &#x27;total_night_calls&#x27;, &#x27;total_night_charge&#x27;, &#x27;total_intl_minutes&#x27;, &#x27;total_intl_calls&#x27;, &#x27;total_intl_charge&#x27;]</pre></div></div></div><div class=\"sk-serial\"><div class=\"sk-item\"><div class=\"sk-serial\"><div class=\"sk-item\"><div class=\"sk-estimator sk-toggleable\"><input class=\"sk-toggleable__control sk-hidden--visually\" id=\"sk-estimator-id-130\" type=\"checkbox\" ><label for=\"sk-estimator-id-130\" class=\"sk-toggleable__label sk-toggleable__label-arrow\">SimpleImputer</label><div class=\"sk-toggleable__content\"><pre>SimpleImputer(strategy=&#x27;median&#x27;)</pre></div></div></div></div></div></div></div></div><div class=\"sk-parallel-item\"><div class=\"sk-item\"><div class=\"sk-label-container\"><div class=\"sk-label sk-toggleable\"><input class=\"sk-toggleable__control sk-hidden--visually\" id=\"sk-estimator-id-131\" type=\"checkbox\" ><label for=\"sk-estimator-id-131\" class=\"sk-toggleable__label sk-toggleable__label-arrow\">one_hot_encoding</label><div class=\"sk-toggleable__content\"><pre>[&#x27;area_code&#x27;]</pre></div></div></div><div class=\"sk-serial\"><div class=\"sk-item\"><div class=\"sk-serial\"><div class=\"sk-item\"><div class=\"sk-estimator sk-toggleable\"><input class=\"sk-toggleable__control sk-hidden--visually\" id=\"sk-estimator-id-132\" type=\"checkbox\" ><label for=\"sk-estimator-id-132\" class=\"sk-toggleable__label sk-toggleable__label-arrow\">SimpleImputer</label><div class=\"sk-toggleable__content\"><pre>SimpleImputer(strategy=&#x27;most_frequent&#x27;)</pre></div></div></div><div class=\"sk-item\"><div class=\"sk-estimator sk-toggleable\"><input class=\"sk-toggleable__control sk-hidden--visually\" id=\"sk-estimator-id-133\" type=\"checkbox\" ><label for=\"sk-estimator-id-133\" class=\"sk-toggleable__label sk-toggleable__label-arrow\">OneHotEncoder</label><div class=\"sk-toggleable__content\"><pre>OneHotEncoder(drop=&#x27;first&#x27;, handle_unknown=&#x27;ignore&#x27;)</pre></div></div></div></div></div></div></div></div><div class=\"sk-parallel-item\"><div class=\"sk-item\"><div class=\"sk-label-container\"><div class=\"sk-label sk-toggleable\"><input class=\"sk-toggleable__control sk-hidden--visually\" id=\"sk-estimator-id-134\" type=\"checkbox\" ><label for=\"sk-estimator-id-134\" class=\"sk-toggleable__label sk-toggleable__label-arrow\">ordinal_encoding</label><div class=\"sk-toggleable__content\"><pre>[&#x27;state&#x27;, &#x27;number_customer_service_calls&#x27;]</pre></div></div></div><div class=\"sk-serial\"><div class=\"sk-item\"><div class=\"sk-serial\"><div class=\"sk-item\"><div class=\"sk-estimator sk-toggleable\"><input class=\"sk-toggleable__control sk-hidden--visually\" id=\"sk-estimator-id-135\" type=\"checkbox\" ><label for=\"sk-estimator-id-135\" class=\"sk-toggleable__label sk-toggleable__label-arrow\">SimpleImputer</label><div class=\"sk-toggleable__content\"><pre>SimpleImputer(strategy=&#x27;most_frequent&#x27;)</pre></div></div></div><div class=\"sk-item\"><div class=\"sk-estimator sk-toggleable\"><input class=\"sk-toggleable__control sk-hidden--visually\" id=\"sk-estimator-id-136\" type=\"checkbox\" ><label for=\"sk-estimator-id-136\" class=\"sk-toggleable__label sk-toggleable__label-arrow\">OrdinalEncoder</label><div class=\"sk-toggleable__content\"><pre>OrdinalEncoder(dtype=&lt;class &#x27;int&#x27;&gt;, encoded_missing_value=99999,\n",
       "               handle_unknown=&#x27;use_encoded_value&#x27;, max_categories=254,\n",
       "               unknown_value=99999)</pre></div></div></div></div></div></div></div></div></div></div><div class=\"sk-item\"><div class=\"sk-estimator sk-toggleable\"><input class=\"sk-toggleable__control sk-hidden--visually\" id=\"sk-estimator-id-137\" type=\"checkbox\" ><label for=\"sk-estimator-id-137\" class=\"sk-toggleable__label sk-toggleable__label-arrow\">HistGradientBoostingClassifier</label><div class=\"sk-toggleable__content\"><pre>HistGradientBoostingClassifier(categorical_features=[False, False, False, False,\n",
       "                                                     False, False, False, False,\n",
       "                                                     False, False, False, False,\n",
       "                                                     False, False, False, False,\n",
       "                                                     False, False, True, True],\n",
       "                               class_weight=&#x27;balanced&#x27;, early_stopping=False,\n",
       "                               min_samples_leaf=30, random_state=1234,\n",
       "                               scoring=&#x27;balanced_accuracy&#x27;)</pre></div></div></div></div></div></div></div></div></div></div></div></div>"
      ],
      "text/plain": [
       "RandomizedSearchCV(cv=StratifiedKFold(n_splits=3, random_state=1234, shuffle=True),\n",
       "                   estimator=Pipeline(steps=[('preprocessing',\n",
       "                                              ColumnTransformer(sparse_threshold=0,\n",
       "                                                                transformers=[('num',\n",
       "                                                                               Pipeline(steps=[('imputer',\n",
       "                                                                                                SimpleImputer(strategy='median'))]),\n",
       "                                                                               ['account_length',\n",
       "                                                                                'international_plan',\n",
       "                                                                                'voice_mail_plan',\n",
       "                                                                                'number_vmail_messages',\n",
       "                                                                                'total_day_minutes',\n",
       "                                                                                'tot...\n",
       "                   param_distributions={'model__learning_rate': <scipy.stats._distn_infrastructure.rv_continuous_frozen object at 0x00000252B0583280>,\n",
       "                                        'model__max_iter': <scipy.stats._distn_infrastructure.rv_discrete_frozen object at 0x00000252B0167CA0>,\n",
       "                                        'model__min_samples_leaf': <scipy.stats._distn_infrastructure.rv_discrete_frozen object at 0x00000252B0583EB0>},\n",
       "                   random_state=1234, scoring='balanced_accuracy')"
      ]
     },
     "execution_count": 85,
     "metadata": {},
     "output_type": "execute_result"
    }
   ],
   "source": [
    "# Display pipeline\n",
    "print(\"Time taken: \", catsup_hgb_tune9_time_taken)\n",
    "catsup_hgb_tune9"
   ]
  },
  {
   "cell_type": "code",
   "execution_count": 86,
   "id": "0089267a",
   "metadata": {},
   "outputs": [
    {
     "name": "stdout",
     "output_type": "stream",
     "text": [
      "Best parameters: {'model__learning_rate': 0.07630670424747499, 'model__max_iter': 45, 'model__min_samples_leaf': 30}\n",
      "Balanced accuracy with best parameters: 0.9047510154136922\n"
     ]
    }
   ],
   "source": [
    "# Predict using the model with the best parameters\n",
    "y_catsup_hgb_tune_pred = catsup_hgb_tune.predict(X_test)\n",
    "\n",
    "# Get the best parameters\n",
    "catsup_hgb_tune_best_params = catsup_hgb_tune.best_params_\n",
    "print(f'Best parameters: {catsup_hgb_tune_best_params}')\n",
    "\n",
    "# Calculate balanced accuracy for the model with the best parameters\n",
    "catsup_hgb_tune_accuracy = balanced_accuracy_score(y_test, y_catsup_hgb_tune_pred)\n",
    "print(f'Balanced accuracy with best parameters: {catsup_hgb_tune_accuracy}')\n",
    "\n",
    "# Save results\n",
    "default_summary.append(\"Tune\")\n",
    "card_9_summary.append(\"AllVariables\")\n",
    "encoder_summary.append(\"HGB_NativeSupport\")\n",
    "value_summary.append(catsup_hgb_tune_accuracy)\n",
    "time_summary.append(catsup_hgb_tune_time_taken)\n",
    "n_models_summary.append(catsup_hgb_tune.n_iter)"
   ]
  },
  {
   "cell_type": "code",
   "execution_count": 87,
   "id": "cca7f7b1",
   "metadata": {},
   "outputs": [
    {
     "name": "stdout",
     "output_type": "stream",
     "text": [
      "Best parameters: {'model__learning_rate': 0.06745583511366768, 'model__max_iter': 63, 'model__min_samples_leaf': 22}\n",
      "Balanced accuracy with best parameters: 0.9040165252710042\n"
     ]
    }
   ],
   "source": [
    "# Predict using the model with the best parameters\n",
    "y_catsup_hgb_tune_pred9 = catsup_hgb_tune9.predict(X_test)\n",
    "\n",
    "# Get the best parameters\n",
    "catsup_hgb_tune_best_params9 = catsup_hgb_tune9.best_params_\n",
    "print(f'Best parameters: {catsup_hgb_tune_best_params9}')\n",
    "\n",
    "# Calculate balanced accuracy for the model with the best parameters\n",
    "catsup_hgb_tune_accuracy9 = balanced_accuracy_score(y_test, y_catsup_hgb_tune_pred9)\n",
    "print(f'Balanced accuracy with best parameters: {catsup_hgb_tune_accuracy9}')\n",
    "\n",
    "# Save results\n",
    "default_summary.append(\"Tune\")\n",
    "card_9_summary.append(\"OnlyVariablesWithCard>9\")\n",
    "encoder_summary.append(\"HGB_NativeSupport\")\n",
    "value_summary.append(catsup_hgb_tune_accuracy9)\n",
    "time_summary.append(catsup_hgb_tune9_time_taken)\n",
    "n_models_summary.append(catsup_hgb_tune9.n_iter)"
   ]
  },
  {
   "cell_type": "markdown",
   "id": "a3f4c3b4",
   "metadata": {},
   "source": [
    "### Target Encoder (scikit-learn)"
   ]
  },
  {
   "cell_type": "code",
   "execution_count": 88,
   "id": "d9290198",
   "metadata": {},
   "outputs": [],
   "source": [
    "from sklearn.preprocessing import TargetEncoder"
   ]
  },
  {
   "cell_type": "markdown",
   "id": "8c8d4972",
   "metadata": {},
   "source": [
    "#### Preprocessing"
   ]
  },
  {
   "cell_type": "code",
   "execution_count": 89,
   "id": "ecceaf49",
   "metadata": {},
   "outputs": [],
   "source": [
    "cat_pipeline_more9 = Pipeline([\n",
    "    (\"imputer\", SimpleImputer(strategy = \"most_frequent\")),\n",
    "    (\"encoder\", TargetEncoder())\n",
    "])\n",
    "\n",
    "cat_pipeline_less9 = Pipeline([\n",
    "    (\"imputer\", SimpleImputer(strategy = \"most_frequent\")),\n",
    "    (\"encoder\", OneHotEncoder(drop = \"first\", handle_unknown = \"ignore\"))\n",
    "])\n",
    "\n",
    "preprop_pipeline = ColumnTransformer(\n",
    "    transformers = [(\"num\", num_pipeline, num_cols),\n",
    "                    (\"cat\", cat_pipeline_more9, cat_cols)],\n",
    "    sparse_threshold=0\n",
    ")\n",
    "\n",
    "preprop_pipeline9 = ColumnTransformer(\n",
    "    transformers = [(\"num\", num_pipeline, num_cols),\n",
    "                    (\"one_hot_encoding\", cat_pipeline_less9, cat_cols_less9),\n",
    "                    (\"target_encoding\", cat_pipeline_more9, cat_cols_more9)\n",
    "                    ],\n",
    "    sparse_threshold=0\n",
    ")"
   ]
  },
  {
   "cell_type": "markdown",
   "id": "31b4246b",
   "metadata": {},
   "source": [
    "#### Create a HistGradientBoostingClassifier model with default parameters and early stopping"
   ]
  },
  {
   "cell_type": "code",
   "execution_count": 90,
   "id": "21ad5f2b",
   "metadata": {},
   "outputs": [],
   "source": [
    "target_hgb_default_pipeline = Pipeline([('preprocessing', preprop_pipeline),\n",
    "                                       ('model', hgb_default)])\n",
    "\n",
    "target_hgb_default_pipeline9 = Pipeline([('preprocessing', preprop_pipeline9),\n",
    "                                       ('model', hgb_default9)])"
   ]
  },
  {
   "cell_type": "code",
   "execution_count": 91,
   "id": "ebaf1b23",
   "metadata": {},
   "outputs": [],
   "source": [
    "tic = time.time()\n",
    "\n",
    "target_hgb_default = target_hgb_default_pipeline.fit(X_train, y_train)\n",
    "\n",
    "toc = time.time()\n",
    "target_hgb_default_time_taken = toc-tic"
   ]
  },
  {
   "cell_type": "code",
   "execution_count": 92,
   "metadata": {},
   "outputs": [
    {
     "name": "stdout",
     "output_type": "stream",
     "text": [
      "Time taken:  0.586390495300293\n"
     ]
    },
    {
     "data": {
      "text/html": [
       "<style>#sk-container-id-15 {color: black;}#sk-container-id-15 pre{padding: 0;}#sk-container-id-15 div.sk-toggleable {background-color: white;}#sk-container-id-15 label.sk-toggleable__label {cursor: pointer;display: block;width: 100%;margin-bottom: 0;padding: 0.3em;box-sizing: border-box;text-align: center;}#sk-container-id-15 label.sk-toggleable__label-arrow:before {content: \"▸\";float: left;margin-right: 0.25em;color: #696969;}#sk-container-id-15 label.sk-toggleable__label-arrow:hover:before {color: black;}#sk-container-id-15 div.sk-estimator:hover label.sk-toggleable__label-arrow:before {color: black;}#sk-container-id-15 div.sk-toggleable__content {max-height: 0;max-width: 0;overflow: hidden;text-align: left;background-color: #f0f8ff;}#sk-container-id-15 div.sk-toggleable__content pre {margin: 0.2em;color: black;border-radius: 0.25em;background-color: #f0f8ff;}#sk-container-id-15 input.sk-toggleable__control:checked~div.sk-toggleable__content {max-height: 200px;max-width: 100%;overflow: auto;}#sk-container-id-15 input.sk-toggleable__control:checked~label.sk-toggleable__label-arrow:before {content: \"▾\";}#sk-container-id-15 div.sk-estimator input.sk-toggleable__control:checked~label.sk-toggleable__label {background-color: #d4ebff;}#sk-container-id-15 div.sk-label input.sk-toggleable__control:checked~label.sk-toggleable__label {background-color: #d4ebff;}#sk-container-id-15 input.sk-hidden--visually {border: 0;clip: rect(1px 1px 1px 1px);clip: rect(1px, 1px, 1px, 1px);height: 1px;margin: -1px;overflow: hidden;padding: 0;position: absolute;width: 1px;}#sk-container-id-15 div.sk-estimator {font-family: monospace;background-color: #f0f8ff;border: 1px dotted black;border-radius: 0.25em;box-sizing: border-box;margin-bottom: 0.5em;}#sk-container-id-15 div.sk-estimator:hover {background-color: #d4ebff;}#sk-container-id-15 div.sk-parallel-item::after {content: \"\";width: 100%;border-bottom: 1px solid gray;flex-grow: 1;}#sk-container-id-15 div.sk-label:hover label.sk-toggleable__label {background-color: #d4ebff;}#sk-container-id-15 div.sk-serial::before {content: \"\";position: absolute;border-left: 1px solid gray;box-sizing: border-box;top: 0;bottom: 0;left: 50%;z-index: 0;}#sk-container-id-15 div.sk-serial {display: flex;flex-direction: column;align-items: center;background-color: white;padding-right: 0.2em;padding-left: 0.2em;position: relative;}#sk-container-id-15 div.sk-item {position: relative;z-index: 1;}#sk-container-id-15 div.sk-parallel {display: flex;align-items: stretch;justify-content: center;background-color: white;position: relative;}#sk-container-id-15 div.sk-item::before, #sk-container-id-15 div.sk-parallel-item::before {content: \"\";position: absolute;border-left: 1px solid gray;box-sizing: border-box;top: 0;bottom: 0;left: 50%;z-index: -1;}#sk-container-id-15 div.sk-parallel-item {display: flex;flex-direction: column;z-index: 1;position: relative;background-color: white;}#sk-container-id-15 div.sk-parallel-item:first-child::after {align-self: flex-end;width: 50%;}#sk-container-id-15 div.sk-parallel-item:last-child::after {align-self: flex-start;width: 50%;}#sk-container-id-15 div.sk-parallel-item:only-child::after {width: 0;}#sk-container-id-15 div.sk-dashed-wrapped {border: 1px dashed gray;margin: 0 0.4em 0.5em 0.4em;box-sizing: border-box;padding-bottom: 0.4em;background-color: white;}#sk-container-id-15 div.sk-label label {font-family: monospace;font-weight: bold;display: inline-block;line-height: 1.2em;}#sk-container-id-15 div.sk-label-container {text-align: center;}#sk-container-id-15 div.sk-container {/* jupyter's `normalize.less` sets `[hidden] { display: none; }` but bootstrap.min.css set `[hidden] { display: none !important; }` so we also need the `!important` here to be able to override the default hidden behavior on the sphinx rendered scikit-learn.org. See: https://github.com/scikit-learn/scikit-learn/issues/21755 */display: inline-block !important;position: relative;}#sk-container-id-15 div.sk-text-repr-fallback {display: none;}</style><div id=\"sk-container-id-15\" class=\"sk-top-container\"><div class=\"sk-text-repr-fallback\"><pre>Pipeline(steps=[(&#x27;preprocessing&#x27;,\n",
       "                 ColumnTransformer(sparse_threshold=0,\n",
       "                                   transformers=[(&#x27;num&#x27;,\n",
       "                                                  Pipeline(steps=[(&#x27;imputer&#x27;,\n",
       "                                                                   SimpleImputer(strategy=&#x27;median&#x27;))]),\n",
       "                                                  [&#x27;account_length&#x27;,\n",
       "                                                   &#x27;international_plan&#x27;,\n",
       "                                                   &#x27;voice_mail_plan&#x27;,\n",
       "                                                   &#x27;number_vmail_messages&#x27;,\n",
       "                                                   &#x27;total_day_minutes&#x27;,\n",
       "                                                   &#x27;total_day_calls&#x27;,\n",
       "                                                   &#x27;total_day_charge&#x27;,\n",
       "                                                   &#x27;total_eve_minutes&#x27;,\n",
       "                                                   &#x27;total_eve_calls&#x27;,\n",
       "                                                   &#x27;total_eve_charge&#x27;,\n",
       "                                                   &#x27;...\n",
       "                                                   &#x27;total_intl_calls&#x27;,\n",
       "                                                   &#x27;total_intl_charge&#x27;]),\n",
       "                                                 (&#x27;cat&#x27;,\n",
       "                                                  Pipeline(steps=[(&#x27;imputer&#x27;,\n",
       "                                                                   SimpleImputer(strategy=&#x27;most_frequent&#x27;)),\n",
       "                                                                  (&#x27;encoder&#x27;,\n",
       "                                                                   TargetEncoder())]),\n",
       "                                                  [&#x27;state&#x27;, &#x27;area_code&#x27;,\n",
       "                                                   &#x27;number_customer_service_calls&#x27;])])),\n",
       "                (&#x27;model&#x27;,\n",
       "                 HistGradientBoostingClassifier(class_weight=&#x27;balanced&#x27;,\n",
       "                                                early_stopping=False,\n",
       "                                                min_samples_leaf=30,\n",
       "                                                random_state=1234,\n",
       "                                                scoring=&#x27;balanced_accuracy&#x27;))])</pre><b>In a Jupyter environment, please rerun this cell to show the HTML representation or trust the notebook. <br />On GitHub, the HTML representation is unable to render, please try loading this page with nbviewer.org.</b></div><div class=\"sk-container\" hidden><div class=\"sk-item sk-dashed-wrapped\"><div class=\"sk-label-container\"><div class=\"sk-label sk-toggleable\"><input class=\"sk-toggleable__control sk-hidden--visually\" id=\"sk-estimator-id-138\" type=\"checkbox\" ><label for=\"sk-estimator-id-138\" class=\"sk-toggleable__label sk-toggleable__label-arrow\">Pipeline</label><div class=\"sk-toggleable__content\"><pre>Pipeline(steps=[(&#x27;preprocessing&#x27;,\n",
       "                 ColumnTransformer(sparse_threshold=0,\n",
       "                                   transformers=[(&#x27;num&#x27;,\n",
       "                                                  Pipeline(steps=[(&#x27;imputer&#x27;,\n",
       "                                                                   SimpleImputer(strategy=&#x27;median&#x27;))]),\n",
       "                                                  [&#x27;account_length&#x27;,\n",
       "                                                   &#x27;international_plan&#x27;,\n",
       "                                                   &#x27;voice_mail_plan&#x27;,\n",
       "                                                   &#x27;number_vmail_messages&#x27;,\n",
       "                                                   &#x27;total_day_minutes&#x27;,\n",
       "                                                   &#x27;total_day_calls&#x27;,\n",
       "                                                   &#x27;total_day_charge&#x27;,\n",
       "                                                   &#x27;total_eve_minutes&#x27;,\n",
       "                                                   &#x27;total_eve_calls&#x27;,\n",
       "                                                   &#x27;total_eve_charge&#x27;,\n",
       "                                                   &#x27;...\n",
       "                                                   &#x27;total_intl_calls&#x27;,\n",
       "                                                   &#x27;total_intl_charge&#x27;]),\n",
       "                                                 (&#x27;cat&#x27;,\n",
       "                                                  Pipeline(steps=[(&#x27;imputer&#x27;,\n",
       "                                                                   SimpleImputer(strategy=&#x27;most_frequent&#x27;)),\n",
       "                                                                  (&#x27;encoder&#x27;,\n",
       "                                                                   TargetEncoder())]),\n",
       "                                                  [&#x27;state&#x27;, &#x27;area_code&#x27;,\n",
       "                                                   &#x27;number_customer_service_calls&#x27;])])),\n",
       "                (&#x27;model&#x27;,\n",
       "                 HistGradientBoostingClassifier(class_weight=&#x27;balanced&#x27;,\n",
       "                                                early_stopping=False,\n",
       "                                                min_samples_leaf=30,\n",
       "                                                random_state=1234,\n",
       "                                                scoring=&#x27;balanced_accuracy&#x27;))])</pre></div></div></div><div class=\"sk-serial\"><div class=\"sk-item sk-dashed-wrapped\"><div class=\"sk-label-container\"><div class=\"sk-label sk-toggleable\"><input class=\"sk-toggleable__control sk-hidden--visually\" id=\"sk-estimator-id-139\" type=\"checkbox\" ><label for=\"sk-estimator-id-139\" class=\"sk-toggleable__label sk-toggleable__label-arrow\">preprocessing: ColumnTransformer</label><div class=\"sk-toggleable__content\"><pre>ColumnTransformer(sparse_threshold=0,\n",
       "                  transformers=[(&#x27;num&#x27;,\n",
       "                                 Pipeline(steps=[(&#x27;imputer&#x27;,\n",
       "                                                  SimpleImputer(strategy=&#x27;median&#x27;))]),\n",
       "                                 [&#x27;account_length&#x27;, &#x27;international_plan&#x27;,\n",
       "                                  &#x27;voice_mail_plan&#x27;, &#x27;number_vmail_messages&#x27;,\n",
       "                                  &#x27;total_day_minutes&#x27;, &#x27;total_day_calls&#x27;,\n",
       "                                  &#x27;total_day_charge&#x27;, &#x27;total_eve_minutes&#x27;,\n",
       "                                  &#x27;total_eve_calls&#x27;, &#x27;total_eve_charge&#x27;,\n",
       "                                  &#x27;total_night_minutes&#x27;, &#x27;total_night_calls&#x27;,\n",
       "                                  &#x27;total_night_charge&#x27;, &#x27;total_intl_minutes&#x27;,\n",
       "                                  &#x27;total_intl_calls&#x27;, &#x27;total_intl_charge&#x27;]),\n",
       "                                (&#x27;cat&#x27;,\n",
       "                                 Pipeline(steps=[(&#x27;imputer&#x27;,\n",
       "                                                  SimpleImputer(strategy=&#x27;most_frequent&#x27;)),\n",
       "                                                 (&#x27;encoder&#x27;, TargetEncoder())]),\n",
       "                                 [&#x27;state&#x27;, &#x27;area_code&#x27;,\n",
       "                                  &#x27;number_customer_service_calls&#x27;])])</pre></div></div></div><div class=\"sk-parallel\"><div class=\"sk-parallel-item\"><div class=\"sk-item\"><div class=\"sk-label-container\"><div class=\"sk-label sk-toggleable\"><input class=\"sk-toggleable__control sk-hidden--visually\" id=\"sk-estimator-id-140\" type=\"checkbox\" ><label for=\"sk-estimator-id-140\" class=\"sk-toggleable__label sk-toggleable__label-arrow\">num</label><div class=\"sk-toggleable__content\"><pre>[&#x27;account_length&#x27;, &#x27;international_plan&#x27;, &#x27;voice_mail_plan&#x27;, &#x27;number_vmail_messages&#x27;, &#x27;total_day_minutes&#x27;, &#x27;total_day_calls&#x27;, &#x27;total_day_charge&#x27;, &#x27;total_eve_minutes&#x27;, &#x27;total_eve_calls&#x27;, &#x27;total_eve_charge&#x27;, &#x27;total_night_minutes&#x27;, &#x27;total_night_calls&#x27;, &#x27;total_night_charge&#x27;, &#x27;total_intl_minutes&#x27;, &#x27;total_intl_calls&#x27;, &#x27;total_intl_charge&#x27;]</pre></div></div></div><div class=\"sk-serial\"><div class=\"sk-item\"><div class=\"sk-serial\"><div class=\"sk-item\"><div class=\"sk-estimator sk-toggleable\"><input class=\"sk-toggleable__control sk-hidden--visually\" id=\"sk-estimator-id-141\" type=\"checkbox\" ><label for=\"sk-estimator-id-141\" class=\"sk-toggleable__label sk-toggleable__label-arrow\">SimpleImputer</label><div class=\"sk-toggleable__content\"><pre>SimpleImputer(strategy=&#x27;median&#x27;)</pre></div></div></div></div></div></div></div></div><div class=\"sk-parallel-item\"><div class=\"sk-item\"><div class=\"sk-label-container\"><div class=\"sk-label sk-toggleable\"><input class=\"sk-toggleable__control sk-hidden--visually\" id=\"sk-estimator-id-142\" type=\"checkbox\" ><label for=\"sk-estimator-id-142\" class=\"sk-toggleable__label sk-toggleable__label-arrow\">cat</label><div class=\"sk-toggleable__content\"><pre>[&#x27;state&#x27;, &#x27;area_code&#x27;, &#x27;number_customer_service_calls&#x27;]</pre></div></div></div><div class=\"sk-serial\"><div class=\"sk-item\"><div class=\"sk-serial\"><div class=\"sk-item\"><div class=\"sk-estimator sk-toggleable\"><input class=\"sk-toggleable__control sk-hidden--visually\" id=\"sk-estimator-id-143\" type=\"checkbox\" ><label for=\"sk-estimator-id-143\" class=\"sk-toggleable__label sk-toggleable__label-arrow\">SimpleImputer</label><div class=\"sk-toggleable__content\"><pre>SimpleImputer(strategy=&#x27;most_frequent&#x27;)</pre></div></div></div><div class=\"sk-item\"><div class=\"sk-estimator sk-toggleable\"><input class=\"sk-toggleable__control sk-hidden--visually\" id=\"sk-estimator-id-144\" type=\"checkbox\" ><label for=\"sk-estimator-id-144\" class=\"sk-toggleable__label sk-toggleable__label-arrow\">TargetEncoder</label><div class=\"sk-toggleable__content\"><pre>TargetEncoder()</pre></div></div></div></div></div></div></div></div></div></div><div class=\"sk-item\"><div class=\"sk-estimator sk-toggleable\"><input class=\"sk-toggleable__control sk-hidden--visually\" id=\"sk-estimator-id-145\" type=\"checkbox\" ><label for=\"sk-estimator-id-145\" class=\"sk-toggleable__label sk-toggleable__label-arrow\">HistGradientBoostingClassifier</label><div class=\"sk-toggleable__content\"><pre>HistGradientBoostingClassifier(class_weight=&#x27;balanced&#x27;, early_stopping=False,\n",
       "                               min_samples_leaf=30, random_state=1234,\n",
       "                               scoring=&#x27;balanced_accuracy&#x27;)</pre></div></div></div></div></div></div></div>"
      ],
      "text/plain": [
       "Pipeline(steps=[('preprocessing',\n",
       "                 ColumnTransformer(sparse_threshold=0,\n",
       "                                   transformers=[('num',\n",
       "                                                  Pipeline(steps=[('imputer',\n",
       "                                                                   SimpleImputer(strategy='median'))]),\n",
       "                                                  ['account_length',\n",
       "                                                   'international_plan',\n",
       "                                                   'voice_mail_plan',\n",
       "                                                   'number_vmail_messages',\n",
       "                                                   'total_day_minutes',\n",
       "                                                   'total_day_calls',\n",
       "                                                   'total_day_charge',\n",
       "                                                   'total_eve_minutes',\n",
       "                                                   'total_eve_calls',\n",
       "                                                   'total_eve_charge',\n",
       "                                                   '...\n",
       "                                                   'total_intl_calls',\n",
       "                                                   'total_intl_charge']),\n",
       "                                                 ('cat',\n",
       "                                                  Pipeline(steps=[('imputer',\n",
       "                                                                   SimpleImputer(strategy='most_frequent')),\n",
       "                                                                  ('encoder',\n",
       "                                                                   TargetEncoder())]),\n",
       "                                                  ['state', 'area_code',\n",
       "                                                   'number_customer_service_calls'])])),\n",
       "                ('model',\n",
       "                 HistGradientBoostingClassifier(class_weight='balanced',\n",
       "                                                early_stopping=False,\n",
       "                                                min_samples_leaf=30,\n",
       "                                                random_state=1234,\n",
       "                                                scoring='balanced_accuracy'))])"
      ]
     },
     "execution_count": 92,
     "metadata": {},
     "output_type": "execute_result"
    }
   ],
   "source": [
    "# Display pipeline\n",
    "print(\"Time taken: \", target_hgb_default_time_taken)\n",
    "target_hgb_default"
   ]
  },
  {
   "cell_type": "code",
   "execution_count": 93,
   "metadata": {},
   "outputs": [],
   "source": [
    "tic = time.time()\n",
    "\n",
    "target_hgb_default9 = target_hgb_default_pipeline9.fit(X_train, y_train)\n",
    "\n",
    "toc = time.time()\n",
    "target_hgb_default9_time_taken = toc-tic"
   ]
  },
  {
   "cell_type": "code",
   "execution_count": 94,
   "metadata": {},
   "outputs": [
    {
     "name": "stdout",
     "output_type": "stream",
     "text": [
      "Time taken:  0.6000323295593262\n"
     ]
    },
    {
     "data": {
      "text/html": [
       "<style>#sk-container-id-16 {color: black;}#sk-container-id-16 pre{padding: 0;}#sk-container-id-16 div.sk-toggleable {background-color: white;}#sk-container-id-16 label.sk-toggleable__label {cursor: pointer;display: block;width: 100%;margin-bottom: 0;padding: 0.3em;box-sizing: border-box;text-align: center;}#sk-container-id-16 label.sk-toggleable__label-arrow:before {content: \"▸\";float: left;margin-right: 0.25em;color: #696969;}#sk-container-id-16 label.sk-toggleable__label-arrow:hover:before {color: black;}#sk-container-id-16 div.sk-estimator:hover label.sk-toggleable__label-arrow:before {color: black;}#sk-container-id-16 div.sk-toggleable__content {max-height: 0;max-width: 0;overflow: hidden;text-align: left;background-color: #f0f8ff;}#sk-container-id-16 div.sk-toggleable__content pre {margin: 0.2em;color: black;border-radius: 0.25em;background-color: #f0f8ff;}#sk-container-id-16 input.sk-toggleable__control:checked~div.sk-toggleable__content {max-height: 200px;max-width: 100%;overflow: auto;}#sk-container-id-16 input.sk-toggleable__control:checked~label.sk-toggleable__label-arrow:before {content: \"▾\";}#sk-container-id-16 div.sk-estimator input.sk-toggleable__control:checked~label.sk-toggleable__label {background-color: #d4ebff;}#sk-container-id-16 div.sk-label input.sk-toggleable__control:checked~label.sk-toggleable__label {background-color: #d4ebff;}#sk-container-id-16 input.sk-hidden--visually {border: 0;clip: rect(1px 1px 1px 1px);clip: rect(1px, 1px, 1px, 1px);height: 1px;margin: -1px;overflow: hidden;padding: 0;position: absolute;width: 1px;}#sk-container-id-16 div.sk-estimator {font-family: monospace;background-color: #f0f8ff;border: 1px dotted black;border-radius: 0.25em;box-sizing: border-box;margin-bottom: 0.5em;}#sk-container-id-16 div.sk-estimator:hover {background-color: #d4ebff;}#sk-container-id-16 div.sk-parallel-item::after {content: \"\";width: 100%;border-bottom: 1px solid gray;flex-grow: 1;}#sk-container-id-16 div.sk-label:hover label.sk-toggleable__label {background-color: #d4ebff;}#sk-container-id-16 div.sk-serial::before {content: \"\";position: absolute;border-left: 1px solid gray;box-sizing: border-box;top: 0;bottom: 0;left: 50%;z-index: 0;}#sk-container-id-16 div.sk-serial {display: flex;flex-direction: column;align-items: center;background-color: white;padding-right: 0.2em;padding-left: 0.2em;position: relative;}#sk-container-id-16 div.sk-item {position: relative;z-index: 1;}#sk-container-id-16 div.sk-parallel {display: flex;align-items: stretch;justify-content: center;background-color: white;position: relative;}#sk-container-id-16 div.sk-item::before, #sk-container-id-16 div.sk-parallel-item::before {content: \"\";position: absolute;border-left: 1px solid gray;box-sizing: border-box;top: 0;bottom: 0;left: 50%;z-index: -1;}#sk-container-id-16 div.sk-parallel-item {display: flex;flex-direction: column;z-index: 1;position: relative;background-color: white;}#sk-container-id-16 div.sk-parallel-item:first-child::after {align-self: flex-end;width: 50%;}#sk-container-id-16 div.sk-parallel-item:last-child::after {align-self: flex-start;width: 50%;}#sk-container-id-16 div.sk-parallel-item:only-child::after {width: 0;}#sk-container-id-16 div.sk-dashed-wrapped {border: 1px dashed gray;margin: 0 0.4em 0.5em 0.4em;box-sizing: border-box;padding-bottom: 0.4em;background-color: white;}#sk-container-id-16 div.sk-label label {font-family: monospace;font-weight: bold;display: inline-block;line-height: 1.2em;}#sk-container-id-16 div.sk-label-container {text-align: center;}#sk-container-id-16 div.sk-container {/* jupyter's `normalize.less` sets `[hidden] { display: none; }` but bootstrap.min.css set `[hidden] { display: none !important; }` so we also need the `!important` here to be able to override the default hidden behavior on the sphinx rendered scikit-learn.org. See: https://github.com/scikit-learn/scikit-learn/issues/21755 */display: inline-block !important;position: relative;}#sk-container-id-16 div.sk-text-repr-fallback {display: none;}</style><div id=\"sk-container-id-16\" class=\"sk-top-container\"><div class=\"sk-text-repr-fallback\"><pre>Pipeline(steps=[(&#x27;preprocessing&#x27;,\n",
       "                 ColumnTransformer(sparse_threshold=0,\n",
       "                                   transformers=[(&#x27;num&#x27;,\n",
       "                                                  Pipeline(steps=[(&#x27;imputer&#x27;,\n",
       "                                                                   SimpleImputer(strategy=&#x27;median&#x27;))]),\n",
       "                                                  [&#x27;account_length&#x27;,\n",
       "                                                   &#x27;international_plan&#x27;,\n",
       "                                                   &#x27;voice_mail_plan&#x27;,\n",
       "                                                   &#x27;number_vmail_messages&#x27;,\n",
       "                                                   &#x27;total_day_minutes&#x27;,\n",
       "                                                   &#x27;total_day_calls&#x27;,\n",
       "                                                   &#x27;total_day_charge&#x27;,\n",
       "                                                   &#x27;total_eve_minutes&#x27;,\n",
       "                                                   &#x27;total_eve_calls&#x27;,\n",
       "                                                   &#x27;total_eve_charge&#x27;,\n",
       "                                                   &#x27;...\n",
       "                                                                                 handle_unknown=&#x27;ignore&#x27;))]),\n",
       "                                                  [&#x27;area_code&#x27;]),\n",
       "                                                 (&#x27;target_encoding&#x27;,\n",
       "                                                  Pipeline(steps=[(&#x27;imputer&#x27;,\n",
       "                                                                   SimpleImputer(strategy=&#x27;most_frequent&#x27;)),\n",
       "                                                                  (&#x27;encoder&#x27;,\n",
       "                                                                   TargetEncoder())]),\n",
       "                                                  [&#x27;state&#x27;,\n",
       "                                                   &#x27;number_customer_service_calls&#x27;])])),\n",
       "                (&#x27;model&#x27;,\n",
       "                 HistGradientBoostingClassifier(class_weight=&#x27;balanced&#x27;,\n",
       "                                                early_stopping=False,\n",
       "                                                min_samples_leaf=30,\n",
       "                                                random_state=1234,\n",
       "                                                scoring=&#x27;balanced_accuracy&#x27;))])</pre><b>In a Jupyter environment, please rerun this cell to show the HTML representation or trust the notebook. <br />On GitHub, the HTML representation is unable to render, please try loading this page with nbviewer.org.</b></div><div class=\"sk-container\" hidden><div class=\"sk-item sk-dashed-wrapped\"><div class=\"sk-label-container\"><div class=\"sk-label sk-toggleable\"><input class=\"sk-toggleable__control sk-hidden--visually\" id=\"sk-estimator-id-146\" type=\"checkbox\" ><label for=\"sk-estimator-id-146\" class=\"sk-toggleable__label sk-toggleable__label-arrow\">Pipeline</label><div class=\"sk-toggleable__content\"><pre>Pipeline(steps=[(&#x27;preprocessing&#x27;,\n",
       "                 ColumnTransformer(sparse_threshold=0,\n",
       "                                   transformers=[(&#x27;num&#x27;,\n",
       "                                                  Pipeline(steps=[(&#x27;imputer&#x27;,\n",
       "                                                                   SimpleImputer(strategy=&#x27;median&#x27;))]),\n",
       "                                                  [&#x27;account_length&#x27;,\n",
       "                                                   &#x27;international_plan&#x27;,\n",
       "                                                   &#x27;voice_mail_plan&#x27;,\n",
       "                                                   &#x27;number_vmail_messages&#x27;,\n",
       "                                                   &#x27;total_day_minutes&#x27;,\n",
       "                                                   &#x27;total_day_calls&#x27;,\n",
       "                                                   &#x27;total_day_charge&#x27;,\n",
       "                                                   &#x27;total_eve_minutes&#x27;,\n",
       "                                                   &#x27;total_eve_calls&#x27;,\n",
       "                                                   &#x27;total_eve_charge&#x27;,\n",
       "                                                   &#x27;...\n",
       "                                                                                 handle_unknown=&#x27;ignore&#x27;))]),\n",
       "                                                  [&#x27;area_code&#x27;]),\n",
       "                                                 (&#x27;target_encoding&#x27;,\n",
       "                                                  Pipeline(steps=[(&#x27;imputer&#x27;,\n",
       "                                                                   SimpleImputer(strategy=&#x27;most_frequent&#x27;)),\n",
       "                                                                  (&#x27;encoder&#x27;,\n",
       "                                                                   TargetEncoder())]),\n",
       "                                                  [&#x27;state&#x27;,\n",
       "                                                   &#x27;number_customer_service_calls&#x27;])])),\n",
       "                (&#x27;model&#x27;,\n",
       "                 HistGradientBoostingClassifier(class_weight=&#x27;balanced&#x27;,\n",
       "                                                early_stopping=False,\n",
       "                                                min_samples_leaf=30,\n",
       "                                                random_state=1234,\n",
       "                                                scoring=&#x27;balanced_accuracy&#x27;))])</pre></div></div></div><div class=\"sk-serial\"><div class=\"sk-item sk-dashed-wrapped\"><div class=\"sk-label-container\"><div class=\"sk-label sk-toggleable\"><input class=\"sk-toggleable__control sk-hidden--visually\" id=\"sk-estimator-id-147\" type=\"checkbox\" ><label for=\"sk-estimator-id-147\" class=\"sk-toggleable__label sk-toggleable__label-arrow\">preprocessing: ColumnTransformer</label><div class=\"sk-toggleable__content\"><pre>ColumnTransformer(sparse_threshold=0,\n",
       "                  transformers=[(&#x27;num&#x27;,\n",
       "                                 Pipeline(steps=[(&#x27;imputer&#x27;,\n",
       "                                                  SimpleImputer(strategy=&#x27;median&#x27;))]),\n",
       "                                 [&#x27;account_length&#x27;, &#x27;international_plan&#x27;,\n",
       "                                  &#x27;voice_mail_plan&#x27;, &#x27;number_vmail_messages&#x27;,\n",
       "                                  &#x27;total_day_minutes&#x27;, &#x27;total_day_calls&#x27;,\n",
       "                                  &#x27;total_day_charge&#x27;, &#x27;total_eve_minutes&#x27;,\n",
       "                                  &#x27;total_eve_calls&#x27;, &#x27;total_eve_charge&#x27;,\n",
       "                                  &#x27;total_night_minutes&#x27;, &#x27;total_night...\n",
       "                                  &#x27;total_intl_calls&#x27;, &#x27;total_intl_charge&#x27;]),\n",
       "                                (&#x27;one_hot_encoding&#x27;,\n",
       "                                 Pipeline(steps=[(&#x27;imputer&#x27;,\n",
       "                                                  SimpleImputer(strategy=&#x27;most_frequent&#x27;)),\n",
       "                                                 (&#x27;encoder&#x27;,\n",
       "                                                  OneHotEncoder(drop=&#x27;first&#x27;,\n",
       "                                                                handle_unknown=&#x27;ignore&#x27;))]),\n",
       "                                 [&#x27;area_code&#x27;]),\n",
       "                                (&#x27;target_encoding&#x27;,\n",
       "                                 Pipeline(steps=[(&#x27;imputer&#x27;,\n",
       "                                                  SimpleImputer(strategy=&#x27;most_frequent&#x27;)),\n",
       "                                                 (&#x27;encoder&#x27;, TargetEncoder())]),\n",
       "                                 [&#x27;state&#x27;, &#x27;number_customer_service_calls&#x27;])])</pre></div></div></div><div class=\"sk-parallel\"><div class=\"sk-parallel-item\"><div class=\"sk-item\"><div class=\"sk-label-container\"><div class=\"sk-label sk-toggleable\"><input class=\"sk-toggleable__control sk-hidden--visually\" id=\"sk-estimator-id-148\" type=\"checkbox\" ><label for=\"sk-estimator-id-148\" class=\"sk-toggleable__label sk-toggleable__label-arrow\">num</label><div class=\"sk-toggleable__content\"><pre>[&#x27;account_length&#x27;, &#x27;international_plan&#x27;, &#x27;voice_mail_plan&#x27;, &#x27;number_vmail_messages&#x27;, &#x27;total_day_minutes&#x27;, &#x27;total_day_calls&#x27;, &#x27;total_day_charge&#x27;, &#x27;total_eve_minutes&#x27;, &#x27;total_eve_calls&#x27;, &#x27;total_eve_charge&#x27;, &#x27;total_night_minutes&#x27;, &#x27;total_night_calls&#x27;, &#x27;total_night_charge&#x27;, &#x27;total_intl_minutes&#x27;, &#x27;total_intl_calls&#x27;, &#x27;total_intl_charge&#x27;]</pre></div></div></div><div class=\"sk-serial\"><div class=\"sk-item\"><div class=\"sk-serial\"><div class=\"sk-item\"><div class=\"sk-estimator sk-toggleable\"><input class=\"sk-toggleable__control sk-hidden--visually\" id=\"sk-estimator-id-149\" type=\"checkbox\" ><label for=\"sk-estimator-id-149\" class=\"sk-toggleable__label sk-toggleable__label-arrow\">SimpleImputer</label><div class=\"sk-toggleable__content\"><pre>SimpleImputer(strategy=&#x27;median&#x27;)</pre></div></div></div></div></div></div></div></div><div class=\"sk-parallel-item\"><div class=\"sk-item\"><div class=\"sk-label-container\"><div class=\"sk-label sk-toggleable\"><input class=\"sk-toggleable__control sk-hidden--visually\" id=\"sk-estimator-id-150\" type=\"checkbox\" ><label for=\"sk-estimator-id-150\" class=\"sk-toggleable__label sk-toggleable__label-arrow\">one_hot_encoding</label><div class=\"sk-toggleable__content\"><pre>[&#x27;area_code&#x27;]</pre></div></div></div><div class=\"sk-serial\"><div class=\"sk-item\"><div class=\"sk-serial\"><div class=\"sk-item\"><div class=\"sk-estimator sk-toggleable\"><input class=\"sk-toggleable__control sk-hidden--visually\" id=\"sk-estimator-id-151\" type=\"checkbox\" ><label for=\"sk-estimator-id-151\" class=\"sk-toggleable__label sk-toggleable__label-arrow\">SimpleImputer</label><div class=\"sk-toggleable__content\"><pre>SimpleImputer(strategy=&#x27;most_frequent&#x27;)</pre></div></div></div><div class=\"sk-item\"><div class=\"sk-estimator sk-toggleable\"><input class=\"sk-toggleable__control sk-hidden--visually\" id=\"sk-estimator-id-152\" type=\"checkbox\" ><label for=\"sk-estimator-id-152\" class=\"sk-toggleable__label sk-toggleable__label-arrow\">OneHotEncoder</label><div class=\"sk-toggleable__content\"><pre>OneHotEncoder(drop=&#x27;first&#x27;, handle_unknown=&#x27;ignore&#x27;)</pre></div></div></div></div></div></div></div></div><div class=\"sk-parallel-item\"><div class=\"sk-item\"><div class=\"sk-label-container\"><div class=\"sk-label sk-toggleable\"><input class=\"sk-toggleable__control sk-hidden--visually\" id=\"sk-estimator-id-153\" type=\"checkbox\" ><label for=\"sk-estimator-id-153\" class=\"sk-toggleable__label sk-toggleable__label-arrow\">target_encoding</label><div class=\"sk-toggleable__content\"><pre>[&#x27;state&#x27;, &#x27;number_customer_service_calls&#x27;]</pre></div></div></div><div class=\"sk-serial\"><div class=\"sk-item\"><div class=\"sk-serial\"><div class=\"sk-item\"><div class=\"sk-estimator sk-toggleable\"><input class=\"sk-toggleable__control sk-hidden--visually\" id=\"sk-estimator-id-154\" type=\"checkbox\" ><label for=\"sk-estimator-id-154\" class=\"sk-toggleable__label sk-toggleable__label-arrow\">SimpleImputer</label><div class=\"sk-toggleable__content\"><pre>SimpleImputer(strategy=&#x27;most_frequent&#x27;)</pre></div></div></div><div class=\"sk-item\"><div class=\"sk-estimator sk-toggleable\"><input class=\"sk-toggleable__control sk-hidden--visually\" id=\"sk-estimator-id-155\" type=\"checkbox\" ><label for=\"sk-estimator-id-155\" class=\"sk-toggleable__label sk-toggleable__label-arrow\">TargetEncoder</label><div class=\"sk-toggleable__content\"><pre>TargetEncoder()</pre></div></div></div></div></div></div></div></div></div></div><div class=\"sk-item\"><div class=\"sk-estimator sk-toggleable\"><input class=\"sk-toggleable__control sk-hidden--visually\" id=\"sk-estimator-id-156\" type=\"checkbox\" ><label for=\"sk-estimator-id-156\" class=\"sk-toggleable__label sk-toggleable__label-arrow\">HistGradientBoostingClassifier</label><div class=\"sk-toggleable__content\"><pre>HistGradientBoostingClassifier(class_weight=&#x27;balanced&#x27;, early_stopping=False,\n",
       "                               min_samples_leaf=30, random_state=1234,\n",
       "                               scoring=&#x27;balanced_accuracy&#x27;)</pre></div></div></div></div></div></div></div>"
      ],
      "text/plain": [
       "Pipeline(steps=[('preprocessing',\n",
       "                 ColumnTransformer(sparse_threshold=0,\n",
       "                                   transformers=[('num',\n",
       "                                                  Pipeline(steps=[('imputer',\n",
       "                                                                   SimpleImputer(strategy='median'))]),\n",
       "                                                  ['account_length',\n",
       "                                                   'international_plan',\n",
       "                                                   'voice_mail_plan',\n",
       "                                                   'number_vmail_messages',\n",
       "                                                   'total_day_minutes',\n",
       "                                                   'total_day_calls',\n",
       "                                                   'total_day_charge',\n",
       "                                                   'total_eve_minutes',\n",
       "                                                   'total_eve_calls',\n",
       "                                                   'total_eve_charge',\n",
       "                                                   '...\n",
       "                                                                                 handle_unknown='ignore'))]),\n",
       "                                                  ['area_code']),\n",
       "                                                 ('target_encoding',\n",
       "                                                  Pipeline(steps=[('imputer',\n",
       "                                                                   SimpleImputer(strategy='most_frequent')),\n",
       "                                                                  ('encoder',\n",
       "                                                                   TargetEncoder())]),\n",
       "                                                  ['state',\n",
       "                                                   'number_customer_service_calls'])])),\n",
       "                ('model',\n",
       "                 HistGradientBoostingClassifier(class_weight='balanced',\n",
       "                                                early_stopping=False,\n",
       "                                                min_samples_leaf=30,\n",
       "                                                random_state=1234,\n",
       "                                                scoring='balanced_accuracy'))])"
      ]
     },
     "execution_count": 94,
     "metadata": {},
     "output_type": "execute_result"
    }
   ],
   "source": [
    "# Display pipeline\n",
    "print(\"Time taken: \", target_hgb_default9_time_taken)\n",
    "target_hgb_default9"
   ]
  },
  {
   "cell_type": "code",
   "execution_count": 95,
   "id": "7499758f",
   "metadata": {},
   "outputs": [
    {
     "name": "stdout",
     "output_type": "stream",
     "text": [
      "Balanced accuracy with default parameters: 0.9057232683448377\n"
     ]
    }
   ],
   "source": [
    "# Calculate balanced accuracy for the model with default parameters\n",
    "y_target_hgb_default_pred = target_hgb_default.predict(X_test)\n",
    "target_hgb_default_accuracy = balanced_accuracy_score(y_test, y_target_hgb_default_pred)\n",
    "print(f'Balanced accuracy with default parameters: {target_hgb_default_accuracy}')\n",
    "\n",
    "# Save results\n",
    "default_summary.append(\"Default\")\n",
    "card_9_summary.append(\"AllVariables\")\n",
    "encoder_summary.append(\"TargetEncoder\")\n",
    "value_summary.append(target_hgb_default_accuracy)\n",
    "time_summary.append(target_hgb_default_time_taken)\n",
    "n_models_summary.append(1)"
   ]
  },
  {
   "cell_type": "code",
   "execution_count": 96,
   "id": "015aa2d9",
   "metadata": {
    "scrolled": true
   },
   "outputs": [
    {
     "name": "stdout",
     "output_type": "stream",
     "text": [
      "Balanced accuracy with default parameters: 0.8989038681128299\n"
     ]
    }
   ],
   "source": [
    "# Calculate balanced accuracy for the model with default parameters\n",
    "y_target_hgb_default_pred9 = target_hgb_default9.predict(X_test)\n",
    "target_hgb_default_accuracy9 = balanced_accuracy_score(y_test, y_target_hgb_default_pred9)\n",
    "print(f'Balanced accuracy with default parameters: {target_hgb_default_accuracy9}')\n",
    "\n",
    "# Save results\n",
    "default_summary.append(\"Default\")\n",
    "card_9_summary.append(\"OnlyVariablesWithCard>9\")\n",
    "encoder_summary.append(\"TargetEncoder\")\n",
    "value_summary.append(target_hgb_default_accuracy9)\n",
    "time_summary.append(target_hgb_default9_time_taken)\n",
    "n_models_summary.append(1)"
   ]
  },
  {
   "cell_type": "markdown",
   "id": "e7c3f598",
   "metadata": {},
   "source": [
    "#### Create a HistGradientBoostingClassifier model for tuning"
   ]
  },
  {
   "cell_type": "markdown",
   "id": "adec275d",
   "metadata": {},
   "source": [
    " "
   ]
  },
  {
   "cell_type": "code",
   "execution_count": 97,
   "id": "75d035cb",
   "metadata": {},
   "outputs": [],
   "source": [
    "target_hgb_tune = RandomizedSearchCV(estimator = target_hgb_default_pipeline, \n",
    "                                     param_distributions = param_distributions, \n",
    "                                     n_iter = 100,\n",
    "                                     cv = stratified_kfold,\n",
    "                                     scoring = 'balanced_accuracy', \n",
    "                                     random_state = 1234,\n",
    "                                     n_jobs = -1)\n",
    "\n",
    "target_hgb_tune9 = RandomizedSearchCV(estimator = target_hgb_default_pipeline9, \n",
    "                                      param_distributions = param_distributions, \n",
    "                                      n_iter = 100,\n",
    "                                      cv = stratified_kfold,\n",
    "                                      scoring = 'balanced_accuracy', \n",
    "                                      random_state = 1234,\n",
    "                                      n_jobs = -1)"
   ]
  },
  {
   "cell_type": "code",
   "execution_count": 98,
   "id": "aea490b2",
   "metadata": {
    "scrolled": true
   },
   "outputs": [],
   "source": [
    "tic = time.time() \n",
    "\n",
    "target_hgb_tune = target_hgb_tune.fit(X_train, y_train)\n",
    "\n",
    "toc = time.time()\n",
    "target_hgb_tune_time_taken = toc-tic"
   ]
  },
  {
   "cell_type": "code",
   "execution_count": 99,
   "metadata": {},
   "outputs": [
    {
     "name": "stdout",
     "output_type": "stream",
     "text": [
      "Time taken:  21.11894726753235\n"
     ]
    },
    {
     "data": {
      "text/html": [
       "<style>#sk-container-id-17 {color: black;}#sk-container-id-17 pre{padding: 0;}#sk-container-id-17 div.sk-toggleable {background-color: white;}#sk-container-id-17 label.sk-toggleable__label {cursor: pointer;display: block;width: 100%;margin-bottom: 0;padding: 0.3em;box-sizing: border-box;text-align: center;}#sk-container-id-17 label.sk-toggleable__label-arrow:before {content: \"▸\";float: left;margin-right: 0.25em;color: #696969;}#sk-container-id-17 label.sk-toggleable__label-arrow:hover:before {color: black;}#sk-container-id-17 div.sk-estimator:hover label.sk-toggleable__label-arrow:before {color: black;}#sk-container-id-17 div.sk-toggleable__content {max-height: 0;max-width: 0;overflow: hidden;text-align: left;background-color: #f0f8ff;}#sk-container-id-17 div.sk-toggleable__content pre {margin: 0.2em;color: black;border-radius: 0.25em;background-color: #f0f8ff;}#sk-container-id-17 input.sk-toggleable__control:checked~div.sk-toggleable__content {max-height: 200px;max-width: 100%;overflow: auto;}#sk-container-id-17 input.sk-toggleable__control:checked~label.sk-toggleable__label-arrow:before {content: \"▾\";}#sk-container-id-17 div.sk-estimator input.sk-toggleable__control:checked~label.sk-toggleable__label {background-color: #d4ebff;}#sk-container-id-17 div.sk-label input.sk-toggleable__control:checked~label.sk-toggleable__label {background-color: #d4ebff;}#sk-container-id-17 input.sk-hidden--visually {border: 0;clip: rect(1px 1px 1px 1px);clip: rect(1px, 1px, 1px, 1px);height: 1px;margin: -1px;overflow: hidden;padding: 0;position: absolute;width: 1px;}#sk-container-id-17 div.sk-estimator {font-family: monospace;background-color: #f0f8ff;border: 1px dotted black;border-radius: 0.25em;box-sizing: border-box;margin-bottom: 0.5em;}#sk-container-id-17 div.sk-estimator:hover {background-color: #d4ebff;}#sk-container-id-17 div.sk-parallel-item::after {content: \"\";width: 100%;border-bottom: 1px solid gray;flex-grow: 1;}#sk-container-id-17 div.sk-label:hover label.sk-toggleable__label {background-color: #d4ebff;}#sk-container-id-17 div.sk-serial::before {content: \"\";position: absolute;border-left: 1px solid gray;box-sizing: border-box;top: 0;bottom: 0;left: 50%;z-index: 0;}#sk-container-id-17 div.sk-serial {display: flex;flex-direction: column;align-items: center;background-color: white;padding-right: 0.2em;padding-left: 0.2em;position: relative;}#sk-container-id-17 div.sk-item {position: relative;z-index: 1;}#sk-container-id-17 div.sk-parallel {display: flex;align-items: stretch;justify-content: center;background-color: white;position: relative;}#sk-container-id-17 div.sk-item::before, #sk-container-id-17 div.sk-parallel-item::before {content: \"\";position: absolute;border-left: 1px solid gray;box-sizing: border-box;top: 0;bottom: 0;left: 50%;z-index: -1;}#sk-container-id-17 div.sk-parallel-item {display: flex;flex-direction: column;z-index: 1;position: relative;background-color: white;}#sk-container-id-17 div.sk-parallel-item:first-child::after {align-self: flex-end;width: 50%;}#sk-container-id-17 div.sk-parallel-item:last-child::after {align-self: flex-start;width: 50%;}#sk-container-id-17 div.sk-parallel-item:only-child::after {width: 0;}#sk-container-id-17 div.sk-dashed-wrapped {border: 1px dashed gray;margin: 0 0.4em 0.5em 0.4em;box-sizing: border-box;padding-bottom: 0.4em;background-color: white;}#sk-container-id-17 div.sk-label label {font-family: monospace;font-weight: bold;display: inline-block;line-height: 1.2em;}#sk-container-id-17 div.sk-label-container {text-align: center;}#sk-container-id-17 div.sk-container {/* jupyter's `normalize.less` sets `[hidden] { display: none; }` but bootstrap.min.css set `[hidden] { display: none !important; }` so we also need the `!important` here to be able to override the default hidden behavior on the sphinx rendered scikit-learn.org. See: https://github.com/scikit-learn/scikit-learn/issues/21755 */display: inline-block !important;position: relative;}#sk-container-id-17 div.sk-text-repr-fallback {display: none;}</style><div id=\"sk-container-id-17\" class=\"sk-top-container\"><div class=\"sk-text-repr-fallback\"><pre>RandomizedSearchCV(cv=StratifiedKFold(n_splits=3, random_state=1234, shuffle=True),\n",
       "                   estimator=Pipeline(steps=[(&#x27;preprocessing&#x27;,\n",
       "                                              ColumnTransformer(sparse_threshold=0,\n",
       "                                                                transformers=[(&#x27;num&#x27;,\n",
       "                                                                               Pipeline(steps=[(&#x27;imputer&#x27;,\n",
       "                                                                                                SimpleImputer(strategy=&#x27;median&#x27;))]),\n",
       "                                                                               [&#x27;account_length&#x27;,\n",
       "                                                                                &#x27;international_plan&#x27;,\n",
       "                                                                                &#x27;voice_mail_plan&#x27;,\n",
       "                                                                                &#x27;number_vmail_messages&#x27;,\n",
       "                                                                                &#x27;total_day_minutes&#x27;,\n",
       "                                                                                &#x27;tot...\n",
       "                   param_distributions={&#x27;model__learning_rate&#x27;: &lt;scipy.stats._distn_infrastructure.rv_continuous_frozen object at 0x00000252B0583280&gt;,\n",
       "                                        &#x27;model__max_iter&#x27;: &lt;scipy.stats._distn_infrastructure.rv_discrete_frozen object at 0x00000252B0167CA0&gt;,\n",
       "                                        &#x27;model__min_samples_leaf&#x27;: &lt;scipy.stats._distn_infrastructure.rv_discrete_frozen object at 0x00000252B0583EB0&gt;},\n",
       "                   random_state=1234, scoring=&#x27;balanced_accuracy&#x27;)</pre><b>In a Jupyter environment, please rerun this cell to show the HTML representation or trust the notebook. <br />On GitHub, the HTML representation is unable to render, please try loading this page with nbviewer.org.</b></div><div class=\"sk-container\" hidden><div class=\"sk-item sk-dashed-wrapped\"><div class=\"sk-label-container\"><div class=\"sk-label sk-toggleable\"><input class=\"sk-toggleable__control sk-hidden--visually\" id=\"sk-estimator-id-157\" type=\"checkbox\" ><label for=\"sk-estimator-id-157\" class=\"sk-toggleable__label sk-toggleable__label-arrow\">RandomizedSearchCV</label><div class=\"sk-toggleable__content\"><pre>RandomizedSearchCV(cv=StratifiedKFold(n_splits=3, random_state=1234, shuffle=True),\n",
       "                   estimator=Pipeline(steps=[(&#x27;preprocessing&#x27;,\n",
       "                                              ColumnTransformer(sparse_threshold=0,\n",
       "                                                                transformers=[(&#x27;num&#x27;,\n",
       "                                                                               Pipeline(steps=[(&#x27;imputer&#x27;,\n",
       "                                                                                                SimpleImputer(strategy=&#x27;median&#x27;))]),\n",
       "                                                                               [&#x27;account_length&#x27;,\n",
       "                                                                                &#x27;international_plan&#x27;,\n",
       "                                                                                &#x27;voice_mail_plan&#x27;,\n",
       "                                                                                &#x27;number_vmail_messages&#x27;,\n",
       "                                                                                &#x27;total_day_minutes&#x27;,\n",
       "                                                                                &#x27;tot...\n",
       "                   param_distributions={&#x27;model__learning_rate&#x27;: &lt;scipy.stats._distn_infrastructure.rv_continuous_frozen object at 0x00000252B0583280&gt;,\n",
       "                                        &#x27;model__max_iter&#x27;: &lt;scipy.stats._distn_infrastructure.rv_discrete_frozen object at 0x00000252B0167CA0&gt;,\n",
       "                                        &#x27;model__min_samples_leaf&#x27;: &lt;scipy.stats._distn_infrastructure.rv_discrete_frozen object at 0x00000252B0583EB0&gt;},\n",
       "                   random_state=1234, scoring=&#x27;balanced_accuracy&#x27;)</pre></div></div></div><div class=\"sk-parallel\"><div class=\"sk-parallel-item\"><div class=\"sk-item\"><div class=\"sk-label-container\"><div class=\"sk-label sk-toggleable\"><input class=\"sk-toggleable__control sk-hidden--visually\" id=\"sk-estimator-id-158\" type=\"checkbox\" ><label for=\"sk-estimator-id-158\" class=\"sk-toggleable__label sk-toggleable__label-arrow\">estimator: Pipeline</label><div class=\"sk-toggleable__content\"><pre>Pipeline(steps=[(&#x27;preprocessing&#x27;,\n",
       "                 ColumnTransformer(sparse_threshold=0,\n",
       "                                   transformers=[(&#x27;num&#x27;,\n",
       "                                                  Pipeline(steps=[(&#x27;imputer&#x27;,\n",
       "                                                                   SimpleImputer(strategy=&#x27;median&#x27;))]),\n",
       "                                                  [&#x27;account_length&#x27;,\n",
       "                                                   &#x27;international_plan&#x27;,\n",
       "                                                   &#x27;voice_mail_plan&#x27;,\n",
       "                                                   &#x27;number_vmail_messages&#x27;,\n",
       "                                                   &#x27;total_day_minutes&#x27;,\n",
       "                                                   &#x27;total_day_calls&#x27;,\n",
       "                                                   &#x27;total_day_charge&#x27;,\n",
       "                                                   &#x27;total_eve_minutes&#x27;,\n",
       "                                                   &#x27;total_eve_calls&#x27;,\n",
       "                                                   &#x27;total_eve_charge&#x27;,\n",
       "                                                   &#x27;...\n",
       "                                                   &#x27;total_intl_calls&#x27;,\n",
       "                                                   &#x27;total_intl_charge&#x27;]),\n",
       "                                                 (&#x27;cat&#x27;,\n",
       "                                                  Pipeline(steps=[(&#x27;imputer&#x27;,\n",
       "                                                                   SimpleImputer(strategy=&#x27;most_frequent&#x27;)),\n",
       "                                                                  (&#x27;encoder&#x27;,\n",
       "                                                                   TargetEncoder())]),\n",
       "                                                  [&#x27;state&#x27;, &#x27;area_code&#x27;,\n",
       "                                                   &#x27;number_customer_service_calls&#x27;])])),\n",
       "                (&#x27;model&#x27;,\n",
       "                 HistGradientBoostingClassifier(class_weight=&#x27;balanced&#x27;,\n",
       "                                                early_stopping=False,\n",
       "                                                min_samples_leaf=30,\n",
       "                                                random_state=1234,\n",
       "                                                scoring=&#x27;balanced_accuracy&#x27;))])</pre></div></div></div><div class=\"sk-serial\"><div class=\"sk-item\"><div class=\"sk-serial\"><div class=\"sk-item sk-dashed-wrapped\"><div class=\"sk-label-container\"><div class=\"sk-label sk-toggleable\"><input class=\"sk-toggleable__control sk-hidden--visually\" id=\"sk-estimator-id-159\" type=\"checkbox\" ><label for=\"sk-estimator-id-159\" class=\"sk-toggleable__label sk-toggleable__label-arrow\">preprocessing: ColumnTransformer</label><div class=\"sk-toggleable__content\"><pre>ColumnTransformer(sparse_threshold=0,\n",
       "                  transformers=[(&#x27;num&#x27;,\n",
       "                                 Pipeline(steps=[(&#x27;imputer&#x27;,\n",
       "                                                  SimpleImputer(strategy=&#x27;median&#x27;))]),\n",
       "                                 [&#x27;account_length&#x27;, &#x27;international_plan&#x27;,\n",
       "                                  &#x27;voice_mail_plan&#x27;, &#x27;number_vmail_messages&#x27;,\n",
       "                                  &#x27;total_day_minutes&#x27;, &#x27;total_day_calls&#x27;,\n",
       "                                  &#x27;total_day_charge&#x27;, &#x27;total_eve_minutes&#x27;,\n",
       "                                  &#x27;total_eve_calls&#x27;, &#x27;total_eve_charge&#x27;,\n",
       "                                  &#x27;total_night_minutes&#x27;, &#x27;total_night_calls&#x27;,\n",
       "                                  &#x27;total_night_charge&#x27;, &#x27;total_intl_minutes&#x27;,\n",
       "                                  &#x27;total_intl_calls&#x27;, &#x27;total_intl_charge&#x27;]),\n",
       "                                (&#x27;cat&#x27;,\n",
       "                                 Pipeline(steps=[(&#x27;imputer&#x27;,\n",
       "                                                  SimpleImputer(strategy=&#x27;most_frequent&#x27;)),\n",
       "                                                 (&#x27;encoder&#x27;, TargetEncoder())]),\n",
       "                                 [&#x27;state&#x27;, &#x27;area_code&#x27;,\n",
       "                                  &#x27;number_customer_service_calls&#x27;])])</pre></div></div></div><div class=\"sk-parallel\"><div class=\"sk-parallel-item\"><div class=\"sk-item\"><div class=\"sk-label-container\"><div class=\"sk-label sk-toggleable\"><input class=\"sk-toggleable__control sk-hidden--visually\" id=\"sk-estimator-id-160\" type=\"checkbox\" ><label for=\"sk-estimator-id-160\" class=\"sk-toggleable__label sk-toggleable__label-arrow\">num</label><div class=\"sk-toggleable__content\"><pre>[&#x27;account_length&#x27;, &#x27;international_plan&#x27;, &#x27;voice_mail_plan&#x27;, &#x27;number_vmail_messages&#x27;, &#x27;total_day_minutes&#x27;, &#x27;total_day_calls&#x27;, &#x27;total_day_charge&#x27;, &#x27;total_eve_minutes&#x27;, &#x27;total_eve_calls&#x27;, &#x27;total_eve_charge&#x27;, &#x27;total_night_minutes&#x27;, &#x27;total_night_calls&#x27;, &#x27;total_night_charge&#x27;, &#x27;total_intl_minutes&#x27;, &#x27;total_intl_calls&#x27;, &#x27;total_intl_charge&#x27;]</pre></div></div></div><div class=\"sk-serial\"><div class=\"sk-item\"><div class=\"sk-serial\"><div class=\"sk-item\"><div class=\"sk-estimator sk-toggleable\"><input class=\"sk-toggleable__control sk-hidden--visually\" id=\"sk-estimator-id-161\" type=\"checkbox\" ><label for=\"sk-estimator-id-161\" class=\"sk-toggleable__label sk-toggleable__label-arrow\">SimpleImputer</label><div class=\"sk-toggleable__content\"><pre>SimpleImputer(strategy=&#x27;median&#x27;)</pre></div></div></div></div></div></div></div></div><div class=\"sk-parallel-item\"><div class=\"sk-item\"><div class=\"sk-label-container\"><div class=\"sk-label sk-toggleable\"><input class=\"sk-toggleable__control sk-hidden--visually\" id=\"sk-estimator-id-162\" type=\"checkbox\" ><label for=\"sk-estimator-id-162\" class=\"sk-toggleable__label sk-toggleable__label-arrow\">cat</label><div class=\"sk-toggleable__content\"><pre>[&#x27;state&#x27;, &#x27;area_code&#x27;, &#x27;number_customer_service_calls&#x27;]</pre></div></div></div><div class=\"sk-serial\"><div class=\"sk-item\"><div class=\"sk-serial\"><div class=\"sk-item\"><div class=\"sk-estimator sk-toggleable\"><input class=\"sk-toggleable__control sk-hidden--visually\" id=\"sk-estimator-id-163\" type=\"checkbox\" ><label for=\"sk-estimator-id-163\" class=\"sk-toggleable__label sk-toggleable__label-arrow\">SimpleImputer</label><div class=\"sk-toggleable__content\"><pre>SimpleImputer(strategy=&#x27;most_frequent&#x27;)</pre></div></div></div><div class=\"sk-item\"><div class=\"sk-estimator sk-toggleable\"><input class=\"sk-toggleable__control sk-hidden--visually\" id=\"sk-estimator-id-164\" type=\"checkbox\" ><label for=\"sk-estimator-id-164\" class=\"sk-toggleable__label sk-toggleable__label-arrow\">TargetEncoder</label><div class=\"sk-toggleable__content\"><pre>TargetEncoder()</pre></div></div></div></div></div></div></div></div></div></div><div class=\"sk-item\"><div class=\"sk-estimator sk-toggleable\"><input class=\"sk-toggleable__control sk-hidden--visually\" id=\"sk-estimator-id-165\" type=\"checkbox\" ><label for=\"sk-estimator-id-165\" class=\"sk-toggleable__label sk-toggleable__label-arrow\">HistGradientBoostingClassifier</label><div class=\"sk-toggleable__content\"><pre>HistGradientBoostingClassifier(class_weight=&#x27;balanced&#x27;, early_stopping=False,\n",
       "                               min_samples_leaf=30, random_state=1234,\n",
       "                               scoring=&#x27;balanced_accuracy&#x27;)</pre></div></div></div></div></div></div></div></div></div></div></div></div>"
      ],
      "text/plain": [
       "RandomizedSearchCV(cv=StratifiedKFold(n_splits=3, random_state=1234, shuffle=True),\n",
       "                   estimator=Pipeline(steps=[('preprocessing',\n",
       "                                              ColumnTransformer(sparse_threshold=0,\n",
       "                                                                transformers=[('num',\n",
       "                                                                               Pipeline(steps=[('imputer',\n",
       "                                                                                                SimpleImputer(strategy='median'))]),\n",
       "                                                                               ['account_length',\n",
       "                                                                                'international_plan',\n",
       "                                                                                'voice_mail_plan',\n",
       "                                                                                'number_vmail_messages',\n",
       "                                                                                'total_day_minutes',\n",
       "                                                                                'tot...\n",
       "                   param_distributions={'model__learning_rate': <scipy.stats._distn_infrastructure.rv_continuous_frozen object at 0x00000252B0583280>,\n",
       "                                        'model__max_iter': <scipy.stats._distn_infrastructure.rv_discrete_frozen object at 0x00000252B0167CA0>,\n",
       "                                        'model__min_samples_leaf': <scipy.stats._distn_infrastructure.rv_discrete_frozen object at 0x00000252B0583EB0>},\n",
       "                   random_state=1234, scoring='balanced_accuracy')"
      ]
     },
     "execution_count": 99,
     "metadata": {},
     "output_type": "execute_result"
    }
   ],
   "source": [
    "# Display pipeline\n",
    "print(\"Time taken: \", target_hgb_tune_time_taken)\n",
    "target_hgb_tune"
   ]
  },
  {
   "cell_type": "code",
   "execution_count": 100,
   "id": "f310e635",
   "metadata": {
    "scrolled": true
   },
   "outputs": [],
   "source": [
    "tic = time.time() \n",
    "\n",
    "target_hgb_tune9 = target_hgb_tune9.fit(X_train, y_train)\n",
    "\n",
    "toc = time.time()\n",
    "target_hgb_tune9_time_taken = toc-tic"
   ]
  },
  {
   "cell_type": "code",
   "execution_count": 101,
   "metadata": {},
   "outputs": [
    {
     "name": "stdout",
     "output_type": "stream",
     "text": [
      "Time taken:  20.743098258972168\n"
     ]
    },
    {
     "data": {
      "text/html": [
       "<style>#sk-container-id-18 {color: black;}#sk-container-id-18 pre{padding: 0;}#sk-container-id-18 div.sk-toggleable {background-color: white;}#sk-container-id-18 label.sk-toggleable__label {cursor: pointer;display: block;width: 100%;margin-bottom: 0;padding: 0.3em;box-sizing: border-box;text-align: center;}#sk-container-id-18 label.sk-toggleable__label-arrow:before {content: \"▸\";float: left;margin-right: 0.25em;color: #696969;}#sk-container-id-18 label.sk-toggleable__label-arrow:hover:before {color: black;}#sk-container-id-18 div.sk-estimator:hover label.sk-toggleable__label-arrow:before {color: black;}#sk-container-id-18 div.sk-toggleable__content {max-height: 0;max-width: 0;overflow: hidden;text-align: left;background-color: #f0f8ff;}#sk-container-id-18 div.sk-toggleable__content pre {margin: 0.2em;color: black;border-radius: 0.25em;background-color: #f0f8ff;}#sk-container-id-18 input.sk-toggleable__control:checked~div.sk-toggleable__content {max-height: 200px;max-width: 100%;overflow: auto;}#sk-container-id-18 input.sk-toggleable__control:checked~label.sk-toggleable__label-arrow:before {content: \"▾\";}#sk-container-id-18 div.sk-estimator input.sk-toggleable__control:checked~label.sk-toggleable__label {background-color: #d4ebff;}#sk-container-id-18 div.sk-label input.sk-toggleable__control:checked~label.sk-toggleable__label {background-color: #d4ebff;}#sk-container-id-18 input.sk-hidden--visually {border: 0;clip: rect(1px 1px 1px 1px);clip: rect(1px, 1px, 1px, 1px);height: 1px;margin: -1px;overflow: hidden;padding: 0;position: absolute;width: 1px;}#sk-container-id-18 div.sk-estimator {font-family: monospace;background-color: #f0f8ff;border: 1px dotted black;border-radius: 0.25em;box-sizing: border-box;margin-bottom: 0.5em;}#sk-container-id-18 div.sk-estimator:hover {background-color: #d4ebff;}#sk-container-id-18 div.sk-parallel-item::after {content: \"\";width: 100%;border-bottom: 1px solid gray;flex-grow: 1;}#sk-container-id-18 div.sk-label:hover label.sk-toggleable__label {background-color: #d4ebff;}#sk-container-id-18 div.sk-serial::before {content: \"\";position: absolute;border-left: 1px solid gray;box-sizing: border-box;top: 0;bottom: 0;left: 50%;z-index: 0;}#sk-container-id-18 div.sk-serial {display: flex;flex-direction: column;align-items: center;background-color: white;padding-right: 0.2em;padding-left: 0.2em;position: relative;}#sk-container-id-18 div.sk-item {position: relative;z-index: 1;}#sk-container-id-18 div.sk-parallel {display: flex;align-items: stretch;justify-content: center;background-color: white;position: relative;}#sk-container-id-18 div.sk-item::before, #sk-container-id-18 div.sk-parallel-item::before {content: \"\";position: absolute;border-left: 1px solid gray;box-sizing: border-box;top: 0;bottom: 0;left: 50%;z-index: -1;}#sk-container-id-18 div.sk-parallel-item {display: flex;flex-direction: column;z-index: 1;position: relative;background-color: white;}#sk-container-id-18 div.sk-parallel-item:first-child::after {align-self: flex-end;width: 50%;}#sk-container-id-18 div.sk-parallel-item:last-child::after {align-self: flex-start;width: 50%;}#sk-container-id-18 div.sk-parallel-item:only-child::after {width: 0;}#sk-container-id-18 div.sk-dashed-wrapped {border: 1px dashed gray;margin: 0 0.4em 0.5em 0.4em;box-sizing: border-box;padding-bottom: 0.4em;background-color: white;}#sk-container-id-18 div.sk-label label {font-family: monospace;font-weight: bold;display: inline-block;line-height: 1.2em;}#sk-container-id-18 div.sk-label-container {text-align: center;}#sk-container-id-18 div.sk-container {/* jupyter's `normalize.less` sets `[hidden] { display: none; }` but bootstrap.min.css set `[hidden] { display: none !important; }` so we also need the `!important` here to be able to override the default hidden behavior on the sphinx rendered scikit-learn.org. See: https://github.com/scikit-learn/scikit-learn/issues/21755 */display: inline-block !important;position: relative;}#sk-container-id-18 div.sk-text-repr-fallback {display: none;}</style><div id=\"sk-container-id-18\" class=\"sk-top-container\"><div class=\"sk-text-repr-fallback\"><pre>RandomizedSearchCV(cv=StratifiedKFold(n_splits=3, random_state=1234, shuffle=True),\n",
       "                   estimator=Pipeline(steps=[(&#x27;preprocessing&#x27;,\n",
       "                                              ColumnTransformer(sparse_threshold=0,\n",
       "                                                                transformers=[(&#x27;num&#x27;,\n",
       "                                                                               Pipeline(steps=[(&#x27;imputer&#x27;,\n",
       "                                                                                                SimpleImputer(strategy=&#x27;median&#x27;))]),\n",
       "                                                                               [&#x27;account_length&#x27;,\n",
       "                                                                                &#x27;international_plan&#x27;,\n",
       "                                                                                &#x27;voice_mail_plan&#x27;,\n",
       "                                                                                &#x27;number_vmail_messages&#x27;,\n",
       "                                                                                &#x27;total_day_minutes&#x27;,\n",
       "                                                                                &#x27;tot...\n",
       "                   param_distributions={&#x27;model__learning_rate&#x27;: &lt;scipy.stats._distn_infrastructure.rv_continuous_frozen object at 0x00000252B0583280&gt;,\n",
       "                                        &#x27;model__max_iter&#x27;: &lt;scipy.stats._distn_infrastructure.rv_discrete_frozen object at 0x00000252B0167CA0&gt;,\n",
       "                                        &#x27;model__min_samples_leaf&#x27;: &lt;scipy.stats._distn_infrastructure.rv_discrete_frozen object at 0x00000252B0583EB0&gt;},\n",
       "                   random_state=1234, scoring=&#x27;balanced_accuracy&#x27;)</pre><b>In a Jupyter environment, please rerun this cell to show the HTML representation or trust the notebook. <br />On GitHub, the HTML representation is unable to render, please try loading this page with nbviewer.org.</b></div><div class=\"sk-container\" hidden><div class=\"sk-item sk-dashed-wrapped\"><div class=\"sk-label-container\"><div class=\"sk-label sk-toggleable\"><input class=\"sk-toggleable__control sk-hidden--visually\" id=\"sk-estimator-id-166\" type=\"checkbox\" ><label for=\"sk-estimator-id-166\" class=\"sk-toggleable__label sk-toggleable__label-arrow\">RandomizedSearchCV</label><div class=\"sk-toggleable__content\"><pre>RandomizedSearchCV(cv=StratifiedKFold(n_splits=3, random_state=1234, shuffle=True),\n",
       "                   estimator=Pipeline(steps=[(&#x27;preprocessing&#x27;,\n",
       "                                              ColumnTransformer(sparse_threshold=0,\n",
       "                                                                transformers=[(&#x27;num&#x27;,\n",
       "                                                                               Pipeline(steps=[(&#x27;imputer&#x27;,\n",
       "                                                                                                SimpleImputer(strategy=&#x27;median&#x27;))]),\n",
       "                                                                               [&#x27;account_length&#x27;,\n",
       "                                                                                &#x27;international_plan&#x27;,\n",
       "                                                                                &#x27;voice_mail_plan&#x27;,\n",
       "                                                                                &#x27;number_vmail_messages&#x27;,\n",
       "                                                                                &#x27;total_day_minutes&#x27;,\n",
       "                                                                                &#x27;tot...\n",
       "                   param_distributions={&#x27;model__learning_rate&#x27;: &lt;scipy.stats._distn_infrastructure.rv_continuous_frozen object at 0x00000252B0583280&gt;,\n",
       "                                        &#x27;model__max_iter&#x27;: &lt;scipy.stats._distn_infrastructure.rv_discrete_frozen object at 0x00000252B0167CA0&gt;,\n",
       "                                        &#x27;model__min_samples_leaf&#x27;: &lt;scipy.stats._distn_infrastructure.rv_discrete_frozen object at 0x00000252B0583EB0&gt;},\n",
       "                   random_state=1234, scoring=&#x27;balanced_accuracy&#x27;)</pre></div></div></div><div class=\"sk-parallel\"><div class=\"sk-parallel-item\"><div class=\"sk-item\"><div class=\"sk-label-container\"><div class=\"sk-label sk-toggleable\"><input class=\"sk-toggleable__control sk-hidden--visually\" id=\"sk-estimator-id-167\" type=\"checkbox\" ><label for=\"sk-estimator-id-167\" class=\"sk-toggleable__label sk-toggleable__label-arrow\">estimator: Pipeline</label><div class=\"sk-toggleable__content\"><pre>Pipeline(steps=[(&#x27;preprocessing&#x27;,\n",
       "                 ColumnTransformer(sparse_threshold=0,\n",
       "                                   transformers=[(&#x27;num&#x27;,\n",
       "                                                  Pipeline(steps=[(&#x27;imputer&#x27;,\n",
       "                                                                   SimpleImputer(strategy=&#x27;median&#x27;))]),\n",
       "                                                  [&#x27;account_length&#x27;,\n",
       "                                                   &#x27;international_plan&#x27;,\n",
       "                                                   &#x27;voice_mail_plan&#x27;,\n",
       "                                                   &#x27;number_vmail_messages&#x27;,\n",
       "                                                   &#x27;total_day_minutes&#x27;,\n",
       "                                                   &#x27;total_day_calls&#x27;,\n",
       "                                                   &#x27;total_day_charge&#x27;,\n",
       "                                                   &#x27;total_eve_minutes&#x27;,\n",
       "                                                   &#x27;total_eve_calls&#x27;,\n",
       "                                                   &#x27;total_eve_charge&#x27;,\n",
       "                                                   &#x27;...\n",
       "                                                                                 handle_unknown=&#x27;ignore&#x27;))]),\n",
       "                                                  [&#x27;area_code&#x27;]),\n",
       "                                                 (&#x27;target_encoding&#x27;,\n",
       "                                                  Pipeline(steps=[(&#x27;imputer&#x27;,\n",
       "                                                                   SimpleImputer(strategy=&#x27;most_frequent&#x27;)),\n",
       "                                                                  (&#x27;encoder&#x27;,\n",
       "                                                                   TargetEncoder())]),\n",
       "                                                  [&#x27;state&#x27;,\n",
       "                                                   &#x27;number_customer_service_calls&#x27;])])),\n",
       "                (&#x27;model&#x27;,\n",
       "                 HistGradientBoostingClassifier(class_weight=&#x27;balanced&#x27;,\n",
       "                                                early_stopping=False,\n",
       "                                                min_samples_leaf=30,\n",
       "                                                random_state=1234,\n",
       "                                                scoring=&#x27;balanced_accuracy&#x27;))])</pre></div></div></div><div class=\"sk-serial\"><div class=\"sk-item\"><div class=\"sk-serial\"><div class=\"sk-item sk-dashed-wrapped\"><div class=\"sk-label-container\"><div class=\"sk-label sk-toggleable\"><input class=\"sk-toggleable__control sk-hidden--visually\" id=\"sk-estimator-id-168\" type=\"checkbox\" ><label for=\"sk-estimator-id-168\" class=\"sk-toggleable__label sk-toggleable__label-arrow\">preprocessing: ColumnTransformer</label><div class=\"sk-toggleable__content\"><pre>ColumnTransformer(sparse_threshold=0,\n",
       "                  transformers=[(&#x27;num&#x27;,\n",
       "                                 Pipeline(steps=[(&#x27;imputer&#x27;,\n",
       "                                                  SimpleImputer(strategy=&#x27;median&#x27;))]),\n",
       "                                 [&#x27;account_length&#x27;, &#x27;international_plan&#x27;,\n",
       "                                  &#x27;voice_mail_plan&#x27;, &#x27;number_vmail_messages&#x27;,\n",
       "                                  &#x27;total_day_minutes&#x27;, &#x27;total_day_calls&#x27;,\n",
       "                                  &#x27;total_day_charge&#x27;, &#x27;total_eve_minutes&#x27;,\n",
       "                                  &#x27;total_eve_calls&#x27;, &#x27;total_eve_charge&#x27;,\n",
       "                                  &#x27;total_night_minutes&#x27;, &#x27;total_night...\n",
       "                                  &#x27;total_intl_calls&#x27;, &#x27;total_intl_charge&#x27;]),\n",
       "                                (&#x27;one_hot_encoding&#x27;,\n",
       "                                 Pipeline(steps=[(&#x27;imputer&#x27;,\n",
       "                                                  SimpleImputer(strategy=&#x27;most_frequent&#x27;)),\n",
       "                                                 (&#x27;encoder&#x27;,\n",
       "                                                  OneHotEncoder(drop=&#x27;first&#x27;,\n",
       "                                                                handle_unknown=&#x27;ignore&#x27;))]),\n",
       "                                 [&#x27;area_code&#x27;]),\n",
       "                                (&#x27;target_encoding&#x27;,\n",
       "                                 Pipeline(steps=[(&#x27;imputer&#x27;,\n",
       "                                                  SimpleImputer(strategy=&#x27;most_frequent&#x27;)),\n",
       "                                                 (&#x27;encoder&#x27;, TargetEncoder())]),\n",
       "                                 [&#x27;state&#x27;, &#x27;number_customer_service_calls&#x27;])])</pre></div></div></div><div class=\"sk-parallel\"><div class=\"sk-parallel-item\"><div class=\"sk-item\"><div class=\"sk-label-container\"><div class=\"sk-label sk-toggleable\"><input class=\"sk-toggleable__control sk-hidden--visually\" id=\"sk-estimator-id-169\" type=\"checkbox\" ><label for=\"sk-estimator-id-169\" class=\"sk-toggleable__label sk-toggleable__label-arrow\">num</label><div class=\"sk-toggleable__content\"><pre>[&#x27;account_length&#x27;, &#x27;international_plan&#x27;, &#x27;voice_mail_plan&#x27;, &#x27;number_vmail_messages&#x27;, &#x27;total_day_minutes&#x27;, &#x27;total_day_calls&#x27;, &#x27;total_day_charge&#x27;, &#x27;total_eve_minutes&#x27;, &#x27;total_eve_calls&#x27;, &#x27;total_eve_charge&#x27;, &#x27;total_night_minutes&#x27;, &#x27;total_night_calls&#x27;, &#x27;total_night_charge&#x27;, &#x27;total_intl_minutes&#x27;, &#x27;total_intl_calls&#x27;, &#x27;total_intl_charge&#x27;]</pre></div></div></div><div class=\"sk-serial\"><div class=\"sk-item\"><div class=\"sk-serial\"><div class=\"sk-item\"><div class=\"sk-estimator sk-toggleable\"><input class=\"sk-toggleable__control sk-hidden--visually\" id=\"sk-estimator-id-170\" type=\"checkbox\" ><label for=\"sk-estimator-id-170\" class=\"sk-toggleable__label sk-toggleable__label-arrow\">SimpleImputer</label><div class=\"sk-toggleable__content\"><pre>SimpleImputer(strategy=&#x27;median&#x27;)</pre></div></div></div></div></div></div></div></div><div class=\"sk-parallel-item\"><div class=\"sk-item\"><div class=\"sk-label-container\"><div class=\"sk-label sk-toggleable\"><input class=\"sk-toggleable__control sk-hidden--visually\" id=\"sk-estimator-id-171\" type=\"checkbox\" ><label for=\"sk-estimator-id-171\" class=\"sk-toggleable__label sk-toggleable__label-arrow\">one_hot_encoding</label><div class=\"sk-toggleable__content\"><pre>[&#x27;area_code&#x27;]</pre></div></div></div><div class=\"sk-serial\"><div class=\"sk-item\"><div class=\"sk-serial\"><div class=\"sk-item\"><div class=\"sk-estimator sk-toggleable\"><input class=\"sk-toggleable__control sk-hidden--visually\" id=\"sk-estimator-id-172\" type=\"checkbox\" ><label for=\"sk-estimator-id-172\" class=\"sk-toggleable__label sk-toggleable__label-arrow\">SimpleImputer</label><div class=\"sk-toggleable__content\"><pre>SimpleImputer(strategy=&#x27;most_frequent&#x27;)</pre></div></div></div><div class=\"sk-item\"><div class=\"sk-estimator sk-toggleable\"><input class=\"sk-toggleable__control sk-hidden--visually\" id=\"sk-estimator-id-173\" type=\"checkbox\" ><label for=\"sk-estimator-id-173\" class=\"sk-toggleable__label sk-toggleable__label-arrow\">OneHotEncoder</label><div class=\"sk-toggleable__content\"><pre>OneHotEncoder(drop=&#x27;first&#x27;, handle_unknown=&#x27;ignore&#x27;)</pre></div></div></div></div></div></div></div></div><div class=\"sk-parallel-item\"><div class=\"sk-item\"><div class=\"sk-label-container\"><div class=\"sk-label sk-toggleable\"><input class=\"sk-toggleable__control sk-hidden--visually\" id=\"sk-estimator-id-174\" type=\"checkbox\" ><label for=\"sk-estimator-id-174\" class=\"sk-toggleable__label sk-toggleable__label-arrow\">target_encoding</label><div class=\"sk-toggleable__content\"><pre>[&#x27;state&#x27;, &#x27;number_customer_service_calls&#x27;]</pre></div></div></div><div class=\"sk-serial\"><div class=\"sk-item\"><div class=\"sk-serial\"><div class=\"sk-item\"><div class=\"sk-estimator sk-toggleable\"><input class=\"sk-toggleable__control sk-hidden--visually\" id=\"sk-estimator-id-175\" type=\"checkbox\" ><label for=\"sk-estimator-id-175\" class=\"sk-toggleable__label sk-toggleable__label-arrow\">SimpleImputer</label><div class=\"sk-toggleable__content\"><pre>SimpleImputer(strategy=&#x27;most_frequent&#x27;)</pre></div></div></div><div class=\"sk-item\"><div class=\"sk-estimator sk-toggleable\"><input class=\"sk-toggleable__control sk-hidden--visually\" id=\"sk-estimator-id-176\" type=\"checkbox\" ><label for=\"sk-estimator-id-176\" class=\"sk-toggleable__label sk-toggleable__label-arrow\">TargetEncoder</label><div class=\"sk-toggleable__content\"><pre>TargetEncoder()</pre></div></div></div></div></div></div></div></div></div></div><div class=\"sk-item\"><div class=\"sk-estimator sk-toggleable\"><input class=\"sk-toggleable__control sk-hidden--visually\" id=\"sk-estimator-id-177\" type=\"checkbox\" ><label for=\"sk-estimator-id-177\" class=\"sk-toggleable__label sk-toggleable__label-arrow\">HistGradientBoostingClassifier</label><div class=\"sk-toggleable__content\"><pre>HistGradientBoostingClassifier(class_weight=&#x27;balanced&#x27;, early_stopping=False,\n",
       "                               min_samples_leaf=30, random_state=1234,\n",
       "                               scoring=&#x27;balanced_accuracy&#x27;)</pre></div></div></div></div></div></div></div></div></div></div></div></div>"
      ],
      "text/plain": [
       "RandomizedSearchCV(cv=StratifiedKFold(n_splits=3, random_state=1234, shuffle=True),\n",
       "                   estimator=Pipeline(steps=[('preprocessing',\n",
       "                                              ColumnTransformer(sparse_threshold=0,\n",
       "                                                                transformers=[('num',\n",
       "                                                                               Pipeline(steps=[('imputer',\n",
       "                                                                                                SimpleImputer(strategy='median'))]),\n",
       "                                                                               ['account_length',\n",
       "                                                                                'international_plan',\n",
       "                                                                                'voice_mail_plan',\n",
       "                                                                                'number_vmail_messages',\n",
       "                                                                                'total_day_minutes',\n",
       "                                                                                'tot...\n",
       "                   param_distributions={'model__learning_rate': <scipy.stats._distn_infrastructure.rv_continuous_frozen object at 0x00000252B0583280>,\n",
       "                                        'model__max_iter': <scipy.stats._distn_infrastructure.rv_discrete_frozen object at 0x00000252B0167CA0>,\n",
       "                                        'model__min_samples_leaf': <scipy.stats._distn_infrastructure.rv_discrete_frozen object at 0x00000252B0583EB0>},\n",
       "                   random_state=1234, scoring='balanced_accuracy')"
      ]
     },
     "execution_count": 101,
     "metadata": {},
     "output_type": "execute_result"
    }
   ],
   "source": [
    "# Display pipeline\n",
    "print(\"Time taken: \", target_hgb_tune9_time_taken)\n",
    "target_hgb_tune9"
   ]
  },
  {
   "cell_type": "code",
   "execution_count": 102,
   "id": "a0a522f3",
   "metadata": {
    "scrolled": true
   },
   "outputs": [
    {
     "name": "stdout",
     "output_type": "stream",
     "text": [
      "Best parameters: {'model__learning_rate': 0.07469021889651874, 'model__max_iter': 73, 'model__min_samples_leaf': 27}\n",
      "Balanced accuracy with best parameters: 0.9029004031366514\n"
     ]
    }
   ],
   "source": [
    "# Predict using the model with the best parameters\n",
    "y_target_hgb_tune_pred = target_hgb_tune.predict(X_test)\n",
    "\n",
    "# Get the best parameters\n",
    "target_hgb_tune_best_params = target_hgb_tune.best_params_\n",
    "print(f'Best parameters: {target_hgb_tune_best_params}')\n",
    "\n",
    "# Calculate balanced accuracy for the model with the best parameters\n",
    "target_hgb_tune_accuracy = balanced_accuracy_score(y_test, y_target_hgb_tune_pred)\n",
    "print(f'Balanced accuracy with best parameters: {target_hgb_tune_accuracy}')\n",
    "\n",
    "# Save results\n",
    "default_summary.append(\"Tune\")\n",
    "card_9_summary.append(\"AllVariables\")\n",
    "encoder_summary.append(\"TargetEncoder\")\n",
    "value_summary.append(target_hgb_tune_accuracy)\n",
    "time_summary.append(target_hgb_tune_time_taken)\n",
    "n_models_summary.append(target_hgb_tune.n_iter)"
   ]
  },
  {
   "cell_type": "code",
   "execution_count": 103,
   "id": "2c354c7b",
   "metadata": {},
   "outputs": [
    {
     "name": "stdout",
     "output_type": "stream",
     "text": [
      "Best parameters: {'model__learning_rate': 0.07630670424747499, 'model__max_iter': 45, 'model__min_samples_leaf': 30}\n",
      "Balanced accuracy with best parameters: 0.909748577209301\n"
     ]
    }
   ],
   "source": [
    "# Predict using the model with the best parameters\n",
    "y_target_hgb_tune_pred9 = target_hgb_tune9.predict(X_test)\n",
    "\n",
    "# Get the best parameters\n",
    "target_hgb_tune_best_params9 = target_hgb_tune9.best_params_\n",
    "print(f'Best parameters: {target_hgb_tune_best_params9}')\n",
    "\n",
    "# Calculate balanced accuracy for the model with the best parameters\n",
    "target_hgb_tune_accuracy9 = balanced_accuracy_score(y_test, y_target_hgb_tune_pred9)\n",
    "print(f'Balanced accuracy with best parameters: {target_hgb_tune_accuracy9}')\n",
    "\n",
    "# Save results\n",
    "default_summary.append(\"Tune\")\n",
    "card_9_summary.append(\"OnlyVariablesWithCard>9\")\n",
    "encoder_summary.append(\"TargetEncoder\")\n",
    "value_summary.append(target_hgb_tune_accuracy9)\n",
    "time_summary.append(target_hgb_tune9_time_taken)\n",
    "n_models_summary.append(target_hgb_tune9.n_iter)"
   ]
  },
  {
   "cell_type": "markdown",
   "metadata": {},
   "source": []
  },
  {
   "cell_type": "markdown",
   "metadata": {},
   "source": []
  },
  {
   "cell_type": "markdown",
   "metadata": {},
   "source": [
    "### CatBoost"
   ]
  },
  {
   "cell_type": "code",
   "execution_count": 32,
   "metadata": {},
   "outputs": [],
   "source": [
    "from catboost import CatBoostClassifier"
   ]
  },
  {
   "cell_type": "markdown",
   "metadata": {},
   "source": [
    "#### Preprocessing"
   ]
  },
  {
   "cell_type": "code",
   "execution_count": 33,
   "metadata": {},
   "outputs": [],
   "source": [
    "cat_pipeline = Pipeline([\n",
    "    (\"imputer\", SimpleImputer(strategy = \"most_frequent\"))\n",
    "])\n",
    "\n",
    "preprop_pipeline = ColumnTransformer(\n",
    "    transformers = [(\"num\", num_pipeline, num_cols),\n",
    "                    (\"cat_less9\", cat_pipeline, cat_cols_less9),\n",
    "                    (\"cat_more9\", cat_pipeline, cat_cols_more9)],\n",
    "    sparse_threshold=0\n",
    ")"
   ]
  },
  {
   "cell_type": "code",
   "execution_count": 34,
   "metadata": {},
   "outputs": [
    {
     "name": "stdout",
     "output_type": "stream",
     "text": [
      "[16, 17, 18]\n",
      "[17, 18]\n"
     ]
    }
   ],
   "source": [
    "category_features_for_catboostsupport = [index for index in range(len(num_cols), len(num_cols) + len(cat_cols))]\n",
    "category_features_for_catboostsupport9 = [index for index in range(len(num_cols) + len(cat_cols_less9), len(num_cols) + len(cat_cols))]\n",
    "print(category_features_for_catboostsupport)\n",
    "print(category_features_for_catboostsupport9)"
   ]
  },
  {
   "cell_type": "markdown",
   "metadata": {},
   "source": []
  },
  {
   "cell_type": "markdown",
   "metadata": {},
   "source": [
    "Catboost allows to give a maximum value of unique categories for which a variable is encoded or not by One-Hot-Encoder."
   ]
  },
  {
   "cell_type": "code",
   "execution_count": 35,
   "metadata": {},
   "outputs": [],
   "source": [
    "# Create catboost models\n",
    "catboost_default_raw = CatBoostClassifier(iterations=100,\n",
    "                                          eval_metric = 'BalancedAccuracy',\n",
    "                                          loss_function = 'Logloss',\n",
    "                                          auto_class_weights = 'Balanced',\n",
    "                                          od_type='Iter',\n",
    "                                          one_hot_max_size = 0,\n",
    "                                          random_seed = 1234,\n",
    "                                          min_data_in_leaf = 30,\n",
    "                                          cat_features=category_features_for_catboostsupport,\n",
    "                                          verbose = False)\n",
    "\n",
    "catboost_default9_raw = CatBoostClassifier(iterations=100,\n",
    "                                           eval_metric = 'BalancedAccuracy',\n",
    "                                           loss_function = 'Logloss',\n",
    "                                           auto_class_weights = 'Balanced',\n",
    "                                           od_type='Iter',\n",
    "                                           one_hot_max_size = 9,\n",
    "                                           random_seed = 1234,\n",
    "                                           min_data_in_leaf = 30,\n",
    "                                           cat_features=category_features_for_catboostsupport9,\n",
    "                                           verbose = False)\n",
    "\n",
    "\n",
    "# Default CatBoostClassifier Pipeline\n",
    "catboost_default_pipeline = Pipeline([('preprocessing', preprop_pipeline),\n",
    "                                        ('model', catboost_default_raw)])\n",
    "\n",
    "catboost_default_pipeline9 = Pipeline([('preprocessing', preprop_pipeline),\n",
    "                                         ('model', catboost_default9_raw)])\n",
    "\n",
    "# Define the hyperparameter search space\n",
    "catboost_param_distributions = {\n",
    "    'model__iterations': scipy.stats.randint(10, 300),\n",
    "    'model__learning_rate': scipy.stats.uniform(0.01, 0.3),\n",
    "    'model__min_data_in_leaf': scipy.stats.randint(10, 50),\n",
    "}\n",
    "\n",
    "# Create a StratifiedKFold cross-validation instance\n",
    "stratified_kfold = StratifiedKFold(n_splits=3, shuffle=True, random_state=1234)\n",
    "\n",
    "catboost_tune_raw = RandomizedSearchCV(estimator = catboost_default_pipeline, \n",
    "                                   param_distributions = catboost_param_distributions, \n",
    "                                   n_iter = 100,\n",
    "                                   cv = stratified_kfold,\n",
    "                                   scoring = 'balanced_accuracy', \n",
    "                                   random_state = 1234,\n",
    "                                   n_jobs = -1)\n",
    "\n",
    "\n",
    "catboost_tune9_raw = RandomizedSearchCV(estimator = catboost_default_pipeline, \n",
    "                                        param_distributions = catboost_param_distributions, \n",
    "                                        n_iter = 100,\n",
    "                                        cv = stratified_kfold,\n",
    "                                        scoring = 'balanced_accuracy', \n",
    "                                        random_state = 1234,\n",
    "                                        n_jobs = -1)"
   ]
  },
  {
   "cell_type": "code",
   "execution_count": 36,
   "metadata": {},
   "outputs": [],
   "source": [
    "tic = time.time()\n",
    "\n",
    "catboost_default = catboost_default_pipeline.fit(X_train, y_train)\n",
    "\n",
    "toc = time.time()\n",
    "catboost_default_time_taken = toc-tic"
   ]
  },
  {
   "cell_type": "code",
   "execution_count": 37,
   "metadata": {},
   "outputs": [
    {
     "name": "stdout",
     "output_type": "stream",
     "text": [
      "Time taken:  2.9316344261169434\n"
     ]
    },
    {
     "data": {
      "text/html": [
       "<style>#sk-container-id-1 {color: black;}#sk-container-id-1 pre{padding: 0;}#sk-container-id-1 div.sk-toggleable {background-color: white;}#sk-container-id-1 label.sk-toggleable__label {cursor: pointer;display: block;width: 100%;margin-bottom: 0;padding: 0.3em;box-sizing: border-box;text-align: center;}#sk-container-id-1 label.sk-toggleable__label-arrow:before {content: \"▸\";float: left;margin-right: 0.25em;color: #696969;}#sk-container-id-1 label.sk-toggleable__label-arrow:hover:before {color: black;}#sk-container-id-1 div.sk-estimator:hover label.sk-toggleable__label-arrow:before {color: black;}#sk-container-id-1 div.sk-toggleable__content {max-height: 0;max-width: 0;overflow: hidden;text-align: left;background-color: #f0f8ff;}#sk-container-id-1 div.sk-toggleable__content pre {margin: 0.2em;color: black;border-radius: 0.25em;background-color: #f0f8ff;}#sk-container-id-1 input.sk-toggleable__control:checked~div.sk-toggleable__content {max-height: 200px;max-width: 100%;overflow: auto;}#sk-container-id-1 input.sk-toggleable__control:checked~label.sk-toggleable__label-arrow:before {content: \"▾\";}#sk-container-id-1 div.sk-estimator input.sk-toggleable__control:checked~label.sk-toggleable__label {background-color: #d4ebff;}#sk-container-id-1 div.sk-label input.sk-toggleable__control:checked~label.sk-toggleable__label {background-color: #d4ebff;}#sk-container-id-1 input.sk-hidden--visually {border: 0;clip: rect(1px 1px 1px 1px);clip: rect(1px, 1px, 1px, 1px);height: 1px;margin: -1px;overflow: hidden;padding: 0;position: absolute;width: 1px;}#sk-container-id-1 div.sk-estimator {font-family: monospace;background-color: #f0f8ff;border: 1px dotted black;border-radius: 0.25em;box-sizing: border-box;margin-bottom: 0.5em;}#sk-container-id-1 div.sk-estimator:hover {background-color: #d4ebff;}#sk-container-id-1 div.sk-parallel-item::after {content: \"\";width: 100%;border-bottom: 1px solid gray;flex-grow: 1;}#sk-container-id-1 div.sk-label:hover label.sk-toggleable__label {background-color: #d4ebff;}#sk-container-id-1 div.sk-serial::before {content: \"\";position: absolute;border-left: 1px solid gray;box-sizing: border-box;top: 0;bottom: 0;left: 50%;z-index: 0;}#sk-container-id-1 div.sk-serial {display: flex;flex-direction: column;align-items: center;background-color: white;padding-right: 0.2em;padding-left: 0.2em;position: relative;}#sk-container-id-1 div.sk-item {position: relative;z-index: 1;}#sk-container-id-1 div.sk-parallel {display: flex;align-items: stretch;justify-content: center;background-color: white;position: relative;}#sk-container-id-1 div.sk-item::before, #sk-container-id-1 div.sk-parallel-item::before {content: \"\";position: absolute;border-left: 1px solid gray;box-sizing: border-box;top: 0;bottom: 0;left: 50%;z-index: -1;}#sk-container-id-1 div.sk-parallel-item {display: flex;flex-direction: column;z-index: 1;position: relative;background-color: white;}#sk-container-id-1 div.sk-parallel-item:first-child::after {align-self: flex-end;width: 50%;}#sk-container-id-1 div.sk-parallel-item:last-child::after {align-self: flex-start;width: 50%;}#sk-container-id-1 div.sk-parallel-item:only-child::after {width: 0;}#sk-container-id-1 div.sk-dashed-wrapped {border: 1px dashed gray;margin: 0 0.4em 0.5em 0.4em;box-sizing: border-box;padding-bottom: 0.4em;background-color: white;}#sk-container-id-1 div.sk-label label {font-family: monospace;font-weight: bold;display: inline-block;line-height: 1.2em;}#sk-container-id-1 div.sk-label-container {text-align: center;}#sk-container-id-1 div.sk-container {/* jupyter's `normalize.less` sets `[hidden] { display: none; }` but bootstrap.min.css set `[hidden] { display: none !important; }` so we also need the `!important` here to be able to override the default hidden behavior on the sphinx rendered scikit-learn.org. See: https://github.com/scikit-learn/scikit-learn/issues/21755 */display: inline-block !important;position: relative;}#sk-container-id-1 div.sk-text-repr-fallback {display: none;}</style><div id=\"sk-container-id-1\" class=\"sk-top-container\"><div class=\"sk-text-repr-fallback\"><pre>Pipeline(steps=[(&#x27;preprocessing&#x27;,\n",
       "                 ColumnTransformer(sparse_threshold=0,\n",
       "                                   transformers=[(&#x27;num&#x27;,\n",
       "                                                  Pipeline(steps=[(&#x27;imputer&#x27;,\n",
       "                                                                   SimpleImputer(strategy=&#x27;median&#x27;))]),\n",
       "                                                  [&#x27;account_length&#x27;,\n",
       "                                                   &#x27;international_plan&#x27;,\n",
       "                                                   &#x27;voice_mail_plan&#x27;,\n",
       "                                                   &#x27;number_vmail_messages&#x27;,\n",
       "                                                   &#x27;total_day_minutes&#x27;,\n",
       "                                                   &#x27;total_day_calls&#x27;,\n",
       "                                                   &#x27;total_day_charge&#x27;,\n",
       "                                                   &#x27;total_eve_minutes&#x27;,\n",
       "                                                   &#x27;total_eve_calls&#x27;,\n",
       "                                                   &#x27;total_eve_charge&#x27;,\n",
       "                                                   &#x27;...\n",
       "                                                   &#x27;total_intl_minutes&#x27;,\n",
       "                                                   &#x27;total_intl_calls&#x27;,\n",
       "                                                   &#x27;total_intl_charge&#x27;]),\n",
       "                                                 (&#x27;cat_less9&#x27;,\n",
       "                                                  Pipeline(steps=[(&#x27;imputer&#x27;,\n",
       "                                                                   SimpleImputer(strategy=&#x27;most_frequent&#x27;))]),\n",
       "                                                  [&#x27;area_code&#x27;]),\n",
       "                                                 (&#x27;cat_more9&#x27;,\n",
       "                                                  Pipeline(steps=[(&#x27;imputer&#x27;,\n",
       "                                                                   SimpleImputer(strategy=&#x27;most_frequent&#x27;))]),\n",
       "                                                  [&#x27;state&#x27;,\n",
       "                                                   &#x27;number_customer_service_calls&#x27;])])),\n",
       "                (&#x27;model&#x27;,\n",
       "                 &lt;catboost.core.CatBoostClassifier object at 0x0000012ABD48E410&gt;)])</pre><b>In a Jupyter environment, please rerun this cell to show the HTML representation or trust the notebook. <br />On GitHub, the HTML representation is unable to render, please try loading this page with nbviewer.org.</b></div><div class=\"sk-container\" hidden><div class=\"sk-item sk-dashed-wrapped\"><div class=\"sk-label-container\"><div class=\"sk-label sk-toggleable\"><input class=\"sk-toggleable__control sk-hidden--visually\" id=\"sk-estimator-id-1\" type=\"checkbox\" ><label for=\"sk-estimator-id-1\" class=\"sk-toggleable__label sk-toggleable__label-arrow\">Pipeline</label><div class=\"sk-toggleable__content\"><pre>Pipeline(steps=[(&#x27;preprocessing&#x27;,\n",
       "                 ColumnTransformer(sparse_threshold=0,\n",
       "                                   transformers=[(&#x27;num&#x27;,\n",
       "                                                  Pipeline(steps=[(&#x27;imputer&#x27;,\n",
       "                                                                   SimpleImputer(strategy=&#x27;median&#x27;))]),\n",
       "                                                  [&#x27;account_length&#x27;,\n",
       "                                                   &#x27;international_plan&#x27;,\n",
       "                                                   &#x27;voice_mail_plan&#x27;,\n",
       "                                                   &#x27;number_vmail_messages&#x27;,\n",
       "                                                   &#x27;total_day_minutes&#x27;,\n",
       "                                                   &#x27;total_day_calls&#x27;,\n",
       "                                                   &#x27;total_day_charge&#x27;,\n",
       "                                                   &#x27;total_eve_minutes&#x27;,\n",
       "                                                   &#x27;total_eve_calls&#x27;,\n",
       "                                                   &#x27;total_eve_charge&#x27;,\n",
       "                                                   &#x27;...\n",
       "                                                   &#x27;total_intl_minutes&#x27;,\n",
       "                                                   &#x27;total_intl_calls&#x27;,\n",
       "                                                   &#x27;total_intl_charge&#x27;]),\n",
       "                                                 (&#x27;cat_less9&#x27;,\n",
       "                                                  Pipeline(steps=[(&#x27;imputer&#x27;,\n",
       "                                                                   SimpleImputer(strategy=&#x27;most_frequent&#x27;))]),\n",
       "                                                  [&#x27;area_code&#x27;]),\n",
       "                                                 (&#x27;cat_more9&#x27;,\n",
       "                                                  Pipeline(steps=[(&#x27;imputer&#x27;,\n",
       "                                                                   SimpleImputer(strategy=&#x27;most_frequent&#x27;))]),\n",
       "                                                  [&#x27;state&#x27;,\n",
       "                                                   &#x27;number_customer_service_calls&#x27;])])),\n",
       "                (&#x27;model&#x27;,\n",
       "                 &lt;catboost.core.CatBoostClassifier object at 0x0000012ABD48E410&gt;)])</pre></div></div></div><div class=\"sk-serial\"><div class=\"sk-item sk-dashed-wrapped\"><div class=\"sk-label-container\"><div class=\"sk-label sk-toggleable\"><input class=\"sk-toggleable__control sk-hidden--visually\" id=\"sk-estimator-id-2\" type=\"checkbox\" ><label for=\"sk-estimator-id-2\" class=\"sk-toggleable__label sk-toggleable__label-arrow\">preprocessing: ColumnTransformer</label><div class=\"sk-toggleable__content\"><pre>ColumnTransformer(sparse_threshold=0,\n",
       "                  transformers=[(&#x27;num&#x27;,\n",
       "                                 Pipeline(steps=[(&#x27;imputer&#x27;,\n",
       "                                                  SimpleImputer(strategy=&#x27;median&#x27;))]),\n",
       "                                 [&#x27;account_length&#x27;, &#x27;international_plan&#x27;,\n",
       "                                  &#x27;voice_mail_plan&#x27;, &#x27;number_vmail_messages&#x27;,\n",
       "                                  &#x27;total_day_minutes&#x27;, &#x27;total_day_calls&#x27;,\n",
       "                                  &#x27;total_day_charge&#x27;, &#x27;total_eve_minutes&#x27;,\n",
       "                                  &#x27;total_eve_calls&#x27;, &#x27;total_eve_charge&#x27;,\n",
       "                                  &#x27;total_night_minutes&#x27;, &#x27;total_night_calls&#x27;,\n",
       "                                  &#x27;total_night_charge&#x27;, &#x27;total_intl_minutes&#x27;,\n",
       "                                  &#x27;total_intl_calls&#x27;, &#x27;total_intl_charge&#x27;]),\n",
       "                                (&#x27;cat_less9&#x27;,\n",
       "                                 Pipeline(steps=[(&#x27;imputer&#x27;,\n",
       "                                                  SimpleImputer(strategy=&#x27;most_frequent&#x27;))]),\n",
       "                                 [&#x27;area_code&#x27;]),\n",
       "                                (&#x27;cat_more9&#x27;,\n",
       "                                 Pipeline(steps=[(&#x27;imputer&#x27;,\n",
       "                                                  SimpleImputer(strategy=&#x27;most_frequent&#x27;))]),\n",
       "                                 [&#x27;state&#x27;, &#x27;number_customer_service_calls&#x27;])])</pre></div></div></div><div class=\"sk-parallel\"><div class=\"sk-parallel-item\"><div class=\"sk-item\"><div class=\"sk-label-container\"><div class=\"sk-label sk-toggleable\"><input class=\"sk-toggleable__control sk-hidden--visually\" id=\"sk-estimator-id-3\" type=\"checkbox\" ><label for=\"sk-estimator-id-3\" class=\"sk-toggleable__label sk-toggleable__label-arrow\">num</label><div class=\"sk-toggleable__content\"><pre>[&#x27;account_length&#x27;, &#x27;international_plan&#x27;, &#x27;voice_mail_plan&#x27;, &#x27;number_vmail_messages&#x27;, &#x27;total_day_minutes&#x27;, &#x27;total_day_calls&#x27;, &#x27;total_day_charge&#x27;, &#x27;total_eve_minutes&#x27;, &#x27;total_eve_calls&#x27;, &#x27;total_eve_charge&#x27;, &#x27;total_night_minutes&#x27;, &#x27;total_night_calls&#x27;, &#x27;total_night_charge&#x27;, &#x27;total_intl_minutes&#x27;, &#x27;total_intl_calls&#x27;, &#x27;total_intl_charge&#x27;]</pre></div></div></div><div class=\"sk-serial\"><div class=\"sk-item\"><div class=\"sk-serial\"><div class=\"sk-item\"><div class=\"sk-estimator sk-toggleable\"><input class=\"sk-toggleable__control sk-hidden--visually\" id=\"sk-estimator-id-4\" type=\"checkbox\" ><label for=\"sk-estimator-id-4\" class=\"sk-toggleable__label sk-toggleable__label-arrow\">SimpleImputer</label><div class=\"sk-toggleable__content\"><pre>SimpleImputer(strategy=&#x27;median&#x27;)</pre></div></div></div></div></div></div></div></div><div class=\"sk-parallel-item\"><div class=\"sk-item\"><div class=\"sk-label-container\"><div class=\"sk-label sk-toggleable\"><input class=\"sk-toggleable__control sk-hidden--visually\" id=\"sk-estimator-id-5\" type=\"checkbox\" ><label for=\"sk-estimator-id-5\" class=\"sk-toggleable__label sk-toggleable__label-arrow\">cat_less9</label><div class=\"sk-toggleable__content\"><pre>[&#x27;area_code&#x27;]</pre></div></div></div><div class=\"sk-serial\"><div class=\"sk-item\"><div class=\"sk-serial\"><div class=\"sk-item\"><div class=\"sk-estimator sk-toggleable\"><input class=\"sk-toggleable__control sk-hidden--visually\" id=\"sk-estimator-id-6\" type=\"checkbox\" ><label for=\"sk-estimator-id-6\" class=\"sk-toggleable__label sk-toggleable__label-arrow\">SimpleImputer</label><div class=\"sk-toggleable__content\"><pre>SimpleImputer(strategy=&#x27;most_frequent&#x27;)</pre></div></div></div></div></div></div></div></div><div class=\"sk-parallel-item\"><div class=\"sk-item\"><div class=\"sk-label-container\"><div class=\"sk-label sk-toggleable\"><input class=\"sk-toggleable__control sk-hidden--visually\" id=\"sk-estimator-id-7\" type=\"checkbox\" ><label for=\"sk-estimator-id-7\" class=\"sk-toggleable__label sk-toggleable__label-arrow\">cat_more9</label><div class=\"sk-toggleable__content\"><pre>[&#x27;state&#x27;, &#x27;number_customer_service_calls&#x27;]</pre></div></div></div><div class=\"sk-serial\"><div class=\"sk-item\"><div class=\"sk-serial\"><div class=\"sk-item\"><div class=\"sk-estimator sk-toggleable\"><input class=\"sk-toggleable__control sk-hidden--visually\" id=\"sk-estimator-id-8\" type=\"checkbox\" ><label for=\"sk-estimator-id-8\" class=\"sk-toggleable__label sk-toggleable__label-arrow\">SimpleImputer</label><div class=\"sk-toggleable__content\"><pre>SimpleImputer(strategy=&#x27;most_frequent&#x27;)</pre></div></div></div></div></div></div></div></div></div></div><div class=\"sk-item\"><div class=\"sk-estimator sk-toggleable\"><input class=\"sk-toggleable__control sk-hidden--visually\" id=\"sk-estimator-id-9\" type=\"checkbox\" ><label for=\"sk-estimator-id-9\" class=\"sk-toggleable__label sk-toggleable__label-arrow\">CatBoostClassifier</label><div class=\"sk-toggleable__content\"><pre>&lt;catboost.core.CatBoostClassifier object at 0x0000012ABD48E410&gt;</pre></div></div></div></div></div></div></div>"
      ],
      "text/plain": [
       "Pipeline(steps=[('preprocessing',\n",
       "                 ColumnTransformer(sparse_threshold=0,\n",
       "                                   transformers=[('num',\n",
       "                                                  Pipeline(steps=[('imputer',\n",
       "                                                                   SimpleImputer(strategy='median'))]),\n",
       "                                                  ['account_length',\n",
       "                                                   'international_plan',\n",
       "                                                   'voice_mail_plan',\n",
       "                                                   'number_vmail_messages',\n",
       "                                                   'total_day_minutes',\n",
       "                                                   'total_day_calls',\n",
       "                                                   'total_day_charge',\n",
       "                                                   'total_eve_minutes',\n",
       "                                                   'total_eve_calls',\n",
       "                                                   'total_eve_charge',\n",
       "                                                   '...\n",
       "                                                   'total_intl_minutes',\n",
       "                                                   'total_intl_calls',\n",
       "                                                   'total_intl_charge']),\n",
       "                                                 ('cat_less9',\n",
       "                                                  Pipeline(steps=[('imputer',\n",
       "                                                                   SimpleImputer(strategy='most_frequent'))]),\n",
       "                                                  ['area_code']),\n",
       "                                                 ('cat_more9',\n",
       "                                                  Pipeline(steps=[('imputer',\n",
       "                                                                   SimpleImputer(strategy='most_frequent'))]),\n",
       "                                                  ['state',\n",
       "                                                   'number_customer_service_calls'])])),\n",
       "                ('model',\n",
       "                 <catboost.core.CatBoostClassifier object at 0x0000012ABD48E410>)])"
      ]
     },
     "execution_count": 37,
     "metadata": {},
     "output_type": "execute_result"
    }
   ],
   "source": [
    "# Display pipeline\n",
    "print(\"Time taken: \", catboost_default_time_taken)\n",
    "catboost_default"
   ]
  },
  {
   "cell_type": "code",
   "execution_count": 38,
   "metadata": {},
   "outputs": [],
   "source": [
    "tic = time.time()\n",
    "\n",
    "catboost_default9 = catboost_default_pipeline.fit(X_train, y_train)\n",
    "\n",
    "toc = time.time()\n",
    "catboost_default_time_taken9 = toc-tic"
   ]
  },
  {
   "cell_type": "code",
   "execution_count": 39,
   "metadata": {},
   "outputs": [
    {
     "name": "stdout",
     "output_type": "stream",
     "text": [
      "Time taken:  2.7104270458221436\n"
     ]
    },
    {
     "data": {
      "text/html": [
       "<style>#sk-container-id-2 {color: black;}#sk-container-id-2 pre{padding: 0;}#sk-container-id-2 div.sk-toggleable {background-color: white;}#sk-container-id-2 label.sk-toggleable__label {cursor: pointer;display: block;width: 100%;margin-bottom: 0;padding: 0.3em;box-sizing: border-box;text-align: center;}#sk-container-id-2 label.sk-toggleable__label-arrow:before {content: \"▸\";float: left;margin-right: 0.25em;color: #696969;}#sk-container-id-2 label.sk-toggleable__label-arrow:hover:before {color: black;}#sk-container-id-2 div.sk-estimator:hover label.sk-toggleable__label-arrow:before {color: black;}#sk-container-id-2 div.sk-toggleable__content {max-height: 0;max-width: 0;overflow: hidden;text-align: left;background-color: #f0f8ff;}#sk-container-id-2 div.sk-toggleable__content pre {margin: 0.2em;color: black;border-radius: 0.25em;background-color: #f0f8ff;}#sk-container-id-2 input.sk-toggleable__control:checked~div.sk-toggleable__content {max-height: 200px;max-width: 100%;overflow: auto;}#sk-container-id-2 input.sk-toggleable__control:checked~label.sk-toggleable__label-arrow:before {content: \"▾\";}#sk-container-id-2 div.sk-estimator input.sk-toggleable__control:checked~label.sk-toggleable__label {background-color: #d4ebff;}#sk-container-id-2 div.sk-label input.sk-toggleable__control:checked~label.sk-toggleable__label {background-color: #d4ebff;}#sk-container-id-2 input.sk-hidden--visually {border: 0;clip: rect(1px 1px 1px 1px);clip: rect(1px, 1px, 1px, 1px);height: 1px;margin: -1px;overflow: hidden;padding: 0;position: absolute;width: 1px;}#sk-container-id-2 div.sk-estimator {font-family: monospace;background-color: #f0f8ff;border: 1px dotted black;border-radius: 0.25em;box-sizing: border-box;margin-bottom: 0.5em;}#sk-container-id-2 div.sk-estimator:hover {background-color: #d4ebff;}#sk-container-id-2 div.sk-parallel-item::after {content: \"\";width: 100%;border-bottom: 1px solid gray;flex-grow: 1;}#sk-container-id-2 div.sk-label:hover label.sk-toggleable__label {background-color: #d4ebff;}#sk-container-id-2 div.sk-serial::before {content: \"\";position: absolute;border-left: 1px solid gray;box-sizing: border-box;top: 0;bottom: 0;left: 50%;z-index: 0;}#sk-container-id-2 div.sk-serial {display: flex;flex-direction: column;align-items: center;background-color: white;padding-right: 0.2em;padding-left: 0.2em;position: relative;}#sk-container-id-2 div.sk-item {position: relative;z-index: 1;}#sk-container-id-2 div.sk-parallel {display: flex;align-items: stretch;justify-content: center;background-color: white;position: relative;}#sk-container-id-2 div.sk-item::before, #sk-container-id-2 div.sk-parallel-item::before {content: \"\";position: absolute;border-left: 1px solid gray;box-sizing: border-box;top: 0;bottom: 0;left: 50%;z-index: -1;}#sk-container-id-2 div.sk-parallel-item {display: flex;flex-direction: column;z-index: 1;position: relative;background-color: white;}#sk-container-id-2 div.sk-parallel-item:first-child::after {align-self: flex-end;width: 50%;}#sk-container-id-2 div.sk-parallel-item:last-child::after {align-self: flex-start;width: 50%;}#sk-container-id-2 div.sk-parallel-item:only-child::after {width: 0;}#sk-container-id-2 div.sk-dashed-wrapped {border: 1px dashed gray;margin: 0 0.4em 0.5em 0.4em;box-sizing: border-box;padding-bottom: 0.4em;background-color: white;}#sk-container-id-2 div.sk-label label {font-family: monospace;font-weight: bold;display: inline-block;line-height: 1.2em;}#sk-container-id-2 div.sk-label-container {text-align: center;}#sk-container-id-2 div.sk-container {/* jupyter's `normalize.less` sets `[hidden] { display: none; }` but bootstrap.min.css set `[hidden] { display: none !important; }` so we also need the `!important` here to be able to override the default hidden behavior on the sphinx rendered scikit-learn.org. See: https://github.com/scikit-learn/scikit-learn/issues/21755 */display: inline-block !important;position: relative;}#sk-container-id-2 div.sk-text-repr-fallback {display: none;}</style><div id=\"sk-container-id-2\" class=\"sk-top-container\"><div class=\"sk-text-repr-fallback\"><pre>Pipeline(steps=[(&#x27;preprocessing&#x27;,\n",
       "                 ColumnTransformer(sparse_threshold=0,\n",
       "                                   transformers=[(&#x27;num&#x27;,\n",
       "                                                  Pipeline(steps=[(&#x27;imputer&#x27;,\n",
       "                                                                   SimpleImputer(strategy=&#x27;median&#x27;))]),\n",
       "                                                  [&#x27;account_length&#x27;,\n",
       "                                                   &#x27;international_plan&#x27;,\n",
       "                                                   &#x27;voice_mail_plan&#x27;,\n",
       "                                                   &#x27;number_vmail_messages&#x27;,\n",
       "                                                   &#x27;total_day_minutes&#x27;,\n",
       "                                                   &#x27;total_day_calls&#x27;,\n",
       "                                                   &#x27;total_day_charge&#x27;,\n",
       "                                                   &#x27;total_eve_minutes&#x27;,\n",
       "                                                   &#x27;total_eve_calls&#x27;,\n",
       "                                                   &#x27;total_eve_charge&#x27;,\n",
       "                                                   &#x27;...\n",
       "                                                   &#x27;total_intl_minutes&#x27;,\n",
       "                                                   &#x27;total_intl_calls&#x27;,\n",
       "                                                   &#x27;total_intl_charge&#x27;]),\n",
       "                                                 (&#x27;cat_less9&#x27;,\n",
       "                                                  Pipeline(steps=[(&#x27;imputer&#x27;,\n",
       "                                                                   SimpleImputer(strategy=&#x27;most_frequent&#x27;))]),\n",
       "                                                  [&#x27;area_code&#x27;]),\n",
       "                                                 (&#x27;cat_more9&#x27;,\n",
       "                                                  Pipeline(steps=[(&#x27;imputer&#x27;,\n",
       "                                                                   SimpleImputer(strategy=&#x27;most_frequent&#x27;))]),\n",
       "                                                  [&#x27;state&#x27;,\n",
       "                                                   &#x27;number_customer_service_calls&#x27;])])),\n",
       "                (&#x27;model&#x27;,\n",
       "                 &lt;catboost.core.CatBoostClassifier object at 0x0000012ABD48E410&gt;)])</pre><b>In a Jupyter environment, please rerun this cell to show the HTML representation or trust the notebook. <br />On GitHub, the HTML representation is unable to render, please try loading this page with nbviewer.org.</b></div><div class=\"sk-container\" hidden><div class=\"sk-item sk-dashed-wrapped\"><div class=\"sk-label-container\"><div class=\"sk-label sk-toggleable\"><input class=\"sk-toggleable__control sk-hidden--visually\" id=\"sk-estimator-id-10\" type=\"checkbox\" ><label for=\"sk-estimator-id-10\" class=\"sk-toggleable__label sk-toggleable__label-arrow\">Pipeline</label><div class=\"sk-toggleable__content\"><pre>Pipeline(steps=[(&#x27;preprocessing&#x27;,\n",
       "                 ColumnTransformer(sparse_threshold=0,\n",
       "                                   transformers=[(&#x27;num&#x27;,\n",
       "                                                  Pipeline(steps=[(&#x27;imputer&#x27;,\n",
       "                                                                   SimpleImputer(strategy=&#x27;median&#x27;))]),\n",
       "                                                  [&#x27;account_length&#x27;,\n",
       "                                                   &#x27;international_plan&#x27;,\n",
       "                                                   &#x27;voice_mail_plan&#x27;,\n",
       "                                                   &#x27;number_vmail_messages&#x27;,\n",
       "                                                   &#x27;total_day_minutes&#x27;,\n",
       "                                                   &#x27;total_day_calls&#x27;,\n",
       "                                                   &#x27;total_day_charge&#x27;,\n",
       "                                                   &#x27;total_eve_minutes&#x27;,\n",
       "                                                   &#x27;total_eve_calls&#x27;,\n",
       "                                                   &#x27;total_eve_charge&#x27;,\n",
       "                                                   &#x27;...\n",
       "                                                   &#x27;total_intl_minutes&#x27;,\n",
       "                                                   &#x27;total_intl_calls&#x27;,\n",
       "                                                   &#x27;total_intl_charge&#x27;]),\n",
       "                                                 (&#x27;cat_less9&#x27;,\n",
       "                                                  Pipeline(steps=[(&#x27;imputer&#x27;,\n",
       "                                                                   SimpleImputer(strategy=&#x27;most_frequent&#x27;))]),\n",
       "                                                  [&#x27;area_code&#x27;]),\n",
       "                                                 (&#x27;cat_more9&#x27;,\n",
       "                                                  Pipeline(steps=[(&#x27;imputer&#x27;,\n",
       "                                                                   SimpleImputer(strategy=&#x27;most_frequent&#x27;))]),\n",
       "                                                  [&#x27;state&#x27;,\n",
       "                                                   &#x27;number_customer_service_calls&#x27;])])),\n",
       "                (&#x27;model&#x27;,\n",
       "                 &lt;catboost.core.CatBoostClassifier object at 0x0000012ABD48E410&gt;)])</pre></div></div></div><div class=\"sk-serial\"><div class=\"sk-item sk-dashed-wrapped\"><div class=\"sk-label-container\"><div class=\"sk-label sk-toggleable\"><input class=\"sk-toggleable__control sk-hidden--visually\" id=\"sk-estimator-id-11\" type=\"checkbox\" ><label for=\"sk-estimator-id-11\" class=\"sk-toggleable__label sk-toggleable__label-arrow\">preprocessing: ColumnTransformer</label><div class=\"sk-toggleable__content\"><pre>ColumnTransformer(sparse_threshold=0,\n",
       "                  transformers=[(&#x27;num&#x27;,\n",
       "                                 Pipeline(steps=[(&#x27;imputer&#x27;,\n",
       "                                                  SimpleImputer(strategy=&#x27;median&#x27;))]),\n",
       "                                 [&#x27;account_length&#x27;, &#x27;international_plan&#x27;,\n",
       "                                  &#x27;voice_mail_plan&#x27;, &#x27;number_vmail_messages&#x27;,\n",
       "                                  &#x27;total_day_minutes&#x27;, &#x27;total_day_calls&#x27;,\n",
       "                                  &#x27;total_day_charge&#x27;, &#x27;total_eve_minutes&#x27;,\n",
       "                                  &#x27;total_eve_calls&#x27;, &#x27;total_eve_charge&#x27;,\n",
       "                                  &#x27;total_night_minutes&#x27;, &#x27;total_night_calls&#x27;,\n",
       "                                  &#x27;total_night_charge&#x27;, &#x27;total_intl_minutes&#x27;,\n",
       "                                  &#x27;total_intl_calls&#x27;, &#x27;total_intl_charge&#x27;]),\n",
       "                                (&#x27;cat_less9&#x27;,\n",
       "                                 Pipeline(steps=[(&#x27;imputer&#x27;,\n",
       "                                                  SimpleImputer(strategy=&#x27;most_frequent&#x27;))]),\n",
       "                                 [&#x27;area_code&#x27;]),\n",
       "                                (&#x27;cat_more9&#x27;,\n",
       "                                 Pipeline(steps=[(&#x27;imputer&#x27;,\n",
       "                                                  SimpleImputer(strategy=&#x27;most_frequent&#x27;))]),\n",
       "                                 [&#x27;state&#x27;, &#x27;number_customer_service_calls&#x27;])])</pre></div></div></div><div class=\"sk-parallel\"><div class=\"sk-parallel-item\"><div class=\"sk-item\"><div class=\"sk-label-container\"><div class=\"sk-label sk-toggleable\"><input class=\"sk-toggleable__control sk-hidden--visually\" id=\"sk-estimator-id-12\" type=\"checkbox\" ><label for=\"sk-estimator-id-12\" class=\"sk-toggleable__label sk-toggleable__label-arrow\">num</label><div class=\"sk-toggleable__content\"><pre>[&#x27;account_length&#x27;, &#x27;international_plan&#x27;, &#x27;voice_mail_plan&#x27;, &#x27;number_vmail_messages&#x27;, &#x27;total_day_minutes&#x27;, &#x27;total_day_calls&#x27;, &#x27;total_day_charge&#x27;, &#x27;total_eve_minutes&#x27;, &#x27;total_eve_calls&#x27;, &#x27;total_eve_charge&#x27;, &#x27;total_night_minutes&#x27;, &#x27;total_night_calls&#x27;, &#x27;total_night_charge&#x27;, &#x27;total_intl_minutes&#x27;, &#x27;total_intl_calls&#x27;, &#x27;total_intl_charge&#x27;]</pre></div></div></div><div class=\"sk-serial\"><div class=\"sk-item\"><div class=\"sk-serial\"><div class=\"sk-item\"><div class=\"sk-estimator sk-toggleable\"><input class=\"sk-toggleable__control sk-hidden--visually\" id=\"sk-estimator-id-13\" type=\"checkbox\" ><label for=\"sk-estimator-id-13\" class=\"sk-toggleable__label sk-toggleable__label-arrow\">SimpleImputer</label><div class=\"sk-toggleable__content\"><pre>SimpleImputer(strategy=&#x27;median&#x27;)</pre></div></div></div></div></div></div></div></div><div class=\"sk-parallel-item\"><div class=\"sk-item\"><div class=\"sk-label-container\"><div class=\"sk-label sk-toggleable\"><input class=\"sk-toggleable__control sk-hidden--visually\" id=\"sk-estimator-id-14\" type=\"checkbox\" ><label for=\"sk-estimator-id-14\" class=\"sk-toggleable__label sk-toggleable__label-arrow\">cat_less9</label><div class=\"sk-toggleable__content\"><pre>[&#x27;area_code&#x27;]</pre></div></div></div><div class=\"sk-serial\"><div class=\"sk-item\"><div class=\"sk-serial\"><div class=\"sk-item\"><div class=\"sk-estimator sk-toggleable\"><input class=\"sk-toggleable__control sk-hidden--visually\" id=\"sk-estimator-id-15\" type=\"checkbox\" ><label for=\"sk-estimator-id-15\" class=\"sk-toggleable__label sk-toggleable__label-arrow\">SimpleImputer</label><div class=\"sk-toggleable__content\"><pre>SimpleImputer(strategy=&#x27;most_frequent&#x27;)</pre></div></div></div></div></div></div></div></div><div class=\"sk-parallel-item\"><div class=\"sk-item\"><div class=\"sk-label-container\"><div class=\"sk-label sk-toggleable\"><input class=\"sk-toggleable__control sk-hidden--visually\" id=\"sk-estimator-id-16\" type=\"checkbox\" ><label for=\"sk-estimator-id-16\" class=\"sk-toggleable__label sk-toggleable__label-arrow\">cat_more9</label><div class=\"sk-toggleable__content\"><pre>[&#x27;state&#x27;, &#x27;number_customer_service_calls&#x27;]</pre></div></div></div><div class=\"sk-serial\"><div class=\"sk-item\"><div class=\"sk-serial\"><div class=\"sk-item\"><div class=\"sk-estimator sk-toggleable\"><input class=\"sk-toggleable__control sk-hidden--visually\" id=\"sk-estimator-id-17\" type=\"checkbox\" ><label for=\"sk-estimator-id-17\" class=\"sk-toggleable__label sk-toggleable__label-arrow\">SimpleImputer</label><div class=\"sk-toggleable__content\"><pre>SimpleImputer(strategy=&#x27;most_frequent&#x27;)</pre></div></div></div></div></div></div></div></div></div></div><div class=\"sk-item\"><div class=\"sk-estimator sk-toggleable\"><input class=\"sk-toggleable__control sk-hidden--visually\" id=\"sk-estimator-id-18\" type=\"checkbox\" ><label for=\"sk-estimator-id-18\" class=\"sk-toggleable__label sk-toggleable__label-arrow\">CatBoostClassifier</label><div class=\"sk-toggleable__content\"><pre>&lt;catboost.core.CatBoostClassifier object at 0x0000012ABD48E410&gt;</pre></div></div></div></div></div></div></div>"
      ],
      "text/plain": [
       "Pipeline(steps=[('preprocessing',\n",
       "                 ColumnTransformer(sparse_threshold=0,\n",
       "                                   transformers=[('num',\n",
       "                                                  Pipeline(steps=[('imputer',\n",
       "                                                                   SimpleImputer(strategy='median'))]),\n",
       "                                                  ['account_length',\n",
       "                                                   'international_plan',\n",
       "                                                   'voice_mail_plan',\n",
       "                                                   'number_vmail_messages',\n",
       "                                                   'total_day_minutes',\n",
       "                                                   'total_day_calls',\n",
       "                                                   'total_day_charge',\n",
       "                                                   'total_eve_minutes',\n",
       "                                                   'total_eve_calls',\n",
       "                                                   'total_eve_charge',\n",
       "                                                   '...\n",
       "                                                   'total_intl_minutes',\n",
       "                                                   'total_intl_calls',\n",
       "                                                   'total_intl_charge']),\n",
       "                                                 ('cat_less9',\n",
       "                                                  Pipeline(steps=[('imputer',\n",
       "                                                                   SimpleImputer(strategy='most_frequent'))]),\n",
       "                                                  ['area_code']),\n",
       "                                                 ('cat_more9',\n",
       "                                                  Pipeline(steps=[('imputer',\n",
       "                                                                   SimpleImputer(strategy='most_frequent'))]),\n",
       "                                                  ['state',\n",
       "                                                   'number_customer_service_calls'])])),\n",
       "                ('model',\n",
       "                 <catboost.core.CatBoostClassifier object at 0x0000012ABD48E410>)])"
      ]
     },
     "execution_count": 39,
     "metadata": {},
     "output_type": "execute_result"
    }
   ],
   "source": [
    "# Display pipeline\n",
    "print(\"Time taken: \", catboost_default_time_taken9)\n",
    "catboost_default9"
   ]
  },
  {
   "cell_type": "code",
   "execution_count": 112,
   "metadata": {},
   "outputs": [
    {
     "name": "stdout",
     "output_type": "stream",
     "text": [
      "Balanced accuracy with default parameters: 0.9111887836540356\n"
     ]
    }
   ],
   "source": [
    "# Calculate balanced accuracy for the model with default parameters\n",
    "y_catboost_default_pred = catboost_default.predict(X_test)\n",
    "catboost_default_accuracy = balanced_accuracy_score(y_test, y_catboost_default_pred)\n",
    "print(f'Balanced accuracy with default parameters: {catboost_default_accuracy}')\n",
    "\n",
    "# Save results\n",
    "default_summary.append(\"Default\")\n",
    "card_9_summary.append(\"AllVariables\")\n",
    "encoder_summary.append(\"CatboostNativeSupport\")\n",
    "value_summary.append(catboost_default_accuracy)\n",
    "time_summary.append(catboost_default_time_taken)\n",
    "n_models_summary.append(1)"
   ]
  },
  {
   "cell_type": "code",
   "execution_count": 113,
   "metadata": {},
   "outputs": [
    {
     "name": "stdout",
     "output_type": "stream",
     "text": [
      "Balanced accuracy with default parameters: 0.9111887836540356\n"
     ]
    }
   ],
   "source": [
    "# Calculate balanced accuracy for the model with default parameters\n",
    "y_catboost_default_pred9 = catboost_default9.predict(X_test)\n",
    "catboost_default_accuracy9 = balanced_accuracy_score(y_test, y_catboost_default_pred9)\n",
    "print(f'Balanced accuracy with default parameters: {catboost_default_accuracy9}')\n",
    "\n",
    "# Save results\n",
    "default_summary.append(\"Default\")\n",
    "card_9_summary.append(\"OnlyVariablesWithCard>9\")\n",
    "encoder_summary.append(\"CatboostNativeSupport\")\n",
    "value_summary.append(catboost_default_accuracy9)\n",
    "time_summary.append(catboost_default_time_taken9)\n",
    "n_models_summary.append(1)"
   ]
  },
  {
   "cell_type": "code",
   "execution_count": 40,
   "id": "aab921bb",
   "metadata": {},
   "outputs": [
    {
     "name": "stdout",
     "output_type": "stream",
     "text": [
      "Balanced accuracy with default parameters: 0.9084810138084147\n",
      "Balanced accuracy with default parameters: 0.9084810138084147\n"
     ]
    }
   ],
   "source": [
    "# Calculate balanced accuracy for the model with default parameters\n",
    "y_catboost_default_pred = catboost_default.predict(X_test)\n",
    "catboost_default_accuracy = balanced_accuracy_score(y_test, y_catboost_default_pred)\n",
    "print(f'Balanced accuracy with default parameters: {catboost_default_accuracy}')\n",
    "# Calculate balanced accuracy for the model with default parameters\n",
    "y_catboost_default_pred9 = catboost_default9.predict(X_test)\n",
    "catboost_default_accuracy9 = balanced_accuracy_score(y_test, y_catboost_default_pred9)\n",
    "print(f'Balanced accuracy with default parameters: {catboost_default_accuracy9}')\n"
   ]
  },
  {
   "cell_type": "markdown",
   "metadata": {},
   "source": []
  },
  {
   "cell_type": "code",
   "execution_count": 41,
   "metadata": {},
   "outputs": [],
   "source": [
    "tic = time.time()\n",
    "\n",
    "catboost_tune = catboost_tune_raw.fit(X_train, y_train)\n",
    "\n",
    "toc = time.time()\n",
    "catboost_tune_time_taken = toc-tic"
   ]
  },
  {
   "cell_type": "code",
   "execution_count": 42,
   "metadata": {},
   "outputs": [
    {
     "name": "stdout",
     "output_type": "stream",
     "text": [
      "Time taken:  159.5653669834137\n"
     ]
    },
    {
     "data": {
      "text/html": [
       "<style>#sk-container-id-3 {color: black;}#sk-container-id-3 pre{padding: 0;}#sk-container-id-3 div.sk-toggleable {background-color: white;}#sk-container-id-3 label.sk-toggleable__label {cursor: pointer;display: block;width: 100%;margin-bottom: 0;padding: 0.3em;box-sizing: border-box;text-align: center;}#sk-container-id-3 label.sk-toggleable__label-arrow:before {content: \"▸\";float: left;margin-right: 0.25em;color: #696969;}#sk-container-id-3 label.sk-toggleable__label-arrow:hover:before {color: black;}#sk-container-id-3 div.sk-estimator:hover label.sk-toggleable__label-arrow:before {color: black;}#sk-container-id-3 div.sk-toggleable__content {max-height: 0;max-width: 0;overflow: hidden;text-align: left;background-color: #f0f8ff;}#sk-container-id-3 div.sk-toggleable__content pre {margin: 0.2em;color: black;border-radius: 0.25em;background-color: #f0f8ff;}#sk-container-id-3 input.sk-toggleable__control:checked~div.sk-toggleable__content {max-height: 200px;max-width: 100%;overflow: auto;}#sk-container-id-3 input.sk-toggleable__control:checked~label.sk-toggleable__label-arrow:before {content: \"▾\";}#sk-container-id-3 div.sk-estimator input.sk-toggleable__control:checked~label.sk-toggleable__label {background-color: #d4ebff;}#sk-container-id-3 div.sk-label input.sk-toggleable__control:checked~label.sk-toggleable__label {background-color: #d4ebff;}#sk-container-id-3 input.sk-hidden--visually {border: 0;clip: rect(1px 1px 1px 1px);clip: rect(1px, 1px, 1px, 1px);height: 1px;margin: -1px;overflow: hidden;padding: 0;position: absolute;width: 1px;}#sk-container-id-3 div.sk-estimator {font-family: monospace;background-color: #f0f8ff;border: 1px dotted black;border-radius: 0.25em;box-sizing: border-box;margin-bottom: 0.5em;}#sk-container-id-3 div.sk-estimator:hover {background-color: #d4ebff;}#sk-container-id-3 div.sk-parallel-item::after {content: \"\";width: 100%;border-bottom: 1px solid gray;flex-grow: 1;}#sk-container-id-3 div.sk-label:hover label.sk-toggleable__label {background-color: #d4ebff;}#sk-container-id-3 div.sk-serial::before {content: \"\";position: absolute;border-left: 1px solid gray;box-sizing: border-box;top: 0;bottom: 0;left: 50%;z-index: 0;}#sk-container-id-3 div.sk-serial {display: flex;flex-direction: column;align-items: center;background-color: white;padding-right: 0.2em;padding-left: 0.2em;position: relative;}#sk-container-id-3 div.sk-item {position: relative;z-index: 1;}#sk-container-id-3 div.sk-parallel {display: flex;align-items: stretch;justify-content: center;background-color: white;position: relative;}#sk-container-id-3 div.sk-item::before, #sk-container-id-3 div.sk-parallel-item::before {content: \"\";position: absolute;border-left: 1px solid gray;box-sizing: border-box;top: 0;bottom: 0;left: 50%;z-index: -1;}#sk-container-id-3 div.sk-parallel-item {display: flex;flex-direction: column;z-index: 1;position: relative;background-color: white;}#sk-container-id-3 div.sk-parallel-item:first-child::after {align-self: flex-end;width: 50%;}#sk-container-id-3 div.sk-parallel-item:last-child::after {align-self: flex-start;width: 50%;}#sk-container-id-3 div.sk-parallel-item:only-child::after {width: 0;}#sk-container-id-3 div.sk-dashed-wrapped {border: 1px dashed gray;margin: 0 0.4em 0.5em 0.4em;box-sizing: border-box;padding-bottom: 0.4em;background-color: white;}#sk-container-id-3 div.sk-label label {font-family: monospace;font-weight: bold;display: inline-block;line-height: 1.2em;}#sk-container-id-3 div.sk-label-container {text-align: center;}#sk-container-id-3 div.sk-container {/* jupyter's `normalize.less` sets `[hidden] { display: none; }` but bootstrap.min.css set `[hidden] { display: none !important; }` so we also need the `!important` here to be able to override the default hidden behavior on the sphinx rendered scikit-learn.org. See: https://github.com/scikit-learn/scikit-learn/issues/21755 */display: inline-block !important;position: relative;}#sk-container-id-3 div.sk-text-repr-fallback {display: none;}</style><div id=\"sk-container-id-3\" class=\"sk-top-container\"><div class=\"sk-text-repr-fallback\"><pre>RandomizedSearchCV(cv=StratifiedKFold(n_splits=3, random_state=1234, shuffle=True),\n",
       "                   estimator=Pipeline(steps=[(&#x27;preprocessing&#x27;,\n",
       "                                              ColumnTransformer(sparse_threshold=0,\n",
       "                                                                transformers=[(&#x27;num&#x27;,\n",
       "                                                                               Pipeline(steps=[(&#x27;imputer&#x27;,\n",
       "                                                                                                SimpleImputer(strategy=&#x27;median&#x27;))]),\n",
       "                                                                               [&#x27;account_length&#x27;,\n",
       "                                                                                &#x27;international_plan&#x27;,\n",
       "                                                                                &#x27;voice_mail_plan&#x27;,\n",
       "                                                                                &#x27;number_vmail_messages&#x27;,\n",
       "                                                                                &#x27;total_day_minutes&#x27;,\n",
       "                                                                                &#x27;tot...\n",
       "                   param_distributions={&#x27;model__iterations&#x27;: &lt;scipy.stats._distn_infrastructure.rv_discrete_frozen object at 0x0000012ABD48E2C0&gt;,\n",
       "                                        &#x27;model__learning_rate&#x27;: &lt;scipy.stats._distn_infrastructure.rv_continuous_frozen object at 0x0000012ABD48D5A0&gt;,\n",
       "                                        &#x27;model__min_data_in_leaf&#x27;: &lt;scipy.stats._distn_infrastructure.rv_discrete_frozen object at 0x0000012ABD48C3A0&gt;},\n",
       "                   random_state=1234, scoring=&#x27;balanced_accuracy&#x27;)</pre><b>In a Jupyter environment, please rerun this cell to show the HTML representation or trust the notebook. <br />On GitHub, the HTML representation is unable to render, please try loading this page with nbviewer.org.</b></div><div class=\"sk-container\" hidden><div class=\"sk-item sk-dashed-wrapped\"><div class=\"sk-label-container\"><div class=\"sk-label sk-toggleable\"><input class=\"sk-toggleable__control sk-hidden--visually\" id=\"sk-estimator-id-19\" type=\"checkbox\" ><label for=\"sk-estimator-id-19\" class=\"sk-toggleable__label sk-toggleable__label-arrow\">RandomizedSearchCV</label><div class=\"sk-toggleable__content\"><pre>RandomizedSearchCV(cv=StratifiedKFold(n_splits=3, random_state=1234, shuffle=True),\n",
       "                   estimator=Pipeline(steps=[(&#x27;preprocessing&#x27;,\n",
       "                                              ColumnTransformer(sparse_threshold=0,\n",
       "                                                                transformers=[(&#x27;num&#x27;,\n",
       "                                                                               Pipeline(steps=[(&#x27;imputer&#x27;,\n",
       "                                                                                                SimpleImputer(strategy=&#x27;median&#x27;))]),\n",
       "                                                                               [&#x27;account_length&#x27;,\n",
       "                                                                                &#x27;international_plan&#x27;,\n",
       "                                                                                &#x27;voice_mail_plan&#x27;,\n",
       "                                                                                &#x27;number_vmail_messages&#x27;,\n",
       "                                                                                &#x27;total_day_minutes&#x27;,\n",
       "                                                                                &#x27;tot...\n",
       "                   param_distributions={&#x27;model__iterations&#x27;: &lt;scipy.stats._distn_infrastructure.rv_discrete_frozen object at 0x0000012ABD48E2C0&gt;,\n",
       "                                        &#x27;model__learning_rate&#x27;: &lt;scipy.stats._distn_infrastructure.rv_continuous_frozen object at 0x0000012ABD48D5A0&gt;,\n",
       "                                        &#x27;model__min_data_in_leaf&#x27;: &lt;scipy.stats._distn_infrastructure.rv_discrete_frozen object at 0x0000012ABD48C3A0&gt;},\n",
       "                   random_state=1234, scoring=&#x27;balanced_accuracy&#x27;)</pre></div></div></div><div class=\"sk-parallel\"><div class=\"sk-parallel-item\"><div class=\"sk-item\"><div class=\"sk-label-container\"><div class=\"sk-label sk-toggleable\"><input class=\"sk-toggleable__control sk-hidden--visually\" id=\"sk-estimator-id-20\" type=\"checkbox\" ><label for=\"sk-estimator-id-20\" class=\"sk-toggleable__label sk-toggleable__label-arrow\">estimator: Pipeline</label><div class=\"sk-toggleable__content\"><pre>Pipeline(steps=[(&#x27;preprocessing&#x27;,\n",
       "                 ColumnTransformer(sparse_threshold=0,\n",
       "                                   transformers=[(&#x27;num&#x27;,\n",
       "                                                  Pipeline(steps=[(&#x27;imputer&#x27;,\n",
       "                                                                   SimpleImputer(strategy=&#x27;median&#x27;))]),\n",
       "                                                  [&#x27;account_length&#x27;,\n",
       "                                                   &#x27;international_plan&#x27;,\n",
       "                                                   &#x27;voice_mail_plan&#x27;,\n",
       "                                                   &#x27;number_vmail_messages&#x27;,\n",
       "                                                   &#x27;total_day_minutes&#x27;,\n",
       "                                                   &#x27;total_day_calls&#x27;,\n",
       "                                                   &#x27;total_day_charge&#x27;,\n",
       "                                                   &#x27;total_eve_minutes&#x27;,\n",
       "                                                   &#x27;total_eve_calls&#x27;,\n",
       "                                                   &#x27;total_eve_charge&#x27;,\n",
       "                                                   &#x27;...\n",
       "                                                   &#x27;total_intl_minutes&#x27;,\n",
       "                                                   &#x27;total_intl_calls&#x27;,\n",
       "                                                   &#x27;total_intl_charge&#x27;]),\n",
       "                                                 (&#x27;cat_less9&#x27;,\n",
       "                                                  Pipeline(steps=[(&#x27;imputer&#x27;,\n",
       "                                                                   SimpleImputer(strategy=&#x27;most_frequent&#x27;))]),\n",
       "                                                  [&#x27;area_code&#x27;]),\n",
       "                                                 (&#x27;cat_more9&#x27;,\n",
       "                                                  Pipeline(steps=[(&#x27;imputer&#x27;,\n",
       "                                                                   SimpleImputer(strategy=&#x27;most_frequent&#x27;))]),\n",
       "                                                  [&#x27;state&#x27;,\n",
       "                                                   &#x27;number_customer_service_calls&#x27;])])),\n",
       "                (&#x27;model&#x27;,\n",
       "                 &lt;catboost.core.CatBoostClassifier object at 0x0000012ABD48E410&gt;)])</pre></div></div></div><div class=\"sk-serial\"><div class=\"sk-item\"><div class=\"sk-serial\"><div class=\"sk-item sk-dashed-wrapped\"><div class=\"sk-label-container\"><div class=\"sk-label sk-toggleable\"><input class=\"sk-toggleable__control sk-hidden--visually\" id=\"sk-estimator-id-21\" type=\"checkbox\" ><label for=\"sk-estimator-id-21\" class=\"sk-toggleable__label sk-toggleable__label-arrow\">preprocessing: ColumnTransformer</label><div class=\"sk-toggleable__content\"><pre>ColumnTransformer(sparse_threshold=0,\n",
       "                  transformers=[(&#x27;num&#x27;,\n",
       "                                 Pipeline(steps=[(&#x27;imputer&#x27;,\n",
       "                                                  SimpleImputer(strategy=&#x27;median&#x27;))]),\n",
       "                                 [&#x27;account_length&#x27;, &#x27;international_plan&#x27;,\n",
       "                                  &#x27;voice_mail_plan&#x27;, &#x27;number_vmail_messages&#x27;,\n",
       "                                  &#x27;total_day_minutes&#x27;, &#x27;total_day_calls&#x27;,\n",
       "                                  &#x27;total_day_charge&#x27;, &#x27;total_eve_minutes&#x27;,\n",
       "                                  &#x27;total_eve_calls&#x27;, &#x27;total_eve_charge&#x27;,\n",
       "                                  &#x27;total_night_minutes&#x27;, &#x27;total_night_calls&#x27;,\n",
       "                                  &#x27;total_night_charge&#x27;, &#x27;total_intl_minutes&#x27;,\n",
       "                                  &#x27;total_intl_calls&#x27;, &#x27;total_intl_charge&#x27;]),\n",
       "                                (&#x27;cat_less9&#x27;,\n",
       "                                 Pipeline(steps=[(&#x27;imputer&#x27;,\n",
       "                                                  SimpleImputer(strategy=&#x27;most_frequent&#x27;))]),\n",
       "                                 [&#x27;area_code&#x27;]),\n",
       "                                (&#x27;cat_more9&#x27;,\n",
       "                                 Pipeline(steps=[(&#x27;imputer&#x27;,\n",
       "                                                  SimpleImputer(strategy=&#x27;most_frequent&#x27;))]),\n",
       "                                 [&#x27;state&#x27;, &#x27;number_customer_service_calls&#x27;])])</pre></div></div></div><div class=\"sk-parallel\"><div class=\"sk-parallel-item\"><div class=\"sk-item\"><div class=\"sk-label-container\"><div class=\"sk-label sk-toggleable\"><input class=\"sk-toggleable__control sk-hidden--visually\" id=\"sk-estimator-id-22\" type=\"checkbox\" ><label for=\"sk-estimator-id-22\" class=\"sk-toggleable__label sk-toggleable__label-arrow\">num</label><div class=\"sk-toggleable__content\"><pre>[&#x27;account_length&#x27;, &#x27;international_plan&#x27;, &#x27;voice_mail_plan&#x27;, &#x27;number_vmail_messages&#x27;, &#x27;total_day_minutes&#x27;, &#x27;total_day_calls&#x27;, &#x27;total_day_charge&#x27;, &#x27;total_eve_minutes&#x27;, &#x27;total_eve_calls&#x27;, &#x27;total_eve_charge&#x27;, &#x27;total_night_minutes&#x27;, &#x27;total_night_calls&#x27;, &#x27;total_night_charge&#x27;, &#x27;total_intl_minutes&#x27;, &#x27;total_intl_calls&#x27;, &#x27;total_intl_charge&#x27;]</pre></div></div></div><div class=\"sk-serial\"><div class=\"sk-item\"><div class=\"sk-serial\"><div class=\"sk-item\"><div class=\"sk-estimator sk-toggleable\"><input class=\"sk-toggleable__control sk-hidden--visually\" id=\"sk-estimator-id-23\" type=\"checkbox\" ><label for=\"sk-estimator-id-23\" class=\"sk-toggleable__label sk-toggleable__label-arrow\">SimpleImputer</label><div class=\"sk-toggleable__content\"><pre>SimpleImputer(strategy=&#x27;median&#x27;)</pre></div></div></div></div></div></div></div></div><div class=\"sk-parallel-item\"><div class=\"sk-item\"><div class=\"sk-label-container\"><div class=\"sk-label sk-toggleable\"><input class=\"sk-toggleable__control sk-hidden--visually\" id=\"sk-estimator-id-24\" type=\"checkbox\" ><label for=\"sk-estimator-id-24\" class=\"sk-toggleable__label sk-toggleable__label-arrow\">cat_less9</label><div class=\"sk-toggleable__content\"><pre>[&#x27;area_code&#x27;]</pre></div></div></div><div class=\"sk-serial\"><div class=\"sk-item\"><div class=\"sk-serial\"><div class=\"sk-item\"><div class=\"sk-estimator sk-toggleable\"><input class=\"sk-toggleable__control sk-hidden--visually\" id=\"sk-estimator-id-25\" type=\"checkbox\" ><label for=\"sk-estimator-id-25\" class=\"sk-toggleable__label sk-toggleable__label-arrow\">SimpleImputer</label><div class=\"sk-toggleable__content\"><pre>SimpleImputer(strategy=&#x27;most_frequent&#x27;)</pre></div></div></div></div></div></div></div></div><div class=\"sk-parallel-item\"><div class=\"sk-item\"><div class=\"sk-label-container\"><div class=\"sk-label sk-toggleable\"><input class=\"sk-toggleable__control sk-hidden--visually\" id=\"sk-estimator-id-26\" type=\"checkbox\" ><label for=\"sk-estimator-id-26\" class=\"sk-toggleable__label sk-toggleable__label-arrow\">cat_more9</label><div class=\"sk-toggleable__content\"><pre>[&#x27;state&#x27;, &#x27;number_customer_service_calls&#x27;]</pre></div></div></div><div class=\"sk-serial\"><div class=\"sk-item\"><div class=\"sk-serial\"><div class=\"sk-item\"><div class=\"sk-estimator sk-toggleable\"><input class=\"sk-toggleable__control sk-hidden--visually\" id=\"sk-estimator-id-27\" type=\"checkbox\" ><label for=\"sk-estimator-id-27\" class=\"sk-toggleable__label sk-toggleable__label-arrow\">SimpleImputer</label><div class=\"sk-toggleable__content\"><pre>SimpleImputer(strategy=&#x27;most_frequent&#x27;)</pre></div></div></div></div></div></div></div></div></div></div><div class=\"sk-item\"><div class=\"sk-estimator sk-toggleable\"><input class=\"sk-toggleable__control sk-hidden--visually\" id=\"sk-estimator-id-28\" type=\"checkbox\" ><label for=\"sk-estimator-id-28\" class=\"sk-toggleable__label sk-toggleable__label-arrow\">CatBoostClassifier</label><div class=\"sk-toggleable__content\"><pre>&lt;catboost.core.CatBoostClassifier object at 0x0000012ABD48E410&gt;</pre></div></div></div></div></div></div></div></div></div></div></div></div>"
      ],
      "text/plain": [
       "RandomizedSearchCV(cv=StratifiedKFold(n_splits=3, random_state=1234, shuffle=True),\n",
       "                   estimator=Pipeline(steps=[('preprocessing',\n",
       "                                              ColumnTransformer(sparse_threshold=0,\n",
       "                                                                transformers=[('num',\n",
       "                                                                               Pipeline(steps=[('imputer',\n",
       "                                                                                                SimpleImputer(strategy='median'))]),\n",
       "                                                                               ['account_length',\n",
       "                                                                                'international_plan',\n",
       "                                                                                'voice_mail_plan',\n",
       "                                                                                'number_vmail_messages',\n",
       "                                                                                'total_day_minutes',\n",
       "                                                                                'tot...\n",
       "                   param_distributions={'model__iterations': <scipy.stats._distn_infrastructure.rv_discrete_frozen object at 0x0000012ABD48E2C0>,\n",
       "                                        'model__learning_rate': <scipy.stats._distn_infrastructure.rv_continuous_frozen object at 0x0000012ABD48D5A0>,\n",
       "                                        'model__min_data_in_leaf': <scipy.stats._distn_infrastructure.rv_discrete_frozen object at 0x0000012ABD48C3A0>},\n",
       "                   random_state=1234, scoring='balanced_accuracy')"
      ]
     },
     "execution_count": 42,
     "metadata": {},
     "output_type": "execute_result"
    }
   ],
   "source": [
    "# Display pipeline\n",
    "print(\"Time taken: \", catboost_tune_time_taken)\n",
    "catboost_tune"
   ]
  },
  {
   "cell_type": "code",
   "execution_count": 43,
   "metadata": {},
   "outputs": [],
   "source": [
    "tic = time.time()\n",
    "\n",
    "catboost_tune9 = catboost_tune9_raw.fit(X_train, y_train)\n",
    "\n",
    "toc = time.time()\n",
    "catboost_tune_time_taken9 = toc-tic"
   ]
  },
  {
   "cell_type": "code",
   "execution_count": 44,
   "metadata": {},
   "outputs": [
    {
     "name": "stdout",
     "output_type": "stream",
     "text": [
      "Time taken:  152.8892126083374\n"
     ]
    },
    {
     "data": {
      "text/html": [
       "<style>#sk-container-id-4 {color: black;}#sk-container-id-4 pre{padding: 0;}#sk-container-id-4 div.sk-toggleable {background-color: white;}#sk-container-id-4 label.sk-toggleable__label {cursor: pointer;display: block;width: 100%;margin-bottom: 0;padding: 0.3em;box-sizing: border-box;text-align: center;}#sk-container-id-4 label.sk-toggleable__label-arrow:before {content: \"▸\";float: left;margin-right: 0.25em;color: #696969;}#sk-container-id-4 label.sk-toggleable__label-arrow:hover:before {color: black;}#sk-container-id-4 div.sk-estimator:hover label.sk-toggleable__label-arrow:before {color: black;}#sk-container-id-4 div.sk-toggleable__content {max-height: 0;max-width: 0;overflow: hidden;text-align: left;background-color: #f0f8ff;}#sk-container-id-4 div.sk-toggleable__content pre {margin: 0.2em;color: black;border-radius: 0.25em;background-color: #f0f8ff;}#sk-container-id-4 input.sk-toggleable__control:checked~div.sk-toggleable__content {max-height: 200px;max-width: 100%;overflow: auto;}#sk-container-id-4 input.sk-toggleable__control:checked~label.sk-toggleable__label-arrow:before {content: \"▾\";}#sk-container-id-4 div.sk-estimator input.sk-toggleable__control:checked~label.sk-toggleable__label {background-color: #d4ebff;}#sk-container-id-4 div.sk-label input.sk-toggleable__control:checked~label.sk-toggleable__label {background-color: #d4ebff;}#sk-container-id-4 input.sk-hidden--visually {border: 0;clip: rect(1px 1px 1px 1px);clip: rect(1px, 1px, 1px, 1px);height: 1px;margin: -1px;overflow: hidden;padding: 0;position: absolute;width: 1px;}#sk-container-id-4 div.sk-estimator {font-family: monospace;background-color: #f0f8ff;border: 1px dotted black;border-radius: 0.25em;box-sizing: border-box;margin-bottom: 0.5em;}#sk-container-id-4 div.sk-estimator:hover {background-color: #d4ebff;}#sk-container-id-4 div.sk-parallel-item::after {content: \"\";width: 100%;border-bottom: 1px solid gray;flex-grow: 1;}#sk-container-id-4 div.sk-label:hover label.sk-toggleable__label {background-color: #d4ebff;}#sk-container-id-4 div.sk-serial::before {content: \"\";position: absolute;border-left: 1px solid gray;box-sizing: border-box;top: 0;bottom: 0;left: 50%;z-index: 0;}#sk-container-id-4 div.sk-serial {display: flex;flex-direction: column;align-items: center;background-color: white;padding-right: 0.2em;padding-left: 0.2em;position: relative;}#sk-container-id-4 div.sk-item {position: relative;z-index: 1;}#sk-container-id-4 div.sk-parallel {display: flex;align-items: stretch;justify-content: center;background-color: white;position: relative;}#sk-container-id-4 div.sk-item::before, #sk-container-id-4 div.sk-parallel-item::before {content: \"\";position: absolute;border-left: 1px solid gray;box-sizing: border-box;top: 0;bottom: 0;left: 50%;z-index: -1;}#sk-container-id-4 div.sk-parallel-item {display: flex;flex-direction: column;z-index: 1;position: relative;background-color: white;}#sk-container-id-4 div.sk-parallel-item:first-child::after {align-self: flex-end;width: 50%;}#sk-container-id-4 div.sk-parallel-item:last-child::after {align-self: flex-start;width: 50%;}#sk-container-id-4 div.sk-parallel-item:only-child::after {width: 0;}#sk-container-id-4 div.sk-dashed-wrapped {border: 1px dashed gray;margin: 0 0.4em 0.5em 0.4em;box-sizing: border-box;padding-bottom: 0.4em;background-color: white;}#sk-container-id-4 div.sk-label label {font-family: monospace;font-weight: bold;display: inline-block;line-height: 1.2em;}#sk-container-id-4 div.sk-label-container {text-align: center;}#sk-container-id-4 div.sk-container {/* jupyter's `normalize.less` sets `[hidden] { display: none; }` but bootstrap.min.css set `[hidden] { display: none !important; }` so we also need the `!important` here to be able to override the default hidden behavior on the sphinx rendered scikit-learn.org. See: https://github.com/scikit-learn/scikit-learn/issues/21755 */display: inline-block !important;position: relative;}#sk-container-id-4 div.sk-text-repr-fallback {display: none;}</style><div id=\"sk-container-id-4\" class=\"sk-top-container\"><div class=\"sk-text-repr-fallback\"><pre>RandomizedSearchCV(cv=StratifiedKFold(n_splits=3, random_state=1234, shuffle=True),\n",
       "                   estimator=Pipeline(steps=[(&#x27;preprocessing&#x27;,\n",
       "                                              ColumnTransformer(sparse_threshold=0,\n",
       "                                                                transformers=[(&#x27;num&#x27;,\n",
       "                                                                               Pipeline(steps=[(&#x27;imputer&#x27;,\n",
       "                                                                                                SimpleImputer(strategy=&#x27;median&#x27;))]),\n",
       "                                                                               [&#x27;account_length&#x27;,\n",
       "                                                                                &#x27;international_plan&#x27;,\n",
       "                                                                                &#x27;voice_mail_plan&#x27;,\n",
       "                                                                                &#x27;number_vmail_messages&#x27;,\n",
       "                                                                                &#x27;total_day_minutes&#x27;,\n",
       "                                                                                &#x27;tot...\n",
       "                   param_distributions={&#x27;model__iterations&#x27;: &lt;scipy.stats._distn_infrastructure.rv_discrete_frozen object at 0x0000012ABD48E2C0&gt;,\n",
       "                                        &#x27;model__learning_rate&#x27;: &lt;scipy.stats._distn_infrastructure.rv_continuous_frozen object at 0x0000012ABD48D5A0&gt;,\n",
       "                                        &#x27;model__min_data_in_leaf&#x27;: &lt;scipy.stats._distn_infrastructure.rv_discrete_frozen object at 0x0000012ABD48C3A0&gt;},\n",
       "                   random_state=1234, scoring=&#x27;balanced_accuracy&#x27;)</pre><b>In a Jupyter environment, please rerun this cell to show the HTML representation or trust the notebook. <br />On GitHub, the HTML representation is unable to render, please try loading this page with nbviewer.org.</b></div><div class=\"sk-container\" hidden><div class=\"sk-item sk-dashed-wrapped\"><div class=\"sk-label-container\"><div class=\"sk-label sk-toggleable\"><input class=\"sk-toggleable__control sk-hidden--visually\" id=\"sk-estimator-id-29\" type=\"checkbox\" ><label for=\"sk-estimator-id-29\" class=\"sk-toggleable__label sk-toggleable__label-arrow\">RandomizedSearchCV</label><div class=\"sk-toggleable__content\"><pre>RandomizedSearchCV(cv=StratifiedKFold(n_splits=3, random_state=1234, shuffle=True),\n",
       "                   estimator=Pipeline(steps=[(&#x27;preprocessing&#x27;,\n",
       "                                              ColumnTransformer(sparse_threshold=0,\n",
       "                                                                transformers=[(&#x27;num&#x27;,\n",
       "                                                                               Pipeline(steps=[(&#x27;imputer&#x27;,\n",
       "                                                                                                SimpleImputer(strategy=&#x27;median&#x27;))]),\n",
       "                                                                               [&#x27;account_length&#x27;,\n",
       "                                                                                &#x27;international_plan&#x27;,\n",
       "                                                                                &#x27;voice_mail_plan&#x27;,\n",
       "                                                                                &#x27;number_vmail_messages&#x27;,\n",
       "                                                                                &#x27;total_day_minutes&#x27;,\n",
       "                                                                                &#x27;tot...\n",
       "                   param_distributions={&#x27;model__iterations&#x27;: &lt;scipy.stats._distn_infrastructure.rv_discrete_frozen object at 0x0000012ABD48E2C0&gt;,\n",
       "                                        &#x27;model__learning_rate&#x27;: &lt;scipy.stats._distn_infrastructure.rv_continuous_frozen object at 0x0000012ABD48D5A0&gt;,\n",
       "                                        &#x27;model__min_data_in_leaf&#x27;: &lt;scipy.stats._distn_infrastructure.rv_discrete_frozen object at 0x0000012ABD48C3A0&gt;},\n",
       "                   random_state=1234, scoring=&#x27;balanced_accuracy&#x27;)</pre></div></div></div><div class=\"sk-parallel\"><div class=\"sk-parallel-item\"><div class=\"sk-item\"><div class=\"sk-label-container\"><div class=\"sk-label sk-toggleable\"><input class=\"sk-toggleable__control sk-hidden--visually\" id=\"sk-estimator-id-30\" type=\"checkbox\" ><label for=\"sk-estimator-id-30\" class=\"sk-toggleable__label sk-toggleable__label-arrow\">estimator: Pipeline</label><div class=\"sk-toggleable__content\"><pre>Pipeline(steps=[(&#x27;preprocessing&#x27;,\n",
       "                 ColumnTransformer(sparse_threshold=0,\n",
       "                                   transformers=[(&#x27;num&#x27;,\n",
       "                                                  Pipeline(steps=[(&#x27;imputer&#x27;,\n",
       "                                                                   SimpleImputer(strategy=&#x27;median&#x27;))]),\n",
       "                                                  [&#x27;account_length&#x27;,\n",
       "                                                   &#x27;international_plan&#x27;,\n",
       "                                                   &#x27;voice_mail_plan&#x27;,\n",
       "                                                   &#x27;number_vmail_messages&#x27;,\n",
       "                                                   &#x27;total_day_minutes&#x27;,\n",
       "                                                   &#x27;total_day_calls&#x27;,\n",
       "                                                   &#x27;total_day_charge&#x27;,\n",
       "                                                   &#x27;total_eve_minutes&#x27;,\n",
       "                                                   &#x27;total_eve_calls&#x27;,\n",
       "                                                   &#x27;total_eve_charge&#x27;,\n",
       "                                                   &#x27;...\n",
       "                                                   &#x27;total_intl_minutes&#x27;,\n",
       "                                                   &#x27;total_intl_calls&#x27;,\n",
       "                                                   &#x27;total_intl_charge&#x27;]),\n",
       "                                                 (&#x27;cat_less9&#x27;,\n",
       "                                                  Pipeline(steps=[(&#x27;imputer&#x27;,\n",
       "                                                                   SimpleImputer(strategy=&#x27;most_frequent&#x27;))]),\n",
       "                                                  [&#x27;area_code&#x27;]),\n",
       "                                                 (&#x27;cat_more9&#x27;,\n",
       "                                                  Pipeline(steps=[(&#x27;imputer&#x27;,\n",
       "                                                                   SimpleImputer(strategy=&#x27;most_frequent&#x27;))]),\n",
       "                                                  [&#x27;state&#x27;,\n",
       "                                                   &#x27;number_customer_service_calls&#x27;])])),\n",
       "                (&#x27;model&#x27;,\n",
       "                 &lt;catboost.core.CatBoostClassifier object at 0x0000012ABD48E410&gt;)])</pre></div></div></div><div class=\"sk-serial\"><div class=\"sk-item\"><div class=\"sk-serial\"><div class=\"sk-item sk-dashed-wrapped\"><div class=\"sk-label-container\"><div class=\"sk-label sk-toggleable\"><input class=\"sk-toggleable__control sk-hidden--visually\" id=\"sk-estimator-id-31\" type=\"checkbox\" ><label for=\"sk-estimator-id-31\" class=\"sk-toggleable__label sk-toggleable__label-arrow\">preprocessing: ColumnTransformer</label><div class=\"sk-toggleable__content\"><pre>ColumnTransformer(sparse_threshold=0,\n",
       "                  transformers=[(&#x27;num&#x27;,\n",
       "                                 Pipeline(steps=[(&#x27;imputer&#x27;,\n",
       "                                                  SimpleImputer(strategy=&#x27;median&#x27;))]),\n",
       "                                 [&#x27;account_length&#x27;, &#x27;international_plan&#x27;,\n",
       "                                  &#x27;voice_mail_plan&#x27;, &#x27;number_vmail_messages&#x27;,\n",
       "                                  &#x27;total_day_minutes&#x27;, &#x27;total_day_calls&#x27;,\n",
       "                                  &#x27;total_day_charge&#x27;, &#x27;total_eve_minutes&#x27;,\n",
       "                                  &#x27;total_eve_calls&#x27;, &#x27;total_eve_charge&#x27;,\n",
       "                                  &#x27;total_night_minutes&#x27;, &#x27;total_night_calls&#x27;,\n",
       "                                  &#x27;total_night_charge&#x27;, &#x27;total_intl_minutes&#x27;,\n",
       "                                  &#x27;total_intl_calls&#x27;, &#x27;total_intl_charge&#x27;]),\n",
       "                                (&#x27;cat_less9&#x27;,\n",
       "                                 Pipeline(steps=[(&#x27;imputer&#x27;,\n",
       "                                                  SimpleImputer(strategy=&#x27;most_frequent&#x27;))]),\n",
       "                                 [&#x27;area_code&#x27;]),\n",
       "                                (&#x27;cat_more9&#x27;,\n",
       "                                 Pipeline(steps=[(&#x27;imputer&#x27;,\n",
       "                                                  SimpleImputer(strategy=&#x27;most_frequent&#x27;))]),\n",
       "                                 [&#x27;state&#x27;, &#x27;number_customer_service_calls&#x27;])])</pre></div></div></div><div class=\"sk-parallel\"><div class=\"sk-parallel-item\"><div class=\"sk-item\"><div class=\"sk-label-container\"><div class=\"sk-label sk-toggleable\"><input class=\"sk-toggleable__control sk-hidden--visually\" id=\"sk-estimator-id-32\" type=\"checkbox\" ><label for=\"sk-estimator-id-32\" class=\"sk-toggleable__label sk-toggleable__label-arrow\">num</label><div class=\"sk-toggleable__content\"><pre>[&#x27;account_length&#x27;, &#x27;international_plan&#x27;, &#x27;voice_mail_plan&#x27;, &#x27;number_vmail_messages&#x27;, &#x27;total_day_minutes&#x27;, &#x27;total_day_calls&#x27;, &#x27;total_day_charge&#x27;, &#x27;total_eve_minutes&#x27;, &#x27;total_eve_calls&#x27;, &#x27;total_eve_charge&#x27;, &#x27;total_night_minutes&#x27;, &#x27;total_night_calls&#x27;, &#x27;total_night_charge&#x27;, &#x27;total_intl_minutes&#x27;, &#x27;total_intl_calls&#x27;, &#x27;total_intl_charge&#x27;]</pre></div></div></div><div class=\"sk-serial\"><div class=\"sk-item\"><div class=\"sk-serial\"><div class=\"sk-item\"><div class=\"sk-estimator sk-toggleable\"><input class=\"sk-toggleable__control sk-hidden--visually\" id=\"sk-estimator-id-33\" type=\"checkbox\" ><label for=\"sk-estimator-id-33\" class=\"sk-toggleable__label sk-toggleable__label-arrow\">SimpleImputer</label><div class=\"sk-toggleable__content\"><pre>SimpleImputer(strategy=&#x27;median&#x27;)</pre></div></div></div></div></div></div></div></div><div class=\"sk-parallel-item\"><div class=\"sk-item\"><div class=\"sk-label-container\"><div class=\"sk-label sk-toggleable\"><input class=\"sk-toggleable__control sk-hidden--visually\" id=\"sk-estimator-id-34\" type=\"checkbox\" ><label for=\"sk-estimator-id-34\" class=\"sk-toggleable__label sk-toggleable__label-arrow\">cat_less9</label><div class=\"sk-toggleable__content\"><pre>[&#x27;area_code&#x27;]</pre></div></div></div><div class=\"sk-serial\"><div class=\"sk-item\"><div class=\"sk-serial\"><div class=\"sk-item\"><div class=\"sk-estimator sk-toggleable\"><input class=\"sk-toggleable__control sk-hidden--visually\" id=\"sk-estimator-id-35\" type=\"checkbox\" ><label for=\"sk-estimator-id-35\" class=\"sk-toggleable__label sk-toggleable__label-arrow\">SimpleImputer</label><div class=\"sk-toggleable__content\"><pre>SimpleImputer(strategy=&#x27;most_frequent&#x27;)</pre></div></div></div></div></div></div></div></div><div class=\"sk-parallel-item\"><div class=\"sk-item\"><div class=\"sk-label-container\"><div class=\"sk-label sk-toggleable\"><input class=\"sk-toggleable__control sk-hidden--visually\" id=\"sk-estimator-id-36\" type=\"checkbox\" ><label for=\"sk-estimator-id-36\" class=\"sk-toggleable__label sk-toggleable__label-arrow\">cat_more9</label><div class=\"sk-toggleable__content\"><pre>[&#x27;state&#x27;, &#x27;number_customer_service_calls&#x27;]</pre></div></div></div><div class=\"sk-serial\"><div class=\"sk-item\"><div class=\"sk-serial\"><div class=\"sk-item\"><div class=\"sk-estimator sk-toggleable\"><input class=\"sk-toggleable__control sk-hidden--visually\" id=\"sk-estimator-id-37\" type=\"checkbox\" ><label for=\"sk-estimator-id-37\" class=\"sk-toggleable__label sk-toggleable__label-arrow\">SimpleImputer</label><div class=\"sk-toggleable__content\"><pre>SimpleImputer(strategy=&#x27;most_frequent&#x27;)</pre></div></div></div></div></div></div></div></div></div></div><div class=\"sk-item\"><div class=\"sk-estimator sk-toggleable\"><input class=\"sk-toggleable__control sk-hidden--visually\" id=\"sk-estimator-id-38\" type=\"checkbox\" ><label for=\"sk-estimator-id-38\" class=\"sk-toggleable__label sk-toggleable__label-arrow\">CatBoostClassifier</label><div class=\"sk-toggleable__content\"><pre>&lt;catboost.core.CatBoostClassifier object at 0x0000012ABD48E410&gt;</pre></div></div></div></div></div></div></div></div></div></div></div></div>"
      ],
      "text/plain": [
       "RandomizedSearchCV(cv=StratifiedKFold(n_splits=3, random_state=1234, shuffle=True),\n",
       "                   estimator=Pipeline(steps=[('preprocessing',\n",
       "                                              ColumnTransformer(sparse_threshold=0,\n",
       "                                                                transformers=[('num',\n",
       "                                                                               Pipeline(steps=[('imputer',\n",
       "                                                                                                SimpleImputer(strategy='median'))]),\n",
       "                                                                               ['account_length',\n",
       "                                                                                'international_plan',\n",
       "                                                                                'voice_mail_plan',\n",
       "                                                                                'number_vmail_messages',\n",
       "                                                                                'total_day_minutes',\n",
       "                                                                                'tot...\n",
       "                   param_distributions={'model__iterations': <scipy.stats._distn_infrastructure.rv_discrete_frozen object at 0x0000012ABD48E2C0>,\n",
       "                                        'model__learning_rate': <scipy.stats._distn_infrastructure.rv_continuous_frozen object at 0x0000012ABD48D5A0>,\n",
       "                                        'model__min_data_in_leaf': <scipy.stats._distn_infrastructure.rv_discrete_frozen object at 0x0000012ABD48C3A0>},\n",
       "                   random_state=1234, scoring='balanced_accuracy')"
      ]
     },
     "execution_count": 44,
     "metadata": {},
     "output_type": "execute_result"
    }
   ],
   "source": [
    "# Display pipeline\n",
    "print(\"Time taken: \", catboost_tune_time_taken9)\n",
    "catboost_tune9"
   ]
  },
  {
   "cell_type": "code",
   "execution_count": 118,
   "metadata": {},
   "outputs": [
    {
     "name": "stdout",
     "output_type": "stream",
     "text": [
      "Best parameters: {'model__iterations': 161, 'model__learning_rate': 0.12262148055008154, 'model__min_data_in_leaf': 30}\n",
      "Balanced accuracy with best parameters: 0.9205357386244892\n"
     ]
    }
   ],
   "source": [
    "# Predict using the model with the best parameters\n",
    "y_catboost_tune_pred = catboost_tune.predict(X_test)\n",
    "\n",
    "# Get the best parameters\n",
    "catboost_tune_best_params = catboost_tune.best_params_\n",
    "print(f'Best parameters: {catboost_tune_best_params}')\n",
    "\n",
    "# Calculate balanced accuracy for the model with the best parameters\n",
    "catboost_tune_accuracy = balanced_accuracy_score(y_test, y_catboost_tune_pred)\n",
    "print(f'Balanced accuracy with best parameters: {catboost_tune_accuracy}')\n",
    "\n",
    "# Save results\n",
    "default_summary.append(\"Tune\")\n",
    "card_9_summary.append(\"AllVariables\")\n",
    "encoder_summary.append(\"CatboostNativeSupport\")\n",
    "value_summary.append(catboost_tune_accuracy)\n",
    "time_summary.append(catboost_tune_time_taken)\n",
    "n_models_summary.append(catboost_tune.n_iter)"
   ]
  },
  {
   "cell_type": "code",
   "execution_count": 119,
   "metadata": {},
   "outputs": [
    {
     "name": "stdout",
     "output_type": "stream",
     "text": [
      "Best parameters: {'model__iterations': 161, 'model__learning_rate': 0.12262148055008154, 'model__min_data_in_leaf': 30}\n",
      "Balanced accuracy with best parameters: 0.9205357386244892\n"
     ]
    }
   ],
   "source": [
    "# Predict using the model with the best parameters\n",
    "y_catboost_tune_pred9 = catboost_tune9.predict(X_test)\n",
    "\n",
    "# Get the best parameters\n",
    "catboost_tune_best_params9 = catboost_tune9.best_params_\n",
    "print(f'Best parameters: {catboost_tune_best_params9}')\n",
    "\n",
    "# Calculate balanced accuracy for the model with the best parameters\n",
    "catboost_tune_accuracy9 = balanced_accuracy_score(y_test, y_catboost_tune_pred9)\n",
    "print(f'Balanced accuracy with best parameters: {catboost_tune_accuracy9}')\n",
    "\n",
    "# Save results\n",
    "default_summary.append(\"Tune\")\n",
    "card_9_summary.append(\"OnlyVariablesWithCard>9\")\n",
    "encoder_summary.append(\"CatboostNativeSupport\")\n",
    "value_summary.append(catboost_tune_accuracy9)\n",
    "time_summary.append(catboost_tune_time_taken9)\n",
    "n_models_summary.append(catboost_tune9.n_iter)"
   ]
  },
  {
   "cell_type": "markdown",
   "metadata": {},
   "source": [
    "### Results Summary"
   ]
  },
  {
   "cell_type": "code",
   "execution_count": 120,
   "metadata": {},
   "outputs": [
    {
     "data": {
      "text/html": [
       "<div>\n",
       "<style scoped>\n",
       "    .dataframe tbody tr th:only-of-type {\n",
       "        vertical-align: middle;\n",
       "    }\n",
       "\n",
       "    .dataframe tbody tr th {\n",
       "        vertical-align: top;\n",
       "    }\n",
       "\n",
       "    .dataframe thead th {\n",
       "        text-align: right;\n",
       "    }\n",
       "</style>\n",
       "<table border=\"1\" class=\"dataframe\">\n",
       "  <thead>\n",
       "    <tr style=\"text-align: right;\">\n",
       "      <th></th>\n",
       "      <th>Dataset</th>\n",
       "      <th>Model</th>\n",
       "      <th>Variables</th>\n",
       "      <th>Default/Tune</th>\n",
       "      <th>Encoder</th>\n",
       "      <th>Metric</th>\n",
       "      <th>Value</th>\n",
       "      <th>Time</th>\n",
       "      <th>Iterations</th>\n",
       "      <th>mean_Time</th>\n",
       "    </tr>\n",
       "  </thead>\n",
       "  <tbody>\n",
       "    <tr>\n",
       "      <th>0</th>\n",
       "      <td>churn</td>\n",
       "      <td>HistGradientBoosting</td>\n",
       "      <td>AllVariables</td>\n",
       "      <td>Default</td>\n",
       "      <td>OneHotEncoding</td>\n",
       "      <td>BalancedAccuracy</td>\n",
       "      <td>0.887469</td>\n",
       "      <td>1.315982</td>\n",
       "      <td>1</td>\n",
       "      <td>1.315982</td>\n",
       "    </tr>\n",
       "    <tr>\n",
       "      <th>1</th>\n",
       "      <td>churn</td>\n",
       "      <td>HistGradientBoosting</td>\n",
       "      <td>AllVariables</td>\n",
       "      <td>Tune</td>\n",
       "      <td>OneHotEncoding</td>\n",
       "      <td>BalancedAccuracy</td>\n",
       "      <td>0.889024</td>\n",
       "      <td>95.508237</td>\n",
       "      <td>100</td>\n",
       "      <td>0.955082</td>\n",
       "    </tr>\n",
       "    <tr>\n",
       "      <th>2</th>\n",
       "      <td>churn</td>\n",
       "      <td>HistGradientBoosting</td>\n",
       "      <td>AllVariables</td>\n",
       "      <td>Default</td>\n",
       "      <td>CountEncoding</td>\n",
       "      <td>BalancedAccuracy</td>\n",
       "      <td>0.904636</td>\n",
       "      <td>0.605803</td>\n",
       "      <td>1</td>\n",
       "      <td>0.605803</td>\n",
       "    </tr>\n",
       "    <tr>\n",
       "      <th>3</th>\n",
       "      <td>churn</td>\n",
       "      <td>HistGradientBoosting</td>\n",
       "      <td>OnlyVariablesWithCard&gt;9</td>\n",
       "      <td>Default</td>\n",
       "      <td>CountEncoding</td>\n",
       "      <td>BalancedAccuracy</td>\n",
       "      <td>0.904636</td>\n",
       "      <td>0.650198</td>\n",
       "      <td>1</td>\n",
       "      <td>0.650198</td>\n",
       "    </tr>\n",
       "    <tr>\n",
       "      <th>4</th>\n",
       "      <td>churn</td>\n",
       "      <td>HistGradientBoosting</td>\n",
       "      <td>AllVariables</td>\n",
       "      <td>Tune</td>\n",
       "      <td>CountEncoding</td>\n",
       "      <td>BalancedAccuracy</td>\n",
       "      <td>0.899048</td>\n",
       "      <td>25.017952</td>\n",
       "      <td>300</td>\n",
       "      <td>0.083393</td>\n",
       "    </tr>\n",
       "    <tr>\n",
       "      <th>5</th>\n",
       "      <td>churn</td>\n",
       "      <td>HistGradientBoosting</td>\n",
       "      <td>OnlyVariablesWithCard&gt;9</td>\n",
       "      <td>Tune</td>\n",
       "      <td>CountEncoding</td>\n",
       "      <td>BalancedAccuracy</td>\n",
       "      <td>0.899048</td>\n",
       "      <td>21.505853</td>\n",
       "      <td>100</td>\n",
       "      <td>0.215059</td>\n",
       "    </tr>\n",
       "    <tr>\n",
       "      <th>6</th>\n",
       "      <td>churn</td>\n",
       "      <td>HistGradientBoosting</td>\n",
       "      <td>AllVariables</td>\n",
       "      <td>Default</td>\n",
       "      <td>OrdinalEncoder</td>\n",
       "      <td>BalancedAccuracy</td>\n",
       "      <td>0.901756</td>\n",
       "      <td>0.579818</td>\n",
       "      <td>1</td>\n",
       "      <td>0.579818</td>\n",
       "    </tr>\n",
       "    <tr>\n",
       "      <th>7</th>\n",
       "      <td>churn</td>\n",
       "      <td>HistGradientBoosting</td>\n",
       "      <td>OnlyVariablesWithCard&gt;9</td>\n",
       "      <td>Default</td>\n",
       "      <td>OrdinalEncoder</td>\n",
       "      <td>BalancedAccuracy</td>\n",
       "      <td>0.911427</td>\n",
       "      <td>0.622786</td>\n",
       "      <td>1</td>\n",
       "      <td>0.622786</td>\n",
       "    </tr>\n",
       "    <tr>\n",
       "      <th>8</th>\n",
       "      <td>churn</td>\n",
       "      <td>HistGradientBoosting</td>\n",
       "      <td>AllVariables</td>\n",
       "      <td>Tune</td>\n",
       "      <td>OrdinalEncoder</td>\n",
       "      <td>BalancedAccuracy</td>\n",
       "      <td>0.916892</td>\n",
       "      <td>21.227329</td>\n",
       "      <td>100</td>\n",
       "      <td>0.212273</td>\n",
       "    </tr>\n",
       "    <tr>\n",
       "      <th>9</th>\n",
       "      <td>churn</td>\n",
       "      <td>HistGradientBoosting</td>\n",
       "      <td>OnlyVariablesWithCard&gt;9</td>\n",
       "      <td>Tune</td>\n",
       "      <td>OrdinalEncoder</td>\n",
       "      <td>BalancedAccuracy</td>\n",
       "      <td>0.903253</td>\n",
       "      <td>20.529820</td>\n",
       "      <td>100</td>\n",
       "      <td>0.205298</td>\n",
       "    </tr>\n",
       "    <tr>\n",
       "      <th>10</th>\n",
       "      <td>churn</td>\n",
       "      <td>HistGradientBoosting</td>\n",
       "      <td>AllVariables</td>\n",
       "      <td>Default</td>\n",
       "      <td>HGB_NativeSupport</td>\n",
       "      <td>BalancedAccuracy</td>\n",
       "      <td>0.893201</td>\n",
       "      <td>0.674697</td>\n",
       "      <td>1</td>\n",
       "      <td>0.674697</td>\n",
       "    </tr>\n",
       "    <tr>\n",
       "      <th>11</th>\n",
       "      <td>churn</td>\n",
       "      <td>HistGradientBoosting</td>\n",
       "      <td>OnlyVariablesWithCard&gt;9</td>\n",
       "      <td>Default</td>\n",
       "      <td>HGB_NativeSupport</td>\n",
       "      <td>BalancedAccuracy</td>\n",
       "      <td>0.898904</td>\n",
       "      <td>0.663384</td>\n",
       "      <td>1</td>\n",
       "      <td>0.663384</td>\n",
       "    </tr>\n",
       "    <tr>\n",
       "      <th>12</th>\n",
       "      <td>churn</td>\n",
       "      <td>HistGradientBoosting</td>\n",
       "      <td>AllVariables</td>\n",
       "      <td>Tune</td>\n",
       "      <td>HGB_NativeSupport</td>\n",
       "      <td>BalancedAccuracy</td>\n",
       "      <td>0.904751</td>\n",
       "      <td>22.051369</td>\n",
       "      <td>100</td>\n",
       "      <td>0.220514</td>\n",
       "    </tr>\n",
       "    <tr>\n",
       "      <th>13</th>\n",
       "      <td>churn</td>\n",
       "      <td>HistGradientBoosting</td>\n",
       "      <td>OnlyVariablesWithCard&gt;9</td>\n",
       "      <td>Tune</td>\n",
       "      <td>HGB_NativeSupport</td>\n",
       "      <td>BalancedAccuracy</td>\n",
       "      <td>0.904017</td>\n",
       "      <td>21.516292</td>\n",
       "      <td>100</td>\n",
       "      <td>0.215163</td>\n",
       "    </tr>\n",
       "    <tr>\n",
       "      <th>14</th>\n",
       "      <td>churn</td>\n",
       "      <td>HistGradientBoosting</td>\n",
       "      <td>AllVariables</td>\n",
       "      <td>Default</td>\n",
       "      <td>TargetEncoder</td>\n",
       "      <td>BalancedAccuracy</td>\n",
       "      <td>0.905723</td>\n",
       "      <td>0.586390</td>\n",
       "      <td>1</td>\n",
       "      <td>0.586390</td>\n",
       "    </tr>\n",
       "    <tr>\n",
       "      <th>15</th>\n",
       "      <td>churn</td>\n",
       "      <td>HistGradientBoosting</td>\n",
       "      <td>OnlyVariablesWithCard&gt;9</td>\n",
       "      <td>Default</td>\n",
       "      <td>TargetEncoder</td>\n",
       "      <td>BalancedAccuracy</td>\n",
       "      <td>0.898904</td>\n",
       "      <td>0.600032</td>\n",
       "      <td>1</td>\n",
       "      <td>0.600032</td>\n",
       "    </tr>\n",
       "    <tr>\n",
       "      <th>16</th>\n",
       "      <td>churn</td>\n",
       "      <td>HistGradientBoosting</td>\n",
       "      <td>AllVariables</td>\n",
       "      <td>Tune</td>\n",
       "      <td>TargetEncoder</td>\n",
       "      <td>BalancedAccuracy</td>\n",
       "      <td>0.902900</td>\n",
       "      <td>21.118947</td>\n",
       "      <td>100</td>\n",
       "      <td>0.211189</td>\n",
       "    </tr>\n",
       "    <tr>\n",
       "      <th>17</th>\n",
       "      <td>churn</td>\n",
       "      <td>HistGradientBoosting</td>\n",
       "      <td>OnlyVariablesWithCard&gt;9</td>\n",
       "      <td>Tune</td>\n",
       "      <td>TargetEncoder</td>\n",
       "      <td>BalancedAccuracy</td>\n",
       "      <td>0.909749</td>\n",
       "      <td>20.743098</td>\n",
       "      <td>100</td>\n",
       "      <td>0.207431</td>\n",
       "    </tr>\n",
       "    <tr>\n",
       "      <th>18</th>\n",
       "      <td>churn</td>\n",
       "      <td>HistGradientBoosting</td>\n",
       "      <td>AllVariables</td>\n",
       "      <td>Default</td>\n",
       "      <td>CatboostNativeSupport</td>\n",
       "      <td>BalancedAccuracy</td>\n",
       "      <td>0.911189</td>\n",
       "      <td>18.673810</td>\n",
       "      <td>1</td>\n",
       "      <td>18.673810</td>\n",
       "    </tr>\n",
       "    <tr>\n",
       "      <th>19</th>\n",
       "      <td>churn</td>\n",
       "      <td>HistGradientBoosting</td>\n",
       "      <td>OnlyVariablesWithCard&gt;9</td>\n",
       "      <td>Default</td>\n",
       "      <td>CatboostNativeSupport</td>\n",
       "      <td>BalancedAccuracy</td>\n",
       "      <td>0.911189</td>\n",
       "      <td>18.011463</td>\n",
       "      <td>1</td>\n",
       "      <td>18.011463</td>\n",
       "    </tr>\n",
       "    <tr>\n",
       "      <th>20</th>\n",
       "      <td>churn</td>\n",
       "      <td>HistGradientBoosting</td>\n",
       "      <td>AllVariables</td>\n",
       "      <td>Tune</td>\n",
       "      <td>CatboostNativeSupport</td>\n",
       "      <td>BalancedAccuracy</td>\n",
       "      <td>0.920536</td>\n",
       "      <td>147.114685</td>\n",
       "      <td>100</td>\n",
       "      <td>1.471147</td>\n",
       "    </tr>\n",
       "    <tr>\n",
       "      <th>21</th>\n",
       "      <td>churn</td>\n",
       "      <td>HistGradientBoosting</td>\n",
       "      <td>OnlyVariablesWithCard&gt;9</td>\n",
       "      <td>Tune</td>\n",
       "      <td>CatboostNativeSupport</td>\n",
       "      <td>BalancedAccuracy</td>\n",
       "      <td>0.920536</td>\n",
       "      <td>148.660301</td>\n",
       "      <td>100</td>\n",
       "      <td>1.486603</td>\n",
       "    </tr>\n",
       "  </tbody>\n",
       "</table>\n",
       "</div>"
      ],
      "text/plain": [
       "   Dataset                 Model                Variables Default/Tune  \\\n",
       "0    churn  HistGradientBoosting             AllVariables      Default   \n",
       "1    churn  HistGradientBoosting             AllVariables         Tune   \n",
       "2    churn  HistGradientBoosting             AllVariables      Default   \n",
       "3    churn  HistGradientBoosting  OnlyVariablesWithCard>9      Default   \n",
       "4    churn  HistGradientBoosting             AllVariables         Tune   \n",
       "5    churn  HistGradientBoosting  OnlyVariablesWithCard>9         Tune   \n",
       "6    churn  HistGradientBoosting             AllVariables      Default   \n",
       "7    churn  HistGradientBoosting  OnlyVariablesWithCard>9      Default   \n",
       "8    churn  HistGradientBoosting             AllVariables         Tune   \n",
       "9    churn  HistGradientBoosting  OnlyVariablesWithCard>9         Tune   \n",
       "10   churn  HistGradientBoosting             AllVariables      Default   \n",
       "11   churn  HistGradientBoosting  OnlyVariablesWithCard>9      Default   \n",
       "12   churn  HistGradientBoosting             AllVariables         Tune   \n",
       "13   churn  HistGradientBoosting  OnlyVariablesWithCard>9         Tune   \n",
       "14   churn  HistGradientBoosting             AllVariables      Default   \n",
       "15   churn  HistGradientBoosting  OnlyVariablesWithCard>9      Default   \n",
       "16   churn  HistGradientBoosting             AllVariables         Tune   \n",
       "17   churn  HistGradientBoosting  OnlyVariablesWithCard>9         Tune   \n",
       "18   churn  HistGradientBoosting             AllVariables      Default   \n",
       "19   churn  HistGradientBoosting  OnlyVariablesWithCard>9      Default   \n",
       "20   churn  HistGradientBoosting             AllVariables         Tune   \n",
       "21   churn  HistGradientBoosting  OnlyVariablesWithCard>9         Tune   \n",
       "\n",
       "                  Encoder            Metric     Value        Time  Iterations  \\\n",
       "0          OneHotEncoding  BalancedAccuracy  0.887469    1.315982           1   \n",
       "1          OneHotEncoding  BalancedAccuracy  0.889024   95.508237         100   \n",
       "2           CountEncoding  BalancedAccuracy  0.904636    0.605803           1   \n",
       "3           CountEncoding  BalancedAccuracy  0.904636    0.650198           1   \n",
       "4           CountEncoding  BalancedAccuracy  0.899048   25.017952         300   \n",
       "5           CountEncoding  BalancedAccuracy  0.899048   21.505853         100   \n",
       "6          OrdinalEncoder  BalancedAccuracy  0.901756    0.579818           1   \n",
       "7          OrdinalEncoder  BalancedAccuracy  0.911427    0.622786           1   \n",
       "8          OrdinalEncoder  BalancedAccuracy  0.916892   21.227329         100   \n",
       "9          OrdinalEncoder  BalancedAccuracy  0.903253   20.529820         100   \n",
       "10      HGB_NativeSupport  BalancedAccuracy  0.893201    0.674697           1   \n",
       "11      HGB_NativeSupport  BalancedAccuracy  0.898904    0.663384           1   \n",
       "12      HGB_NativeSupport  BalancedAccuracy  0.904751   22.051369         100   \n",
       "13      HGB_NativeSupport  BalancedAccuracy  0.904017   21.516292         100   \n",
       "14          TargetEncoder  BalancedAccuracy  0.905723    0.586390           1   \n",
       "15          TargetEncoder  BalancedAccuracy  0.898904    0.600032           1   \n",
       "16          TargetEncoder  BalancedAccuracy  0.902900   21.118947         100   \n",
       "17          TargetEncoder  BalancedAccuracy  0.909749   20.743098         100   \n",
       "18  CatboostNativeSupport  BalancedAccuracy  0.911189   18.673810           1   \n",
       "19  CatboostNativeSupport  BalancedAccuracy  0.911189   18.011463           1   \n",
       "20  CatboostNativeSupport  BalancedAccuracy  0.920536  147.114685         100   \n",
       "21  CatboostNativeSupport  BalancedAccuracy  0.920536  148.660301         100   \n",
       "\n",
       "    mean_Time  \n",
       "0    1.315982  \n",
       "1    0.955082  \n",
       "2    0.605803  \n",
       "3    0.650198  \n",
       "4    0.083393  \n",
       "5    0.215059  \n",
       "6    0.579818  \n",
       "7    0.622786  \n",
       "8    0.212273  \n",
       "9    0.205298  \n",
       "10   0.674697  \n",
       "11   0.663384  \n",
       "12   0.220514  \n",
       "13   0.215163  \n",
       "14   0.586390  \n",
       "15   0.600032  \n",
       "16   0.211189  \n",
       "17   0.207431  \n",
       "18  18.673810  \n",
       "19  18.011463  \n",
       "20   1.471147  \n",
       "21   1.486603  "
      ]
     },
     "execution_count": 120,
     "metadata": {},
     "output_type": "execute_result"
    }
   ],
   "source": [
    "results_summary = pd.DataFrame({\"Dataset\":\"churn\",\n",
    "                                \"Model\":\"HistGradientBoosting\",\n",
    "                                \"Variables\":card_9_summary,\n",
    "                                \"Default/Tune\":default_summary,\n",
    "                                \"Encoder\":encoder_summary,\n",
    "                                \"Metric\":\"BalancedAccuracy\",\n",
    "                                \"Value\":value_summary,\n",
    "                                \"Time\":time_summary,\n",
    "                                \"Iterations\":n_models_summary})\n",
    "results_summary[\"mean_Time\"] = (results_summary[\"Time\"] / results_summary[\"Iterations\"])\n",
    "results_summary"
   ]
  },
  {
   "cell_type": "code",
   "execution_count": 121,
   "metadata": {},
   "outputs": [],
   "source": [
    "results_summary.to_csv(\"churn_results.csv\")"
   ]
  }
 ],
 "metadata": {
  "kernelspec": {
   "display_name": "Python 3 (ipykernel)",
   "language": "python",
   "name": "python3"
  },
  "language_info": {
   "codemirror_mode": {
    "name": "ipython",
    "version": 3
   },
   "file_extension": ".py",
   "mimetype": "text/x-python",
   "name": "python",
   "nbconvert_exporter": "python",
   "pygments_lexer": "ipython3",
   "version": "3.10.11"
  }
 },
 "nbformat": 4,
 "nbformat_minor": 5
}
