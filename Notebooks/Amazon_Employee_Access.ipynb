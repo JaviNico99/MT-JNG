{
 "cells": [
  {
   "cell_type": "markdown",
   "metadata": {},
   "source": [
    "# \"Amazon Employee Access\" dataset"
   ]
  },
  {
   "cell_type": "code",
   "execution_count": 1,
   "id": "60f5dfa4",
   "metadata": {},
   "outputs": [],
   "source": [
    "# data manipulation\n",
    "from scipy.io import arff\n",
    "import pandas as pd\n",
    "import numpy as np\n",
    "from scipy.stats import chi2_contingency\n"
   ]
  },
  {
   "cell_type": "code",
   "execution_count": 2,
   "id": "09546229",
   "metadata": {},
   "outputs": [],
   "source": [
    "from sklearn.datasets import fetch_openml\n",
    "\n",
    "data = fetch_openml(data_id=4135, parser='auto')\n",
    "\n",
    "# The returned dataset is a Bunch object, similar to a dictionary\n",
    "X = data['data']\n",
    "y = data['target']"
   ]
  },
  {
   "cell_type": "code",
   "execution_count": 3,
   "metadata": {},
   "outputs": [],
   "source": [
    "# Summary vectors creation\n",
    "\n",
    "default_summary  = []\n",
    "encoder_summary  = []\n",
    "early_stopping_summary = []\n",
    "value_summary    = []\n",
    "time_summary     = []\n",
    "n_models_summary = []\n",
    "card_9_summary   = []"
   ]
  },
  {
   "cell_type": "markdown",
   "id": "3ebebceb",
   "metadata": {},
   "source": [
    "#### Description\n",
    "The data consists of real historical data collected from 2010 & 2011. Employees are manually allowed or denied access to resources over time. The data is used to create an algorithm capable of learning from this historical data to predict approval/denial for an unseen set of employees.\n",
    "\n",
    "#### Attributes Information\n",
    "- ACTION [target]: ACTION is 1 if the resource was approved, 0 if the resource was not\n",
    "- RESOURCE: An ID for each resource\n",
    "- MGR_ID: The EMPLOYEE ID of the manager of the current EMPLOYEE ID record; an employee may have only one manager at a time\n",
    "- ROLE_ROLLUP_1: Company role grouping category id 1 (e.g. US Engineering)\n",
    "- ROLE_ROLLUP_2: Company role grouping category id 2 (e.g. US Retail)\n",
    "- ROLE_DEPTNAME: Company role department description (e.g. Retail)\n",
    "- ROLE_TITLE: Company role business title description (e.g. Senior Engineering Retail Manager)\n",
    "- ROLE_FAMILY_DESC: Company role family extended description (e.g. Retail Manager, Software Engineering)\n",
    "- ROLE_FAMILY: Company role family description (e.g. Retail Manager)\n",
    "- ROLE_CODE: Company role code; this code is unique to each role (e.g. Manager)"
   ]
  },
  {
   "cell_type": "code",
   "execution_count": 4,
   "id": "1c604e10",
   "metadata": {},
   "outputs": [
    {
     "data": {
      "text/html": [
       "<div>\n",
       "<style scoped>\n",
       "    .dataframe tbody tr th:only-of-type {\n",
       "        vertical-align: middle;\n",
       "    }\n",
       "\n",
       "    .dataframe tbody tr th {\n",
       "        vertical-align: top;\n",
       "    }\n",
       "\n",
       "    .dataframe thead th {\n",
       "        text-align: right;\n",
       "    }\n",
       "</style>\n",
       "<table border=\"1\" class=\"dataframe\">\n",
       "  <thead>\n",
       "    <tr style=\"text-align: right;\">\n",
       "      <th></th>\n",
       "      <th>RESOURCE</th>\n",
       "      <th>MGR_ID</th>\n",
       "      <th>ROLE_ROLLUP_1</th>\n",
       "      <th>ROLE_ROLLUP_2</th>\n",
       "      <th>ROLE_DEPTNAME</th>\n",
       "      <th>ROLE_TITLE</th>\n",
       "      <th>ROLE_FAMILY_DESC</th>\n",
       "      <th>ROLE_FAMILY</th>\n",
       "      <th>ROLE_CODE</th>\n",
       "    </tr>\n",
       "  </thead>\n",
       "  <tbody>\n",
       "    <tr>\n",
       "      <th>0</th>\n",
       "      <td>39353</td>\n",
       "      <td>85475</td>\n",
       "      <td>117961</td>\n",
       "      <td>118300</td>\n",
       "      <td>123472</td>\n",
       "      <td>117905</td>\n",
       "      <td>117906</td>\n",
       "      <td>290919</td>\n",
       "      <td>117908</td>\n",
       "    </tr>\n",
       "    <tr>\n",
       "      <th>1</th>\n",
       "      <td>17183</td>\n",
       "      <td>1540</td>\n",
       "      <td>117961</td>\n",
       "      <td>118343</td>\n",
       "      <td>123125</td>\n",
       "      <td>118536</td>\n",
       "      <td>118536</td>\n",
       "      <td>308574</td>\n",
       "      <td>118539</td>\n",
       "    </tr>\n",
       "    <tr>\n",
       "      <th>2</th>\n",
       "      <td>36724</td>\n",
       "      <td>14457</td>\n",
       "      <td>118219</td>\n",
       "      <td>118220</td>\n",
       "      <td>117884</td>\n",
       "      <td>117879</td>\n",
       "      <td>267952</td>\n",
       "      <td>19721</td>\n",
       "      <td>117880</td>\n",
       "    </tr>\n",
       "    <tr>\n",
       "      <th>3</th>\n",
       "      <td>36135</td>\n",
       "      <td>5396</td>\n",
       "      <td>117961</td>\n",
       "      <td>118343</td>\n",
       "      <td>119993</td>\n",
       "      <td>118321</td>\n",
       "      <td>240983</td>\n",
       "      <td>290919</td>\n",
       "      <td>118322</td>\n",
       "    </tr>\n",
       "    <tr>\n",
       "      <th>4</th>\n",
       "      <td>42680</td>\n",
       "      <td>5905</td>\n",
       "      <td>117929</td>\n",
       "      <td>117930</td>\n",
       "      <td>119569</td>\n",
       "      <td>119323</td>\n",
       "      <td>123932</td>\n",
       "      <td>19793</td>\n",
       "      <td>119325</td>\n",
       "    </tr>\n",
       "  </tbody>\n",
       "</table>\n",
       "</div>"
      ],
      "text/plain": [
       "  RESOURCE MGR_ID ROLE_ROLLUP_1 ROLE_ROLLUP_2 ROLE_DEPTNAME ROLE_TITLE  \\\n",
       "0    39353  85475        117961        118300        123472     117905   \n",
       "1    17183   1540        117961        118343        123125     118536   \n",
       "2    36724  14457        118219        118220        117884     117879   \n",
       "3    36135   5396        117961        118343        119993     118321   \n",
       "4    42680   5905        117929        117930        119569     119323   \n",
       "\n",
       "  ROLE_FAMILY_DESC ROLE_FAMILY ROLE_CODE  \n",
       "0           117906      290919    117908  \n",
       "1           118536      308574    118539  \n",
       "2           267952       19721    117880  \n",
       "3           240983      290919    118322  \n",
       "4           123932       19793    119325  "
      ]
     },
     "execution_count": 4,
     "metadata": {},
     "output_type": "execute_result"
    }
   ],
   "source": [
    "X.head()"
   ]
  },
  {
   "cell_type": "markdown",
   "id": "ace0a82e",
   "metadata": {},
   "source": [
    "We check for duplicate rows."
   ]
  },
  {
   "cell_type": "code",
   "execution_count": 5,
   "id": "db5ca67f",
   "metadata": {},
   "outputs": [
    {
     "data": {
      "text/plain": [
       "0"
      ]
     },
     "execution_count": 5,
     "metadata": {},
     "output_type": "execute_result"
    }
   ],
   "source": [
    "X.duplicated().sum()"
   ]
  },
  {
   "cell_type": "markdown",
   "id": "4a4db7ef",
   "metadata": {},
   "source": [
    "We eliminate the RESOURCE variable since its only function is to identify the observation, without providing any additional information."
   ]
  },
  {
   "cell_type": "code",
   "execution_count": 6,
   "id": "6f063b43",
   "metadata": {},
   "outputs": [],
   "source": [
    "X = X.drop('RESOURCE', axis=1)"
   ]
  },
  {
   "cell_type": "code",
   "execution_count": 7,
   "id": "8907a993",
   "metadata": {
    "scrolled": false
   },
   "outputs": [
    {
     "data": {
      "text/plain": [
       "MGR_ID              category\n",
       "ROLE_ROLLUP_1       category\n",
       "ROLE_ROLLUP_2       category\n",
       "ROLE_DEPTNAME       category\n",
       "ROLE_TITLE          category\n",
       "ROLE_FAMILY_DESC    category\n",
       "ROLE_FAMILY         category\n",
       "ROLE_CODE           category\n",
       "dtype: object"
      ]
     },
     "execution_count": 7,
     "metadata": {},
     "output_type": "execute_result"
    }
   ],
   "source": [
    "X.dtypes"
   ]
  },
  {
   "cell_type": "code",
   "execution_count": 8,
   "id": "fe6654de",
   "metadata": {},
   "outputs": [
    {
     "name": "stdout",
     "output_type": "stream",
     "text": [
      "<class 'pandas.core.frame.DataFrame'>\n",
      "RangeIndex: 32769 entries, 0 to 32768\n",
      "Data columns (total 8 columns):\n",
      " #   Column            Non-Null Count  Dtype   \n",
      "---  ------            --------------  -----   \n",
      " 0   MGR_ID            32769 non-null  category\n",
      " 1   ROLE_ROLLUP_1     32769 non-null  category\n",
      " 2   ROLE_ROLLUP_2     32769 non-null  category\n",
      " 3   ROLE_DEPTNAME     32769 non-null  category\n",
      " 4   ROLE_TITLE        32769 non-null  category\n",
      " 5   ROLE_FAMILY_DESC  32769 non-null  category\n",
      " 6   ROLE_FAMILY       32769 non-null  category\n",
      " 7   ROLE_CODE         32769 non-null  category\n",
      "dtypes: category(8)\n",
      "memory usage: 779.6 KB\n"
     ]
    }
   ],
   "source": [
    "X.info()"
   ]
  },
  {
   "cell_type": "code",
   "execution_count": 9,
   "id": "fdd9bf0f",
   "metadata": {
    "scrolled": true
   },
   "outputs": [
    {
     "data": {
      "text/plain": [
       "(32769, 8)"
      ]
     },
     "execution_count": 9,
     "metadata": {},
     "output_type": "execute_result"
    }
   ],
   "source": [
    "X.shape"
   ]
  },
  {
   "cell_type": "code",
   "execution_count": 10,
   "id": "c564e688",
   "metadata": {},
   "outputs": [
    {
     "data": {
      "text/html": [
       "<div>\n",
       "<style scoped>\n",
       "    .dataframe tbody tr th:only-of-type {\n",
       "        vertical-align: middle;\n",
       "    }\n",
       "\n",
       "    .dataframe tbody tr th {\n",
       "        vertical-align: top;\n",
       "    }\n",
       "\n",
       "    .dataframe thead th {\n",
       "        text-align: right;\n",
       "    }\n",
       "</style>\n",
       "<table border=\"1\" class=\"dataframe\">\n",
       "  <thead>\n",
       "    <tr style=\"text-align: right;\">\n",
       "      <th></th>\n",
       "      <th>MGR_ID</th>\n",
       "      <th>ROLE_ROLLUP_1</th>\n",
       "      <th>ROLE_ROLLUP_2</th>\n",
       "      <th>ROLE_DEPTNAME</th>\n",
       "      <th>ROLE_TITLE</th>\n",
       "      <th>ROLE_FAMILY_DESC</th>\n",
       "      <th>ROLE_FAMILY</th>\n",
       "      <th>ROLE_CODE</th>\n",
       "    </tr>\n",
       "  </thead>\n",
       "  <tbody>\n",
       "    <tr>\n",
       "      <th>count</th>\n",
       "      <td>32769</td>\n",
       "      <td>32769</td>\n",
       "      <td>32769</td>\n",
       "      <td>32769</td>\n",
       "      <td>32769</td>\n",
       "      <td>32769</td>\n",
       "      <td>32769</td>\n",
       "      <td>32769</td>\n",
       "    </tr>\n",
       "    <tr>\n",
       "      <th>unique</th>\n",
       "      <td>4243</td>\n",
       "      <td>128</td>\n",
       "      <td>177</td>\n",
       "      <td>449</td>\n",
       "      <td>343</td>\n",
       "      <td>2358</td>\n",
       "      <td>67</td>\n",
       "      <td>343</td>\n",
       "    </tr>\n",
       "    <tr>\n",
       "      <th>top</th>\n",
       "      <td>770</td>\n",
       "      <td>117961</td>\n",
       "      <td>118300</td>\n",
       "      <td>117878</td>\n",
       "      <td>118321</td>\n",
       "      <td>117906</td>\n",
       "      <td>290919</td>\n",
       "      <td>118322</td>\n",
       "    </tr>\n",
       "    <tr>\n",
       "      <th>freq</th>\n",
       "      <td>152</td>\n",
       "      <td>21407</td>\n",
       "      <td>4424</td>\n",
       "      <td>1135</td>\n",
       "      <td>4649</td>\n",
       "      <td>6896</td>\n",
       "      <td>10980</td>\n",
       "      <td>4649</td>\n",
       "    </tr>\n",
       "  </tbody>\n",
       "</table>\n",
       "</div>"
      ],
      "text/plain": [
       "       MGR_ID ROLE_ROLLUP_1 ROLE_ROLLUP_2 ROLE_DEPTNAME ROLE_TITLE  \\\n",
       "count   32769         32769         32769         32769      32769   \n",
       "unique   4243           128           177           449        343   \n",
       "top       770        117961        118300        117878     118321   \n",
       "freq      152         21407          4424          1135       4649   \n",
       "\n",
       "       ROLE_FAMILY_DESC ROLE_FAMILY ROLE_CODE  \n",
       "count             32769       32769     32769  \n",
       "unique             2358          67       343  \n",
       "top              117906      290919    118322  \n",
       "freq               6896       10980      4649  "
      ]
     },
     "execution_count": 10,
     "metadata": {},
     "output_type": "execute_result"
    }
   ],
   "source": [
    "X.describe()"
   ]
  },
  {
   "cell_type": "markdown",
   "id": "a5ceecb9",
   "metadata": {},
   "source": []
  },
  {
   "cell_type": "markdown",
   "id": "bcdddc5e",
   "metadata": {},
   "source": [
    "## Variables"
   ]
  },
  {
   "cell_type": "markdown",
   "id": "746b7d4f",
   "metadata": {},
   "source": [
    "We can observe that the variables **ROLE_TITLE** and **ROLE_CODE** are completely correlated. We observe that for each value of **ROLE_TITLE**, there does not exist more than one value of **ROLE_CODE** and vice versa. Then, we confirm our statement with a chi-squared test to confirm the 'correlation' between the two variables."
   ]
  },
  {
   "cell_type": "code",
   "execution_count": 11,
   "id": "a624b82b",
   "metadata": {},
   "outputs": [
    {
     "name": "stdout",
     "output_type": "stream",
     "text": [
      "Max ROLE_CODE for each ROLE_TITLE: 1\n"
     ]
    }
   ],
   "source": [
    "ncode_forrole = X.groupby('ROLE_TITLE', as_index=False, observed=True)['ROLE_CODE'].nunique()\n",
    "max_rolecode = np.max(ncode_forrole['ROLE_CODE'])\n",
    "print(f'Max ROLE_CODE for each ROLE_TITLE: {max_rolecode}')"
   ]
  },
  {
   "cell_type": "code",
   "execution_count": 12,
   "id": "4d77f89d",
   "metadata": {},
   "outputs": [
    {
     "name": "stdout",
     "output_type": "stream",
     "text": [
      "Max ROLE_TITLE for each ROLE_CODE: 1\n"
     ]
    }
   ],
   "source": [
    "ncode_forrole = X.groupby('ROLE_CODE', as_index=False, observed=True)['ROLE_TITLE'].nunique()\n",
    "max_rolecode = np.max(ncode_forrole['ROLE_TITLE'])\n",
    "print(f'Max ROLE_TITLE for each ROLE_CODE: {max_rolecode}')"
   ]
  },
  {
   "cell_type": "code",
   "execution_count": 13,
   "id": "eda24f65",
   "metadata": {},
   "outputs": [
    {
     "name": "stdout",
     "output_type": "stream",
     "text": [
      "chi-squared value: 11206998.000000002\n",
      "p-value: 0.0\n"
     ]
    }
   ],
   "source": [
    "contingency_table = pd.crosstab(X['ROLE_TITLE'], X['ROLE_CODE'])\n",
    "\n",
    "# Realizar la prueba chi-cuadrado\n",
    "chi2, p_valor, _, _ = chi2_contingency(contingency_table)\n",
    "\n",
    "print(f\"chi-squared value: {chi2}\")\n",
    "print(f\"p-value: {p_valor}\")"
   ]
  },
  {
   "cell_type": "code",
   "execution_count": 14,
   "id": "6a41c276",
   "metadata": {},
   "outputs": [],
   "source": [
    "X = X.drop('ROLE_CODE', axis=1)"
   ]
  },
  {
   "cell_type": "markdown",
   "id": "798ead72",
   "metadata": {},
   "source": [
    " "
   ]
  },
  {
   "cell_type": "markdown",
   "id": "8a850463",
   "metadata": {},
   "source": [
    "## Study of NA's"
   ]
  },
  {
   "cell_type": "code",
   "execution_count": 15,
   "id": "0e19b7ec",
   "metadata": {
    "scrolled": true
   },
   "outputs": [
    {
     "data": {
      "text/plain": [
       "MGR_ID              0\n",
       "ROLE_ROLLUP_1       0\n",
       "ROLE_ROLLUP_2       0\n",
       "ROLE_DEPTNAME       0\n",
       "ROLE_TITLE          0\n",
       "ROLE_FAMILY_DESC    0\n",
       "ROLE_FAMILY         0\n",
       "dtype: int64"
      ]
     },
     "execution_count": 15,
     "metadata": {},
     "output_type": "execute_result"
    }
   ],
   "source": [
    "X.isna().sum().sort_values(ascending = False)"
   ]
  },
  {
   "cell_type": "markdown",
   "id": "7387acd9",
   "metadata": {},
   "source": [
    "As can be seen, there are no np.nan in any of the variables."
   ]
  },
  {
   "cell_type": "markdown",
   "id": "2df1531b",
   "metadata": {},
   "source": [
    " "
   ]
  },
  {
   "cell_type": "markdown",
   "id": "655e679a",
   "metadata": {},
   "source": [
    "## Type of Variables"
   ]
  },
  {
   "cell_type": "markdown",
   "id": "11bbc9d0",
   "metadata": {},
   "source": [
    "We see which and how many variables contain only the values {\"0\", \"1\"}."
   ]
  },
  {
   "cell_type": "code",
   "execution_count": 16,
   "id": "f38e4305",
   "metadata": {
    "scrolled": true
   },
   "outputs": [
    {
     "name": "stdout",
     "output_type": "stream",
     "text": [
      "Numeric columns: 0\n",
      "Binary columns: 0\n"
     ]
    }
   ],
   "source": [
    "num_cols = X.select_dtypes(exclude=['object','category']).columns\n",
    "binary_cols = [col for col in X.columns if X[col].isin([0, 1]).all()]\n",
    "num_cols = [num_col for num_col in num_cols if num_col not in binary_cols]\n",
    "\n",
    "print(f'Numeric columns: {len(num_cols)}')\n",
    "print(f'Binary columns: {len(binary_cols)}')"
   ]
  },
  {
   "cell_type": "code",
   "execution_count": 17,
   "id": "2eea4040",
   "metadata": {
    "scrolled": true
   },
   "outputs": [
    {
     "name": "stdout",
     "output_type": "stream",
     "text": [
      "Category columns: 7\n"
     ]
    }
   ],
   "source": [
    "cat_columns = X.select_dtypes(include=['category']).columns\n",
    "print(f'Category columns: {len(cat_columns)}')"
   ]
  },
  {
   "cell_type": "markdown",
   "id": "d1d3230f",
   "metadata": {},
   "source": [
    "General review of the values of all variables."
   ]
  },
  {
   "cell_type": "code",
   "execution_count": 18,
   "id": "4f246eb2",
   "metadata": {},
   "outputs": [
    {
     "data": {
      "text/plain": [
       "MGR_ID              4243\n",
       "ROLE_FAMILY_DESC    2358\n",
       "ROLE_DEPTNAME        449\n",
       "ROLE_TITLE           343\n",
       "ROLE_ROLLUP_2        177\n",
       "ROLE_ROLLUP_1        128\n",
       "ROLE_FAMILY           67\n",
       "dtype: int64"
      ]
     },
     "execution_count": 18,
     "metadata": {},
     "output_type": "execute_result"
    }
   ],
   "source": [
    "X[cat_columns].apply(lambda col: col.nunique()).sort_values(ascending=False)"
   ]
  },
  {
   "cell_type": "markdown",
   "id": "789acc60",
   "metadata": {},
   "source": [
    " "
   ]
  },
  {
   "cell_type": "markdown",
   "id": "befa1f00",
   "metadata": {},
   "source": [
    "## Value counts of the variables with more cardinality"
   ]
  },
  {
   "cell_type": "markdown",
   "id": "0b9a7c5f",
   "metadata": {},
   "source": [
    "#### MGR_ID"
   ]
  },
  {
   "cell_type": "code",
   "execution_count": 19,
   "id": "0af8cf29",
   "metadata": {},
   "outputs": [
    {
     "data": {
      "text/plain": [
       "MGR_ID\n",
       "770      152\n",
       "2270      99\n",
       "2594      82\n",
       "1350      71\n",
       "2014      67\n",
       "16850     66\n",
       "3966      64\n",
       "7807      64\n",
       "5396      62\n",
       "3526      62\n",
       "Name: count, dtype: int64"
      ]
     },
     "execution_count": 19,
     "metadata": {},
     "output_type": "execute_result"
    }
   ],
   "source": [
    "X.MGR_ID.value_counts()[0:10]"
   ]
  },
  {
   "cell_type": "markdown",
   "id": "5e640dd7",
   "metadata": {},
   "source": [
    "#### ROLE_FAMILY_DESC"
   ]
  },
  {
   "cell_type": "code",
   "execution_count": 20,
   "id": "2703be4c",
   "metadata": {},
   "outputs": [
    {
     "data": {
      "text/plain": [
       "ROLE_FAMILY_DESC\n",
       "117906    6896\n",
       "240983    1244\n",
       "117913     670\n",
       "279443     665\n",
       "117886     530\n",
       "130134     419\n",
       "117897     351\n",
       "117879     333\n",
       "168365     324\n",
       "133686     321\n",
       "Name: count, dtype: int64"
      ]
     },
     "execution_count": 20,
     "metadata": {},
     "output_type": "execute_result"
    }
   ],
   "source": [
    "X.ROLE_FAMILY_DESC.value_counts()[0:10]"
   ]
  },
  {
   "cell_type": "markdown",
   "id": "521395fb",
   "metadata": {},
   "source": [
    "#### ROLE_DEPTNAME        "
   ]
  },
  {
   "cell_type": "code",
   "execution_count": 21,
   "id": "a13d614a",
   "metadata": {},
   "outputs": [
    {
     "data": {
      "text/plain": [
       "ROLE_DEPTNAME\n",
       "117878    1135\n",
       "117941     763\n",
       "117945     659\n",
       "118514     601\n",
       "117920     597\n",
       "117884     546\n",
       "119598     543\n",
       "118403     532\n",
       "119181     525\n",
       "120722     501\n",
       "Name: count, dtype: int64"
      ]
     },
     "execution_count": 21,
     "metadata": {},
     "output_type": "execute_result"
    }
   ],
   "source": [
    "X.ROLE_DEPTNAME.value_counts()[0:10]"
   ]
  },
  {
   "cell_type": "markdown",
   "id": "e20a4feb",
   "metadata": {},
   "source": [
    " "
   ]
  },
  {
   "cell_type": "markdown",
   "id": "9edec00b",
   "metadata": {},
   "source": [
    "## Response variable distribution"
   ]
  },
  {
   "cell_type": "code",
   "execution_count": 22,
   "id": "b91f1181",
   "metadata": {},
   "outputs": [
    {
     "data": {
      "text/plain": [
       "target\n",
       "1    30872\n",
       "0     1897\n",
       "Name: count, dtype: int64"
      ]
     },
     "execution_count": 22,
     "metadata": {},
     "output_type": "execute_result"
    }
   ],
   "source": [
    "y.value_counts()"
   ]
  },
  {
   "cell_type": "code",
   "execution_count": 23,
   "id": "3b9ee832",
   "metadata": {},
   "outputs": [
    {
     "data": {
      "text/plain": [
       "target\n",
       "1    0.94211\n",
       "0    0.05789\n",
       "Name: proportion, dtype: float64"
      ]
     },
     "execution_count": 23,
     "metadata": {},
     "output_type": "execute_result"
    }
   ],
   "source": [
    "y.value_counts(normalize=True)"
   ]
  },
  {
   "cell_type": "markdown",
   "id": "3b96c86c",
   "metadata": {},
   "source": [
    " "
   ]
  },
  {
   "cell_type": "markdown",
   "id": "9be21378",
   "metadata": {},
   "source": [
    "## Train-Test Split"
   ]
  },
  {
   "cell_type": "code",
   "execution_count": 24,
   "id": "89692b0b",
   "metadata": {},
   "outputs": [],
   "source": [
    "from sklearn.model_selection import train_test_split"
   ]
  },
  {
   "cell_type": "code",
   "execution_count": 25,
   "id": "c3bdc944",
   "metadata": {},
   "outputs": [],
   "source": [
    "X_train, X_test, y_train, y_test = train_test_split(X,y, \n",
    "                                                    test_size = 0.33, \n",
    "                                                    random_state = 42,\n",
    "                                                    stratify = y)"
   ]
  },
  {
   "cell_type": "code",
   "execution_count": 26,
   "id": "2d50cfeb",
   "metadata": {},
   "outputs": [
    {
     "name": "stdout",
     "output_type": "stream",
     "text": [
      "X_train shape: (21955, 7)\n",
      "X_test shape:  (10814, 7)\n",
      "y_train shape: (21955,)\n",
      "y_test shape:  (10814,)\n"
     ]
    }
   ],
   "source": [
    "print(f'X_train shape: {X_train.shape}')\n",
    "print(f'X_test shape:  {X_test.shape}')\n",
    "print(f'y_train shape: {y_train.shape}')\n",
    "print(f'y_test shape:  {y_test.shape}')"
   ]
  },
  {
   "cell_type": "markdown",
   "id": "92c4949c",
   "metadata": {},
   "source": [
    " "
   ]
  },
  {
   "cell_type": "markdown",
   "id": "be3b35e7",
   "metadata": {},
   "source": [
    "## Variables importance"
   ]
  },
  {
   "cell_type": "markdown",
   "id": "60131d45",
   "metadata": {},
   "source": [
    "### Mutual Info Classification"
   ]
  },
  {
   "cell_type": "markdown",
   "id": "db01d358",
   "metadata": {},
   "source": [
    "As sklearn's mutual_info_classif() needs a sparse matrix binarising the categorical variables, we will use the mutinformation() function of the infotheo package in R."
   ]
  },
  {
   "cell_type": "markdown",
   "id": "55dafc25",
   "metadata": {},
   "source": [
    "We read the file containing the mutual information of each variable with the response variable from the X_train."
   ]
  },
  {
   "cell_type": "markdown",
   "id": "568367cd",
   "metadata": {},
   "source": [
    " "
   ]
  },
  {
   "cell_type": "markdown",
   "id": "3db2e0d9",
   "metadata": {},
   "source": [
    "##  Pipelines"
   ]
  },
  {
   "cell_type": "markdown",
   "id": "bc2f8638",
   "metadata": {},
   "source": [
    "All variables have a cardinality greater than 9, therefore we will apply all encoding methods to all variables."
   ]
  },
  {
   "cell_type": "code",
   "execution_count": 27,
   "id": "5d53bd83",
   "metadata": {},
   "outputs": [],
   "source": [
    "from sklearn.pipeline import Pipeline\n",
    "from sklearn.compose import ColumnTransformer\n",
    "\n",
    "from sklearn.impute import SimpleImputer\n",
    "\n",
    "from sklearn.preprocessing import OneHotEncoder\n",
    "\n",
    "from sklearn.metrics import balanced_accuracy_score\n",
    "\n",
    "from sklearn.ensemble import RandomForestRegressor\n",
    "from sklearn.ensemble import HistGradientBoostingClassifier\n",
    "\n",
    "import scipy.stats\n",
    "from sklearn.model_selection import StratifiedKFold\n",
    "from sklearn.model_selection import RandomizedSearchCV\n",
    "\n",
    "import time"
   ]
  },
  {
   "cell_type": "code",
   "execution_count": 28,
   "id": "edaa755d",
   "metadata": {
    "scrolled": false
   },
   "outputs": [
    {
     "data": {
      "text/plain": [
       "['MGR_ID',\n",
       " 'ROLE_ROLLUP_1',\n",
       " 'ROLE_ROLLUP_2',\n",
       " 'ROLE_DEPTNAME',\n",
       " 'ROLE_TITLE',\n",
       " 'ROLE_FAMILY_DESC',\n",
       " 'ROLE_FAMILY']"
      ]
     },
     "execution_count": 28,
     "metadata": {},
     "output_type": "execute_result"
    }
   ],
   "source": [
    "cat_cols = X.select_dtypes(include=['category']).columns.to_list()\n",
    "cat_cols"
   ]
  },
  {
   "cell_type": "code",
   "execution_count": 29,
   "id": "8940ee7a",
   "metadata": {},
   "outputs": [],
   "source": [
    "# Define the HistGradientBoostingClassifier models\n",
    "hgb_default = HistGradientBoostingClassifier(max_iter=1000,\n",
    "                                             random_state=1234,\n",
    "                                             early_stopping=False,\n",
    "                                             scoring='balanced_accuracy',\n",
    "                                             class_weight='balanced')\n",
    "\n",
    "hgb_default_es = HistGradientBoostingClassifier(max_iter=1000,\n",
    "                                                random_state=1234,\n",
    "                                                early_stopping=True,\n",
    "                                                validation_fraction=0.1,\n",
    "                                                n_iter_no_change=5,\n",
    "                                                scoring='balanced_accuracy',\n",
    "                                                class_weight='balanced')\n",
    "\n",
    "# Define the hyperparameter search space\n",
    "param_distributions = {\n",
    "    'model__learning_rate': scipy.stats.uniform(0.01, 0.3),\n",
    "    'model__min_samples_leaf': scipy.stats.randint(10, 50),\n",
    "}\n",
    "\n",
    "# Create a StratifiedKFold cross-validation instance\n",
    "stratified_kfold = StratifiedKFold(n_splits=3, shuffle=True, random_state=1234)"
   ]
  },
  {
   "cell_type": "markdown",
   "id": "c5e65634",
   "metadata": {},
   "source": [
    " "
   ]
  },
  {
   "cell_type": "markdown",
   "id": "6f393bd6",
   "metadata": {},
   "source": [
    "### One Hot Encoding + HistGradientBoosting"
   ]
  },
  {
   "cell_type": "markdown",
   "id": "bfa2707e",
   "metadata": {},
   "source": [
    "#### Preprocessing"
   ]
  },
  {
   "cell_type": "code",
   "execution_count": 30,
   "id": "d773bf0b",
   "metadata": {},
   "outputs": [],
   "source": [
    "cat_pipeline = Pipeline([\n",
    "    (\"imputer\", SimpleImputer(strategy = \"most_frequent\")),\n",
    "    (\"encoder\", OneHotEncoder(drop = \"first\", handle_unknown = \"ignore\"))\n",
    "])\n",
    "\n",
    "preprop_pipeline = ColumnTransformer(\n",
    "    transformers = [(\"one_hot\", cat_pipeline, cat_cols)],\n",
    "    sparse_threshold=0\n",
    ")"
   ]
  },
  {
   "cell_type": "markdown",
   "id": "a5810fcc",
   "metadata": {},
   "source": [
    "#### Default hyper-parameters"
   ]
  },
  {
   "cell_type": "code",
   "execution_count": 31,
   "id": "1bb9245b",
   "metadata": {},
   "outputs": [],
   "source": [
    "ohe_hgb_default_pipeline = Pipeline([('preprocessing', preprop_pipeline),\n",
    "                                     ('model', hgb_default)])\n",
    "\n",
    "ohe_hgb_default_es_pipeline = Pipeline([('preprocessing', preprop_pipeline),\n",
    "                                        ('model', hgb_default_es)])"
   ]
  },
  {
   "cell_type": "markdown",
   "id": "8d9214f8",
   "metadata": {},
   "source": [
    "##### Without early-stopping"
   ]
  },
  {
   "cell_type": "markdown",
   "id": "9652a4ad",
   "metadata": {},
   "source": [
    "All variables"
   ]
  },
  {
   "cell_type": "code",
   "execution_count": 32,
   "id": "ff9f2df2",
   "metadata": {},
   "outputs": [],
   "source": [
    "tic = time.time()\n",
    "\n",
    "ohe_hgb_default = ohe_hgb_default_pipeline.fit(X_train, y_train)\n",
    "\n",
    "toc = time.time()\n",
    "ohe_hgb_default_time_taken = toc-tic"
   ]
  },
  {
   "cell_type": "code",
   "execution_count": 33,
   "metadata": {},
   "outputs": [
    {
     "name": "stdout",
     "output_type": "stream",
     "text": [
      "Time taken:  1536.977469444275\n"
     ]
    },
    {
     "data": {
      "text/html": [
       "<style>#sk-container-id-1 {color: black;}#sk-container-id-1 pre{padding: 0;}#sk-container-id-1 div.sk-toggleable {background-color: white;}#sk-container-id-1 label.sk-toggleable__label {cursor: pointer;display: block;width: 100%;margin-bottom: 0;padding: 0.3em;box-sizing: border-box;text-align: center;}#sk-container-id-1 label.sk-toggleable__label-arrow:before {content: \"▸\";float: left;margin-right: 0.25em;color: #696969;}#sk-container-id-1 label.sk-toggleable__label-arrow:hover:before {color: black;}#sk-container-id-1 div.sk-estimator:hover label.sk-toggleable__label-arrow:before {color: black;}#sk-container-id-1 div.sk-toggleable__content {max-height: 0;max-width: 0;overflow: hidden;text-align: left;background-color: #f0f8ff;}#sk-container-id-1 div.sk-toggleable__content pre {margin: 0.2em;color: black;border-radius: 0.25em;background-color: #f0f8ff;}#sk-container-id-1 input.sk-toggleable__control:checked~div.sk-toggleable__content {max-height: 200px;max-width: 100%;overflow: auto;}#sk-container-id-1 input.sk-toggleable__control:checked~label.sk-toggleable__label-arrow:before {content: \"▾\";}#sk-container-id-1 div.sk-estimator input.sk-toggleable__control:checked~label.sk-toggleable__label {background-color: #d4ebff;}#sk-container-id-1 div.sk-label input.sk-toggleable__control:checked~label.sk-toggleable__label {background-color: #d4ebff;}#sk-container-id-1 input.sk-hidden--visually {border: 0;clip: rect(1px 1px 1px 1px);clip: rect(1px, 1px, 1px, 1px);height: 1px;margin: -1px;overflow: hidden;padding: 0;position: absolute;width: 1px;}#sk-container-id-1 div.sk-estimator {font-family: monospace;background-color: #f0f8ff;border: 1px dotted black;border-radius: 0.25em;box-sizing: border-box;margin-bottom: 0.5em;}#sk-container-id-1 div.sk-estimator:hover {background-color: #d4ebff;}#sk-container-id-1 div.sk-parallel-item::after {content: \"\";width: 100%;border-bottom: 1px solid gray;flex-grow: 1;}#sk-container-id-1 div.sk-label:hover label.sk-toggleable__label {background-color: #d4ebff;}#sk-container-id-1 div.sk-serial::before {content: \"\";position: absolute;border-left: 1px solid gray;box-sizing: border-box;top: 0;bottom: 0;left: 50%;z-index: 0;}#sk-container-id-1 div.sk-serial {display: flex;flex-direction: column;align-items: center;background-color: white;padding-right: 0.2em;padding-left: 0.2em;position: relative;}#sk-container-id-1 div.sk-item {position: relative;z-index: 1;}#sk-container-id-1 div.sk-parallel {display: flex;align-items: stretch;justify-content: center;background-color: white;position: relative;}#sk-container-id-1 div.sk-item::before, #sk-container-id-1 div.sk-parallel-item::before {content: \"\";position: absolute;border-left: 1px solid gray;box-sizing: border-box;top: 0;bottom: 0;left: 50%;z-index: -1;}#sk-container-id-1 div.sk-parallel-item {display: flex;flex-direction: column;z-index: 1;position: relative;background-color: white;}#sk-container-id-1 div.sk-parallel-item:first-child::after {align-self: flex-end;width: 50%;}#sk-container-id-1 div.sk-parallel-item:last-child::after {align-self: flex-start;width: 50%;}#sk-container-id-1 div.sk-parallel-item:only-child::after {width: 0;}#sk-container-id-1 div.sk-dashed-wrapped {border: 1px dashed gray;margin: 0 0.4em 0.5em 0.4em;box-sizing: border-box;padding-bottom: 0.4em;background-color: white;}#sk-container-id-1 div.sk-label label {font-family: monospace;font-weight: bold;display: inline-block;line-height: 1.2em;}#sk-container-id-1 div.sk-label-container {text-align: center;}#sk-container-id-1 div.sk-container {/* jupyter's `normalize.less` sets `[hidden] { display: none; }` but bootstrap.min.css set `[hidden] { display: none !important; }` so we also need the `!important` here to be able to override the default hidden behavior on the sphinx rendered scikit-learn.org. See: https://github.com/scikit-learn/scikit-learn/issues/21755 */display: inline-block !important;position: relative;}#sk-container-id-1 div.sk-text-repr-fallback {display: none;}</style><div id=\"sk-container-id-1\" class=\"sk-top-container\"><div class=\"sk-text-repr-fallback\"><pre>Pipeline(steps=[(&#x27;preprocessing&#x27;,\n",
       "                 ColumnTransformer(sparse_threshold=0,\n",
       "                                   transformers=[(&#x27;one_hot&#x27;,\n",
       "                                                  Pipeline(steps=[(&#x27;imputer&#x27;,\n",
       "                                                                   SimpleImputer(strategy=&#x27;most_frequent&#x27;)),\n",
       "                                                                  (&#x27;encoder&#x27;,\n",
       "                                                                   OneHotEncoder(drop=&#x27;first&#x27;,\n",
       "                                                                                 handle_unknown=&#x27;ignore&#x27;))]),\n",
       "                                                  [&#x27;MGR_ID&#x27;, &#x27;ROLE_ROLLUP_1&#x27;,\n",
       "                                                   &#x27;ROLE_ROLLUP_2&#x27;,\n",
       "                                                   &#x27;ROLE_DEPTNAME&#x27;,\n",
       "                                                   &#x27;ROLE_TITLE&#x27;,\n",
       "                                                   &#x27;ROLE_FAMILY_DESC&#x27;,\n",
       "                                                   &#x27;ROLE_FAMILY&#x27;])])),\n",
       "                (&#x27;model&#x27;,\n",
       "                 HistGradientBoostingClassifier(class_weight=&#x27;balanced&#x27;,\n",
       "                                                early_stopping=False,\n",
       "                                                max_iter=1000,\n",
       "                                                random_state=1234,\n",
       "                                                scoring=&#x27;balanced_accuracy&#x27;))])</pre><b>In a Jupyter environment, please rerun this cell to show the HTML representation or trust the notebook. <br />On GitHub, the HTML representation is unable to render, please try loading this page with nbviewer.org.</b></div><div class=\"sk-container\" hidden><div class=\"sk-item sk-dashed-wrapped\"><div class=\"sk-label-container\"><div class=\"sk-label sk-toggleable\"><input class=\"sk-toggleable__control sk-hidden--visually\" id=\"sk-estimator-id-1\" type=\"checkbox\" ><label for=\"sk-estimator-id-1\" class=\"sk-toggleable__label sk-toggleable__label-arrow\">Pipeline</label><div class=\"sk-toggleable__content\"><pre>Pipeline(steps=[(&#x27;preprocessing&#x27;,\n",
       "                 ColumnTransformer(sparse_threshold=0,\n",
       "                                   transformers=[(&#x27;one_hot&#x27;,\n",
       "                                                  Pipeline(steps=[(&#x27;imputer&#x27;,\n",
       "                                                                   SimpleImputer(strategy=&#x27;most_frequent&#x27;)),\n",
       "                                                                  (&#x27;encoder&#x27;,\n",
       "                                                                   OneHotEncoder(drop=&#x27;first&#x27;,\n",
       "                                                                                 handle_unknown=&#x27;ignore&#x27;))]),\n",
       "                                                  [&#x27;MGR_ID&#x27;, &#x27;ROLE_ROLLUP_1&#x27;,\n",
       "                                                   &#x27;ROLE_ROLLUP_2&#x27;,\n",
       "                                                   &#x27;ROLE_DEPTNAME&#x27;,\n",
       "                                                   &#x27;ROLE_TITLE&#x27;,\n",
       "                                                   &#x27;ROLE_FAMILY_DESC&#x27;,\n",
       "                                                   &#x27;ROLE_FAMILY&#x27;])])),\n",
       "                (&#x27;model&#x27;,\n",
       "                 HistGradientBoostingClassifier(class_weight=&#x27;balanced&#x27;,\n",
       "                                                early_stopping=False,\n",
       "                                                max_iter=1000,\n",
       "                                                random_state=1234,\n",
       "                                                scoring=&#x27;balanced_accuracy&#x27;))])</pre></div></div></div><div class=\"sk-serial\"><div class=\"sk-item sk-dashed-wrapped\"><div class=\"sk-label-container\"><div class=\"sk-label sk-toggleable\"><input class=\"sk-toggleable__control sk-hidden--visually\" id=\"sk-estimator-id-2\" type=\"checkbox\" ><label for=\"sk-estimator-id-2\" class=\"sk-toggleable__label sk-toggleable__label-arrow\">preprocessing: ColumnTransformer</label><div class=\"sk-toggleable__content\"><pre>ColumnTransformer(sparse_threshold=0,\n",
       "                  transformers=[(&#x27;one_hot&#x27;,\n",
       "                                 Pipeline(steps=[(&#x27;imputer&#x27;,\n",
       "                                                  SimpleImputer(strategy=&#x27;most_frequent&#x27;)),\n",
       "                                                 (&#x27;encoder&#x27;,\n",
       "                                                  OneHotEncoder(drop=&#x27;first&#x27;,\n",
       "                                                                handle_unknown=&#x27;ignore&#x27;))]),\n",
       "                                 [&#x27;MGR_ID&#x27;, &#x27;ROLE_ROLLUP_1&#x27;, &#x27;ROLE_ROLLUP_2&#x27;,\n",
       "                                  &#x27;ROLE_DEPTNAME&#x27;, &#x27;ROLE_TITLE&#x27;,\n",
       "                                  &#x27;ROLE_FAMILY_DESC&#x27;, &#x27;ROLE_FAMILY&#x27;])])</pre></div></div></div><div class=\"sk-parallel\"><div class=\"sk-parallel-item\"><div class=\"sk-item\"><div class=\"sk-label-container\"><div class=\"sk-label sk-toggleable\"><input class=\"sk-toggleable__control sk-hidden--visually\" id=\"sk-estimator-id-3\" type=\"checkbox\" ><label for=\"sk-estimator-id-3\" class=\"sk-toggleable__label sk-toggleable__label-arrow\">one_hot</label><div class=\"sk-toggleable__content\"><pre>[&#x27;MGR_ID&#x27;, &#x27;ROLE_ROLLUP_1&#x27;, &#x27;ROLE_ROLLUP_2&#x27;, &#x27;ROLE_DEPTNAME&#x27;, &#x27;ROLE_TITLE&#x27;, &#x27;ROLE_FAMILY_DESC&#x27;, &#x27;ROLE_FAMILY&#x27;]</pre></div></div></div><div class=\"sk-serial\"><div class=\"sk-item\"><div class=\"sk-serial\"><div class=\"sk-item\"><div class=\"sk-estimator sk-toggleable\"><input class=\"sk-toggleable__control sk-hidden--visually\" id=\"sk-estimator-id-4\" type=\"checkbox\" ><label for=\"sk-estimator-id-4\" class=\"sk-toggleable__label sk-toggleable__label-arrow\">SimpleImputer</label><div class=\"sk-toggleable__content\"><pre>SimpleImputer(strategy=&#x27;most_frequent&#x27;)</pre></div></div></div><div class=\"sk-item\"><div class=\"sk-estimator sk-toggleable\"><input class=\"sk-toggleable__control sk-hidden--visually\" id=\"sk-estimator-id-5\" type=\"checkbox\" ><label for=\"sk-estimator-id-5\" class=\"sk-toggleable__label sk-toggleable__label-arrow\">OneHotEncoder</label><div class=\"sk-toggleable__content\"><pre>OneHotEncoder(drop=&#x27;first&#x27;, handle_unknown=&#x27;ignore&#x27;)</pre></div></div></div></div></div></div></div></div></div></div><div class=\"sk-item\"><div class=\"sk-estimator sk-toggleable\"><input class=\"sk-toggleable__control sk-hidden--visually\" id=\"sk-estimator-id-6\" type=\"checkbox\" ><label for=\"sk-estimator-id-6\" class=\"sk-toggleable__label sk-toggleable__label-arrow\">HistGradientBoostingClassifier</label><div class=\"sk-toggleable__content\"><pre>HistGradientBoostingClassifier(class_weight=&#x27;balanced&#x27;, early_stopping=False,\n",
       "                               max_iter=1000, random_state=1234,\n",
       "                               scoring=&#x27;balanced_accuracy&#x27;)</pre></div></div></div></div></div></div></div>"
      ],
      "text/plain": [
       "Pipeline(steps=[('preprocessing',\n",
       "                 ColumnTransformer(sparse_threshold=0,\n",
       "                                   transformers=[('one_hot',\n",
       "                                                  Pipeline(steps=[('imputer',\n",
       "                                                                   SimpleImputer(strategy='most_frequent')),\n",
       "                                                                  ('encoder',\n",
       "                                                                   OneHotEncoder(drop='first',\n",
       "                                                                                 handle_unknown='ignore'))]),\n",
       "                                                  ['MGR_ID', 'ROLE_ROLLUP_1',\n",
       "                                                   'ROLE_ROLLUP_2',\n",
       "                                                   'ROLE_DEPTNAME',\n",
       "                                                   'ROLE_TITLE',\n",
       "                                                   'ROLE_FAMILY_DESC',\n",
       "                                                   'ROLE_FAMILY'])])),\n",
       "                ('model',\n",
       "                 HistGradientBoostingClassifier(class_weight='balanced',\n",
       "                                                early_stopping=False,\n",
       "                                                max_iter=1000,\n",
       "                                                random_state=1234,\n",
       "                                                scoring='balanced_accuracy'))])"
      ]
     },
     "execution_count": 33,
     "metadata": {},
     "output_type": "execute_result"
    }
   ],
   "source": [
    "# Display pipeline\n",
    "print(\"Time taken: \", ohe_hgb_default_time_taken)\n",
    "ohe_hgb_default"
   ]
  },
  {
   "cell_type": "markdown",
   "id": "50d4b53d",
   "metadata": {},
   "source": [
    "Results"
   ]
  },
  {
   "cell_type": "code",
   "execution_count": 34,
   "id": "ee554470",
   "metadata": {},
   "outputs": [
    {
     "name": "stderr",
     "output_type": "stream",
     "text": [
      "c:\\Users\\VNG\\AppData\\Local\\Programs\\Python\\Python310\\lib\\site-packages\\sklearn\\preprocessing\\_encoders.py:228: UserWarning: Found unknown categories in columns [0, 1, 2, 3, 4, 5, 6] during transform. These unknown categories will be encoded as all zeros\n",
      "  warnings.warn(\n"
     ]
    },
    {
     "name": "stdout",
     "output_type": "stream",
     "text": [
      "Balanced accuracy with default parameters: 0.7798446709842187\n"
     ]
    }
   ],
   "source": [
    "# Predict using the model with the best parameters\n",
    "y_ohe_hgb_default_pred = ohe_hgb_default.predict(X_test)\n",
    "ohe_hgb_default_accuracy = balanced_accuracy_score(y_test, y_ohe_hgb_default_pred)\n",
    "print(f'Balanced accuracy with default parameters: {ohe_hgb_default_accuracy}')\n",
    "\n",
    "# Save results\n",
    "default_summary.append(\"Default\")\n",
    "card_9_summary.append(\"AllVariables\")\n",
    "encoder_summary.append(\"OneHotEncoding\")\n",
    "early_stopping_summary.append(\"NoEarlyStopping\")\n",
    "value_summary.append(ohe_hgb_default_accuracy)\n",
    "time_summary.append(ohe_hgb_default_time_taken)\n",
    "n_models_summary.append(1)"
   ]
  },
  {
   "cell_type": "markdown",
   "id": "94a96e97",
   "metadata": {},
   "source": [
    "##### With early-stopping"
   ]
  },
  {
   "cell_type": "markdown",
   "id": "81a0c70f",
   "metadata": {},
   "source": [
    "All variables"
   ]
  },
  {
   "cell_type": "code",
   "execution_count": 35,
   "id": "8172c2cd",
   "metadata": {},
   "outputs": [],
   "source": [
    "tic = time.time()\n",
    "\n",
    "ohe_hgb_default_es = ohe_hgb_default_es_pipeline.fit(X_train, y_train)\n",
    "\n",
    "toc = time.time()\n",
    "ohe_hgb_default_es_time_taken = toc-tic"
   ]
  },
  {
   "cell_type": "code",
   "execution_count": 36,
   "id": "c169e0d3",
   "metadata": {},
   "outputs": [
    {
     "name": "stdout",
     "output_type": "stream",
     "text": [
      "Time taken:  27.379931688308716\n"
     ]
    },
    {
     "data": {
      "text/html": [
       "<style>#sk-container-id-2 {color: black;}#sk-container-id-2 pre{padding: 0;}#sk-container-id-2 div.sk-toggleable {background-color: white;}#sk-container-id-2 label.sk-toggleable__label {cursor: pointer;display: block;width: 100%;margin-bottom: 0;padding: 0.3em;box-sizing: border-box;text-align: center;}#sk-container-id-2 label.sk-toggleable__label-arrow:before {content: \"▸\";float: left;margin-right: 0.25em;color: #696969;}#sk-container-id-2 label.sk-toggleable__label-arrow:hover:before {color: black;}#sk-container-id-2 div.sk-estimator:hover label.sk-toggleable__label-arrow:before {color: black;}#sk-container-id-2 div.sk-toggleable__content {max-height: 0;max-width: 0;overflow: hidden;text-align: left;background-color: #f0f8ff;}#sk-container-id-2 div.sk-toggleable__content pre {margin: 0.2em;color: black;border-radius: 0.25em;background-color: #f0f8ff;}#sk-container-id-2 input.sk-toggleable__control:checked~div.sk-toggleable__content {max-height: 200px;max-width: 100%;overflow: auto;}#sk-container-id-2 input.sk-toggleable__control:checked~label.sk-toggleable__label-arrow:before {content: \"▾\";}#sk-container-id-2 div.sk-estimator input.sk-toggleable__control:checked~label.sk-toggleable__label {background-color: #d4ebff;}#sk-container-id-2 div.sk-label input.sk-toggleable__control:checked~label.sk-toggleable__label {background-color: #d4ebff;}#sk-container-id-2 input.sk-hidden--visually {border: 0;clip: rect(1px 1px 1px 1px);clip: rect(1px, 1px, 1px, 1px);height: 1px;margin: -1px;overflow: hidden;padding: 0;position: absolute;width: 1px;}#sk-container-id-2 div.sk-estimator {font-family: monospace;background-color: #f0f8ff;border: 1px dotted black;border-radius: 0.25em;box-sizing: border-box;margin-bottom: 0.5em;}#sk-container-id-2 div.sk-estimator:hover {background-color: #d4ebff;}#sk-container-id-2 div.sk-parallel-item::after {content: \"\";width: 100%;border-bottom: 1px solid gray;flex-grow: 1;}#sk-container-id-2 div.sk-label:hover label.sk-toggleable__label {background-color: #d4ebff;}#sk-container-id-2 div.sk-serial::before {content: \"\";position: absolute;border-left: 1px solid gray;box-sizing: border-box;top: 0;bottom: 0;left: 50%;z-index: 0;}#sk-container-id-2 div.sk-serial {display: flex;flex-direction: column;align-items: center;background-color: white;padding-right: 0.2em;padding-left: 0.2em;position: relative;}#sk-container-id-2 div.sk-item {position: relative;z-index: 1;}#sk-container-id-2 div.sk-parallel {display: flex;align-items: stretch;justify-content: center;background-color: white;position: relative;}#sk-container-id-2 div.sk-item::before, #sk-container-id-2 div.sk-parallel-item::before {content: \"\";position: absolute;border-left: 1px solid gray;box-sizing: border-box;top: 0;bottom: 0;left: 50%;z-index: -1;}#sk-container-id-2 div.sk-parallel-item {display: flex;flex-direction: column;z-index: 1;position: relative;background-color: white;}#sk-container-id-2 div.sk-parallel-item:first-child::after {align-self: flex-end;width: 50%;}#sk-container-id-2 div.sk-parallel-item:last-child::after {align-self: flex-start;width: 50%;}#sk-container-id-2 div.sk-parallel-item:only-child::after {width: 0;}#sk-container-id-2 div.sk-dashed-wrapped {border: 1px dashed gray;margin: 0 0.4em 0.5em 0.4em;box-sizing: border-box;padding-bottom: 0.4em;background-color: white;}#sk-container-id-2 div.sk-label label {font-family: monospace;font-weight: bold;display: inline-block;line-height: 1.2em;}#sk-container-id-2 div.sk-label-container {text-align: center;}#sk-container-id-2 div.sk-container {/* jupyter's `normalize.less` sets `[hidden] { display: none; }` but bootstrap.min.css set `[hidden] { display: none !important; }` so we also need the `!important` here to be able to override the default hidden behavior on the sphinx rendered scikit-learn.org. See: https://github.com/scikit-learn/scikit-learn/issues/21755 */display: inline-block !important;position: relative;}#sk-container-id-2 div.sk-text-repr-fallback {display: none;}</style><div id=\"sk-container-id-2\" class=\"sk-top-container\"><div class=\"sk-text-repr-fallback\"><pre>Pipeline(steps=[(&#x27;preprocessing&#x27;,\n",
       "                 ColumnTransformer(sparse_threshold=0,\n",
       "                                   transformers=[(&#x27;one_hot&#x27;,\n",
       "                                                  Pipeline(steps=[(&#x27;imputer&#x27;,\n",
       "                                                                   SimpleImputer(strategy=&#x27;most_frequent&#x27;)),\n",
       "                                                                  (&#x27;encoder&#x27;,\n",
       "                                                                   OneHotEncoder(drop=&#x27;first&#x27;,\n",
       "                                                                                 handle_unknown=&#x27;ignore&#x27;))]),\n",
       "                                                  [&#x27;MGR_ID&#x27;, &#x27;ROLE_ROLLUP_1&#x27;,\n",
       "                                                   &#x27;ROLE_ROLLUP_2&#x27;,\n",
       "                                                   &#x27;ROLE_DEPTNAME&#x27;,\n",
       "                                                   &#x27;ROLE_TITLE&#x27;,\n",
       "                                                   &#x27;ROLE_FAMILY_DESC&#x27;,\n",
       "                                                   &#x27;ROLE_FAMILY&#x27;])])),\n",
       "                (&#x27;model&#x27;,\n",
       "                 HistGradientBoostingClassifier(class_weight=&#x27;balanced&#x27;,\n",
       "                                                early_stopping=True,\n",
       "                                                max_iter=1000,\n",
       "                                                n_iter_no_change=5,\n",
       "                                                random_state=1234,\n",
       "                                                scoring=&#x27;balanced_accuracy&#x27;))])</pre><b>In a Jupyter environment, please rerun this cell to show the HTML representation or trust the notebook. <br />On GitHub, the HTML representation is unable to render, please try loading this page with nbviewer.org.</b></div><div class=\"sk-container\" hidden><div class=\"sk-item sk-dashed-wrapped\"><div class=\"sk-label-container\"><div class=\"sk-label sk-toggleable\"><input class=\"sk-toggleable__control sk-hidden--visually\" id=\"sk-estimator-id-7\" type=\"checkbox\" ><label for=\"sk-estimator-id-7\" class=\"sk-toggleable__label sk-toggleable__label-arrow\">Pipeline</label><div class=\"sk-toggleable__content\"><pre>Pipeline(steps=[(&#x27;preprocessing&#x27;,\n",
       "                 ColumnTransformer(sparse_threshold=0,\n",
       "                                   transformers=[(&#x27;one_hot&#x27;,\n",
       "                                                  Pipeline(steps=[(&#x27;imputer&#x27;,\n",
       "                                                                   SimpleImputer(strategy=&#x27;most_frequent&#x27;)),\n",
       "                                                                  (&#x27;encoder&#x27;,\n",
       "                                                                   OneHotEncoder(drop=&#x27;first&#x27;,\n",
       "                                                                                 handle_unknown=&#x27;ignore&#x27;))]),\n",
       "                                                  [&#x27;MGR_ID&#x27;, &#x27;ROLE_ROLLUP_1&#x27;,\n",
       "                                                   &#x27;ROLE_ROLLUP_2&#x27;,\n",
       "                                                   &#x27;ROLE_DEPTNAME&#x27;,\n",
       "                                                   &#x27;ROLE_TITLE&#x27;,\n",
       "                                                   &#x27;ROLE_FAMILY_DESC&#x27;,\n",
       "                                                   &#x27;ROLE_FAMILY&#x27;])])),\n",
       "                (&#x27;model&#x27;,\n",
       "                 HistGradientBoostingClassifier(class_weight=&#x27;balanced&#x27;,\n",
       "                                                early_stopping=True,\n",
       "                                                max_iter=1000,\n",
       "                                                n_iter_no_change=5,\n",
       "                                                random_state=1234,\n",
       "                                                scoring=&#x27;balanced_accuracy&#x27;))])</pre></div></div></div><div class=\"sk-serial\"><div class=\"sk-item sk-dashed-wrapped\"><div class=\"sk-label-container\"><div class=\"sk-label sk-toggleable\"><input class=\"sk-toggleable__control sk-hidden--visually\" id=\"sk-estimator-id-8\" type=\"checkbox\" ><label for=\"sk-estimator-id-8\" class=\"sk-toggleable__label sk-toggleable__label-arrow\">preprocessing: ColumnTransformer</label><div class=\"sk-toggleable__content\"><pre>ColumnTransformer(sparse_threshold=0,\n",
       "                  transformers=[(&#x27;one_hot&#x27;,\n",
       "                                 Pipeline(steps=[(&#x27;imputer&#x27;,\n",
       "                                                  SimpleImputer(strategy=&#x27;most_frequent&#x27;)),\n",
       "                                                 (&#x27;encoder&#x27;,\n",
       "                                                  OneHotEncoder(drop=&#x27;first&#x27;,\n",
       "                                                                handle_unknown=&#x27;ignore&#x27;))]),\n",
       "                                 [&#x27;MGR_ID&#x27;, &#x27;ROLE_ROLLUP_1&#x27;, &#x27;ROLE_ROLLUP_2&#x27;,\n",
       "                                  &#x27;ROLE_DEPTNAME&#x27;, &#x27;ROLE_TITLE&#x27;,\n",
       "                                  &#x27;ROLE_FAMILY_DESC&#x27;, &#x27;ROLE_FAMILY&#x27;])])</pre></div></div></div><div class=\"sk-parallel\"><div class=\"sk-parallel-item\"><div class=\"sk-item\"><div class=\"sk-label-container\"><div class=\"sk-label sk-toggleable\"><input class=\"sk-toggleable__control sk-hidden--visually\" id=\"sk-estimator-id-9\" type=\"checkbox\" ><label for=\"sk-estimator-id-9\" class=\"sk-toggleable__label sk-toggleable__label-arrow\">one_hot</label><div class=\"sk-toggleable__content\"><pre>[&#x27;MGR_ID&#x27;, &#x27;ROLE_ROLLUP_1&#x27;, &#x27;ROLE_ROLLUP_2&#x27;, &#x27;ROLE_DEPTNAME&#x27;, &#x27;ROLE_TITLE&#x27;, &#x27;ROLE_FAMILY_DESC&#x27;, &#x27;ROLE_FAMILY&#x27;]</pre></div></div></div><div class=\"sk-serial\"><div class=\"sk-item\"><div class=\"sk-serial\"><div class=\"sk-item\"><div class=\"sk-estimator sk-toggleable\"><input class=\"sk-toggleable__control sk-hidden--visually\" id=\"sk-estimator-id-10\" type=\"checkbox\" ><label for=\"sk-estimator-id-10\" class=\"sk-toggleable__label sk-toggleable__label-arrow\">SimpleImputer</label><div class=\"sk-toggleable__content\"><pre>SimpleImputer(strategy=&#x27;most_frequent&#x27;)</pre></div></div></div><div class=\"sk-item\"><div class=\"sk-estimator sk-toggleable\"><input class=\"sk-toggleable__control sk-hidden--visually\" id=\"sk-estimator-id-11\" type=\"checkbox\" ><label for=\"sk-estimator-id-11\" class=\"sk-toggleable__label sk-toggleable__label-arrow\">OneHotEncoder</label><div class=\"sk-toggleable__content\"><pre>OneHotEncoder(drop=&#x27;first&#x27;, handle_unknown=&#x27;ignore&#x27;)</pre></div></div></div></div></div></div></div></div></div></div><div class=\"sk-item\"><div class=\"sk-estimator sk-toggleable\"><input class=\"sk-toggleable__control sk-hidden--visually\" id=\"sk-estimator-id-12\" type=\"checkbox\" ><label for=\"sk-estimator-id-12\" class=\"sk-toggleable__label sk-toggleable__label-arrow\">HistGradientBoostingClassifier</label><div class=\"sk-toggleable__content\"><pre>HistGradientBoostingClassifier(class_weight=&#x27;balanced&#x27;, early_stopping=True,\n",
       "                               max_iter=1000, n_iter_no_change=5,\n",
       "                               random_state=1234, scoring=&#x27;balanced_accuracy&#x27;)</pre></div></div></div></div></div></div></div>"
      ],
      "text/plain": [
       "Pipeline(steps=[('preprocessing',\n",
       "                 ColumnTransformer(sparse_threshold=0,\n",
       "                                   transformers=[('one_hot',\n",
       "                                                  Pipeline(steps=[('imputer',\n",
       "                                                                   SimpleImputer(strategy='most_frequent')),\n",
       "                                                                  ('encoder',\n",
       "                                                                   OneHotEncoder(drop='first',\n",
       "                                                                                 handle_unknown='ignore'))]),\n",
       "                                                  ['MGR_ID', 'ROLE_ROLLUP_1',\n",
       "                                                   'ROLE_ROLLUP_2',\n",
       "                                                   'ROLE_DEPTNAME',\n",
       "                                                   'ROLE_TITLE',\n",
       "                                                   'ROLE_FAMILY_DESC',\n",
       "                                                   'ROLE_FAMILY'])])),\n",
       "                ('model',\n",
       "                 HistGradientBoostingClassifier(class_weight='balanced',\n",
       "                                                early_stopping=True,\n",
       "                                                max_iter=1000,\n",
       "                                                n_iter_no_change=5,\n",
       "                                                random_state=1234,\n",
       "                                                scoring='balanced_accuracy'))])"
      ]
     },
     "execution_count": 36,
     "metadata": {},
     "output_type": "execute_result"
    }
   ],
   "source": [
    "# Display pipeline\n",
    "print(\"Time taken: \", ohe_hgb_default_es_time_taken)\n",
    "ohe_hgb_default_es"
   ]
  },
  {
   "cell_type": "markdown",
   "id": "9c84e9f6",
   "metadata": {},
   "source": [
    "Results"
   ]
  },
  {
   "cell_type": "code",
   "execution_count": 37,
   "id": "6195a719",
   "metadata": {},
   "outputs": [
    {
     "name": "stderr",
     "output_type": "stream",
     "text": [
      "c:\\Users\\VNG\\AppData\\Local\\Programs\\Python\\Python310\\lib\\site-packages\\sklearn\\preprocessing\\_encoders.py:228: UserWarning: Found unknown categories in columns [0, 1, 2, 3, 4, 5, 6] during transform. These unknown categories will be encoded as all zeros\n",
      "  warnings.warn(\n"
     ]
    },
    {
     "name": "stdout",
     "output_type": "stream",
     "text": [
      "Balanced accuracy with default parameters: 0.6795089380352253\n"
     ]
    }
   ],
   "source": [
    "# Predict using the model with the best parameters\n",
    "y_ohe_hgb_default_es_pred = ohe_hgb_default_es.predict(X_test)\n",
    "ohe_hgb_default_es_accuracy = balanced_accuracy_score(y_test, y_ohe_hgb_default_es_pred)\n",
    "print(f'Balanced accuracy with default parameters: {ohe_hgb_default_es_accuracy}')\n",
    "\n",
    "# Save results\n",
    "default_summary.append(\"Default\")\n",
    "card_9_summary.append(\"AllVariables\")\n",
    "encoder_summary.append(\"OneHotEncoding\")\n",
    "early_stopping_summary.append(\"EarlyStopping\")\n",
    "value_summary.append(ohe_hgb_default_es_accuracy)\n",
    "time_summary.append(ohe_hgb_default_es_time_taken)\n",
    "n_models_summary.append(1)"
   ]
  },
  {
   "cell_type": "markdown",
   "id": "f858e758",
   "metadata": {},
   "source": [
    "#### Hyper-parameter tuning"
   ]
  },
  {
   "cell_type": "code",
   "execution_count": 38,
   "id": "ac512103",
   "metadata": {},
   "outputs": [],
   "source": [
    "ohe_hgb_tune = RandomizedSearchCV(estimator = ohe_hgb_default_es_pipeline, \n",
    "                                  param_distributions = param_distributions, \n",
    "                                  n_iter = 20,\n",
    "                                  cv = stratified_kfold,\n",
    "                                  scoring = 'balanced_accuracy', \n",
    "                                  random_state = 1234,\n",
    "                                  n_jobs = -1)"
   ]
  },
  {
   "cell_type": "markdown",
   "id": "6da8ebf1",
   "metadata": {},
   "source": [
    "All variables"
   ]
  },
  {
   "cell_type": "code",
   "execution_count": 39,
   "id": "860e665c",
   "metadata": {},
   "outputs": [],
   "source": [
    "tic = time.time()\n",
    "\n",
    "ohe_hgb_tune = ohe_hgb_tune.fit(X_train, y_train)\n",
    "\n",
    "toc = time.time()\n",
    "ohe_hgb_tune_time_taken = toc-tic"
   ]
  },
  {
   "cell_type": "code",
   "execution_count": 40,
   "metadata": {},
   "outputs": [
    {
     "name": "stdout",
     "output_type": "stream",
     "text": [
      "Time taken:  332.4870915412903\n"
     ]
    },
    {
     "data": {
      "text/html": [
       "<style>#sk-container-id-3 {color: black;}#sk-container-id-3 pre{padding: 0;}#sk-container-id-3 div.sk-toggleable {background-color: white;}#sk-container-id-3 label.sk-toggleable__label {cursor: pointer;display: block;width: 100%;margin-bottom: 0;padding: 0.3em;box-sizing: border-box;text-align: center;}#sk-container-id-3 label.sk-toggleable__label-arrow:before {content: \"▸\";float: left;margin-right: 0.25em;color: #696969;}#sk-container-id-3 label.sk-toggleable__label-arrow:hover:before {color: black;}#sk-container-id-3 div.sk-estimator:hover label.sk-toggleable__label-arrow:before {color: black;}#sk-container-id-3 div.sk-toggleable__content {max-height: 0;max-width: 0;overflow: hidden;text-align: left;background-color: #f0f8ff;}#sk-container-id-3 div.sk-toggleable__content pre {margin: 0.2em;color: black;border-radius: 0.25em;background-color: #f0f8ff;}#sk-container-id-3 input.sk-toggleable__control:checked~div.sk-toggleable__content {max-height: 200px;max-width: 100%;overflow: auto;}#sk-container-id-3 input.sk-toggleable__control:checked~label.sk-toggleable__label-arrow:before {content: \"▾\";}#sk-container-id-3 div.sk-estimator input.sk-toggleable__control:checked~label.sk-toggleable__label {background-color: #d4ebff;}#sk-container-id-3 div.sk-label input.sk-toggleable__control:checked~label.sk-toggleable__label {background-color: #d4ebff;}#sk-container-id-3 input.sk-hidden--visually {border: 0;clip: rect(1px 1px 1px 1px);clip: rect(1px, 1px, 1px, 1px);height: 1px;margin: -1px;overflow: hidden;padding: 0;position: absolute;width: 1px;}#sk-container-id-3 div.sk-estimator {font-family: monospace;background-color: #f0f8ff;border: 1px dotted black;border-radius: 0.25em;box-sizing: border-box;margin-bottom: 0.5em;}#sk-container-id-3 div.sk-estimator:hover {background-color: #d4ebff;}#sk-container-id-3 div.sk-parallel-item::after {content: \"\";width: 100%;border-bottom: 1px solid gray;flex-grow: 1;}#sk-container-id-3 div.sk-label:hover label.sk-toggleable__label {background-color: #d4ebff;}#sk-container-id-3 div.sk-serial::before {content: \"\";position: absolute;border-left: 1px solid gray;box-sizing: border-box;top: 0;bottom: 0;left: 50%;z-index: 0;}#sk-container-id-3 div.sk-serial {display: flex;flex-direction: column;align-items: center;background-color: white;padding-right: 0.2em;padding-left: 0.2em;position: relative;}#sk-container-id-3 div.sk-item {position: relative;z-index: 1;}#sk-container-id-3 div.sk-parallel {display: flex;align-items: stretch;justify-content: center;background-color: white;position: relative;}#sk-container-id-3 div.sk-item::before, #sk-container-id-3 div.sk-parallel-item::before {content: \"\";position: absolute;border-left: 1px solid gray;box-sizing: border-box;top: 0;bottom: 0;left: 50%;z-index: -1;}#sk-container-id-3 div.sk-parallel-item {display: flex;flex-direction: column;z-index: 1;position: relative;background-color: white;}#sk-container-id-3 div.sk-parallel-item:first-child::after {align-self: flex-end;width: 50%;}#sk-container-id-3 div.sk-parallel-item:last-child::after {align-self: flex-start;width: 50%;}#sk-container-id-3 div.sk-parallel-item:only-child::after {width: 0;}#sk-container-id-3 div.sk-dashed-wrapped {border: 1px dashed gray;margin: 0 0.4em 0.5em 0.4em;box-sizing: border-box;padding-bottom: 0.4em;background-color: white;}#sk-container-id-3 div.sk-label label {font-family: monospace;font-weight: bold;display: inline-block;line-height: 1.2em;}#sk-container-id-3 div.sk-label-container {text-align: center;}#sk-container-id-3 div.sk-container {/* jupyter's `normalize.less` sets `[hidden] { display: none; }` but bootstrap.min.css set `[hidden] { display: none !important; }` so we also need the `!important` here to be able to override the default hidden behavior on the sphinx rendered scikit-learn.org. See: https://github.com/scikit-learn/scikit-learn/issues/21755 */display: inline-block !important;position: relative;}#sk-container-id-3 div.sk-text-repr-fallback {display: none;}</style><div id=\"sk-container-id-3\" class=\"sk-top-container\"><div class=\"sk-text-repr-fallback\"><pre>RandomizedSearchCV(cv=StratifiedKFold(n_splits=3, random_state=1234, shuffle=True),\n",
       "                   estimator=Pipeline(steps=[(&#x27;preprocessing&#x27;,\n",
       "                                              ColumnTransformer(sparse_threshold=0,\n",
       "                                                                transformers=[(&#x27;one_hot&#x27;,\n",
       "                                                                               Pipeline(steps=[(&#x27;imputer&#x27;,\n",
       "                                                                                                SimpleImputer(strategy=&#x27;most_frequent&#x27;)),\n",
       "                                                                                               (&#x27;encoder&#x27;,\n",
       "                                                                                                OneHotEncoder(drop=&#x27;first&#x27;,\n",
       "                                                                                                              handle_unknown=&#x27;ignore&#x27;))]),\n",
       "                                                                               [&#x27;MGR_ID&#x27;,\n",
       "                                                                                &#x27;ROLE_ROLLUP_1&#x27;,\n",
       "                                                                                &#x27;ROL...\n",
       "                                                                             random_state=1234,\n",
       "                                                                             scoring=&#x27;balanced_accuracy&#x27;))]),\n",
       "                   n_iter=20, n_jobs=-1,\n",
       "                   param_distributions={&#x27;model__learning_rate&#x27;: &lt;scipy.stats._distn_infrastructure.rv_continuous_frozen object at 0x000001E3214BAB30&gt;,\n",
       "                                        &#x27;model__min_samples_leaf&#x27;: &lt;scipy.stats._distn_infrastructure.rv_discrete_frozen object at 0x000001E320356590&gt;},\n",
       "                   random_state=1234, scoring=&#x27;balanced_accuracy&#x27;)</pre><b>In a Jupyter environment, please rerun this cell to show the HTML representation or trust the notebook. <br />On GitHub, the HTML representation is unable to render, please try loading this page with nbviewer.org.</b></div><div class=\"sk-container\" hidden><div class=\"sk-item sk-dashed-wrapped\"><div class=\"sk-label-container\"><div class=\"sk-label sk-toggleable\"><input class=\"sk-toggleable__control sk-hidden--visually\" id=\"sk-estimator-id-13\" type=\"checkbox\" ><label for=\"sk-estimator-id-13\" class=\"sk-toggleable__label sk-toggleable__label-arrow\">RandomizedSearchCV</label><div class=\"sk-toggleable__content\"><pre>RandomizedSearchCV(cv=StratifiedKFold(n_splits=3, random_state=1234, shuffle=True),\n",
       "                   estimator=Pipeline(steps=[(&#x27;preprocessing&#x27;,\n",
       "                                              ColumnTransformer(sparse_threshold=0,\n",
       "                                                                transformers=[(&#x27;one_hot&#x27;,\n",
       "                                                                               Pipeline(steps=[(&#x27;imputer&#x27;,\n",
       "                                                                                                SimpleImputer(strategy=&#x27;most_frequent&#x27;)),\n",
       "                                                                                               (&#x27;encoder&#x27;,\n",
       "                                                                                                OneHotEncoder(drop=&#x27;first&#x27;,\n",
       "                                                                                                              handle_unknown=&#x27;ignore&#x27;))]),\n",
       "                                                                               [&#x27;MGR_ID&#x27;,\n",
       "                                                                                &#x27;ROLE_ROLLUP_1&#x27;,\n",
       "                                                                                &#x27;ROL...\n",
       "                                                                             random_state=1234,\n",
       "                                                                             scoring=&#x27;balanced_accuracy&#x27;))]),\n",
       "                   n_iter=20, n_jobs=-1,\n",
       "                   param_distributions={&#x27;model__learning_rate&#x27;: &lt;scipy.stats._distn_infrastructure.rv_continuous_frozen object at 0x000001E3214BAB30&gt;,\n",
       "                                        &#x27;model__min_samples_leaf&#x27;: &lt;scipy.stats._distn_infrastructure.rv_discrete_frozen object at 0x000001E320356590&gt;},\n",
       "                   random_state=1234, scoring=&#x27;balanced_accuracy&#x27;)</pre></div></div></div><div class=\"sk-parallel\"><div class=\"sk-parallel-item\"><div class=\"sk-item\"><div class=\"sk-label-container\"><div class=\"sk-label sk-toggleable\"><input class=\"sk-toggleable__control sk-hidden--visually\" id=\"sk-estimator-id-14\" type=\"checkbox\" ><label for=\"sk-estimator-id-14\" class=\"sk-toggleable__label sk-toggleable__label-arrow\">estimator: Pipeline</label><div class=\"sk-toggleable__content\"><pre>Pipeline(steps=[(&#x27;preprocessing&#x27;,\n",
       "                 ColumnTransformer(sparse_threshold=0,\n",
       "                                   transformers=[(&#x27;one_hot&#x27;,\n",
       "                                                  Pipeline(steps=[(&#x27;imputer&#x27;,\n",
       "                                                                   SimpleImputer(strategy=&#x27;most_frequent&#x27;)),\n",
       "                                                                  (&#x27;encoder&#x27;,\n",
       "                                                                   OneHotEncoder(drop=&#x27;first&#x27;,\n",
       "                                                                                 handle_unknown=&#x27;ignore&#x27;))]),\n",
       "                                                  [&#x27;MGR_ID&#x27;, &#x27;ROLE_ROLLUP_1&#x27;,\n",
       "                                                   &#x27;ROLE_ROLLUP_2&#x27;,\n",
       "                                                   &#x27;ROLE_DEPTNAME&#x27;,\n",
       "                                                   &#x27;ROLE_TITLE&#x27;,\n",
       "                                                   &#x27;ROLE_FAMILY_DESC&#x27;,\n",
       "                                                   &#x27;ROLE_FAMILY&#x27;])])),\n",
       "                (&#x27;model&#x27;,\n",
       "                 HistGradientBoostingClassifier(class_weight=&#x27;balanced&#x27;,\n",
       "                                                early_stopping=True,\n",
       "                                                max_iter=1000,\n",
       "                                                n_iter_no_change=5,\n",
       "                                                random_state=1234,\n",
       "                                                scoring=&#x27;balanced_accuracy&#x27;))])</pre></div></div></div><div class=\"sk-serial\"><div class=\"sk-item\"><div class=\"sk-serial\"><div class=\"sk-item sk-dashed-wrapped\"><div class=\"sk-label-container\"><div class=\"sk-label sk-toggleable\"><input class=\"sk-toggleable__control sk-hidden--visually\" id=\"sk-estimator-id-15\" type=\"checkbox\" ><label for=\"sk-estimator-id-15\" class=\"sk-toggleable__label sk-toggleable__label-arrow\">preprocessing: ColumnTransformer</label><div class=\"sk-toggleable__content\"><pre>ColumnTransformer(sparse_threshold=0,\n",
       "                  transformers=[(&#x27;one_hot&#x27;,\n",
       "                                 Pipeline(steps=[(&#x27;imputer&#x27;,\n",
       "                                                  SimpleImputer(strategy=&#x27;most_frequent&#x27;)),\n",
       "                                                 (&#x27;encoder&#x27;,\n",
       "                                                  OneHotEncoder(drop=&#x27;first&#x27;,\n",
       "                                                                handle_unknown=&#x27;ignore&#x27;))]),\n",
       "                                 [&#x27;MGR_ID&#x27;, &#x27;ROLE_ROLLUP_1&#x27;, &#x27;ROLE_ROLLUP_2&#x27;,\n",
       "                                  &#x27;ROLE_DEPTNAME&#x27;, &#x27;ROLE_TITLE&#x27;,\n",
       "                                  &#x27;ROLE_FAMILY_DESC&#x27;, &#x27;ROLE_FAMILY&#x27;])])</pre></div></div></div><div class=\"sk-parallel\"><div class=\"sk-parallel-item\"><div class=\"sk-item\"><div class=\"sk-label-container\"><div class=\"sk-label sk-toggleable\"><input class=\"sk-toggleable__control sk-hidden--visually\" id=\"sk-estimator-id-16\" type=\"checkbox\" ><label for=\"sk-estimator-id-16\" class=\"sk-toggleable__label sk-toggleable__label-arrow\">one_hot</label><div class=\"sk-toggleable__content\"><pre>[&#x27;MGR_ID&#x27;, &#x27;ROLE_ROLLUP_1&#x27;, &#x27;ROLE_ROLLUP_2&#x27;, &#x27;ROLE_DEPTNAME&#x27;, &#x27;ROLE_TITLE&#x27;, &#x27;ROLE_FAMILY_DESC&#x27;, &#x27;ROLE_FAMILY&#x27;]</pre></div></div></div><div class=\"sk-serial\"><div class=\"sk-item\"><div class=\"sk-serial\"><div class=\"sk-item\"><div class=\"sk-estimator sk-toggleable\"><input class=\"sk-toggleable__control sk-hidden--visually\" id=\"sk-estimator-id-17\" type=\"checkbox\" ><label for=\"sk-estimator-id-17\" class=\"sk-toggleable__label sk-toggleable__label-arrow\">SimpleImputer</label><div class=\"sk-toggleable__content\"><pre>SimpleImputer(strategy=&#x27;most_frequent&#x27;)</pre></div></div></div><div class=\"sk-item\"><div class=\"sk-estimator sk-toggleable\"><input class=\"sk-toggleable__control sk-hidden--visually\" id=\"sk-estimator-id-18\" type=\"checkbox\" ><label for=\"sk-estimator-id-18\" class=\"sk-toggleable__label sk-toggleable__label-arrow\">OneHotEncoder</label><div class=\"sk-toggleable__content\"><pre>OneHotEncoder(drop=&#x27;first&#x27;, handle_unknown=&#x27;ignore&#x27;)</pre></div></div></div></div></div></div></div></div></div></div><div class=\"sk-item\"><div class=\"sk-estimator sk-toggleable\"><input class=\"sk-toggleable__control sk-hidden--visually\" id=\"sk-estimator-id-19\" type=\"checkbox\" ><label for=\"sk-estimator-id-19\" class=\"sk-toggleable__label sk-toggleable__label-arrow\">HistGradientBoostingClassifier</label><div class=\"sk-toggleable__content\"><pre>HistGradientBoostingClassifier(class_weight=&#x27;balanced&#x27;, early_stopping=True,\n",
       "                               max_iter=1000, n_iter_no_change=5,\n",
       "                               random_state=1234, scoring=&#x27;balanced_accuracy&#x27;)</pre></div></div></div></div></div></div></div></div></div></div></div></div>"
      ],
      "text/plain": [
       "RandomizedSearchCV(cv=StratifiedKFold(n_splits=3, random_state=1234, shuffle=True),\n",
       "                   estimator=Pipeline(steps=[('preprocessing',\n",
       "                                              ColumnTransformer(sparse_threshold=0,\n",
       "                                                                transformers=[('one_hot',\n",
       "                                                                               Pipeline(steps=[('imputer',\n",
       "                                                                                                SimpleImputer(strategy='most_frequent')),\n",
       "                                                                                               ('encoder',\n",
       "                                                                                                OneHotEncoder(drop='first',\n",
       "                                                                                                              handle_unknown='ignore'))]),\n",
       "                                                                               ['MGR_ID',\n",
       "                                                                                'ROLE_ROLLUP_1',\n",
       "                                                                                'ROL...\n",
       "                                                                             random_state=1234,\n",
       "                                                                             scoring='balanced_accuracy'))]),\n",
       "                   n_iter=20, n_jobs=-1,\n",
       "                   param_distributions={'model__learning_rate': <scipy.stats._distn_infrastructure.rv_continuous_frozen object at 0x000001E3214BAB30>,\n",
       "                                        'model__min_samples_leaf': <scipy.stats._distn_infrastructure.rv_discrete_frozen object at 0x000001E320356590>},\n",
       "                   random_state=1234, scoring='balanced_accuracy')"
      ]
     },
     "execution_count": 40,
     "metadata": {},
     "output_type": "execute_result"
    }
   ],
   "source": [
    "# Display pipeline\n",
    "print(\"Time taken: \", ohe_hgb_tune_time_taken)\n",
    "ohe_hgb_tune"
   ]
  },
  {
   "cell_type": "markdown",
   "id": "272d17c5",
   "metadata": {},
   "source": [
    "Results"
   ]
  },
  {
   "cell_type": "code",
   "execution_count": 41,
   "id": "51aaf60f",
   "metadata": {},
   "outputs": [
    {
     "name": "stderr",
     "output_type": "stream",
     "text": [
      "c:\\Users\\VNG\\AppData\\Local\\Programs\\Python\\Python310\\lib\\site-packages\\sklearn\\preprocessing\\_encoders.py:228: UserWarning: Found unknown categories in columns [0, 1, 2, 3, 4, 5, 6] during transform. These unknown categories will be encoded as all zeros\n",
      "  warnings.warn(\n"
     ]
    },
    {
     "name": "stdout",
     "output_type": "stream",
     "text": [
      "Best parameters: {'model__learning_rate': 0.3061417906779587, 'model__min_samples_leaf': 12}\n",
      "Balanced accuracy with best parameters: 0.7271813861073166\n"
     ]
    }
   ],
   "source": [
    "# Predict using the model with the best parameters\n",
    "y_ohe_hgb_tune_pred = ohe_hgb_tune.predict(X_test)\n",
    "\n",
    "# Get the best parameters\n",
    "ohe_hgb_tune_best_params = ohe_hgb_tune.best_params_\n",
    "print(f'Best parameters: {ohe_hgb_tune_best_params}')\n",
    "\n",
    "# Calculate balanced accuracy for the model with the best parameters\n",
    "ohe_hgb_tune_accuracy = balanced_accuracy_score(y_test, y_ohe_hgb_tune_pred)\n",
    "print(f'Balanced accuracy with best parameters: {ohe_hgb_tune_accuracy}')\n",
    "\n",
    "# Save results\n",
    "default_summary.append(\"Tune\")\n",
    "card_9_summary.append(\"AllVariables\")\n",
    "encoder_summary.append(\"OneHotEncoding\")\n",
    "early_stopping_summary.append(\"EarlyStopping\")\n",
    "value_summary.append(ohe_hgb_tune_accuracy)\n",
    "time_summary.append(ohe_hgb_tune_time_taken)\n",
    "n_models_summary.append(ohe_hgb_tune.n_iter)"
   ]
  },
  {
   "cell_type": "markdown",
   "id": "a9a7c336",
   "metadata": {},
   "source": [
    " "
   ]
  },
  {
   "cell_type": "markdown",
   "id": "08858430",
   "metadata": {},
   "source": [
    "### Count Encoder + HistGradientBoosting\n"
   ]
  },
  {
   "cell_type": "code",
   "execution_count": 42,
   "id": "61db2219",
   "metadata": {},
   "outputs": [],
   "source": [
    "from category_encoders.count import CountEncoder"
   ]
  },
  {
   "cell_type": "markdown",
   "id": "9cedba6a",
   "metadata": {},
   "source": [
    "#### Preprocessing"
   ]
  },
  {
   "cell_type": "code",
   "execution_count": 43,
   "id": "d73d6a57",
   "metadata": {},
   "outputs": [],
   "source": [
    "cat_pipeline = Pipeline([\n",
    "    (\"imputer\", SimpleImputer(strategy = \"most_frequent\")),\n",
    "    (\"encoder\", CountEncoder(handle_unknown = 0))\n",
    "])\n",
    "\n",
    "preprop_pipeline = ColumnTransformer(\n",
    "    transformers = [(\"count_encoder\", cat_pipeline, cat_cols)],\n",
    "    sparse_threshold=0\n",
    ")"
   ]
  },
  {
   "cell_type": "markdown",
   "id": "037efae9",
   "metadata": {},
   "source": [
    "#### Default hyper-parameters"
   ]
  },
  {
   "cell_type": "code",
   "execution_count": 44,
   "id": "fd90a4a3",
   "metadata": {},
   "outputs": [],
   "source": [
    "count_hgb_default_pipeline = Pipeline([('preprocessing', preprop_pipeline),\n",
    "                                       ('model', hgb_default)])\n",
    "\n",
    "count_hgb_default_es_pipeline = Pipeline([('preprocessing', preprop_pipeline),\n",
    "                                       ('model', hgb_default_es)])"
   ]
  },
  {
   "cell_type": "markdown",
   "id": "81416f3b",
   "metadata": {},
   "source": [
    "##### Without early-stopping"
   ]
  },
  {
   "cell_type": "code",
   "execution_count": 45,
   "id": "bc4e2c6c",
   "metadata": {},
   "outputs": [],
   "source": [
    "tic = time.time()\n",
    "\n",
    "count_hgb_default = count_hgb_default_pipeline.fit(X_train, y_train)\n",
    "\n",
    "toc = time.time()\n",
    "count_hgb_default_time_taken = toc-tic"
   ]
  },
  {
   "cell_type": "code",
   "execution_count": 46,
   "metadata": {},
   "outputs": [
    {
     "name": "stdout",
     "output_type": "stream",
     "text": [
      "Time taken:  6.7645063400268555\n"
     ]
    },
    {
     "data": {
      "text/html": [
       "<style>#sk-container-id-4 {color: black;}#sk-container-id-4 pre{padding: 0;}#sk-container-id-4 div.sk-toggleable {background-color: white;}#sk-container-id-4 label.sk-toggleable__label {cursor: pointer;display: block;width: 100%;margin-bottom: 0;padding: 0.3em;box-sizing: border-box;text-align: center;}#sk-container-id-4 label.sk-toggleable__label-arrow:before {content: \"▸\";float: left;margin-right: 0.25em;color: #696969;}#sk-container-id-4 label.sk-toggleable__label-arrow:hover:before {color: black;}#sk-container-id-4 div.sk-estimator:hover label.sk-toggleable__label-arrow:before {color: black;}#sk-container-id-4 div.sk-toggleable__content {max-height: 0;max-width: 0;overflow: hidden;text-align: left;background-color: #f0f8ff;}#sk-container-id-4 div.sk-toggleable__content pre {margin: 0.2em;color: black;border-radius: 0.25em;background-color: #f0f8ff;}#sk-container-id-4 input.sk-toggleable__control:checked~div.sk-toggleable__content {max-height: 200px;max-width: 100%;overflow: auto;}#sk-container-id-4 input.sk-toggleable__control:checked~label.sk-toggleable__label-arrow:before {content: \"▾\";}#sk-container-id-4 div.sk-estimator input.sk-toggleable__control:checked~label.sk-toggleable__label {background-color: #d4ebff;}#sk-container-id-4 div.sk-label input.sk-toggleable__control:checked~label.sk-toggleable__label {background-color: #d4ebff;}#sk-container-id-4 input.sk-hidden--visually {border: 0;clip: rect(1px 1px 1px 1px);clip: rect(1px, 1px, 1px, 1px);height: 1px;margin: -1px;overflow: hidden;padding: 0;position: absolute;width: 1px;}#sk-container-id-4 div.sk-estimator {font-family: monospace;background-color: #f0f8ff;border: 1px dotted black;border-radius: 0.25em;box-sizing: border-box;margin-bottom: 0.5em;}#sk-container-id-4 div.sk-estimator:hover {background-color: #d4ebff;}#sk-container-id-4 div.sk-parallel-item::after {content: \"\";width: 100%;border-bottom: 1px solid gray;flex-grow: 1;}#sk-container-id-4 div.sk-label:hover label.sk-toggleable__label {background-color: #d4ebff;}#sk-container-id-4 div.sk-serial::before {content: \"\";position: absolute;border-left: 1px solid gray;box-sizing: border-box;top: 0;bottom: 0;left: 50%;z-index: 0;}#sk-container-id-4 div.sk-serial {display: flex;flex-direction: column;align-items: center;background-color: white;padding-right: 0.2em;padding-left: 0.2em;position: relative;}#sk-container-id-4 div.sk-item {position: relative;z-index: 1;}#sk-container-id-4 div.sk-parallel {display: flex;align-items: stretch;justify-content: center;background-color: white;position: relative;}#sk-container-id-4 div.sk-item::before, #sk-container-id-4 div.sk-parallel-item::before {content: \"\";position: absolute;border-left: 1px solid gray;box-sizing: border-box;top: 0;bottom: 0;left: 50%;z-index: -1;}#sk-container-id-4 div.sk-parallel-item {display: flex;flex-direction: column;z-index: 1;position: relative;background-color: white;}#sk-container-id-4 div.sk-parallel-item:first-child::after {align-self: flex-end;width: 50%;}#sk-container-id-4 div.sk-parallel-item:last-child::after {align-self: flex-start;width: 50%;}#sk-container-id-4 div.sk-parallel-item:only-child::after {width: 0;}#sk-container-id-4 div.sk-dashed-wrapped {border: 1px dashed gray;margin: 0 0.4em 0.5em 0.4em;box-sizing: border-box;padding-bottom: 0.4em;background-color: white;}#sk-container-id-4 div.sk-label label {font-family: monospace;font-weight: bold;display: inline-block;line-height: 1.2em;}#sk-container-id-4 div.sk-label-container {text-align: center;}#sk-container-id-4 div.sk-container {/* jupyter's `normalize.less` sets `[hidden] { display: none; }` but bootstrap.min.css set `[hidden] { display: none !important; }` so we also need the `!important` here to be able to override the default hidden behavior on the sphinx rendered scikit-learn.org. See: https://github.com/scikit-learn/scikit-learn/issues/21755 */display: inline-block !important;position: relative;}#sk-container-id-4 div.sk-text-repr-fallback {display: none;}</style><div id=\"sk-container-id-4\" class=\"sk-top-container\"><div class=\"sk-text-repr-fallback\"><pre>Pipeline(steps=[(&#x27;preprocessing&#x27;,\n",
       "                 ColumnTransformer(sparse_threshold=0,\n",
       "                                   transformers=[(&#x27;count_encoder&#x27;,\n",
       "                                                  Pipeline(steps=[(&#x27;imputer&#x27;,\n",
       "                                                                   SimpleImputer(strategy=&#x27;most_frequent&#x27;)),\n",
       "                                                                  (&#x27;encoder&#x27;,\n",
       "                                                                   CountEncoder(combine_min_nan_groups=True,\n",
       "                                                                                handle_unknown=0))]),\n",
       "                                                  [&#x27;MGR_ID&#x27;, &#x27;ROLE_ROLLUP_1&#x27;,\n",
       "                                                   &#x27;ROLE_ROLLUP_2&#x27;,\n",
       "                                                   &#x27;ROLE_DEPTNAME&#x27;,\n",
       "                                                   &#x27;ROLE_TITLE&#x27;,\n",
       "                                                   &#x27;ROLE_FAMILY_DESC&#x27;,\n",
       "                                                   &#x27;ROLE_FAMILY&#x27;])])),\n",
       "                (&#x27;model&#x27;,\n",
       "                 HistGradientBoostingClassifier(class_weight=&#x27;balanced&#x27;,\n",
       "                                                early_stopping=False,\n",
       "                                                max_iter=1000,\n",
       "                                                random_state=1234,\n",
       "                                                scoring=&#x27;balanced_accuracy&#x27;))])</pre><b>In a Jupyter environment, please rerun this cell to show the HTML representation or trust the notebook. <br />On GitHub, the HTML representation is unable to render, please try loading this page with nbviewer.org.</b></div><div class=\"sk-container\" hidden><div class=\"sk-item sk-dashed-wrapped\"><div class=\"sk-label-container\"><div class=\"sk-label sk-toggleable\"><input class=\"sk-toggleable__control sk-hidden--visually\" id=\"sk-estimator-id-20\" type=\"checkbox\" ><label for=\"sk-estimator-id-20\" class=\"sk-toggleable__label sk-toggleable__label-arrow\">Pipeline</label><div class=\"sk-toggleable__content\"><pre>Pipeline(steps=[(&#x27;preprocessing&#x27;,\n",
       "                 ColumnTransformer(sparse_threshold=0,\n",
       "                                   transformers=[(&#x27;count_encoder&#x27;,\n",
       "                                                  Pipeline(steps=[(&#x27;imputer&#x27;,\n",
       "                                                                   SimpleImputer(strategy=&#x27;most_frequent&#x27;)),\n",
       "                                                                  (&#x27;encoder&#x27;,\n",
       "                                                                   CountEncoder(combine_min_nan_groups=True,\n",
       "                                                                                handle_unknown=0))]),\n",
       "                                                  [&#x27;MGR_ID&#x27;, &#x27;ROLE_ROLLUP_1&#x27;,\n",
       "                                                   &#x27;ROLE_ROLLUP_2&#x27;,\n",
       "                                                   &#x27;ROLE_DEPTNAME&#x27;,\n",
       "                                                   &#x27;ROLE_TITLE&#x27;,\n",
       "                                                   &#x27;ROLE_FAMILY_DESC&#x27;,\n",
       "                                                   &#x27;ROLE_FAMILY&#x27;])])),\n",
       "                (&#x27;model&#x27;,\n",
       "                 HistGradientBoostingClassifier(class_weight=&#x27;balanced&#x27;,\n",
       "                                                early_stopping=False,\n",
       "                                                max_iter=1000,\n",
       "                                                random_state=1234,\n",
       "                                                scoring=&#x27;balanced_accuracy&#x27;))])</pre></div></div></div><div class=\"sk-serial\"><div class=\"sk-item sk-dashed-wrapped\"><div class=\"sk-label-container\"><div class=\"sk-label sk-toggleable\"><input class=\"sk-toggleable__control sk-hidden--visually\" id=\"sk-estimator-id-21\" type=\"checkbox\" ><label for=\"sk-estimator-id-21\" class=\"sk-toggleable__label sk-toggleable__label-arrow\">preprocessing: ColumnTransformer</label><div class=\"sk-toggleable__content\"><pre>ColumnTransformer(sparse_threshold=0,\n",
       "                  transformers=[(&#x27;count_encoder&#x27;,\n",
       "                                 Pipeline(steps=[(&#x27;imputer&#x27;,\n",
       "                                                  SimpleImputer(strategy=&#x27;most_frequent&#x27;)),\n",
       "                                                 (&#x27;encoder&#x27;,\n",
       "                                                  CountEncoder(combine_min_nan_groups=True,\n",
       "                                                               handle_unknown=0))]),\n",
       "                                 [&#x27;MGR_ID&#x27;, &#x27;ROLE_ROLLUP_1&#x27;, &#x27;ROLE_ROLLUP_2&#x27;,\n",
       "                                  &#x27;ROLE_DEPTNAME&#x27;, &#x27;ROLE_TITLE&#x27;,\n",
       "                                  &#x27;ROLE_FAMILY_DESC&#x27;, &#x27;ROLE_FAMILY&#x27;])])</pre></div></div></div><div class=\"sk-parallel\"><div class=\"sk-parallel-item\"><div class=\"sk-item\"><div class=\"sk-label-container\"><div class=\"sk-label sk-toggleable\"><input class=\"sk-toggleable__control sk-hidden--visually\" id=\"sk-estimator-id-22\" type=\"checkbox\" ><label for=\"sk-estimator-id-22\" class=\"sk-toggleable__label sk-toggleable__label-arrow\">count_encoder</label><div class=\"sk-toggleable__content\"><pre>[&#x27;MGR_ID&#x27;, &#x27;ROLE_ROLLUP_1&#x27;, &#x27;ROLE_ROLLUP_2&#x27;, &#x27;ROLE_DEPTNAME&#x27;, &#x27;ROLE_TITLE&#x27;, &#x27;ROLE_FAMILY_DESC&#x27;, &#x27;ROLE_FAMILY&#x27;]</pre></div></div></div><div class=\"sk-serial\"><div class=\"sk-item\"><div class=\"sk-serial\"><div class=\"sk-item\"><div class=\"sk-estimator sk-toggleable\"><input class=\"sk-toggleable__control sk-hidden--visually\" id=\"sk-estimator-id-23\" type=\"checkbox\" ><label for=\"sk-estimator-id-23\" class=\"sk-toggleable__label sk-toggleable__label-arrow\">SimpleImputer</label><div class=\"sk-toggleable__content\"><pre>SimpleImputer(strategy=&#x27;most_frequent&#x27;)</pre></div></div></div><div class=\"sk-item\"><div class=\"sk-estimator sk-toggleable\"><input class=\"sk-toggleable__control sk-hidden--visually\" id=\"sk-estimator-id-24\" type=\"checkbox\" ><label for=\"sk-estimator-id-24\" class=\"sk-toggleable__label sk-toggleable__label-arrow\">CountEncoder</label><div class=\"sk-toggleable__content\"><pre>CountEncoder(combine_min_nan_groups=True, handle_unknown=0)</pre></div></div></div></div></div></div></div></div></div></div><div class=\"sk-item\"><div class=\"sk-estimator sk-toggleable\"><input class=\"sk-toggleable__control sk-hidden--visually\" id=\"sk-estimator-id-25\" type=\"checkbox\" ><label for=\"sk-estimator-id-25\" class=\"sk-toggleable__label sk-toggleable__label-arrow\">HistGradientBoostingClassifier</label><div class=\"sk-toggleable__content\"><pre>HistGradientBoostingClassifier(class_weight=&#x27;balanced&#x27;, early_stopping=False,\n",
       "                               max_iter=1000, random_state=1234,\n",
       "                               scoring=&#x27;balanced_accuracy&#x27;)</pre></div></div></div></div></div></div></div>"
      ],
      "text/plain": [
       "Pipeline(steps=[('preprocessing',\n",
       "                 ColumnTransformer(sparse_threshold=0,\n",
       "                                   transformers=[('count_encoder',\n",
       "                                                  Pipeline(steps=[('imputer',\n",
       "                                                                   SimpleImputer(strategy='most_frequent')),\n",
       "                                                                  ('encoder',\n",
       "                                                                   CountEncoder(combine_min_nan_groups=True,\n",
       "                                                                                handle_unknown=0))]),\n",
       "                                                  ['MGR_ID', 'ROLE_ROLLUP_1',\n",
       "                                                   'ROLE_ROLLUP_2',\n",
       "                                                   'ROLE_DEPTNAME',\n",
       "                                                   'ROLE_TITLE',\n",
       "                                                   'ROLE_FAMILY_DESC',\n",
       "                                                   'ROLE_FAMILY'])])),\n",
       "                ('model',\n",
       "                 HistGradientBoostingClassifier(class_weight='balanced',\n",
       "                                                early_stopping=False,\n",
       "                                                max_iter=1000,\n",
       "                                                random_state=1234,\n",
       "                                                scoring='balanced_accuracy'))])"
      ]
     },
     "execution_count": 46,
     "metadata": {},
     "output_type": "execute_result"
    }
   ],
   "source": [
    "# Display pipeline\n",
    "print(\"Time taken: \", count_hgb_default_time_taken)\n",
    "count_hgb_default"
   ]
  },
  {
   "cell_type": "markdown",
   "id": "41b1c415",
   "metadata": {},
   "source": [
    "Results"
   ]
  },
  {
   "cell_type": "code",
   "execution_count": 47,
   "id": "f7402dc8",
   "metadata": {},
   "outputs": [
    {
     "name": "stdout",
     "output_type": "stream",
     "text": [
      "Balanced accuracy with default parameters: 0.780767889554961\n"
     ]
    }
   ],
   "source": [
    "# Predict using the model with the best parameters\n",
    "y_count_hgb_default_pred = count_hgb_default.predict(X_test)\n",
    "count_hgb_default_accuracy = balanced_accuracy_score(y_test, y_count_hgb_default_pred)\n",
    "print(f'Balanced accuracy with default parameters: {count_hgb_default_accuracy}')\n",
    "\n",
    "# Save results\n",
    "default_summary.append(\"Default\")\n",
    "card_9_summary.append(\"AllVariables\")\n",
    "encoder_summary.append(\"CountEncoding\")\n",
    "early_stopping_summary.append(\"NoEarlyStopping\")\n",
    "value_summary.append(count_hgb_default_accuracy)\n",
    "time_summary.append(count_hgb_default_time_taken)\n",
    "n_models_summary.append(1)"
   ]
  },
  {
   "cell_type": "markdown",
   "id": "e5c129de",
   "metadata": {},
   "source": [
    "##### With early-stopping"
   ]
  },
  {
   "cell_type": "markdown",
   "id": "ca1f046b",
   "metadata": {},
   "source": [
    "All variables"
   ]
  },
  {
   "cell_type": "code",
   "execution_count": 48,
   "id": "8f97f857",
   "metadata": {},
   "outputs": [],
   "source": [
    "tic = time.time()\n",
    "\n",
    "count_hgb_default_es = count_hgb_default_es_pipeline.fit(X_train, y_train)\n",
    "\n",
    "toc = time.time()\n",
    "count_hgb_default_es_time_taken = toc-tic"
   ]
  },
  {
   "cell_type": "code",
   "execution_count": 49,
   "id": "c204c628",
   "metadata": {},
   "outputs": [
    {
     "name": "stdout",
     "output_type": "stream",
     "text": [
      "Time taken:  2.482287645339966\n"
     ]
    },
    {
     "data": {
      "text/html": [
       "<style>#sk-container-id-5 {color: black;}#sk-container-id-5 pre{padding: 0;}#sk-container-id-5 div.sk-toggleable {background-color: white;}#sk-container-id-5 label.sk-toggleable__label {cursor: pointer;display: block;width: 100%;margin-bottom: 0;padding: 0.3em;box-sizing: border-box;text-align: center;}#sk-container-id-5 label.sk-toggleable__label-arrow:before {content: \"▸\";float: left;margin-right: 0.25em;color: #696969;}#sk-container-id-5 label.sk-toggleable__label-arrow:hover:before {color: black;}#sk-container-id-5 div.sk-estimator:hover label.sk-toggleable__label-arrow:before {color: black;}#sk-container-id-5 div.sk-toggleable__content {max-height: 0;max-width: 0;overflow: hidden;text-align: left;background-color: #f0f8ff;}#sk-container-id-5 div.sk-toggleable__content pre {margin: 0.2em;color: black;border-radius: 0.25em;background-color: #f0f8ff;}#sk-container-id-5 input.sk-toggleable__control:checked~div.sk-toggleable__content {max-height: 200px;max-width: 100%;overflow: auto;}#sk-container-id-5 input.sk-toggleable__control:checked~label.sk-toggleable__label-arrow:before {content: \"▾\";}#sk-container-id-5 div.sk-estimator input.sk-toggleable__control:checked~label.sk-toggleable__label {background-color: #d4ebff;}#sk-container-id-5 div.sk-label input.sk-toggleable__control:checked~label.sk-toggleable__label {background-color: #d4ebff;}#sk-container-id-5 input.sk-hidden--visually {border: 0;clip: rect(1px 1px 1px 1px);clip: rect(1px, 1px, 1px, 1px);height: 1px;margin: -1px;overflow: hidden;padding: 0;position: absolute;width: 1px;}#sk-container-id-5 div.sk-estimator {font-family: monospace;background-color: #f0f8ff;border: 1px dotted black;border-radius: 0.25em;box-sizing: border-box;margin-bottom: 0.5em;}#sk-container-id-5 div.sk-estimator:hover {background-color: #d4ebff;}#sk-container-id-5 div.sk-parallel-item::after {content: \"\";width: 100%;border-bottom: 1px solid gray;flex-grow: 1;}#sk-container-id-5 div.sk-label:hover label.sk-toggleable__label {background-color: #d4ebff;}#sk-container-id-5 div.sk-serial::before {content: \"\";position: absolute;border-left: 1px solid gray;box-sizing: border-box;top: 0;bottom: 0;left: 50%;z-index: 0;}#sk-container-id-5 div.sk-serial {display: flex;flex-direction: column;align-items: center;background-color: white;padding-right: 0.2em;padding-left: 0.2em;position: relative;}#sk-container-id-5 div.sk-item {position: relative;z-index: 1;}#sk-container-id-5 div.sk-parallel {display: flex;align-items: stretch;justify-content: center;background-color: white;position: relative;}#sk-container-id-5 div.sk-item::before, #sk-container-id-5 div.sk-parallel-item::before {content: \"\";position: absolute;border-left: 1px solid gray;box-sizing: border-box;top: 0;bottom: 0;left: 50%;z-index: -1;}#sk-container-id-5 div.sk-parallel-item {display: flex;flex-direction: column;z-index: 1;position: relative;background-color: white;}#sk-container-id-5 div.sk-parallel-item:first-child::after {align-self: flex-end;width: 50%;}#sk-container-id-5 div.sk-parallel-item:last-child::after {align-self: flex-start;width: 50%;}#sk-container-id-5 div.sk-parallel-item:only-child::after {width: 0;}#sk-container-id-5 div.sk-dashed-wrapped {border: 1px dashed gray;margin: 0 0.4em 0.5em 0.4em;box-sizing: border-box;padding-bottom: 0.4em;background-color: white;}#sk-container-id-5 div.sk-label label {font-family: monospace;font-weight: bold;display: inline-block;line-height: 1.2em;}#sk-container-id-5 div.sk-label-container {text-align: center;}#sk-container-id-5 div.sk-container {/* jupyter's `normalize.less` sets `[hidden] { display: none; }` but bootstrap.min.css set `[hidden] { display: none !important; }` so we also need the `!important` here to be able to override the default hidden behavior on the sphinx rendered scikit-learn.org. See: https://github.com/scikit-learn/scikit-learn/issues/21755 */display: inline-block !important;position: relative;}#sk-container-id-5 div.sk-text-repr-fallback {display: none;}</style><div id=\"sk-container-id-5\" class=\"sk-top-container\"><div class=\"sk-text-repr-fallback\"><pre>Pipeline(steps=[(&#x27;preprocessing&#x27;,\n",
       "                 ColumnTransformer(sparse_threshold=0,\n",
       "                                   transformers=[(&#x27;count_encoder&#x27;,\n",
       "                                                  Pipeline(steps=[(&#x27;imputer&#x27;,\n",
       "                                                                   SimpleImputer(strategy=&#x27;most_frequent&#x27;)),\n",
       "                                                                  (&#x27;encoder&#x27;,\n",
       "                                                                   CountEncoder(combine_min_nan_groups=True,\n",
       "                                                                                handle_unknown=0))]),\n",
       "                                                  [&#x27;MGR_ID&#x27;, &#x27;ROLE_ROLLUP_1&#x27;,\n",
       "                                                   &#x27;ROLE_ROLLUP_2&#x27;,\n",
       "                                                   &#x27;ROLE_DEPTNAME&#x27;,\n",
       "                                                   &#x27;ROLE_TITLE&#x27;,\n",
       "                                                   &#x27;ROLE_FAMILY_DESC&#x27;,\n",
       "                                                   &#x27;ROLE_FAMILY&#x27;])])),\n",
       "                (&#x27;model&#x27;,\n",
       "                 HistGradientBoostingClassifier(class_weight=&#x27;balanced&#x27;,\n",
       "                                                early_stopping=True,\n",
       "                                                max_iter=1000,\n",
       "                                                n_iter_no_change=5,\n",
       "                                                random_state=1234,\n",
       "                                                scoring=&#x27;balanced_accuracy&#x27;))])</pre><b>In a Jupyter environment, please rerun this cell to show the HTML representation or trust the notebook. <br />On GitHub, the HTML representation is unable to render, please try loading this page with nbviewer.org.</b></div><div class=\"sk-container\" hidden><div class=\"sk-item sk-dashed-wrapped\"><div class=\"sk-label-container\"><div class=\"sk-label sk-toggleable\"><input class=\"sk-toggleable__control sk-hidden--visually\" id=\"sk-estimator-id-26\" type=\"checkbox\" ><label for=\"sk-estimator-id-26\" class=\"sk-toggleable__label sk-toggleable__label-arrow\">Pipeline</label><div class=\"sk-toggleable__content\"><pre>Pipeline(steps=[(&#x27;preprocessing&#x27;,\n",
       "                 ColumnTransformer(sparse_threshold=0,\n",
       "                                   transformers=[(&#x27;count_encoder&#x27;,\n",
       "                                                  Pipeline(steps=[(&#x27;imputer&#x27;,\n",
       "                                                                   SimpleImputer(strategy=&#x27;most_frequent&#x27;)),\n",
       "                                                                  (&#x27;encoder&#x27;,\n",
       "                                                                   CountEncoder(combine_min_nan_groups=True,\n",
       "                                                                                handle_unknown=0))]),\n",
       "                                                  [&#x27;MGR_ID&#x27;, &#x27;ROLE_ROLLUP_1&#x27;,\n",
       "                                                   &#x27;ROLE_ROLLUP_2&#x27;,\n",
       "                                                   &#x27;ROLE_DEPTNAME&#x27;,\n",
       "                                                   &#x27;ROLE_TITLE&#x27;,\n",
       "                                                   &#x27;ROLE_FAMILY_DESC&#x27;,\n",
       "                                                   &#x27;ROLE_FAMILY&#x27;])])),\n",
       "                (&#x27;model&#x27;,\n",
       "                 HistGradientBoostingClassifier(class_weight=&#x27;balanced&#x27;,\n",
       "                                                early_stopping=True,\n",
       "                                                max_iter=1000,\n",
       "                                                n_iter_no_change=5,\n",
       "                                                random_state=1234,\n",
       "                                                scoring=&#x27;balanced_accuracy&#x27;))])</pre></div></div></div><div class=\"sk-serial\"><div class=\"sk-item sk-dashed-wrapped\"><div class=\"sk-label-container\"><div class=\"sk-label sk-toggleable\"><input class=\"sk-toggleable__control sk-hidden--visually\" id=\"sk-estimator-id-27\" type=\"checkbox\" ><label for=\"sk-estimator-id-27\" class=\"sk-toggleable__label sk-toggleable__label-arrow\">preprocessing: ColumnTransformer</label><div class=\"sk-toggleable__content\"><pre>ColumnTransformer(sparse_threshold=0,\n",
       "                  transformers=[(&#x27;count_encoder&#x27;,\n",
       "                                 Pipeline(steps=[(&#x27;imputer&#x27;,\n",
       "                                                  SimpleImputer(strategy=&#x27;most_frequent&#x27;)),\n",
       "                                                 (&#x27;encoder&#x27;,\n",
       "                                                  CountEncoder(combine_min_nan_groups=True,\n",
       "                                                               handle_unknown=0))]),\n",
       "                                 [&#x27;MGR_ID&#x27;, &#x27;ROLE_ROLLUP_1&#x27;, &#x27;ROLE_ROLLUP_2&#x27;,\n",
       "                                  &#x27;ROLE_DEPTNAME&#x27;, &#x27;ROLE_TITLE&#x27;,\n",
       "                                  &#x27;ROLE_FAMILY_DESC&#x27;, &#x27;ROLE_FAMILY&#x27;])])</pre></div></div></div><div class=\"sk-parallel\"><div class=\"sk-parallel-item\"><div class=\"sk-item\"><div class=\"sk-label-container\"><div class=\"sk-label sk-toggleable\"><input class=\"sk-toggleable__control sk-hidden--visually\" id=\"sk-estimator-id-28\" type=\"checkbox\" ><label for=\"sk-estimator-id-28\" class=\"sk-toggleable__label sk-toggleable__label-arrow\">count_encoder</label><div class=\"sk-toggleable__content\"><pre>[&#x27;MGR_ID&#x27;, &#x27;ROLE_ROLLUP_1&#x27;, &#x27;ROLE_ROLLUP_2&#x27;, &#x27;ROLE_DEPTNAME&#x27;, &#x27;ROLE_TITLE&#x27;, &#x27;ROLE_FAMILY_DESC&#x27;, &#x27;ROLE_FAMILY&#x27;]</pre></div></div></div><div class=\"sk-serial\"><div class=\"sk-item\"><div class=\"sk-serial\"><div class=\"sk-item\"><div class=\"sk-estimator sk-toggleable\"><input class=\"sk-toggleable__control sk-hidden--visually\" id=\"sk-estimator-id-29\" type=\"checkbox\" ><label for=\"sk-estimator-id-29\" class=\"sk-toggleable__label sk-toggleable__label-arrow\">SimpleImputer</label><div class=\"sk-toggleable__content\"><pre>SimpleImputer(strategy=&#x27;most_frequent&#x27;)</pre></div></div></div><div class=\"sk-item\"><div class=\"sk-estimator sk-toggleable\"><input class=\"sk-toggleable__control sk-hidden--visually\" id=\"sk-estimator-id-30\" type=\"checkbox\" ><label for=\"sk-estimator-id-30\" class=\"sk-toggleable__label sk-toggleable__label-arrow\">CountEncoder</label><div class=\"sk-toggleable__content\"><pre>CountEncoder(combine_min_nan_groups=True, handle_unknown=0)</pre></div></div></div></div></div></div></div></div></div></div><div class=\"sk-item\"><div class=\"sk-estimator sk-toggleable\"><input class=\"sk-toggleable__control sk-hidden--visually\" id=\"sk-estimator-id-31\" type=\"checkbox\" ><label for=\"sk-estimator-id-31\" class=\"sk-toggleable__label sk-toggleable__label-arrow\">HistGradientBoostingClassifier</label><div class=\"sk-toggleable__content\"><pre>HistGradientBoostingClassifier(class_weight=&#x27;balanced&#x27;, early_stopping=True,\n",
       "                               max_iter=1000, n_iter_no_change=5,\n",
       "                               random_state=1234, scoring=&#x27;balanced_accuracy&#x27;)</pre></div></div></div></div></div></div></div>"
      ],
      "text/plain": [
       "Pipeline(steps=[('preprocessing',\n",
       "                 ColumnTransformer(sparse_threshold=0,\n",
       "                                   transformers=[('count_encoder',\n",
       "                                                  Pipeline(steps=[('imputer',\n",
       "                                                                   SimpleImputer(strategy='most_frequent')),\n",
       "                                                                  ('encoder',\n",
       "                                                                   CountEncoder(combine_min_nan_groups=True,\n",
       "                                                                                handle_unknown=0))]),\n",
       "                                                  ['MGR_ID', 'ROLE_ROLLUP_1',\n",
       "                                                   'ROLE_ROLLUP_2',\n",
       "                                                   'ROLE_DEPTNAME',\n",
       "                                                   'ROLE_TITLE',\n",
       "                                                   'ROLE_FAMILY_DESC',\n",
       "                                                   'ROLE_FAMILY'])])),\n",
       "                ('model',\n",
       "                 HistGradientBoostingClassifier(class_weight='balanced',\n",
       "                                                early_stopping=True,\n",
       "                                                max_iter=1000,\n",
       "                                                n_iter_no_change=5,\n",
       "                                                random_state=1234,\n",
       "                                                scoring='balanced_accuracy'))])"
      ]
     },
     "execution_count": 49,
     "metadata": {},
     "output_type": "execute_result"
    }
   ],
   "source": [
    "# Display pipeline\n",
    "print(\"Time taken: \", count_hgb_default_es_time_taken)\n",
    "count_hgb_default_es"
   ]
  },
  {
   "cell_type": "markdown",
   "id": "75353309",
   "metadata": {},
   "source": [
    "Results"
   ]
  },
  {
   "cell_type": "code",
   "execution_count": 50,
   "metadata": {},
   "outputs": [
    {
     "name": "stdout",
     "output_type": "stream",
     "text": [
      "Balanced accuracy with default parameters: 0.7344092404645697\n"
     ]
    }
   ],
   "source": [
    "# Predict using the model with the best parameters\n",
    "y_count_hgb_default_es_pred = count_hgb_default_es.predict(X_test)\n",
    "count_hgb_default_es_accuracy = balanced_accuracy_score(y_test, y_count_hgb_default_es_pred)\n",
    "print(f'Balanced accuracy with default parameters: {count_hgb_default_es_accuracy}')\n",
    "\n",
    "# Save results\n",
    "default_summary.append(\"Default\")\n",
    "card_9_summary.append(\"AllVariables\")\n",
    "encoder_summary.append(\"CountEncoding\")\n",
    "early_stopping_summary.append(\"EarlyStopping\")\n",
    "value_summary.append(count_hgb_default_es_accuracy)\n",
    "time_summary.append(count_hgb_default_es_time_taken)\n",
    "n_models_summary.append(1)"
   ]
  },
  {
   "cell_type": "markdown",
   "id": "ed19d037",
   "metadata": {},
   "source": []
  },
  {
   "cell_type": "markdown",
   "id": "5535ba26",
   "metadata": {},
   "source": [
    "#### Hyper-parameter tuning"
   ]
  },
  {
   "cell_type": "code",
   "execution_count": 51,
   "id": "3449fd82",
   "metadata": {},
   "outputs": [],
   "source": [
    "count_hgb_tune = RandomizedSearchCV(estimator = count_hgb_default_es_pipeline, \n",
    "                                    param_distributions = param_distributions, \n",
    "                                    n_iter = 20,\n",
    "                                    cv = stratified_kfold,\n",
    "                                    scoring = 'balanced_accuracy', \n",
    "                                    random_state = 1234,\n",
    "                                    n_jobs = -1)"
   ]
  },
  {
   "cell_type": "markdown",
   "id": "6c01375a",
   "metadata": {},
   "source": [
    "All variables"
   ]
  },
  {
   "cell_type": "code",
   "execution_count": 52,
   "id": "4d02489f",
   "metadata": {},
   "outputs": [],
   "source": [
    "tic = time.time()\n",
    "\n",
    "count_hgb_tune = count_hgb_tune.fit(X_train, y_train)\n",
    "\n",
    "toc = time.time()\n",
    "count_hgb_tune_time_taken = toc-tic"
   ]
  },
  {
   "cell_type": "code",
   "execution_count": 53,
   "metadata": {},
   "outputs": [
    {
     "name": "stdout",
     "output_type": "stream",
     "text": [
      "Time taken:  9.74062442779541\n"
     ]
    },
    {
     "data": {
      "text/html": [
       "<style>#sk-container-id-6 {color: black;}#sk-container-id-6 pre{padding: 0;}#sk-container-id-6 div.sk-toggleable {background-color: white;}#sk-container-id-6 label.sk-toggleable__label {cursor: pointer;display: block;width: 100%;margin-bottom: 0;padding: 0.3em;box-sizing: border-box;text-align: center;}#sk-container-id-6 label.sk-toggleable__label-arrow:before {content: \"▸\";float: left;margin-right: 0.25em;color: #696969;}#sk-container-id-6 label.sk-toggleable__label-arrow:hover:before {color: black;}#sk-container-id-6 div.sk-estimator:hover label.sk-toggleable__label-arrow:before {color: black;}#sk-container-id-6 div.sk-toggleable__content {max-height: 0;max-width: 0;overflow: hidden;text-align: left;background-color: #f0f8ff;}#sk-container-id-6 div.sk-toggleable__content pre {margin: 0.2em;color: black;border-radius: 0.25em;background-color: #f0f8ff;}#sk-container-id-6 input.sk-toggleable__control:checked~div.sk-toggleable__content {max-height: 200px;max-width: 100%;overflow: auto;}#sk-container-id-6 input.sk-toggleable__control:checked~label.sk-toggleable__label-arrow:before {content: \"▾\";}#sk-container-id-6 div.sk-estimator input.sk-toggleable__control:checked~label.sk-toggleable__label {background-color: #d4ebff;}#sk-container-id-6 div.sk-label input.sk-toggleable__control:checked~label.sk-toggleable__label {background-color: #d4ebff;}#sk-container-id-6 input.sk-hidden--visually {border: 0;clip: rect(1px 1px 1px 1px);clip: rect(1px, 1px, 1px, 1px);height: 1px;margin: -1px;overflow: hidden;padding: 0;position: absolute;width: 1px;}#sk-container-id-6 div.sk-estimator {font-family: monospace;background-color: #f0f8ff;border: 1px dotted black;border-radius: 0.25em;box-sizing: border-box;margin-bottom: 0.5em;}#sk-container-id-6 div.sk-estimator:hover {background-color: #d4ebff;}#sk-container-id-6 div.sk-parallel-item::after {content: \"\";width: 100%;border-bottom: 1px solid gray;flex-grow: 1;}#sk-container-id-6 div.sk-label:hover label.sk-toggleable__label {background-color: #d4ebff;}#sk-container-id-6 div.sk-serial::before {content: \"\";position: absolute;border-left: 1px solid gray;box-sizing: border-box;top: 0;bottom: 0;left: 50%;z-index: 0;}#sk-container-id-6 div.sk-serial {display: flex;flex-direction: column;align-items: center;background-color: white;padding-right: 0.2em;padding-left: 0.2em;position: relative;}#sk-container-id-6 div.sk-item {position: relative;z-index: 1;}#sk-container-id-6 div.sk-parallel {display: flex;align-items: stretch;justify-content: center;background-color: white;position: relative;}#sk-container-id-6 div.sk-item::before, #sk-container-id-6 div.sk-parallel-item::before {content: \"\";position: absolute;border-left: 1px solid gray;box-sizing: border-box;top: 0;bottom: 0;left: 50%;z-index: -1;}#sk-container-id-6 div.sk-parallel-item {display: flex;flex-direction: column;z-index: 1;position: relative;background-color: white;}#sk-container-id-6 div.sk-parallel-item:first-child::after {align-self: flex-end;width: 50%;}#sk-container-id-6 div.sk-parallel-item:last-child::after {align-self: flex-start;width: 50%;}#sk-container-id-6 div.sk-parallel-item:only-child::after {width: 0;}#sk-container-id-6 div.sk-dashed-wrapped {border: 1px dashed gray;margin: 0 0.4em 0.5em 0.4em;box-sizing: border-box;padding-bottom: 0.4em;background-color: white;}#sk-container-id-6 div.sk-label label {font-family: monospace;font-weight: bold;display: inline-block;line-height: 1.2em;}#sk-container-id-6 div.sk-label-container {text-align: center;}#sk-container-id-6 div.sk-container {/* jupyter's `normalize.less` sets `[hidden] { display: none; }` but bootstrap.min.css set `[hidden] { display: none !important; }` so we also need the `!important` here to be able to override the default hidden behavior on the sphinx rendered scikit-learn.org. See: https://github.com/scikit-learn/scikit-learn/issues/21755 */display: inline-block !important;position: relative;}#sk-container-id-6 div.sk-text-repr-fallback {display: none;}</style><div id=\"sk-container-id-6\" class=\"sk-top-container\"><div class=\"sk-text-repr-fallback\"><pre>RandomizedSearchCV(cv=StratifiedKFold(n_splits=3, random_state=1234, shuffle=True),\n",
       "                   estimator=Pipeline(steps=[(&#x27;preprocessing&#x27;,\n",
       "                                              ColumnTransformer(sparse_threshold=0,\n",
       "                                                                transformers=[(&#x27;count_encoder&#x27;,\n",
       "                                                                               Pipeline(steps=[(&#x27;imputer&#x27;,\n",
       "                                                                                                SimpleImputer(strategy=&#x27;most_frequent&#x27;)),\n",
       "                                                                                               (&#x27;encoder&#x27;,\n",
       "                                                                                                CountEncoder(combine_min_nan_groups=True,\n",
       "                                                                                                             handle_unknown=0))]),\n",
       "                                                                               [&#x27;MGR_ID&#x27;,\n",
       "                                                                                &#x27;ROLE_R...\n",
       "                                                                             random_state=1234,\n",
       "                                                                             scoring=&#x27;balanced_accuracy&#x27;))]),\n",
       "                   n_iter=20, n_jobs=-1,\n",
       "                   param_distributions={&#x27;model__learning_rate&#x27;: &lt;scipy.stats._distn_infrastructure.rv_continuous_frozen object at 0x000001E3214BAB30&gt;,\n",
       "                                        &#x27;model__min_samples_leaf&#x27;: &lt;scipy.stats._distn_infrastructure.rv_discrete_frozen object at 0x000001E320356590&gt;},\n",
       "                   random_state=1234, scoring=&#x27;balanced_accuracy&#x27;)</pre><b>In a Jupyter environment, please rerun this cell to show the HTML representation or trust the notebook. <br />On GitHub, the HTML representation is unable to render, please try loading this page with nbviewer.org.</b></div><div class=\"sk-container\" hidden><div class=\"sk-item sk-dashed-wrapped\"><div class=\"sk-label-container\"><div class=\"sk-label sk-toggleable\"><input class=\"sk-toggleable__control sk-hidden--visually\" id=\"sk-estimator-id-32\" type=\"checkbox\" ><label for=\"sk-estimator-id-32\" class=\"sk-toggleable__label sk-toggleable__label-arrow\">RandomizedSearchCV</label><div class=\"sk-toggleable__content\"><pre>RandomizedSearchCV(cv=StratifiedKFold(n_splits=3, random_state=1234, shuffle=True),\n",
       "                   estimator=Pipeline(steps=[(&#x27;preprocessing&#x27;,\n",
       "                                              ColumnTransformer(sparse_threshold=0,\n",
       "                                                                transformers=[(&#x27;count_encoder&#x27;,\n",
       "                                                                               Pipeline(steps=[(&#x27;imputer&#x27;,\n",
       "                                                                                                SimpleImputer(strategy=&#x27;most_frequent&#x27;)),\n",
       "                                                                                               (&#x27;encoder&#x27;,\n",
       "                                                                                                CountEncoder(combine_min_nan_groups=True,\n",
       "                                                                                                             handle_unknown=0))]),\n",
       "                                                                               [&#x27;MGR_ID&#x27;,\n",
       "                                                                                &#x27;ROLE_R...\n",
       "                                                                             random_state=1234,\n",
       "                                                                             scoring=&#x27;balanced_accuracy&#x27;))]),\n",
       "                   n_iter=20, n_jobs=-1,\n",
       "                   param_distributions={&#x27;model__learning_rate&#x27;: &lt;scipy.stats._distn_infrastructure.rv_continuous_frozen object at 0x000001E3214BAB30&gt;,\n",
       "                                        &#x27;model__min_samples_leaf&#x27;: &lt;scipy.stats._distn_infrastructure.rv_discrete_frozen object at 0x000001E320356590&gt;},\n",
       "                   random_state=1234, scoring=&#x27;balanced_accuracy&#x27;)</pre></div></div></div><div class=\"sk-parallel\"><div class=\"sk-parallel-item\"><div class=\"sk-item\"><div class=\"sk-label-container\"><div class=\"sk-label sk-toggleable\"><input class=\"sk-toggleable__control sk-hidden--visually\" id=\"sk-estimator-id-33\" type=\"checkbox\" ><label for=\"sk-estimator-id-33\" class=\"sk-toggleable__label sk-toggleable__label-arrow\">estimator: Pipeline</label><div class=\"sk-toggleable__content\"><pre>Pipeline(steps=[(&#x27;preprocessing&#x27;,\n",
       "                 ColumnTransformer(sparse_threshold=0,\n",
       "                                   transformers=[(&#x27;count_encoder&#x27;,\n",
       "                                                  Pipeline(steps=[(&#x27;imputer&#x27;,\n",
       "                                                                   SimpleImputer(strategy=&#x27;most_frequent&#x27;)),\n",
       "                                                                  (&#x27;encoder&#x27;,\n",
       "                                                                   CountEncoder(combine_min_nan_groups=True,\n",
       "                                                                                handle_unknown=0))]),\n",
       "                                                  [&#x27;MGR_ID&#x27;, &#x27;ROLE_ROLLUP_1&#x27;,\n",
       "                                                   &#x27;ROLE_ROLLUP_2&#x27;,\n",
       "                                                   &#x27;ROLE_DEPTNAME&#x27;,\n",
       "                                                   &#x27;ROLE_TITLE&#x27;,\n",
       "                                                   &#x27;ROLE_FAMILY_DESC&#x27;,\n",
       "                                                   &#x27;ROLE_FAMILY&#x27;])])),\n",
       "                (&#x27;model&#x27;,\n",
       "                 HistGradientBoostingClassifier(class_weight=&#x27;balanced&#x27;,\n",
       "                                                early_stopping=True,\n",
       "                                                max_iter=1000,\n",
       "                                                n_iter_no_change=5,\n",
       "                                                random_state=1234,\n",
       "                                                scoring=&#x27;balanced_accuracy&#x27;))])</pre></div></div></div><div class=\"sk-serial\"><div class=\"sk-item\"><div class=\"sk-serial\"><div class=\"sk-item sk-dashed-wrapped\"><div class=\"sk-label-container\"><div class=\"sk-label sk-toggleable\"><input class=\"sk-toggleable__control sk-hidden--visually\" id=\"sk-estimator-id-34\" type=\"checkbox\" ><label for=\"sk-estimator-id-34\" class=\"sk-toggleable__label sk-toggleable__label-arrow\">preprocessing: ColumnTransformer</label><div class=\"sk-toggleable__content\"><pre>ColumnTransformer(sparse_threshold=0,\n",
       "                  transformers=[(&#x27;count_encoder&#x27;,\n",
       "                                 Pipeline(steps=[(&#x27;imputer&#x27;,\n",
       "                                                  SimpleImputer(strategy=&#x27;most_frequent&#x27;)),\n",
       "                                                 (&#x27;encoder&#x27;,\n",
       "                                                  CountEncoder(combine_min_nan_groups=True,\n",
       "                                                               handle_unknown=0))]),\n",
       "                                 [&#x27;MGR_ID&#x27;, &#x27;ROLE_ROLLUP_1&#x27;, &#x27;ROLE_ROLLUP_2&#x27;,\n",
       "                                  &#x27;ROLE_DEPTNAME&#x27;, &#x27;ROLE_TITLE&#x27;,\n",
       "                                  &#x27;ROLE_FAMILY_DESC&#x27;, &#x27;ROLE_FAMILY&#x27;])])</pre></div></div></div><div class=\"sk-parallel\"><div class=\"sk-parallel-item\"><div class=\"sk-item\"><div class=\"sk-label-container\"><div class=\"sk-label sk-toggleable\"><input class=\"sk-toggleable__control sk-hidden--visually\" id=\"sk-estimator-id-35\" type=\"checkbox\" ><label for=\"sk-estimator-id-35\" class=\"sk-toggleable__label sk-toggleable__label-arrow\">count_encoder</label><div class=\"sk-toggleable__content\"><pre>[&#x27;MGR_ID&#x27;, &#x27;ROLE_ROLLUP_1&#x27;, &#x27;ROLE_ROLLUP_2&#x27;, &#x27;ROLE_DEPTNAME&#x27;, &#x27;ROLE_TITLE&#x27;, &#x27;ROLE_FAMILY_DESC&#x27;, &#x27;ROLE_FAMILY&#x27;]</pre></div></div></div><div class=\"sk-serial\"><div class=\"sk-item\"><div class=\"sk-serial\"><div class=\"sk-item\"><div class=\"sk-estimator sk-toggleable\"><input class=\"sk-toggleable__control sk-hidden--visually\" id=\"sk-estimator-id-36\" type=\"checkbox\" ><label for=\"sk-estimator-id-36\" class=\"sk-toggleable__label sk-toggleable__label-arrow\">SimpleImputer</label><div class=\"sk-toggleable__content\"><pre>SimpleImputer(strategy=&#x27;most_frequent&#x27;)</pre></div></div></div><div class=\"sk-item\"><div class=\"sk-estimator sk-toggleable\"><input class=\"sk-toggleable__control sk-hidden--visually\" id=\"sk-estimator-id-37\" type=\"checkbox\" ><label for=\"sk-estimator-id-37\" class=\"sk-toggleable__label sk-toggleable__label-arrow\">CountEncoder</label><div class=\"sk-toggleable__content\"><pre>CountEncoder(combine_min_nan_groups=True, handle_unknown=0)</pre></div></div></div></div></div></div></div></div></div></div><div class=\"sk-item\"><div class=\"sk-estimator sk-toggleable\"><input class=\"sk-toggleable__control sk-hidden--visually\" id=\"sk-estimator-id-38\" type=\"checkbox\" ><label for=\"sk-estimator-id-38\" class=\"sk-toggleable__label sk-toggleable__label-arrow\">HistGradientBoostingClassifier</label><div class=\"sk-toggleable__content\"><pre>HistGradientBoostingClassifier(class_weight=&#x27;balanced&#x27;, early_stopping=True,\n",
       "                               max_iter=1000, n_iter_no_change=5,\n",
       "                               random_state=1234, scoring=&#x27;balanced_accuracy&#x27;)</pre></div></div></div></div></div></div></div></div></div></div></div></div>"
      ],
      "text/plain": [
       "RandomizedSearchCV(cv=StratifiedKFold(n_splits=3, random_state=1234, shuffle=True),\n",
       "                   estimator=Pipeline(steps=[('preprocessing',\n",
       "                                              ColumnTransformer(sparse_threshold=0,\n",
       "                                                                transformers=[('count_encoder',\n",
       "                                                                               Pipeline(steps=[('imputer',\n",
       "                                                                                                SimpleImputer(strategy='most_frequent')),\n",
       "                                                                                               ('encoder',\n",
       "                                                                                                CountEncoder(combine_min_nan_groups=True,\n",
       "                                                                                                             handle_unknown=0))]),\n",
       "                                                                               ['MGR_ID',\n",
       "                                                                                'ROLE_R...\n",
       "                                                                             random_state=1234,\n",
       "                                                                             scoring='balanced_accuracy'))]),\n",
       "                   n_iter=20, n_jobs=-1,\n",
       "                   param_distributions={'model__learning_rate': <scipy.stats._distn_infrastructure.rv_continuous_frozen object at 0x000001E3214BAB30>,\n",
       "                                        'model__min_samples_leaf': <scipy.stats._distn_infrastructure.rv_discrete_frozen object at 0x000001E320356590>},\n",
       "                   random_state=1234, scoring='balanced_accuracy')"
      ]
     },
     "execution_count": 53,
     "metadata": {},
     "output_type": "execute_result"
    }
   ],
   "source": [
    "# Display pipeline\n",
    "print(\"Time taken: \", count_hgb_tune_time_taken)\n",
    "count_hgb_tune"
   ]
  },
  {
   "cell_type": "code",
   "execution_count": 54,
   "id": "aae5e3ff",
   "metadata": {},
   "outputs": [
    {
     "name": "stdout",
     "output_type": "stream",
     "text": [
      "Best parameters: {'model__learning_rate': 0.2507918707361461, 'model__min_samples_leaf': 22}\n",
      "Balanced accuracy with best parameters: 0.7456134574159162\n"
     ]
    }
   ],
   "source": [
    "# Predict using the model with the best parameters\n",
    "y_count_hgb_tune_pred = count_hgb_tune.predict(X_test)\n",
    "\n",
    "# Get the best parameters\n",
    "count_hgb_tune_best_params = count_hgb_tune.best_params_\n",
    "print(f'Best parameters: {count_hgb_tune_best_params}')\n",
    "\n",
    "# Calculate balanced accuracy for the model with the best parameters\n",
    "count_hgb_tune_accuracy = balanced_accuracy_score(y_test, y_count_hgb_tune_pred)\n",
    "print(f'Balanced accuracy with best parameters: {count_hgb_tune_accuracy}')\n",
    "\n",
    "# Save results\n",
    "default_summary.append(\"Tune\")\n",
    "card_9_summary.append(\"AllVariables\")\n",
    "encoder_summary.append(\"CountEncoding\")\n",
    "early_stopping_summary.append(\"EarlyStopping\")\n",
    "value_summary.append(count_hgb_tune_accuracy)\n",
    "time_summary.append(count_hgb_tune_time_taken)\n",
    "n_models_summary.append(count_hgb_tune.n_iter)"
   ]
  },
  {
   "cell_type": "markdown",
   "id": "89efe8c2",
   "metadata": {},
   "source": [
    " "
   ]
  },
  {
   "cell_type": "markdown",
   "id": "6c783545",
   "metadata": {},
   "source": [
    "### Ordinal Encoding + HistGradientBoosting"
   ]
  },
  {
   "cell_type": "code",
   "execution_count": 55,
   "id": "76238971",
   "metadata": {},
   "outputs": [],
   "source": [
    "from sklearn.preprocessing import OrdinalEncoder"
   ]
  },
  {
   "cell_type": "markdown",
   "id": "a82791dc",
   "metadata": {},
   "source": [
    "#### Preprocessing"
   ]
  },
  {
   "cell_type": "code",
   "execution_count": 56,
   "id": "ab8aac9b",
   "metadata": {},
   "outputs": [],
   "source": [
    "cat_pipeline = Pipeline([\n",
    "    (\"imputer\", SimpleImputer(strategy = \"most_frequent\")),\n",
    "    (\"encoder\", OrdinalEncoder(dtype = int,\n",
    "                               handle_unknown = 'use_encoded_value',\n",
    "                               unknown_value = 99999,\n",
    "                               encoded_missing_value = 99999))\n",
    "])\n",
    "\n",
    "preprop_pipeline = ColumnTransformer(\n",
    "    transformers = [(\"count_encoder\", cat_pipeline, cat_cols)],\n",
    "    sparse_threshold=0\n",
    ")"
   ]
  },
  {
   "cell_type": "markdown",
   "id": "68e444f8",
   "metadata": {},
   "source": [
    "#### Default hyper-parameters"
   ]
  },
  {
   "cell_type": "code",
   "execution_count": 57,
   "id": "5d1287be",
   "metadata": {},
   "outputs": [],
   "source": [
    "ordinal_hgb_default_pipeline = Pipeline([('preprocessing', preprop_pipeline),\n",
    "                                         ('model', hgb_default)])\n",
    "\n",
    "ordinal_hgb_default_es_pipeline = Pipeline([('preprocessing', preprop_pipeline),\n",
    "                                         ('model', hgb_default_es)])"
   ]
  },
  {
   "cell_type": "markdown",
   "id": "3452f2f3",
   "metadata": {},
   "source": [
    "##### Without early-stopping"
   ]
  },
  {
   "cell_type": "code",
   "execution_count": 58,
   "id": "5bb6cddd",
   "metadata": {},
   "outputs": [],
   "source": [
    "tic = time.time()\n",
    "\n",
    "ordinal_hgb_default = ordinal_hgb_default_pipeline.fit(X_train, y_train)\n",
    "\n",
    "toc = time.time()\n",
    "ordinal_hgb_default_time_taken = toc-tic"
   ]
  },
  {
   "cell_type": "code",
   "execution_count": 59,
   "metadata": {},
   "outputs": [
    {
     "name": "stdout",
     "output_type": "stream",
     "text": [
      "Time taken:  5.074855804443359\n"
     ]
    },
    {
     "data": {
      "text/html": [
       "<style>#sk-container-id-7 {color: black;}#sk-container-id-7 pre{padding: 0;}#sk-container-id-7 div.sk-toggleable {background-color: white;}#sk-container-id-7 label.sk-toggleable__label {cursor: pointer;display: block;width: 100%;margin-bottom: 0;padding: 0.3em;box-sizing: border-box;text-align: center;}#sk-container-id-7 label.sk-toggleable__label-arrow:before {content: \"▸\";float: left;margin-right: 0.25em;color: #696969;}#sk-container-id-7 label.sk-toggleable__label-arrow:hover:before {color: black;}#sk-container-id-7 div.sk-estimator:hover label.sk-toggleable__label-arrow:before {color: black;}#sk-container-id-7 div.sk-toggleable__content {max-height: 0;max-width: 0;overflow: hidden;text-align: left;background-color: #f0f8ff;}#sk-container-id-7 div.sk-toggleable__content pre {margin: 0.2em;color: black;border-radius: 0.25em;background-color: #f0f8ff;}#sk-container-id-7 input.sk-toggleable__control:checked~div.sk-toggleable__content {max-height: 200px;max-width: 100%;overflow: auto;}#sk-container-id-7 input.sk-toggleable__control:checked~label.sk-toggleable__label-arrow:before {content: \"▾\";}#sk-container-id-7 div.sk-estimator input.sk-toggleable__control:checked~label.sk-toggleable__label {background-color: #d4ebff;}#sk-container-id-7 div.sk-label input.sk-toggleable__control:checked~label.sk-toggleable__label {background-color: #d4ebff;}#sk-container-id-7 input.sk-hidden--visually {border: 0;clip: rect(1px 1px 1px 1px);clip: rect(1px, 1px, 1px, 1px);height: 1px;margin: -1px;overflow: hidden;padding: 0;position: absolute;width: 1px;}#sk-container-id-7 div.sk-estimator {font-family: monospace;background-color: #f0f8ff;border: 1px dotted black;border-radius: 0.25em;box-sizing: border-box;margin-bottom: 0.5em;}#sk-container-id-7 div.sk-estimator:hover {background-color: #d4ebff;}#sk-container-id-7 div.sk-parallel-item::after {content: \"\";width: 100%;border-bottom: 1px solid gray;flex-grow: 1;}#sk-container-id-7 div.sk-label:hover label.sk-toggleable__label {background-color: #d4ebff;}#sk-container-id-7 div.sk-serial::before {content: \"\";position: absolute;border-left: 1px solid gray;box-sizing: border-box;top: 0;bottom: 0;left: 50%;z-index: 0;}#sk-container-id-7 div.sk-serial {display: flex;flex-direction: column;align-items: center;background-color: white;padding-right: 0.2em;padding-left: 0.2em;position: relative;}#sk-container-id-7 div.sk-item {position: relative;z-index: 1;}#sk-container-id-7 div.sk-parallel {display: flex;align-items: stretch;justify-content: center;background-color: white;position: relative;}#sk-container-id-7 div.sk-item::before, #sk-container-id-7 div.sk-parallel-item::before {content: \"\";position: absolute;border-left: 1px solid gray;box-sizing: border-box;top: 0;bottom: 0;left: 50%;z-index: -1;}#sk-container-id-7 div.sk-parallel-item {display: flex;flex-direction: column;z-index: 1;position: relative;background-color: white;}#sk-container-id-7 div.sk-parallel-item:first-child::after {align-self: flex-end;width: 50%;}#sk-container-id-7 div.sk-parallel-item:last-child::after {align-self: flex-start;width: 50%;}#sk-container-id-7 div.sk-parallel-item:only-child::after {width: 0;}#sk-container-id-7 div.sk-dashed-wrapped {border: 1px dashed gray;margin: 0 0.4em 0.5em 0.4em;box-sizing: border-box;padding-bottom: 0.4em;background-color: white;}#sk-container-id-7 div.sk-label label {font-family: monospace;font-weight: bold;display: inline-block;line-height: 1.2em;}#sk-container-id-7 div.sk-label-container {text-align: center;}#sk-container-id-7 div.sk-container {/* jupyter's `normalize.less` sets `[hidden] { display: none; }` but bootstrap.min.css set `[hidden] { display: none !important; }` so we also need the `!important` here to be able to override the default hidden behavior on the sphinx rendered scikit-learn.org. See: https://github.com/scikit-learn/scikit-learn/issues/21755 */display: inline-block !important;position: relative;}#sk-container-id-7 div.sk-text-repr-fallback {display: none;}</style><div id=\"sk-container-id-7\" class=\"sk-top-container\"><div class=\"sk-text-repr-fallback\"><pre>Pipeline(steps=[(&#x27;preprocessing&#x27;,\n",
       "                 ColumnTransformer(sparse_threshold=0,\n",
       "                                   transformers=[(&#x27;count_encoder&#x27;,\n",
       "                                                  Pipeline(steps=[(&#x27;imputer&#x27;,\n",
       "                                                                   SimpleImputer(strategy=&#x27;most_frequent&#x27;)),\n",
       "                                                                  (&#x27;encoder&#x27;,\n",
       "                                                                   OrdinalEncoder(dtype=&lt;class &#x27;int&#x27;&gt;,\n",
       "                                                                                  encoded_missing_value=99999,\n",
       "                                                                                  handle_unknown=&#x27;use_encoded_value&#x27;,\n",
       "                                                                                  unknown_value=99999))]),\n",
       "                                                  [&#x27;MGR_ID&#x27;, &#x27;ROLE_ROLLUP_1&#x27;,\n",
       "                                                   &#x27;ROLE_ROLLUP_2&#x27;,\n",
       "                                                   &#x27;ROLE_DEPTNAME&#x27;,\n",
       "                                                   &#x27;ROLE_TITLE&#x27;,\n",
       "                                                   &#x27;ROLE_FAMILY_DESC&#x27;,\n",
       "                                                   &#x27;ROLE_FAMILY&#x27;])])),\n",
       "                (&#x27;model&#x27;,\n",
       "                 HistGradientBoostingClassifier(class_weight=&#x27;balanced&#x27;,\n",
       "                                                early_stopping=False,\n",
       "                                                max_iter=1000,\n",
       "                                                random_state=1234,\n",
       "                                                scoring=&#x27;balanced_accuracy&#x27;))])</pre><b>In a Jupyter environment, please rerun this cell to show the HTML representation or trust the notebook. <br />On GitHub, the HTML representation is unable to render, please try loading this page with nbviewer.org.</b></div><div class=\"sk-container\" hidden><div class=\"sk-item sk-dashed-wrapped\"><div class=\"sk-label-container\"><div class=\"sk-label sk-toggleable\"><input class=\"sk-toggleable__control sk-hidden--visually\" id=\"sk-estimator-id-39\" type=\"checkbox\" ><label for=\"sk-estimator-id-39\" class=\"sk-toggleable__label sk-toggleable__label-arrow\">Pipeline</label><div class=\"sk-toggleable__content\"><pre>Pipeline(steps=[(&#x27;preprocessing&#x27;,\n",
       "                 ColumnTransformer(sparse_threshold=0,\n",
       "                                   transformers=[(&#x27;count_encoder&#x27;,\n",
       "                                                  Pipeline(steps=[(&#x27;imputer&#x27;,\n",
       "                                                                   SimpleImputer(strategy=&#x27;most_frequent&#x27;)),\n",
       "                                                                  (&#x27;encoder&#x27;,\n",
       "                                                                   OrdinalEncoder(dtype=&lt;class &#x27;int&#x27;&gt;,\n",
       "                                                                                  encoded_missing_value=99999,\n",
       "                                                                                  handle_unknown=&#x27;use_encoded_value&#x27;,\n",
       "                                                                                  unknown_value=99999))]),\n",
       "                                                  [&#x27;MGR_ID&#x27;, &#x27;ROLE_ROLLUP_1&#x27;,\n",
       "                                                   &#x27;ROLE_ROLLUP_2&#x27;,\n",
       "                                                   &#x27;ROLE_DEPTNAME&#x27;,\n",
       "                                                   &#x27;ROLE_TITLE&#x27;,\n",
       "                                                   &#x27;ROLE_FAMILY_DESC&#x27;,\n",
       "                                                   &#x27;ROLE_FAMILY&#x27;])])),\n",
       "                (&#x27;model&#x27;,\n",
       "                 HistGradientBoostingClassifier(class_weight=&#x27;balanced&#x27;,\n",
       "                                                early_stopping=False,\n",
       "                                                max_iter=1000,\n",
       "                                                random_state=1234,\n",
       "                                                scoring=&#x27;balanced_accuracy&#x27;))])</pre></div></div></div><div class=\"sk-serial\"><div class=\"sk-item sk-dashed-wrapped\"><div class=\"sk-label-container\"><div class=\"sk-label sk-toggleable\"><input class=\"sk-toggleable__control sk-hidden--visually\" id=\"sk-estimator-id-40\" type=\"checkbox\" ><label for=\"sk-estimator-id-40\" class=\"sk-toggleable__label sk-toggleable__label-arrow\">preprocessing: ColumnTransformer</label><div class=\"sk-toggleable__content\"><pre>ColumnTransformer(sparse_threshold=0,\n",
       "                  transformers=[(&#x27;count_encoder&#x27;,\n",
       "                                 Pipeline(steps=[(&#x27;imputer&#x27;,\n",
       "                                                  SimpleImputer(strategy=&#x27;most_frequent&#x27;)),\n",
       "                                                 (&#x27;encoder&#x27;,\n",
       "                                                  OrdinalEncoder(dtype=&lt;class &#x27;int&#x27;&gt;,\n",
       "                                                                 encoded_missing_value=99999,\n",
       "                                                                 handle_unknown=&#x27;use_encoded_value&#x27;,\n",
       "                                                                 unknown_value=99999))]),\n",
       "                                 [&#x27;MGR_ID&#x27;, &#x27;ROLE_ROLLUP_1&#x27;, &#x27;ROLE_ROLLUP_2&#x27;,\n",
       "                                  &#x27;ROLE_DEPTNAME&#x27;, &#x27;ROLE_TITLE&#x27;,\n",
       "                                  &#x27;ROLE_FAMILY_DESC&#x27;, &#x27;ROLE_FAMILY&#x27;])])</pre></div></div></div><div class=\"sk-parallel\"><div class=\"sk-parallel-item\"><div class=\"sk-item\"><div class=\"sk-label-container\"><div class=\"sk-label sk-toggleable\"><input class=\"sk-toggleable__control sk-hidden--visually\" id=\"sk-estimator-id-41\" type=\"checkbox\" ><label for=\"sk-estimator-id-41\" class=\"sk-toggleable__label sk-toggleable__label-arrow\">count_encoder</label><div class=\"sk-toggleable__content\"><pre>[&#x27;MGR_ID&#x27;, &#x27;ROLE_ROLLUP_1&#x27;, &#x27;ROLE_ROLLUP_2&#x27;, &#x27;ROLE_DEPTNAME&#x27;, &#x27;ROLE_TITLE&#x27;, &#x27;ROLE_FAMILY_DESC&#x27;, &#x27;ROLE_FAMILY&#x27;]</pre></div></div></div><div class=\"sk-serial\"><div class=\"sk-item\"><div class=\"sk-serial\"><div class=\"sk-item\"><div class=\"sk-estimator sk-toggleable\"><input class=\"sk-toggleable__control sk-hidden--visually\" id=\"sk-estimator-id-42\" type=\"checkbox\" ><label for=\"sk-estimator-id-42\" class=\"sk-toggleable__label sk-toggleable__label-arrow\">SimpleImputer</label><div class=\"sk-toggleable__content\"><pre>SimpleImputer(strategy=&#x27;most_frequent&#x27;)</pre></div></div></div><div class=\"sk-item\"><div class=\"sk-estimator sk-toggleable\"><input class=\"sk-toggleable__control sk-hidden--visually\" id=\"sk-estimator-id-43\" type=\"checkbox\" ><label for=\"sk-estimator-id-43\" class=\"sk-toggleable__label sk-toggleable__label-arrow\">OrdinalEncoder</label><div class=\"sk-toggleable__content\"><pre>OrdinalEncoder(dtype=&lt;class &#x27;int&#x27;&gt;, encoded_missing_value=99999,\n",
       "               handle_unknown=&#x27;use_encoded_value&#x27;, unknown_value=99999)</pre></div></div></div></div></div></div></div></div></div></div><div class=\"sk-item\"><div class=\"sk-estimator sk-toggleable\"><input class=\"sk-toggleable__control sk-hidden--visually\" id=\"sk-estimator-id-44\" type=\"checkbox\" ><label for=\"sk-estimator-id-44\" class=\"sk-toggleable__label sk-toggleable__label-arrow\">HistGradientBoostingClassifier</label><div class=\"sk-toggleable__content\"><pre>HistGradientBoostingClassifier(class_weight=&#x27;balanced&#x27;, early_stopping=False,\n",
       "                               max_iter=1000, random_state=1234,\n",
       "                               scoring=&#x27;balanced_accuracy&#x27;)</pre></div></div></div></div></div></div></div>"
      ],
      "text/plain": [
       "Pipeline(steps=[('preprocessing',\n",
       "                 ColumnTransformer(sparse_threshold=0,\n",
       "                                   transformers=[('count_encoder',\n",
       "                                                  Pipeline(steps=[('imputer',\n",
       "                                                                   SimpleImputer(strategy='most_frequent')),\n",
       "                                                                  ('encoder',\n",
       "                                                                   OrdinalEncoder(dtype=<class 'int'>,\n",
       "                                                                                  encoded_missing_value=99999,\n",
       "                                                                                  handle_unknown='use_encoded_value',\n",
       "                                                                                  unknown_value=99999))]),\n",
       "                                                  ['MGR_ID', 'ROLE_ROLLUP_1',\n",
       "                                                   'ROLE_ROLLUP_2',\n",
       "                                                   'ROLE_DEPTNAME',\n",
       "                                                   'ROLE_TITLE',\n",
       "                                                   'ROLE_FAMILY_DESC',\n",
       "                                                   'ROLE_FAMILY'])])),\n",
       "                ('model',\n",
       "                 HistGradientBoostingClassifier(class_weight='balanced',\n",
       "                                                early_stopping=False,\n",
       "                                                max_iter=1000,\n",
       "                                                random_state=1234,\n",
       "                                                scoring='balanced_accuracy'))])"
      ]
     },
     "execution_count": 59,
     "metadata": {},
     "output_type": "execute_result"
    }
   ],
   "source": [
    "# Display pipeline\n",
    "print(\"Time taken: \", ordinal_hgb_default_time_taken)\n",
    "ordinal_hgb_default"
   ]
  },
  {
   "cell_type": "code",
   "execution_count": 60,
   "id": "5a827ef3",
   "metadata": {},
   "outputs": [
    {
     "name": "stdout",
     "output_type": "stream",
     "text": [
      "Balanced accuracy with default parameters: 0.7687687136780601\n"
     ]
    }
   ],
   "source": [
    "# Calculate balanced accuracy for the model with default parameters\n",
    "y_ordinal_hgb_default_pred = ordinal_hgb_default.predict(X_test)\n",
    "ordinal_hgb_default_accuracy = balanced_accuracy_score(y_test, y_ordinal_hgb_default_pred)\n",
    "print(f'Balanced accuracy with default parameters: {ordinal_hgb_default_accuracy}')\n",
    "\n",
    "# Save results\n",
    "default_summary.append(\"Default\")\n",
    "card_9_summary.append(\"AllVariables\")\n",
    "encoder_summary.append(\"OrdinalEncoder\")\n",
    "early_stopping_summary.append(\"NoEarlyStopping\")\n",
    "value_summary.append(ordinal_hgb_default_accuracy)\n",
    "time_summary.append(ordinal_hgb_default_time_taken)\n",
    "n_models_summary.append(1)"
   ]
  },
  {
   "cell_type": "markdown",
   "metadata": {},
   "source": [
    "##### With early-stopping"
   ]
  },
  {
   "cell_type": "code",
   "execution_count": 61,
   "id": "474ce2cb",
   "metadata": {},
   "outputs": [],
   "source": [
    "tic = time.time()\n",
    "\n",
    "ordinal_hgb_default_es = ordinal_hgb_default_es_pipeline.fit(X_train, y_train)\n",
    "\n",
    "toc = time.time()\n",
    "ordinal_hgb_default_es_time_taken = toc-tic"
   ]
  },
  {
   "cell_type": "code",
   "execution_count": 62,
   "id": "f6e2513f",
   "metadata": {},
   "outputs": [
    {
     "name": "stdout",
     "output_type": "stream",
     "text": [
      "Time taken:  1.0516505241394043\n"
     ]
    },
    {
     "data": {
      "text/html": [
       "<style>#sk-container-id-8 {color: black;}#sk-container-id-8 pre{padding: 0;}#sk-container-id-8 div.sk-toggleable {background-color: white;}#sk-container-id-8 label.sk-toggleable__label {cursor: pointer;display: block;width: 100%;margin-bottom: 0;padding: 0.3em;box-sizing: border-box;text-align: center;}#sk-container-id-8 label.sk-toggleable__label-arrow:before {content: \"▸\";float: left;margin-right: 0.25em;color: #696969;}#sk-container-id-8 label.sk-toggleable__label-arrow:hover:before {color: black;}#sk-container-id-8 div.sk-estimator:hover label.sk-toggleable__label-arrow:before {color: black;}#sk-container-id-8 div.sk-toggleable__content {max-height: 0;max-width: 0;overflow: hidden;text-align: left;background-color: #f0f8ff;}#sk-container-id-8 div.sk-toggleable__content pre {margin: 0.2em;color: black;border-radius: 0.25em;background-color: #f0f8ff;}#sk-container-id-8 input.sk-toggleable__control:checked~div.sk-toggleable__content {max-height: 200px;max-width: 100%;overflow: auto;}#sk-container-id-8 input.sk-toggleable__control:checked~label.sk-toggleable__label-arrow:before {content: \"▾\";}#sk-container-id-8 div.sk-estimator input.sk-toggleable__control:checked~label.sk-toggleable__label {background-color: #d4ebff;}#sk-container-id-8 div.sk-label input.sk-toggleable__control:checked~label.sk-toggleable__label {background-color: #d4ebff;}#sk-container-id-8 input.sk-hidden--visually {border: 0;clip: rect(1px 1px 1px 1px);clip: rect(1px, 1px, 1px, 1px);height: 1px;margin: -1px;overflow: hidden;padding: 0;position: absolute;width: 1px;}#sk-container-id-8 div.sk-estimator {font-family: monospace;background-color: #f0f8ff;border: 1px dotted black;border-radius: 0.25em;box-sizing: border-box;margin-bottom: 0.5em;}#sk-container-id-8 div.sk-estimator:hover {background-color: #d4ebff;}#sk-container-id-8 div.sk-parallel-item::after {content: \"\";width: 100%;border-bottom: 1px solid gray;flex-grow: 1;}#sk-container-id-8 div.sk-label:hover label.sk-toggleable__label {background-color: #d4ebff;}#sk-container-id-8 div.sk-serial::before {content: \"\";position: absolute;border-left: 1px solid gray;box-sizing: border-box;top: 0;bottom: 0;left: 50%;z-index: 0;}#sk-container-id-8 div.sk-serial {display: flex;flex-direction: column;align-items: center;background-color: white;padding-right: 0.2em;padding-left: 0.2em;position: relative;}#sk-container-id-8 div.sk-item {position: relative;z-index: 1;}#sk-container-id-8 div.sk-parallel {display: flex;align-items: stretch;justify-content: center;background-color: white;position: relative;}#sk-container-id-8 div.sk-item::before, #sk-container-id-8 div.sk-parallel-item::before {content: \"\";position: absolute;border-left: 1px solid gray;box-sizing: border-box;top: 0;bottom: 0;left: 50%;z-index: -1;}#sk-container-id-8 div.sk-parallel-item {display: flex;flex-direction: column;z-index: 1;position: relative;background-color: white;}#sk-container-id-8 div.sk-parallel-item:first-child::after {align-self: flex-end;width: 50%;}#sk-container-id-8 div.sk-parallel-item:last-child::after {align-self: flex-start;width: 50%;}#sk-container-id-8 div.sk-parallel-item:only-child::after {width: 0;}#sk-container-id-8 div.sk-dashed-wrapped {border: 1px dashed gray;margin: 0 0.4em 0.5em 0.4em;box-sizing: border-box;padding-bottom: 0.4em;background-color: white;}#sk-container-id-8 div.sk-label label {font-family: monospace;font-weight: bold;display: inline-block;line-height: 1.2em;}#sk-container-id-8 div.sk-label-container {text-align: center;}#sk-container-id-8 div.sk-container {/* jupyter's `normalize.less` sets `[hidden] { display: none; }` but bootstrap.min.css set `[hidden] { display: none !important; }` so we also need the `!important` here to be able to override the default hidden behavior on the sphinx rendered scikit-learn.org. See: https://github.com/scikit-learn/scikit-learn/issues/21755 */display: inline-block !important;position: relative;}#sk-container-id-8 div.sk-text-repr-fallback {display: none;}</style><div id=\"sk-container-id-8\" class=\"sk-top-container\"><div class=\"sk-text-repr-fallback\"><pre>Pipeline(steps=[(&#x27;preprocessing&#x27;,\n",
       "                 ColumnTransformer(sparse_threshold=0,\n",
       "                                   transformers=[(&#x27;count_encoder&#x27;,\n",
       "                                                  Pipeline(steps=[(&#x27;imputer&#x27;,\n",
       "                                                                   SimpleImputer(strategy=&#x27;most_frequent&#x27;)),\n",
       "                                                                  (&#x27;encoder&#x27;,\n",
       "                                                                   OrdinalEncoder(dtype=&lt;class &#x27;int&#x27;&gt;,\n",
       "                                                                                  encoded_missing_value=99999,\n",
       "                                                                                  handle_unknown=&#x27;use_encoded_value&#x27;,\n",
       "                                                                                  unknown_value=99999))]),\n",
       "                                                  [&#x27;MGR_ID&#x27;, &#x27;ROLE_ROLLUP_1&#x27;,\n",
       "                                                   &#x27;ROLE_ROLLUP_2&#x27;,\n",
       "                                                   &#x27;ROLE_DEPTNAME&#x27;,\n",
       "                                                   &#x27;ROLE_TITLE&#x27;,\n",
       "                                                   &#x27;ROLE_FAMILY_DESC&#x27;,\n",
       "                                                   &#x27;ROLE_FAMILY&#x27;])])),\n",
       "                (&#x27;model&#x27;,\n",
       "                 HistGradientBoostingClassifier(class_weight=&#x27;balanced&#x27;,\n",
       "                                                early_stopping=True,\n",
       "                                                max_iter=1000,\n",
       "                                                n_iter_no_change=5,\n",
       "                                                random_state=1234,\n",
       "                                                scoring=&#x27;balanced_accuracy&#x27;))])</pre><b>In a Jupyter environment, please rerun this cell to show the HTML representation or trust the notebook. <br />On GitHub, the HTML representation is unable to render, please try loading this page with nbviewer.org.</b></div><div class=\"sk-container\" hidden><div class=\"sk-item sk-dashed-wrapped\"><div class=\"sk-label-container\"><div class=\"sk-label sk-toggleable\"><input class=\"sk-toggleable__control sk-hidden--visually\" id=\"sk-estimator-id-45\" type=\"checkbox\" ><label for=\"sk-estimator-id-45\" class=\"sk-toggleable__label sk-toggleable__label-arrow\">Pipeline</label><div class=\"sk-toggleable__content\"><pre>Pipeline(steps=[(&#x27;preprocessing&#x27;,\n",
       "                 ColumnTransformer(sparse_threshold=0,\n",
       "                                   transformers=[(&#x27;count_encoder&#x27;,\n",
       "                                                  Pipeline(steps=[(&#x27;imputer&#x27;,\n",
       "                                                                   SimpleImputer(strategy=&#x27;most_frequent&#x27;)),\n",
       "                                                                  (&#x27;encoder&#x27;,\n",
       "                                                                   OrdinalEncoder(dtype=&lt;class &#x27;int&#x27;&gt;,\n",
       "                                                                                  encoded_missing_value=99999,\n",
       "                                                                                  handle_unknown=&#x27;use_encoded_value&#x27;,\n",
       "                                                                                  unknown_value=99999))]),\n",
       "                                                  [&#x27;MGR_ID&#x27;, &#x27;ROLE_ROLLUP_1&#x27;,\n",
       "                                                   &#x27;ROLE_ROLLUP_2&#x27;,\n",
       "                                                   &#x27;ROLE_DEPTNAME&#x27;,\n",
       "                                                   &#x27;ROLE_TITLE&#x27;,\n",
       "                                                   &#x27;ROLE_FAMILY_DESC&#x27;,\n",
       "                                                   &#x27;ROLE_FAMILY&#x27;])])),\n",
       "                (&#x27;model&#x27;,\n",
       "                 HistGradientBoostingClassifier(class_weight=&#x27;balanced&#x27;,\n",
       "                                                early_stopping=True,\n",
       "                                                max_iter=1000,\n",
       "                                                n_iter_no_change=5,\n",
       "                                                random_state=1234,\n",
       "                                                scoring=&#x27;balanced_accuracy&#x27;))])</pre></div></div></div><div class=\"sk-serial\"><div class=\"sk-item sk-dashed-wrapped\"><div class=\"sk-label-container\"><div class=\"sk-label sk-toggleable\"><input class=\"sk-toggleable__control sk-hidden--visually\" id=\"sk-estimator-id-46\" type=\"checkbox\" ><label for=\"sk-estimator-id-46\" class=\"sk-toggleable__label sk-toggleable__label-arrow\">preprocessing: ColumnTransformer</label><div class=\"sk-toggleable__content\"><pre>ColumnTransformer(sparse_threshold=0,\n",
       "                  transformers=[(&#x27;count_encoder&#x27;,\n",
       "                                 Pipeline(steps=[(&#x27;imputer&#x27;,\n",
       "                                                  SimpleImputer(strategy=&#x27;most_frequent&#x27;)),\n",
       "                                                 (&#x27;encoder&#x27;,\n",
       "                                                  OrdinalEncoder(dtype=&lt;class &#x27;int&#x27;&gt;,\n",
       "                                                                 encoded_missing_value=99999,\n",
       "                                                                 handle_unknown=&#x27;use_encoded_value&#x27;,\n",
       "                                                                 unknown_value=99999))]),\n",
       "                                 [&#x27;MGR_ID&#x27;, &#x27;ROLE_ROLLUP_1&#x27;, &#x27;ROLE_ROLLUP_2&#x27;,\n",
       "                                  &#x27;ROLE_DEPTNAME&#x27;, &#x27;ROLE_TITLE&#x27;,\n",
       "                                  &#x27;ROLE_FAMILY_DESC&#x27;, &#x27;ROLE_FAMILY&#x27;])])</pre></div></div></div><div class=\"sk-parallel\"><div class=\"sk-parallel-item\"><div class=\"sk-item\"><div class=\"sk-label-container\"><div class=\"sk-label sk-toggleable\"><input class=\"sk-toggleable__control sk-hidden--visually\" id=\"sk-estimator-id-47\" type=\"checkbox\" ><label for=\"sk-estimator-id-47\" class=\"sk-toggleable__label sk-toggleable__label-arrow\">count_encoder</label><div class=\"sk-toggleable__content\"><pre>[&#x27;MGR_ID&#x27;, &#x27;ROLE_ROLLUP_1&#x27;, &#x27;ROLE_ROLLUP_2&#x27;, &#x27;ROLE_DEPTNAME&#x27;, &#x27;ROLE_TITLE&#x27;, &#x27;ROLE_FAMILY_DESC&#x27;, &#x27;ROLE_FAMILY&#x27;]</pre></div></div></div><div class=\"sk-serial\"><div class=\"sk-item\"><div class=\"sk-serial\"><div class=\"sk-item\"><div class=\"sk-estimator sk-toggleable\"><input class=\"sk-toggleable__control sk-hidden--visually\" id=\"sk-estimator-id-48\" type=\"checkbox\" ><label for=\"sk-estimator-id-48\" class=\"sk-toggleable__label sk-toggleable__label-arrow\">SimpleImputer</label><div class=\"sk-toggleable__content\"><pre>SimpleImputer(strategy=&#x27;most_frequent&#x27;)</pre></div></div></div><div class=\"sk-item\"><div class=\"sk-estimator sk-toggleable\"><input class=\"sk-toggleable__control sk-hidden--visually\" id=\"sk-estimator-id-49\" type=\"checkbox\" ><label for=\"sk-estimator-id-49\" class=\"sk-toggleable__label sk-toggleable__label-arrow\">OrdinalEncoder</label><div class=\"sk-toggleable__content\"><pre>OrdinalEncoder(dtype=&lt;class &#x27;int&#x27;&gt;, encoded_missing_value=99999,\n",
       "               handle_unknown=&#x27;use_encoded_value&#x27;, unknown_value=99999)</pre></div></div></div></div></div></div></div></div></div></div><div class=\"sk-item\"><div class=\"sk-estimator sk-toggleable\"><input class=\"sk-toggleable__control sk-hidden--visually\" id=\"sk-estimator-id-50\" type=\"checkbox\" ><label for=\"sk-estimator-id-50\" class=\"sk-toggleable__label sk-toggleable__label-arrow\">HistGradientBoostingClassifier</label><div class=\"sk-toggleable__content\"><pre>HistGradientBoostingClassifier(class_weight=&#x27;balanced&#x27;, early_stopping=True,\n",
       "                               max_iter=1000, n_iter_no_change=5,\n",
       "                               random_state=1234, scoring=&#x27;balanced_accuracy&#x27;)</pre></div></div></div></div></div></div></div>"
      ],
      "text/plain": [
       "Pipeline(steps=[('preprocessing',\n",
       "                 ColumnTransformer(sparse_threshold=0,\n",
       "                                   transformers=[('count_encoder',\n",
       "                                                  Pipeline(steps=[('imputer',\n",
       "                                                                   SimpleImputer(strategy='most_frequent')),\n",
       "                                                                  ('encoder',\n",
       "                                                                   OrdinalEncoder(dtype=<class 'int'>,\n",
       "                                                                                  encoded_missing_value=99999,\n",
       "                                                                                  handle_unknown='use_encoded_value',\n",
       "                                                                                  unknown_value=99999))]),\n",
       "                                                  ['MGR_ID', 'ROLE_ROLLUP_1',\n",
       "                                                   'ROLE_ROLLUP_2',\n",
       "                                                   'ROLE_DEPTNAME',\n",
       "                                                   'ROLE_TITLE',\n",
       "                                                   'ROLE_FAMILY_DESC',\n",
       "                                                   'ROLE_FAMILY'])])),\n",
       "                ('model',\n",
       "                 HistGradientBoostingClassifier(class_weight='balanced',\n",
       "                                                early_stopping=True,\n",
       "                                                max_iter=1000,\n",
       "                                                n_iter_no_change=5,\n",
       "                                                random_state=1234,\n",
       "                                                scoring='balanced_accuracy'))])"
      ]
     },
     "execution_count": 62,
     "metadata": {},
     "output_type": "execute_result"
    }
   ],
   "source": [
    "# Display pipeline\n",
    "print(\"Time taken: \", ordinal_hgb_default_es_time_taken)\n",
    "ordinal_hgb_default_es"
   ]
  },
  {
   "cell_type": "code",
   "execution_count": 63,
   "id": "4691a334",
   "metadata": {},
   "outputs": [
    {
     "name": "stdout",
     "output_type": "stream",
     "text": [
      "Balanced accuracy with default parameters: 0.7266194269772996\n"
     ]
    }
   ],
   "source": [
    "# Calculate balanced accuracy for the model with default parameters\n",
    "y_ordinal_hgb_default_es_pred = ordinal_hgb_default_es.predict(X_test)\n",
    "ordinal_hgb_default_es_accuracy = balanced_accuracy_score(y_test, y_ordinal_hgb_default_es_pred)\n",
    "print(f'Balanced accuracy with default parameters: {ordinal_hgb_default_es_accuracy}')\n",
    "\n",
    "# Save results\n",
    "default_summary.append(\"Default\")\n",
    "card_9_summary.append(\"AllVariables\")\n",
    "encoder_summary.append(\"OrdinalEncoder\")\n",
    "early_stopping_summary.append(\"EarlyStopping\")\n",
    "value_summary.append(ordinal_hgb_default_es_accuracy)\n",
    "time_summary.append(ordinal_hgb_default_es_time_taken)\n",
    "n_models_summary.append(1)"
   ]
  },
  {
   "cell_type": "markdown",
   "id": "e2ec5c24",
   "metadata": {},
   "source": [
    "#### Hyper-parameter tuning"
   ]
  },
  {
   "cell_type": "code",
   "execution_count": 64,
   "id": "4bd8b728",
   "metadata": {},
   "outputs": [],
   "source": [
    "ordinal_hgb_tune = RandomizedSearchCV(estimator = ordinal_hgb_default_es_pipeline, \n",
    "                                      param_distributions = param_distributions, \n",
    "                                      n_iter = 20,\n",
    "                                      cv = stratified_kfold,\n",
    "                                      scoring = 'balanced_accuracy', \n",
    "                                      random_state = 1234,\n",
    "                                      n_jobs = -1)"
   ]
  },
  {
   "cell_type": "code",
   "execution_count": 65,
   "id": "8479ab48",
   "metadata": {
    "scrolled": false
   },
   "outputs": [],
   "source": [
    "tic = time.time()\n",
    "\n",
    "ordinal_hgb_tune = ordinal_hgb_tune.fit(X_train, y_train)\n",
    "\n",
    "toc = time.time()\n",
    "ordinal_hgb_tune_time_taken = toc-tic"
   ]
  },
  {
   "cell_type": "code",
   "execution_count": 66,
   "metadata": {},
   "outputs": [
    {
     "name": "stdout",
     "output_type": "stream",
     "text": [
      "Time taken:  11.256572246551514\n"
     ]
    },
    {
     "data": {
      "text/html": [
       "<style>#sk-container-id-9 {color: black;}#sk-container-id-9 pre{padding: 0;}#sk-container-id-9 div.sk-toggleable {background-color: white;}#sk-container-id-9 label.sk-toggleable__label {cursor: pointer;display: block;width: 100%;margin-bottom: 0;padding: 0.3em;box-sizing: border-box;text-align: center;}#sk-container-id-9 label.sk-toggleable__label-arrow:before {content: \"▸\";float: left;margin-right: 0.25em;color: #696969;}#sk-container-id-9 label.sk-toggleable__label-arrow:hover:before {color: black;}#sk-container-id-9 div.sk-estimator:hover label.sk-toggleable__label-arrow:before {color: black;}#sk-container-id-9 div.sk-toggleable__content {max-height: 0;max-width: 0;overflow: hidden;text-align: left;background-color: #f0f8ff;}#sk-container-id-9 div.sk-toggleable__content pre {margin: 0.2em;color: black;border-radius: 0.25em;background-color: #f0f8ff;}#sk-container-id-9 input.sk-toggleable__control:checked~div.sk-toggleable__content {max-height: 200px;max-width: 100%;overflow: auto;}#sk-container-id-9 input.sk-toggleable__control:checked~label.sk-toggleable__label-arrow:before {content: \"▾\";}#sk-container-id-9 div.sk-estimator input.sk-toggleable__control:checked~label.sk-toggleable__label {background-color: #d4ebff;}#sk-container-id-9 div.sk-label input.sk-toggleable__control:checked~label.sk-toggleable__label {background-color: #d4ebff;}#sk-container-id-9 input.sk-hidden--visually {border: 0;clip: rect(1px 1px 1px 1px);clip: rect(1px, 1px, 1px, 1px);height: 1px;margin: -1px;overflow: hidden;padding: 0;position: absolute;width: 1px;}#sk-container-id-9 div.sk-estimator {font-family: monospace;background-color: #f0f8ff;border: 1px dotted black;border-radius: 0.25em;box-sizing: border-box;margin-bottom: 0.5em;}#sk-container-id-9 div.sk-estimator:hover {background-color: #d4ebff;}#sk-container-id-9 div.sk-parallel-item::after {content: \"\";width: 100%;border-bottom: 1px solid gray;flex-grow: 1;}#sk-container-id-9 div.sk-label:hover label.sk-toggleable__label {background-color: #d4ebff;}#sk-container-id-9 div.sk-serial::before {content: \"\";position: absolute;border-left: 1px solid gray;box-sizing: border-box;top: 0;bottom: 0;left: 50%;z-index: 0;}#sk-container-id-9 div.sk-serial {display: flex;flex-direction: column;align-items: center;background-color: white;padding-right: 0.2em;padding-left: 0.2em;position: relative;}#sk-container-id-9 div.sk-item {position: relative;z-index: 1;}#sk-container-id-9 div.sk-parallel {display: flex;align-items: stretch;justify-content: center;background-color: white;position: relative;}#sk-container-id-9 div.sk-item::before, #sk-container-id-9 div.sk-parallel-item::before {content: \"\";position: absolute;border-left: 1px solid gray;box-sizing: border-box;top: 0;bottom: 0;left: 50%;z-index: -1;}#sk-container-id-9 div.sk-parallel-item {display: flex;flex-direction: column;z-index: 1;position: relative;background-color: white;}#sk-container-id-9 div.sk-parallel-item:first-child::after {align-self: flex-end;width: 50%;}#sk-container-id-9 div.sk-parallel-item:last-child::after {align-self: flex-start;width: 50%;}#sk-container-id-9 div.sk-parallel-item:only-child::after {width: 0;}#sk-container-id-9 div.sk-dashed-wrapped {border: 1px dashed gray;margin: 0 0.4em 0.5em 0.4em;box-sizing: border-box;padding-bottom: 0.4em;background-color: white;}#sk-container-id-9 div.sk-label label {font-family: monospace;font-weight: bold;display: inline-block;line-height: 1.2em;}#sk-container-id-9 div.sk-label-container {text-align: center;}#sk-container-id-9 div.sk-container {/* jupyter's `normalize.less` sets `[hidden] { display: none; }` but bootstrap.min.css set `[hidden] { display: none !important; }` so we also need the `!important` here to be able to override the default hidden behavior on the sphinx rendered scikit-learn.org. See: https://github.com/scikit-learn/scikit-learn/issues/21755 */display: inline-block !important;position: relative;}#sk-container-id-9 div.sk-text-repr-fallback {display: none;}</style><div id=\"sk-container-id-9\" class=\"sk-top-container\"><div class=\"sk-text-repr-fallback\"><pre>RandomizedSearchCV(cv=StratifiedKFold(n_splits=3, random_state=1234, shuffle=True),\n",
       "                   estimator=Pipeline(steps=[(&#x27;preprocessing&#x27;,\n",
       "                                              ColumnTransformer(sparse_threshold=0,\n",
       "                                                                transformers=[(&#x27;count_encoder&#x27;,\n",
       "                                                                               Pipeline(steps=[(&#x27;imputer&#x27;,\n",
       "                                                                                                SimpleImputer(strategy=&#x27;most_frequent&#x27;)),\n",
       "                                                                                               (&#x27;encoder&#x27;,\n",
       "                                                                                                OrdinalEncoder(dtype=&lt;class &#x27;int&#x27;&gt;,\n",
       "                                                                                                               encoded_missing_value=99999,\n",
       "                                                                                                               handle_unknown=&#x27;u...\n",
       "                                                                             random_state=1234,\n",
       "                                                                             scoring=&#x27;balanced_accuracy&#x27;))]),\n",
       "                   n_iter=20, n_jobs=-1,\n",
       "                   param_distributions={&#x27;model__learning_rate&#x27;: &lt;scipy.stats._distn_infrastructure.rv_continuous_frozen object at 0x000001E3214BAB30&gt;,\n",
       "                                        &#x27;model__min_samples_leaf&#x27;: &lt;scipy.stats._distn_infrastructure.rv_discrete_frozen object at 0x000001E320356590&gt;},\n",
       "                   random_state=1234, scoring=&#x27;balanced_accuracy&#x27;)</pre><b>In a Jupyter environment, please rerun this cell to show the HTML representation or trust the notebook. <br />On GitHub, the HTML representation is unable to render, please try loading this page with nbviewer.org.</b></div><div class=\"sk-container\" hidden><div class=\"sk-item sk-dashed-wrapped\"><div class=\"sk-label-container\"><div class=\"sk-label sk-toggleable\"><input class=\"sk-toggleable__control sk-hidden--visually\" id=\"sk-estimator-id-51\" type=\"checkbox\" ><label for=\"sk-estimator-id-51\" class=\"sk-toggleable__label sk-toggleable__label-arrow\">RandomizedSearchCV</label><div class=\"sk-toggleable__content\"><pre>RandomizedSearchCV(cv=StratifiedKFold(n_splits=3, random_state=1234, shuffle=True),\n",
       "                   estimator=Pipeline(steps=[(&#x27;preprocessing&#x27;,\n",
       "                                              ColumnTransformer(sparse_threshold=0,\n",
       "                                                                transformers=[(&#x27;count_encoder&#x27;,\n",
       "                                                                               Pipeline(steps=[(&#x27;imputer&#x27;,\n",
       "                                                                                                SimpleImputer(strategy=&#x27;most_frequent&#x27;)),\n",
       "                                                                                               (&#x27;encoder&#x27;,\n",
       "                                                                                                OrdinalEncoder(dtype=&lt;class &#x27;int&#x27;&gt;,\n",
       "                                                                                                               encoded_missing_value=99999,\n",
       "                                                                                                               handle_unknown=&#x27;u...\n",
       "                                                                             random_state=1234,\n",
       "                                                                             scoring=&#x27;balanced_accuracy&#x27;))]),\n",
       "                   n_iter=20, n_jobs=-1,\n",
       "                   param_distributions={&#x27;model__learning_rate&#x27;: &lt;scipy.stats._distn_infrastructure.rv_continuous_frozen object at 0x000001E3214BAB30&gt;,\n",
       "                                        &#x27;model__min_samples_leaf&#x27;: &lt;scipy.stats._distn_infrastructure.rv_discrete_frozen object at 0x000001E320356590&gt;},\n",
       "                   random_state=1234, scoring=&#x27;balanced_accuracy&#x27;)</pre></div></div></div><div class=\"sk-parallel\"><div class=\"sk-parallel-item\"><div class=\"sk-item\"><div class=\"sk-label-container\"><div class=\"sk-label sk-toggleable\"><input class=\"sk-toggleable__control sk-hidden--visually\" id=\"sk-estimator-id-52\" type=\"checkbox\" ><label for=\"sk-estimator-id-52\" class=\"sk-toggleable__label sk-toggleable__label-arrow\">estimator: Pipeline</label><div class=\"sk-toggleable__content\"><pre>Pipeline(steps=[(&#x27;preprocessing&#x27;,\n",
       "                 ColumnTransformer(sparse_threshold=0,\n",
       "                                   transformers=[(&#x27;count_encoder&#x27;,\n",
       "                                                  Pipeline(steps=[(&#x27;imputer&#x27;,\n",
       "                                                                   SimpleImputer(strategy=&#x27;most_frequent&#x27;)),\n",
       "                                                                  (&#x27;encoder&#x27;,\n",
       "                                                                   OrdinalEncoder(dtype=&lt;class &#x27;int&#x27;&gt;,\n",
       "                                                                                  encoded_missing_value=99999,\n",
       "                                                                                  handle_unknown=&#x27;use_encoded_value&#x27;,\n",
       "                                                                                  unknown_value=99999))]),\n",
       "                                                  [&#x27;MGR_ID&#x27;, &#x27;ROLE_ROLLUP_1&#x27;,\n",
       "                                                   &#x27;ROLE_ROLLUP_2&#x27;,\n",
       "                                                   &#x27;ROLE_DEPTNAME&#x27;,\n",
       "                                                   &#x27;ROLE_TITLE&#x27;,\n",
       "                                                   &#x27;ROLE_FAMILY_DESC&#x27;,\n",
       "                                                   &#x27;ROLE_FAMILY&#x27;])])),\n",
       "                (&#x27;model&#x27;,\n",
       "                 HistGradientBoostingClassifier(class_weight=&#x27;balanced&#x27;,\n",
       "                                                early_stopping=True,\n",
       "                                                max_iter=1000,\n",
       "                                                n_iter_no_change=5,\n",
       "                                                random_state=1234,\n",
       "                                                scoring=&#x27;balanced_accuracy&#x27;))])</pre></div></div></div><div class=\"sk-serial\"><div class=\"sk-item\"><div class=\"sk-serial\"><div class=\"sk-item sk-dashed-wrapped\"><div class=\"sk-label-container\"><div class=\"sk-label sk-toggleable\"><input class=\"sk-toggleable__control sk-hidden--visually\" id=\"sk-estimator-id-53\" type=\"checkbox\" ><label for=\"sk-estimator-id-53\" class=\"sk-toggleable__label sk-toggleable__label-arrow\">preprocessing: ColumnTransformer</label><div class=\"sk-toggleable__content\"><pre>ColumnTransformer(sparse_threshold=0,\n",
       "                  transformers=[(&#x27;count_encoder&#x27;,\n",
       "                                 Pipeline(steps=[(&#x27;imputer&#x27;,\n",
       "                                                  SimpleImputer(strategy=&#x27;most_frequent&#x27;)),\n",
       "                                                 (&#x27;encoder&#x27;,\n",
       "                                                  OrdinalEncoder(dtype=&lt;class &#x27;int&#x27;&gt;,\n",
       "                                                                 encoded_missing_value=99999,\n",
       "                                                                 handle_unknown=&#x27;use_encoded_value&#x27;,\n",
       "                                                                 unknown_value=99999))]),\n",
       "                                 [&#x27;MGR_ID&#x27;, &#x27;ROLE_ROLLUP_1&#x27;, &#x27;ROLE_ROLLUP_2&#x27;,\n",
       "                                  &#x27;ROLE_DEPTNAME&#x27;, &#x27;ROLE_TITLE&#x27;,\n",
       "                                  &#x27;ROLE_FAMILY_DESC&#x27;, &#x27;ROLE_FAMILY&#x27;])])</pre></div></div></div><div class=\"sk-parallel\"><div class=\"sk-parallel-item\"><div class=\"sk-item\"><div class=\"sk-label-container\"><div class=\"sk-label sk-toggleable\"><input class=\"sk-toggleable__control sk-hidden--visually\" id=\"sk-estimator-id-54\" type=\"checkbox\" ><label for=\"sk-estimator-id-54\" class=\"sk-toggleable__label sk-toggleable__label-arrow\">count_encoder</label><div class=\"sk-toggleable__content\"><pre>[&#x27;MGR_ID&#x27;, &#x27;ROLE_ROLLUP_1&#x27;, &#x27;ROLE_ROLLUP_2&#x27;, &#x27;ROLE_DEPTNAME&#x27;, &#x27;ROLE_TITLE&#x27;, &#x27;ROLE_FAMILY_DESC&#x27;, &#x27;ROLE_FAMILY&#x27;]</pre></div></div></div><div class=\"sk-serial\"><div class=\"sk-item\"><div class=\"sk-serial\"><div class=\"sk-item\"><div class=\"sk-estimator sk-toggleable\"><input class=\"sk-toggleable__control sk-hidden--visually\" id=\"sk-estimator-id-55\" type=\"checkbox\" ><label for=\"sk-estimator-id-55\" class=\"sk-toggleable__label sk-toggleable__label-arrow\">SimpleImputer</label><div class=\"sk-toggleable__content\"><pre>SimpleImputer(strategy=&#x27;most_frequent&#x27;)</pre></div></div></div><div class=\"sk-item\"><div class=\"sk-estimator sk-toggleable\"><input class=\"sk-toggleable__control sk-hidden--visually\" id=\"sk-estimator-id-56\" type=\"checkbox\" ><label for=\"sk-estimator-id-56\" class=\"sk-toggleable__label sk-toggleable__label-arrow\">OrdinalEncoder</label><div class=\"sk-toggleable__content\"><pre>OrdinalEncoder(dtype=&lt;class &#x27;int&#x27;&gt;, encoded_missing_value=99999,\n",
       "               handle_unknown=&#x27;use_encoded_value&#x27;, unknown_value=99999)</pre></div></div></div></div></div></div></div></div></div></div><div class=\"sk-item\"><div class=\"sk-estimator sk-toggleable\"><input class=\"sk-toggleable__control sk-hidden--visually\" id=\"sk-estimator-id-57\" type=\"checkbox\" ><label for=\"sk-estimator-id-57\" class=\"sk-toggleable__label sk-toggleable__label-arrow\">HistGradientBoostingClassifier</label><div class=\"sk-toggleable__content\"><pre>HistGradientBoostingClassifier(class_weight=&#x27;balanced&#x27;, early_stopping=True,\n",
       "                               max_iter=1000, n_iter_no_change=5,\n",
       "                               random_state=1234, scoring=&#x27;balanced_accuracy&#x27;)</pre></div></div></div></div></div></div></div></div></div></div></div></div>"
      ],
      "text/plain": [
       "RandomizedSearchCV(cv=StratifiedKFold(n_splits=3, random_state=1234, shuffle=True),\n",
       "                   estimator=Pipeline(steps=[('preprocessing',\n",
       "                                              ColumnTransformer(sparse_threshold=0,\n",
       "                                                                transformers=[('count_encoder',\n",
       "                                                                               Pipeline(steps=[('imputer',\n",
       "                                                                                                SimpleImputer(strategy='most_frequent')),\n",
       "                                                                                               ('encoder',\n",
       "                                                                                                OrdinalEncoder(dtype=<class 'int'>,\n",
       "                                                                                                               encoded_missing_value=99999,\n",
       "                                                                                                               handle_unknown='u...\n",
       "                                                                             random_state=1234,\n",
       "                                                                             scoring='balanced_accuracy'))]),\n",
       "                   n_iter=20, n_jobs=-1,\n",
       "                   param_distributions={'model__learning_rate': <scipy.stats._distn_infrastructure.rv_continuous_frozen object at 0x000001E3214BAB30>,\n",
       "                                        'model__min_samples_leaf': <scipy.stats._distn_infrastructure.rv_discrete_frozen object at 0x000001E320356590>},\n",
       "                   random_state=1234, scoring='balanced_accuracy')"
      ]
     },
     "execution_count": 66,
     "metadata": {},
     "output_type": "execute_result"
    }
   ],
   "source": [
    "# Display pipeline\n",
    "print(\"Time taken: \", ordinal_hgb_tune_time_taken)\n",
    "ordinal_hgb_tune"
   ]
  },
  {
   "cell_type": "code",
   "execution_count": 67,
   "id": "4fd69449",
   "metadata": {},
   "outputs": [
    {
     "name": "stdout",
     "output_type": "stream",
     "text": [
      "Best parameters: {'model__learning_rate': 0.2874602885846695, 'model__min_samples_leaf': 35}\n",
      "Balanced accuracy with best parameters: 0.7026356573102981\n"
     ]
    }
   ],
   "source": [
    "# Predict using the model with the best parameters\n",
    "y_ordinal_hgb_tune_pred = ordinal_hgb_tune.predict(X_test)\n",
    "\n",
    "# Get the best parameters\n",
    "ordinal_hgb_tune_best_params = ordinal_hgb_tune.best_params_\n",
    "print(f'Best parameters: {ordinal_hgb_tune_best_params}')\n",
    "\n",
    "# Calculate balanced accuracy for the model with the best parameters\n",
    "ordinal_hgb_tune_accuracy = balanced_accuracy_score(y_test, y_ordinal_hgb_tune_pred)\n",
    "print(f'Balanced accuracy with best parameters: {ordinal_hgb_tune_accuracy}')\n",
    "\n",
    "# Save results\n",
    "default_summary.append(\"Tune\")\n",
    "card_9_summary.append(\"AllVariables\")\n",
    "encoder_summary.append(\"OrdinalEncoder\")\n",
    "early_stopping_summary.append(\"EarlyStopping\")\n",
    "value_summary.append(ordinal_hgb_tune_accuracy)\n",
    "time_summary.append(ordinal_hgb_tune_time_taken)\n",
    "n_models_summary.append(ordinal_hgb_tune.n_iter)"
   ]
  },
  {
   "cell_type": "markdown",
   "id": "93f70489",
   "metadata": {},
   "source": [
    " "
   ]
  },
  {
   "cell_type": "markdown",
   "id": "220bf42f",
   "metadata": {},
   "source": [
    "### Native HistGradientBoosting support for categorical variables\n"
   ]
  },
  {
   "cell_type": "code",
   "execution_count": 68,
   "id": "b8e37f7f",
   "metadata": {},
   "outputs": [],
   "source": [
    "from sklearn.preprocessing import OrdinalEncoder"
   ]
  },
  {
   "cell_type": "markdown",
   "id": "e3df6c73",
   "metadata": {},
   "source": [
    "#### Preprocessing"
   ]
  },
  {
   "cell_type": "code",
   "execution_count": 69,
   "id": "f44a1e53",
   "metadata": {},
   "outputs": [
    {
     "data": {
      "text/plain": [
       "[True, True, True, True, True, True, True]"
      ]
     },
     "execution_count": 69,
     "metadata": {},
     "output_type": "execute_result"
    }
   ],
   "source": [
    "category_features_for_nativesupport = [col in cat_cols for col in X.columns]\n",
    "category_features_for_nativesupport"
   ]
  },
  {
   "cell_type": "code",
   "execution_count": 70,
   "id": "9d63da25",
   "metadata": {},
   "outputs": [],
   "source": [
    "hgb_default_categories_support = HistGradientBoostingClassifier(max_iter=1000,\n",
    "                                                                random_state=1234,\n",
    "                                                                early_stopping=False,\n",
    "                                                                scoring='balanced_accuracy',\n",
    "                                                                class_weight='balanced',\n",
    "                                                                categorical_features=category_features_for_nativesupport)\n",
    "\n",
    "hgb_default_es_categories_support = HistGradientBoostingClassifier(max_iter=1000,\n",
    "                                                                  random_state=1234,\n",
    "                                                                  early_stopping=True,\n",
    "                                                                  validation_fraction=0.1,\n",
    "                                                                  n_iter_no_change=5,\n",
    "                                                                  scoring='balanced_accuracy',\n",
    "                                                                  class_weight='balanced',\n",
    "                                                                  categorical_features=category_features_for_nativesupport)"
   ]
  },
  {
   "cell_type": "code",
   "execution_count": 71,
   "id": "4641f0fb",
   "metadata": {},
   "outputs": [],
   "source": [
    "cat_pipeline = Pipeline([\n",
    "    (\"imputer\", SimpleImputer(strategy = \"most_frequent\")),\n",
    "    (\"encoder\", OrdinalEncoder(dtype = int,\n",
    "                               handle_unknown = 'use_encoded_value',\n",
    "                               unknown_value = 99999,\n",
    "                               encoded_missing_value = 99999,\n",
    "                               max_categories = 254))\n",
    "])\n",
    "\n",
    "preprop_pipeline = ColumnTransformer(\n",
    "    transformers = [(\"cat_cols\", cat_pipeline, cat_cols)],\n",
    "    sparse_threshold=0\n",
    ")"
   ]
  },
  {
   "cell_type": "markdown",
   "id": "fd9630e1",
   "metadata": {},
   "source": [
    "#### Default hyper-parameters"
   ]
  },
  {
   "cell_type": "code",
   "execution_count": 72,
   "id": "f4f21981",
   "metadata": {},
   "outputs": [],
   "source": [
    "catsup_hgb_default_pipeline = Pipeline([('preprocessing', preprop_pipeline),\n",
    "                                        ('model', hgb_default_categories_support)])\n",
    "\n",
    "catsup_hgb_default_es_pipeline = Pipeline([('preprocessing', preprop_pipeline),\n",
    "                                        ('model', hgb_default_es_categories_support)])"
   ]
  },
  {
   "cell_type": "markdown",
   "id": "3abf822b",
   "metadata": {},
   "source": [
    "##### Without early-stopping"
   ]
  },
  {
   "cell_type": "code",
   "execution_count": 73,
   "id": "6f702dbb",
   "metadata": {
    "scrolled": false
   },
   "outputs": [],
   "source": [
    "tic = time.time()\n",
    "\n",
    "catsup_hgb_default = catsup_hgb_default_pipeline.fit(X_train, y_train)\n",
    "\n",
    "toc = time.time()\n",
    "catsup_hgb_default_time_taken = toc-tic"
   ]
  },
  {
   "cell_type": "code",
   "execution_count": 74,
   "id": "3fa85ba4",
   "metadata": {},
   "outputs": [
    {
     "name": "stdout",
     "output_type": "stream",
     "text": [
      "Time taken:  8.802035331726074\n"
     ]
    },
    {
     "data": {
      "text/html": [
       "<style>#sk-container-id-10 {color: black;}#sk-container-id-10 pre{padding: 0;}#sk-container-id-10 div.sk-toggleable {background-color: white;}#sk-container-id-10 label.sk-toggleable__label {cursor: pointer;display: block;width: 100%;margin-bottom: 0;padding: 0.3em;box-sizing: border-box;text-align: center;}#sk-container-id-10 label.sk-toggleable__label-arrow:before {content: \"▸\";float: left;margin-right: 0.25em;color: #696969;}#sk-container-id-10 label.sk-toggleable__label-arrow:hover:before {color: black;}#sk-container-id-10 div.sk-estimator:hover label.sk-toggleable__label-arrow:before {color: black;}#sk-container-id-10 div.sk-toggleable__content {max-height: 0;max-width: 0;overflow: hidden;text-align: left;background-color: #f0f8ff;}#sk-container-id-10 div.sk-toggleable__content pre {margin: 0.2em;color: black;border-radius: 0.25em;background-color: #f0f8ff;}#sk-container-id-10 input.sk-toggleable__control:checked~div.sk-toggleable__content {max-height: 200px;max-width: 100%;overflow: auto;}#sk-container-id-10 input.sk-toggleable__control:checked~label.sk-toggleable__label-arrow:before {content: \"▾\";}#sk-container-id-10 div.sk-estimator input.sk-toggleable__control:checked~label.sk-toggleable__label {background-color: #d4ebff;}#sk-container-id-10 div.sk-label input.sk-toggleable__control:checked~label.sk-toggleable__label {background-color: #d4ebff;}#sk-container-id-10 input.sk-hidden--visually {border: 0;clip: rect(1px 1px 1px 1px);clip: rect(1px, 1px, 1px, 1px);height: 1px;margin: -1px;overflow: hidden;padding: 0;position: absolute;width: 1px;}#sk-container-id-10 div.sk-estimator {font-family: monospace;background-color: #f0f8ff;border: 1px dotted black;border-radius: 0.25em;box-sizing: border-box;margin-bottom: 0.5em;}#sk-container-id-10 div.sk-estimator:hover {background-color: #d4ebff;}#sk-container-id-10 div.sk-parallel-item::after {content: \"\";width: 100%;border-bottom: 1px solid gray;flex-grow: 1;}#sk-container-id-10 div.sk-label:hover label.sk-toggleable__label {background-color: #d4ebff;}#sk-container-id-10 div.sk-serial::before {content: \"\";position: absolute;border-left: 1px solid gray;box-sizing: border-box;top: 0;bottom: 0;left: 50%;z-index: 0;}#sk-container-id-10 div.sk-serial {display: flex;flex-direction: column;align-items: center;background-color: white;padding-right: 0.2em;padding-left: 0.2em;position: relative;}#sk-container-id-10 div.sk-item {position: relative;z-index: 1;}#sk-container-id-10 div.sk-parallel {display: flex;align-items: stretch;justify-content: center;background-color: white;position: relative;}#sk-container-id-10 div.sk-item::before, #sk-container-id-10 div.sk-parallel-item::before {content: \"\";position: absolute;border-left: 1px solid gray;box-sizing: border-box;top: 0;bottom: 0;left: 50%;z-index: -1;}#sk-container-id-10 div.sk-parallel-item {display: flex;flex-direction: column;z-index: 1;position: relative;background-color: white;}#sk-container-id-10 div.sk-parallel-item:first-child::after {align-self: flex-end;width: 50%;}#sk-container-id-10 div.sk-parallel-item:last-child::after {align-self: flex-start;width: 50%;}#sk-container-id-10 div.sk-parallel-item:only-child::after {width: 0;}#sk-container-id-10 div.sk-dashed-wrapped {border: 1px dashed gray;margin: 0 0.4em 0.5em 0.4em;box-sizing: border-box;padding-bottom: 0.4em;background-color: white;}#sk-container-id-10 div.sk-label label {font-family: monospace;font-weight: bold;display: inline-block;line-height: 1.2em;}#sk-container-id-10 div.sk-label-container {text-align: center;}#sk-container-id-10 div.sk-container {/* jupyter's `normalize.less` sets `[hidden] { display: none; }` but bootstrap.min.css set `[hidden] { display: none !important; }` so we also need the `!important` here to be able to override the default hidden behavior on the sphinx rendered scikit-learn.org. See: https://github.com/scikit-learn/scikit-learn/issues/21755 */display: inline-block !important;position: relative;}#sk-container-id-10 div.sk-text-repr-fallback {display: none;}</style><div id=\"sk-container-id-10\" class=\"sk-top-container\"><div class=\"sk-text-repr-fallback\"><pre>Pipeline(steps=[(&#x27;preprocessing&#x27;,\n",
       "                 ColumnTransformer(sparse_threshold=0,\n",
       "                                   transformers=[(&#x27;cat_cols&#x27;,\n",
       "                                                  Pipeline(steps=[(&#x27;imputer&#x27;,\n",
       "                                                                   SimpleImputer(strategy=&#x27;most_frequent&#x27;)),\n",
       "                                                                  (&#x27;encoder&#x27;,\n",
       "                                                                   OrdinalEncoder(dtype=&lt;class &#x27;int&#x27;&gt;,\n",
       "                                                                                  encoded_missing_value=99999,\n",
       "                                                                                  handle_unknown=&#x27;use_encoded_value&#x27;,\n",
       "                                                                                  max_categories=254,\n",
       "                                                                                  unknown_value=99999))]),\n",
       "                                                  [&#x27;MGR_ID&#x27;, &#x27;ROLE_ROLLUP_1&#x27;,\n",
       "                                                   &#x27;ROLE_ROLLUP_2&#x27;,\n",
       "                                                   &#x27;ROLE_DEPTNAME&#x27;,\n",
       "                                                   &#x27;ROLE_TITLE&#x27;,\n",
       "                                                   &#x27;ROLE_FAMILY_DESC&#x27;,\n",
       "                                                   &#x27;ROLE_FAMILY&#x27;])])),\n",
       "                (&#x27;model&#x27;,\n",
       "                 HistGradientBoostingClassifier(categorical_features=[True,\n",
       "                                                                      True,\n",
       "                                                                      True,\n",
       "                                                                      True,\n",
       "                                                                      True,\n",
       "                                                                      True,\n",
       "                                                                      True],\n",
       "                                                class_weight=&#x27;balanced&#x27;,\n",
       "                                                early_stopping=False,\n",
       "                                                max_iter=1000,\n",
       "                                                random_state=1234,\n",
       "                                                scoring=&#x27;balanced_accuracy&#x27;))])</pre><b>In a Jupyter environment, please rerun this cell to show the HTML representation or trust the notebook. <br />On GitHub, the HTML representation is unable to render, please try loading this page with nbviewer.org.</b></div><div class=\"sk-container\" hidden><div class=\"sk-item sk-dashed-wrapped\"><div class=\"sk-label-container\"><div class=\"sk-label sk-toggleable\"><input class=\"sk-toggleable__control sk-hidden--visually\" id=\"sk-estimator-id-58\" type=\"checkbox\" ><label for=\"sk-estimator-id-58\" class=\"sk-toggleable__label sk-toggleable__label-arrow\">Pipeline</label><div class=\"sk-toggleable__content\"><pre>Pipeline(steps=[(&#x27;preprocessing&#x27;,\n",
       "                 ColumnTransformer(sparse_threshold=0,\n",
       "                                   transformers=[(&#x27;cat_cols&#x27;,\n",
       "                                                  Pipeline(steps=[(&#x27;imputer&#x27;,\n",
       "                                                                   SimpleImputer(strategy=&#x27;most_frequent&#x27;)),\n",
       "                                                                  (&#x27;encoder&#x27;,\n",
       "                                                                   OrdinalEncoder(dtype=&lt;class &#x27;int&#x27;&gt;,\n",
       "                                                                                  encoded_missing_value=99999,\n",
       "                                                                                  handle_unknown=&#x27;use_encoded_value&#x27;,\n",
       "                                                                                  max_categories=254,\n",
       "                                                                                  unknown_value=99999))]),\n",
       "                                                  [&#x27;MGR_ID&#x27;, &#x27;ROLE_ROLLUP_1&#x27;,\n",
       "                                                   &#x27;ROLE_ROLLUP_2&#x27;,\n",
       "                                                   &#x27;ROLE_DEPTNAME&#x27;,\n",
       "                                                   &#x27;ROLE_TITLE&#x27;,\n",
       "                                                   &#x27;ROLE_FAMILY_DESC&#x27;,\n",
       "                                                   &#x27;ROLE_FAMILY&#x27;])])),\n",
       "                (&#x27;model&#x27;,\n",
       "                 HistGradientBoostingClassifier(categorical_features=[True,\n",
       "                                                                      True,\n",
       "                                                                      True,\n",
       "                                                                      True,\n",
       "                                                                      True,\n",
       "                                                                      True,\n",
       "                                                                      True],\n",
       "                                                class_weight=&#x27;balanced&#x27;,\n",
       "                                                early_stopping=False,\n",
       "                                                max_iter=1000,\n",
       "                                                random_state=1234,\n",
       "                                                scoring=&#x27;balanced_accuracy&#x27;))])</pre></div></div></div><div class=\"sk-serial\"><div class=\"sk-item sk-dashed-wrapped\"><div class=\"sk-label-container\"><div class=\"sk-label sk-toggleable\"><input class=\"sk-toggleable__control sk-hidden--visually\" id=\"sk-estimator-id-59\" type=\"checkbox\" ><label for=\"sk-estimator-id-59\" class=\"sk-toggleable__label sk-toggleable__label-arrow\">preprocessing: ColumnTransformer</label><div class=\"sk-toggleable__content\"><pre>ColumnTransformer(sparse_threshold=0,\n",
       "                  transformers=[(&#x27;cat_cols&#x27;,\n",
       "                                 Pipeline(steps=[(&#x27;imputer&#x27;,\n",
       "                                                  SimpleImputer(strategy=&#x27;most_frequent&#x27;)),\n",
       "                                                 (&#x27;encoder&#x27;,\n",
       "                                                  OrdinalEncoder(dtype=&lt;class &#x27;int&#x27;&gt;,\n",
       "                                                                 encoded_missing_value=99999,\n",
       "                                                                 handle_unknown=&#x27;use_encoded_value&#x27;,\n",
       "                                                                 max_categories=254,\n",
       "                                                                 unknown_value=99999))]),\n",
       "                                 [&#x27;MGR_ID&#x27;, &#x27;ROLE_ROLLUP_1&#x27;, &#x27;ROLE_ROLLUP_2&#x27;,\n",
       "                                  &#x27;ROLE_DEPTNAME&#x27;, &#x27;ROLE_TITLE&#x27;,\n",
       "                                  &#x27;ROLE_FAMILY_DESC&#x27;, &#x27;ROLE_FAMILY&#x27;])])</pre></div></div></div><div class=\"sk-parallel\"><div class=\"sk-parallel-item\"><div class=\"sk-item\"><div class=\"sk-label-container\"><div class=\"sk-label sk-toggleable\"><input class=\"sk-toggleable__control sk-hidden--visually\" id=\"sk-estimator-id-60\" type=\"checkbox\" ><label for=\"sk-estimator-id-60\" class=\"sk-toggleable__label sk-toggleable__label-arrow\">cat_cols</label><div class=\"sk-toggleable__content\"><pre>[&#x27;MGR_ID&#x27;, &#x27;ROLE_ROLLUP_1&#x27;, &#x27;ROLE_ROLLUP_2&#x27;, &#x27;ROLE_DEPTNAME&#x27;, &#x27;ROLE_TITLE&#x27;, &#x27;ROLE_FAMILY_DESC&#x27;, &#x27;ROLE_FAMILY&#x27;]</pre></div></div></div><div class=\"sk-serial\"><div class=\"sk-item\"><div class=\"sk-serial\"><div class=\"sk-item\"><div class=\"sk-estimator sk-toggleable\"><input class=\"sk-toggleable__control sk-hidden--visually\" id=\"sk-estimator-id-61\" type=\"checkbox\" ><label for=\"sk-estimator-id-61\" class=\"sk-toggleable__label sk-toggleable__label-arrow\">SimpleImputer</label><div class=\"sk-toggleable__content\"><pre>SimpleImputer(strategy=&#x27;most_frequent&#x27;)</pre></div></div></div><div class=\"sk-item\"><div class=\"sk-estimator sk-toggleable\"><input class=\"sk-toggleable__control sk-hidden--visually\" id=\"sk-estimator-id-62\" type=\"checkbox\" ><label for=\"sk-estimator-id-62\" class=\"sk-toggleable__label sk-toggleable__label-arrow\">OrdinalEncoder</label><div class=\"sk-toggleable__content\"><pre>OrdinalEncoder(dtype=&lt;class &#x27;int&#x27;&gt;, encoded_missing_value=99999,\n",
       "               handle_unknown=&#x27;use_encoded_value&#x27;, max_categories=254,\n",
       "               unknown_value=99999)</pre></div></div></div></div></div></div></div></div></div></div><div class=\"sk-item\"><div class=\"sk-estimator sk-toggleable\"><input class=\"sk-toggleable__control sk-hidden--visually\" id=\"sk-estimator-id-63\" type=\"checkbox\" ><label for=\"sk-estimator-id-63\" class=\"sk-toggleable__label sk-toggleable__label-arrow\">HistGradientBoostingClassifier</label><div class=\"sk-toggleable__content\"><pre>HistGradientBoostingClassifier(categorical_features=[True, True, True, True,\n",
       "                                                     True, True, True],\n",
       "                               class_weight=&#x27;balanced&#x27;, early_stopping=False,\n",
       "                               max_iter=1000, random_state=1234,\n",
       "                               scoring=&#x27;balanced_accuracy&#x27;)</pre></div></div></div></div></div></div></div>"
      ],
      "text/plain": [
       "Pipeline(steps=[('preprocessing',\n",
       "                 ColumnTransformer(sparse_threshold=0,\n",
       "                                   transformers=[('cat_cols',\n",
       "                                                  Pipeline(steps=[('imputer',\n",
       "                                                                   SimpleImputer(strategy='most_frequent')),\n",
       "                                                                  ('encoder',\n",
       "                                                                   OrdinalEncoder(dtype=<class 'int'>,\n",
       "                                                                                  encoded_missing_value=99999,\n",
       "                                                                                  handle_unknown='use_encoded_value',\n",
       "                                                                                  max_categories=254,\n",
       "                                                                                  unknown_value=99999))]),\n",
       "                                                  ['MGR_ID', 'ROLE_ROLLUP_1',\n",
       "                                                   'ROLE_ROLLUP_2',\n",
       "                                                   'ROLE_DEPTNAME',\n",
       "                                                   'ROLE_TITLE',\n",
       "                                                   'ROLE_FAMILY_DESC',\n",
       "                                                   'ROLE_FAMILY'])])),\n",
       "                ('model',\n",
       "                 HistGradientBoostingClassifier(categorical_features=[True,\n",
       "                                                                      True,\n",
       "                                                                      True,\n",
       "                                                                      True,\n",
       "                                                                      True,\n",
       "                                                                      True,\n",
       "                                                                      True],\n",
       "                                                class_weight='balanced',\n",
       "                                                early_stopping=False,\n",
       "                                                max_iter=1000,\n",
       "                                                random_state=1234,\n",
       "                                                scoring='balanced_accuracy'))])"
      ]
     },
     "execution_count": 74,
     "metadata": {},
     "output_type": "execute_result"
    }
   ],
   "source": [
    "# Display pipeline\n",
    "print(\"Time taken: \", catsup_hgb_default_time_taken)\n",
    "catsup_hgb_default"
   ]
  },
  {
   "cell_type": "code",
   "execution_count": 75,
   "metadata": {},
   "outputs": [
    {
     "name": "stdout",
     "output_type": "stream",
     "text": [
      "Balanced accuracy with default parameters: 0.7730589831299368\n"
     ]
    }
   ],
   "source": [
    "# Calculate balanced accuracy for the model with default parameters\n",
    "y_catsup_hgb_default_pred = catsup_hgb_default.predict(X_test)\n",
    "catsup_hgb_default_accuracy = balanced_accuracy_score(y_test, y_catsup_hgb_default_pred)\n",
    "print(f'Balanced accuracy with default parameters: {catsup_hgb_default_accuracy}')\n",
    "\n",
    "# Save results\n",
    "default_summary.append(\"Default\")\n",
    "card_9_summary.append(\"AllVariables\")\n",
    "encoder_summary.append(\"HGB_NativeSupport\")\n",
    "early_stopping_summary.append(\"NoEarlyStopping\")\n",
    "value_summary.append(catsup_hgb_default_accuracy)\n",
    "time_summary.append(catsup_hgb_default_time_taken)\n",
    "n_models_summary.append(1)"
   ]
  },
  {
   "cell_type": "markdown",
   "id": "ce6f221b",
   "metadata": {},
   "source": [
    "##### With early-stopping"
   ]
  },
  {
   "cell_type": "code",
   "execution_count": 76,
   "id": "e806d096",
   "metadata": {},
   "outputs": [],
   "source": [
    "tic = time.time()\n",
    "\n",
    "catsup_hgb_default_es = catsup_hgb_default_es_pipeline.fit(X_train, y_train)\n",
    "\n",
    "toc = time.time()\n",
    "catsup_hgb_default_es_time_taken = toc-tic"
   ]
  },
  {
   "cell_type": "code",
   "execution_count": 77,
   "id": "42bcd210",
   "metadata": {},
   "outputs": [
    {
     "name": "stdout",
     "output_type": "stream",
     "text": [
      "Time taken:  1.2219760417938232\n"
     ]
    },
    {
     "data": {
      "text/html": [
       "<style>#sk-container-id-11 {color: black;}#sk-container-id-11 pre{padding: 0;}#sk-container-id-11 div.sk-toggleable {background-color: white;}#sk-container-id-11 label.sk-toggleable__label {cursor: pointer;display: block;width: 100%;margin-bottom: 0;padding: 0.3em;box-sizing: border-box;text-align: center;}#sk-container-id-11 label.sk-toggleable__label-arrow:before {content: \"▸\";float: left;margin-right: 0.25em;color: #696969;}#sk-container-id-11 label.sk-toggleable__label-arrow:hover:before {color: black;}#sk-container-id-11 div.sk-estimator:hover label.sk-toggleable__label-arrow:before {color: black;}#sk-container-id-11 div.sk-toggleable__content {max-height: 0;max-width: 0;overflow: hidden;text-align: left;background-color: #f0f8ff;}#sk-container-id-11 div.sk-toggleable__content pre {margin: 0.2em;color: black;border-radius: 0.25em;background-color: #f0f8ff;}#sk-container-id-11 input.sk-toggleable__control:checked~div.sk-toggleable__content {max-height: 200px;max-width: 100%;overflow: auto;}#sk-container-id-11 input.sk-toggleable__control:checked~label.sk-toggleable__label-arrow:before {content: \"▾\";}#sk-container-id-11 div.sk-estimator input.sk-toggleable__control:checked~label.sk-toggleable__label {background-color: #d4ebff;}#sk-container-id-11 div.sk-label input.sk-toggleable__control:checked~label.sk-toggleable__label {background-color: #d4ebff;}#sk-container-id-11 input.sk-hidden--visually {border: 0;clip: rect(1px 1px 1px 1px);clip: rect(1px, 1px, 1px, 1px);height: 1px;margin: -1px;overflow: hidden;padding: 0;position: absolute;width: 1px;}#sk-container-id-11 div.sk-estimator {font-family: monospace;background-color: #f0f8ff;border: 1px dotted black;border-radius: 0.25em;box-sizing: border-box;margin-bottom: 0.5em;}#sk-container-id-11 div.sk-estimator:hover {background-color: #d4ebff;}#sk-container-id-11 div.sk-parallel-item::after {content: \"\";width: 100%;border-bottom: 1px solid gray;flex-grow: 1;}#sk-container-id-11 div.sk-label:hover label.sk-toggleable__label {background-color: #d4ebff;}#sk-container-id-11 div.sk-serial::before {content: \"\";position: absolute;border-left: 1px solid gray;box-sizing: border-box;top: 0;bottom: 0;left: 50%;z-index: 0;}#sk-container-id-11 div.sk-serial {display: flex;flex-direction: column;align-items: center;background-color: white;padding-right: 0.2em;padding-left: 0.2em;position: relative;}#sk-container-id-11 div.sk-item {position: relative;z-index: 1;}#sk-container-id-11 div.sk-parallel {display: flex;align-items: stretch;justify-content: center;background-color: white;position: relative;}#sk-container-id-11 div.sk-item::before, #sk-container-id-11 div.sk-parallel-item::before {content: \"\";position: absolute;border-left: 1px solid gray;box-sizing: border-box;top: 0;bottom: 0;left: 50%;z-index: -1;}#sk-container-id-11 div.sk-parallel-item {display: flex;flex-direction: column;z-index: 1;position: relative;background-color: white;}#sk-container-id-11 div.sk-parallel-item:first-child::after {align-self: flex-end;width: 50%;}#sk-container-id-11 div.sk-parallel-item:last-child::after {align-self: flex-start;width: 50%;}#sk-container-id-11 div.sk-parallel-item:only-child::after {width: 0;}#sk-container-id-11 div.sk-dashed-wrapped {border: 1px dashed gray;margin: 0 0.4em 0.5em 0.4em;box-sizing: border-box;padding-bottom: 0.4em;background-color: white;}#sk-container-id-11 div.sk-label label {font-family: monospace;font-weight: bold;display: inline-block;line-height: 1.2em;}#sk-container-id-11 div.sk-label-container {text-align: center;}#sk-container-id-11 div.sk-container {/* jupyter's `normalize.less` sets `[hidden] { display: none; }` but bootstrap.min.css set `[hidden] { display: none !important; }` so we also need the `!important` here to be able to override the default hidden behavior on the sphinx rendered scikit-learn.org. See: https://github.com/scikit-learn/scikit-learn/issues/21755 */display: inline-block !important;position: relative;}#sk-container-id-11 div.sk-text-repr-fallback {display: none;}</style><div id=\"sk-container-id-11\" class=\"sk-top-container\"><div class=\"sk-text-repr-fallback\"><pre>Pipeline(steps=[(&#x27;preprocessing&#x27;,\n",
       "                 ColumnTransformer(sparse_threshold=0,\n",
       "                                   transformers=[(&#x27;cat_cols&#x27;,\n",
       "                                                  Pipeline(steps=[(&#x27;imputer&#x27;,\n",
       "                                                                   SimpleImputer(strategy=&#x27;most_frequent&#x27;)),\n",
       "                                                                  (&#x27;encoder&#x27;,\n",
       "                                                                   OrdinalEncoder(dtype=&lt;class &#x27;int&#x27;&gt;,\n",
       "                                                                                  encoded_missing_value=99999,\n",
       "                                                                                  handle_unknown=&#x27;use_encoded_value&#x27;,\n",
       "                                                                                  max_categories=254,\n",
       "                                                                                  unknown_value=99999))]),\n",
       "                                                  [&#x27;MGR_ID&#x27;, &#x27;ROLE_ROLLUP_1&#x27;,\n",
       "                                                   &#x27;ROLE_ROLLUP_2&#x27;,\n",
       "                                                   &#x27;ROLE_DEPTNAME&#x27;,\n",
       "                                                   &#x27;ROLE_TITLE&#x27;,\n",
       "                                                   &#x27;ROLE_FAMILY_DESC&#x27;,\n",
       "                                                   &#x27;ROLE_FAMILY&#x27;])])),\n",
       "                (&#x27;model&#x27;,\n",
       "                 HistGradientBoostingClassifier(categorical_features=[True,\n",
       "                                                                      True,\n",
       "                                                                      True,\n",
       "                                                                      True,\n",
       "                                                                      True,\n",
       "                                                                      True,\n",
       "                                                                      True],\n",
       "                                                class_weight=&#x27;balanced&#x27;,\n",
       "                                                early_stopping=True,\n",
       "                                                max_iter=1000,\n",
       "                                                n_iter_no_change=5,\n",
       "                                                random_state=1234,\n",
       "                                                scoring=&#x27;balanced_accuracy&#x27;))])</pre><b>In a Jupyter environment, please rerun this cell to show the HTML representation or trust the notebook. <br />On GitHub, the HTML representation is unable to render, please try loading this page with nbviewer.org.</b></div><div class=\"sk-container\" hidden><div class=\"sk-item sk-dashed-wrapped\"><div class=\"sk-label-container\"><div class=\"sk-label sk-toggleable\"><input class=\"sk-toggleable__control sk-hidden--visually\" id=\"sk-estimator-id-64\" type=\"checkbox\" ><label for=\"sk-estimator-id-64\" class=\"sk-toggleable__label sk-toggleable__label-arrow\">Pipeline</label><div class=\"sk-toggleable__content\"><pre>Pipeline(steps=[(&#x27;preprocessing&#x27;,\n",
       "                 ColumnTransformer(sparse_threshold=0,\n",
       "                                   transformers=[(&#x27;cat_cols&#x27;,\n",
       "                                                  Pipeline(steps=[(&#x27;imputer&#x27;,\n",
       "                                                                   SimpleImputer(strategy=&#x27;most_frequent&#x27;)),\n",
       "                                                                  (&#x27;encoder&#x27;,\n",
       "                                                                   OrdinalEncoder(dtype=&lt;class &#x27;int&#x27;&gt;,\n",
       "                                                                                  encoded_missing_value=99999,\n",
       "                                                                                  handle_unknown=&#x27;use_encoded_value&#x27;,\n",
       "                                                                                  max_categories=254,\n",
       "                                                                                  unknown_value=99999))]),\n",
       "                                                  [&#x27;MGR_ID&#x27;, &#x27;ROLE_ROLLUP_1&#x27;,\n",
       "                                                   &#x27;ROLE_ROLLUP_2&#x27;,\n",
       "                                                   &#x27;ROLE_DEPTNAME&#x27;,\n",
       "                                                   &#x27;ROLE_TITLE&#x27;,\n",
       "                                                   &#x27;ROLE_FAMILY_DESC&#x27;,\n",
       "                                                   &#x27;ROLE_FAMILY&#x27;])])),\n",
       "                (&#x27;model&#x27;,\n",
       "                 HistGradientBoostingClassifier(categorical_features=[True,\n",
       "                                                                      True,\n",
       "                                                                      True,\n",
       "                                                                      True,\n",
       "                                                                      True,\n",
       "                                                                      True,\n",
       "                                                                      True],\n",
       "                                                class_weight=&#x27;balanced&#x27;,\n",
       "                                                early_stopping=True,\n",
       "                                                max_iter=1000,\n",
       "                                                n_iter_no_change=5,\n",
       "                                                random_state=1234,\n",
       "                                                scoring=&#x27;balanced_accuracy&#x27;))])</pre></div></div></div><div class=\"sk-serial\"><div class=\"sk-item sk-dashed-wrapped\"><div class=\"sk-label-container\"><div class=\"sk-label sk-toggleable\"><input class=\"sk-toggleable__control sk-hidden--visually\" id=\"sk-estimator-id-65\" type=\"checkbox\" ><label for=\"sk-estimator-id-65\" class=\"sk-toggleable__label sk-toggleable__label-arrow\">preprocessing: ColumnTransformer</label><div class=\"sk-toggleable__content\"><pre>ColumnTransformer(sparse_threshold=0,\n",
       "                  transformers=[(&#x27;cat_cols&#x27;,\n",
       "                                 Pipeline(steps=[(&#x27;imputer&#x27;,\n",
       "                                                  SimpleImputer(strategy=&#x27;most_frequent&#x27;)),\n",
       "                                                 (&#x27;encoder&#x27;,\n",
       "                                                  OrdinalEncoder(dtype=&lt;class &#x27;int&#x27;&gt;,\n",
       "                                                                 encoded_missing_value=99999,\n",
       "                                                                 handle_unknown=&#x27;use_encoded_value&#x27;,\n",
       "                                                                 max_categories=254,\n",
       "                                                                 unknown_value=99999))]),\n",
       "                                 [&#x27;MGR_ID&#x27;, &#x27;ROLE_ROLLUP_1&#x27;, &#x27;ROLE_ROLLUP_2&#x27;,\n",
       "                                  &#x27;ROLE_DEPTNAME&#x27;, &#x27;ROLE_TITLE&#x27;,\n",
       "                                  &#x27;ROLE_FAMILY_DESC&#x27;, &#x27;ROLE_FAMILY&#x27;])])</pre></div></div></div><div class=\"sk-parallel\"><div class=\"sk-parallel-item\"><div class=\"sk-item\"><div class=\"sk-label-container\"><div class=\"sk-label sk-toggleable\"><input class=\"sk-toggleable__control sk-hidden--visually\" id=\"sk-estimator-id-66\" type=\"checkbox\" ><label for=\"sk-estimator-id-66\" class=\"sk-toggleable__label sk-toggleable__label-arrow\">cat_cols</label><div class=\"sk-toggleable__content\"><pre>[&#x27;MGR_ID&#x27;, &#x27;ROLE_ROLLUP_1&#x27;, &#x27;ROLE_ROLLUP_2&#x27;, &#x27;ROLE_DEPTNAME&#x27;, &#x27;ROLE_TITLE&#x27;, &#x27;ROLE_FAMILY_DESC&#x27;, &#x27;ROLE_FAMILY&#x27;]</pre></div></div></div><div class=\"sk-serial\"><div class=\"sk-item\"><div class=\"sk-serial\"><div class=\"sk-item\"><div class=\"sk-estimator sk-toggleable\"><input class=\"sk-toggleable__control sk-hidden--visually\" id=\"sk-estimator-id-67\" type=\"checkbox\" ><label for=\"sk-estimator-id-67\" class=\"sk-toggleable__label sk-toggleable__label-arrow\">SimpleImputer</label><div class=\"sk-toggleable__content\"><pre>SimpleImputer(strategy=&#x27;most_frequent&#x27;)</pre></div></div></div><div class=\"sk-item\"><div class=\"sk-estimator sk-toggleable\"><input class=\"sk-toggleable__control sk-hidden--visually\" id=\"sk-estimator-id-68\" type=\"checkbox\" ><label for=\"sk-estimator-id-68\" class=\"sk-toggleable__label sk-toggleable__label-arrow\">OrdinalEncoder</label><div class=\"sk-toggleable__content\"><pre>OrdinalEncoder(dtype=&lt;class &#x27;int&#x27;&gt;, encoded_missing_value=99999,\n",
       "               handle_unknown=&#x27;use_encoded_value&#x27;, max_categories=254,\n",
       "               unknown_value=99999)</pre></div></div></div></div></div></div></div></div></div></div><div class=\"sk-item\"><div class=\"sk-estimator sk-toggleable\"><input class=\"sk-toggleable__control sk-hidden--visually\" id=\"sk-estimator-id-69\" type=\"checkbox\" ><label for=\"sk-estimator-id-69\" class=\"sk-toggleable__label sk-toggleable__label-arrow\">HistGradientBoostingClassifier</label><div class=\"sk-toggleable__content\"><pre>HistGradientBoostingClassifier(categorical_features=[True, True, True, True,\n",
       "                                                     True, True, True],\n",
       "                               class_weight=&#x27;balanced&#x27;, early_stopping=True,\n",
       "                               max_iter=1000, n_iter_no_change=5,\n",
       "                               random_state=1234, scoring=&#x27;balanced_accuracy&#x27;)</pre></div></div></div></div></div></div></div>"
      ],
      "text/plain": [
       "Pipeline(steps=[('preprocessing',\n",
       "                 ColumnTransformer(sparse_threshold=0,\n",
       "                                   transformers=[('cat_cols',\n",
       "                                                  Pipeline(steps=[('imputer',\n",
       "                                                                   SimpleImputer(strategy='most_frequent')),\n",
       "                                                                  ('encoder',\n",
       "                                                                   OrdinalEncoder(dtype=<class 'int'>,\n",
       "                                                                                  encoded_missing_value=99999,\n",
       "                                                                                  handle_unknown='use_encoded_value',\n",
       "                                                                                  max_categories=254,\n",
       "                                                                                  unknown_value=99999))]),\n",
       "                                                  ['MGR_ID', 'ROLE_ROLLUP_1',\n",
       "                                                   'ROLE_ROLLUP_2',\n",
       "                                                   'ROLE_DEPTNAME',\n",
       "                                                   'ROLE_TITLE',\n",
       "                                                   'ROLE_FAMILY_DESC',\n",
       "                                                   'ROLE_FAMILY'])])),\n",
       "                ('model',\n",
       "                 HistGradientBoostingClassifier(categorical_features=[True,\n",
       "                                                                      True,\n",
       "                                                                      True,\n",
       "                                                                      True,\n",
       "                                                                      True,\n",
       "                                                                      True,\n",
       "                                                                      True],\n",
       "                                                class_weight='balanced',\n",
       "                                                early_stopping=True,\n",
       "                                                max_iter=1000,\n",
       "                                                n_iter_no_change=5,\n",
       "                                                random_state=1234,\n",
       "                                                scoring='balanced_accuracy'))])"
      ]
     },
     "execution_count": 77,
     "metadata": {},
     "output_type": "execute_result"
    }
   ],
   "source": [
    "# Display pipeline\n",
    "print(\"Time taken: \", catsup_hgb_default_es_time_taken)\n",
    "catsup_hgb_default_es"
   ]
  },
  {
   "cell_type": "code",
   "execution_count": 78,
   "id": "f0de7160",
   "metadata": {},
   "outputs": [
    {
     "name": "stdout",
     "output_type": "stream",
     "text": [
      "Balanced accuracy with default parameters: 0.7733998590084683\n"
     ]
    }
   ],
   "source": [
    "# Calculate balanced accuracy for the model with default parameters\n",
    "y_catsup_hgb_default_es_pred = catsup_hgb_default_es.predict(X_test)\n",
    "catsup_hgb_default_es_accuracy = balanced_accuracy_score(y_test, y_catsup_hgb_default_es_pred)\n",
    "print(f'Balanced accuracy with default parameters: {catsup_hgb_default_es_accuracy}')\n",
    "\n",
    "# Save results\n",
    "default_summary.append(\"Default\")\n",
    "card_9_summary.append(\"AllVariables\")\n",
    "encoder_summary.append(\"HGB_NativeSupport\")\n",
    "early_stopping_summary.append(\"EarlyStopping\")\n",
    "value_summary.append(catsup_hgb_default_es_accuracy)\n",
    "time_summary.append(catsup_hgb_default_es_time_taken)\n",
    "n_models_summary.append(1)"
   ]
  },
  {
   "cell_type": "markdown",
   "id": "e9dff02b",
   "metadata": {},
   "source": [
    "#### Hyper-parameter tuning"
   ]
  },
  {
   "cell_type": "code",
   "execution_count": 79,
   "id": "bd90ce3b",
   "metadata": {},
   "outputs": [],
   "source": [
    "catsup_hgb_tune = RandomizedSearchCV(estimator = catsup_hgb_default_es_pipeline, \n",
    "                                     param_distributions = param_distributions, \n",
    "                                     n_iter = 20,\n",
    "                                     cv = stratified_kfold,\n",
    "                                     scoring = 'balanced_accuracy', \n",
    "                                     random_state = 1234,\n",
    "                                     n_jobs = -1)"
   ]
  },
  {
   "cell_type": "code",
   "execution_count": 80,
   "id": "cf21790e",
   "metadata": {},
   "outputs": [],
   "source": [
    "tic = time.time() \n",
    "\n",
    "catsup_hgb_tune = catsup_hgb_tune.fit(X_train, y_train)\n",
    "\n",
    "toc = time.time()\n",
    "catsup_hgb_tune_time_taken = toc-tic"
   ]
  },
  {
   "cell_type": "code",
   "execution_count": 81,
   "metadata": {},
   "outputs": [
    {
     "name": "stdout",
     "output_type": "stream",
     "text": [
      "Time taken:  9.367206573486328\n"
     ]
    },
    {
     "data": {
      "text/html": [
       "<style>#sk-container-id-12 {color: black;}#sk-container-id-12 pre{padding: 0;}#sk-container-id-12 div.sk-toggleable {background-color: white;}#sk-container-id-12 label.sk-toggleable__label {cursor: pointer;display: block;width: 100%;margin-bottom: 0;padding: 0.3em;box-sizing: border-box;text-align: center;}#sk-container-id-12 label.sk-toggleable__label-arrow:before {content: \"▸\";float: left;margin-right: 0.25em;color: #696969;}#sk-container-id-12 label.sk-toggleable__label-arrow:hover:before {color: black;}#sk-container-id-12 div.sk-estimator:hover label.sk-toggleable__label-arrow:before {color: black;}#sk-container-id-12 div.sk-toggleable__content {max-height: 0;max-width: 0;overflow: hidden;text-align: left;background-color: #f0f8ff;}#sk-container-id-12 div.sk-toggleable__content pre {margin: 0.2em;color: black;border-radius: 0.25em;background-color: #f0f8ff;}#sk-container-id-12 input.sk-toggleable__control:checked~div.sk-toggleable__content {max-height: 200px;max-width: 100%;overflow: auto;}#sk-container-id-12 input.sk-toggleable__control:checked~label.sk-toggleable__label-arrow:before {content: \"▾\";}#sk-container-id-12 div.sk-estimator input.sk-toggleable__control:checked~label.sk-toggleable__label {background-color: #d4ebff;}#sk-container-id-12 div.sk-label input.sk-toggleable__control:checked~label.sk-toggleable__label {background-color: #d4ebff;}#sk-container-id-12 input.sk-hidden--visually {border: 0;clip: rect(1px 1px 1px 1px);clip: rect(1px, 1px, 1px, 1px);height: 1px;margin: -1px;overflow: hidden;padding: 0;position: absolute;width: 1px;}#sk-container-id-12 div.sk-estimator {font-family: monospace;background-color: #f0f8ff;border: 1px dotted black;border-radius: 0.25em;box-sizing: border-box;margin-bottom: 0.5em;}#sk-container-id-12 div.sk-estimator:hover {background-color: #d4ebff;}#sk-container-id-12 div.sk-parallel-item::after {content: \"\";width: 100%;border-bottom: 1px solid gray;flex-grow: 1;}#sk-container-id-12 div.sk-label:hover label.sk-toggleable__label {background-color: #d4ebff;}#sk-container-id-12 div.sk-serial::before {content: \"\";position: absolute;border-left: 1px solid gray;box-sizing: border-box;top: 0;bottom: 0;left: 50%;z-index: 0;}#sk-container-id-12 div.sk-serial {display: flex;flex-direction: column;align-items: center;background-color: white;padding-right: 0.2em;padding-left: 0.2em;position: relative;}#sk-container-id-12 div.sk-item {position: relative;z-index: 1;}#sk-container-id-12 div.sk-parallel {display: flex;align-items: stretch;justify-content: center;background-color: white;position: relative;}#sk-container-id-12 div.sk-item::before, #sk-container-id-12 div.sk-parallel-item::before {content: \"\";position: absolute;border-left: 1px solid gray;box-sizing: border-box;top: 0;bottom: 0;left: 50%;z-index: -1;}#sk-container-id-12 div.sk-parallel-item {display: flex;flex-direction: column;z-index: 1;position: relative;background-color: white;}#sk-container-id-12 div.sk-parallel-item:first-child::after {align-self: flex-end;width: 50%;}#sk-container-id-12 div.sk-parallel-item:last-child::after {align-self: flex-start;width: 50%;}#sk-container-id-12 div.sk-parallel-item:only-child::after {width: 0;}#sk-container-id-12 div.sk-dashed-wrapped {border: 1px dashed gray;margin: 0 0.4em 0.5em 0.4em;box-sizing: border-box;padding-bottom: 0.4em;background-color: white;}#sk-container-id-12 div.sk-label label {font-family: monospace;font-weight: bold;display: inline-block;line-height: 1.2em;}#sk-container-id-12 div.sk-label-container {text-align: center;}#sk-container-id-12 div.sk-container {/* jupyter's `normalize.less` sets `[hidden] { display: none; }` but bootstrap.min.css set `[hidden] { display: none !important; }` so we also need the `!important` here to be able to override the default hidden behavior on the sphinx rendered scikit-learn.org. See: https://github.com/scikit-learn/scikit-learn/issues/21755 */display: inline-block !important;position: relative;}#sk-container-id-12 div.sk-text-repr-fallback {display: none;}</style><div id=\"sk-container-id-12\" class=\"sk-top-container\"><div class=\"sk-text-repr-fallback\"><pre>RandomizedSearchCV(cv=StratifiedKFold(n_splits=3, random_state=1234, shuffle=True),\n",
       "                   estimator=Pipeline(steps=[(&#x27;preprocessing&#x27;,\n",
       "                                              ColumnTransformer(sparse_threshold=0,\n",
       "                                                                transformers=[(&#x27;cat_cols&#x27;,\n",
       "                                                                               Pipeline(steps=[(&#x27;imputer&#x27;,\n",
       "                                                                                                SimpleImputer(strategy=&#x27;most_frequent&#x27;)),\n",
       "                                                                                               (&#x27;encoder&#x27;,\n",
       "                                                                                                OrdinalEncoder(dtype=&lt;class &#x27;int&#x27;&gt;,\n",
       "                                                                                                               encoded_missing_value=99999,\n",
       "                                                                                                               handle_unknown=&#x27;use_en...\n",
       "                                                                             random_state=1234,\n",
       "                                                                             scoring=&#x27;balanced_accuracy&#x27;))]),\n",
       "                   n_iter=20, n_jobs=-1,\n",
       "                   param_distributions={&#x27;model__learning_rate&#x27;: &lt;scipy.stats._distn_infrastructure.rv_continuous_frozen object at 0x000001E3214BAB30&gt;,\n",
       "                                        &#x27;model__min_samples_leaf&#x27;: &lt;scipy.stats._distn_infrastructure.rv_discrete_frozen object at 0x000001E320356590&gt;},\n",
       "                   random_state=1234, scoring=&#x27;balanced_accuracy&#x27;)</pre><b>In a Jupyter environment, please rerun this cell to show the HTML representation or trust the notebook. <br />On GitHub, the HTML representation is unable to render, please try loading this page with nbviewer.org.</b></div><div class=\"sk-container\" hidden><div class=\"sk-item sk-dashed-wrapped\"><div class=\"sk-label-container\"><div class=\"sk-label sk-toggleable\"><input class=\"sk-toggleable__control sk-hidden--visually\" id=\"sk-estimator-id-70\" type=\"checkbox\" ><label for=\"sk-estimator-id-70\" class=\"sk-toggleable__label sk-toggleable__label-arrow\">RandomizedSearchCV</label><div class=\"sk-toggleable__content\"><pre>RandomizedSearchCV(cv=StratifiedKFold(n_splits=3, random_state=1234, shuffle=True),\n",
       "                   estimator=Pipeline(steps=[(&#x27;preprocessing&#x27;,\n",
       "                                              ColumnTransformer(sparse_threshold=0,\n",
       "                                                                transformers=[(&#x27;cat_cols&#x27;,\n",
       "                                                                               Pipeline(steps=[(&#x27;imputer&#x27;,\n",
       "                                                                                                SimpleImputer(strategy=&#x27;most_frequent&#x27;)),\n",
       "                                                                                               (&#x27;encoder&#x27;,\n",
       "                                                                                                OrdinalEncoder(dtype=&lt;class &#x27;int&#x27;&gt;,\n",
       "                                                                                                               encoded_missing_value=99999,\n",
       "                                                                                                               handle_unknown=&#x27;use_en...\n",
       "                                                                             random_state=1234,\n",
       "                                                                             scoring=&#x27;balanced_accuracy&#x27;))]),\n",
       "                   n_iter=20, n_jobs=-1,\n",
       "                   param_distributions={&#x27;model__learning_rate&#x27;: &lt;scipy.stats._distn_infrastructure.rv_continuous_frozen object at 0x000001E3214BAB30&gt;,\n",
       "                                        &#x27;model__min_samples_leaf&#x27;: &lt;scipy.stats._distn_infrastructure.rv_discrete_frozen object at 0x000001E320356590&gt;},\n",
       "                   random_state=1234, scoring=&#x27;balanced_accuracy&#x27;)</pre></div></div></div><div class=\"sk-parallel\"><div class=\"sk-parallel-item\"><div class=\"sk-item\"><div class=\"sk-label-container\"><div class=\"sk-label sk-toggleable\"><input class=\"sk-toggleable__control sk-hidden--visually\" id=\"sk-estimator-id-71\" type=\"checkbox\" ><label for=\"sk-estimator-id-71\" class=\"sk-toggleable__label sk-toggleable__label-arrow\">estimator: Pipeline</label><div class=\"sk-toggleable__content\"><pre>Pipeline(steps=[(&#x27;preprocessing&#x27;,\n",
       "                 ColumnTransformer(sparse_threshold=0,\n",
       "                                   transformers=[(&#x27;cat_cols&#x27;,\n",
       "                                                  Pipeline(steps=[(&#x27;imputer&#x27;,\n",
       "                                                                   SimpleImputer(strategy=&#x27;most_frequent&#x27;)),\n",
       "                                                                  (&#x27;encoder&#x27;,\n",
       "                                                                   OrdinalEncoder(dtype=&lt;class &#x27;int&#x27;&gt;,\n",
       "                                                                                  encoded_missing_value=99999,\n",
       "                                                                                  handle_unknown=&#x27;use_encoded_value&#x27;,\n",
       "                                                                                  max_categories=254,\n",
       "                                                                                  unknown_value=99999))]),\n",
       "                                                  [&#x27;MGR_ID&#x27;, &#x27;ROLE_ROLLUP_1&#x27;,\n",
       "                                                   &#x27;ROLE_ROLLUP_2&#x27;,\n",
       "                                                   &#x27;ROLE_DEPTNAME&#x27;,\n",
       "                                                   &#x27;ROLE_TITLE&#x27;,\n",
       "                                                   &#x27;ROLE_FAMILY_DESC&#x27;,\n",
       "                                                   &#x27;ROLE_FAMILY&#x27;])])),\n",
       "                (&#x27;model&#x27;,\n",
       "                 HistGradientBoostingClassifier(categorical_features=[True,\n",
       "                                                                      True,\n",
       "                                                                      True,\n",
       "                                                                      True,\n",
       "                                                                      True,\n",
       "                                                                      True,\n",
       "                                                                      True],\n",
       "                                                class_weight=&#x27;balanced&#x27;,\n",
       "                                                early_stopping=True,\n",
       "                                                max_iter=1000,\n",
       "                                                n_iter_no_change=5,\n",
       "                                                random_state=1234,\n",
       "                                                scoring=&#x27;balanced_accuracy&#x27;))])</pre></div></div></div><div class=\"sk-serial\"><div class=\"sk-item\"><div class=\"sk-serial\"><div class=\"sk-item sk-dashed-wrapped\"><div class=\"sk-label-container\"><div class=\"sk-label sk-toggleable\"><input class=\"sk-toggleable__control sk-hidden--visually\" id=\"sk-estimator-id-72\" type=\"checkbox\" ><label for=\"sk-estimator-id-72\" class=\"sk-toggleable__label sk-toggleable__label-arrow\">preprocessing: ColumnTransformer</label><div class=\"sk-toggleable__content\"><pre>ColumnTransformer(sparse_threshold=0,\n",
       "                  transformers=[(&#x27;cat_cols&#x27;,\n",
       "                                 Pipeline(steps=[(&#x27;imputer&#x27;,\n",
       "                                                  SimpleImputer(strategy=&#x27;most_frequent&#x27;)),\n",
       "                                                 (&#x27;encoder&#x27;,\n",
       "                                                  OrdinalEncoder(dtype=&lt;class &#x27;int&#x27;&gt;,\n",
       "                                                                 encoded_missing_value=99999,\n",
       "                                                                 handle_unknown=&#x27;use_encoded_value&#x27;,\n",
       "                                                                 max_categories=254,\n",
       "                                                                 unknown_value=99999))]),\n",
       "                                 [&#x27;MGR_ID&#x27;, &#x27;ROLE_ROLLUP_1&#x27;, &#x27;ROLE_ROLLUP_2&#x27;,\n",
       "                                  &#x27;ROLE_DEPTNAME&#x27;, &#x27;ROLE_TITLE&#x27;,\n",
       "                                  &#x27;ROLE_FAMILY_DESC&#x27;, &#x27;ROLE_FAMILY&#x27;])])</pre></div></div></div><div class=\"sk-parallel\"><div class=\"sk-parallel-item\"><div class=\"sk-item\"><div class=\"sk-label-container\"><div class=\"sk-label sk-toggleable\"><input class=\"sk-toggleable__control sk-hidden--visually\" id=\"sk-estimator-id-73\" type=\"checkbox\" ><label for=\"sk-estimator-id-73\" class=\"sk-toggleable__label sk-toggleable__label-arrow\">cat_cols</label><div class=\"sk-toggleable__content\"><pre>[&#x27;MGR_ID&#x27;, &#x27;ROLE_ROLLUP_1&#x27;, &#x27;ROLE_ROLLUP_2&#x27;, &#x27;ROLE_DEPTNAME&#x27;, &#x27;ROLE_TITLE&#x27;, &#x27;ROLE_FAMILY_DESC&#x27;, &#x27;ROLE_FAMILY&#x27;]</pre></div></div></div><div class=\"sk-serial\"><div class=\"sk-item\"><div class=\"sk-serial\"><div class=\"sk-item\"><div class=\"sk-estimator sk-toggleable\"><input class=\"sk-toggleable__control sk-hidden--visually\" id=\"sk-estimator-id-74\" type=\"checkbox\" ><label for=\"sk-estimator-id-74\" class=\"sk-toggleable__label sk-toggleable__label-arrow\">SimpleImputer</label><div class=\"sk-toggleable__content\"><pre>SimpleImputer(strategy=&#x27;most_frequent&#x27;)</pre></div></div></div><div class=\"sk-item\"><div class=\"sk-estimator sk-toggleable\"><input class=\"sk-toggleable__control sk-hidden--visually\" id=\"sk-estimator-id-75\" type=\"checkbox\" ><label for=\"sk-estimator-id-75\" class=\"sk-toggleable__label sk-toggleable__label-arrow\">OrdinalEncoder</label><div class=\"sk-toggleable__content\"><pre>OrdinalEncoder(dtype=&lt;class &#x27;int&#x27;&gt;, encoded_missing_value=99999,\n",
       "               handle_unknown=&#x27;use_encoded_value&#x27;, max_categories=254,\n",
       "               unknown_value=99999)</pre></div></div></div></div></div></div></div></div></div></div><div class=\"sk-item\"><div class=\"sk-estimator sk-toggleable\"><input class=\"sk-toggleable__control sk-hidden--visually\" id=\"sk-estimator-id-76\" type=\"checkbox\" ><label for=\"sk-estimator-id-76\" class=\"sk-toggleable__label sk-toggleable__label-arrow\">HistGradientBoostingClassifier</label><div class=\"sk-toggleable__content\"><pre>HistGradientBoostingClassifier(categorical_features=[True, True, True, True,\n",
       "                                                     True, True, True],\n",
       "                               class_weight=&#x27;balanced&#x27;, early_stopping=True,\n",
       "                               max_iter=1000, n_iter_no_change=5,\n",
       "                               random_state=1234, scoring=&#x27;balanced_accuracy&#x27;)</pre></div></div></div></div></div></div></div></div></div></div></div></div>"
      ],
      "text/plain": [
       "RandomizedSearchCV(cv=StratifiedKFold(n_splits=3, random_state=1234, shuffle=True),\n",
       "                   estimator=Pipeline(steps=[('preprocessing',\n",
       "                                              ColumnTransformer(sparse_threshold=0,\n",
       "                                                                transformers=[('cat_cols',\n",
       "                                                                               Pipeline(steps=[('imputer',\n",
       "                                                                                                SimpleImputer(strategy='most_frequent')),\n",
       "                                                                                               ('encoder',\n",
       "                                                                                                OrdinalEncoder(dtype=<class 'int'>,\n",
       "                                                                                                               encoded_missing_value=99999,\n",
       "                                                                                                               handle_unknown='use_en...\n",
       "                                                                             random_state=1234,\n",
       "                                                                             scoring='balanced_accuracy'))]),\n",
       "                   n_iter=20, n_jobs=-1,\n",
       "                   param_distributions={'model__learning_rate': <scipy.stats._distn_infrastructure.rv_continuous_frozen object at 0x000001E3214BAB30>,\n",
       "                                        'model__min_samples_leaf': <scipy.stats._distn_infrastructure.rv_discrete_frozen object at 0x000001E320356590>},\n",
       "                   random_state=1234, scoring='balanced_accuracy')"
      ]
     },
     "execution_count": 81,
     "metadata": {},
     "output_type": "execute_result"
    }
   ],
   "source": [
    "# Display pipeline\n",
    "print(\"Time taken: \", catsup_hgb_tune_time_taken)\n",
    "catsup_hgb_tune"
   ]
  },
  {
   "cell_type": "code",
   "execution_count": 82,
   "id": "941d0a05",
   "metadata": {},
   "outputs": [
    {
     "name": "stdout",
     "output_type": "stream",
     "text": [
      "Best parameters: {'model__learning_rate': 0.22137439245687177, 'model__min_samples_leaf': 41}\n",
      "Balanced accuracy with best parameters: 0.7647881175748955\n"
     ]
    }
   ],
   "source": [
    "# Predict using the model with the best parameters\n",
    "y_catsup_hgb_tune_pred = catsup_hgb_tune.predict(X_test)\n",
    "\n",
    "# Get the best parameters\n",
    "catsup_hgb_tune_best_params = catsup_hgb_tune.best_params_\n",
    "print(f'Best parameters: {catsup_hgb_tune_best_params}')\n",
    "\n",
    "# Calculate balanced accuracy for the model with the best parameters\n",
    "catsup_hgb_tune_accuracy = balanced_accuracy_score(y_test, y_catsup_hgb_tune_pred)\n",
    "print(f'Balanced accuracy with best parameters: {catsup_hgb_tune_accuracy}')\n",
    "\n",
    "# Save results\n",
    "default_summary.append(\"Tune\")\n",
    "card_9_summary.append(\"AllVariables\")\n",
    "encoder_summary.append(\"HGB_NativeSupport\")\n",
    "early_stopping_summary.append(\"EarlyStopping\")\n",
    "value_summary.append(catsup_hgb_tune_accuracy)\n",
    "time_summary.append(catsup_hgb_tune_time_taken)\n",
    "n_models_summary.append(catsup_hgb_tune.n_iter)"
   ]
  },
  {
   "cell_type": "markdown",
   "id": "fbea41e0",
   "metadata": {},
   "source": [
    " "
   ]
  },
  {
   "cell_type": "markdown",
   "id": "41c84341",
   "metadata": {},
   "source": [
    "### Target Encoder + HistGradientBoosting\n"
   ]
  },
  {
   "cell_type": "code",
   "execution_count": 83,
   "id": "9d7628d0",
   "metadata": {},
   "outputs": [],
   "source": [
    "from sklearn.preprocessing import TargetEncoder"
   ]
  },
  {
   "cell_type": "markdown",
   "id": "a94429ec",
   "metadata": {},
   "source": [
    "#### Preprocessing"
   ]
  },
  {
   "cell_type": "code",
   "execution_count": 84,
   "id": "a2aa3b93",
   "metadata": {},
   "outputs": [],
   "source": [
    "cat_pipeline = Pipeline([\n",
    "    (\"imputer\", SimpleImputer(strategy = \"most_frequent\")),\n",
    "    (\"encoder\", TargetEncoder(random_state=1234))\n",
    "])\n",
    "\n",
    "preprop_pipeline = ColumnTransformer(\n",
    "    transformers = [(\"target_encoder\", cat_pipeline, cat_cols)],\n",
    "    sparse_threshold=0\n",
    ")"
   ]
  },
  {
   "cell_type": "markdown",
   "id": "c4957e53",
   "metadata": {},
   "source": [
    "#### Default hyper-parameters"
   ]
  },
  {
   "cell_type": "code",
   "execution_count": 85,
   "id": "fd0851a1",
   "metadata": {},
   "outputs": [],
   "source": [
    "target_hgb_default_pipeline = Pipeline([('preprocessing', preprop_pipeline),\n",
    "                                        ('model', hgb_default)])\n",
    "\n",
    "target_hgb_default_es_pipeline = Pipeline([('preprocessing', preprop_pipeline),\n",
    "                                        ('model', hgb_default_es)])"
   ]
  },
  {
   "cell_type": "markdown",
   "id": "e2724d43",
   "metadata": {},
   "source": [
    "##### Without early-stopping"
   ]
  },
  {
   "cell_type": "code",
   "execution_count": 86,
   "id": "27d83c29",
   "metadata": {},
   "outputs": [],
   "source": [
    "tic = time.time()\n",
    "\n",
    "target_hgb_default = target_hgb_default_pipeline.fit(X_train, y_train)\n",
    "\n",
    "toc = time.time()\n",
    "target_hgb_default_time_taken = toc-tic"
   ]
  },
  {
   "cell_type": "code",
   "execution_count": 87,
   "metadata": {},
   "outputs": [
    {
     "name": "stdout",
     "output_type": "stream",
     "text": [
      "Time taken:  5.136349678039551\n"
     ]
    },
    {
     "data": {
      "text/html": [
       "<style>#sk-container-id-13 {color: black;}#sk-container-id-13 pre{padding: 0;}#sk-container-id-13 div.sk-toggleable {background-color: white;}#sk-container-id-13 label.sk-toggleable__label {cursor: pointer;display: block;width: 100%;margin-bottom: 0;padding: 0.3em;box-sizing: border-box;text-align: center;}#sk-container-id-13 label.sk-toggleable__label-arrow:before {content: \"▸\";float: left;margin-right: 0.25em;color: #696969;}#sk-container-id-13 label.sk-toggleable__label-arrow:hover:before {color: black;}#sk-container-id-13 div.sk-estimator:hover label.sk-toggleable__label-arrow:before {color: black;}#sk-container-id-13 div.sk-toggleable__content {max-height: 0;max-width: 0;overflow: hidden;text-align: left;background-color: #f0f8ff;}#sk-container-id-13 div.sk-toggleable__content pre {margin: 0.2em;color: black;border-radius: 0.25em;background-color: #f0f8ff;}#sk-container-id-13 input.sk-toggleable__control:checked~div.sk-toggleable__content {max-height: 200px;max-width: 100%;overflow: auto;}#sk-container-id-13 input.sk-toggleable__control:checked~label.sk-toggleable__label-arrow:before {content: \"▾\";}#sk-container-id-13 div.sk-estimator input.sk-toggleable__control:checked~label.sk-toggleable__label {background-color: #d4ebff;}#sk-container-id-13 div.sk-label input.sk-toggleable__control:checked~label.sk-toggleable__label {background-color: #d4ebff;}#sk-container-id-13 input.sk-hidden--visually {border: 0;clip: rect(1px 1px 1px 1px);clip: rect(1px, 1px, 1px, 1px);height: 1px;margin: -1px;overflow: hidden;padding: 0;position: absolute;width: 1px;}#sk-container-id-13 div.sk-estimator {font-family: monospace;background-color: #f0f8ff;border: 1px dotted black;border-radius: 0.25em;box-sizing: border-box;margin-bottom: 0.5em;}#sk-container-id-13 div.sk-estimator:hover {background-color: #d4ebff;}#sk-container-id-13 div.sk-parallel-item::after {content: \"\";width: 100%;border-bottom: 1px solid gray;flex-grow: 1;}#sk-container-id-13 div.sk-label:hover label.sk-toggleable__label {background-color: #d4ebff;}#sk-container-id-13 div.sk-serial::before {content: \"\";position: absolute;border-left: 1px solid gray;box-sizing: border-box;top: 0;bottom: 0;left: 50%;z-index: 0;}#sk-container-id-13 div.sk-serial {display: flex;flex-direction: column;align-items: center;background-color: white;padding-right: 0.2em;padding-left: 0.2em;position: relative;}#sk-container-id-13 div.sk-item {position: relative;z-index: 1;}#sk-container-id-13 div.sk-parallel {display: flex;align-items: stretch;justify-content: center;background-color: white;position: relative;}#sk-container-id-13 div.sk-item::before, #sk-container-id-13 div.sk-parallel-item::before {content: \"\";position: absolute;border-left: 1px solid gray;box-sizing: border-box;top: 0;bottom: 0;left: 50%;z-index: -1;}#sk-container-id-13 div.sk-parallel-item {display: flex;flex-direction: column;z-index: 1;position: relative;background-color: white;}#sk-container-id-13 div.sk-parallel-item:first-child::after {align-self: flex-end;width: 50%;}#sk-container-id-13 div.sk-parallel-item:last-child::after {align-self: flex-start;width: 50%;}#sk-container-id-13 div.sk-parallel-item:only-child::after {width: 0;}#sk-container-id-13 div.sk-dashed-wrapped {border: 1px dashed gray;margin: 0 0.4em 0.5em 0.4em;box-sizing: border-box;padding-bottom: 0.4em;background-color: white;}#sk-container-id-13 div.sk-label label {font-family: monospace;font-weight: bold;display: inline-block;line-height: 1.2em;}#sk-container-id-13 div.sk-label-container {text-align: center;}#sk-container-id-13 div.sk-container {/* jupyter's `normalize.less` sets `[hidden] { display: none; }` but bootstrap.min.css set `[hidden] { display: none !important; }` so we also need the `!important` here to be able to override the default hidden behavior on the sphinx rendered scikit-learn.org. See: https://github.com/scikit-learn/scikit-learn/issues/21755 */display: inline-block !important;position: relative;}#sk-container-id-13 div.sk-text-repr-fallback {display: none;}</style><div id=\"sk-container-id-13\" class=\"sk-top-container\"><div class=\"sk-text-repr-fallback\"><pre>Pipeline(steps=[(&#x27;preprocessing&#x27;,\n",
       "                 ColumnTransformer(sparse_threshold=0,\n",
       "                                   transformers=[(&#x27;target_encoder&#x27;,\n",
       "                                                  Pipeline(steps=[(&#x27;imputer&#x27;,\n",
       "                                                                   SimpleImputer(strategy=&#x27;most_frequent&#x27;)),\n",
       "                                                                  (&#x27;encoder&#x27;,\n",
       "                                                                   TargetEncoder(random_state=1234))]),\n",
       "                                                  [&#x27;MGR_ID&#x27;, &#x27;ROLE_ROLLUP_1&#x27;,\n",
       "                                                   &#x27;ROLE_ROLLUP_2&#x27;,\n",
       "                                                   &#x27;ROLE_DEPTNAME&#x27;,\n",
       "                                                   &#x27;ROLE_TITLE&#x27;,\n",
       "                                                   &#x27;ROLE_FAMILY_DESC&#x27;,\n",
       "                                                   &#x27;ROLE_FAMILY&#x27;])])),\n",
       "                (&#x27;model&#x27;,\n",
       "                 HistGradientBoostingClassifier(class_weight=&#x27;balanced&#x27;,\n",
       "                                                early_stopping=False,\n",
       "                                                max_iter=1000,\n",
       "                                                random_state=1234,\n",
       "                                                scoring=&#x27;balanced_accuracy&#x27;))])</pre><b>In a Jupyter environment, please rerun this cell to show the HTML representation or trust the notebook. <br />On GitHub, the HTML representation is unable to render, please try loading this page with nbviewer.org.</b></div><div class=\"sk-container\" hidden><div class=\"sk-item sk-dashed-wrapped\"><div class=\"sk-label-container\"><div class=\"sk-label sk-toggleable\"><input class=\"sk-toggleable__control sk-hidden--visually\" id=\"sk-estimator-id-77\" type=\"checkbox\" ><label for=\"sk-estimator-id-77\" class=\"sk-toggleable__label sk-toggleable__label-arrow\">Pipeline</label><div class=\"sk-toggleable__content\"><pre>Pipeline(steps=[(&#x27;preprocessing&#x27;,\n",
       "                 ColumnTransformer(sparse_threshold=0,\n",
       "                                   transformers=[(&#x27;target_encoder&#x27;,\n",
       "                                                  Pipeline(steps=[(&#x27;imputer&#x27;,\n",
       "                                                                   SimpleImputer(strategy=&#x27;most_frequent&#x27;)),\n",
       "                                                                  (&#x27;encoder&#x27;,\n",
       "                                                                   TargetEncoder(random_state=1234))]),\n",
       "                                                  [&#x27;MGR_ID&#x27;, &#x27;ROLE_ROLLUP_1&#x27;,\n",
       "                                                   &#x27;ROLE_ROLLUP_2&#x27;,\n",
       "                                                   &#x27;ROLE_DEPTNAME&#x27;,\n",
       "                                                   &#x27;ROLE_TITLE&#x27;,\n",
       "                                                   &#x27;ROLE_FAMILY_DESC&#x27;,\n",
       "                                                   &#x27;ROLE_FAMILY&#x27;])])),\n",
       "                (&#x27;model&#x27;,\n",
       "                 HistGradientBoostingClassifier(class_weight=&#x27;balanced&#x27;,\n",
       "                                                early_stopping=False,\n",
       "                                                max_iter=1000,\n",
       "                                                random_state=1234,\n",
       "                                                scoring=&#x27;balanced_accuracy&#x27;))])</pre></div></div></div><div class=\"sk-serial\"><div class=\"sk-item sk-dashed-wrapped\"><div class=\"sk-label-container\"><div class=\"sk-label sk-toggleable\"><input class=\"sk-toggleable__control sk-hidden--visually\" id=\"sk-estimator-id-78\" type=\"checkbox\" ><label for=\"sk-estimator-id-78\" class=\"sk-toggleable__label sk-toggleable__label-arrow\">preprocessing: ColumnTransformer</label><div class=\"sk-toggleable__content\"><pre>ColumnTransformer(sparse_threshold=0,\n",
       "                  transformers=[(&#x27;target_encoder&#x27;,\n",
       "                                 Pipeline(steps=[(&#x27;imputer&#x27;,\n",
       "                                                  SimpleImputer(strategy=&#x27;most_frequent&#x27;)),\n",
       "                                                 (&#x27;encoder&#x27;,\n",
       "                                                  TargetEncoder(random_state=1234))]),\n",
       "                                 [&#x27;MGR_ID&#x27;, &#x27;ROLE_ROLLUP_1&#x27;, &#x27;ROLE_ROLLUP_2&#x27;,\n",
       "                                  &#x27;ROLE_DEPTNAME&#x27;, &#x27;ROLE_TITLE&#x27;,\n",
       "                                  &#x27;ROLE_FAMILY_DESC&#x27;, &#x27;ROLE_FAMILY&#x27;])])</pre></div></div></div><div class=\"sk-parallel\"><div class=\"sk-parallel-item\"><div class=\"sk-item\"><div class=\"sk-label-container\"><div class=\"sk-label sk-toggleable\"><input class=\"sk-toggleable__control sk-hidden--visually\" id=\"sk-estimator-id-79\" type=\"checkbox\" ><label for=\"sk-estimator-id-79\" class=\"sk-toggleable__label sk-toggleable__label-arrow\">target_encoder</label><div class=\"sk-toggleable__content\"><pre>[&#x27;MGR_ID&#x27;, &#x27;ROLE_ROLLUP_1&#x27;, &#x27;ROLE_ROLLUP_2&#x27;, &#x27;ROLE_DEPTNAME&#x27;, &#x27;ROLE_TITLE&#x27;, &#x27;ROLE_FAMILY_DESC&#x27;, &#x27;ROLE_FAMILY&#x27;]</pre></div></div></div><div class=\"sk-serial\"><div class=\"sk-item\"><div class=\"sk-serial\"><div class=\"sk-item\"><div class=\"sk-estimator sk-toggleable\"><input class=\"sk-toggleable__control sk-hidden--visually\" id=\"sk-estimator-id-80\" type=\"checkbox\" ><label for=\"sk-estimator-id-80\" class=\"sk-toggleable__label sk-toggleable__label-arrow\">SimpleImputer</label><div class=\"sk-toggleable__content\"><pre>SimpleImputer(strategy=&#x27;most_frequent&#x27;)</pre></div></div></div><div class=\"sk-item\"><div class=\"sk-estimator sk-toggleable\"><input class=\"sk-toggleable__control sk-hidden--visually\" id=\"sk-estimator-id-81\" type=\"checkbox\" ><label for=\"sk-estimator-id-81\" class=\"sk-toggleable__label sk-toggleable__label-arrow\">TargetEncoder</label><div class=\"sk-toggleable__content\"><pre>TargetEncoder(random_state=1234)</pre></div></div></div></div></div></div></div></div></div></div><div class=\"sk-item\"><div class=\"sk-estimator sk-toggleable\"><input class=\"sk-toggleable__control sk-hidden--visually\" id=\"sk-estimator-id-82\" type=\"checkbox\" ><label for=\"sk-estimator-id-82\" class=\"sk-toggleable__label sk-toggleable__label-arrow\">HistGradientBoostingClassifier</label><div class=\"sk-toggleable__content\"><pre>HistGradientBoostingClassifier(class_weight=&#x27;balanced&#x27;, early_stopping=False,\n",
       "                               max_iter=1000, random_state=1234,\n",
       "                               scoring=&#x27;balanced_accuracy&#x27;)</pre></div></div></div></div></div></div></div>"
      ],
      "text/plain": [
       "Pipeline(steps=[('preprocessing',\n",
       "                 ColumnTransformer(sparse_threshold=0,\n",
       "                                   transformers=[('target_encoder',\n",
       "                                                  Pipeline(steps=[('imputer',\n",
       "                                                                   SimpleImputer(strategy='most_frequent')),\n",
       "                                                                  ('encoder',\n",
       "                                                                   TargetEncoder(random_state=1234))]),\n",
       "                                                  ['MGR_ID', 'ROLE_ROLLUP_1',\n",
       "                                                   'ROLE_ROLLUP_2',\n",
       "                                                   'ROLE_DEPTNAME',\n",
       "                                                   'ROLE_TITLE',\n",
       "                                                   'ROLE_FAMILY_DESC',\n",
       "                                                   'ROLE_FAMILY'])])),\n",
       "                ('model',\n",
       "                 HistGradientBoostingClassifier(class_weight='balanced',\n",
       "                                                early_stopping=False,\n",
       "                                                max_iter=1000,\n",
       "                                                random_state=1234,\n",
       "                                                scoring='balanced_accuracy'))])"
      ]
     },
     "execution_count": 87,
     "metadata": {},
     "output_type": "execute_result"
    }
   ],
   "source": [
    "# Display pipeline\n",
    "print(\"Time taken: \", target_hgb_default_time_taken)\n",
    "target_hgb_default"
   ]
  },
  {
   "cell_type": "code",
   "execution_count": 88,
   "id": "e171f341",
   "metadata": {},
   "outputs": [
    {
     "name": "stdout",
     "output_type": "stream",
     "text": [
      "Balanced accuracy with default parameters: 0.6495411816946831\n"
     ]
    }
   ],
   "source": [
    "# Calculate balanced accuracy for the model with default parameters\n",
    "y_target_hgb_default_pred = target_hgb_default.predict(X_test)\n",
    "target_hgb_default_accuracy = balanced_accuracy_score(y_test, y_target_hgb_default_pred)\n",
    "print(f'Balanced accuracy with default parameters: {target_hgb_default_accuracy}')\n",
    "\n",
    "# Save results\n",
    "default_summary.append(\"Default\")\n",
    "card_9_summary.append(\"AllVariables\")\n",
    "encoder_summary.append(\"TargetEncoder\")\n",
    "early_stopping_summary.append(\"NoEarlyStopping\")\n",
    "value_summary.append(target_hgb_default_accuracy)\n",
    "time_summary.append(target_hgb_default_time_taken)\n",
    "n_models_summary.append(1)"
   ]
  },
  {
   "cell_type": "markdown",
   "id": "a9f1a7bc",
   "metadata": {},
   "source": [
    "##### With early-stopping"
   ]
  },
  {
   "cell_type": "code",
   "execution_count": 89,
   "id": "53bcc8ce",
   "metadata": {},
   "outputs": [],
   "source": [
    "tic = time.time()\n",
    "\n",
    "target_hgb_default_es = target_hgb_default_es_pipeline.fit(X_train, y_train)\n",
    "\n",
    "toc = time.time()\n",
    "target_hgb_default_es_time_taken = toc-tic"
   ]
  },
  {
   "cell_type": "code",
   "execution_count": 90,
   "id": "3251d7e1",
   "metadata": {},
   "outputs": [
    {
     "name": "stdout",
     "output_type": "stream",
     "text": [
      "Time taken:  0.4272150993347168\n"
     ]
    },
    {
     "data": {
      "text/html": [
       "<style>#sk-container-id-14 {color: black;}#sk-container-id-14 pre{padding: 0;}#sk-container-id-14 div.sk-toggleable {background-color: white;}#sk-container-id-14 label.sk-toggleable__label {cursor: pointer;display: block;width: 100%;margin-bottom: 0;padding: 0.3em;box-sizing: border-box;text-align: center;}#sk-container-id-14 label.sk-toggleable__label-arrow:before {content: \"▸\";float: left;margin-right: 0.25em;color: #696969;}#sk-container-id-14 label.sk-toggleable__label-arrow:hover:before {color: black;}#sk-container-id-14 div.sk-estimator:hover label.sk-toggleable__label-arrow:before {color: black;}#sk-container-id-14 div.sk-toggleable__content {max-height: 0;max-width: 0;overflow: hidden;text-align: left;background-color: #f0f8ff;}#sk-container-id-14 div.sk-toggleable__content pre {margin: 0.2em;color: black;border-radius: 0.25em;background-color: #f0f8ff;}#sk-container-id-14 input.sk-toggleable__control:checked~div.sk-toggleable__content {max-height: 200px;max-width: 100%;overflow: auto;}#sk-container-id-14 input.sk-toggleable__control:checked~label.sk-toggleable__label-arrow:before {content: \"▾\";}#sk-container-id-14 div.sk-estimator input.sk-toggleable__control:checked~label.sk-toggleable__label {background-color: #d4ebff;}#sk-container-id-14 div.sk-label input.sk-toggleable__control:checked~label.sk-toggleable__label {background-color: #d4ebff;}#sk-container-id-14 input.sk-hidden--visually {border: 0;clip: rect(1px 1px 1px 1px);clip: rect(1px, 1px, 1px, 1px);height: 1px;margin: -1px;overflow: hidden;padding: 0;position: absolute;width: 1px;}#sk-container-id-14 div.sk-estimator {font-family: monospace;background-color: #f0f8ff;border: 1px dotted black;border-radius: 0.25em;box-sizing: border-box;margin-bottom: 0.5em;}#sk-container-id-14 div.sk-estimator:hover {background-color: #d4ebff;}#sk-container-id-14 div.sk-parallel-item::after {content: \"\";width: 100%;border-bottom: 1px solid gray;flex-grow: 1;}#sk-container-id-14 div.sk-label:hover label.sk-toggleable__label {background-color: #d4ebff;}#sk-container-id-14 div.sk-serial::before {content: \"\";position: absolute;border-left: 1px solid gray;box-sizing: border-box;top: 0;bottom: 0;left: 50%;z-index: 0;}#sk-container-id-14 div.sk-serial {display: flex;flex-direction: column;align-items: center;background-color: white;padding-right: 0.2em;padding-left: 0.2em;position: relative;}#sk-container-id-14 div.sk-item {position: relative;z-index: 1;}#sk-container-id-14 div.sk-parallel {display: flex;align-items: stretch;justify-content: center;background-color: white;position: relative;}#sk-container-id-14 div.sk-item::before, #sk-container-id-14 div.sk-parallel-item::before {content: \"\";position: absolute;border-left: 1px solid gray;box-sizing: border-box;top: 0;bottom: 0;left: 50%;z-index: -1;}#sk-container-id-14 div.sk-parallel-item {display: flex;flex-direction: column;z-index: 1;position: relative;background-color: white;}#sk-container-id-14 div.sk-parallel-item:first-child::after {align-self: flex-end;width: 50%;}#sk-container-id-14 div.sk-parallel-item:last-child::after {align-self: flex-start;width: 50%;}#sk-container-id-14 div.sk-parallel-item:only-child::after {width: 0;}#sk-container-id-14 div.sk-dashed-wrapped {border: 1px dashed gray;margin: 0 0.4em 0.5em 0.4em;box-sizing: border-box;padding-bottom: 0.4em;background-color: white;}#sk-container-id-14 div.sk-label label {font-family: monospace;font-weight: bold;display: inline-block;line-height: 1.2em;}#sk-container-id-14 div.sk-label-container {text-align: center;}#sk-container-id-14 div.sk-container {/* jupyter's `normalize.less` sets `[hidden] { display: none; }` but bootstrap.min.css set `[hidden] { display: none !important; }` so we also need the `!important` here to be able to override the default hidden behavior on the sphinx rendered scikit-learn.org. See: https://github.com/scikit-learn/scikit-learn/issues/21755 */display: inline-block !important;position: relative;}#sk-container-id-14 div.sk-text-repr-fallback {display: none;}</style><div id=\"sk-container-id-14\" class=\"sk-top-container\"><div class=\"sk-text-repr-fallback\"><pre>Pipeline(steps=[(&#x27;preprocessing&#x27;,\n",
       "                 ColumnTransformer(sparse_threshold=0,\n",
       "                                   transformers=[(&#x27;target_encoder&#x27;,\n",
       "                                                  Pipeline(steps=[(&#x27;imputer&#x27;,\n",
       "                                                                   SimpleImputer(strategy=&#x27;most_frequent&#x27;)),\n",
       "                                                                  (&#x27;encoder&#x27;,\n",
       "                                                                   TargetEncoder(random_state=1234))]),\n",
       "                                                  [&#x27;MGR_ID&#x27;, &#x27;ROLE_ROLLUP_1&#x27;,\n",
       "                                                   &#x27;ROLE_ROLLUP_2&#x27;,\n",
       "                                                   &#x27;ROLE_DEPTNAME&#x27;,\n",
       "                                                   &#x27;ROLE_TITLE&#x27;,\n",
       "                                                   &#x27;ROLE_FAMILY_DESC&#x27;,\n",
       "                                                   &#x27;ROLE_FAMILY&#x27;])])),\n",
       "                (&#x27;model&#x27;,\n",
       "                 HistGradientBoostingClassifier(class_weight=&#x27;balanced&#x27;,\n",
       "                                                early_stopping=True,\n",
       "                                                max_iter=1000,\n",
       "                                                n_iter_no_change=5,\n",
       "                                                random_state=1234,\n",
       "                                                scoring=&#x27;balanced_accuracy&#x27;))])</pre><b>In a Jupyter environment, please rerun this cell to show the HTML representation or trust the notebook. <br />On GitHub, the HTML representation is unable to render, please try loading this page with nbviewer.org.</b></div><div class=\"sk-container\" hidden><div class=\"sk-item sk-dashed-wrapped\"><div class=\"sk-label-container\"><div class=\"sk-label sk-toggleable\"><input class=\"sk-toggleable__control sk-hidden--visually\" id=\"sk-estimator-id-83\" type=\"checkbox\" ><label for=\"sk-estimator-id-83\" class=\"sk-toggleable__label sk-toggleable__label-arrow\">Pipeline</label><div class=\"sk-toggleable__content\"><pre>Pipeline(steps=[(&#x27;preprocessing&#x27;,\n",
       "                 ColumnTransformer(sparse_threshold=0,\n",
       "                                   transformers=[(&#x27;target_encoder&#x27;,\n",
       "                                                  Pipeline(steps=[(&#x27;imputer&#x27;,\n",
       "                                                                   SimpleImputer(strategy=&#x27;most_frequent&#x27;)),\n",
       "                                                                  (&#x27;encoder&#x27;,\n",
       "                                                                   TargetEncoder(random_state=1234))]),\n",
       "                                                  [&#x27;MGR_ID&#x27;, &#x27;ROLE_ROLLUP_1&#x27;,\n",
       "                                                   &#x27;ROLE_ROLLUP_2&#x27;,\n",
       "                                                   &#x27;ROLE_DEPTNAME&#x27;,\n",
       "                                                   &#x27;ROLE_TITLE&#x27;,\n",
       "                                                   &#x27;ROLE_FAMILY_DESC&#x27;,\n",
       "                                                   &#x27;ROLE_FAMILY&#x27;])])),\n",
       "                (&#x27;model&#x27;,\n",
       "                 HistGradientBoostingClassifier(class_weight=&#x27;balanced&#x27;,\n",
       "                                                early_stopping=True,\n",
       "                                                max_iter=1000,\n",
       "                                                n_iter_no_change=5,\n",
       "                                                random_state=1234,\n",
       "                                                scoring=&#x27;balanced_accuracy&#x27;))])</pre></div></div></div><div class=\"sk-serial\"><div class=\"sk-item sk-dashed-wrapped\"><div class=\"sk-label-container\"><div class=\"sk-label sk-toggleable\"><input class=\"sk-toggleable__control sk-hidden--visually\" id=\"sk-estimator-id-84\" type=\"checkbox\" ><label for=\"sk-estimator-id-84\" class=\"sk-toggleable__label sk-toggleable__label-arrow\">preprocessing: ColumnTransformer</label><div class=\"sk-toggleable__content\"><pre>ColumnTransformer(sparse_threshold=0,\n",
       "                  transformers=[(&#x27;target_encoder&#x27;,\n",
       "                                 Pipeline(steps=[(&#x27;imputer&#x27;,\n",
       "                                                  SimpleImputer(strategy=&#x27;most_frequent&#x27;)),\n",
       "                                                 (&#x27;encoder&#x27;,\n",
       "                                                  TargetEncoder(random_state=1234))]),\n",
       "                                 [&#x27;MGR_ID&#x27;, &#x27;ROLE_ROLLUP_1&#x27;, &#x27;ROLE_ROLLUP_2&#x27;,\n",
       "                                  &#x27;ROLE_DEPTNAME&#x27;, &#x27;ROLE_TITLE&#x27;,\n",
       "                                  &#x27;ROLE_FAMILY_DESC&#x27;, &#x27;ROLE_FAMILY&#x27;])])</pre></div></div></div><div class=\"sk-parallel\"><div class=\"sk-parallel-item\"><div class=\"sk-item\"><div class=\"sk-label-container\"><div class=\"sk-label sk-toggleable\"><input class=\"sk-toggleable__control sk-hidden--visually\" id=\"sk-estimator-id-85\" type=\"checkbox\" ><label for=\"sk-estimator-id-85\" class=\"sk-toggleable__label sk-toggleable__label-arrow\">target_encoder</label><div class=\"sk-toggleable__content\"><pre>[&#x27;MGR_ID&#x27;, &#x27;ROLE_ROLLUP_1&#x27;, &#x27;ROLE_ROLLUP_2&#x27;, &#x27;ROLE_DEPTNAME&#x27;, &#x27;ROLE_TITLE&#x27;, &#x27;ROLE_FAMILY_DESC&#x27;, &#x27;ROLE_FAMILY&#x27;]</pre></div></div></div><div class=\"sk-serial\"><div class=\"sk-item\"><div class=\"sk-serial\"><div class=\"sk-item\"><div class=\"sk-estimator sk-toggleable\"><input class=\"sk-toggleable__control sk-hidden--visually\" id=\"sk-estimator-id-86\" type=\"checkbox\" ><label for=\"sk-estimator-id-86\" class=\"sk-toggleable__label sk-toggleable__label-arrow\">SimpleImputer</label><div class=\"sk-toggleable__content\"><pre>SimpleImputer(strategy=&#x27;most_frequent&#x27;)</pre></div></div></div><div class=\"sk-item\"><div class=\"sk-estimator sk-toggleable\"><input class=\"sk-toggleable__control sk-hidden--visually\" id=\"sk-estimator-id-87\" type=\"checkbox\" ><label for=\"sk-estimator-id-87\" class=\"sk-toggleable__label sk-toggleable__label-arrow\">TargetEncoder</label><div class=\"sk-toggleable__content\"><pre>TargetEncoder(random_state=1234)</pre></div></div></div></div></div></div></div></div></div></div><div class=\"sk-item\"><div class=\"sk-estimator sk-toggleable\"><input class=\"sk-toggleable__control sk-hidden--visually\" id=\"sk-estimator-id-88\" type=\"checkbox\" ><label for=\"sk-estimator-id-88\" class=\"sk-toggleable__label sk-toggleable__label-arrow\">HistGradientBoostingClassifier</label><div class=\"sk-toggleable__content\"><pre>HistGradientBoostingClassifier(class_weight=&#x27;balanced&#x27;, early_stopping=True,\n",
       "                               max_iter=1000, n_iter_no_change=5,\n",
       "                               random_state=1234, scoring=&#x27;balanced_accuracy&#x27;)</pre></div></div></div></div></div></div></div>"
      ],
      "text/plain": [
       "Pipeline(steps=[('preprocessing',\n",
       "                 ColumnTransformer(sparse_threshold=0,\n",
       "                                   transformers=[('target_encoder',\n",
       "                                                  Pipeline(steps=[('imputer',\n",
       "                                                                   SimpleImputer(strategy='most_frequent')),\n",
       "                                                                  ('encoder',\n",
       "                                                                   TargetEncoder(random_state=1234))]),\n",
       "                                                  ['MGR_ID', 'ROLE_ROLLUP_1',\n",
       "                                                   'ROLE_ROLLUP_2',\n",
       "                                                   'ROLE_DEPTNAME',\n",
       "                                                   'ROLE_TITLE',\n",
       "                                                   'ROLE_FAMILY_DESC',\n",
       "                                                   'ROLE_FAMILY'])])),\n",
       "                ('model',\n",
       "                 HistGradientBoostingClassifier(class_weight='balanced',\n",
       "                                                early_stopping=True,\n",
       "                                                max_iter=1000,\n",
       "                                                n_iter_no_change=5,\n",
       "                                                random_state=1234,\n",
       "                                                scoring='balanced_accuracy'))])"
      ]
     },
     "execution_count": 90,
     "metadata": {},
     "output_type": "execute_result"
    }
   ],
   "source": [
    "# Display pipeline\n",
    "print(\"Time taken: \", target_hgb_default_es_time_taken)\n",
    "target_hgb_default_es"
   ]
  },
  {
   "cell_type": "code",
   "execution_count": 91,
   "id": "e54746b2",
   "metadata": {},
   "outputs": [
    {
     "name": "stdout",
     "output_type": "stream",
     "text": [
      "Balanced accuracy with default parameters: 0.7661671439556152\n"
     ]
    }
   ],
   "source": [
    "# Calculate balanced accuracy for the model with default parameters\n",
    "y_target_hgb_default_es_pred = target_hgb_default_es.predict(X_test)\n",
    "target_hgb_default_es_accuracy = balanced_accuracy_score(y_test, y_target_hgb_default_es_pred)\n",
    "print(f'Balanced accuracy with default parameters: {target_hgb_default_es_accuracy}')\n",
    "\n",
    "# Save results\n",
    "default_summary.append(\"Default\")\n",
    "card_9_summary.append(\"AllVariables\")\n",
    "encoder_summary.append(\"TargetEncoder\")\n",
    "early_stopping_summary.append(\"EarlyStopping\")\n",
    "value_summary.append(target_hgb_default_es_accuracy)\n",
    "time_summary.append(target_hgb_default_es_time_taken)\n",
    "n_models_summary.append(1)"
   ]
  },
  {
   "cell_type": "markdown",
   "id": "1bfbb04e",
   "metadata": {},
   "source": [
    "#### Hyper-parameter tuning"
   ]
  },
  {
   "cell_type": "code",
   "execution_count": 92,
   "id": "12e35ee5",
   "metadata": {},
   "outputs": [],
   "source": [
    "target_hgb_tune = RandomizedSearchCV(estimator = target_hgb_default_es_pipeline, \n",
    "                                    param_distributions = param_distributions, \n",
    "                                    n_iter = 20,\n",
    "                                    cv = stratified_kfold,\n",
    "                                    scoring = 'balanced_accuracy', \n",
    "                                    random_state = 1234,\n",
    "                                    n_jobs = -1)"
   ]
  },
  {
   "cell_type": "code",
   "execution_count": 93,
   "id": "0dffab68",
   "metadata": {},
   "outputs": [],
   "source": [
    "tic = time.time() \n",
    "\n",
    "target_hgb_tune = target_hgb_tune.fit(X_train, y_train)\n",
    "\n",
    "toc = time.time()\n",
    "target_hgb_tune_time_taken = toc-tic"
   ]
  },
  {
   "cell_type": "code",
   "execution_count": 94,
   "metadata": {},
   "outputs": [
    {
     "name": "stdout",
     "output_type": "stream",
     "text": [
      "Time taken:  7.525510549545288\n"
     ]
    },
    {
     "data": {
      "text/html": [
       "<style>#sk-container-id-15 {color: black;}#sk-container-id-15 pre{padding: 0;}#sk-container-id-15 div.sk-toggleable {background-color: white;}#sk-container-id-15 label.sk-toggleable__label {cursor: pointer;display: block;width: 100%;margin-bottom: 0;padding: 0.3em;box-sizing: border-box;text-align: center;}#sk-container-id-15 label.sk-toggleable__label-arrow:before {content: \"▸\";float: left;margin-right: 0.25em;color: #696969;}#sk-container-id-15 label.sk-toggleable__label-arrow:hover:before {color: black;}#sk-container-id-15 div.sk-estimator:hover label.sk-toggleable__label-arrow:before {color: black;}#sk-container-id-15 div.sk-toggleable__content {max-height: 0;max-width: 0;overflow: hidden;text-align: left;background-color: #f0f8ff;}#sk-container-id-15 div.sk-toggleable__content pre {margin: 0.2em;color: black;border-radius: 0.25em;background-color: #f0f8ff;}#sk-container-id-15 input.sk-toggleable__control:checked~div.sk-toggleable__content {max-height: 200px;max-width: 100%;overflow: auto;}#sk-container-id-15 input.sk-toggleable__control:checked~label.sk-toggleable__label-arrow:before {content: \"▾\";}#sk-container-id-15 div.sk-estimator input.sk-toggleable__control:checked~label.sk-toggleable__label {background-color: #d4ebff;}#sk-container-id-15 div.sk-label input.sk-toggleable__control:checked~label.sk-toggleable__label {background-color: #d4ebff;}#sk-container-id-15 input.sk-hidden--visually {border: 0;clip: rect(1px 1px 1px 1px);clip: rect(1px, 1px, 1px, 1px);height: 1px;margin: -1px;overflow: hidden;padding: 0;position: absolute;width: 1px;}#sk-container-id-15 div.sk-estimator {font-family: monospace;background-color: #f0f8ff;border: 1px dotted black;border-radius: 0.25em;box-sizing: border-box;margin-bottom: 0.5em;}#sk-container-id-15 div.sk-estimator:hover {background-color: #d4ebff;}#sk-container-id-15 div.sk-parallel-item::after {content: \"\";width: 100%;border-bottom: 1px solid gray;flex-grow: 1;}#sk-container-id-15 div.sk-label:hover label.sk-toggleable__label {background-color: #d4ebff;}#sk-container-id-15 div.sk-serial::before {content: \"\";position: absolute;border-left: 1px solid gray;box-sizing: border-box;top: 0;bottom: 0;left: 50%;z-index: 0;}#sk-container-id-15 div.sk-serial {display: flex;flex-direction: column;align-items: center;background-color: white;padding-right: 0.2em;padding-left: 0.2em;position: relative;}#sk-container-id-15 div.sk-item {position: relative;z-index: 1;}#sk-container-id-15 div.sk-parallel {display: flex;align-items: stretch;justify-content: center;background-color: white;position: relative;}#sk-container-id-15 div.sk-item::before, #sk-container-id-15 div.sk-parallel-item::before {content: \"\";position: absolute;border-left: 1px solid gray;box-sizing: border-box;top: 0;bottom: 0;left: 50%;z-index: -1;}#sk-container-id-15 div.sk-parallel-item {display: flex;flex-direction: column;z-index: 1;position: relative;background-color: white;}#sk-container-id-15 div.sk-parallel-item:first-child::after {align-self: flex-end;width: 50%;}#sk-container-id-15 div.sk-parallel-item:last-child::after {align-self: flex-start;width: 50%;}#sk-container-id-15 div.sk-parallel-item:only-child::after {width: 0;}#sk-container-id-15 div.sk-dashed-wrapped {border: 1px dashed gray;margin: 0 0.4em 0.5em 0.4em;box-sizing: border-box;padding-bottom: 0.4em;background-color: white;}#sk-container-id-15 div.sk-label label {font-family: monospace;font-weight: bold;display: inline-block;line-height: 1.2em;}#sk-container-id-15 div.sk-label-container {text-align: center;}#sk-container-id-15 div.sk-container {/* jupyter's `normalize.less` sets `[hidden] { display: none; }` but bootstrap.min.css set `[hidden] { display: none !important; }` so we also need the `!important` here to be able to override the default hidden behavior on the sphinx rendered scikit-learn.org. See: https://github.com/scikit-learn/scikit-learn/issues/21755 */display: inline-block !important;position: relative;}#sk-container-id-15 div.sk-text-repr-fallback {display: none;}</style><div id=\"sk-container-id-15\" class=\"sk-top-container\"><div class=\"sk-text-repr-fallback\"><pre>RandomizedSearchCV(cv=StratifiedKFold(n_splits=3, random_state=1234, shuffle=True),\n",
       "                   estimator=Pipeline(steps=[(&#x27;preprocessing&#x27;,\n",
       "                                              ColumnTransformer(sparse_threshold=0,\n",
       "                                                                transformers=[(&#x27;target_encoder&#x27;,\n",
       "                                                                               Pipeline(steps=[(&#x27;imputer&#x27;,\n",
       "                                                                                                SimpleImputer(strategy=&#x27;most_frequent&#x27;)),\n",
       "                                                                                               (&#x27;encoder&#x27;,\n",
       "                                                                                                TargetEncoder(random_state=1234))]),\n",
       "                                                                               [&#x27;MGR_ID&#x27;,\n",
       "                                                                                &#x27;ROLE_ROLLUP_1&#x27;,\n",
       "                                                                                &#x27;ROLE_ROLLUP_2&#x27;,...\n",
       "                                                                             random_state=1234,\n",
       "                                                                             scoring=&#x27;balanced_accuracy&#x27;))]),\n",
       "                   n_iter=20, n_jobs=-1,\n",
       "                   param_distributions={&#x27;model__learning_rate&#x27;: &lt;scipy.stats._distn_infrastructure.rv_continuous_frozen object at 0x000001E3214BAB30&gt;,\n",
       "                                        &#x27;model__min_samples_leaf&#x27;: &lt;scipy.stats._distn_infrastructure.rv_discrete_frozen object at 0x000001E320356590&gt;},\n",
       "                   random_state=1234, scoring=&#x27;balanced_accuracy&#x27;)</pre><b>In a Jupyter environment, please rerun this cell to show the HTML representation or trust the notebook. <br />On GitHub, the HTML representation is unable to render, please try loading this page with nbviewer.org.</b></div><div class=\"sk-container\" hidden><div class=\"sk-item sk-dashed-wrapped\"><div class=\"sk-label-container\"><div class=\"sk-label sk-toggleable\"><input class=\"sk-toggleable__control sk-hidden--visually\" id=\"sk-estimator-id-89\" type=\"checkbox\" ><label for=\"sk-estimator-id-89\" class=\"sk-toggleable__label sk-toggleable__label-arrow\">RandomizedSearchCV</label><div class=\"sk-toggleable__content\"><pre>RandomizedSearchCV(cv=StratifiedKFold(n_splits=3, random_state=1234, shuffle=True),\n",
       "                   estimator=Pipeline(steps=[(&#x27;preprocessing&#x27;,\n",
       "                                              ColumnTransformer(sparse_threshold=0,\n",
       "                                                                transformers=[(&#x27;target_encoder&#x27;,\n",
       "                                                                               Pipeline(steps=[(&#x27;imputer&#x27;,\n",
       "                                                                                                SimpleImputer(strategy=&#x27;most_frequent&#x27;)),\n",
       "                                                                                               (&#x27;encoder&#x27;,\n",
       "                                                                                                TargetEncoder(random_state=1234))]),\n",
       "                                                                               [&#x27;MGR_ID&#x27;,\n",
       "                                                                                &#x27;ROLE_ROLLUP_1&#x27;,\n",
       "                                                                                &#x27;ROLE_ROLLUP_2&#x27;,...\n",
       "                                                                             random_state=1234,\n",
       "                                                                             scoring=&#x27;balanced_accuracy&#x27;))]),\n",
       "                   n_iter=20, n_jobs=-1,\n",
       "                   param_distributions={&#x27;model__learning_rate&#x27;: &lt;scipy.stats._distn_infrastructure.rv_continuous_frozen object at 0x000001E3214BAB30&gt;,\n",
       "                                        &#x27;model__min_samples_leaf&#x27;: &lt;scipy.stats._distn_infrastructure.rv_discrete_frozen object at 0x000001E320356590&gt;},\n",
       "                   random_state=1234, scoring=&#x27;balanced_accuracy&#x27;)</pre></div></div></div><div class=\"sk-parallel\"><div class=\"sk-parallel-item\"><div class=\"sk-item\"><div class=\"sk-label-container\"><div class=\"sk-label sk-toggleable\"><input class=\"sk-toggleable__control sk-hidden--visually\" id=\"sk-estimator-id-90\" type=\"checkbox\" ><label for=\"sk-estimator-id-90\" class=\"sk-toggleable__label sk-toggleable__label-arrow\">estimator: Pipeline</label><div class=\"sk-toggleable__content\"><pre>Pipeline(steps=[(&#x27;preprocessing&#x27;,\n",
       "                 ColumnTransformer(sparse_threshold=0,\n",
       "                                   transformers=[(&#x27;target_encoder&#x27;,\n",
       "                                                  Pipeline(steps=[(&#x27;imputer&#x27;,\n",
       "                                                                   SimpleImputer(strategy=&#x27;most_frequent&#x27;)),\n",
       "                                                                  (&#x27;encoder&#x27;,\n",
       "                                                                   TargetEncoder(random_state=1234))]),\n",
       "                                                  [&#x27;MGR_ID&#x27;, &#x27;ROLE_ROLLUP_1&#x27;,\n",
       "                                                   &#x27;ROLE_ROLLUP_2&#x27;,\n",
       "                                                   &#x27;ROLE_DEPTNAME&#x27;,\n",
       "                                                   &#x27;ROLE_TITLE&#x27;,\n",
       "                                                   &#x27;ROLE_FAMILY_DESC&#x27;,\n",
       "                                                   &#x27;ROLE_FAMILY&#x27;])])),\n",
       "                (&#x27;model&#x27;,\n",
       "                 HistGradientBoostingClassifier(class_weight=&#x27;balanced&#x27;,\n",
       "                                                early_stopping=True,\n",
       "                                                max_iter=1000,\n",
       "                                                n_iter_no_change=5,\n",
       "                                                random_state=1234,\n",
       "                                                scoring=&#x27;balanced_accuracy&#x27;))])</pre></div></div></div><div class=\"sk-serial\"><div class=\"sk-item\"><div class=\"sk-serial\"><div class=\"sk-item sk-dashed-wrapped\"><div class=\"sk-label-container\"><div class=\"sk-label sk-toggleable\"><input class=\"sk-toggleable__control sk-hidden--visually\" id=\"sk-estimator-id-91\" type=\"checkbox\" ><label for=\"sk-estimator-id-91\" class=\"sk-toggleable__label sk-toggleable__label-arrow\">preprocessing: ColumnTransformer</label><div class=\"sk-toggleable__content\"><pre>ColumnTransformer(sparse_threshold=0,\n",
       "                  transformers=[(&#x27;target_encoder&#x27;,\n",
       "                                 Pipeline(steps=[(&#x27;imputer&#x27;,\n",
       "                                                  SimpleImputer(strategy=&#x27;most_frequent&#x27;)),\n",
       "                                                 (&#x27;encoder&#x27;,\n",
       "                                                  TargetEncoder(random_state=1234))]),\n",
       "                                 [&#x27;MGR_ID&#x27;, &#x27;ROLE_ROLLUP_1&#x27;, &#x27;ROLE_ROLLUP_2&#x27;,\n",
       "                                  &#x27;ROLE_DEPTNAME&#x27;, &#x27;ROLE_TITLE&#x27;,\n",
       "                                  &#x27;ROLE_FAMILY_DESC&#x27;, &#x27;ROLE_FAMILY&#x27;])])</pre></div></div></div><div class=\"sk-parallel\"><div class=\"sk-parallel-item\"><div class=\"sk-item\"><div class=\"sk-label-container\"><div class=\"sk-label sk-toggleable\"><input class=\"sk-toggleable__control sk-hidden--visually\" id=\"sk-estimator-id-92\" type=\"checkbox\" ><label for=\"sk-estimator-id-92\" class=\"sk-toggleable__label sk-toggleable__label-arrow\">target_encoder</label><div class=\"sk-toggleable__content\"><pre>[&#x27;MGR_ID&#x27;, &#x27;ROLE_ROLLUP_1&#x27;, &#x27;ROLE_ROLLUP_2&#x27;, &#x27;ROLE_DEPTNAME&#x27;, &#x27;ROLE_TITLE&#x27;, &#x27;ROLE_FAMILY_DESC&#x27;, &#x27;ROLE_FAMILY&#x27;]</pre></div></div></div><div class=\"sk-serial\"><div class=\"sk-item\"><div class=\"sk-serial\"><div class=\"sk-item\"><div class=\"sk-estimator sk-toggleable\"><input class=\"sk-toggleable__control sk-hidden--visually\" id=\"sk-estimator-id-93\" type=\"checkbox\" ><label for=\"sk-estimator-id-93\" class=\"sk-toggleable__label sk-toggleable__label-arrow\">SimpleImputer</label><div class=\"sk-toggleable__content\"><pre>SimpleImputer(strategy=&#x27;most_frequent&#x27;)</pre></div></div></div><div class=\"sk-item\"><div class=\"sk-estimator sk-toggleable\"><input class=\"sk-toggleable__control sk-hidden--visually\" id=\"sk-estimator-id-94\" type=\"checkbox\" ><label for=\"sk-estimator-id-94\" class=\"sk-toggleable__label sk-toggleable__label-arrow\">TargetEncoder</label><div class=\"sk-toggleable__content\"><pre>TargetEncoder(random_state=1234)</pre></div></div></div></div></div></div></div></div></div></div><div class=\"sk-item\"><div class=\"sk-estimator sk-toggleable\"><input class=\"sk-toggleable__control sk-hidden--visually\" id=\"sk-estimator-id-95\" type=\"checkbox\" ><label for=\"sk-estimator-id-95\" class=\"sk-toggleable__label sk-toggleable__label-arrow\">HistGradientBoostingClassifier</label><div class=\"sk-toggleable__content\"><pre>HistGradientBoostingClassifier(class_weight=&#x27;balanced&#x27;, early_stopping=True,\n",
       "                               max_iter=1000, n_iter_no_change=5,\n",
       "                               random_state=1234, scoring=&#x27;balanced_accuracy&#x27;)</pre></div></div></div></div></div></div></div></div></div></div></div></div>"
      ],
      "text/plain": [
       "RandomizedSearchCV(cv=StratifiedKFold(n_splits=3, random_state=1234, shuffle=True),\n",
       "                   estimator=Pipeline(steps=[('preprocessing',\n",
       "                                              ColumnTransformer(sparse_threshold=0,\n",
       "                                                                transformers=[('target_encoder',\n",
       "                                                                               Pipeline(steps=[('imputer',\n",
       "                                                                                                SimpleImputer(strategy='most_frequent')),\n",
       "                                                                                               ('encoder',\n",
       "                                                                                                TargetEncoder(random_state=1234))]),\n",
       "                                                                               ['MGR_ID',\n",
       "                                                                                'ROLE_ROLLUP_1',\n",
       "                                                                                'ROLE_ROLLUP_2',...\n",
       "                                                                             random_state=1234,\n",
       "                                                                             scoring='balanced_accuracy'))]),\n",
       "                   n_iter=20, n_jobs=-1,\n",
       "                   param_distributions={'model__learning_rate': <scipy.stats._distn_infrastructure.rv_continuous_frozen object at 0x000001E3214BAB30>,\n",
       "                                        'model__min_samples_leaf': <scipy.stats._distn_infrastructure.rv_discrete_frozen object at 0x000001E320356590>},\n",
       "                   random_state=1234, scoring='balanced_accuracy')"
      ]
     },
     "execution_count": 94,
     "metadata": {},
     "output_type": "execute_result"
    }
   ],
   "source": [
    "# Display pipeline\n",
    "print(\"Time taken: \", target_hgb_tune_time_taken)\n",
    "target_hgb_tune"
   ]
  },
  {
   "cell_type": "code",
   "execution_count": 95,
   "id": "10547da3",
   "metadata": {},
   "outputs": [
    {
     "name": "stdout",
     "output_type": "stream",
     "text": [
      "Best parameters: {'model__learning_rate': 0.044841348285564624, 'model__min_samples_leaf': 38}\n",
      "Balanced accuracy with best parameters: 0.7688135575148862\n"
     ]
    }
   ],
   "source": [
    "# Predict using the model with the best parameters\n",
    "y_target_hgb_tune_pred = target_hgb_tune.predict(X_test)\n",
    "\n",
    "# Get the best parameters\n",
    "target_hgb_tune_best_params = target_hgb_tune.best_params_\n",
    "print(f'Best parameters: {target_hgb_tune_best_params}')\n",
    "\n",
    "# Calculate balanced accuracy for the model with the best parameters\n",
    "target_hgb_tune_accuracy = balanced_accuracy_score(y_test, y_target_hgb_tune_pred)\n",
    "print(f'Balanced accuracy with best parameters: {target_hgb_tune_accuracy}')\n",
    "\n",
    "# Save results\n",
    "default_summary.append(\"Tune\")\n",
    "card_9_summary.append(\"AllVariables\")\n",
    "encoder_summary.append(\"TargetEncoder\")\n",
    "early_stopping_summary.append(\"EarlyStopping\")\n",
    "value_summary.append(target_hgb_tune_accuracy)\n",
    "time_summary.append(target_hgb_tune_time_taken)\n",
    "n_models_summary.append(target_hgb_tune.n_iter)"
   ]
  },
  {
   "cell_type": "markdown",
   "id": "c6837f3b",
   "metadata": {},
   "source": []
  },
  {
   "cell_type": "markdown",
   "id": "a8c6926a",
   "metadata": {},
   "source": []
  },
  {
   "cell_type": "markdown",
   "id": "a1a65f14",
   "metadata": {},
   "source": [
    "### CatBoost"
   ]
  },
  {
   "cell_type": "code",
   "execution_count": 96,
   "id": "72d25f4b",
   "metadata": {},
   "outputs": [],
   "source": [
    "from catboost import CatBoostClassifier"
   ]
  },
  {
   "cell_type": "markdown",
   "id": "0597ccbe",
   "metadata": {},
   "source": [
    "#### Preprocessing"
   ]
  },
  {
   "cell_type": "code",
   "execution_count": 97,
   "id": "7eae91c4",
   "metadata": {},
   "outputs": [],
   "source": [
    "cat_pipeline = Pipeline([\n",
    "    (\"imputer\", SimpleImputer(strategy = \"most_frequent\"))\n",
    "])\n",
    "\n",
    "preprop_pipeline = ColumnTransformer(\n",
    "    transformers = [(\"cat\", cat_pipeline, cat_cols)],\n",
    "    sparse_threshold=0\n",
    ")"
   ]
  },
  {
   "cell_type": "code",
   "execution_count": 98,
   "id": "30ce6dca",
   "metadata": {},
   "outputs": [
    {
     "name": "stdout",
     "output_type": "stream",
     "text": [
      "[0, 1, 2, 3, 4, 5, 6]\n"
     ]
    }
   ],
   "source": [
    "category_features_for_catboostsupport = [index for index in range(len(cat_cols))]\n",
    "print(category_features_for_catboostsupport)"
   ]
  },
  {
   "cell_type": "markdown",
   "id": "33d1babb",
   "metadata": {},
   "source": []
  },
  {
   "cell_type": "markdown",
   "id": "83e72f94",
   "metadata": {},
   "source": [
    "Catboost allows to give a maximum value of unique categories for which a variable is encoded or not by One-Hot-Encoder."
   ]
  },
  {
   "cell_type": "code",
   "execution_count": 99,
   "id": "b41e4af2",
   "metadata": {},
   "outputs": [],
   "source": [
    "# Create catboost models\n",
    "catboost_default_raw = CatBoostClassifier(iterations=1000,\n",
    "                                          eval_metric = 'BalancedAccuracy',\n",
    "                                          loss_function = 'Logloss',\n",
    "                                          auto_class_weights = 'Balanced',\n",
    "                                          od_type='Iter',\n",
    "                                          one_hot_max_size = 0,\n",
    "                                          random_seed = 1234,\n",
    "                                          min_data_in_leaf = 20,\n",
    "                                          cat_features=category_features_for_catboostsupport,\n",
    "                                          verbose = False)\n",
    "\n",
    "\n",
    "# Default CatBoostClassifier Pipeline\n",
    "catboost_default_pipeline = Pipeline([('preprocessing', preprop_pipeline),\n",
    "                                        ('model', catboost_default_raw)])\n",
    "\n",
    "# Define the hyperparameter search space\n",
    "catboost_param_distributions = {\n",
    "    'model__iterations': scipy.stats.randint(10, 1000),\n",
    "    'model__learning_rate': scipy.stats.uniform(0.01, 0.3),\n",
    "    'model__min_data_in_leaf': scipy.stats.randint(10, 50),\n",
    "}\n",
    "\n",
    "# Create a StratifiedKFold cross-validation instance\n",
    "stratified_kfold = StratifiedKFold(n_splits=3, shuffle=True, random_state=1234)\n",
    "\n",
    "catboost_tune_raw = RandomizedSearchCV(estimator = catboost_default_pipeline, \n",
    "                                   param_distributions = catboost_param_distributions, \n",
    "                                   n_iter = 20,\n",
    "                                   cv = stratified_kfold,\n",
    "                                   scoring = 'balanced_accuracy', \n",
    "                                   random_state = 1234,\n",
    "                                   n_jobs = -1)\n"
   ]
  },
  {
   "cell_type": "code",
   "execution_count": 100,
   "id": "6ee0599f",
   "metadata": {},
   "outputs": [],
   "source": [
    "tic = time.time()\n",
    "\n",
    "catboost_default = catboost_default_pipeline.fit(X_train, y_train)\n",
    "\n",
    "toc = time.time()\n",
    "catboost_default_time_taken = toc-tic"
   ]
  },
  {
   "cell_type": "code",
   "execution_count": 101,
   "id": "ba2d338e",
   "metadata": {},
   "outputs": [
    {
     "name": "stdout",
     "output_type": "stream",
     "text": [
      "Time taken:  34.61319828033447\n"
     ]
    },
    {
     "data": {
      "text/html": [
       "<style>#sk-container-id-16 {color: black;}#sk-container-id-16 pre{padding: 0;}#sk-container-id-16 div.sk-toggleable {background-color: white;}#sk-container-id-16 label.sk-toggleable__label {cursor: pointer;display: block;width: 100%;margin-bottom: 0;padding: 0.3em;box-sizing: border-box;text-align: center;}#sk-container-id-16 label.sk-toggleable__label-arrow:before {content: \"▸\";float: left;margin-right: 0.25em;color: #696969;}#sk-container-id-16 label.sk-toggleable__label-arrow:hover:before {color: black;}#sk-container-id-16 div.sk-estimator:hover label.sk-toggleable__label-arrow:before {color: black;}#sk-container-id-16 div.sk-toggleable__content {max-height: 0;max-width: 0;overflow: hidden;text-align: left;background-color: #f0f8ff;}#sk-container-id-16 div.sk-toggleable__content pre {margin: 0.2em;color: black;border-radius: 0.25em;background-color: #f0f8ff;}#sk-container-id-16 input.sk-toggleable__control:checked~div.sk-toggleable__content {max-height: 200px;max-width: 100%;overflow: auto;}#sk-container-id-16 input.sk-toggleable__control:checked~label.sk-toggleable__label-arrow:before {content: \"▾\";}#sk-container-id-16 div.sk-estimator input.sk-toggleable__control:checked~label.sk-toggleable__label {background-color: #d4ebff;}#sk-container-id-16 div.sk-label input.sk-toggleable__control:checked~label.sk-toggleable__label {background-color: #d4ebff;}#sk-container-id-16 input.sk-hidden--visually {border: 0;clip: rect(1px 1px 1px 1px);clip: rect(1px, 1px, 1px, 1px);height: 1px;margin: -1px;overflow: hidden;padding: 0;position: absolute;width: 1px;}#sk-container-id-16 div.sk-estimator {font-family: monospace;background-color: #f0f8ff;border: 1px dotted black;border-radius: 0.25em;box-sizing: border-box;margin-bottom: 0.5em;}#sk-container-id-16 div.sk-estimator:hover {background-color: #d4ebff;}#sk-container-id-16 div.sk-parallel-item::after {content: \"\";width: 100%;border-bottom: 1px solid gray;flex-grow: 1;}#sk-container-id-16 div.sk-label:hover label.sk-toggleable__label {background-color: #d4ebff;}#sk-container-id-16 div.sk-serial::before {content: \"\";position: absolute;border-left: 1px solid gray;box-sizing: border-box;top: 0;bottom: 0;left: 50%;z-index: 0;}#sk-container-id-16 div.sk-serial {display: flex;flex-direction: column;align-items: center;background-color: white;padding-right: 0.2em;padding-left: 0.2em;position: relative;}#sk-container-id-16 div.sk-item {position: relative;z-index: 1;}#sk-container-id-16 div.sk-parallel {display: flex;align-items: stretch;justify-content: center;background-color: white;position: relative;}#sk-container-id-16 div.sk-item::before, #sk-container-id-16 div.sk-parallel-item::before {content: \"\";position: absolute;border-left: 1px solid gray;box-sizing: border-box;top: 0;bottom: 0;left: 50%;z-index: -1;}#sk-container-id-16 div.sk-parallel-item {display: flex;flex-direction: column;z-index: 1;position: relative;background-color: white;}#sk-container-id-16 div.sk-parallel-item:first-child::after {align-self: flex-end;width: 50%;}#sk-container-id-16 div.sk-parallel-item:last-child::after {align-self: flex-start;width: 50%;}#sk-container-id-16 div.sk-parallel-item:only-child::after {width: 0;}#sk-container-id-16 div.sk-dashed-wrapped {border: 1px dashed gray;margin: 0 0.4em 0.5em 0.4em;box-sizing: border-box;padding-bottom: 0.4em;background-color: white;}#sk-container-id-16 div.sk-label label {font-family: monospace;font-weight: bold;display: inline-block;line-height: 1.2em;}#sk-container-id-16 div.sk-label-container {text-align: center;}#sk-container-id-16 div.sk-container {/* jupyter's `normalize.less` sets `[hidden] { display: none; }` but bootstrap.min.css set `[hidden] { display: none !important; }` so we also need the `!important` here to be able to override the default hidden behavior on the sphinx rendered scikit-learn.org. See: https://github.com/scikit-learn/scikit-learn/issues/21755 */display: inline-block !important;position: relative;}#sk-container-id-16 div.sk-text-repr-fallback {display: none;}</style><div id=\"sk-container-id-16\" class=\"sk-top-container\"><div class=\"sk-text-repr-fallback\"><pre>Pipeline(steps=[(&#x27;preprocessing&#x27;,\n",
       "                 ColumnTransformer(sparse_threshold=0,\n",
       "                                   transformers=[(&#x27;cat&#x27;,\n",
       "                                                  Pipeline(steps=[(&#x27;imputer&#x27;,\n",
       "                                                                   SimpleImputer(strategy=&#x27;most_frequent&#x27;))]),\n",
       "                                                  [&#x27;MGR_ID&#x27;, &#x27;ROLE_ROLLUP_1&#x27;,\n",
       "                                                   &#x27;ROLE_ROLLUP_2&#x27;,\n",
       "                                                   &#x27;ROLE_DEPTNAME&#x27;,\n",
       "                                                   &#x27;ROLE_TITLE&#x27;,\n",
       "                                                   &#x27;ROLE_FAMILY_DESC&#x27;,\n",
       "                                                   &#x27;ROLE_FAMILY&#x27;])])),\n",
       "                (&#x27;model&#x27;,\n",
       "                 &lt;catboost.core.CatBoostClassifier object at 0x000001E32188F6A0&gt;)])</pre><b>In a Jupyter environment, please rerun this cell to show the HTML representation or trust the notebook. <br />On GitHub, the HTML representation is unable to render, please try loading this page with nbviewer.org.</b></div><div class=\"sk-container\" hidden><div class=\"sk-item sk-dashed-wrapped\"><div class=\"sk-label-container\"><div class=\"sk-label sk-toggleable\"><input class=\"sk-toggleable__control sk-hidden--visually\" id=\"sk-estimator-id-96\" type=\"checkbox\" ><label for=\"sk-estimator-id-96\" class=\"sk-toggleable__label sk-toggleable__label-arrow\">Pipeline</label><div class=\"sk-toggleable__content\"><pre>Pipeline(steps=[(&#x27;preprocessing&#x27;,\n",
       "                 ColumnTransformer(sparse_threshold=0,\n",
       "                                   transformers=[(&#x27;cat&#x27;,\n",
       "                                                  Pipeline(steps=[(&#x27;imputer&#x27;,\n",
       "                                                                   SimpleImputer(strategy=&#x27;most_frequent&#x27;))]),\n",
       "                                                  [&#x27;MGR_ID&#x27;, &#x27;ROLE_ROLLUP_1&#x27;,\n",
       "                                                   &#x27;ROLE_ROLLUP_2&#x27;,\n",
       "                                                   &#x27;ROLE_DEPTNAME&#x27;,\n",
       "                                                   &#x27;ROLE_TITLE&#x27;,\n",
       "                                                   &#x27;ROLE_FAMILY_DESC&#x27;,\n",
       "                                                   &#x27;ROLE_FAMILY&#x27;])])),\n",
       "                (&#x27;model&#x27;,\n",
       "                 &lt;catboost.core.CatBoostClassifier object at 0x000001E32188F6A0&gt;)])</pre></div></div></div><div class=\"sk-serial\"><div class=\"sk-item sk-dashed-wrapped\"><div class=\"sk-label-container\"><div class=\"sk-label sk-toggleable\"><input class=\"sk-toggleable__control sk-hidden--visually\" id=\"sk-estimator-id-97\" type=\"checkbox\" ><label for=\"sk-estimator-id-97\" class=\"sk-toggleable__label sk-toggleable__label-arrow\">preprocessing: ColumnTransformer</label><div class=\"sk-toggleable__content\"><pre>ColumnTransformer(sparse_threshold=0,\n",
       "                  transformers=[(&#x27;cat&#x27;,\n",
       "                                 Pipeline(steps=[(&#x27;imputer&#x27;,\n",
       "                                                  SimpleImputer(strategy=&#x27;most_frequent&#x27;))]),\n",
       "                                 [&#x27;MGR_ID&#x27;, &#x27;ROLE_ROLLUP_1&#x27;, &#x27;ROLE_ROLLUP_2&#x27;,\n",
       "                                  &#x27;ROLE_DEPTNAME&#x27;, &#x27;ROLE_TITLE&#x27;,\n",
       "                                  &#x27;ROLE_FAMILY_DESC&#x27;, &#x27;ROLE_FAMILY&#x27;])])</pre></div></div></div><div class=\"sk-parallel\"><div class=\"sk-parallel-item\"><div class=\"sk-item\"><div class=\"sk-label-container\"><div class=\"sk-label sk-toggleable\"><input class=\"sk-toggleable__control sk-hidden--visually\" id=\"sk-estimator-id-98\" type=\"checkbox\" ><label for=\"sk-estimator-id-98\" class=\"sk-toggleable__label sk-toggleable__label-arrow\">cat</label><div class=\"sk-toggleable__content\"><pre>[&#x27;MGR_ID&#x27;, &#x27;ROLE_ROLLUP_1&#x27;, &#x27;ROLE_ROLLUP_2&#x27;, &#x27;ROLE_DEPTNAME&#x27;, &#x27;ROLE_TITLE&#x27;, &#x27;ROLE_FAMILY_DESC&#x27;, &#x27;ROLE_FAMILY&#x27;]</pre></div></div></div><div class=\"sk-serial\"><div class=\"sk-item\"><div class=\"sk-serial\"><div class=\"sk-item\"><div class=\"sk-estimator sk-toggleable\"><input class=\"sk-toggleable__control sk-hidden--visually\" id=\"sk-estimator-id-99\" type=\"checkbox\" ><label for=\"sk-estimator-id-99\" class=\"sk-toggleable__label sk-toggleable__label-arrow\">SimpleImputer</label><div class=\"sk-toggleable__content\"><pre>SimpleImputer(strategy=&#x27;most_frequent&#x27;)</pre></div></div></div></div></div></div></div></div></div></div><div class=\"sk-item\"><div class=\"sk-estimator sk-toggleable\"><input class=\"sk-toggleable__control sk-hidden--visually\" id=\"sk-estimator-id-100\" type=\"checkbox\" ><label for=\"sk-estimator-id-100\" class=\"sk-toggleable__label sk-toggleable__label-arrow\">CatBoostClassifier</label><div class=\"sk-toggleable__content\"><pre>&lt;catboost.core.CatBoostClassifier object at 0x000001E32188F6A0&gt;</pre></div></div></div></div></div></div></div>"
      ],
      "text/plain": [
       "Pipeline(steps=[('preprocessing',\n",
       "                 ColumnTransformer(sparse_threshold=0,\n",
       "                                   transformers=[('cat',\n",
       "                                                  Pipeline(steps=[('imputer',\n",
       "                                                                   SimpleImputer(strategy='most_frequent'))]),\n",
       "                                                  ['MGR_ID', 'ROLE_ROLLUP_1',\n",
       "                                                   'ROLE_ROLLUP_2',\n",
       "                                                   'ROLE_DEPTNAME',\n",
       "                                                   'ROLE_TITLE',\n",
       "                                                   'ROLE_FAMILY_DESC',\n",
       "                                                   'ROLE_FAMILY'])])),\n",
       "                ('model',\n",
       "                 <catboost.core.CatBoostClassifier object at 0x000001E32188F6A0>)])"
      ]
     },
     "execution_count": 101,
     "metadata": {},
     "output_type": "execute_result"
    }
   ],
   "source": [
    "# Display pipeline\n",
    "print(\"Time taken: \", catboost_default_time_taken)\n",
    "catboost_default"
   ]
  },
  {
   "cell_type": "code",
   "execution_count": 102,
   "id": "fb618d9e",
   "metadata": {},
   "outputs": [
    {
     "name": "stdout",
     "output_type": "stream",
     "text": [
      "Balanced accuracy with default parameters: 0.7874289240865968\n"
     ]
    }
   ],
   "source": [
    "# Calculate balanced accuracy for the model with default parameters\n",
    "y_catboost_default_pred = catboost_default.predict(X_test)\n",
    "catboost_default_accuracy = balanced_accuracy_score(y_test, y_catboost_default_pred)\n",
    "print(f'Balanced accuracy with default parameters: {catboost_default_accuracy}')\n",
    "\n",
    "# Save results\n",
    "default_summary.append(\"Default\")\n",
    "card_9_summary.append(\"AllVariables\")\n",
    "encoder_summary.append(\"CatboostNativeSupport\")\n",
    "early_stopping_summary.append(\"NoEarlyStopping\")\n",
    "value_summary.append(catboost_default_accuracy)\n",
    "time_summary.append(catboost_default_time_taken)\n",
    "n_models_summary.append(1)"
   ]
  },
  {
   "cell_type": "markdown",
   "id": "d1b7b275",
   "metadata": {},
   "source": []
  },
  {
   "cell_type": "code",
   "execution_count": 103,
   "id": "2966b551",
   "metadata": {},
   "outputs": [],
   "source": [
    "tic = time.time()\n",
    "\n",
    "catboost_tune = catboost_tune_raw.fit(X_train, y_train)\n",
    "\n",
    "toc = time.time()\n",
    "catboost_tune_time_taken = toc-tic"
   ]
  },
  {
   "cell_type": "code",
   "execution_count": 104,
   "id": "92de4d07",
   "metadata": {},
   "outputs": [
    {
     "name": "stdout",
     "output_type": "stream",
     "text": [
      "Time taken:  402.47630524635315\n"
     ]
    },
    {
     "data": {
      "text/html": [
       "<style>#sk-container-id-17 {color: black;}#sk-container-id-17 pre{padding: 0;}#sk-container-id-17 div.sk-toggleable {background-color: white;}#sk-container-id-17 label.sk-toggleable__label {cursor: pointer;display: block;width: 100%;margin-bottom: 0;padding: 0.3em;box-sizing: border-box;text-align: center;}#sk-container-id-17 label.sk-toggleable__label-arrow:before {content: \"▸\";float: left;margin-right: 0.25em;color: #696969;}#sk-container-id-17 label.sk-toggleable__label-arrow:hover:before {color: black;}#sk-container-id-17 div.sk-estimator:hover label.sk-toggleable__label-arrow:before {color: black;}#sk-container-id-17 div.sk-toggleable__content {max-height: 0;max-width: 0;overflow: hidden;text-align: left;background-color: #f0f8ff;}#sk-container-id-17 div.sk-toggleable__content pre {margin: 0.2em;color: black;border-radius: 0.25em;background-color: #f0f8ff;}#sk-container-id-17 input.sk-toggleable__control:checked~div.sk-toggleable__content {max-height: 200px;max-width: 100%;overflow: auto;}#sk-container-id-17 input.sk-toggleable__control:checked~label.sk-toggleable__label-arrow:before {content: \"▾\";}#sk-container-id-17 div.sk-estimator input.sk-toggleable__control:checked~label.sk-toggleable__label {background-color: #d4ebff;}#sk-container-id-17 div.sk-label input.sk-toggleable__control:checked~label.sk-toggleable__label {background-color: #d4ebff;}#sk-container-id-17 input.sk-hidden--visually {border: 0;clip: rect(1px 1px 1px 1px);clip: rect(1px, 1px, 1px, 1px);height: 1px;margin: -1px;overflow: hidden;padding: 0;position: absolute;width: 1px;}#sk-container-id-17 div.sk-estimator {font-family: monospace;background-color: #f0f8ff;border: 1px dotted black;border-radius: 0.25em;box-sizing: border-box;margin-bottom: 0.5em;}#sk-container-id-17 div.sk-estimator:hover {background-color: #d4ebff;}#sk-container-id-17 div.sk-parallel-item::after {content: \"\";width: 100%;border-bottom: 1px solid gray;flex-grow: 1;}#sk-container-id-17 div.sk-label:hover label.sk-toggleable__label {background-color: #d4ebff;}#sk-container-id-17 div.sk-serial::before {content: \"\";position: absolute;border-left: 1px solid gray;box-sizing: border-box;top: 0;bottom: 0;left: 50%;z-index: 0;}#sk-container-id-17 div.sk-serial {display: flex;flex-direction: column;align-items: center;background-color: white;padding-right: 0.2em;padding-left: 0.2em;position: relative;}#sk-container-id-17 div.sk-item {position: relative;z-index: 1;}#sk-container-id-17 div.sk-parallel {display: flex;align-items: stretch;justify-content: center;background-color: white;position: relative;}#sk-container-id-17 div.sk-item::before, #sk-container-id-17 div.sk-parallel-item::before {content: \"\";position: absolute;border-left: 1px solid gray;box-sizing: border-box;top: 0;bottom: 0;left: 50%;z-index: -1;}#sk-container-id-17 div.sk-parallel-item {display: flex;flex-direction: column;z-index: 1;position: relative;background-color: white;}#sk-container-id-17 div.sk-parallel-item:first-child::after {align-self: flex-end;width: 50%;}#sk-container-id-17 div.sk-parallel-item:last-child::after {align-self: flex-start;width: 50%;}#sk-container-id-17 div.sk-parallel-item:only-child::after {width: 0;}#sk-container-id-17 div.sk-dashed-wrapped {border: 1px dashed gray;margin: 0 0.4em 0.5em 0.4em;box-sizing: border-box;padding-bottom: 0.4em;background-color: white;}#sk-container-id-17 div.sk-label label {font-family: monospace;font-weight: bold;display: inline-block;line-height: 1.2em;}#sk-container-id-17 div.sk-label-container {text-align: center;}#sk-container-id-17 div.sk-container {/* jupyter's `normalize.less` sets `[hidden] { display: none; }` but bootstrap.min.css set `[hidden] { display: none !important; }` so we also need the `!important` here to be able to override the default hidden behavior on the sphinx rendered scikit-learn.org. See: https://github.com/scikit-learn/scikit-learn/issues/21755 */display: inline-block !important;position: relative;}#sk-container-id-17 div.sk-text-repr-fallback {display: none;}</style><div id=\"sk-container-id-17\" class=\"sk-top-container\"><div class=\"sk-text-repr-fallback\"><pre>RandomizedSearchCV(cv=StratifiedKFold(n_splits=3, random_state=1234, shuffle=True),\n",
       "                   estimator=Pipeline(steps=[(&#x27;preprocessing&#x27;,\n",
       "                                              ColumnTransformer(sparse_threshold=0,\n",
       "                                                                transformers=[(&#x27;cat&#x27;,\n",
       "                                                                               Pipeline(steps=[(&#x27;imputer&#x27;,\n",
       "                                                                                                SimpleImputer(strategy=&#x27;most_frequent&#x27;))]),\n",
       "                                                                               [&#x27;MGR_ID&#x27;,\n",
       "                                                                                &#x27;ROLE_ROLLUP_1&#x27;,\n",
       "                                                                                &#x27;ROLE_ROLLUP_2&#x27;,\n",
       "                                                                                &#x27;ROLE_DEPTNAME&#x27;,\n",
       "                                                                                &#x27;ROLE_TITLE&#x27;,\n",
       "                                                                                &#x27;ROLE_FAMILY_DESC&#x27;,\n",
       "                                                                                &#x27;ROLE_FA...\n",
       "                   param_distributions={&#x27;model__iterations&#x27;: &lt;scipy.stats._distn_infrastructure.rv_discrete_frozen object at 0x000001E32188FD30&gt;,\n",
       "                                        &#x27;model__learning_rate&#x27;: &lt;scipy.stats._distn_infrastructure.rv_continuous_frozen object at 0x000001E3216EC0A0&gt;,\n",
       "                                        &#x27;model__min_data_in_leaf&#x27;: &lt;scipy.stats._distn_infrastructure.rv_discrete_frozen object at 0x000001E3216ED6C0&gt;},\n",
       "                   random_state=1234, scoring=&#x27;balanced_accuracy&#x27;)</pre><b>In a Jupyter environment, please rerun this cell to show the HTML representation or trust the notebook. <br />On GitHub, the HTML representation is unable to render, please try loading this page with nbviewer.org.</b></div><div class=\"sk-container\" hidden><div class=\"sk-item sk-dashed-wrapped\"><div class=\"sk-label-container\"><div class=\"sk-label sk-toggleable\"><input class=\"sk-toggleable__control sk-hidden--visually\" id=\"sk-estimator-id-101\" type=\"checkbox\" ><label for=\"sk-estimator-id-101\" class=\"sk-toggleable__label sk-toggleable__label-arrow\">RandomizedSearchCV</label><div class=\"sk-toggleable__content\"><pre>RandomizedSearchCV(cv=StratifiedKFold(n_splits=3, random_state=1234, shuffle=True),\n",
       "                   estimator=Pipeline(steps=[(&#x27;preprocessing&#x27;,\n",
       "                                              ColumnTransformer(sparse_threshold=0,\n",
       "                                                                transformers=[(&#x27;cat&#x27;,\n",
       "                                                                               Pipeline(steps=[(&#x27;imputer&#x27;,\n",
       "                                                                                                SimpleImputer(strategy=&#x27;most_frequent&#x27;))]),\n",
       "                                                                               [&#x27;MGR_ID&#x27;,\n",
       "                                                                                &#x27;ROLE_ROLLUP_1&#x27;,\n",
       "                                                                                &#x27;ROLE_ROLLUP_2&#x27;,\n",
       "                                                                                &#x27;ROLE_DEPTNAME&#x27;,\n",
       "                                                                                &#x27;ROLE_TITLE&#x27;,\n",
       "                                                                                &#x27;ROLE_FAMILY_DESC&#x27;,\n",
       "                                                                                &#x27;ROLE_FA...\n",
       "                   param_distributions={&#x27;model__iterations&#x27;: &lt;scipy.stats._distn_infrastructure.rv_discrete_frozen object at 0x000001E32188FD30&gt;,\n",
       "                                        &#x27;model__learning_rate&#x27;: &lt;scipy.stats._distn_infrastructure.rv_continuous_frozen object at 0x000001E3216EC0A0&gt;,\n",
       "                                        &#x27;model__min_data_in_leaf&#x27;: &lt;scipy.stats._distn_infrastructure.rv_discrete_frozen object at 0x000001E3216ED6C0&gt;},\n",
       "                   random_state=1234, scoring=&#x27;balanced_accuracy&#x27;)</pre></div></div></div><div class=\"sk-parallel\"><div class=\"sk-parallel-item\"><div class=\"sk-item\"><div class=\"sk-label-container\"><div class=\"sk-label sk-toggleable\"><input class=\"sk-toggleable__control sk-hidden--visually\" id=\"sk-estimator-id-102\" type=\"checkbox\" ><label for=\"sk-estimator-id-102\" class=\"sk-toggleable__label sk-toggleable__label-arrow\">estimator: Pipeline</label><div class=\"sk-toggleable__content\"><pre>Pipeline(steps=[(&#x27;preprocessing&#x27;,\n",
       "                 ColumnTransformer(sparse_threshold=0,\n",
       "                                   transformers=[(&#x27;cat&#x27;,\n",
       "                                                  Pipeline(steps=[(&#x27;imputer&#x27;,\n",
       "                                                                   SimpleImputer(strategy=&#x27;most_frequent&#x27;))]),\n",
       "                                                  [&#x27;MGR_ID&#x27;, &#x27;ROLE_ROLLUP_1&#x27;,\n",
       "                                                   &#x27;ROLE_ROLLUP_2&#x27;,\n",
       "                                                   &#x27;ROLE_DEPTNAME&#x27;,\n",
       "                                                   &#x27;ROLE_TITLE&#x27;,\n",
       "                                                   &#x27;ROLE_FAMILY_DESC&#x27;,\n",
       "                                                   &#x27;ROLE_FAMILY&#x27;])])),\n",
       "                (&#x27;model&#x27;,\n",
       "                 &lt;catboost.core.CatBoostClassifier object at 0x000001E32188F6A0&gt;)])</pre></div></div></div><div class=\"sk-serial\"><div class=\"sk-item\"><div class=\"sk-serial\"><div class=\"sk-item sk-dashed-wrapped\"><div class=\"sk-label-container\"><div class=\"sk-label sk-toggleable\"><input class=\"sk-toggleable__control sk-hidden--visually\" id=\"sk-estimator-id-103\" type=\"checkbox\" ><label for=\"sk-estimator-id-103\" class=\"sk-toggleable__label sk-toggleable__label-arrow\">preprocessing: ColumnTransformer</label><div class=\"sk-toggleable__content\"><pre>ColumnTransformer(sparse_threshold=0,\n",
       "                  transformers=[(&#x27;cat&#x27;,\n",
       "                                 Pipeline(steps=[(&#x27;imputer&#x27;,\n",
       "                                                  SimpleImputer(strategy=&#x27;most_frequent&#x27;))]),\n",
       "                                 [&#x27;MGR_ID&#x27;, &#x27;ROLE_ROLLUP_1&#x27;, &#x27;ROLE_ROLLUP_2&#x27;,\n",
       "                                  &#x27;ROLE_DEPTNAME&#x27;, &#x27;ROLE_TITLE&#x27;,\n",
       "                                  &#x27;ROLE_FAMILY_DESC&#x27;, &#x27;ROLE_FAMILY&#x27;])])</pre></div></div></div><div class=\"sk-parallel\"><div class=\"sk-parallel-item\"><div class=\"sk-item\"><div class=\"sk-label-container\"><div class=\"sk-label sk-toggleable\"><input class=\"sk-toggleable__control sk-hidden--visually\" id=\"sk-estimator-id-104\" type=\"checkbox\" ><label for=\"sk-estimator-id-104\" class=\"sk-toggleable__label sk-toggleable__label-arrow\">cat</label><div class=\"sk-toggleable__content\"><pre>[&#x27;MGR_ID&#x27;, &#x27;ROLE_ROLLUP_1&#x27;, &#x27;ROLE_ROLLUP_2&#x27;, &#x27;ROLE_DEPTNAME&#x27;, &#x27;ROLE_TITLE&#x27;, &#x27;ROLE_FAMILY_DESC&#x27;, &#x27;ROLE_FAMILY&#x27;]</pre></div></div></div><div class=\"sk-serial\"><div class=\"sk-item\"><div class=\"sk-serial\"><div class=\"sk-item\"><div class=\"sk-estimator sk-toggleable\"><input class=\"sk-toggleable__control sk-hidden--visually\" id=\"sk-estimator-id-105\" type=\"checkbox\" ><label for=\"sk-estimator-id-105\" class=\"sk-toggleable__label sk-toggleable__label-arrow\">SimpleImputer</label><div class=\"sk-toggleable__content\"><pre>SimpleImputer(strategy=&#x27;most_frequent&#x27;)</pre></div></div></div></div></div></div></div></div></div></div><div class=\"sk-item\"><div class=\"sk-estimator sk-toggleable\"><input class=\"sk-toggleable__control sk-hidden--visually\" id=\"sk-estimator-id-106\" type=\"checkbox\" ><label for=\"sk-estimator-id-106\" class=\"sk-toggleable__label sk-toggleable__label-arrow\">CatBoostClassifier</label><div class=\"sk-toggleable__content\"><pre>&lt;catboost.core.CatBoostClassifier object at 0x000001E32188F6A0&gt;</pre></div></div></div></div></div></div></div></div></div></div></div></div>"
      ],
      "text/plain": [
       "RandomizedSearchCV(cv=StratifiedKFold(n_splits=3, random_state=1234, shuffle=True),\n",
       "                   estimator=Pipeline(steps=[('preprocessing',\n",
       "                                              ColumnTransformer(sparse_threshold=0,\n",
       "                                                                transformers=[('cat',\n",
       "                                                                               Pipeline(steps=[('imputer',\n",
       "                                                                                                SimpleImputer(strategy='most_frequent'))]),\n",
       "                                                                               ['MGR_ID',\n",
       "                                                                                'ROLE_ROLLUP_1',\n",
       "                                                                                'ROLE_ROLLUP_2',\n",
       "                                                                                'ROLE_DEPTNAME',\n",
       "                                                                                'ROLE_TITLE',\n",
       "                                                                                'ROLE_FAMILY_DESC',\n",
       "                                                                                'ROLE_FA...\n",
       "                   param_distributions={'model__iterations': <scipy.stats._distn_infrastructure.rv_discrete_frozen object at 0x000001E32188FD30>,\n",
       "                                        'model__learning_rate': <scipy.stats._distn_infrastructure.rv_continuous_frozen object at 0x000001E3216EC0A0>,\n",
       "                                        'model__min_data_in_leaf': <scipy.stats._distn_infrastructure.rv_discrete_frozen object at 0x000001E3216ED6C0>},\n",
       "                   random_state=1234, scoring='balanced_accuracy')"
      ]
     },
     "execution_count": 104,
     "metadata": {},
     "output_type": "execute_result"
    }
   ],
   "source": [
    "# Display pipeline\n",
    "print(\"Time taken: \", catboost_tune_time_taken)\n",
    "catboost_tune"
   ]
  },
  {
   "cell_type": "code",
   "execution_count": 105,
   "id": "436ef8ee",
   "metadata": {},
   "outputs": [
    {
     "name": "stdout",
     "output_type": "stream",
     "text": [
      "Best parameters: {'model__iterations': 375, 'model__learning_rate': 0.043568295272321145, 'model__min_data_in_leaf': 46}\n",
      "Balanced accuracy with best parameters: 0.7859269691461859\n"
     ]
    }
   ],
   "source": [
    "# Predict using the model with the best parameters\n",
    "y_catboost_tune_pred = catboost_tune.predict(X_test)\n",
    "\n",
    "# Get the best parameters\n",
    "catboost_tune_best_params = catboost_tune.best_params_\n",
    "print(f'Best parameters: {catboost_tune_best_params}')\n",
    "\n",
    "# Calculate balanced accuracy for the model with the best parameters\n",
    "catboost_tune_accuracy = balanced_accuracy_score(y_test, y_catboost_tune_pred)\n",
    "print(f'Balanced accuracy with best parameters: {catboost_tune_accuracy}')\n",
    "\n",
    "# Save results\n",
    "default_summary.append(\"Tune\")\n",
    "card_9_summary.append(\"AllVariables\")\n",
    "encoder_summary.append(\"CatboostNativeSupport\")\n",
    "early_stopping_summary.append(\"NoEarlyStopping\")\n",
    "value_summary.append(catboost_tune_accuracy)\n",
    "time_summary.append(catboost_tune_time_taken)\n",
    "n_models_summary.append(catboost_tune.n_iter)"
   ]
  },
  {
   "cell_type": "markdown",
   "metadata": {},
   "source": [
    "### Results Summary"
   ]
  },
  {
   "cell_type": "code",
   "execution_count": 106,
   "metadata": {},
   "outputs": [
    {
     "data": {
      "text/html": [
       "<div>\n",
       "<style scoped>\n",
       "    .dataframe tbody tr th:only-of-type {\n",
       "        vertical-align: middle;\n",
       "    }\n",
       "\n",
       "    .dataframe tbody tr th {\n",
       "        vertical-align: top;\n",
       "    }\n",
       "\n",
       "    .dataframe thead th {\n",
       "        text-align: right;\n",
       "    }\n",
       "</style>\n",
       "<table border=\"1\" class=\"dataframe\">\n",
       "  <thead>\n",
       "    <tr style=\"text-align: right;\">\n",
       "      <th></th>\n",
       "      <th>Dataset</th>\n",
       "      <th>Variables</th>\n",
       "      <th>Default/Tune</th>\n",
       "      <th>Encoder</th>\n",
       "      <th>EarlyStopping</th>\n",
       "      <th>Metric</th>\n",
       "      <th>Value</th>\n",
       "      <th>Time</th>\n",
       "      <th>Iterations</th>\n",
       "      <th>mean_Time</th>\n",
       "    </tr>\n",
       "  </thead>\n",
       "  <tbody>\n",
       "    <tr>\n",
       "      <th>0</th>\n",
       "      <td>Amazon_employee_access</td>\n",
       "      <td>AllVariables</td>\n",
       "      <td>Default</td>\n",
       "      <td>OneHotEncoding</td>\n",
       "      <td>NoEarlyStopping</td>\n",
       "      <td>BalancedAccuracy</td>\n",
       "      <td>0.779845</td>\n",
       "      <td>1536.977469</td>\n",
       "      <td>1</td>\n",
       "      <td>1536.977469</td>\n",
       "    </tr>\n",
       "    <tr>\n",
       "      <th>1</th>\n",
       "      <td>Amazon_employee_access</td>\n",
       "      <td>AllVariables</td>\n",
       "      <td>Default</td>\n",
       "      <td>OneHotEncoding</td>\n",
       "      <td>EarlyStopping</td>\n",
       "      <td>BalancedAccuracy</td>\n",
       "      <td>0.679509</td>\n",
       "      <td>27.379932</td>\n",
       "      <td>1</td>\n",
       "      <td>27.379932</td>\n",
       "    </tr>\n",
       "    <tr>\n",
       "      <th>2</th>\n",
       "      <td>Amazon_employee_access</td>\n",
       "      <td>AllVariables</td>\n",
       "      <td>Tune</td>\n",
       "      <td>OneHotEncoding</td>\n",
       "      <td>EarlyStopping</td>\n",
       "      <td>BalancedAccuracy</td>\n",
       "      <td>0.727181</td>\n",
       "      <td>332.487092</td>\n",
       "      <td>20</td>\n",
       "      <td>16.624355</td>\n",
       "    </tr>\n",
       "    <tr>\n",
       "      <th>3</th>\n",
       "      <td>Amazon_employee_access</td>\n",
       "      <td>AllVariables</td>\n",
       "      <td>Default</td>\n",
       "      <td>CountEncoding</td>\n",
       "      <td>NoEarlyStopping</td>\n",
       "      <td>BalancedAccuracy</td>\n",
       "      <td>0.780768</td>\n",
       "      <td>6.764506</td>\n",
       "      <td>1</td>\n",
       "      <td>6.764506</td>\n",
       "    </tr>\n",
       "    <tr>\n",
       "      <th>4</th>\n",
       "      <td>Amazon_employee_access</td>\n",
       "      <td>AllVariables</td>\n",
       "      <td>Default</td>\n",
       "      <td>CountEncoding</td>\n",
       "      <td>EarlyStopping</td>\n",
       "      <td>BalancedAccuracy</td>\n",
       "      <td>0.734409</td>\n",
       "      <td>2.482288</td>\n",
       "      <td>1</td>\n",
       "      <td>2.482288</td>\n",
       "    </tr>\n",
       "    <tr>\n",
       "      <th>5</th>\n",
       "      <td>Amazon_employee_access</td>\n",
       "      <td>AllVariables</td>\n",
       "      <td>Tune</td>\n",
       "      <td>CountEncoding</td>\n",
       "      <td>EarlyStopping</td>\n",
       "      <td>BalancedAccuracy</td>\n",
       "      <td>0.745613</td>\n",
       "      <td>9.740624</td>\n",
       "      <td>20</td>\n",
       "      <td>0.487031</td>\n",
       "    </tr>\n",
       "    <tr>\n",
       "      <th>6</th>\n",
       "      <td>Amazon_employee_access</td>\n",
       "      <td>AllVariables</td>\n",
       "      <td>Default</td>\n",
       "      <td>OrdinalEncoder</td>\n",
       "      <td>NoEarlyStopping</td>\n",
       "      <td>BalancedAccuracy</td>\n",
       "      <td>0.768769</td>\n",
       "      <td>5.074856</td>\n",
       "      <td>1</td>\n",
       "      <td>5.074856</td>\n",
       "    </tr>\n",
       "    <tr>\n",
       "      <th>7</th>\n",
       "      <td>Amazon_employee_access</td>\n",
       "      <td>AllVariables</td>\n",
       "      <td>Default</td>\n",
       "      <td>OrdinalEncoder</td>\n",
       "      <td>EarlyStopping</td>\n",
       "      <td>BalancedAccuracy</td>\n",
       "      <td>0.726619</td>\n",
       "      <td>1.051651</td>\n",
       "      <td>1</td>\n",
       "      <td>1.051651</td>\n",
       "    </tr>\n",
       "    <tr>\n",
       "      <th>8</th>\n",
       "      <td>Amazon_employee_access</td>\n",
       "      <td>AllVariables</td>\n",
       "      <td>Tune</td>\n",
       "      <td>OrdinalEncoder</td>\n",
       "      <td>EarlyStopping</td>\n",
       "      <td>BalancedAccuracy</td>\n",
       "      <td>0.702636</td>\n",
       "      <td>11.256572</td>\n",
       "      <td>20</td>\n",
       "      <td>0.562829</td>\n",
       "    </tr>\n",
       "    <tr>\n",
       "      <th>9</th>\n",
       "      <td>Amazon_employee_access</td>\n",
       "      <td>AllVariables</td>\n",
       "      <td>Default</td>\n",
       "      <td>HGB_NativeSupport</td>\n",
       "      <td>NoEarlyStopping</td>\n",
       "      <td>BalancedAccuracy</td>\n",
       "      <td>0.773059</td>\n",
       "      <td>8.802035</td>\n",
       "      <td>1</td>\n",
       "      <td>8.802035</td>\n",
       "    </tr>\n",
       "    <tr>\n",
       "      <th>10</th>\n",
       "      <td>Amazon_employee_access</td>\n",
       "      <td>AllVariables</td>\n",
       "      <td>Default</td>\n",
       "      <td>HGB_NativeSupport</td>\n",
       "      <td>EarlyStopping</td>\n",
       "      <td>BalancedAccuracy</td>\n",
       "      <td>0.773400</td>\n",
       "      <td>1.221976</td>\n",
       "      <td>1</td>\n",
       "      <td>1.221976</td>\n",
       "    </tr>\n",
       "    <tr>\n",
       "      <th>11</th>\n",
       "      <td>Amazon_employee_access</td>\n",
       "      <td>AllVariables</td>\n",
       "      <td>Tune</td>\n",
       "      <td>HGB_NativeSupport</td>\n",
       "      <td>EarlyStopping</td>\n",
       "      <td>BalancedAccuracy</td>\n",
       "      <td>0.764788</td>\n",
       "      <td>9.367207</td>\n",
       "      <td>20</td>\n",
       "      <td>0.468360</td>\n",
       "    </tr>\n",
       "    <tr>\n",
       "      <th>12</th>\n",
       "      <td>Amazon_employee_access</td>\n",
       "      <td>AllVariables</td>\n",
       "      <td>Default</td>\n",
       "      <td>TargetEncoder</td>\n",
       "      <td>NoEarlyStopping</td>\n",
       "      <td>BalancedAccuracy</td>\n",
       "      <td>0.649541</td>\n",
       "      <td>5.136350</td>\n",
       "      <td>1</td>\n",
       "      <td>5.136350</td>\n",
       "    </tr>\n",
       "    <tr>\n",
       "      <th>13</th>\n",
       "      <td>Amazon_employee_access</td>\n",
       "      <td>AllVariables</td>\n",
       "      <td>Default</td>\n",
       "      <td>TargetEncoder</td>\n",
       "      <td>EarlyStopping</td>\n",
       "      <td>BalancedAccuracy</td>\n",
       "      <td>0.766167</td>\n",
       "      <td>0.427215</td>\n",
       "      <td>1</td>\n",
       "      <td>0.427215</td>\n",
       "    </tr>\n",
       "    <tr>\n",
       "      <th>14</th>\n",
       "      <td>Amazon_employee_access</td>\n",
       "      <td>AllVariables</td>\n",
       "      <td>Tune</td>\n",
       "      <td>TargetEncoder</td>\n",
       "      <td>EarlyStopping</td>\n",
       "      <td>BalancedAccuracy</td>\n",
       "      <td>0.768814</td>\n",
       "      <td>7.525511</td>\n",
       "      <td>20</td>\n",
       "      <td>0.376276</td>\n",
       "    </tr>\n",
       "    <tr>\n",
       "      <th>15</th>\n",
       "      <td>Amazon_employee_access</td>\n",
       "      <td>AllVariables</td>\n",
       "      <td>Default</td>\n",
       "      <td>CatboostNativeSupport</td>\n",
       "      <td>NoEarlyStopping</td>\n",
       "      <td>BalancedAccuracy</td>\n",
       "      <td>0.787429</td>\n",
       "      <td>34.613198</td>\n",
       "      <td>1</td>\n",
       "      <td>34.613198</td>\n",
       "    </tr>\n",
       "    <tr>\n",
       "      <th>16</th>\n",
       "      <td>Amazon_employee_access</td>\n",
       "      <td>AllVariables</td>\n",
       "      <td>Tune</td>\n",
       "      <td>CatboostNativeSupport</td>\n",
       "      <td>NoEarlyStopping</td>\n",
       "      <td>BalancedAccuracy</td>\n",
       "      <td>0.785927</td>\n",
       "      <td>402.476305</td>\n",
       "      <td>20</td>\n",
       "      <td>20.123815</td>\n",
       "    </tr>\n",
       "  </tbody>\n",
       "</table>\n",
       "</div>"
      ],
      "text/plain": [
       "                   Dataset     Variables Default/Tune                Encoder  \\\n",
       "0   Amazon_employee_access  AllVariables      Default         OneHotEncoding   \n",
       "1   Amazon_employee_access  AllVariables      Default         OneHotEncoding   \n",
       "2   Amazon_employee_access  AllVariables         Tune         OneHotEncoding   \n",
       "3   Amazon_employee_access  AllVariables      Default          CountEncoding   \n",
       "4   Amazon_employee_access  AllVariables      Default          CountEncoding   \n",
       "5   Amazon_employee_access  AllVariables         Tune          CountEncoding   \n",
       "6   Amazon_employee_access  AllVariables      Default         OrdinalEncoder   \n",
       "7   Amazon_employee_access  AllVariables      Default         OrdinalEncoder   \n",
       "8   Amazon_employee_access  AllVariables         Tune         OrdinalEncoder   \n",
       "9   Amazon_employee_access  AllVariables      Default      HGB_NativeSupport   \n",
       "10  Amazon_employee_access  AllVariables      Default      HGB_NativeSupport   \n",
       "11  Amazon_employee_access  AllVariables         Tune      HGB_NativeSupport   \n",
       "12  Amazon_employee_access  AllVariables      Default          TargetEncoder   \n",
       "13  Amazon_employee_access  AllVariables      Default          TargetEncoder   \n",
       "14  Amazon_employee_access  AllVariables         Tune          TargetEncoder   \n",
       "15  Amazon_employee_access  AllVariables      Default  CatboostNativeSupport   \n",
       "16  Amazon_employee_access  AllVariables         Tune  CatboostNativeSupport   \n",
       "\n",
       "      EarlyStopping            Metric     Value         Time  Iterations  \\\n",
       "0   NoEarlyStopping  BalancedAccuracy  0.779845  1536.977469           1   \n",
       "1     EarlyStopping  BalancedAccuracy  0.679509    27.379932           1   \n",
       "2     EarlyStopping  BalancedAccuracy  0.727181   332.487092          20   \n",
       "3   NoEarlyStopping  BalancedAccuracy  0.780768     6.764506           1   \n",
       "4     EarlyStopping  BalancedAccuracy  0.734409     2.482288           1   \n",
       "5     EarlyStopping  BalancedAccuracy  0.745613     9.740624          20   \n",
       "6   NoEarlyStopping  BalancedAccuracy  0.768769     5.074856           1   \n",
       "7     EarlyStopping  BalancedAccuracy  0.726619     1.051651           1   \n",
       "8     EarlyStopping  BalancedAccuracy  0.702636    11.256572          20   \n",
       "9   NoEarlyStopping  BalancedAccuracy  0.773059     8.802035           1   \n",
       "10    EarlyStopping  BalancedAccuracy  0.773400     1.221976           1   \n",
       "11    EarlyStopping  BalancedAccuracy  0.764788     9.367207          20   \n",
       "12  NoEarlyStopping  BalancedAccuracy  0.649541     5.136350           1   \n",
       "13    EarlyStopping  BalancedAccuracy  0.766167     0.427215           1   \n",
       "14    EarlyStopping  BalancedAccuracy  0.768814     7.525511          20   \n",
       "15  NoEarlyStopping  BalancedAccuracy  0.787429    34.613198           1   \n",
       "16  NoEarlyStopping  BalancedAccuracy  0.785927   402.476305          20   \n",
       "\n",
       "      mean_Time  \n",
       "0   1536.977469  \n",
       "1     27.379932  \n",
       "2     16.624355  \n",
       "3      6.764506  \n",
       "4      2.482288  \n",
       "5      0.487031  \n",
       "6      5.074856  \n",
       "7      1.051651  \n",
       "8      0.562829  \n",
       "9      8.802035  \n",
       "10     1.221976  \n",
       "11     0.468360  \n",
       "12     5.136350  \n",
       "13     0.427215  \n",
       "14     0.376276  \n",
       "15    34.613198  \n",
       "16    20.123815  "
      ]
     },
     "execution_count": 106,
     "metadata": {},
     "output_type": "execute_result"
    }
   ],
   "source": [
    "results_summary = pd.DataFrame({\"Dataset\":\"Amazon_employee_access\",\n",
    "                                \"Variables\":card_9_summary,\n",
    "                                \"Default/Tune\":default_summary,\n",
    "                                \"Encoder\":encoder_summary,\n",
    "                                \"EarlyStopping\":early_stopping_summary,\n",
    "                                \"Metric\":\"BalancedAccuracy\",\n",
    "                                \"Value\":value_summary,\n",
    "                                \"Time\":time_summary,\n",
    "                                \"Iterations\":n_models_summary})\n",
    "results_summary[\"mean_Time\"] = (results_summary[\"Time\"] / results_summary[\"Iterations\"])\n",
    "results_summary"
   ]
  },
  {
   "cell_type": "code",
   "execution_count": 107,
   "metadata": {},
   "outputs": [],
   "source": [
    "results_summary.to_excel(\"Amazon_Employee_Access_results.xlsx\")"
   ]
  }
 ],
 "metadata": {
  "kernelspec": {
   "display_name": "Python 3 (ipykernel)",
   "language": "python",
   "name": "python3"
  },
  "language_info": {
   "codemirror_mode": {
    "name": "ipython",
    "version": 3
   },
   "file_extension": ".py",
   "mimetype": "text/x-python",
   "name": "python",
   "nbconvert_exporter": "python",
   "pygments_lexer": "ipython3",
   "version": "3.10.10"
  }
 },
 "nbformat": 4,
 "nbformat_minor": 5
}
