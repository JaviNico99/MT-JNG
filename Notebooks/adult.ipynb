{
 "cells": [
  {
   "cell_type": "markdown",
   "metadata": {},
   "source": [
    "# \"Adult\" Dataset"
   ]
  },
  {
   "cell_type": "code",
   "execution_count": 1,
   "id": "60f5dfa4",
   "metadata": {},
   "outputs": [],
   "source": [
    "# data manipulation\n",
    "from scipy.io import arff\n",
    "import pandas as pd\n",
    "import numpy as np\n",
    "from scipy.stats import chi2_contingency"
   ]
  },
  {
   "cell_type": "code",
   "execution_count": 2,
   "id": "c9fd1af0",
   "metadata": {},
   "outputs": [],
   "source": [
    "from sklearn.datasets import fetch_openml\n",
    "\n",
    "data = fetch_openml(data_id=1590, parser='auto')\n",
    "\n",
    "# The returned dataset is a Bunch object, similar to a dictionary\n",
    "X = data['data']\n",
    "y = data['target']"
   ]
  },
  {
   "cell_type": "code",
   "execution_count": 3,
   "metadata": {},
   "outputs": [],
   "source": [
    "# Summary vectors creation\n",
    "\n",
    "default_summary  = []\n",
    "encoder_summary  = []\n",
    "value_summary    = []\n",
    "time_summary     = []\n",
    "n_models_summary = []\n",
    "card_9_summary   = []"
   ]
  },
  {
   "cell_type": "code",
   "execution_count": 4,
   "id": "27451de4",
   "metadata": {},
   "outputs": [
    {
     "data": {
      "text/html": [
       "<div>\n",
       "<style scoped>\n",
       "    .dataframe tbody tr th:only-of-type {\n",
       "        vertical-align: middle;\n",
       "    }\n",
       "\n",
       "    .dataframe tbody tr th {\n",
       "        vertical-align: top;\n",
       "    }\n",
       "\n",
       "    .dataframe thead th {\n",
       "        text-align: right;\n",
       "    }\n",
       "</style>\n",
       "<table border=\"1\" class=\"dataframe\">\n",
       "  <thead>\n",
       "    <tr style=\"text-align: right;\">\n",
       "      <th></th>\n",
       "      <th>age</th>\n",
       "      <th>workclass</th>\n",
       "      <th>fnlwgt</th>\n",
       "      <th>education</th>\n",
       "      <th>education-num</th>\n",
       "      <th>marital-status</th>\n",
       "      <th>occupation</th>\n",
       "      <th>relationship</th>\n",
       "      <th>race</th>\n",
       "      <th>sex</th>\n",
       "      <th>capital-gain</th>\n",
       "      <th>capital-loss</th>\n",
       "      <th>hours-per-week</th>\n",
       "      <th>native-country</th>\n",
       "    </tr>\n",
       "  </thead>\n",
       "  <tbody>\n",
       "    <tr>\n",
       "      <th>0</th>\n",
       "      <td>25</td>\n",
       "      <td>Private</td>\n",
       "      <td>226802</td>\n",
       "      <td>11th</td>\n",
       "      <td>7</td>\n",
       "      <td>Never-married</td>\n",
       "      <td>Machine-op-inspct</td>\n",
       "      <td>Own-child</td>\n",
       "      <td>Black</td>\n",
       "      <td>Male</td>\n",
       "      <td>0</td>\n",
       "      <td>0</td>\n",
       "      <td>40</td>\n",
       "      <td>United-States</td>\n",
       "    </tr>\n",
       "    <tr>\n",
       "      <th>1</th>\n",
       "      <td>38</td>\n",
       "      <td>Private</td>\n",
       "      <td>89814</td>\n",
       "      <td>HS-grad</td>\n",
       "      <td>9</td>\n",
       "      <td>Married-civ-spouse</td>\n",
       "      <td>Farming-fishing</td>\n",
       "      <td>Husband</td>\n",
       "      <td>White</td>\n",
       "      <td>Male</td>\n",
       "      <td>0</td>\n",
       "      <td>0</td>\n",
       "      <td>50</td>\n",
       "      <td>United-States</td>\n",
       "    </tr>\n",
       "    <tr>\n",
       "      <th>2</th>\n",
       "      <td>28</td>\n",
       "      <td>Local-gov</td>\n",
       "      <td>336951</td>\n",
       "      <td>Assoc-acdm</td>\n",
       "      <td>12</td>\n",
       "      <td>Married-civ-spouse</td>\n",
       "      <td>Protective-serv</td>\n",
       "      <td>Husband</td>\n",
       "      <td>White</td>\n",
       "      <td>Male</td>\n",
       "      <td>0</td>\n",
       "      <td>0</td>\n",
       "      <td>40</td>\n",
       "      <td>United-States</td>\n",
       "    </tr>\n",
       "    <tr>\n",
       "      <th>3</th>\n",
       "      <td>44</td>\n",
       "      <td>Private</td>\n",
       "      <td>160323</td>\n",
       "      <td>Some-college</td>\n",
       "      <td>10</td>\n",
       "      <td>Married-civ-spouse</td>\n",
       "      <td>Machine-op-inspct</td>\n",
       "      <td>Husband</td>\n",
       "      <td>Black</td>\n",
       "      <td>Male</td>\n",
       "      <td>7688</td>\n",
       "      <td>0</td>\n",
       "      <td>40</td>\n",
       "      <td>United-States</td>\n",
       "    </tr>\n",
       "    <tr>\n",
       "      <th>4</th>\n",
       "      <td>18</td>\n",
       "      <td>NaN</td>\n",
       "      <td>103497</td>\n",
       "      <td>Some-college</td>\n",
       "      <td>10</td>\n",
       "      <td>Never-married</td>\n",
       "      <td>NaN</td>\n",
       "      <td>Own-child</td>\n",
       "      <td>White</td>\n",
       "      <td>Female</td>\n",
       "      <td>0</td>\n",
       "      <td>0</td>\n",
       "      <td>30</td>\n",
       "      <td>United-States</td>\n",
       "    </tr>\n",
       "  </tbody>\n",
       "</table>\n",
       "</div>"
      ],
      "text/plain": [
       "   age  workclass  fnlwgt     education  education-num      marital-status  \\\n",
       "0   25    Private  226802          11th              7       Never-married   \n",
       "1   38    Private   89814       HS-grad              9  Married-civ-spouse   \n",
       "2   28  Local-gov  336951    Assoc-acdm             12  Married-civ-spouse   \n",
       "3   44    Private  160323  Some-college             10  Married-civ-spouse   \n",
       "4   18        NaN  103497  Some-college             10       Never-married   \n",
       "\n",
       "          occupation relationship   race     sex  capital-gain  capital-loss  \\\n",
       "0  Machine-op-inspct    Own-child  Black    Male             0             0   \n",
       "1    Farming-fishing      Husband  White    Male             0             0   \n",
       "2    Protective-serv      Husband  White    Male             0             0   \n",
       "3  Machine-op-inspct      Husband  Black    Male          7688             0   \n",
       "4                NaN    Own-child  White  Female             0             0   \n",
       "\n",
       "   hours-per-week native-country  \n",
       "0              40  United-States  \n",
       "1              50  United-States  \n",
       "2              40  United-States  \n",
       "3              40  United-States  \n",
       "4              30  United-States  "
      ]
     },
     "execution_count": 4,
     "metadata": {},
     "output_type": "execute_result"
    }
   ],
   "source": [
    "X.head()"
   ]
  },
  {
   "cell_type": "code",
   "execution_count": 5,
   "id": "41ddd271",
   "metadata": {
    "scrolled": true
   },
   "outputs": [
    {
     "name": "stdout",
     "output_type": "stream",
     "text": [
      "<class 'pandas.core.frame.DataFrame'>\n",
      "RangeIndex: 48842 entries, 0 to 48841\n",
      "Data columns (total 14 columns):\n",
      " #   Column          Non-Null Count  Dtype   \n",
      "---  ------          --------------  -----   \n",
      " 0   age             48842 non-null  int64   \n",
      " 1   workclass       46043 non-null  category\n",
      " 2   fnlwgt          48842 non-null  int64   \n",
      " 3   education       48842 non-null  category\n",
      " 4   education-num   48842 non-null  int64   \n",
      " 5   marital-status  48842 non-null  category\n",
      " 6   occupation      46033 non-null  category\n",
      " 7   relationship    48842 non-null  category\n",
      " 8   race            48842 non-null  category\n",
      " 9   sex             48842 non-null  category\n",
      " 10  capital-gain    48842 non-null  int64   \n",
      " 11  capital-loss    48842 non-null  int64   \n",
      " 12  hours-per-week  48842 non-null  int64   \n",
      " 13  native-country  47985 non-null  category\n",
      "dtypes: category(8), int64(6)\n",
      "memory usage: 2.6 MB\n"
     ]
    }
   ],
   "source": [
    "X.info()"
   ]
  },
  {
   "cell_type": "code",
   "execution_count": 6,
   "id": "fdd9bf0f",
   "metadata": {
    "scrolled": true
   },
   "outputs": [
    {
     "data": {
      "text/plain": [
       "(48842, 14)"
      ]
     },
     "execution_count": 6,
     "metadata": {},
     "output_type": "execute_result"
    }
   ],
   "source": [
    "X.shape"
   ]
  },
  {
   "cell_type": "code",
   "execution_count": 7,
   "id": "c564e688",
   "metadata": {
    "scrolled": true
   },
   "outputs": [
    {
     "data": {
      "text/html": [
       "<div>\n",
       "<style scoped>\n",
       "    .dataframe tbody tr th:only-of-type {\n",
       "        vertical-align: middle;\n",
       "    }\n",
       "\n",
       "    .dataframe tbody tr th {\n",
       "        vertical-align: top;\n",
       "    }\n",
       "\n",
       "    .dataframe thead th {\n",
       "        text-align: right;\n",
       "    }\n",
       "</style>\n",
       "<table border=\"1\" class=\"dataframe\">\n",
       "  <thead>\n",
       "    <tr style=\"text-align: right;\">\n",
       "      <th></th>\n",
       "      <th>age</th>\n",
       "      <th>fnlwgt</th>\n",
       "      <th>education-num</th>\n",
       "      <th>capital-gain</th>\n",
       "      <th>capital-loss</th>\n",
       "      <th>hours-per-week</th>\n",
       "    </tr>\n",
       "  </thead>\n",
       "  <tbody>\n",
       "    <tr>\n",
       "      <th>count</th>\n",
       "      <td>48842.000000</td>\n",
       "      <td>4.884200e+04</td>\n",
       "      <td>48842.000000</td>\n",
       "      <td>48842.000000</td>\n",
       "      <td>48842.000000</td>\n",
       "      <td>48842.000000</td>\n",
       "    </tr>\n",
       "    <tr>\n",
       "      <th>mean</th>\n",
       "      <td>38.643585</td>\n",
       "      <td>1.896641e+05</td>\n",
       "      <td>10.078089</td>\n",
       "      <td>1079.067626</td>\n",
       "      <td>87.502314</td>\n",
       "      <td>40.422382</td>\n",
       "    </tr>\n",
       "    <tr>\n",
       "      <th>std</th>\n",
       "      <td>13.710510</td>\n",
       "      <td>1.056040e+05</td>\n",
       "      <td>2.570973</td>\n",
       "      <td>7452.019058</td>\n",
       "      <td>403.004552</td>\n",
       "      <td>12.391444</td>\n",
       "    </tr>\n",
       "    <tr>\n",
       "      <th>min</th>\n",
       "      <td>17.000000</td>\n",
       "      <td>1.228500e+04</td>\n",
       "      <td>1.000000</td>\n",
       "      <td>0.000000</td>\n",
       "      <td>0.000000</td>\n",
       "      <td>1.000000</td>\n",
       "    </tr>\n",
       "    <tr>\n",
       "      <th>25%</th>\n",
       "      <td>28.000000</td>\n",
       "      <td>1.175505e+05</td>\n",
       "      <td>9.000000</td>\n",
       "      <td>0.000000</td>\n",
       "      <td>0.000000</td>\n",
       "      <td>40.000000</td>\n",
       "    </tr>\n",
       "    <tr>\n",
       "      <th>50%</th>\n",
       "      <td>37.000000</td>\n",
       "      <td>1.781445e+05</td>\n",
       "      <td>10.000000</td>\n",
       "      <td>0.000000</td>\n",
       "      <td>0.000000</td>\n",
       "      <td>40.000000</td>\n",
       "    </tr>\n",
       "    <tr>\n",
       "      <th>75%</th>\n",
       "      <td>48.000000</td>\n",
       "      <td>2.376420e+05</td>\n",
       "      <td>12.000000</td>\n",
       "      <td>0.000000</td>\n",
       "      <td>0.000000</td>\n",
       "      <td>45.000000</td>\n",
       "    </tr>\n",
       "    <tr>\n",
       "      <th>max</th>\n",
       "      <td>90.000000</td>\n",
       "      <td>1.490400e+06</td>\n",
       "      <td>16.000000</td>\n",
       "      <td>99999.000000</td>\n",
       "      <td>4356.000000</td>\n",
       "      <td>99.000000</td>\n",
       "    </tr>\n",
       "  </tbody>\n",
       "</table>\n",
       "</div>"
      ],
      "text/plain": [
       "                age        fnlwgt  education-num  capital-gain  capital-loss  \\\n",
       "count  48842.000000  4.884200e+04   48842.000000  48842.000000  48842.000000   \n",
       "mean      38.643585  1.896641e+05      10.078089   1079.067626     87.502314   \n",
       "std       13.710510  1.056040e+05       2.570973   7452.019058    403.004552   \n",
       "min       17.000000  1.228500e+04       1.000000      0.000000      0.000000   \n",
       "25%       28.000000  1.175505e+05       9.000000      0.000000      0.000000   \n",
       "50%       37.000000  1.781445e+05      10.000000      0.000000      0.000000   \n",
       "75%       48.000000  2.376420e+05      12.000000      0.000000      0.000000   \n",
       "max       90.000000  1.490400e+06      16.000000  99999.000000   4356.000000   \n",
       "\n",
       "       hours-per-week  \n",
       "count    48842.000000  \n",
       "mean        40.422382  \n",
       "std         12.391444  \n",
       "min          1.000000  \n",
       "25%         40.000000  \n",
       "50%         40.000000  \n",
       "75%         45.000000  \n",
       "max         99.000000  "
      ]
     },
     "execution_count": 7,
     "metadata": {},
     "output_type": "execute_result"
    }
   ],
   "source": [
    "X.describe()"
   ]
  },
  {
   "cell_type": "code",
   "execution_count": 8,
   "id": "e2c1207c",
   "metadata": {},
   "outputs": [],
   "source": [
    "X_columns = [col.replace('-','_') for col in X.columns]\n",
    "X.columns = X_columns"
   ]
  },
  {
   "cell_type": "markdown",
   "id": "fdeddd2d",
   "metadata": {},
   "source": []
  },
  {
   "cell_type": "markdown",
   "id": "22ab8869",
   "metadata": {},
   "source": [
    "## Variables"
   ]
  },
  {
   "cell_type": "markdown",
   "id": "1564186b",
   "metadata": {},
   "source": [
    "We can observe that the variables **education** and **education_num** are completely correlated. We observe that for each value of **education**, there does not exist more than one value of **education_num** and vice versa. Then, we confirm our statement with a chi-squared test to confirm the 'correlation' between the two variables."
   ]
  },
  {
   "cell_type": "code",
   "execution_count": 9,
   "id": "8f272392",
   "metadata": {},
   "outputs": [
    {
     "name": "stdout",
     "output_type": "stream",
     "text": [
      "Max education_num for each education: 1\n"
     ]
    }
   ],
   "source": [
    "X_copy = X.copy()\n",
    "X_copy['education_num'] = X_copy['education_num'].astype(str)\n",
    "\n",
    "ncode_forrole = X_copy.groupby('education', as_index=False, observed=True)['education_num'].nunique()\n",
    "max_rolecode = np.max(ncode_forrole['education_num'])\n",
    "print(f'Max education_num for each education: {max_rolecode}')"
   ]
  },
  {
   "cell_type": "code",
   "execution_count": 10,
   "id": "8ac1dec6",
   "metadata": {},
   "outputs": [
    {
     "name": "stdout",
     "output_type": "stream",
     "text": [
      "Max education for each education_num: 1\n"
     ]
    }
   ],
   "source": [
    "ncode_forrole = X_copy.groupby('education_num', as_index=False, observed=True)['education'].nunique()\n",
    "max_rolecode = np.max(ncode_forrole['education'])\n",
    "print(f'Max education for each education_num: {max_rolecode}')"
   ]
  },
  {
   "cell_type": "code",
   "execution_count": 11,
   "id": "e4b5bf4e",
   "metadata": {},
   "outputs": [
    {
     "name": "stdout",
     "output_type": "stream",
     "text": [
      "chi-squared value: 732630.0\n",
      "p-value: 0.0\n"
     ]
    }
   ],
   "source": [
    "contingency_table = pd.crosstab(X_copy['education'], X_copy['education_num'])\n",
    "\n",
    "# Realizar la prueba chi-cuadrado\n",
    "chi2, p_valor, _, _ = chi2_contingency(contingency_table)\n",
    "\n",
    "print(f\"chi-squared value: {chi2}\")\n",
    "print(f\"p-value: {p_valor}\")"
   ]
  },
  {
   "cell_type": "code",
   "execution_count": 12,
   "id": "2ce0ac59",
   "metadata": {},
   "outputs": [],
   "source": [
    "X = X.drop('education_num', axis=1)"
   ]
  },
  {
   "cell_type": "markdown",
   "id": "8a850463",
   "metadata": {},
   "source": [
    "## Study of NA's"
   ]
  },
  {
   "cell_type": "code",
   "execution_count": 13,
   "metadata": {},
   "outputs": [
    {
     "data": {
      "text/html": [
       "<div>\n",
       "<style scoped>\n",
       "    .dataframe tbody tr th:only-of-type {\n",
       "        vertical-align: middle;\n",
       "    }\n",
       "\n",
       "    .dataframe tbody tr th {\n",
       "        vertical-align: top;\n",
       "    }\n",
       "\n",
       "    .dataframe thead th {\n",
       "        text-align: right;\n",
       "    }\n",
       "</style>\n",
       "<table border=\"1\" class=\"dataframe\">\n",
       "  <thead>\n",
       "    <tr style=\"text-align: right;\">\n",
       "      <th></th>\n",
       "      <th>Count</th>\n",
       "      <th>Proportion</th>\n",
       "    </tr>\n",
       "  </thead>\n",
       "  <tbody>\n",
       "    <tr>\n",
       "      <th>occupation</th>\n",
       "      <td>2809</td>\n",
       "      <td>5.751198</td>\n",
       "    </tr>\n",
       "    <tr>\n",
       "      <th>workclass</th>\n",
       "      <td>2799</td>\n",
       "      <td>5.730724</td>\n",
       "    </tr>\n",
       "    <tr>\n",
       "      <th>native_country</th>\n",
       "      <td>857</td>\n",
       "      <td>1.754637</td>\n",
       "    </tr>\n",
       "    <tr>\n",
       "      <th>age</th>\n",
       "      <td>0</td>\n",
       "      <td>0.000000</td>\n",
       "    </tr>\n",
       "    <tr>\n",
       "      <th>fnlwgt</th>\n",
       "      <td>0</td>\n",
       "      <td>0.000000</td>\n",
       "    </tr>\n",
       "    <tr>\n",
       "      <th>education</th>\n",
       "      <td>0</td>\n",
       "      <td>0.000000</td>\n",
       "    </tr>\n",
       "    <tr>\n",
       "      <th>marital_status</th>\n",
       "      <td>0</td>\n",
       "      <td>0.000000</td>\n",
       "    </tr>\n",
       "    <tr>\n",
       "      <th>relationship</th>\n",
       "      <td>0</td>\n",
       "      <td>0.000000</td>\n",
       "    </tr>\n",
       "    <tr>\n",
       "      <th>race</th>\n",
       "      <td>0</td>\n",
       "      <td>0.000000</td>\n",
       "    </tr>\n",
       "    <tr>\n",
       "      <th>sex</th>\n",
       "      <td>0</td>\n",
       "      <td>0.000000</td>\n",
       "    </tr>\n",
       "    <tr>\n",
       "      <th>capital_gain</th>\n",
       "      <td>0</td>\n",
       "      <td>0.000000</td>\n",
       "    </tr>\n",
       "    <tr>\n",
       "      <th>capital_loss</th>\n",
       "      <td>0</td>\n",
       "      <td>0.000000</td>\n",
       "    </tr>\n",
       "    <tr>\n",
       "      <th>hours_per_week</th>\n",
       "      <td>0</td>\n",
       "      <td>0.000000</td>\n",
       "    </tr>\n",
       "  </tbody>\n",
       "</table>\n",
       "</div>"
      ],
      "text/plain": [
       "                Count  Proportion\n",
       "occupation       2809    5.751198\n",
       "workclass        2799    5.730724\n",
       "native_country    857    1.754637\n",
       "age                 0    0.000000\n",
       "fnlwgt              0    0.000000\n",
       "education           0    0.000000\n",
       "marital_status      0    0.000000\n",
       "relationship        0    0.000000\n",
       "race                0    0.000000\n",
       "sex                 0    0.000000\n",
       "capital_gain        0    0.000000\n",
       "capital_loss        0    0.000000\n",
       "hours_per_week      0    0.000000"
      ]
     },
     "execution_count": 13,
     "metadata": {},
     "output_type": "execute_result"
    }
   ],
   "source": [
    "pd.DataFrame({\n",
    "    'Count':X.isna().sum().sort_values(ascending = False),\n",
    "    'Proportion':(X.isna().sum().sort_values(ascending = False)/len(X))*100\n",
    "})"
   ]
  },
  {
   "cell_type": "markdown",
   "id": "7387acd9",
   "metadata": {},
   "source": [
    "As can be seen, there are three features with np.nan values."
   ]
  },
  {
   "cell_type": "markdown",
   "id": "655e679a",
   "metadata": {},
   "source": [
    "## Type of Variables"
   ]
  },
  {
   "cell_type": "code",
   "execution_count": 14,
   "id": "a46ef234",
   "metadata": {},
   "outputs": [
    {
     "name": "stdout",
     "output_type": "stream",
     "text": [
      "Numeric columns: 5\n",
      "Binary columns: 0\n"
     ]
    }
   ],
   "source": [
    "num_cols = X.select_dtypes(exclude=['object','category']).columns\n",
    "binary_cols = [col for col in X.columns if X[col].isin([0, 1, 0.0, 1.0]).all()]\n",
    "num_cols = [num_col for num_col in num_cols if num_col not in binary_cols]\n",
    "\n",
    "print(f'Numeric columns: {len(num_cols)}')\n",
    "print(f'Binary columns: {len(binary_cols)}')"
   ]
  },
  {
   "cell_type": "code",
   "execution_count": 15,
   "id": "b5839e68",
   "metadata": {},
   "outputs": [
    {
     "name": "stdout",
     "output_type": "stream",
     "text": [
      "Category columns: 8\n"
     ]
    }
   ],
   "source": [
    "cat_columns = X.select_dtypes(include=['category']).columns\n",
    "print(f'Category columns: {len(cat_columns)}')"
   ]
  },
  {
   "cell_type": "markdown",
   "id": "d1d3230f",
   "metadata": {},
   "source": [
    "General review of the values of all variables."
   ]
  },
  {
   "cell_type": "code",
   "execution_count": 16,
   "id": "4f246eb2",
   "metadata": {},
   "outputs": [
    {
     "data": {
      "text/plain": [
       "native_country    41\n",
       "education         16\n",
       "occupation        14\n",
       "workclass          8\n",
       "marital_status     7\n",
       "relationship       6\n",
       "race               5\n",
       "sex                2\n",
       "dtype: int64"
      ]
     },
     "execution_count": 16,
     "metadata": {},
     "output_type": "execute_result"
    }
   ],
   "source": [
    "X[cat_columns].apply(lambda col: col.nunique()).sort_values(ascending=False)"
   ]
  },
  {
   "cell_type": "markdown",
   "id": "befa1f00",
   "metadata": {},
   "source": [
    "## Value counts of the variables with more cardinality"
   ]
  },
  {
   "cell_type": "markdown",
   "id": "373bdb51",
   "metadata": {},
   "source": [
    "#### education"
   ]
  },
  {
   "cell_type": "code",
   "execution_count": 17,
   "id": "51613df7",
   "metadata": {
    "scrolled": true
   },
   "outputs": [
    {
     "data": {
      "text/plain": [
       "education\n",
       "HS-grad         15784\n",
       "Some-college    10878\n",
       "Bachelors        8025\n",
       "Masters          2657\n",
       "Assoc-voc        2061\n",
       "11th             1812\n",
       "Assoc-acdm       1601\n",
       "10th             1389\n",
       "7th-8th           955\n",
       "Prof-school       834\n",
       "9th               756\n",
       "12th              657\n",
       "Doctorate         594\n",
       "5th-6th           509\n",
       "1st-4th           247\n",
       "Preschool          83\n",
       "Name: count, dtype: int64"
      ]
     },
     "execution_count": 17,
     "metadata": {},
     "output_type": "execute_result"
    }
   ],
   "source": [
    "X.education.value_counts()[0:50]"
   ]
  },
  {
   "cell_type": "markdown",
   "id": "0b9a7c5f",
   "metadata": {},
   "source": [
    "#### occupation"
   ]
  },
  {
   "cell_type": "code",
   "execution_count": 18,
   "id": "0af8cf29",
   "metadata": {},
   "outputs": [
    {
     "data": {
      "text/plain": [
       "occupation\n",
       "Prof-specialty       6172\n",
       "Craft-repair         6112\n",
       "Exec-managerial      6086\n",
       "Adm-clerical         5611\n",
       "Sales                5504\n",
       "Other-service        4923\n",
       "Machine-op-inspct    3022\n",
       "Transport-moving     2355\n",
       "Handlers-cleaners    2072\n",
       "Farming-fishing      1490\n",
       "Name: count, dtype: int64"
      ]
     },
     "execution_count": 18,
     "metadata": {},
     "output_type": "execute_result"
    }
   ],
   "source": [
    "X.occupation.value_counts()[0:10]"
   ]
  },
  {
   "cell_type": "markdown",
   "id": "5e640dd7",
   "metadata": {},
   "source": [
    "#### workclass"
   ]
  },
  {
   "cell_type": "code",
   "execution_count": 19,
   "id": "2703be4c",
   "metadata": {},
   "outputs": [
    {
     "data": {
      "text/plain": [
       "workclass\n",
       "Private             33906\n",
       "Self-emp-not-inc     3862\n",
       "Local-gov            3136\n",
       "State-gov            1981\n",
       "Self-emp-inc         1695\n",
       "Federal-gov          1432\n",
       "Without-pay            21\n",
       "Never-worked           10\n",
       "Name: count, dtype: int64"
      ]
     },
     "execution_count": 19,
     "metadata": {},
     "output_type": "execute_result"
    }
   ],
   "source": [
    "X.workclass.value_counts()[0:10]"
   ]
  },
  {
   "cell_type": "markdown",
   "id": "9edec00b",
   "metadata": {},
   "source": [
    "## Response variable distribution"
   ]
  },
  {
   "cell_type": "code",
   "execution_count": 20,
   "id": "3e9ebab7",
   "metadata": {},
   "outputs": [
    {
     "data": {
      "text/plain": [
       "0    0\n",
       "1    0\n",
       "2    1\n",
       "3    1\n",
       "4    0\n",
       "Name: class, dtype: category\n",
       "Categories (2, int64): [0, 1]"
      ]
     },
     "execution_count": 20,
     "metadata": {},
     "output_type": "execute_result"
    }
   ],
   "source": [
    "y = y.replace({'<=50K': 0, '>50K': 1})\n",
    "y.head()"
   ]
  },
  {
   "cell_type": "code",
   "execution_count": 21,
   "id": "b91f1181",
   "metadata": {},
   "outputs": [
    {
     "data": {
      "text/plain": [
       "class\n",
       "0    37155\n",
       "1    11687\n",
       "Name: count, dtype: int64"
      ]
     },
     "execution_count": 21,
     "metadata": {},
     "output_type": "execute_result"
    }
   ],
   "source": [
    "y.value_counts()"
   ]
  },
  {
   "cell_type": "code",
   "execution_count": 22,
   "id": "3b9ee832",
   "metadata": {},
   "outputs": [
    {
     "data": {
      "text/plain": [
       "class\n",
       "0    0.760718\n",
       "1    0.239282\n",
       "Name: proportion, dtype: float64"
      ]
     },
     "execution_count": 22,
     "metadata": {},
     "output_type": "execute_result"
    }
   ],
   "source": [
    "y.value_counts(normalize=True)"
   ]
  },
  {
   "cell_type": "markdown",
   "id": "9be21378",
   "metadata": {},
   "source": [
    "## Train-Test Split"
   ]
  },
  {
   "cell_type": "code",
   "execution_count": 23,
   "id": "89692b0b",
   "metadata": {},
   "outputs": [],
   "source": [
    "from sklearn.model_selection import train_test_split"
   ]
  },
  {
   "cell_type": "code",
   "execution_count": 24,
   "id": "c3bdc944",
   "metadata": {},
   "outputs": [],
   "source": [
    "X_train, X_test, y_train, y_test = train_test_split(X,y, \n",
    "                                                    test_size = 0.33, \n",
    "                                                    random_state = 42,\n",
    "                                                    stratify = y)"
   ]
  },
  {
   "cell_type": "markdown",
   "id": "3db2e0d9",
   "metadata": {},
   "source": [
    "## Pipelines "
   ]
  },
  {
   "cell_type": "code",
   "execution_count": 25,
   "id": "5d53bd83",
   "metadata": {},
   "outputs": [],
   "source": [
    "from sklearn.pipeline import Pipeline\n",
    "from sklearn.compose import ColumnTransformer\n",
    "\n",
    "from sklearn.experimental import enable_iterative_imputer\n",
    "from sklearn.impute import IterativeImputer, SimpleImputer\n",
    "from sklearn.preprocessing import OneHotEncoder\n",
    "\n",
    "from sklearn.ensemble import RandomForestRegressor\n",
    "from sklearn.ensemble import HistGradientBoostingClassifier\n",
    "\n",
    "from sklearn.metrics import balanced_accuracy_score\n",
    "\n",
    "import scipy.stats\n",
    "from sklearn.model_selection import StratifiedKFold\n",
    "from sklearn.model_selection import RandomizedSearchCV\n",
    "\n",
    "import time"
   ]
  },
  {
   "cell_type": "code",
   "execution_count": 26,
   "id": "ffd7fde4",
   "metadata": {},
   "outputs": [],
   "source": [
    "num_cols = X_train.select_dtypes(include=['number']).columns.to_list()\n",
    "cat_cols = X_train.select_dtypes(include=['category']).columns.to_list()\n",
    "\n",
    "cat_cols_less9 = [col for col in cat_cols if X[col].nunique() <= 9]\n",
    "cat_cols_more9 = [col for col in cat_cols if X[col].nunique() > 9]"
   ]
  },
  {
   "cell_type": "code",
   "execution_count": 27,
   "id": "8940ee7a",
   "metadata": {},
   "outputs": [],
   "source": [
    "# Define the HistGradientBoostingClassifier models\n",
    "hgb_default = HistGradientBoostingClassifier(random_state=1234,\n",
    "                                             early_stopping=False,\n",
    "                                             min_samples_leaf = 30,\n",
    "                                             scoring='balanced_accuracy',\n",
    "                                             class_weight='balanced')\n",
    "\n",
    "hgb_default9 = HistGradientBoostingClassifier(random_state=1234,\n",
    "                                              early_stopping=False,\n",
    "                                              min_samples_leaf = 30,                                              \n",
    "                                              scoring='balanced_accuracy',\n",
    "                                              class_weight='balanced')\n",
    "\n",
    "# Define the hyperparameter search space\n",
    "param_distributions = {\n",
    "    'model__max_iter': scipy.stats.randint(10, 300),\n",
    "    'model__learning_rate': scipy.stats.uniform(0.01, 0.3),\n",
    "    'model__min_samples_leaf': scipy.stats.randint(10, 50),\n",
    "}\n",
    "\n",
    "# Create a StratifiedKFold cross-validation instance\n",
    "stratified_kfold = StratifiedKFold(n_splits=3, shuffle=True, random_state=1234)"
   ]
  },
  {
   "cell_type": "markdown",
   "id": "6f393bd6",
   "metadata": {},
   "source": [
    "### One Hot Encoding + HistGradientBoosting"
   ]
  },
  {
   "cell_type": "markdown",
   "id": "bfa2707e",
   "metadata": {},
   "source": [
    "#### Preprocessing"
   ]
  },
  {
   "cell_type": "code",
   "execution_count": 28,
   "id": "5e34dd74",
   "metadata": {},
   "outputs": [],
   "source": [
    "num_pipeline = Pipeline([\n",
    "    (\"imputer\", SimpleImputer(strategy = \"median\"))\n",
    "])\n",
    "\n",
    "cat_pipeline = Pipeline([\n",
    "    (\"imputer\", SimpleImputer(strategy = \"most_frequent\")),\n",
    "    (\"encoder\", OneHotEncoder(drop = \"first\", handle_unknown = \"ignore\"))\n",
    "])\n",
    "\n",
    "preprop_pipeline = ColumnTransformer(\n",
    "    transformers = [(\"num\", num_pipeline, num_cols),\n",
    "                    (\"one_hot\", cat_pipeline, cat_cols)],\n",
    "    sparse_threshold=0\n",
    ")"
   ]
  },
  {
   "cell_type": "markdown",
   "id": "a5810fcc",
   "metadata": {},
   "source": [
    "#### Create a HistGradientBoostingClassifier model with default parameters and early stopping"
   ]
  },
  {
   "cell_type": "code",
   "execution_count": 29,
   "id": "1bb9245b",
   "metadata": {},
   "outputs": [],
   "source": [
    "ohe_hgb_default_pipeline = Pipeline([('preprocessing', preprop_pipeline),\n",
    "                                     ('model', hgb_default)])"
   ]
  },
  {
   "cell_type": "code",
   "execution_count": 30,
   "metadata": {},
   "outputs": [],
   "source": [
    "tic = time.time()\n",
    "\n",
    "ohe_hgb_default = ohe_hgb_default_pipeline.fit(X_train, y_train)\n",
    "\n",
    "toc = time.time()\n",
    "ohe_hgb_default_time_taken = toc-tic"
   ]
  },
  {
   "cell_type": "code",
   "execution_count": 31,
   "metadata": {},
   "outputs": [
    {
     "name": "stdout",
     "output_type": "stream",
     "text": [
      "Time taken:  2.6192383766174316\n"
     ]
    },
    {
     "data": {
      "text/html": [
       "<style>#sk-container-id-1 {color: black;}#sk-container-id-1 pre{padding: 0;}#sk-container-id-1 div.sk-toggleable {background-color: white;}#sk-container-id-1 label.sk-toggleable__label {cursor: pointer;display: block;width: 100%;margin-bottom: 0;padding: 0.3em;box-sizing: border-box;text-align: center;}#sk-container-id-1 label.sk-toggleable__label-arrow:before {content: \"▸\";float: left;margin-right: 0.25em;color: #696969;}#sk-container-id-1 label.sk-toggleable__label-arrow:hover:before {color: black;}#sk-container-id-1 div.sk-estimator:hover label.sk-toggleable__label-arrow:before {color: black;}#sk-container-id-1 div.sk-toggleable__content {max-height: 0;max-width: 0;overflow: hidden;text-align: left;background-color: #f0f8ff;}#sk-container-id-1 div.sk-toggleable__content pre {margin: 0.2em;color: black;border-radius: 0.25em;background-color: #f0f8ff;}#sk-container-id-1 input.sk-toggleable__control:checked~div.sk-toggleable__content {max-height: 200px;max-width: 100%;overflow: auto;}#sk-container-id-1 input.sk-toggleable__control:checked~label.sk-toggleable__label-arrow:before {content: \"▾\";}#sk-container-id-1 div.sk-estimator input.sk-toggleable__control:checked~label.sk-toggleable__label {background-color: #d4ebff;}#sk-container-id-1 div.sk-label input.sk-toggleable__control:checked~label.sk-toggleable__label {background-color: #d4ebff;}#sk-container-id-1 input.sk-hidden--visually {border: 0;clip: rect(1px 1px 1px 1px);clip: rect(1px, 1px, 1px, 1px);height: 1px;margin: -1px;overflow: hidden;padding: 0;position: absolute;width: 1px;}#sk-container-id-1 div.sk-estimator {font-family: monospace;background-color: #f0f8ff;border: 1px dotted black;border-radius: 0.25em;box-sizing: border-box;margin-bottom: 0.5em;}#sk-container-id-1 div.sk-estimator:hover {background-color: #d4ebff;}#sk-container-id-1 div.sk-parallel-item::after {content: \"\";width: 100%;border-bottom: 1px solid gray;flex-grow: 1;}#sk-container-id-1 div.sk-label:hover label.sk-toggleable__label {background-color: #d4ebff;}#sk-container-id-1 div.sk-serial::before {content: \"\";position: absolute;border-left: 1px solid gray;box-sizing: border-box;top: 0;bottom: 0;left: 50%;z-index: 0;}#sk-container-id-1 div.sk-serial {display: flex;flex-direction: column;align-items: center;background-color: white;padding-right: 0.2em;padding-left: 0.2em;position: relative;}#sk-container-id-1 div.sk-item {position: relative;z-index: 1;}#sk-container-id-1 div.sk-parallel {display: flex;align-items: stretch;justify-content: center;background-color: white;position: relative;}#sk-container-id-1 div.sk-item::before, #sk-container-id-1 div.sk-parallel-item::before {content: \"\";position: absolute;border-left: 1px solid gray;box-sizing: border-box;top: 0;bottom: 0;left: 50%;z-index: -1;}#sk-container-id-1 div.sk-parallel-item {display: flex;flex-direction: column;z-index: 1;position: relative;background-color: white;}#sk-container-id-1 div.sk-parallel-item:first-child::after {align-self: flex-end;width: 50%;}#sk-container-id-1 div.sk-parallel-item:last-child::after {align-self: flex-start;width: 50%;}#sk-container-id-1 div.sk-parallel-item:only-child::after {width: 0;}#sk-container-id-1 div.sk-dashed-wrapped {border: 1px dashed gray;margin: 0 0.4em 0.5em 0.4em;box-sizing: border-box;padding-bottom: 0.4em;background-color: white;}#sk-container-id-1 div.sk-label label {font-family: monospace;font-weight: bold;display: inline-block;line-height: 1.2em;}#sk-container-id-1 div.sk-label-container {text-align: center;}#sk-container-id-1 div.sk-container {/* jupyter's `normalize.less` sets `[hidden] { display: none; }` but bootstrap.min.css set `[hidden] { display: none !important; }` so we also need the `!important` here to be able to override the default hidden behavior on the sphinx rendered scikit-learn.org. See: https://github.com/scikit-learn/scikit-learn/issues/21755 */display: inline-block !important;position: relative;}#sk-container-id-1 div.sk-text-repr-fallback {display: none;}</style><div id=\"sk-container-id-1\" class=\"sk-top-container\"><div class=\"sk-text-repr-fallback\"><pre>Pipeline(steps=[(&#x27;preprocessing&#x27;,\n",
       "                 ColumnTransformer(sparse_threshold=0,\n",
       "                                   transformers=[(&#x27;num&#x27;,\n",
       "                                                  Pipeline(steps=[(&#x27;imputer&#x27;,\n",
       "                                                                   SimpleImputer(strategy=&#x27;median&#x27;))]),\n",
       "                                                  [&#x27;age&#x27;, &#x27;fnlwgt&#x27;,\n",
       "                                                   &#x27;capital_gain&#x27;,\n",
       "                                                   &#x27;capital_loss&#x27;,\n",
       "                                                   &#x27;hours_per_week&#x27;]),\n",
       "                                                 (&#x27;one_hot&#x27;,\n",
       "                                                  Pipeline(steps=[(&#x27;imputer&#x27;,\n",
       "                                                                   SimpleImputer(strategy=&#x27;most_frequent&#x27;)),\n",
       "                                                                  (&#x27;encoder&#x27;,\n",
       "                                                                   OneHotEncoder(drop=&#x27;first&#x27;,\n",
       "                                                                                 handle_unknown=&#x27;ignore&#x27;))]),\n",
       "                                                  [&#x27;workclass&#x27;, &#x27;education&#x27;,\n",
       "                                                   &#x27;marital_status&#x27;,\n",
       "                                                   &#x27;occupation&#x27;, &#x27;relationship&#x27;,\n",
       "                                                   &#x27;race&#x27;, &#x27;sex&#x27;,\n",
       "                                                   &#x27;native_country&#x27;])])),\n",
       "                (&#x27;model&#x27;,\n",
       "                 HistGradientBoostingClassifier(class_weight=&#x27;balanced&#x27;,\n",
       "                                                early_stopping=False,\n",
       "                                                min_samples_leaf=30,\n",
       "                                                random_state=1234,\n",
       "                                                scoring=&#x27;balanced_accuracy&#x27;))])</pre><b>In a Jupyter environment, please rerun this cell to show the HTML representation or trust the notebook. <br />On GitHub, the HTML representation is unable to render, please try loading this page with nbviewer.org.</b></div><div class=\"sk-container\" hidden><div class=\"sk-item sk-dashed-wrapped\"><div class=\"sk-label-container\"><div class=\"sk-label sk-toggleable\"><input class=\"sk-toggleable__control sk-hidden--visually\" id=\"sk-estimator-id-1\" type=\"checkbox\" ><label for=\"sk-estimator-id-1\" class=\"sk-toggleable__label sk-toggleable__label-arrow\">Pipeline</label><div class=\"sk-toggleable__content\"><pre>Pipeline(steps=[(&#x27;preprocessing&#x27;,\n",
       "                 ColumnTransformer(sparse_threshold=0,\n",
       "                                   transformers=[(&#x27;num&#x27;,\n",
       "                                                  Pipeline(steps=[(&#x27;imputer&#x27;,\n",
       "                                                                   SimpleImputer(strategy=&#x27;median&#x27;))]),\n",
       "                                                  [&#x27;age&#x27;, &#x27;fnlwgt&#x27;,\n",
       "                                                   &#x27;capital_gain&#x27;,\n",
       "                                                   &#x27;capital_loss&#x27;,\n",
       "                                                   &#x27;hours_per_week&#x27;]),\n",
       "                                                 (&#x27;one_hot&#x27;,\n",
       "                                                  Pipeline(steps=[(&#x27;imputer&#x27;,\n",
       "                                                                   SimpleImputer(strategy=&#x27;most_frequent&#x27;)),\n",
       "                                                                  (&#x27;encoder&#x27;,\n",
       "                                                                   OneHotEncoder(drop=&#x27;first&#x27;,\n",
       "                                                                                 handle_unknown=&#x27;ignore&#x27;))]),\n",
       "                                                  [&#x27;workclass&#x27;, &#x27;education&#x27;,\n",
       "                                                   &#x27;marital_status&#x27;,\n",
       "                                                   &#x27;occupation&#x27;, &#x27;relationship&#x27;,\n",
       "                                                   &#x27;race&#x27;, &#x27;sex&#x27;,\n",
       "                                                   &#x27;native_country&#x27;])])),\n",
       "                (&#x27;model&#x27;,\n",
       "                 HistGradientBoostingClassifier(class_weight=&#x27;balanced&#x27;,\n",
       "                                                early_stopping=False,\n",
       "                                                min_samples_leaf=30,\n",
       "                                                random_state=1234,\n",
       "                                                scoring=&#x27;balanced_accuracy&#x27;))])</pre></div></div></div><div class=\"sk-serial\"><div class=\"sk-item sk-dashed-wrapped\"><div class=\"sk-label-container\"><div class=\"sk-label sk-toggleable\"><input class=\"sk-toggleable__control sk-hidden--visually\" id=\"sk-estimator-id-2\" type=\"checkbox\" ><label for=\"sk-estimator-id-2\" class=\"sk-toggleable__label sk-toggleable__label-arrow\">preprocessing: ColumnTransformer</label><div class=\"sk-toggleable__content\"><pre>ColumnTransformer(sparse_threshold=0,\n",
       "                  transformers=[(&#x27;num&#x27;,\n",
       "                                 Pipeline(steps=[(&#x27;imputer&#x27;,\n",
       "                                                  SimpleImputer(strategy=&#x27;median&#x27;))]),\n",
       "                                 [&#x27;age&#x27;, &#x27;fnlwgt&#x27;, &#x27;capital_gain&#x27;,\n",
       "                                  &#x27;capital_loss&#x27;, &#x27;hours_per_week&#x27;]),\n",
       "                                (&#x27;one_hot&#x27;,\n",
       "                                 Pipeline(steps=[(&#x27;imputer&#x27;,\n",
       "                                                  SimpleImputer(strategy=&#x27;most_frequent&#x27;)),\n",
       "                                                 (&#x27;encoder&#x27;,\n",
       "                                                  OneHotEncoder(drop=&#x27;first&#x27;,\n",
       "                                                                handle_unknown=&#x27;ignore&#x27;))]),\n",
       "                                 [&#x27;workclass&#x27;, &#x27;education&#x27;, &#x27;marital_status&#x27;,\n",
       "                                  &#x27;occupation&#x27;, &#x27;relationship&#x27;, &#x27;race&#x27;, &#x27;sex&#x27;,\n",
       "                                  &#x27;native_country&#x27;])])</pre></div></div></div><div class=\"sk-parallel\"><div class=\"sk-parallel-item\"><div class=\"sk-item\"><div class=\"sk-label-container\"><div class=\"sk-label sk-toggleable\"><input class=\"sk-toggleable__control sk-hidden--visually\" id=\"sk-estimator-id-3\" type=\"checkbox\" ><label for=\"sk-estimator-id-3\" class=\"sk-toggleable__label sk-toggleable__label-arrow\">num</label><div class=\"sk-toggleable__content\"><pre>[&#x27;age&#x27;, &#x27;fnlwgt&#x27;, &#x27;capital_gain&#x27;, &#x27;capital_loss&#x27;, &#x27;hours_per_week&#x27;]</pre></div></div></div><div class=\"sk-serial\"><div class=\"sk-item\"><div class=\"sk-serial\"><div class=\"sk-item\"><div class=\"sk-estimator sk-toggleable\"><input class=\"sk-toggleable__control sk-hidden--visually\" id=\"sk-estimator-id-4\" type=\"checkbox\" ><label for=\"sk-estimator-id-4\" class=\"sk-toggleable__label sk-toggleable__label-arrow\">SimpleImputer</label><div class=\"sk-toggleable__content\"><pre>SimpleImputer(strategy=&#x27;median&#x27;)</pre></div></div></div></div></div></div></div></div><div class=\"sk-parallel-item\"><div class=\"sk-item\"><div class=\"sk-label-container\"><div class=\"sk-label sk-toggleable\"><input class=\"sk-toggleable__control sk-hidden--visually\" id=\"sk-estimator-id-5\" type=\"checkbox\" ><label for=\"sk-estimator-id-5\" class=\"sk-toggleable__label sk-toggleable__label-arrow\">one_hot</label><div class=\"sk-toggleable__content\"><pre>[&#x27;workclass&#x27;, &#x27;education&#x27;, &#x27;marital_status&#x27;, &#x27;occupation&#x27;, &#x27;relationship&#x27;, &#x27;race&#x27;, &#x27;sex&#x27;, &#x27;native_country&#x27;]</pre></div></div></div><div class=\"sk-serial\"><div class=\"sk-item\"><div class=\"sk-serial\"><div class=\"sk-item\"><div class=\"sk-estimator sk-toggleable\"><input class=\"sk-toggleable__control sk-hidden--visually\" id=\"sk-estimator-id-6\" type=\"checkbox\" ><label for=\"sk-estimator-id-6\" class=\"sk-toggleable__label sk-toggleable__label-arrow\">SimpleImputer</label><div class=\"sk-toggleable__content\"><pre>SimpleImputer(strategy=&#x27;most_frequent&#x27;)</pre></div></div></div><div class=\"sk-item\"><div class=\"sk-estimator sk-toggleable\"><input class=\"sk-toggleable__control sk-hidden--visually\" id=\"sk-estimator-id-7\" type=\"checkbox\" ><label for=\"sk-estimator-id-7\" class=\"sk-toggleable__label sk-toggleable__label-arrow\">OneHotEncoder</label><div class=\"sk-toggleable__content\"><pre>OneHotEncoder(drop=&#x27;first&#x27;, handle_unknown=&#x27;ignore&#x27;)</pre></div></div></div></div></div></div></div></div></div></div><div class=\"sk-item\"><div class=\"sk-estimator sk-toggleable\"><input class=\"sk-toggleable__control sk-hidden--visually\" id=\"sk-estimator-id-8\" type=\"checkbox\" ><label for=\"sk-estimator-id-8\" class=\"sk-toggleable__label sk-toggleable__label-arrow\">HistGradientBoostingClassifier</label><div class=\"sk-toggleable__content\"><pre>HistGradientBoostingClassifier(class_weight=&#x27;balanced&#x27;, early_stopping=False,\n",
       "                               min_samples_leaf=30, random_state=1234,\n",
       "                               scoring=&#x27;balanced_accuracy&#x27;)</pre></div></div></div></div></div></div></div>"
      ],
      "text/plain": [
       "Pipeline(steps=[('preprocessing',\n",
       "                 ColumnTransformer(sparse_threshold=0,\n",
       "                                   transformers=[('num',\n",
       "                                                  Pipeline(steps=[('imputer',\n",
       "                                                                   SimpleImputer(strategy='median'))]),\n",
       "                                                  ['age', 'fnlwgt',\n",
       "                                                   'capital_gain',\n",
       "                                                   'capital_loss',\n",
       "                                                   'hours_per_week']),\n",
       "                                                 ('one_hot',\n",
       "                                                  Pipeline(steps=[('imputer',\n",
       "                                                                   SimpleImputer(strategy='most_frequent')),\n",
       "                                                                  ('encoder',\n",
       "                                                                   OneHotEncoder(drop='first',\n",
       "                                                                                 handle_unknown='ignore'))]),\n",
       "                                                  ['workclass', 'education',\n",
       "                                                   'marital_status',\n",
       "                                                   'occupation', 'relationship',\n",
       "                                                   'race', 'sex',\n",
       "                                                   'native_country'])])),\n",
       "                ('model',\n",
       "                 HistGradientBoostingClassifier(class_weight='balanced',\n",
       "                                                early_stopping=False,\n",
       "                                                min_samples_leaf=30,\n",
       "                                                random_state=1234,\n",
       "                                                scoring='balanced_accuracy'))])"
      ]
     },
     "execution_count": 31,
     "metadata": {},
     "output_type": "execute_result"
    }
   ],
   "source": [
    "# Display pipeline\n",
    "print(\"Time taken: \", ohe_hgb_default_time_taken)\n",
    "ohe_hgb_default"
   ]
  },
  {
   "cell_type": "code",
   "execution_count": 32,
   "id": "ee554470",
   "metadata": {},
   "outputs": [
    {
     "name": "stdout",
     "output_type": "stream",
     "text": [
      "Balanced accuracy with default parameters: 0.8428120726628634\n"
     ]
    }
   ],
   "source": [
    "# # Calculate balanced accuracy for the model with default parameters\n",
    "y_ohe_hgb_default_pred = ohe_hgb_default.predict(X_test)\n",
    "ohe_hgb_default_accuracy = balanced_accuracy_score(y_test, y_ohe_hgb_default_pred)\n",
    "print(f'Balanced accuracy with default parameters: {ohe_hgb_default_accuracy}')\n",
    "\n",
    "# Save results\n",
    "default_summary.append(\"Default\")\n",
    "card_9_summary.append(\"AllVariables\")\n",
    "encoder_summary.append(\"OneHotEncoding\")\n",
    "value_summary.append(ohe_hgb_default_accuracy)\n",
    "time_summary.append(ohe_hgb_default_time_taken)\n",
    "n_models_summary.append(1)"
   ]
  },
  {
   "cell_type": "markdown",
   "id": "f858e758",
   "metadata": {},
   "source": [
    "#### Create a HistGradientBoostingClassifier model for tuning"
   ]
  },
  {
   "cell_type": "code",
   "execution_count": 33,
   "id": "41dc2ce8",
   "metadata": {},
   "outputs": [],
   "source": [
    "ohe_hgb_tune = RandomizedSearchCV(estimator = ohe_hgb_default_pipeline, \n",
    "                                  param_distributions = param_distributions, \n",
    "                                  n_iter = 100,\n",
    "                                  cv = stratified_kfold,\n",
    "                                  scoring = 'balanced_accuracy', \n",
    "                                  random_state = 1234,\n",
    "                                  n_jobs = -1)"
   ]
  },
  {
   "cell_type": "code",
   "execution_count": 34,
   "metadata": {},
   "outputs": [],
   "source": [
    "tic = time.time()\n",
    "\n",
    "ohe_hgb_tune = ohe_hgb_tune.fit(X_train, y_train)\n",
    "\n",
    "toc = time.time()\n",
    "ohe_hgb_tune_time_taken = toc-tic"
   ]
  },
  {
   "cell_type": "code",
   "execution_count": 35,
   "metadata": {},
   "outputs": [
    {
     "name": "stdout",
     "output_type": "stream",
     "text": [
      "Time taken:  220.5205156803131\n"
     ]
    },
    {
     "data": {
      "text/html": [
       "<style>#sk-container-id-2 {color: black;}#sk-container-id-2 pre{padding: 0;}#sk-container-id-2 div.sk-toggleable {background-color: white;}#sk-container-id-2 label.sk-toggleable__label {cursor: pointer;display: block;width: 100%;margin-bottom: 0;padding: 0.3em;box-sizing: border-box;text-align: center;}#sk-container-id-2 label.sk-toggleable__label-arrow:before {content: \"▸\";float: left;margin-right: 0.25em;color: #696969;}#sk-container-id-2 label.sk-toggleable__label-arrow:hover:before {color: black;}#sk-container-id-2 div.sk-estimator:hover label.sk-toggleable__label-arrow:before {color: black;}#sk-container-id-2 div.sk-toggleable__content {max-height: 0;max-width: 0;overflow: hidden;text-align: left;background-color: #f0f8ff;}#sk-container-id-2 div.sk-toggleable__content pre {margin: 0.2em;color: black;border-radius: 0.25em;background-color: #f0f8ff;}#sk-container-id-2 input.sk-toggleable__control:checked~div.sk-toggleable__content {max-height: 200px;max-width: 100%;overflow: auto;}#sk-container-id-2 input.sk-toggleable__control:checked~label.sk-toggleable__label-arrow:before {content: \"▾\";}#sk-container-id-2 div.sk-estimator input.sk-toggleable__control:checked~label.sk-toggleable__label {background-color: #d4ebff;}#sk-container-id-2 div.sk-label input.sk-toggleable__control:checked~label.sk-toggleable__label {background-color: #d4ebff;}#sk-container-id-2 input.sk-hidden--visually {border: 0;clip: rect(1px 1px 1px 1px);clip: rect(1px, 1px, 1px, 1px);height: 1px;margin: -1px;overflow: hidden;padding: 0;position: absolute;width: 1px;}#sk-container-id-2 div.sk-estimator {font-family: monospace;background-color: #f0f8ff;border: 1px dotted black;border-radius: 0.25em;box-sizing: border-box;margin-bottom: 0.5em;}#sk-container-id-2 div.sk-estimator:hover {background-color: #d4ebff;}#sk-container-id-2 div.sk-parallel-item::after {content: \"\";width: 100%;border-bottom: 1px solid gray;flex-grow: 1;}#sk-container-id-2 div.sk-label:hover label.sk-toggleable__label {background-color: #d4ebff;}#sk-container-id-2 div.sk-serial::before {content: \"\";position: absolute;border-left: 1px solid gray;box-sizing: border-box;top: 0;bottom: 0;left: 50%;z-index: 0;}#sk-container-id-2 div.sk-serial {display: flex;flex-direction: column;align-items: center;background-color: white;padding-right: 0.2em;padding-left: 0.2em;position: relative;}#sk-container-id-2 div.sk-item {position: relative;z-index: 1;}#sk-container-id-2 div.sk-parallel {display: flex;align-items: stretch;justify-content: center;background-color: white;position: relative;}#sk-container-id-2 div.sk-item::before, #sk-container-id-2 div.sk-parallel-item::before {content: \"\";position: absolute;border-left: 1px solid gray;box-sizing: border-box;top: 0;bottom: 0;left: 50%;z-index: -1;}#sk-container-id-2 div.sk-parallel-item {display: flex;flex-direction: column;z-index: 1;position: relative;background-color: white;}#sk-container-id-2 div.sk-parallel-item:first-child::after {align-self: flex-end;width: 50%;}#sk-container-id-2 div.sk-parallel-item:last-child::after {align-self: flex-start;width: 50%;}#sk-container-id-2 div.sk-parallel-item:only-child::after {width: 0;}#sk-container-id-2 div.sk-dashed-wrapped {border: 1px dashed gray;margin: 0 0.4em 0.5em 0.4em;box-sizing: border-box;padding-bottom: 0.4em;background-color: white;}#sk-container-id-2 div.sk-label label {font-family: monospace;font-weight: bold;display: inline-block;line-height: 1.2em;}#sk-container-id-2 div.sk-label-container {text-align: center;}#sk-container-id-2 div.sk-container {/* jupyter's `normalize.less` sets `[hidden] { display: none; }` but bootstrap.min.css set `[hidden] { display: none !important; }` so we also need the `!important` here to be able to override the default hidden behavior on the sphinx rendered scikit-learn.org. See: https://github.com/scikit-learn/scikit-learn/issues/21755 */display: inline-block !important;position: relative;}#sk-container-id-2 div.sk-text-repr-fallback {display: none;}</style><div id=\"sk-container-id-2\" class=\"sk-top-container\"><div class=\"sk-text-repr-fallback\"><pre>RandomizedSearchCV(cv=StratifiedKFold(n_splits=3, random_state=1234, shuffle=True),\n",
       "                   estimator=Pipeline(steps=[(&#x27;preprocessing&#x27;,\n",
       "                                              ColumnTransformer(sparse_threshold=0,\n",
       "                                                                transformers=[(&#x27;num&#x27;,\n",
       "                                                                               Pipeline(steps=[(&#x27;imputer&#x27;,\n",
       "                                                                                                SimpleImputer(strategy=&#x27;median&#x27;))]),\n",
       "                                                                               [&#x27;age&#x27;,\n",
       "                                                                                &#x27;fnlwgt&#x27;,\n",
       "                                                                                &#x27;capital_gain&#x27;,\n",
       "                                                                                &#x27;capital_loss&#x27;,\n",
       "                                                                                &#x27;hours_per_week&#x27;]),\n",
       "                                                                              (&#x27;one_hot&#x27;,\n",
       "                                                                               Pipeline(steps=[(&#x27;imputer&#x27;,\n",
       "                                                                                                Si...\n",
       "                   param_distributions={&#x27;model__learning_rate&#x27;: &lt;scipy.stats._distn_infrastructure.rv_continuous_frozen object at 0x00000212688E6680&gt;,\n",
       "                                        &#x27;model__max_iter&#x27;: &lt;scipy.stats._distn_infrastructure.rv_discrete_frozen object at 0x000002126836B190&gt;,\n",
       "                                        &#x27;model__min_samples_leaf&#x27;: &lt;scipy.stats._distn_infrastructure.rv_discrete_frozen object at 0x00000212688E7EE0&gt;},\n",
       "                   random_state=1234, scoring=&#x27;balanced_accuracy&#x27;)</pre><b>In a Jupyter environment, please rerun this cell to show the HTML representation or trust the notebook. <br />On GitHub, the HTML representation is unable to render, please try loading this page with nbviewer.org.</b></div><div class=\"sk-container\" hidden><div class=\"sk-item sk-dashed-wrapped\"><div class=\"sk-label-container\"><div class=\"sk-label sk-toggleable\"><input class=\"sk-toggleable__control sk-hidden--visually\" id=\"sk-estimator-id-9\" type=\"checkbox\" ><label for=\"sk-estimator-id-9\" class=\"sk-toggleable__label sk-toggleable__label-arrow\">RandomizedSearchCV</label><div class=\"sk-toggleable__content\"><pre>RandomizedSearchCV(cv=StratifiedKFold(n_splits=3, random_state=1234, shuffle=True),\n",
       "                   estimator=Pipeline(steps=[(&#x27;preprocessing&#x27;,\n",
       "                                              ColumnTransformer(sparse_threshold=0,\n",
       "                                                                transformers=[(&#x27;num&#x27;,\n",
       "                                                                               Pipeline(steps=[(&#x27;imputer&#x27;,\n",
       "                                                                                                SimpleImputer(strategy=&#x27;median&#x27;))]),\n",
       "                                                                               [&#x27;age&#x27;,\n",
       "                                                                                &#x27;fnlwgt&#x27;,\n",
       "                                                                                &#x27;capital_gain&#x27;,\n",
       "                                                                                &#x27;capital_loss&#x27;,\n",
       "                                                                                &#x27;hours_per_week&#x27;]),\n",
       "                                                                              (&#x27;one_hot&#x27;,\n",
       "                                                                               Pipeline(steps=[(&#x27;imputer&#x27;,\n",
       "                                                                                                Si...\n",
       "                   param_distributions={&#x27;model__learning_rate&#x27;: &lt;scipy.stats._distn_infrastructure.rv_continuous_frozen object at 0x00000212688E6680&gt;,\n",
       "                                        &#x27;model__max_iter&#x27;: &lt;scipy.stats._distn_infrastructure.rv_discrete_frozen object at 0x000002126836B190&gt;,\n",
       "                                        &#x27;model__min_samples_leaf&#x27;: &lt;scipy.stats._distn_infrastructure.rv_discrete_frozen object at 0x00000212688E7EE0&gt;},\n",
       "                   random_state=1234, scoring=&#x27;balanced_accuracy&#x27;)</pre></div></div></div><div class=\"sk-parallel\"><div class=\"sk-parallel-item\"><div class=\"sk-item\"><div class=\"sk-label-container\"><div class=\"sk-label sk-toggleable\"><input class=\"sk-toggleable__control sk-hidden--visually\" id=\"sk-estimator-id-10\" type=\"checkbox\" ><label for=\"sk-estimator-id-10\" class=\"sk-toggleable__label sk-toggleable__label-arrow\">estimator: Pipeline</label><div class=\"sk-toggleable__content\"><pre>Pipeline(steps=[(&#x27;preprocessing&#x27;,\n",
       "                 ColumnTransformer(sparse_threshold=0,\n",
       "                                   transformers=[(&#x27;num&#x27;,\n",
       "                                                  Pipeline(steps=[(&#x27;imputer&#x27;,\n",
       "                                                                   SimpleImputer(strategy=&#x27;median&#x27;))]),\n",
       "                                                  [&#x27;age&#x27;, &#x27;fnlwgt&#x27;,\n",
       "                                                   &#x27;capital_gain&#x27;,\n",
       "                                                   &#x27;capital_loss&#x27;,\n",
       "                                                   &#x27;hours_per_week&#x27;]),\n",
       "                                                 (&#x27;one_hot&#x27;,\n",
       "                                                  Pipeline(steps=[(&#x27;imputer&#x27;,\n",
       "                                                                   SimpleImputer(strategy=&#x27;most_frequent&#x27;)),\n",
       "                                                                  (&#x27;encoder&#x27;,\n",
       "                                                                   OneHotEncoder(drop=&#x27;first&#x27;,\n",
       "                                                                                 handle_unknown=&#x27;ignore&#x27;))]),\n",
       "                                                  [&#x27;workclass&#x27;, &#x27;education&#x27;,\n",
       "                                                   &#x27;marital_status&#x27;,\n",
       "                                                   &#x27;occupation&#x27;, &#x27;relationship&#x27;,\n",
       "                                                   &#x27;race&#x27;, &#x27;sex&#x27;,\n",
       "                                                   &#x27;native_country&#x27;])])),\n",
       "                (&#x27;model&#x27;,\n",
       "                 HistGradientBoostingClassifier(class_weight=&#x27;balanced&#x27;,\n",
       "                                                early_stopping=False,\n",
       "                                                min_samples_leaf=30,\n",
       "                                                random_state=1234,\n",
       "                                                scoring=&#x27;balanced_accuracy&#x27;))])</pre></div></div></div><div class=\"sk-serial\"><div class=\"sk-item\"><div class=\"sk-serial\"><div class=\"sk-item sk-dashed-wrapped\"><div class=\"sk-label-container\"><div class=\"sk-label sk-toggleable\"><input class=\"sk-toggleable__control sk-hidden--visually\" id=\"sk-estimator-id-11\" type=\"checkbox\" ><label for=\"sk-estimator-id-11\" class=\"sk-toggleable__label sk-toggleable__label-arrow\">preprocessing: ColumnTransformer</label><div class=\"sk-toggleable__content\"><pre>ColumnTransformer(sparse_threshold=0,\n",
       "                  transformers=[(&#x27;num&#x27;,\n",
       "                                 Pipeline(steps=[(&#x27;imputer&#x27;,\n",
       "                                                  SimpleImputer(strategy=&#x27;median&#x27;))]),\n",
       "                                 [&#x27;age&#x27;, &#x27;fnlwgt&#x27;, &#x27;capital_gain&#x27;,\n",
       "                                  &#x27;capital_loss&#x27;, &#x27;hours_per_week&#x27;]),\n",
       "                                (&#x27;one_hot&#x27;,\n",
       "                                 Pipeline(steps=[(&#x27;imputer&#x27;,\n",
       "                                                  SimpleImputer(strategy=&#x27;most_frequent&#x27;)),\n",
       "                                                 (&#x27;encoder&#x27;,\n",
       "                                                  OneHotEncoder(drop=&#x27;first&#x27;,\n",
       "                                                                handle_unknown=&#x27;ignore&#x27;))]),\n",
       "                                 [&#x27;workclass&#x27;, &#x27;education&#x27;, &#x27;marital_status&#x27;,\n",
       "                                  &#x27;occupation&#x27;, &#x27;relationship&#x27;, &#x27;race&#x27;, &#x27;sex&#x27;,\n",
       "                                  &#x27;native_country&#x27;])])</pre></div></div></div><div class=\"sk-parallel\"><div class=\"sk-parallel-item\"><div class=\"sk-item\"><div class=\"sk-label-container\"><div class=\"sk-label sk-toggleable\"><input class=\"sk-toggleable__control sk-hidden--visually\" id=\"sk-estimator-id-12\" type=\"checkbox\" ><label for=\"sk-estimator-id-12\" class=\"sk-toggleable__label sk-toggleable__label-arrow\">num</label><div class=\"sk-toggleable__content\"><pre>[&#x27;age&#x27;, &#x27;fnlwgt&#x27;, &#x27;capital_gain&#x27;, &#x27;capital_loss&#x27;, &#x27;hours_per_week&#x27;]</pre></div></div></div><div class=\"sk-serial\"><div class=\"sk-item\"><div class=\"sk-serial\"><div class=\"sk-item\"><div class=\"sk-estimator sk-toggleable\"><input class=\"sk-toggleable__control sk-hidden--visually\" id=\"sk-estimator-id-13\" type=\"checkbox\" ><label for=\"sk-estimator-id-13\" class=\"sk-toggleable__label sk-toggleable__label-arrow\">SimpleImputer</label><div class=\"sk-toggleable__content\"><pre>SimpleImputer(strategy=&#x27;median&#x27;)</pre></div></div></div></div></div></div></div></div><div class=\"sk-parallel-item\"><div class=\"sk-item\"><div class=\"sk-label-container\"><div class=\"sk-label sk-toggleable\"><input class=\"sk-toggleable__control sk-hidden--visually\" id=\"sk-estimator-id-14\" type=\"checkbox\" ><label for=\"sk-estimator-id-14\" class=\"sk-toggleable__label sk-toggleable__label-arrow\">one_hot</label><div class=\"sk-toggleable__content\"><pre>[&#x27;workclass&#x27;, &#x27;education&#x27;, &#x27;marital_status&#x27;, &#x27;occupation&#x27;, &#x27;relationship&#x27;, &#x27;race&#x27;, &#x27;sex&#x27;, &#x27;native_country&#x27;]</pre></div></div></div><div class=\"sk-serial\"><div class=\"sk-item\"><div class=\"sk-serial\"><div class=\"sk-item\"><div class=\"sk-estimator sk-toggleable\"><input class=\"sk-toggleable__control sk-hidden--visually\" id=\"sk-estimator-id-15\" type=\"checkbox\" ><label for=\"sk-estimator-id-15\" class=\"sk-toggleable__label sk-toggleable__label-arrow\">SimpleImputer</label><div class=\"sk-toggleable__content\"><pre>SimpleImputer(strategy=&#x27;most_frequent&#x27;)</pre></div></div></div><div class=\"sk-item\"><div class=\"sk-estimator sk-toggleable\"><input class=\"sk-toggleable__control sk-hidden--visually\" id=\"sk-estimator-id-16\" type=\"checkbox\" ><label for=\"sk-estimator-id-16\" class=\"sk-toggleable__label sk-toggleable__label-arrow\">OneHotEncoder</label><div class=\"sk-toggleable__content\"><pre>OneHotEncoder(drop=&#x27;first&#x27;, handle_unknown=&#x27;ignore&#x27;)</pre></div></div></div></div></div></div></div></div></div></div><div class=\"sk-item\"><div class=\"sk-estimator sk-toggleable\"><input class=\"sk-toggleable__control sk-hidden--visually\" id=\"sk-estimator-id-17\" type=\"checkbox\" ><label for=\"sk-estimator-id-17\" class=\"sk-toggleable__label sk-toggleable__label-arrow\">HistGradientBoostingClassifier</label><div class=\"sk-toggleable__content\"><pre>HistGradientBoostingClassifier(class_weight=&#x27;balanced&#x27;, early_stopping=False,\n",
       "                               min_samples_leaf=30, random_state=1234,\n",
       "                               scoring=&#x27;balanced_accuracy&#x27;)</pre></div></div></div></div></div></div></div></div></div></div></div></div>"
      ],
      "text/plain": [
       "RandomizedSearchCV(cv=StratifiedKFold(n_splits=3, random_state=1234, shuffle=True),\n",
       "                   estimator=Pipeline(steps=[('preprocessing',\n",
       "                                              ColumnTransformer(sparse_threshold=0,\n",
       "                                                                transformers=[('num',\n",
       "                                                                               Pipeline(steps=[('imputer',\n",
       "                                                                                                SimpleImputer(strategy='median'))]),\n",
       "                                                                               ['age',\n",
       "                                                                                'fnlwgt',\n",
       "                                                                                'capital_gain',\n",
       "                                                                                'capital_loss',\n",
       "                                                                                'hours_per_week']),\n",
       "                                                                              ('one_hot',\n",
       "                                                                               Pipeline(steps=[('imputer',\n",
       "                                                                                                Si...\n",
       "                   param_distributions={'model__learning_rate': <scipy.stats._distn_infrastructure.rv_continuous_frozen object at 0x00000212688E6680>,\n",
       "                                        'model__max_iter': <scipy.stats._distn_infrastructure.rv_discrete_frozen object at 0x000002126836B190>,\n",
       "                                        'model__min_samples_leaf': <scipy.stats._distn_infrastructure.rv_discrete_frozen object at 0x00000212688E7EE0>},\n",
       "                   random_state=1234, scoring='balanced_accuracy')"
      ]
     },
     "execution_count": 35,
     "metadata": {},
     "output_type": "execute_result"
    }
   ],
   "source": [
    "# Display pipeline\n",
    "print(\"Time taken: \", ohe_hgb_tune_time_taken)\n",
    "ohe_hgb_tune"
   ]
  },
  {
   "cell_type": "code",
   "execution_count": 36,
   "id": "51aaf60f",
   "metadata": {
    "scrolled": true
   },
   "outputs": [
    {
     "name": "stdout",
     "output_type": "stream",
     "text": [
      "Best parameters: {'model__learning_rate': 0.04093133165669417, 'model__max_iter': 234, 'model__min_samples_leaf': 26}\n",
      "Balanced accuracy with best parameters: 0.8435113119653583\n"
     ]
    }
   ],
   "source": [
    "# Get the best parameters\n",
    "ohe_hgb_tune_best_params = ohe_hgb_tune.best_params_\n",
    "print(f'Best parameters: {ohe_hgb_tune_best_params}')\n",
    "\n",
    "# Predict using the model with the best parameters\n",
    "y_ohe_hgb_tune_pred = ohe_hgb_tune.predict(X_test)\n",
    "ohe_hgb_tune_accuracy = balanced_accuracy_score(y_test, y_ohe_hgb_tune_pred)\n",
    "print(f'Balanced accuracy with best parameters: {ohe_hgb_tune_accuracy}')\n",
    "\n",
    "# Save results\n",
    "default_summary.append(\"Tune\")\n",
    "card_9_summary.append(\"AllVariables\")\n",
    "encoder_summary.append(\"OneHotEncoding\")\n",
    "value_summary.append(ohe_hgb_tune_accuracy)\n",
    "time_summary.append(ohe_hgb_tune_time_taken)\n",
    "n_models_summary.append(ohe_hgb_tune.n_iter)"
   ]
  },
  {
   "cell_type": "markdown",
   "id": "08858430",
   "metadata": {},
   "source": [
    "### Count Encoder + HistGradientBoosting\n"
   ]
  },
  {
   "cell_type": "code",
   "execution_count": 37,
   "id": "61db2219",
   "metadata": {},
   "outputs": [],
   "source": [
    "from category_encoders.count import CountEncoder"
   ]
  },
  {
   "cell_type": "markdown",
   "id": "9cedba6a",
   "metadata": {},
   "source": [
    "#### Preprocessing"
   ]
  },
  {
   "cell_type": "code",
   "execution_count": 38,
   "id": "d73d6a57",
   "metadata": {},
   "outputs": [],
   "source": [
    "cat_pipeline_more9 = Pipeline([\n",
    "    (\"imputer\", SimpleImputer(strategy = \"most_frequent\")),\n",
    "    (\"encoder\", CountEncoder())\n",
    "])\n",
    "\n",
    "cat_pipeline_less9 = Pipeline([\n",
    "    (\"imputer\", SimpleImputer(strategy = \"most_frequent\")),\n",
    "    (\"encoder\", OneHotEncoder(drop = \"first\", handle_unknown = \"ignore\"))\n",
    "])\n",
    "\n",
    "preprop_pipeline = ColumnTransformer(\n",
    "    transformers = [(\"num\", num_pipeline, num_cols),\n",
    "                    (\"count_encoder\", cat_pipeline_more9, cat_cols)],\n",
    "    sparse_threshold=0\n",
    ")\n",
    "\n",
    "preprop_pipeline9 = ColumnTransformer(\n",
    "    transformers = [(\"num\", num_pipeline, num_cols),\n",
    "                    (\"one_hot_encoding\", cat_pipeline_less9, cat_cols_less9),\n",
    "                    (\"count_encoder\", cat_pipeline_more9, cat_cols_more9)],\n",
    "    sparse_threshold=0\n",
    ")"
   ]
  },
  {
   "cell_type": "markdown",
   "id": "037efae9",
   "metadata": {},
   "source": [
    "#### Create a HistGradientBoostingClassifier model with default parameters and early stopping"
   ]
  },
  {
   "cell_type": "code",
   "execution_count": 39,
   "id": "fd90a4a3",
   "metadata": {},
   "outputs": [],
   "source": [
    "count_hgb_default_pipeline = Pipeline([('preprocessing', preprop_pipeline),\n",
    "                                       ('model', hgb_default)])\n",
    "count_hgb_default_pipeline9 = Pipeline([('preprocessing', preprop_pipeline9),\n",
    "                                        ('model', hgb_default9)])"
   ]
  },
  {
   "cell_type": "code",
   "execution_count": 40,
   "id": "bc4e2c6c",
   "metadata": {},
   "outputs": [],
   "source": [
    "tic = time.time()\n",
    "\n",
    "count_hgb_default = count_hgb_default_pipeline.fit(X_train, y_train)\n",
    "\n",
    "toc = time.time()\n",
    "count_hgb_default_time_taken = toc-tic"
   ]
  },
  {
   "cell_type": "code",
   "execution_count": 41,
   "metadata": {},
   "outputs": [
    {
     "name": "stdout",
     "output_type": "stream",
     "text": [
      "Time taken:  0.9481067657470703\n"
     ]
    },
    {
     "data": {
      "text/html": [
       "<style>#sk-container-id-3 {color: black;}#sk-container-id-3 pre{padding: 0;}#sk-container-id-3 div.sk-toggleable {background-color: white;}#sk-container-id-3 label.sk-toggleable__label {cursor: pointer;display: block;width: 100%;margin-bottom: 0;padding: 0.3em;box-sizing: border-box;text-align: center;}#sk-container-id-3 label.sk-toggleable__label-arrow:before {content: \"▸\";float: left;margin-right: 0.25em;color: #696969;}#sk-container-id-3 label.sk-toggleable__label-arrow:hover:before {color: black;}#sk-container-id-3 div.sk-estimator:hover label.sk-toggleable__label-arrow:before {color: black;}#sk-container-id-3 div.sk-toggleable__content {max-height: 0;max-width: 0;overflow: hidden;text-align: left;background-color: #f0f8ff;}#sk-container-id-3 div.sk-toggleable__content pre {margin: 0.2em;color: black;border-radius: 0.25em;background-color: #f0f8ff;}#sk-container-id-3 input.sk-toggleable__control:checked~div.sk-toggleable__content {max-height: 200px;max-width: 100%;overflow: auto;}#sk-container-id-3 input.sk-toggleable__control:checked~label.sk-toggleable__label-arrow:before {content: \"▾\";}#sk-container-id-3 div.sk-estimator input.sk-toggleable__control:checked~label.sk-toggleable__label {background-color: #d4ebff;}#sk-container-id-3 div.sk-label input.sk-toggleable__control:checked~label.sk-toggleable__label {background-color: #d4ebff;}#sk-container-id-3 input.sk-hidden--visually {border: 0;clip: rect(1px 1px 1px 1px);clip: rect(1px, 1px, 1px, 1px);height: 1px;margin: -1px;overflow: hidden;padding: 0;position: absolute;width: 1px;}#sk-container-id-3 div.sk-estimator {font-family: monospace;background-color: #f0f8ff;border: 1px dotted black;border-radius: 0.25em;box-sizing: border-box;margin-bottom: 0.5em;}#sk-container-id-3 div.sk-estimator:hover {background-color: #d4ebff;}#sk-container-id-3 div.sk-parallel-item::after {content: \"\";width: 100%;border-bottom: 1px solid gray;flex-grow: 1;}#sk-container-id-3 div.sk-label:hover label.sk-toggleable__label {background-color: #d4ebff;}#sk-container-id-3 div.sk-serial::before {content: \"\";position: absolute;border-left: 1px solid gray;box-sizing: border-box;top: 0;bottom: 0;left: 50%;z-index: 0;}#sk-container-id-3 div.sk-serial {display: flex;flex-direction: column;align-items: center;background-color: white;padding-right: 0.2em;padding-left: 0.2em;position: relative;}#sk-container-id-3 div.sk-item {position: relative;z-index: 1;}#sk-container-id-3 div.sk-parallel {display: flex;align-items: stretch;justify-content: center;background-color: white;position: relative;}#sk-container-id-3 div.sk-item::before, #sk-container-id-3 div.sk-parallel-item::before {content: \"\";position: absolute;border-left: 1px solid gray;box-sizing: border-box;top: 0;bottom: 0;left: 50%;z-index: -1;}#sk-container-id-3 div.sk-parallel-item {display: flex;flex-direction: column;z-index: 1;position: relative;background-color: white;}#sk-container-id-3 div.sk-parallel-item:first-child::after {align-self: flex-end;width: 50%;}#sk-container-id-3 div.sk-parallel-item:last-child::after {align-self: flex-start;width: 50%;}#sk-container-id-3 div.sk-parallel-item:only-child::after {width: 0;}#sk-container-id-3 div.sk-dashed-wrapped {border: 1px dashed gray;margin: 0 0.4em 0.5em 0.4em;box-sizing: border-box;padding-bottom: 0.4em;background-color: white;}#sk-container-id-3 div.sk-label label {font-family: monospace;font-weight: bold;display: inline-block;line-height: 1.2em;}#sk-container-id-3 div.sk-label-container {text-align: center;}#sk-container-id-3 div.sk-container {/* jupyter's `normalize.less` sets `[hidden] { display: none; }` but bootstrap.min.css set `[hidden] { display: none !important; }` so we also need the `!important` here to be able to override the default hidden behavior on the sphinx rendered scikit-learn.org. See: https://github.com/scikit-learn/scikit-learn/issues/21755 */display: inline-block !important;position: relative;}#sk-container-id-3 div.sk-text-repr-fallback {display: none;}</style><div id=\"sk-container-id-3\" class=\"sk-top-container\"><div class=\"sk-text-repr-fallback\"><pre>Pipeline(steps=[(&#x27;preprocessing&#x27;,\n",
       "                 ColumnTransformer(sparse_threshold=0,\n",
       "                                   transformers=[(&#x27;num&#x27;,\n",
       "                                                  Pipeline(steps=[(&#x27;imputer&#x27;,\n",
       "                                                                   SimpleImputer(strategy=&#x27;median&#x27;))]),\n",
       "                                                  [&#x27;age&#x27;, &#x27;fnlwgt&#x27;,\n",
       "                                                   &#x27;capital_gain&#x27;,\n",
       "                                                   &#x27;capital_loss&#x27;,\n",
       "                                                   &#x27;hours_per_week&#x27;]),\n",
       "                                                 (&#x27;count_encoder&#x27;,\n",
       "                                                  Pipeline(steps=[(&#x27;imputer&#x27;,\n",
       "                                                                   SimpleImputer(strategy=&#x27;most_frequent&#x27;)),\n",
       "                                                                  (&#x27;encoder&#x27;,\n",
       "                                                                   CountEncoder(combine_min_nan_groups=True))]),\n",
       "                                                  [&#x27;workclass&#x27;, &#x27;education&#x27;,\n",
       "                                                   &#x27;marital_status&#x27;,\n",
       "                                                   &#x27;occupation&#x27;, &#x27;relationship&#x27;,\n",
       "                                                   &#x27;race&#x27;, &#x27;sex&#x27;,\n",
       "                                                   &#x27;native_country&#x27;])])),\n",
       "                (&#x27;model&#x27;,\n",
       "                 HistGradientBoostingClassifier(class_weight=&#x27;balanced&#x27;,\n",
       "                                                early_stopping=False,\n",
       "                                                min_samples_leaf=30,\n",
       "                                                random_state=1234,\n",
       "                                                scoring=&#x27;balanced_accuracy&#x27;))])</pre><b>In a Jupyter environment, please rerun this cell to show the HTML representation or trust the notebook. <br />On GitHub, the HTML representation is unable to render, please try loading this page with nbviewer.org.</b></div><div class=\"sk-container\" hidden><div class=\"sk-item sk-dashed-wrapped\"><div class=\"sk-label-container\"><div class=\"sk-label sk-toggleable\"><input class=\"sk-toggleable__control sk-hidden--visually\" id=\"sk-estimator-id-18\" type=\"checkbox\" ><label for=\"sk-estimator-id-18\" class=\"sk-toggleable__label sk-toggleable__label-arrow\">Pipeline</label><div class=\"sk-toggleable__content\"><pre>Pipeline(steps=[(&#x27;preprocessing&#x27;,\n",
       "                 ColumnTransformer(sparse_threshold=0,\n",
       "                                   transformers=[(&#x27;num&#x27;,\n",
       "                                                  Pipeline(steps=[(&#x27;imputer&#x27;,\n",
       "                                                                   SimpleImputer(strategy=&#x27;median&#x27;))]),\n",
       "                                                  [&#x27;age&#x27;, &#x27;fnlwgt&#x27;,\n",
       "                                                   &#x27;capital_gain&#x27;,\n",
       "                                                   &#x27;capital_loss&#x27;,\n",
       "                                                   &#x27;hours_per_week&#x27;]),\n",
       "                                                 (&#x27;count_encoder&#x27;,\n",
       "                                                  Pipeline(steps=[(&#x27;imputer&#x27;,\n",
       "                                                                   SimpleImputer(strategy=&#x27;most_frequent&#x27;)),\n",
       "                                                                  (&#x27;encoder&#x27;,\n",
       "                                                                   CountEncoder(combine_min_nan_groups=True))]),\n",
       "                                                  [&#x27;workclass&#x27;, &#x27;education&#x27;,\n",
       "                                                   &#x27;marital_status&#x27;,\n",
       "                                                   &#x27;occupation&#x27;, &#x27;relationship&#x27;,\n",
       "                                                   &#x27;race&#x27;, &#x27;sex&#x27;,\n",
       "                                                   &#x27;native_country&#x27;])])),\n",
       "                (&#x27;model&#x27;,\n",
       "                 HistGradientBoostingClassifier(class_weight=&#x27;balanced&#x27;,\n",
       "                                                early_stopping=False,\n",
       "                                                min_samples_leaf=30,\n",
       "                                                random_state=1234,\n",
       "                                                scoring=&#x27;balanced_accuracy&#x27;))])</pre></div></div></div><div class=\"sk-serial\"><div class=\"sk-item sk-dashed-wrapped\"><div class=\"sk-label-container\"><div class=\"sk-label sk-toggleable\"><input class=\"sk-toggleable__control sk-hidden--visually\" id=\"sk-estimator-id-19\" type=\"checkbox\" ><label for=\"sk-estimator-id-19\" class=\"sk-toggleable__label sk-toggleable__label-arrow\">preprocessing: ColumnTransformer</label><div class=\"sk-toggleable__content\"><pre>ColumnTransformer(sparse_threshold=0,\n",
       "                  transformers=[(&#x27;num&#x27;,\n",
       "                                 Pipeline(steps=[(&#x27;imputer&#x27;,\n",
       "                                                  SimpleImputer(strategy=&#x27;median&#x27;))]),\n",
       "                                 [&#x27;age&#x27;, &#x27;fnlwgt&#x27;, &#x27;capital_gain&#x27;,\n",
       "                                  &#x27;capital_loss&#x27;, &#x27;hours_per_week&#x27;]),\n",
       "                                (&#x27;count_encoder&#x27;,\n",
       "                                 Pipeline(steps=[(&#x27;imputer&#x27;,\n",
       "                                                  SimpleImputer(strategy=&#x27;most_frequent&#x27;)),\n",
       "                                                 (&#x27;encoder&#x27;,\n",
       "                                                  CountEncoder(combine_min_nan_groups=True))]),\n",
       "                                 [&#x27;workclass&#x27;, &#x27;education&#x27;, &#x27;marital_status&#x27;,\n",
       "                                  &#x27;occupation&#x27;, &#x27;relationship&#x27;, &#x27;race&#x27;, &#x27;sex&#x27;,\n",
       "                                  &#x27;native_country&#x27;])])</pre></div></div></div><div class=\"sk-parallel\"><div class=\"sk-parallel-item\"><div class=\"sk-item\"><div class=\"sk-label-container\"><div class=\"sk-label sk-toggleable\"><input class=\"sk-toggleable__control sk-hidden--visually\" id=\"sk-estimator-id-20\" type=\"checkbox\" ><label for=\"sk-estimator-id-20\" class=\"sk-toggleable__label sk-toggleable__label-arrow\">num</label><div class=\"sk-toggleable__content\"><pre>[&#x27;age&#x27;, &#x27;fnlwgt&#x27;, &#x27;capital_gain&#x27;, &#x27;capital_loss&#x27;, &#x27;hours_per_week&#x27;]</pre></div></div></div><div class=\"sk-serial\"><div class=\"sk-item\"><div class=\"sk-serial\"><div class=\"sk-item\"><div class=\"sk-estimator sk-toggleable\"><input class=\"sk-toggleable__control sk-hidden--visually\" id=\"sk-estimator-id-21\" type=\"checkbox\" ><label for=\"sk-estimator-id-21\" class=\"sk-toggleable__label sk-toggleable__label-arrow\">SimpleImputer</label><div class=\"sk-toggleable__content\"><pre>SimpleImputer(strategy=&#x27;median&#x27;)</pre></div></div></div></div></div></div></div></div><div class=\"sk-parallel-item\"><div class=\"sk-item\"><div class=\"sk-label-container\"><div class=\"sk-label sk-toggleable\"><input class=\"sk-toggleable__control sk-hidden--visually\" id=\"sk-estimator-id-22\" type=\"checkbox\" ><label for=\"sk-estimator-id-22\" class=\"sk-toggleable__label sk-toggleable__label-arrow\">count_encoder</label><div class=\"sk-toggleable__content\"><pre>[&#x27;workclass&#x27;, &#x27;education&#x27;, &#x27;marital_status&#x27;, &#x27;occupation&#x27;, &#x27;relationship&#x27;, &#x27;race&#x27;, &#x27;sex&#x27;, &#x27;native_country&#x27;]</pre></div></div></div><div class=\"sk-serial\"><div class=\"sk-item\"><div class=\"sk-serial\"><div class=\"sk-item\"><div class=\"sk-estimator sk-toggleable\"><input class=\"sk-toggleable__control sk-hidden--visually\" id=\"sk-estimator-id-23\" type=\"checkbox\" ><label for=\"sk-estimator-id-23\" class=\"sk-toggleable__label sk-toggleable__label-arrow\">SimpleImputer</label><div class=\"sk-toggleable__content\"><pre>SimpleImputer(strategy=&#x27;most_frequent&#x27;)</pre></div></div></div><div class=\"sk-item\"><div class=\"sk-estimator sk-toggleable\"><input class=\"sk-toggleable__control sk-hidden--visually\" id=\"sk-estimator-id-24\" type=\"checkbox\" ><label for=\"sk-estimator-id-24\" class=\"sk-toggleable__label sk-toggleable__label-arrow\">CountEncoder</label><div class=\"sk-toggleable__content\"><pre>CountEncoder(combine_min_nan_groups=True)</pre></div></div></div></div></div></div></div></div></div></div><div class=\"sk-item\"><div class=\"sk-estimator sk-toggleable\"><input class=\"sk-toggleable__control sk-hidden--visually\" id=\"sk-estimator-id-25\" type=\"checkbox\" ><label for=\"sk-estimator-id-25\" class=\"sk-toggleable__label sk-toggleable__label-arrow\">HistGradientBoostingClassifier</label><div class=\"sk-toggleable__content\"><pre>HistGradientBoostingClassifier(class_weight=&#x27;balanced&#x27;, early_stopping=False,\n",
       "                               min_samples_leaf=30, random_state=1234,\n",
       "                               scoring=&#x27;balanced_accuracy&#x27;)</pre></div></div></div></div></div></div></div>"
      ],
      "text/plain": [
       "Pipeline(steps=[('preprocessing',\n",
       "                 ColumnTransformer(sparse_threshold=0,\n",
       "                                   transformers=[('num',\n",
       "                                                  Pipeline(steps=[('imputer',\n",
       "                                                                   SimpleImputer(strategy='median'))]),\n",
       "                                                  ['age', 'fnlwgt',\n",
       "                                                   'capital_gain',\n",
       "                                                   'capital_loss',\n",
       "                                                   'hours_per_week']),\n",
       "                                                 ('count_encoder',\n",
       "                                                  Pipeline(steps=[('imputer',\n",
       "                                                                   SimpleImputer(strategy='most_frequent')),\n",
       "                                                                  ('encoder',\n",
       "                                                                   CountEncoder(combine_min_nan_groups=True))]),\n",
       "                                                  ['workclass', 'education',\n",
       "                                                   'marital_status',\n",
       "                                                   'occupation', 'relationship',\n",
       "                                                   'race', 'sex',\n",
       "                                                   'native_country'])])),\n",
       "                ('model',\n",
       "                 HistGradientBoostingClassifier(class_weight='balanced',\n",
       "                                                early_stopping=False,\n",
       "                                                min_samples_leaf=30,\n",
       "                                                random_state=1234,\n",
       "                                                scoring='balanced_accuracy'))])"
      ]
     },
     "execution_count": 41,
     "metadata": {},
     "output_type": "execute_result"
    }
   ],
   "source": [
    "# Display pipeline\n",
    "print(\"Time taken: \", count_hgb_default_time_taken)\n",
    "count_hgb_default"
   ]
  },
  {
   "cell_type": "code",
   "execution_count": 42,
   "id": "623276a2",
   "metadata": {
    "scrolled": false
   },
   "outputs": [],
   "source": [
    "tic = time.time()\n",
    "\n",
    "count_hgb_default9 = count_hgb_default_pipeline9.fit(X_train, y_train)\n",
    "\n",
    "toc = time.time()\n",
    "count_hgb_default9_time_taken = toc-tic"
   ]
  },
  {
   "cell_type": "code",
   "execution_count": 43,
   "metadata": {},
   "outputs": [
    {
     "name": "stdout",
     "output_type": "stream",
     "text": [
      "Time taken:  0.9846639633178711\n"
     ]
    },
    {
     "data": {
      "text/html": [
       "<style>#sk-container-id-4 {color: black;}#sk-container-id-4 pre{padding: 0;}#sk-container-id-4 div.sk-toggleable {background-color: white;}#sk-container-id-4 label.sk-toggleable__label {cursor: pointer;display: block;width: 100%;margin-bottom: 0;padding: 0.3em;box-sizing: border-box;text-align: center;}#sk-container-id-4 label.sk-toggleable__label-arrow:before {content: \"▸\";float: left;margin-right: 0.25em;color: #696969;}#sk-container-id-4 label.sk-toggleable__label-arrow:hover:before {color: black;}#sk-container-id-4 div.sk-estimator:hover label.sk-toggleable__label-arrow:before {color: black;}#sk-container-id-4 div.sk-toggleable__content {max-height: 0;max-width: 0;overflow: hidden;text-align: left;background-color: #f0f8ff;}#sk-container-id-4 div.sk-toggleable__content pre {margin: 0.2em;color: black;border-radius: 0.25em;background-color: #f0f8ff;}#sk-container-id-4 input.sk-toggleable__control:checked~div.sk-toggleable__content {max-height: 200px;max-width: 100%;overflow: auto;}#sk-container-id-4 input.sk-toggleable__control:checked~label.sk-toggleable__label-arrow:before {content: \"▾\";}#sk-container-id-4 div.sk-estimator input.sk-toggleable__control:checked~label.sk-toggleable__label {background-color: #d4ebff;}#sk-container-id-4 div.sk-label input.sk-toggleable__control:checked~label.sk-toggleable__label {background-color: #d4ebff;}#sk-container-id-4 input.sk-hidden--visually {border: 0;clip: rect(1px 1px 1px 1px);clip: rect(1px, 1px, 1px, 1px);height: 1px;margin: -1px;overflow: hidden;padding: 0;position: absolute;width: 1px;}#sk-container-id-4 div.sk-estimator {font-family: monospace;background-color: #f0f8ff;border: 1px dotted black;border-radius: 0.25em;box-sizing: border-box;margin-bottom: 0.5em;}#sk-container-id-4 div.sk-estimator:hover {background-color: #d4ebff;}#sk-container-id-4 div.sk-parallel-item::after {content: \"\";width: 100%;border-bottom: 1px solid gray;flex-grow: 1;}#sk-container-id-4 div.sk-label:hover label.sk-toggleable__label {background-color: #d4ebff;}#sk-container-id-4 div.sk-serial::before {content: \"\";position: absolute;border-left: 1px solid gray;box-sizing: border-box;top: 0;bottom: 0;left: 50%;z-index: 0;}#sk-container-id-4 div.sk-serial {display: flex;flex-direction: column;align-items: center;background-color: white;padding-right: 0.2em;padding-left: 0.2em;position: relative;}#sk-container-id-4 div.sk-item {position: relative;z-index: 1;}#sk-container-id-4 div.sk-parallel {display: flex;align-items: stretch;justify-content: center;background-color: white;position: relative;}#sk-container-id-4 div.sk-item::before, #sk-container-id-4 div.sk-parallel-item::before {content: \"\";position: absolute;border-left: 1px solid gray;box-sizing: border-box;top: 0;bottom: 0;left: 50%;z-index: -1;}#sk-container-id-4 div.sk-parallel-item {display: flex;flex-direction: column;z-index: 1;position: relative;background-color: white;}#sk-container-id-4 div.sk-parallel-item:first-child::after {align-self: flex-end;width: 50%;}#sk-container-id-4 div.sk-parallel-item:last-child::after {align-self: flex-start;width: 50%;}#sk-container-id-4 div.sk-parallel-item:only-child::after {width: 0;}#sk-container-id-4 div.sk-dashed-wrapped {border: 1px dashed gray;margin: 0 0.4em 0.5em 0.4em;box-sizing: border-box;padding-bottom: 0.4em;background-color: white;}#sk-container-id-4 div.sk-label label {font-family: monospace;font-weight: bold;display: inline-block;line-height: 1.2em;}#sk-container-id-4 div.sk-label-container {text-align: center;}#sk-container-id-4 div.sk-container {/* jupyter's `normalize.less` sets `[hidden] { display: none; }` but bootstrap.min.css set `[hidden] { display: none !important; }` so we also need the `!important` here to be able to override the default hidden behavior on the sphinx rendered scikit-learn.org. See: https://github.com/scikit-learn/scikit-learn/issues/21755 */display: inline-block !important;position: relative;}#sk-container-id-4 div.sk-text-repr-fallback {display: none;}</style><div id=\"sk-container-id-4\" class=\"sk-top-container\"><div class=\"sk-text-repr-fallback\"><pre>Pipeline(steps=[(&#x27;preprocessing&#x27;,\n",
       "                 ColumnTransformer(sparse_threshold=0,\n",
       "                                   transformers=[(&#x27;num&#x27;,\n",
       "                                                  Pipeline(steps=[(&#x27;imputer&#x27;,\n",
       "                                                                   SimpleImputer(strategy=&#x27;median&#x27;))]),\n",
       "                                                  [&#x27;age&#x27;, &#x27;fnlwgt&#x27;,\n",
       "                                                   &#x27;capital_gain&#x27;,\n",
       "                                                   &#x27;capital_loss&#x27;,\n",
       "                                                   &#x27;hours_per_week&#x27;]),\n",
       "                                                 (&#x27;one_hot_encoding&#x27;,\n",
       "                                                  Pipeline(steps=[(&#x27;imputer&#x27;,\n",
       "                                                                   SimpleImputer(strategy=&#x27;most_frequent&#x27;)),\n",
       "                                                                  (&#x27;encoder&#x27;,\n",
       "                                                                   OneHotEncoder(drop=&#x27;first&#x27;,\n",
       "                                                                                 handl...\n",
       "                                                   &#x27;sex&#x27;]),\n",
       "                                                 (&#x27;count_encoder&#x27;,\n",
       "                                                  Pipeline(steps=[(&#x27;imputer&#x27;,\n",
       "                                                                   SimpleImputer(strategy=&#x27;most_frequent&#x27;)),\n",
       "                                                                  (&#x27;encoder&#x27;,\n",
       "                                                                   CountEncoder(combine_min_nan_groups=True))]),\n",
       "                                                  [&#x27;education&#x27;, &#x27;occupation&#x27;,\n",
       "                                                   &#x27;native_country&#x27;])])),\n",
       "                (&#x27;model&#x27;,\n",
       "                 HistGradientBoostingClassifier(class_weight=&#x27;balanced&#x27;,\n",
       "                                                early_stopping=False,\n",
       "                                                min_samples_leaf=30,\n",
       "                                                random_state=1234,\n",
       "                                                scoring=&#x27;balanced_accuracy&#x27;))])</pre><b>In a Jupyter environment, please rerun this cell to show the HTML representation or trust the notebook. <br />On GitHub, the HTML representation is unable to render, please try loading this page with nbviewer.org.</b></div><div class=\"sk-container\" hidden><div class=\"sk-item sk-dashed-wrapped\"><div class=\"sk-label-container\"><div class=\"sk-label sk-toggleable\"><input class=\"sk-toggleable__control sk-hidden--visually\" id=\"sk-estimator-id-26\" type=\"checkbox\" ><label for=\"sk-estimator-id-26\" class=\"sk-toggleable__label sk-toggleable__label-arrow\">Pipeline</label><div class=\"sk-toggleable__content\"><pre>Pipeline(steps=[(&#x27;preprocessing&#x27;,\n",
       "                 ColumnTransformer(sparse_threshold=0,\n",
       "                                   transformers=[(&#x27;num&#x27;,\n",
       "                                                  Pipeline(steps=[(&#x27;imputer&#x27;,\n",
       "                                                                   SimpleImputer(strategy=&#x27;median&#x27;))]),\n",
       "                                                  [&#x27;age&#x27;, &#x27;fnlwgt&#x27;,\n",
       "                                                   &#x27;capital_gain&#x27;,\n",
       "                                                   &#x27;capital_loss&#x27;,\n",
       "                                                   &#x27;hours_per_week&#x27;]),\n",
       "                                                 (&#x27;one_hot_encoding&#x27;,\n",
       "                                                  Pipeline(steps=[(&#x27;imputer&#x27;,\n",
       "                                                                   SimpleImputer(strategy=&#x27;most_frequent&#x27;)),\n",
       "                                                                  (&#x27;encoder&#x27;,\n",
       "                                                                   OneHotEncoder(drop=&#x27;first&#x27;,\n",
       "                                                                                 handl...\n",
       "                                                   &#x27;sex&#x27;]),\n",
       "                                                 (&#x27;count_encoder&#x27;,\n",
       "                                                  Pipeline(steps=[(&#x27;imputer&#x27;,\n",
       "                                                                   SimpleImputer(strategy=&#x27;most_frequent&#x27;)),\n",
       "                                                                  (&#x27;encoder&#x27;,\n",
       "                                                                   CountEncoder(combine_min_nan_groups=True))]),\n",
       "                                                  [&#x27;education&#x27;, &#x27;occupation&#x27;,\n",
       "                                                   &#x27;native_country&#x27;])])),\n",
       "                (&#x27;model&#x27;,\n",
       "                 HistGradientBoostingClassifier(class_weight=&#x27;balanced&#x27;,\n",
       "                                                early_stopping=False,\n",
       "                                                min_samples_leaf=30,\n",
       "                                                random_state=1234,\n",
       "                                                scoring=&#x27;balanced_accuracy&#x27;))])</pre></div></div></div><div class=\"sk-serial\"><div class=\"sk-item sk-dashed-wrapped\"><div class=\"sk-label-container\"><div class=\"sk-label sk-toggleable\"><input class=\"sk-toggleable__control sk-hidden--visually\" id=\"sk-estimator-id-27\" type=\"checkbox\" ><label for=\"sk-estimator-id-27\" class=\"sk-toggleable__label sk-toggleable__label-arrow\">preprocessing: ColumnTransformer</label><div class=\"sk-toggleable__content\"><pre>ColumnTransformer(sparse_threshold=0,\n",
       "                  transformers=[(&#x27;num&#x27;,\n",
       "                                 Pipeline(steps=[(&#x27;imputer&#x27;,\n",
       "                                                  SimpleImputer(strategy=&#x27;median&#x27;))]),\n",
       "                                 [&#x27;age&#x27;, &#x27;fnlwgt&#x27;, &#x27;capital_gain&#x27;,\n",
       "                                  &#x27;capital_loss&#x27;, &#x27;hours_per_week&#x27;]),\n",
       "                                (&#x27;one_hot_encoding&#x27;,\n",
       "                                 Pipeline(steps=[(&#x27;imputer&#x27;,\n",
       "                                                  SimpleImputer(strategy=&#x27;most_frequent&#x27;)),\n",
       "                                                 (&#x27;encoder&#x27;,\n",
       "                                                  OneHotEncoder(drop=&#x27;first&#x27;,\n",
       "                                                                handle_unknown=&#x27;ignore&#x27;))]),\n",
       "                                 [&#x27;workclass&#x27;, &#x27;marital_status&#x27;, &#x27;relationship&#x27;,\n",
       "                                  &#x27;race&#x27;, &#x27;sex&#x27;]),\n",
       "                                (&#x27;count_encoder&#x27;,\n",
       "                                 Pipeline(steps=[(&#x27;imputer&#x27;,\n",
       "                                                  SimpleImputer(strategy=&#x27;most_frequent&#x27;)),\n",
       "                                                 (&#x27;encoder&#x27;,\n",
       "                                                  CountEncoder(combine_min_nan_groups=True))]),\n",
       "                                 [&#x27;education&#x27;, &#x27;occupation&#x27;,\n",
       "                                  &#x27;native_country&#x27;])])</pre></div></div></div><div class=\"sk-parallel\"><div class=\"sk-parallel-item\"><div class=\"sk-item\"><div class=\"sk-label-container\"><div class=\"sk-label sk-toggleable\"><input class=\"sk-toggleable__control sk-hidden--visually\" id=\"sk-estimator-id-28\" type=\"checkbox\" ><label for=\"sk-estimator-id-28\" class=\"sk-toggleable__label sk-toggleable__label-arrow\">num</label><div class=\"sk-toggleable__content\"><pre>[&#x27;age&#x27;, &#x27;fnlwgt&#x27;, &#x27;capital_gain&#x27;, &#x27;capital_loss&#x27;, &#x27;hours_per_week&#x27;]</pre></div></div></div><div class=\"sk-serial\"><div class=\"sk-item\"><div class=\"sk-serial\"><div class=\"sk-item\"><div class=\"sk-estimator sk-toggleable\"><input class=\"sk-toggleable__control sk-hidden--visually\" id=\"sk-estimator-id-29\" type=\"checkbox\" ><label for=\"sk-estimator-id-29\" class=\"sk-toggleable__label sk-toggleable__label-arrow\">SimpleImputer</label><div class=\"sk-toggleable__content\"><pre>SimpleImputer(strategy=&#x27;median&#x27;)</pre></div></div></div></div></div></div></div></div><div class=\"sk-parallel-item\"><div class=\"sk-item\"><div class=\"sk-label-container\"><div class=\"sk-label sk-toggleable\"><input class=\"sk-toggleable__control sk-hidden--visually\" id=\"sk-estimator-id-30\" type=\"checkbox\" ><label for=\"sk-estimator-id-30\" class=\"sk-toggleable__label sk-toggleable__label-arrow\">one_hot_encoding</label><div class=\"sk-toggleable__content\"><pre>[&#x27;workclass&#x27;, &#x27;marital_status&#x27;, &#x27;relationship&#x27;, &#x27;race&#x27;, &#x27;sex&#x27;]</pre></div></div></div><div class=\"sk-serial\"><div class=\"sk-item\"><div class=\"sk-serial\"><div class=\"sk-item\"><div class=\"sk-estimator sk-toggleable\"><input class=\"sk-toggleable__control sk-hidden--visually\" id=\"sk-estimator-id-31\" type=\"checkbox\" ><label for=\"sk-estimator-id-31\" class=\"sk-toggleable__label sk-toggleable__label-arrow\">SimpleImputer</label><div class=\"sk-toggleable__content\"><pre>SimpleImputer(strategy=&#x27;most_frequent&#x27;)</pre></div></div></div><div class=\"sk-item\"><div class=\"sk-estimator sk-toggleable\"><input class=\"sk-toggleable__control sk-hidden--visually\" id=\"sk-estimator-id-32\" type=\"checkbox\" ><label for=\"sk-estimator-id-32\" class=\"sk-toggleable__label sk-toggleable__label-arrow\">OneHotEncoder</label><div class=\"sk-toggleable__content\"><pre>OneHotEncoder(drop=&#x27;first&#x27;, handle_unknown=&#x27;ignore&#x27;)</pre></div></div></div></div></div></div></div></div><div class=\"sk-parallel-item\"><div class=\"sk-item\"><div class=\"sk-label-container\"><div class=\"sk-label sk-toggleable\"><input class=\"sk-toggleable__control sk-hidden--visually\" id=\"sk-estimator-id-33\" type=\"checkbox\" ><label for=\"sk-estimator-id-33\" class=\"sk-toggleable__label sk-toggleable__label-arrow\">count_encoder</label><div class=\"sk-toggleable__content\"><pre>[&#x27;education&#x27;, &#x27;occupation&#x27;, &#x27;native_country&#x27;]</pre></div></div></div><div class=\"sk-serial\"><div class=\"sk-item\"><div class=\"sk-serial\"><div class=\"sk-item\"><div class=\"sk-estimator sk-toggleable\"><input class=\"sk-toggleable__control sk-hidden--visually\" id=\"sk-estimator-id-34\" type=\"checkbox\" ><label for=\"sk-estimator-id-34\" class=\"sk-toggleable__label sk-toggleable__label-arrow\">SimpleImputer</label><div class=\"sk-toggleable__content\"><pre>SimpleImputer(strategy=&#x27;most_frequent&#x27;)</pre></div></div></div><div class=\"sk-item\"><div class=\"sk-estimator sk-toggleable\"><input class=\"sk-toggleable__control sk-hidden--visually\" id=\"sk-estimator-id-35\" type=\"checkbox\" ><label for=\"sk-estimator-id-35\" class=\"sk-toggleable__label sk-toggleable__label-arrow\">CountEncoder</label><div class=\"sk-toggleable__content\"><pre>CountEncoder(combine_min_nan_groups=True)</pre></div></div></div></div></div></div></div></div></div></div><div class=\"sk-item\"><div class=\"sk-estimator sk-toggleable\"><input class=\"sk-toggleable__control sk-hidden--visually\" id=\"sk-estimator-id-36\" type=\"checkbox\" ><label for=\"sk-estimator-id-36\" class=\"sk-toggleable__label sk-toggleable__label-arrow\">HistGradientBoostingClassifier</label><div class=\"sk-toggleable__content\"><pre>HistGradientBoostingClassifier(class_weight=&#x27;balanced&#x27;, early_stopping=False,\n",
       "                               min_samples_leaf=30, random_state=1234,\n",
       "                               scoring=&#x27;balanced_accuracy&#x27;)</pre></div></div></div></div></div></div></div>"
      ],
      "text/plain": [
       "Pipeline(steps=[('preprocessing',\n",
       "                 ColumnTransformer(sparse_threshold=0,\n",
       "                                   transformers=[('num',\n",
       "                                                  Pipeline(steps=[('imputer',\n",
       "                                                                   SimpleImputer(strategy='median'))]),\n",
       "                                                  ['age', 'fnlwgt',\n",
       "                                                   'capital_gain',\n",
       "                                                   'capital_loss',\n",
       "                                                   'hours_per_week']),\n",
       "                                                 ('one_hot_encoding',\n",
       "                                                  Pipeline(steps=[('imputer',\n",
       "                                                                   SimpleImputer(strategy='most_frequent')),\n",
       "                                                                  ('encoder',\n",
       "                                                                   OneHotEncoder(drop='first',\n",
       "                                                                                 handl...\n",
       "                                                   'sex']),\n",
       "                                                 ('count_encoder',\n",
       "                                                  Pipeline(steps=[('imputer',\n",
       "                                                                   SimpleImputer(strategy='most_frequent')),\n",
       "                                                                  ('encoder',\n",
       "                                                                   CountEncoder(combine_min_nan_groups=True))]),\n",
       "                                                  ['education', 'occupation',\n",
       "                                                   'native_country'])])),\n",
       "                ('model',\n",
       "                 HistGradientBoostingClassifier(class_weight='balanced',\n",
       "                                                early_stopping=False,\n",
       "                                                min_samples_leaf=30,\n",
       "                                                random_state=1234,\n",
       "                                                scoring='balanced_accuracy'))])"
      ]
     },
     "execution_count": 43,
     "metadata": {},
     "output_type": "execute_result"
    }
   ],
   "source": [
    "# Display pipeline\n",
    "print(\"Time taken: \", count_hgb_default9_time_taken)\n",
    "count_hgb_default9"
   ]
  },
  {
   "cell_type": "code",
   "execution_count": 44,
   "id": "513c585e",
   "metadata": {
    "scrolled": true
   },
   "outputs": [
    {
     "name": "stdout",
     "output_type": "stream",
     "text": [
      "Balanced accuracy with default parameters: 0.8412375657045468\n"
     ]
    }
   ],
   "source": [
    "# Calculate balanced accuracy for the model with default parameters\n",
    "y_count_hgb_default_pred = count_hgb_default.predict(X_test)\n",
    "count_hgb_default_accuracy = balanced_accuracy_score(y_test, y_count_hgb_default_pred)\n",
    "print(f'Balanced accuracy with default parameters: {count_hgb_default_accuracy}')\n",
    "\n",
    "# Save results\n",
    "default_summary.append(\"Default\")\n",
    "card_9_summary.append(\"AllVariables\")\n",
    "encoder_summary.append(\"CountEncoding\")\n",
    "value_summary.append(count_hgb_default_accuracy)\n",
    "time_summary.append(count_hgb_default_time_taken)\n",
    "n_models_summary.append(1)"
   ]
  },
  {
   "cell_type": "code",
   "execution_count": 45,
   "id": "9d97deb1",
   "metadata": {},
   "outputs": [
    {
     "name": "stdout",
     "output_type": "stream",
     "text": [
      "Balanced accuracy with default parameters: 0.8440092748090707\n"
     ]
    }
   ],
   "source": [
    "# Calculate balanced accuracy for the model with default parameters\n",
    "y_count_hgb_default_pred9 = count_hgb_default9.predict(X_test)\n",
    "count_hgb_default_accuracy9 = balanced_accuracy_score(y_test, y_count_hgb_default_pred9)\n",
    "print(f'Balanced accuracy with default parameters: {count_hgb_default_accuracy9}')\n",
    "\n",
    "# Save results\n",
    "default_summary.append(\"Default\")\n",
    "card_9_summary.append(\"OnlyVariablesWithCard>9\")\n",
    "encoder_summary.append(\"CountEncoding\")\n",
    "value_summary.append(count_hgb_default_accuracy9)\n",
    "time_summary.append(count_hgb_default9_time_taken)\n",
    "n_models_summary.append(1)"
   ]
  },
  {
   "cell_type": "markdown",
   "id": "5535ba26",
   "metadata": {},
   "source": [
    "#### Create a HistGradientBoostingClassifier model for tuning"
   ]
  },
  {
   "cell_type": "code",
   "execution_count": 46,
   "id": "3449fd82",
   "metadata": {},
   "outputs": [],
   "source": [
    "count_hgb_tune = RandomizedSearchCV(estimator = count_hgb_default_pipeline, \n",
    "                                    param_distributions = param_distributions, \n",
    "                                    n_iter = 100,\n",
    "                                    cv = stratified_kfold,\n",
    "                                    scoring = 'balanced_accuracy', \n",
    "                                    random_state = 1234,\n",
    "                                    n_jobs = -1)\n",
    "\n",
    "count_hgb_tune9 = RandomizedSearchCV(estimator = count_hgb_default_pipeline9, \n",
    "                                     param_distributions = param_distributions, \n",
    "                                     n_iter = 100,\n",
    "                                     cv = stratified_kfold,\n",
    "                                     scoring = 'balanced_accuracy', \n",
    "                                     random_state = 1234,\n",
    "                                     n_jobs = -1)"
   ]
  },
  {
   "cell_type": "code",
   "execution_count": 47,
   "id": "fe710784",
   "metadata": {},
   "outputs": [],
   "source": [
    "tic = time.time()\n",
    "\n",
    "count_hgb_tune = count_hgb_tune.fit(X_train, y_train)\n",
    "\n",
    "toc = time.time()\n",
    "count_hgb_tune_time_taken = toc-tic"
   ]
  },
  {
   "cell_type": "code",
   "execution_count": 48,
   "metadata": {},
   "outputs": [
    {
     "name": "stdout",
     "output_type": "stream",
     "text": [
      "Time taken:  47.46635866165161\n"
     ]
    },
    {
     "data": {
      "text/html": [
       "<style>#sk-container-id-5 {color: black;}#sk-container-id-5 pre{padding: 0;}#sk-container-id-5 div.sk-toggleable {background-color: white;}#sk-container-id-5 label.sk-toggleable__label {cursor: pointer;display: block;width: 100%;margin-bottom: 0;padding: 0.3em;box-sizing: border-box;text-align: center;}#sk-container-id-5 label.sk-toggleable__label-arrow:before {content: \"▸\";float: left;margin-right: 0.25em;color: #696969;}#sk-container-id-5 label.sk-toggleable__label-arrow:hover:before {color: black;}#sk-container-id-5 div.sk-estimator:hover label.sk-toggleable__label-arrow:before {color: black;}#sk-container-id-5 div.sk-toggleable__content {max-height: 0;max-width: 0;overflow: hidden;text-align: left;background-color: #f0f8ff;}#sk-container-id-5 div.sk-toggleable__content pre {margin: 0.2em;color: black;border-radius: 0.25em;background-color: #f0f8ff;}#sk-container-id-5 input.sk-toggleable__control:checked~div.sk-toggleable__content {max-height: 200px;max-width: 100%;overflow: auto;}#sk-container-id-5 input.sk-toggleable__control:checked~label.sk-toggleable__label-arrow:before {content: \"▾\";}#sk-container-id-5 div.sk-estimator input.sk-toggleable__control:checked~label.sk-toggleable__label {background-color: #d4ebff;}#sk-container-id-5 div.sk-label input.sk-toggleable__control:checked~label.sk-toggleable__label {background-color: #d4ebff;}#sk-container-id-5 input.sk-hidden--visually {border: 0;clip: rect(1px 1px 1px 1px);clip: rect(1px, 1px, 1px, 1px);height: 1px;margin: -1px;overflow: hidden;padding: 0;position: absolute;width: 1px;}#sk-container-id-5 div.sk-estimator {font-family: monospace;background-color: #f0f8ff;border: 1px dotted black;border-radius: 0.25em;box-sizing: border-box;margin-bottom: 0.5em;}#sk-container-id-5 div.sk-estimator:hover {background-color: #d4ebff;}#sk-container-id-5 div.sk-parallel-item::after {content: \"\";width: 100%;border-bottom: 1px solid gray;flex-grow: 1;}#sk-container-id-5 div.sk-label:hover label.sk-toggleable__label {background-color: #d4ebff;}#sk-container-id-5 div.sk-serial::before {content: \"\";position: absolute;border-left: 1px solid gray;box-sizing: border-box;top: 0;bottom: 0;left: 50%;z-index: 0;}#sk-container-id-5 div.sk-serial {display: flex;flex-direction: column;align-items: center;background-color: white;padding-right: 0.2em;padding-left: 0.2em;position: relative;}#sk-container-id-5 div.sk-item {position: relative;z-index: 1;}#sk-container-id-5 div.sk-parallel {display: flex;align-items: stretch;justify-content: center;background-color: white;position: relative;}#sk-container-id-5 div.sk-item::before, #sk-container-id-5 div.sk-parallel-item::before {content: \"\";position: absolute;border-left: 1px solid gray;box-sizing: border-box;top: 0;bottom: 0;left: 50%;z-index: -1;}#sk-container-id-5 div.sk-parallel-item {display: flex;flex-direction: column;z-index: 1;position: relative;background-color: white;}#sk-container-id-5 div.sk-parallel-item:first-child::after {align-self: flex-end;width: 50%;}#sk-container-id-5 div.sk-parallel-item:last-child::after {align-self: flex-start;width: 50%;}#sk-container-id-5 div.sk-parallel-item:only-child::after {width: 0;}#sk-container-id-5 div.sk-dashed-wrapped {border: 1px dashed gray;margin: 0 0.4em 0.5em 0.4em;box-sizing: border-box;padding-bottom: 0.4em;background-color: white;}#sk-container-id-5 div.sk-label label {font-family: monospace;font-weight: bold;display: inline-block;line-height: 1.2em;}#sk-container-id-5 div.sk-label-container {text-align: center;}#sk-container-id-5 div.sk-container {/* jupyter's `normalize.less` sets `[hidden] { display: none; }` but bootstrap.min.css set `[hidden] { display: none !important; }` so we also need the `!important` here to be able to override the default hidden behavior on the sphinx rendered scikit-learn.org. See: https://github.com/scikit-learn/scikit-learn/issues/21755 */display: inline-block !important;position: relative;}#sk-container-id-5 div.sk-text-repr-fallback {display: none;}</style><div id=\"sk-container-id-5\" class=\"sk-top-container\"><div class=\"sk-text-repr-fallback\"><pre>RandomizedSearchCV(cv=StratifiedKFold(n_splits=3, random_state=1234, shuffle=True),\n",
       "                   estimator=Pipeline(steps=[(&#x27;preprocessing&#x27;,\n",
       "                                              ColumnTransformer(sparse_threshold=0,\n",
       "                                                                transformers=[(&#x27;num&#x27;,\n",
       "                                                                               Pipeline(steps=[(&#x27;imputer&#x27;,\n",
       "                                                                                                SimpleImputer(strategy=&#x27;median&#x27;))]),\n",
       "                                                                               [&#x27;age&#x27;,\n",
       "                                                                                &#x27;fnlwgt&#x27;,\n",
       "                                                                                &#x27;capital_gain&#x27;,\n",
       "                                                                                &#x27;capital_loss&#x27;,\n",
       "                                                                                &#x27;hours_per_week&#x27;]),\n",
       "                                                                              (&#x27;count_encoder&#x27;,\n",
       "                                                                               Pipeline(steps=[(&#x27;imput...\n",
       "                   param_distributions={&#x27;model__learning_rate&#x27;: &lt;scipy.stats._distn_infrastructure.rv_continuous_frozen object at 0x00000212688E6680&gt;,\n",
       "                                        &#x27;model__max_iter&#x27;: &lt;scipy.stats._distn_infrastructure.rv_discrete_frozen object at 0x000002126836B190&gt;,\n",
       "                                        &#x27;model__min_samples_leaf&#x27;: &lt;scipy.stats._distn_infrastructure.rv_discrete_frozen object at 0x00000212688E7EE0&gt;},\n",
       "                   random_state=1234, scoring=&#x27;balanced_accuracy&#x27;)</pre><b>In a Jupyter environment, please rerun this cell to show the HTML representation or trust the notebook. <br />On GitHub, the HTML representation is unable to render, please try loading this page with nbviewer.org.</b></div><div class=\"sk-container\" hidden><div class=\"sk-item sk-dashed-wrapped\"><div class=\"sk-label-container\"><div class=\"sk-label sk-toggleable\"><input class=\"sk-toggleable__control sk-hidden--visually\" id=\"sk-estimator-id-37\" type=\"checkbox\" ><label for=\"sk-estimator-id-37\" class=\"sk-toggleable__label sk-toggleable__label-arrow\">RandomizedSearchCV</label><div class=\"sk-toggleable__content\"><pre>RandomizedSearchCV(cv=StratifiedKFold(n_splits=3, random_state=1234, shuffle=True),\n",
       "                   estimator=Pipeline(steps=[(&#x27;preprocessing&#x27;,\n",
       "                                              ColumnTransformer(sparse_threshold=0,\n",
       "                                                                transformers=[(&#x27;num&#x27;,\n",
       "                                                                               Pipeline(steps=[(&#x27;imputer&#x27;,\n",
       "                                                                                                SimpleImputer(strategy=&#x27;median&#x27;))]),\n",
       "                                                                               [&#x27;age&#x27;,\n",
       "                                                                                &#x27;fnlwgt&#x27;,\n",
       "                                                                                &#x27;capital_gain&#x27;,\n",
       "                                                                                &#x27;capital_loss&#x27;,\n",
       "                                                                                &#x27;hours_per_week&#x27;]),\n",
       "                                                                              (&#x27;count_encoder&#x27;,\n",
       "                                                                               Pipeline(steps=[(&#x27;imput...\n",
       "                   param_distributions={&#x27;model__learning_rate&#x27;: &lt;scipy.stats._distn_infrastructure.rv_continuous_frozen object at 0x00000212688E6680&gt;,\n",
       "                                        &#x27;model__max_iter&#x27;: &lt;scipy.stats._distn_infrastructure.rv_discrete_frozen object at 0x000002126836B190&gt;,\n",
       "                                        &#x27;model__min_samples_leaf&#x27;: &lt;scipy.stats._distn_infrastructure.rv_discrete_frozen object at 0x00000212688E7EE0&gt;},\n",
       "                   random_state=1234, scoring=&#x27;balanced_accuracy&#x27;)</pre></div></div></div><div class=\"sk-parallel\"><div class=\"sk-parallel-item\"><div class=\"sk-item\"><div class=\"sk-label-container\"><div class=\"sk-label sk-toggleable\"><input class=\"sk-toggleable__control sk-hidden--visually\" id=\"sk-estimator-id-38\" type=\"checkbox\" ><label for=\"sk-estimator-id-38\" class=\"sk-toggleable__label sk-toggleable__label-arrow\">estimator: Pipeline</label><div class=\"sk-toggleable__content\"><pre>Pipeline(steps=[(&#x27;preprocessing&#x27;,\n",
       "                 ColumnTransformer(sparse_threshold=0,\n",
       "                                   transformers=[(&#x27;num&#x27;,\n",
       "                                                  Pipeline(steps=[(&#x27;imputer&#x27;,\n",
       "                                                                   SimpleImputer(strategy=&#x27;median&#x27;))]),\n",
       "                                                  [&#x27;age&#x27;, &#x27;fnlwgt&#x27;,\n",
       "                                                   &#x27;capital_gain&#x27;,\n",
       "                                                   &#x27;capital_loss&#x27;,\n",
       "                                                   &#x27;hours_per_week&#x27;]),\n",
       "                                                 (&#x27;count_encoder&#x27;,\n",
       "                                                  Pipeline(steps=[(&#x27;imputer&#x27;,\n",
       "                                                                   SimpleImputer(strategy=&#x27;most_frequent&#x27;)),\n",
       "                                                                  (&#x27;encoder&#x27;,\n",
       "                                                                   CountEncoder(combine_min_nan_groups=True))]),\n",
       "                                                  [&#x27;workclass&#x27;, &#x27;education&#x27;,\n",
       "                                                   &#x27;marital_status&#x27;,\n",
       "                                                   &#x27;occupation&#x27;, &#x27;relationship&#x27;,\n",
       "                                                   &#x27;race&#x27;, &#x27;sex&#x27;,\n",
       "                                                   &#x27;native_country&#x27;])])),\n",
       "                (&#x27;model&#x27;,\n",
       "                 HistGradientBoostingClassifier(class_weight=&#x27;balanced&#x27;,\n",
       "                                                early_stopping=False,\n",
       "                                                min_samples_leaf=30,\n",
       "                                                random_state=1234,\n",
       "                                                scoring=&#x27;balanced_accuracy&#x27;))])</pre></div></div></div><div class=\"sk-serial\"><div class=\"sk-item\"><div class=\"sk-serial\"><div class=\"sk-item sk-dashed-wrapped\"><div class=\"sk-label-container\"><div class=\"sk-label sk-toggleable\"><input class=\"sk-toggleable__control sk-hidden--visually\" id=\"sk-estimator-id-39\" type=\"checkbox\" ><label for=\"sk-estimator-id-39\" class=\"sk-toggleable__label sk-toggleable__label-arrow\">preprocessing: ColumnTransformer</label><div class=\"sk-toggleable__content\"><pre>ColumnTransformer(sparse_threshold=0,\n",
       "                  transformers=[(&#x27;num&#x27;,\n",
       "                                 Pipeline(steps=[(&#x27;imputer&#x27;,\n",
       "                                                  SimpleImputer(strategy=&#x27;median&#x27;))]),\n",
       "                                 [&#x27;age&#x27;, &#x27;fnlwgt&#x27;, &#x27;capital_gain&#x27;,\n",
       "                                  &#x27;capital_loss&#x27;, &#x27;hours_per_week&#x27;]),\n",
       "                                (&#x27;count_encoder&#x27;,\n",
       "                                 Pipeline(steps=[(&#x27;imputer&#x27;,\n",
       "                                                  SimpleImputer(strategy=&#x27;most_frequent&#x27;)),\n",
       "                                                 (&#x27;encoder&#x27;,\n",
       "                                                  CountEncoder(combine_min_nan_groups=True))]),\n",
       "                                 [&#x27;workclass&#x27;, &#x27;education&#x27;, &#x27;marital_status&#x27;,\n",
       "                                  &#x27;occupation&#x27;, &#x27;relationship&#x27;, &#x27;race&#x27;, &#x27;sex&#x27;,\n",
       "                                  &#x27;native_country&#x27;])])</pre></div></div></div><div class=\"sk-parallel\"><div class=\"sk-parallel-item\"><div class=\"sk-item\"><div class=\"sk-label-container\"><div class=\"sk-label sk-toggleable\"><input class=\"sk-toggleable__control sk-hidden--visually\" id=\"sk-estimator-id-40\" type=\"checkbox\" ><label for=\"sk-estimator-id-40\" class=\"sk-toggleable__label sk-toggleable__label-arrow\">num</label><div class=\"sk-toggleable__content\"><pre>[&#x27;age&#x27;, &#x27;fnlwgt&#x27;, &#x27;capital_gain&#x27;, &#x27;capital_loss&#x27;, &#x27;hours_per_week&#x27;]</pre></div></div></div><div class=\"sk-serial\"><div class=\"sk-item\"><div class=\"sk-serial\"><div class=\"sk-item\"><div class=\"sk-estimator sk-toggleable\"><input class=\"sk-toggleable__control sk-hidden--visually\" id=\"sk-estimator-id-41\" type=\"checkbox\" ><label for=\"sk-estimator-id-41\" class=\"sk-toggleable__label sk-toggleable__label-arrow\">SimpleImputer</label><div class=\"sk-toggleable__content\"><pre>SimpleImputer(strategy=&#x27;median&#x27;)</pre></div></div></div></div></div></div></div></div><div class=\"sk-parallel-item\"><div class=\"sk-item\"><div class=\"sk-label-container\"><div class=\"sk-label sk-toggleable\"><input class=\"sk-toggleable__control sk-hidden--visually\" id=\"sk-estimator-id-42\" type=\"checkbox\" ><label for=\"sk-estimator-id-42\" class=\"sk-toggleable__label sk-toggleable__label-arrow\">count_encoder</label><div class=\"sk-toggleable__content\"><pre>[&#x27;workclass&#x27;, &#x27;education&#x27;, &#x27;marital_status&#x27;, &#x27;occupation&#x27;, &#x27;relationship&#x27;, &#x27;race&#x27;, &#x27;sex&#x27;, &#x27;native_country&#x27;]</pre></div></div></div><div class=\"sk-serial\"><div class=\"sk-item\"><div class=\"sk-serial\"><div class=\"sk-item\"><div class=\"sk-estimator sk-toggleable\"><input class=\"sk-toggleable__control sk-hidden--visually\" id=\"sk-estimator-id-43\" type=\"checkbox\" ><label for=\"sk-estimator-id-43\" class=\"sk-toggleable__label sk-toggleable__label-arrow\">SimpleImputer</label><div class=\"sk-toggleable__content\"><pre>SimpleImputer(strategy=&#x27;most_frequent&#x27;)</pre></div></div></div><div class=\"sk-item\"><div class=\"sk-estimator sk-toggleable\"><input class=\"sk-toggleable__control sk-hidden--visually\" id=\"sk-estimator-id-44\" type=\"checkbox\" ><label for=\"sk-estimator-id-44\" class=\"sk-toggleable__label sk-toggleable__label-arrow\">CountEncoder</label><div class=\"sk-toggleable__content\"><pre>CountEncoder(combine_min_nan_groups=True)</pre></div></div></div></div></div></div></div></div></div></div><div class=\"sk-item\"><div class=\"sk-estimator sk-toggleable\"><input class=\"sk-toggleable__control sk-hidden--visually\" id=\"sk-estimator-id-45\" type=\"checkbox\" ><label for=\"sk-estimator-id-45\" class=\"sk-toggleable__label sk-toggleable__label-arrow\">HistGradientBoostingClassifier</label><div class=\"sk-toggleable__content\"><pre>HistGradientBoostingClassifier(class_weight=&#x27;balanced&#x27;, early_stopping=False,\n",
       "                               min_samples_leaf=30, random_state=1234,\n",
       "                               scoring=&#x27;balanced_accuracy&#x27;)</pre></div></div></div></div></div></div></div></div></div></div></div></div>"
      ],
      "text/plain": [
       "RandomizedSearchCV(cv=StratifiedKFold(n_splits=3, random_state=1234, shuffle=True),\n",
       "                   estimator=Pipeline(steps=[('preprocessing',\n",
       "                                              ColumnTransformer(sparse_threshold=0,\n",
       "                                                                transformers=[('num',\n",
       "                                                                               Pipeline(steps=[('imputer',\n",
       "                                                                                                SimpleImputer(strategy='median'))]),\n",
       "                                                                               ['age',\n",
       "                                                                                'fnlwgt',\n",
       "                                                                                'capital_gain',\n",
       "                                                                                'capital_loss',\n",
       "                                                                                'hours_per_week']),\n",
       "                                                                              ('count_encoder',\n",
       "                                                                               Pipeline(steps=[('imput...\n",
       "                   param_distributions={'model__learning_rate': <scipy.stats._distn_infrastructure.rv_continuous_frozen object at 0x00000212688E6680>,\n",
       "                                        'model__max_iter': <scipy.stats._distn_infrastructure.rv_discrete_frozen object at 0x000002126836B190>,\n",
       "                                        'model__min_samples_leaf': <scipy.stats._distn_infrastructure.rv_discrete_frozen object at 0x00000212688E7EE0>},\n",
       "                   random_state=1234, scoring='balanced_accuracy')"
      ]
     },
     "execution_count": 48,
     "metadata": {},
     "output_type": "execute_result"
    }
   ],
   "source": [
    "# Display pipeline\n",
    "print(\"Time taken: \", count_hgb_tune_time_taken)\n",
    "count_hgb_tune"
   ]
  },
  {
   "cell_type": "code",
   "execution_count": 49,
   "id": "154c1a20",
   "metadata": {},
   "outputs": [],
   "source": [
    "tic = time.time()\n",
    "\n",
    "count_hgb_tune9 = count_hgb_tune9.fit(X_train, y_train)\n",
    "\n",
    "toc = time.time()\n",
    "count_hgb_tune9_time_taken = toc-tic"
   ]
  },
  {
   "cell_type": "code",
   "execution_count": 50,
   "metadata": {},
   "outputs": [
    {
     "name": "stdout",
     "output_type": "stream",
     "text": [
      "Time taken:  70.12012481689453\n"
     ]
    },
    {
     "data": {
      "text/html": [
       "<style>#sk-container-id-6 {color: black;}#sk-container-id-6 pre{padding: 0;}#sk-container-id-6 div.sk-toggleable {background-color: white;}#sk-container-id-6 label.sk-toggleable__label {cursor: pointer;display: block;width: 100%;margin-bottom: 0;padding: 0.3em;box-sizing: border-box;text-align: center;}#sk-container-id-6 label.sk-toggleable__label-arrow:before {content: \"▸\";float: left;margin-right: 0.25em;color: #696969;}#sk-container-id-6 label.sk-toggleable__label-arrow:hover:before {color: black;}#sk-container-id-6 div.sk-estimator:hover label.sk-toggleable__label-arrow:before {color: black;}#sk-container-id-6 div.sk-toggleable__content {max-height: 0;max-width: 0;overflow: hidden;text-align: left;background-color: #f0f8ff;}#sk-container-id-6 div.sk-toggleable__content pre {margin: 0.2em;color: black;border-radius: 0.25em;background-color: #f0f8ff;}#sk-container-id-6 input.sk-toggleable__control:checked~div.sk-toggleable__content {max-height: 200px;max-width: 100%;overflow: auto;}#sk-container-id-6 input.sk-toggleable__control:checked~label.sk-toggleable__label-arrow:before {content: \"▾\";}#sk-container-id-6 div.sk-estimator input.sk-toggleable__control:checked~label.sk-toggleable__label {background-color: #d4ebff;}#sk-container-id-6 div.sk-label input.sk-toggleable__control:checked~label.sk-toggleable__label {background-color: #d4ebff;}#sk-container-id-6 input.sk-hidden--visually {border: 0;clip: rect(1px 1px 1px 1px);clip: rect(1px, 1px, 1px, 1px);height: 1px;margin: -1px;overflow: hidden;padding: 0;position: absolute;width: 1px;}#sk-container-id-6 div.sk-estimator {font-family: monospace;background-color: #f0f8ff;border: 1px dotted black;border-radius: 0.25em;box-sizing: border-box;margin-bottom: 0.5em;}#sk-container-id-6 div.sk-estimator:hover {background-color: #d4ebff;}#sk-container-id-6 div.sk-parallel-item::after {content: \"\";width: 100%;border-bottom: 1px solid gray;flex-grow: 1;}#sk-container-id-6 div.sk-label:hover label.sk-toggleable__label {background-color: #d4ebff;}#sk-container-id-6 div.sk-serial::before {content: \"\";position: absolute;border-left: 1px solid gray;box-sizing: border-box;top: 0;bottom: 0;left: 50%;z-index: 0;}#sk-container-id-6 div.sk-serial {display: flex;flex-direction: column;align-items: center;background-color: white;padding-right: 0.2em;padding-left: 0.2em;position: relative;}#sk-container-id-6 div.sk-item {position: relative;z-index: 1;}#sk-container-id-6 div.sk-parallel {display: flex;align-items: stretch;justify-content: center;background-color: white;position: relative;}#sk-container-id-6 div.sk-item::before, #sk-container-id-6 div.sk-parallel-item::before {content: \"\";position: absolute;border-left: 1px solid gray;box-sizing: border-box;top: 0;bottom: 0;left: 50%;z-index: -1;}#sk-container-id-6 div.sk-parallel-item {display: flex;flex-direction: column;z-index: 1;position: relative;background-color: white;}#sk-container-id-6 div.sk-parallel-item:first-child::after {align-self: flex-end;width: 50%;}#sk-container-id-6 div.sk-parallel-item:last-child::after {align-self: flex-start;width: 50%;}#sk-container-id-6 div.sk-parallel-item:only-child::after {width: 0;}#sk-container-id-6 div.sk-dashed-wrapped {border: 1px dashed gray;margin: 0 0.4em 0.5em 0.4em;box-sizing: border-box;padding-bottom: 0.4em;background-color: white;}#sk-container-id-6 div.sk-label label {font-family: monospace;font-weight: bold;display: inline-block;line-height: 1.2em;}#sk-container-id-6 div.sk-label-container {text-align: center;}#sk-container-id-6 div.sk-container {/* jupyter's `normalize.less` sets `[hidden] { display: none; }` but bootstrap.min.css set `[hidden] { display: none !important; }` so we also need the `!important` here to be able to override the default hidden behavior on the sphinx rendered scikit-learn.org. See: https://github.com/scikit-learn/scikit-learn/issues/21755 */display: inline-block !important;position: relative;}#sk-container-id-6 div.sk-text-repr-fallback {display: none;}</style><div id=\"sk-container-id-6\" class=\"sk-top-container\"><div class=\"sk-text-repr-fallback\"><pre>RandomizedSearchCV(cv=StratifiedKFold(n_splits=3, random_state=1234, shuffle=True),\n",
       "                   estimator=Pipeline(steps=[(&#x27;preprocessing&#x27;,\n",
       "                                              ColumnTransformer(sparse_threshold=0,\n",
       "                                                                transformers=[(&#x27;num&#x27;,\n",
       "                                                                               Pipeline(steps=[(&#x27;imputer&#x27;,\n",
       "                                                                                                SimpleImputer(strategy=&#x27;median&#x27;))]),\n",
       "                                                                               [&#x27;age&#x27;,\n",
       "                                                                                &#x27;fnlwgt&#x27;,\n",
       "                                                                                &#x27;capital_gain&#x27;,\n",
       "                                                                                &#x27;capital_loss&#x27;,\n",
       "                                                                                &#x27;hours_per_week&#x27;]),\n",
       "                                                                              (&#x27;one_hot_encoding&#x27;,\n",
       "                                                                               Pipeline(steps=[(&#x27;im...\n",
       "                   param_distributions={&#x27;model__learning_rate&#x27;: &lt;scipy.stats._distn_infrastructure.rv_continuous_frozen object at 0x00000212688E6680&gt;,\n",
       "                                        &#x27;model__max_iter&#x27;: &lt;scipy.stats._distn_infrastructure.rv_discrete_frozen object at 0x000002126836B190&gt;,\n",
       "                                        &#x27;model__min_samples_leaf&#x27;: &lt;scipy.stats._distn_infrastructure.rv_discrete_frozen object at 0x00000212688E7EE0&gt;},\n",
       "                   random_state=1234, scoring=&#x27;balanced_accuracy&#x27;)</pre><b>In a Jupyter environment, please rerun this cell to show the HTML representation or trust the notebook. <br />On GitHub, the HTML representation is unable to render, please try loading this page with nbviewer.org.</b></div><div class=\"sk-container\" hidden><div class=\"sk-item sk-dashed-wrapped\"><div class=\"sk-label-container\"><div class=\"sk-label sk-toggleable\"><input class=\"sk-toggleable__control sk-hidden--visually\" id=\"sk-estimator-id-46\" type=\"checkbox\" ><label for=\"sk-estimator-id-46\" class=\"sk-toggleable__label sk-toggleable__label-arrow\">RandomizedSearchCV</label><div class=\"sk-toggleable__content\"><pre>RandomizedSearchCV(cv=StratifiedKFold(n_splits=3, random_state=1234, shuffle=True),\n",
       "                   estimator=Pipeline(steps=[(&#x27;preprocessing&#x27;,\n",
       "                                              ColumnTransformer(sparse_threshold=0,\n",
       "                                                                transformers=[(&#x27;num&#x27;,\n",
       "                                                                               Pipeline(steps=[(&#x27;imputer&#x27;,\n",
       "                                                                                                SimpleImputer(strategy=&#x27;median&#x27;))]),\n",
       "                                                                               [&#x27;age&#x27;,\n",
       "                                                                                &#x27;fnlwgt&#x27;,\n",
       "                                                                                &#x27;capital_gain&#x27;,\n",
       "                                                                                &#x27;capital_loss&#x27;,\n",
       "                                                                                &#x27;hours_per_week&#x27;]),\n",
       "                                                                              (&#x27;one_hot_encoding&#x27;,\n",
       "                                                                               Pipeline(steps=[(&#x27;im...\n",
       "                   param_distributions={&#x27;model__learning_rate&#x27;: &lt;scipy.stats._distn_infrastructure.rv_continuous_frozen object at 0x00000212688E6680&gt;,\n",
       "                                        &#x27;model__max_iter&#x27;: &lt;scipy.stats._distn_infrastructure.rv_discrete_frozen object at 0x000002126836B190&gt;,\n",
       "                                        &#x27;model__min_samples_leaf&#x27;: &lt;scipy.stats._distn_infrastructure.rv_discrete_frozen object at 0x00000212688E7EE0&gt;},\n",
       "                   random_state=1234, scoring=&#x27;balanced_accuracy&#x27;)</pre></div></div></div><div class=\"sk-parallel\"><div class=\"sk-parallel-item\"><div class=\"sk-item\"><div class=\"sk-label-container\"><div class=\"sk-label sk-toggleable\"><input class=\"sk-toggleable__control sk-hidden--visually\" id=\"sk-estimator-id-47\" type=\"checkbox\" ><label for=\"sk-estimator-id-47\" class=\"sk-toggleable__label sk-toggleable__label-arrow\">estimator: Pipeline</label><div class=\"sk-toggleable__content\"><pre>Pipeline(steps=[(&#x27;preprocessing&#x27;,\n",
       "                 ColumnTransformer(sparse_threshold=0,\n",
       "                                   transformers=[(&#x27;num&#x27;,\n",
       "                                                  Pipeline(steps=[(&#x27;imputer&#x27;,\n",
       "                                                                   SimpleImputer(strategy=&#x27;median&#x27;))]),\n",
       "                                                  [&#x27;age&#x27;, &#x27;fnlwgt&#x27;,\n",
       "                                                   &#x27;capital_gain&#x27;,\n",
       "                                                   &#x27;capital_loss&#x27;,\n",
       "                                                   &#x27;hours_per_week&#x27;]),\n",
       "                                                 (&#x27;one_hot_encoding&#x27;,\n",
       "                                                  Pipeline(steps=[(&#x27;imputer&#x27;,\n",
       "                                                                   SimpleImputer(strategy=&#x27;most_frequent&#x27;)),\n",
       "                                                                  (&#x27;encoder&#x27;,\n",
       "                                                                   OneHotEncoder(drop=&#x27;first&#x27;,\n",
       "                                                                                 handl...\n",
       "                                                   &#x27;sex&#x27;]),\n",
       "                                                 (&#x27;count_encoder&#x27;,\n",
       "                                                  Pipeline(steps=[(&#x27;imputer&#x27;,\n",
       "                                                                   SimpleImputer(strategy=&#x27;most_frequent&#x27;)),\n",
       "                                                                  (&#x27;encoder&#x27;,\n",
       "                                                                   CountEncoder(combine_min_nan_groups=True))]),\n",
       "                                                  [&#x27;education&#x27;, &#x27;occupation&#x27;,\n",
       "                                                   &#x27;native_country&#x27;])])),\n",
       "                (&#x27;model&#x27;,\n",
       "                 HistGradientBoostingClassifier(class_weight=&#x27;balanced&#x27;,\n",
       "                                                early_stopping=False,\n",
       "                                                min_samples_leaf=30,\n",
       "                                                random_state=1234,\n",
       "                                                scoring=&#x27;balanced_accuracy&#x27;))])</pre></div></div></div><div class=\"sk-serial\"><div class=\"sk-item\"><div class=\"sk-serial\"><div class=\"sk-item sk-dashed-wrapped\"><div class=\"sk-label-container\"><div class=\"sk-label sk-toggleable\"><input class=\"sk-toggleable__control sk-hidden--visually\" id=\"sk-estimator-id-48\" type=\"checkbox\" ><label for=\"sk-estimator-id-48\" class=\"sk-toggleable__label sk-toggleable__label-arrow\">preprocessing: ColumnTransformer</label><div class=\"sk-toggleable__content\"><pre>ColumnTransformer(sparse_threshold=0,\n",
       "                  transformers=[(&#x27;num&#x27;,\n",
       "                                 Pipeline(steps=[(&#x27;imputer&#x27;,\n",
       "                                                  SimpleImputer(strategy=&#x27;median&#x27;))]),\n",
       "                                 [&#x27;age&#x27;, &#x27;fnlwgt&#x27;, &#x27;capital_gain&#x27;,\n",
       "                                  &#x27;capital_loss&#x27;, &#x27;hours_per_week&#x27;]),\n",
       "                                (&#x27;one_hot_encoding&#x27;,\n",
       "                                 Pipeline(steps=[(&#x27;imputer&#x27;,\n",
       "                                                  SimpleImputer(strategy=&#x27;most_frequent&#x27;)),\n",
       "                                                 (&#x27;encoder&#x27;,\n",
       "                                                  OneHotEncoder(drop=&#x27;first&#x27;,\n",
       "                                                                handle_unknown=&#x27;ignore&#x27;))]),\n",
       "                                 [&#x27;workclass&#x27;, &#x27;marital_status&#x27;, &#x27;relationship&#x27;,\n",
       "                                  &#x27;race&#x27;, &#x27;sex&#x27;]),\n",
       "                                (&#x27;count_encoder&#x27;,\n",
       "                                 Pipeline(steps=[(&#x27;imputer&#x27;,\n",
       "                                                  SimpleImputer(strategy=&#x27;most_frequent&#x27;)),\n",
       "                                                 (&#x27;encoder&#x27;,\n",
       "                                                  CountEncoder(combine_min_nan_groups=True))]),\n",
       "                                 [&#x27;education&#x27;, &#x27;occupation&#x27;,\n",
       "                                  &#x27;native_country&#x27;])])</pre></div></div></div><div class=\"sk-parallel\"><div class=\"sk-parallel-item\"><div class=\"sk-item\"><div class=\"sk-label-container\"><div class=\"sk-label sk-toggleable\"><input class=\"sk-toggleable__control sk-hidden--visually\" id=\"sk-estimator-id-49\" type=\"checkbox\" ><label for=\"sk-estimator-id-49\" class=\"sk-toggleable__label sk-toggleable__label-arrow\">num</label><div class=\"sk-toggleable__content\"><pre>[&#x27;age&#x27;, &#x27;fnlwgt&#x27;, &#x27;capital_gain&#x27;, &#x27;capital_loss&#x27;, &#x27;hours_per_week&#x27;]</pre></div></div></div><div class=\"sk-serial\"><div class=\"sk-item\"><div class=\"sk-serial\"><div class=\"sk-item\"><div class=\"sk-estimator sk-toggleable\"><input class=\"sk-toggleable__control sk-hidden--visually\" id=\"sk-estimator-id-50\" type=\"checkbox\" ><label for=\"sk-estimator-id-50\" class=\"sk-toggleable__label sk-toggleable__label-arrow\">SimpleImputer</label><div class=\"sk-toggleable__content\"><pre>SimpleImputer(strategy=&#x27;median&#x27;)</pre></div></div></div></div></div></div></div></div><div class=\"sk-parallel-item\"><div class=\"sk-item\"><div class=\"sk-label-container\"><div class=\"sk-label sk-toggleable\"><input class=\"sk-toggleable__control sk-hidden--visually\" id=\"sk-estimator-id-51\" type=\"checkbox\" ><label for=\"sk-estimator-id-51\" class=\"sk-toggleable__label sk-toggleable__label-arrow\">one_hot_encoding</label><div class=\"sk-toggleable__content\"><pre>[&#x27;workclass&#x27;, &#x27;marital_status&#x27;, &#x27;relationship&#x27;, &#x27;race&#x27;, &#x27;sex&#x27;]</pre></div></div></div><div class=\"sk-serial\"><div class=\"sk-item\"><div class=\"sk-serial\"><div class=\"sk-item\"><div class=\"sk-estimator sk-toggleable\"><input class=\"sk-toggleable__control sk-hidden--visually\" id=\"sk-estimator-id-52\" type=\"checkbox\" ><label for=\"sk-estimator-id-52\" class=\"sk-toggleable__label sk-toggleable__label-arrow\">SimpleImputer</label><div class=\"sk-toggleable__content\"><pre>SimpleImputer(strategy=&#x27;most_frequent&#x27;)</pre></div></div></div><div class=\"sk-item\"><div class=\"sk-estimator sk-toggleable\"><input class=\"sk-toggleable__control sk-hidden--visually\" id=\"sk-estimator-id-53\" type=\"checkbox\" ><label for=\"sk-estimator-id-53\" class=\"sk-toggleable__label sk-toggleable__label-arrow\">OneHotEncoder</label><div class=\"sk-toggleable__content\"><pre>OneHotEncoder(drop=&#x27;first&#x27;, handle_unknown=&#x27;ignore&#x27;)</pre></div></div></div></div></div></div></div></div><div class=\"sk-parallel-item\"><div class=\"sk-item\"><div class=\"sk-label-container\"><div class=\"sk-label sk-toggleable\"><input class=\"sk-toggleable__control sk-hidden--visually\" id=\"sk-estimator-id-54\" type=\"checkbox\" ><label for=\"sk-estimator-id-54\" class=\"sk-toggleable__label sk-toggleable__label-arrow\">count_encoder</label><div class=\"sk-toggleable__content\"><pre>[&#x27;education&#x27;, &#x27;occupation&#x27;, &#x27;native_country&#x27;]</pre></div></div></div><div class=\"sk-serial\"><div class=\"sk-item\"><div class=\"sk-serial\"><div class=\"sk-item\"><div class=\"sk-estimator sk-toggleable\"><input class=\"sk-toggleable__control sk-hidden--visually\" id=\"sk-estimator-id-55\" type=\"checkbox\" ><label for=\"sk-estimator-id-55\" class=\"sk-toggleable__label sk-toggleable__label-arrow\">SimpleImputer</label><div class=\"sk-toggleable__content\"><pre>SimpleImputer(strategy=&#x27;most_frequent&#x27;)</pre></div></div></div><div class=\"sk-item\"><div class=\"sk-estimator sk-toggleable\"><input class=\"sk-toggleable__control sk-hidden--visually\" id=\"sk-estimator-id-56\" type=\"checkbox\" ><label for=\"sk-estimator-id-56\" class=\"sk-toggleable__label sk-toggleable__label-arrow\">CountEncoder</label><div class=\"sk-toggleable__content\"><pre>CountEncoder(combine_min_nan_groups=True)</pre></div></div></div></div></div></div></div></div></div></div><div class=\"sk-item\"><div class=\"sk-estimator sk-toggleable\"><input class=\"sk-toggleable__control sk-hidden--visually\" id=\"sk-estimator-id-57\" type=\"checkbox\" ><label for=\"sk-estimator-id-57\" class=\"sk-toggleable__label sk-toggleable__label-arrow\">HistGradientBoostingClassifier</label><div class=\"sk-toggleable__content\"><pre>HistGradientBoostingClassifier(class_weight=&#x27;balanced&#x27;, early_stopping=False,\n",
       "                               min_samples_leaf=30, random_state=1234,\n",
       "                               scoring=&#x27;balanced_accuracy&#x27;)</pre></div></div></div></div></div></div></div></div></div></div></div></div>"
      ],
      "text/plain": [
       "RandomizedSearchCV(cv=StratifiedKFold(n_splits=3, random_state=1234, shuffle=True),\n",
       "                   estimator=Pipeline(steps=[('preprocessing',\n",
       "                                              ColumnTransformer(sparse_threshold=0,\n",
       "                                                                transformers=[('num',\n",
       "                                                                               Pipeline(steps=[('imputer',\n",
       "                                                                                                SimpleImputer(strategy='median'))]),\n",
       "                                                                               ['age',\n",
       "                                                                                'fnlwgt',\n",
       "                                                                                'capital_gain',\n",
       "                                                                                'capital_loss',\n",
       "                                                                                'hours_per_week']),\n",
       "                                                                              ('one_hot_encoding',\n",
       "                                                                               Pipeline(steps=[('im...\n",
       "                   param_distributions={'model__learning_rate': <scipy.stats._distn_infrastructure.rv_continuous_frozen object at 0x00000212688E6680>,\n",
       "                                        'model__max_iter': <scipy.stats._distn_infrastructure.rv_discrete_frozen object at 0x000002126836B190>,\n",
       "                                        'model__min_samples_leaf': <scipy.stats._distn_infrastructure.rv_discrete_frozen object at 0x00000212688E7EE0>},\n",
       "                   random_state=1234, scoring='balanced_accuracy')"
      ]
     },
     "execution_count": 50,
     "metadata": {},
     "output_type": "execute_result"
    }
   ],
   "source": [
    "# Display pipeline\n",
    "print(\"Time taken: \", count_hgb_tune9_time_taken)\n",
    "count_hgb_tune9"
   ]
  },
  {
   "cell_type": "code",
   "execution_count": 51,
   "id": "aae5e3ff",
   "metadata": {},
   "outputs": [
    {
     "name": "stdout",
     "output_type": "stream",
     "text": [
      "Best parameters: {'model__learning_rate': 0.19661773939519173, 'model__max_iter': 48, 'model__min_samples_leaf': 18}\n",
      "Balanced accuracy with best parameters: 0.8428515413302288\n"
     ]
    }
   ],
   "source": [
    "# Predict using the model with the best parameters\n",
    "y_count_hgb_tune_pred = count_hgb_tune.predict(X_test)\n",
    "\n",
    "# Get the best parameters\n",
    "count_hgb_tune_best_params = count_hgb_tune.best_params_\n",
    "print(f'Best parameters: {count_hgb_tune_best_params}')\n",
    "\n",
    "# Calculate balanced accuracy for the model with the best parameters\n",
    "count_hgb_tune_accuracy = balanced_accuracy_score(y_test, y_count_hgb_tune_pred)\n",
    "print(f'Balanced accuracy with best parameters: {count_hgb_tune_accuracy}')\n",
    "\n",
    "# Save results\n",
    "default_summary.append(\"Tune\")\n",
    "card_9_summary.append(\"AllVariables\")\n",
    "encoder_summary.append(\"CountEncoding\")\n",
    "value_summary.append(count_hgb_tune_accuracy)\n",
    "time_summary.append(count_hgb_tune_time_taken)\n",
    "n_models_summary.append(count_hgb_tune.n_iter)"
   ]
  },
  {
   "cell_type": "code",
   "execution_count": 52,
   "id": "97739fce",
   "metadata": {},
   "outputs": [
    {
     "name": "stdout",
     "output_type": "stream",
     "text": [
      "Best parameters: {'model__learning_rate': 0.02713469142665797, 'model__max_iter': 284, 'model__min_samples_leaf': 22}\n",
      "Balanced accuracy with best parameters: 0.8422398457099693\n"
     ]
    }
   ],
   "source": [
    "# Predict using the model with the best parameters\n",
    "y_count_hgb_tune_pred9 = count_hgb_tune9.predict(X_test)\n",
    "\n",
    "# Get the best parameters\n",
    "count_hgb_tune_best_params9 = count_hgb_tune9.best_params_\n",
    "print(f'Best parameters: {count_hgb_tune_best_params9}')\n",
    "\n",
    "# Calculate balanced accuracy for the model with the best parameters\n",
    "count_hgb_tune_accuracy9 = balanced_accuracy_score(y_test, y_count_hgb_tune_pred9)\n",
    "print(f'Balanced accuracy with best parameters: {count_hgb_tune_accuracy9}')\n",
    "\n",
    "# Save results\n",
    "default_summary.append(\"Tune\")\n",
    "card_9_summary.append(\"OnlyVariablesWithCard>9\")\n",
    "encoder_summary.append(\"CountEncoding\")\n",
    "value_summary.append(count_hgb_tune_accuracy9)\n",
    "time_summary.append(count_hgb_tune9_time_taken)\n",
    "n_models_summary.append(count_hgb_tune9.n_iter)"
   ]
  },
  {
   "cell_type": "markdown",
   "id": "f3e2a21f",
   "metadata": {},
   "source": [
    "### Ordinal Encoding + HistGradientBoosting\n"
   ]
  },
  {
   "cell_type": "code",
   "execution_count": 53,
   "metadata": {},
   "outputs": [],
   "source": [
    "from sklearn.preprocessing import OrdinalEncoder"
   ]
  },
  {
   "cell_type": "markdown",
   "id": "a82791dc",
   "metadata": {},
   "source": [
    "#### Preprocessing"
   ]
  },
  {
   "cell_type": "code",
   "execution_count": 54,
   "metadata": {},
   "outputs": [],
   "source": [
    "cat_pipeline_more9 = Pipeline([\n",
    "    (\"imputer\", SimpleImputer(strategy = \"most_frequent\")),\n",
    "    (\"encoder\", OrdinalEncoder(dtype = int,\n",
    "                               handle_unknown = 'use_encoded_value',\n",
    "                               unknown_value = 99999,\n",
    "                               encoded_missing_value = 99999))\n",
    "])\n",
    "\n",
    "cat_pipeline_less9 = Pipeline([\n",
    "    (\"imputer\", SimpleImputer(strategy = \"most_frequent\")),\n",
    "    (\"encoder\", OneHotEncoder(drop = \"first\", handle_unknown = \"ignore\"))\n",
    "])\n",
    "\n",
    "preprop_pipeline = ColumnTransformer(\n",
    "    transformers = [(\"num\", num_pipeline, num_cols),\n",
    "                    (\"ordinal_encoder\", cat_pipeline_more9, cat_cols)],\n",
    "    sparse_threshold=0\n",
    ")\n",
    "\n",
    "preprop_pipeline9 = ColumnTransformer(\n",
    "    transformers = [(\"num\", num_pipeline, num_cols),\n",
    "                    (\"one_hot_encoding\", cat_pipeline_less9, cat_cols_less9),\n",
    "                    (\"ordinalencoder\", cat_pipeline_more9, cat_cols_more9)\n",
    "                   ],\n",
    "    sparse_threshold=0\n",
    ")"
   ]
  },
  {
   "cell_type": "markdown",
   "id": "68e444f8",
   "metadata": {},
   "source": [
    "#### Create a HistGradientBoostingClassifier model with default parameters and early stopping"
   ]
  },
  {
   "cell_type": "code",
   "execution_count": 55,
   "metadata": {},
   "outputs": [],
   "source": [
    "ordinal_hgb_default_pipeline = Pipeline([('preprocessing', preprop_pipeline),\n",
    "                                         ('model', hgb_default)])\n",
    "\n",
    "ordinal_hgb_default_pipeline9 = Pipeline([('preprocessing', preprop_pipeline9),\n",
    "                                          ('model', hgb_default9)])"
   ]
  },
  {
   "cell_type": "code",
   "execution_count": 56,
   "metadata": {},
   "outputs": [],
   "source": [
    "tic = time.time()\n",
    "\n",
    "ordinal_hgb_default = ordinal_hgb_default_pipeline.fit(X_train, y_train)\n",
    "\n",
    "toc = time.time()\n",
    "ordinal_hgb_default_time_taken = toc-tic"
   ]
  },
  {
   "cell_type": "code",
   "execution_count": 57,
   "metadata": {},
   "outputs": [
    {
     "name": "stdout",
     "output_type": "stream",
     "text": [
      "Time taken:  0.7226080894470215\n"
     ]
    },
    {
     "data": {
      "text/html": [
       "<style>#sk-container-id-7 {color: black;}#sk-container-id-7 pre{padding: 0;}#sk-container-id-7 div.sk-toggleable {background-color: white;}#sk-container-id-7 label.sk-toggleable__label {cursor: pointer;display: block;width: 100%;margin-bottom: 0;padding: 0.3em;box-sizing: border-box;text-align: center;}#sk-container-id-7 label.sk-toggleable__label-arrow:before {content: \"▸\";float: left;margin-right: 0.25em;color: #696969;}#sk-container-id-7 label.sk-toggleable__label-arrow:hover:before {color: black;}#sk-container-id-7 div.sk-estimator:hover label.sk-toggleable__label-arrow:before {color: black;}#sk-container-id-7 div.sk-toggleable__content {max-height: 0;max-width: 0;overflow: hidden;text-align: left;background-color: #f0f8ff;}#sk-container-id-7 div.sk-toggleable__content pre {margin: 0.2em;color: black;border-radius: 0.25em;background-color: #f0f8ff;}#sk-container-id-7 input.sk-toggleable__control:checked~div.sk-toggleable__content {max-height: 200px;max-width: 100%;overflow: auto;}#sk-container-id-7 input.sk-toggleable__control:checked~label.sk-toggleable__label-arrow:before {content: \"▾\";}#sk-container-id-7 div.sk-estimator input.sk-toggleable__control:checked~label.sk-toggleable__label {background-color: #d4ebff;}#sk-container-id-7 div.sk-label input.sk-toggleable__control:checked~label.sk-toggleable__label {background-color: #d4ebff;}#sk-container-id-7 input.sk-hidden--visually {border: 0;clip: rect(1px 1px 1px 1px);clip: rect(1px, 1px, 1px, 1px);height: 1px;margin: -1px;overflow: hidden;padding: 0;position: absolute;width: 1px;}#sk-container-id-7 div.sk-estimator {font-family: monospace;background-color: #f0f8ff;border: 1px dotted black;border-radius: 0.25em;box-sizing: border-box;margin-bottom: 0.5em;}#sk-container-id-7 div.sk-estimator:hover {background-color: #d4ebff;}#sk-container-id-7 div.sk-parallel-item::after {content: \"\";width: 100%;border-bottom: 1px solid gray;flex-grow: 1;}#sk-container-id-7 div.sk-label:hover label.sk-toggleable__label {background-color: #d4ebff;}#sk-container-id-7 div.sk-serial::before {content: \"\";position: absolute;border-left: 1px solid gray;box-sizing: border-box;top: 0;bottom: 0;left: 50%;z-index: 0;}#sk-container-id-7 div.sk-serial {display: flex;flex-direction: column;align-items: center;background-color: white;padding-right: 0.2em;padding-left: 0.2em;position: relative;}#sk-container-id-7 div.sk-item {position: relative;z-index: 1;}#sk-container-id-7 div.sk-parallel {display: flex;align-items: stretch;justify-content: center;background-color: white;position: relative;}#sk-container-id-7 div.sk-item::before, #sk-container-id-7 div.sk-parallel-item::before {content: \"\";position: absolute;border-left: 1px solid gray;box-sizing: border-box;top: 0;bottom: 0;left: 50%;z-index: -1;}#sk-container-id-7 div.sk-parallel-item {display: flex;flex-direction: column;z-index: 1;position: relative;background-color: white;}#sk-container-id-7 div.sk-parallel-item:first-child::after {align-self: flex-end;width: 50%;}#sk-container-id-7 div.sk-parallel-item:last-child::after {align-self: flex-start;width: 50%;}#sk-container-id-7 div.sk-parallel-item:only-child::after {width: 0;}#sk-container-id-7 div.sk-dashed-wrapped {border: 1px dashed gray;margin: 0 0.4em 0.5em 0.4em;box-sizing: border-box;padding-bottom: 0.4em;background-color: white;}#sk-container-id-7 div.sk-label label {font-family: monospace;font-weight: bold;display: inline-block;line-height: 1.2em;}#sk-container-id-7 div.sk-label-container {text-align: center;}#sk-container-id-7 div.sk-container {/* jupyter's `normalize.less` sets `[hidden] { display: none; }` but bootstrap.min.css set `[hidden] { display: none !important; }` so we also need the `!important` here to be able to override the default hidden behavior on the sphinx rendered scikit-learn.org. See: https://github.com/scikit-learn/scikit-learn/issues/21755 */display: inline-block !important;position: relative;}#sk-container-id-7 div.sk-text-repr-fallback {display: none;}</style><div id=\"sk-container-id-7\" class=\"sk-top-container\"><div class=\"sk-text-repr-fallback\"><pre>Pipeline(steps=[(&#x27;preprocessing&#x27;,\n",
       "                 ColumnTransformer(sparse_threshold=0,\n",
       "                                   transformers=[(&#x27;num&#x27;,\n",
       "                                                  Pipeline(steps=[(&#x27;imputer&#x27;,\n",
       "                                                                   SimpleImputer(strategy=&#x27;median&#x27;))]),\n",
       "                                                  [&#x27;age&#x27;, &#x27;fnlwgt&#x27;,\n",
       "                                                   &#x27;capital_gain&#x27;,\n",
       "                                                   &#x27;capital_loss&#x27;,\n",
       "                                                   &#x27;hours_per_week&#x27;]),\n",
       "                                                 (&#x27;ordinal_encoder&#x27;,\n",
       "                                                  Pipeline(steps=[(&#x27;imputer&#x27;,\n",
       "                                                                   SimpleImputer(strategy=&#x27;most_frequent&#x27;)),\n",
       "                                                                  (&#x27;encoder&#x27;,\n",
       "                                                                   OrdinalEncoder(dtype=&lt;class &#x27;int&#x27;&gt;,\n",
       "                                                                                  encoded_missing_value=99999,\n",
       "                                                                                  handle_unknown=&#x27;use_encoded_value&#x27;,\n",
       "                                                                                  unknown_value=99999))]),\n",
       "                                                  [&#x27;workclass&#x27;, &#x27;education&#x27;,\n",
       "                                                   &#x27;marital_status&#x27;,\n",
       "                                                   &#x27;occupation&#x27;, &#x27;relationship&#x27;,\n",
       "                                                   &#x27;race&#x27;, &#x27;sex&#x27;,\n",
       "                                                   &#x27;native_country&#x27;])])),\n",
       "                (&#x27;model&#x27;,\n",
       "                 HistGradientBoostingClassifier(class_weight=&#x27;balanced&#x27;,\n",
       "                                                early_stopping=False,\n",
       "                                                min_samples_leaf=30,\n",
       "                                                random_state=1234,\n",
       "                                                scoring=&#x27;balanced_accuracy&#x27;))])</pre><b>In a Jupyter environment, please rerun this cell to show the HTML representation or trust the notebook. <br />On GitHub, the HTML representation is unable to render, please try loading this page with nbviewer.org.</b></div><div class=\"sk-container\" hidden><div class=\"sk-item sk-dashed-wrapped\"><div class=\"sk-label-container\"><div class=\"sk-label sk-toggleable\"><input class=\"sk-toggleable__control sk-hidden--visually\" id=\"sk-estimator-id-58\" type=\"checkbox\" ><label for=\"sk-estimator-id-58\" class=\"sk-toggleable__label sk-toggleable__label-arrow\">Pipeline</label><div class=\"sk-toggleable__content\"><pre>Pipeline(steps=[(&#x27;preprocessing&#x27;,\n",
       "                 ColumnTransformer(sparse_threshold=0,\n",
       "                                   transformers=[(&#x27;num&#x27;,\n",
       "                                                  Pipeline(steps=[(&#x27;imputer&#x27;,\n",
       "                                                                   SimpleImputer(strategy=&#x27;median&#x27;))]),\n",
       "                                                  [&#x27;age&#x27;, &#x27;fnlwgt&#x27;,\n",
       "                                                   &#x27;capital_gain&#x27;,\n",
       "                                                   &#x27;capital_loss&#x27;,\n",
       "                                                   &#x27;hours_per_week&#x27;]),\n",
       "                                                 (&#x27;ordinal_encoder&#x27;,\n",
       "                                                  Pipeline(steps=[(&#x27;imputer&#x27;,\n",
       "                                                                   SimpleImputer(strategy=&#x27;most_frequent&#x27;)),\n",
       "                                                                  (&#x27;encoder&#x27;,\n",
       "                                                                   OrdinalEncoder(dtype=&lt;class &#x27;int&#x27;&gt;,\n",
       "                                                                                  encoded_missing_value=99999,\n",
       "                                                                                  handle_unknown=&#x27;use_encoded_value&#x27;,\n",
       "                                                                                  unknown_value=99999))]),\n",
       "                                                  [&#x27;workclass&#x27;, &#x27;education&#x27;,\n",
       "                                                   &#x27;marital_status&#x27;,\n",
       "                                                   &#x27;occupation&#x27;, &#x27;relationship&#x27;,\n",
       "                                                   &#x27;race&#x27;, &#x27;sex&#x27;,\n",
       "                                                   &#x27;native_country&#x27;])])),\n",
       "                (&#x27;model&#x27;,\n",
       "                 HistGradientBoostingClassifier(class_weight=&#x27;balanced&#x27;,\n",
       "                                                early_stopping=False,\n",
       "                                                min_samples_leaf=30,\n",
       "                                                random_state=1234,\n",
       "                                                scoring=&#x27;balanced_accuracy&#x27;))])</pre></div></div></div><div class=\"sk-serial\"><div class=\"sk-item sk-dashed-wrapped\"><div class=\"sk-label-container\"><div class=\"sk-label sk-toggleable\"><input class=\"sk-toggleable__control sk-hidden--visually\" id=\"sk-estimator-id-59\" type=\"checkbox\" ><label for=\"sk-estimator-id-59\" class=\"sk-toggleable__label sk-toggleable__label-arrow\">preprocessing: ColumnTransformer</label><div class=\"sk-toggleable__content\"><pre>ColumnTransformer(sparse_threshold=0,\n",
       "                  transformers=[(&#x27;num&#x27;,\n",
       "                                 Pipeline(steps=[(&#x27;imputer&#x27;,\n",
       "                                                  SimpleImputer(strategy=&#x27;median&#x27;))]),\n",
       "                                 [&#x27;age&#x27;, &#x27;fnlwgt&#x27;, &#x27;capital_gain&#x27;,\n",
       "                                  &#x27;capital_loss&#x27;, &#x27;hours_per_week&#x27;]),\n",
       "                                (&#x27;ordinal_encoder&#x27;,\n",
       "                                 Pipeline(steps=[(&#x27;imputer&#x27;,\n",
       "                                                  SimpleImputer(strategy=&#x27;most_frequent&#x27;)),\n",
       "                                                 (&#x27;encoder&#x27;,\n",
       "                                                  OrdinalEncoder(dtype=&lt;class &#x27;int&#x27;&gt;,\n",
       "                                                                 encoded_missing_value=99999,\n",
       "                                                                 handle_unknown=&#x27;use_encoded_value&#x27;,\n",
       "                                                                 unknown_value=99999))]),\n",
       "                                 [&#x27;workclass&#x27;, &#x27;education&#x27;, &#x27;marital_status&#x27;,\n",
       "                                  &#x27;occupation&#x27;, &#x27;relationship&#x27;, &#x27;race&#x27;, &#x27;sex&#x27;,\n",
       "                                  &#x27;native_country&#x27;])])</pre></div></div></div><div class=\"sk-parallel\"><div class=\"sk-parallel-item\"><div class=\"sk-item\"><div class=\"sk-label-container\"><div class=\"sk-label sk-toggleable\"><input class=\"sk-toggleable__control sk-hidden--visually\" id=\"sk-estimator-id-60\" type=\"checkbox\" ><label for=\"sk-estimator-id-60\" class=\"sk-toggleable__label sk-toggleable__label-arrow\">num</label><div class=\"sk-toggleable__content\"><pre>[&#x27;age&#x27;, &#x27;fnlwgt&#x27;, &#x27;capital_gain&#x27;, &#x27;capital_loss&#x27;, &#x27;hours_per_week&#x27;]</pre></div></div></div><div class=\"sk-serial\"><div class=\"sk-item\"><div class=\"sk-serial\"><div class=\"sk-item\"><div class=\"sk-estimator sk-toggleable\"><input class=\"sk-toggleable__control sk-hidden--visually\" id=\"sk-estimator-id-61\" type=\"checkbox\" ><label for=\"sk-estimator-id-61\" class=\"sk-toggleable__label sk-toggleable__label-arrow\">SimpleImputer</label><div class=\"sk-toggleable__content\"><pre>SimpleImputer(strategy=&#x27;median&#x27;)</pre></div></div></div></div></div></div></div></div><div class=\"sk-parallel-item\"><div class=\"sk-item\"><div class=\"sk-label-container\"><div class=\"sk-label sk-toggleable\"><input class=\"sk-toggleable__control sk-hidden--visually\" id=\"sk-estimator-id-62\" type=\"checkbox\" ><label for=\"sk-estimator-id-62\" class=\"sk-toggleable__label sk-toggleable__label-arrow\">ordinal_encoder</label><div class=\"sk-toggleable__content\"><pre>[&#x27;workclass&#x27;, &#x27;education&#x27;, &#x27;marital_status&#x27;, &#x27;occupation&#x27;, &#x27;relationship&#x27;, &#x27;race&#x27;, &#x27;sex&#x27;, &#x27;native_country&#x27;]</pre></div></div></div><div class=\"sk-serial\"><div class=\"sk-item\"><div class=\"sk-serial\"><div class=\"sk-item\"><div class=\"sk-estimator sk-toggleable\"><input class=\"sk-toggleable__control sk-hidden--visually\" id=\"sk-estimator-id-63\" type=\"checkbox\" ><label for=\"sk-estimator-id-63\" class=\"sk-toggleable__label sk-toggleable__label-arrow\">SimpleImputer</label><div class=\"sk-toggleable__content\"><pre>SimpleImputer(strategy=&#x27;most_frequent&#x27;)</pre></div></div></div><div class=\"sk-item\"><div class=\"sk-estimator sk-toggleable\"><input class=\"sk-toggleable__control sk-hidden--visually\" id=\"sk-estimator-id-64\" type=\"checkbox\" ><label for=\"sk-estimator-id-64\" class=\"sk-toggleable__label sk-toggleable__label-arrow\">OrdinalEncoder</label><div class=\"sk-toggleable__content\"><pre>OrdinalEncoder(dtype=&lt;class &#x27;int&#x27;&gt;, encoded_missing_value=99999,\n",
       "               handle_unknown=&#x27;use_encoded_value&#x27;, unknown_value=99999)</pre></div></div></div></div></div></div></div></div></div></div><div class=\"sk-item\"><div class=\"sk-estimator sk-toggleable\"><input class=\"sk-toggleable__control sk-hidden--visually\" id=\"sk-estimator-id-65\" type=\"checkbox\" ><label for=\"sk-estimator-id-65\" class=\"sk-toggleable__label sk-toggleable__label-arrow\">HistGradientBoostingClassifier</label><div class=\"sk-toggleable__content\"><pre>HistGradientBoostingClassifier(class_weight=&#x27;balanced&#x27;, early_stopping=False,\n",
       "                               min_samples_leaf=30, random_state=1234,\n",
       "                               scoring=&#x27;balanced_accuracy&#x27;)</pre></div></div></div></div></div></div></div>"
      ],
      "text/plain": [
       "Pipeline(steps=[('preprocessing',\n",
       "                 ColumnTransformer(sparse_threshold=0,\n",
       "                                   transformers=[('num',\n",
       "                                                  Pipeline(steps=[('imputer',\n",
       "                                                                   SimpleImputer(strategy='median'))]),\n",
       "                                                  ['age', 'fnlwgt',\n",
       "                                                   'capital_gain',\n",
       "                                                   'capital_loss',\n",
       "                                                   'hours_per_week']),\n",
       "                                                 ('ordinal_encoder',\n",
       "                                                  Pipeline(steps=[('imputer',\n",
       "                                                                   SimpleImputer(strategy='most_frequent')),\n",
       "                                                                  ('encoder',\n",
       "                                                                   OrdinalEncoder(dtype=<class 'int'>,\n",
       "                                                                                  encoded_missing_value=99999,\n",
       "                                                                                  handle_unknown='use_encoded_value',\n",
       "                                                                                  unknown_value=99999))]),\n",
       "                                                  ['workclass', 'education',\n",
       "                                                   'marital_status',\n",
       "                                                   'occupation', 'relationship',\n",
       "                                                   'race', 'sex',\n",
       "                                                   'native_country'])])),\n",
       "                ('model',\n",
       "                 HistGradientBoostingClassifier(class_weight='balanced',\n",
       "                                                early_stopping=False,\n",
       "                                                min_samples_leaf=30,\n",
       "                                                random_state=1234,\n",
       "                                                scoring='balanced_accuracy'))])"
      ]
     },
     "execution_count": 57,
     "metadata": {},
     "output_type": "execute_result"
    }
   ],
   "source": [
    "# Display pipeline\n",
    "print(\"Time taken: \", ordinal_hgb_default_time_taken)\n",
    "ordinal_hgb_default"
   ]
  },
  {
   "cell_type": "code",
   "execution_count": 58,
   "metadata": {},
   "outputs": [],
   "source": [
    "tic = time.time()\n",
    "\n",
    "ordinal_hgb_default9 = ordinal_hgb_default_pipeline9.fit(X_train, y_train)\n",
    "\n",
    "toc = time.time()\n",
    "ordinal_hgb_default9_time_taken = toc-tic"
   ]
  },
  {
   "cell_type": "code",
   "execution_count": 59,
   "metadata": {},
   "outputs": [
    {
     "name": "stdout",
     "output_type": "stream",
     "text": [
      "Time taken:  0.9767529964447021\n"
     ]
    },
    {
     "data": {
      "text/html": [
       "<style>#sk-container-id-8 {color: black;}#sk-container-id-8 pre{padding: 0;}#sk-container-id-8 div.sk-toggleable {background-color: white;}#sk-container-id-8 label.sk-toggleable__label {cursor: pointer;display: block;width: 100%;margin-bottom: 0;padding: 0.3em;box-sizing: border-box;text-align: center;}#sk-container-id-8 label.sk-toggleable__label-arrow:before {content: \"▸\";float: left;margin-right: 0.25em;color: #696969;}#sk-container-id-8 label.sk-toggleable__label-arrow:hover:before {color: black;}#sk-container-id-8 div.sk-estimator:hover label.sk-toggleable__label-arrow:before {color: black;}#sk-container-id-8 div.sk-toggleable__content {max-height: 0;max-width: 0;overflow: hidden;text-align: left;background-color: #f0f8ff;}#sk-container-id-8 div.sk-toggleable__content pre {margin: 0.2em;color: black;border-radius: 0.25em;background-color: #f0f8ff;}#sk-container-id-8 input.sk-toggleable__control:checked~div.sk-toggleable__content {max-height: 200px;max-width: 100%;overflow: auto;}#sk-container-id-8 input.sk-toggleable__control:checked~label.sk-toggleable__label-arrow:before {content: \"▾\";}#sk-container-id-8 div.sk-estimator input.sk-toggleable__control:checked~label.sk-toggleable__label {background-color: #d4ebff;}#sk-container-id-8 div.sk-label input.sk-toggleable__control:checked~label.sk-toggleable__label {background-color: #d4ebff;}#sk-container-id-8 input.sk-hidden--visually {border: 0;clip: rect(1px 1px 1px 1px);clip: rect(1px, 1px, 1px, 1px);height: 1px;margin: -1px;overflow: hidden;padding: 0;position: absolute;width: 1px;}#sk-container-id-8 div.sk-estimator {font-family: monospace;background-color: #f0f8ff;border: 1px dotted black;border-radius: 0.25em;box-sizing: border-box;margin-bottom: 0.5em;}#sk-container-id-8 div.sk-estimator:hover {background-color: #d4ebff;}#sk-container-id-8 div.sk-parallel-item::after {content: \"\";width: 100%;border-bottom: 1px solid gray;flex-grow: 1;}#sk-container-id-8 div.sk-label:hover label.sk-toggleable__label {background-color: #d4ebff;}#sk-container-id-8 div.sk-serial::before {content: \"\";position: absolute;border-left: 1px solid gray;box-sizing: border-box;top: 0;bottom: 0;left: 50%;z-index: 0;}#sk-container-id-8 div.sk-serial {display: flex;flex-direction: column;align-items: center;background-color: white;padding-right: 0.2em;padding-left: 0.2em;position: relative;}#sk-container-id-8 div.sk-item {position: relative;z-index: 1;}#sk-container-id-8 div.sk-parallel {display: flex;align-items: stretch;justify-content: center;background-color: white;position: relative;}#sk-container-id-8 div.sk-item::before, #sk-container-id-8 div.sk-parallel-item::before {content: \"\";position: absolute;border-left: 1px solid gray;box-sizing: border-box;top: 0;bottom: 0;left: 50%;z-index: -1;}#sk-container-id-8 div.sk-parallel-item {display: flex;flex-direction: column;z-index: 1;position: relative;background-color: white;}#sk-container-id-8 div.sk-parallel-item:first-child::after {align-self: flex-end;width: 50%;}#sk-container-id-8 div.sk-parallel-item:last-child::after {align-self: flex-start;width: 50%;}#sk-container-id-8 div.sk-parallel-item:only-child::after {width: 0;}#sk-container-id-8 div.sk-dashed-wrapped {border: 1px dashed gray;margin: 0 0.4em 0.5em 0.4em;box-sizing: border-box;padding-bottom: 0.4em;background-color: white;}#sk-container-id-8 div.sk-label label {font-family: monospace;font-weight: bold;display: inline-block;line-height: 1.2em;}#sk-container-id-8 div.sk-label-container {text-align: center;}#sk-container-id-8 div.sk-container {/* jupyter's `normalize.less` sets `[hidden] { display: none; }` but bootstrap.min.css set `[hidden] { display: none !important; }` so we also need the `!important` here to be able to override the default hidden behavior on the sphinx rendered scikit-learn.org. See: https://github.com/scikit-learn/scikit-learn/issues/21755 */display: inline-block !important;position: relative;}#sk-container-id-8 div.sk-text-repr-fallback {display: none;}</style><div id=\"sk-container-id-8\" class=\"sk-top-container\"><div class=\"sk-text-repr-fallback\"><pre>Pipeline(steps=[(&#x27;preprocessing&#x27;,\n",
       "                 ColumnTransformer(sparse_threshold=0,\n",
       "                                   transformers=[(&#x27;num&#x27;,\n",
       "                                                  Pipeline(steps=[(&#x27;imputer&#x27;,\n",
       "                                                                   SimpleImputer(strategy=&#x27;median&#x27;))]),\n",
       "                                                  [&#x27;age&#x27;, &#x27;fnlwgt&#x27;,\n",
       "                                                   &#x27;capital_gain&#x27;,\n",
       "                                                   &#x27;capital_loss&#x27;,\n",
       "                                                   &#x27;hours_per_week&#x27;]),\n",
       "                                                 (&#x27;one_hot_encoding&#x27;,\n",
       "                                                  Pipeline(steps=[(&#x27;imputer&#x27;,\n",
       "                                                                   SimpleImputer(strategy=&#x27;most_frequent&#x27;)),\n",
       "                                                                  (&#x27;encoder&#x27;,\n",
       "                                                                   OneHotEncoder(drop=&#x27;first&#x27;,\n",
       "                                                                                 handl...\n",
       "                                                                   SimpleImputer(strategy=&#x27;most_frequent&#x27;)),\n",
       "                                                                  (&#x27;encoder&#x27;,\n",
       "                                                                   OrdinalEncoder(dtype=&lt;class &#x27;int&#x27;&gt;,\n",
       "                                                                                  encoded_missing_value=99999,\n",
       "                                                                                  handle_unknown=&#x27;use_encoded_value&#x27;,\n",
       "                                                                                  unknown_value=99999))]),\n",
       "                                                  [&#x27;education&#x27;, &#x27;occupation&#x27;,\n",
       "                                                   &#x27;native_country&#x27;])])),\n",
       "                (&#x27;model&#x27;,\n",
       "                 HistGradientBoostingClassifier(class_weight=&#x27;balanced&#x27;,\n",
       "                                                early_stopping=False,\n",
       "                                                min_samples_leaf=30,\n",
       "                                                random_state=1234,\n",
       "                                                scoring=&#x27;balanced_accuracy&#x27;))])</pre><b>In a Jupyter environment, please rerun this cell to show the HTML representation or trust the notebook. <br />On GitHub, the HTML representation is unable to render, please try loading this page with nbviewer.org.</b></div><div class=\"sk-container\" hidden><div class=\"sk-item sk-dashed-wrapped\"><div class=\"sk-label-container\"><div class=\"sk-label sk-toggleable\"><input class=\"sk-toggleable__control sk-hidden--visually\" id=\"sk-estimator-id-66\" type=\"checkbox\" ><label for=\"sk-estimator-id-66\" class=\"sk-toggleable__label sk-toggleable__label-arrow\">Pipeline</label><div class=\"sk-toggleable__content\"><pre>Pipeline(steps=[(&#x27;preprocessing&#x27;,\n",
       "                 ColumnTransformer(sparse_threshold=0,\n",
       "                                   transformers=[(&#x27;num&#x27;,\n",
       "                                                  Pipeline(steps=[(&#x27;imputer&#x27;,\n",
       "                                                                   SimpleImputer(strategy=&#x27;median&#x27;))]),\n",
       "                                                  [&#x27;age&#x27;, &#x27;fnlwgt&#x27;,\n",
       "                                                   &#x27;capital_gain&#x27;,\n",
       "                                                   &#x27;capital_loss&#x27;,\n",
       "                                                   &#x27;hours_per_week&#x27;]),\n",
       "                                                 (&#x27;one_hot_encoding&#x27;,\n",
       "                                                  Pipeline(steps=[(&#x27;imputer&#x27;,\n",
       "                                                                   SimpleImputer(strategy=&#x27;most_frequent&#x27;)),\n",
       "                                                                  (&#x27;encoder&#x27;,\n",
       "                                                                   OneHotEncoder(drop=&#x27;first&#x27;,\n",
       "                                                                                 handl...\n",
       "                                                                   SimpleImputer(strategy=&#x27;most_frequent&#x27;)),\n",
       "                                                                  (&#x27;encoder&#x27;,\n",
       "                                                                   OrdinalEncoder(dtype=&lt;class &#x27;int&#x27;&gt;,\n",
       "                                                                                  encoded_missing_value=99999,\n",
       "                                                                                  handle_unknown=&#x27;use_encoded_value&#x27;,\n",
       "                                                                                  unknown_value=99999))]),\n",
       "                                                  [&#x27;education&#x27;, &#x27;occupation&#x27;,\n",
       "                                                   &#x27;native_country&#x27;])])),\n",
       "                (&#x27;model&#x27;,\n",
       "                 HistGradientBoostingClassifier(class_weight=&#x27;balanced&#x27;,\n",
       "                                                early_stopping=False,\n",
       "                                                min_samples_leaf=30,\n",
       "                                                random_state=1234,\n",
       "                                                scoring=&#x27;balanced_accuracy&#x27;))])</pre></div></div></div><div class=\"sk-serial\"><div class=\"sk-item sk-dashed-wrapped\"><div class=\"sk-label-container\"><div class=\"sk-label sk-toggleable\"><input class=\"sk-toggleable__control sk-hidden--visually\" id=\"sk-estimator-id-67\" type=\"checkbox\" ><label for=\"sk-estimator-id-67\" class=\"sk-toggleable__label sk-toggleable__label-arrow\">preprocessing: ColumnTransformer</label><div class=\"sk-toggleable__content\"><pre>ColumnTransformer(sparse_threshold=0,\n",
       "                  transformers=[(&#x27;num&#x27;,\n",
       "                                 Pipeline(steps=[(&#x27;imputer&#x27;,\n",
       "                                                  SimpleImputer(strategy=&#x27;median&#x27;))]),\n",
       "                                 [&#x27;age&#x27;, &#x27;fnlwgt&#x27;, &#x27;capital_gain&#x27;,\n",
       "                                  &#x27;capital_loss&#x27;, &#x27;hours_per_week&#x27;]),\n",
       "                                (&#x27;one_hot_encoding&#x27;,\n",
       "                                 Pipeline(steps=[(&#x27;imputer&#x27;,\n",
       "                                                  SimpleImputer(strategy=&#x27;most_frequent&#x27;)),\n",
       "                                                 (&#x27;encoder&#x27;,\n",
       "                                                  OneHotEncoder(drop=&#x27;first&#x27;,\n",
       "                                                                handle_unknown=&#x27;ignore&#x27;))]),\n",
       "                                 [&#x27;workclass&#x27;, &#x27;marital_status&#x27;, &#x27;relationship&#x27;,\n",
       "                                  &#x27;race&#x27;, &#x27;sex&#x27;]),\n",
       "                                (&#x27;ordinalencoder&#x27;,\n",
       "                                 Pipeline(steps=[(&#x27;imputer&#x27;,\n",
       "                                                  SimpleImputer(strategy=&#x27;most_frequent&#x27;)),\n",
       "                                                 (&#x27;encoder&#x27;,\n",
       "                                                  OrdinalEncoder(dtype=&lt;class &#x27;int&#x27;&gt;,\n",
       "                                                                 encoded_missing_value=99999,\n",
       "                                                                 handle_unknown=&#x27;use_encoded_value&#x27;,\n",
       "                                                                 unknown_value=99999))]),\n",
       "                                 [&#x27;education&#x27;, &#x27;occupation&#x27;,\n",
       "                                  &#x27;native_country&#x27;])])</pre></div></div></div><div class=\"sk-parallel\"><div class=\"sk-parallel-item\"><div class=\"sk-item\"><div class=\"sk-label-container\"><div class=\"sk-label sk-toggleable\"><input class=\"sk-toggleable__control sk-hidden--visually\" id=\"sk-estimator-id-68\" type=\"checkbox\" ><label for=\"sk-estimator-id-68\" class=\"sk-toggleable__label sk-toggleable__label-arrow\">num</label><div class=\"sk-toggleable__content\"><pre>[&#x27;age&#x27;, &#x27;fnlwgt&#x27;, &#x27;capital_gain&#x27;, &#x27;capital_loss&#x27;, &#x27;hours_per_week&#x27;]</pre></div></div></div><div class=\"sk-serial\"><div class=\"sk-item\"><div class=\"sk-serial\"><div class=\"sk-item\"><div class=\"sk-estimator sk-toggleable\"><input class=\"sk-toggleable__control sk-hidden--visually\" id=\"sk-estimator-id-69\" type=\"checkbox\" ><label for=\"sk-estimator-id-69\" class=\"sk-toggleable__label sk-toggleable__label-arrow\">SimpleImputer</label><div class=\"sk-toggleable__content\"><pre>SimpleImputer(strategy=&#x27;median&#x27;)</pre></div></div></div></div></div></div></div></div><div class=\"sk-parallel-item\"><div class=\"sk-item\"><div class=\"sk-label-container\"><div class=\"sk-label sk-toggleable\"><input class=\"sk-toggleable__control sk-hidden--visually\" id=\"sk-estimator-id-70\" type=\"checkbox\" ><label for=\"sk-estimator-id-70\" class=\"sk-toggleable__label sk-toggleable__label-arrow\">one_hot_encoding</label><div class=\"sk-toggleable__content\"><pre>[&#x27;workclass&#x27;, &#x27;marital_status&#x27;, &#x27;relationship&#x27;, &#x27;race&#x27;, &#x27;sex&#x27;]</pre></div></div></div><div class=\"sk-serial\"><div class=\"sk-item\"><div class=\"sk-serial\"><div class=\"sk-item\"><div class=\"sk-estimator sk-toggleable\"><input class=\"sk-toggleable__control sk-hidden--visually\" id=\"sk-estimator-id-71\" type=\"checkbox\" ><label for=\"sk-estimator-id-71\" class=\"sk-toggleable__label sk-toggleable__label-arrow\">SimpleImputer</label><div class=\"sk-toggleable__content\"><pre>SimpleImputer(strategy=&#x27;most_frequent&#x27;)</pre></div></div></div><div class=\"sk-item\"><div class=\"sk-estimator sk-toggleable\"><input class=\"sk-toggleable__control sk-hidden--visually\" id=\"sk-estimator-id-72\" type=\"checkbox\" ><label for=\"sk-estimator-id-72\" class=\"sk-toggleable__label sk-toggleable__label-arrow\">OneHotEncoder</label><div class=\"sk-toggleable__content\"><pre>OneHotEncoder(drop=&#x27;first&#x27;, handle_unknown=&#x27;ignore&#x27;)</pre></div></div></div></div></div></div></div></div><div class=\"sk-parallel-item\"><div class=\"sk-item\"><div class=\"sk-label-container\"><div class=\"sk-label sk-toggleable\"><input class=\"sk-toggleable__control sk-hidden--visually\" id=\"sk-estimator-id-73\" type=\"checkbox\" ><label for=\"sk-estimator-id-73\" class=\"sk-toggleable__label sk-toggleable__label-arrow\">ordinalencoder</label><div class=\"sk-toggleable__content\"><pre>[&#x27;education&#x27;, &#x27;occupation&#x27;, &#x27;native_country&#x27;]</pre></div></div></div><div class=\"sk-serial\"><div class=\"sk-item\"><div class=\"sk-serial\"><div class=\"sk-item\"><div class=\"sk-estimator sk-toggleable\"><input class=\"sk-toggleable__control sk-hidden--visually\" id=\"sk-estimator-id-74\" type=\"checkbox\" ><label for=\"sk-estimator-id-74\" class=\"sk-toggleable__label sk-toggleable__label-arrow\">SimpleImputer</label><div class=\"sk-toggleable__content\"><pre>SimpleImputer(strategy=&#x27;most_frequent&#x27;)</pre></div></div></div><div class=\"sk-item\"><div class=\"sk-estimator sk-toggleable\"><input class=\"sk-toggleable__control sk-hidden--visually\" id=\"sk-estimator-id-75\" type=\"checkbox\" ><label for=\"sk-estimator-id-75\" class=\"sk-toggleable__label sk-toggleable__label-arrow\">OrdinalEncoder</label><div class=\"sk-toggleable__content\"><pre>OrdinalEncoder(dtype=&lt;class &#x27;int&#x27;&gt;, encoded_missing_value=99999,\n",
       "               handle_unknown=&#x27;use_encoded_value&#x27;, unknown_value=99999)</pre></div></div></div></div></div></div></div></div></div></div><div class=\"sk-item\"><div class=\"sk-estimator sk-toggleable\"><input class=\"sk-toggleable__control sk-hidden--visually\" id=\"sk-estimator-id-76\" type=\"checkbox\" ><label for=\"sk-estimator-id-76\" class=\"sk-toggleable__label sk-toggleable__label-arrow\">HistGradientBoostingClassifier</label><div class=\"sk-toggleable__content\"><pre>HistGradientBoostingClassifier(class_weight=&#x27;balanced&#x27;, early_stopping=False,\n",
       "                               min_samples_leaf=30, random_state=1234,\n",
       "                               scoring=&#x27;balanced_accuracy&#x27;)</pre></div></div></div></div></div></div></div>"
      ],
      "text/plain": [
       "Pipeline(steps=[('preprocessing',\n",
       "                 ColumnTransformer(sparse_threshold=0,\n",
       "                                   transformers=[('num',\n",
       "                                                  Pipeline(steps=[('imputer',\n",
       "                                                                   SimpleImputer(strategy='median'))]),\n",
       "                                                  ['age', 'fnlwgt',\n",
       "                                                   'capital_gain',\n",
       "                                                   'capital_loss',\n",
       "                                                   'hours_per_week']),\n",
       "                                                 ('one_hot_encoding',\n",
       "                                                  Pipeline(steps=[('imputer',\n",
       "                                                                   SimpleImputer(strategy='most_frequent')),\n",
       "                                                                  ('encoder',\n",
       "                                                                   OneHotEncoder(drop='first',\n",
       "                                                                                 handl...\n",
       "                                                                   SimpleImputer(strategy='most_frequent')),\n",
       "                                                                  ('encoder',\n",
       "                                                                   OrdinalEncoder(dtype=<class 'int'>,\n",
       "                                                                                  encoded_missing_value=99999,\n",
       "                                                                                  handle_unknown='use_encoded_value',\n",
       "                                                                                  unknown_value=99999))]),\n",
       "                                                  ['education', 'occupation',\n",
       "                                                   'native_country'])])),\n",
       "                ('model',\n",
       "                 HistGradientBoostingClassifier(class_weight='balanced',\n",
       "                                                early_stopping=False,\n",
       "                                                min_samples_leaf=30,\n",
       "                                                random_state=1234,\n",
       "                                                scoring='balanced_accuracy'))])"
      ]
     },
     "execution_count": 59,
     "metadata": {},
     "output_type": "execute_result"
    }
   ],
   "source": [
    "# Display pipeline\n",
    "print(\"Time taken: \", ordinal_hgb_default9_time_taken)\n",
    "ordinal_hgb_default9"
   ]
  },
  {
   "cell_type": "code",
   "execution_count": 60,
   "metadata": {},
   "outputs": [
    {
     "name": "stdout",
     "output_type": "stream",
     "text": [
      "Balanced accuracy with default parameters: 0.8423982913164894\n"
     ]
    }
   ],
   "source": [
    "# Calculate balanced accuracy for the model with default parameters\n",
    "y_ordinal_hgb_default_pred = ordinal_hgb_default.predict(X_test)\n",
    "ordinal_hgb_default_accuracy = balanced_accuracy_score(y_test, y_ordinal_hgb_default_pred)\n",
    "print(f'Balanced accuracy with default parameters: {ordinal_hgb_default_accuracy}')\n",
    "\n",
    "# Save results\n",
    "default_summary.append(\"Default\")\n",
    "card_9_summary.append(\"AllVariables\")\n",
    "encoder_summary.append(\"OrdinalEncoder\")\n",
    "value_summary.append(ordinal_hgb_default_accuracy)\n",
    "time_summary.append(ordinal_hgb_default_time_taken)\n",
    "n_models_summary.append(1)\n"
   ]
  },
  {
   "cell_type": "code",
   "execution_count": 61,
   "metadata": {},
   "outputs": [
    {
     "name": "stdout",
     "output_type": "stream",
     "text": [
      "Balanced accuracy with default parameters: 0.8398566698463632\n"
     ]
    }
   ],
   "source": [
    "# Calculate balanced accuracy for the model with default parameters\n",
    "y_ordinal_hgb_default_pred9 = ordinal_hgb_default9.predict(X_test)\n",
    "ordinal_hgb_default_accuracy9 = balanced_accuracy_score(y_test, y_ordinal_hgb_default_pred9)\n",
    "print(f'Balanced accuracy with default parameters: {ordinal_hgb_default_accuracy9}')\n",
    "\n",
    "# Save results\n",
    "default_summary.append(\"Default\")\n",
    "card_9_summary.append(\"OnlyVariablesWithCard>9\")\n",
    "encoder_summary.append(\"OrdinalEncoder\")\n",
    "value_summary.append(ordinal_hgb_default_accuracy9)\n",
    "time_summary.append(ordinal_hgb_default9_time_taken)\n",
    "n_models_summary.append(1)"
   ]
  },
  {
   "cell_type": "markdown",
   "id": "e2ec5c24",
   "metadata": {},
   "source": [
    "#### Create a HistGradientBoostingClassifier model for tuning"
   ]
  },
  {
   "cell_type": "code",
   "execution_count": 62,
   "metadata": {},
   "outputs": [],
   "source": [
    "ordinal_hgb_tune = RandomizedSearchCV(estimator = ordinal_hgb_default_pipeline, \n",
    "                                      param_distributions = param_distributions, \n",
    "                                      n_iter = 100,\n",
    "                                      cv = stratified_kfold,\n",
    "                                      scoring = 'balanced_accuracy', \n",
    "                                      random_state = 1234,\n",
    "                                      n_jobs = -1)\n",
    "\n",
    "ordinal_hgb_tune9 = RandomizedSearchCV(estimator = ordinal_hgb_default_pipeline9, \n",
    "                                       param_distributions = param_distributions, \n",
    "                                       n_iter = 100,\n",
    "                                       cv = stratified_kfold,\n",
    "                                       scoring = 'balanced_accuracy', \n",
    "                                       random_state = 1234,\n",
    "                                       n_jobs = -1)"
   ]
  },
  {
   "cell_type": "code",
   "execution_count": 63,
   "metadata": {},
   "outputs": [],
   "source": [
    "tic = time.time()\n",
    "\n",
    "ordinal_hgb_tune = ordinal_hgb_tune.fit(X_train, y_train)\n",
    "\n",
    "toc = time.time()\n",
    "ordinal_hgb_tune_time_taken = toc-tic"
   ]
  },
  {
   "cell_type": "code",
   "execution_count": 64,
   "metadata": {},
   "outputs": [
    {
     "name": "stdout",
     "output_type": "stream",
     "text": [
      "Time taken:  42.936912536621094\n"
     ]
    },
    {
     "data": {
      "text/html": [
       "<style>#sk-container-id-9 {color: black;}#sk-container-id-9 pre{padding: 0;}#sk-container-id-9 div.sk-toggleable {background-color: white;}#sk-container-id-9 label.sk-toggleable__label {cursor: pointer;display: block;width: 100%;margin-bottom: 0;padding: 0.3em;box-sizing: border-box;text-align: center;}#sk-container-id-9 label.sk-toggleable__label-arrow:before {content: \"▸\";float: left;margin-right: 0.25em;color: #696969;}#sk-container-id-9 label.sk-toggleable__label-arrow:hover:before {color: black;}#sk-container-id-9 div.sk-estimator:hover label.sk-toggleable__label-arrow:before {color: black;}#sk-container-id-9 div.sk-toggleable__content {max-height: 0;max-width: 0;overflow: hidden;text-align: left;background-color: #f0f8ff;}#sk-container-id-9 div.sk-toggleable__content pre {margin: 0.2em;color: black;border-radius: 0.25em;background-color: #f0f8ff;}#sk-container-id-9 input.sk-toggleable__control:checked~div.sk-toggleable__content {max-height: 200px;max-width: 100%;overflow: auto;}#sk-container-id-9 input.sk-toggleable__control:checked~label.sk-toggleable__label-arrow:before {content: \"▾\";}#sk-container-id-9 div.sk-estimator input.sk-toggleable__control:checked~label.sk-toggleable__label {background-color: #d4ebff;}#sk-container-id-9 div.sk-label input.sk-toggleable__control:checked~label.sk-toggleable__label {background-color: #d4ebff;}#sk-container-id-9 input.sk-hidden--visually {border: 0;clip: rect(1px 1px 1px 1px);clip: rect(1px, 1px, 1px, 1px);height: 1px;margin: -1px;overflow: hidden;padding: 0;position: absolute;width: 1px;}#sk-container-id-9 div.sk-estimator {font-family: monospace;background-color: #f0f8ff;border: 1px dotted black;border-radius: 0.25em;box-sizing: border-box;margin-bottom: 0.5em;}#sk-container-id-9 div.sk-estimator:hover {background-color: #d4ebff;}#sk-container-id-9 div.sk-parallel-item::after {content: \"\";width: 100%;border-bottom: 1px solid gray;flex-grow: 1;}#sk-container-id-9 div.sk-label:hover label.sk-toggleable__label {background-color: #d4ebff;}#sk-container-id-9 div.sk-serial::before {content: \"\";position: absolute;border-left: 1px solid gray;box-sizing: border-box;top: 0;bottom: 0;left: 50%;z-index: 0;}#sk-container-id-9 div.sk-serial {display: flex;flex-direction: column;align-items: center;background-color: white;padding-right: 0.2em;padding-left: 0.2em;position: relative;}#sk-container-id-9 div.sk-item {position: relative;z-index: 1;}#sk-container-id-9 div.sk-parallel {display: flex;align-items: stretch;justify-content: center;background-color: white;position: relative;}#sk-container-id-9 div.sk-item::before, #sk-container-id-9 div.sk-parallel-item::before {content: \"\";position: absolute;border-left: 1px solid gray;box-sizing: border-box;top: 0;bottom: 0;left: 50%;z-index: -1;}#sk-container-id-9 div.sk-parallel-item {display: flex;flex-direction: column;z-index: 1;position: relative;background-color: white;}#sk-container-id-9 div.sk-parallel-item:first-child::after {align-self: flex-end;width: 50%;}#sk-container-id-9 div.sk-parallel-item:last-child::after {align-self: flex-start;width: 50%;}#sk-container-id-9 div.sk-parallel-item:only-child::after {width: 0;}#sk-container-id-9 div.sk-dashed-wrapped {border: 1px dashed gray;margin: 0 0.4em 0.5em 0.4em;box-sizing: border-box;padding-bottom: 0.4em;background-color: white;}#sk-container-id-9 div.sk-label label {font-family: monospace;font-weight: bold;display: inline-block;line-height: 1.2em;}#sk-container-id-9 div.sk-label-container {text-align: center;}#sk-container-id-9 div.sk-container {/* jupyter's `normalize.less` sets `[hidden] { display: none; }` but bootstrap.min.css set `[hidden] { display: none !important; }` so we also need the `!important` here to be able to override the default hidden behavior on the sphinx rendered scikit-learn.org. See: https://github.com/scikit-learn/scikit-learn/issues/21755 */display: inline-block !important;position: relative;}#sk-container-id-9 div.sk-text-repr-fallback {display: none;}</style><div id=\"sk-container-id-9\" class=\"sk-top-container\"><div class=\"sk-text-repr-fallback\"><pre>RandomizedSearchCV(cv=StratifiedKFold(n_splits=3, random_state=1234, shuffle=True),\n",
       "                   estimator=Pipeline(steps=[(&#x27;preprocessing&#x27;,\n",
       "                                              ColumnTransformer(sparse_threshold=0,\n",
       "                                                                transformers=[(&#x27;num&#x27;,\n",
       "                                                                               Pipeline(steps=[(&#x27;imputer&#x27;,\n",
       "                                                                                                SimpleImputer(strategy=&#x27;median&#x27;))]),\n",
       "                                                                               [&#x27;age&#x27;,\n",
       "                                                                                &#x27;fnlwgt&#x27;,\n",
       "                                                                                &#x27;capital_gain&#x27;,\n",
       "                                                                                &#x27;capital_loss&#x27;,\n",
       "                                                                                &#x27;hours_per_week&#x27;]),\n",
       "                                                                              (&#x27;ordinal_encoder&#x27;,\n",
       "                                                                               Pipeline(steps=[(&#x27;imp...\n",
       "                   param_distributions={&#x27;model__learning_rate&#x27;: &lt;scipy.stats._distn_infrastructure.rv_continuous_frozen object at 0x00000212688E6680&gt;,\n",
       "                                        &#x27;model__max_iter&#x27;: &lt;scipy.stats._distn_infrastructure.rv_discrete_frozen object at 0x000002126836B190&gt;,\n",
       "                                        &#x27;model__min_samples_leaf&#x27;: &lt;scipy.stats._distn_infrastructure.rv_discrete_frozen object at 0x00000212688E7EE0&gt;},\n",
       "                   random_state=1234, scoring=&#x27;balanced_accuracy&#x27;)</pre><b>In a Jupyter environment, please rerun this cell to show the HTML representation or trust the notebook. <br />On GitHub, the HTML representation is unable to render, please try loading this page with nbviewer.org.</b></div><div class=\"sk-container\" hidden><div class=\"sk-item sk-dashed-wrapped\"><div class=\"sk-label-container\"><div class=\"sk-label sk-toggleable\"><input class=\"sk-toggleable__control sk-hidden--visually\" id=\"sk-estimator-id-77\" type=\"checkbox\" ><label for=\"sk-estimator-id-77\" class=\"sk-toggleable__label sk-toggleable__label-arrow\">RandomizedSearchCV</label><div class=\"sk-toggleable__content\"><pre>RandomizedSearchCV(cv=StratifiedKFold(n_splits=3, random_state=1234, shuffle=True),\n",
       "                   estimator=Pipeline(steps=[(&#x27;preprocessing&#x27;,\n",
       "                                              ColumnTransformer(sparse_threshold=0,\n",
       "                                                                transformers=[(&#x27;num&#x27;,\n",
       "                                                                               Pipeline(steps=[(&#x27;imputer&#x27;,\n",
       "                                                                                                SimpleImputer(strategy=&#x27;median&#x27;))]),\n",
       "                                                                               [&#x27;age&#x27;,\n",
       "                                                                                &#x27;fnlwgt&#x27;,\n",
       "                                                                                &#x27;capital_gain&#x27;,\n",
       "                                                                                &#x27;capital_loss&#x27;,\n",
       "                                                                                &#x27;hours_per_week&#x27;]),\n",
       "                                                                              (&#x27;ordinal_encoder&#x27;,\n",
       "                                                                               Pipeline(steps=[(&#x27;imp...\n",
       "                   param_distributions={&#x27;model__learning_rate&#x27;: &lt;scipy.stats._distn_infrastructure.rv_continuous_frozen object at 0x00000212688E6680&gt;,\n",
       "                                        &#x27;model__max_iter&#x27;: &lt;scipy.stats._distn_infrastructure.rv_discrete_frozen object at 0x000002126836B190&gt;,\n",
       "                                        &#x27;model__min_samples_leaf&#x27;: &lt;scipy.stats._distn_infrastructure.rv_discrete_frozen object at 0x00000212688E7EE0&gt;},\n",
       "                   random_state=1234, scoring=&#x27;balanced_accuracy&#x27;)</pre></div></div></div><div class=\"sk-parallel\"><div class=\"sk-parallel-item\"><div class=\"sk-item\"><div class=\"sk-label-container\"><div class=\"sk-label sk-toggleable\"><input class=\"sk-toggleable__control sk-hidden--visually\" id=\"sk-estimator-id-78\" type=\"checkbox\" ><label for=\"sk-estimator-id-78\" class=\"sk-toggleable__label sk-toggleable__label-arrow\">estimator: Pipeline</label><div class=\"sk-toggleable__content\"><pre>Pipeline(steps=[(&#x27;preprocessing&#x27;,\n",
       "                 ColumnTransformer(sparse_threshold=0,\n",
       "                                   transformers=[(&#x27;num&#x27;,\n",
       "                                                  Pipeline(steps=[(&#x27;imputer&#x27;,\n",
       "                                                                   SimpleImputer(strategy=&#x27;median&#x27;))]),\n",
       "                                                  [&#x27;age&#x27;, &#x27;fnlwgt&#x27;,\n",
       "                                                   &#x27;capital_gain&#x27;,\n",
       "                                                   &#x27;capital_loss&#x27;,\n",
       "                                                   &#x27;hours_per_week&#x27;]),\n",
       "                                                 (&#x27;ordinal_encoder&#x27;,\n",
       "                                                  Pipeline(steps=[(&#x27;imputer&#x27;,\n",
       "                                                                   SimpleImputer(strategy=&#x27;most_frequent&#x27;)),\n",
       "                                                                  (&#x27;encoder&#x27;,\n",
       "                                                                   OrdinalEncoder(dtype=&lt;class &#x27;int&#x27;&gt;,\n",
       "                                                                                  encoded_missing_value=99999,\n",
       "                                                                                  handle_unknown=&#x27;use_encoded_value&#x27;,\n",
       "                                                                                  unknown_value=99999))]),\n",
       "                                                  [&#x27;workclass&#x27;, &#x27;education&#x27;,\n",
       "                                                   &#x27;marital_status&#x27;,\n",
       "                                                   &#x27;occupation&#x27;, &#x27;relationship&#x27;,\n",
       "                                                   &#x27;race&#x27;, &#x27;sex&#x27;,\n",
       "                                                   &#x27;native_country&#x27;])])),\n",
       "                (&#x27;model&#x27;,\n",
       "                 HistGradientBoostingClassifier(class_weight=&#x27;balanced&#x27;,\n",
       "                                                early_stopping=False,\n",
       "                                                min_samples_leaf=30,\n",
       "                                                random_state=1234,\n",
       "                                                scoring=&#x27;balanced_accuracy&#x27;))])</pre></div></div></div><div class=\"sk-serial\"><div class=\"sk-item\"><div class=\"sk-serial\"><div class=\"sk-item sk-dashed-wrapped\"><div class=\"sk-label-container\"><div class=\"sk-label sk-toggleable\"><input class=\"sk-toggleable__control sk-hidden--visually\" id=\"sk-estimator-id-79\" type=\"checkbox\" ><label for=\"sk-estimator-id-79\" class=\"sk-toggleable__label sk-toggleable__label-arrow\">preprocessing: ColumnTransformer</label><div class=\"sk-toggleable__content\"><pre>ColumnTransformer(sparse_threshold=0,\n",
       "                  transformers=[(&#x27;num&#x27;,\n",
       "                                 Pipeline(steps=[(&#x27;imputer&#x27;,\n",
       "                                                  SimpleImputer(strategy=&#x27;median&#x27;))]),\n",
       "                                 [&#x27;age&#x27;, &#x27;fnlwgt&#x27;, &#x27;capital_gain&#x27;,\n",
       "                                  &#x27;capital_loss&#x27;, &#x27;hours_per_week&#x27;]),\n",
       "                                (&#x27;ordinal_encoder&#x27;,\n",
       "                                 Pipeline(steps=[(&#x27;imputer&#x27;,\n",
       "                                                  SimpleImputer(strategy=&#x27;most_frequent&#x27;)),\n",
       "                                                 (&#x27;encoder&#x27;,\n",
       "                                                  OrdinalEncoder(dtype=&lt;class &#x27;int&#x27;&gt;,\n",
       "                                                                 encoded_missing_value=99999,\n",
       "                                                                 handle_unknown=&#x27;use_encoded_value&#x27;,\n",
       "                                                                 unknown_value=99999))]),\n",
       "                                 [&#x27;workclass&#x27;, &#x27;education&#x27;, &#x27;marital_status&#x27;,\n",
       "                                  &#x27;occupation&#x27;, &#x27;relationship&#x27;, &#x27;race&#x27;, &#x27;sex&#x27;,\n",
       "                                  &#x27;native_country&#x27;])])</pre></div></div></div><div class=\"sk-parallel\"><div class=\"sk-parallel-item\"><div class=\"sk-item\"><div class=\"sk-label-container\"><div class=\"sk-label sk-toggleable\"><input class=\"sk-toggleable__control sk-hidden--visually\" id=\"sk-estimator-id-80\" type=\"checkbox\" ><label for=\"sk-estimator-id-80\" class=\"sk-toggleable__label sk-toggleable__label-arrow\">num</label><div class=\"sk-toggleable__content\"><pre>[&#x27;age&#x27;, &#x27;fnlwgt&#x27;, &#x27;capital_gain&#x27;, &#x27;capital_loss&#x27;, &#x27;hours_per_week&#x27;]</pre></div></div></div><div class=\"sk-serial\"><div class=\"sk-item\"><div class=\"sk-serial\"><div class=\"sk-item\"><div class=\"sk-estimator sk-toggleable\"><input class=\"sk-toggleable__control sk-hidden--visually\" id=\"sk-estimator-id-81\" type=\"checkbox\" ><label for=\"sk-estimator-id-81\" class=\"sk-toggleable__label sk-toggleable__label-arrow\">SimpleImputer</label><div class=\"sk-toggleable__content\"><pre>SimpleImputer(strategy=&#x27;median&#x27;)</pre></div></div></div></div></div></div></div></div><div class=\"sk-parallel-item\"><div class=\"sk-item\"><div class=\"sk-label-container\"><div class=\"sk-label sk-toggleable\"><input class=\"sk-toggleable__control sk-hidden--visually\" id=\"sk-estimator-id-82\" type=\"checkbox\" ><label for=\"sk-estimator-id-82\" class=\"sk-toggleable__label sk-toggleable__label-arrow\">ordinal_encoder</label><div class=\"sk-toggleable__content\"><pre>[&#x27;workclass&#x27;, &#x27;education&#x27;, &#x27;marital_status&#x27;, &#x27;occupation&#x27;, &#x27;relationship&#x27;, &#x27;race&#x27;, &#x27;sex&#x27;, &#x27;native_country&#x27;]</pre></div></div></div><div class=\"sk-serial\"><div class=\"sk-item\"><div class=\"sk-serial\"><div class=\"sk-item\"><div class=\"sk-estimator sk-toggleable\"><input class=\"sk-toggleable__control sk-hidden--visually\" id=\"sk-estimator-id-83\" type=\"checkbox\" ><label for=\"sk-estimator-id-83\" class=\"sk-toggleable__label sk-toggleable__label-arrow\">SimpleImputer</label><div class=\"sk-toggleable__content\"><pre>SimpleImputer(strategy=&#x27;most_frequent&#x27;)</pre></div></div></div><div class=\"sk-item\"><div class=\"sk-estimator sk-toggleable\"><input class=\"sk-toggleable__control sk-hidden--visually\" id=\"sk-estimator-id-84\" type=\"checkbox\" ><label for=\"sk-estimator-id-84\" class=\"sk-toggleable__label sk-toggleable__label-arrow\">OrdinalEncoder</label><div class=\"sk-toggleable__content\"><pre>OrdinalEncoder(dtype=&lt;class &#x27;int&#x27;&gt;, encoded_missing_value=99999,\n",
       "               handle_unknown=&#x27;use_encoded_value&#x27;, unknown_value=99999)</pre></div></div></div></div></div></div></div></div></div></div><div class=\"sk-item\"><div class=\"sk-estimator sk-toggleable\"><input class=\"sk-toggleable__control sk-hidden--visually\" id=\"sk-estimator-id-85\" type=\"checkbox\" ><label for=\"sk-estimator-id-85\" class=\"sk-toggleable__label sk-toggleable__label-arrow\">HistGradientBoostingClassifier</label><div class=\"sk-toggleable__content\"><pre>HistGradientBoostingClassifier(class_weight=&#x27;balanced&#x27;, early_stopping=False,\n",
       "                               min_samples_leaf=30, random_state=1234,\n",
       "                               scoring=&#x27;balanced_accuracy&#x27;)</pre></div></div></div></div></div></div></div></div></div></div></div></div>"
      ],
      "text/plain": [
       "RandomizedSearchCV(cv=StratifiedKFold(n_splits=3, random_state=1234, shuffle=True),\n",
       "                   estimator=Pipeline(steps=[('preprocessing',\n",
       "                                              ColumnTransformer(sparse_threshold=0,\n",
       "                                                                transformers=[('num',\n",
       "                                                                               Pipeline(steps=[('imputer',\n",
       "                                                                                                SimpleImputer(strategy='median'))]),\n",
       "                                                                               ['age',\n",
       "                                                                                'fnlwgt',\n",
       "                                                                                'capital_gain',\n",
       "                                                                                'capital_loss',\n",
       "                                                                                'hours_per_week']),\n",
       "                                                                              ('ordinal_encoder',\n",
       "                                                                               Pipeline(steps=[('imp...\n",
       "                   param_distributions={'model__learning_rate': <scipy.stats._distn_infrastructure.rv_continuous_frozen object at 0x00000212688E6680>,\n",
       "                                        'model__max_iter': <scipy.stats._distn_infrastructure.rv_discrete_frozen object at 0x000002126836B190>,\n",
       "                                        'model__min_samples_leaf': <scipy.stats._distn_infrastructure.rv_discrete_frozen object at 0x00000212688E7EE0>},\n",
       "                   random_state=1234, scoring='balanced_accuracy')"
      ]
     },
     "execution_count": 64,
     "metadata": {},
     "output_type": "execute_result"
    }
   ],
   "source": [
    "# Display pipeline\n",
    "print(\"Time taken: \", ordinal_hgb_tune_time_taken)\n",
    "ordinal_hgb_tune"
   ]
  },
  {
   "cell_type": "code",
   "execution_count": 65,
   "metadata": {},
   "outputs": [],
   "source": [
    "tic = time.time()\n",
    "\n",
    "ordinal_hgb_tune9 = ordinal_hgb_tune9.fit(X_train, y_train)\n",
    "\n",
    "toc = time.time()\n",
    "ordinal_hgb_tune9_time_taken = toc-tic"
   ]
  },
  {
   "cell_type": "code",
   "execution_count": 66,
   "metadata": {},
   "outputs": [
    {
     "name": "stdout",
     "output_type": "stream",
     "text": [
      "Time taken:  68.16544032096863\n"
     ]
    },
    {
     "data": {
      "text/html": [
       "<style>#sk-container-id-10 {color: black;}#sk-container-id-10 pre{padding: 0;}#sk-container-id-10 div.sk-toggleable {background-color: white;}#sk-container-id-10 label.sk-toggleable__label {cursor: pointer;display: block;width: 100%;margin-bottom: 0;padding: 0.3em;box-sizing: border-box;text-align: center;}#sk-container-id-10 label.sk-toggleable__label-arrow:before {content: \"▸\";float: left;margin-right: 0.25em;color: #696969;}#sk-container-id-10 label.sk-toggleable__label-arrow:hover:before {color: black;}#sk-container-id-10 div.sk-estimator:hover label.sk-toggleable__label-arrow:before {color: black;}#sk-container-id-10 div.sk-toggleable__content {max-height: 0;max-width: 0;overflow: hidden;text-align: left;background-color: #f0f8ff;}#sk-container-id-10 div.sk-toggleable__content pre {margin: 0.2em;color: black;border-radius: 0.25em;background-color: #f0f8ff;}#sk-container-id-10 input.sk-toggleable__control:checked~div.sk-toggleable__content {max-height: 200px;max-width: 100%;overflow: auto;}#sk-container-id-10 input.sk-toggleable__control:checked~label.sk-toggleable__label-arrow:before {content: \"▾\";}#sk-container-id-10 div.sk-estimator input.sk-toggleable__control:checked~label.sk-toggleable__label {background-color: #d4ebff;}#sk-container-id-10 div.sk-label input.sk-toggleable__control:checked~label.sk-toggleable__label {background-color: #d4ebff;}#sk-container-id-10 input.sk-hidden--visually {border: 0;clip: rect(1px 1px 1px 1px);clip: rect(1px, 1px, 1px, 1px);height: 1px;margin: -1px;overflow: hidden;padding: 0;position: absolute;width: 1px;}#sk-container-id-10 div.sk-estimator {font-family: monospace;background-color: #f0f8ff;border: 1px dotted black;border-radius: 0.25em;box-sizing: border-box;margin-bottom: 0.5em;}#sk-container-id-10 div.sk-estimator:hover {background-color: #d4ebff;}#sk-container-id-10 div.sk-parallel-item::after {content: \"\";width: 100%;border-bottom: 1px solid gray;flex-grow: 1;}#sk-container-id-10 div.sk-label:hover label.sk-toggleable__label {background-color: #d4ebff;}#sk-container-id-10 div.sk-serial::before {content: \"\";position: absolute;border-left: 1px solid gray;box-sizing: border-box;top: 0;bottom: 0;left: 50%;z-index: 0;}#sk-container-id-10 div.sk-serial {display: flex;flex-direction: column;align-items: center;background-color: white;padding-right: 0.2em;padding-left: 0.2em;position: relative;}#sk-container-id-10 div.sk-item {position: relative;z-index: 1;}#sk-container-id-10 div.sk-parallel {display: flex;align-items: stretch;justify-content: center;background-color: white;position: relative;}#sk-container-id-10 div.sk-item::before, #sk-container-id-10 div.sk-parallel-item::before {content: \"\";position: absolute;border-left: 1px solid gray;box-sizing: border-box;top: 0;bottom: 0;left: 50%;z-index: -1;}#sk-container-id-10 div.sk-parallel-item {display: flex;flex-direction: column;z-index: 1;position: relative;background-color: white;}#sk-container-id-10 div.sk-parallel-item:first-child::after {align-self: flex-end;width: 50%;}#sk-container-id-10 div.sk-parallel-item:last-child::after {align-self: flex-start;width: 50%;}#sk-container-id-10 div.sk-parallel-item:only-child::after {width: 0;}#sk-container-id-10 div.sk-dashed-wrapped {border: 1px dashed gray;margin: 0 0.4em 0.5em 0.4em;box-sizing: border-box;padding-bottom: 0.4em;background-color: white;}#sk-container-id-10 div.sk-label label {font-family: monospace;font-weight: bold;display: inline-block;line-height: 1.2em;}#sk-container-id-10 div.sk-label-container {text-align: center;}#sk-container-id-10 div.sk-container {/* jupyter's `normalize.less` sets `[hidden] { display: none; }` but bootstrap.min.css set `[hidden] { display: none !important; }` so we also need the `!important` here to be able to override the default hidden behavior on the sphinx rendered scikit-learn.org. See: https://github.com/scikit-learn/scikit-learn/issues/21755 */display: inline-block !important;position: relative;}#sk-container-id-10 div.sk-text-repr-fallback {display: none;}</style><div id=\"sk-container-id-10\" class=\"sk-top-container\"><div class=\"sk-text-repr-fallback\"><pre>RandomizedSearchCV(cv=StratifiedKFold(n_splits=3, random_state=1234, shuffle=True),\n",
       "                   estimator=Pipeline(steps=[(&#x27;preprocessing&#x27;,\n",
       "                                              ColumnTransformer(sparse_threshold=0,\n",
       "                                                                transformers=[(&#x27;num&#x27;,\n",
       "                                                                               Pipeline(steps=[(&#x27;imputer&#x27;,\n",
       "                                                                                                SimpleImputer(strategy=&#x27;median&#x27;))]),\n",
       "                                                                               [&#x27;age&#x27;,\n",
       "                                                                                &#x27;fnlwgt&#x27;,\n",
       "                                                                                &#x27;capital_gain&#x27;,\n",
       "                                                                                &#x27;capital_loss&#x27;,\n",
       "                                                                                &#x27;hours_per_week&#x27;]),\n",
       "                                                                              (&#x27;one_hot_encoding&#x27;,\n",
       "                                                                               Pipeline(steps=[(&#x27;im...\n",
       "                   param_distributions={&#x27;model__learning_rate&#x27;: &lt;scipy.stats._distn_infrastructure.rv_continuous_frozen object at 0x00000212688E6680&gt;,\n",
       "                                        &#x27;model__max_iter&#x27;: &lt;scipy.stats._distn_infrastructure.rv_discrete_frozen object at 0x000002126836B190&gt;,\n",
       "                                        &#x27;model__min_samples_leaf&#x27;: &lt;scipy.stats._distn_infrastructure.rv_discrete_frozen object at 0x00000212688E7EE0&gt;},\n",
       "                   random_state=1234, scoring=&#x27;balanced_accuracy&#x27;)</pre><b>In a Jupyter environment, please rerun this cell to show the HTML representation or trust the notebook. <br />On GitHub, the HTML representation is unable to render, please try loading this page with nbviewer.org.</b></div><div class=\"sk-container\" hidden><div class=\"sk-item sk-dashed-wrapped\"><div class=\"sk-label-container\"><div class=\"sk-label sk-toggleable\"><input class=\"sk-toggleable__control sk-hidden--visually\" id=\"sk-estimator-id-86\" type=\"checkbox\" ><label for=\"sk-estimator-id-86\" class=\"sk-toggleable__label sk-toggleable__label-arrow\">RandomizedSearchCV</label><div class=\"sk-toggleable__content\"><pre>RandomizedSearchCV(cv=StratifiedKFold(n_splits=3, random_state=1234, shuffle=True),\n",
       "                   estimator=Pipeline(steps=[(&#x27;preprocessing&#x27;,\n",
       "                                              ColumnTransformer(sparse_threshold=0,\n",
       "                                                                transformers=[(&#x27;num&#x27;,\n",
       "                                                                               Pipeline(steps=[(&#x27;imputer&#x27;,\n",
       "                                                                                                SimpleImputer(strategy=&#x27;median&#x27;))]),\n",
       "                                                                               [&#x27;age&#x27;,\n",
       "                                                                                &#x27;fnlwgt&#x27;,\n",
       "                                                                                &#x27;capital_gain&#x27;,\n",
       "                                                                                &#x27;capital_loss&#x27;,\n",
       "                                                                                &#x27;hours_per_week&#x27;]),\n",
       "                                                                              (&#x27;one_hot_encoding&#x27;,\n",
       "                                                                               Pipeline(steps=[(&#x27;im...\n",
       "                   param_distributions={&#x27;model__learning_rate&#x27;: &lt;scipy.stats._distn_infrastructure.rv_continuous_frozen object at 0x00000212688E6680&gt;,\n",
       "                                        &#x27;model__max_iter&#x27;: &lt;scipy.stats._distn_infrastructure.rv_discrete_frozen object at 0x000002126836B190&gt;,\n",
       "                                        &#x27;model__min_samples_leaf&#x27;: &lt;scipy.stats._distn_infrastructure.rv_discrete_frozen object at 0x00000212688E7EE0&gt;},\n",
       "                   random_state=1234, scoring=&#x27;balanced_accuracy&#x27;)</pre></div></div></div><div class=\"sk-parallel\"><div class=\"sk-parallel-item\"><div class=\"sk-item\"><div class=\"sk-label-container\"><div class=\"sk-label sk-toggleable\"><input class=\"sk-toggleable__control sk-hidden--visually\" id=\"sk-estimator-id-87\" type=\"checkbox\" ><label for=\"sk-estimator-id-87\" class=\"sk-toggleable__label sk-toggleable__label-arrow\">estimator: Pipeline</label><div class=\"sk-toggleable__content\"><pre>Pipeline(steps=[(&#x27;preprocessing&#x27;,\n",
       "                 ColumnTransformer(sparse_threshold=0,\n",
       "                                   transformers=[(&#x27;num&#x27;,\n",
       "                                                  Pipeline(steps=[(&#x27;imputer&#x27;,\n",
       "                                                                   SimpleImputer(strategy=&#x27;median&#x27;))]),\n",
       "                                                  [&#x27;age&#x27;, &#x27;fnlwgt&#x27;,\n",
       "                                                   &#x27;capital_gain&#x27;,\n",
       "                                                   &#x27;capital_loss&#x27;,\n",
       "                                                   &#x27;hours_per_week&#x27;]),\n",
       "                                                 (&#x27;one_hot_encoding&#x27;,\n",
       "                                                  Pipeline(steps=[(&#x27;imputer&#x27;,\n",
       "                                                                   SimpleImputer(strategy=&#x27;most_frequent&#x27;)),\n",
       "                                                                  (&#x27;encoder&#x27;,\n",
       "                                                                   OneHotEncoder(drop=&#x27;first&#x27;,\n",
       "                                                                                 handl...\n",
       "                                                                   SimpleImputer(strategy=&#x27;most_frequent&#x27;)),\n",
       "                                                                  (&#x27;encoder&#x27;,\n",
       "                                                                   OrdinalEncoder(dtype=&lt;class &#x27;int&#x27;&gt;,\n",
       "                                                                                  encoded_missing_value=99999,\n",
       "                                                                                  handle_unknown=&#x27;use_encoded_value&#x27;,\n",
       "                                                                                  unknown_value=99999))]),\n",
       "                                                  [&#x27;education&#x27;, &#x27;occupation&#x27;,\n",
       "                                                   &#x27;native_country&#x27;])])),\n",
       "                (&#x27;model&#x27;,\n",
       "                 HistGradientBoostingClassifier(class_weight=&#x27;balanced&#x27;,\n",
       "                                                early_stopping=False,\n",
       "                                                min_samples_leaf=30,\n",
       "                                                random_state=1234,\n",
       "                                                scoring=&#x27;balanced_accuracy&#x27;))])</pre></div></div></div><div class=\"sk-serial\"><div class=\"sk-item\"><div class=\"sk-serial\"><div class=\"sk-item sk-dashed-wrapped\"><div class=\"sk-label-container\"><div class=\"sk-label sk-toggleable\"><input class=\"sk-toggleable__control sk-hidden--visually\" id=\"sk-estimator-id-88\" type=\"checkbox\" ><label for=\"sk-estimator-id-88\" class=\"sk-toggleable__label sk-toggleable__label-arrow\">preprocessing: ColumnTransformer</label><div class=\"sk-toggleable__content\"><pre>ColumnTransformer(sparse_threshold=0,\n",
       "                  transformers=[(&#x27;num&#x27;,\n",
       "                                 Pipeline(steps=[(&#x27;imputer&#x27;,\n",
       "                                                  SimpleImputer(strategy=&#x27;median&#x27;))]),\n",
       "                                 [&#x27;age&#x27;, &#x27;fnlwgt&#x27;, &#x27;capital_gain&#x27;,\n",
       "                                  &#x27;capital_loss&#x27;, &#x27;hours_per_week&#x27;]),\n",
       "                                (&#x27;one_hot_encoding&#x27;,\n",
       "                                 Pipeline(steps=[(&#x27;imputer&#x27;,\n",
       "                                                  SimpleImputer(strategy=&#x27;most_frequent&#x27;)),\n",
       "                                                 (&#x27;encoder&#x27;,\n",
       "                                                  OneHotEncoder(drop=&#x27;first&#x27;,\n",
       "                                                                handle_unknown=&#x27;ignore&#x27;))]),\n",
       "                                 [&#x27;workclass&#x27;, &#x27;marital_status&#x27;, &#x27;relationship&#x27;,\n",
       "                                  &#x27;race&#x27;, &#x27;sex&#x27;]),\n",
       "                                (&#x27;ordinalencoder&#x27;,\n",
       "                                 Pipeline(steps=[(&#x27;imputer&#x27;,\n",
       "                                                  SimpleImputer(strategy=&#x27;most_frequent&#x27;)),\n",
       "                                                 (&#x27;encoder&#x27;,\n",
       "                                                  OrdinalEncoder(dtype=&lt;class &#x27;int&#x27;&gt;,\n",
       "                                                                 encoded_missing_value=99999,\n",
       "                                                                 handle_unknown=&#x27;use_encoded_value&#x27;,\n",
       "                                                                 unknown_value=99999))]),\n",
       "                                 [&#x27;education&#x27;, &#x27;occupation&#x27;,\n",
       "                                  &#x27;native_country&#x27;])])</pre></div></div></div><div class=\"sk-parallel\"><div class=\"sk-parallel-item\"><div class=\"sk-item\"><div class=\"sk-label-container\"><div class=\"sk-label sk-toggleable\"><input class=\"sk-toggleable__control sk-hidden--visually\" id=\"sk-estimator-id-89\" type=\"checkbox\" ><label for=\"sk-estimator-id-89\" class=\"sk-toggleable__label sk-toggleable__label-arrow\">num</label><div class=\"sk-toggleable__content\"><pre>[&#x27;age&#x27;, &#x27;fnlwgt&#x27;, &#x27;capital_gain&#x27;, &#x27;capital_loss&#x27;, &#x27;hours_per_week&#x27;]</pre></div></div></div><div class=\"sk-serial\"><div class=\"sk-item\"><div class=\"sk-serial\"><div class=\"sk-item\"><div class=\"sk-estimator sk-toggleable\"><input class=\"sk-toggleable__control sk-hidden--visually\" id=\"sk-estimator-id-90\" type=\"checkbox\" ><label for=\"sk-estimator-id-90\" class=\"sk-toggleable__label sk-toggleable__label-arrow\">SimpleImputer</label><div class=\"sk-toggleable__content\"><pre>SimpleImputer(strategy=&#x27;median&#x27;)</pre></div></div></div></div></div></div></div></div><div class=\"sk-parallel-item\"><div class=\"sk-item\"><div class=\"sk-label-container\"><div class=\"sk-label sk-toggleable\"><input class=\"sk-toggleable__control sk-hidden--visually\" id=\"sk-estimator-id-91\" type=\"checkbox\" ><label for=\"sk-estimator-id-91\" class=\"sk-toggleable__label sk-toggleable__label-arrow\">one_hot_encoding</label><div class=\"sk-toggleable__content\"><pre>[&#x27;workclass&#x27;, &#x27;marital_status&#x27;, &#x27;relationship&#x27;, &#x27;race&#x27;, &#x27;sex&#x27;]</pre></div></div></div><div class=\"sk-serial\"><div class=\"sk-item\"><div class=\"sk-serial\"><div class=\"sk-item\"><div class=\"sk-estimator sk-toggleable\"><input class=\"sk-toggleable__control sk-hidden--visually\" id=\"sk-estimator-id-92\" type=\"checkbox\" ><label for=\"sk-estimator-id-92\" class=\"sk-toggleable__label sk-toggleable__label-arrow\">SimpleImputer</label><div class=\"sk-toggleable__content\"><pre>SimpleImputer(strategy=&#x27;most_frequent&#x27;)</pre></div></div></div><div class=\"sk-item\"><div class=\"sk-estimator sk-toggleable\"><input class=\"sk-toggleable__control sk-hidden--visually\" id=\"sk-estimator-id-93\" type=\"checkbox\" ><label for=\"sk-estimator-id-93\" class=\"sk-toggleable__label sk-toggleable__label-arrow\">OneHotEncoder</label><div class=\"sk-toggleable__content\"><pre>OneHotEncoder(drop=&#x27;first&#x27;, handle_unknown=&#x27;ignore&#x27;)</pre></div></div></div></div></div></div></div></div><div class=\"sk-parallel-item\"><div class=\"sk-item\"><div class=\"sk-label-container\"><div class=\"sk-label sk-toggleable\"><input class=\"sk-toggleable__control sk-hidden--visually\" id=\"sk-estimator-id-94\" type=\"checkbox\" ><label for=\"sk-estimator-id-94\" class=\"sk-toggleable__label sk-toggleable__label-arrow\">ordinalencoder</label><div class=\"sk-toggleable__content\"><pre>[&#x27;education&#x27;, &#x27;occupation&#x27;, &#x27;native_country&#x27;]</pre></div></div></div><div class=\"sk-serial\"><div class=\"sk-item\"><div class=\"sk-serial\"><div class=\"sk-item\"><div class=\"sk-estimator sk-toggleable\"><input class=\"sk-toggleable__control sk-hidden--visually\" id=\"sk-estimator-id-95\" type=\"checkbox\" ><label for=\"sk-estimator-id-95\" class=\"sk-toggleable__label sk-toggleable__label-arrow\">SimpleImputer</label><div class=\"sk-toggleable__content\"><pre>SimpleImputer(strategy=&#x27;most_frequent&#x27;)</pre></div></div></div><div class=\"sk-item\"><div class=\"sk-estimator sk-toggleable\"><input class=\"sk-toggleable__control sk-hidden--visually\" id=\"sk-estimator-id-96\" type=\"checkbox\" ><label for=\"sk-estimator-id-96\" class=\"sk-toggleable__label sk-toggleable__label-arrow\">OrdinalEncoder</label><div class=\"sk-toggleable__content\"><pre>OrdinalEncoder(dtype=&lt;class &#x27;int&#x27;&gt;, encoded_missing_value=99999,\n",
       "               handle_unknown=&#x27;use_encoded_value&#x27;, unknown_value=99999)</pre></div></div></div></div></div></div></div></div></div></div><div class=\"sk-item\"><div class=\"sk-estimator sk-toggleable\"><input class=\"sk-toggleable__control sk-hidden--visually\" id=\"sk-estimator-id-97\" type=\"checkbox\" ><label for=\"sk-estimator-id-97\" class=\"sk-toggleable__label sk-toggleable__label-arrow\">HistGradientBoostingClassifier</label><div class=\"sk-toggleable__content\"><pre>HistGradientBoostingClassifier(class_weight=&#x27;balanced&#x27;, early_stopping=False,\n",
       "                               min_samples_leaf=30, random_state=1234,\n",
       "                               scoring=&#x27;balanced_accuracy&#x27;)</pre></div></div></div></div></div></div></div></div></div></div></div></div>"
      ],
      "text/plain": [
       "RandomizedSearchCV(cv=StratifiedKFold(n_splits=3, random_state=1234, shuffle=True),\n",
       "                   estimator=Pipeline(steps=[('preprocessing',\n",
       "                                              ColumnTransformer(sparse_threshold=0,\n",
       "                                                                transformers=[('num',\n",
       "                                                                               Pipeline(steps=[('imputer',\n",
       "                                                                                                SimpleImputer(strategy='median'))]),\n",
       "                                                                               ['age',\n",
       "                                                                                'fnlwgt',\n",
       "                                                                                'capital_gain',\n",
       "                                                                                'capital_loss',\n",
       "                                                                                'hours_per_week']),\n",
       "                                                                              ('one_hot_encoding',\n",
       "                                                                               Pipeline(steps=[('im...\n",
       "                   param_distributions={'model__learning_rate': <scipy.stats._distn_infrastructure.rv_continuous_frozen object at 0x00000212688E6680>,\n",
       "                                        'model__max_iter': <scipy.stats._distn_infrastructure.rv_discrete_frozen object at 0x000002126836B190>,\n",
       "                                        'model__min_samples_leaf': <scipy.stats._distn_infrastructure.rv_discrete_frozen object at 0x00000212688E7EE0>},\n",
       "                   random_state=1234, scoring='balanced_accuracy')"
      ]
     },
     "execution_count": 66,
     "metadata": {},
     "output_type": "execute_result"
    }
   ],
   "source": [
    "# Display pipeline\n",
    "print(\"Time taken: \", ordinal_hgb_tune9_time_taken)\n",
    "ordinal_hgb_tune9"
   ]
  },
  {
   "cell_type": "code",
   "execution_count": 67,
   "metadata": {},
   "outputs": [
    {
     "name": "stdout",
     "output_type": "stream",
     "text": [
      "Best parameters: {'model__learning_rate': 0.13108346669428206, 'model__max_iter': 73, 'model__min_samples_leaf': 30}\n",
      "Balanced accuracy with best parameters: 0.8404713575997231\n"
     ]
    }
   ],
   "source": [
    "# Predict using the model with the best parameters\n",
    "y_ordinal_hgb_tune_pred = ordinal_hgb_tune.predict(X_test)\n",
    "\n",
    "# Get the best parameters\n",
    "ordinal_hgb_tune_best_params = ordinal_hgb_tune.best_params_\n",
    "print(f'Best parameters: {ordinal_hgb_tune_best_params}')\n",
    "\n",
    "# Calculate balanced accuracy for the model with the best parameters\n",
    "ordinal_hgb_tune_accuracy = balanced_accuracy_score(y_test, y_ordinal_hgb_tune_pred)\n",
    "print(f'Balanced accuracy with best parameters: {ordinal_hgb_tune_accuracy}')\n",
    "\n",
    "# Save results\n",
    "default_summary.append(\"Tune\")\n",
    "card_9_summary.append(\"AllVariables\")\n",
    "encoder_summary.append(\"OrdinalEncoder\")\n",
    "value_summary.append(ordinal_hgb_tune_accuracy)\n",
    "time_summary.append(ordinal_hgb_tune_time_taken)\n",
    "n_models_summary.append(ordinal_hgb_tune.n_iter)"
   ]
  },
  {
   "cell_type": "code",
   "execution_count": 68,
   "metadata": {},
   "outputs": [
    {
     "name": "stdout",
     "output_type": "stream",
     "text": [
      "Best parameters: {'model__learning_rate': 0.16670791445753588, 'model__max_iter': 63, 'model__min_samples_leaf': 33}\n",
      "Balanced accuracy with best parameters: 0.8424974334793305\n"
     ]
    }
   ],
   "source": [
    "# Predict using the model with the best parameters\n",
    "y_ordinal_hgb_tune_pred9 = ordinal_hgb_tune9.predict(X_test)\n",
    "\n",
    "# Get the best parameters\n",
    "ordinal_hgb_tune_best_params9 = ordinal_hgb_tune9.best_params_\n",
    "print(f'Best parameters: {ordinal_hgb_tune_best_params9}')\n",
    "\n",
    "# Calculate balanced accuracy for the model with the best parameters\n",
    "ordinal_hgb_tune_accuracy9 = balanced_accuracy_score(y_test, y_ordinal_hgb_tune_pred9)\n",
    "print(f'Balanced accuracy with best parameters: {ordinal_hgb_tune_accuracy9}')\n",
    "\n",
    "# Save results\n",
    "default_summary.append(\"Tune\")\n",
    "card_9_summary.append(\"OnlyVariablesWithCard>9\")\n",
    "encoder_summary.append(\"OrdinalEncoder\")\n",
    "value_summary.append(ordinal_hgb_tune_accuracy9)\n",
    "time_summary.append(ordinal_hgb_tune9_time_taken)\n",
    "n_models_summary.append(ordinal_hgb_tune9.n_iter)"
   ]
  },
  {
   "cell_type": "markdown",
   "id": "985ecffa",
   "metadata": {},
   "source": [
    "### Native HistGradientBoosting support for categorical variables\n"
   ]
  },
  {
   "cell_type": "code",
   "execution_count": 69,
   "id": "cb532976",
   "metadata": {},
   "outputs": [],
   "source": [
    "from sklearn.preprocessing import OrdinalEncoder"
   ]
  },
  {
   "cell_type": "markdown",
   "id": "681d104a",
   "metadata": {},
   "source": [
    "#### Preprocessing"
   ]
  },
  {
   "cell_type": "code",
   "execution_count": 70,
   "id": "85d2a6c2",
   "metadata": {},
   "outputs": [],
   "source": [
    "cat_pipeline_more9 = Pipeline([\n",
    "    (\"imputer\", SimpleImputer(strategy = \"most_frequent\")),\n",
    "    (\"encoder\", OrdinalEncoder(dtype = int,\n",
    "                               handle_unknown = 'use_encoded_value',\n",
    "                               unknown_value = 99999,\n",
    "                               encoded_missing_value = 99999,\n",
    "                               max_categories = 254))\n",
    "])\n",
    "\n",
    "cat_pipeline_less9 = Pipeline([\n",
    "    (\"imputer\", SimpleImputer(strategy = \"most_frequent\")),\n",
    "    (\"encoder\", OneHotEncoder(drop = \"first\", handle_unknown = \"ignore\"))\n",
    "])\n",
    "\n",
    "preprop_pipeline = ColumnTransformer(\n",
    "    transformers = [(\"num\", num_pipeline, num_cols),\n",
    "                    (\"cat\", cat_pipeline_more9, cat_cols)],\n",
    "    sparse_threshold=0\n",
    ")\n",
    "\n",
    "preprop_pipeline9 = ColumnTransformer(\n",
    "    transformers = [(\"num\", num_pipeline, num_cols),\n",
    "                    (\"one_hot_encoding\", cat_pipeline_less9, cat_cols_less9),\n",
    "                    (\"ordinal_encoding\", cat_pipeline_more9, cat_cols_more9)\n",
    "                    ],\n",
    "    sparse_threshold=0\n",
    ")"
   ]
  },
  {
   "cell_type": "code",
   "execution_count": 71,
   "id": "5ceb32ac",
   "metadata": {},
   "outputs": [],
   "source": [
    "category_features_for_nativesupport = [False]*len(num_cols) + [True]*len(cat_cols)\n",
    "\n",
    "X_train_check = preprop_pipeline9.fit_transform(X_train)\n",
    "category_features_for_nativesupport_9 = [False]*(X_train_check.shape[1]-len(cat_cols_more9)) + [True]*len(cat_cols_more9)"
   ]
  },
  {
   "cell_type": "code",
   "execution_count": 72,
   "id": "38f342b1",
   "metadata": {},
   "outputs": [],
   "source": [
    "hgb_default_categories_support = HistGradientBoostingClassifier(random_state=1234,\n",
    "                                                                early_stopping=False,\n",
    "                                                                min_samples_leaf = 30,\n",
    "                                                                scoring='balanced_accuracy',\n",
    "                                                                class_weight='balanced',\n",
    "                                                                categorical_features=category_features_for_nativesupport)\n",
    "\n",
    "hgb_default_categories_support9 = HistGradientBoostingClassifier(random_state=1234,\n",
    "                                                                 early_stopping=False,\n",
    "                                                                 min_samples_leaf = 30,\n",
    "                                                                 scoring='balanced_accuracy',\n",
    "                                                                 class_weight='balanced',\n",
    "                                                                 categorical_features=category_features_for_nativesupport_9)"
   ]
  },
  {
   "cell_type": "markdown",
   "id": "02fcc97d",
   "metadata": {},
   "source": [
    "#### Create a HistGradientBoostingClassifier model with default parameters and early stopping"
   ]
  },
  {
   "cell_type": "code",
   "execution_count": 73,
   "id": "6c468e79",
   "metadata": {},
   "outputs": [],
   "source": [
    "catsup_hgb_default_pipeline = Pipeline([('preprocessing', preprop_pipeline),\n",
    "                                        ('model', hgb_default_categories_support)])\n",
    "\n",
    "catsup_hgb_default_pipeline9 = Pipeline([('preprocessing', preprop_pipeline9),\n",
    "                                        ('model', hgb_default_categories_support9)])"
   ]
  },
  {
   "cell_type": "code",
   "execution_count": 74,
   "id": "5a99084d",
   "metadata": {},
   "outputs": [],
   "source": [
    "tic = time.time()\n",
    "\n",
    "catsup_hgb_default = catsup_hgb_default_pipeline.fit(X_train, y_train)\n",
    "\n",
    "toc = time.time()\n",
    "catsup_hgb_default_time_taken = toc-tic"
   ]
  },
  {
   "cell_type": "code",
   "execution_count": 75,
   "metadata": {},
   "outputs": [
    {
     "name": "stdout",
     "output_type": "stream",
     "text": [
      "Time taken:  1.0262110233306885\n"
     ]
    },
    {
     "data": {
      "text/html": [
       "<style>#sk-container-id-11 {color: black;}#sk-container-id-11 pre{padding: 0;}#sk-container-id-11 div.sk-toggleable {background-color: white;}#sk-container-id-11 label.sk-toggleable__label {cursor: pointer;display: block;width: 100%;margin-bottom: 0;padding: 0.3em;box-sizing: border-box;text-align: center;}#sk-container-id-11 label.sk-toggleable__label-arrow:before {content: \"▸\";float: left;margin-right: 0.25em;color: #696969;}#sk-container-id-11 label.sk-toggleable__label-arrow:hover:before {color: black;}#sk-container-id-11 div.sk-estimator:hover label.sk-toggleable__label-arrow:before {color: black;}#sk-container-id-11 div.sk-toggleable__content {max-height: 0;max-width: 0;overflow: hidden;text-align: left;background-color: #f0f8ff;}#sk-container-id-11 div.sk-toggleable__content pre {margin: 0.2em;color: black;border-radius: 0.25em;background-color: #f0f8ff;}#sk-container-id-11 input.sk-toggleable__control:checked~div.sk-toggleable__content {max-height: 200px;max-width: 100%;overflow: auto;}#sk-container-id-11 input.sk-toggleable__control:checked~label.sk-toggleable__label-arrow:before {content: \"▾\";}#sk-container-id-11 div.sk-estimator input.sk-toggleable__control:checked~label.sk-toggleable__label {background-color: #d4ebff;}#sk-container-id-11 div.sk-label input.sk-toggleable__control:checked~label.sk-toggleable__label {background-color: #d4ebff;}#sk-container-id-11 input.sk-hidden--visually {border: 0;clip: rect(1px 1px 1px 1px);clip: rect(1px, 1px, 1px, 1px);height: 1px;margin: -1px;overflow: hidden;padding: 0;position: absolute;width: 1px;}#sk-container-id-11 div.sk-estimator {font-family: monospace;background-color: #f0f8ff;border: 1px dotted black;border-radius: 0.25em;box-sizing: border-box;margin-bottom: 0.5em;}#sk-container-id-11 div.sk-estimator:hover {background-color: #d4ebff;}#sk-container-id-11 div.sk-parallel-item::after {content: \"\";width: 100%;border-bottom: 1px solid gray;flex-grow: 1;}#sk-container-id-11 div.sk-label:hover label.sk-toggleable__label {background-color: #d4ebff;}#sk-container-id-11 div.sk-serial::before {content: \"\";position: absolute;border-left: 1px solid gray;box-sizing: border-box;top: 0;bottom: 0;left: 50%;z-index: 0;}#sk-container-id-11 div.sk-serial {display: flex;flex-direction: column;align-items: center;background-color: white;padding-right: 0.2em;padding-left: 0.2em;position: relative;}#sk-container-id-11 div.sk-item {position: relative;z-index: 1;}#sk-container-id-11 div.sk-parallel {display: flex;align-items: stretch;justify-content: center;background-color: white;position: relative;}#sk-container-id-11 div.sk-item::before, #sk-container-id-11 div.sk-parallel-item::before {content: \"\";position: absolute;border-left: 1px solid gray;box-sizing: border-box;top: 0;bottom: 0;left: 50%;z-index: -1;}#sk-container-id-11 div.sk-parallel-item {display: flex;flex-direction: column;z-index: 1;position: relative;background-color: white;}#sk-container-id-11 div.sk-parallel-item:first-child::after {align-self: flex-end;width: 50%;}#sk-container-id-11 div.sk-parallel-item:last-child::after {align-self: flex-start;width: 50%;}#sk-container-id-11 div.sk-parallel-item:only-child::after {width: 0;}#sk-container-id-11 div.sk-dashed-wrapped {border: 1px dashed gray;margin: 0 0.4em 0.5em 0.4em;box-sizing: border-box;padding-bottom: 0.4em;background-color: white;}#sk-container-id-11 div.sk-label label {font-family: monospace;font-weight: bold;display: inline-block;line-height: 1.2em;}#sk-container-id-11 div.sk-label-container {text-align: center;}#sk-container-id-11 div.sk-container {/* jupyter's `normalize.less` sets `[hidden] { display: none; }` but bootstrap.min.css set `[hidden] { display: none !important; }` so we also need the `!important` here to be able to override the default hidden behavior on the sphinx rendered scikit-learn.org. See: https://github.com/scikit-learn/scikit-learn/issues/21755 */display: inline-block !important;position: relative;}#sk-container-id-11 div.sk-text-repr-fallback {display: none;}</style><div id=\"sk-container-id-11\" class=\"sk-top-container\"><div class=\"sk-text-repr-fallback\"><pre>Pipeline(steps=[(&#x27;preprocessing&#x27;,\n",
       "                 ColumnTransformer(sparse_threshold=0,\n",
       "                                   transformers=[(&#x27;num&#x27;,\n",
       "                                                  Pipeline(steps=[(&#x27;imputer&#x27;,\n",
       "                                                                   SimpleImputer(strategy=&#x27;median&#x27;))]),\n",
       "                                                  [&#x27;age&#x27;, &#x27;fnlwgt&#x27;,\n",
       "                                                   &#x27;capital_gain&#x27;,\n",
       "                                                   &#x27;capital_loss&#x27;,\n",
       "                                                   &#x27;hours_per_week&#x27;]),\n",
       "                                                 (&#x27;cat&#x27;,\n",
       "                                                  Pipeline(steps=[(&#x27;imputer&#x27;,\n",
       "                                                                   SimpleImputer(strategy=&#x27;most_frequent&#x27;)),\n",
       "                                                                  (&#x27;encoder&#x27;,\n",
       "                                                                   OrdinalEncoder(dtype=&lt;class &#x27;int&#x27;&gt;,\n",
       "                                                                                  encoded_mis...\n",
       "                                                  [&#x27;workclass&#x27;, &#x27;education&#x27;,\n",
       "                                                   &#x27;marital_status&#x27;,\n",
       "                                                   &#x27;occupation&#x27;, &#x27;relationship&#x27;,\n",
       "                                                   &#x27;race&#x27;, &#x27;sex&#x27;,\n",
       "                                                   &#x27;native_country&#x27;])])),\n",
       "                (&#x27;model&#x27;,\n",
       "                 HistGradientBoostingClassifier(categorical_features=[False,\n",
       "                                                                      False,\n",
       "                                                                      False,\n",
       "                                                                      False,\n",
       "                                                                      False,\n",
       "                                                                      True,\n",
       "                                                                      True,\n",
       "                                                                      True,\n",
       "                                                                      True,\n",
       "                                                                      True,\n",
       "                                                                      True,\n",
       "                                                                      True,\n",
       "                                                                      True],\n",
       "                                                class_weight=&#x27;balanced&#x27;,\n",
       "                                                early_stopping=False,\n",
       "                                                min_samples_leaf=30,\n",
       "                                                random_state=1234,\n",
       "                                                scoring=&#x27;balanced_accuracy&#x27;))])</pre><b>In a Jupyter environment, please rerun this cell to show the HTML representation or trust the notebook. <br />On GitHub, the HTML representation is unable to render, please try loading this page with nbviewer.org.</b></div><div class=\"sk-container\" hidden><div class=\"sk-item sk-dashed-wrapped\"><div class=\"sk-label-container\"><div class=\"sk-label sk-toggleable\"><input class=\"sk-toggleable__control sk-hidden--visually\" id=\"sk-estimator-id-98\" type=\"checkbox\" ><label for=\"sk-estimator-id-98\" class=\"sk-toggleable__label sk-toggleable__label-arrow\">Pipeline</label><div class=\"sk-toggleable__content\"><pre>Pipeline(steps=[(&#x27;preprocessing&#x27;,\n",
       "                 ColumnTransformer(sparse_threshold=0,\n",
       "                                   transformers=[(&#x27;num&#x27;,\n",
       "                                                  Pipeline(steps=[(&#x27;imputer&#x27;,\n",
       "                                                                   SimpleImputer(strategy=&#x27;median&#x27;))]),\n",
       "                                                  [&#x27;age&#x27;, &#x27;fnlwgt&#x27;,\n",
       "                                                   &#x27;capital_gain&#x27;,\n",
       "                                                   &#x27;capital_loss&#x27;,\n",
       "                                                   &#x27;hours_per_week&#x27;]),\n",
       "                                                 (&#x27;cat&#x27;,\n",
       "                                                  Pipeline(steps=[(&#x27;imputer&#x27;,\n",
       "                                                                   SimpleImputer(strategy=&#x27;most_frequent&#x27;)),\n",
       "                                                                  (&#x27;encoder&#x27;,\n",
       "                                                                   OrdinalEncoder(dtype=&lt;class &#x27;int&#x27;&gt;,\n",
       "                                                                                  encoded_mis...\n",
       "                                                  [&#x27;workclass&#x27;, &#x27;education&#x27;,\n",
       "                                                   &#x27;marital_status&#x27;,\n",
       "                                                   &#x27;occupation&#x27;, &#x27;relationship&#x27;,\n",
       "                                                   &#x27;race&#x27;, &#x27;sex&#x27;,\n",
       "                                                   &#x27;native_country&#x27;])])),\n",
       "                (&#x27;model&#x27;,\n",
       "                 HistGradientBoostingClassifier(categorical_features=[False,\n",
       "                                                                      False,\n",
       "                                                                      False,\n",
       "                                                                      False,\n",
       "                                                                      False,\n",
       "                                                                      True,\n",
       "                                                                      True,\n",
       "                                                                      True,\n",
       "                                                                      True,\n",
       "                                                                      True,\n",
       "                                                                      True,\n",
       "                                                                      True,\n",
       "                                                                      True],\n",
       "                                                class_weight=&#x27;balanced&#x27;,\n",
       "                                                early_stopping=False,\n",
       "                                                min_samples_leaf=30,\n",
       "                                                random_state=1234,\n",
       "                                                scoring=&#x27;balanced_accuracy&#x27;))])</pre></div></div></div><div class=\"sk-serial\"><div class=\"sk-item sk-dashed-wrapped\"><div class=\"sk-label-container\"><div class=\"sk-label sk-toggleable\"><input class=\"sk-toggleable__control sk-hidden--visually\" id=\"sk-estimator-id-99\" type=\"checkbox\" ><label for=\"sk-estimator-id-99\" class=\"sk-toggleable__label sk-toggleable__label-arrow\">preprocessing: ColumnTransformer</label><div class=\"sk-toggleable__content\"><pre>ColumnTransformer(sparse_threshold=0,\n",
       "                  transformers=[(&#x27;num&#x27;,\n",
       "                                 Pipeline(steps=[(&#x27;imputer&#x27;,\n",
       "                                                  SimpleImputer(strategy=&#x27;median&#x27;))]),\n",
       "                                 [&#x27;age&#x27;, &#x27;fnlwgt&#x27;, &#x27;capital_gain&#x27;,\n",
       "                                  &#x27;capital_loss&#x27;, &#x27;hours_per_week&#x27;]),\n",
       "                                (&#x27;cat&#x27;,\n",
       "                                 Pipeline(steps=[(&#x27;imputer&#x27;,\n",
       "                                                  SimpleImputer(strategy=&#x27;most_frequent&#x27;)),\n",
       "                                                 (&#x27;encoder&#x27;,\n",
       "                                                  OrdinalEncoder(dtype=&lt;class &#x27;int&#x27;&gt;,\n",
       "                                                                 encoded_missing_value=99999,\n",
       "                                                                 handle_unknown=&#x27;use_encoded_value&#x27;,\n",
       "                                                                 max_categories=254,\n",
       "                                                                 unknown_value=99999))]),\n",
       "                                 [&#x27;workclass&#x27;, &#x27;education&#x27;, &#x27;marital_status&#x27;,\n",
       "                                  &#x27;occupation&#x27;, &#x27;relationship&#x27;, &#x27;race&#x27;, &#x27;sex&#x27;,\n",
       "                                  &#x27;native_country&#x27;])])</pre></div></div></div><div class=\"sk-parallel\"><div class=\"sk-parallel-item\"><div class=\"sk-item\"><div class=\"sk-label-container\"><div class=\"sk-label sk-toggleable\"><input class=\"sk-toggleable__control sk-hidden--visually\" id=\"sk-estimator-id-100\" type=\"checkbox\" ><label for=\"sk-estimator-id-100\" class=\"sk-toggleable__label sk-toggleable__label-arrow\">num</label><div class=\"sk-toggleable__content\"><pre>[&#x27;age&#x27;, &#x27;fnlwgt&#x27;, &#x27;capital_gain&#x27;, &#x27;capital_loss&#x27;, &#x27;hours_per_week&#x27;]</pre></div></div></div><div class=\"sk-serial\"><div class=\"sk-item\"><div class=\"sk-serial\"><div class=\"sk-item\"><div class=\"sk-estimator sk-toggleable\"><input class=\"sk-toggleable__control sk-hidden--visually\" id=\"sk-estimator-id-101\" type=\"checkbox\" ><label for=\"sk-estimator-id-101\" class=\"sk-toggleable__label sk-toggleable__label-arrow\">SimpleImputer</label><div class=\"sk-toggleable__content\"><pre>SimpleImputer(strategy=&#x27;median&#x27;)</pre></div></div></div></div></div></div></div></div><div class=\"sk-parallel-item\"><div class=\"sk-item\"><div class=\"sk-label-container\"><div class=\"sk-label sk-toggleable\"><input class=\"sk-toggleable__control sk-hidden--visually\" id=\"sk-estimator-id-102\" type=\"checkbox\" ><label for=\"sk-estimator-id-102\" class=\"sk-toggleable__label sk-toggleable__label-arrow\">cat</label><div class=\"sk-toggleable__content\"><pre>[&#x27;workclass&#x27;, &#x27;education&#x27;, &#x27;marital_status&#x27;, &#x27;occupation&#x27;, &#x27;relationship&#x27;, &#x27;race&#x27;, &#x27;sex&#x27;, &#x27;native_country&#x27;]</pre></div></div></div><div class=\"sk-serial\"><div class=\"sk-item\"><div class=\"sk-serial\"><div class=\"sk-item\"><div class=\"sk-estimator sk-toggleable\"><input class=\"sk-toggleable__control sk-hidden--visually\" id=\"sk-estimator-id-103\" type=\"checkbox\" ><label for=\"sk-estimator-id-103\" class=\"sk-toggleable__label sk-toggleable__label-arrow\">SimpleImputer</label><div class=\"sk-toggleable__content\"><pre>SimpleImputer(strategy=&#x27;most_frequent&#x27;)</pre></div></div></div><div class=\"sk-item\"><div class=\"sk-estimator sk-toggleable\"><input class=\"sk-toggleable__control sk-hidden--visually\" id=\"sk-estimator-id-104\" type=\"checkbox\" ><label for=\"sk-estimator-id-104\" class=\"sk-toggleable__label sk-toggleable__label-arrow\">OrdinalEncoder</label><div class=\"sk-toggleable__content\"><pre>OrdinalEncoder(dtype=&lt;class &#x27;int&#x27;&gt;, encoded_missing_value=99999,\n",
       "               handle_unknown=&#x27;use_encoded_value&#x27;, max_categories=254,\n",
       "               unknown_value=99999)</pre></div></div></div></div></div></div></div></div></div></div><div class=\"sk-item\"><div class=\"sk-estimator sk-toggleable\"><input class=\"sk-toggleable__control sk-hidden--visually\" id=\"sk-estimator-id-105\" type=\"checkbox\" ><label for=\"sk-estimator-id-105\" class=\"sk-toggleable__label sk-toggleable__label-arrow\">HistGradientBoostingClassifier</label><div class=\"sk-toggleable__content\"><pre>HistGradientBoostingClassifier(categorical_features=[False, False, False, False,\n",
       "                                                     False, True, True, True,\n",
       "                                                     True, True, True, True,\n",
       "                                                     True],\n",
       "                               class_weight=&#x27;balanced&#x27;, early_stopping=False,\n",
       "                               min_samples_leaf=30, random_state=1234,\n",
       "                               scoring=&#x27;balanced_accuracy&#x27;)</pre></div></div></div></div></div></div></div>"
      ],
      "text/plain": [
       "Pipeline(steps=[('preprocessing',\n",
       "                 ColumnTransformer(sparse_threshold=0,\n",
       "                                   transformers=[('num',\n",
       "                                                  Pipeline(steps=[('imputer',\n",
       "                                                                   SimpleImputer(strategy='median'))]),\n",
       "                                                  ['age', 'fnlwgt',\n",
       "                                                   'capital_gain',\n",
       "                                                   'capital_loss',\n",
       "                                                   'hours_per_week']),\n",
       "                                                 ('cat',\n",
       "                                                  Pipeline(steps=[('imputer',\n",
       "                                                                   SimpleImputer(strategy='most_frequent')),\n",
       "                                                                  ('encoder',\n",
       "                                                                   OrdinalEncoder(dtype=<class 'int'>,\n",
       "                                                                                  encoded_mis...\n",
       "                                                  ['workclass', 'education',\n",
       "                                                   'marital_status',\n",
       "                                                   'occupation', 'relationship',\n",
       "                                                   'race', 'sex',\n",
       "                                                   'native_country'])])),\n",
       "                ('model',\n",
       "                 HistGradientBoostingClassifier(categorical_features=[False,\n",
       "                                                                      False,\n",
       "                                                                      False,\n",
       "                                                                      False,\n",
       "                                                                      False,\n",
       "                                                                      True,\n",
       "                                                                      True,\n",
       "                                                                      True,\n",
       "                                                                      True,\n",
       "                                                                      True,\n",
       "                                                                      True,\n",
       "                                                                      True,\n",
       "                                                                      True],\n",
       "                                                class_weight='balanced',\n",
       "                                                early_stopping=False,\n",
       "                                                min_samples_leaf=30,\n",
       "                                                random_state=1234,\n",
       "                                                scoring='balanced_accuracy'))])"
      ]
     },
     "execution_count": 75,
     "metadata": {},
     "output_type": "execute_result"
    }
   ],
   "source": [
    "# Display pipeline\n",
    "print(\"Time taken: \", catsup_hgb_default_time_taken)\n",
    "catsup_hgb_default"
   ]
  },
  {
   "cell_type": "code",
   "execution_count": 76,
   "id": "6434d612",
   "metadata": {},
   "outputs": [],
   "source": [
    "tic = time.time()\n",
    "\n",
    "catsup_hgb_default9 = catsup_hgb_default_pipeline9.fit(X_train, y_train)\n",
    "\n",
    "toc = time.time()\n",
    "catsup_hgb_default9_time_taken = toc-tic"
   ]
  },
  {
   "cell_type": "code",
   "execution_count": 77,
   "metadata": {},
   "outputs": [
    {
     "name": "stdout",
     "output_type": "stream",
     "text": [
      "Time taken:  1.0371406078338623\n"
     ]
    },
    {
     "data": {
      "text/html": [
       "<style>#sk-container-id-12 {color: black;}#sk-container-id-12 pre{padding: 0;}#sk-container-id-12 div.sk-toggleable {background-color: white;}#sk-container-id-12 label.sk-toggleable__label {cursor: pointer;display: block;width: 100%;margin-bottom: 0;padding: 0.3em;box-sizing: border-box;text-align: center;}#sk-container-id-12 label.sk-toggleable__label-arrow:before {content: \"▸\";float: left;margin-right: 0.25em;color: #696969;}#sk-container-id-12 label.sk-toggleable__label-arrow:hover:before {color: black;}#sk-container-id-12 div.sk-estimator:hover label.sk-toggleable__label-arrow:before {color: black;}#sk-container-id-12 div.sk-toggleable__content {max-height: 0;max-width: 0;overflow: hidden;text-align: left;background-color: #f0f8ff;}#sk-container-id-12 div.sk-toggleable__content pre {margin: 0.2em;color: black;border-radius: 0.25em;background-color: #f0f8ff;}#sk-container-id-12 input.sk-toggleable__control:checked~div.sk-toggleable__content {max-height: 200px;max-width: 100%;overflow: auto;}#sk-container-id-12 input.sk-toggleable__control:checked~label.sk-toggleable__label-arrow:before {content: \"▾\";}#sk-container-id-12 div.sk-estimator input.sk-toggleable__control:checked~label.sk-toggleable__label {background-color: #d4ebff;}#sk-container-id-12 div.sk-label input.sk-toggleable__control:checked~label.sk-toggleable__label {background-color: #d4ebff;}#sk-container-id-12 input.sk-hidden--visually {border: 0;clip: rect(1px 1px 1px 1px);clip: rect(1px, 1px, 1px, 1px);height: 1px;margin: -1px;overflow: hidden;padding: 0;position: absolute;width: 1px;}#sk-container-id-12 div.sk-estimator {font-family: monospace;background-color: #f0f8ff;border: 1px dotted black;border-radius: 0.25em;box-sizing: border-box;margin-bottom: 0.5em;}#sk-container-id-12 div.sk-estimator:hover {background-color: #d4ebff;}#sk-container-id-12 div.sk-parallel-item::after {content: \"\";width: 100%;border-bottom: 1px solid gray;flex-grow: 1;}#sk-container-id-12 div.sk-label:hover label.sk-toggleable__label {background-color: #d4ebff;}#sk-container-id-12 div.sk-serial::before {content: \"\";position: absolute;border-left: 1px solid gray;box-sizing: border-box;top: 0;bottom: 0;left: 50%;z-index: 0;}#sk-container-id-12 div.sk-serial {display: flex;flex-direction: column;align-items: center;background-color: white;padding-right: 0.2em;padding-left: 0.2em;position: relative;}#sk-container-id-12 div.sk-item {position: relative;z-index: 1;}#sk-container-id-12 div.sk-parallel {display: flex;align-items: stretch;justify-content: center;background-color: white;position: relative;}#sk-container-id-12 div.sk-item::before, #sk-container-id-12 div.sk-parallel-item::before {content: \"\";position: absolute;border-left: 1px solid gray;box-sizing: border-box;top: 0;bottom: 0;left: 50%;z-index: -1;}#sk-container-id-12 div.sk-parallel-item {display: flex;flex-direction: column;z-index: 1;position: relative;background-color: white;}#sk-container-id-12 div.sk-parallel-item:first-child::after {align-self: flex-end;width: 50%;}#sk-container-id-12 div.sk-parallel-item:last-child::after {align-self: flex-start;width: 50%;}#sk-container-id-12 div.sk-parallel-item:only-child::after {width: 0;}#sk-container-id-12 div.sk-dashed-wrapped {border: 1px dashed gray;margin: 0 0.4em 0.5em 0.4em;box-sizing: border-box;padding-bottom: 0.4em;background-color: white;}#sk-container-id-12 div.sk-label label {font-family: monospace;font-weight: bold;display: inline-block;line-height: 1.2em;}#sk-container-id-12 div.sk-label-container {text-align: center;}#sk-container-id-12 div.sk-container {/* jupyter's `normalize.less` sets `[hidden] { display: none; }` but bootstrap.min.css set `[hidden] { display: none !important; }` so we also need the `!important` here to be able to override the default hidden behavior on the sphinx rendered scikit-learn.org. See: https://github.com/scikit-learn/scikit-learn/issues/21755 */display: inline-block !important;position: relative;}#sk-container-id-12 div.sk-text-repr-fallback {display: none;}</style><div id=\"sk-container-id-12\" class=\"sk-top-container\"><div class=\"sk-text-repr-fallback\"><pre>Pipeline(steps=[(&#x27;preprocessing&#x27;,\n",
       "                 ColumnTransformer(sparse_threshold=0,\n",
       "                                   transformers=[(&#x27;num&#x27;,\n",
       "                                                  Pipeline(steps=[(&#x27;imputer&#x27;,\n",
       "                                                                   SimpleImputer(strategy=&#x27;median&#x27;))]),\n",
       "                                                  [&#x27;age&#x27;, &#x27;fnlwgt&#x27;,\n",
       "                                                   &#x27;capital_gain&#x27;,\n",
       "                                                   &#x27;capital_loss&#x27;,\n",
       "                                                   &#x27;hours_per_week&#x27;]),\n",
       "                                                 (&#x27;one_hot_encoding&#x27;,\n",
       "                                                  Pipeline(steps=[(&#x27;imputer&#x27;,\n",
       "                                                                   SimpleImputer(strategy=&#x27;most_frequent&#x27;)),\n",
       "                                                                  (&#x27;encoder&#x27;,\n",
       "                                                                   OneHotEncoder(drop=&#x27;first&#x27;,\n",
       "                                                                                 handl...\n",
       "                 HistGradientBoostingClassifier(categorical_features=[False,\n",
       "                                                                      False,\n",
       "                                                                      False,\n",
       "                                                                      False,\n",
       "                                                                      False,\n",
       "                                                                      False,\n",
       "                                                                      False,\n",
       "                                                                      False,\n",
       "                                                                      False,\n",
       "                                                                      False,\n",
       "                                                                      False,\n",
       "                                                                      False,\n",
       "                                                                      False,\n",
       "                                                                      False,\n",
       "                                                                      False,\n",
       "                                                                      False,\n",
       "                                                                      False,\n",
       "                                                                      False,\n",
       "                                                                      False,\n",
       "                                                                      False,\n",
       "                                                                      False,\n",
       "                                                                      False,\n",
       "                                                                      False,\n",
       "                                                                      False,\n",
       "                                                                      False,\n",
       "                                                                      False,\n",
       "                                                                      False,\n",
       "                                                                      False,\n",
       "                                                                      True,\n",
       "                                                                      True, ...],\n",
       "                                                class_weight=&#x27;balanced&#x27;,\n",
       "                                                early_stopping=False,\n",
       "                                                min_samples_leaf=30,\n",
       "                                                random_state=1234,\n",
       "                                                scoring=&#x27;balanced_accuracy&#x27;))])</pre><b>In a Jupyter environment, please rerun this cell to show the HTML representation or trust the notebook. <br />On GitHub, the HTML representation is unable to render, please try loading this page with nbviewer.org.</b></div><div class=\"sk-container\" hidden><div class=\"sk-item sk-dashed-wrapped\"><div class=\"sk-label-container\"><div class=\"sk-label sk-toggleable\"><input class=\"sk-toggleable__control sk-hidden--visually\" id=\"sk-estimator-id-106\" type=\"checkbox\" ><label for=\"sk-estimator-id-106\" class=\"sk-toggleable__label sk-toggleable__label-arrow\">Pipeline</label><div class=\"sk-toggleable__content\"><pre>Pipeline(steps=[(&#x27;preprocessing&#x27;,\n",
       "                 ColumnTransformer(sparse_threshold=0,\n",
       "                                   transformers=[(&#x27;num&#x27;,\n",
       "                                                  Pipeline(steps=[(&#x27;imputer&#x27;,\n",
       "                                                                   SimpleImputer(strategy=&#x27;median&#x27;))]),\n",
       "                                                  [&#x27;age&#x27;, &#x27;fnlwgt&#x27;,\n",
       "                                                   &#x27;capital_gain&#x27;,\n",
       "                                                   &#x27;capital_loss&#x27;,\n",
       "                                                   &#x27;hours_per_week&#x27;]),\n",
       "                                                 (&#x27;one_hot_encoding&#x27;,\n",
       "                                                  Pipeline(steps=[(&#x27;imputer&#x27;,\n",
       "                                                                   SimpleImputer(strategy=&#x27;most_frequent&#x27;)),\n",
       "                                                                  (&#x27;encoder&#x27;,\n",
       "                                                                   OneHotEncoder(drop=&#x27;first&#x27;,\n",
       "                                                                                 handl...\n",
       "                 HistGradientBoostingClassifier(categorical_features=[False,\n",
       "                                                                      False,\n",
       "                                                                      False,\n",
       "                                                                      False,\n",
       "                                                                      False,\n",
       "                                                                      False,\n",
       "                                                                      False,\n",
       "                                                                      False,\n",
       "                                                                      False,\n",
       "                                                                      False,\n",
       "                                                                      False,\n",
       "                                                                      False,\n",
       "                                                                      False,\n",
       "                                                                      False,\n",
       "                                                                      False,\n",
       "                                                                      False,\n",
       "                                                                      False,\n",
       "                                                                      False,\n",
       "                                                                      False,\n",
       "                                                                      False,\n",
       "                                                                      False,\n",
       "                                                                      False,\n",
       "                                                                      False,\n",
       "                                                                      False,\n",
       "                                                                      False,\n",
       "                                                                      False,\n",
       "                                                                      False,\n",
       "                                                                      False,\n",
       "                                                                      True,\n",
       "                                                                      True, ...],\n",
       "                                                class_weight=&#x27;balanced&#x27;,\n",
       "                                                early_stopping=False,\n",
       "                                                min_samples_leaf=30,\n",
       "                                                random_state=1234,\n",
       "                                                scoring=&#x27;balanced_accuracy&#x27;))])</pre></div></div></div><div class=\"sk-serial\"><div class=\"sk-item sk-dashed-wrapped\"><div class=\"sk-label-container\"><div class=\"sk-label sk-toggleable\"><input class=\"sk-toggleable__control sk-hidden--visually\" id=\"sk-estimator-id-107\" type=\"checkbox\" ><label for=\"sk-estimator-id-107\" class=\"sk-toggleable__label sk-toggleable__label-arrow\">preprocessing: ColumnTransformer</label><div class=\"sk-toggleable__content\"><pre>ColumnTransformer(sparse_threshold=0,\n",
       "                  transformers=[(&#x27;num&#x27;,\n",
       "                                 Pipeline(steps=[(&#x27;imputer&#x27;,\n",
       "                                                  SimpleImputer(strategy=&#x27;median&#x27;))]),\n",
       "                                 [&#x27;age&#x27;, &#x27;fnlwgt&#x27;, &#x27;capital_gain&#x27;,\n",
       "                                  &#x27;capital_loss&#x27;, &#x27;hours_per_week&#x27;]),\n",
       "                                (&#x27;one_hot_encoding&#x27;,\n",
       "                                 Pipeline(steps=[(&#x27;imputer&#x27;,\n",
       "                                                  SimpleImputer(strategy=&#x27;most_frequent&#x27;)),\n",
       "                                                 (&#x27;encoder&#x27;,\n",
       "                                                  OneHotEncoder(drop=&#x27;first&#x27;,\n",
       "                                                                handle_unknown=&#x27;ignore&#x27;))]),\n",
       "                                 [&#x27;workclass&#x27;, &#x27;marital_status&#x27;, &#x27;relationship&#x27;,\n",
       "                                  &#x27;race&#x27;, &#x27;sex&#x27;]),\n",
       "                                (&#x27;ordinal_encoding&#x27;,\n",
       "                                 Pipeline(steps=[(&#x27;imputer&#x27;,\n",
       "                                                  SimpleImputer(strategy=&#x27;most_frequent&#x27;)),\n",
       "                                                 (&#x27;encoder&#x27;,\n",
       "                                                  OrdinalEncoder(dtype=&lt;class &#x27;int&#x27;&gt;,\n",
       "                                                                 encoded_missing_value=99999,\n",
       "                                                                 handle_unknown=&#x27;use_encoded_value&#x27;,\n",
       "                                                                 max_categories=254,\n",
       "                                                                 unknown_value=99999))]),\n",
       "                                 [&#x27;education&#x27;, &#x27;occupation&#x27;,\n",
       "                                  &#x27;native_country&#x27;])])</pre></div></div></div><div class=\"sk-parallel\"><div class=\"sk-parallel-item\"><div class=\"sk-item\"><div class=\"sk-label-container\"><div class=\"sk-label sk-toggleable\"><input class=\"sk-toggleable__control sk-hidden--visually\" id=\"sk-estimator-id-108\" type=\"checkbox\" ><label for=\"sk-estimator-id-108\" class=\"sk-toggleable__label sk-toggleable__label-arrow\">num</label><div class=\"sk-toggleable__content\"><pre>[&#x27;age&#x27;, &#x27;fnlwgt&#x27;, &#x27;capital_gain&#x27;, &#x27;capital_loss&#x27;, &#x27;hours_per_week&#x27;]</pre></div></div></div><div class=\"sk-serial\"><div class=\"sk-item\"><div class=\"sk-serial\"><div class=\"sk-item\"><div class=\"sk-estimator sk-toggleable\"><input class=\"sk-toggleable__control sk-hidden--visually\" id=\"sk-estimator-id-109\" type=\"checkbox\" ><label for=\"sk-estimator-id-109\" class=\"sk-toggleable__label sk-toggleable__label-arrow\">SimpleImputer</label><div class=\"sk-toggleable__content\"><pre>SimpleImputer(strategy=&#x27;median&#x27;)</pre></div></div></div></div></div></div></div></div><div class=\"sk-parallel-item\"><div class=\"sk-item\"><div class=\"sk-label-container\"><div class=\"sk-label sk-toggleable\"><input class=\"sk-toggleable__control sk-hidden--visually\" id=\"sk-estimator-id-110\" type=\"checkbox\" ><label for=\"sk-estimator-id-110\" class=\"sk-toggleable__label sk-toggleable__label-arrow\">one_hot_encoding</label><div class=\"sk-toggleable__content\"><pre>[&#x27;workclass&#x27;, &#x27;marital_status&#x27;, &#x27;relationship&#x27;, &#x27;race&#x27;, &#x27;sex&#x27;]</pre></div></div></div><div class=\"sk-serial\"><div class=\"sk-item\"><div class=\"sk-serial\"><div class=\"sk-item\"><div class=\"sk-estimator sk-toggleable\"><input class=\"sk-toggleable__control sk-hidden--visually\" id=\"sk-estimator-id-111\" type=\"checkbox\" ><label for=\"sk-estimator-id-111\" class=\"sk-toggleable__label sk-toggleable__label-arrow\">SimpleImputer</label><div class=\"sk-toggleable__content\"><pre>SimpleImputer(strategy=&#x27;most_frequent&#x27;)</pre></div></div></div><div class=\"sk-item\"><div class=\"sk-estimator sk-toggleable\"><input class=\"sk-toggleable__control sk-hidden--visually\" id=\"sk-estimator-id-112\" type=\"checkbox\" ><label for=\"sk-estimator-id-112\" class=\"sk-toggleable__label sk-toggleable__label-arrow\">OneHotEncoder</label><div class=\"sk-toggleable__content\"><pre>OneHotEncoder(drop=&#x27;first&#x27;, handle_unknown=&#x27;ignore&#x27;)</pre></div></div></div></div></div></div></div></div><div class=\"sk-parallel-item\"><div class=\"sk-item\"><div class=\"sk-label-container\"><div class=\"sk-label sk-toggleable\"><input class=\"sk-toggleable__control sk-hidden--visually\" id=\"sk-estimator-id-113\" type=\"checkbox\" ><label for=\"sk-estimator-id-113\" class=\"sk-toggleable__label sk-toggleable__label-arrow\">ordinal_encoding</label><div class=\"sk-toggleable__content\"><pre>[&#x27;education&#x27;, &#x27;occupation&#x27;, &#x27;native_country&#x27;]</pre></div></div></div><div class=\"sk-serial\"><div class=\"sk-item\"><div class=\"sk-serial\"><div class=\"sk-item\"><div class=\"sk-estimator sk-toggleable\"><input class=\"sk-toggleable__control sk-hidden--visually\" id=\"sk-estimator-id-114\" type=\"checkbox\" ><label for=\"sk-estimator-id-114\" class=\"sk-toggleable__label sk-toggleable__label-arrow\">SimpleImputer</label><div class=\"sk-toggleable__content\"><pre>SimpleImputer(strategy=&#x27;most_frequent&#x27;)</pre></div></div></div><div class=\"sk-item\"><div class=\"sk-estimator sk-toggleable\"><input class=\"sk-toggleable__control sk-hidden--visually\" id=\"sk-estimator-id-115\" type=\"checkbox\" ><label for=\"sk-estimator-id-115\" class=\"sk-toggleable__label sk-toggleable__label-arrow\">OrdinalEncoder</label><div class=\"sk-toggleable__content\"><pre>OrdinalEncoder(dtype=&lt;class &#x27;int&#x27;&gt;, encoded_missing_value=99999,\n",
       "               handle_unknown=&#x27;use_encoded_value&#x27;, max_categories=254,\n",
       "               unknown_value=99999)</pre></div></div></div></div></div></div></div></div></div></div><div class=\"sk-item\"><div class=\"sk-estimator sk-toggleable\"><input class=\"sk-toggleable__control sk-hidden--visually\" id=\"sk-estimator-id-116\" type=\"checkbox\" ><label for=\"sk-estimator-id-116\" class=\"sk-toggleable__label sk-toggleable__label-arrow\">HistGradientBoostingClassifier</label><div class=\"sk-toggleable__content\"><pre>HistGradientBoostingClassifier(categorical_features=[False, False, False, False,\n",
       "                                                     False, False, False, False,\n",
       "                                                     False, False, False, False,\n",
       "                                                     False, False, False, False,\n",
       "                                                     False, False, False, False,\n",
       "                                                     False, False, False, False,\n",
       "                                                     False, False, False, False,\n",
       "                                                     True, True, ...],\n",
       "                               class_weight=&#x27;balanced&#x27;, early_stopping=False,\n",
       "                               min_samples_leaf=30, random_state=1234,\n",
       "                               scoring=&#x27;balanced_accuracy&#x27;)</pre></div></div></div></div></div></div></div>"
      ],
      "text/plain": [
       "Pipeline(steps=[('preprocessing',\n",
       "                 ColumnTransformer(sparse_threshold=0,\n",
       "                                   transformers=[('num',\n",
       "                                                  Pipeline(steps=[('imputer',\n",
       "                                                                   SimpleImputer(strategy='median'))]),\n",
       "                                                  ['age', 'fnlwgt',\n",
       "                                                   'capital_gain',\n",
       "                                                   'capital_loss',\n",
       "                                                   'hours_per_week']),\n",
       "                                                 ('one_hot_encoding',\n",
       "                                                  Pipeline(steps=[('imputer',\n",
       "                                                                   SimpleImputer(strategy='most_frequent')),\n",
       "                                                                  ('encoder',\n",
       "                                                                   OneHotEncoder(drop='first',\n",
       "                                                                                 handl...\n",
       "                 HistGradientBoostingClassifier(categorical_features=[False,\n",
       "                                                                      False,\n",
       "                                                                      False,\n",
       "                                                                      False,\n",
       "                                                                      False,\n",
       "                                                                      False,\n",
       "                                                                      False,\n",
       "                                                                      False,\n",
       "                                                                      False,\n",
       "                                                                      False,\n",
       "                                                                      False,\n",
       "                                                                      False,\n",
       "                                                                      False,\n",
       "                                                                      False,\n",
       "                                                                      False,\n",
       "                                                                      False,\n",
       "                                                                      False,\n",
       "                                                                      False,\n",
       "                                                                      False,\n",
       "                                                                      False,\n",
       "                                                                      False,\n",
       "                                                                      False,\n",
       "                                                                      False,\n",
       "                                                                      False,\n",
       "                                                                      False,\n",
       "                                                                      False,\n",
       "                                                                      False,\n",
       "                                                                      False,\n",
       "                                                                      True,\n",
       "                                                                      True, ...],\n",
       "                                                class_weight='balanced',\n",
       "                                                early_stopping=False,\n",
       "                                                min_samples_leaf=30,\n",
       "                                                random_state=1234,\n",
       "                                                scoring='balanced_accuracy'))])"
      ]
     },
     "execution_count": 77,
     "metadata": {},
     "output_type": "execute_result"
    }
   ],
   "source": [
    "# Display pipeline\n",
    "print(\"Time taken: \", catsup_hgb_default9_time_taken)\n",
    "catsup_hgb_default9"
   ]
  },
  {
   "cell_type": "code",
   "execution_count": 78,
   "id": "59e4912c",
   "metadata": {},
   "outputs": [
    {
     "name": "stdout",
     "output_type": "stream",
     "text": [
      "Balanced accuracy with default parameters: 0.8420355771180861\n"
     ]
    }
   ],
   "source": [
    "# Calculate balanced accuracy for the model with default parameters\n",
    "y_catsup_hgb_default_pred = catsup_hgb_default.predict(X_test)\n",
    "catsup_hgb_default_accuracy = balanced_accuracy_score(y_test, y_catsup_hgb_default_pred)\n",
    "print(f'Balanced accuracy with default parameters: {catsup_hgb_default_accuracy}')\n",
    "\n",
    "# Save results\n",
    "default_summary.append(\"Default\")\n",
    "card_9_summary.append(\"AllVariables\")\n",
    "encoder_summary.append(\"HGB_NativeSupport\")\n",
    "value_summary.append(catsup_hgb_default_accuracy)\n",
    "time_summary.append(catsup_hgb_default_time_taken)\n",
    "n_models_summary.append(1)"
   ]
  },
  {
   "cell_type": "code",
   "execution_count": 79,
   "id": "d02d126b",
   "metadata": {},
   "outputs": [
    {
     "name": "stdout",
     "output_type": "stream",
     "text": [
      "Balanced accuracy with default parameters: 0.8395901056777004\n"
     ]
    }
   ],
   "source": [
    "# Calculate balanced accuracy for the model with default parameters\n",
    "y_catsup_hgb_default_pred9 = catsup_hgb_default9.predict(X_test)\n",
    "catsup_hgb_default_accuracy9 = balanced_accuracy_score(y_test, y_catsup_hgb_default_pred9)\n",
    "print(f'Balanced accuracy with default parameters: {catsup_hgb_default_accuracy9}')\n",
    "\n",
    "# Save results\n",
    "default_summary.append(\"Default\")\n",
    "card_9_summary.append(\"OnlyVariablesWithCard>9\")\n",
    "encoder_summary.append(\"HGB_NativeSupport\")\n",
    "value_summary.append(catsup_hgb_default_accuracy9)\n",
    "time_summary.append(catsup_hgb_default9_time_taken)\n",
    "n_models_summary.append(1)"
   ]
  },
  {
   "cell_type": "markdown",
   "id": "39380734",
   "metadata": {},
   "source": [
    "#### Create a HistGradientBoostingClassifier model for tuning"
   ]
  },
  {
   "cell_type": "code",
   "execution_count": 80,
   "id": "b1da0715",
   "metadata": {},
   "outputs": [],
   "source": [
    "catsup_hgb_tune = RandomizedSearchCV(estimator = catsup_hgb_default_pipeline, \n",
    "                                     param_distributions = param_distributions, \n",
    "                                     n_iter = 100,\n",
    "                                     cv = stratified_kfold,\n",
    "                                     scoring = 'balanced_accuracy', \n",
    "                                     random_state = 1234,\n",
    "                                     n_jobs = -1)\n",
    "\n",
    "catsup_hgb_tune9 = RandomizedSearchCV(estimator = catsup_hgb_default_pipeline9, \n",
    "                                      param_distributions = param_distributions, \n",
    "                                      n_iter = 100,\n",
    "                                      cv = stratified_kfold,\n",
    "                                      scoring = 'balanced_accuracy', \n",
    "                                      random_state = 1234,\n",
    "                                     n_jobs = -1)"
   ]
  },
  {
   "cell_type": "code",
   "execution_count": 81,
   "id": "9d0cffeb",
   "metadata": {
    "scrolled": true
   },
   "outputs": [],
   "source": [
    "tic = time.time() \n",
    "\n",
    "catsup_hgb_tune = catsup_hgb_tune.fit(X_train, y_train)\n",
    "\n",
    "toc = time.time()\n",
    "catsup_hgb_tune_time_taken = toc-tic"
   ]
  },
  {
   "cell_type": "code",
   "execution_count": 82,
   "metadata": {},
   "outputs": [
    {
     "name": "stdout",
     "output_type": "stream",
     "text": [
      "Time taken:  50.29841756820679\n"
     ]
    },
    {
     "data": {
      "text/html": [
       "<style>#sk-container-id-13 {color: black;}#sk-container-id-13 pre{padding: 0;}#sk-container-id-13 div.sk-toggleable {background-color: white;}#sk-container-id-13 label.sk-toggleable__label {cursor: pointer;display: block;width: 100%;margin-bottom: 0;padding: 0.3em;box-sizing: border-box;text-align: center;}#sk-container-id-13 label.sk-toggleable__label-arrow:before {content: \"▸\";float: left;margin-right: 0.25em;color: #696969;}#sk-container-id-13 label.sk-toggleable__label-arrow:hover:before {color: black;}#sk-container-id-13 div.sk-estimator:hover label.sk-toggleable__label-arrow:before {color: black;}#sk-container-id-13 div.sk-toggleable__content {max-height: 0;max-width: 0;overflow: hidden;text-align: left;background-color: #f0f8ff;}#sk-container-id-13 div.sk-toggleable__content pre {margin: 0.2em;color: black;border-radius: 0.25em;background-color: #f0f8ff;}#sk-container-id-13 input.sk-toggleable__control:checked~div.sk-toggleable__content {max-height: 200px;max-width: 100%;overflow: auto;}#sk-container-id-13 input.sk-toggleable__control:checked~label.sk-toggleable__label-arrow:before {content: \"▾\";}#sk-container-id-13 div.sk-estimator input.sk-toggleable__control:checked~label.sk-toggleable__label {background-color: #d4ebff;}#sk-container-id-13 div.sk-label input.sk-toggleable__control:checked~label.sk-toggleable__label {background-color: #d4ebff;}#sk-container-id-13 input.sk-hidden--visually {border: 0;clip: rect(1px 1px 1px 1px);clip: rect(1px, 1px, 1px, 1px);height: 1px;margin: -1px;overflow: hidden;padding: 0;position: absolute;width: 1px;}#sk-container-id-13 div.sk-estimator {font-family: monospace;background-color: #f0f8ff;border: 1px dotted black;border-radius: 0.25em;box-sizing: border-box;margin-bottom: 0.5em;}#sk-container-id-13 div.sk-estimator:hover {background-color: #d4ebff;}#sk-container-id-13 div.sk-parallel-item::after {content: \"\";width: 100%;border-bottom: 1px solid gray;flex-grow: 1;}#sk-container-id-13 div.sk-label:hover label.sk-toggleable__label {background-color: #d4ebff;}#sk-container-id-13 div.sk-serial::before {content: \"\";position: absolute;border-left: 1px solid gray;box-sizing: border-box;top: 0;bottom: 0;left: 50%;z-index: 0;}#sk-container-id-13 div.sk-serial {display: flex;flex-direction: column;align-items: center;background-color: white;padding-right: 0.2em;padding-left: 0.2em;position: relative;}#sk-container-id-13 div.sk-item {position: relative;z-index: 1;}#sk-container-id-13 div.sk-parallel {display: flex;align-items: stretch;justify-content: center;background-color: white;position: relative;}#sk-container-id-13 div.sk-item::before, #sk-container-id-13 div.sk-parallel-item::before {content: \"\";position: absolute;border-left: 1px solid gray;box-sizing: border-box;top: 0;bottom: 0;left: 50%;z-index: -1;}#sk-container-id-13 div.sk-parallel-item {display: flex;flex-direction: column;z-index: 1;position: relative;background-color: white;}#sk-container-id-13 div.sk-parallel-item:first-child::after {align-self: flex-end;width: 50%;}#sk-container-id-13 div.sk-parallel-item:last-child::after {align-self: flex-start;width: 50%;}#sk-container-id-13 div.sk-parallel-item:only-child::after {width: 0;}#sk-container-id-13 div.sk-dashed-wrapped {border: 1px dashed gray;margin: 0 0.4em 0.5em 0.4em;box-sizing: border-box;padding-bottom: 0.4em;background-color: white;}#sk-container-id-13 div.sk-label label {font-family: monospace;font-weight: bold;display: inline-block;line-height: 1.2em;}#sk-container-id-13 div.sk-label-container {text-align: center;}#sk-container-id-13 div.sk-container {/* jupyter's `normalize.less` sets `[hidden] { display: none; }` but bootstrap.min.css set `[hidden] { display: none !important; }` so we also need the `!important` here to be able to override the default hidden behavior on the sphinx rendered scikit-learn.org. See: https://github.com/scikit-learn/scikit-learn/issues/21755 */display: inline-block !important;position: relative;}#sk-container-id-13 div.sk-text-repr-fallback {display: none;}</style><div id=\"sk-container-id-13\" class=\"sk-top-container\"><div class=\"sk-text-repr-fallback\"><pre>RandomizedSearchCV(cv=StratifiedKFold(n_splits=3, random_state=1234, shuffle=True),\n",
       "                   estimator=Pipeline(steps=[(&#x27;preprocessing&#x27;,\n",
       "                                              ColumnTransformer(sparse_threshold=0,\n",
       "                                                                transformers=[(&#x27;num&#x27;,\n",
       "                                                                               Pipeline(steps=[(&#x27;imputer&#x27;,\n",
       "                                                                                                SimpleImputer(strategy=&#x27;median&#x27;))]),\n",
       "                                                                               [&#x27;age&#x27;,\n",
       "                                                                                &#x27;fnlwgt&#x27;,\n",
       "                                                                                &#x27;capital_gain&#x27;,\n",
       "                                                                                &#x27;capital_loss&#x27;,\n",
       "                                                                                &#x27;hours_per_week&#x27;]),\n",
       "                                                                              (&#x27;cat&#x27;,\n",
       "                                                                               Pipeline(steps=[(&#x27;imputer&#x27;,\n",
       "                                                                                                Simple...\n",
       "                   param_distributions={&#x27;model__learning_rate&#x27;: &lt;scipy.stats._distn_infrastructure.rv_continuous_frozen object at 0x00000212688E6680&gt;,\n",
       "                                        &#x27;model__max_iter&#x27;: &lt;scipy.stats._distn_infrastructure.rv_discrete_frozen object at 0x000002126836B190&gt;,\n",
       "                                        &#x27;model__min_samples_leaf&#x27;: &lt;scipy.stats._distn_infrastructure.rv_discrete_frozen object at 0x00000212688E7EE0&gt;},\n",
       "                   random_state=1234, scoring=&#x27;balanced_accuracy&#x27;)</pre><b>In a Jupyter environment, please rerun this cell to show the HTML representation or trust the notebook. <br />On GitHub, the HTML representation is unable to render, please try loading this page with nbviewer.org.</b></div><div class=\"sk-container\" hidden><div class=\"sk-item sk-dashed-wrapped\"><div class=\"sk-label-container\"><div class=\"sk-label sk-toggleable\"><input class=\"sk-toggleable__control sk-hidden--visually\" id=\"sk-estimator-id-117\" type=\"checkbox\" ><label for=\"sk-estimator-id-117\" class=\"sk-toggleable__label sk-toggleable__label-arrow\">RandomizedSearchCV</label><div class=\"sk-toggleable__content\"><pre>RandomizedSearchCV(cv=StratifiedKFold(n_splits=3, random_state=1234, shuffle=True),\n",
       "                   estimator=Pipeline(steps=[(&#x27;preprocessing&#x27;,\n",
       "                                              ColumnTransformer(sparse_threshold=0,\n",
       "                                                                transformers=[(&#x27;num&#x27;,\n",
       "                                                                               Pipeline(steps=[(&#x27;imputer&#x27;,\n",
       "                                                                                                SimpleImputer(strategy=&#x27;median&#x27;))]),\n",
       "                                                                               [&#x27;age&#x27;,\n",
       "                                                                                &#x27;fnlwgt&#x27;,\n",
       "                                                                                &#x27;capital_gain&#x27;,\n",
       "                                                                                &#x27;capital_loss&#x27;,\n",
       "                                                                                &#x27;hours_per_week&#x27;]),\n",
       "                                                                              (&#x27;cat&#x27;,\n",
       "                                                                               Pipeline(steps=[(&#x27;imputer&#x27;,\n",
       "                                                                                                Simple...\n",
       "                   param_distributions={&#x27;model__learning_rate&#x27;: &lt;scipy.stats._distn_infrastructure.rv_continuous_frozen object at 0x00000212688E6680&gt;,\n",
       "                                        &#x27;model__max_iter&#x27;: &lt;scipy.stats._distn_infrastructure.rv_discrete_frozen object at 0x000002126836B190&gt;,\n",
       "                                        &#x27;model__min_samples_leaf&#x27;: &lt;scipy.stats._distn_infrastructure.rv_discrete_frozen object at 0x00000212688E7EE0&gt;},\n",
       "                   random_state=1234, scoring=&#x27;balanced_accuracy&#x27;)</pre></div></div></div><div class=\"sk-parallel\"><div class=\"sk-parallel-item\"><div class=\"sk-item\"><div class=\"sk-label-container\"><div class=\"sk-label sk-toggleable\"><input class=\"sk-toggleable__control sk-hidden--visually\" id=\"sk-estimator-id-118\" type=\"checkbox\" ><label for=\"sk-estimator-id-118\" class=\"sk-toggleable__label sk-toggleable__label-arrow\">estimator: Pipeline</label><div class=\"sk-toggleable__content\"><pre>Pipeline(steps=[(&#x27;preprocessing&#x27;,\n",
       "                 ColumnTransformer(sparse_threshold=0,\n",
       "                                   transformers=[(&#x27;num&#x27;,\n",
       "                                                  Pipeline(steps=[(&#x27;imputer&#x27;,\n",
       "                                                                   SimpleImputer(strategy=&#x27;median&#x27;))]),\n",
       "                                                  [&#x27;age&#x27;, &#x27;fnlwgt&#x27;,\n",
       "                                                   &#x27;capital_gain&#x27;,\n",
       "                                                   &#x27;capital_loss&#x27;,\n",
       "                                                   &#x27;hours_per_week&#x27;]),\n",
       "                                                 (&#x27;cat&#x27;,\n",
       "                                                  Pipeline(steps=[(&#x27;imputer&#x27;,\n",
       "                                                                   SimpleImputer(strategy=&#x27;most_frequent&#x27;)),\n",
       "                                                                  (&#x27;encoder&#x27;,\n",
       "                                                                   OrdinalEncoder(dtype=&lt;class &#x27;int&#x27;&gt;,\n",
       "                                                                                  encoded_mis...\n",
       "                                                  [&#x27;workclass&#x27;, &#x27;education&#x27;,\n",
       "                                                   &#x27;marital_status&#x27;,\n",
       "                                                   &#x27;occupation&#x27;, &#x27;relationship&#x27;,\n",
       "                                                   &#x27;race&#x27;, &#x27;sex&#x27;,\n",
       "                                                   &#x27;native_country&#x27;])])),\n",
       "                (&#x27;model&#x27;,\n",
       "                 HistGradientBoostingClassifier(categorical_features=[False,\n",
       "                                                                      False,\n",
       "                                                                      False,\n",
       "                                                                      False,\n",
       "                                                                      False,\n",
       "                                                                      True,\n",
       "                                                                      True,\n",
       "                                                                      True,\n",
       "                                                                      True,\n",
       "                                                                      True,\n",
       "                                                                      True,\n",
       "                                                                      True,\n",
       "                                                                      True],\n",
       "                                                class_weight=&#x27;balanced&#x27;,\n",
       "                                                early_stopping=False,\n",
       "                                                min_samples_leaf=30,\n",
       "                                                random_state=1234,\n",
       "                                                scoring=&#x27;balanced_accuracy&#x27;))])</pre></div></div></div><div class=\"sk-serial\"><div class=\"sk-item\"><div class=\"sk-serial\"><div class=\"sk-item sk-dashed-wrapped\"><div class=\"sk-label-container\"><div class=\"sk-label sk-toggleable\"><input class=\"sk-toggleable__control sk-hidden--visually\" id=\"sk-estimator-id-119\" type=\"checkbox\" ><label for=\"sk-estimator-id-119\" class=\"sk-toggleable__label sk-toggleable__label-arrow\">preprocessing: ColumnTransformer</label><div class=\"sk-toggleable__content\"><pre>ColumnTransformer(sparse_threshold=0,\n",
       "                  transformers=[(&#x27;num&#x27;,\n",
       "                                 Pipeline(steps=[(&#x27;imputer&#x27;,\n",
       "                                                  SimpleImputer(strategy=&#x27;median&#x27;))]),\n",
       "                                 [&#x27;age&#x27;, &#x27;fnlwgt&#x27;, &#x27;capital_gain&#x27;,\n",
       "                                  &#x27;capital_loss&#x27;, &#x27;hours_per_week&#x27;]),\n",
       "                                (&#x27;cat&#x27;,\n",
       "                                 Pipeline(steps=[(&#x27;imputer&#x27;,\n",
       "                                                  SimpleImputer(strategy=&#x27;most_frequent&#x27;)),\n",
       "                                                 (&#x27;encoder&#x27;,\n",
       "                                                  OrdinalEncoder(dtype=&lt;class &#x27;int&#x27;&gt;,\n",
       "                                                                 encoded_missing_value=99999,\n",
       "                                                                 handle_unknown=&#x27;use_encoded_value&#x27;,\n",
       "                                                                 max_categories=254,\n",
       "                                                                 unknown_value=99999))]),\n",
       "                                 [&#x27;workclass&#x27;, &#x27;education&#x27;, &#x27;marital_status&#x27;,\n",
       "                                  &#x27;occupation&#x27;, &#x27;relationship&#x27;, &#x27;race&#x27;, &#x27;sex&#x27;,\n",
       "                                  &#x27;native_country&#x27;])])</pre></div></div></div><div class=\"sk-parallel\"><div class=\"sk-parallel-item\"><div class=\"sk-item\"><div class=\"sk-label-container\"><div class=\"sk-label sk-toggleable\"><input class=\"sk-toggleable__control sk-hidden--visually\" id=\"sk-estimator-id-120\" type=\"checkbox\" ><label for=\"sk-estimator-id-120\" class=\"sk-toggleable__label sk-toggleable__label-arrow\">num</label><div class=\"sk-toggleable__content\"><pre>[&#x27;age&#x27;, &#x27;fnlwgt&#x27;, &#x27;capital_gain&#x27;, &#x27;capital_loss&#x27;, &#x27;hours_per_week&#x27;]</pre></div></div></div><div class=\"sk-serial\"><div class=\"sk-item\"><div class=\"sk-serial\"><div class=\"sk-item\"><div class=\"sk-estimator sk-toggleable\"><input class=\"sk-toggleable__control sk-hidden--visually\" id=\"sk-estimator-id-121\" type=\"checkbox\" ><label for=\"sk-estimator-id-121\" class=\"sk-toggleable__label sk-toggleable__label-arrow\">SimpleImputer</label><div class=\"sk-toggleable__content\"><pre>SimpleImputer(strategy=&#x27;median&#x27;)</pre></div></div></div></div></div></div></div></div><div class=\"sk-parallel-item\"><div class=\"sk-item\"><div class=\"sk-label-container\"><div class=\"sk-label sk-toggleable\"><input class=\"sk-toggleable__control sk-hidden--visually\" id=\"sk-estimator-id-122\" type=\"checkbox\" ><label for=\"sk-estimator-id-122\" class=\"sk-toggleable__label sk-toggleable__label-arrow\">cat</label><div class=\"sk-toggleable__content\"><pre>[&#x27;workclass&#x27;, &#x27;education&#x27;, &#x27;marital_status&#x27;, &#x27;occupation&#x27;, &#x27;relationship&#x27;, &#x27;race&#x27;, &#x27;sex&#x27;, &#x27;native_country&#x27;]</pre></div></div></div><div class=\"sk-serial\"><div class=\"sk-item\"><div class=\"sk-serial\"><div class=\"sk-item\"><div class=\"sk-estimator sk-toggleable\"><input class=\"sk-toggleable__control sk-hidden--visually\" id=\"sk-estimator-id-123\" type=\"checkbox\" ><label for=\"sk-estimator-id-123\" class=\"sk-toggleable__label sk-toggleable__label-arrow\">SimpleImputer</label><div class=\"sk-toggleable__content\"><pre>SimpleImputer(strategy=&#x27;most_frequent&#x27;)</pre></div></div></div><div class=\"sk-item\"><div class=\"sk-estimator sk-toggleable\"><input class=\"sk-toggleable__control sk-hidden--visually\" id=\"sk-estimator-id-124\" type=\"checkbox\" ><label for=\"sk-estimator-id-124\" class=\"sk-toggleable__label sk-toggleable__label-arrow\">OrdinalEncoder</label><div class=\"sk-toggleable__content\"><pre>OrdinalEncoder(dtype=&lt;class &#x27;int&#x27;&gt;, encoded_missing_value=99999,\n",
       "               handle_unknown=&#x27;use_encoded_value&#x27;, max_categories=254,\n",
       "               unknown_value=99999)</pre></div></div></div></div></div></div></div></div></div></div><div class=\"sk-item\"><div class=\"sk-estimator sk-toggleable\"><input class=\"sk-toggleable__control sk-hidden--visually\" id=\"sk-estimator-id-125\" type=\"checkbox\" ><label for=\"sk-estimator-id-125\" class=\"sk-toggleable__label sk-toggleable__label-arrow\">HistGradientBoostingClassifier</label><div class=\"sk-toggleable__content\"><pre>HistGradientBoostingClassifier(categorical_features=[False, False, False, False,\n",
       "                                                     False, True, True, True,\n",
       "                                                     True, True, True, True,\n",
       "                                                     True],\n",
       "                               class_weight=&#x27;balanced&#x27;, early_stopping=False,\n",
       "                               min_samples_leaf=30, random_state=1234,\n",
       "                               scoring=&#x27;balanced_accuracy&#x27;)</pre></div></div></div></div></div></div></div></div></div></div></div></div>"
      ],
      "text/plain": [
       "RandomizedSearchCV(cv=StratifiedKFold(n_splits=3, random_state=1234, shuffle=True),\n",
       "                   estimator=Pipeline(steps=[('preprocessing',\n",
       "                                              ColumnTransformer(sparse_threshold=0,\n",
       "                                                                transformers=[('num',\n",
       "                                                                               Pipeline(steps=[('imputer',\n",
       "                                                                                                SimpleImputer(strategy='median'))]),\n",
       "                                                                               ['age',\n",
       "                                                                                'fnlwgt',\n",
       "                                                                                'capital_gain',\n",
       "                                                                                'capital_loss',\n",
       "                                                                                'hours_per_week']),\n",
       "                                                                              ('cat',\n",
       "                                                                               Pipeline(steps=[('imputer',\n",
       "                                                                                                Simple...\n",
       "                   param_distributions={'model__learning_rate': <scipy.stats._distn_infrastructure.rv_continuous_frozen object at 0x00000212688E6680>,\n",
       "                                        'model__max_iter': <scipy.stats._distn_infrastructure.rv_discrete_frozen object at 0x000002126836B190>,\n",
       "                                        'model__min_samples_leaf': <scipy.stats._distn_infrastructure.rv_discrete_frozen object at 0x00000212688E7EE0>},\n",
       "                   random_state=1234, scoring='balanced_accuracy')"
      ]
     },
     "execution_count": 82,
     "metadata": {},
     "output_type": "execute_result"
    }
   ],
   "source": [
    "# Display pipeline\n",
    "print(\"Time taken: \", catsup_hgb_tune_time_taken)\n",
    "catsup_hgb_tune"
   ]
  },
  {
   "cell_type": "code",
   "execution_count": 83,
   "id": "6a80e003",
   "metadata": {},
   "outputs": [],
   "source": [
    "tic = time.time() \n",
    "\n",
    "catsup_hgb_tune9 = catsup_hgb_tune9.fit(X_train, y_train)\n",
    "\n",
    "toc = time.time()\n",
    "catsup_hgb_tune9_time_taken = toc-tic"
   ]
  },
  {
   "cell_type": "code",
   "execution_count": 84,
   "metadata": {},
   "outputs": [
    {
     "name": "stdout",
     "output_type": "stream",
     "text": [
      "Time taken:  71.73776292800903\n"
     ]
    },
    {
     "data": {
      "text/html": [
       "<style>#sk-container-id-14 {color: black;}#sk-container-id-14 pre{padding: 0;}#sk-container-id-14 div.sk-toggleable {background-color: white;}#sk-container-id-14 label.sk-toggleable__label {cursor: pointer;display: block;width: 100%;margin-bottom: 0;padding: 0.3em;box-sizing: border-box;text-align: center;}#sk-container-id-14 label.sk-toggleable__label-arrow:before {content: \"▸\";float: left;margin-right: 0.25em;color: #696969;}#sk-container-id-14 label.sk-toggleable__label-arrow:hover:before {color: black;}#sk-container-id-14 div.sk-estimator:hover label.sk-toggleable__label-arrow:before {color: black;}#sk-container-id-14 div.sk-toggleable__content {max-height: 0;max-width: 0;overflow: hidden;text-align: left;background-color: #f0f8ff;}#sk-container-id-14 div.sk-toggleable__content pre {margin: 0.2em;color: black;border-radius: 0.25em;background-color: #f0f8ff;}#sk-container-id-14 input.sk-toggleable__control:checked~div.sk-toggleable__content {max-height: 200px;max-width: 100%;overflow: auto;}#sk-container-id-14 input.sk-toggleable__control:checked~label.sk-toggleable__label-arrow:before {content: \"▾\";}#sk-container-id-14 div.sk-estimator input.sk-toggleable__control:checked~label.sk-toggleable__label {background-color: #d4ebff;}#sk-container-id-14 div.sk-label input.sk-toggleable__control:checked~label.sk-toggleable__label {background-color: #d4ebff;}#sk-container-id-14 input.sk-hidden--visually {border: 0;clip: rect(1px 1px 1px 1px);clip: rect(1px, 1px, 1px, 1px);height: 1px;margin: -1px;overflow: hidden;padding: 0;position: absolute;width: 1px;}#sk-container-id-14 div.sk-estimator {font-family: monospace;background-color: #f0f8ff;border: 1px dotted black;border-radius: 0.25em;box-sizing: border-box;margin-bottom: 0.5em;}#sk-container-id-14 div.sk-estimator:hover {background-color: #d4ebff;}#sk-container-id-14 div.sk-parallel-item::after {content: \"\";width: 100%;border-bottom: 1px solid gray;flex-grow: 1;}#sk-container-id-14 div.sk-label:hover label.sk-toggleable__label {background-color: #d4ebff;}#sk-container-id-14 div.sk-serial::before {content: \"\";position: absolute;border-left: 1px solid gray;box-sizing: border-box;top: 0;bottom: 0;left: 50%;z-index: 0;}#sk-container-id-14 div.sk-serial {display: flex;flex-direction: column;align-items: center;background-color: white;padding-right: 0.2em;padding-left: 0.2em;position: relative;}#sk-container-id-14 div.sk-item {position: relative;z-index: 1;}#sk-container-id-14 div.sk-parallel {display: flex;align-items: stretch;justify-content: center;background-color: white;position: relative;}#sk-container-id-14 div.sk-item::before, #sk-container-id-14 div.sk-parallel-item::before {content: \"\";position: absolute;border-left: 1px solid gray;box-sizing: border-box;top: 0;bottom: 0;left: 50%;z-index: -1;}#sk-container-id-14 div.sk-parallel-item {display: flex;flex-direction: column;z-index: 1;position: relative;background-color: white;}#sk-container-id-14 div.sk-parallel-item:first-child::after {align-self: flex-end;width: 50%;}#sk-container-id-14 div.sk-parallel-item:last-child::after {align-self: flex-start;width: 50%;}#sk-container-id-14 div.sk-parallel-item:only-child::after {width: 0;}#sk-container-id-14 div.sk-dashed-wrapped {border: 1px dashed gray;margin: 0 0.4em 0.5em 0.4em;box-sizing: border-box;padding-bottom: 0.4em;background-color: white;}#sk-container-id-14 div.sk-label label {font-family: monospace;font-weight: bold;display: inline-block;line-height: 1.2em;}#sk-container-id-14 div.sk-label-container {text-align: center;}#sk-container-id-14 div.sk-container {/* jupyter's `normalize.less` sets `[hidden] { display: none; }` but bootstrap.min.css set `[hidden] { display: none !important; }` so we also need the `!important` here to be able to override the default hidden behavior on the sphinx rendered scikit-learn.org. See: https://github.com/scikit-learn/scikit-learn/issues/21755 */display: inline-block !important;position: relative;}#sk-container-id-14 div.sk-text-repr-fallback {display: none;}</style><div id=\"sk-container-id-14\" class=\"sk-top-container\"><div class=\"sk-text-repr-fallback\"><pre>RandomizedSearchCV(cv=StratifiedKFold(n_splits=3, random_state=1234, shuffle=True),\n",
       "                   estimator=Pipeline(steps=[(&#x27;preprocessing&#x27;,\n",
       "                                              ColumnTransformer(sparse_threshold=0,\n",
       "                                                                transformers=[(&#x27;num&#x27;,\n",
       "                                                                               Pipeline(steps=[(&#x27;imputer&#x27;,\n",
       "                                                                                                SimpleImputer(strategy=&#x27;median&#x27;))]),\n",
       "                                                                               [&#x27;age&#x27;,\n",
       "                                                                                &#x27;fnlwgt&#x27;,\n",
       "                                                                                &#x27;capital_gain&#x27;,\n",
       "                                                                                &#x27;capital_loss&#x27;,\n",
       "                                                                                &#x27;hours_per_week&#x27;]),\n",
       "                                                                              (&#x27;one_hot_encoding&#x27;,\n",
       "                                                                               Pipeline(steps=[(&#x27;im...\n",
       "                   param_distributions={&#x27;model__learning_rate&#x27;: &lt;scipy.stats._distn_infrastructure.rv_continuous_frozen object at 0x00000212688E6680&gt;,\n",
       "                                        &#x27;model__max_iter&#x27;: &lt;scipy.stats._distn_infrastructure.rv_discrete_frozen object at 0x000002126836B190&gt;,\n",
       "                                        &#x27;model__min_samples_leaf&#x27;: &lt;scipy.stats._distn_infrastructure.rv_discrete_frozen object at 0x00000212688E7EE0&gt;},\n",
       "                   random_state=1234, scoring=&#x27;balanced_accuracy&#x27;)</pre><b>In a Jupyter environment, please rerun this cell to show the HTML representation or trust the notebook. <br />On GitHub, the HTML representation is unable to render, please try loading this page with nbviewer.org.</b></div><div class=\"sk-container\" hidden><div class=\"sk-item sk-dashed-wrapped\"><div class=\"sk-label-container\"><div class=\"sk-label sk-toggleable\"><input class=\"sk-toggleable__control sk-hidden--visually\" id=\"sk-estimator-id-126\" type=\"checkbox\" ><label for=\"sk-estimator-id-126\" class=\"sk-toggleable__label sk-toggleable__label-arrow\">RandomizedSearchCV</label><div class=\"sk-toggleable__content\"><pre>RandomizedSearchCV(cv=StratifiedKFold(n_splits=3, random_state=1234, shuffle=True),\n",
       "                   estimator=Pipeline(steps=[(&#x27;preprocessing&#x27;,\n",
       "                                              ColumnTransformer(sparse_threshold=0,\n",
       "                                                                transformers=[(&#x27;num&#x27;,\n",
       "                                                                               Pipeline(steps=[(&#x27;imputer&#x27;,\n",
       "                                                                                                SimpleImputer(strategy=&#x27;median&#x27;))]),\n",
       "                                                                               [&#x27;age&#x27;,\n",
       "                                                                                &#x27;fnlwgt&#x27;,\n",
       "                                                                                &#x27;capital_gain&#x27;,\n",
       "                                                                                &#x27;capital_loss&#x27;,\n",
       "                                                                                &#x27;hours_per_week&#x27;]),\n",
       "                                                                              (&#x27;one_hot_encoding&#x27;,\n",
       "                                                                               Pipeline(steps=[(&#x27;im...\n",
       "                   param_distributions={&#x27;model__learning_rate&#x27;: &lt;scipy.stats._distn_infrastructure.rv_continuous_frozen object at 0x00000212688E6680&gt;,\n",
       "                                        &#x27;model__max_iter&#x27;: &lt;scipy.stats._distn_infrastructure.rv_discrete_frozen object at 0x000002126836B190&gt;,\n",
       "                                        &#x27;model__min_samples_leaf&#x27;: &lt;scipy.stats._distn_infrastructure.rv_discrete_frozen object at 0x00000212688E7EE0&gt;},\n",
       "                   random_state=1234, scoring=&#x27;balanced_accuracy&#x27;)</pre></div></div></div><div class=\"sk-parallel\"><div class=\"sk-parallel-item\"><div class=\"sk-item\"><div class=\"sk-label-container\"><div class=\"sk-label sk-toggleable\"><input class=\"sk-toggleable__control sk-hidden--visually\" id=\"sk-estimator-id-127\" type=\"checkbox\" ><label for=\"sk-estimator-id-127\" class=\"sk-toggleable__label sk-toggleable__label-arrow\">estimator: Pipeline</label><div class=\"sk-toggleable__content\"><pre>Pipeline(steps=[(&#x27;preprocessing&#x27;,\n",
       "                 ColumnTransformer(sparse_threshold=0,\n",
       "                                   transformers=[(&#x27;num&#x27;,\n",
       "                                                  Pipeline(steps=[(&#x27;imputer&#x27;,\n",
       "                                                                   SimpleImputer(strategy=&#x27;median&#x27;))]),\n",
       "                                                  [&#x27;age&#x27;, &#x27;fnlwgt&#x27;,\n",
       "                                                   &#x27;capital_gain&#x27;,\n",
       "                                                   &#x27;capital_loss&#x27;,\n",
       "                                                   &#x27;hours_per_week&#x27;]),\n",
       "                                                 (&#x27;one_hot_encoding&#x27;,\n",
       "                                                  Pipeline(steps=[(&#x27;imputer&#x27;,\n",
       "                                                                   SimpleImputer(strategy=&#x27;most_frequent&#x27;)),\n",
       "                                                                  (&#x27;encoder&#x27;,\n",
       "                                                                   OneHotEncoder(drop=&#x27;first&#x27;,\n",
       "                                                                                 handl...\n",
       "                 HistGradientBoostingClassifier(categorical_features=[False,\n",
       "                                                                      False,\n",
       "                                                                      False,\n",
       "                                                                      False,\n",
       "                                                                      False,\n",
       "                                                                      False,\n",
       "                                                                      False,\n",
       "                                                                      False,\n",
       "                                                                      False,\n",
       "                                                                      False,\n",
       "                                                                      False,\n",
       "                                                                      False,\n",
       "                                                                      False,\n",
       "                                                                      False,\n",
       "                                                                      False,\n",
       "                                                                      False,\n",
       "                                                                      False,\n",
       "                                                                      False,\n",
       "                                                                      False,\n",
       "                                                                      False,\n",
       "                                                                      False,\n",
       "                                                                      False,\n",
       "                                                                      False,\n",
       "                                                                      False,\n",
       "                                                                      False,\n",
       "                                                                      False,\n",
       "                                                                      False,\n",
       "                                                                      False,\n",
       "                                                                      True,\n",
       "                                                                      True, ...],\n",
       "                                                class_weight=&#x27;balanced&#x27;,\n",
       "                                                early_stopping=False,\n",
       "                                                min_samples_leaf=30,\n",
       "                                                random_state=1234,\n",
       "                                                scoring=&#x27;balanced_accuracy&#x27;))])</pre></div></div></div><div class=\"sk-serial\"><div class=\"sk-item\"><div class=\"sk-serial\"><div class=\"sk-item sk-dashed-wrapped\"><div class=\"sk-label-container\"><div class=\"sk-label sk-toggleable\"><input class=\"sk-toggleable__control sk-hidden--visually\" id=\"sk-estimator-id-128\" type=\"checkbox\" ><label for=\"sk-estimator-id-128\" class=\"sk-toggleable__label sk-toggleable__label-arrow\">preprocessing: ColumnTransformer</label><div class=\"sk-toggleable__content\"><pre>ColumnTransformer(sparse_threshold=0,\n",
       "                  transformers=[(&#x27;num&#x27;,\n",
       "                                 Pipeline(steps=[(&#x27;imputer&#x27;,\n",
       "                                                  SimpleImputer(strategy=&#x27;median&#x27;))]),\n",
       "                                 [&#x27;age&#x27;, &#x27;fnlwgt&#x27;, &#x27;capital_gain&#x27;,\n",
       "                                  &#x27;capital_loss&#x27;, &#x27;hours_per_week&#x27;]),\n",
       "                                (&#x27;one_hot_encoding&#x27;,\n",
       "                                 Pipeline(steps=[(&#x27;imputer&#x27;,\n",
       "                                                  SimpleImputer(strategy=&#x27;most_frequent&#x27;)),\n",
       "                                                 (&#x27;encoder&#x27;,\n",
       "                                                  OneHotEncoder(drop=&#x27;first&#x27;,\n",
       "                                                                handle_unknown=&#x27;ignore&#x27;))]),\n",
       "                                 [&#x27;workclass&#x27;, &#x27;marital_status&#x27;, &#x27;relationship&#x27;,\n",
       "                                  &#x27;race&#x27;, &#x27;sex&#x27;]),\n",
       "                                (&#x27;ordinal_encoding&#x27;,\n",
       "                                 Pipeline(steps=[(&#x27;imputer&#x27;,\n",
       "                                                  SimpleImputer(strategy=&#x27;most_frequent&#x27;)),\n",
       "                                                 (&#x27;encoder&#x27;,\n",
       "                                                  OrdinalEncoder(dtype=&lt;class &#x27;int&#x27;&gt;,\n",
       "                                                                 encoded_missing_value=99999,\n",
       "                                                                 handle_unknown=&#x27;use_encoded_value&#x27;,\n",
       "                                                                 max_categories=254,\n",
       "                                                                 unknown_value=99999))]),\n",
       "                                 [&#x27;education&#x27;, &#x27;occupation&#x27;,\n",
       "                                  &#x27;native_country&#x27;])])</pre></div></div></div><div class=\"sk-parallel\"><div class=\"sk-parallel-item\"><div class=\"sk-item\"><div class=\"sk-label-container\"><div class=\"sk-label sk-toggleable\"><input class=\"sk-toggleable__control sk-hidden--visually\" id=\"sk-estimator-id-129\" type=\"checkbox\" ><label for=\"sk-estimator-id-129\" class=\"sk-toggleable__label sk-toggleable__label-arrow\">num</label><div class=\"sk-toggleable__content\"><pre>[&#x27;age&#x27;, &#x27;fnlwgt&#x27;, &#x27;capital_gain&#x27;, &#x27;capital_loss&#x27;, &#x27;hours_per_week&#x27;]</pre></div></div></div><div class=\"sk-serial\"><div class=\"sk-item\"><div class=\"sk-serial\"><div class=\"sk-item\"><div class=\"sk-estimator sk-toggleable\"><input class=\"sk-toggleable__control sk-hidden--visually\" id=\"sk-estimator-id-130\" type=\"checkbox\" ><label for=\"sk-estimator-id-130\" class=\"sk-toggleable__label sk-toggleable__label-arrow\">SimpleImputer</label><div class=\"sk-toggleable__content\"><pre>SimpleImputer(strategy=&#x27;median&#x27;)</pre></div></div></div></div></div></div></div></div><div class=\"sk-parallel-item\"><div class=\"sk-item\"><div class=\"sk-label-container\"><div class=\"sk-label sk-toggleable\"><input class=\"sk-toggleable__control sk-hidden--visually\" id=\"sk-estimator-id-131\" type=\"checkbox\" ><label for=\"sk-estimator-id-131\" class=\"sk-toggleable__label sk-toggleable__label-arrow\">one_hot_encoding</label><div class=\"sk-toggleable__content\"><pre>[&#x27;workclass&#x27;, &#x27;marital_status&#x27;, &#x27;relationship&#x27;, &#x27;race&#x27;, &#x27;sex&#x27;]</pre></div></div></div><div class=\"sk-serial\"><div class=\"sk-item\"><div class=\"sk-serial\"><div class=\"sk-item\"><div class=\"sk-estimator sk-toggleable\"><input class=\"sk-toggleable__control sk-hidden--visually\" id=\"sk-estimator-id-132\" type=\"checkbox\" ><label for=\"sk-estimator-id-132\" class=\"sk-toggleable__label sk-toggleable__label-arrow\">SimpleImputer</label><div class=\"sk-toggleable__content\"><pre>SimpleImputer(strategy=&#x27;most_frequent&#x27;)</pre></div></div></div><div class=\"sk-item\"><div class=\"sk-estimator sk-toggleable\"><input class=\"sk-toggleable__control sk-hidden--visually\" id=\"sk-estimator-id-133\" type=\"checkbox\" ><label for=\"sk-estimator-id-133\" class=\"sk-toggleable__label sk-toggleable__label-arrow\">OneHotEncoder</label><div class=\"sk-toggleable__content\"><pre>OneHotEncoder(drop=&#x27;first&#x27;, handle_unknown=&#x27;ignore&#x27;)</pre></div></div></div></div></div></div></div></div><div class=\"sk-parallel-item\"><div class=\"sk-item\"><div class=\"sk-label-container\"><div class=\"sk-label sk-toggleable\"><input class=\"sk-toggleable__control sk-hidden--visually\" id=\"sk-estimator-id-134\" type=\"checkbox\" ><label for=\"sk-estimator-id-134\" class=\"sk-toggleable__label sk-toggleable__label-arrow\">ordinal_encoding</label><div class=\"sk-toggleable__content\"><pre>[&#x27;education&#x27;, &#x27;occupation&#x27;, &#x27;native_country&#x27;]</pre></div></div></div><div class=\"sk-serial\"><div class=\"sk-item\"><div class=\"sk-serial\"><div class=\"sk-item\"><div class=\"sk-estimator sk-toggleable\"><input class=\"sk-toggleable__control sk-hidden--visually\" id=\"sk-estimator-id-135\" type=\"checkbox\" ><label for=\"sk-estimator-id-135\" class=\"sk-toggleable__label sk-toggleable__label-arrow\">SimpleImputer</label><div class=\"sk-toggleable__content\"><pre>SimpleImputer(strategy=&#x27;most_frequent&#x27;)</pre></div></div></div><div class=\"sk-item\"><div class=\"sk-estimator sk-toggleable\"><input class=\"sk-toggleable__control sk-hidden--visually\" id=\"sk-estimator-id-136\" type=\"checkbox\" ><label for=\"sk-estimator-id-136\" class=\"sk-toggleable__label sk-toggleable__label-arrow\">OrdinalEncoder</label><div class=\"sk-toggleable__content\"><pre>OrdinalEncoder(dtype=&lt;class &#x27;int&#x27;&gt;, encoded_missing_value=99999,\n",
       "               handle_unknown=&#x27;use_encoded_value&#x27;, max_categories=254,\n",
       "               unknown_value=99999)</pre></div></div></div></div></div></div></div></div></div></div><div class=\"sk-item\"><div class=\"sk-estimator sk-toggleable\"><input class=\"sk-toggleable__control sk-hidden--visually\" id=\"sk-estimator-id-137\" type=\"checkbox\" ><label for=\"sk-estimator-id-137\" class=\"sk-toggleable__label sk-toggleable__label-arrow\">HistGradientBoostingClassifier</label><div class=\"sk-toggleable__content\"><pre>HistGradientBoostingClassifier(categorical_features=[False, False, False, False,\n",
       "                                                     False, False, False, False,\n",
       "                                                     False, False, False, False,\n",
       "                                                     False, False, False, False,\n",
       "                                                     False, False, False, False,\n",
       "                                                     False, False, False, False,\n",
       "                                                     False, False, False, False,\n",
       "                                                     True, True, ...],\n",
       "                               class_weight=&#x27;balanced&#x27;, early_stopping=False,\n",
       "                               min_samples_leaf=30, random_state=1234,\n",
       "                               scoring=&#x27;balanced_accuracy&#x27;)</pre></div></div></div></div></div></div></div></div></div></div></div></div>"
      ],
      "text/plain": [
       "RandomizedSearchCV(cv=StratifiedKFold(n_splits=3, random_state=1234, shuffle=True),\n",
       "                   estimator=Pipeline(steps=[('preprocessing',\n",
       "                                              ColumnTransformer(sparse_threshold=0,\n",
       "                                                                transformers=[('num',\n",
       "                                                                               Pipeline(steps=[('imputer',\n",
       "                                                                                                SimpleImputer(strategy='median'))]),\n",
       "                                                                               ['age',\n",
       "                                                                                'fnlwgt',\n",
       "                                                                                'capital_gain',\n",
       "                                                                                'capital_loss',\n",
       "                                                                                'hours_per_week']),\n",
       "                                                                              ('one_hot_encoding',\n",
       "                                                                               Pipeline(steps=[('im...\n",
       "                   param_distributions={'model__learning_rate': <scipy.stats._distn_infrastructure.rv_continuous_frozen object at 0x00000212688E6680>,\n",
       "                                        'model__max_iter': <scipy.stats._distn_infrastructure.rv_discrete_frozen object at 0x000002126836B190>,\n",
       "                                        'model__min_samples_leaf': <scipy.stats._distn_infrastructure.rv_discrete_frozen object at 0x00000212688E7EE0>},\n",
       "                   random_state=1234, scoring='balanced_accuracy')"
      ]
     },
     "execution_count": 84,
     "metadata": {},
     "output_type": "execute_result"
    }
   ],
   "source": [
    "# Display pipeline\n",
    "print(\"Time taken: \", catsup_hgb_tune9_time_taken)\n",
    "catsup_hgb_tune9"
   ]
  },
  {
   "cell_type": "code",
   "execution_count": 85,
   "id": "0089267a",
   "metadata": {},
   "outputs": [
    {
     "name": "stdout",
     "output_type": "stream",
     "text": [
      "Best parameters: {'model__learning_rate': 0.04093133165669417, 'model__max_iter': 234, 'model__min_samples_leaf': 26}\n",
      "Balanced accuracy with best parameters: 0.8421986959501553\n"
     ]
    }
   ],
   "source": [
    "# Predict using the model with the best parameters\n",
    "y_catsup_hgb_tune_pred = catsup_hgb_tune.predict(X_test)\n",
    "\n",
    "# Get the best parameters\n",
    "catsup_hgb_tune_best_params = catsup_hgb_tune.best_params_\n",
    "print(f'Best parameters: {catsup_hgb_tune_best_params}')\n",
    "\n",
    "# Calculate balanced accuracy for the model with the best parameters\n",
    "catsup_hgb_tune_accuracy = balanced_accuracy_score(y_test, y_catsup_hgb_tune_pred)\n",
    "print(f'Balanced accuracy with best parameters: {catsup_hgb_tune_accuracy}')\n",
    "\n",
    "# Save results\n",
    "default_summary.append(\"Tune\")\n",
    "card_9_summary.append(\"AllVariables\")\n",
    "encoder_summary.append(\"HGB_NativeSupport\")\n",
    "value_summary.append(catsup_hgb_tune_accuracy)\n",
    "time_summary.append(catsup_hgb_tune_time_taken)\n",
    "n_models_summary.append(catsup_hgb_tune.n_iter)"
   ]
  },
  {
   "cell_type": "code",
   "execution_count": 86,
   "id": "cca7f7b1",
   "metadata": {},
   "outputs": [
    {
     "name": "stdout",
     "output_type": "stream",
     "text": [
      "Best parameters: {'model__learning_rate': 0.17574068184926364, 'model__max_iter': 42, 'model__min_samples_leaf': 23}\n",
      "Balanced accuracy with best parameters: 0.8410057969777003\n"
     ]
    }
   ],
   "source": [
    "# Predict using the model with the best parameters\n",
    "y_catsup_hgb_tune_pred9 = catsup_hgb_tune9.predict(X_test)\n",
    "\n",
    "# Get the best parameters\n",
    "catsup_hgb_tune_best_params9 = catsup_hgb_tune9.best_params_\n",
    "print(f'Best parameters: {catsup_hgb_tune_best_params9}')\n",
    "\n",
    "# Calculate balanced accuracy for the model with the best parameters\n",
    "catsup_hgb_tune_accuracy9 = balanced_accuracy_score(y_test, y_catsup_hgb_tune_pred9)\n",
    "print(f'Balanced accuracy with best parameters: {catsup_hgb_tune_accuracy9}')\n",
    "\n",
    "# Save results\n",
    "default_summary.append(\"Tune\")\n",
    "card_9_summary.append(\"OnlyVariablesWithCard>9\")\n",
    "encoder_summary.append(\"HGB_NativeSupport\")\n",
    "value_summary.append(catsup_hgb_tune_accuracy9)\n",
    "time_summary.append(catsup_hgb_tune9_time_taken)\n",
    "n_models_summary.append(catsup_hgb_tune9.n_iter)"
   ]
  },
  {
   "cell_type": "markdown",
   "id": "a3f4c3b4",
   "metadata": {},
   "source": [
    "### Target Encoder"
   ]
  },
  {
   "cell_type": "code",
   "execution_count": 87,
   "id": "d9290198",
   "metadata": {},
   "outputs": [],
   "source": [
    "from sklearn.preprocessing import TargetEncoder"
   ]
  },
  {
   "cell_type": "markdown",
   "id": "8c8d4972",
   "metadata": {},
   "source": [
    "#### Preprocessing"
   ]
  },
  {
   "cell_type": "code",
   "execution_count": 88,
   "id": "ecceaf49",
   "metadata": {},
   "outputs": [],
   "source": [
    "cat_pipeline_more9 = Pipeline([\n",
    "    (\"imputer\", SimpleImputer(strategy = \"most_frequent\")),\n",
    "    (\"encoder\", TargetEncoder())\n",
    "])\n",
    "\n",
    "cat_pipeline_less9 = Pipeline([\n",
    "    (\"imputer\", SimpleImputer(strategy = \"most_frequent\")),\n",
    "    (\"encoder\", OneHotEncoder(drop = \"first\", handle_unknown = \"ignore\"))\n",
    "])\n",
    "\n",
    "preprop_pipeline = ColumnTransformer(\n",
    "    transformers = [(\"num\", num_pipeline, num_cols),\n",
    "                    (\"cat\", cat_pipeline_more9, cat_cols)],\n",
    "    sparse_threshold=0\n",
    ")\n",
    "\n",
    "preprop_pipeline9 = ColumnTransformer(\n",
    "    transformers = [(\"num\", num_pipeline, num_cols),\n",
    "                    (\"one_hot_encoding\", cat_pipeline_less9, cat_cols_less9),\n",
    "                    (\"target_encoding\", cat_pipeline_more9, cat_cols_more9)\n",
    "                    ],\n",
    "    sparse_threshold=0\n",
    ")"
   ]
  },
  {
   "cell_type": "markdown",
   "id": "31b4246b",
   "metadata": {},
   "source": [
    "#### Create a HistGradientBoostingClassifier model with default parameters and early stopping"
   ]
  },
  {
   "cell_type": "code",
   "execution_count": 89,
   "id": "21ad5f2b",
   "metadata": {},
   "outputs": [],
   "source": [
    "target_hgb_default_pipeline = Pipeline([('preprocessing', preprop_pipeline),\n",
    "                                       ('model', hgb_default)])\n",
    "\n",
    "target_hgb_default_pipeline9 = Pipeline([('preprocessing', preprop_pipeline9),\n",
    "                                       ('model', hgb_default9)])"
   ]
  },
  {
   "cell_type": "code",
   "execution_count": 90,
   "id": "ebaf1b23",
   "metadata": {},
   "outputs": [],
   "source": [
    "tic = time.time()\n",
    "\n",
    "target_hgb_default = target_hgb_default_pipeline.fit(X_train, y_train)\n",
    "\n",
    "toc = time.time()\n",
    "target_hgb_default_time_taken = toc-tic"
   ]
  },
  {
   "cell_type": "code",
   "execution_count": 91,
   "metadata": {},
   "outputs": [
    {
     "name": "stdout",
     "output_type": "stream",
     "text": [
      "Time taken:  0.754143238067627\n"
     ]
    },
    {
     "data": {
      "text/html": [
       "<style>#sk-container-id-15 {color: black;}#sk-container-id-15 pre{padding: 0;}#sk-container-id-15 div.sk-toggleable {background-color: white;}#sk-container-id-15 label.sk-toggleable__label {cursor: pointer;display: block;width: 100%;margin-bottom: 0;padding: 0.3em;box-sizing: border-box;text-align: center;}#sk-container-id-15 label.sk-toggleable__label-arrow:before {content: \"▸\";float: left;margin-right: 0.25em;color: #696969;}#sk-container-id-15 label.sk-toggleable__label-arrow:hover:before {color: black;}#sk-container-id-15 div.sk-estimator:hover label.sk-toggleable__label-arrow:before {color: black;}#sk-container-id-15 div.sk-toggleable__content {max-height: 0;max-width: 0;overflow: hidden;text-align: left;background-color: #f0f8ff;}#sk-container-id-15 div.sk-toggleable__content pre {margin: 0.2em;color: black;border-radius: 0.25em;background-color: #f0f8ff;}#sk-container-id-15 input.sk-toggleable__control:checked~div.sk-toggleable__content {max-height: 200px;max-width: 100%;overflow: auto;}#sk-container-id-15 input.sk-toggleable__control:checked~label.sk-toggleable__label-arrow:before {content: \"▾\";}#sk-container-id-15 div.sk-estimator input.sk-toggleable__control:checked~label.sk-toggleable__label {background-color: #d4ebff;}#sk-container-id-15 div.sk-label input.sk-toggleable__control:checked~label.sk-toggleable__label {background-color: #d4ebff;}#sk-container-id-15 input.sk-hidden--visually {border: 0;clip: rect(1px 1px 1px 1px);clip: rect(1px, 1px, 1px, 1px);height: 1px;margin: -1px;overflow: hidden;padding: 0;position: absolute;width: 1px;}#sk-container-id-15 div.sk-estimator {font-family: monospace;background-color: #f0f8ff;border: 1px dotted black;border-radius: 0.25em;box-sizing: border-box;margin-bottom: 0.5em;}#sk-container-id-15 div.sk-estimator:hover {background-color: #d4ebff;}#sk-container-id-15 div.sk-parallel-item::after {content: \"\";width: 100%;border-bottom: 1px solid gray;flex-grow: 1;}#sk-container-id-15 div.sk-label:hover label.sk-toggleable__label {background-color: #d4ebff;}#sk-container-id-15 div.sk-serial::before {content: \"\";position: absolute;border-left: 1px solid gray;box-sizing: border-box;top: 0;bottom: 0;left: 50%;z-index: 0;}#sk-container-id-15 div.sk-serial {display: flex;flex-direction: column;align-items: center;background-color: white;padding-right: 0.2em;padding-left: 0.2em;position: relative;}#sk-container-id-15 div.sk-item {position: relative;z-index: 1;}#sk-container-id-15 div.sk-parallel {display: flex;align-items: stretch;justify-content: center;background-color: white;position: relative;}#sk-container-id-15 div.sk-item::before, #sk-container-id-15 div.sk-parallel-item::before {content: \"\";position: absolute;border-left: 1px solid gray;box-sizing: border-box;top: 0;bottom: 0;left: 50%;z-index: -1;}#sk-container-id-15 div.sk-parallel-item {display: flex;flex-direction: column;z-index: 1;position: relative;background-color: white;}#sk-container-id-15 div.sk-parallel-item:first-child::after {align-self: flex-end;width: 50%;}#sk-container-id-15 div.sk-parallel-item:last-child::after {align-self: flex-start;width: 50%;}#sk-container-id-15 div.sk-parallel-item:only-child::after {width: 0;}#sk-container-id-15 div.sk-dashed-wrapped {border: 1px dashed gray;margin: 0 0.4em 0.5em 0.4em;box-sizing: border-box;padding-bottom: 0.4em;background-color: white;}#sk-container-id-15 div.sk-label label {font-family: monospace;font-weight: bold;display: inline-block;line-height: 1.2em;}#sk-container-id-15 div.sk-label-container {text-align: center;}#sk-container-id-15 div.sk-container {/* jupyter's `normalize.less` sets `[hidden] { display: none; }` but bootstrap.min.css set `[hidden] { display: none !important; }` so we also need the `!important` here to be able to override the default hidden behavior on the sphinx rendered scikit-learn.org. See: https://github.com/scikit-learn/scikit-learn/issues/21755 */display: inline-block !important;position: relative;}#sk-container-id-15 div.sk-text-repr-fallback {display: none;}</style><div id=\"sk-container-id-15\" class=\"sk-top-container\"><div class=\"sk-text-repr-fallback\"><pre>Pipeline(steps=[(&#x27;preprocessing&#x27;,\n",
       "                 ColumnTransformer(sparse_threshold=0,\n",
       "                                   transformers=[(&#x27;num&#x27;,\n",
       "                                                  Pipeline(steps=[(&#x27;imputer&#x27;,\n",
       "                                                                   SimpleImputer(strategy=&#x27;median&#x27;))]),\n",
       "                                                  [&#x27;age&#x27;, &#x27;fnlwgt&#x27;,\n",
       "                                                   &#x27;capital_gain&#x27;,\n",
       "                                                   &#x27;capital_loss&#x27;,\n",
       "                                                   &#x27;hours_per_week&#x27;]),\n",
       "                                                 (&#x27;cat&#x27;,\n",
       "                                                  Pipeline(steps=[(&#x27;imputer&#x27;,\n",
       "                                                                   SimpleImputer(strategy=&#x27;most_frequent&#x27;)),\n",
       "                                                                  (&#x27;encoder&#x27;,\n",
       "                                                                   TargetEncoder())]),\n",
       "                                                  [&#x27;workclass&#x27;, &#x27;education&#x27;,\n",
       "                                                   &#x27;marital_status&#x27;,\n",
       "                                                   &#x27;occupation&#x27;, &#x27;relationship&#x27;,\n",
       "                                                   &#x27;race&#x27;, &#x27;sex&#x27;,\n",
       "                                                   &#x27;native_country&#x27;])])),\n",
       "                (&#x27;model&#x27;,\n",
       "                 HistGradientBoostingClassifier(class_weight=&#x27;balanced&#x27;,\n",
       "                                                early_stopping=False,\n",
       "                                                min_samples_leaf=30,\n",
       "                                                random_state=1234,\n",
       "                                                scoring=&#x27;balanced_accuracy&#x27;))])</pre><b>In a Jupyter environment, please rerun this cell to show the HTML representation or trust the notebook. <br />On GitHub, the HTML representation is unable to render, please try loading this page with nbviewer.org.</b></div><div class=\"sk-container\" hidden><div class=\"sk-item sk-dashed-wrapped\"><div class=\"sk-label-container\"><div class=\"sk-label sk-toggleable\"><input class=\"sk-toggleable__control sk-hidden--visually\" id=\"sk-estimator-id-138\" type=\"checkbox\" ><label for=\"sk-estimator-id-138\" class=\"sk-toggleable__label sk-toggleable__label-arrow\">Pipeline</label><div class=\"sk-toggleable__content\"><pre>Pipeline(steps=[(&#x27;preprocessing&#x27;,\n",
       "                 ColumnTransformer(sparse_threshold=0,\n",
       "                                   transformers=[(&#x27;num&#x27;,\n",
       "                                                  Pipeline(steps=[(&#x27;imputer&#x27;,\n",
       "                                                                   SimpleImputer(strategy=&#x27;median&#x27;))]),\n",
       "                                                  [&#x27;age&#x27;, &#x27;fnlwgt&#x27;,\n",
       "                                                   &#x27;capital_gain&#x27;,\n",
       "                                                   &#x27;capital_loss&#x27;,\n",
       "                                                   &#x27;hours_per_week&#x27;]),\n",
       "                                                 (&#x27;cat&#x27;,\n",
       "                                                  Pipeline(steps=[(&#x27;imputer&#x27;,\n",
       "                                                                   SimpleImputer(strategy=&#x27;most_frequent&#x27;)),\n",
       "                                                                  (&#x27;encoder&#x27;,\n",
       "                                                                   TargetEncoder())]),\n",
       "                                                  [&#x27;workclass&#x27;, &#x27;education&#x27;,\n",
       "                                                   &#x27;marital_status&#x27;,\n",
       "                                                   &#x27;occupation&#x27;, &#x27;relationship&#x27;,\n",
       "                                                   &#x27;race&#x27;, &#x27;sex&#x27;,\n",
       "                                                   &#x27;native_country&#x27;])])),\n",
       "                (&#x27;model&#x27;,\n",
       "                 HistGradientBoostingClassifier(class_weight=&#x27;balanced&#x27;,\n",
       "                                                early_stopping=False,\n",
       "                                                min_samples_leaf=30,\n",
       "                                                random_state=1234,\n",
       "                                                scoring=&#x27;balanced_accuracy&#x27;))])</pre></div></div></div><div class=\"sk-serial\"><div class=\"sk-item sk-dashed-wrapped\"><div class=\"sk-label-container\"><div class=\"sk-label sk-toggleable\"><input class=\"sk-toggleable__control sk-hidden--visually\" id=\"sk-estimator-id-139\" type=\"checkbox\" ><label for=\"sk-estimator-id-139\" class=\"sk-toggleable__label sk-toggleable__label-arrow\">preprocessing: ColumnTransformer</label><div class=\"sk-toggleable__content\"><pre>ColumnTransformer(sparse_threshold=0,\n",
       "                  transformers=[(&#x27;num&#x27;,\n",
       "                                 Pipeline(steps=[(&#x27;imputer&#x27;,\n",
       "                                                  SimpleImputer(strategy=&#x27;median&#x27;))]),\n",
       "                                 [&#x27;age&#x27;, &#x27;fnlwgt&#x27;, &#x27;capital_gain&#x27;,\n",
       "                                  &#x27;capital_loss&#x27;, &#x27;hours_per_week&#x27;]),\n",
       "                                (&#x27;cat&#x27;,\n",
       "                                 Pipeline(steps=[(&#x27;imputer&#x27;,\n",
       "                                                  SimpleImputer(strategy=&#x27;most_frequent&#x27;)),\n",
       "                                                 (&#x27;encoder&#x27;, TargetEncoder())]),\n",
       "                                 [&#x27;workclass&#x27;, &#x27;education&#x27;, &#x27;marital_status&#x27;,\n",
       "                                  &#x27;occupation&#x27;, &#x27;relationship&#x27;, &#x27;race&#x27;, &#x27;sex&#x27;,\n",
       "                                  &#x27;native_country&#x27;])])</pre></div></div></div><div class=\"sk-parallel\"><div class=\"sk-parallel-item\"><div class=\"sk-item\"><div class=\"sk-label-container\"><div class=\"sk-label sk-toggleable\"><input class=\"sk-toggleable__control sk-hidden--visually\" id=\"sk-estimator-id-140\" type=\"checkbox\" ><label for=\"sk-estimator-id-140\" class=\"sk-toggleable__label sk-toggleable__label-arrow\">num</label><div class=\"sk-toggleable__content\"><pre>[&#x27;age&#x27;, &#x27;fnlwgt&#x27;, &#x27;capital_gain&#x27;, &#x27;capital_loss&#x27;, &#x27;hours_per_week&#x27;]</pre></div></div></div><div class=\"sk-serial\"><div class=\"sk-item\"><div class=\"sk-serial\"><div class=\"sk-item\"><div class=\"sk-estimator sk-toggleable\"><input class=\"sk-toggleable__control sk-hidden--visually\" id=\"sk-estimator-id-141\" type=\"checkbox\" ><label for=\"sk-estimator-id-141\" class=\"sk-toggleable__label sk-toggleable__label-arrow\">SimpleImputer</label><div class=\"sk-toggleable__content\"><pre>SimpleImputer(strategy=&#x27;median&#x27;)</pre></div></div></div></div></div></div></div></div><div class=\"sk-parallel-item\"><div class=\"sk-item\"><div class=\"sk-label-container\"><div class=\"sk-label sk-toggleable\"><input class=\"sk-toggleable__control sk-hidden--visually\" id=\"sk-estimator-id-142\" type=\"checkbox\" ><label for=\"sk-estimator-id-142\" class=\"sk-toggleable__label sk-toggleable__label-arrow\">cat</label><div class=\"sk-toggleable__content\"><pre>[&#x27;workclass&#x27;, &#x27;education&#x27;, &#x27;marital_status&#x27;, &#x27;occupation&#x27;, &#x27;relationship&#x27;, &#x27;race&#x27;, &#x27;sex&#x27;, &#x27;native_country&#x27;]</pre></div></div></div><div class=\"sk-serial\"><div class=\"sk-item\"><div class=\"sk-serial\"><div class=\"sk-item\"><div class=\"sk-estimator sk-toggleable\"><input class=\"sk-toggleable__control sk-hidden--visually\" id=\"sk-estimator-id-143\" type=\"checkbox\" ><label for=\"sk-estimator-id-143\" class=\"sk-toggleable__label sk-toggleable__label-arrow\">SimpleImputer</label><div class=\"sk-toggleable__content\"><pre>SimpleImputer(strategy=&#x27;most_frequent&#x27;)</pre></div></div></div><div class=\"sk-item\"><div class=\"sk-estimator sk-toggleable\"><input class=\"sk-toggleable__control sk-hidden--visually\" id=\"sk-estimator-id-144\" type=\"checkbox\" ><label for=\"sk-estimator-id-144\" class=\"sk-toggleable__label sk-toggleable__label-arrow\">TargetEncoder</label><div class=\"sk-toggleable__content\"><pre>TargetEncoder()</pre></div></div></div></div></div></div></div></div></div></div><div class=\"sk-item\"><div class=\"sk-estimator sk-toggleable\"><input class=\"sk-toggleable__control sk-hidden--visually\" id=\"sk-estimator-id-145\" type=\"checkbox\" ><label for=\"sk-estimator-id-145\" class=\"sk-toggleable__label sk-toggleable__label-arrow\">HistGradientBoostingClassifier</label><div class=\"sk-toggleable__content\"><pre>HistGradientBoostingClassifier(class_weight=&#x27;balanced&#x27;, early_stopping=False,\n",
       "                               min_samples_leaf=30, random_state=1234,\n",
       "                               scoring=&#x27;balanced_accuracy&#x27;)</pre></div></div></div></div></div></div></div>"
      ],
      "text/plain": [
       "Pipeline(steps=[('preprocessing',\n",
       "                 ColumnTransformer(sparse_threshold=0,\n",
       "                                   transformers=[('num',\n",
       "                                                  Pipeline(steps=[('imputer',\n",
       "                                                                   SimpleImputer(strategy='median'))]),\n",
       "                                                  ['age', 'fnlwgt',\n",
       "                                                   'capital_gain',\n",
       "                                                   'capital_loss',\n",
       "                                                   'hours_per_week']),\n",
       "                                                 ('cat',\n",
       "                                                  Pipeline(steps=[('imputer',\n",
       "                                                                   SimpleImputer(strategy='most_frequent')),\n",
       "                                                                  ('encoder',\n",
       "                                                                   TargetEncoder())]),\n",
       "                                                  ['workclass', 'education',\n",
       "                                                   'marital_status',\n",
       "                                                   'occupation', 'relationship',\n",
       "                                                   'race', 'sex',\n",
       "                                                   'native_country'])])),\n",
       "                ('model',\n",
       "                 HistGradientBoostingClassifier(class_weight='balanced',\n",
       "                                                early_stopping=False,\n",
       "                                                min_samples_leaf=30,\n",
       "                                                random_state=1234,\n",
       "                                                scoring='balanced_accuracy'))])"
      ]
     },
     "execution_count": 91,
     "metadata": {},
     "output_type": "execute_result"
    }
   ],
   "source": [
    "# Display pipeline\n",
    "print(\"Time taken: \", target_hgb_default_time_taken)\n",
    "target_hgb_default"
   ]
  },
  {
   "cell_type": "code",
   "execution_count": 92,
   "metadata": {},
   "outputs": [],
   "source": [
    "tic = time.time()\n",
    "\n",
    "target_hgb_default9 = target_hgb_default_pipeline9.fit(X_train, y_train)\n",
    "\n",
    "toc = time.time()\n",
    "target_hgb_default9_time_taken = toc-tic"
   ]
  },
  {
   "cell_type": "code",
   "execution_count": 93,
   "metadata": {},
   "outputs": [
    {
     "name": "stdout",
     "output_type": "stream",
     "text": [
      "Time taken:  0.9992039203643799\n"
     ]
    },
    {
     "data": {
      "text/html": [
       "<style>#sk-container-id-16 {color: black;}#sk-container-id-16 pre{padding: 0;}#sk-container-id-16 div.sk-toggleable {background-color: white;}#sk-container-id-16 label.sk-toggleable__label {cursor: pointer;display: block;width: 100%;margin-bottom: 0;padding: 0.3em;box-sizing: border-box;text-align: center;}#sk-container-id-16 label.sk-toggleable__label-arrow:before {content: \"▸\";float: left;margin-right: 0.25em;color: #696969;}#sk-container-id-16 label.sk-toggleable__label-arrow:hover:before {color: black;}#sk-container-id-16 div.sk-estimator:hover label.sk-toggleable__label-arrow:before {color: black;}#sk-container-id-16 div.sk-toggleable__content {max-height: 0;max-width: 0;overflow: hidden;text-align: left;background-color: #f0f8ff;}#sk-container-id-16 div.sk-toggleable__content pre {margin: 0.2em;color: black;border-radius: 0.25em;background-color: #f0f8ff;}#sk-container-id-16 input.sk-toggleable__control:checked~div.sk-toggleable__content {max-height: 200px;max-width: 100%;overflow: auto;}#sk-container-id-16 input.sk-toggleable__control:checked~label.sk-toggleable__label-arrow:before {content: \"▾\";}#sk-container-id-16 div.sk-estimator input.sk-toggleable__control:checked~label.sk-toggleable__label {background-color: #d4ebff;}#sk-container-id-16 div.sk-label input.sk-toggleable__control:checked~label.sk-toggleable__label {background-color: #d4ebff;}#sk-container-id-16 input.sk-hidden--visually {border: 0;clip: rect(1px 1px 1px 1px);clip: rect(1px, 1px, 1px, 1px);height: 1px;margin: -1px;overflow: hidden;padding: 0;position: absolute;width: 1px;}#sk-container-id-16 div.sk-estimator {font-family: monospace;background-color: #f0f8ff;border: 1px dotted black;border-radius: 0.25em;box-sizing: border-box;margin-bottom: 0.5em;}#sk-container-id-16 div.sk-estimator:hover {background-color: #d4ebff;}#sk-container-id-16 div.sk-parallel-item::after {content: \"\";width: 100%;border-bottom: 1px solid gray;flex-grow: 1;}#sk-container-id-16 div.sk-label:hover label.sk-toggleable__label {background-color: #d4ebff;}#sk-container-id-16 div.sk-serial::before {content: \"\";position: absolute;border-left: 1px solid gray;box-sizing: border-box;top: 0;bottom: 0;left: 50%;z-index: 0;}#sk-container-id-16 div.sk-serial {display: flex;flex-direction: column;align-items: center;background-color: white;padding-right: 0.2em;padding-left: 0.2em;position: relative;}#sk-container-id-16 div.sk-item {position: relative;z-index: 1;}#sk-container-id-16 div.sk-parallel {display: flex;align-items: stretch;justify-content: center;background-color: white;position: relative;}#sk-container-id-16 div.sk-item::before, #sk-container-id-16 div.sk-parallel-item::before {content: \"\";position: absolute;border-left: 1px solid gray;box-sizing: border-box;top: 0;bottom: 0;left: 50%;z-index: -1;}#sk-container-id-16 div.sk-parallel-item {display: flex;flex-direction: column;z-index: 1;position: relative;background-color: white;}#sk-container-id-16 div.sk-parallel-item:first-child::after {align-self: flex-end;width: 50%;}#sk-container-id-16 div.sk-parallel-item:last-child::after {align-self: flex-start;width: 50%;}#sk-container-id-16 div.sk-parallel-item:only-child::after {width: 0;}#sk-container-id-16 div.sk-dashed-wrapped {border: 1px dashed gray;margin: 0 0.4em 0.5em 0.4em;box-sizing: border-box;padding-bottom: 0.4em;background-color: white;}#sk-container-id-16 div.sk-label label {font-family: monospace;font-weight: bold;display: inline-block;line-height: 1.2em;}#sk-container-id-16 div.sk-label-container {text-align: center;}#sk-container-id-16 div.sk-container {/* jupyter's `normalize.less` sets `[hidden] { display: none; }` but bootstrap.min.css set `[hidden] { display: none !important; }` so we also need the `!important` here to be able to override the default hidden behavior on the sphinx rendered scikit-learn.org. See: https://github.com/scikit-learn/scikit-learn/issues/21755 */display: inline-block !important;position: relative;}#sk-container-id-16 div.sk-text-repr-fallback {display: none;}</style><div id=\"sk-container-id-16\" class=\"sk-top-container\"><div class=\"sk-text-repr-fallback\"><pre>Pipeline(steps=[(&#x27;preprocessing&#x27;,\n",
       "                 ColumnTransformer(sparse_threshold=0,\n",
       "                                   transformers=[(&#x27;num&#x27;,\n",
       "                                                  Pipeline(steps=[(&#x27;imputer&#x27;,\n",
       "                                                                   SimpleImputer(strategy=&#x27;median&#x27;))]),\n",
       "                                                  [&#x27;age&#x27;, &#x27;fnlwgt&#x27;,\n",
       "                                                   &#x27;capital_gain&#x27;,\n",
       "                                                   &#x27;capital_loss&#x27;,\n",
       "                                                   &#x27;hours_per_week&#x27;]),\n",
       "                                                 (&#x27;one_hot_encoding&#x27;,\n",
       "                                                  Pipeline(steps=[(&#x27;imputer&#x27;,\n",
       "                                                                   SimpleImputer(strategy=&#x27;most_frequent&#x27;)),\n",
       "                                                                  (&#x27;encoder&#x27;,\n",
       "                                                                   OneHotEncoder(drop=&#x27;first&#x27;,\n",
       "                                                                                 handl...\n",
       "                                                   &#x27;marital_status&#x27;,\n",
       "                                                   &#x27;relationship&#x27;, &#x27;race&#x27;,\n",
       "                                                   &#x27;sex&#x27;]),\n",
       "                                                 (&#x27;target_encoding&#x27;,\n",
       "                                                  Pipeline(steps=[(&#x27;imputer&#x27;,\n",
       "                                                                   SimpleImputer(strategy=&#x27;most_frequent&#x27;)),\n",
       "                                                                  (&#x27;encoder&#x27;,\n",
       "                                                                   TargetEncoder())]),\n",
       "                                                  [&#x27;education&#x27;, &#x27;occupation&#x27;,\n",
       "                                                   &#x27;native_country&#x27;])])),\n",
       "                (&#x27;model&#x27;,\n",
       "                 HistGradientBoostingClassifier(class_weight=&#x27;balanced&#x27;,\n",
       "                                                early_stopping=False,\n",
       "                                                min_samples_leaf=30,\n",
       "                                                random_state=1234,\n",
       "                                                scoring=&#x27;balanced_accuracy&#x27;))])</pre><b>In a Jupyter environment, please rerun this cell to show the HTML representation or trust the notebook. <br />On GitHub, the HTML representation is unable to render, please try loading this page with nbviewer.org.</b></div><div class=\"sk-container\" hidden><div class=\"sk-item sk-dashed-wrapped\"><div class=\"sk-label-container\"><div class=\"sk-label sk-toggleable\"><input class=\"sk-toggleable__control sk-hidden--visually\" id=\"sk-estimator-id-146\" type=\"checkbox\" ><label for=\"sk-estimator-id-146\" class=\"sk-toggleable__label sk-toggleable__label-arrow\">Pipeline</label><div class=\"sk-toggleable__content\"><pre>Pipeline(steps=[(&#x27;preprocessing&#x27;,\n",
       "                 ColumnTransformer(sparse_threshold=0,\n",
       "                                   transformers=[(&#x27;num&#x27;,\n",
       "                                                  Pipeline(steps=[(&#x27;imputer&#x27;,\n",
       "                                                                   SimpleImputer(strategy=&#x27;median&#x27;))]),\n",
       "                                                  [&#x27;age&#x27;, &#x27;fnlwgt&#x27;,\n",
       "                                                   &#x27;capital_gain&#x27;,\n",
       "                                                   &#x27;capital_loss&#x27;,\n",
       "                                                   &#x27;hours_per_week&#x27;]),\n",
       "                                                 (&#x27;one_hot_encoding&#x27;,\n",
       "                                                  Pipeline(steps=[(&#x27;imputer&#x27;,\n",
       "                                                                   SimpleImputer(strategy=&#x27;most_frequent&#x27;)),\n",
       "                                                                  (&#x27;encoder&#x27;,\n",
       "                                                                   OneHotEncoder(drop=&#x27;first&#x27;,\n",
       "                                                                                 handl...\n",
       "                                                   &#x27;marital_status&#x27;,\n",
       "                                                   &#x27;relationship&#x27;, &#x27;race&#x27;,\n",
       "                                                   &#x27;sex&#x27;]),\n",
       "                                                 (&#x27;target_encoding&#x27;,\n",
       "                                                  Pipeline(steps=[(&#x27;imputer&#x27;,\n",
       "                                                                   SimpleImputer(strategy=&#x27;most_frequent&#x27;)),\n",
       "                                                                  (&#x27;encoder&#x27;,\n",
       "                                                                   TargetEncoder())]),\n",
       "                                                  [&#x27;education&#x27;, &#x27;occupation&#x27;,\n",
       "                                                   &#x27;native_country&#x27;])])),\n",
       "                (&#x27;model&#x27;,\n",
       "                 HistGradientBoostingClassifier(class_weight=&#x27;balanced&#x27;,\n",
       "                                                early_stopping=False,\n",
       "                                                min_samples_leaf=30,\n",
       "                                                random_state=1234,\n",
       "                                                scoring=&#x27;balanced_accuracy&#x27;))])</pre></div></div></div><div class=\"sk-serial\"><div class=\"sk-item sk-dashed-wrapped\"><div class=\"sk-label-container\"><div class=\"sk-label sk-toggleable\"><input class=\"sk-toggleable__control sk-hidden--visually\" id=\"sk-estimator-id-147\" type=\"checkbox\" ><label for=\"sk-estimator-id-147\" class=\"sk-toggleable__label sk-toggleable__label-arrow\">preprocessing: ColumnTransformer</label><div class=\"sk-toggleable__content\"><pre>ColumnTransformer(sparse_threshold=0,\n",
       "                  transformers=[(&#x27;num&#x27;,\n",
       "                                 Pipeline(steps=[(&#x27;imputer&#x27;,\n",
       "                                                  SimpleImputer(strategy=&#x27;median&#x27;))]),\n",
       "                                 [&#x27;age&#x27;, &#x27;fnlwgt&#x27;, &#x27;capital_gain&#x27;,\n",
       "                                  &#x27;capital_loss&#x27;, &#x27;hours_per_week&#x27;]),\n",
       "                                (&#x27;one_hot_encoding&#x27;,\n",
       "                                 Pipeline(steps=[(&#x27;imputer&#x27;,\n",
       "                                                  SimpleImputer(strategy=&#x27;most_frequent&#x27;)),\n",
       "                                                 (&#x27;encoder&#x27;,\n",
       "                                                  OneHotEncoder(drop=&#x27;first&#x27;,\n",
       "                                                                handle_unknown=&#x27;ignore&#x27;))]),\n",
       "                                 [&#x27;workclass&#x27;, &#x27;marital_status&#x27;, &#x27;relationship&#x27;,\n",
       "                                  &#x27;race&#x27;, &#x27;sex&#x27;]),\n",
       "                                (&#x27;target_encoding&#x27;,\n",
       "                                 Pipeline(steps=[(&#x27;imputer&#x27;,\n",
       "                                                  SimpleImputer(strategy=&#x27;most_frequent&#x27;)),\n",
       "                                                 (&#x27;encoder&#x27;, TargetEncoder())]),\n",
       "                                 [&#x27;education&#x27;, &#x27;occupation&#x27;,\n",
       "                                  &#x27;native_country&#x27;])])</pre></div></div></div><div class=\"sk-parallel\"><div class=\"sk-parallel-item\"><div class=\"sk-item\"><div class=\"sk-label-container\"><div class=\"sk-label sk-toggleable\"><input class=\"sk-toggleable__control sk-hidden--visually\" id=\"sk-estimator-id-148\" type=\"checkbox\" ><label for=\"sk-estimator-id-148\" class=\"sk-toggleable__label sk-toggleable__label-arrow\">num</label><div class=\"sk-toggleable__content\"><pre>[&#x27;age&#x27;, &#x27;fnlwgt&#x27;, &#x27;capital_gain&#x27;, &#x27;capital_loss&#x27;, &#x27;hours_per_week&#x27;]</pre></div></div></div><div class=\"sk-serial\"><div class=\"sk-item\"><div class=\"sk-serial\"><div class=\"sk-item\"><div class=\"sk-estimator sk-toggleable\"><input class=\"sk-toggleable__control sk-hidden--visually\" id=\"sk-estimator-id-149\" type=\"checkbox\" ><label for=\"sk-estimator-id-149\" class=\"sk-toggleable__label sk-toggleable__label-arrow\">SimpleImputer</label><div class=\"sk-toggleable__content\"><pre>SimpleImputer(strategy=&#x27;median&#x27;)</pre></div></div></div></div></div></div></div></div><div class=\"sk-parallel-item\"><div class=\"sk-item\"><div class=\"sk-label-container\"><div class=\"sk-label sk-toggleable\"><input class=\"sk-toggleable__control sk-hidden--visually\" id=\"sk-estimator-id-150\" type=\"checkbox\" ><label for=\"sk-estimator-id-150\" class=\"sk-toggleable__label sk-toggleable__label-arrow\">one_hot_encoding</label><div class=\"sk-toggleable__content\"><pre>[&#x27;workclass&#x27;, &#x27;marital_status&#x27;, &#x27;relationship&#x27;, &#x27;race&#x27;, &#x27;sex&#x27;]</pre></div></div></div><div class=\"sk-serial\"><div class=\"sk-item\"><div class=\"sk-serial\"><div class=\"sk-item\"><div class=\"sk-estimator sk-toggleable\"><input class=\"sk-toggleable__control sk-hidden--visually\" id=\"sk-estimator-id-151\" type=\"checkbox\" ><label for=\"sk-estimator-id-151\" class=\"sk-toggleable__label sk-toggleable__label-arrow\">SimpleImputer</label><div class=\"sk-toggleable__content\"><pre>SimpleImputer(strategy=&#x27;most_frequent&#x27;)</pre></div></div></div><div class=\"sk-item\"><div class=\"sk-estimator sk-toggleable\"><input class=\"sk-toggleable__control sk-hidden--visually\" id=\"sk-estimator-id-152\" type=\"checkbox\" ><label for=\"sk-estimator-id-152\" class=\"sk-toggleable__label sk-toggleable__label-arrow\">OneHotEncoder</label><div class=\"sk-toggleable__content\"><pre>OneHotEncoder(drop=&#x27;first&#x27;, handle_unknown=&#x27;ignore&#x27;)</pre></div></div></div></div></div></div></div></div><div class=\"sk-parallel-item\"><div class=\"sk-item\"><div class=\"sk-label-container\"><div class=\"sk-label sk-toggleable\"><input class=\"sk-toggleable__control sk-hidden--visually\" id=\"sk-estimator-id-153\" type=\"checkbox\" ><label for=\"sk-estimator-id-153\" class=\"sk-toggleable__label sk-toggleable__label-arrow\">target_encoding</label><div class=\"sk-toggleable__content\"><pre>[&#x27;education&#x27;, &#x27;occupation&#x27;, &#x27;native_country&#x27;]</pre></div></div></div><div class=\"sk-serial\"><div class=\"sk-item\"><div class=\"sk-serial\"><div class=\"sk-item\"><div class=\"sk-estimator sk-toggleable\"><input class=\"sk-toggleable__control sk-hidden--visually\" id=\"sk-estimator-id-154\" type=\"checkbox\" ><label for=\"sk-estimator-id-154\" class=\"sk-toggleable__label sk-toggleable__label-arrow\">SimpleImputer</label><div class=\"sk-toggleable__content\"><pre>SimpleImputer(strategy=&#x27;most_frequent&#x27;)</pre></div></div></div><div class=\"sk-item\"><div class=\"sk-estimator sk-toggleable\"><input class=\"sk-toggleable__control sk-hidden--visually\" id=\"sk-estimator-id-155\" type=\"checkbox\" ><label for=\"sk-estimator-id-155\" class=\"sk-toggleable__label sk-toggleable__label-arrow\">TargetEncoder</label><div class=\"sk-toggleable__content\"><pre>TargetEncoder()</pre></div></div></div></div></div></div></div></div></div></div><div class=\"sk-item\"><div class=\"sk-estimator sk-toggleable\"><input class=\"sk-toggleable__control sk-hidden--visually\" id=\"sk-estimator-id-156\" type=\"checkbox\" ><label for=\"sk-estimator-id-156\" class=\"sk-toggleable__label sk-toggleable__label-arrow\">HistGradientBoostingClassifier</label><div class=\"sk-toggleable__content\"><pre>HistGradientBoostingClassifier(class_weight=&#x27;balanced&#x27;, early_stopping=False,\n",
       "                               min_samples_leaf=30, random_state=1234,\n",
       "                               scoring=&#x27;balanced_accuracy&#x27;)</pre></div></div></div></div></div></div></div>"
      ],
      "text/plain": [
       "Pipeline(steps=[('preprocessing',\n",
       "                 ColumnTransformer(sparse_threshold=0,\n",
       "                                   transformers=[('num',\n",
       "                                                  Pipeline(steps=[('imputer',\n",
       "                                                                   SimpleImputer(strategy='median'))]),\n",
       "                                                  ['age', 'fnlwgt',\n",
       "                                                   'capital_gain',\n",
       "                                                   'capital_loss',\n",
       "                                                   'hours_per_week']),\n",
       "                                                 ('one_hot_encoding',\n",
       "                                                  Pipeline(steps=[('imputer',\n",
       "                                                                   SimpleImputer(strategy='most_frequent')),\n",
       "                                                                  ('encoder',\n",
       "                                                                   OneHotEncoder(drop='first',\n",
       "                                                                                 handl...\n",
       "                                                   'marital_status',\n",
       "                                                   'relationship', 'race',\n",
       "                                                   'sex']),\n",
       "                                                 ('target_encoding',\n",
       "                                                  Pipeline(steps=[('imputer',\n",
       "                                                                   SimpleImputer(strategy='most_frequent')),\n",
       "                                                                  ('encoder',\n",
       "                                                                   TargetEncoder())]),\n",
       "                                                  ['education', 'occupation',\n",
       "                                                   'native_country'])])),\n",
       "                ('model',\n",
       "                 HistGradientBoostingClassifier(class_weight='balanced',\n",
       "                                                early_stopping=False,\n",
       "                                                min_samples_leaf=30,\n",
       "                                                random_state=1234,\n",
       "                                                scoring='balanced_accuracy'))])"
      ]
     },
     "execution_count": 93,
     "metadata": {},
     "output_type": "execute_result"
    }
   ],
   "source": [
    "# Display pipeline\n",
    "print(\"Time taken: \", target_hgb_default9_time_taken)\n",
    "target_hgb_default9"
   ]
  },
  {
   "cell_type": "code",
   "execution_count": 94,
   "id": "7499758f",
   "metadata": {},
   "outputs": [
    {
     "name": "stdout",
     "output_type": "stream",
     "text": [
      "Balanced accuracy with default parameters: 0.8424012834495899\n"
     ]
    }
   ],
   "source": [
    "# Calculate balanced accuracy for the model with default parameters\n",
    "y_target_hgb_default_pred = target_hgb_default.predict(X_test)\n",
    "target_hgb_default_accuracy = balanced_accuracy_score(y_test, y_target_hgb_default_pred)\n",
    "print(f'Balanced accuracy with default parameters: {target_hgb_default_accuracy}')\n",
    "\n",
    "# Save results\n",
    "default_summary.append(\"Default\")\n",
    "card_9_summary.append(\"AllVariables\")\n",
    "encoder_summary.append(\"TargetEncoder\")\n",
    "value_summary.append(target_hgb_default_accuracy)\n",
    "time_summary.append(target_hgb_default_time_taken)\n",
    "n_models_summary.append(1)"
   ]
  },
  {
   "cell_type": "code",
   "execution_count": 95,
   "id": "015aa2d9",
   "metadata": {
    "scrolled": true
   },
   "outputs": [
    {
     "name": "stdout",
     "output_type": "stream",
     "text": [
      "Balanced accuracy with default parameters: 0.8391402178488585\n"
     ]
    }
   ],
   "source": [
    "# Calculate balanced accuracy for the model with default parameters\n",
    "y_target_hgb_default_pred9 = target_hgb_default9.predict(X_test)\n",
    "target_hgb_default_accuracy9 = balanced_accuracy_score(y_test, y_target_hgb_default_pred9)\n",
    "print(f'Balanced accuracy with default parameters: {target_hgb_default_accuracy9}')\n",
    "\n",
    "# Save results\n",
    "default_summary.append(\"Default\")\n",
    "card_9_summary.append(\"OnlyVariablesWithCard>9\")\n",
    "encoder_summary.append(\"TargetEncoder\")\n",
    "value_summary.append(target_hgb_default_accuracy9)\n",
    "time_summary.append(target_hgb_default9_time_taken)\n",
    "n_models_summary.append(1)"
   ]
  },
  {
   "cell_type": "markdown",
   "id": "e7c3f598",
   "metadata": {},
   "source": [
    "#### Create a HistGradientBoostingClassifier model for tuning"
   ]
  },
  {
   "cell_type": "code",
   "execution_count": 96,
   "id": "75d035cb",
   "metadata": {},
   "outputs": [],
   "source": [
    "target_hgb_tune = RandomizedSearchCV(estimator = target_hgb_default_pipeline, \n",
    "                                     param_distributions = param_distributions, \n",
    "                                     n_iter = 100,\n",
    "                                     cv = stratified_kfold,\n",
    "                                     scoring = 'balanced_accuracy', \n",
    "                                     random_state = 1234,\n",
    "                                     n_jobs = -1)\n",
    "\n",
    "target_hgb_tune9 = RandomizedSearchCV(estimator = target_hgb_default_pipeline9, \n",
    "                                      param_distributions = param_distributions, \n",
    "                                      n_iter = 100,\n",
    "                                      cv = stratified_kfold,\n",
    "                                      scoring = 'balanced_accuracy', \n",
    "                                      random_state = 1234,\n",
    "                                      n_jobs = -1)"
   ]
  },
  {
   "cell_type": "code",
   "execution_count": 97,
   "id": "aea490b2",
   "metadata": {
    "scrolled": true
   },
   "outputs": [],
   "source": [
    "tic = time.time() \n",
    "\n",
    "target_hgb_tune = target_hgb_tune.fit(X_train, y_train)\n",
    "\n",
    "toc = time.time()\n",
    "target_hgb_tune_time_taken = toc-tic"
   ]
  },
  {
   "cell_type": "code",
   "execution_count": 98,
   "metadata": {},
   "outputs": [
    {
     "name": "stdout",
     "output_type": "stream",
     "text": [
      "Time taken:  43.30703401565552\n"
     ]
    },
    {
     "data": {
      "text/html": [
       "<style>#sk-container-id-17 {color: black;}#sk-container-id-17 pre{padding: 0;}#sk-container-id-17 div.sk-toggleable {background-color: white;}#sk-container-id-17 label.sk-toggleable__label {cursor: pointer;display: block;width: 100%;margin-bottom: 0;padding: 0.3em;box-sizing: border-box;text-align: center;}#sk-container-id-17 label.sk-toggleable__label-arrow:before {content: \"▸\";float: left;margin-right: 0.25em;color: #696969;}#sk-container-id-17 label.sk-toggleable__label-arrow:hover:before {color: black;}#sk-container-id-17 div.sk-estimator:hover label.sk-toggleable__label-arrow:before {color: black;}#sk-container-id-17 div.sk-toggleable__content {max-height: 0;max-width: 0;overflow: hidden;text-align: left;background-color: #f0f8ff;}#sk-container-id-17 div.sk-toggleable__content pre {margin: 0.2em;color: black;border-radius: 0.25em;background-color: #f0f8ff;}#sk-container-id-17 input.sk-toggleable__control:checked~div.sk-toggleable__content {max-height: 200px;max-width: 100%;overflow: auto;}#sk-container-id-17 input.sk-toggleable__control:checked~label.sk-toggleable__label-arrow:before {content: \"▾\";}#sk-container-id-17 div.sk-estimator input.sk-toggleable__control:checked~label.sk-toggleable__label {background-color: #d4ebff;}#sk-container-id-17 div.sk-label input.sk-toggleable__control:checked~label.sk-toggleable__label {background-color: #d4ebff;}#sk-container-id-17 input.sk-hidden--visually {border: 0;clip: rect(1px 1px 1px 1px);clip: rect(1px, 1px, 1px, 1px);height: 1px;margin: -1px;overflow: hidden;padding: 0;position: absolute;width: 1px;}#sk-container-id-17 div.sk-estimator {font-family: monospace;background-color: #f0f8ff;border: 1px dotted black;border-radius: 0.25em;box-sizing: border-box;margin-bottom: 0.5em;}#sk-container-id-17 div.sk-estimator:hover {background-color: #d4ebff;}#sk-container-id-17 div.sk-parallel-item::after {content: \"\";width: 100%;border-bottom: 1px solid gray;flex-grow: 1;}#sk-container-id-17 div.sk-label:hover label.sk-toggleable__label {background-color: #d4ebff;}#sk-container-id-17 div.sk-serial::before {content: \"\";position: absolute;border-left: 1px solid gray;box-sizing: border-box;top: 0;bottom: 0;left: 50%;z-index: 0;}#sk-container-id-17 div.sk-serial {display: flex;flex-direction: column;align-items: center;background-color: white;padding-right: 0.2em;padding-left: 0.2em;position: relative;}#sk-container-id-17 div.sk-item {position: relative;z-index: 1;}#sk-container-id-17 div.sk-parallel {display: flex;align-items: stretch;justify-content: center;background-color: white;position: relative;}#sk-container-id-17 div.sk-item::before, #sk-container-id-17 div.sk-parallel-item::before {content: \"\";position: absolute;border-left: 1px solid gray;box-sizing: border-box;top: 0;bottom: 0;left: 50%;z-index: -1;}#sk-container-id-17 div.sk-parallel-item {display: flex;flex-direction: column;z-index: 1;position: relative;background-color: white;}#sk-container-id-17 div.sk-parallel-item:first-child::after {align-self: flex-end;width: 50%;}#sk-container-id-17 div.sk-parallel-item:last-child::after {align-self: flex-start;width: 50%;}#sk-container-id-17 div.sk-parallel-item:only-child::after {width: 0;}#sk-container-id-17 div.sk-dashed-wrapped {border: 1px dashed gray;margin: 0 0.4em 0.5em 0.4em;box-sizing: border-box;padding-bottom: 0.4em;background-color: white;}#sk-container-id-17 div.sk-label label {font-family: monospace;font-weight: bold;display: inline-block;line-height: 1.2em;}#sk-container-id-17 div.sk-label-container {text-align: center;}#sk-container-id-17 div.sk-container {/* jupyter's `normalize.less` sets `[hidden] { display: none; }` but bootstrap.min.css set `[hidden] { display: none !important; }` so we also need the `!important` here to be able to override the default hidden behavior on the sphinx rendered scikit-learn.org. See: https://github.com/scikit-learn/scikit-learn/issues/21755 */display: inline-block !important;position: relative;}#sk-container-id-17 div.sk-text-repr-fallback {display: none;}</style><div id=\"sk-container-id-17\" class=\"sk-top-container\"><div class=\"sk-text-repr-fallback\"><pre>RandomizedSearchCV(cv=StratifiedKFold(n_splits=3, random_state=1234, shuffle=True),\n",
       "                   estimator=Pipeline(steps=[(&#x27;preprocessing&#x27;,\n",
       "                                              ColumnTransformer(sparse_threshold=0,\n",
       "                                                                transformers=[(&#x27;num&#x27;,\n",
       "                                                                               Pipeline(steps=[(&#x27;imputer&#x27;,\n",
       "                                                                                                SimpleImputer(strategy=&#x27;median&#x27;))]),\n",
       "                                                                               [&#x27;age&#x27;,\n",
       "                                                                                &#x27;fnlwgt&#x27;,\n",
       "                                                                                &#x27;capital_gain&#x27;,\n",
       "                                                                                &#x27;capital_loss&#x27;,\n",
       "                                                                                &#x27;hours_per_week&#x27;]),\n",
       "                                                                              (&#x27;cat&#x27;,\n",
       "                                                                               Pipeline(steps=[(&#x27;imputer&#x27;,\n",
       "                                                                                                Simple...\n",
       "                   param_distributions={&#x27;model__learning_rate&#x27;: &lt;scipy.stats._distn_infrastructure.rv_continuous_frozen object at 0x00000212688E6680&gt;,\n",
       "                                        &#x27;model__max_iter&#x27;: &lt;scipy.stats._distn_infrastructure.rv_discrete_frozen object at 0x000002126836B190&gt;,\n",
       "                                        &#x27;model__min_samples_leaf&#x27;: &lt;scipy.stats._distn_infrastructure.rv_discrete_frozen object at 0x00000212688E7EE0&gt;},\n",
       "                   random_state=1234, scoring=&#x27;balanced_accuracy&#x27;)</pre><b>In a Jupyter environment, please rerun this cell to show the HTML representation or trust the notebook. <br />On GitHub, the HTML representation is unable to render, please try loading this page with nbviewer.org.</b></div><div class=\"sk-container\" hidden><div class=\"sk-item sk-dashed-wrapped\"><div class=\"sk-label-container\"><div class=\"sk-label sk-toggleable\"><input class=\"sk-toggleable__control sk-hidden--visually\" id=\"sk-estimator-id-157\" type=\"checkbox\" ><label for=\"sk-estimator-id-157\" class=\"sk-toggleable__label sk-toggleable__label-arrow\">RandomizedSearchCV</label><div class=\"sk-toggleable__content\"><pre>RandomizedSearchCV(cv=StratifiedKFold(n_splits=3, random_state=1234, shuffle=True),\n",
       "                   estimator=Pipeline(steps=[(&#x27;preprocessing&#x27;,\n",
       "                                              ColumnTransformer(sparse_threshold=0,\n",
       "                                                                transformers=[(&#x27;num&#x27;,\n",
       "                                                                               Pipeline(steps=[(&#x27;imputer&#x27;,\n",
       "                                                                                                SimpleImputer(strategy=&#x27;median&#x27;))]),\n",
       "                                                                               [&#x27;age&#x27;,\n",
       "                                                                                &#x27;fnlwgt&#x27;,\n",
       "                                                                                &#x27;capital_gain&#x27;,\n",
       "                                                                                &#x27;capital_loss&#x27;,\n",
       "                                                                                &#x27;hours_per_week&#x27;]),\n",
       "                                                                              (&#x27;cat&#x27;,\n",
       "                                                                               Pipeline(steps=[(&#x27;imputer&#x27;,\n",
       "                                                                                                Simple...\n",
       "                   param_distributions={&#x27;model__learning_rate&#x27;: &lt;scipy.stats._distn_infrastructure.rv_continuous_frozen object at 0x00000212688E6680&gt;,\n",
       "                                        &#x27;model__max_iter&#x27;: &lt;scipy.stats._distn_infrastructure.rv_discrete_frozen object at 0x000002126836B190&gt;,\n",
       "                                        &#x27;model__min_samples_leaf&#x27;: &lt;scipy.stats._distn_infrastructure.rv_discrete_frozen object at 0x00000212688E7EE0&gt;},\n",
       "                   random_state=1234, scoring=&#x27;balanced_accuracy&#x27;)</pre></div></div></div><div class=\"sk-parallel\"><div class=\"sk-parallel-item\"><div class=\"sk-item\"><div class=\"sk-label-container\"><div class=\"sk-label sk-toggleable\"><input class=\"sk-toggleable__control sk-hidden--visually\" id=\"sk-estimator-id-158\" type=\"checkbox\" ><label for=\"sk-estimator-id-158\" class=\"sk-toggleable__label sk-toggleable__label-arrow\">estimator: Pipeline</label><div class=\"sk-toggleable__content\"><pre>Pipeline(steps=[(&#x27;preprocessing&#x27;,\n",
       "                 ColumnTransformer(sparse_threshold=0,\n",
       "                                   transformers=[(&#x27;num&#x27;,\n",
       "                                                  Pipeline(steps=[(&#x27;imputer&#x27;,\n",
       "                                                                   SimpleImputer(strategy=&#x27;median&#x27;))]),\n",
       "                                                  [&#x27;age&#x27;, &#x27;fnlwgt&#x27;,\n",
       "                                                   &#x27;capital_gain&#x27;,\n",
       "                                                   &#x27;capital_loss&#x27;,\n",
       "                                                   &#x27;hours_per_week&#x27;]),\n",
       "                                                 (&#x27;cat&#x27;,\n",
       "                                                  Pipeline(steps=[(&#x27;imputer&#x27;,\n",
       "                                                                   SimpleImputer(strategy=&#x27;most_frequent&#x27;)),\n",
       "                                                                  (&#x27;encoder&#x27;,\n",
       "                                                                   TargetEncoder())]),\n",
       "                                                  [&#x27;workclass&#x27;, &#x27;education&#x27;,\n",
       "                                                   &#x27;marital_status&#x27;,\n",
       "                                                   &#x27;occupation&#x27;, &#x27;relationship&#x27;,\n",
       "                                                   &#x27;race&#x27;, &#x27;sex&#x27;,\n",
       "                                                   &#x27;native_country&#x27;])])),\n",
       "                (&#x27;model&#x27;,\n",
       "                 HistGradientBoostingClassifier(class_weight=&#x27;balanced&#x27;,\n",
       "                                                early_stopping=False,\n",
       "                                                min_samples_leaf=30,\n",
       "                                                random_state=1234,\n",
       "                                                scoring=&#x27;balanced_accuracy&#x27;))])</pre></div></div></div><div class=\"sk-serial\"><div class=\"sk-item\"><div class=\"sk-serial\"><div class=\"sk-item sk-dashed-wrapped\"><div class=\"sk-label-container\"><div class=\"sk-label sk-toggleable\"><input class=\"sk-toggleable__control sk-hidden--visually\" id=\"sk-estimator-id-159\" type=\"checkbox\" ><label for=\"sk-estimator-id-159\" class=\"sk-toggleable__label sk-toggleable__label-arrow\">preprocessing: ColumnTransformer</label><div class=\"sk-toggleable__content\"><pre>ColumnTransformer(sparse_threshold=0,\n",
       "                  transformers=[(&#x27;num&#x27;,\n",
       "                                 Pipeline(steps=[(&#x27;imputer&#x27;,\n",
       "                                                  SimpleImputer(strategy=&#x27;median&#x27;))]),\n",
       "                                 [&#x27;age&#x27;, &#x27;fnlwgt&#x27;, &#x27;capital_gain&#x27;,\n",
       "                                  &#x27;capital_loss&#x27;, &#x27;hours_per_week&#x27;]),\n",
       "                                (&#x27;cat&#x27;,\n",
       "                                 Pipeline(steps=[(&#x27;imputer&#x27;,\n",
       "                                                  SimpleImputer(strategy=&#x27;most_frequent&#x27;)),\n",
       "                                                 (&#x27;encoder&#x27;, TargetEncoder())]),\n",
       "                                 [&#x27;workclass&#x27;, &#x27;education&#x27;, &#x27;marital_status&#x27;,\n",
       "                                  &#x27;occupation&#x27;, &#x27;relationship&#x27;, &#x27;race&#x27;, &#x27;sex&#x27;,\n",
       "                                  &#x27;native_country&#x27;])])</pre></div></div></div><div class=\"sk-parallel\"><div class=\"sk-parallel-item\"><div class=\"sk-item\"><div class=\"sk-label-container\"><div class=\"sk-label sk-toggleable\"><input class=\"sk-toggleable__control sk-hidden--visually\" id=\"sk-estimator-id-160\" type=\"checkbox\" ><label for=\"sk-estimator-id-160\" class=\"sk-toggleable__label sk-toggleable__label-arrow\">num</label><div class=\"sk-toggleable__content\"><pre>[&#x27;age&#x27;, &#x27;fnlwgt&#x27;, &#x27;capital_gain&#x27;, &#x27;capital_loss&#x27;, &#x27;hours_per_week&#x27;]</pre></div></div></div><div class=\"sk-serial\"><div class=\"sk-item\"><div class=\"sk-serial\"><div class=\"sk-item\"><div class=\"sk-estimator sk-toggleable\"><input class=\"sk-toggleable__control sk-hidden--visually\" id=\"sk-estimator-id-161\" type=\"checkbox\" ><label for=\"sk-estimator-id-161\" class=\"sk-toggleable__label sk-toggleable__label-arrow\">SimpleImputer</label><div class=\"sk-toggleable__content\"><pre>SimpleImputer(strategy=&#x27;median&#x27;)</pre></div></div></div></div></div></div></div></div><div class=\"sk-parallel-item\"><div class=\"sk-item\"><div class=\"sk-label-container\"><div class=\"sk-label sk-toggleable\"><input class=\"sk-toggleable__control sk-hidden--visually\" id=\"sk-estimator-id-162\" type=\"checkbox\" ><label for=\"sk-estimator-id-162\" class=\"sk-toggleable__label sk-toggleable__label-arrow\">cat</label><div class=\"sk-toggleable__content\"><pre>[&#x27;workclass&#x27;, &#x27;education&#x27;, &#x27;marital_status&#x27;, &#x27;occupation&#x27;, &#x27;relationship&#x27;, &#x27;race&#x27;, &#x27;sex&#x27;, &#x27;native_country&#x27;]</pre></div></div></div><div class=\"sk-serial\"><div class=\"sk-item\"><div class=\"sk-serial\"><div class=\"sk-item\"><div class=\"sk-estimator sk-toggleable\"><input class=\"sk-toggleable__control sk-hidden--visually\" id=\"sk-estimator-id-163\" type=\"checkbox\" ><label for=\"sk-estimator-id-163\" class=\"sk-toggleable__label sk-toggleable__label-arrow\">SimpleImputer</label><div class=\"sk-toggleable__content\"><pre>SimpleImputer(strategy=&#x27;most_frequent&#x27;)</pre></div></div></div><div class=\"sk-item\"><div class=\"sk-estimator sk-toggleable\"><input class=\"sk-toggleable__control sk-hidden--visually\" id=\"sk-estimator-id-164\" type=\"checkbox\" ><label for=\"sk-estimator-id-164\" class=\"sk-toggleable__label sk-toggleable__label-arrow\">TargetEncoder</label><div class=\"sk-toggleable__content\"><pre>TargetEncoder()</pre></div></div></div></div></div></div></div></div></div></div><div class=\"sk-item\"><div class=\"sk-estimator sk-toggleable\"><input class=\"sk-toggleable__control sk-hidden--visually\" id=\"sk-estimator-id-165\" type=\"checkbox\" ><label for=\"sk-estimator-id-165\" class=\"sk-toggleable__label sk-toggleable__label-arrow\">HistGradientBoostingClassifier</label><div class=\"sk-toggleable__content\"><pre>HistGradientBoostingClassifier(class_weight=&#x27;balanced&#x27;, early_stopping=False,\n",
       "                               min_samples_leaf=30, random_state=1234,\n",
       "                               scoring=&#x27;balanced_accuracy&#x27;)</pre></div></div></div></div></div></div></div></div></div></div></div></div>"
      ],
      "text/plain": [
       "RandomizedSearchCV(cv=StratifiedKFold(n_splits=3, random_state=1234, shuffle=True),\n",
       "                   estimator=Pipeline(steps=[('preprocessing',\n",
       "                                              ColumnTransformer(sparse_threshold=0,\n",
       "                                                                transformers=[('num',\n",
       "                                                                               Pipeline(steps=[('imputer',\n",
       "                                                                                                SimpleImputer(strategy='median'))]),\n",
       "                                                                               ['age',\n",
       "                                                                                'fnlwgt',\n",
       "                                                                                'capital_gain',\n",
       "                                                                                'capital_loss',\n",
       "                                                                                'hours_per_week']),\n",
       "                                                                              ('cat',\n",
       "                                                                               Pipeline(steps=[('imputer',\n",
       "                                                                                                Simple...\n",
       "                   param_distributions={'model__learning_rate': <scipy.stats._distn_infrastructure.rv_continuous_frozen object at 0x00000212688E6680>,\n",
       "                                        'model__max_iter': <scipy.stats._distn_infrastructure.rv_discrete_frozen object at 0x000002126836B190>,\n",
       "                                        'model__min_samples_leaf': <scipy.stats._distn_infrastructure.rv_discrete_frozen object at 0x00000212688E7EE0>},\n",
       "                   random_state=1234, scoring='balanced_accuracy')"
      ]
     },
     "execution_count": 98,
     "metadata": {},
     "output_type": "execute_result"
    }
   ],
   "source": [
    "# Display pipeline\n",
    "print(\"Time taken: \", target_hgb_tune_time_taken)\n",
    "target_hgb_tune"
   ]
  },
  {
   "cell_type": "code",
   "execution_count": 99,
   "id": "f310e635",
   "metadata": {
    "scrolled": true
   },
   "outputs": [],
   "source": [
    "tic = time.time() \n",
    "\n",
    "target_hgb_tune9 = target_hgb_tune9.fit(X_train, y_train)\n",
    "\n",
    "toc = time.time()\n",
    "target_hgb_tune9_time_taken = toc-tic"
   ]
  },
  {
   "cell_type": "code",
   "execution_count": 100,
   "metadata": {},
   "outputs": [
    {
     "name": "stdout",
     "output_type": "stream",
     "text": [
      "Time taken:  68.24737048149109\n"
     ]
    },
    {
     "data": {
      "text/html": [
       "<style>#sk-container-id-18 {color: black;}#sk-container-id-18 pre{padding: 0;}#sk-container-id-18 div.sk-toggleable {background-color: white;}#sk-container-id-18 label.sk-toggleable__label {cursor: pointer;display: block;width: 100%;margin-bottom: 0;padding: 0.3em;box-sizing: border-box;text-align: center;}#sk-container-id-18 label.sk-toggleable__label-arrow:before {content: \"▸\";float: left;margin-right: 0.25em;color: #696969;}#sk-container-id-18 label.sk-toggleable__label-arrow:hover:before {color: black;}#sk-container-id-18 div.sk-estimator:hover label.sk-toggleable__label-arrow:before {color: black;}#sk-container-id-18 div.sk-toggleable__content {max-height: 0;max-width: 0;overflow: hidden;text-align: left;background-color: #f0f8ff;}#sk-container-id-18 div.sk-toggleable__content pre {margin: 0.2em;color: black;border-radius: 0.25em;background-color: #f0f8ff;}#sk-container-id-18 input.sk-toggleable__control:checked~div.sk-toggleable__content {max-height: 200px;max-width: 100%;overflow: auto;}#sk-container-id-18 input.sk-toggleable__control:checked~label.sk-toggleable__label-arrow:before {content: \"▾\";}#sk-container-id-18 div.sk-estimator input.sk-toggleable__control:checked~label.sk-toggleable__label {background-color: #d4ebff;}#sk-container-id-18 div.sk-label input.sk-toggleable__control:checked~label.sk-toggleable__label {background-color: #d4ebff;}#sk-container-id-18 input.sk-hidden--visually {border: 0;clip: rect(1px 1px 1px 1px);clip: rect(1px, 1px, 1px, 1px);height: 1px;margin: -1px;overflow: hidden;padding: 0;position: absolute;width: 1px;}#sk-container-id-18 div.sk-estimator {font-family: monospace;background-color: #f0f8ff;border: 1px dotted black;border-radius: 0.25em;box-sizing: border-box;margin-bottom: 0.5em;}#sk-container-id-18 div.sk-estimator:hover {background-color: #d4ebff;}#sk-container-id-18 div.sk-parallel-item::after {content: \"\";width: 100%;border-bottom: 1px solid gray;flex-grow: 1;}#sk-container-id-18 div.sk-label:hover label.sk-toggleable__label {background-color: #d4ebff;}#sk-container-id-18 div.sk-serial::before {content: \"\";position: absolute;border-left: 1px solid gray;box-sizing: border-box;top: 0;bottom: 0;left: 50%;z-index: 0;}#sk-container-id-18 div.sk-serial {display: flex;flex-direction: column;align-items: center;background-color: white;padding-right: 0.2em;padding-left: 0.2em;position: relative;}#sk-container-id-18 div.sk-item {position: relative;z-index: 1;}#sk-container-id-18 div.sk-parallel {display: flex;align-items: stretch;justify-content: center;background-color: white;position: relative;}#sk-container-id-18 div.sk-item::before, #sk-container-id-18 div.sk-parallel-item::before {content: \"\";position: absolute;border-left: 1px solid gray;box-sizing: border-box;top: 0;bottom: 0;left: 50%;z-index: -1;}#sk-container-id-18 div.sk-parallel-item {display: flex;flex-direction: column;z-index: 1;position: relative;background-color: white;}#sk-container-id-18 div.sk-parallel-item:first-child::after {align-self: flex-end;width: 50%;}#sk-container-id-18 div.sk-parallel-item:last-child::after {align-self: flex-start;width: 50%;}#sk-container-id-18 div.sk-parallel-item:only-child::after {width: 0;}#sk-container-id-18 div.sk-dashed-wrapped {border: 1px dashed gray;margin: 0 0.4em 0.5em 0.4em;box-sizing: border-box;padding-bottom: 0.4em;background-color: white;}#sk-container-id-18 div.sk-label label {font-family: monospace;font-weight: bold;display: inline-block;line-height: 1.2em;}#sk-container-id-18 div.sk-label-container {text-align: center;}#sk-container-id-18 div.sk-container {/* jupyter's `normalize.less` sets `[hidden] { display: none; }` but bootstrap.min.css set `[hidden] { display: none !important; }` so we also need the `!important` here to be able to override the default hidden behavior on the sphinx rendered scikit-learn.org. See: https://github.com/scikit-learn/scikit-learn/issues/21755 */display: inline-block !important;position: relative;}#sk-container-id-18 div.sk-text-repr-fallback {display: none;}</style><div id=\"sk-container-id-18\" class=\"sk-top-container\"><div class=\"sk-text-repr-fallback\"><pre>RandomizedSearchCV(cv=StratifiedKFold(n_splits=3, random_state=1234, shuffle=True),\n",
       "                   estimator=Pipeline(steps=[(&#x27;preprocessing&#x27;,\n",
       "                                              ColumnTransformer(sparse_threshold=0,\n",
       "                                                                transformers=[(&#x27;num&#x27;,\n",
       "                                                                               Pipeline(steps=[(&#x27;imputer&#x27;,\n",
       "                                                                                                SimpleImputer(strategy=&#x27;median&#x27;))]),\n",
       "                                                                               [&#x27;age&#x27;,\n",
       "                                                                                &#x27;fnlwgt&#x27;,\n",
       "                                                                                &#x27;capital_gain&#x27;,\n",
       "                                                                                &#x27;capital_loss&#x27;,\n",
       "                                                                                &#x27;hours_per_week&#x27;]),\n",
       "                                                                              (&#x27;one_hot_encoding&#x27;,\n",
       "                                                                               Pipeline(steps=[(&#x27;im...\n",
       "                   param_distributions={&#x27;model__learning_rate&#x27;: &lt;scipy.stats._distn_infrastructure.rv_continuous_frozen object at 0x00000212688E6680&gt;,\n",
       "                                        &#x27;model__max_iter&#x27;: &lt;scipy.stats._distn_infrastructure.rv_discrete_frozen object at 0x000002126836B190&gt;,\n",
       "                                        &#x27;model__min_samples_leaf&#x27;: &lt;scipy.stats._distn_infrastructure.rv_discrete_frozen object at 0x00000212688E7EE0&gt;},\n",
       "                   random_state=1234, scoring=&#x27;balanced_accuracy&#x27;)</pre><b>In a Jupyter environment, please rerun this cell to show the HTML representation or trust the notebook. <br />On GitHub, the HTML representation is unable to render, please try loading this page with nbviewer.org.</b></div><div class=\"sk-container\" hidden><div class=\"sk-item sk-dashed-wrapped\"><div class=\"sk-label-container\"><div class=\"sk-label sk-toggleable\"><input class=\"sk-toggleable__control sk-hidden--visually\" id=\"sk-estimator-id-166\" type=\"checkbox\" ><label for=\"sk-estimator-id-166\" class=\"sk-toggleable__label sk-toggleable__label-arrow\">RandomizedSearchCV</label><div class=\"sk-toggleable__content\"><pre>RandomizedSearchCV(cv=StratifiedKFold(n_splits=3, random_state=1234, shuffle=True),\n",
       "                   estimator=Pipeline(steps=[(&#x27;preprocessing&#x27;,\n",
       "                                              ColumnTransformer(sparse_threshold=0,\n",
       "                                                                transformers=[(&#x27;num&#x27;,\n",
       "                                                                               Pipeline(steps=[(&#x27;imputer&#x27;,\n",
       "                                                                                                SimpleImputer(strategy=&#x27;median&#x27;))]),\n",
       "                                                                               [&#x27;age&#x27;,\n",
       "                                                                                &#x27;fnlwgt&#x27;,\n",
       "                                                                                &#x27;capital_gain&#x27;,\n",
       "                                                                                &#x27;capital_loss&#x27;,\n",
       "                                                                                &#x27;hours_per_week&#x27;]),\n",
       "                                                                              (&#x27;one_hot_encoding&#x27;,\n",
       "                                                                               Pipeline(steps=[(&#x27;im...\n",
       "                   param_distributions={&#x27;model__learning_rate&#x27;: &lt;scipy.stats._distn_infrastructure.rv_continuous_frozen object at 0x00000212688E6680&gt;,\n",
       "                                        &#x27;model__max_iter&#x27;: &lt;scipy.stats._distn_infrastructure.rv_discrete_frozen object at 0x000002126836B190&gt;,\n",
       "                                        &#x27;model__min_samples_leaf&#x27;: &lt;scipy.stats._distn_infrastructure.rv_discrete_frozen object at 0x00000212688E7EE0&gt;},\n",
       "                   random_state=1234, scoring=&#x27;balanced_accuracy&#x27;)</pre></div></div></div><div class=\"sk-parallel\"><div class=\"sk-parallel-item\"><div class=\"sk-item\"><div class=\"sk-label-container\"><div class=\"sk-label sk-toggleable\"><input class=\"sk-toggleable__control sk-hidden--visually\" id=\"sk-estimator-id-167\" type=\"checkbox\" ><label for=\"sk-estimator-id-167\" class=\"sk-toggleable__label sk-toggleable__label-arrow\">estimator: Pipeline</label><div class=\"sk-toggleable__content\"><pre>Pipeline(steps=[(&#x27;preprocessing&#x27;,\n",
       "                 ColumnTransformer(sparse_threshold=0,\n",
       "                                   transformers=[(&#x27;num&#x27;,\n",
       "                                                  Pipeline(steps=[(&#x27;imputer&#x27;,\n",
       "                                                                   SimpleImputer(strategy=&#x27;median&#x27;))]),\n",
       "                                                  [&#x27;age&#x27;, &#x27;fnlwgt&#x27;,\n",
       "                                                   &#x27;capital_gain&#x27;,\n",
       "                                                   &#x27;capital_loss&#x27;,\n",
       "                                                   &#x27;hours_per_week&#x27;]),\n",
       "                                                 (&#x27;one_hot_encoding&#x27;,\n",
       "                                                  Pipeline(steps=[(&#x27;imputer&#x27;,\n",
       "                                                                   SimpleImputer(strategy=&#x27;most_frequent&#x27;)),\n",
       "                                                                  (&#x27;encoder&#x27;,\n",
       "                                                                   OneHotEncoder(drop=&#x27;first&#x27;,\n",
       "                                                                                 handl...\n",
       "                                                   &#x27;marital_status&#x27;,\n",
       "                                                   &#x27;relationship&#x27;, &#x27;race&#x27;,\n",
       "                                                   &#x27;sex&#x27;]),\n",
       "                                                 (&#x27;target_encoding&#x27;,\n",
       "                                                  Pipeline(steps=[(&#x27;imputer&#x27;,\n",
       "                                                                   SimpleImputer(strategy=&#x27;most_frequent&#x27;)),\n",
       "                                                                  (&#x27;encoder&#x27;,\n",
       "                                                                   TargetEncoder())]),\n",
       "                                                  [&#x27;education&#x27;, &#x27;occupation&#x27;,\n",
       "                                                   &#x27;native_country&#x27;])])),\n",
       "                (&#x27;model&#x27;,\n",
       "                 HistGradientBoostingClassifier(class_weight=&#x27;balanced&#x27;,\n",
       "                                                early_stopping=False,\n",
       "                                                min_samples_leaf=30,\n",
       "                                                random_state=1234,\n",
       "                                                scoring=&#x27;balanced_accuracy&#x27;))])</pre></div></div></div><div class=\"sk-serial\"><div class=\"sk-item\"><div class=\"sk-serial\"><div class=\"sk-item sk-dashed-wrapped\"><div class=\"sk-label-container\"><div class=\"sk-label sk-toggleable\"><input class=\"sk-toggleable__control sk-hidden--visually\" id=\"sk-estimator-id-168\" type=\"checkbox\" ><label for=\"sk-estimator-id-168\" class=\"sk-toggleable__label sk-toggleable__label-arrow\">preprocessing: ColumnTransformer</label><div class=\"sk-toggleable__content\"><pre>ColumnTransformer(sparse_threshold=0,\n",
       "                  transformers=[(&#x27;num&#x27;,\n",
       "                                 Pipeline(steps=[(&#x27;imputer&#x27;,\n",
       "                                                  SimpleImputer(strategy=&#x27;median&#x27;))]),\n",
       "                                 [&#x27;age&#x27;, &#x27;fnlwgt&#x27;, &#x27;capital_gain&#x27;,\n",
       "                                  &#x27;capital_loss&#x27;, &#x27;hours_per_week&#x27;]),\n",
       "                                (&#x27;one_hot_encoding&#x27;,\n",
       "                                 Pipeline(steps=[(&#x27;imputer&#x27;,\n",
       "                                                  SimpleImputer(strategy=&#x27;most_frequent&#x27;)),\n",
       "                                                 (&#x27;encoder&#x27;,\n",
       "                                                  OneHotEncoder(drop=&#x27;first&#x27;,\n",
       "                                                                handle_unknown=&#x27;ignore&#x27;))]),\n",
       "                                 [&#x27;workclass&#x27;, &#x27;marital_status&#x27;, &#x27;relationship&#x27;,\n",
       "                                  &#x27;race&#x27;, &#x27;sex&#x27;]),\n",
       "                                (&#x27;target_encoding&#x27;,\n",
       "                                 Pipeline(steps=[(&#x27;imputer&#x27;,\n",
       "                                                  SimpleImputer(strategy=&#x27;most_frequent&#x27;)),\n",
       "                                                 (&#x27;encoder&#x27;, TargetEncoder())]),\n",
       "                                 [&#x27;education&#x27;, &#x27;occupation&#x27;,\n",
       "                                  &#x27;native_country&#x27;])])</pre></div></div></div><div class=\"sk-parallel\"><div class=\"sk-parallel-item\"><div class=\"sk-item\"><div class=\"sk-label-container\"><div class=\"sk-label sk-toggleable\"><input class=\"sk-toggleable__control sk-hidden--visually\" id=\"sk-estimator-id-169\" type=\"checkbox\" ><label for=\"sk-estimator-id-169\" class=\"sk-toggleable__label sk-toggleable__label-arrow\">num</label><div class=\"sk-toggleable__content\"><pre>[&#x27;age&#x27;, &#x27;fnlwgt&#x27;, &#x27;capital_gain&#x27;, &#x27;capital_loss&#x27;, &#x27;hours_per_week&#x27;]</pre></div></div></div><div class=\"sk-serial\"><div class=\"sk-item\"><div class=\"sk-serial\"><div class=\"sk-item\"><div class=\"sk-estimator sk-toggleable\"><input class=\"sk-toggleable__control sk-hidden--visually\" id=\"sk-estimator-id-170\" type=\"checkbox\" ><label for=\"sk-estimator-id-170\" class=\"sk-toggleable__label sk-toggleable__label-arrow\">SimpleImputer</label><div class=\"sk-toggleable__content\"><pre>SimpleImputer(strategy=&#x27;median&#x27;)</pre></div></div></div></div></div></div></div></div><div class=\"sk-parallel-item\"><div class=\"sk-item\"><div class=\"sk-label-container\"><div class=\"sk-label sk-toggleable\"><input class=\"sk-toggleable__control sk-hidden--visually\" id=\"sk-estimator-id-171\" type=\"checkbox\" ><label for=\"sk-estimator-id-171\" class=\"sk-toggleable__label sk-toggleable__label-arrow\">one_hot_encoding</label><div class=\"sk-toggleable__content\"><pre>[&#x27;workclass&#x27;, &#x27;marital_status&#x27;, &#x27;relationship&#x27;, &#x27;race&#x27;, &#x27;sex&#x27;]</pre></div></div></div><div class=\"sk-serial\"><div class=\"sk-item\"><div class=\"sk-serial\"><div class=\"sk-item\"><div class=\"sk-estimator sk-toggleable\"><input class=\"sk-toggleable__control sk-hidden--visually\" id=\"sk-estimator-id-172\" type=\"checkbox\" ><label for=\"sk-estimator-id-172\" class=\"sk-toggleable__label sk-toggleable__label-arrow\">SimpleImputer</label><div class=\"sk-toggleable__content\"><pre>SimpleImputer(strategy=&#x27;most_frequent&#x27;)</pre></div></div></div><div class=\"sk-item\"><div class=\"sk-estimator sk-toggleable\"><input class=\"sk-toggleable__control sk-hidden--visually\" id=\"sk-estimator-id-173\" type=\"checkbox\" ><label for=\"sk-estimator-id-173\" class=\"sk-toggleable__label sk-toggleable__label-arrow\">OneHotEncoder</label><div class=\"sk-toggleable__content\"><pre>OneHotEncoder(drop=&#x27;first&#x27;, handle_unknown=&#x27;ignore&#x27;)</pre></div></div></div></div></div></div></div></div><div class=\"sk-parallel-item\"><div class=\"sk-item\"><div class=\"sk-label-container\"><div class=\"sk-label sk-toggleable\"><input class=\"sk-toggleable__control sk-hidden--visually\" id=\"sk-estimator-id-174\" type=\"checkbox\" ><label for=\"sk-estimator-id-174\" class=\"sk-toggleable__label sk-toggleable__label-arrow\">target_encoding</label><div class=\"sk-toggleable__content\"><pre>[&#x27;education&#x27;, &#x27;occupation&#x27;, &#x27;native_country&#x27;]</pre></div></div></div><div class=\"sk-serial\"><div class=\"sk-item\"><div class=\"sk-serial\"><div class=\"sk-item\"><div class=\"sk-estimator sk-toggleable\"><input class=\"sk-toggleable__control sk-hidden--visually\" id=\"sk-estimator-id-175\" type=\"checkbox\" ><label for=\"sk-estimator-id-175\" class=\"sk-toggleable__label sk-toggleable__label-arrow\">SimpleImputer</label><div class=\"sk-toggleable__content\"><pre>SimpleImputer(strategy=&#x27;most_frequent&#x27;)</pre></div></div></div><div class=\"sk-item\"><div class=\"sk-estimator sk-toggleable\"><input class=\"sk-toggleable__control sk-hidden--visually\" id=\"sk-estimator-id-176\" type=\"checkbox\" ><label for=\"sk-estimator-id-176\" class=\"sk-toggleable__label sk-toggleable__label-arrow\">TargetEncoder</label><div class=\"sk-toggleable__content\"><pre>TargetEncoder()</pre></div></div></div></div></div></div></div></div></div></div><div class=\"sk-item\"><div class=\"sk-estimator sk-toggleable\"><input class=\"sk-toggleable__control sk-hidden--visually\" id=\"sk-estimator-id-177\" type=\"checkbox\" ><label for=\"sk-estimator-id-177\" class=\"sk-toggleable__label sk-toggleable__label-arrow\">HistGradientBoostingClassifier</label><div class=\"sk-toggleable__content\"><pre>HistGradientBoostingClassifier(class_weight=&#x27;balanced&#x27;, early_stopping=False,\n",
       "                               min_samples_leaf=30, random_state=1234,\n",
       "                               scoring=&#x27;balanced_accuracy&#x27;)</pre></div></div></div></div></div></div></div></div></div></div></div></div>"
      ],
      "text/plain": [
       "RandomizedSearchCV(cv=StratifiedKFold(n_splits=3, random_state=1234, shuffle=True),\n",
       "                   estimator=Pipeline(steps=[('preprocessing',\n",
       "                                              ColumnTransformer(sparse_threshold=0,\n",
       "                                                                transformers=[('num',\n",
       "                                                                               Pipeline(steps=[('imputer',\n",
       "                                                                                                SimpleImputer(strategy='median'))]),\n",
       "                                                                               ['age',\n",
       "                                                                                'fnlwgt',\n",
       "                                                                                'capital_gain',\n",
       "                                                                                'capital_loss',\n",
       "                                                                                'hours_per_week']),\n",
       "                                                                              ('one_hot_encoding',\n",
       "                                                                               Pipeline(steps=[('im...\n",
       "                   param_distributions={'model__learning_rate': <scipy.stats._distn_infrastructure.rv_continuous_frozen object at 0x00000212688E6680>,\n",
       "                                        'model__max_iter': <scipy.stats._distn_infrastructure.rv_discrete_frozen object at 0x000002126836B190>,\n",
       "                                        'model__min_samples_leaf': <scipy.stats._distn_infrastructure.rv_discrete_frozen object at 0x00000212688E7EE0>},\n",
       "                   random_state=1234, scoring='balanced_accuracy')"
      ]
     },
     "execution_count": 100,
     "metadata": {},
     "output_type": "execute_result"
    }
   ],
   "source": [
    "# Display pipeline\n",
    "print(\"Time taken: \", target_hgb_tune9_time_taken)\n",
    "target_hgb_tune9"
   ]
  },
  {
   "cell_type": "code",
   "execution_count": 101,
   "id": "a0a522f3",
   "metadata": {
    "scrolled": true
   },
   "outputs": [
    {
     "name": "stdout",
     "output_type": "stream",
     "text": [
      "Best parameters: {'model__learning_rate': 0.02713469142665797, 'model__max_iter': 284, 'model__min_samples_leaf': 22}\n",
      "Balanced accuracy with best parameters: 0.8416805282783327\n"
     ]
    }
   ],
   "source": [
    "# Predict using the model with the best parameters\n",
    "y_target_hgb_tune_pred = target_hgb_tune.predict(X_test)\n",
    "\n",
    "# Get the best parameters\n",
    "target_hgb_tune_best_params = target_hgb_tune.best_params_\n",
    "print(f'Best parameters: {target_hgb_tune_best_params}')\n",
    "\n",
    "# Calculate balanced accuracy for the model with the best parameters\n",
    "target_hgb_tune_accuracy = balanced_accuracy_score(y_test, y_target_hgb_tune_pred)\n",
    "print(f'Balanced accuracy with best parameters: {target_hgb_tune_accuracy}')\n",
    "\n",
    "# Save results\n",
    "default_summary.append(\"Tune\")\n",
    "card_9_summary.append(\"AllVariables\")\n",
    "encoder_summary.append(\"TargetEncoder\")\n",
    "value_summary.append(target_hgb_tune_accuracy)\n",
    "time_summary.append(target_hgb_tune_time_taken)\n",
    "n_models_summary.append(target_hgb_tune.n_iter)"
   ]
  },
  {
   "cell_type": "code",
   "execution_count": 102,
   "id": "2c354c7b",
   "metadata": {},
   "outputs": [
    {
     "name": "stdout",
     "output_type": "stream",
     "text": [
      "Best parameters: {'model__learning_rate': 0.07469021889651874, 'model__max_iter': 73, 'model__min_samples_leaf': 27}\n",
      "Balanced accuracy with best parameters: 0.8399690915822584\n"
     ]
    }
   ],
   "source": [
    "# Predict using the model with the best parameters\n",
    "y_target_hgb_tune_pred9 = target_hgb_tune9.predict(X_test)\n",
    "\n",
    "# Get the best parameters\n",
    "target_hgb_tune_best_params9 = target_hgb_tune9.best_params_\n",
    "print(f'Best parameters: {target_hgb_tune_best_params9}')\n",
    "\n",
    "# Calculate balanced accuracy for the model with the best parameters\n",
    "target_hgb_tune_accuracy9 = balanced_accuracy_score(y_test, y_target_hgb_tune_pred9)\n",
    "print(f'Balanced accuracy with best parameters: {target_hgb_tune_accuracy9}')\n",
    "\n",
    "# Save results\n",
    "default_summary.append(\"Tune\")\n",
    "card_9_summary.append(\"OnlyVariablesWithCard>9\")\n",
    "encoder_summary.append(\"TargetEncoder\")\n",
    "value_summary.append(target_hgb_tune_accuracy9)\n",
    "time_summary.append(target_hgb_tune9_time_taken)\n",
    "n_models_summary.append(target_hgb_tune9.n_iter)"
   ]
  },
  {
   "cell_type": "markdown",
   "metadata": {},
   "source": []
  },
  {
   "cell_type": "markdown",
   "metadata": {},
   "source": []
  },
  {
   "cell_type": "markdown",
   "metadata": {},
   "source": [
    "### CatBoost"
   ]
  },
  {
   "cell_type": "code",
   "execution_count": 103,
   "metadata": {},
   "outputs": [],
   "source": [
    "from catboost import CatBoostClassifier"
   ]
  },
  {
   "cell_type": "markdown",
   "metadata": {},
   "source": [
    "#### Preprocessing"
   ]
  },
  {
   "cell_type": "code",
   "execution_count": 104,
   "metadata": {},
   "outputs": [],
   "source": [
    "cat_pipeline = Pipeline([\n",
    "    (\"imputer\", SimpleImputer(strategy = \"most_frequent\"))\n",
    "])\n",
    "\n",
    "preprop_pipeline = ColumnTransformer(\n",
    "    transformers = [(\"num\", num_pipeline, num_cols),\n",
    "                    (\"cat_less9\", cat_pipeline, cat_cols_less9),\n",
    "                    (\"cat_more9\", cat_pipeline, cat_cols_more9)],\n",
    "    sparse_threshold=0\n",
    ")"
   ]
  },
  {
   "cell_type": "code",
   "execution_count": 105,
   "metadata": {},
   "outputs": [
    {
     "name": "stdout",
     "output_type": "stream",
     "text": [
      "[5, 6, 7, 8, 9, 10, 11, 12]\n",
      "[10, 11, 12]\n"
     ]
    }
   ],
   "source": [
    "category_features_for_catboostsupport = [index for index in range(len(num_cols), len(num_cols) + len(cat_cols))]\n",
    "category_features_for_catboostsupport9 = [index for index in range(len(num_cols) + len(cat_cols_less9), len(num_cols) + len(cat_cols))]\n",
    "print(category_features_for_catboostsupport)\n",
    "print(category_features_for_catboostsupport9)"
   ]
  },
  {
   "cell_type": "markdown",
   "metadata": {},
   "source": []
  },
  {
   "cell_type": "markdown",
   "id": "a61c0209",
   "metadata": {},
   "source": []
  },
  {
   "cell_type": "markdown",
   "metadata": {},
   "source": [
    "Catboost allows to give a maximum value of unique categories for which a variable is encoded or not by One-Hot-Encoder."
   ]
  },
  {
   "cell_type": "code",
   "execution_count": 106,
   "metadata": {},
   "outputs": [],
   "source": [
    "# Create catboost models\n",
    "catboost_default_raw = CatBoostClassifier(iterations=100,\n",
    "                                          eval_metric = 'BalancedAccuracy',\n",
    "                                          loss_function = 'Logloss',\n",
    "                                          auto_class_weights = 'Balanced',\n",
    "                                          od_type='Iter',\n",
    "                                          one_hot_max_size = 0,\n",
    "                                          random_seed = 1234,\n",
    "                                          min_data_in_leaf = 30,\n",
    "                                          cat_features=category_features_for_catboostsupport,\n",
    "                                          verbose = False)\n",
    "\n",
    "catboost_default9_raw = CatBoostClassifier(iterations=100,\n",
    "                                           eval_metric = 'BalancedAccuracy',\n",
    "                                           loss_function = 'Logloss',\n",
    "                                           auto_class_weights = 'Balanced',\n",
    "                                           od_type='Iter',\n",
    "                                           one_hot_max_size = 9,\n",
    "                                           random_seed = 1234,\n",
    "                                           min_data_in_leaf = 30,\n",
    "                                           cat_features=category_features_for_catboostsupport9,\n",
    "                                           verbose = False)\n",
    "\n",
    "# Default CatBoostClassifier Pipeline\n",
    "catboost_default_pipeline = Pipeline([('preprocessing', preprop_pipeline),\n",
    "                                        ('model', catboost_default_raw)])\n",
    "\n",
    "catboost_default_pipeline9 = Pipeline([('preprocessing', preprop_pipeline),\n",
    "                                         ('model', catboost_default9_raw)])\n",
    "\n",
    "# Define the hyperparameter search space\n",
    "catboost_param_distributions = {\n",
    "    'model__iterations': scipy.stats.randint(10, 300),\n",
    "    'model__learning_rate': scipy.stats.uniform(0.01, 0.3),\n",
    "    'model__min_data_in_leaf': scipy.stats.randint(10, 50),\n",
    "}\n",
    "\n",
    "# Create a StratifiedKFold cross-validation instance\n",
    "stratified_kfold = StratifiedKFold(n_splits=3, shuffle=True, random_state=1234)\n",
    "\n",
    "catboost_tune_raw = RandomizedSearchCV(estimator = catboost_default_pipeline, \n",
    "                                   param_distributions = catboost_param_distributions, \n",
    "                                   n_iter = 100,\n",
    "                                   cv = stratified_kfold,\n",
    "                                   scoring = 'balanced_accuracy', \n",
    "                                   random_state = 1234,\n",
    "                                   n_jobs = -1)\n",
    "\n",
    "\n",
    "catboost_tune9_raw = RandomizedSearchCV(estimator = catboost_default_pipeline, \n",
    "                                        param_distributions = catboost_param_distributions, \n",
    "                                        n_iter = 100,\n",
    "                                        cv = stratified_kfold,\n",
    "                                        scoring = 'balanced_accuracy', \n",
    "                                        random_state = 1234,\n",
    "                                        n_jobs = -1)"
   ]
  },
  {
   "cell_type": "code",
   "execution_count": 107,
   "metadata": {},
   "outputs": [],
   "source": [
    "tic = time.time()\n",
    "\n",
    "catboost_default = catboost_default_pipeline.fit(X_train, y_train)\n",
    "\n",
    "toc = time.time()\n",
    "catboost_default_time_taken = toc-tic"
   ]
  },
  {
   "cell_type": "code",
   "execution_count": 108,
   "metadata": {},
   "outputs": [
    {
     "name": "stdout",
     "output_type": "stream",
     "text": [
      "Time taken:  4.319483518600464\n"
     ]
    },
    {
     "data": {
      "text/html": [
       "<style>#sk-container-id-19 {color: black;}#sk-container-id-19 pre{padding: 0;}#sk-container-id-19 div.sk-toggleable {background-color: white;}#sk-container-id-19 label.sk-toggleable__label {cursor: pointer;display: block;width: 100%;margin-bottom: 0;padding: 0.3em;box-sizing: border-box;text-align: center;}#sk-container-id-19 label.sk-toggleable__label-arrow:before {content: \"▸\";float: left;margin-right: 0.25em;color: #696969;}#sk-container-id-19 label.sk-toggleable__label-arrow:hover:before {color: black;}#sk-container-id-19 div.sk-estimator:hover label.sk-toggleable__label-arrow:before {color: black;}#sk-container-id-19 div.sk-toggleable__content {max-height: 0;max-width: 0;overflow: hidden;text-align: left;background-color: #f0f8ff;}#sk-container-id-19 div.sk-toggleable__content pre {margin: 0.2em;color: black;border-radius: 0.25em;background-color: #f0f8ff;}#sk-container-id-19 input.sk-toggleable__control:checked~div.sk-toggleable__content {max-height: 200px;max-width: 100%;overflow: auto;}#sk-container-id-19 input.sk-toggleable__control:checked~label.sk-toggleable__label-arrow:before {content: \"▾\";}#sk-container-id-19 div.sk-estimator input.sk-toggleable__control:checked~label.sk-toggleable__label {background-color: #d4ebff;}#sk-container-id-19 div.sk-label input.sk-toggleable__control:checked~label.sk-toggleable__label {background-color: #d4ebff;}#sk-container-id-19 input.sk-hidden--visually {border: 0;clip: rect(1px 1px 1px 1px);clip: rect(1px, 1px, 1px, 1px);height: 1px;margin: -1px;overflow: hidden;padding: 0;position: absolute;width: 1px;}#sk-container-id-19 div.sk-estimator {font-family: monospace;background-color: #f0f8ff;border: 1px dotted black;border-radius: 0.25em;box-sizing: border-box;margin-bottom: 0.5em;}#sk-container-id-19 div.sk-estimator:hover {background-color: #d4ebff;}#sk-container-id-19 div.sk-parallel-item::after {content: \"\";width: 100%;border-bottom: 1px solid gray;flex-grow: 1;}#sk-container-id-19 div.sk-label:hover label.sk-toggleable__label {background-color: #d4ebff;}#sk-container-id-19 div.sk-serial::before {content: \"\";position: absolute;border-left: 1px solid gray;box-sizing: border-box;top: 0;bottom: 0;left: 50%;z-index: 0;}#sk-container-id-19 div.sk-serial {display: flex;flex-direction: column;align-items: center;background-color: white;padding-right: 0.2em;padding-left: 0.2em;position: relative;}#sk-container-id-19 div.sk-item {position: relative;z-index: 1;}#sk-container-id-19 div.sk-parallel {display: flex;align-items: stretch;justify-content: center;background-color: white;position: relative;}#sk-container-id-19 div.sk-item::before, #sk-container-id-19 div.sk-parallel-item::before {content: \"\";position: absolute;border-left: 1px solid gray;box-sizing: border-box;top: 0;bottom: 0;left: 50%;z-index: -1;}#sk-container-id-19 div.sk-parallel-item {display: flex;flex-direction: column;z-index: 1;position: relative;background-color: white;}#sk-container-id-19 div.sk-parallel-item:first-child::after {align-self: flex-end;width: 50%;}#sk-container-id-19 div.sk-parallel-item:last-child::after {align-self: flex-start;width: 50%;}#sk-container-id-19 div.sk-parallel-item:only-child::after {width: 0;}#sk-container-id-19 div.sk-dashed-wrapped {border: 1px dashed gray;margin: 0 0.4em 0.5em 0.4em;box-sizing: border-box;padding-bottom: 0.4em;background-color: white;}#sk-container-id-19 div.sk-label label {font-family: monospace;font-weight: bold;display: inline-block;line-height: 1.2em;}#sk-container-id-19 div.sk-label-container {text-align: center;}#sk-container-id-19 div.sk-container {/* jupyter's `normalize.less` sets `[hidden] { display: none; }` but bootstrap.min.css set `[hidden] { display: none !important; }` so we also need the `!important` here to be able to override the default hidden behavior on the sphinx rendered scikit-learn.org. See: https://github.com/scikit-learn/scikit-learn/issues/21755 */display: inline-block !important;position: relative;}#sk-container-id-19 div.sk-text-repr-fallback {display: none;}</style><div id=\"sk-container-id-19\" class=\"sk-top-container\"><div class=\"sk-text-repr-fallback\"><pre>Pipeline(steps=[(&#x27;preprocessing&#x27;,\n",
       "                 ColumnTransformer(sparse_threshold=0,\n",
       "                                   transformers=[(&#x27;num&#x27;,\n",
       "                                                  Pipeline(steps=[(&#x27;imputer&#x27;,\n",
       "                                                                   SimpleImputer(strategy=&#x27;median&#x27;))]),\n",
       "                                                  [&#x27;age&#x27;, &#x27;fnlwgt&#x27;,\n",
       "                                                   &#x27;capital_gain&#x27;,\n",
       "                                                   &#x27;capital_loss&#x27;,\n",
       "                                                   &#x27;hours_per_week&#x27;]),\n",
       "                                                 (&#x27;cat_less9&#x27;,\n",
       "                                                  Pipeline(steps=[(&#x27;imputer&#x27;,\n",
       "                                                                   SimpleImputer(strategy=&#x27;most_frequent&#x27;))]),\n",
       "                                                  [&#x27;workclass&#x27;,\n",
       "                                                   &#x27;marital_status&#x27;,\n",
       "                                                   &#x27;relationship&#x27;, &#x27;race&#x27;,\n",
       "                                                   &#x27;sex&#x27;]),\n",
       "                                                 (&#x27;cat_more9&#x27;,\n",
       "                                                  Pipeline(steps=[(&#x27;imputer&#x27;,\n",
       "                                                                   SimpleImputer(strategy=&#x27;most_frequent&#x27;))]),\n",
       "                                                  [&#x27;education&#x27;, &#x27;occupation&#x27;,\n",
       "                                                   &#x27;native_country&#x27;])])),\n",
       "                (&#x27;model&#x27;,\n",
       "                 &lt;catboost.core.CatBoostClassifier object at 0x000002126A0E36A0&gt;)])</pre><b>In a Jupyter environment, please rerun this cell to show the HTML representation or trust the notebook. <br />On GitHub, the HTML representation is unable to render, please try loading this page with nbviewer.org.</b></div><div class=\"sk-container\" hidden><div class=\"sk-item sk-dashed-wrapped\"><div class=\"sk-label-container\"><div class=\"sk-label sk-toggleable\"><input class=\"sk-toggleable__control sk-hidden--visually\" id=\"sk-estimator-id-178\" type=\"checkbox\" ><label for=\"sk-estimator-id-178\" class=\"sk-toggleable__label sk-toggleable__label-arrow\">Pipeline</label><div class=\"sk-toggleable__content\"><pre>Pipeline(steps=[(&#x27;preprocessing&#x27;,\n",
       "                 ColumnTransformer(sparse_threshold=0,\n",
       "                                   transformers=[(&#x27;num&#x27;,\n",
       "                                                  Pipeline(steps=[(&#x27;imputer&#x27;,\n",
       "                                                                   SimpleImputer(strategy=&#x27;median&#x27;))]),\n",
       "                                                  [&#x27;age&#x27;, &#x27;fnlwgt&#x27;,\n",
       "                                                   &#x27;capital_gain&#x27;,\n",
       "                                                   &#x27;capital_loss&#x27;,\n",
       "                                                   &#x27;hours_per_week&#x27;]),\n",
       "                                                 (&#x27;cat_less9&#x27;,\n",
       "                                                  Pipeline(steps=[(&#x27;imputer&#x27;,\n",
       "                                                                   SimpleImputer(strategy=&#x27;most_frequent&#x27;))]),\n",
       "                                                  [&#x27;workclass&#x27;,\n",
       "                                                   &#x27;marital_status&#x27;,\n",
       "                                                   &#x27;relationship&#x27;, &#x27;race&#x27;,\n",
       "                                                   &#x27;sex&#x27;]),\n",
       "                                                 (&#x27;cat_more9&#x27;,\n",
       "                                                  Pipeline(steps=[(&#x27;imputer&#x27;,\n",
       "                                                                   SimpleImputer(strategy=&#x27;most_frequent&#x27;))]),\n",
       "                                                  [&#x27;education&#x27;, &#x27;occupation&#x27;,\n",
       "                                                   &#x27;native_country&#x27;])])),\n",
       "                (&#x27;model&#x27;,\n",
       "                 &lt;catboost.core.CatBoostClassifier object at 0x000002126A0E36A0&gt;)])</pre></div></div></div><div class=\"sk-serial\"><div class=\"sk-item sk-dashed-wrapped\"><div class=\"sk-label-container\"><div class=\"sk-label sk-toggleable\"><input class=\"sk-toggleable__control sk-hidden--visually\" id=\"sk-estimator-id-179\" type=\"checkbox\" ><label for=\"sk-estimator-id-179\" class=\"sk-toggleable__label sk-toggleable__label-arrow\">preprocessing: ColumnTransformer</label><div class=\"sk-toggleable__content\"><pre>ColumnTransformer(sparse_threshold=0,\n",
       "                  transformers=[(&#x27;num&#x27;,\n",
       "                                 Pipeline(steps=[(&#x27;imputer&#x27;,\n",
       "                                                  SimpleImputer(strategy=&#x27;median&#x27;))]),\n",
       "                                 [&#x27;age&#x27;, &#x27;fnlwgt&#x27;, &#x27;capital_gain&#x27;,\n",
       "                                  &#x27;capital_loss&#x27;, &#x27;hours_per_week&#x27;]),\n",
       "                                (&#x27;cat_less9&#x27;,\n",
       "                                 Pipeline(steps=[(&#x27;imputer&#x27;,\n",
       "                                                  SimpleImputer(strategy=&#x27;most_frequent&#x27;))]),\n",
       "                                 [&#x27;workclass&#x27;, &#x27;marital_status&#x27;, &#x27;relationship&#x27;,\n",
       "                                  &#x27;race&#x27;, &#x27;sex&#x27;]),\n",
       "                                (&#x27;cat_more9&#x27;,\n",
       "                                 Pipeline(steps=[(&#x27;imputer&#x27;,\n",
       "                                                  SimpleImputer(strategy=&#x27;most_frequent&#x27;))]),\n",
       "                                 [&#x27;education&#x27;, &#x27;occupation&#x27;,\n",
       "                                  &#x27;native_country&#x27;])])</pre></div></div></div><div class=\"sk-parallel\"><div class=\"sk-parallel-item\"><div class=\"sk-item\"><div class=\"sk-label-container\"><div class=\"sk-label sk-toggleable\"><input class=\"sk-toggleable__control sk-hidden--visually\" id=\"sk-estimator-id-180\" type=\"checkbox\" ><label for=\"sk-estimator-id-180\" class=\"sk-toggleable__label sk-toggleable__label-arrow\">num</label><div class=\"sk-toggleable__content\"><pre>[&#x27;age&#x27;, &#x27;fnlwgt&#x27;, &#x27;capital_gain&#x27;, &#x27;capital_loss&#x27;, &#x27;hours_per_week&#x27;]</pre></div></div></div><div class=\"sk-serial\"><div class=\"sk-item\"><div class=\"sk-serial\"><div class=\"sk-item\"><div class=\"sk-estimator sk-toggleable\"><input class=\"sk-toggleable__control sk-hidden--visually\" id=\"sk-estimator-id-181\" type=\"checkbox\" ><label for=\"sk-estimator-id-181\" class=\"sk-toggleable__label sk-toggleable__label-arrow\">SimpleImputer</label><div class=\"sk-toggleable__content\"><pre>SimpleImputer(strategy=&#x27;median&#x27;)</pre></div></div></div></div></div></div></div></div><div class=\"sk-parallel-item\"><div class=\"sk-item\"><div class=\"sk-label-container\"><div class=\"sk-label sk-toggleable\"><input class=\"sk-toggleable__control sk-hidden--visually\" id=\"sk-estimator-id-182\" type=\"checkbox\" ><label for=\"sk-estimator-id-182\" class=\"sk-toggleable__label sk-toggleable__label-arrow\">cat_less9</label><div class=\"sk-toggleable__content\"><pre>[&#x27;workclass&#x27;, &#x27;marital_status&#x27;, &#x27;relationship&#x27;, &#x27;race&#x27;, &#x27;sex&#x27;]</pre></div></div></div><div class=\"sk-serial\"><div class=\"sk-item\"><div class=\"sk-serial\"><div class=\"sk-item\"><div class=\"sk-estimator sk-toggleable\"><input class=\"sk-toggleable__control sk-hidden--visually\" id=\"sk-estimator-id-183\" type=\"checkbox\" ><label for=\"sk-estimator-id-183\" class=\"sk-toggleable__label sk-toggleable__label-arrow\">SimpleImputer</label><div class=\"sk-toggleable__content\"><pre>SimpleImputer(strategy=&#x27;most_frequent&#x27;)</pre></div></div></div></div></div></div></div></div><div class=\"sk-parallel-item\"><div class=\"sk-item\"><div class=\"sk-label-container\"><div class=\"sk-label sk-toggleable\"><input class=\"sk-toggleable__control sk-hidden--visually\" id=\"sk-estimator-id-184\" type=\"checkbox\" ><label for=\"sk-estimator-id-184\" class=\"sk-toggleable__label sk-toggleable__label-arrow\">cat_more9</label><div class=\"sk-toggleable__content\"><pre>[&#x27;education&#x27;, &#x27;occupation&#x27;, &#x27;native_country&#x27;]</pre></div></div></div><div class=\"sk-serial\"><div class=\"sk-item\"><div class=\"sk-serial\"><div class=\"sk-item\"><div class=\"sk-estimator sk-toggleable\"><input class=\"sk-toggleable__control sk-hidden--visually\" id=\"sk-estimator-id-185\" type=\"checkbox\" ><label for=\"sk-estimator-id-185\" class=\"sk-toggleable__label sk-toggleable__label-arrow\">SimpleImputer</label><div class=\"sk-toggleable__content\"><pre>SimpleImputer(strategy=&#x27;most_frequent&#x27;)</pre></div></div></div></div></div></div></div></div></div></div><div class=\"sk-item\"><div class=\"sk-estimator sk-toggleable\"><input class=\"sk-toggleable__control sk-hidden--visually\" id=\"sk-estimator-id-186\" type=\"checkbox\" ><label for=\"sk-estimator-id-186\" class=\"sk-toggleable__label sk-toggleable__label-arrow\">CatBoostClassifier</label><div class=\"sk-toggleable__content\"><pre>&lt;catboost.core.CatBoostClassifier object at 0x000002126A0E36A0&gt;</pre></div></div></div></div></div></div></div>"
      ],
      "text/plain": [
       "Pipeline(steps=[('preprocessing',\n",
       "                 ColumnTransformer(sparse_threshold=0,\n",
       "                                   transformers=[('num',\n",
       "                                                  Pipeline(steps=[('imputer',\n",
       "                                                                   SimpleImputer(strategy='median'))]),\n",
       "                                                  ['age', 'fnlwgt',\n",
       "                                                   'capital_gain',\n",
       "                                                   'capital_loss',\n",
       "                                                   'hours_per_week']),\n",
       "                                                 ('cat_less9',\n",
       "                                                  Pipeline(steps=[('imputer',\n",
       "                                                                   SimpleImputer(strategy='most_frequent'))]),\n",
       "                                                  ['workclass',\n",
       "                                                   'marital_status',\n",
       "                                                   'relationship', 'race',\n",
       "                                                   'sex']),\n",
       "                                                 ('cat_more9',\n",
       "                                                  Pipeline(steps=[('imputer',\n",
       "                                                                   SimpleImputer(strategy='most_frequent'))]),\n",
       "                                                  ['education', 'occupation',\n",
       "                                                   'native_country'])])),\n",
       "                ('model',\n",
       "                 <catboost.core.CatBoostClassifier object at 0x000002126A0E36A0>)])"
      ]
     },
     "execution_count": 108,
     "metadata": {},
     "output_type": "execute_result"
    }
   ],
   "source": [
    "# Display pipeline\n",
    "print(\"Time taken: \", catboost_default_time_taken)\n",
    "catboost_default"
   ]
  },
  {
   "cell_type": "code",
   "execution_count": 109,
   "metadata": {},
   "outputs": [],
   "source": [
    "tic = time.time()\n",
    "\n",
    "catboost_default9 = catboost_default_pipeline.fit(X_train, y_train)\n",
    "\n",
    "toc = time.time()\n",
    "catboost_default_time_taken9 = toc-tic"
   ]
  },
  {
   "cell_type": "code",
   "execution_count": 110,
   "metadata": {},
   "outputs": [
    {
     "name": "stdout",
     "output_type": "stream",
     "text": [
      "Time taken:  4.061890602111816\n"
     ]
    },
    {
     "data": {
      "text/html": [
       "<style>#sk-container-id-20 {color: black;}#sk-container-id-20 pre{padding: 0;}#sk-container-id-20 div.sk-toggleable {background-color: white;}#sk-container-id-20 label.sk-toggleable__label {cursor: pointer;display: block;width: 100%;margin-bottom: 0;padding: 0.3em;box-sizing: border-box;text-align: center;}#sk-container-id-20 label.sk-toggleable__label-arrow:before {content: \"▸\";float: left;margin-right: 0.25em;color: #696969;}#sk-container-id-20 label.sk-toggleable__label-arrow:hover:before {color: black;}#sk-container-id-20 div.sk-estimator:hover label.sk-toggleable__label-arrow:before {color: black;}#sk-container-id-20 div.sk-toggleable__content {max-height: 0;max-width: 0;overflow: hidden;text-align: left;background-color: #f0f8ff;}#sk-container-id-20 div.sk-toggleable__content pre {margin: 0.2em;color: black;border-radius: 0.25em;background-color: #f0f8ff;}#sk-container-id-20 input.sk-toggleable__control:checked~div.sk-toggleable__content {max-height: 200px;max-width: 100%;overflow: auto;}#sk-container-id-20 input.sk-toggleable__control:checked~label.sk-toggleable__label-arrow:before {content: \"▾\";}#sk-container-id-20 div.sk-estimator input.sk-toggleable__control:checked~label.sk-toggleable__label {background-color: #d4ebff;}#sk-container-id-20 div.sk-label input.sk-toggleable__control:checked~label.sk-toggleable__label {background-color: #d4ebff;}#sk-container-id-20 input.sk-hidden--visually {border: 0;clip: rect(1px 1px 1px 1px);clip: rect(1px, 1px, 1px, 1px);height: 1px;margin: -1px;overflow: hidden;padding: 0;position: absolute;width: 1px;}#sk-container-id-20 div.sk-estimator {font-family: monospace;background-color: #f0f8ff;border: 1px dotted black;border-radius: 0.25em;box-sizing: border-box;margin-bottom: 0.5em;}#sk-container-id-20 div.sk-estimator:hover {background-color: #d4ebff;}#sk-container-id-20 div.sk-parallel-item::after {content: \"\";width: 100%;border-bottom: 1px solid gray;flex-grow: 1;}#sk-container-id-20 div.sk-label:hover label.sk-toggleable__label {background-color: #d4ebff;}#sk-container-id-20 div.sk-serial::before {content: \"\";position: absolute;border-left: 1px solid gray;box-sizing: border-box;top: 0;bottom: 0;left: 50%;z-index: 0;}#sk-container-id-20 div.sk-serial {display: flex;flex-direction: column;align-items: center;background-color: white;padding-right: 0.2em;padding-left: 0.2em;position: relative;}#sk-container-id-20 div.sk-item {position: relative;z-index: 1;}#sk-container-id-20 div.sk-parallel {display: flex;align-items: stretch;justify-content: center;background-color: white;position: relative;}#sk-container-id-20 div.sk-item::before, #sk-container-id-20 div.sk-parallel-item::before {content: \"\";position: absolute;border-left: 1px solid gray;box-sizing: border-box;top: 0;bottom: 0;left: 50%;z-index: -1;}#sk-container-id-20 div.sk-parallel-item {display: flex;flex-direction: column;z-index: 1;position: relative;background-color: white;}#sk-container-id-20 div.sk-parallel-item:first-child::after {align-self: flex-end;width: 50%;}#sk-container-id-20 div.sk-parallel-item:last-child::after {align-self: flex-start;width: 50%;}#sk-container-id-20 div.sk-parallel-item:only-child::after {width: 0;}#sk-container-id-20 div.sk-dashed-wrapped {border: 1px dashed gray;margin: 0 0.4em 0.5em 0.4em;box-sizing: border-box;padding-bottom: 0.4em;background-color: white;}#sk-container-id-20 div.sk-label label {font-family: monospace;font-weight: bold;display: inline-block;line-height: 1.2em;}#sk-container-id-20 div.sk-label-container {text-align: center;}#sk-container-id-20 div.sk-container {/* jupyter's `normalize.less` sets `[hidden] { display: none; }` but bootstrap.min.css set `[hidden] { display: none !important; }` so we also need the `!important` here to be able to override the default hidden behavior on the sphinx rendered scikit-learn.org. See: https://github.com/scikit-learn/scikit-learn/issues/21755 */display: inline-block !important;position: relative;}#sk-container-id-20 div.sk-text-repr-fallback {display: none;}</style><div id=\"sk-container-id-20\" class=\"sk-top-container\"><div class=\"sk-text-repr-fallback\"><pre>Pipeline(steps=[(&#x27;preprocessing&#x27;,\n",
       "                 ColumnTransformer(sparse_threshold=0,\n",
       "                                   transformers=[(&#x27;num&#x27;,\n",
       "                                                  Pipeline(steps=[(&#x27;imputer&#x27;,\n",
       "                                                                   SimpleImputer(strategy=&#x27;median&#x27;))]),\n",
       "                                                  [&#x27;age&#x27;, &#x27;fnlwgt&#x27;,\n",
       "                                                   &#x27;capital_gain&#x27;,\n",
       "                                                   &#x27;capital_loss&#x27;,\n",
       "                                                   &#x27;hours_per_week&#x27;]),\n",
       "                                                 (&#x27;cat_less9&#x27;,\n",
       "                                                  Pipeline(steps=[(&#x27;imputer&#x27;,\n",
       "                                                                   SimpleImputer(strategy=&#x27;most_frequent&#x27;))]),\n",
       "                                                  [&#x27;workclass&#x27;,\n",
       "                                                   &#x27;marital_status&#x27;,\n",
       "                                                   &#x27;relationship&#x27;, &#x27;race&#x27;,\n",
       "                                                   &#x27;sex&#x27;]),\n",
       "                                                 (&#x27;cat_more9&#x27;,\n",
       "                                                  Pipeline(steps=[(&#x27;imputer&#x27;,\n",
       "                                                                   SimpleImputer(strategy=&#x27;most_frequent&#x27;))]),\n",
       "                                                  [&#x27;education&#x27;, &#x27;occupation&#x27;,\n",
       "                                                   &#x27;native_country&#x27;])])),\n",
       "                (&#x27;model&#x27;,\n",
       "                 &lt;catboost.core.CatBoostClassifier object at 0x000002126A0E36A0&gt;)])</pre><b>In a Jupyter environment, please rerun this cell to show the HTML representation or trust the notebook. <br />On GitHub, the HTML representation is unable to render, please try loading this page with nbviewer.org.</b></div><div class=\"sk-container\" hidden><div class=\"sk-item sk-dashed-wrapped\"><div class=\"sk-label-container\"><div class=\"sk-label sk-toggleable\"><input class=\"sk-toggleable__control sk-hidden--visually\" id=\"sk-estimator-id-187\" type=\"checkbox\" ><label for=\"sk-estimator-id-187\" class=\"sk-toggleable__label sk-toggleable__label-arrow\">Pipeline</label><div class=\"sk-toggleable__content\"><pre>Pipeline(steps=[(&#x27;preprocessing&#x27;,\n",
       "                 ColumnTransformer(sparse_threshold=0,\n",
       "                                   transformers=[(&#x27;num&#x27;,\n",
       "                                                  Pipeline(steps=[(&#x27;imputer&#x27;,\n",
       "                                                                   SimpleImputer(strategy=&#x27;median&#x27;))]),\n",
       "                                                  [&#x27;age&#x27;, &#x27;fnlwgt&#x27;,\n",
       "                                                   &#x27;capital_gain&#x27;,\n",
       "                                                   &#x27;capital_loss&#x27;,\n",
       "                                                   &#x27;hours_per_week&#x27;]),\n",
       "                                                 (&#x27;cat_less9&#x27;,\n",
       "                                                  Pipeline(steps=[(&#x27;imputer&#x27;,\n",
       "                                                                   SimpleImputer(strategy=&#x27;most_frequent&#x27;))]),\n",
       "                                                  [&#x27;workclass&#x27;,\n",
       "                                                   &#x27;marital_status&#x27;,\n",
       "                                                   &#x27;relationship&#x27;, &#x27;race&#x27;,\n",
       "                                                   &#x27;sex&#x27;]),\n",
       "                                                 (&#x27;cat_more9&#x27;,\n",
       "                                                  Pipeline(steps=[(&#x27;imputer&#x27;,\n",
       "                                                                   SimpleImputer(strategy=&#x27;most_frequent&#x27;))]),\n",
       "                                                  [&#x27;education&#x27;, &#x27;occupation&#x27;,\n",
       "                                                   &#x27;native_country&#x27;])])),\n",
       "                (&#x27;model&#x27;,\n",
       "                 &lt;catboost.core.CatBoostClassifier object at 0x000002126A0E36A0&gt;)])</pre></div></div></div><div class=\"sk-serial\"><div class=\"sk-item sk-dashed-wrapped\"><div class=\"sk-label-container\"><div class=\"sk-label sk-toggleable\"><input class=\"sk-toggleable__control sk-hidden--visually\" id=\"sk-estimator-id-188\" type=\"checkbox\" ><label for=\"sk-estimator-id-188\" class=\"sk-toggleable__label sk-toggleable__label-arrow\">preprocessing: ColumnTransformer</label><div class=\"sk-toggleable__content\"><pre>ColumnTransformer(sparse_threshold=0,\n",
       "                  transformers=[(&#x27;num&#x27;,\n",
       "                                 Pipeline(steps=[(&#x27;imputer&#x27;,\n",
       "                                                  SimpleImputer(strategy=&#x27;median&#x27;))]),\n",
       "                                 [&#x27;age&#x27;, &#x27;fnlwgt&#x27;, &#x27;capital_gain&#x27;,\n",
       "                                  &#x27;capital_loss&#x27;, &#x27;hours_per_week&#x27;]),\n",
       "                                (&#x27;cat_less9&#x27;,\n",
       "                                 Pipeline(steps=[(&#x27;imputer&#x27;,\n",
       "                                                  SimpleImputer(strategy=&#x27;most_frequent&#x27;))]),\n",
       "                                 [&#x27;workclass&#x27;, &#x27;marital_status&#x27;, &#x27;relationship&#x27;,\n",
       "                                  &#x27;race&#x27;, &#x27;sex&#x27;]),\n",
       "                                (&#x27;cat_more9&#x27;,\n",
       "                                 Pipeline(steps=[(&#x27;imputer&#x27;,\n",
       "                                                  SimpleImputer(strategy=&#x27;most_frequent&#x27;))]),\n",
       "                                 [&#x27;education&#x27;, &#x27;occupation&#x27;,\n",
       "                                  &#x27;native_country&#x27;])])</pre></div></div></div><div class=\"sk-parallel\"><div class=\"sk-parallel-item\"><div class=\"sk-item\"><div class=\"sk-label-container\"><div class=\"sk-label sk-toggleable\"><input class=\"sk-toggleable__control sk-hidden--visually\" id=\"sk-estimator-id-189\" type=\"checkbox\" ><label for=\"sk-estimator-id-189\" class=\"sk-toggleable__label sk-toggleable__label-arrow\">num</label><div class=\"sk-toggleable__content\"><pre>[&#x27;age&#x27;, &#x27;fnlwgt&#x27;, &#x27;capital_gain&#x27;, &#x27;capital_loss&#x27;, &#x27;hours_per_week&#x27;]</pre></div></div></div><div class=\"sk-serial\"><div class=\"sk-item\"><div class=\"sk-serial\"><div class=\"sk-item\"><div class=\"sk-estimator sk-toggleable\"><input class=\"sk-toggleable__control sk-hidden--visually\" id=\"sk-estimator-id-190\" type=\"checkbox\" ><label for=\"sk-estimator-id-190\" class=\"sk-toggleable__label sk-toggleable__label-arrow\">SimpleImputer</label><div class=\"sk-toggleable__content\"><pre>SimpleImputer(strategy=&#x27;median&#x27;)</pre></div></div></div></div></div></div></div></div><div class=\"sk-parallel-item\"><div class=\"sk-item\"><div class=\"sk-label-container\"><div class=\"sk-label sk-toggleable\"><input class=\"sk-toggleable__control sk-hidden--visually\" id=\"sk-estimator-id-191\" type=\"checkbox\" ><label for=\"sk-estimator-id-191\" class=\"sk-toggleable__label sk-toggleable__label-arrow\">cat_less9</label><div class=\"sk-toggleable__content\"><pre>[&#x27;workclass&#x27;, &#x27;marital_status&#x27;, &#x27;relationship&#x27;, &#x27;race&#x27;, &#x27;sex&#x27;]</pre></div></div></div><div class=\"sk-serial\"><div class=\"sk-item\"><div class=\"sk-serial\"><div class=\"sk-item\"><div class=\"sk-estimator sk-toggleable\"><input class=\"sk-toggleable__control sk-hidden--visually\" id=\"sk-estimator-id-192\" type=\"checkbox\" ><label for=\"sk-estimator-id-192\" class=\"sk-toggleable__label sk-toggleable__label-arrow\">SimpleImputer</label><div class=\"sk-toggleable__content\"><pre>SimpleImputer(strategy=&#x27;most_frequent&#x27;)</pre></div></div></div></div></div></div></div></div><div class=\"sk-parallel-item\"><div class=\"sk-item\"><div class=\"sk-label-container\"><div class=\"sk-label sk-toggleable\"><input class=\"sk-toggleable__control sk-hidden--visually\" id=\"sk-estimator-id-193\" type=\"checkbox\" ><label for=\"sk-estimator-id-193\" class=\"sk-toggleable__label sk-toggleable__label-arrow\">cat_more9</label><div class=\"sk-toggleable__content\"><pre>[&#x27;education&#x27;, &#x27;occupation&#x27;, &#x27;native_country&#x27;]</pre></div></div></div><div class=\"sk-serial\"><div class=\"sk-item\"><div class=\"sk-serial\"><div class=\"sk-item\"><div class=\"sk-estimator sk-toggleable\"><input class=\"sk-toggleable__control sk-hidden--visually\" id=\"sk-estimator-id-194\" type=\"checkbox\" ><label for=\"sk-estimator-id-194\" class=\"sk-toggleable__label sk-toggleable__label-arrow\">SimpleImputer</label><div class=\"sk-toggleable__content\"><pre>SimpleImputer(strategy=&#x27;most_frequent&#x27;)</pre></div></div></div></div></div></div></div></div></div></div><div class=\"sk-item\"><div class=\"sk-estimator sk-toggleable\"><input class=\"sk-toggleable__control sk-hidden--visually\" id=\"sk-estimator-id-195\" type=\"checkbox\" ><label for=\"sk-estimator-id-195\" class=\"sk-toggleable__label sk-toggleable__label-arrow\">CatBoostClassifier</label><div class=\"sk-toggleable__content\"><pre>&lt;catboost.core.CatBoostClassifier object at 0x000002126A0E36A0&gt;</pre></div></div></div></div></div></div></div>"
      ],
      "text/plain": [
       "Pipeline(steps=[('preprocessing',\n",
       "                 ColumnTransformer(sparse_threshold=0,\n",
       "                                   transformers=[('num',\n",
       "                                                  Pipeline(steps=[('imputer',\n",
       "                                                                   SimpleImputer(strategy='median'))]),\n",
       "                                                  ['age', 'fnlwgt',\n",
       "                                                   'capital_gain',\n",
       "                                                   'capital_loss',\n",
       "                                                   'hours_per_week']),\n",
       "                                                 ('cat_less9',\n",
       "                                                  Pipeline(steps=[('imputer',\n",
       "                                                                   SimpleImputer(strategy='most_frequent'))]),\n",
       "                                                  ['workclass',\n",
       "                                                   'marital_status',\n",
       "                                                   'relationship', 'race',\n",
       "                                                   'sex']),\n",
       "                                                 ('cat_more9',\n",
       "                                                  Pipeline(steps=[('imputer',\n",
       "                                                                   SimpleImputer(strategy='most_frequent'))]),\n",
       "                                                  ['education', 'occupation',\n",
       "                                                   'native_country'])])),\n",
       "                ('model',\n",
       "                 <catboost.core.CatBoostClassifier object at 0x000002126A0E36A0>)])"
      ]
     },
     "execution_count": 110,
     "metadata": {},
     "output_type": "execute_result"
    }
   ],
   "source": [
    "# Display pipeline\n",
    "print(\"Time taken: \", catboost_default_time_taken9)\n",
    "catboost_default9"
   ]
  },
  {
   "cell_type": "code",
   "execution_count": 111,
   "metadata": {},
   "outputs": [
    {
     "name": "stdout",
     "output_type": "stream",
     "text": [
      "Balanced accuracy with default parameters: 0.8413715033092041\n"
     ]
    }
   ],
   "source": [
    "# Calculate balanced accuracy for the model with default parameters\n",
    "y_catboost_default_pred = catboost_default.predict(X_test)\n",
    "catboost_default_accuracy = balanced_accuracy_score(y_test, y_catboost_default_pred)\n",
    "print(f'Balanced accuracy with default parameters: {catboost_default_accuracy}')\n",
    "\n",
    "# Save results\n",
    "default_summary.append(\"Default\")\n",
    "card_9_summary.append(\"AllVariables\")\n",
    "encoder_summary.append(\"CatboostNativeSupport\")\n",
    "value_summary.append(catboost_default_accuracy)\n",
    "time_summary.append(catboost_default_time_taken)\n",
    "n_models_summary.append(1)"
   ]
  },
  {
   "cell_type": "code",
   "execution_count": 112,
   "metadata": {},
   "outputs": [
    {
     "name": "stdout",
     "output_type": "stream",
     "text": [
      "Balanced accuracy with default parameters: 0.8413715033092041\n"
     ]
    }
   ],
   "source": [
    "# Calculate balanced accuracy for the model with default parameters\n",
    "y_catboost_default_pred9 = catboost_default9.predict(X_test)\n",
    "catboost_default_accuracy9 = balanced_accuracy_score(y_test, y_catboost_default_pred9)\n",
    "print(f'Balanced accuracy with default parameters: {catboost_default_accuracy9}')\n",
    "\n",
    "# Save results\n",
    "default_summary.append(\"Default\")\n",
    "card_9_summary.append(\"OnlyVariablesWithCard>9\")\n",
    "encoder_summary.append(\"CatboostNativeSupport\")\n",
    "value_summary.append(catboost_default_accuracy9)\n",
    "time_summary.append(catboost_default_time_taken9)\n",
    "n_models_summary.append(1)"
   ]
  },
  {
   "cell_type": "markdown",
   "metadata": {},
   "source": []
  },
  {
   "cell_type": "code",
   "execution_count": 113,
   "metadata": {},
   "outputs": [],
   "source": [
    "tic = time.time()\n",
    "\n",
    "catboost_tune = catboost_tune_raw.fit(X_train, y_train)\n",
    "\n",
    "toc = time.time()\n",
    "catboost_tune_time_taken = toc-tic"
   ]
  },
  {
   "cell_type": "code",
   "execution_count": 114,
   "metadata": {},
   "outputs": [
    {
     "name": "stdout",
     "output_type": "stream",
     "text": [
      "Time taken:  620.2906763553619\n"
     ]
    },
    {
     "data": {
      "text/html": [
       "<style>#sk-container-id-21 {color: black;}#sk-container-id-21 pre{padding: 0;}#sk-container-id-21 div.sk-toggleable {background-color: white;}#sk-container-id-21 label.sk-toggleable__label {cursor: pointer;display: block;width: 100%;margin-bottom: 0;padding: 0.3em;box-sizing: border-box;text-align: center;}#sk-container-id-21 label.sk-toggleable__label-arrow:before {content: \"▸\";float: left;margin-right: 0.25em;color: #696969;}#sk-container-id-21 label.sk-toggleable__label-arrow:hover:before {color: black;}#sk-container-id-21 div.sk-estimator:hover label.sk-toggleable__label-arrow:before {color: black;}#sk-container-id-21 div.sk-toggleable__content {max-height: 0;max-width: 0;overflow: hidden;text-align: left;background-color: #f0f8ff;}#sk-container-id-21 div.sk-toggleable__content pre {margin: 0.2em;color: black;border-radius: 0.25em;background-color: #f0f8ff;}#sk-container-id-21 input.sk-toggleable__control:checked~div.sk-toggleable__content {max-height: 200px;max-width: 100%;overflow: auto;}#sk-container-id-21 input.sk-toggleable__control:checked~label.sk-toggleable__label-arrow:before {content: \"▾\";}#sk-container-id-21 div.sk-estimator input.sk-toggleable__control:checked~label.sk-toggleable__label {background-color: #d4ebff;}#sk-container-id-21 div.sk-label input.sk-toggleable__control:checked~label.sk-toggleable__label {background-color: #d4ebff;}#sk-container-id-21 input.sk-hidden--visually {border: 0;clip: rect(1px 1px 1px 1px);clip: rect(1px, 1px, 1px, 1px);height: 1px;margin: -1px;overflow: hidden;padding: 0;position: absolute;width: 1px;}#sk-container-id-21 div.sk-estimator {font-family: monospace;background-color: #f0f8ff;border: 1px dotted black;border-radius: 0.25em;box-sizing: border-box;margin-bottom: 0.5em;}#sk-container-id-21 div.sk-estimator:hover {background-color: #d4ebff;}#sk-container-id-21 div.sk-parallel-item::after {content: \"\";width: 100%;border-bottom: 1px solid gray;flex-grow: 1;}#sk-container-id-21 div.sk-label:hover label.sk-toggleable__label {background-color: #d4ebff;}#sk-container-id-21 div.sk-serial::before {content: \"\";position: absolute;border-left: 1px solid gray;box-sizing: border-box;top: 0;bottom: 0;left: 50%;z-index: 0;}#sk-container-id-21 div.sk-serial {display: flex;flex-direction: column;align-items: center;background-color: white;padding-right: 0.2em;padding-left: 0.2em;position: relative;}#sk-container-id-21 div.sk-item {position: relative;z-index: 1;}#sk-container-id-21 div.sk-parallel {display: flex;align-items: stretch;justify-content: center;background-color: white;position: relative;}#sk-container-id-21 div.sk-item::before, #sk-container-id-21 div.sk-parallel-item::before {content: \"\";position: absolute;border-left: 1px solid gray;box-sizing: border-box;top: 0;bottom: 0;left: 50%;z-index: -1;}#sk-container-id-21 div.sk-parallel-item {display: flex;flex-direction: column;z-index: 1;position: relative;background-color: white;}#sk-container-id-21 div.sk-parallel-item:first-child::after {align-self: flex-end;width: 50%;}#sk-container-id-21 div.sk-parallel-item:last-child::after {align-self: flex-start;width: 50%;}#sk-container-id-21 div.sk-parallel-item:only-child::after {width: 0;}#sk-container-id-21 div.sk-dashed-wrapped {border: 1px dashed gray;margin: 0 0.4em 0.5em 0.4em;box-sizing: border-box;padding-bottom: 0.4em;background-color: white;}#sk-container-id-21 div.sk-label label {font-family: monospace;font-weight: bold;display: inline-block;line-height: 1.2em;}#sk-container-id-21 div.sk-label-container {text-align: center;}#sk-container-id-21 div.sk-container {/* jupyter's `normalize.less` sets `[hidden] { display: none; }` but bootstrap.min.css set `[hidden] { display: none !important; }` so we also need the `!important` here to be able to override the default hidden behavior on the sphinx rendered scikit-learn.org. See: https://github.com/scikit-learn/scikit-learn/issues/21755 */display: inline-block !important;position: relative;}#sk-container-id-21 div.sk-text-repr-fallback {display: none;}</style><div id=\"sk-container-id-21\" class=\"sk-top-container\"><div class=\"sk-text-repr-fallback\"><pre>RandomizedSearchCV(cv=StratifiedKFold(n_splits=3, random_state=1234, shuffle=True),\n",
       "                   estimator=Pipeline(steps=[(&#x27;preprocessing&#x27;,\n",
       "                                              ColumnTransformer(sparse_threshold=0,\n",
       "                                                                transformers=[(&#x27;num&#x27;,\n",
       "                                                                               Pipeline(steps=[(&#x27;imputer&#x27;,\n",
       "                                                                                                SimpleImputer(strategy=&#x27;median&#x27;))]),\n",
       "                                                                               [&#x27;age&#x27;,\n",
       "                                                                                &#x27;fnlwgt&#x27;,\n",
       "                                                                                &#x27;capital_gain&#x27;,\n",
       "                                                                                &#x27;capital_loss&#x27;,\n",
       "                                                                                &#x27;hours_per_week&#x27;]),\n",
       "                                                                              (&#x27;cat_less9&#x27;,\n",
       "                                                                               Pipeline(steps=[(&#x27;imputer&#x27;,...\n",
       "                   param_distributions={&#x27;model__iterations&#x27;: &lt;scipy.stats._distn_infrastructure.rv_discrete_frozen object at 0x000002126A0E2050&gt;,\n",
       "                                        &#x27;model__learning_rate&#x27;: &lt;scipy.stats._distn_infrastructure.rv_continuous_frozen object at 0x000002126A0E2A40&gt;,\n",
       "                                        &#x27;model__min_data_in_leaf&#x27;: &lt;scipy.stats._distn_infrastructure.rv_discrete_frozen object at 0x000002126A0E1A20&gt;},\n",
       "                   random_state=1234, scoring=&#x27;balanced_accuracy&#x27;)</pre><b>In a Jupyter environment, please rerun this cell to show the HTML representation or trust the notebook. <br />On GitHub, the HTML representation is unable to render, please try loading this page with nbviewer.org.</b></div><div class=\"sk-container\" hidden><div class=\"sk-item sk-dashed-wrapped\"><div class=\"sk-label-container\"><div class=\"sk-label sk-toggleable\"><input class=\"sk-toggleable__control sk-hidden--visually\" id=\"sk-estimator-id-196\" type=\"checkbox\" ><label for=\"sk-estimator-id-196\" class=\"sk-toggleable__label sk-toggleable__label-arrow\">RandomizedSearchCV</label><div class=\"sk-toggleable__content\"><pre>RandomizedSearchCV(cv=StratifiedKFold(n_splits=3, random_state=1234, shuffle=True),\n",
       "                   estimator=Pipeline(steps=[(&#x27;preprocessing&#x27;,\n",
       "                                              ColumnTransformer(sparse_threshold=0,\n",
       "                                                                transformers=[(&#x27;num&#x27;,\n",
       "                                                                               Pipeline(steps=[(&#x27;imputer&#x27;,\n",
       "                                                                                                SimpleImputer(strategy=&#x27;median&#x27;))]),\n",
       "                                                                               [&#x27;age&#x27;,\n",
       "                                                                                &#x27;fnlwgt&#x27;,\n",
       "                                                                                &#x27;capital_gain&#x27;,\n",
       "                                                                                &#x27;capital_loss&#x27;,\n",
       "                                                                                &#x27;hours_per_week&#x27;]),\n",
       "                                                                              (&#x27;cat_less9&#x27;,\n",
       "                                                                               Pipeline(steps=[(&#x27;imputer&#x27;,...\n",
       "                   param_distributions={&#x27;model__iterations&#x27;: &lt;scipy.stats._distn_infrastructure.rv_discrete_frozen object at 0x000002126A0E2050&gt;,\n",
       "                                        &#x27;model__learning_rate&#x27;: &lt;scipy.stats._distn_infrastructure.rv_continuous_frozen object at 0x000002126A0E2A40&gt;,\n",
       "                                        &#x27;model__min_data_in_leaf&#x27;: &lt;scipy.stats._distn_infrastructure.rv_discrete_frozen object at 0x000002126A0E1A20&gt;},\n",
       "                   random_state=1234, scoring=&#x27;balanced_accuracy&#x27;)</pre></div></div></div><div class=\"sk-parallel\"><div class=\"sk-parallel-item\"><div class=\"sk-item\"><div class=\"sk-label-container\"><div class=\"sk-label sk-toggleable\"><input class=\"sk-toggleable__control sk-hidden--visually\" id=\"sk-estimator-id-197\" type=\"checkbox\" ><label for=\"sk-estimator-id-197\" class=\"sk-toggleable__label sk-toggleable__label-arrow\">estimator: Pipeline</label><div class=\"sk-toggleable__content\"><pre>Pipeline(steps=[(&#x27;preprocessing&#x27;,\n",
       "                 ColumnTransformer(sparse_threshold=0,\n",
       "                                   transformers=[(&#x27;num&#x27;,\n",
       "                                                  Pipeline(steps=[(&#x27;imputer&#x27;,\n",
       "                                                                   SimpleImputer(strategy=&#x27;median&#x27;))]),\n",
       "                                                  [&#x27;age&#x27;, &#x27;fnlwgt&#x27;,\n",
       "                                                   &#x27;capital_gain&#x27;,\n",
       "                                                   &#x27;capital_loss&#x27;,\n",
       "                                                   &#x27;hours_per_week&#x27;]),\n",
       "                                                 (&#x27;cat_less9&#x27;,\n",
       "                                                  Pipeline(steps=[(&#x27;imputer&#x27;,\n",
       "                                                                   SimpleImputer(strategy=&#x27;most_frequent&#x27;))]),\n",
       "                                                  [&#x27;workclass&#x27;,\n",
       "                                                   &#x27;marital_status&#x27;,\n",
       "                                                   &#x27;relationship&#x27;, &#x27;race&#x27;,\n",
       "                                                   &#x27;sex&#x27;]),\n",
       "                                                 (&#x27;cat_more9&#x27;,\n",
       "                                                  Pipeline(steps=[(&#x27;imputer&#x27;,\n",
       "                                                                   SimpleImputer(strategy=&#x27;most_frequent&#x27;))]),\n",
       "                                                  [&#x27;education&#x27;, &#x27;occupation&#x27;,\n",
       "                                                   &#x27;native_country&#x27;])])),\n",
       "                (&#x27;model&#x27;,\n",
       "                 &lt;catboost.core.CatBoostClassifier object at 0x000002126A0E36A0&gt;)])</pre></div></div></div><div class=\"sk-serial\"><div class=\"sk-item\"><div class=\"sk-serial\"><div class=\"sk-item sk-dashed-wrapped\"><div class=\"sk-label-container\"><div class=\"sk-label sk-toggleable\"><input class=\"sk-toggleable__control sk-hidden--visually\" id=\"sk-estimator-id-198\" type=\"checkbox\" ><label for=\"sk-estimator-id-198\" class=\"sk-toggleable__label sk-toggleable__label-arrow\">preprocessing: ColumnTransformer</label><div class=\"sk-toggleable__content\"><pre>ColumnTransformer(sparse_threshold=0,\n",
       "                  transformers=[(&#x27;num&#x27;,\n",
       "                                 Pipeline(steps=[(&#x27;imputer&#x27;,\n",
       "                                                  SimpleImputer(strategy=&#x27;median&#x27;))]),\n",
       "                                 [&#x27;age&#x27;, &#x27;fnlwgt&#x27;, &#x27;capital_gain&#x27;,\n",
       "                                  &#x27;capital_loss&#x27;, &#x27;hours_per_week&#x27;]),\n",
       "                                (&#x27;cat_less9&#x27;,\n",
       "                                 Pipeline(steps=[(&#x27;imputer&#x27;,\n",
       "                                                  SimpleImputer(strategy=&#x27;most_frequent&#x27;))]),\n",
       "                                 [&#x27;workclass&#x27;, &#x27;marital_status&#x27;, &#x27;relationship&#x27;,\n",
       "                                  &#x27;race&#x27;, &#x27;sex&#x27;]),\n",
       "                                (&#x27;cat_more9&#x27;,\n",
       "                                 Pipeline(steps=[(&#x27;imputer&#x27;,\n",
       "                                                  SimpleImputer(strategy=&#x27;most_frequent&#x27;))]),\n",
       "                                 [&#x27;education&#x27;, &#x27;occupation&#x27;,\n",
       "                                  &#x27;native_country&#x27;])])</pre></div></div></div><div class=\"sk-parallel\"><div class=\"sk-parallel-item\"><div class=\"sk-item\"><div class=\"sk-label-container\"><div class=\"sk-label sk-toggleable\"><input class=\"sk-toggleable__control sk-hidden--visually\" id=\"sk-estimator-id-199\" type=\"checkbox\" ><label for=\"sk-estimator-id-199\" class=\"sk-toggleable__label sk-toggleable__label-arrow\">num</label><div class=\"sk-toggleable__content\"><pre>[&#x27;age&#x27;, &#x27;fnlwgt&#x27;, &#x27;capital_gain&#x27;, &#x27;capital_loss&#x27;, &#x27;hours_per_week&#x27;]</pre></div></div></div><div class=\"sk-serial\"><div class=\"sk-item\"><div class=\"sk-serial\"><div class=\"sk-item\"><div class=\"sk-estimator sk-toggleable\"><input class=\"sk-toggleable__control sk-hidden--visually\" id=\"sk-estimator-id-200\" type=\"checkbox\" ><label for=\"sk-estimator-id-200\" class=\"sk-toggleable__label sk-toggleable__label-arrow\">SimpleImputer</label><div class=\"sk-toggleable__content\"><pre>SimpleImputer(strategy=&#x27;median&#x27;)</pre></div></div></div></div></div></div></div></div><div class=\"sk-parallel-item\"><div class=\"sk-item\"><div class=\"sk-label-container\"><div class=\"sk-label sk-toggleable\"><input class=\"sk-toggleable__control sk-hidden--visually\" id=\"sk-estimator-id-201\" type=\"checkbox\" ><label for=\"sk-estimator-id-201\" class=\"sk-toggleable__label sk-toggleable__label-arrow\">cat_less9</label><div class=\"sk-toggleable__content\"><pre>[&#x27;workclass&#x27;, &#x27;marital_status&#x27;, &#x27;relationship&#x27;, &#x27;race&#x27;, &#x27;sex&#x27;]</pre></div></div></div><div class=\"sk-serial\"><div class=\"sk-item\"><div class=\"sk-serial\"><div class=\"sk-item\"><div class=\"sk-estimator sk-toggleable\"><input class=\"sk-toggleable__control sk-hidden--visually\" id=\"sk-estimator-id-202\" type=\"checkbox\" ><label for=\"sk-estimator-id-202\" class=\"sk-toggleable__label sk-toggleable__label-arrow\">SimpleImputer</label><div class=\"sk-toggleable__content\"><pre>SimpleImputer(strategy=&#x27;most_frequent&#x27;)</pre></div></div></div></div></div></div></div></div><div class=\"sk-parallel-item\"><div class=\"sk-item\"><div class=\"sk-label-container\"><div class=\"sk-label sk-toggleable\"><input class=\"sk-toggleable__control sk-hidden--visually\" id=\"sk-estimator-id-203\" type=\"checkbox\" ><label for=\"sk-estimator-id-203\" class=\"sk-toggleable__label sk-toggleable__label-arrow\">cat_more9</label><div class=\"sk-toggleable__content\"><pre>[&#x27;education&#x27;, &#x27;occupation&#x27;, &#x27;native_country&#x27;]</pre></div></div></div><div class=\"sk-serial\"><div class=\"sk-item\"><div class=\"sk-serial\"><div class=\"sk-item\"><div class=\"sk-estimator sk-toggleable\"><input class=\"sk-toggleable__control sk-hidden--visually\" id=\"sk-estimator-id-204\" type=\"checkbox\" ><label for=\"sk-estimator-id-204\" class=\"sk-toggleable__label sk-toggleable__label-arrow\">SimpleImputer</label><div class=\"sk-toggleable__content\"><pre>SimpleImputer(strategy=&#x27;most_frequent&#x27;)</pre></div></div></div></div></div></div></div></div></div></div><div class=\"sk-item\"><div class=\"sk-estimator sk-toggleable\"><input class=\"sk-toggleable__control sk-hidden--visually\" id=\"sk-estimator-id-205\" type=\"checkbox\" ><label for=\"sk-estimator-id-205\" class=\"sk-toggleable__label sk-toggleable__label-arrow\">CatBoostClassifier</label><div class=\"sk-toggleable__content\"><pre>&lt;catboost.core.CatBoostClassifier object at 0x000002126A0E36A0&gt;</pre></div></div></div></div></div></div></div></div></div></div></div></div>"
      ],
      "text/plain": [
       "RandomizedSearchCV(cv=StratifiedKFold(n_splits=3, random_state=1234, shuffle=True),\n",
       "                   estimator=Pipeline(steps=[('preprocessing',\n",
       "                                              ColumnTransformer(sparse_threshold=0,\n",
       "                                                                transformers=[('num',\n",
       "                                                                               Pipeline(steps=[('imputer',\n",
       "                                                                                                SimpleImputer(strategy='median'))]),\n",
       "                                                                               ['age',\n",
       "                                                                                'fnlwgt',\n",
       "                                                                                'capital_gain',\n",
       "                                                                                'capital_loss',\n",
       "                                                                                'hours_per_week']),\n",
       "                                                                              ('cat_less9',\n",
       "                                                                               Pipeline(steps=[('imputer',...\n",
       "                   param_distributions={'model__iterations': <scipy.stats._distn_infrastructure.rv_discrete_frozen object at 0x000002126A0E2050>,\n",
       "                                        'model__learning_rate': <scipy.stats._distn_infrastructure.rv_continuous_frozen object at 0x000002126A0E2A40>,\n",
       "                                        'model__min_data_in_leaf': <scipy.stats._distn_infrastructure.rv_discrete_frozen object at 0x000002126A0E1A20>},\n",
       "                   random_state=1234, scoring='balanced_accuracy')"
      ]
     },
     "execution_count": 114,
     "metadata": {},
     "output_type": "execute_result"
    }
   ],
   "source": [
    "# Display pipeline\n",
    "print(\"Time taken: \", catboost_tune_time_taken)\n",
    "catboost_tune"
   ]
  },
  {
   "cell_type": "code",
   "execution_count": 1145,
   "metadata": {},
   "outputs": [],
   "source": [
    "tic = time.time()\n",
    "\n",
    "catboost_tune9 = catboost_tune9_raw.fit(X_train, y_train)\n",
    "\n",
    "toc = time.time()\n",
    "catboost_tune_time_taken9 = toc-tic"
   ]
  },
  {
   "cell_type": "code",
   "execution_count": 1146,
   "metadata": {},
   "outputs": [
    {
     "name": "stdout",
     "output_type": "stream",
     "text": [
      "Time taken:  187.9355354309082\n"
     ]
    },
    {
     "data": {
      "text/html": [
       "<style>#sk-container-id-143 {color: black;}#sk-container-id-143 pre{padding: 0;}#sk-container-id-143 div.sk-toggleable {background-color: white;}#sk-container-id-143 label.sk-toggleable__label {cursor: pointer;display: block;width: 100%;margin-bottom: 0;padding: 0.3em;box-sizing: border-box;text-align: center;}#sk-container-id-143 label.sk-toggleable__label-arrow:before {content: \"▸\";float: left;margin-right: 0.25em;color: #696969;}#sk-container-id-143 label.sk-toggleable__label-arrow:hover:before {color: black;}#sk-container-id-143 div.sk-estimator:hover label.sk-toggleable__label-arrow:before {color: black;}#sk-container-id-143 div.sk-toggleable__content {max-height: 0;max-width: 0;overflow: hidden;text-align: left;background-color: #f0f8ff;}#sk-container-id-143 div.sk-toggleable__content pre {margin: 0.2em;color: black;border-radius: 0.25em;background-color: #f0f8ff;}#sk-container-id-143 input.sk-toggleable__control:checked~div.sk-toggleable__content {max-height: 200px;max-width: 100%;overflow: auto;}#sk-container-id-143 input.sk-toggleable__control:checked~label.sk-toggleable__label-arrow:before {content: \"▾\";}#sk-container-id-143 div.sk-estimator input.sk-toggleable__control:checked~label.sk-toggleable__label {background-color: #d4ebff;}#sk-container-id-143 div.sk-label input.sk-toggleable__control:checked~label.sk-toggleable__label {background-color: #d4ebff;}#sk-container-id-143 input.sk-hidden--visually {border: 0;clip: rect(1px 1px 1px 1px);clip: rect(1px, 1px, 1px, 1px);height: 1px;margin: -1px;overflow: hidden;padding: 0;position: absolute;width: 1px;}#sk-container-id-143 div.sk-estimator {font-family: monospace;background-color: #f0f8ff;border: 1px dotted black;border-radius: 0.25em;box-sizing: border-box;margin-bottom: 0.5em;}#sk-container-id-143 div.sk-estimator:hover {background-color: #d4ebff;}#sk-container-id-143 div.sk-parallel-item::after {content: \"\";width: 100%;border-bottom: 1px solid gray;flex-grow: 1;}#sk-container-id-143 div.sk-label:hover label.sk-toggleable__label {background-color: #d4ebff;}#sk-container-id-143 div.sk-serial::before {content: \"\";position: absolute;border-left: 1px solid gray;box-sizing: border-box;top: 0;bottom: 0;left: 50%;z-index: 0;}#sk-container-id-143 div.sk-serial {display: flex;flex-direction: column;align-items: center;background-color: white;padding-right: 0.2em;padding-left: 0.2em;position: relative;}#sk-container-id-143 div.sk-item {position: relative;z-index: 1;}#sk-container-id-143 div.sk-parallel {display: flex;align-items: stretch;justify-content: center;background-color: white;position: relative;}#sk-container-id-143 div.sk-item::before, #sk-container-id-143 div.sk-parallel-item::before {content: \"\";position: absolute;border-left: 1px solid gray;box-sizing: border-box;top: 0;bottom: 0;left: 50%;z-index: -1;}#sk-container-id-143 div.sk-parallel-item {display: flex;flex-direction: column;z-index: 1;position: relative;background-color: white;}#sk-container-id-143 div.sk-parallel-item:first-child::after {align-self: flex-end;width: 50%;}#sk-container-id-143 div.sk-parallel-item:last-child::after {align-self: flex-start;width: 50%;}#sk-container-id-143 div.sk-parallel-item:only-child::after {width: 0;}#sk-container-id-143 div.sk-dashed-wrapped {border: 1px dashed gray;margin: 0 0.4em 0.5em 0.4em;box-sizing: border-box;padding-bottom: 0.4em;background-color: white;}#sk-container-id-143 div.sk-label label {font-family: monospace;font-weight: bold;display: inline-block;line-height: 1.2em;}#sk-container-id-143 div.sk-label-container {text-align: center;}#sk-container-id-143 div.sk-container {/* jupyter's `normalize.less` sets `[hidden] { display: none; }` but bootstrap.min.css set `[hidden] { display: none !important; }` so we also need the `!important` here to be able to override the default hidden behavior on the sphinx rendered scikit-learn.org. See: https://github.com/scikit-learn/scikit-learn/issues/21755 */display: inline-block !important;position: relative;}#sk-container-id-143 div.sk-text-repr-fallback {display: none;}</style><div id=\"sk-container-id-143\" class=\"sk-top-container\"><div class=\"sk-text-repr-fallback\"><pre>RandomizedSearchCV(cv=StratifiedKFold(n_splits=3, random_state=1234, shuffle=True),\n",
       "                   estimator=Pipeline(steps=[(&#x27;preprocessing&#x27;,\n",
       "                                              ColumnTransformer(sparse_threshold=0,\n",
       "                                                                transformers=[(&#x27;num&#x27;,\n",
       "                                                                               Pipeline(steps=[(&#x27;imputer&#x27;,\n",
       "                                                                                                SimpleImputer(strategy=&#x27;median&#x27;))]),\n",
       "                                                                               [&#x27;age&#x27;,\n",
       "                                                                                &#x27;fnlwgt&#x27;,\n",
       "                                                                                &#x27;capital_gain&#x27;,\n",
       "                                                                                &#x27;capital_loss&#x27;,\n",
       "                                                                                &#x27;hours_per_week&#x27;]),\n",
       "                                                                              (&#x27;cat_less9&#x27;,\n",
       "                                                                               Pipeline(steps=[(&#x27;imputer&#x27;,...\n",
       "                   param_distributions={&#x27;model__iterations&#x27;: &lt;scipy.stats._distn_infrastructure.rv_discrete_frozen object at 0x000001DC2682A830&gt;,\n",
       "                                        &#x27;model__learning_rate&#x27;: &lt;scipy.stats._distn_infrastructure.rv_continuous_frozen object at 0x000001DC275221D0&gt;,\n",
       "                                        &#x27;model__min_data_in_leaf&#x27;: &lt;scipy.stats._distn_infrastructure.rv_discrete_frozen object at 0x000001DC27522B00&gt;},\n",
       "                   random_state=1234, scoring=&#x27;balanced_accuracy&#x27;)</pre><b>In a Jupyter environment, please rerun this cell to show the HTML representation or trust the notebook. <br />On GitHub, the HTML representation is unable to render, please try loading this page with nbviewer.org.</b></div><div class=\"sk-container\" hidden><div class=\"sk-item sk-dashed-wrapped\"><div class=\"sk-label-container\"><div class=\"sk-label sk-toggleable\"><input class=\"sk-toggleable__control sk-hidden--visually\" id=\"sk-estimator-id-1358\" type=\"checkbox\" ><label for=\"sk-estimator-id-1358\" class=\"sk-toggleable__label sk-toggleable__label-arrow\">RandomizedSearchCV</label><div class=\"sk-toggleable__content\"><pre>RandomizedSearchCV(cv=StratifiedKFold(n_splits=3, random_state=1234, shuffle=True),\n",
       "                   estimator=Pipeline(steps=[(&#x27;preprocessing&#x27;,\n",
       "                                              ColumnTransformer(sparse_threshold=0,\n",
       "                                                                transformers=[(&#x27;num&#x27;,\n",
       "                                                                               Pipeline(steps=[(&#x27;imputer&#x27;,\n",
       "                                                                                                SimpleImputer(strategy=&#x27;median&#x27;))]),\n",
       "                                                                               [&#x27;age&#x27;,\n",
       "                                                                                &#x27;fnlwgt&#x27;,\n",
       "                                                                                &#x27;capital_gain&#x27;,\n",
       "                                                                                &#x27;capital_loss&#x27;,\n",
       "                                                                                &#x27;hours_per_week&#x27;]),\n",
       "                                                                              (&#x27;cat_less9&#x27;,\n",
       "                                                                               Pipeline(steps=[(&#x27;imputer&#x27;,...\n",
       "                   param_distributions={&#x27;model__iterations&#x27;: &lt;scipy.stats._distn_infrastructure.rv_discrete_frozen object at 0x000001DC2682A830&gt;,\n",
       "                                        &#x27;model__learning_rate&#x27;: &lt;scipy.stats._distn_infrastructure.rv_continuous_frozen object at 0x000001DC275221D0&gt;,\n",
       "                                        &#x27;model__min_data_in_leaf&#x27;: &lt;scipy.stats._distn_infrastructure.rv_discrete_frozen object at 0x000001DC27522B00&gt;},\n",
       "                   random_state=1234, scoring=&#x27;balanced_accuracy&#x27;)</pre></div></div></div><div class=\"sk-parallel\"><div class=\"sk-parallel-item\"><div class=\"sk-item\"><div class=\"sk-label-container\"><div class=\"sk-label sk-toggleable\"><input class=\"sk-toggleable__control sk-hidden--visually\" id=\"sk-estimator-id-1359\" type=\"checkbox\" ><label for=\"sk-estimator-id-1359\" class=\"sk-toggleable__label sk-toggleable__label-arrow\">estimator: Pipeline</label><div class=\"sk-toggleable__content\"><pre>Pipeline(steps=[(&#x27;preprocessing&#x27;,\n",
       "                 ColumnTransformer(sparse_threshold=0,\n",
       "                                   transformers=[(&#x27;num&#x27;,\n",
       "                                                  Pipeline(steps=[(&#x27;imputer&#x27;,\n",
       "                                                                   SimpleImputer(strategy=&#x27;median&#x27;))]),\n",
       "                                                  [&#x27;age&#x27;, &#x27;fnlwgt&#x27;,\n",
       "                                                   &#x27;capital_gain&#x27;,\n",
       "                                                   &#x27;capital_loss&#x27;,\n",
       "                                                   &#x27;hours_per_week&#x27;]),\n",
       "                                                 (&#x27;cat_less9&#x27;,\n",
       "                                                  Pipeline(steps=[(&#x27;imputer&#x27;,\n",
       "                                                                   SimpleImputer(strategy=&#x27;most_frequent&#x27;))]),\n",
       "                                                  [&#x27;workclass&#x27;,\n",
       "                                                   &#x27;marital_status&#x27;,\n",
       "                                                   &#x27;relationship&#x27;, &#x27;race&#x27;,\n",
       "                                                   &#x27;sex&#x27;]),\n",
       "                                                 (&#x27;cat_more9&#x27;,\n",
       "                                                  Pipeline(steps=[(&#x27;imputer&#x27;,\n",
       "                                                                   SimpleImputer(strategy=&#x27;most_frequent&#x27;))]),\n",
       "                                                  [&#x27;education&#x27;, &#x27;occupation&#x27;,\n",
       "                                                   &#x27;native_country&#x27;])])),\n",
       "                (&#x27;model&#x27;,\n",
       "                 &lt;catboost.core.CatBoostClassifier object at 0x000001DC1919E4D0&gt;)])</pre></div></div></div><div class=\"sk-serial\"><div class=\"sk-item\"><div class=\"sk-serial\"><div class=\"sk-item sk-dashed-wrapped\"><div class=\"sk-label-container\"><div class=\"sk-label sk-toggleable\"><input class=\"sk-toggleable__control sk-hidden--visually\" id=\"sk-estimator-id-1360\" type=\"checkbox\" ><label for=\"sk-estimator-id-1360\" class=\"sk-toggleable__label sk-toggleable__label-arrow\">preprocessing: ColumnTransformer</label><div class=\"sk-toggleable__content\"><pre>ColumnTransformer(sparse_threshold=0,\n",
       "                  transformers=[(&#x27;num&#x27;,\n",
       "                                 Pipeline(steps=[(&#x27;imputer&#x27;,\n",
       "                                                  SimpleImputer(strategy=&#x27;median&#x27;))]),\n",
       "                                 [&#x27;age&#x27;, &#x27;fnlwgt&#x27;, &#x27;capital_gain&#x27;,\n",
       "                                  &#x27;capital_loss&#x27;, &#x27;hours_per_week&#x27;]),\n",
       "                                (&#x27;cat_less9&#x27;,\n",
       "                                 Pipeline(steps=[(&#x27;imputer&#x27;,\n",
       "                                                  SimpleImputer(strategy=&#x27;most_frequent&#x27;))]),\n",
       "                                 [&#x27;workclass&#x27;, &#x27;marital_status&#x27;, &#x27;relationship&#x27;,\n",
       "                                  &#x27;race&#x27;, &#x27;sex&#x27;]),\n",
       "                                (&#x27;cat_more9&#x27;,\n",
       "                                 Pipeline(steps=[(&#x27;imputer&#x27;,\n",
       "                                                  SimpleImputer(strategy=&#x27;most_frequent&#x27;))]),\n",
       "                                 [&#x27;education&#x27;, &#x27;occupation&#x27;,\n",
       "                                  &#x27;native_country&#x27;])])</pre></div></div></div><div class=\"sk-parallel\"><div class=\"sk-parallel-item\"><div class=\"sk-item\"><div class=\"sk-label-container\"><div class=\"sk-label sk-toggleable\"><input class=\"sk-toggleable__control sk-hidden--visually\" id=\"sk-estimator-id-1361\" type=\"checkbox\" ><label for=\"sk-estimator-id-1361\" class=\"sk-toggleable__label sk-toggleable__label-arrow\">num</label><div class=\"sk-toggleable__content\"><pre>[&#x27;age&#x27;, &#x27;fnlwgt&#x27;, &#x27;capital_gain&#x27;, &#x27;capital_loss&#x27;, &#x27;hours_per_week&#x27;]</pre></div></div></div><div class=\"sk-serial\"><div class=\"sk-item\"><div class=\"sk-serial\"><div class=\"sk-item\"><div class=\"sk-estimator sk-toggleable\"><input class=\"sk-toggleable__control sk-hidden--visually\" id=\"sk-estimator-id-1362\" type=\"checkbox\" ><label for=\"sk-estimator-id-1362\" class=\"sk-toggleable__label sk-toggleable__label-arrow\">SimpleImputer</label><div class=\"sk-toggleable__content\"><pre>SimpleImputer(strategy=&#x27;median&#x27;)</pre></div></div></div></div></div></div></div></div><div class=\"sk-parallel-item\"><div class=\"sk-item\"><div class=\"sk-label-container\"><div class=\"sk-label sk-toggleable\"><input class=\"sk-toggleable__control sk-hidden--visually\" id=\"sk-estimator-id-1363\" type=\"checkbox\" ><label for=\"sk-estimator-id-1363\" class=\"sk-toggleable__label sk-toggleable__label-arrow\">cat_less9</label><div class=\"sk-toggleable__content\"><pre>[&#x27;workclass&#x27;, &#x27;marital_status&#x27;, &#x27;relationship&#x27;, &#x27;race&#x27;, &#x27;sex&#x27;]</pre></div></div></div><div class=\"sk-serial\"><div class=\"sk-item\"><div class=\"sk-serial\"><div class=\"sk-item\"><div class=\"sk-estimator sk-toggleable\"><input class=\"sk-toggleable__control sk-hidden--visually\" id=\"sk-estimator-id-1364\" type=\"checkbox\" ><label for=\"sk-estimator-id-1364\" class=\"sk-toggleable__label sk-toggleable__label-arrow\">SimpleImputer</label><div class=\"sk-toggleable__content\"><pre>SimpleImputer(strategy=&#x27;most_frequent&#x27;)</pre></div></div></div></div></div></div></div></div><div class=\"sk-parallel-item\"><div class=\"sk-item\"><div class=\"sk-label-container\"><div class=\"sk-label sk-toggleable\"><input class=\"sk-toggleable__control sk-hidden--visually\" id=\"sk-estimator-id-1365\" type=\"checkbox\" ><label for=\"sk-estimator-id-1365\" class=\"sk-toggleable__label sk-toggleable__label-arrow\">cat_more9</label><div class=\"sk-toggleable__content\"><pre>[&#x27;education&#x27;, &#x27;occupation&#x27;, &#x27;native_country&#x27;]</pre></div></div></div><div class=\"sk-serial\"><div class=\"sk-item\"><div class=\"sk-serial\"><div class=\"sk-item\"><div class=\"sk-estimator sk-toggleable\"><input class=\"sk-toggleable__control sk-hidden--visually\" id=\"sk-estimator-id-1366\" type=\"checkbox\" ><label for=\"sk-estimator-id-1366\" class=\"sk-toggleable__label sk-toggleable__label-arrow\">SimpleImputer</label><div class=\"sk-toggleable__content\"><pre>SimpleImputer(strategy=&#x27;most_frequent&#x27;)</pre></div></div></div></div></div></div></div></div></div></div><div class=\"sk-item\"><div class=\"sk-estimator sk-toggleable\"><input class=\"sk-toggleable__control sk-hidden--visually\" id=\"sk-estimator-id-1367\" type=\"checkbox\" ><label for=\"sk-estimator-id-1367\" class=\"sk-toggleable__label sk-toggleable__label-arrow\">CatBoostClassifier</label><div class=\"sk-toggleable__content\"><pre>&lt;catboost.core.CatBoostClassifier object at 0x000001DC1919E4D0&gt;</pre></div></div></div></div></div></div></div></div></div></div></div></div>"
      ],
      "text/plain": [
       "RandomizedSearchCV(cv=StratifiedKFold(n_splits=3, random_state=1234, shuffle=True),\n",
       "                   estimator=Pipeline(steps=[('preprocessing',\n",
       "                                              ColumnTransformer(sparse_threshold=0,\n",
       "                                                                transformers=[('num',\n",
       "                                                                               Pipeline(steps=[('imputer',\n",
       "                                                                                                SimpleImputer(strategy='median'))]),\n",
       "                                                                               ['age',\n",
       "                                                                                'fnlwgt',\n",
       "                                                                                'capital_gain',\n",
       "                                                                                'capital_loss',\n",
       "                                                                                'hours_per_week']),\n",
       "                                                                              ('cat_less9',\n",
       "                                                                               Pipeline(steps=[('imputer',...\n",
       "                   param_distributions={'model__iterations': <scipy.stats._distn_infrastructure.rv_discrete_frozen object at 0x000001DC2682A830>,\n",
       "                                        'model__learning_rate': <scipy.stats._distn_infrastructure.rv_continuous_frozen object at 0x000001DC275221D0>,\n",
       "                                        'model__min_data_in_leaf': <scipy.stats._distn_infrastructure.rv_discrete_frozen object at 0x000001DC27522B00>},\n",
       "                   random_state=1234, scoring='balanced_accuracy')"
      ]
     },
     "execution_count": 1146,
     "metadata": {},
     "output_type": "execute_result"
    }
   ],
   "source": [
    "# Display pipeline\n",
    "print(\"Time taken: \", catboost_tune_time_taken9)\n",
    "catboost_tune9"
   ]
  },
  {
   "cell_type": "code",
   "execution_count": 115,
   "metadata": {},
   "outputs": [
    {
     "name": "stdout",
     "output_type": "stream",
     "text": [
      "Best parameters: {'model__iterations': 237, 'model__learning_rate': 0.11883483586407008, 'model__min_data_in_leaf': 18}\n",
      "Balanced accuracy with best parameters: 0.8427112494075735\n"
     ]
    }
   ],
   "source": [
    "# Predict using the model with the best parameters\n",
    "y_catboost_tune_pred = catboost_tune.predict(X_test)\n",
    "\n",
    "# Get the best parameters\n",
    "catboost_tune_best_params = catboost_tune.best_params_\n",
    "print(f'Best parameters: {catboost_tune_best_params}')\n",
    "\n",
    "# Calculate balanced accuracy for the model with the best parameters\n",
    "catboost_tune_accuracy = balanced_accuracy_score(y_test, y_catboost_tune_pred)\n",
    "print(f'Balanced accuracy with best parameters: {catboost_tune_accuracy}')\n",
    "\n",
    "# Save results\n",
    "default_summary.append(\"Tune\")\n",
    "card_9_summary.append(\"AllVariables\")\n",
    "encoder_summary.append(\"CatboostNativeSupport\")\n",
    "value_summary.append(catboost_tune_accuracy)\n",
    "time_summary.append(catboost_tune_time_taken)\n",
    "n_models_summary.append(catboost_tune.n_iter)"
   ]
  },
  {
   "cell_type": "code",
   "execution_count": 1148,
   "metadata": {},
   "outputs": [
    {
     "name": "stdout",
     "output_type": "stream",
     "text": [
      "Best parameters: {'model__iterations': 250, 'model__learning_rate': 0.14279879468776685, 'model__min_data_in_leaf': 10}\n",
      "Balanced accuracy with best parameters: 0.8426412884721444\n"
     ]
    }
   ],
   "source": [
    "# Predict using the model with the best parameters\n",
    "y_catboost_tune_pred9 = catboost_tune9.predict(X_test)\n",
    "\n",
    "# Get the best parameters\n",
    "catboost_tune_best_params9 = catboost_tune9.best_params_\n",
    "print(f'Best parameters: {catboost_tune_best_params9}')\n",
    "\n",
    "# Calculate balanced accuracy for the model with the best parameters\n",
    "catboost_tune_accuracy9 = balanced_accuracy_score(y_test, y_catboost_tune_pred9)\n",
    "print(f'Balanced accuracy with best parameters: {catboost_tune_accuracy9}')\n",
    "\n",
    "# Save results\n",
    "default_summary.append(\"Tune\")\n",
    "card_9_summary.append(\"OnlyVariablesWithCard>9\")\n",
    "encoder_summary.append(\"CatboostNativeSupport\")\n",
    "value_summary.append(catboost_tune_accuracy9)\n",
    "time_summary.append(catboost_tune_time_taken9)\n",
    "n_models_summary.append(catboost_tune9.n_iter)"
   ]
  },
  {
   "cell_type": "markdown",
   "metadata": {},
   "source": [
    "### Results Summary"
   ]
  },
  {
   "cell_type": "code",
   "execution_count": 117,
   "metadata": {},
   "outputs": [
    {
     "data": {
      "text/html": [
       "<div>\n",
       "<style scoped>\n",
       "    .dataframe tbody tr th:only-of-type {\n",
       "        vertical-align: middle;\n",
       "    }\n",
       "\n",
       "    .dataframe tbody tr th {\n",
       "        vertical-align: top;\n",
       "    }\n",
       "\n",
       "    .dataframe thead th {\n",
       "        text-align: right;\n",
       "    }\n",
       "</style>\n",
       "<table border=\"1\" class=\"dataframe\">\n",
       "  <thead>\n",
       "    <tr style=\"text-align: right;\">\n",
       "      <th></th>\n",
       "      <th>Dataset</th>\n",
       "      <th>Variables</th>\n",
       "      <th>Default/Tune</th>\n",
       "      <th>Encoder</th>\n",
       "      <th>Metric</th>\n",
       "      <th>Value</th>\n",
       "      <th>Time</th>\n",
       "      <th>Iterations</th>\n",
       "      <th>mean_Time</th>\n",
       "    </tr>\n",
       "  </thead>\n",
       "  <tbody>\n",
       "    <tr>\n",
       "      <th>0</th>\n",
       "      <td>adult</td>\n",
       "      <td>AllVariables</td>\n",
       "      <td>Default</td>\n",
       "      <td>OneHotEncoding</td>\n",
       "      <td>BalancedAccuracy</td>\n",
       "      <td>0.842812</td>\n",
       "      <td>2.619238</td>\n",
       "      <td>1</td>\n",
       "      <td>2.619238</td>\n",
       "    </tr>\n",
       "    <tr>\n",
       "      <th>1</th>\n",
       "      <td>adult</td>\n",
       "      <td>AllVariables</td>\n",
       "      <td>Tune</td>\n",
       "      <td>OneHotEncoding</td>\n",
       "      <td>BalancedAccuracy</td>\n",
       "      <td>0.843511</td>\n",
       "      <td>220.520516</td>\n",
       "      <td>100</td>\n",
       "      <td>2.205205</td>\n",
       "    </tr>\n",
       "    <tr>\n",
       "      <th>2</th>\n",
       "      <td>adult</td>\n",
       "      <td>AllVariables</td>\n",
       "      <td>Default</td>\n",
       "      <td>CountEncoding</td>\n",
       "      <td>BalancedAccuracy</td>\n",
       "      <td>0.841238</td>\n",
       "      <td>0.948107</td>\n",
       "      <td>1</td>\n",
       "      <td>0.948107</td>\n",
       "    </tr>\n",
       "    <tr>\n",
       "      <th>3</th>\n",
       "      <td>adult</td>\n",
       "      <td>OnlyVariablesWithCard&gt;9</td>\n",
       "      <td>Default</td>\n",
       "      <td>CountEncoding</td>\n",
       "      <td>BalancedAccuracy</td>\n",
       "      <td>0.844009</td>\n",
       "      <td>0.984664</td>\n",
       "      <td>1</td>\n",
       "      <td>0.984664</td>\n",
       "    </tr>\n",
       "    <tr>\n",
       "      <th>4</th>\n",
       "      <td>adult</td>\n",
       "      <td>AllVariables</td>\n",
       "      <td>Tune</td>\n",
       "      <td>CountEncoding</td>\n",
       "      <td>BalancedAccuracy</td>\n",
       "      <td>0.842852</td>\n",
       "      <td>47.466359</td>\n",
       "      <td>100</td>\n",
       "      <td>0.474664</td>\n",
       "    </tr>\n",
       "    <tr>\n",
       "      <th>5</th>\n",
       "      <td>adult</td>\n",
       "      <td>OnlyVariablesWithCard&gt;9</td>\n",
       "      <td>Tune</td>\n",
       "      <td>CountEncoding</td>\n",
       "      <td>BalancedAccuracy</td>\n",
       "      <td>0.842240</td>\n",
       "      <td>70.120125</td>\n",
       "      <td>100</td>\n",
       "      <td>0.701201</td>\n",
       "    </tr>\n",
       "    <tr>\n",
       "      <th>6</th>\n",
       "      <td>adult</td>\n",
       "      <td>AllVariables</td>\n",
       "      <td>Default</td>\n",
       "      <td>OrdinalEncoder</td>\n",
       "      <td>BalancedAccuracy</td>\n",
       "      <td>0.842398</td>\n",
       "      <td>0.722608</td>\n",
       "      <td>1</td>\n",
       "      <td>0.722608</td>\n",
       "    </tr>\n",
       "    <tr>\n",
       "      <th>7</th>\n",
       "      <td>adult</td>\n",
       "      <td>OnlyVariablesWithCard&gt;9</td>\n",
       "      <td>Default</td>\n",
       "      <td>OrdinalEncoder</td>\n",
       "      <td>BalancedAccuracy</td>\n",
       "      <td>0.839857</td>\n",
       "      <td>0.976753</td>\n",
       "      <td>1</td>\n",
       "      <td>0.976753</td>\n",
       "    </tr>\n",
       "    <tr>\n",
       "      <th>8</th>\n",
       "      <td>adult</td>\n",
       "      <td>AllVariables</td>\n",
       "      <td>Tune</td>\n",
       "      <td>OrdinalEncoder</td>\n",
       "      <td>BalancedAccuracy</td>\n",
       "      <td>0.840471</td>\n",
       "      <td>42.936913</td>\n",
       "      <td>100</td>\n",
       "      <td>0.429369</td>\n",
       "    </tr>\n",
       "    <tr>\n",
       "      <th>9</th>\n",
       "      <td>adult</td>\n",
       "      <td>OnlyVariablesWithCard&gt;9</td>\n",
       "      <td>Tune</td>\n",
       "      <td>OrdinalEncoder</td>\n",
       "      <td>BalancedAccuracy</td>\n",
       "      <td>0.842497</td>\n",
       "      <td>68.165440</td>\n",
       "      <td>100</td>\n",
       "      <td>0.681654</td>\n",
       "    </tr>\n",
       "    <tr>\n",
       "      <th>10</th>\n",
       "      <td>adult</td>\n",
       "      <td>AllVariables</td>\n",
       "      <td>Default</td>\n",
       "      <td>HGB_NativeSupport</td>\n",
       "      <td>BalancedAccuracy</td>\n",
       "      <td>0.842036</td>\n",
       "      <td>1.026211</td>\n",
       "      <td>1</td>\n",
       "      <td>1.026211</td>\n",
       "    </tr>\n",
       "    <tr>\n",
       "      <th>11</th>\n",
       "      <td>adult</td>\n",
       "      <td>OnlyVariablesWithCard&gt;9</td>\n",
       "      <td>Default</td>\n",
       "      <td>HGB_NativeSupport</td>\n",
       "      <td>BalancedAccuracy</td>\n",
       "      <td>0.839590</td>\n",
       "      <td>1.037141</td>\n",
       "      <td>1</td>\n",
       "      <td>1.037141</td>\n",
       "    </tr>\n",
       "    <tr>\n",
       "      <th>12</th>\n",
       "      <td>adult</td>\n",
       "      <td>AllVariables</td>\n",
       "      <td>Tune</td>\n",
       "      <td>HGB_NativeSupport</td>\n",
       "      <td>BalancedAccuracy</td>\n",
       "      <td>0.842199</td>\n",
       "      <td>50.298418</td>\n",
       "      <td>100</td>\n",
       "      <td>0.502984</td>\n",
       "    </tr>\n",
       "    <tr>\n",
       "      <th>13</th>\n",
       "      <td>adult</td>\n",
       "      <td>OnlyVariablesWithCard&gt;9</td>\n",
       "      <td>Tune</td>\n",
       "      <td>HGB_NativeSupport</td>\n",
       "      <td>BalancedAccuracy</td>\n",
       "      <td>0.841006</td>\n",
       "      <td>71.737763</td>\n",
       "      <td>100</td>\n",
       "      <td>0.717378</td>\n",
       "    </tr>\n",
       "    <tr>\n",
       "      <th>14</th>\n",
       "      <td>adult</td>\n",
       "      <td>AllVariables</td>\n",
       "      <td>Default</td>\n",
       "      <td>TargetEncoder</td>\n",
       "      <td>BalancedAccuracy</td>\n",
       "      <td>0.842401</td>\n",
       "      <td>0.754143</td>\n",
       "      <td>1</td>\n",
       "      <td>0.754143</td>\n",
       "    </tr>\n",
       "    <tr>\n",
       "      <th>15</th>\n",
       "      <td>adult</td>\n",
       "      <td>OnlyVariablesWithCard&gt;9</td>\n",
       "      <td>Default</td>\n",
       "      <td>TargetEncoder</td>\n",
       "      <td>BalancedAccuracy</td>\n",
       "      <td>0.839140</td>\n",
       "      <td>0.999204</td>\n",
       "      <td>1</td>\n",
       "      <td>0.999204</td>\n",
       "    </tr>\n",
       "    <tr>\n",
       "      <th>16</th>\n",
       "      <td>adult</td>\n",
       "      <td>AllVariables</td>\n",
       "      <td>Tune</td>\n",
       "      <td>TargetEncoder</td>\n",
       "      <td>BalancedAccuracy</td>\n",
       "      <td>0.841681</td>\n",
       "      <td>43.307034</td>\n",
       "      <td>100</td>\n",
       "      <td>0.433070</td>\n",
       "    </tr>\n",
       "    <tr>\n",
       "      <th>17</th>\n",
       "      <td>adult</td>\n",
       "      <td>OnlyVariablesWithCard&gt;9</td>\n",
       "      <td>Tune</td>\n",
       "      <td>TargetEncoder</td>\n",
       "      <td>BalancedAccuracy</td>\n",
       "      <td>0.839969</td>\n",
       "      <td>68.247370</td>\n",
       "      <td>100</td>\n",
       "      <td>0.682474</td>\n",
       "    </tr>\n",
       "    <tr>\n",
       "      <th>18</th>\n",
       "      <td>adult</td>\n",
       "      <td>AllVariables</td>\n",
       "      <td>Default</td>\n",
       "      <td>CatboostNativeSupport</td>\n",
       "      <td>BalancedAccuracy</td>\n",
       "      <td>0.841372</td>\n",
       "      <td>4.319484</td>\n",
       "      <td>1</td>\n",
       "      <td>4.319484</td>\n",
       "    </tr>\n",
       "    <tr>\n",
       "      <th>19</th>\n",
       "      <td>adult</td>\n",
       "      <td>OnlyVariablesWithCard&gt;9</td>\n",
       "      <td>Default</td>\n",
       "      <td>CatboostNativeSupport</td>\n",
       "      <td>BalancedAccuracy</td>\n",
       "      <td>0.841372</td>\n",
       "      <td>4.061891</td>\n",
       "      <td>1</td>\n",
       "      <td>4.061891</td>\n",
       "    </tr>\n",
       "    <tr>\n",
       "      <th>20</th>\n",
       "      <td>adult</td>\n",
       "      <td>AllVariables</td>\n",
       "      <td>Tune</td>\n",
       "      <td>CatboostNativeSupport</td>\n",
       "      <td>BalancedAccuracy</td>\n",
       "      <td>0.842711</td>\n",
       "      <td>620.290676</td>\n",
       "      <td>100</td>\n",
       "      <td>6.202907</td>\n",
       "    </tr>\n",
       "    <tr>\n",
       "      <th>21</th>\n",
       "      <td>adult</td>\n",
       "      <td>OnlyVariablesWithCard&gt;9</td>\n",
       "      <td>Tune</td>\n",
       "      <td>CatboostNativeSupport</td>\n",
       "      <td>BalancedAccuracy</td>\n",
       "      <td>0.842711</td>\n",
       "      <td>720.290676</td>\n",
       "      <td>100</td>\n",
       "      <td>7.202907</td>\n",
       "    </tr>\n",
       "  </tbody>\n",
       "</table>\n",
       "</div>"
      ],
      "text/plain": [
       "   Dataset                Variables Default/Tune                Encoder  \\\n",
       "0    adult             AllVariables      Default         OneHotEncoding   \n",
       "1    adult             AllVariables         Tune         OneHotEncoding   \n",
       "2    adult             AllVariables      Default          CountEncoding   \n",
       "3    adult  OnlyVariablesWithCard>9      Default          CountEncoding   \n",
       "4    adult             AllVariables         Tune          CountEncoding   \n",
       "5    adult  OnlyVariablesWithCard>9         Tune          CountEncoding   \n",
       "6    adult             AllVariables      Default         OrdinalEncoder   \n",
       "7    adult  OnlyVariablesWithCard>9      Default         OrdinalEncoder   \n",
       "8    adult             AllVariables         Tune         OrdinalEncoder   \n",
       "9    adult  OnlyVariablesWithCard>9         Tune         OrdinalEncoder   \n",
       "10   adult             AllVariables      Default      HGB_NativeSupport   \n",
       "11   adult  OnlyVariablesWithCard>9      Default      HGB_NativeSupport   \n",
       "12   adult             AllVariables         Tune      HGB_NativeSupport   \n",
       "13   adult  OnlyVariablesWithCard>9         Tune      HGB_NativeSupport   \n",
       "14   adult             AllVariables      Default          TargetEncoder   \n",
       "15   adult  OnlyVariablesWithCard>9      Default          TargetEncoder   \n",
       "16   adult             AllVariables         Tune          TargetEncoder   \n",
       "17   adult  OnlyVariablesWithCard>9         Tune          TargetEncoder   \n",
       "18   adult             AllVariables      Default  CatboostNativeSupport   \n",
       "19   adult  OnlyVariablesWithCard>9      Default  CatboostNativeSupport   \n",
       "20   adult             AllVariables         Tune  CatboostNativeSupport   \n",
       "21   adult  OnlyVariablesWithCard>9         Tune  CatboostNativeSupport   \n",
       "\n",
       "              Metric     Value        Time  Iterations  mean_Time  \n",
       "0   BalancedAccuracy  0.842812    2.619238           1   2.619238  \n",
       "1   BalancedAccuracy  0.843511  220.520516         100   2.205205  \n",
       "2   BalancedAccuracy  0.841238    0.948107           1   0.948107  \n",
       "3   BalancedAccuracy  0.844009    0.984664           1   0.984664  \n",
       "4   BalancedAccuracy  0.842852   47.466359         100   0.474664  \n",
       "5   BalancedAccuracy  0.842240   70.120125         100   0.701201  \n",
       "6   BalancedAccuracy  0.842398    0.722608           1   0.722608  \n",
       "7   BalancedAccuracy  0.839857    0.976753           1   0.976753  \n",
       "8   BalancedAccuracy  0.840471   42.936913         100   0.429369  \n",
       "9   BalancedAccuracy  0.842497   68.165440         100   0.681654  \n",
       "10  BalancedAccuracy  0.842036    1.026211           1   1.026211  \n",
       "11  BalancedAccuracy  0.839590    1.037141           1   1.037141  \n",
       "12  BalancedAccuracy  0.842199   50.298418         100   0.502984  \n",
       "13  BalancedAccuracy  0.841006   71.737763         100   0.717378  \n",
       "14  BalancedAccuracy  0.842401    0.754143           1   0.754143  \n",
       "15  BalancedAccuracy  0.839140    0.999204           1   0.999204  \n",
       "16  BalancedAccuracy  0.841681   43.307034         100   0.433070  \n",
       "17  BalancedAccuracy  0.839969   68.247370         100   0.682474  \n",
       "18  BalancedAccuracy  0.841372    4.319484           1   4.319484  \n",
       "19  BalancedAccuracy  0.841372    4.061891           1   4.061891  \n",
       "20  BalancedAccuracy  0.842711  620.290676         100   6.202907  \n",
       "21  BalancedAccuracy  0.842711  720.290676         100   7.202907  "
      ]
     },
     "execution_count": 117,
     "metadata": {},
     "output_type": "execute_result"
    }
   ],
   "source": [
    "results_summary = pd.DataFrame({\"Dataset\":\"adult\",\n",
    "                                \"Variables\":card_9_summary,\n",
    "                                \"Default/Tune\":default_summary,\n",
    "                                \"Encoder\":encoder_summary,\n",
    "                                \"Metric\":\"BalancedAccuracy\",\n",
    "                                \"Value\":value_summary,\n",
    "                                \"Time\":time_summary,\n",
    "                                \"Iterations\":n_models_summary})\n",
    "results_summary[\"mean_Time\"] = (results_summary[\"Time\"] / results_summary[\"Iterations\"])\n",
    "results_summary"
   ]
  },
  {
   "cell_type": "code",
   "execution_count": 118,
   "metadata": {},
   "outputs": [],
   "source": [
    "results_summary.to_csv(\"adult_results.xlsx\")"
   ]
  }
 ],
 "metadata": {
  "kernelspec": {
   "display_name": "Python 3 (ipykernel)",
   "language": "python",
   "name": "python3"
  },
  "language_info": {
   "codemirror_mode": {
    "name": "ipython",
    "version": 3
   },
   "file_extension": ".py",
   "mimetype": "text/x-python",
   "name": "python",
   "nbconvert_exporter": "python",
   "pygments_lexer": "ipython3",
   "version": "3.10.11"
  }
 },
 "nbformat": 4,
 "nbformat_minor": 5
}
