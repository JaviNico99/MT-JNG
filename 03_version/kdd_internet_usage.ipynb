{
 "cells": [
  {
   "cell_type": "markdown",
   "metadata": {},
   "source": [
    "# \"kdd Internet Usage\" Dataset"
   ]
  },
  {
   "cell_type": "code",
   "execution_count": 1,
   "id": "60f5dfa4",
   "metadata": {},
   "outputs": [],
   "source": [
    "# data manipulation\n",
    "from scipy.io import arff\n",
    "import pandas as pd\n",
    "import numpy as np"
   ]
  },
  {
   "cell_type": "code",
   "execution_count": 2,
   "id": "c9fd1af0",
   "metadata": {},
   "outputs": [],
   "source": [
    "from sklearn.datasets import fetch_openml\n",
    "\n",
    "data = fetch_openml(data_id=981, parser='auto')\n",
    "\n",
    "# The returned dataset is a Bunch object, similar to a dictionary\n",
    "X = data['data']\n",
    "X = pd.DataFrame(X)\n",
    "y = data['target']"
   ]
  },
  {
   "cell_type": "code",
   "execution_count": 3,
   "metadata": {},
   "outputs": [],
   "source": [
    "# Summary vectors creation\n",
    "\n",
    "default_summary  = []\n",
    "encoder_summary  = []\n",
    "value_summary    = []\n",
    "time_summary     = []\n",
    "n_models_summary = []\n",
    "card_9_summary   = []"
   ]
  },
  {
   "cell_type": "code",
   "execution_count": 4,
   "id": "27451de4",
   "metadata": {},
   "outputs": [
    {
     "data": {
      "text/html": [
       "<div>\n",
       "<style scoped>\n",
       "    .dataframe tbody tr th:only-of-type {\n",
       "        vertical-align: middle;\n",
       "    }\n",
       "\n",
       "    .dataframe tbody tr th {\n",
       "        vertical-align: top;\n",
       "    }\n",
       "\n",
       "    .dataframe thead th {\n",
       "        text-align: right;\n",
       "    }\n",
       "</style>\n",
       "<table border=\"1\" class=\"dataframe\">\n",
       "  <thead>\n",
       "    <tr style=\"text-align: right;\">\n",
       "      <th></th>\n",
       "      <th>Actual_Time</th>\n",
       "      <th>Age</th>\n",
       "      <th>Community_Building</th>\n",
       "      <th>Community_Membership_Family</th>\n",
       "      <th>Community_Membership_Hobbies</th>\n",
       "      <th>Community_Membership_None</th>\n",
       "      <th>Community_Membership_Other</th>\n",
       "      <th>Community_Membership_Political</th>\n",
       "      <th>Community_Membership_Professional</th>\n",
       "      <th>Community_Membership_Religious</th>\n",
       "      <th>...</th>\n",
       "      <th>Not_Purchasing_Unfamiliar_vendor</th>\n",
       "      <th>Registered_to_Vote</th>\n",
       "      <th>Sexual_Preference</th>\n",
       "      <th>Web_Ordering</th>\n",
       "      <th>Web_Page_Creation</th>\n",
       "      <th>Who_Pays_for_Access_Dont_Know</th>\n",
       "      <th>Who_Pays_for_Access_Other</th>\n",
       "      <th>Who_Pays_for_Access_Parents</th>\n",
       "      <th>Who_Pays_for_Access_School</th>\n",
       "      <th>Who_Pays_for_Access_Self</th>\n",
       "    </tr>\n",
       "  </thead>\n",
       "  <tbody>\n",
       "    <tr>\n",
       "      <th>0</th>\n",
       "      <td>Consultant</td>\n",
       "      <td>41</td>\n",
       "      <td>Equally</td>\n",
       "      <td>0</td>\n",
       "      <td>0</td>\n",
       "      <td>1</td>\n",
       "      <td>0</td>\n",
       "      <td>0</td>\n",
       "      <td>0</td>\n",
       "      <td>0</td>\n",
       "      <td>...</td>\n",
       "      <td>0</td>\n",
       "      <td>Yes</td>\n",
       "      <td>Heterosexual</td>\n",
       "      <td>Yes</td>\n",
       "      <td>Yes</td>\n",
       "      <td>0</td>\n",
       "      <td>0</td>\n",
       "      <td>0</td>\n",
       "      <td>0</td>\n",
       "      <td>1</td>\n",
       "    </tr>\n",
       "    <tr>\n",
       "      <th>1</th>\n",
       "      <td>College_Student</td>\n",
       "      <td>28</td>\n",
       "      <td>Equally</td>\n",
       "      <td>0</td>\n",
       "      <td>0</td>\n",
       "      <td>0</td>\n",
       "      <td>0</td>\n",
       "      <td>0</td>\n",
       "      <td>0</td>\n",
       "      <td>0</td>\n",
       "      <td>...</td>\n",
       "      <td>0</td>\n",
       "      <td>Yes</td>\n",
       "      <td>Heterosexual</td>\n",
       "      <td>Yes</td>\n",
       "      <td>No</td>\n",
       "      <td>0</td>\n",
       "      <td>0</td>\n",
       "      <td>0</td>\n",
       "      <td>0</td>\n",
       "      <td>1</td>\n",
       "    </tr>\n",
       "    <tr>\n",
       "      <th>2</th>\n",
       "      <td>Other</td>\n",
       "      <td>25</td>\n",
       "      <td>More</td>\n",
       "      <td>1</td>\n",
       "      <td>1</td>\n",
       "      <td>0</td>\n",
       "      <td>0</td>\n",
       "      <td>0</td>\n",
       "      <td>1</td>\n",
       "      <td>0</td>\n",
       "      <td>...</td>\n",
       "      <td>1</td>\n",
       "      <td>No</td>\n",
       "      <td>Heterosexual</td>\n",
       "      <td>Yes</td>\n",
       "      <td>Yes</td>\n",
       "      <td>0</td>\n",
       "      <td>0</td>\n",
       "      <td>0</td>\n",
       "      <td>0</td>\n",
       "      <td>1</td>\n",
       "    </tr>\n",
       "    <tr>\n",
       "      <th>3</th>\n",
       "      <td>Salesperson</td>\n",
       "      <td>28</td>\n",
       "      <td>More</td>\n",
       "      <td>0</td>\n",
       "      <td>0</td>\n",
       "      <td>0</td>\n",
       "      <td>1</td>\n",
       "      <td>0</td>\n",
       "      <td>0</td>\n",
       "      <td>0</td>\n",
       "      <td>...</td>\n",
       "      <td>0</td>\n",
       "      <td>Yes</td>\n",
       "      <td>Heterosexual</td>\n",
       "      <td>Yes</td>\n",
       "      <td>Yes</td>\n",
       "      <td>0</td>\n",
       "      <td>0</td>\n",
       "      <td>0</td>\n",
       "      <td>0</td>\n",
       "      <td>1</td>\n",
       "    </tr>\n",
       "    <tr>\n",
       "      <th>4</th>\n",
       "      <td>K-12_Student</td>\n",
       "      <td>17</td>\n",
       "      <td>More</td>\n",
       "      <td>0</td>\n",
       "      <td>0</td>\n",
       "      <td>0</td>\n",
       "      <td>0</td>\n",
       "      <td>1</td>\n",
       "      <td>1</td>\n",
       "      <td>0</td>\n",
       "      <td>...</td>\n",
       "      <td>0</td>\n",
       "      <td>No</td>\n",
       "      <td>Heterosexual</td>\n",
       "      <td>Yes</td>\n",
       "      <td>Yes</td>\n",
       "      <td>0</td>\n",
       "      <td>0</td>\n",
       "      <td>0</td>\n",
       "      <td>0</td>\n",
       "      <td>1</td>\n",
       "    </tr>\n",
       "  </tbody>\n",
       "</table>\n",
       "<p>5 rows × 68 columns</p>\n",
       "</div>"
      ],
      "text/plain": [
       "       Actual_Time Age Community_Building Community_Membership_Family  \\\n",
       "0       Consultant  41            Equally                           0   \n",
       "1  College_Student  28            Equally                           0   \n",
       "2            Other  25               More                           1   \n",
       "3      Salesperson  28               More                           0   \n",
       "4     K-12_Student  17               More                           0   \n",
       "\n",
       "  Community_Membership_Hobbies Community_Membership_None  \\\n",
       "0                            0                         1   \n",
       "1                            0                         0   \n",
       "2                            1                         0   \n",
       "3                            0                         0   \n",
       "4                            0                         0   \n",
       "\n",
       "  Community_Membership_Other Community_Membership_Political  \\\n",
       "0                          0                              0   \n",
       "1                          0                              0   \n",
       "2                          0                              0   \n",
       "3                          1                              0   \n",
       "4                          0                              1   \n",
       "\n",
       "  Community_Membership_Professional Community_Membership_Religious  ...  \\\n",
       "0                                 0                              0  ...   \n",
       "1                                 0                              0  ...   \n",
       "2                                 1                              0  ...   \n",
       "3                                 0                              0  ...   \n",
       "4                                 1                              0  ...   \n",
       "\n",
       "  Not_Purchasing_Unfamiliar_vendor Registered_to_Vote Sexual_Preference  \\\n",
       "0                                0                Yes      Heterosexual   \n",
       "1                                0                Yes      Heterosexual   \n",
       "2                                1                 No      Heterosexual   \n",
       "3                                0                Yes      Heterosexual   \n",
       "4                                0                 No      Heterosexual   \n",
       "\n",
       "  Web_Ordering Web_Page_Creation Who_Pays_for_Access_Dont_Know  \\\n",
       "0          Yes               Yes                             0   \n",
       "1          Yes                No                             0   \n",
       "2          Yes               Yes                             0   \n",
       "3          Yes               Yes                             0   \n",
       "4          Yes               Yes                             0   \n",
       "\n",
       "  Who_Pays_for_Access_Other Who_Pays_for_Access_Parents  \\\n",
       "0                         0                           0   \n",
       "1                         0                           0   \n",
       "2                         0                           0   \n",
       "3                         0                           0   \n",
       "4                         0                           0   \n",
       "\n",
       "  Who_Pays_for_Access_School Who_Pays_for_Access_Self  \n",
       "0                          0                        1  \n",
       "1                          0                        1  \n",
       "2                          0                        1  \n",
       "3                          0                        1  \n",
       "4                          0                        1  \n",
       "\n",
       "[5 rows x 68 columns]"
      ]
     },
     "execution_count": 4,
     "metadata": {},
     "output_type": "execute_result"
    }
   ],
   "source": [
    "X.head()"
   ]
  },
  {
   "cell_type": "code",
   "execution_count": 5,
   "id": "41ddd271",
   "metadata": {
    "scrolled": true
   },
   "outputs": [
    {
     "name": "stdout",
     "output_type": "stream",
     "text": [
      "<class 'pandas.core.frame.DataFrame'>\n",
      "RangeIndex: 10108 entries, 0 to 10107\n",
      "Data columns (total 68 columns):\n",
      " #   Column                                    Non-Null Count  Dtype   \n",
      "---  ------                                    --------------  -----   \n",
      " 0   Actual_Time                               10108 non-null  category\n",
      " 1   Age                                       10108 non-null  category\n",
      " 2   Community_Building                        10108 non-null  category\n",
      " 3   Community_Membership_Family               10108 non-null  category\n",
      " 4   Community_Membership_Hobbies              10108 non-null  category\n",
      " 5   Community_Membership_None                 10108 non-null  category\n",
      " 6   Community_Membership_Other                10108 non-null  category\n",
      " 7   Community_Membership_Political            10108 non-null  category\n",
      " 8   Community_Membership_Professional         10108 non-null  category\n",
      " 9   Community_Membership_Religious            10108 non-null  category\n",
      " 10  Community_Membership_Support              10108 non-null  category\n",
      " 11  Country                                   10108 non-null  category\n",
      " 12  Disability_Cognitive                      10108 non-null  category\n",
      " 13  Disability_Hearing                        10108 non-null  category\n",
      " 14  Disability_Motor                          10108 non-null  category\n",
      " 15  Disability_Not_Impaired                   10108 non-null  category\n",
      " 16  Disability_Not_Say                        10108 non-null  category\n",
      " 17  Disability_Vision                         10108 non-null  category\n",
      " 18  Education_Attainment                      10108 non-null  category\n",
      " 19  Falsification_of_Information              10108 non-null  category\n",
      " 20  Gender                                    10108 non-null  category\n",
      " 21  Household_Income                          10108 non-null  category\n",
      " 22  How_You_Heard_About_Survey_Banner         10108 non-null  category\n",
      " 23  How_You_Heard_About_Survey_Friend         10108 non-null  category\n",
      " 24  How_You_Heard_About_Survey_Mailing_List   10108 non-null  category\n",
      " 25  How_You_Heard_About_Survey_Others         10108 non-null  category\n",
      " 26  How_You_Heard_About_Survey_Printed_Media  10108 non-null  category\n",
      " 27  How_You_Heard_About_Survey_Remebered      10108 non-null  category\n",
      " 28  How_You_Heard_About_Survey_Search_Engine  10108 non-null  category\n",
      " 29  How_You_Heard_About_Survey_Usenet_News    10108 non-null  category\n",
      " 30  How_You_Heard_About_Survey_WWW_Page       10108 non-null  category\n",
      " 31  Major_Geographical_Location               10108 non-null  category\n",
      " 32  Major_Occupation                          10108 non-null  category\n",
      " 33  Marital_Status                            10108 non-null  category\n",
      " 34  Most_Import_Issue_Facing_the_Internet     10108 non-null  category\n",
      " 35  Opinions_on_Censorship                    10108 non-null  category\n",
      " 36  Primary_Computing_Platform                7409 non-null   category\n",
      " 37  Primary_Language                          10108 non-null  category\n",
      " 38  Primary_Place_of_WWW_Access               10108 non-null  category\n",
      " 39  Race                                      10108 non-null  category\n",
      " 40  Not_Purchasing_Bad_experience             10108 non-null  category\n",
      " 41  Not_Purchasing_Bad_press                  10108 non-null  category\n",
      " 42  Not_Purchasing_Cant_find                  10108 non-null  category\n",
      " 43  Not_Purchasing_Company_policy             10108 non-null  category\n",
      " 44  Not_Purchasing_Easier_locally             10108 non-null  category\n",
      " 45  Not_Purchasing_Enough_info                10108 non-null  category\n",
      " 46  Not_Purchasing_Judge_quality              10108 non-null  category\n",
      " 47  Not_Purchasing_Never_tried                10108 non-null  category\n",
      " 48  Not_Purchasing_No_credit                  10108 non-null  category\n",
      " 49  Not_Purchasing_Not_applicable             10108 non-null  category\n",
      " 50  Not_Purchasing_Not_option                 10108 non-null  category\n",
      " 51  Not_Purchasing_Other                      10108 non-null  category\n",
      " 52  Not_Purchasing_Prefer_people              10108 non-null  category\n",
      " 53  Not_Purchasing_Privacy                    10108 non-null  category\n",
      " 54  Not_Purchasing_Receipt                    10108 non-null  category\n",
      " 55  Not_Purchasing_Security                   10108 non-null  category\n",
      " 56  Not_Purchasing_Too_complicated            10108 non-null  category\n",
      " 57  Not_Purchasing_Uncomfortable              10108 non-null  category\n",
      " 58  Not_Purchasing_Unfamiliar_vendor          10108 non-null  category\n",
      " 59  Registered_to_Vote                        10108 non-null  category\n",
      " 60  Sexual_Preference                         10108 non-null  category\n",
      " 61  Web_Ordering                              10108 non-null  category\n",
      " 62  Web_Page_Creation                         10108 non-null  category\n",
      " 63  Who_Pays_for_Access_Dont_Know             10108 non-null  category\n",
      " 64  Who_Pays_for_Access_Other                 10108 non-null  category\n",
      " 65  Who_Pays_for_Access_Parents               10108 non-null  category\n",
      " 66  Who_Pays_for_Access_School                10108 non-null  category\n",
      " 67  Who_Pays_for_Access_Self                  10108 non-null  category\n",
      "dtypes: category(68)\n",
      "memory usage: 705.7 KB\n"
     ]
    }
   ],
   "source": [
    "X.info()"
   ]
  },
  {
   "cell_type": "code",
   "execution_count": 6,
   "id": "fdd9bf0f",
   "metadata": {
    "scrolled": true
   },
   "outputs": [
    {
     "data": {
      "text/plain": [
       "(10108, 68)"
      ]
     },
     "execution_count": 6,
     "metadata": {},
     "output_type": "execute_result"
    }
   ],
   "source": [
    "X.shape"
   ]
  },
  {
   "cell_type": "code",
   "execution_count": 7,
   "id": "c564e688",
   "metadata": {},
   "outputs": [
    {
     "data": {
      "text/html": [
       "<div>\n",
       "<style scoped>\n",
       "    .dataframe tbody tr th:only-of-type {\n",
       "        vertical-align: middle;\n",
       "    }\n",
       "\n",
       "    .dataframe tbody tr th {\n",
       "        vertical-align: top;\n",
       "    }\n",
       "\n",
       "    .dataframe thead th {\n",
       "        text-align: right;\n",
       "    }\n",
       "</style>\n",
       "<table border=\"1\" class=\"dataframe\">\n",
       "  <thead>\n",
       "    <tr style=\"text-align: right;\">\n",
       "      <th></th>\n",
       "      <th>Actual_Time</th>\n",
       "      <th>Age</th>\n",
       "      <th>Community_Building</th>\n",
       "      <th>Community_Membership_Family</th>\n",
       "      <th>Community_Membership_Hobbies</th>\n",
       "      <th>Community_Membership_None</th>\n",
       "      <th>Community_Membership_Other</th>\n",
       "      <th>Community_Membership_Political</th>\n",
       "      <th>Community_Membership_Professional</th>\n",
       "      <th>Community_Membership_Religious</th>\n",
       "      <th>...</th>\n",
       "      <th>Not_Purchasing_Unfamiliar_vendor</th>\n",
       "      <th>Registered_to_Vote</th>\n",
       "      <th>Sexual_Preference</th>\n",
       "      <th>Web_Ordering</th>\n",
       "      <th>Web_Page_Creation</th>\n",
       "      <th>Who_Pays_for_Access_Dont_Know</th>\n",
       "      <th>Who_Pays_for_Access_Other</th>\n",
       "      <th>Who_Pays_for_Access_Parents</th>\n",
       "      <th>Who_Pays_for_Access_School</th>\n",
       "      <th>Who_Pays_for_Access_Self</th>\n",
       "    </tr>\n",
       "  </thead>\n",
       "  <tbody>\n",
       "    <tr>\n",
       "      <th>count</th>\n",
       "      <td>10108</td>\n",
       "      <td>10108</td>\n",
       "      <td>10108</td>\n",
       "      <td>10108</td>\n",
       "      <td>10108</td>\n",
       "      <td>10108</td>\n",
       "      <td>10108</td>\n",
       "      <td>10108</td>\n",
       "      <td>10108</td>\n",
       "      <td>10108</td>\n",
       "      <td>...</td>\n",
       "      <td>10108</td>\n",
       "      <td>10108</td>\n",
       "      <td>10108</td>\n",
       "      <td>10108</td>\n",
       "      <td>10108</td>\n",
       "      <td>10108</td>\n",
       "      <td>10108</td>\n",
       "      <td>10108</td>\n",
       "      <td>10108</td>\n",
       "      <td>10108</td>\n",
       "    </tr>\n",
       "    <tr>\n",
       "      <th>unique</th>\n",
       "      <td>46</td>\n",
       "      <td>77</td>\n",
       "      <td>4</td>\n",
       "      <td>2</td>\n",
       "      <td>2</td>\n",
       "      <td>2</td>\n",
       "      <td>2</td>\n",
       "      <td>2</td>\n",
       "      <td>2</td>\n",
       "      <td>2</td>\n",
       "      <td>...</td>\n",
       "      <td>2</td>\n",
       "      <td>4</td>\n",
       "      <td>6</td>\n",
       "      <td>3</td>\n",
       "      <td>3</td>\n",
       "      <td>2</td>\n",
       "      <td>2</td>\n",
       "      <td>2</td>\n",
       "      <td>2</td>\n",
       "      <td>2</td>\n",
       "    </tr>\n",
       "    <tr>\n",
       "      <th>top</th>\n",
       "      <td>Other</td>\n",
       "      <td>26</td>\n",
       "      <td>More</td>\n",
       "      <td>0</td>\n",
       "      <td>0</td>\n",
       "      <td>0</td>\n",
       "      <td>0</td>\n",
       "      <td>0</td>\n",
       "      <td>0</td>\n",
       "      <td>0</td>\n",
       "      <td>...</td>\n",
       "      <td>0</td>\n",
       "      <td>Yes</td>\n",
       "      <td>Heterosexual</td>\n",
       "      <td>Yes</td>\n",
       "      <td>No</td>\n",
       "      <td>0</td>\n",
       "      <td>0</td>\n",
       "      <td>0</td>\n",
       "      <td>0</td>\n",
       "      <td>1</td>\n",
       "    </tr>\n",
       "    <tr>\n",
       "      <th>freq</th>\n",
       "      <td>2878</td>\n",
       "      <td>325</td>\n",
       "      <td>4596</td>\n",
       "      <td>7362</td>\n",
       "      <td>5577</td>\n",
       "      <td>7646</td>\n",
       "      <td>8228</td>\n",
       "      <td>9147</td>\n",
       "      <td>6923</td>\n",
       "      <td>9408</td>\n",
       "      <td>...</td>\n",
       "      <td>8400</td>\n",
       "      <td>8374</td>\n",
       "      <td>8669</td>\n",
       "      <td>6888</td>\n",
       "      <td>5429</td>\n",
       "      <td>10059</td>\n",
       "      <td>9776</td>\n",
       "      <td>9525</td>\n",
       "      <td>8768</td>\n",
       "      <td>7165</td>\n",
       "    </tr>\n",
       "  </tbody>\n",
       "</table>\n",
       "<p>4 rows × 68 columns</p>\n",
       "</div>"
      ],
      "text/plain": [
       "       Actual_Time    Age Community_Building Community_Membership_Family  \\\n",
       "count        10108  10108              10108                       10108   \n",
       "unique          46     77                  4                           2   \n",
       "top          Other     26               More                           0   \n",
       "freq          2878    325               4596                        7362   \n",
       "\n",
       "       Community_Membership_Hobbies Community_Membership_None  \\\n",
       "count                         10108                     10108   \n",
       "unique                            2                         2   \n",
       "top                               0                         0   \n",
       "freq                           5577                      7646   \n",
       "\n",
       "       Community_Membership_Other Community_Membership_Political  \\\n",
       "count                       10108                          10108   \n",
       "unique                          2                              2   \n",
       "top                             0                              0   \n",
       "freq                         8228                           9147   \n",
       "\n",
       "       Community_Membership_Professional Community_Membership_Religious  ...  \\\n",
       "count                              10108                          10108  ...   \n",
       "unique                                 2                              2  ...   \n",
       "top                                    0                              0  ...   \n",
       "freq                                6923                           9408  ...   \n",
       "\n",
       "       Not_Purchasing_Unfamiliar_vendor Registered_to_Vote Sexual_Preference  \\\n",
       "count                             10108              10108             10108   \n",
       "unique                                2                  4                 6   \n",
       "top                                   0                Yes      Heterosexual   \n",
       "freq                               8400               8374              8669   \n",
       "\n",
       "       Web_Ordering Web_Page_Creation Who_Pays_for_Access_Dont_Know  \\\n",
       "count         10108             10108                         10108   \n",
       "unique            3                 3                             2   \n",
       "top             Yes                No                             0   \n",
       "freq           6888              5429                         10059   \n",
       "\n",
       "       Who_Pays_for_Access_Other Who_Pays_for_Access_Parents  \\\n",
       "count                      10108                       10108   \n",
       "unique                         2                           2   \n",
       "top                            0                           0   \n",
       "freq                        9776                        9525   \n",
       "\n",
       "       Who_Pays_for_Access_School Who_Pays_for_Access_Self  \n",
       "count                       10108                    10108  \n",
       "unique                          2                        2  \n",
       "top                             0                        1  \n",
       "freq                         8768                     7165  \n",
       "\n",
       "[4 rows x 68 columns]"
      ]
     },
     "execution_count": 7,
     "metadata": {},
     "output_type": "execute_result"
    }
   ],
   "source": [
    "X.describe()"
   ]
  },
  {
   "cell_type": "markdown",
   "id": "26547dc6",
   "metadata": {},
   "source": [
    "We check for duplicate rows."
   ]
  },
  {
   "cell_type": "code",
   "execution_count": 8,
   "id": "b04401c9",
   "metadata": {
    "scrolled": false
   },
   "outputs": [
    {
     "data": {
      "text/plain": [
       "0"
      ]
     },
     "execution_count": 8,
     "metadata": {},
     "output_type": "execute_result"
    }
   ],
   "source": [
    "X.duplicated().sum()"
   ]
  },
  {
   "cell_type": "markdown",
   "id": "22682c0e",
   "metadata": {},
   "source": [
    " "
   ]
  },
  {
   "cell_type": "markdown",
   "id": "8a850463",
   "metadata": {},
   "source": [
    "## Study of NA's"
   ]
  },
  {
   "cell_type": "code",
   "execution_count": 9,
   "id": "0e19b7ec",
   "metadata": {
    "scrolled": true
   },
   "outputs": [
    {
     "data": {
      "text/plain": [
       "Primary_Computing_Platform                  2699\n",
       "Actual_Time                                    0\n",
       "Not_Purchasing_Company_policy                  0\n",
       "Not_Purchasing_Not_applicable                  0\n",
       "Not_Purchasing_No_credit                       0\n",
       "                                            ... \n",
       "How_You_Heard_About_Survey_Search_Engine       0\n",
       "How_You_Heard_About_Survey_Usenet_News         0\n",
       "How_You_Heard_About_Survey_WWW_Page            0\n",
       "Major_Geographical_Location                    0\n",
       "Who_Pays_for_Access_Self                       0\n",
       "Length: 68, dtype: int64"
      ]
     },
     "execution_count": 9,
     "metadata": {},
     "output_type": "execute_result"
    }
   ],
   "source": [
    "X.isna().sum().sort_values(ascending = False)"
   ]
  },
  {
   "cell_type": "markdown",
   "id": "7387acd9",
   "metadata": {},
   "source": [
    "As can be seen, there are two features with np.nan values. However, this does not mean that there are no more variables containing missing values."
   ]
  },
  {
   "cell_type": "code",
   "execution_count": 10,
   "id": "831fc56d",
   "metadata": {
    "scrolled": true
   },
   "outputs": [
    {
     "data": {
      "text/plain": [
       "7"
      ]
     },
     "execution_count": 10,
     "metadata": {},
     "output_type": "execute_result"
    }
   ],
   "source": [
    "(X=='Not_Say').any().sum()"
   ]
  },
  {
   "cell_type": "code",
   "execution_count": 11,
   "id": "2138e90a",
   "metadata": {},
   "outputs": [
    {
     "data": {
      "text/plain": [
       "3"
      ]
     },
     "execution_count": 11,
     "metadata": {},
     "output_type": "execute_result"
    }
   ],
   "source": [
    "(X==\"Dont_Know\").any().sum()"
   ]
  },
  {
   "cell_type": "markdown",
   "id": "111c2b01",
   "metadata": {},
   "source": [
    "#### Not_Say"
   ]
  },
  {
   "cell_type": "code",
   "execution_count": 12,
   "id": "c1537f88",
   "metadata": {},
   "outputs": [
    {
     "data": {
      "text/plain": [
       "Index(['Age', 'Falsification_of_Information', 'Household_Income',\n",
       "       'Marital_Status', 'Primary_Language', 'Race', 'Registered_to_Vote'],\n",
       "      dtype='object')"
      ]
     },
     "execution_count": 12,
     "metadata": {},
     "output_type": "execute_result"
    }
   ],
   "source": [
    "not_say_columns = X.columns[np.unique(np.where(X.eq('Not_Say'))[1])]\n",
    "not_say_columns"
   ]
  },
  {
   "cell_type": "markdown",
   "id": "092e6bc7",
   "metadata": {},
   "source": [
    "We convert these values into NaN."
   ]
  },
  {
   "cell_type": "code",
   "execution_count": 13,
   "id": "d727f99e",
   "metadata": {},
   "outputs": [],
   "source": [
    "X[not_say_columns] = X[not_say_columns].replace(\"Not_Say\", np.nan)"
   ]
  },
  {
   "cell_type": "code",
   "execution_count": 14,
   "id": "46a68807",
   "metadata": {},
   "outputs": [
    {
     "data": {
      "text/plain": [
       "array([], dtype=int64)"
      ]
     },
     "execution_count": 14,
     "metadata": {},
     "output_type": "execute_result"
    }
   ],
   "source": [
    "np.unique(np.where(X.eq('Not_Say'))[1])"
   ]
  },
  {
   "cell_type": "markdown",
   "id": "eb1b2476",
   "metadata": {},
   "source": [
    "#### Don't know"
   ]
  },
  {
   "cell_type": "code",
   "execution_count": 15,
   "id": "54fd64e5",
   "metadata": {},
   "outputs": [
    {
     "data": {
      "text/plain": [
       "Index(['Community_Building', 'Most_Import_Issue_Facing_the_Internet',\n",
       "       'Primary_Computing_Platform'],\n",
       "      dtype='object')"
      ]
     },
     "execution_count": 15,
     "metadata": {},
     "output_type": "execute_result"
    }
   ],
   "source": [
    "X.columns[np.unique(np.where(X.eq('Dont_Know'))[1])]"
   ]
  },
  {
   "cell_type": "markdown",
   "id": "385aa4c9",
   "metadata": {},
   "source": [
    "We leave them as another category."
   ]
  },
  {
   "cell_type": "markdown",
   "id": "eeb83041",
   "metadata": {},
   "source": [
    "Final percentage of NAs in the dataset:"
   ]
  },
  {
   "cell_type": "code",
   "execution_count": 16,
   "id": "5b9a37eb",
   "metadata": {},
   "outputs": [
    {
     "data": {
      "text/plain": [
       "0.8157487371679975"
      ]
     },
     "execution_count": 16,
     "metadata": {},
     "output_type": "execute_result"
    }
   ],
   "source": [
    "(X.isna().sum().sort_values(ascending = False).sum() / (X.shape[0]*X.shape[1]))*100"
   ]
  },
  {
   "cell_type": "markdown",
   "id": "3037136b",
   "metadata": {},
   "source": [
    " "
   ]
  },
  {
   "cell_type": "markdown",
   "id": "655e679a",
   "metadata": {},
   "source": [
    "## Type of Variables"
   ]
  },
  {
   "cell_type": "markdown",
   "id": "40c63dbc",
   "metadata": {},
   "source": [
    "Due to the information in OpenML, we converte the **Age** variable in categorical."
   ]
  },
  {
   "cell_type": "code",
   "execution_count": 17,
   "id": "233cca5a",
   "metadata": {},
   "outputs": [],
   "source": [
    "X['Age'] = X['Age'].astype(str)"
   ]
  },
  {
   "cell_type": "markdown",
   "id": "7e1722be",
   "metadata": {},
   "source": [
    "Also, we convert **Gender** variable in numerical binary."
   ]
  },
  {
   "cell_type": "code",
   "execution_count": 18,
   "id": "97448254",
   "metadata": {},
   "outputs": [
    {
     "data": {
      "text/plain": [
       "Gender\n",
       "Male      6217\n",
       "Female    3891\n",
       "Name: count, dtype: int64"
      ]
     },
     "execution_count": 18,
     "metadata": {},
     "output_type": "execute_result"
    }
   ],
   "source": [
    "X['Gender'].value_counts()"
   ]
  },
  {
   "cell_type": "code",
   "execution_count": 19,
   "id": "ca7fe998",
   "metadata": {},
   "outputs": [],
   "source": [
    "X['Gender'] = X['Gender'].map({'Male':0, 'Female':1}).astype(float)"
   ]
  },
  {
   "cell_type": "markdown",
   "id": "11bbc9d0",
   "metadata": {},
   "source": [
    "We see which and how many variables contain only the values {\"0\", \"1\"}."
   ]
  },
  {
   "cell_type": "code",
   "execution_count": 20,
   "id": "f38e4305",
   "metadata": {
    "scrolled": true
   },
   "outputs": [
    {
     "data": {
      "text/plain": [
       "47"
      ]
     },
     "execution_count": 20,
     "metadata": {},
     "output_type": "execute_result"
    }
   ],
   "source": [
    "variables_01 = X.columns[X.isin(['0', '1',]).all()]\n",
    "len(variables_01)"
   ]
  },
  {
   "cell_type": "code",
   "execution_count": 21,
   "id": "92dbba20",
   "metadata": {},
   "outputs": [],
   "source": [
    "for col in variables_01:\n",
    "    X[col] = X[col].astype(float)"
   ]
  },
  {
   "cell_type": "markdown",
   "id": "6b536a1c",
   "metadata": {},
   "source": [
    "Variable types:"
   ]
  },
  {
   "cell_type": "code",
   "execution_count": 22,
   "id": "df6a27bb",
   "metadata": {},
   "outputs": [
    {
     "data": {
      "text/plain": [
       "48"
      ]
     },
     "execution_count": 22,
     "metadata": {},
     "output_type": "execute_result"
    }
   ],
   "source": [
    "num_columns = X.select_dtypes(include=['number']).columns\n",
    "len(num_columns)"
   ]
  },
  {
   "cell_type": "code",
   "execution_count": 23,
   "id": "5e3cf764",
   "metadata": {},
   "outputs": [
    {
     "data": {
      "text/plain": [
       "20"
      ]
     },
     "execution_count": 23,
     "metadata": {},
     "output_type": "execute_result"
    }
   ],
   "source": [
    "cat_columns = X.select_dtypes(include=['category','object']).columns\n",
    "len(cat_columns)"
   ]
  },
  {
   "cell_type": "markdown",
   "id": "1d2c8ba0",
   "metadata": {},
   "source": [
    "Cardinality of the 20 variables with the highest number of unique values."
   ]
  },
  {
   "cell_type": "code",
   "execution_count": 24,
   "id": "4f246eb2",
   "metadata": {},
   "outputs": [
    {
     "data": {
      "text/plain": [
       "Country                                  129\n",
       "Primary_Language                         118\n",
       "Age                                       77\n",
       "Actual_Time                               46\n",
       "Primary_Computing_Platform                11\n",
       "Major_Geographical_Location               10\n",
       "Primary_Place_of_WWW_Access                9\n",
       "Most_Import_Issue_Facing_the_Internet      9\n",
       "Education_Attainment                       9\n",
       "Household_Income                           8\n",
       "Race                                       7\n",
       "Marital_Status                             6\n",
       "Falsification_of_Information               6\n",
       "Sexual_Preference                          6\n",
       "Major_Occupation                           5\n",
       "Opinions_on_Censorship                     4\n",
       "Community_Building                         4\n",
       "Registered_to_Vote                         3\n",
       "Web_Ordering                               3\n",
       "Web_Page_Creation                          3\n",
       "dtype: int64"
      ]
     },
     "execution_count": 24,
     "metadata": {},
     "output_type": "execute_result"
    }
   ],
   "source": [
    "X[cat_columns].apply(lambda col: col.nunique()).sort_values(ascending=False)[0:20]"
   ]
  },
  {
   "cell_type": "markdown",
   "id": "ded817d9",
   "metadata": {},
   "source": [
    " "
   ]
  },
  {
   "cell_type": "markdown",
   "id": "befa1f00",
   "metadata": {},
   "source": [
    "## Value counts of the variables with more cardinality"
   ]
  },
  {
   "cell_type": "markdown",
   "id": "373bdb51",
   "metadata": {},
   "source": [
    "#### Country"
   ]
  },
  {
   "cell_type": "code",
   "execution_count": 25,
   "id": "51613df7",
   "metadata": {
    "scrolled": true
   },
   "outputs": [
    {
     "data": {
      "text/plain": [
       "Country\n",
       "California      1021\n",
       "New_York         603\n",
       "Texas            494\n",
       "Florida          474\n",
       "Georgia          431\n",
       "Pennsylvania     393\n",
       "Ohio             318\n",
       "Illinois         318\n",
       "Michigan         307\n",
       "Washington       301\n",
       "Name: count, dtype: int64"
      ]
     },
     "execution_count": 25,
     "metadata": {},
     "output_type": "execute_result"
    }
   ],
   "source": [
    "X.Country.value_counts()[0:10]"
   ]
  },
  {
   "cell_type": "markdown",
   "id": "0b9a7c5f",
   "metadata": {},
   "source": [
    "#### Primary Language"
   ]
  },
  {
   "cell_type": "code",
   "execution_count": 26,
   "id": "0af8cf29",
   "metadata": {},
   "outputs": [
    {
     "data": {
      "text/plain": [
       "Primary_Language\n",
       "English       9412\n",
       "German          95\n",
       "French          74\n",
       "Dutch           73\n",
       "Spanish         72\n",
       "Chinese         32\n",
       "Swedish         30\n",
       "Italian         24\n",
       "Norwegian       22\n",
       "Portuguese      17\n",
       "Name: count, dtype: int64"
      ]
     },
     "execution_count": 26,
     "metadata": {},
     "output_type": "execute_result"
    }
   ],
   "source": [
    "X.Primary_Language.value_counts()[0:10]"
   ]
  },
  {
   "cell_type": "markdown",
   "id": "5e640dd7",
   "metadata": {},
   "source": [
    "#### Actual Time"
   ]
  },
  {
   "cell_type": "code",
   "execution_count": 27,
   "id": "2703be4c",
   "metadata": {},
   "outputs": [
    {
     "data": {
      "text/plain": [
       "Actual_Time\n",
       "Other                          2878\n",
       "College_Student                1458\n",
       "Retired                         494\n",
       "Manager                         490\n",
       "Programmer                      477\n",
       "Service_Industry_Occupation     327\n",
       "K-12_Student                    326\n",
       "Homemaker                       253\n",
       "Administrator/Secretary         231\n",
       "Engineer                        226\n",
       "Name: count, dtype: int64"
      ]
     },
     "execution_count": 27,
     "metadata": {},
     "output_type": "execute_result"
    }
   ],
   "source": [
    "X.Actual_Time.value_counts()[0:10]"
   ]
  },
  {
   "cell_type": "markdown",
   "id": "d0dfbf69",
   "metadata": {},
   "source": [
    " "
   ]
  },
  {
   "cell_type": "markdown",
   "id": "9edec00b",
   "metadata": {},
   "source": [
    "## Response variable distribution"
   ]
  },
  {
   "cell_type": "code",
   "execution_count": 28,
   "id": "b91f1181",
   "metadata": {},
   "outputs": [
    {
     "data": {
      "text/plain": [
       "Who_Pays_for_Access_Work\n",
       "0    7393\n",
       "1    2715\n",
       "Name: count, dtype: int64"
      ]
     },
     "execution_count": 28,
     "metadata": {},
     "output_type": "execute_result"
    }
   ],
   "source": [
    "y.value_counts()"
   ]
  },
  {
   "cell_type": "code",
   "execution_count": 29,
   "id": "3b9ee832",
   "metadata": {},
   "outputs": [
    {
     "data": {
      "text/plain": [
       "Who_Pays_for_Access_Work\n",
       "0    0.731401\n",
       "1    0.268599\n",
       "Name: proportion, dtype: float64"
      ]
     },
     "execution_count": 29,
     "metadata": {},
     "output_type": "execute_result"
    }
   ],
   "source": [
    "y.value_counts(normalize=True)"
   ]
  },
  {
   "cell_type": "markdown",
   "id": "1ed156a4",
   "metadata": {},
   "source": [
    " "
   ]
  },
  {
   "cell_type": "markdown",
   "id": "9be21378",
   "metadata": {},
   "source": [
    "## Train-Test Split"
   ]
  },
  {
   "cell_type": "code",
   "execution_count": 30,
   "id": "89692b0b",
   "metadata": {},
   "outputs": [],
   "source": [
    "from sklearn.model_selection import train_test_split"
   ]
  },
  {
   "cell_type": "code",
   "execution_count": 31,
   "id": "c3bdc944",
   "metadata": {},
   "outputs": [],
   "source": [
    "X_train, X_test, y_train, y_test = train_test_split(X,y, \n",
    "                                                    test_size = 0.33, \n",
    "                                                    random_state = 42,\n",
    "                                                    stratify = y)"
   ]
  },
  {
   "cell_type": "code",
   "execution_count": 32,
   "id": "d1d04710",
   "metadata": {},
   "outputs": [
    {
     "name": "stdout",
     "output_type": "stream",
     "text": [
      "X_train shape: (6772, 68)\n",
      "X_test shape:  (3336, 68)\n",
      "y_train shape: (6772,)\n",
      "y_test shape:  (3336,)\n"
     ]
    }
   ],
   "source": [
    "print(f'X_train shape: {X_train.shape}')\n",
    "print(f'X_test shape:  {X_test.shape}')\n",
    "print(f'y_train shape: {y_train.shape}')\n",
    "print(f'y_test shape:  {y_test.shape}')"
   ]
  },
  {
   "cell_type": "markdown",
   "id": "47ce5680",
   "metadata": {},
   "source": [
    " "
   ]
  },
  {
   "cell_type": "markdown",
   "id": "3db2e0d9",
   "metadata": {},
   "source": [
    "## Pipelines"
   ]
  },
  {
   "cell_type": "code",
   "execution_count": 33,
   "id": "5d53bd83",
   "metadata": {},
   "outputs": [],
   "source": [
    "from sklearn.pipeline import Pipeline\n",
    "from sklearn.compose import ColumnTransformer\n",
    "\n",
    "from sklearn.experimental import enable_iterative_imputer\n",
    "from sklearn.impute import IterativeImputer, SimpleImputer\n",
    "from sklearn.preprocessing import OneHotEncoder\n",
    "\n",
    "from sklearn.ensemble import RandomForestRegressor, HistGradientBoostingClassifier\n",
    "from sklearn.metrics import balanced_accuracy_score\n",
    "\n",
    "import scipy.stats\n",
    "from sklearn.model_selection import StratifiedKFold\n",
    "from sklearn.model_selection import RandomizedSearchCV\n",
    "\n",
    "import time"
   ]
  },
  {
   "cell_type": "code",
   "execution_count": 34,
   "id": "ffd7fde4",
   "metadata": {},
   "outputs": [],
   "source": [
    "num_cols = X_train.select_dtypes(include=['number']).columns.to_list()\n",
    "cat_cols = X_train.select_dtypes(include=['category']).columns.to_list()\n",
    "\n",
    "cat_cols_less9 = [col for col in cat_cols if X[col].nunique() <= 9]\n",
    "cat_cols_more9 = [col for col in cat_cols if X[col].nunique() > 9]"
   ]
  },
  {
   "cell_type": "code",
   "execution_count": 35,
   "id": "8940ee7a",
   "metadata": {},
   "outputs": [],
   "source": [
    "# Define the HistGradientBoostingClassifier\n",
    "hgb_default = HistGradientBoostingClassifier(max_iter=100, random_state=1234,\n",
    "                                             early_stopping=True,\n",
    "                                             scoring='balanced_accuracy',\n",
    "                                             validation_fraction=0.1,\n",
    "                                             n_iter_no_change=5,\n",
    "                                             class_weight='balanced')\n",
    "\n",
    "hgb_default9 = HistGradientBoostingClassifier(max_iter=1000, random_state=1234,\n",
    "                                              early_stopping=True,\n",
    "                                              scoring='balanced_accuracy',\n",
    "                                              validation_fraction=0.1,\n",
    "                                              n_iter_no_change=5,\n",
    "                                              class_weight='balanced')\n",
    "\n",
    "\n",
    "# Define the hyperparameter search space\n",
    "param_distributions = {\n",
    "    'model__learning_rate': scipy.stats.uniform(0.01, 0.3),\n",
    "    'model__min_samples_leaf': scipy.stats.randint(1, 10),\n",
    "}\n",
    "\n",
    "# Create a StratifiedKFold cross-validation instance\n",
    "stratified_kfold = StratifiedKFold(n_splits=3, shuffle=True, random_state=1234)"
   ]
  },
  {
   "cell_type": "markdown",
   "id": "08d62e9c",
   "metadata": {},
   "source": [
    " "
   ]
  },
  {
   "cell_type": "markdown",
   "id": "6f393bd6",
   "metadata": {},
   "source": [
    "### One Hot Encoding + HistGradientBoosting"
   ]
  },
  {
   "cell_type": "markdown",
   "id": "bfa2707e",
   "metadata": {},
   "source": [
    "#### Preprocessing"
   ]
  },
  {
   "cell_type": "code",
   "execution_count": 36,
   "id": "5e34dd74",
   "metadata": {},
   "outputs": [],
   "source": [
    "num_pipeline = Pipeline([\n",
    "    (\"imputer\", SimpleImputer(strategy = \"median\"))\n",
    "])\n",
    "\n",
    "cat_pipeline = Pipeline([\n",
    "    (\"imputer\", SimpleImputer(strategy = \"most_frequent\")),\n",
    "    (\"encoder\", OneHotEncoder(drop = \"first\", handle_unknown = \"ignore\"))\n",
    "])\n",
    "\n",
    "preprop_pipeline = ColumnTransformer(\n",
    "    transformers = [(\"num\", num_pipeline, num_cols),\n",
    "                    (\"one_hot\", cat_pipeline, cat_cols)],\n",
    "    sparse_threshold=0\n",
    ")"
   ]
  },
  {
   "cell_type": "markdown",
   "id": "a5810fcc",
   "metadata": {},
   "source": [
    "#### Create a HistGradientBoostingClassifier model with default parameters and early stopping"
   ]
  },
  {
   "cell_type": "code",
   "execution_count": 37,
   "id": "5cf85af6",
   "metadata": {},
   "outputs": [],
   "source": [
    "ohe_hgb_default_pipeline = Pipeline([('preprocessing', preprop_pipeline),\n",
    "                                     ('model', hgb_default)])"
   ]
  },
  {
   "cell_type": "code",
   "execution_count": 38,
   "id": "de2a1e53",
   "metadata": {},
   "outputs": [],
   "source": [
    "tic = time.time()\n",
    "\n",
    "ohe_hgb_default = ohe_hgb_default_pipeline.fit(X_train, y_train)\n",
    "\n",
    "toc = time.time()\n",
    "ohe_hgb_default_time_taken = toc-tic"
   ]
  },
  {
   "cell_type": "code",
   "execution_count": 39,
   "metadata": {},
   "outputs": [
    {
     "name": "stdout",
     "output_type": "stream",
     "text": [
      "Time taken:  1.3906311988830566\n"
     ]
    },
    {
     "data": {
      "text/html": [
       "<style>#sk-container-id-1 {color: black;}#sk-container-id-1 pre{padding: 0;}#sk-container-id-1 div.sk-toggleable {background-color: white;}#sk-container-id-1 label.sk-toggleable__label {cursor: pointer;display: block;width: 100%;margin-bottom: 0;padding: 0.3em;box-sizing: border-box;text-align: center;}#sk-container-id-1 label.sk-toggleable__label-arrow:before {content: \"▸\";float: left;margin-right: 0.25em;color: #696969;}#sk-container-id-1 label.sk-toggleable__label-arrow:hover:before {color: black;}#sk-container-id-1 div.sk-estimator:hover label.sk-toggleable__label-arrow:before {color: black;}#sk-container-id-1 div.sk-toggleable__content {max-height: 0;max-width: 0;overflow: hidden;text-align: left;background-color: #f0f8ff;}#sk-container-id-1 div.sk-toggleable__content pre {margin: 0.2em;color: black;border-radius: 0.25em;background-color: #f0f8ff;}#sk-container-id-1 input.sk-toggleable__control:checked~div.sk-toggleable__content {max-height: 200px;max-width: 100%;overflow: auto;}#sk-container-id-1 input.sk-toggleable__control:checked~label.sk-toggleable__label-arrow:before {content: \"▾\";}#sk-container-id-1 div.sk-estimator input.sk-toggleable__control:checked~label.sk-toggleable__label {background-color: #d4ebff;}#sk-container-id-1 div.sk-label input.sk-toggleable__control:checked~label.sk-toggleable__label {background-color: #d4ebff;}#sk-container-id-1 input.sk-hidden--visually {border: 0;clip: rect(1px 1px 1px 1px);clip: rect(1px, 1px, 1px, 1px);height: 1px;margin: -1px;overflow: hidden;padding: 0;position: absolute;width: 1px;}#sk-container-id-1 div.sk-estimator {font-family: monospace;background-color: #f0f8ff;border: 1px dotted black;border-radius: 0.25em;box-sizing: border-box;margin-bottom: 0.5em;}#sk-container-id-1 div.sk-estimator:hover {background-color: #d4ebff;}#sk-container-id-1 div.sk-parallel-item::after {content: \"\";width: 100%;border-bottom: 1px solid gray;flex-grow: 1;}#sk-container-id-1 div.sk-label:hover label.sk-toggleable__label {background-color: #d4ebff;}#sk-container-id-1 div.sk-serial::before {content: \"\";position: absolute;border-left: 1px solid gray;box-sizing: border-box;top: 0;bottom: 0;left: 50%;z-index: 0;}#sk-container-id-1 div.sk-serial {display: flex;flex-direction: column;align-items: center;background-color: white;padding-right: 0.2em;padding-left: 0.2em;position: relative;}#sk-container-id-1 div.sk-item {position: relative;z-index: 1;}#sk-container-id-1 div.sk-parallel {display: flex;align-items: stretch;justify-content: center;background-color: white;position: relative;}#sk-container-id-1 div.sk-item::before, #sk-container-id-1 div.sk-parallel-item::before {content: \"\";position: absolute;border-left: 1px solid gray;box-sizing: border-box;top: 0;bottom: 0;left: 50%;z-index: -1;}#sk-container-id-1 div.sk-parallel-item {display: flex;flex-direction: column;z-index: 1;position: relative;background-color: white;}#sk-container-id-1 div.sk-parallel-item:first-child::after {align-self: flex-end;width: 50%;}#sk-container-id-1 div.sk-parallel-item:last-child::after {align-self: flex-start;width: 50%;}#sk-container-id-1 div.sk-parallel-item:only-child::after {width: 0;}#sk-container-id-1 div.sk-dashed-wrapped {border: 1px dashed gray;margin: 0 0.4em 0.5em 0.4em;box-sizing: border-box;padding-bottom: 0.4em;background-color: white;}#sk-container-id-1 div.sk-label label {font-family: monospace;font-weight: bold;display: inline-block;line-height: 1.2em;}#sk-container-id-1 div.sk-label-container {text-align: center;}#sk-container-id-1 div.sk-container {/* jupyter's `normalize.less` sets `[hidden] { display: none; }` but bootstrap.min.css set `[hidden] { display: none !important; }` so we also need the `!important` here to be able to override the default hidden behavior on the sphinx rendered scikit-learn.org. See: https://github.com/scikit-learn/scikit-learn/issues/21755 */display: inline-block !important;position: relative;}#sk-container-id-1 div.sk-text-repr-fallback {display: none;}</style><div id=\"sk-container-id-1\" class=\"sk-top-container\"><div class=\"sk-text-repr-fallback\"><pre>Pipeline(steps=[(&#x27;preprocessing&#x27;,\n",
       "                 ColumnTransformer(sparse_threshold=0,\n",
       "                                   transformers=[(&#x27;num&#x27;,\n",
       "                                                  Pipeline(steps=[(&#x27;imputer&#x27;,\n",
       "                                                                   SimpleImputer(strategy=&#x27;median&#x27;))]),\n",
       "                                                  [&#x27;Community_Membership_Family&#x27;,\n",
       "                                                   &#x27;Community_Membership_Hobbies&#x27;,\n",
       "                                                   &#x27;Community_Membership_None&#x27;,\n",
       "                                                   &#x27;Community_Membership_Other&#x27;,\n",
       "                                                   &#x27;Community_Membership_Political&#x27;,\n",
       "                                                   &#x27;Community_Membership_Professional&#x27;,\n",
       "                                                   &#x27;Communi...\n",
       "                                                   &#x27;Most_Import_Issue_Facing_the_Internet&#x27;,\n",
       "                                                   &#x27;Opinions_on_Censorship&#x27;,\n",
       "                                                   &#x27;Primary_Computing_Platform&#x27;,\n",
       "                                                   &#x27;Primary_Language&#x27;,\n",
       "                                                   &#x27;Primary_Place_of_WWW_Access&#x27;,\n",
       "                                                   &#x27;Race&#x27;, &#x27;Registered_to_Vote&#x27;,\n",
       "                                                   &#x27;Sexual_Preference&#x27;,\n",
       "                                                   &#x27;Web_Ordering&#x27;,\n",
       "                                                   &#x27;Web_Page_Creation&#x27;])])),\n",
       "                (&#x27;model&#x27;,\n",
       "                 HistGradientBoostingClassifier(class_weight=&#x27;balanced&#x27;,\n",
       "                                                early_stopping=True,\n",
       "                                                n_iter_no_change=5,\n",
       "                                                random_state=1234,\n",
       "                                                scoring=&#x27;balanced_accuracy&#x27;))])</pre><b>In a Jupyter environment, please rerun this cell to show the HTML representation or trust the notebook. <br />On GitHub, the HTML representation is unable to render, please try loading this page with nbviewer.org.</b></div><div class=\"sk-container\" hidden><div class=\"sk-item sk-dashed-wrapped\"><div class=\"sk-label-container\"><div class=\"sk-label sk-toggleable\"><input class=\"sk-toggleable__control sk-hidden--visually\" id=\"sk-estimator-id-1\" type=\"checkbox\" ><label for=\"sk-estimator-id-1\" class=\"sk-toggleable__label sk-toggleable__label-arrow\">Pipeline</label><div class=\"sk-toggleable__content\"><pre>Pipeline(steps=[(&#x27;preprocessing&#x27;,\n",
       "                 ColumnTransformer(sparse_threshold=0,\n",
       "                                   transformers=[(&#x27;num&#x27;,\n",
       "                                                  Pipeline(steps=[(&#x27;imputer&#x27;,\n",
       "                                                                   SimpleImputer(strategy=&#x27;median&#x27;))]),\n",
       "                                                  [&#x27;Community_Membership_Family&#x27;,\n",
       "                                                   &#x27;Community_Membership_Hobbies&#x27;,\n",
       "                                                   &#x27;Community_Membership_None&#x27;,\n",
       "                                                   &#x27;Community_Membership_Other&#x27;,\n",
       "                                                   &#x27;Community_Membership_Political&#x27;,\n",
       "                                                   &#x27;Community_Membership_Professional&#x27;,\n",
       "                                                   &#x27;Communi...\n",
       "                                                   &#x27;Most_Import_Issue_Facing_the_Internet&#x27;,\n",
       "                                                   &#x27;Opinions_on_Censorship&#x27;,\n",
       "                                                   &#x27;Primary_Computing_Platform&#x27;,\n",
       "                                                   &#x27;Primary_Language&#x27;,\n",
       "                                                   &#x27;Primary_Place_of_WWW_Access&#x27;,\n",
       "                                                   &#x27;Race&#x27;, &#x27;Registered_to_Vote&#x27;,\n",
       "                                                   &#x27;Sexual_Preference&#x27;,\n",
       "                                                   &#x27;Web_Ordering&#x27;,\n",
       "                                                   &#x27;Web_Page_Creation&#x27;])])),\n",
       "                (&#x27;model&#x27;,\n",
       "                 HistGradientBoostingClassifier(class_weight=&#x27;balanced&#x27;,\n",
       "                                                early_stopping=True,\n",
       "                                                n_iter_no_change=5,\n",
       "                                                random_state=1234,\n",
       "                                                scoring=&#x27;balanced_accuracy&#x27;))])</pre></div></div></div><div class=\"sk-serial\"><div class=\"sk-item sk-dashed-wrapped\"><div class=\"sk-label-container\"><div class=\"sk-label sk-toggleable\"><input class=\"sk-toggleable__control sk-hidden--visually\" id=\"sk-estimator-id-2\" type=\"checkbox\" ><label for=\"sk-estimator-id-2\" class=\"sk-toggleable__label sk-toggleable__label-arrow\">preprocessing: ColumnTransformer</label><div class=\"sk-toggleable__content\"><pre>ColumnTransformer(sparse_threshold=0,\n",
       "                  transformers=[(&#x27;num&#x27;,\n",
       "                                 Pipeline(steps=[(&#x27;imputer&#x27;,\n",
       "                                                  SimpleImputer(strategy=&#x27;median&#x27;))]),\n",
       "                                 [&#x27;Community_Membership_Family&#x27;,\n",
       "                                  &#x27;Community_Membership_Hobbies&#x27;,\n",
       "                                  &#x27;Community_Membership_None&#x27;,\n",
       "                                  &#x27;Community_Membership_Other&#x27;,\n",
       "                                  &#x27;Community_Membership_Political&#x27;,\n",
       "                                  &#x27;Community_Membership_Professional&#x27;,\n",
       "                                  &#x27;Community_Membership_Religious&#x27;,\n",
       "                                  &#x27;Communi...\n",
       "                                  &#x27;Country&#x27;, &#x27;Education_Attainment&#x27;,\n",
       "                                  &#x27;Falsification_of_Information&#x27;,\n",
       "                                  &#x27;Household_Income&#x27;,\n",
       "                                  &#x27;Major_Geographical_Location&#x27;,\n",
       "                                  &#x27;Major_Occupation&#x27;, &#x27;Marital_Status&#x27;,\n",
       "                                  &#x27;Most_Import_Issue_Facing_the_Internet&#x27;,\n",
       "                                  &#x27;Opinions_on_Censorship&#x27;,\n",
       "                                  &#x27;Primary_Computing_Platform&#x27;,\n",
       "                                  &#x27;Primary_Language&#x27;,\n",
       "                                  &#x27;Primary_Place_of_WWW_Access&#x27;, &#x27;Race&#x27;,\n",
       "                                  &#x27;Registered_to_Vote&#x27;, &#x27;Sexual_Preference&#x27;,\n",
       "                                  &#x27;Web_Ordering&#x27;, &#x27;Web_Page_Creation&#x27;])])</pre></div></div></div><div class=\"sk-parallel\"><div class=\"sk-parallel-item\"><div class=\"sk-item\"><div class=\"sk-label-container\"><div class=\"sk-label sk-toggleable\"><input class=\"sk-toggleable__control sk-hidden--visually\" id=\"sk-estimator-id-3\" type=\"checkbox\" ><label for=\"sk-estimator-id-3\" class=\"sk-toggleable__label sk-toggleable__label-arrow\">num</label><div class=\"sk-toggleable__content\"><pre>[&#x27;Community_Membership_Family&#x27;, &#x27;Community_Membership_Hobbies&#x27;, &#x27;Community_Membership_None&#x27;, &#x27;Community_Membership_Other&#x27;, &#x27;Community_Membership_Political&#x27;, &#x27;Community_Membership_Professional&#x27;, &#x27;Community_Membership_Religious&#x27;, &#x27;Community_Membership_Support&#x27;, &#x27;Disability_Cognitive&#x27;, &#x27;Disability_Hearing&#x27;, &#x27;Disability_Motor&#x27;, &#x27;Disability_Not_Impaired&#x27;, &#x27;Disability_Not_Say&#x27;, &#x27;Disability_Vision&#x27;, &#x27;Gender&#x27;, &#x27;How_You_Heard_About_Survey_Banner&#x27;, &#x27;How_You_Heard_About_Survey_Friend&#x27;, &#x27;How_You_Heard_About_Survey_Mailing_List&#x27;, &#x27;How_You_Heard_About_Survey_Others&#x27;, &#x27;How_You_Heard_About_Survey_Printed_Media&#x27;, &#x27;How_You_Heard_About_Survey_Remebered&#x27;, &#x27;How_You_Heard_About_Survey_Search_Engine&#x27;, &#x27;How_You_Heard_About_Survey_Usenet_News&#x27;, &#x27;How_You_Heard_About_Survey_WWW_Page&#x27;, &#x27;Not_Purchasing_Bad_experience&#x27;, &#x27;Not_Purchasing_Bad_press&#x27;, &#x27;Not_Purchasing_Cant_find&#x27;, &#x27;Not_Purchasing_Company_policy&#x27;, &#x27;Not_Purchasing_Easier_locally&#x27;, &#x27;Not_Purchasing_Enough_info&#x27;, &#x27;Not_Purchasing_Judge_quality&#x27;, &#x27;Not_Purchasing_Never_tried&#x27;, &#x27;Not_Purchasing_No_credit&#x27;, &#x27;Not_Purchasing_Not_applicable&#x27;, &#x27;Not_Purchasing_Not_option&#x27;, &#x27;Not_Purchasing_Other&#x27;, &#x27;Not_Purchasing_Prefer_people&#x27;, &#x27;Not_Purchasing_Privacy&#x27;, &#x27;Not_Purchasing_Receipt&#x27;, &#x27;Not_Purchasing_Security&#x27;, &#x27;Not_Purchasing_Too_complicated&#x27;, &#x27;Not_Purchasing_Uncomfortable&#x27;, &#x27;Not_Purchasing_Unfamiliar_vendor&#x27;, &#x27;Who_Pays_for_Access_Dont_Know&#x27;, &#x27;Who_Pays_for_Access_Other&#x27;, &#x27;Who_Pays_for_Access_Parents&#x27;, &#x27;Who_Pays_for_Access_School&#x27;, &#x27;Who_Pays_for_Access_Self&#x27;]</pre></div></div></div><div class=\"sk-serial\"><div class=\"sk-item\"><div class=\"sk-serial\"><div class=\"sk-item\"><div class=\"sk-estimator sk-toggleable\"><input class=\"sk-toggleable__control sk-hidden--visually\" id=\"sk-estimator-id-4\" type=\"checkbox\" ><label for=\"sk-estimator-id-4\" class=\"sk-toggleable__label sk-toggleable__label-arrow\">SimpleImputer</label><div class=\"sk-toggleable__content\"><pre>SimpleImputer(strategy=&#x27;median&#x27;)</pre></div></div></div></div></div></div></div></div><div class=\"sk-parallel-item\"><div class=\"sk-item\"><div class=\"sk-label-container\"><div class=\"sk-label sk-toggleable\"><input class=\"sk-toggleable__control sk-hidden--visually\" id=\"sk-estimator-id-5\" type=\"checkbox\" ><label for=\"sk-estimator-id-5\" class=\"sk-toggleable__label sk-toggleable__label-arrow\">one_hot</label><div class=\"sk-toggleable__content\"><pre>[&#x27;Actual_Time&#x27;, &#x27;Community_Building&#x27;, &#x27;Country&#x27;, &#x27;Education_Attainment&#x27;, &#x27;Falsification_of_Information&#x27;, &#x27;Household_Income&#x27;, &#x27;Major_Geographical_Location&#x27;, &#x27;Major_Occupation&#x27;, &#x27;Marital_Status&#x27;, &#x27;Most_Import_Issue_Facing_the_Internet&#x27;, &#x27;Opinions_on_Censorship&#x27;, &#x27;Primary_Computing_Platform&#x27;, &#x27;Primary_Language&#x27;, &#x27;Primary_Place_of_WWW_Access&#x27;, &#x27;Race&#x27;, &#x27;Registered_to_Vote&#x27;, &#x27;Sexual_Preference&#x27;, &#x27;Web_Ordering&#x27;, &#x27;Web_Page_Creation&#x27;]</pre></div></div></div><div class=\"sk-serial\"><div class=\"sk-item\"><div class=\"sk-serial\"><div class=\"sk-item\"><div class=\"sk-estimator sk-toggleable\"><input class=\"sk-toggleable__control sk-hidden--visually\" id=\"sk-estimator-id-6\" type=\"checkbox\" ><label for=\"sk-estimator-id-6\" class=\"sk-toggleable__label sk-toggleable__label-arrow\">SimpleImputer</label><div class=\"sk-toggleable__content\"><pre>SimpleImputer(strategy=&#x27;most_frequent&#x27;)</pre></div></div></div><div class=\"sk-item\"><div class=\"sk-estimator sk-toggleable\"><input class=\"sk-toggleable__control sk-hidden--visually\" id=\"sk-estimator-id-7\" type=\"checkbox\" ><label for=\"sk-estimator-id-7\" class=\"sk-toggleable__label sk-toggleable__label-arrow\">OneHotEncoder</label><div class=\"sk-toggleable__content\"><pre>OneHotEncoder(drop=&#x27;first&#x27;, handle_unknown=&#x27;ignore&#x27;)</pre></div></div></div></div></div></div></div></div></div></div><div class=\"sk-item\"><div class=\"sk-estimator sk-toggleable\"><input class=\"sk-toggleable__control sk-hidden--visually\" id=\"sk-estimator-id-8\" type=\"checkbox\" ><label for=\"sk-estimator-id-8\" class=\"sk-toggleable__label sk-toggleable__label-arrow\">HistGradientBoostingClassifier</label><div class=\"sk-toggleable__content\"><pre>HistGradientBoostingClassifier(class_weight=&#x27;balanced&#x27;, early_stopping=True,\n",
       "                               n_iter_no_change=5, random_state=1234,\n",
       "                               scoring=&#x27;balanced_accuracy&#x27;)</pre></div></div></div></div></div></div></div>"
      ],
      "text/plain": [
       "Pipeline(steps=[('preprocessing',\n",
       "                 ColumnTransformer(sparse_threshold=0,\n",
       "                                   transformers=[('num',\n",
       "                                                  Pipeline(steps=[('imputer',\n",
       "                                                                   SimpleImputer(strategy='median'))]),\n",
       "                                                  ['Community_Membership_Family',\n",
       "                                                   'Community_Membership_Hobbies',\n",
       "                                                   'Community_Membership_None',\n",
       "                                                   'Community_Membership_Other',\n",
       "                                                   'Community_Membership_Political',\n",
       "                                                   'Community_Membership_Professional',\n",
       "                                                   'Communi...\n",
       "                                                   'Most_Import_Issue_Facing_the_Internet',\n",
       "                                                   'Opinions_on_Censorship',\n",
       "                                                   'Primary_Computing_Platform',\n",
       "                                                   'Primary_Language',\n",
       "                                                   'Primary_Place_of_WWW_Access',\n",
       "                                                   'Race', 'Registered_to_Vote',\n",
       "                                                   'Sexual_Preference',\n",
       "                                                   'Web_Ordering',\n",
       "                                                   'Web_Page_Creation'])])),\n",
       "                ('model',\n",
       "                 HistGradientBoostingClassifier(class_weight='balanced',\n",
       "                                                early_stopping=True,\n",
       "                                                n_iter_no_change=5,\n",
       "                                                random_state=1234,\n",
       "                                                scoring='balanced_accuracy'))])"
      ]
     },
     "execution_count": 39,
     "metadata": {},
     "output_type": "execute_result"
    }
   ],
   "source": [
    "# Display pipeline\n",
    "print(\"Time taken: \", ohe_hgb_default_time_taken)\n",
    "ohe_hgb_default"
   ]
  },
  {
   "cell_type": "code",
   "execution_count": 40,
   "id": "7dbc6f3f",
   "metadata": {},
   "outputs": [
    {
     "name": "stdout",
     "output_type": "stream",
     "text": [
      "Balanced accuracy with default parameters: 0.8641009221311475\n"
     ]
    },
    {
     "name": "stderr",
     "output_type": "stream",
     "text": [
      "c:\\Users\\VNG\\AppData\\Local\\Programs\\Python\\Python310\\lib\\site-packages\\sklearn\\preprocessing\\_encoders.py:228: UserWarning: Found unknown categories in columns [2, 12] during transform. These unknown categories will be encoded as all zeros\n",
      "  warnings.warn(\n"
     ]
    }
   ],
   "source": [
    "# # Calculate balanced accuracy for the model with default parameters\n",
    "y_ohe_hgb_default_pred = ohe_hgb_default.predict(X_test)\n",
    "ohe_hgb_default_accuracy = balanced_accuracy_score(y_test, y_ohe_hgb_default_pred)\n",
    "print(f'Balanced accuracy with default parameters: {ohe_hgb_default_accuracy}')\n",
    "\n",
    "# Save results\n",
    "default_summary.append(\"Default\")\n",
    "card_9_summary.append(\"AllVariables\")\n",
    "encoder_summary.append(\"OneHotEncoding\")\n",
    "value_summary.append(ohe_hgb_default_accuracy)\n",
    "time_summary.append(ohe_hgb_default_time_taken)\n",
    "n_models_summary.append(1)"
   ]
  },
  {
   "cell_type": "markdown",
   "id": "f858e758",
   "metadata": {},
   "source": [
    "#### Create a HistGradientBoostingClassifier model for tuning"
   ]
  },
  {
   "cell_type": "code",
   "execution_count": 41,
   "id": "9e5b850c",
   "metadata": {},
   "outputs": [],
   "source": [
    "ohe_hgb_tune = RandomizedSearchCV(estimator = ohe_hgb_default_pipeline, \n",
    "                                  param_distributions = param_distributions, \n",
    "                                  n_iter = 100,\n",
    "                                  cv = stratified_kfold,\n",
    "                                  scoring = 'balanced_accuracy', \n",
    "                                  random_state = 1234,\n",
    "                                  n_jobs = -1)"
   ]
  },
  {
   "cell_type": "code",
   "execution_count": 42,
   "id": "d9091ebc",
   "metadata": {},
   "outputs": [],
   "source": [
    "tic = time.time()\n",
    "\n",
    "ohe_hgb_tune = ohe_hgb_tune.fit(X_train, y_train)\n",
    "\n",
    "toc = time.time()\n",
    "ohe_hgb_tune_time_taken = toc-tic"
   ]
  },
  {
   "cell_type": "code",
   "execution_count": 43,
   "metadata": {},
   "outputs": [
    {
     "name": "stdout",
     "output_type": "stream",
     "text": [
      "Time taken:  63.43437719345093\n"
     ]
    },
    {
     "data": {
      "text/html": [
       "<style>#sk-container-id-2 {color: black;}#sk-container-id-2 pre{padding: 0;}#sk-container-id-2 div.sk-toggleable {background-color: white;}#sk-container-id-2 label.sk-toggleable__label {cursor: pointer;display: block;width: 100%;margin-bottom: 0;padding: 0.3em;box-sizing: border-box;text-align: center;}#sk-container-id-2 label.sk-toggleable__label-arrow:before {content: \"▸\";float: left;margin-right: 0.25em;color: #696969;}#sk-container-id-2 label.sk-toggleable__label-arrow:hover:before {color: black;}#sk-container-id-2 div.sk-estimator:hover label.sk-toggleable__label-arrow:before {color: black;}#sk-container-id-2 div.sk-toggleable__content {max-height: 0;max-width: 0;overflow: hidden;text-align: left;background-color: #f0f8ff;}#sk-container-id-2 div.sk-toggleable__content pre {margin: 0.2em;color: black;border-radius: 0.25em;background-color: #f0f8ff;}#sk-container-id-2 input.sk-toggleable__control:checked~div.sk-toggleable__content {max-height: 200px;max-width: 100%;overflow: auto;}#sk-container-id-2 input.sk-toggleable__control:checked~label.sk-toggleable__label-arrow:before {content: \"▾\";}#sk-container-id-2 div.sk-estimator input.sk-toggleable__control:checked~label.sk-toggleable__label {background-color: #d4ebff;}#sk-container-id-2 div.sk-label input.sk-toggleable__control:checked~label.sk-toggleable__label {background-color: #d4ebff;}#sk-container-id-2 input.sk-hidden--visually {border: 0;clip: rect(1px 1px 1px 1px);clip: rect(1px, 1px, 1px, 1px);height: 1px;margin: -1px;overflow: hidden;padding: 0;position: absolute;width: 1px;}#sk-container-id-2 div.sk-estimator {font-family: monospace;background-color: #f0f8ff;border: 1px dotted black;border-radius: 0.25em;box-sizing: border-box;margin-bottom: 0.5em;}#sk-container-id-2 div.sk-estimator:hover {background-color: #d4ebff;}#sk-container-id-2 div.sk-parallel-item::after {content: \"\";width: 100%;border-bottom: 1px solid gray;flex-grow: 1;}#sk-container-id-2 div.sk-label:hover label.sk-toggleable__label {background-color: #d4ebff;}#sk-container-id-2 div.sk-serial::before {content: \"\";position: absolute;border-left: 1px solid gray;box-sizing: border-box;top: 0;bottom: 0;left: 50%;z-index: 0;}#sk-container-id-2 div.sk-serial {display: flex;flex-direction: column;align-items: center;background-color: white;padding-right: 0.2em;padding-left: 0.2em;position: relative;}#sk-container-id-2 div.sk-item {position: relative;z-index: 1;}#sk-container-id-2 div.sk-parallel {display: flex;align-items: stretch;justify-content: center;background-color: white;position: relative;}#sk-container-id-2 div.sk-item::before, #sk-container-id-2 div.sk-parallel-item::before {content: \"\";position: absolute;border-left: 1px solid gray;box-sizing: border-box;top: 0;bottom: 0;left: 50%;z-index: -1;}#sk-container-id-2 div.sk-parallel-item {display: flex;flex-direction: column;z-index: 1;position: relative;background-color: white;}#sk-container-id-2 div.sk-parallel-item:first-child::after {align-self: flex-end;width: 50%;}#sk-container-id-2 div.sk-parallel-item:last-child::after {align-self: flex-start;width: 50%;}#sk-container-id-2 div.sk-parallel-item:only-child::after {width: 0;}#sk-container-id-2 div.sk-dashed-wrapped {border: 1px dashed gray;margin: 0 0.4em 0.5em 0.4em;box-sizing: border-box;padding-bottom: 0.4em;background-color: white;}#sk-container-id-2 div.sk-label label {font-family: monospace;font-weight: bold;display: inline-block;line-height: 1.2em;}#sk-container-id-2 div.sk-label-container {text-align: center;}#sk-container-id-2 div.sk-container {/* jupyter's `normalize.less` sets `[hidden] { display: none; }` but bootstrap.min.css set `[hidden] { display: none !important; }` so we also need the `!important` here to be able to override the default hidden behavior on the sphinx rendered scikit-learn.org. See: https://github.com/scikit-learn/scikit-learn/issues/21755 */display: inline-block !important;position: relative;}#sk-container-id-2 div.sk-text-repr-fallback {display: none;}</style><div id=\"sk-container-id-2\" class=\"sk-top-container\"><div class=\"sk-text-repr-fallback\"><pre>RandomizedSearchCV(cv=StratifiedKFold(n_splits=3, random_state=1234, shuffle=True),\n",
       "                   estimator=Pipeline(steps=[(&#x27;preprocessing&#x27;,\n",
       "                                              ColumnTransformer(sparse_threshold=0,\n",
       "                                                                transformers=[(&#x27;num&#x27;,\n",
       "                                                                               Pipeline(steps=[(&#x27;imputer&#x27;,\n",
       "                                                                                                SimpleImputer(strategy=&#x27;median&#x27;))]),\n",
       "                                                                               [&#x27;Community_Membership_Family&#x27;,\n",
       "                                                                                &#x27;Community_Membership_Hobbies&#x27;,\n",
       "                                                                                &#x27;Community_Membership_None&#x27;,\n",
       "                                                                                &#x27;Community_Memb...\n",
       "                                                                             random_state=1234,\n",
       "                                                                             scoring=&#x27;balanced_accuracy&#x27;))]),\n",
       "                   n_iter=100, n_jobs=-1,\n",
       "                   param_distributions={&#x27;model__learning_rate&#x27;: &lt;scipy.stats._distn_infrastructure.rv_continuous_frozen object at 0x000002AE7921E470&gt;,\n",
       "                                        &#x27;model__min_samples_leaf&#x27;: &lt;scipy.stats._distn_infrastructure.rv_discrete_frozen object at 0x000002AE7A91A710&gt;},\n",
       "                   random_state=1234, scoring=&#x27;balanced_accuracy&#x27;)</pre><b>In a Jupyter environment, please rerun this cell to show the HTML representation or trust the notebook. <br />On GitHub, the HTML representation is unable to render, please try loading this page with nbviewer.org.</b></div><div class=\"sk-container\" hidden><div class=\"sk-item sk-dashed-wrapped\"><div class=\"sk-label-container\"><div class=\"sk-label sk-toggleable\"><input class=\"sk-toggleable__control sk-hidden--visually\" id=\"sk-estimator-id-9\" type=\"checkbox\" ><label for=\"sk-estimator-id-9\" class=\"sk-toggleable__label sk-toggleable__label-arrow\">RandomizedSearchCV</label><div class=\"sk-toggleable__content\"><pre>RandomizedSearchCV(cv=StratifiedKFold(n_splits=3, random_state=1234, shuffle=True),\n",
       "                   estimator=Pipeline(steps=[(&#x27;preprocessing&#x27;,\n",
       "                                              ColumnTransformer(sparse_threshold=0,\n",
       "                                                                transformers=[(&#x27;num&#x27;,\n",
       "                                                                               Pipeline(steps=[(&#x27;imputer&#x27;,\n",
       "                                                                                                SimpleImputer(strategy=&#x27;median&#x27;))]),\n",
       "                                                                               [&#x27;Community_Membership_Family&#x27;,\n",
       "                                                                                &#x27;Community_Membership_Hobbies&#x27;,\n",
       "                                                                                &#x27;Community_Membership_None&#x27;,\n",
       "                                                                                &#x27;Community_Memb...\n",
       "                                                                             random_state=1234,\n",
       "                                                                             scoring=&#x27;balanced_accuracy&#x27;))]),\n",
       "                   n_iter=100, n_jobs=-1,\n",
       "                   param_distributions={&#x27;model__learning_rate&#x27;: &lt;scipy.stats._distn_infrastructure.rv_continuous_frozen object at 0x000002AE7921E470&gt;,\n",
       "                                        &#x27;model__min_samples_leaf&#x27;: &lt;scipy.stats._distn_infrastructure.rv_discrete_frozen object at 0x000002AE7A91A710&gt;},\n",
       "                   random_state=1234, scoring=&#x27;balanced_accuracy&#x27;)</pre></div></div></div><div class=\"sk-parallel\"><div class=\"sk-parallel-item\"><div class=\"sk-item\"><div class=\"sk-label-container\"><div class=\"sk-label sk-toggleable\"><input class=\"sk-toggleable__control sk-hidden--visually\" id=\"sk-estimator-id-10\" type=\"checkbox\" ><label for=\"sk-estimator-id-10\" class=\"sk-toggleable__label sk-toggleable__label-arrow\">estimator: Pipeline</label><div class=\"sk-toggleable__content\"><pre>Pipeline(steps=[(&#x27;preprocessing&#x27;,\n",
       "                 ColumnTransformer(sparse_threshold=0,\n",
       "                                   transformers=[(&#x27;num&#x27;,\n",
       "                                                  Pipeline(steps=[(&#x27;imputer&#x27;,\n",
       "                                                                   SimpleImputer(strategy=&#x27;median&#x27;))]),\n",
       "                                                  [&#x27;Community_Membership_Family&#x27;,\n",
       "                                                   &#x27;Community_Membership_Hobbies&#x27;,\n",
       "                                                   &#x27;Community_Membership_None&#x27;,\n",
       "                                                   &#x27;Community_Membership_Other&#x27;,\n",
       "                                                   &#x27;Community_Membership_Political&#x27;,\n",
       "                                                   &#x27;Community_Membership_Professional&#x27;,\n",
       "                                                   &#x27;Communi...\n",
       "                                                   &#x27;Most_Import_Issue_Facing_the_Internet&#x27;,\n",
       "                                                   &#x27;Opinions_on_Censorship&#x27;,\n",
       "                                                   &#x27;Primary_Computing_Platform&#x27;,\n",
       "                                                   &#x27;Primary_Language&#x27;,\n",
       "                                                   &#x27;Primary_Place_of_WWW_Access&#x27;,\n",
       "                                                   &#x27;Race&#x27;, &#x27;Registered_to_Vote&#x27;,\n",
       "                                                   &#x27;Sexual_Preference&#x27;,\n",
       "                                                   &#x27;Web_Ordering&#x27;,\n",
       "                                                   &#x27;Web_Page_Creation&#x27;])])),\n",
       "                (&#x27;model&#x27;,\n",
       "                 HistGradientBoostingClassifier(class_weight=&#x27;balanced&#x27;,\n",
       "                                                early_stopping=True,\n",
       "                                                n_iter_no_change=5,\n",
       "                                                random_state=1234,\n",
       "                                                scoring=&#x27;balanced_accuracy&#x27;))])</pre></div></div></div><div class=\"sk-serial\"><div class=\"sk-item\"><div class=\"sk-serial\"><div class=\"sk-item sk-dashed-wrapped\"><div class=\"sk-label-container\"><div class=\"sk-label sk-toggleable\"><input class=\"sk-toggleable__control sk-hidden--visually\" id=\"sk-estimator-id-11\" type=\"checkbox\" ><label for=\"sk-estimator-id-11\" class=\"sk-toggleable__label sk-toggleable__label-arrow\">preprocessing: ColumnTransformer</label><div class=\"sk-toggleable__content\"><pre>ColumnTransformer(sparse_threshold=0,\n",
       "                  transformers=[(&#x27;num&#x27;,\n",
       "                                 Pipeline(steps=[(&#x27;imputer&#x27;,\n",
       "                                                  SimpleImputer(strategy=&#x27;median&#x27;))]),\n",
       "                                 [&#x27;Community_Membership_Family&#x27;,\n",
       "                                  &#x27;Community_Membership_Hobbies&#x27;,\n",
       "                                  &#x27;Community_Membership_None&#x27;,\n",
       "                                  &#x27;Community_Membership_Other&#x27;,\n",
       "                                  &#x27;Community_Membership_Political&#x27;,\n",
       "                                  &#x27;Community_Membership_Professional&#x27;,\n",
       "                                  &#x27;Community_Membership_Religious&#x27;,\n",
       "                                  &#x27;Communi...\n",
       "                                  &#x27;Country&#x27;, &#x27;Education_Attainment&#x27;,\n",
       "                                  &#x27;Falsification_of_Information&#x27;,\n",
       "                                  &#x27;Household_Income&#x27;,\n",
       "                                  &#x27;Major_Geographical_Location&#x27;,\n",
       "                                  &#x27;Major_Occupation&#x27;, &#x27;Marital_Status&#x27;,\n",
       "                                  &#x27;Most_Import_Issue_Facing_the_Internet&#x27;,\n",
       "                                  &#x27;Opinions_on_Censorship&#x27;,\n",
       "                                  &#x27;Primary_Computing_Platform&#x27;,\n",
       "                                  &#x27;Primary_Language&#x27;,\n",
       "                                  &#x27;Primary_Place_of_WWW_Access&#x27;, &#x27;Race&#x27;,\n",
       "                                  &#x27;Registered_to_Vote&#x27;, &#x27;Sexual_Preference&#x27;,\n",
       "                                  &#x27;Web_Ordering&#x27;, &#x27;Web_Page_Creation&#x27;])])</pre></div></div></div><div class=\"sk-parallel\"><div class=\"sk-parallel-item\"><div class=\"sk-item\"><div class=\"sk-label-container\"><div class=\"sk-label sk-toggleable\"><input class=\"sk-toggleable__control sk-hidden--visually\" id=\"sk-estimator-id-12\" type=\"checkbox\" ><label for=\"sk-estimator-id-12\" class=\"sk-toggleable__label sk-toggleable__label-arrow\">num</label><div class=\"sk-toggleable__content\"><pre>[&#x27;Community_Membership_Family&#x27;, &#x27;Community_Membership_Hobbies&#x27;, &#x27;Community_Membership_None&#x27;, &#x27;Community_Membership_Other&#x27;, &#x27;Community_Membership_Political&#x27;, &#x27;Community_Membership_Professional&#x27;, &#x27;Community_Membership_Religious&#x27;, &#x27;Community_Membership_Support&#x27;, &#x27;Disability_Cognitive&#x27;, &#x27;Disability_Hearing&#x27;, &#x27;Disability_Motor&#x27;, &#x27;Disability_Not_Impaired&#x27;, &#x27;Disability_Not_Say&#x27;, &#x27;Disability_Vision&#x27;, &#x27;Gender&#x27;, &#x27;How_You_Heard_About_Survey_Banner&#x27;, &#x27;How_You_Heard_About_Survey_Friend&#x27;, &#x27;How_You_Heard_About_Survey_Mailing_List&#x27;, &#x27;How_You_Heard_About_Survey_Others&#x27;, &#x27;How_You_Heard_About_Survey_Printed_Media&#x27;, &#x27;How_You_Heard_About_Survey_Remebered&#x27;, &#x27;How_You_Heard_About_Survey_Search_Engine&#x27;, &#x27;How_You_Heard_About_Survey_Usenet_News&#x27;, &#x27;How_You_Heard_About_Survey_WWW_Page&#x27;, &#x27;Not_Purchasing_Bad_experience&#x27;, &#x27;Not_Purchasing_Bad_press&#x27;, &#x27;Not_Purchasing_Cant_find&#x27;, &#x27;Not_Purchasing_Company_policy&#x27;, &#x27;Not_Purchasing_Easier_locally&#x27;, &#x27;Not_Purchasing_Enough_info&#x27;, &#x27;Not_Purchasing_Judge_quality&#x27;, &#x27;Not_Purchasing_Never_tried&#x27;, &#x27;Not_Purchasing_No_credit&#x27;, &#x27;Not_Purchasing_Not_applicable&#x27;, &#x27;Not_Purchasing_Not_option&#x27;, &#x27;Not_Purchasing_Other&#x27;, &#x27;Not_Purchasing_Prefer_people&#x27;, &#x27;Not_Purchasing_Privacy&#x27;, &#x27;Not_Purchasing_Receipt&#x27;, &#x27;Not_Purchasing_Security&#x27;, &#x27;Not_Purchasing_Too_complicated&#x27;, &#x27;Not_Purchasing_Uncomfortable&#x27;, &#x27;Not_Purchasing_Unfamiliar_vendor&#x27;, &#x27;Who_Pays_for_Access_Dont_Know&#x27;, &#x27;Who_Pays_for_Access_Other&#x27;, &#x27;Who_Pays_for_Access_Parents&#x27;, &#x27;Who_Pays_for_Access_School&#x27;, &#x27;Who_Pays_for_Access_Self&#x27;]</pre></div></div></div><div class=\"sk-serial\"><div class=\"sk-item\"><div class=\"sk-serial\"><div class=\"sk-item\"><div class=\"sk-estimator sk-toggleable\"><input class=\"sk-toggleable__control sk-hidden--visually\" id=\"sk-estimator-id-13\" type=\"checkbox\" ><label for=\"sk-estimator-id-13\" class=\"sk-toggleable__label sk-toggleable__label-arrow\">SimpleImputer</label><div class=\"sk-toggleable__content\"><pre>SimpleImputer(strategy=&#x27;median&#x27;)</pre></div></div></div></div></div></div></div></div><div class=\"sk-parallel-item\"><div class=\"sk-item\"><div class=\"sk-label-container\"><div class=\"sk-label sk-toggleable\"><input class=\"sk-toggleable__control sk-hidden--visually\" id=\"sk-estimator-id-14\" type=\"checkbox\" ><label for=\"sk-estimator-id-14\" class=\"sk-toggleable__label sk-toggleable__label-arrow\">one_hot</label><div class=\"sk-toggleable__content\"><pre>[&#x27;Actual_Time&#x27;, &#x27;Community_Building&#x27;, &#x27;Country&#x27;, &#x27;Education_Attainment&#x27;, &#x27;Falsification_of_Information&#x27;, &#x27;Household_Income&#x27;, &#x27;Major_Geographical_Location&#x27;, &#x27;Major_Occupation&#x27;, &#x27;Marital_Status&#x27;, &#x27;Most_Import_Issue_Facing_the_Internet&#x27;, &#x27;Opinions_on_Censorship&#x27;, &#x27;Primary_Computing_Platform&#x27;, &#x27;Primary_Language&#x27;, &#x27;Primary_Place_of_WWW_Access&#x27;, &#x27;Race&#x27;, &#x27;Registered_to_Vote&#x27;, &#x27;Sexual_Preference&#x27;, &#x27;Web_Ordering&#x27;, &#x27;Web_Page_Creation&#x27;]</pre></div></div></div><div class=\"sk-serial\"><div class=\"sk-item\"><div class=\"sk-serial\"><div class=\"sk-item\"><div class=\"sk-estimator sk-toggleable\"><input class=\"sk-toggleable__control sk-hidden--visually\" id=\"sk-estimator-id-15\" type=\"checkbox\" ><label for=\"sk-estimator-id-15\" class=\"sk-toggleable__label sk-toggleable__label-arrow\">SimpleImputer</label><div class=\"sk-toggleable__content\"><pre>SimpleImputer(strategy=&#x27;most_frequent&#x27;)</pre></div></div></div><div class=\"sk-item\"><div class=\"sk-estimator sk-toggleable\"><input class=\"sk-toggleable__control sk-hidden--visually\" id=\"sk-estimator-id-16\" type=\"checkbox\" ><label for=\"sk-estimator-id-16\" class=\"sk-toggleable__label sk-toggleable__label-arrow\">OneHotEncoder</label><div class=\"sk-toggleable__content\"><pre>OneHotEncoder(drop=&#x27;first&#x27;, handle_unknown=&#x27;ignore&#x27;)</pre></div></div></div></div></div></div></div></div></div></div><div class=\"sk-item\"><div class=\"sk-estimator sk-toggleable\"><input class=\"sk-toggleable__control sk-hidden--visually\" id=\"sk-estimator-id-17\" type=\"checkbox\" ><label for=\"sk-estimator-id-17\" class=\"sk-toggleable__label sk-toggleable__label-arrow\">HistGradientBoostingClassifier</label><div class=\"sk-toggleable__content\"><pre>HistGradientBoostingClassifier(class_weight=&#x27;balanced&#x27;, early_stopping=True,\n",
       "                               n_iter_no_change=5, random_state=1234,\n",
       "                               scoring=&#x27;balanced_accuracy&#x27;)</pre></div></div></div></div></div></div></div></div></div></div></div></div>"
      ],
      "text/plain": [
       "RandomizedSearchCV(cv=StratifiedKFold(n_splits=3, random_state=1234, shuffle=True),\n",
       "                   estimator=Pipeline(steps=[('preprocessing',\n",
       "                                              ColumnTransformer(sparse_threshold=0,\n",
       "                                                                transformers=[('num',\n",
       "                                                                               Pipeline(steps=[('imputer',\n",
       "                                                                                                SimpleImputer(strategy='median'))]),\n",
       "                                                                               ['Community_Membership_Family',\n",
       "                                                                                'Community_Membership_Hobbies',\n",
       "                                                                                'Community_Membership_None',\n",
       "                                                                                'Community_Memb...\n",
       "                                                                             random_state=1234,\n",
       "                                                                             scoring='balanced_accuracy'))]),\n",
       "                   n_iter=100, n_jobs=-1,\n",
       "                   param_distributions={'model__learning_rate': <scipy.stats._distn_infrastructure.rv_continuous_frozen object at 0x000002AE7921E470>,\n",
       "                                        'model__min_samples_leaf': <scipy.stats._distn_infrastructure.rv_discrete_frozen object at 0x000002AE7A91A710>},\n",
       "                   random_state=1234, scoring='balanced_accuracy')"
      ]
     },
     "execution_count": 43,
     "metadata": {},
     "output_type": "execute_result"
    }
   ],
   "source": [
    "# Display pipeline\n",
    "print(\"Time taken: \", ohe_hgb_tune_time_taken)\n",
    "ohe_hgb_tune"
   ]
  },
  {
   "cell_type": "code",
   "execution_count": 44,
   "id": "c78badf0",
   "metadata": {},
   "outputs": [
    {
     "name": "stdout",
     "output_type": "stream",
     "text": [
      "Best parameters: {'model__learning_rate': 0.2956586229446432, 'model__min_samples_leaf': 9}\n",
      "Balanced accuracy with best parameters: 0.8811914519906323\n"
     ]
    },
    {
     "name": "stderr",
     "output_type": "stream",
     "text": [
      "c:\\Users\\VNG\\AppData\\Local\\Programs\\Python\\Python310\\lib\\site-packages\\sklearn\\preprocessing\\_encoders.py:228: UserWarning: Found unknown categories in columns [2, 12] during transform. These unknown categories will be encoded as all zeros\n",
      "  warnings.warn(\n"
     ]
    }
   ],
   "source": [
    "# Predict using the model with the best parameters\n",
    "y_ohe_hgb_tune_pred = ohe_hgb_tune.predict(X_test)\n",
    "\n",
    "# Get the best parameters\n",
    "ohe_hgb_tune_best_params = ohe_hgb_tune.best_params_\n",
    "print(f'Best parameters: {ohe_hgb_tune_best_params}')\n",
    "\n",
    "# Calculate balanced accuracy for the model with the best parameters\n",
    "ohe_hgb_tune_accuracy = balanced_accuracy_score(y_test, y_ohe_hgb_tune_pred)\n",
    "print(f'Balanced accuracy with best parameters: {ohe_hgb_tune_accuracy}')\n",
    "\n",
    "# Save results\n",
    "default_summary.append(\"Tune\")\n",
    "card_9_summary.append(\"AllVariables\")\n",
    "encoder_summary.append(\"OneHotEncoding\")\n",
    "value_summary.append(ohe_hgb_tune_accuracy)\n",
    "time_summary.append(ohe_hgb_tune_time_taken)\n",
    "n_models_summary.append(ohe_hgb_tune.n_iter * ohe_hgb_tune.n_splits_)"
   ]
  },
  {
   "cell_type": "markdown",
   "id": "66d32bfc",
   "metadata": {},
   "source": [
    " "
   ]
  },
  {
   "cell_type": "markdown",
   "id": "08858430",
   "metadata": {},
   "source": [
    "### Count Encoder + HistGradientBoosting\n"
   ]
  },
  {
   "cell_type": "code",
   "execution_count": 45,
   "id": "61db2219",
   "metadata": {},
   "outputs": [],
   "source": [
    "from category_encoders.count import CountEncoder"
   ]
  },
  {
   "cell_type": "markdown",
   "id": "9cedba6a",
   "metadata": {},
   "source": [
    "#### Preprocessing"
   ]
  },
  {
   "cell_type": "code",
   "execution_count": 46,
   "id": "d73d6a57",
   "metadata": {},
   "outputs": [],
   "source": [
    "cat_pipeline_more9 = Pipeline([\n",
    "    (\"imputer\", SimpleImputer(strategy = \"most_frequent\")),\n",
    "    (\"encoder\", CountEncoder())\n",
    "])\n",
    "\n",
    "cat_pipeline_less9 = Pipeline([\n",
    "    (\"imputer\", SimpleImputer(strategy = \"most_frequent\")),\n",
    "    (\"encoder\", OneHotEncoder(drop = \"first\", handle_unknown = \"ignore\"))\n",
    "])\n",
    "\n",
    "preprop_pipeline = ColumnTransformer(\n",
    "    transformers = [(\"num\", num_pipeline, num_cols),\n",
    "                    (\"count_encoder\", cat_pipeline_more9, cat_cols)],\n",
    "    sparse_threshold=0\n",
    ")\n",
    "\n",
    "preprop_pipeline9 = ColumnTransformer(\n",
    "    transformers = [(\"num\", num_pipeline, num_cols),\n",
    "                    (\"count_encoder\", cat_pipeline_more9, cat_cols_more9),\n",
    "                    (\"one_hot_encoding\", cat_pipeline_less9, cat_cols_less9)],\n",
    "    sparse_threshold=0\n",
    ")"
   ]
  },
  {
   "cell_type": "markdown",
   "id": "037efae9",
   "metadata": {},
   "source": [
    "#### Create a HistGradientBoostingClassifier model with default parameters and early stopping"
   ]
  },
  {
   "cell_type": "code",
   "execution_count": 47,
   "id": "fd90a4a3",
   "metadata": {},
   "outputs": [],
   "source": [
    "count_hgb_default_pipeline = Pipeline([('preprocessing', preprop_pipeline),\n",
    "                                       ('model', hgb_default)])\n",
    "count_hgb_default_pipeline9 = Pipeline([('preprocessing', preprop_pipeline9),\n",
    "                                        ('model', hgb_default9)])"
   ]
  },
  {
   "cell_type": "code",
   "execution_count": 48,
   "id": "bc4e2c6c",
   "metadata": {
    "scrolled": false
   },
   "outputs": [],
   "source": [
    "tic = time.time()\n",
    "\n",
    "count_hgb_default = count_hgb_default_pipeline.fit(X_train, y_train)\n",
    "\n",
    "toc = time.time()\n",
    "count_hgb_default_time_taken = toc-tic"
   ]
  },
  {
   "cell_type": "code",
   "execution_count": 49,
   "metadata": {},
   "outputs": [
    {
     "name": "stdout",
     "output_type": "stream",
     "text": [
      "Time taken:  0.7671315670013428\n"
     ]
    },
    {
     "data": {
      "text/html": [
       "<style>#sk-container-id-3 {color: black;}#sk-container-id-3 pre{padding: 0;}#sk-container-id-3 div.sk-toggleable {background-color: white;}#sk-container-id-3 label.sk-toggleable__label {cursor: pointer;display: block;width: 100%;margin-bottom: 0;padding: 0.3em;box-sizing: border-box;text-align: center;}#sk-container-id-3 label.sk-toggleable__label-arrow:before {content: \"▸\";float: left;margin-right: 0.25em;color: #696969;}#sk-container-id-3 label.sk-toggleable__label-arrow:hover:before {color: black;}#sk-container-id-3 div.sk-estimator:hover label.sk-toggleable__label-arrow:before {color: black;}#sk-container-id-3 div.sk-toggleable__content {max-height: 0;max-width: 0;overflow: hidden;text-align: left;background-color: #f0f8ff;}#sk-container-id-3 div.sk-toggleable__content pre {margin: 0.2em;color: black;border-radius: 0.25em;background-color: #f0f8ff;}#sk-container-id-3 input.sk-toggleable__control:checked~div.sk-toggleable__content {max-height: 200px;max-width: 100%;overflow: auto;}#sk-container-id-3 input.sk-toggleable__control:checked~label.sk-toggleable__label-arrow:before {content: \"▾\";}#sk-container-id-3 div.sk-estimator input.sk-toggleable__control:checked~label.sk-toggleable__label {background-color: #d4ebff;}#sk-container-id-3 div.sk-label input.sk-toggleable__control:checked~label.sk-toggleable__label {background-color: #d4ebff;}#sk-container-id-3 input.sk-hidden--visually {border: 0;clip: rect(1px 1px 1px 1px);clip: rect(1px, 1px, 1px, 1px);height: 1px;margin: -1px;overflow: hidden;padding: 0;position: absolute;width: 1px;}#sk-container-id-3 div.sk-estimator {font-family: monospace;background-color: #f0f8ff;border: 1px dotted black;border-radius: 0.25em;box-sizing: border-box;margin-bottom: 0.5em;}#sk-container-id-3 div.sk-estimator:hover {background-color: #d4ebff;}#sk-container-id-3 div.sk-parallel-item::after {content: \"\";width: 100%;border-bottom: 1px solid gray;flex-grow: 1;}#sk-container-id-3 div.sk-label:hover label.sk-toggleable__label {background-color: #d4ebff;}#sk-container-id-3 div.sk-serial::before {content: \"\";position: absolute;border-left: 1px solid gray;box-sizing: border-box;top: 0;bottom: 0;left: 50%;z-index: 0;}#sk-container-id-3 div.sk-serial {display: flex;flex-direction: column;align-items: center;background-color: white;padding-right: 0.2em;padding-left: 0.2em;position: relative;}#sk-container-id-3 div.sk-item {position: relative;z-index: 1;}#sk-container-id-3 div.sk-parallel {display: flex;align-items: stretch;justify-content: center;background-color: white;position: relative;}#sk-container-id-3 div.sk-item::before, #sk-container-id-3 div.sk-parallel-item::before {content: \"\";position: absolute;border-left: 1px solid gray;box-sizing: border-box;top: 0;bottom: 0;left: 50%;z-index: -1;}#sk-container-id-3 div.sk-parallel-item {display: flex;flex-direction: column;z-index: 1;position: relative;background-color: white;}#sk-container-id-3 div.sk-parallel-item:first-child::after {align-self: flex-end;width: 50%;}#sk-container-id-3 div.sk-parallel-item:last-child::after {align-self: flex-start;width: 50%;}#sk-container-id-3 div.sk-parallel-item:only-child::after {width: 0;}#sk-container-id-3 div.sk-dashed-wrapped {border: 1px dashed gray;margin: 0 0.4em 0.5em 0.4em;box-sizing: border-box;padding-bottom: 0.4em;background-color: white;}#sk-container-id-3 div.sk-label label {font-family: monospace;font-weight: bold;display: inline-block;line-height: 1.2em;}#sk-container-id-3 div.sk-label-container {text-align: center;}#sk-container-id-3 div.sk-container {/* jupyter's `normalize.less` sets `[hidden] { display: none; }` but bootstrap.min.css set `[hidden] { display: none !important; }` so we also need the `!important` here to be able to override the default hidden behavior on the sphinx rendered scikit-learn.org. See: https://github.com/scikit-learn/scikit-learn/issues/21755 */display: inline-block !important;position: relative;}#sk-container-id-3 div.sk-text-repr-fallback {display: none;}</style><div id=\"sk-container-id-3\" class=\"sk-top-container\"><div class=\"sk-text-repr-fallback\"><pre>Pipeline(steps=[(&#x27;preprocessing&#x27;,\n",
       "                 ColumnTransformer(sparse_threshold=0,\n",
       "                                   transformers=[(&#x27;num&#x27;,\n",
       "                                                  Pipeline(steps=[(&#x27;imputer&#x27;,\n",
       "                                                                   SimpleImputer(strategy=&#x27;median&#x27;))]),\n",
       "                                                  [&#x27;Community_Membership_Family&#x27;,\n",
       "                                                   &#x27;Community_Membership_Hobbies&#x27;,\n",
       "                                                   &#x27;Community_Membership_None&#x27;,\n",
       "                                                   &#x27;Community_Membership_Other&#x27;,\n",
       "                                                   &#x27;Community_Membership_Political&#x27;,\n",
       "                                                   &#x27;Community_Membership_Professional&#x27;,\n",
       "                                                   &#x27;Communi...\n",
       "                                                   &#x27;Most_Import_Issue_Facing_the_Internet&#x27;,\n",
       "                                                   &#x27;Opinions_on_Censorship&#x27;,\n",
       "                                                   &#x27;Primary_Computing_Platform&#x27;,\n",
       "                                                   &#x27;Primary_Language&#x27;,\n",
       "                                                   &#x27;Primary_Place_of_WWW_Access&#x27;,\n",
       "                                                   &#x27;Race&#x27;, &#x27;Registered_to_Vote&#x27;,\n",
       "                                                   &#x27;Sexual_Preference&#x27;,\n",
       "                                                   &#x27;Web_Ordering&#x27;,\n",
       "                                                   &#x27;Web_Page_Creation&#x27;])])),\n",
       "                (&#x27;model&#x27;,\n",
       "                 HistGradientBoostingClassifier(class_weight=&#x27;balanced&#x27;,\n",
       "                                                early_stopping=True,\n",
       "                                                n_iter_no_change=5,\n",
       "                                                random_state=1234,\n",
       "                                                scoring=&#x27;balanced_accuracy&#x27;))])</pre><b>In a Jupyter environment, please rerun this cell to show the HTML representation or trust the notebook. <br />On GitHub, the HTML representation is unable to render, please try loading this page with nbviewer.org.</b></div><div class=\"sk-container\" hidden><div class=\"sk-item sk-dashed-wrapped\"><div class=\"sk-label-container\"><div class=\"sk-label sk-toggleable\"><input class=\"sk-toggleable__control sk-hidden--visually\" id=\"sk-estimator-id-18\" type=\"checkbox\" ><label for=\"sk-estimator-id-18\" class=\"sk-toggleable__label sk-toggleable__label-arrow\">Pipeline</label><div class=\"sk-toggleable__content\"><pre>Pipeline(steps=[(&#x27;preprocessing&#x27;,\n",
       "                 ColumnTransformer(sparse_threshold=0,\n",
       "                                   transformers=[(&#x27;num&#x27;,\n",
       "                                                  Pipeline(steps=[(&#x27;imputer&#x27;,\n",
       "                                                                   SimpleImputer(strategy=&#x27;median&#x27;))]),\n",
       "                                                  [&#x27;Community_Membership_Family&#x27;,\n",
       "                                                   &#x27;Community_Membership_Hobbies&#x27;,\n",
       "                                                   &#x27;Community_Membership_None&#x27;,\n",
       "                                                   &#x27;Community_Membership_Other&#x27;,\n",
       "                                                   &#x27;Community_Membership_Political&#x27;,\n",
       "                                                   &#x27;Community_Membership_Professional&#x27;,\n",
       "                                                   &#x27;Communi...\n",
       "                                                   &#x27;Most_Import_Issue_Facing_the_Internet&#x27;,\n",
       "                                                   &#x27;Opinions_on_Censorship&#x27;,\n",
       "                                                   &#x27;Primary_Computing_Platform&#x27;,\n",
       "                                                   &#x27;Primary_Language&#x27;,\n",
       "                                                   &#x27;Primary_Place_of_WWW_Access&#x27;,\n",
       "                                                   &#x27;Race&#x27;, &#x27;Registered_to_Vote&#x27;,\n",
       "                                                   &#x27;Sexual_Preference&#x27;,\n",
       "                                                   &#x27;Web_Ordering&#x27;,\n",
       "                                                   &#x27;Web_Page_Creation&#x27;])])),\n",
       "                (&#x27;model&#x27;,\n",
       "                 HistGradientBoostingClassifier(class_weight=&#x27;balanced&#x27;,\n",
       "                                                early_stopping=True,\n",
       "                                                n_iter_no_change=5,\n",
       "                                                random_state=1234,\n",
       "                                                scoring=&#x27;balanced_accuracy&#x27;))])</pre></div></div></div><div class=\"sk-serial\"><div class=\"sk-item sk-dashed-wrapped\"><div class=\"sk-label-container\"><div class=\"sk-label sk-toggleable\"><input class=\"sk-toggleable__control sk-hidden--visually\" id=\"sk-estimator-id-19\" type=\"checkbox\" ><label for=\"sk-estimator-id-19\" class=\"sk-toggleable__label sk-toggleable__label-arrow\">preprocessing: ColumnTransformer</label><div class=\"sk-toggleable__content\"><pre>ColumnTransformer(sparse_threshold=0,\n",
       "                  transformers=[(&#x27;num&#x27;,\n",
       "                                 Pipeline(steps=[(&#x27;imputer&#x27;,\n",
       "                                                  SimpleImputer(strategy=&#x27;median&#x27;))]),\n",
       "                                 [&#x27;Community_Membership_Family&#x27;,\n",
       "                                  &#x27;Community_Membership_Hobbies&#x27;,\n",
       "                                  &#x27;Community_Membership_None&#x27;,\n",
       "                                  &#x27;Community_Membership_Other&#x27;,\n",
       "                                  &#x27;Community_Membership_Political&#x27;,\n",
       "                                  &#x27;Community_Membership_Professional&#x27;,\n",
       "                                  &#x27;Community_Membership_Religious&#x27;,\n",
       "                                  &#x27;Communi...\n",
       "                                  &#x27;Country&#x27;, &#x27;Education_Attainment&#x27;,\n",
       "                                  &#x27;Falsification_of_Information&#x27;,\n",
       "                                  &#x27;Household_Income&#x27;,\n",
       "                                  &#x27;Major_Geographical_Location&#x27;,\n",
       "                                  &#x27;Major_Occupation&#x27;, &#x27;Marital_Status&#x27;,\n",
       "                                  &#x27;Most_Import_Issue_Facing_the_Internet&#x27;,\n",
       "                                  &#x27;Opinions_on_Censorship&#x27;,\n",
       "                                  &#x27;Primary_Computing_Platform&#x27;,\n",
       "                                  &#x27;Primary_Language&#x27;,\n",
       "                                  &#x27;Primary_Place_of_WWW_Access&#x27;, &#x27;Race&#x27;,\n",
       "                                  &#x27;Registered_to_Vote&#x27;, &#x27;Sexual_Preference&#x27;,\n",
       "                                  &#x27;Web_Ordering&#x27;, &#x27;Web_Page_Creation&#x27;])])</pre></div></div></div><div class=\"sk-parallel\"><div class=\"sk-parallel-item\"><div class=\"sk-item\"><div class=\"sk-label-container\"><div class=\"sk-label sk-toggleable\"><input class=\"sk-toggleable__control sk-hidden--visually\" id=\"sk-estimator-id-20\" type=\"checkbox\" ><label for=\"sk-estimator-id-20\" class=\"sk-toggleable__label sk-toggleable__label-arrow\">num</label><div class=\"sk-toggleable__content\"><pre>[&#x27;Community_Membership_Family&#x27;, &#x27;Community_Membership_Hobbies&#x27;, &#x27;Community_Membership_None&#x27;, &#x27;Community_Membership_Other&#x27;, &#x27;Community_Membership_Political&#x27;, &#x27;Community_Membership_Professional&#x27;, &#x27;Community_Membership_Religious&#x27;, &#x27;Community_Membership_Support&#x27;, &#x27;Disability_Cognitive&#x27;, &#x27;Disability_Hearing&#x27;, &#x27;Disability_Motor&#x27;, &#x27;Disability_Not_Impaired&#x27;, &#x27;Disability_Not_Say&#x27;, &#x27;Disability_Vision&#x27;, &#x27;Gender&#x27;, &#x27;How_You_Heard_About_Survey_Banner&#x27;, &#x27;How_You_Heard_About_Survey_Friend&#x27;, &#x27;How_You_Heard_About_Survey_Mailing_List&#x27;, &#x27;How_You_Heard_About_Survey_Others&#x27;, &#x27;How_You_Heard_About_Survey_Printed_Media&#x27;, &#x27;How_You_Heard_About_Survey_Remebered&#x27;, &#x27;How_You_Heard_About_Survey_Search_Engine&#x27;, &#x27;How_You_Heard_About_Survey_Usenet_News&#x27;, &#x27;How_You_Heard_About_Survey_WWW_Page&#x27;, &#x27;Not_Purchasing_Bad_experience&#x27;, &#x27;Not_Purchasing_Bad_press&#x27;, &#x27;Not_Purchasing_Cant_find&#x27;, &#x27;Not_Purchasing_Company_policy&#x27;, &#x27;Not_Purchasing_Easier_locally&#x27;, &#x27;Not_Purchasing_Enough_info&#x27;, &#x27;Not_Purchasing_Judge_quality&#x27;, &#x27;Not_Purchasing_Never_tried&#x27;, &#x27;Not_Purchasing_No_credit&#x27;, &#x27;Not_Purchasing_Not_applicable&#x27;, &#x27;Not_Purchasing_Not_option&#x27;, &#x27;Not_Purchasing_Other&#x27;, &#x27;Not_Purchasing_Prefer_people&#x27;, &#x27;Not_Purchasing_Privacy&#x27;, &#x27;Not_Purchasing_Receipt&#x27;, &#x27;Not_Purchasing_Security&#x27;, &#x27;Not_Purchasing_Too_complicated&#x27;, &#x27;Not_Purchasing_Uncomfortable&#x27;, &#x27;Not_Purchasing_Unfamiliar_vendor&#x27;, &#x27;Who_Pays_for_Access_Dont_Know&#x27;, &#x27;Who_Pays_for_Access_Other&#x27;, &#x27;Who_Pays_for_Access_Parents&#x27;, &#x27;Who_Pays_for_Access_School&#x27;, &#x27;Who_Pays_for_Access_Self&#x27;]</pre></div></div></div><div class=\"sk-serial\"><div class=\"sk-item\"><div class=\"sk-serial\"><div class=\"sk-item\"><div class=\"sk-estimator sk-toggleable\"><input class=\"sk-toggleable__control sk-hidden--visually\" id=\"sk-estimator-id-21\" type=\"checkbox\" ><label for=\"sk-estimator-id-21\" class=\"sk-toggleable__label sk-toggleable__label-arrow\">SimpleImputer</label><div class=\"sk-toggleable__content\"><pre>SimpleImputer(strategy=&#x27;median&#x27;)</pre></div></div></div></div></div></div></div></div><div class=\"sk-parallel-item\"><div class=\"sk-item\"><div class=\"sk-label-container\"><div class=\"sk-label sk-toggleable\"><input class=\"sk-toggleable__control sk-hidden--visually\" id=\"sk-estimator-id-22\" type=\"checkbox\" ><label for=\"sk-estimator-id-22\" class=\"sk-toggleable__label sk-toggleable__label-arrow\">count_encoder</label><div class=\"sk-toggleable__content\"><pre>[&#x27;Actual_Time&#x27;, &#x27;Community_Building&#x27;, &#x27;Country&#x27;, &#x27;Education_Attainment&#x27;, &#x27;Falsification_of_Information&#x27;, &#x27;Household_Income&#x27;, &#x27;Major_Geographical_Location&#x27;, &#x27;Major_Occupation&#x27;, &#x27;Marital_Status&#x27;, &#x27;Most_Import_Issue_Facing_the_Internet&#x27;, &#x27;Opinions_on_Censorship&#x27;, &#x27;Primary_Computing_Platform&#x27;, &#x27;Primary_Language&#x27;, &#x27;Primary_Place_of_WWW_Access&#x27;, &#x27;Race&#x27;, &#x27;Registered_to_Vote&#x27;, &#x27;Sexual_Preference&#x27;, &#x27;Web_Ordering&#x27;, &#x27;Web_Page_Creation&#x27;]</pre></div></div></div><div class=\"sk-serial\"><div class=\"sk-item\"><div class=\"sk-serial\"><div class=\"sk-item\"><div class=\"sk-estimator sk-toggleable\"><input class=\"sk-toggleable__control sk-hidden--visually\" id=\"sk-estimator-id-23\" type=\"checkbox\" ><label for=\"sk-estimator-id-23\" class=\"sk-toggleable__label sk-toggleable__label-arrow\">SimpleImputer</label><div class=\"sk-toggleable__content\"><pre>SimpleImputer(strategy=&#x27;most_frequent&#x27;)</pre></div></div></div><div class=\"sk-item\"><div class=\"sk-estimator sk-toggleable\"><input class=\"sk-toggleable__control sk-hidden--visually\" id=\"sk-estimator-id-24\" type=\"checkbox\" ><label for=\"sk-estimator-id-24\" class=\"sk-toggleable__label sk-toggleable__label-arrow\">CountEncoder</label><div class=\"sk-toggleable__content\"><pre>CountEncoder(combine_min_nan_groups=True)</pre></div></div></div></div></div></div></div></div></div></div><div class=\"sk-item\"><div class=\"sk-estimator sk-toggleable\"><input class=\"sk-toggleable__control sk-hidden--visually\" id=\"sk-estimator-id-25\" type=\"checkbox\" ><label for=\"sk-estimator-id-25\" class=\"sk-toggleable__label sk-toggleable__label-arrow\">HistGradientBoostingClassifier</label><div class=\"sk-toggleable__content\"><pre>HistGradientBoostingClassifier(class_weight=&#x27;balanced&#x27;, early_stopping=True,\n",
       "                               n_iter_no_change=5, random_state=1234,\n",
       "                               scoring=&#x27;balanced_accuracy&#x27;)</pre></div></div></div></div></div></div></div>"
      ],
      "text/plain": [
       "Pipeline(steps=[('preprocessing',\n",
       "                 ColumnTransformer(sparse_threshold=0,\n",
       "                                   transformers=[('num',\n",
       "                                                  Pipeline(steps=[('imputer',\n",
       "                                                                   SimpleImputer(strategy='median'))]),\n",
       "                                                  ['Community_Membership_Family',\n",
       "                                                   'Community_Membership_Hobbies',\n",
       "                                                   'Community_Membership_None',\n",
       "                                                   'Community_Membership_Other',\n",
       "                                                   'Community_Membership_Political',\n",
       "                                                   'Community_Membership_Professional',\n",
       "                                                   'Communi...\n",
       "                                                   'Most_Import_Issue_Facing_the_Internet',\n",
       "                                                   'Opinions_on_Censorship',\n",
       "                                                   'Primary_Computing_Platform',\n",
       "                                                   'Primary_Language',\n",
       "                                                   'Primary_Place_of_WWW_Access',\n",
       "                                                   'Race', 'Registered_to_Vote',\n",
       "                                                   'Sexual_Preference',\n",
       "                                                   'Web_Ordering',\n",
       "                                                   'Web_Page_Creation'])])),\n",
       "                ('model',\n",
       "                 HistGradientBoostingClassifier(class_weight='balanced',\n",
       "                                                early_stopping=True,\n",
       "                                                n_iter_no_change=5,\n",
       "                                                random_state=1234,\n",
       "                                                scoring='balanced_accuracy'))])"
      ]
     },
     "execution_count": 49,
     "metadata": {},
     "output_type": "execute_result"
    }
   ],
   "source": [
    "# Display pipeline\n",
    "print(\"Time taken: \", count_hgb_default_time_taken)\n",
    "count_hgb_default"
   ]
  },
  {
   "cell_type": "code",
   "execution_count": 50,
   "id": "623276a2",
   "metadata": {
    "scrolled": true
   },
   "outputs": [],
   "source": [
    "tic = time.time()\n",
    "\n",
    "count_hgb_default9 = count_hgb_default_pipeline9.fit(X_train, y_train)\n",
    "\n",
    "toc = time.time()\n",
    "count_hgb_default9_time_taken = toc-tic"
   ]
  },
  {
   "cell_type": "code",
   "execution_count": 51,
   "metadata": {},
   "outputs": [
    {
     "name": "stdout",
     "output_type": "stream",
     "text": [
      "Time taken:  0.870025634765625\n"
     ]
    },
    {
     "data": {
      "text/html": [
       "<style>#sk-container-id-4 {color: black;}#sk-container-id-4 pre{padding: 0;}#sk-container-id-4 div.sk-toggleable {background-color: white;}#sk-container-id-4 label.sk-toggleable__label {cursor: pointer;display: block;width: 100%;margin-bottom: 0;padding: 0.3em;box-sizing: border-box;text-align: center;}#sk-container-id-4 label.sk-toggleable__label-arrow:before {content: \"▸\";float: left;margin-right: 0.25em;color: #696969;}#sk-container-id-4 label.sk-toggleable__label-arrow:hover:before {color: black;}#sk-container-id-4 div.sk-estimator:hover label.sk-toggleable__label-arrow:before {color: black;}#sk-container-id-4 div.sk-toggleable__content {max-height: 0;max-width: 0;overflow: hidden;text-align: left;background-color: #f0f8ff;}#sk-container-id-4 div.sk-toggleable__content pre {margin: 0.2em;color: black;border-radius: 0.25em;background-color: #f0f8ff;}#sk-container-id-4 input.sk-toggleable__control:checked~div.sk-toggleable__content {max-height: 200px;max-width: 100%;overflow: auto;}#sk-container-id-4 input.sk-toggleable__control:checked~label.sk-toggleable__label-arrow:before {content: \"▾\";}#sk-container-id-4 div.sk-estimator input.sk-toggleable__control:checked~label.sk-toggleable__label {background-color: #d4ebff;}#sk-container-id-4 div.sk-label input.sk-toggleable__control:checked~label.sk-toggleable__label {background-color: #d4ebff;}#sk-container-id-4 input.sk-hidden--visually {border: 0;clip: rect(1px 1px 1px 1px);clip: rect(1px, 1px, 1px, 1px);height: 1px;margin: -1px;overflow: hidden;padding: 0;position: absolute;width: 1px;}#sk-container-id-4 div.sk-estimator {font-family: monospace;background-color: #f0f8ff;border: 1px dotted black;border-radius: 0.25em;box-sizing: border-box;margin-bottom: 0.5em;}#sk-container-id-4 div.sk-estimator:hover {background-color: #d4ebff;}#sk-container-id-4 div.sk-parallel-item::after {content: \"\";width: 100%;border-bottom: 1px solid gray;flex-grow: 1;}#sk-container-id-4 div.sk-label:hover label.sk-toggleable__label {background-color: #d4ebff;}#sk-container-id-4 div.sk-serial::before {content: \"\";position: absolute;border-left: 1px solid gray;box-sizing: border-box;top: 0;bottom: 0;left: 50%;z-index: 0;}#sk-container-id-4 div.sk-serial {display: flex;flex-direction: column;align-items: center;background-color: white;padding-right: 0.2em;padding-left: 0.2em;position: relative;}#sk-container-id-4 div.sk-item {position: relative;z-index: 1;}#sk-container-id-4 div.sk-parallel {display: flex;align-items: stretch;justify-content: center;background-color: white;position: relative;}#sk-container-id-4 div.sk-item::before, #sk-container-id-4 div.sk-parallel-item::before {content: \"\";position: absolute;border-left: 1px solid gray;box-sizing: border-box;top: 0;bottom: 0;left: 50%;z-index: -1;}#sk-container-id-4 div.sk-parallel-item {display: flex;flex-direction: column;z-index: 1;position: relative;background-color: white;}#sk-container-id-4 div.sk-parallel-item:first-child::after {align-self: flex-end;width: 50%;}#sk-container-id-4 div.sk-parallel-item:last-child::after {align-self: flex-start;width: 50%;}#sk-container-id-4 div.sk-parallel-item:only-child::after {width: 0;}#sk-container-id-4 div.sk-dashed-wrapped {border: 1px dashed gray;margin: 0 0.4em 0.5em 0.4em;box-sizing: border-box;padding-bottom: 0.4em;background-color: white;}#sk-container-id-4 div.sk-label label {font-family: monospace;font-weight: bold;display: inline-block;line-height: 1.2em;}#sk-container-id-4 div.sk-label-container {text-align: center;}#sk-container-id-4 div.sk-container {/* jupyter's `normalize.less` sets `[hidden] { display: none; }` but bootstrap.min.css set `[hidden] { display: none !important; }` so we also need the `!important` here to be able to override the default hidden behavior on the sphinx rendered scikit-learn.org. See: https://github.com/scikit-learn/scikit-learn/issues/21755 */display: inline-block !important;position: relative;}#sk-container-id-4 div.sk-text-repr-fallback {display: none;}</style><div id=\"sk-container-id-4\" class=\"sk-top-container\"><div class=\"sk-text-repr-fallback\"><pre>Pipeline(steps=[(&#x27;preprocessing&#x27;,\n",
       "                 ColumnTransformer(sparse_threshold=0,\n",
       "                                   transformers=[(&#x27;num&#x27;,\n",
       "                                                  Pipeline(steps=[(&#x27;imputer&#x27;,\n",
       "                                                                   SimpleImputer(strategy=&#x27;median&#x27;))]),\n",
       "                                                  [&#x27;Community_Membership_Family&#x27;,\n",
       "                                                   &#x27;Community_Membership_Hobbies&#x27;,\n",
       "                                                   &#x27;Community_Membership_None&#x27;,\n",
       "                                                   &#x27;Community_Membership_Other&#x27;,\n",
       "                                                   &#x27;Community_Membership_Political&#x27;,\n",
       "                                                   &#x27;Community_Membership_Professional&#x27;,\n",
       "                                                   &#x27;Communi...\n",
       "                                                   &#x27;Marital_Status&#x27;,\n",
       "                                                   &#x27;Most_Import_Issue_Facing_the_Internet&#x27;,\n",
       "                                                   &#x27;Opinions_on_Censorship&#x27;,\n",
       "                                                   &#x27;Primary_Place_of_WWW_Access&#x27;,\n",
       "                                                   &#x27;Race&#x27;, &#x27;Registered_to_Vote&#x27;,\n",
       "                                                   &#x27;Sexual_Preference&#x27;,\n",
       "                                                   &#x27;Web_Ordering&#x27;,\n",
       "                                                   &#x27;Web_Page_Creation&#x27;])])),\n",
       "                (&#x27;model&#x27;,\n",
       "                 HistGradientBoostingClassifier(class_weight=&#x27;balanced&#x27;,\n",
       "                                                early_stopping=True,\n",
       "                                                max_iter=1000,\n",
       "                                                n_iter_no_change=5,\n",
       "                                                random_state=1234,\n",
       "                                                scoring=&#x27;balanced_accuracy&#x27;))])</pre><b>In a Jupyter environment, please rerun this cell to show the HTML representation or trust the notebook. <br />On GitHub, the HTML representation is unable to render, please try loading this page with nbviewer.org.</b></div><div class=\"sk-container\" hidden><div class=\"sk-item sk-dashed-wrapped\"><div class=\"sk-label-container\"><div class=\"sk-label sk-toggleable\"><input class=\"sk-toggleable__control sk-hidden--visually\" id=\"sk-estimator-id-26\" type=\"checkbox\" ><label for=\"sk-estimator-id-26\" class=\"sk-toggleable__label sk-toggleable__label-arrow\">Pipeline</label><div class=\"sk-toggleable__content\"><pre>Pipeline(steps=[(&#x27;preprocessing&#x27;,\n",
       "                 ColumnTransformer(sparse_threshold=0,\n",
       "                                   transformers=[(&#x27;num&#x27;,\n",
       "                                                  Pipeline(steps=[(&#x27;imputer&#x27;,\n",
       "                                                                   SimpleImputer(strategy=&#x27;median&#x27;))]),\n",
       "                                                  [&#x27;Community_Membership_Family&#x27;,\n",
       "                                                   &#x27;Community_Membership_Hobbies&#x27;,\n",
       "                                                   &#x27;Community_Membership_None&#x27;,\n",
       "                                                   &#x27;Community_Membership_Other&#x27;,\n",
       "                                                   &#x27;Community_Membership_Political&#x27;,\n",
       "                                                   &#x27;Community_Membership_Professional&#x27;,\n",
       "                                                   &#x27;Communi...\n",
       "                                                   &#x27;Marital_Status&#x27;,\n",
       "                                                   &#x27;Most_Import_Issue_Facing_the_Internet&#x27;,\n",
       "                                                   &#x27;Opinions_on_Censorship&#x27;,\n",
       "                                                   &#x27;Primary_Place_of_WWW_Access&#x27;,\n",
       "                                                   &#x27;Race&#x27;, &#x27;Registered_to_Vote&#x27;,\n",
       "                                                   &#x27;Sexual_Preference&#x27;,\n",
       "                                                   &#x27;Web_Ordering&#x27;,\n",
       "                                                   &#x27;Web_Page_Creation&#x27;])])),\n",
       "                (&#x27;model&#x27;,\n",
       "                 HistGradientBoostingClassifier(class_weight=&#x27;balanced&#x27;,\n",
       "                                                early_stopping=True,\n",
       "                                                max_iter=1000,\n",
       "                                                n_iter_no_change=5,\n",
       "                                                random_state=1234,\n",
       "                                                scoring=&#x27;balanced_accuracy&#x27;))])</pre></div></div></div><div class=\"sk-serial\"><div class=\"sk-item sk-dashed-wrapped\"><div class=\"sk-label-container\"><div class=\"sk-label sk-toggleable\"><input class=\"sk-toggleable__control sk-hidden--visually\" id=\"sk-estimator-id-27\" type=\"checkbox\" ><label for=\"sk-estimator-id-27\" class=\"sk-toggleable__label sk-toggleable__label-arrow\">preprocessing: ColumnTransformer</label><div class=\"sk-toggleable__content\"><pre>ColumnTransformer(sparse_threshold=0,\n",
       "                  transformers=[(&#x27;num&#x27;,\n",
       "                                 Pipeline(steps=[(&#x27;imputer&#x27;,\n",
       "                                                  SimpleImputer(strategy=&#x27;median&#x27;))]),\n",
       "                                 [&#x27;Community_Membership_Family&#x27;,\n",
       "                                  &#x27;Community_Membership_Hobbies&#x27;,\n",
       "                                  &#x27;Community_Membership_None&#x27;,\n",
       "                                  &#x27;Community_Membership_Other&#x27;,\n",
       "                                  &#x27;Community_Membership_Political&#x27;,\n",
       "                                  &#x27;Community_Membership_Professional&#x27;,\n",
       "                                  &#x27;Community_Membership_Religious&#x27;,\n",
       "                                  &#x27;Communi...\n",
       "                                                  OneHotEncoder(drop=&#x27;first&#x27;,\n",
       "                                                                handle_unknown=&#x27;ignore&#x27;))]),\n",
       "                                 [&#x27;Community_Building&#x27;, &#x27;Education_Attainment&#x27;,\n",
       "                                  &#x27;Falsification_of_Information&#x27;,\n",
       "                                  &#x27;Household_Income&#x27;, &#x27;Major_Occupation&#x27;,\n",
       "                                  &#x27;Marital_Status&#x27;,\n",
       "                                  &#x27;Most_Import_Issue_Facing_the_Internet&#x27;,\n",
       "                                  &#x27;Opinions_on_Censorship&#x27;,\n",
       "                                  &#x27;Primary_Place_of_WWW_Access&#x27;, &#x27;Race&#x27;,\n",
       "                                  &#x27;Registered_to_Vote&#x27;, &#x27;Sexual_Preference&#x27;,\n",
       "                                  &#x27;Web_Ordering&#x27;, &#x27;Web_Page_Creation&#x27;])])</pre></div></div></div><div class=\"sk-parallel\"><div class=\"sk-parallel-item\"><div class=\"sk-item\"><div class=\"sk-label-container\"><div class=\"sk-label sk-toggleable\"><input class=\"sk-toggleable__control sk-hidden--visually\" id=\"sk-estimator-id-28\" type=\"checkbox\" ><label for=\"sk-estimator-id-28\" class=\"sk-toggleable__label sk-toggleable__label-arrow\">num</label><div class=\"sk-toggleable__content\"><pre>[&#x27;Community_Membership_Family&#x27;, &#x27;Community_Membership_Hobbies&#x27;, &#x27;Community_Membership_None&#x27;, &#x27;Community_Membership_Other&#x27;, &#x27;Community_Membership_Political&#x27;, &#x27;Community_Membership_Professional&#x27;, &#x27;Community_Membership_Religious&#x27;, &#x27;Community_Membership_Support&#x27;, &#x27;Disability_Cognitive&#x27;, &#x27;Disability_Hearing&#x27;, &#x27;Disability_Motor&#x27;, &#x27;Disability_Not_Impaired&#x27;, &#x27;Disability_Not_Say&#x27;, &#x27;Disability_Vision&#x27;, &#x27;Gender&#x27;, &#x27;How_You_Heard_About_Survey_Banner&#x27;, &#x27;How_You_Heard_About_Survey_Friend&#x27;, &#x27;How_You_Heard_About_Survey_Mailing_List&#x27;, &#x27;How_You_Heard_About_Survey_Others&#x27;, &#x27;How_You_Heard_About_Survey_Printed_Media&#x27;, &#x27;How_You_Heard_About_Survey_Remebered&#x27;, &#x27;How_You_Heard_About_Survey_Search_Engine&#x27;, &#x27;How_You_Heard_About_Survey_Usenet_News&#x27;, &#x27;How_You_Heard_About_Survey_WWW_Page&#x27;, &#x27;Not_Purchasing_Bad_experience&#x27;, &#x27;Not_Purchasing_Bad_press&#x27;, &#x27;Not_Purchasing_Cant_find&#x27;, &#x27;Not_Purchasing_Company_policy&#x27;, &#x27;Not_Purchasing_Easier_locally&#x27;, &#x27;Not_Purchasing_Enough_info&#x27;, &#x27;Not_Purchasing_Judge_quality&#x27;, &#x27;Not_Purchasing_Never_tried&#x27;, &#x27;Not_Purchasing_No_credit&#x27;, &#x27;Not_Purchasing_Not_applicable&#x27;, &#x27;Not_Purchasing_Not_option&#x27;, &#x27;Not_Purchasing_Other&#x27;, &#x27;Not_Purchasing_Prefer_people&#x27;, &#x27;Not_Purchasing_Privacy&#x27;, &#x27;Not_Purchasing_Receipt&#x27;, &#x27;Not_Purchasing_Security&#x27;, &#x27;Not_Purchasing_Too_complicated&#x27;, &#x27;Not_Purchasing_Uncomfortable&#x27;, &#x27;Not_Purchasing_Unfamiliar_vendor&#x27;, &#x27;Who_Pays_for_Access_Dont_Know&#x27;, &#x27;Who_Pays_for_Access_Other&#x27;, &#x27;Who_Pays_for_Access_Parents&#x27;, &#x27;Who_Pays_for_Access_School&#x27;, &#x27;Who_Pays_for_Access_Self&#x27;]</pre></div></div></div><div class=\"sk-serial\"><div class=\"sk-item\"><div class=\"sk-serial\"><div class=\"sk-item\"><div class=\"sk-estimator sk-toggleable\"><input class=\"sk-toggleable__control sk-hidden--visually\" id=\"sk-estimator-id-29\" type=\"checkbox\" ><label for=\"sk-estimator-id-29\" class=\"sk-toggleable__label sk-toggleable__label-arrow\">SimpleImputer</label><div class=\"sk-toggleable__content\"><pre>SimpleImputer(strategy=&#x27;median&#x27;)</pre></div></div></div></div></div></div></div></div><div class=\"sk-parallel-item\"><div class=\"sk-item\"><div class=\"sk-label-container\"><div class=\"sk-label sk-toggleable\"><input class=\"sk-toggleable__control sk-hidden--visually\" id=\"sk-estimator-id-30\" type=\"checkbox\" ><label for=\"sk-estimator-id-30\" class=\"sk-toggleable__label sk-toggleable__label-arrow\">count_encoder</label><div class=\"sk-toggleable__content\"><pre>[&#x27;Actual_Time&#x27;, &#x27;Country&#x27;, &#x27;Major_Geographical_Location&#x27;, &#x27;Primary_Computing_Platform&#x27;, &#x27;Primary_Language&#x27;]</pre></div></div></div><div class=\"sk-serial\"><div class=\"sk-item\"><div class=\"sk-serial\"><div class=\"sk-item\"><div class=\"sk-estimator sk-toggleable\"><input class=\"sk-toggleable__control sk-hidden--visually\" id=\"sk-estimator-id-31\" type=\"checkbox\" ><label for=\"sk-estimator-id-31\" class=\"sk-toggleable__label sk-toggleable__label-arrow\">SimpleImputer</label><div class=\"sk-toggleable__content\"><pre>SimpleImputer(strategy=&#x27;most_frequent&#x27;)</pre></div></div></div><div class=\"sk-item\"><div class=\"sk-estimator sk-toggleable\"><input class=\"sk-toggleable__control sk-hidden--visually\" id=\"sk-estimator-id-32\" type=\"checkbox\" ><label for=\"sk-estimator-id-32\" class=\"sk-toggleable__label sk-toggleable__label-arrow\">CountEncoder</label><div class=\"sk-toggleable__content\"><pre>CountEncoder(combine_min_nan_groups=True)</pre></div></div></div></div></div></div></div></div><div class=\"sk-parallel-item\"><div class=\"sk-item\"><div class=\"sk-label-container\"><div class=\"sk-label sk-toggleable\"><input class=\"sk-toggleable__control sk-hidden--visually\" id=\"sk-estimator-id-33\" type=\"checkbox\" ><label for=\"sk-estimator-id-33\" class=\"sk-toggleable__label sk-toggleable__label-arrow\">one_hot_encoding</label><div class=\"sk-toggleable__content\"><pre>[&#x27;Community_Building&#x27;, &#x27;Education_Attainment&#x27;, &#x27;Falsification_of_Information&#x27;, &#x27;Household_Income&#x27;, &#x27;Major_Occupation&#x27;, &#x27;Marital_Status&#x27;, &#x27;Most_Import_Issue_Facing_the_Internet&#x27;, &#x27;Opinions_on_Censorship&#x27;, &#x27;Primary_Place_of_WWW_Access&#x27;, &#x27;Race&#x27;, &#x27;Registered_to_Vote&#x27;, &#x27;Sexual_Preference&#x27;, &#x27;Web_Ordering&#x27;, &#x27;Web_Page_Creation&#x27;]</pre></div></div></div><div class=\"sk-serial\"><div class=\"sk-item\"><div class=\"sk-serial\"><div class=\"sk-item\"><div class=\"sk-estimator sk-toggleable\"><input class=\"sk-toggleable__control sk-hidden--visually\" id=\"sk-estimator-id-34\" type=\"checkbox\" ><label for=\"sk-estimator-id-34\" class=\"sk-toggleable__label sk-toggleable__label-arrow\">SimpleImputer</label><div class=\"sk-toggleable__content\"><pre>SimpleImputer(strategy=&#x27;most_frequent&#x27;)</pre></div></div></div><div class=\"sk-item\"><div class=\"sk-estimator sk-toggleable\"><input class=\"sk-toggleable__control sk-hidden--visually\" id=\"sk-estimator-id-35\" type=\"checkbox\" ><label for=\"sk-estimator-id-35\" class=\"sk-toggleable__label sk-toggleable__label-arrow\">OneHotEncoder</label><div class=\"sk-toggleable__content\"><pre>OneHotEncoder(drop=&#x27;first&#x27;, handle_unknown=&#x27;ignore&#x27;)</pre></div></div></div></div></div></div></div></div></div></div><div class=\"sk-item\"><div class=\"sk-estimator sk-toggleable\"><input class=\"sk-toggleable__control sk-hidden--visually\" id=\"sk-estimator-id-36\" type=\"checkbox\" ><label for=\"sk-estimator-id-36\" class=\"sk-toggleable__label sk-toggleable__label-arrow\">HistGradientBoostingClassifier</label><div class=\"sk-toggleable__content\"><pre>HistGradientBoostingClassifier(class_weight=&#x27;balanced&#x27;, early_stopping=True,\n",
       "                               max_iter=1000, n_iter_no_change=5,\n",
       "                               random_state=1234, scoring=&#x27;balanced_accuracy&#x27;)</pre></div></div></div></div></div></div></div>"
      ],
      "text/plain": [
       "Pipeline(steps=[('preprocessing',\n",
       "                 ColumnTransformer(sparse_threshold=0,\n",
       "                                   transformers=[('num',\n",
       "                                                  Pipeline(steps=[('imputer',\n",
       "                                                                   SimpleImputer(strategy='median'))]),\n",
       "                                                  ['Community_Membership_Family',\n",
       "                                                   'Community_Membership_Hobbies',\n",
       "                                                   'Community_Membership_None',\n",
       "                                                   'Community_Membership_Other',\n",
       "                                                   'Community_Membership_Political',\n",
       "                                                   'Community_Membership_Professional',\n",
       "                                                   'Communi...\n",
       "                                                   'Marital_Status',\n",
       "                                                   'Most_Import_Issue_Facing_the_Internet',\n",
       "                                                   'Opinions_on_Censorship',\n",
       "                                                   'Primary_Place_of_WWW_Access',\n",
       "                                                   'Race', 'Registered_to_Vote',\n",
       "                                                   'Sexual_Preference',\n",
       "                                                   'Web_Ordering',\n",
       "                                                   'Web_Page_Creation'])])),\n",
       "                ('model',\n",
       "                 HistGradientBoostingClassifier(class_weight='balanced',\n",
       "                                                early_stopping=True,\n",
       "                                                max_iter=1000,\n",
       "                                                n_iter_no_change=5,\n",
       "                                                random_state=1234,\n",
       "                                                scoring='balanced_accuracy'))])"
      ]
     },
     "execution_count": 51,
     "metadata": {},
     "output_type": "execute_result"
    }
   ],
   "source": [
    "# Display pipeline\n",
    "print(\"Time taken: \", count_hgb_default9_time_taken)\n",
    "count_hgb_default9"
   ]
  },
  {
   "cell_type": "code",
   "execution_count": 52,
   "id": "513c585e",
   "metadata": {},
   "outputs": [
    {
     "name": "stdout",
     "output_type": "stream",
     "text": [
      "Balanced accuracy with default parameters: 0.8717524151053864\n"
     ]
    }
   ],
   "source": [
    "# Calculate balanced accuracy for the model with default parameters\n",
    "y_count_hgb_default_pred = count_hgb_default.predict(X_test)\n",
    "count_hgb_default_accuracy = balanced_accuracy_score(y_test, y_count_hgb_default_pred)\n",
    "print(f'Balanced accuracy with default parameters: {count_hgb_default_accuracy}')\n",
    "\n",
    "# Save results\n",
    "default_summary.append(\"Default\")\n",
    "card_9_summary.append(\"AllVariables\")\n",
    "encoder_summary.append(\"CountEncoding\")\n",
    "value_summary.append(count_hgb_default_accuracy)\n",
    "time_summary.append(count_hgb_default_time_taken)\n",
    "n_models_summary.append(1)"
   ]
  },
  {
   "cell_type": "code",
   "execution_count": 53,
   "id": "9d97deb1",
   "metadata": {},
   "outputs": [
    {
     "name": "stdout",
     "output_type": "stream",
     "text": [
      "Balanced accuracy with default parameters: 0.8707278249414521\n"
     ]
    }
   ],
   "source": [
    "# Calculate balanced accuracy for the model with default parameters\n",
    "y_count_hgb_default_pred9 = count_hgb_default9.predict(X_test)\n",
    "count_hgb_default_accuracy9 = balanced_accuracy_score(y_test, y_count_hgb_default_pred9)\n",
    "print(f'Balanced accuracy with default parameters: {count_hgb_default_accuracy9}')\n",
    "\n",
    "# Save results\n",
    "default_summary.append(\"Default\")\n",
    "card_9_summary.append(\"OnlyVariablesWithCard>9\")\n",
    "encoder_summary.append(\"CountEncoding\")\n",
    "value_summary.append(count_hgb_default_accuracy9)\n",
    "time_summary.append(count_hgb_default9_time_taken)\n",
    "n_models_summary.append(1)"
   ]
  },
  {
   "cell_type": "markdown",
   "id": "5535ba26",
   "metadata": {},
   "source": [
    "#### Create a HistGradientBoostingClassifier model for tuning"
   ]
  },
  {
   "cell_type": "code",
   "execution_count": 54,
   "id": "3449fd82",
   "metadata": {},
   "outputs": [],
   "source": [
    "count_hgb_tune = RandomizedSearchCV(estimator = count_hgb_default_pipeline, \n",
    "                                   param_distributions = param_distributions, \n",
    "                                   n_iter = 200,\n",
    "                                   cv = stratified_kfold,\n",
    "                                   scoring = 'balanced_accuracy', \n",
    "                                   random_state = 1234,\n",
    "                                   n_jobs = -1)\n",
    "\n",
    "count_hgb_tune9 = RandomizedSearchCV(estimator = count_hgb_default_pipeline9, \n",
    "                                     param_distributions = param_distributions, \n",
    "                                     n_iter = 200,\n",
    "                                     cv = stratified_kfold,\n",
    "                                     scoring = 'balanced_accuracy', \n",
    "                                     random_state = 1234,\n",
    "                                     n_jobs = -1)"
   ]
  },
  {
   "cell_type": "code",
   "execution_count": 55,
   "id": "0f16c9c0",
   "metadata": {},
   "outputs": [],
   "source": [
    "tic = time.time()\n",
    "\n",
    "count_hgb_tune = count_hgb_tune.fit(X_train, y_train)\n",
    "\n",
    "toc = time.time()\n",
    "count_hgb_tune_time_taken = toc-tic"
   ]
  },
  {
   "cell_type": "code",
   "execution_count": 56,
   "metadata": {},
   "outputs": [
    {
     "name": "stdout",
     "output_type": "stream",
     "text": [
      "Time taken:  58.264779806137085\n"
     ]
    },
    {
     "data": {
      "text/html": [
       "<style>#sk-container-id-5 {color: black;}#sk-container-id-5 pre{padding: 0;}#sk-container-id-5 div.sk-toggleable {background-color: white;}#sk-container-id-5 label.sk-toggleable__label {cursor: pointer;display: block;width: 100%;margin-bottom: 0;padding: 0.3em;box-sizing: border-box;text-align: center;}#sk-container-id-5 label.sk-toggleable__label-arrow:before {content: \"▸\";float: left;margin-right: 0.25em;color: #696969;}#sk-container-id-5 label.sk-toggleable__label-arrow:hover:before {color: black;}#sk-container-id-5 div.sk-estimator:hover label.sk-toggleable__label-arrow:before {color: black;}#sk-container-id-5 div.sk-toggleable__content {max-height: 0;max-width: 0;overflow: hidden;text-align: left;background-color: #f0f8ff;}#sk-container-id-5 div.sk-toggleable__content pre {margin: 0.2em;color: black;border-radius: 0.25em;background-color: #f0f8ff;}#sk-container-id-5 input.sk-toggleable__control:checked~div.sk-toggleable__content {max-height: 200px;max-width: 100%;overflow: auto;}#sk-container-id-5 input.sk-toggleable__control:checked~label.sk-toggleable__label-arrow:before {content: \"▾\";}#sk-container-id-5 div.sk-estimator input.sk-toggleable__control:checked~label.sk-toggleable__label {background-color: #d4ebff;}#sk-container-id-5 div.sk-label input.sk-toggleable__control:checked~label.sk-toggleable__label {background-color: #d4ebff;}#sk-container-id-5 input.sk-hidden--visually {border: 0;clip: rect(1px 1px 1px 1px);clip: rect(1px, 1px, 1px, 1px);height: 1px;margin: -1px;overflow: hidden;padding: 0;position: absolute;width: 1px;}#sk-container-id-5 div.sk-estimator {font-family: monospace;background-color: #f0f8ff;border: 1px dotted black;border-radius: 0.25em;box-sizing: border-box;margin-bottom: 0.5em;}#sk-container-id-5 div.sk-estimator:hover {background-color: #d4ebff;}#sk-container-id-5 div.sk-parallel-item::after {content: \"\";width: 100%;border-bottom: 1px solid gray;flex-grow: 1;}#sk-container-id-5 div.sk-label:hover label.sk-toggleable__label {background-color: #d4ebff;}#sk-container-id-5 div.sk-serial::before {content: \"\";position: absolute;border-left: 1px solid gray;box-sizing: border-box;top: 0;bottom: 0;left: 50%;z-index: 0;}#sk-container-id-5 div.sk-serial {display: flex;flex-direction: column;align-items: center;background-color: white;padding-right: 0.2em;padding-left: 0.2em;position: relative;}#sk-container-id-5 div.sk-item {position: relative;z-index: 1;}#sk-container-id-5 div.sk-parallel {display: flex;align-items: stretch;justify-content: center;background-color: white;position: relative;}#sk-container-id-5 div.sk-item::before, #sk-container-id-5 div.sk-parallel-item::before {content: \"\";position: absolute;border-left: 1px solid gray;box-sizing: border-box;top: 0;bottom: 0;left: 50%;z-index: -1;}#sk-container-id-5 div.sk-parallel-item {display: flex;flex-direction: column;z-index: 1;position: relative;background-color: white;}#sk-container-id-5 div.sk-parallel-item:first-child::after {align-self: flex-end;width: 50%;}#sk-container-id-5 div.sk-parallel-item:last-child::after {align-self: flex-start;width: 50%;}#sk-container-id-5 div.sk-parallel-item:only-child::after {width: 0;}#sk-container-id-5 div.sk-dashed-wrapped {border: 1px dashed gray;margin: 0 0.4em 0.5em 0.4em;box-sizing: border-box;padding-bottom: 0.4em;background-color: white;}#sk-container-id-5 div.sk-label label {font-family: monospace;font-weight: bold;display: inline-block;line-height: 1.2em;}#sk-container-id-5 div.sk-label-container {text-align: center;}#sk-container-id-5 div.sk-container {/* jupyter's `normalize.less` sets `[hidden] { display: none; }` but bootstrap.min.css set `[hidden] { display: none !important; }` so we also need the `!important` here to be able to override the default hidden behavior on the sphinx rendered scikit-learn.org. See: https://github.com/scikit-learn/scikit-learn/issues/21755 */display: inline-block !important;position: relative;}#sk-container-id-5 div.sk-text-repr-fallback {display: none;}</style><div id=\"sk-container-id-5\" class=\"sk-top-container\"><div class=\"sk-text-repr-fallback\"><pre>RandomizedSearchCV(cv=StratifiedKFold(n_splits=3, random_state=1234, shuffle=True),\n",
       "                   estimator=Pipeline(steps=[(&#x27;preprocessing&#x27;,\n",
       "                                              ColumnTransformer(sparse_threshold=0,\n",
       "                                                                transformers=[(&#x27;num&#x27;,\n",
       "                                                                               Pipeline(steps=[(&#x27;imputer&#x27;,\n",
       "                                                                                                SimpleImputer(strategy=&#x27;median&#x27;))]),\n",
       "                                                                               [&#x27;Community_Membership_Family&#x27;,\n",
       "                                                                                &#x27;Community_Membership_Hobbies&#x27;,\n",
       "                                                                                &#x27;Community_Membership_None&#x27;,\n",
       "                                                                                &#x27;Community_Memb...\n",
       "                                                                             random_state=1234,\n",
       "                                                                             scoring=&#x27;balanced_accuracy&#x27;))]),\n",
       "                   n_iter=200, n_jobs=-1,\n",
       "                   param_distributions={&#x27;model__learning_rate&#x27;: &lt;scipy.stats._distn_infrastructure.rv_continuous_frozen object at 0x000002AE7921E470&gt;,\n",
       "                                        &#x27;model__min_samples_leaf&#x27;: &lt;scipy.stats._distn_infrastructure.rv_discrete_frozen object at 0x000002AE7A91A710&gt;},\n",
       "                   random_state=1234, scoring=&#x27;balanced_accuracy&#x27;)</pre><b>In a Jupyter environment, please rerun this cell to show the HTML representation or trust the notebook. <br />On GitHub, the HTML representation is unable to render, please try loading this page with nbviewer.org.</b></div><div class=\"sk-container\" hidden><div class=\"sk-item sk-dashed-wrapped\"><div class=\"sk-label-container\"><div class=\"sk-label sk-toggleable\"><input class=\"sk-toggleable__control sk-hidden--visually\" id=\"sk-estimator-id-37\" type=\"checkbox\" ><label for=\"sk-estimator-id-37\" class=\"sk-toggleable__label sk-toggleable__label-arrow\">RandomizedSearchCV</label><div class=\"sk-toggleable__content\"><pre>RandomizedSearchCV(cv=StratifiedKFold(n_splits=3, random_state=1234, shuffle=True),\n",
       "                   estimator=Pipeline(steps=[(&#x27;preprocessing&#x27;,\n",
       "                                              ColumnTransformer(sparse_threshold=0,\n",
       "                                                                transformers=[(&#x27;num&#x27;,\n",
       "                                                                               Pipeline(steps=[(&#x27;imputer&#x27;,\n",
       "                                                                                                SimpleImputer(strategy=&#x27;median&#x27;))]),\n",
       "                                                                               [&#x27;Community_Membership_Family&#x27;,\n",
       "                                                                                &#x27;Community_Membership_Hobbies&#x27;,\n",
       "                                                                                &#x27;Community_Membership_None&#x27;,\n",
       "                                                                                &#x27;Community_Memb...\n",
       "                                                                             random_state=1234,\n",
       "                                                                             scoring=&#x27;balanced_accuracy&#x27;))]),\n",
       "                   n_iter=200, n_jobs=-1,\n",
       "                   param_distributions={&#x27;model__learning_rate&#x27;: &lt;scipy.stats._distn_infrastructure.rv_continuous_frozen object at 0x000002AE7921E470&gt;,\n",
       "                                        &#x27;model__min_samples_leaf&#x27;: &lt;scipy.stats._distn_infrastructure.rv_discrete_frozen object at 0x000002AE7A91A710&gt;},\n",
       "                   random_state=1234, scoring=&#x27;balanced_accuracy&#x27;)</pre></div></div></div><div class=\"sk-parallel\"><div class=\"sk-parallel-item\"><div class=\"sk-item\"><div class=\"sk-label-container\"><div class=\"sk-label sk-toggleable\"><input class=\"sk-toggleable__control sk-hidden--visually\" id=\"sk-estimator-id-38\" type=\"checkbox\" ><label for=\"sk-estimator-id-38\" class=\"sk-toggleable__label sk-toggleable__label-arrow\">estimator: Pipeline</label><div class=\"sk-toggleable__content\"><pre>Pipeline(steps=[(&#x27;preprocessing&#x27;,\n",
       "                 ColumnTransformer(sparse_threshold=0,\n",
       "                                   transformers=[(&#x27;num&#x27;,\n",
       "                                                  Pipeline(steps=[(&#x27;imputer&#x27;,\n",
       "                                                                   SimpleImputer(strategy=&#x27;median&#x27;))]),\n",
       "                                                  [&#x27;Community_Membership_Family&#x27;,\n",
       "                                                   &#x27;Community_Membership_Hobbies&#x27;,\n",
       "                                                   &#x27;Community_Membership_None&#x27;,\n",
       "                                                   &#x27;Community_Membership_Other&#x27;,\n",
       "                                                   &#x27;Community_Membership_Political&#x27;,\n",
       "                                                   &#x27;Community_Membership_Professional&#x27;,\n",
       "                                                   &#x27;Communi...\n",
       "                                                   &#x27;Most_Import_Issue_Facing_the_Internet&#x27;,\n",
       "                                                   &#x27;Opinions_on_Censorship&#x27;,\n",
       "                                                   &#x27;Primary_Computing_Platform&#x27;,\n",
       "                                                   &#x27;Primary_Language&#x27;,\n",
       "                                                   &#x27;Primary_Place_of_WWW_Access&#x27;,\n",
       "                                                   &#x27;Race&#x27;, &#x27;Registered_to_Vote&#x27;,\n",
       "                                                   &#x27;Sexual_Preference&#x27;,\n",
       "                                                   &#x27;Web_Ordering&#x27;,\n",
       "                                                   &#x27;Web_Page_Creation&#x27;])])),\n",
       "                (&#x27;model&#x27;,\n",
       "                 HistGradientBoostingClassifier(class_weight=&#x27;balanced&#x27;,\n",
       "                                                early_stopping=True,\n",
       "                                                n_iter_no_change=5,\n",
       "                                                random_state=1234,\n",
       "                                                scoring=&#x27;balanced_accuracy&#x27;))])</pre></div></div></div><div class=\"sk-serial\"><div class=\"sk-item\"><div class=\"sk-serial\"><div class=\"sk-item sk-dashed-wrapped\"><div class=\"sk-label-container\"><div class=\"sk-label sk-toggleable\"><input class=\"sk-toggleable__control sk-hidden--visually\" id=\"sk-estimator-id-39\" type=\"checkbox\" ><label for=\"sk-estimator-id-39\" class=\"sk-toggleable__label sk-toggleable__label-arrow\">preprocessing: ColumnTransformer</label><div class=\"sk-toggleable__content\"><pre>ColumnTransformer(sparse_threshold=0,\n",
       "                  transformers=[(&#x27;num&#x27;,\n",
       "                                 Pipeline(steps=[(&#x27;imputer&#x27;,\n",
       "                                                  SimpleImputer(strategy=&#x27;median&#x27;))]),\n",
       "                                 [&#x27;Community_Membership_Family&#x27;,\n",
       "                                  &#x27;Community_Membership_Hobbies&#x27;,\n",
       "                                  &#x27;Community_Membership_None&#x27;,\n",
       "                                  &#x27;Community_Membership_Other&#x27;,\n",
       "                                  &#x27;Community_Membership_Political&#x27;,\n",
       "                                  &#x27;Community_Membership_Professional&#x27;,\n",
       "                                  &#x27;Community_Membership_Religious&#x27;,\n",
       "                                  &#x27;Communi...\n",
       "                                  &#x27;Country&#x27;, &#x27;Education_Attainment&#x27;,\n",
       "                                  &#x27;Falsification_of_Information&#x27;,\n",
       "                                  &#x27;Household_Income&#x27;,\n",
       "                                  &#x27;Major_Geographical_Location&#x27;,\n",
       "                                  &#x27;Major_Occupation&#x27;, &#x27;Marital_Status&#x27;,\n",
       "                                  &#x27;Most_Import_Issue_Facing_the_Internet&#x27;,\n",
       "                                  &#x27;Opinions_on_Censorship&#x27;,\n",
       "                                  &#x27;Primary_Computing_Platform&#x27;,\n",
       "                                  &#x27;Primary_Language&#x27;,\n",
       "                                  &#x27;Primary_Place_of_WWW_Access&#x27;, &#x27;Race&#x27;,\n",
       "                                  &#x27;Registered_to_Vote&#x27;, &#x27;Sexual_Preference&#x27;,\n",
       "                                  &#x27;Web_Ordering&#x27;, &#x27;Web_Page_Creation&#x27;])])</pre></div></div></div><div class=\"sk-parallel\"><div class=\"sk-parallel-item\"><div class=\"sk-item\"><div class=\"sk-label-container\"><div class=\"sk-label sk-toggleable\"><input class=\"sk-toggleable__control sk-hidden--visually\" id=\"sk-estimator-id-40\" type=\"checkbox\" ><label for=\"sk-estimator-id-40\" class=\"sk-toggleable__label sk-toggleable__label-arrow\">num</label><div class=\"sk-toggleable__content\"><pre>[&#x27;Community_Membership_Family&#x27;, &#x27;Community_Membership_Hobbies&#x27;, &#x27;Community_Membership_None&#x27;, &#x27;Community_Membership_Other&#x27;, &#x27;Community_Membership_Political&#x27;, &#x27;Community_Membership_Professional&#x27;, &#x27;Community_Membership_Religious&#x27;, &#x27;Community_Membership_Support&#x27;, &#x27;Disability_Cognitive&#x27;, &#x27;Disability_Hearing&#x27;, &#x27;Disability_Motor&#x27;, &#x27;Disability_Not_Impaired&#x27;, &#x27;Disability_Not_Say&#x27;, &#x27;Disability_Vision&#x27;, &#x27;Gender&#x27;, &#x27;How_You_Heard_About_Survey_Banner&#x27;, &#x27;How_You_Heard_About_Survey_Friend&#x27;, &#x27;How_You_Heard_About_Survey_Mailing_List&#x27;, &#x27;How_You_Heard_About_Survey_Others&#x27;, &#x27;How_You_Heard_About_Survey_Printed_Media&#x27;, &#x27;How_You_Heard_About_Survey_Remebered&#x27;, &#x27;How_You_Heard_About_Survey_Search_Engine&#x27;, &#x27;How_You_Heard_About_Survey_Usenet_News&#x27;, &#x27;How_You_Heard_About_Survey_WWW_Page&#x27;, &#x27;Not_Purchasing_Bad_experience&#x27;, &#x27;Not_Purchasing_Bad_press&#x27;, &#x27;Not_Purchasing_Cant_find&#x27;, &#x27;Not_Purchasing_Company_policy&#x27;, &#x27;Not_Purchasing_Easier_locally&#x27;, &#x27;Not_Purchasing_Enough_info&#x27;, &#x27;Not_Purchasing_Judge_quality&#x27;, &#x27;Not_Purchasing_Never_tried&#x27;, &#x27;Not_Purchasing_No_credit&#x27;, &#x27;Not_Purchasing_Not_applicable&#x27;, &#x27;Not_Purchasing_Not_option&#x27;, &#x27;Not_Purchasing_Other&#x27;, &#x27;Not_Purchasing_Prefer_people&#x27;, &#x27;Not_Purchasing_Privacy&#x27;, &#x27;Not_Purchasing_Receipt&#x27;, &#x27;Not_Purchasing_Security&#x27;, &#x27;Not_Purchasing_Too_complicated&#x27;, &#x27;Not_Purchasing_Uncomfortable&#x27;, &#x27;Not_Purchasing_Unfamiliar_vendor&#x27;, &#x27;Who_Pays_for_Access_Dont_Know&#x27;, &#x27;Who_Pays_for_Access_Other&#x27;, &#x27;Who_Pays_for_Access_Parents&#x27;, &#x27;Who_Pays_for_Access_School&#x27;, &#x27;Who_Pays_for_Access_Self&#x27;]</pre></div></div></div><div class=\"sk-serial\"><div class=\"sk-item\"><div class=\"sk-serial\"><div class=\"sk-item\"><div class=\"sk-estimator sk-toggleable\"><input class=\"sk-toggleable__control sk-hidden--visually\" id=\"sk-estimator-id-41\" type=\"checkbox\" ><label for=\"sk-estimator-id-41\" class=\"sk-toggleable__label sk-toggleable__label-arrow\">SimpleImputer</label><div class=\"sk-toggleable__content\"><pre>SimpleImputer(strategy=&#x27;median&#x27;)</pre></div></div></div></div></div></div></div></div><div class=\"sk-parallel-item\"><div class=\"sk-item\"><div class=\"sk-label-container\"><div class=\"sk-label sk-toggleable\"><input class=\"sk-toggleable__control sk-hidden--visually\" id=\"sk-estimator-id-42\" type=\"checkbox\" ><label for=\"sk-estimator-id-42\" class=\"sk-toggleable__label sk-toggleable__label-arrow\">count_encoder</label><div class=\"sk-toggleable__content\"><pre>[&#x27;Actual_Time&#x27;, &#x27;Community_Building&#x27;, &#x27;Country&#x27;, &#x27;Education_Attainment&#x27;, &#x27;Falsification_of_Information&#x27;, &#x27;Household_Income&#x27;, &#x27;Major_Geographical_Location&#x27;, &#x27;Major_Occupation&#x27;, &#x27;Marital_Status&#x27;, &#x27;Most_Import_Issue_Facing_the_Internet&#x27;, &#x27;Opinions_on_Censorship&#x27;, &#x27;Primary_Computing_Platform&#x27;, &#x27;Primary_Language&#x27;, &#x27;Primary_Place_of_WWW_Access&#x27;, &#x27;Race&#x27;, &#x27;Registered_to_Vote&#x27;, &#x27;Sexual_Preference&#x27;, &#x27;Web_Ordering&#x27;, &#x27;Web_Page_Creation&#x27;]</pre></div></div></div><div class=\"sk-serial\"><div class=\"sk-item\"><div class=\"sk-serial\"><div class=\"sk-item\"><div class=\"sk-estimator sk-toggleable\"><input class=\"sk-toggleable__control sk-hidden--visually\" id=\"sk-estimator-id-43\" type=\"checkbox\" ><label for=\"sk-estimator-id-43\" class=\"sk-toggleable__label sk-toggleable__label-arrow\">SimpleImputer</label><div class=\"sk-toggleable__content\"><pre>SimpleImputer(strategy=&#x27;most_frequent&#x27;)</pre></div></div></div><div class=\"sk-item\"><div class=\"sk-estimator sk-toggleable\"><input class=\"sk-toggleable__control sk-hidden--visually\" id=\"sk-estimator-id-44\" type=\"checkbox\" ><label for=\"sk-estimator-id-44\" class=\"sk-toggleable__label sk-toggleable__label-arrow\">CountEncoder</label><div class=\"sk-toggleable__content\"><pre>CountEncoder(combine_min_nan_groups=True)</pre></div></div></div></div></div></div></div></div></div></div><div class=\"sk-item\"><div class=\"sk-estimator sk-toggleable\"><input class=\"sk-toggleable__control sk-hidden--visually\" id=\"sk-estimator-id-45\" type=\"checkbox\" ><label for=\"sk-estimator-id-45\" class=\"sk-toggleable__label sk-toggleable__label-arrow\">HistGradientBoostingClassifier</label><div class=\"sk-toggleable__content\"><pre>HistGradientBoostingClassifier(class_weight=&#x27;balanced&#x27;, early_stopping=True,\n",
       "                               n_iter_no_change=5, random_state=1234,\n",
       "                               scoring=&#x27;balanced_accuracy&#x27;)</pre></div></div></div></div></div></div></div></div></div></div></div></div>"
      ],
      "text/plain": [
       "RandomizedSearchCV(cv=StratifiedKFold(n_splits=3, random_state=1234, shuffle=True),\n",
       "                   estimator=Pipeline(steps=[('preprocessing',\n",
       "                                              ColumnTransformer(sparse_threshold=0,\n",
       "                                                                transformers=[('num',\n",
       "                                                                               Pipeline(steps=[('imputer',\n",
       "                                                                                                SimpleImputer(strategy='median'))]),\n",
       "                                                                               ['Community_Membership_Family',\n",
       "                                                                                'Community_Membership_Hobbies',\n",
       "                                                                                'Community_Membership_None',\n",
       "                                                                                'Community_Memb...\n",
       "                                                                             random_state=1234,\n",
       "                                                                             scoring='balanced_accuracy'))]),\n",
       "                   n_iter=200, n_jobs=-1,\n",
       "                   param_distributions={'model__learning_rate': <scipy.stats._distn_infrastructure.rv_continuous_frozen object at 0x000002AE7921E470>,\n",
       "                                        'model__min_samples_leaf': <scipy.stats._distn_infrastructure.rv_discrete_frozen object at 0x000002AE7A91A710>},\n",
       "                   random_state=1234, scoring='balanced_accuracy')"
      ]
     },
     "execution_count": 56,
     "metadata": {},
     "output_type": "execute_result"
    }
   ],
   "source": [
    "# Display pipeline\n",
    "print(\"Time taken: \", count_hgb_tune_time_taken)\n",
    "count_hgb_tune"
   ]
  },
  {
   "cell_type": "code",
   "execution_count": 57,
   "id": "b511e936",
   "metadata": {},
   "outputs": [],
   "source": [
    "tic = time.time()\n",
    "\n",
    "count_hgb_tune9 = count_hgb_tune9.fit(X_train, y_train)\n",
    "\n",
    "toc = time.time()\n",
    "count_hgb_tune9_time_taken = toc-tic"
   ]
  },
  {
   "cell_type": "code",
   "execution_count": 58,
   "metadata": {},
   "outputs": [
    {
     "name": "stdout",
     "output_type": "stream",
     "text": [
      "Time taken:  59.459977865219116\n"
     ]
    },
    {
     "data": {
      "text/html": [
       "<style>#sk-container-id-6 {color: black;}#sk-container-id-6 pre{padding: 0;}#sk-container-id-6 div.sk-toggleable {background-color: white;}#sk-container-id-6 label.sk-toggleable__label {cursor: pointer;display: block;width: 100%;margin-bottom: 0;padding: 0.3em;box-sizing: border-box;text-align: center;}#sk-container-id-6 label.sk-toggleable__label-arrow:before {content: \"▸\";float: left;margin-right: 0.25em;color: #696969;}#sk-container-id-6 label.sk-toggleable__label-arrow:hover:before {color: black;}#sk-container-id-6 div.sk-estimator:hover label.sk-toggleable__label-arrow:before {color: black;}#sk-container-id-6 div.sk-toggleable__content {max-height: 0;max-width: 0;overflow: hidden;text-align: left;background-color: #f0f8ff;}#sk-container-id-6 div.sk-toggleable__content pre {margin: 0.2em;color: black;border-radius: 0.25em;background-color: #f0f8ff;}#sk-container-id-6 input.sk-toggleable__control:checked~div.sk-toggleable__content {max-height: 200px;max-width: 100%;overflow: auto;}#sk-container-id-6 input.sk-toggleable__control:checked~label.sk-toggleable__label-arrow:before {content: \"▾\";}#sk-container-id-6 div.sk-estimator input.sk-toggleable__control:checked~label.sk-toggleable__label {background-color: #d4ebff;}#sk-container-id-6 div.sk-label input.sk-toggleable__control:checked~label.sk-toggleable__label {background-color: #d4ebff;}#sk-container-id-6 input.sk-hidden--visually {border: 0;clip: rect(1px 1px 1px 1px);clip: rect(1px, 1px, 1px, 1px);height: 1px;margin: -1px;overflow: hidden;padding: 0;position: absolute;width: 1px;}#sk-container-id-6 div.sk-estimator {font-family: monospace;background-color: #f0f8ff;border: 1px dotted black;border-radius: 0.25em;box-sizing: border-box;margin-bottom: 0.5em;}#sk-container-id-6 div.sk-estimator:hover {background-color: #d4ebff;}#sk-container-id-6 div.sk-parallel-item::after {content: \"\";width: 100%;border-bottom: 1px solid gray;flex-grow: 1;}#sk-container-id-6 div.sk-label:hover label.sk-toggleable__label {background-color: #d4ebff;}#sk-container-id-6 div.sk-serial::before {content: \"\";position: absolute;border-left: 1px solid gray;box-sizing: border-box;top: 0;bottom: 0;left: 50%;z-index: 0;}#sk-container-id-6 div.sk-serial {display: flex;flex-direction: column;align-items: center;background-color: white;padding-right: 0.2em;padding-left: 0.2em;position: relative;}#sk-container-id-6 div.sk-item {position: relative;z-index: 1;}#sk-container-id-6 div.sk-parallel {display: flex;align-items: stretch;justify-content: center;background-color: white;position: relative;}#sk-container-id-6 div.sk-item::before, #sk-container-id-6 div.sk-parallel-item::before {content: \"\";position: absolute;border-left: 1px solid gray;box-sizing: border-box;top: 0;bottom: 0;left: 50%;z-index: -1;}#sk-container-id-6 div.sk-parallel-item {display: flex;flex-direction: column;z-index: 1;position: relative;background-color: white;}#sk-container-id-6 div.sk-parallel-item:first-child::after {align-self: flex-end;width: 50%;}#sk-container-id-6 div.sk-parallel-item:last-child::after {align-self: flex-start;width: 50%;}#sk-container-id-6 div.sk-parallel-item:only-child::after {width: 0;}#sk-container-id-6 div.sk-dashed-wrapped {border: 1px dashed gray;margin: 0 0.4em 0.5em 0.4em;box-sizing: border-box;padding-bottom: 0.4em;background-color: white;}#sk-container-id-6 div.sk-label label {font-family: monospace;font-weight: bold;display: inline-block;line-height: 1.2em;}#sk-container-id-6 div.sk-label-container {text-align: center;}#sk-container-id-6 div.sk-container {/* jupyter's `normalize.less` sets `[hidden] { display: none; }` but bootstrap.min.css set `[hidden] { display: none !important; }` so we also need the `!important` here to be able to override the default hidden behavior on the sphinx rendered scikit-learn.org. See: https://github.com/scikit-learn/scikit-learn/issues/21755 */display: inline-block !important;position: relative;}#sk-container-id-6 div.sk-text-repr-fallback {display: none;}</style><div id=\"sk-container-id-6\" class=\"sk-top-container\"><div class=\"sk-text-repr-fallback\"><pre>RandomizedSearchCV(cv=StratifiedKFold(n_splits=3, random_state=1234, shuffle=True),\n",
       "                   estimator=Pipeline(steps=[(&#x27;preprocessing&#x27;,\n",
       "                                              ColumnTransformer(sparse_threshold=0,\n",
       "                                                                transformers=[(&#x27;num&#x27;,\n",
       "                                                                               Pipeline(steps=[(&#x27;imputer&#x27;,\n",
       "                                                                                                SimpleImputer(strategy=&#x27;median&#x27;))]),\n",
       "                                                                               [&#x27;Community_Membership_Family&#x27;,\n",
       "                                                                                &#x27;Community_Membership_Hobbies&#x27;,\n",
       "                                                                                &#x27;Community_Membership_None&#x27;,\n",
       "                                                                                &#x27;Community_Memb...\n",
       "                                                                             random_state=1234,\n",
       "                                                                             scoring=&#x27;balanced_accuracy&#x27;))]),\n",
       "                   n_iter=200, n_jobs=-1,\n",
       "                   param_distributions={&#x27;model__learning_rate&#x27;: &lt;scipy.stats._distn_infrastructure.rv_continuous_frozen object at 0x000002AE7921E470&gt;,\n",
       "                                        &#x27;model__min_samples_leaf&#x27;: &lt;scipy.stats._distn_infrastructure.rv_discrete_frozen object at 0x000002AE7A91A710&gt;},\n",
       "                   random_state=1234, scoring=&#x27;balanced_accuracy&#x27;)</pre><b>In a Jupyter environment, please rerun this cell to show the HTML representation or trust the notebook. <br />On GitHub, the HTML representation is unable to render, please try loading this page with nbviewer.org.</b></div><div class=\"sk-container\" hidden><div class=\"sk-item sk-dashed-wrapped\"><div class=\"sk-label-container\"><div class=\"sk-label sk-toggleable\"><input class=\"sk-toggleable__control sk-hidden--visually\" id=\"sk-estimator-id-46\" type=\"checkbox\" ><label for=\"sk-estimator-id-46\" class=\"sk-toggleable__label sk-toggleable__label-arrow\">RandomizedSearchCV</label><div class=\"sk-toggleable__content\"><pre>RandomizedSearchCV(cv=StratifiedKFold(n_splits=3, random_state=1234, shuffle=True),\n",
       "                   estimator=Pipeline(steps=[(&#x27;preprocessing&#x27;,\n",
       "                                              ColumnTransformer(sparse_threshold=0,\n",
       "                                                                transformers=[(&#x27;num&#x27;,\n",
       "                                                                               Pipeline(steps=[(&#x27;imputer&#x27;,\n",
       "                                                                                                SimpleImputer(strategy=&#x27;median&#x27;))]),\n",
       "                                                                               [&#x27;Community_Membership_Family&#x27;,\n",
       "                                                                                &#x27;Community_Membership_Hobbies&#x27;,\n",
       "                                                                                &#x27;Community_Membership_None&#x27;,\n",
       "                                                                                &#x27;Community_Memb...\n",
       "                                                                             random_state=1234,\n",
       "                                                                             scoring=&#x27;balanced_accuracy&#x27;))]),\n",
       "                   n_iter=200, n_jobs=-1,\n",
       "                   param_distributions={&#x27;model__learning_rate&#x27;: &lt;scipy.stats._distn_infrastructure.rv_continuous_frozen object at 0x000002AE7921E470&gt;,\n",
       "                                        &#x27;model__min_samples_leaf&#x27;: &lt;scipy.stats._distn_infrastructure.rv_discrete_frozen object at 0x000002AE7A91A710&gt;},\n",
       "                   random_state=1234, scoring=&#x27;balanced_accuracy&#x27;)</pre></div></div></div><div class=\"sk-parallel\"><div class=\"sk-parallel-item\"><div class=\"sk-item\"><div class=\"sk-label-container\"><div class=\"sk-label sk-toggleable\"><input class=\"sk-toggleable__control sk-hidden--visually\" id=\"sk-estimator-id-47\" type=\"checkbox\" ><label for=\"sk-estimator-id-47\" class=\"sk-toggleable__label sk-toggleable__label-arrow\">estimator: Pipeline</label><div class=\"sk-toggleable__content\"><pre>Pipeline(steps=[(&#x27;preprocessing&#x27;,\n",
       "                 ColumnTransformer(sparse_threshold=0,\n",
       "                                   transformers=[(&#x27;num&#x27;,\n",
       "                                                  Pipeline(steps=[(&#x27;imputer&#x27;,\n",
       "                                                                   SimpleImputer(strategy=&#x27;median&#x27;))]),\n",
       "                                                  [&#x27;Community_Membership_Family&#x27;,\n",
       "                                                   &#x27;Community_Membership_Hobbies&#x27;,\n",
       "                                                   &#x27;Community_Membership_None&#x27;,\n",
       "                                                   &#x27;Community_Membership_Other&#x27;,\n",
       "                                                   &#x27;Community_Membership_Political&#x27;,\n",
       "                                                   &#x27;Community_Membership_Professional&#x27;,\n",
       "                                                   &#x27;Communi...\n",
       "                                                   &#x27;Marital_Status&#x27;,\n",
       "                                                   &#x27;Most_Import_Issue_Facing_the_Internet&#x27;,\n",
       "                                                   &#x27;Opinions_on_Censorship&#x27;,\n",
       "                                                   &#x27;Primary_Place_of_WWW_Access&#x27;,\n",
       "                                                   &#x27;Race&#x27;, &#x27;Registered_to_Vote&#x27;,\n",
       "                                                   &#x27;Sexual_Preference&#x27;,\n",
       "                                                   &#x27;Web_Ordering&#x27;,\n",
       "                                                   &#x27;Web_Page_Creation&#x27;])])),\n",
       "                (&#x27;model&#x27;,\n",
       "                 HistGradientBoostingClassifier(class_weight=&#x27;balanced&#x27;,\n",
       "                                                early_stopping=True,\n",
       "                                                max_iter=1000,\n",
       "                                                n_iter_no_change=5,\n",
       "                                                random_state=1234,\n",
       "                                                scoring=&#x27;balanced_accuracy&#x27;))])</pre></div></div></div><div class=\"sk-serial\"><div class=\"sk-item\"><div class=\"sk-serial\"><div class=\"sk-item sk-dashed-wrapped\"><div class=\"sk-label-container\"><div class=\"sk-label sk-toggleable\"><input class=\"sk-toggleable__control sk-hidden--visually\" id=\"sk-estimator-id-48\" type=\"checkbox\" ><label for=\"sk-estimator-id-48\" class=\"sk-toggleable__label sk-toggleable__label-arrow\">preprocessing: ColumnTransformer</label><div class=\"sk-toggleable__content\"><pre>ColumnTransformer(sparse_threshold=0,\n",
       "                  transformers=[(&#x27;num&#x27;,\n",
       "                                 Pipeline(steps=[(&#x27;imputer&#x27;,\n",
       "                                                  SimpleImputer(strategy=&#x27;median&#x27;))]),\n",
       "                                 [&#x27;Community_Membership_Family&#x27;,\n",
       "                                  &#x27;Community_Membership_Hobbies&#x27;,\n",
       "                                  &#x27;Community_Membership_None&#x27;,\n",
       "                                  &#x27;Community_Membership_Other&#x27;,\n",
       "                                  &#x27;Community_Membership_Political&#x27;,\n",
       "                                  &#x27;Community_Membership_Professional&#x27;,\n",
       "                                  &#x27;Community_Membership_Religious&#x27;,\n",
       "                                  &#x27;Communi...\n",
       "                                                  OneHotEncoder(drop=&#x27;first&#x27;,\n",
       "                                                                handle_unknown=&#x27;ignore&#x27;))]),\n",
       "                                 [&#x27;Community_Building&#x27;, &#x27;Education_Attainment&#x27;,\n",
       "                                  &#x27;Falsification_of_Information&#x27;,\n",
       "                                  &#x27;Household_Income&#x27;, &#x27;Major_Occupation&#x27;,\n",
       "                                  &#x27;Marital_Status&#x27;,\n",
       "                                  &#x27;Most_Import_Issue_Facing_the_Internet&#x27;,\n",
       "                                  &#x27;Opinions_on_Censorship&#x27;,\n",
       "                                  &#x27;Primary_Place_of_WWW_Access&#x27;, &#x27;Race&#x27;,\n",
       "                                  &#x27;Registered_to_Vote&#x27;, &#x27;Sexual_Preference&#x27;,\n",
       "                                  &#x27;Web_Ordering&#x27;, &#x27;Web_Page_Creation&#x27;])])</pre></div></div></div><div class=\"sk-parallel\"><div class=\"sk-parallel-item\"><div class=\"sk-item\"><div class=\"sk-label-container\"><div class=\"sk-label sk-toggleable\"><input class=\"sk-toggleable__control sk-hidden--visually\" id=\"sk-estimator-id-49\" type=\"checkbox\" ><label for=\"sk-estimator-id-49\" class=\"sk-toggleable__label sk-toggleable__label-arrow\">num</label><div class=\"sk-toggleable__content\"><pre>[&#x27;Community_Membership_Family&#x27;, &#x27;Community_Membership_Hobbies&#x27;, &#x27;Community_Membership_None&#x27;, &#x27;Community_Membership_Other&#x27;, &#x27;Community_Membership_Political&#x27;, &#x27;Community_Membership_Professional&#x27;, &#x27;Community_Membership_Religious&#x27;, &#x27;Community_Membership_Support&#x27;, &#x27;Disability_Cognitive&#x27;, &#x27;Disability_Hearing&#x27;, &#x27;Disability_Motor&#x27;, &#x27;Disability_Not_Impaired&#x27;, &#x27;Disability_Not_Say&#x27;, &#x27;Disability_Vision&#x27;, &#x27;Gender&#x27;, &#x27;How_You_Heard_About_Survey_Banner&#x27;, &#x27;How_You_Heard_About_Survey_Friend&#x27;, &#x27;How_You_Heard_About_Survey_Mailing_List&#x27;, &#x27;How_You_Heard_About_Survey_Others&#x27;, &#x27;How_You_Heard_About_Survey_Printed_Media&#x27;, &#x27;How_You_Heard_About_Survey_Remebered&#x27;, &#x27;How_You_Heard_About_Survey_Search_Engine&#x27;, &#x27;How_You_Heard_About_Survey_Usenet_News&#x27;, &#x27;How_You_Heard_About_Survey_WWW_Page&#x27;, &#x27;Not_Purchasing_Bad_experience&#x27;, &#x27;Not_Purchasing_Bad_press&#x27;, &#x27;Not_Purchasing_Cant_find&#x27;, &#x27;Not_Purchasing_Company_policy&#x27;, &#x27;Not_Purchasing_Easier_locally&#x27;, &#x27;Not_Purchasing_Enough_info&#x27;, &#x27;Not_Purchasing_Judge_quality&#x27;, &#x27;Not_Purchasing_Never_tried&#x27;, &#x27;Not_Purchasing_No_credit&#x27;, &#x27;Not_Purchasing_Not_applicable&#x27;, &#x27;Not_Purchasing_Not_option&#x27;, &#x27;Not_Purchasing_Other&#x27;, &#x27;Not_Purchasing_Prefer_people&#x27;, &#x27;Not_Purchasing_Privacy&#x27;, &#x27;Not_Purchasing_Receipt&#x27;, &#x27;Not_Purchasing_Security&#x27;, &#x27;Not_Purchasing_Too_complicated&#x27;, &#x27;Not_Purchasing_Uncomfortable&#x27;, &#x27;Not_Purchasing_Unfamiliar_vendor&#x27;, &#x27;Who_Pays_for_Access_Dont_Know&#x27;, &#x27;Who_Pays_for_Access_Other&#x27;, &#x27;Who_Pays_for_Access_Parents&#x27;, &#x27;Who_Pays_for_Access_School&#x27;, &#x27;Who_Pays_for_Access_Self&#x27;]</pre></div></div></div><div class=\"sk-serial\"><div class=\"sk-item\"><div class=\"sk-serial\"><div class=\"sk-item\"><div class=\"sk-estimator sk-toggleable\"><input class=\"sk-toggleable__control sk-hidden--visually\" id=\"sk-estimator-id-50\" type=\"checkbox\" ><label for=\"sk-estimator-id-50\" class=\"sk-toggleable__label sk-toggleable__label-arrow\">SimpleImputer</label><div class=\"sk-toggleable__content\"><pre>SimpleImputer(strategy=&#x27;median&#x27;)</pre></div></div></div></div></div></div></div></div><div class=\"sk-parallel-item\"><div class=\"sk-item\"><div class=\"sk-label-container\"><div class=\"sk-label sk-toggleable\"><input class=\"sk-toggleable__control sk-hidden--visually\" id=\"sk-estimator-id-51\" type=\"checkbox\" ><label for=\"sk-estimator-id-51\" class=\"sk-toggleable__label sk-toggleable__label-arrow\">count_encoder</label><div class=\"sk-toggleable__content\"><pre>[&#x27;Actual_Time&#x27;, &#x27;Country&#x27;, &#x27;Major_Geographical_Location&#x27;, &#x27;Primary_Computing_Platform&#x27;, &#x27;Primary_Language&#x27;]</pre></div></div></div><div class=\"sk-serial\"><div class=\"sk-item\"><div class=\"sk-serial\"><div class=\"sk-item\"><div class=\"sk-estimator sk-toggleable\"><input class=\"sk-toggleable__control sk-hidden--visually\" id=\"sk-estimator-id-52\" type=\"checkbox\" ><label for=\"sk-estimator-id-52\" class=\"sk-toggleable__label sk-toggleable__label-arrow\">SimpleImputer</label><div class=\"sk-toggleable__content\"><pre>SimpleImputer(strategy=&#x27;most_frequent&#x27;)</pre></div></div></div><div class=\"sk-item\"><div class=\"sk-estimator sk-toggleable\"><input class=\"sk-toggleable__control sk-hidden--visually\" id=\"sk-estimator-id-53\" type=\"checkbox\" ><label for=\"sk-estimator-id-53\" class=\"sk-toggleable__label sk-toggleable__label-arrow\">CountEncoder</label><div class=\"sk-toggleable__content\"><pre>CountEncoder(combine_min_nan_groups=True)</pre></div></div></div></div></div></div></div></div><div class=\"sk-parallel-item\"><div class=\"sk-item\"><div class=\"sk-label-container\"><div class=\"sk-label sk-toggleable\"><input class=\"sk-toggleable__control sk-hidden--visually\" id=\"sk-estimator-id-54\" type=\"checkbox\" ><label for=\"sk-estimator-id-54\" class=\"sk-toggleable__label sk-toggleable__label-arrow\">one_hot_encoding</label><div class=\"sk-toggleable__content\"><pre>[&#x27;Community_Building&#x27;, &#x27;Education_Attainment&#x27;, &#x27;Falsification_of_Information&#x27;, &#x27;Household_Income&#x27;, &#x27;Major_Occupation&#x27;, &#x27;Marital_Status&#x27;, &#x27;Most_Import_Issue_Facing_the_Internet&#x27;, &#x27;Opinions_on_Censorship&#x27;, &#x27;Primary_Place_of_WWW_Access&#x27;, &#x27;Race&#x27;, &#x27;Registered_to_Vote&#x27;, &#x27;Sexual_Preference&#x27;, &#x27;Web_Ordering&#x27;, &#x27;Web_Page_Creation&#x27;]</pre></div></div></div><div class=\"sk-serial\"><div class=\"sk-item\"><div class=\"sk-serial\"><div class=\"sk-item\"><div class=\"sk-estimator sk-toggleable\"><input class=\"sk-toggleable__control sk-hidden--visually\" id=\"sk-estimator-id-55\" type=\"checkbox\" ><label for=\"sk-estimator-id-55\" class=\"sk-toggleable__label sk-toggleable__label-arrow\">SimpleImputer</label><div class=\"sk-toggleable__content\"><pre>SimpleImputer(strategy=&#x27;most_frequent&#x27;)</pre></div></div></div><div class=\"sk-item\"><div class=\"sk-estimator sk-toggleable\"><input class=\"sk-toggleable__control sk-hidden--visually\" id=\"sk-estimator-id-56\" type=\"checkbox\" ><label for=\"sk-estimator-id-56\" class=\"sk-toggleable__label sk-toggleable__label-arrow\">OneHotEncoder</label><div class=\"sk-toggleable__content\"><pre>OneHotEncoder(drop=&#x27;first&#x27;, handle_unknown=&#x27;ignore&#x27;)</pre></div></div></div></div></div></div></div></div></div></div><div class=\"sk-item\"><div class=\"sk-estimator sk-toggleable\"><input class=\"sk-toggleable__control sk-hidden--visually\" id=\"sk-estimator-id-57\" type=\"checkbox\" ><label for=\"sk-estimator-id-57\" class=\"sk-toggleable__label sk-toggleable__label-arrow\">HistGradientBoostingClassifier</label><div class=\"sk-toggleable__content\"><pre>HistGradientBoostingClassifier(class_weight=&#x27;balanced&#x27;, early_stopping=True,\n",
       "                               max_iter=1000, n_iter_no_change=5,\n",
       "                               random_state=1234, scoring=&#x27;balanced_accuracy&#x27;)</pre></div></div></div></div></div></div></div></div></div></div></div></div>"
      ],
      "text/plain": [
       "RandomizedSearchCV(cv=StratifiedKFold(n_splits=3, random_state=1234, shuffle=True),\n",
       "                   estimator=Pipeline(steps=[('preprocessing',\n",
       "                                              ColumnTransformer(sparse_threshold=0,\n",
       "                                                                transformers=[('num',\n",
       "                                                                               Pipeline(steps=[('imputer',\n",
       "                                                                                                SimpleImputer(strategy='median'))]),\n",
       "                                                                               ['Community_Membership_Family',\n",
       "                                                                                'Community_Membership_Hobbies',\n",
       "                                                                                'Community_Membership_None',\n",
       "                                                                                'Community_Memb...\n",
       "                                                                             random_state=1234,\n",
       "                                                                             scoring='balanced_accuracy'))]),\n",
       "                   n_iter=200, n_jobs=-1,\n",
       "                   param_distributions={'model__learning_rate': <scipy.stats._distn_infrastructure.rv_continuous_frozen object at 0x000002AE7921E470>,\n",
       "                                        'model__min_samples_leaf': <scipy.stats._distn_infrastructure.rv_discrete_frozen object at 0x000002AE7A91A710>},\n",
       "                   random_state=1234, scoring='balanced_accuracy')"
      ]
     },
     "execution_count": 58,
     "metadata": {},
     "output_type": "execute_result"
    }
   ],
   "source": [
    "# Display pipeline\n",
    "print(\"Time taken: \", count_hgb_tune9_time_taken)\n",
    "count_hgb_tune9"
   ]
  },
  {
   "cell_type": "code",
   "execution_count": 59,
   "id": "ef4cf8a9",
   "metadata": {},
   "outputs": [
    {
     "name": "stdout",
     "output_type": "stream",
     "text": [
      "Best parameters: {'model__learning_rate': 0.16756338721861988, 'model__min_samples_leaf': 9}\n",
      "Balanced accuracy with best parameters: 0.8730386416861826\n"
     ]
    }
   ],
   "source": [
    "# Predict using the model with the best parameters\n",
    "y_count_hgb_tune_pred = count_hgb_tune.predict(X_test)\n",
    "\n",
    "# Get the best parameters\n",
    "count_hgb_tune_best_params = count_hgb_tune.best_params_\n",
    "print(f'Best parameters: {count_hgb_tune_best_params}')\n",
    "\n",
    "# Calculate balanced accuracy for the model with the best parameters\n",
    "count_hgb_tune_accuracy = balanced_accuracy_score(y_test, y_count_hgb_tune_pred)\n",
    "print(f'Balanced accuracy with best parameters: {count_hgb_tune_accuracy}')\n",
    "\n",
    "# Save results\n",
    "default_summary.append(\"Tune\")\n",
    "card_9_summary.append(\"AllVariables\")\n",
    "encoder_summary.append(\"CountEncoding\")\n",
    "value_summary.append(count_hgb_tune_accuracy)\n",
    "time_summary.append(count_hgb_tune_time_taken)\n",
    "n_models_summary.append(count_hgb_tune.n_iter * count_hgb_tune.n_splits_)"
   ]
  },
  {
   "cell_type": "code",
   "execution_count": 60,
   "id": "163e71c4",
   "metadata": {},
   "outputs": [
    {
     "name": "stdout",
     "output_type": "stream",
     "text": [
      "Best parameters: {'model__learning_rate': 0.2669432371178712, 'model__min_samples_leaf': 7}\n",
      "Balanced accuracy with best parameters: 0.8733917593676815\n"
     ]
    }
   ],
   "source": [
    "# Predict using the model with the best parameters\n",
    "y_count_hgb_tune_pred9 = count_hgb_tune9.predict(X_test)\n",
    "\n",
    "# Get the best parameters\n",
    "count_hgb_tune_best_params9 = count_hgb_tune9.best_params_\n",
    "print(f'Best parameters: {count_hgb_tune_best_params9}')\n",
    "\n",
    "# Calculate balanced accuracy for the model with the best parameters\n",
    "count_hgb_tune_accuracy9 = balanced_accuracy_score(y_test, y_count_hgb_tune_pred9)\n",
    "print(f'Balanced accuracy with best parameters: {count_hgb_tune_accuracy9}')\n",
    "\n",
    "# Save results\n",
    "default_summary.append(\"Tune\")\n",
    "card_9_summary.append(\"OnlyVariablesWithCard>9\")\n",
    "encoder_summary.append(\"CountEncoding\")\n",
    "value_summary.append(count_hgb_tune_accuracy9)\n",
    "time_summary.append(count_hgb_tune9_time_taken)\n",
    "n_models_summary.append(count_hgb_tune9.n_iter * count_hgb_tune9.n_splits_)"
   ]
  },
  {
   "cell_type": "markdown",
   "id": "6dca814d",
   "metadata": {},
   "source": [
    " "
   ]
  },
  {
   "cell_type": "markdown",
   "id": "f3e2a21f",
   "metadata": {},
   "source": [
    "### Ordinal Encoding + HistGradientBoosting"
   ]
  },
  {
   "cell_type": "code",
   "execution_count": 61,
   "id": "578d442a",
   "metadata": {},
   "outputs": [],
   "source": [
    "from sklearn.preprocessing import OrdinalEncoder"
   ]
  },
  {
   "cell_type": "markdown",
   "id": "a82791dc",
   "metadata": {},
   "source": [
    "#### Preprocessing"
   ]
  },
  {
   "cell_type": "code",
   "execution_count": 62,
   "id": "10599c9c",
   "metadata": {},
   "outputs": [],
   "source": [
    "cat_pipeline_more9 = Pipeline([\n",
    "    (\"imputer\", SimpleImputer(strategy = \"most_frequent\")),\n",
    "    (\"encoder\", OrdinalEncoder(dtype = int,\n",
    "                               handle_unknown = 'use_encoded_value',\n",
    "                               unknown_value = 99999,\n",
    "                               encoded_missing_value = 99999))\n",
    "])\n",
    "\n",
    "cat_pipeline_less9 = Pipeline([\n",
    "    (\"imputer\", SimpleImputer(strategy = \"most_frequent\")),\n",
    "    (\"encoder\", OneHotEncoder(drop = \"first\", handle_unknown = \"ignore\"))\n",
    "])\n",
    "\n",
    "preprop_pipeline = ColumnTransformer(\n",
    "    transformers = [(\"num\", num_pipeline, num_cols),\n",
    "                    (\"ordinal_encoder\", cat_pipeline_more9, cat_cols)],\n",
    "    sparse_threshold=0\n",
    ")\n",
    "\n",
    "preprop_pipeline9 = ColumnTransformer(\n",
    "    transformers = [(\"num\", num_pipeline, num_cols),\n",
    "                    (\"ordinal_encoder\", cat_pipeline_more9, cat_cols_more9),\n",
    "                    (\"one_hot_encoding\", cat_pipeline_less9, cat_cols_less9)],\n",
    "    sparse_threshold=0\n",
    ")"
   ]
  },
  {
   "cell_type": "markdown",
   "id": "68e444f8",
   "metadata": {},
   "source": [
    "#### Create a HistGradientBoostingClassifier model with default parameters and early stopping"
   ]
  },
  {
   "cell_type": "code",
   "execution_count": 63,
   "id": "7f301c7f",
   "metadata": {},
   "outputs": [],
   "source": [
    "ordinal_hgb_default_pipeline = Pipeline([('preprocessing', preprop_pipeline),\n",
    "                                       ('model', hgb_default)])\n",
    "\n",
    "ordinal_hgb_default_pipeline9 = Pipeline([('preprocessing', preprop_pipeline9),\n",
    "                                       ('model', hgb_default9)])"
   ]
  },
  {
   "cell_type": "code",
   "execution_count": 64,
   "id": "c9283dd5",
   "metadata": {},
   "outputs": [],
   "source": [
    "tic = time.time()\n",
    "\n",
    "ordinal_hgb_default = ordinal_hgb_default_pipeline.fit(X_train, y_train)\n",
    "\n",
    "toc = time.time()\n",
    "ordinal_hgb_default_time_taken = toc-tic"
   ]
  },
  {
   "cell_type": "code",
   "execution_count": 65,
   "metadata": {},
   "outputs": [
    {
     "name": "stdout",
     "output_type": "stream",
     "text": [
      "Time taken:  0.6909303665161133\n"
     ]
    },
    {
     "data": {
      "text/html": [
       "<style>#sk-container-id-7 {color: black;}#sk-container-id-7 pre{padding: 0;}#sk-container-id-7 div.sk-toggleable {background-color: white;}#sk-container-id-7 label.sk-toggleable__label {cursor: pointer;display: block;width: 100%;margin-bottom: 0;padding: 0.3em;box-sizing: border-box;text-align: center;}#sk-container-id-7 label.sk-toggleable__label-arrow:before {content: \"▸\";float: left;margin-right: 0.25em;color: #696969;}#sk-container-id-7 label.sk-toggleable__label-arrow:hover:before {color: black;}#sk-container-id-7 div.sk-estimator:hover label.sk-toggleable__label-arrow:before {color: black;}#sk-container-id-7 div.sk-toggleable__content {max-height: 0;max-width: 0;overflow: hidden;text-align: left;background-color: #f0f8ff;}#sk-container-id-7 div.sk-toggleable__content pre {margin: 0.2em;color: black;border-radius: 0.25em;background-color: #f0f8ff;}#sk-container-id-7 input.sk-toggleable__control:checked~div.sk-toggleable__content {max-height: 200px;max-width: 100%;overflow: auto;}#sk-container-id-7 input.sk-toggleable__control:checked~label.sk-toggleable__label-arrow:before {content: \"▾\";}#sk-container-id-7 div.sk-estimator input.sk-toggleable__control:checked~label.sk-toggleable__label {background-color: #d4ebff;}#sk-container-id-7 div.sk-label input.sk-toggleable__control:checked~label.sk-toggleable__label {background-color: #d4ebff;}#sk-container-id-7 input.sk-hidden--visually {border: 0;clip: rect(1px 1px 1px 1px);clip: rect(1px, 1px, 1px, 1px);height: 1px;margin: -1px;overflow: hidden;padding: 0;position: absolute;width: 1px;}#sk-container-id-7 div.sk-estimator {font-family: monospace;background-color: #f0f8ff;border: 1px dotted black;border-radius: 0.25em;box-sizing: border-box;margin-bottom: 0.5em;}#sk-container-id-7 div.sk-estimator:hover {background-color: #d4ebff;}#sk-container-id-7 div.sk-parallel-item::after {content: \"\";width: 100%;border-bottom: 1px solid gray;flex-grow: 1;}#sk-container-id-7 div.sk-label:hover label.sk-toggleable__label {background-color: #d4ebff;}#sk-container-id-7 div.sk-serial::before {content: \"\";position: absolute;border-left: 1px solid gray;box-sizing: border-box;top: 0;bottom: 0;left: 50%;z-index: 0;}#sk-container-id-7 div.sk-serial {display: flex;flex-direction: column;align-items: center;background-color: white;padding-right: 0.2em;padding-left: 0.2em;position: relative;}#sk-container-id-7 div.sk-item {position: relative;z-index: 1;}#sk-container-id-7 div.sk-parallel {display: flex;align-items: stretch;justify-content: center;background-color: white;position: relative;}#sk-container-id-7 div.sk-item::before, #sk-container-id-7 div.sk-parallel-item::before {content: \"\";position: absolute;border-left: 1px solid gray;box-sizing: border-box;top: 0;bottom: 0;left: 50%;z-index: -1;}#sk-container-id-7 div.sk-parallel-item {display: flex;flex-direction: column;z-index: 1;position: relative;background-color: white;}#sk-container-id-7 div.sk-parallel-item:first-child::after {align-self: flex-end;width: 50%;}#sk-container-id-7 div.sk-parallel-item:last-child::after {align-self: flex-start;width: 50%;}#sk-container-id-7 div.sk-parallel-item:only-child::after {width: 0;}#sk-container-id-7 div.sk-dashed-wrapped {border: 1px dashed gray;margin: 0 0.4em 0.5em 0.4em;box-sizing: border-box;padding-bottom: 0.4em;background-color: white;}#sk-container-id-7 div.sk-label label {font-family: monospace;font-weight: bold;display: inline-block;line-height: 1.2em;}#sk-container-id-7 div.sk-label-container {text-align: center;}#sk-container-id-7 div.sk-container {/* jupyter's `normalize.less` sets `[hidden] { display: none; }` but bootstrap.min.css set `[hidden] { display: none !important; }` so we also need the `!important` here to be able to override the default hidden behavior on the sphinx rendered scikit-learn.org. See: https://github.com/scikit-learn/scikit-learn/issues/21755 */display: inline-block !important;position: relative;}#sk-container-id-7 div.sk-text-repr-fallback {display: none;}</style><div id=\"sk-container-id-7\" class=\"sk-top-container\"><div class=\"sk-text-repr-fallback\"><pre>Pipeline(steps=[(&#x27;preprocessing&#x27;,\n",
       "                 ColumnTransformer(sparse_threshold=0,\n",
       "                                   transformers=[(&#x27;num&#x27;,\n",
       "                                                  Pipeline(steps=[(&#x27;imputer&#x27;,\n",
       "                                                                   SimpleImputer(strategy=&#x27;median&#x27;))]),\n",
       "                                                  [&#x27;Community_Membership_Family&#x27;,\n",
       "                                                   &#x27;Community_Membership_Hobbies&#x27;,\n",
       "                                                   &#x27;Community_Membership_None&#x27;,\n",
       "                                                   &#x27;Community_Membership_Other&#x27;,\n",
       "                                                   &#x27;Community_Membership_Political&#x27;,\n",
       "                                                   &#x27;Community_Membership_Professional&#x27;,\n",
       "                                                   &#x27;Communi...\n",
       "                                                   &#x27;Most_Import_Issue_Facing_the_Internet&#x27;,\n",
       "                                                   &#x27;Opinions_on_Censorship&#x27;,\n",
       "                                                   &#x27;Primary_Computing_Platform&#x27;,\n",
       "                                                   &#x27;Primary_Language&#x27;,\n",
       "                                                   &#x27;Primary_Place_of_WWW_Access&#x27;,\n",
       "                                                   &#x27;Race&#x27;, &#x27;Registered_to_Vote&#x27;,\n",
       "                                                   &#x27;Sexual_Preference&#x27;,\n",
       "                                                   &#x27;Web_Ordering&#x27;,\n",
       "                                                   &#x27;Web_Page_Creation&#x27;])])),\n",
       "                (&#x27;model&#x27;,\n",
       "                 HistGradientBoostingClassifier(class_weight=&#x27;balanced&#x27;,\n",
       "                                                early_stopping=True,\n",
       "                                                n_iter_no_change=5,\n",
       "                                                random_state=1234,\n",
       "                                                scoring=&#x27;balanced_accuracy&#x27;))])</pre><b>In a Jupyter environment, please rerun this cell to show the HTML representation or trust the notebook. <br />On GitHub, the HTML representation is unable to render, please try loading this page with nbviewer.org.</b></div><div class=\"sk-container\" hidden><div class=\"sk-item sk-dashed-wrapped\"><div class=\"sk-label-container\"><div class=\"sk-label sk-toggleable\"><input class=\"sk-toggleable__control sk-hidden--visually\" id=\"sk-estimator-id-58\" type=\"checkbox\" ><label for=\"sk-estimator-id-58\" class=\"sk-toggleable__label sk-toggleable__label-arrow\">Pipeline</label><div class=\"sk-toggleable__content\"><pre>Pipeline(steps=[(&#x27;preprocessing&#x27;,\n",
       "                 ColumnTransformer(sparse_threshold=0,\n",
       "                                   transformers=[(&#x27;num&#x27;,\n",
       "                                                  Pipeline(steps=[(&#x27;imputer&#x27;,\n",
       "                                                                   SimpleImputer(strategy=&#x27;median&#x27;))]),\n",
       "                                                  [&#x27;Community_Membership_Family&#x27;,\n",
       "                                                   &#x27;Community_Membership_Hobbies&#x27;,\n",
       "                                                   &#x27;Community_Membership_None&#x27;,\n",
       "                                                   &#x27;Community_Membership_Other&#x27;,\n",
       "                                                   &#x27;Community_Membership_Political&#x27;,\n",
       "                                                   &#x27;Community_Membership_Professional&#x27;,\n",
       "                                                   &#x27;Communi...\n",
       "                                                   &#x27;Most_Import_Issue_Facing_the_Internet&#x27;,\n",
       "                                                   &#x27;Opinions_on_Censorship&#x27;,\n",
       "                                                   &#x27;Primary_Computing_Platform&#x27;,\n",
       "                                                   &#x27;Primary_Language&#x27;,\n",
       "                                                   &#x27;Primary_Place_of_WWW_Access&#x27;,\n",
       "                                                   &#x27;Race&#x27;, &#x27;Registered_to_Vote&#x27;,\n",
       "                                                   &#x27;Sexual_Preference&#x27;,\n",
       "                                                   &#x27;Web_Ordering&#x27;,\n",
       "                                                   &#x27;Web_Page_Creation&#x27;])])),\n",
       "                (&#x27;model&#x27;,\n",
       "                 HistGradientBoostingClassifier(class_weight=&#x27;balanced&#x27;,\n",
       "                                                early_stopping=True,\n",
       "                                                n_iter_no_change=5,\n",
       "                                                random_state=1234,\n",
       "                                                scoring=&#x27;balanced_accuracy&#x27;))])</pre></div></div></div><div class=\"sk-serial\"><div class=\"sk-item sk-dashed-wrapped\"><div class=\"sk-label-container\"><div class=\"sk-label sk-toggleable\"><input class=\"sk-toggleable__control sk-hidden--visually\" id=\"sk-estimator-id-59\" type=\"checkbox\" ><label for=\"sk-estimator-id-59\" class=\"sk-toggleable__label sk-toggleable__label-arrow\">preprocessing: ColumnTransformer</label><div class=\"sk-toggleable__content\"><pre>ColumnTransformer(sparse_threshold=0,\n",
       "                  transformers=[(&#x27;num&#x27;,\n",
       "                                 Pipeline(steps=[(&#x27;imputer&#x27;,\n",
       "                                                  SimpleImputer(strategy=&#x27;median&#x27;))]),\n",
       "                                 [&#x27;Community_Membership_Family&#x27;,\n",
       "                                  &#x27;Community_Membership_Hobbies&#x27;,\n",
       "                                  &#x27;Community_Membership_None&#x27;,\n",
       "                                  &#x27;Community_Membership_Other&#x27;,\n",
       "                                  &#x27;Community_Membership_Political&#x27;,\n",
       "                                  &#x27;Community_Membership_Professional&#x27;,\n",
       "                                  &#x27;Community_Membership_Religious&#x27;,\n",
       "                                  &#x27;Communi...\n",
       "                                  &#x27;Country&#x27;, &#x27;Education_Attainment&#x27;,\n",
       "                                  &#x27;Falsification_of_Information&#x27;,\n",
       "                                  &#x27;Household_Income&#x27;,\n",
       "                                  &#x27;Major_Geographical_Location&#x27;,\n",
       "                                  &#x27;Major_Occupation&#x27;, &#x27;Marital_Status&#x27;,\n",
       "                                  &#x27;Most_Import_Issue_Facing_the_Internet&#x27;,\n",
       "                                  &#x27;Opinions_on_Censorship&#x27;,\n",
       "                                  &#x27;Primary_Computing_Platform&#x27;,\n",
       "                                  &#x27;Primary_Language&#x27;,\n",
       "                                  &#x27;Primary_Place_of_WWW_Access&#x27;, &#x27;Race&#x27;,\n",
       "                                  &#x27;Registered_to_Vote&#x27;, &#x27;Sexual_Preference&#x27;,\n",
       "                                  &#x27;Web_Ordering&#x27;, &#x27;Web_Page_Creation&#x27;])])</pre></div></div></div><div class=\"sk-parallel\"><div class=\"sk-parallel-item\"><div class=\"sk-item\"><div class=\"sk-label-container\"><div class=\"sk-label sk-toggleable\"><input class=\"sk-toggleable__control sk-hidden--visually\" id=\"sk-estimator-id-60\" type=\"checkbox\" ><label for=\"sk-estimator-id-60\" class=\"sk-toggleable__label sk-toggleable__label-arrow\">num</label><div class=\"sk-toggleable__content\"><pre>[&#x27;Community_Membership_Family&#x27;, &#x27;Community_Membership_Hobbies&#x27;, &#x27;Community_Membership_None&#x27;, &#x27;Community_Membership_Other&#x27;, &#x27;Community_Membership_Political&#x27;, &#x27;Community_Membership_Professional&#x27;, &#x27;Community_Membership_Religious&#x27;, &#x27;Community_Membership_Support&#x27;, &#x27;Disability_Cognitive&#x27;, &#x27;Disability_Hearing&#x27;, &#x27;Disability_Motor&#x27;, &#x27;Disability_Not_Impaired&#x27;, &#x27;Disability_Not_Say&#x27;, &#x27;Disability_Vision&#x27;, &#x27;Gender&#x27;, &#x27;How_You_Heard_About_Survey_Banner&#x27;, &#x27;How_You_Heard_About_Survey_Friend&#x27;, &#x27;How_You_Heard_About_Survey_Mailing_List&#x27;, &#x27;How_You_Heard_About_Survey_Others&#x27;, &#x27;How_You_Heard_About_Survey_Printed_Media&#x27;, &#x27;How_You_Heard_About_Survey_Remebered&#x27;, &#x27;How_You_Heard_About_Survey_Search_Engine&#x27;, &#x27;How_You_Heard_About_Survey_Usenet_News&#x27;, &#x27;How_You_Heard_About_Survey_WWW_Page&#x27;, &#x27;Not_Purchasing_Bad_experience&#x27;, &#x27;Not_Purchasing_Bad_press&#x27;, &#x27;Not_Purchasing_Cant_find&#x27;, &#x27;Not_Purchasing_Company_policy&#x27;, &#x27;Not_Purchasing_Easier_locally&#x27;, &#x27;Not_Purchasing_Enough_info&#x27;, &#x27;Not_Purchasing_Judge_quality&#x27;, &#x27;Not_Purchasing_Never_tried&#x27;, &#x27;Not_Purchasing_No_credit&#x27;, &#x27;Not_Purchasing_Not_applicable&#x27;, &#x27;Not_Purchasing_Not_option&#x27;, &#x27;Not_Purchasing_Other&#x27;, &#x27;Not_Purchasing_Prefer_people&#x27;, &#x27;Not_Purchasing_Privacy&#x27;, &#x27;Not_Purchasing_Receipt&#x27;, &#x27;Not_Purchasing_Security&#x27;, &#x27;Not_Purchasing_Too_complicated&#x27;, &#x27;Not_Purchasing_Uncomfortable&#x27;, &#x27;Not_Purchasing_Unfamiliar_vendor&#x27;, &#x27;Who_Pays_for_Access_Dont_Know&#x27;, &#x27;Who_Pays_for_Access_Other&#x27;, &#x27;Who_Pays_for_Access_Parents&#x27;, &#x27;Who_Pays_for_Access_School&#x27;, &#x27;Who_Pays_for_Access_Self&#x27;]</pre></div></div></div><div class=\"sk-serial\"><div class=\"sk-item\"><div class=\"sk-serial\"><div class=\"sk-item\"><div class=\"sk-estimator sk-toggleable\"><input class=\"sk-toggleable__control sk-hidden--visually\" id=\"sk-estimator-id-61\" type=\"checkbox\" ><label for=\"sk-estimator-id-61\" class=\"sk-toggleable__label sk-toggleable__label-arrow\">SimpleImputer</label><div class=\"sk-toggleable__content\"><pre>SimpleImputer(strategy=&#x27;median&#x27;)</pre></div></div></div></div></div></div></div></div><div class=\"sk-parallel-item\"><div class=\"sk-item\"><div class=\"sk-label-container\"><div class=\"sk-label sk-toggleable\"><input class=\"sk-toggleable__control sk-hidden--visually\" id=\"sk-estimator-id-62\" type=\"checkbox\" ><label for=\"sk-estimator-id-62\" class=\"sk-toggleable__label sk-toggleable__label-arrow\">ordinal_encoder</label><div class=\"sk-toggleable__content\"><pre>[&#x27;Actual_Time&#x27;, &#x27;Community_Building&#x27;, &#x27;Country&#x27;, &#x27;Education_Attainment&#x27;, &#x27;Falsification_of_Information&#x27;, &#x27;Household_Income&#x27;, &#x27;Major_Geographical_Location&#x27;, &#x27;Major_Occupation&#x27;, &#x27;Marital_Status&#x27;, &#x27;Most_Import_Issue_Facing_the_Internet&#x27;, &#x27;Opinions_on_Censorship&#x27;, &#x27;Primary_Computing_Platform&#x27;, &#x27;Primary_Language&#x27;, &#x27;Primary_Place_of_WWW_Access&#x27;, &#x27;Race&#x27;, &#x27;Registered_to_Vote&#x27;, &#x27;Sexual_Preference&#x27;, &#x27;Web_Ordering&#x27;, &#x27;Web_Page_Creation&#x27;]</pre></div></div></div><div class=\"sk-serial\"><div class=\"sk-item\"><div class=\"sk-serial\"><div class=\"sk-item\"><div class=\"sk-estimator sk-toggleable\"><input class=\"sk-toggleable__control sk-hidden--visually\" id=\"sk-estimator-id-63\" type=\"checkbox\" ><label for=\"sk-estimator-id-63\" class=\"sk-toggleable__label sk-toggleable__label-arrow\">SimpleImputer</label><div class=\"sk-toggleable__content\"><pre>SimpleImputer(strategy=&#x27;most_frequent&#x27;)</pre></div></div></div><div class=\"sk-item\"><div class=\"sk-estimator sk-toggleable\"><input class=\"sk-toggleable__control sk-hidden--visually\" id=\"sk-estimator-id-64\" type=\"checkbox\" ><label for=\"sk-estimator-id-64\" class=\"sk-toggleable__label sk-toggleable__label-arrow\">OrdinalEncoder</label><div class=\"sk-toggleable__content\"><pre>OrdinalEncoder(dtype=&lt;class &#x27;int&#x27;&gt;, encoded_missing_value=99999,\n",
       "               handle_unknown=&#x27;use_encoded_value&#x27;, unknown_value=99999)</pre></div></div></div></div></div></div></div></div></div></div><div class=\"sk-item\"><div class=\"sk-estimator sk-toggleable\"><input class=\"sk-toggleable__control sk-hidden--visually\" id=\"sk-estimator-id-65\" type=\"checkbox\" ><label for=\"sk-estimator-id-65\" class=\"sk-toggleable__label sk-toggleable__label-arrow\">HistGradientBoostingClassifier</label><div class=\"sk-toggleable__content\"><pre>HistGradientBoostingClassifier(class_weight=&#x27;balanced&#x27;, early_stopping=True,\n",
       "                               n_iter_no_change=5, random_state=1234,\n",
       "                               scoring=&#x27;balanced_accuracy&#x27;)</pre></div></div></div></div></div></div></div>"
      ],
      "text/plain": [
       "Pipeline(steps=[('preprocessing',\n",
       "                 ColumnTransformer(sparse_threshold=0,\n",
       "                                   transformers=[('num',\n",
       "                                                  Pipeline(steps=[('imputer',\n",
       "                                                                   SimpleImputer(strategy='median'))]),\n",
       "                                                  ['Community_Membership_Family',\n",
       "                                                   'Community_Membership_Hobbies',\n",
       "                                                   'Community_Membership_None',\n",
       "                                                   'Community_Membership_Other',\n",
       "                                                   'Community_Membership_Political',\n",
       "                                                   'Community_Membership_Professional',\n",
       "                                                   'Communi...\n",
       "                                                   'Most_Import_Issue_Facing_the_Internet',\n",
       "                                                   'Opinions_on_Censorship',\n",
       "                                                   'Primary_Computing_Platform',\n",
       "                                                   'Primary_Language',\n",
       "                                                   'Primary_Place_of_WWW_Access',\n",
       "                                                   'Race', 'Registered_to_Vote',\n",
       "                                                   'Sexual_Preference',\n",
       "                                                   'Web_Ordering',\n",
       "                                                   'Web_Page_Creation'])])),\n",
       "                ('model',\n",
       "                 HistGradientBoostingClassifier(class_weight='balanced',\n",
       "                                                early_stopping=True,\n",
       "                                                n_iter_no_change=5,\n",
       "                                                random_state=1234,\n",
       "                                                scoring='balanced_accuracy'))])"
      ]
     },
     "execution_count": 65,
     "metadata": {},
     "output_type": "execute_result"
    }
   ],
   "source": [
    "# Display pipeline\n",
    "print(\"Time taken: \", ordinal_hgb_default_time_taken)\n",
    "ordinal_hgb_default"
   ]
  },
  {
   "cell_type": "code",
   "execution_count": 66,
   "id": "0e71def8",
   "metadata": {},
   "outputs": [],
   "source": [
    "tic = time.time()\n",
    "\n",
    "ordinal_hgb_default9 = ordinal_hgb_default_pipeline9.fit(X_train, y_train)\n",
    "\n",
    "toc = time.time()\n",
    "ordinal_hgb_default9_time_taken = toc-tic"
   ]
  },
  {
   "cell_type": "code",
   "execution_count": 67,
   "metadata": {},
   "outputs": [
    {
     "name": "stdout",
     "output_type": "stream",
     "text": [
      "Time taken:  2.219041585922241\n"
     ]
    },
    {
     "data": {
      "text/html": [
       "<style>#sk-container-id-8 {color: black;}#sk-container-id-8 pre{padding: 0;}#sk-container-id-8 div.sk-toggleable {background-color: white;}#sk-container-id-8 label.sk-toggleable__label {cursor: pointer;display: block;width: 100%;margin-bottom: 0;padding: 0.3em;box-sizing: border-box;text-align: center;}#sk-container-id-8 label.sk-toggleable__label-arrow:before {content: \"▸\";float: left;margin-right: 0.25em;color: #696969;}#sk-container-id-8 label.sk-toggleable__label-arrow:hover:before {color: black;}#sk-container-id-8 div.sk-estimator:hover label.sk-toggleable__label-arrow:before {color: black;}#sk-container-id-8 div.sk-toggleable__content {max-height: 0;max-width: 0;overflow: hidden;text-align: left;background-color: #f0f8ff;}#sk-container-id-8 div.sk-toggleable__content pre {margin: 0.2em;color: black;border-radius: 0.25em;background-color: #f0f8ff;}#sk-container-id-8 input.sk-toggleable__control:checked~div.sk-toggleable__content {max-height: 200px;max-width: 100%;overflow: auto;}#sk-container-id-8 input.sk-toggleable__control:checked~label.sk-toggleable__label-arrow:before {content: \"▾\";}#sk-container-id-8 div.sk-estimator input.sk-toggleable__control:checked~label.sk-toggleable__label {background-color: #d4ebff;}#sk-container-id-8 div.sk-label input.sk-toggleable__control:checked~label.sk-toggleable__label {background-color: #d4ebff;}#sk-container-id-8 input.sk-hidden--visually {border: 0;clip: rect(1px 1px 1px 1px);clip: rect(1px, 1px, 1px, 1px);height: 1px;margin: -1px;overflow: hidden;padding: 0;position: absolute;width: 1px;}#sk-container-id-8 div.sk-estimator {font-family: monospace;background-color: #f0f8ff;border: 1px dotted black;border-radius: 0.25em;box-sizing: border-box;margin-bottom: 0.5em;}#sk-container-id-8 div.sk-estimator:hover {background-color: #d4ebff;}#sk-container-id-8 div.sk-parallel-item::after {content: \"\";width: 100%;border-bottom: 1px solid gray;flex-grow: 1;}#sk-container-id-8 div.sk-label:hover label.sk-toggleable__label {background-color: #d4ebff;}#sk-container-id-8 div.sk-serial::before {content: \"\";position: absolute;border-left: 1px solid gray;box-sizing: border-box;top: 0;bottom: 0;left: 50%;z-index: 0;}#sk-container-id-8 div.sk-serial {display: flex;flex-direction: column;align-items: center;background-color: white;padding-right: 0.2em;padding-left: 0.2em;position: relative;}#sk-container-id-8 div.sk-item {position: relative;z-index: 1;}#sk-container-id-8 div.sk-parallel {display: flex;align-items: stretch;justify-content: center;background-color: white;position: relative;}#sk-container-id-8 div.sk-item::before, #sk-container-id-8 div.sk-parallel-item::before {content: \"\";position: absolute;border-left: 1px solid gray;box-sizing: border-box;top: 0;bottom: 0;left: 50%;z-index: -1;}#sk-container-id-8 div.sk-parallel-item {display: flex;flex-direction: column;z-index: 1;position: relative;background-color: white;}#sk-container-id-8 div.sk-parallel-item:first-child::after {align-self: flex-end;width: 50%;}#sk-container-id-8 div.sk-parallel-item:last-child::after {align-self: flex-start;width: 50%;}#sk-container-id-8 div.sk-parallel-item:only-child::after {width: 0;}#sk-container-id-8 div.sk-dashed-wrapped {border: 1px dashed gray;margin: 0 0.4em 0.5em 0.4em;box-sizing: border-box;padding-bottom: 0.4em;background-color: white;}#sk-container-id-8 div.sk-label label {font-family: monospace;font-weight: bold;display: inline-block;line-height: 1.2em;}#sk-container-id-8 div.sk-label-container {text-align: center;}#sk-container-id-8 div.sk-container {/* jupyter's `normalize.less` sets `[hidden] { display: none; }` but bootstrap.min.css set `[hidden] { display: none !important; }` so we also need the `!important` here to be able to override the default hidden behavior on the sphinx rendered scikit-learn.org. See: https://github.com/scikit-learn/scikit-learn/issues/21755 */display: inline-block !important;position: relative;}#sk-container-id-8 div.sk-text-repr-fallback {display: none;}</style><div id=\"sk-container-id-8\" class=\"sk-top-container\"><div class=\"sk-text-repr-fallback\"><pre>Pipeline(steps=[(&#x27;preprocessing&#x27;,\n",
       "                 ColumnTransformer(sparse_threshold=0,\n",
       "                                   transformers=[(&#x27;num&#x27;,\n",
       "                                                  Pipeline(steps=[(&#x27;imputer&#x27;,\n",
       "                                                                   SimpleImputer(strategy=&#x27;median&#x27;))]),\n",
       "                                                  [&#x27;Community_Membership_Family&#x27;,\n",
       "                                                   &#x27;Community_Membership_Hobbies&#x27;,\n",
       "                                                   &#x27;Community_Membership_None&#x27;,\n",
       "                                                   &#x27;Community_Membership_Other&#x27;,\n",
       "                                                   &#x27;Community_Membership_Political&#x27;,\n",
       "                                                   &#x27;Community_Membership_Professional&#x27;,\n",
       "                                                   &#x27;Communi...\n",
       "                                                   &#x27;Marital_Status&#x27;,\n",
       "                                                   &#x27;Most_Import_Issue_Facing_the_Internet&#x27;,\n",
       "                                                   &#x27;Opinions_on_Censorship&#x27;,\n",
       "                                                   &#x27;Primary_Place_of_WWW_Access&#x27;,\n",
       "                                                   &#x27;Race&#x27;, &#x27;Registered_to_Vote&#x27;,\n",
       "                                                   &#x27;Sexual_Preference&#x27;,\n",
       "                                                   &#x27;Web_Ordering&#x27;,\n",
       "                                                   &#x27;Web_Page_Creation&#x27;])])),\n",
       "                (&#x27;model&#x27;,\n",
       "                 HistGradientBoostingClassifier(class_weight=&#x27;balanced&#x27;,\n",
       "                                                early_stopping=True,\n",
       "                                                max_iter=1000,\n",
       "                                                n_iter_no_change=5,\n",
       "                                                random_state=1234,\n",
       "                                                scoring=&#x27;balanced_accuracy&#x27;))])</pre><b>In a Jupyter environment, please rerun this cell to show the HTML representation or trust the notebook. <br />On GitHub, the HTML representation is unable to render, please try loading this page with nbviewer.org.</b></div><div class=\"sk-container\" hidden><div class=\"sk-item sk-dashed-wrapped\"><div class=\"sk-label-container\"><div class=\"sk-label sk-toggleable\"><input class=\"sk-toggleable__control sk-hidden--visually\" id=\"sk-estimator-id-66\" type=\"checkbox\" ><label for=\"sk-estimator-id-66\" class=\"sk-toggleable__label sk-toggleable__label-arrow\">Pipeline</label><div class=\"sk-toggleable__content\"><pre>Pipeline(steps=[(&#x27;preprocessing&#x27;,\n",
       "                 ColumnTransformer(sparse_threshold=0,\n",
       "                                   transformers=[(&#x27;num&#x27;,\n",
       "                                                  Pipeline(steps=[(&#x27;imputer&#x27;,\n",
       "                                                                   SimpleImputer(strategy=&#x27;median&#x27;))]),\n",
       "                                                  [&#x27;Community_Membership_Family&#x27;,\n",
       "                                                   &#x27;Community_Membership_Hobbies&#x27;,\n",
       "                                                   &#x27;Community_Membership_None&#x27;,\n",
       "                                                   &#x27;Community_Membership_Other&#x27;,\n",
       "                                                   &#x27;Community_Membership_Political&#x27;,\n",
       "                                                   &#x27;Community_Membership_Professional&#x27;,\n",
       "                                                   &#x27;Communi...\n",
       "                                                   &#x27;Marital_Status&#x27;,\n",
       "                                                   &#x27;Most_Import_Issue_Facing_the_Internet&#x27;,\n",
       "                                                   &#x27;Opinions_on_Censorship&#x27;,\n",
       "                                                   &#x27;Primary_Place_of_WWW_Access&#x27;,\n",
       "                                                   &#x27;Race&#x27;, &#x27;Registered_to_Vote&#x27;,\n",
       "                                                   &#x27;Sexual_Preference&#x27;,\n",
       "                                                   &#x27;Web_Ordering&#x27;,\n",
       "                                                   &#x27;Web_Page_Creation&#x27;])])),\n",
       "                (&#x27;model&#x27;,\n",
       "                 HistGradientBoostingClassifier(class_weight=&#x27;balanced&#x27;,\n",
       "                                                early_stopping=True,\n",
       "                                                max_iter=1000,\n",
       "                                                n_iter_no_change=5,\n",
       "                                                random_state=1234,\n",
       "                                                scoring=&#x27;balanced_accuracy&#x27;))])</pre></div></div></div><div class=\"sk-serial\"><div class=\"sk-item sk-dashed-wrapped\"><div class=\"sk-label-container\"><div class=\"sk-label sk-toggleable\"><input class=\"sk-toggleable__control sk-hidden--visually\" id=\"sk-estimator-id-67\" type=\"checkbox\" ><label for=\"sk-estimator-id-67\" class=\"sk-toggleable__label sk-toggleable__label-arrow\">preprocessing: ColumnTransformer</label><div class=\"sk-toggleable__content\"><pre>ColumnTransformer(sparse_threshold=0,\n",
       "                  transformers=[(&#x27;num&#x27;,\n",
       "                                 Pipeline(steps=[(&#x27;imputer&#x27;,\n",
       "                                                  SimpleImputer(strategy=&#x27;median&#x27;))]),\n",
       "                                 [&#x27;Community_Membership_Family&#x27;,\n",
       "                                  &#x27;Community_Membership_Hobbies&#x27;,\n",
       "                                  &#x27;Community_Membership_None&#x27;,\n",
       "                                  &#x27;Community_Membership_Other&#x27;,\n",
       "                                  &#x27;Community_Membership_Political&#x27;,\n",
       "                                  &#x27;Community_Membership_Professional&#x27;,\n",
       "                                  &#x27;Community_Membership_Religious&#x27;,\n",
       "                                  &#x27;Communi...\n",
       "                                                  OneHotEncoder(drop=&#x27;first&#x27;,\n",
       "                                                                handle_unknown=&#x27;ignore&#x27;))]),\n",
       "                                 [&#x27;Community_Building&#x27;, &#x27;Education_Attainment&#x27;,\n",
       "                                  &#x27;Falsification_of_Information&#x27;,\n",
       "                                  &#x27;Household_Income&#x27;, &#x27;Major_Occupation&#x27;,\n",
       "                                  &#x27;Marital_Status&#x27;,\n",
       "                                  &#x27;Most_Import_Issue_Facing_the_Internet&#x27;,\n",
       "                                  &#x27;Opinions_on_Censorship&#x27;,\n",
       "                                  &#x27;Primary_Place_of_WWW_Access&#x27;, &#x27;Race&#x27;,\n",
       "                                  &#x27;Registered_to_Vote&#x27;, &#x27;Sexual_Preference&#x27;,\n",
       "                                  &#x27;Web_Ordering&#x27;, &#x27;Web_Page_Creation&#x27;])])</pre></div></div></div><div class=\"sk-parallel\"><div class=\"sk-parallel-item\"><div class=\"sk-item\"><div class=\"sk-label-container\"><div class=\"sk-label sk-toggleable\"><input class=\"sk-toggleable__control sk-hidden--visually\" id=\"sk-estimator-id-68\" type=\"checkbox\" ><label for=\"sk-estimator-id-68\" class=\"sk-toggleable__label sk-toggleable__label-arrow\">num</label><div class=\"sk-toggleable__content\"><pre>[&#x27;Community_Membership_Family&#x27;, &#x27;Community_Membership_Hobbies&#x27;, &#x27;Community_Membership_None&#x27;, &#x27;Community_Membership_Other&#x27;, &#x27;Community_Membership_Political&#x27;, &#x27;Community_Membership_Professional&#x27;, &#x27;Community_Membership_Religious&#x27;, &#x27;Community_Membership_Support&#x27;, &#x27;Disability_Cognitive&#x27;, &#x27;Disability_Hearing&#x27;, &#x27;Disability_Motor&#x27;, &#x27;Disability_Not_Impaired&#x27;, &#x27;Disability_Not_Say&#x27;, &#x27;Disability_Vision&#x27;, &#x27;Gender&#x27;, &#x27;How_You_Heard_About_Survey_Banner&#x27;, &#x27;How_You_Heard_About_Survey_Friend&#x27;, &#x27;How_You_Heard_About_Survey_Mailing_List&#x27;, &#x27;How_You_Heard_About_Survey_Others&#x27;, &#x27;How_You_Heard_About_Survey_Printed_Media&#x27;, &#x27;How_You_Heard_About_Survey_Remebered&#x27;, &#x27;How_You_Heard_About_Survey_Search_Engine&#x27;, &#x27;How_You_Heard_About_Survey_Usenet_News&#x27;, &#x27;How_You_Heard_About_Survey_WWW_Page&#x27;, &#x27;Not_Purchasing_Bad_experience&#x27;, &#x27;Not_Purchasing_Bad_press&#x27;, &#x27;Not_Purchasing_Cant_find&#x27;, &#x27;Not_Purchasing_Company_policy&#x27;, &#x27;Not_Purchasing_Easier_locally&#x27;, &#x27;Not_Purchasing_Enough_info&#x27;, &#x27;Not_Purchasing_Judge_quality&#x27;, &#x27;Not_Purchasing_Never_tried&#x27;, &#x27;Not_Purchasing_No_credit&#x27;, &#x27;Not_Purchasing_Not_applicable&#x27;, &#x27;Not_Purchasing_Not_option&#x27;, &#x27;Not_Purchasing_Other&#x27;, &#x27;Not_Purchasing_Prefer_people&#x27;, &#x27;Not_Purchasing_Privacy&#x27;, &#x27;Not_Purchasing_Receipt&#x27;, &#x27;Not_Purchasing_Security&#x27;, &#x27;Not_Purchasing_Too_complicated&#x27;, &#x27;Not_Purchasing_Uncomfortable&#x27;, &#x27;Not_Purchasing_Unfamiliar_vendor&#x27;, &#x27;Who_Pays_for_Access_Dont_Know&#x27;, &#x27;Who_Pays_for_Access_Other&#x27;, &#x27;Who_Pays_for_Access_Parents&#x27;, &#x27;Who_Pays_for_Access_School&#x27;, &#x27;Who_Pays_for_Access_Self&#x27;]</pre></div></div></div><div class=\"sk-serial\"><div class=\"sk-item\"><div class=\"sk-serial\"><div class=\"sk-item\"><div class=\"sk-estimator sk-toggleable\"><input class=\"sk-toggleable__control sk-hidden--visually\" id=\"sk-estimator-id-69\" type=\"checkbox\" ><label for=\"sk-estimator-id-69\" class=\"sk-toggleable__label sk-toggleable__label-arrow\">SimpleImputer</label><div class=\"sk-toggleable__content\"><pre>SimpleImputer(strategy=&#x27;median&#x27;)</pre></div></div></div></div></div></div></div></div><div class=\"sk-parallel-item\"><div class=\"sk-item\"><div class=\"sk-label-container\"><div class=\"sk-label sk-toggleable\"><input class=\"sk-toggleable__control sk-hidden--visually\" id=\"sk-estimator-id-70\" type=\"checkbox\" ><label for=\"sk-estimator-id-70\" class=\"sk-toggleable__label sk-toggleable__label-arrow\">ordinal_encoder</label><div class=\"sk-toggleable__content\"><pre>[&#x27;Actual_Time&#x27;, &#x27;Country&#x27;, &#x27;Major_Geographical_Location&#x27;, &#x27;Primary_Computing_Platform&#x27;, &#x27;Primary_Language&#x27;]</pre></div></div></div><div class=\"sk-serial\"><div class=\"sk-item\"><div class=\"sk-serial\"><div class=\"sk-item\"><div class=\"sk-estimator sk-toggleable\"><input class=\"sk-toggleable__control sk-hidden--visually\" id=\"sk-estimator-id-71\" type=\"checkbox\" ><label for=\"sk-estimator-id-71\" class=\"sk-toggleable__label sk-toggleable__label-arrow\">SimpleImputer</label><div class=\"sk-toggleable__content\"><pre>SimpleImputer(strategy=&#x27;most_frequent&#x27;)</pre></div></div></div><div class=\"sk-item\"><div class=\"sk-estimator sk-toggleable\"><input class=\"sk-toggleable__control sk-hidden--visually\" id=\"sk-estimator-id-72\" type=\"checkbox\" ><label for=\"sk-estimator-id-72\" class=\"sk-toggleable__label sk-toggleable__label-arrow\">OrdinalEncoder</label><div class=\"sk-toggleable__content\"><pre>OrdinalEncoder(dtype=&lt;class &#x27;int&#x27;&gt;, encoded_missing_value=99999,\n",
       "               handle_unknown=&#x27;use_encoded_value&#x27;, unknown_value=99999)</pre></div></div></div></div></div></div></div></div><div class=\"sk-parallel-item\"><div class=\"sk-item\"><div class=\"sk-label-container\"><div class=\"sk-label sk-toggleable\"><input class=\"sk-toggleable__control sk-hidden--visually\" id=\"sk-estimator-id-73\" type=\"checkbox\" ><label for=\"sk-estimator-id-73\" class=\"sk-toggleable__label sk-toggleable__label-arrow\">one_hot_encoding</label><div class=\"sk-toggleable__content\"><pre>[&#x27;Community_Building&#x27;, &#x27;Education_Attainment&#x27;, &#x27;Falsification_of_Information&#x27;, &#x27;Household_Income&#x27;, &#x27;Major_Occupation&#x27;, &#x27;Marital_Status&#x27;, &#x27;Most_Import_Issue_Facing_the_Internet&#x27;, &#x27;Opinions_on_Censorship&#x27;, &#x27;Primary_Place_of_WWW_Access&#x27;, &#x27;Race&#x27;, &#x27;Registered_to_Vote&#x27;, &#x27;Sexual_Preference&#x27;, &#x27;Web_Ordering&#x27;, &#x27;Web_Page_Creation&#x27;]</pre></div></div></div><div class=\"sk-serial\"><div class=\"sk-item\"><div class=\"sk-serial\"><div class=\"sk-item\"><div class=\"sk-estimator sk-toggleable\"><input class=\"sk-toggleable__control sk-hidden--visually\" id=\"sk-estimator-id-74\" type=\"checkbox\" ><label for=\"sk-estimator-id-74\" class=\"sk-toggleable__label sk-toggleable__label-arrow\">SimpleImputer</label><div class=\"sk-toggleable__content\"><pre>SimpleImputer(strategy=&#x27;most_frequent&#x27;)</pre></div></div></div><div class=\"sk-item\"><div class=\"sk-estimator sk-toggleable\"><input class=\"sk-toggleable__control sk-hidden--visually\" id=\"sk-estimator-id-75\" type=\"checkbox\" ><label for=\"sk-estimator-id-75\" class=\"sk-toggleable__label sk-toggleable__label-arrow\">OneHotEncoder</label><div class=\"sk-toggleable__content\"><pre>OneHotEncoder(drop=&#x27;first&#x27;, handle_unknown=&#x27;ignore&#x27;)</pre></div></div></div></div></div></div></div></div></div></div><div class=\"sk-item\"><div class=\"sk-estimator sk-toggleable\"><input class=\"sk-toggleable__control sk-hidden--visually\" id=\"sk-estimator-id-76\" type=\"checkbox\" ><label for=\"sk-estimator-id-76\" class=\"sk-toggleable__label sk-toggleable__label-arrow\">HistGradientBoostingClassifier</label><div class=\"sk-toggleable__content\"><pre>HistGradientBoostingClassifier(class_weight=&#x27;balanced&#x27;, early_stopping=True,\n",
       "                               max_iter=1000, n_iter_no_change=5,\n",
       "                               random_state=1234, scoring=&#x27;balanced_accuracy&#x27;)</pre></div></div></div></div></div></div></div>"
      ],
      "text/plain": [
       "Pipeline(steps=[('preprocessing',\n",
       "                 ColumnTransformer(sparse_threshold=0,\n",
       "                                   transformers=[('num',\n",
       "                                                  Pipeline(steps=[('imputer',\n",
       "                                                                   SimpleImputer(strategy='median'))]),\n",
       "                                                  ['Community_Membership_Family',\n",
       "                                                   'Community_Membership_Hobbies',\n",
       "                                                   'Community_Membership_None',\n",
       "                                                   'Community_Membership_Other',\n",
       "                                                   'Community_Membership_Political',\n",
       "                                                   'Community_Membership_Professional',\n",
       "                                                   'Communi...\n",
       "                                                   'Marital_Status',\n",
       "                                                   'Most_Import_Issue_Facing_the_Internet',\n",
       "                                                   'Opinions_on_Censorship',\n",
       "                                                   'Primary_Place_of_WWW_Access',\n",
       "                                                   'Race', 'Registered_to_Vote',\n",
       "                                                   'Sexual_Preference',\n",
       "                                                   'Web_Ordering',\n",
       "                                                   'Web_Page_Creation'])])),\n",
       "                ('model',\n",
       "                 HistGradientBoostingClassifier(class_weight='balanced',\n",
       "                                                early_stopping=True,\n",
       "                                                max_iter=1000,\n",
       "                                                n_iter_no_change=5,\n",
       "                                                random_state=1234,\n",
       "                                                scoring='balanced_accuracy'))])"
      ]
     },
     "execution_count": 67,
     "metadata": {},
     "output_type": "execute_result"
    }
   ],
   "source": [
    "# Display pipeline\n",
    "print(\"Time taken: \", ordinal_hgb_default9_time_taken)\n",
    "ordinal_hgb_default9"
   ]
  },
  {
   "cell_type": "code",
   "execution_count": 68,
   "id": "b2fded98",
   "metadata": {},
   "outputs": [
    {
     "name": "stdout",
     "output_type": "stream",
     "text": [
      "Balanced accuracy with default parameters: 0.8710809426229509\n"
     ]
    }
   ],
   "source": [
    "# Calculate balanced accuracy for the model with default parameters\n",
    "y_ordinal_hgb_default_pred = ordinal_hgb_default.predict(X_test)\n",
    "ordinal_hgb_default_accuracy = balanced_accuracy_score(y_test, y_ordinal_hgb_default_pred)\n",
    "print(f'Balanced accuracy with default parameters: {ordinal_hgb_default_accuracy}')\n",
    "\n",
    "# Save results\n",
    "default_summary.append(\"Default\")\n",
    "card_9_summary.append(\"AllVariables\")\n",
    "encoder_summary.append(\"OrdinalEncoder\")\n",
    "value_summary.append(ordinal_hgb_default_accuracy)\n",
    "time_summary.append(ordinal_hgb_default_time_taken)\n",
    "n_models_summary.append(1)"
   ]
  },
  {
   "cell_type": "code",
   "execution_count": 69,
   "id": "60b3b940",
   "metadata": {},
   "outputs": [
    {
     "name": "stdout",
     "output_type": "stream",
     "text": [
      "Balanced accuracy with default parameters: 0.8799967066744732\n"
     ]
    }
   ],
   "source": [
    "# Calculate balanced accuracy for the model with default parameters\n",
    "y_ordinal_hgb_default_pred9 = ordinal_hgb_default9.predict(X_test)\n",
    "ordinal_hgb_default_accuracy9 = balanced_accuracy_score(y_test, y_ordinal_hgb_default_pred9)\n",
    "print(f'Balanced accuracy with default parameters: {ordinal_hgb_default_accuracy9}')\n",
    "\n",
    "# Save results\n",
    "default_summary.append(\"Default\")\n",
    "card_9_summary.append(\"OnlyVariablesWithCard>9\")\n",
    "encoder_summary.append(\"OrdinalEncoder\")\n",
    "value_summary.append(ordinal_hgb_default_accuracy9)\n",
    "time_summary.append(ordinal_hgb_default9_time_taken)\n",
    "n_models_summary.append(1)"
   ]
  },
  {
   "cell_type": "markdown",
   "id": "e2ec5c24",
   "metadata": {},
   "source": [
    "#### Create a HistGradientBoostingClassifier model for tuning"
   ]
  },
  {
   "cell_type": "code",
   "execution_count": 70,
   "id": "ce9e4b10",
   "metadata": {},
   "outputs": [],
   "source": [
    "ordinal_hgb_tune = RandomizedSearchCV(estimator = ordinal_hgb_default_pipeline, \n",
    "                                   param_distributions = param_distributions, \n",
    "                                   n_iter = 200,\n",
    "                                   cv = stratified_kfold,\n",
    "                                   scoring = 'balanced_accuracy', \n",
    "                                   random_state = 1234,\n",
    "                                   n_jobs = -1)\n",
    "\n",
    "ordinal_hgb_tune9 = RandomizedSearchCV(estimator = ordinal_hgb_default_pipeline9, \n",
    "                                    param_distributions = param_distributions, \n",
    "                                    n_iter = 200,\n",
    "                                    cv = stratified_kfold,\n",
    "                                    scoring = 'balanced_accuracy', \n",
    "                                    random_state = 1234,\n",
    "                                    n_jobs = -1)"
   ]
  },
  {
   "cell_type": "code",
   "execution_count": 71,
   "id": "015700c9",
   "metadata": {},
   "outputs": [],
   "source": [
    "tic = time.time()\n",
    "\n",
    "ordinal_hgb_tune = ordinal_hgb_tune.fit(X_train, y_train)\n",
    "\n",
    "toc = time.time()\n",
    "ordinal_hgb_tune_time_taken = toc-tic"
   ]
  },
  {
   "cell_type": "code",
   "execution_count": 72,
   "metadata": {},
   "outputs": [
    {
     "name": "stdout",
     "output_type": "stream",
     "text": [
      "Time taken:  46.68486833572388\n"
     ]
    },
    {
     "data": {
      "text/html": [
       "<style>#sk-container-id-9 {color: black;}#sk-container-id-9 pre{padding: 0;}#sk-container-id-9 div.sk-toggleable {background-color: white;}#sk-container-id-9 label.sk-toggleable__label {cursor: pointer;display: block;width: 100%;margin-bottom: 0;padding: 0.3em;box-sizing: border-box;text-align: center;}#sk-container-id-9 label.sk-toggleable__label-arrow:before {content: \"▸\";float: left;margin-right: 0.25em;color: #696969;}#sk-container-id-9 label.sk-toggleable__label-arrow:hover:before {color: black;}#sk-container-id-9 div.sk-estimator:hover label.sk-toggleable__label-arrow:before {color: black;}#sk-container-id-9 div.sk-toggleable__content {max-height: 0;max-width: 0;overflow: hidden;text-align: left;background-color: #f0f8ff;}#sk-container-id-9 div.sk-toggleable__content pre {margin: 0.2em;color: black;border-radius: 0.25em;background-color: #f0f8ff;}#sk-container-id-9 input.sk-toggleable__control:checked~div.sk-toggleable__content {max-height: 200px;max-width: 100%;overflow: auto;}#sk-container-id-9 input.sk-toggleable__control:checked~label.sk-toggleable__label-arrow:before {content: \"▾\";}#sk-container-id-9 div.sk-estimator input.sk-toggleable__control:checked~label.sk-toggleable__label {background-color: #d4ebff;}#sk-container-id-9 div.sk-label input.sk-toggleable__control:checked~label.sk-toggleable__label {background-color: #d4ebff;}#sk-container-id-9 input.sk-hidden--visually {border: 0;clip: rect(1px 1px 1px 1px);clip: rect(1px, 1px, 1px, 1px);height: 1px;margin: -1px;overflow: hidden;padding: 0;position: absolute;width: 1px;}#sk-container-id-9 div.sk-estimator {font-family: monospace;background-color: #f0f8ff;border: 1px dotted black;border-radius: 0.25em;box-sizing: border-box;margin-bottom: 0.5em;}#sk-container-id-9 div.sk-estimator:hover {background-color: #d4ebff;}#sk-container-id-9 div.sk-parallel-item::after {content: \"\";width: 100%;border-bottom: 1px solid gray;flex-grow: 1;}#sk-container-id-9 div.sk-label:hover label.sk-toggleable__label {background-color: #d4ebff;}#sk-container-id-9 div.sk-serial::before {content: \"\";position: absolute;border-left: 1px solid gray;box-sizing: border-box;top: 0;bottom: 0;left: 50%;z-index: 0;}#sk-container-id-9 div.sk-serial {display: flex;flex-direction: column;align-items: center;background-color: white;padding-right: 0.2em;padding-left: 0.2em;position: relative;}#sk-container-id-9 div.sk-item {position: relative;z-index: 1;}#sk-container-id-9 div.sk-parallel {display: flex;align-items: stretch;justify-content: center;background-color: white;position: relative;}#sk-container-id-9 div.sk-item::before, #sk-container-id-9 div.sk-parallel-item::before {content: \"\";position: absolute;border-left: 1px solid gray;box-sizing: border-box;top: 0;bottom: 0;left: 50%;z-index: -1;}#sk-container-id-9 div.sk-parallel-item {display: flex;flex-direction: column;z-index: 1;position: relative;background-color: white;}#sk-container-id-9 div.sk-parallel-item:first-child::after {align-self: flex-end;width: 50%;}#sk-container-id-9 div.sk-parallel-item:last-child::after {align-self: flex-start;width: 50%;}#sk-container-id-9 div.sk-parallel-item:only-child::after {width: 0;}#sk-container-id-9 div.sk-dashed-wrapped {border: 1px dashed gray;margin: 0 0.4em 0.5em 0.4em;box-sizing: border-box;padding-bottom: 0.4em;background-color: white;}#sk-container-id-9 div.sk-label label {font-family: monospace;font-weight: bold;display: inline-block;line-height: 1.2em;}#sk-container-id-9 div.sk-label-container {text-align: center;}#sk-container-id-9 div.sk-container {/* jupyter's `normalize.less` sets `[hidden] { display: none; }` but bootstrap.min.css set `[hidden] { display: none !important; }` so we also need the `!important` here to be able to override the default hidden behavior on the sphinx rendered scikit-learn.org. See: https://github.com/scikit-learn/scikit-learn/issues/21755 */display: inline-block !important;position: relative;}#sk-container-id-9 div.sk-text-repr-fallback {display: none;}</style><div id=\"sk-container-id-9\" class=\"sk-top-container\"><div class=\"sk-text-repr-fallback\"><pre>RandomizedSearchCV(cv=StratifiedKFold(n_splits=3, random_state=1234, shuffle=True),\n",
       "                   estimator=Pipeline(steps=[(&#x27;preprocessing&#x27;,\n",
       "                                              ColumnTransformer(sparse_threshold=0,\n",
       "                                                                transformers=[(&#x27;num&#x27;,\n",
       "                                                                               Pipeline(steps=[(&#x27;imputer&#x27;,\n",
       "                                                                                                SimpleImputer(strategy=&#x27;median&#x27;))]),\n",
       "                                                                               [&#x27;Community_Membership_Family&#x27;,\n",
       "                                                                                &#x27;Community_Membership_Hobbies&#x27;,\n",
       "                                                                                &#x27;Community_Membership_None&#x27;,\n",
       "                                                                                &#x27;Community_Memb...\n",
       "                                                                             random_state=1234,\n",
       "                                                                             scoring=&#x27;balanced_accuracy&#x27;))]),\n",
       "                   n_iter=200, n_jobs=-1,\n",
       "                   param_distributions={&#x27;model__learning_rate&#x27;: &lt;scipy.stats._distn_infrastructure.rv_continuous_frozen object at 0x000002AE7921E470&gt;,\n",
       "                                        &#x27;model__min_samples_leaf&#x27;: &lt;scipy.stats._distn_infrastructure.rv_discrete_frozen object at 0x000002AE7A91A710&gt;},\n",
       "                   random_state=1234, scoring=&#x27;balanced_accuracy&#x27;)</pre><b>In a Jupyter environment, please rerun this cell to show the HTML representation or trust the notebook. <br />On GitHub, the HTML representation is unable to render, please try loading this page with nbviewer.org.</b></div><div class=\"sk-container\" hidden><div class=\"sk-item sk-dashed-wrapped\"><div class=\"sk-label-container\"><div class=\"sk-label sk-toggleable\"><input class=\"sk-toggleable__control sk-hidden--visually\" id=\"sk-estimator-id-77\" type=\"checkbox\" ><label for=\"sk-estimator-id-77\" class=\"sk-toggleable__label sk-toggleable__label-arrow\">RandomizedSearchCV</label><div class=\"sk-toggleable__content\"><pre>RandomizedSearchCV(cv=StratifiedKFold(n_splits=3, random_state=1234, shuffle=True),\n",
       "                   estimator=Pipeline(steps=[(&#x27;preprocessing&#x27;,\n",
       "                                              ColumnTransformer(sparse_threshold=0,\n",
       "                                                                transformers=[(&#x27;num&#x27;,\n",
       "                                                                               Pipeline(steps=[(&#x27;imputer&#x27;,\n",
       "                                                                                                SimpleImputer(strategy=&#x27;median&#x27;))]),\n",
       "                                                                               [&#x27;Community_Membership_Family&#x27;,\n",
       "                                                                                &#x27;Community_Membership_Hobbies&#x27;,\n",
       "                                                                                &#x27;Community_Membership_None&#x27;,\n",
       "                                                                                &#x27;Community_Memb...\n",
       "                                                                             random_state=1234,\n",
       "                                                                             scoring=&#x27;balanced_accuracy&#x27;))]),\n",
       "                   n_iter=200, n_jobs=-1,\n",
       "                   param_distributions={&#x27;model__learning_rate&#x27;: &lt;scipy.stats._distn_infrastructure.rv_continuous_frozen object at 0x000002AE7921E470&gt;,\n",
       "                                        &#x27;model__min_samples_leaf&#x27;: &lt;scipy.stats._distn_infrastructure.rv_discrete_frozen object at 0x000002AE7A91A710&gt;},\n",
       "                   random_state=1234, scoring=&#x27;balanced_accuracy&#x27;)</pre></div></div></div><div class=\"sk-parallel\"><div class=\"sk-parallel-item\"><div class=\"sk-item\"><div class=\"sk-label-container\"><div class=\"sk-label sk-toggleable\"><input class=\"sk-toggleable__control sk-hidden--visually\" id=\"sk-estimator-id-78\" type=\"checkbox\" ><label for=\"sk-estimator-id-78\" class=\"sk-toggleable__label sk-toggleable__label-arrow\">estimator: Pipeline</label><div class=\"sk-toggleable__content\"><pre>Pipeline(steps=[(&#x27;preprocessing&#x27;,\n",
       "                 ColumnTransformer(sparse_threshold=0,\n",
       "                                   transformers=[(&#x27;num&#x27;,\n",
       "                                                  Pipeline(steps=[(&#x27;imputer&#x27;,\n",
       "                                                                   SimpleImputer(strategy=&#x27;median&#x27;))]),\n",
       "                                                  [&#x27;Community_Membership_Family&#x27;,\n",
       "                                                   &#x27;Community_Membership_Hobbies&#x27;,\n",
       "                                                   &#x27;Community_Membership_None&#x27;,\n",
       "                                                   &#x27;Community_Membership_Other&#x27;,\n",
       "                                                   &#x27;Community_Membership_Political&#x27;,\n",
       "                                                   &#x27;Community_Membership_Professional&#x27;,\n",
       "                                                   &#x27;Communi...\n",
       "                                                   &#x27;Most_Import_Issue_Facing_the_Internet&#x27;,\n",
       "                                                   &#x27;Opinions_on_Censorship&#x27;,\n",
       "                                                   &#x27;Primary_Computing_Platform&#x27;,\n",
       "                                                   &#x27;Primary_Language&#x27;,\n",
       "                                                   &#x27;Primary_Place_of_WWW_Access&#x27;,\n",
       "                                                   &#x27;Race&#x27;, &#x27;Registered_to_Vote&#x27;,\n",
       "                                                   &#x27;Sexual_Preference&#x27;,\n",
       "                                                   &#x27;Web_Ordering&#x27;,\n",
       "                                                   &#x27;Web_Page_Creation&#x27;])])),\n",
       "                (&#x27;model&#x27;,\n",
       "                 HistGradientBoostingClassifier(class_weight=&#x27;balanced&#x27;,\n",
       "                                                early_stopping=True,\n",
       "                                                n_iter_no_change=5,\n",
       "                                                random_state=1234,\n",
       "                                                scoring=&#x27;balanced_accuracy&#x27;))])</pre></div></div></div><div class=\"sk-serial\"><div class=\"sk-item\"><div class=\"sk-serial\"><div class=\"sk-item sk-dashed-wrapped\"><div class=\"sk-label-container\"><div class=\"sk-label sk-toggleable\"><input class=\"sk-toggleable__control sk-hidden--visually\" id=\"sk-estimator-id-79\" type=\"checkbox\" ><label for=\"sk-estimator-id-79\" class=\"sk-toggleable__label sk-toggleable__label-arrow\">preprocessing: ColumnTransformer</label><div class=\"sk-toggleable__content\"><pre>ColumnTransformer(sparse_threshold=0,\n",
       "                  transformers=[(&#x27;num&#x27;,\n",
       "                                 Pipeline(steps=[(&#x27;imputer&#x27;,\n",
       "                                                  SimpleImputer(strategy=&#x27;median&#x27;))]),\n",
       "                                 [&#x27;Community_Membership_Family&#x27;,\n",
       "                                  &#x27;Community_Membership_Hobbies&#x27;,\n",
       "                                  &#x27;Community_Membership_None&#x27;,\n",
       "                                  &#x27;Community_Membership_Other&#x27;,\n",
       "                                  &#x27;Community_Membership_Political&#x27;,\n",
       "                                  &#x27;Community_Membership_Professional&#x27;,\n",
       "                                  &#x27;Community_Membership_Religious&#x27;,\n",
       "                                  &#x27;Communi...\n",
       "                                  &#x27;Country&#x27;, &#x27;Education_Attainment&#x27;,\n",
       "                                  &#x27;Falsification_of_Information&#x27;,\n",
       "                                  &#x27;Household_Income&#x27;,\n",
       "                                  &#x27;Major_Geographical_Location&#x27;,\n",
       "                                  &#x27;Major_Occupation&#x27;, &#x27;Marital_Status&#x27;,\n",
       "                                  &#x27;Most_Import_Issue_Facing_the_Internet&#x27;,\n",
       "                                  &#x27;Opinions_on_Censorship&#x27;,\n",
       "                                  &#x27;Primary_Computing_Platform&#x27;,\n",
       "                                  &#x27;Primary_Language&#x27;,\n",
       "                                  &#x27;Primary_Place_of_WWW_Access&#x27;, &#x27;Race&#x27;,\n",
       "                                  &#x27;Registered_to_Vote&#x27;, &#x27;Sexual_Preference&#x27;,\n",
       "                                  &#x27;Web_Ordering&#x27;, &#x27;Web_Page_Creation&#x27;])])</pre></div></div></div><div class=\"sk-parallel\"><div class=\"sk-parallel-item\"><div class=\"sk-item\"><div class=\"sk-label-container\"><div class=\"sk-label sk-toggleable\"><input class=\"sk-toggleable__control sk-hidden--visually\" id=\"sk-estimator-id-80\" type=\"checkbox\" ><label for=\"sk-estimator-id-80\" class=\"sk-toggleable__label sk-toggleable__label-arrow\">num</label><div class=\"sk-toggleable__content\"><pre>[&#x27;Community_Membership_Family&#x27;, &#x27;Community_Membership_Hobbies&#x27;, &#x27;Community_Membership_None&#x27;, &#x27;Community_Membership_Other&#x27;, &#x27;Community_Membership_Political&#x27;, &#x27;Community_Membership_Professional&#x27;, &#x27;Community_Membership_Religious&#x27;, &#x27;Community_Membership_Support&#x27;, &#x27;Disability_Cognitive&#x27;, &#x27;Disability_Hearing&#x27;, &#x27;Disability_Motor&#x27;, &#x27;Disability_Not_Impaired&#x27;, &#x27;Disability_Not_Say&#x27;, &#x27;Disability_Vision&#x27;, &#x27;Gender&#x27;, &#x27;How_You_Heard_About_Survey_Banner&#x27;, &#x27;How_You_Heard_About_Survey_Friend&#x27;, &#x27;How_You_Heard_About_Survey_Mailing_List&#x27;, &#x27;How_You_Heard_About_Survey_Others&#x27;, &#x27;How_You_Heard_About_Survey_Printed_Media&#x27;, &#x27;How_You_Heard_About_Survey_Remebered&#x27;, &#x27;How_You_Heard_About_Survey_Search_Engine&#x27;, &#x27;How_You_Heard_About_Survey_Usenet_News&#x27;, &#x27;How_You_Heard_About_Survey_WWW_Page&#x27;, &#x27;Not_Purchasing_Bad_experience&#x27;, &#x27;Not_Purchasing_Bad_press&#x27;, &#x27;Not_Purchasing_Cant_find&#x27;, &#x27;Not_Purchasing_Company_policy&#x27;, &#x27;Not_Purchasing_Easier_locally&#x27;, &#x27;Not_Purchasing_Enough_info&#x27;, &#x27;Not_Purchasing_Judge_quality&#x27;, &#x27;Not_Purchasing_Never_tried&#x27;, &#x27;Not_Purchasing_No_credit&#x27;, &#x27;Not_Purchasing_Not_applicable&#x27;, &#x27;Not_Purchasing_Not_option&#x27;, &#x27;Not_Purchasing_Other&#x27;, &#x27;Not_Purchasing_Prefer_people&#x27;, &#x27;Not_Purchasing_Privacy&#x27;, &#x27;Not_Purchasing_Receipt&#x27;, &#x27;Not_Purchasing_Security&#x27;, &#x27;Not_Purchasing_Too_complicated&#x27;, &#x27;Not_Purchasing_Uncomfortable&#x27;, &#x27;Not_Purchasing_Unfamiliar_vendor&#x27;, &#x27;Who_Pays_for_Access_Dont_Know&#x27;, &#x27;Who_Pays_for_Access_Other&#x27;, &#x27;Who_Pays_for_Access_Parents&#x27;, &#x27;Who_Pays_for_Access_School&#x27;, &#x27;Who_Pays_for_Access_Self&#x27;]</pre></div></div></div><div class=\"sk-serial\"><div class=\"sk-item\"><div class=\"sk-serial\"><div class=\"sk-item\"><div class=\"sk-estimator sk-toggleable\"><input class=\"sk-toggleable__control sk-hidden--visually\" id=\"sk-estimator-id-81\" type=\"checkbox\" ><label for=\"sk-estimator-id-81\" class=\"sk-toggleable__label sk-toggleable__label-arrow\">SimpleImputer</label><div class=\"sk-toggleable__content\"><pre>SimpleImputer(strategy=&#x27;median&#x27;)</pre></div></div></div></div></div></div></div></div><div class=\"sk-parallel-item\"><div class=\"sk-item\"><div class=\"sk-label-container\"><div class=\"sk-label sk-toggleable\"><input class=\"sk-toggleable__control sk-hidden--visually\" id=\"sk-estimator-id-82\" type=\"checkbox\" ><label for=\"sk-estimator-id-82\" class=\"sk-toggleable__label sk-toggleable__label-arrow\">ordinal_encoder</label><div class=\"sk-toggleable__content\"><pre>[&#x27;Actual_Time&#x27;, &#x27;Community_Building&#x27;, &#x27;Country&#x27;, &#x27;Education_Attainment&#x27;, &#x27;Falsification_of_Information&#x27;, &#x27;Household_Income&#x27;, &#x27;Major_Geographical_Location&#x27;, &#x27;Major_Occupation&#x27;, &#x27;Marital_Status&#x27;, &#x27;Most_Import_Issue_Facing_the_Internet&#x27;, &#x27;Opinions_on_Censorship&#x27;, &#x27;Primary_Computing_Platform&#x27;, &#x27;Primary_Language&#x27;, &#x27;Primary_Place_of_WWW_Access&#x27;, &#x27;Race&#x27;, &#x27;Registered_to_Vote&#x27;, &#x27;Sexual_Preference&#x27;, &#x27;Web_Ordering&#x27;, &#x27;Web_Page_Creation&#x27;]</pre></div></div></div><div class=\"sk-serial\"><div class=\"sk-item\"><div class=\"sk-serial\"><div class=\"sk-item\"><div class=\"sk-estimator sk-toggleable\"><input class=\"sk-toggleable__control sk-hidden--visually\" id=\"sk-estimator-id-83\" type=\"checkbox\" ><label for=\"sk-estimator-id-83\" class=\"sk-toggleable__label sk-toggleable__label-arrow\">SimpleImputer</label><div class=\"sk-toggleable__content\"><pre>SimpleImputer(strategy=&#x27;most_frequent&#x27;)</pre></div></div></div><div class=\"sk-item\"><div class=\"sk-estimator sk-toggleable\"><input class=\"sk-toggleable__control sk-hidden--visually\" id=\"sk-estimator-id-84\" type=\"checkbox\" ><label for=\"sk-estimator-id-84\" class=\"sk-toggleable__label sk-toggleable__label-arrow\">OrdinalEncoder</label><div class=\"sk-toggleable__content\"><pre>OrdinalEncoder(dtype=&lt;class &#x27;int&#x27;&gt;, encoded_missing_value=99999,\n",
       "               handle_unknown=&#x27;use_encoded_value&#x27;, unknown_value=99999)</pre></div></div></div></div></div></div></div></div></div></div><div class=\"sk-item\"><div class=\"sk-estimator sk-toggleable\"><input class=\"sk-toggleable__control sk-hidden--visually\" id=\"sk-estimator-id-85\" type=\"checkbox\" ><label for=\"sk-estimator-id-85\" class=\"sk-toggleable__label sk-toggleable__label-arrow\">HistGradientBoostingClassifier</label><div class=\"sk-toggleable__content\"><pre>HistGradientBoostingClassifier(class_weight=&#x27;balanced&#x27;, early_stopping=True,\n",
       "                               n_iter_no_change=5, random_state=1234,\n",
       "                               scoring=&#x27;balanced_accuracy&#x27;)</pre></div></div></div></div></div></div></div></div></div></div></div></div>"
      ],
      "text/plain": [
       "RandomizedSearchCV(cv=StratifiedKFold(n_splits=3, random_state=1234, shuffle=True),\n",
       "                   estimator=Pipeline(steps=[('preprocessing',\n",
       "                                              ColumnTransformer(sparse_threshold=0,\n",
       "                                                                transformers=[('num',\n",
       "                                                                               Pipeline(steps=[('imputer',\n",
       "                                                                                                SimpleImputer(strategy='median'))]),\n",
       "                                                                               ['Community_Membership_Family',\n",
       "                                                                                'Community_Membership_Hobbies',\n",
       "                                                                                'Community_Membership_None',\n",
       "                                                                                'Community_Memb...\n",
       "                                                                             random_state=1234,\n",
       "                                                                             scoring='balanced_accuracy'))]),\n",
       "                   n_iter=200, n_jobs=-1,\n",
       "                   param_distributions={'model__learning_rate': <scipy.stats._distn_infrastructure.rv_continuous_frozen object at 0x000002AE7921E470>,\n",
       "                                        'model__min_samples_leaf': <scipy.stats._distn_infrastructure.rv_discrete_frozen object at 0x000002AE7A91A710>},\n",
       "                   random_state=1234, scoring='balanced_accuracy')"
      ]
     },
     "execution_count": 72,
     "metadata": {},
     "output_type": "execute_result"
    }
   ],
   "source": [
    "# Display pipeline\n",
    "print(\"Time taken: \", ordinal_hgb_tune_time_taken)\n",
    "ordinal_hgb_tune"
   ]
  },
  {
   "cell_type": "code",
   "execution_count": 73,
   "id": "a445354e",
   "metadata": {},
   "outputs": [],
   "source": [
    "tic = time.time()\n",
    "\n",
    "ordinal_hgb_tune9 = ordinal_hgb_tune9.fit(X_train, y_train)\n",
    "\n",
    "toc = time.time()\n",
    "ordinal_hgb_tune9_time_taken = toc-tic"
   ]
  },
  {
   "cell_type": "code",
   "execution_count": 74,
   "metadata": {},
   "outputs": [
    {
     "name": "stdout",
     "output_type": "stream",
     "text": [
      "Time taken:  51.843918323516846\n"
     ]
    },
    {
     "data": {
      "text/html": [
       "<style>#sk-container-id-10 {color: black;}#sk-container-id-10 pre{padding: 0;}#sk-container-id-10 div.sk-toggleable {background-color: white;}#sk-container-id-10 label.sk-toggleable__label {cursor: pointer;display: block;width: 100%;margin-bottom: 0;padding: 0.3em;box-sizing: border-box;text-align: center;}#sk-container-id-10 label.sk-toggleable__label-arrow:before {content: \"▸\";float: left;margin-right: 0.25em;color: #696969;}#sk-container-id-10 label.sk-toggleable__label-arrow:hover:before {color: black;}#sk-container-id-10 div.sk-estimator:hover label.sk-toggleable__label-arrow:before {color: black;}#sk-container-id-10 div.sk-toggleable__content {max-height: 0;max-width: 0;overflow: hidden;text-align: left;background-color: #f0f8ff;}#sk-container-id-10 div.sk-toggleable__content pre {margin: 0.2em;color: black;border-radius: 0.25em;background-color: #f0f8ff;}#sk-container-id-10 input.sk-toggleable__control:checked~div.sk-toggleable__content {max-height: 200px;max-width: 100%;overflow: auto;}#sk-container-id-10 input.sk-toggleable__control:checked~label.sk-toggleable__label-arrow:before {content: \"▾\";}#sk-container-id-10 div.sk-estimator input.sk-toggleable__control:checked~label.sk-toggleable__label {background-color: #d4ebff;}#sk-container-id-10 div.sk-label input.sk-toggleable__control:checked~label.sk-toggleable__label {background-color: #d4ebff;}#sk-container-id-10 input.sk-hidden--visually {border: 0;clip: rect(1px 1px 1px 1px);clip: rect(1px, 1px, 1px, 1px);height: 1px;margin: -1px;overflow: hidden;padding: 0;position: absolute;width: 1px;}#sk-container-id-10 div.sk-estimator {font-family: monospace;background-color: #f0f8ff;border: 1px dotted black;border-radius: 0.25em;box-sizing: border-box;margin-bottom: 0.5em;}#sk-container-id-10 div.sk-estimator:hover {background-color: #d4ebff;}#sk-container-id-10 div.sk-parallel-item::after {content: \"\";width: 100%;border-bottom: 1px solid gray;flex-grow: 1;}#sk-container-id-10 div.sk-label:hover label.sk-toggleable__label {background-color: #d4ebff;}#sk-container-id-10 div.sk-serial::before {content: \"\";position: absolute;border-left: 1px solid gray;box-sizing: border-box;top: 0;bottom: 0;left: 50%;z-index: 0;}#sk-container-id-10 div.sk-serial {display: flex;flex-direction: column;align-items: center;background-color: white;padding-right: 0.2em;padding-left: 0.2em;position: relative;}#sk-container-id-10 div.sk-item {position: relative;z-index: 1;}#sk-container-id-10 div.sk-parallel {display: flex;align-items: stretch;justify-content: center;background-color: white;position: relative;}#sk-container-id-10 div.sk-item::before, #sk-container-id-10 div.sk-parallel-item::before {content: \"\";position: absolute;border-left: 1px solid gray;box-sizing: border-box;top: 0;bottom: 0;left: 50%;z-index: -1;}#sk-container-id-10 div.sk-parallel-item {display: flex;flex-direction: column;z-index: 1;position: relative;background-color: white;}#sk-container-id-10 div.sk-parallel-item:first-child::after {align-self: flex-end;width: 50%;}#sk-container-id-10 div.sk-parallel-item:last-child::after {align-self: flex-start;width: 50%;}#sk-container-id-10 div.sk-parallel-item:only-child::after {width: 0;}#sk-container-id-10 div.sk-dashed-wrapped {border: 1px dashed gray;margin: 0 0.4em 0.5em 0.4em;box-sizing: border-box;padding-bottom: 0.4em;background-color: white;}#sk-container-id-10 div.sk-label label {font-family: monospace;font-weight: bold;display: inline-block;line-height: 1.2em;}#sk-container-id-10 div.sk-label-container {text-align: center;}#sk-container-id-10 div.sk-container {/* jupyter's `normalize.less` sets `[hidden] { display: none; }` but bootstrap.min.css set `[hidden] { display: none !important; }` so we also need the `!important` here to be able to override the default hidden behavior on the sphinx rendered scikit-learn.org. See: https://github.com/scikit-learn/scikit-learn/issues/21755 */display: inline-block !important;position: relative;}#sk-container-id-10 div.sk-text-repr-fallback {display: none;}</style><div id=\"sk-container-id-10\" class=\"sk-top-container\"><div class=\"sk-text-repr-fallback\"><pre>RandomizedSearchCV(cv=StratifiedKFold(n_splits=3, random_state=1234, shuffle=True),\n",
       "                   estimator=Pipeline(steps=[(&#x27;preprocessing&#x27;,\n",
       "                                              ColumnTransformer(sparse_threshold=0,\n",
       "                                                                transformers=[(&#x27;num&#x27;,\n",
       "                                                                               Pipeline(steps=[(&#x27;imputer&#x27;,\n",
       "                                                                                                SimpleImputer(strategy=&#x27;median&#x27;))]),\n",
       "                                                                               [&#x27;Community_Membership_Family&#x27;,\n",
       "                                                                                &#x27;Community_Membership_Hobbies&#x27;,\n",
       "                                                                                &#x27;Community_Membership_None&#x27;,\n",
       "                                                                                &#x27;Community_Memb...\n",
       "                                                                             random_state=1234,\n",
       "                                                                             scoring=&#x27;balanced_accuracy&#x27;))]),\n",
       "                   n_iter=200, n_jobs=-1,\n",
       "                   param_distributions={&#x27;model__learning_rate&#x27;: &lt;scipy.stats._distn_infrastructure.rv_continuous_frozen object at 0x000002AE7921E470&gt;,\n",
       "                                        &#x27;model__min_samples_leaf&#x27;: &lt;scipy.stats._distn_infrastructure.rv_discrete_frozen object at 0x000002AE7A91A710&gt;},\n",
       "                   random_state=1234, scoring=&#x27;balanced_accuracy&#x27;)</pre><b>In a Jupyter environment, please rerun this cell to show the HTML representation or trust the notebook. <br />On GitHub, the HTML representation is unable to render, please try loading this page with nbviewer.org.</b></div><div class=\"sk-container\" hidden><div class=\"sk-item sk-dashed-wrapped\"><div class=\"sk-label-container\"><div class=\"sk-label sk-toggleable\"><input class=\"sk-toggleable__control sk-hidden--visually\" id=\"sk-estimator-id-86\" type=\"checkbox\" ><label for=\"sk-estimator-id-86\" class=\"sk-toggleable__label sk-toggleable__label-arrow\">RandomizedSearchCV</label><div class=\"sk-toggleable__content\"><pre>RandomizedSearchCV(cv=StratifiedKFold(n_splits=3, random_state=1234, shuffle=True),\n",
       "                   estimator=Pipeline(steps=[(&#x27;preprocessing&#x27;,\n",
       "                                              ColumnTransformer(sparse_threshold=0,\n",
       "                                                                transformers=[(&#x27;num&#x27;,\n",
       "                                                                               Pipeline(steps=[(&#x27;imputer&#x27;,\n",
       "                                                                                                SimpleImputer(strategy=&#x27;median&#x27;))]),\n",
       "                                                                               [&#x27;Community_Membership_Family&#x27;,\n",
       "                                                                                &#x27;Community_Membership_Hobbies&#x27;,\n",
       "                                                                                &#x27;Community_Membership_None&#x27;,\n",
       "                                                                                &#x27;Community_Memb...\n",
       "                                                                             random_state=1234,\n",
       "                                                                             scoring=&#x27;balanced_accuracy&#x27;))]),\n",
       "                   n_iter=200, n_jobs=-1,\n",
       "                   param_distributions={&#x27;model__learning_rate&#x27;: &lt;scipy.stats._distn_infrastructure.rv_continuous_frozen object at 0x000002AE7921E470&gt;,\n",
       "                                        &#x27;model__min_samples_leaf&#x27;: &lt;scipy.stats._distn_infrastructure.rv_discrete_frozen object at 0x000002AE7A91A710&gt;},\n",
       "                   random_state=1234, scoring=&#x27;balanced_accuracy&#x27;)</pre></div></div></div><div class=\"sk-parallel\"><div class=\"sk-parallel-item\"><div class=\"sk-item\"><div class=\"sk-label-container\"><div class=\"sk-label sk-toggleable\"><input class=\"sk-toggleable__control sk-hidden--visually\" id=\"sk-estimator-id-87\" type=\"checkbox\" ><label for=\"sk-estimator-id-87\" class=\"sk-toggleable__label sk-toggleable__label-arrow\">estimator: Pipeline</label><div class=\"sk-toggleable__content\"><pre>Pipeline(steps=[(&#x27;preprocessing&#x27;,\n",
       "                 ColumnTransformer(sparse_threshold=0,\n",
       "                                   transformers=[(&#x27;num&#x27;,\n",
       "                                                  Pipeline(steps=[(&#x27;imputer&#x27;,\n",
       "                                                                   SimpleImputer(strategy=&#x27;median&#x27;))]),\n",
       "                                                  [&#x27;Community_Membership_Family&#x27;,\n",
       "                                                   &#x27;Community_Membership_Hobbies&#x27;,\n",
       "                                                   &#x27;Community_Membership_None&#x27;,\n",
       "                                                   &#x27;Community_Membership_Other&#x27;,\n",
       "                                                   &#x27;Community_Membership_Political&#x27;,\n",
       "                                                   &#x27;Community_Membership_Professional&#x27;,\n",
       "                                                   &#x27;Communi...\n",
       "                                                   &#x27;Marital_Status&#x27;,\n",
       "                                                   &#x27;Most_Import_Issue_Facing_the_Internet&#x27;,\n",
       "                                                   &#x27;Opinions_on_Censorship&#x27;,\n",
       "                                                   &#x27;Primary_Place_of_WWW_Access&#x27;,\n",
       "                                                   &#x27;Race&#x27;, &#x27;Registered_to_Vote&#x27;,\n",
       "                                                   &#x27;Sexual_Preference&#x27;,\n",
       "                                                   &#x27;Web_Ordering&#x27;,\n",
       "                                                   &#x27;Web_Page_Creation&#x27;])])),\n",
       "                (&#x27;model&#x27;,\n",
       "                 HistGradientBoostingClassifier(class_weight=&#x27;balanced&#x27;,\n",
       "                                                early_stopping=True,\n",
       "                                                max_iter=1000,\n",
       "                                                n_iter_no_change=5,\n",
       "                                                random_state=1234,\n",
       "                                                scoring=&#x27;balanced_accuracy&#x27;))])</pre></div></div></div><div class=\"sk-serial\"><div class=\"sk-item\"><div class=\"sk-serial\"><div class=\"sk-item sk-dashed-wrapped\"><div class=\"sk-label-container\"><div class=\"sk-label sk-toggleable\"><input class=\"sk-toggleable__control sk-hidden--visually\" id=\"sk-estimator-id-88\" type=\"checkbox\" ><label for=\"sk-estimator-id-88\" class=\"sk-toggleable__label sk-toggleable__label-arrow\">preprocessing: ColumnTransformer</label><div class=\"sk-toggleable__content\"><pre>ColumnTransformer(sparse_threshold=0,\n",
       "                  transformers=[(&#x27;num&#x27;,\n",
       "                                 Pipeline(steps=[(&#x27;imputer&#x27;,\n",
       "                                                  SimpleImputer(strategy=&#x27;median&#x27;))]),\n",
       "                                 [&#x27;Community_Membership_Family&#x27;,\n",
       "                                  &#x27;Community_Membership_Hobbies&#x27;,\n",
       "                                  &#x27;Community_Membership_None&#x27;,\n",
       "                                  &#x27;Community_Membership_Other&#x27;,\n",
       "                                  &#x27;Community_Membership_Political&#x27;,\n",
       "                                  &#x27;Community_Membership_Professional&#x27;,\n",
       "                                  &#x27;Community_Membership_Religious&#x27;,\n",
       "                                  &#x27;Communi...\n",
       "                                                  OneHotEncoder(drop=&#x27;first&#x27;,\n",
       "                                                                handle_unknown=&#x27;ignore&#x27;))]),\n",
       "                                 [&#x27;Community_Building&#x27;, &#x27;Education_Attainment&#x27;,\n",
       "                                  &#x27;Falsification_of_Information&#x27;,\n",
       "                                  &#x27;Household_Income&#x27;, &#x27;Major_Occupation&#x27;,\n",
       "                                  &#x27;Marital_Status&#x27;,\n",
       "                                  &#x27;Most_Import_Issue_Facing_the_Internet&#x27;,\n",
       "                                  &#x27;Opinions_on_Censorship&#x27;,\n",
       "                                  &#x27;Primary_Place_of_WWW_Access&#x27;, &#x27;Race&#x27;,\n",
       "                                  &#x27;Registered_to_Vote&#x27;, &#x27;Sexual_Preference&#x27;,\n",
       "                                  &#x27;Web_Ordering&#x27;, &#x27;Web_Page_Creation&#x27;])])</pre></div></div></div><div class=\"sk-parallel\"><div class=\"sk-parallel-item\"><div class=\"sk-item\"><div class=\"sk-label-container\"><div class=\"sk-label sk-toggleable\"><input class=\"sk-toggleable__control sk-hidden--visually\" id=\"sk-estimator-id-89\" type=\"checkbox\" ><label for=\"sk-estimator-id-89\" class=\"sk-toggleable__label sk-toggleable__label-arrow\">num</label><div class=\"sk-toggleable__content\"><pre>[&#x27;Community_Membership_Family&#x27;, &#x27;Community_Membership_Hobbies&#x27;, &#x27;Community_Membership_None&#x27;, &#x27;Community_Membership_Other&#x27;, &#x27;Community_Membership_Political&#x27;, &#x27;Community_Membership_Professional&#x27;, &#x27;Community_Membership_Religious&#x27;, &#x27;Community_Membership_Support&#x27;, &#x27;Disability_Cognitive&#x27;, &#x27;Disability_Hearing&#x27;, &#x27;Disability_Motor&#x27;, &#x27;Disability_Not_Impaired&#x27;, &#x27;Disability_Not_Say&#x27;, &#x27;Disability_Vision&#x27;, &#x27;Gender&#x27;, &#x27;How_You_Heard_About_Survey_Banner&#x27;, &#x27;How_You_Heard_About_Survey_Friend&#x27;, &#x27;How_You_Heard_About_Survey_Mailing_List&#x27;, &#x27;How_You_Heard_About_Survey_Others&#x27;, &#x27;How_You_Heard_About_Survey_Printed_Media&#x27;, &#x27;How_You_Heard_About_Survey_Remebered&#x27;, &#x27;How_You_Heard_About_Survey_Search_Engine&#x27;, &#x27;How_You_Heard_About_Survey_Usenet_News&#x27;, &#x27;How_You_Heard_About_Survey_WWW_Page&#x27;, &#x27;Not_Purchasing_Bad_experience&#x27;, &#x27;Not_Purchasing_Bad_press&#x27;, &#x27;Not_Purchasing_Cant_find&#x27;, &#x27;Not_Purchasing_Company_policy&#x27;, &#x27;Not_Purchasing_Easier_locally&#x27;, &#x27;Not_Purchasing_Enough_info&#x27;, &#x27;Not_Purchasing_Judge_quality&#x27;, &#x27;Not_Purchasing_Never_tried&#x27;, &#x27;Not_Purchasing_No_credit&#x27;, &#x27;Not_Purchasing_Not_applicable&#x27;, &#x27;Not_Purchasing_Not_option&#x27;, &#x27;Not_Purchasing_Other&#x27;, &#x27;Not_Purchasing_Prefer_people&#x27;, &#x27;Not_Purchasing_Privacy&#x27;, &#x27;Not_Purchasing_Receipt&#x27;, &#x27;Not_Purchasing_Security&#x27;, &#x27;Not_Purchasing_Too_complicated&#x27;, &#x27;Not_Purchasing_Uncomfortable&#x27;, &#x27;Not_Purchasing_Unfamiliar_vendor&#x27;, &#x27;Who_Pays_for_Access_Dont_Know&#x27;, &#x27;Who_Pays_for_Access_Other&#x27;, &#x27;Who_Pays_for_Access_Parents&#x27;, &#x27;Who_Pays_for_Access_School&#x27;, &#x27;Who_Pays_for_Access_Self&#x27;]</pre></div></div></div><div class=\"sk-serial\"><div class=\"sk-item\"><div class=\"sk-serial\"><div class=\"sk-item\"><div class=\"sk-estimator sk-toggleable\"><input class=\"sk-toggleable__control sk-hidden--visually\" id=\"sk-estimator-id-90\" type=\"checkbox\" ><label for=\"sk-estimator-id-90\" class=\"sk-toggleable__label sk-toggleable__label-arrow\">SimpleImputer</label><div class=\"sk-toggleable__content\"><pre>SimpleImputer(strategy=&#x27;median&#x27;)</pre></div></div></div></div></div></div></div></div><div class=\"sk-parallel-item\"><div class=\"sk-item\"><div class=\"sk-label-container\"><div class=\"sk-label sk-toggleable\"><input class=\"sk-toggleable__control sk-hidden--visually\" id=\"sk-estimator-id-91\" type=\"checkbox\" ><label for=\"sk-estimator-id-91\" class=\"sk-toggleable__label sk-toggleable__label-arrow\">ordinal_encoder</label><div class=\"sk-toggleable__content\"><pre>[&#x27;Actual_Time&#x27;, &#x27;Country&#x27;, &#x27;Major_Geographical_Location&#x27;, &#x27;Primary_Computing_Platform&#x27;, &#x27;Primary_Language&#x27;]</pre></div></div></div><div class=\"sk-serial\"><div class=\"sk-item\"><div class=\"sk-serial\"><div class=\"sk-item\"><div class=\"sk-estimator sk-toggleable\"><input class=\"sk-toggleable__control sk-hidden--visually\" id=\"sk-estimator-id-92\" type=\"checkbox\" ><label for=\"sk-estimator-id-92\" class=\"sk-toggleable__label sk-toggleable__label-arrow\">SimpleImputer</label><div class=\"sk-toggleable__content\"><pre>SimpleImputer(strategy=&#x27;most_frequent&#x27;)</pre></div></div></div><div class=\"sk-item\"><div class=\"sk-estimator sk-toggleable\"><input class=\"sk-toggleable__control sk-hidden--visually\" id=\"sk-estimator-id-93\" type=\"checkbox\" ><label for=\"sk-estimator-id-93\" class=\"sk-toggleable__label sk-toggleable__label-arrow\">OrdinalEncoder</label><div class=\"sk-toggleable__content\"><pre>OrdinalEncoder(dtype=&lt;class &#x27;int&#x27;&gt;, encoded_missing_value=99999,\n",
       "               handle_unknown=&#x27;use_encoded_value&#x27;, unknown_value=99999)</pre></div></div></div></div></div></div></div></div><div class=\"sk-parallel-item\"><div class=\"sk-item\"><div class=\"sk-label-container\"><div class=\"sk-label sk-toggleable\"><input class=\"sk-toggleable__control sk-hidden--visually\" id=\"sk-estimator-id-94\" type=\"checkbox\" ><label for=\"sk-estimator-id-94\" class=\"sk-toggleable__label sk-toggleable__label-arrow\">one_hot_encoding</label><div class=\"sk-toggleable__content\"><pre>[&#x27;Community_Building&#x27;, &#x27;Education_Attainment&#x27;, &#x27;Falsification_of_Information&#x27;, &#x27;Household_Income&#x27;, &#x27;Major_Occupation&#x27;, &#x27;Marital_Status&#x27;, &#x27;Most_Import_Issue_Facing_the_Internet&#x27;, &#x27;Opinions_on_Censorship&#x27;, &#x27;Primary_Place_of_WWW_Access&#x27;, &#x27;Race&#x27;, &#x27;Registered_to_Vote&#x27;, &#x27;Sexual_Preference&#x27;, &#x27;Web_Ordering&#x27;, &#x27;Web_Page_Creation&#x27;]</pre></div></div></div><div class=\"sk-serial\"><div class=\"sk-item\"><div class=\"sk-serial\"><div class=\"sk-item\"><div class=\"sk-estimator sk-toggleable\"><input class=\"sk-toggleable__control sk-hidden--visually\" id=\"sk-estimator-id-95\" type=\"checkbox\" ><label for=\"sk-estimator-id-95\" class=\"sk-toggleable__label sk-toggleable__label-arrow\">SimpleImputer</label><div class=\"sk-toggleable__content\"><pre>SimpleImputer(strategy=&#x27;most_frequent&#x27;)</pre></div></div></div><div class=\"sk-item\"><div class=\"sk-estimator sk-toggleable\"><input class=\"sk-toggleable__control sk-hidden--visually\" id=\"sk-estimator-id-96\" type=\"checkbox\" ><label for=\"sk-estimator-id-96\" class=\"sk-toggleable__label sk-toggleable__label-arrow\">OneHotEncoder</label><div class=\"sk-toggleable__content\"><pre>OneHotEncoder(drop=&#x27;first&#x27;, handle_unknown=&#x27;ignore&#x27;)</pre></div></div></div></div></div></div></div></div></div></div><div class=\"sk-item\"><div class=\"sk-estimator sk-toggleable\"><input class=\"sk-toggleable__control sk-hidden--visually\" id=\"sk-estimator-id-97\" type=\"checkbox\" ><label for=\"sk-estimator-id-97\" class=\"sk-toggleable__label sk-toggleable__label-arrow\">HistGradientBoostingClassifier</label><div class=\"sk-toggleable__content\"><pre>HistGradientBoostingClassifier(class_weight=&#x27;balanced&#x27;, early_stopping=True,\n",
       "                               max_iter=1000, n_iter_no_change=5,\n",
       "                               random_state=1234, scoring=&#x27;balanced_accuracy&#x27;)</pre></div></div></div></div></div></div></div></div></div></div></div></div>"
      ],
      "text/plain": [
       "RandomizedSearchCV(cv=StratifiedKFold(n_splits=3, random_state=1234, shuffle=True),\n",
       "                   estimator=Pipeline(steps=[('preprocessing',\n",
       "                                              ColumnTransformer(sparse_threshold=0,\n",
       "                                                                transformers=[('num',\n",
       "                                                                               Pipeline(steps=[('imputer',\n",
       "                                                                                                SimpleImputer(strategy='median'))]),\n",
       "                                                                               ['Community_Membership_Family',\n",
       "                                                                                'Community_Membership_Hobbies',\n",
       "                                                                                'Community_Membership_None',\n",
       "                                                                                'Community_Memb...\n",
       "                                                                             random_state=1234,\n",
       "                                                                             scoring='balanced_accuracy'))]),\n",
       "                   n_iter=200, n_jobs=-1,\n",
       "                   param_distributions={'model__learning_rate': <scipy.stats._distn_infrastructure.rv_continuous_frozen object at 0x000002AE7921E470>,\n",
       "                                        'model__min_samples_leaf': <scipy.stats._distn_infrastructure.rv_discrete_frozen object at 0x000002AE7A91A710>},\n",
       "                   random_state=1234, scoring='balanced_accuracy')"
      ]
     },
     "execution_count": 74,
     "metadata": {},
     "output_type": "execute_result"
    }
   ],
   "source": [
    "# Display pipeline\n",
    "print(\"Time taken: \", ordinal_hgb_tune9_time_taken)\n",
    "ordinal_hgb_tune9"
   ]
  },
  {
   "cell_type": "code",
   "execution_count": 75,
   "id": "d40efae2",
   "metadata": {},
   "outputs": [
    {
     "name": "stdout",
     "output_type": "stream",
     "text": [
      "Best parameters: {'model__learning_rate': 0.28520634060597605, 'model__min_samples_leaf': 5}\n",
      "Balanced accuracy with best parameters: 0.87618193793911\n"
     ]
    }
   ],
   "source": [
    "# Predict using the model with the best parameters\n",
    "y_ordinal_hgb_tune_pred = ordinal_hgb_tune.predict(X_test)\n",
    "\n",
    "# Get the best parameters\n",
    "ordinal_hgb_tune_best_params = ordinal_hgb_tune.best_params_\n",
    "print(f'Best parameters: {ordinal_hgb_tune_best_params}')\n",
    "\n",
    "# Calculate balanced accuracy for the model with the best parameters\n",
    "ordinal_hgb_tune_accuracy = balanced_accuracy_score(y_test, y_ordinal_hgb_tune_pred)\n",
    "print(f'Balanced accuracy with best parameters: {ordinal_hgb_tune_accuracy}')\n",
    "\n",
    "# Save results\n",
    "default_summary.append(\"Tune\")\n",
    "card_9_summary.append(\"AllVariables\")\n",
    "encoder_summary.append(\"OrdinalEncoder\")\n",
    "value_summary.append(ordinal_hgb_tune_accuracy)\n",
    "time_summary.append(ordinal_hgb_tune_time_taken)\n",
    "n_models_summary.append(ordinal_hgb_tune.n_iter * ordinal_hgb_tune.n_splits_)"
   ]
  },
  {
   "cell_type": "code",
   "execution_count": 76,
   "id": "b5cecc7f",
   "metadata": {},
   "outputs": [
    {
     "name": "stdout",
     "output_type": "stream",
     "text": [
      "Best parameters: {'model__learning_rate': 0.2444698195876226, 'model__min_samples_leaf': 7}\n",
      "Balanced accuracy with best parameters: 0.8777298009367682\n"
     ]
    }
   ],
   "source": [
    "# Predict using the model with the best parameters\n",
    "y_ordinal_hgb_tune_pred9 = ordinal_hgb_tune9.predict(X_test)\n",
    "\n",
    "# Get the best parameters\n",
    "ordinal_hgb_tune_best_params9 = ordinal_hgb_tune9.best_params_\n",
    "print(f'Best parameters: {ordinal_hgb_tune_best_params9}')\n",
    "\n",
    "# Calculate balanced accuracy for the model with the best parameters\n",
    "ordinal_hgb_tune_accuracy9 = balanced_accuracy_score(y_test, y_ordinal_hgb_tune_pred9)\n",
    "print(f'Balanced accuracy with best parameters: {ordinal_hgb_tune_accuracy9}')\n",
    "\n",
    "# Save results\n",
    "default_summary.append(\"Tune\")\n",
    "card_9_summary.append(\"OnlyVariablesWithCard>9\")\n",
    "encoder_summary.append(\"OrdinalEncoder\")\n",
    "value_summary.append(ordinal_hgb_tune_accuracy9)\n",
    "time_summary.append(ordinal_hgb_tune9_time_taken)\n",
    "n_models_summary.append(ordinal_hgb_tune9.n_iter * ordinal_hgb_tune9.n_splits_)"
   ]
  },
  {
   "cell_type": "markdown",
   "id": "2f8b5553",
   "metadata": {},
   "source": [
    " "
   ]
  },
  {
   "cell_type": "markdown",
   "id": "985ecffa",
   "metadata": {},
   "source": [
    "### Native HistGradientBoosting support for categorical variables\n"
   ]
  },
  {
   "cell_type": "code",
   "execution_count": 77,
   "id": "6bd403bb",
   "metadata": {},
   "outputs": [],
   "source": [
    "from sklearn.preprocessing import OrdinalEncoder"
   ]
  },
  {
   "cell_type": "markdown",
   "id": "681d104a",
   "metadata": {},
   "source": [
    "#### Preprocessing"
   ]
  },
  {
   "cell_type": "code",
   "execution_count": 78,
   "id": "2c5d7bd7",
   "metadata": {},
   "outputs": [],
   "source": [
    "cat_pipeline_more9 = Pipeline([\n",
    "    (\"imputer\", SimpleImputer(strategy = \"most_frequent\")),\n",
    "    (\"encoder\", OrdinalEncoder(dtype = int,\n",
    "                               handle_unknown = 'use_encoded_value',\n",
    "                               unknown_value = 99999,\n",
    "                               encoded_missing_value = 99999,\n",
    "                               max_categories = 254))\n",
    "])\n",
    "\n",
    "cat_pipeline_less9 = Pipeline([\n",
    "    (\"imputer\", SimpleImputer(strategy = \"most_frequent\")),\n",
    "    (\"encoder\", OneHotEncoder(drop = \"first\", handle_unknown = \"ignore\"))\n",
    "])\n",
    "\n",
    "preprop_pipeline = ColumnTransformer(\n",
    "    transformers = [(\"num\", num_pipeline, num_cols),\n",
    "                    (\"cat\", cat_pipeline_more9, cat_cols)],\n",
    "    sparse_threshold=0\n",
    ")\n",
    "\n",
    "preprop_pipeline9 = ColumnTransformer(\n",
    "    transformers = [(\"num\", num_pipeline, num_cols),\n",
    "                    (\"one_hot_encoding\", cat_pipeline_less9, cat_cols_less9),\n",
    "                    (\"ordinal_encoding\", cat_pipeline_more9, cat_cols_more9)\n",
    "                    ],\n",
    "    sparse_threshold=0\n",
    ")"
   ]
  },
  {
   "cell_type": "code",
   "execution_count": 79,
   "id": "67969826",
   "metadata": {},
   "outputs": [],
   "source": [
    "category_features_for_nativesupport = [False]*len(num_cols) + [True]*len(cat_cols)\n",
    "\n",
    "X_train_check = preprop_pipeline9.fit_transform(X_train)\n",
    "category_features_for_nativesupport9 = [False]*(X_train_check.shape[1]-len(cat_cols_more9)) + [True]*len(cat_cols_more9)"
   ]
  },
  {
   "cell_type": "code",
   "execution_count": 80,
   "id": "a0fc9a12",
   "metadata": {},
   "outputs": [],
   "source": [
    "hgb_default_categories_support = HistGradientBoostingClassifier(max_iter=1000, random_state=1234,\n",
    "                                                                early_stopping=True,\n",
    "                                                                scoring='balanced_accuracy',\n",
    "                                                                validation_fraction=0.1,\n",
    "                                                                n_iter_no_change=5,\n",
    "                                                                class_weight='balanced',\n",
    "                                                                categorical_features=category_features_for_nativesupport)\n",
    "\n",
    "hgb_default_categories_support9 = HistGradientBoostingClassifier(max_iter=1000, random_state=1234,\n",
    "                                                                 early_stopping=True,\n",
    "                                                                 scoring='balanced_accuracy',\n",
    "                                                                 validation_fraction=0.1,\n",
    "                                                                 n_iter_no_change=5,\n",
    "                                                                 class_weight='balanced',\n",
    "                                                                 categorical_features=category_features_for_nativesupport9)"
   ]
  },
  {
   "cell_type": "markdown",
   "id": "02fcc97d",
   "metadata": {},
   "source": [
    "#### Create a HistGradientBoostingClassifier model with default parameters and early stopping"
   ]
  },
  {
   "cell_type": "code",
   "execution_count": 81,
   "id": "6c468e79",
   "metadata": {},
   "outputs": [],
   "source": [
    "catsup_hgb_default_pipeline = Pipeline([('preprocessing', preprop_pipeline),\n",
    "                                        ('model', hgb_default_categories_support)])\n",
    "\n",
    "catsup_hgb_default_pipeline9 = Pipeline([('preprocessing', preprop_pipeline9),\n",
    "                                        ('model', hgb_default_categories_support9)])"
   ]
  },
  {
   "cell_type": "code",
   "execution_count": 82,
   "id": "5a99084d",
   "metadata": {},
   "outputs": [],
   "source": [
    "tic = time.time()\n",
    "\n",
    "catsup_hgb_default = catsup_hgb_default_pipeline.fit(X_train, y_train)\n",
    "\n",
    "toc = time.time()\n",
    "catsup_hgb_default_time_taken = toc-tic"
   ]
  },
  {
   "cell_type": "code",
   "execution_count": 83,
   "metadata": {},
   "outputs": [
    {
     "name": "stdout",
     "output_type": "stream",
     "text": [
      "Time taken:  0.5931806564331055\n"
     ]
    },
    {
     "data": {
      "text/html": [
       "<style>#sk-container-id-11 {color: black;}#sk-container-id-11 pre{padding: 0;}#sk-container-id-11 div.sk-toggleable {background-color: white;}#sk-container-id-11 label.sk-toggleable__label {cursor: pointer;display: block;width: 100%;margin-bottom: 0;padding: 0.3em;box-sizing: border-box;text-align: center;}#sk-container-id-11 label.sk-toggleable__label-arrow:before {content: \"▸\";float: left;margin-right: 0.25em;color: #696969;}#sk-container-id-11 label.sk-toggleable__label-arrow:hover:before {color: black;}#sk-container-id-11 div.sk-estimator:hover label.sk-toggleable__label-arrow:before {color: black;}#sk-container-id-11 div.sk-toggleable__content {max-height: 0;max-width: 0;overflow: hidden;text-align: left;background-color: #f0f8ff;}#sk-container-id-11 div.sk-toggleable__content pre {margin: 0.2em;color: black;border-radius: 0.25em;background-color: #f0f8ff;}#sk-container-id-11 input.sk-toggleable__control:checked~div.sk-toggleable__content {max-height: 200px;max-width: 100%;overflow: auto;}#sk-container-id-11 input.sk-toggleable__control:checked~label.sk-toggleable__label-arrow:before {content: \"▾\";}#sk-container-id-11 div.sk-estimator input.sk-toggleable__control:checked~label.sk-toggleable__label {background-color: #d4ebff;}#sk-container-id-11 div.sk-label input.sk-toggleable__control:checked~label.sk-toggleable__label {background-color: #d4ebff;}#sk-container-id-11 input.sk-hidden--visually {border: 0;clip: rect(1px 1px 1px 1px);clip: rect(1px, 1px, 1px, 1px);height: 1px;margin: -1px;overflow: hidden;padding: 0;position: absolute;width: 1px;}#sk-container-id-11 div.sk-estimator {font-family: monospace;background-color: #f0f8ff;border: 1px dotted black;border-radius: 0.25em;box-sizing: border-box;margin-bottom: 0.5em;}#sk-container-id-11 div.sk-estimator:hover {background-color: #d4ebff;}#sk-container-id-11 div.sk-parallel-item::after {content: \"\";width: 100%;border-bottom: 1px solid gray;flex-grow: 1;}#sk-container-id-11 div.sk-label:hover label.sk-toggleable__label {background-color: #d4ebff;}#sk-container-id-11 div.sk-serial::before {content: \"\";position: absolute;border-left: 1px solid gray;box-sizing: border-box;top: 0;bottom: 0;left: 50%;z-index: 0;}#sk-container-id-11 div.sk-serial {display: flex;flex-direction: column;align-items: center;background-color: white;padding-right: 0.2em;padding-left: 0.2em;position: relative;}#sk-container-id-11 div.sk-item {position: relative;z-index: 1;}#sk-container-id-11 div.sk-parallel {display: flex;align-items: stretch;justify-content: center;background-color: white;position: relative;}#sk-container-id-11 div.sk-item::before, #sk-container-id-11 div.sk-parallel-item::before {content: \"\";position: absolute;border-left: 1px solid gray;box-sizing: border-box;top: 0;bottom: 0;left: 50%;z-index: -1;}#sk-container-id-11 div.sk-parallel-item {display: flex;flex-direction: column;z-index: 1;position: relative;background-color: white;}#sk-container-id-11 div.sk-parallel-item:first-child::after {align-self: flex-end;width: 50%;}#sk-container-id-11 div.sk-parallel-item:last-child::after {align-self: flex-start;width: 50%;}#sk-container-id-11 div.sk-parallel-item:only-child::after {width: 0;}#sk-container-id-11 div.sk-dashed-wrapped {border: 1px dashed gray;margin: 0 0.4em 0.5em 0.4em;box-sizing: border-box;padding-bottom: 0.4em;background-color: white;}#sk-container-id-11 div.sk-label label {font-family: monospace;font-weight: bold;display: inline-block;line-height: 1.2em;}#sk-container-id-11 div.sk-label-container {text-align: center;}#sk-container-id-11 div.sk-container {/* jupyter's `normalize.less` sets `[hidden] { display: none; }` but bootstrap.min.css set `[hidden] { display: none !important; }` so we also need the `!important` here to be able to override the default hidden behavior on the sphinx rendered scikit-learn.org. See: https://github.com/scikit-learn/scikit-learn/issues/21755 */display: inline-block !important;position: relative;}#sk-container-id-11 div.sk-text-repr-fallback {display: none;}</style><div id=\"sk-container-id-11\" class=\"sk-top-container\"><div class=\"sk-text-repr-fallback\"><pre>Pipeline(steps=[(&#x27;preprocessing&#x27;,\n",
       "                 ColumnTransformer(sparse_threshold=0,\n",
       "                                   transformers=[(&#x27;num&#x27;,\n",
       "                                                  Pipeline(steps=[(&#x27;imputer&#x27;,\n",
       "                                                                   SimpleImputer(strategy=&#x27;median&#x27;))]),\n",
       "                                                  [&#x27;Community_Membership_Family&#x27;,\n",
       "                                                   &#x27;Community_Membership_Hobbies&#x27;,\n",
       "                                                   &#x27;Community_Membership_None&#x27;,\n",
       "                                                   &#x27;Community_Membership_Other&#x27;,\n",
       "                                                   &#x27;Community_Membership_Political&#x27;,\n",
       "                                                   &#x27;Community_Membership_Professional&#x27;,\n",
       "                                                   &#x27;Communi...\n",
       "                 HistGradientBoostingClassifier(categorical_features=[False,\n",
       "                                                                      False,\n",
       "                                                                      False,\n",
       "                                                                      False,\n",
       "                                                                      False,\n",
       "                                                                      False,\n",
       "                                                                      False,\n",
       "                                                                      False,\n",
       "                                                                      False,\n",
       "                                                                      False,\n",
       "                                                                      False,\n",
       "                                                                      False,\n",
       "                                                                      False,\n",
       "                                                                      False,\n",
       "                                                                      False,\n",
       "                                                                      False,\n",
       "                                                                      False,\n",
       "                                                                      False,\n",
       "                                                                      False,\n",
       "                                                                      False,\n",
       "                                                                      False,\n",
       "                                                                      False,\n",
       "                                                                      False,\n",
       "                                                                      False,\n",
       "                                                                      False,\n",
       "                                                                      False,\n",
       "                                                                      False,\n",
       "                                                                      False,\n",
       "                                                                      False,\n",
       "                                                                      False, ...],\n",
       "                                                class_weight=&#x27;balanced&#x27;,\n",
       "                                                early_stopping=True,\n",
       "                                                max_iter=1000,\n",
       "                                                n_iter_no_change=5,\n",
       "                                                random_state=1234,\n",
       "                                                scoring=&#x27;balanced_accuracy&#x27;))])</pre><b>In a Jupyter environment, please rerun this cell to show the HTML representation or trust the notebook. <br />On GitHub, the HTML representation is unable to render, please try loading this page with nbviewer.org.</b></div><div class=\"sk-container\" hidden><div class=\"sk-item sk-dashed-wrapped\"><div class=\"sk-label-container\"><div class=\"sk-label sk-toggleable\"><input class=\"sk-toggleable__control sk-hidden--visually\" id=\"sk-estimator-id-98\" type=\"checkbox\" ><label for=\"sk-estimator-id-98\" class=\"sk-toggleable__label sk-toggleable__label-arrow\">Pipeline</label><div class=\"sk-toggleable__content\"><pre>Pipeline(steps=[(&#x27;preprocessing&#x27;,\n",
       "                 ColumnTransformer(sparse_threshold=0,\n",
       "                                   transformers=[(&#x27;num&#x27;,\n",
       "                                                  Pipeline(steps=[(&#x27;imputer&#x27;,\n",
       "                                                                   SimpleImputer(strategy=&#x27;median&#x27;))]),\n",
       "                                                  [&#x27;Community_Membership_Family&#x27;,\n",
       "                                                   &#x27;Community_Membership_Hobbies&#x27;,\n",
       "                                                   &#x27;Community_Membership_None&#x27;,\n",
       "                                                   &#x27;Community_Membership_Other&#x27;,\n",
       "                                                   &#x27;Community_Membership_Political&#x27;,\n",
       "                                                   &#x27;Community_Membership_Professional&#x27;,\n",
       "                                                   &#x27;Communi...\n",
       "                 HistGradientBoostingClassifier(categorical_features=[False,\n",
       "                                                                      False,\n",
       "                                                                      False,\n",
       "                                                                      False,\n",
       "                                                                      False,\n",
       "                                                                      False,\n",
       "                                                                      False,\n",
       "                                                                      False,\n",
       "                                                                      False,\n",
       "                                                                      False,\n",
       "                                                                      False,\n",
       "                                                                      False,\n",
       "                                                                      False,\n",
       "                                                                      False,\n",
       "                                                                      False,\n",
       "                                                                      False,\n",
       "                                                                      False,\n",
       "                                                                      False,\n",
       "                                                                      False,\n",
       "                                                                      False,\n",
       "                                                                      False,\n",
       "                                                                      False,\n",
       "                                                                      False,\n",
       "                                                                      False,\n",
       "                                                                      False,\n",
       "                                                                      False,\n",
       "                                                                      False,\n",
       "                                                                      False,\n",
       "                                                                      False,\n",
       "                                                                      False, ...],\n",
       "                                                class_weight=&#x27;balanced&#x27;,\n",
       "                                                early_stopping=True,\n",
       "                                                max_iter=1000,\n",
       "                                                n_iter_no_change=5,\n",
       "                                                random_state=1234,\n",
       "                                                scoring=&#x27;balanced_accuracy&#x27;))])</pre></div></div></div><div class=\"sk-serial\"><div class=\"sk-item sk-dashed-wrapped\"><div class=\"sk-label-container\"><div class=\"sk-label sk-toggleable\"><input class=\"sk-toggleable__control sk-hidden--visually\" id=\"sk-estimator-id-99\" type=\"checkbox\" ><label for=\"sk-estimator-id-99\" class=\"sk-toggleable__label sk-toggleable__label-arrow\">preprocessing: ColumnTransformer</label><div class=\"sk-toggleable__content\"><pre>ColumnTransformer(sparse_threshold=0,\n",
       "                  transformers=[(&#x27;num&#x27;,\n",
       "                                 Pipeline(steps=[(&#x27;imputer&#x27;,\n",
       "                                                  SimpleImputer(strategy=&#x27;median&#x27;))]),\n",
       "                                 [&#x27;Community_Membership_Family&#x27;,\n",
       "                                  &#x27;Community_Membership_Hobbies&#x27;,\n",
       "                                  &#x27;Community_Membership_None&#x27;,\n",
       "                                  &#x27;Community_Membership_Other&#x27;,\n",
       "                                  &#x27;Community_Membership_Political&#x27;,\n",
       "                                  &#x27;Community_Membership_Professional&#x27;,\n",
       "                                  &#x27;Community_Membership_Religious&#x27;,\n",
       "                                  &#x27;Communi...\n",
       "                                  &#x27;Country&#x27;, &#x27;Education_Attainment&#x27;,\n",
       "                                  &#x27;Falsification_of_Information&#x27;,\n",
       "                                  &#x27;Household_Income&#x27;,\n",
       "                                  &#x27;Major_Geographical_Location&#x27;,\n",
       "                                  &#x27;Major_Occupation&#x27;, &#x27;Marital_Status&#x27;,\n",
       "                                  &#x27;Most_Import_Issue_Facing_the_Internet&#x27;,\n",
       "                                  &#x27;Opinions_on_Censorship&#x27;,\n",
       "                                  &#x27;Primary_Computing_Platform&#x27;,\n",
       "                                  &#x27;Primary_Language&#x27;,\n",
       "                                  &#x27;Primary_Place_of_WWW_Access&#x27;, &#x27;Race&#x27;,\n",
       "                                  &#x27;Registered_to_Vote&#x27;, &#x27;Sexual_Preference&#x27;,\n",
       "                                  &#x27;Web_Ordering&#x27;, &#x27;Web_Page_Creation&#x27;])])</pre></div></div></div><div class=\"sk-parallel\"><div class=\"sk-parallel-item\"><div class=\"sk-item\"><div class=\"sk-label-container\"><div class=\"sk-label sk-toggleable\"><input class=\"sk-toggleable__control sk-hidden--visually\" id=\"sk-estimator-id-100\" type=\"checkbox\" ><label for=\"sk-estimator-id-100\" class=\"sk-toggleable__label sk-toggleable__label-arrow\">num</label><div class=\"sk-toggleable__content\"><pre>[&#x27;Community_Membership_Family&#x27;, &#x27;Community_Membership_Hobbies&#x27;, &#x27;Community_Membership_None&#x27;, &#x27;Community_Membership_Other&#x27;, &#x27;Community_Membership_Political&#x27;, &#x27;Community_Membership_Professional&#x27;, &#x27;Community_Membership_Religious&#x27;, &#x27;Community_Membership_Support&#x27;, &#x27;Disability_Cognitive&#x27;, &#x27;Disability_Hearing&#x27;, &#x27;Disability_Motor&#x27;, &#x27;Disability_Not_Impaired&#x27;, &#x27;Disability_Not_Say&#x27;, &#x27;Disability_Vision&#x27;, &#x27;Gender&#x27;, &#x27;How_You_Heard_About_Survey_Banner&#x27;, &#x27;How_You_Heard_About_Survey_Friend&#x27;, &#x27;How_You_Heard_About_Survey_Mailing_List&#x27;, &#x27;How_You_Heard_About_Survey_Others&#x27;, &#x27;How_You_Heard_About_Survey_Printed_Media&#x27;, &#x27;How_You_Heard_About_Survey_Remebered&#x27;, &#x27;How_You_Heard_About_Survey_Search_Engine&#x27;, &#x27;How_You_Heard_About_Survey_Usenet_News&#x27;, &#x27;How_You_Heard_About_Survey_WWW_Page&#x27;, &#x27;Not_Purchasing_Bad_experience&#x27;, &#x27;Not_Purchasing_Bad_press&#x27;, &#x27;Not_Purchasing_Cant_find&#x27;, &#x27;Not_Purchasing_Company_policy&#x27;, &#x27;Not_Purchasing_Easier_locally&#x27;, &#x27;Not_Purchasing_Enough_info&#x27;, &#x27;Not_Purchasing_Judge_quality&#x27;, &#x27;Not_Purchasing_Never_tried&#x27;, &#x27;Not_Purchasing_No_credit&#x27;, &#x27;Not_Purchasing_Not_applicable&#x27;, &#x27;Not_Purchasing_Not_option&#x27;, &#x27;Not_Purchasing_Other&#x27;, &#x27;Not_Purchasing_Prefer_people&#x27;, &#x27;Not_Purchasing_Privacy&#x27;, &#x27;Not_Purchasing_Receipt&#x27;, &#x27;Not_Purchasing_Security&#x27;, &#x27;Not_Purchasing_Too_complicated&#x27;, &#x27;Not_Purchasing_Uncomfortable&#x27;, &#x27;Not_Purchasing_Unfamiliar_vendor&#x27;, &#x27;Who_Pays_for_Access_Dont_Know&#x27;, &#x27;Who_Pays_for_Access_Other&#x27;, &#x27;Who_Pays_for_Access_Parents&#x27;, &#x27;Who_Pays_for_Access_School&#x27;, &#x27;Who_Pays_for_Access_Self&#x27;]</pre></div></div></div><div class=\"sk-serial\"><div class=\"sk-item\"><div class=\"sk-serial\"><div class=\"sk-item\"><div class=\"sk-estimator sk-toggleable\"><input class=\"sk-toggleable__control sk-hidden--visually\" id=\"sk-estimator-id-101\" type=\"checkbox\" ><label for=\"sk-estimator-id-101\" class=\"sk-toggleable__label sk-toggleable__label-arrow\">SimpleImputer</label><div class=\"sk-toggleable__content\"><pre>SimpleImputer(strategy=&#x27;median&#x27;)</pre></div></div></div></div></div></div></div></div><div class=\"sk-parallel-item\"><div class=\"sk-item\"><div class=\"sk-label-container\"><div class=\"sk-label sk-toggleable\"><input class=\"sk-toggleable__control sk-hidden--visually\" id=\"sk-estimator-id-102\" type=\"checkbox\" ><label for=\"sk-estimator-id-102\" class=\"sk-toggleable__label sk-toggleable__label-arrow\">cat</label><div class=\"sk-toggleable__content\"><pre>[&#x27;Actual_Time&#x27;, &#x27;Community_Building&#x27;, &#x27;Country&#x27;, &#x27;Education_Attainment&#x27;, &#x27;Falsification_of_Information&#x27;, &#x27;Household_Income&#x27;, &#x27;Major_Geographical_Location&#x27;, &#x27;Major_Occupation&#x27;, &#x27;Marital_Status&#x27;, &#x27;Most_Import_Issue_Facing_the_Internet&#x27;, &#x27;Opinions_on_Censorship&#x27;, &#x27;Primary_Computing_Platform&#x27;, &#x27;Primary_Language&#x27;, &#x27;Primary_Place_of_WWW_Access&#x27;, &#x27;Race&#x27;, &#x27;Registered_to_Vote&#x27;, &#x27;Sexual_Preference&#x27;, &#x27;Web_Ordering&#x27;, &#x27;Web_Page_Creation&#x27;]</pre></div></div></div><div class=\"sk-serial\"><div class=\"sk-item\"><div class=\"sk-serial\"><div class=\"sk-item\"><div class=\"sk-estimator sk-toggleable\"><input class=\"sk-toggleable__control sk-hidden--visually\" id=\"sk-estimator-id-103\" type=\"checkbox\" ><label for=\"sk-estimator-id-103\" class=\"sk-toggleable__label sk-toggleable__label-arrow\">SimpleImputer</label><div class=\"sk-toggleable__content\"><pre>SimpleImputer(strategy=&#x27;most_frequent&#x27;)</pre></div></div></div><div class=\"sk-item\"><div class=\"sk-estimator sk-toggleable\"><input class=\"sk-toggleable__control sk-hidden--visually\" id=\"sk-estimator-id-104\" type=\"checkbox\" ><label for=\"sk-estimator-id-104\" class=\"sk-toggleable__label sk-toggleable__label-arrow\">OrdinalEncoder</label><div class=\"sk-toggleable__content\"><pre>OrdinalEncoder(dtype=&lt;class &#x27;int&#x27;&gt;, encoded_missing_value=99999,\n",
       "               handle_unknown=&#x27;use_encoded_value&#x27;, max_categories=254,\n",
       "               unknown_value=99999)</pre></div></div></div></div></div></div></div></div></div></div><div class=\"sk-item\"><div class=\"sk-estimator sk-toggleable\"><input class=\"sk-toggleable__control sk-hidden--visually\" id=\"sk-estimator-id-105\" type=\"checkbox\" ><label for=\"sk-estimator-id-105\" class=\"sk-toggleable__label sk-toggleable__label-arrow\">HistGradientBoostingClassifier</label><div class=\"sk-toggleable__content\"><pre>HistGradientBoostingClassifier(categorical_features=[False, False, False, False,\n",
       "                                                     False, False, False, False,\n",
       "                                                     False, False, False, False,\n",
       "                                                     False, False, False, False,\n",
       "                                                     False, False, False, False,\n",
       "                                                     False, False, False, False,\n",
       "                                                     False, False, False, False,\n",
       "                                                     False, False, ...],\n",
       "                               class_weight=&#x27;balanced&#x27;, early_stopping=True,\n",
       "                               max_iter=1000, n_iter_no_change=5,\n",
       "                               random_state=1234, scoring=&#x27;balanced_accuracy&#x27;)</pre></div></div></div></div></div></div></div>"
      ],
      "text/plain": [
       "Pipeline(steps=[('preprocessing',\n",
       "                 ColumnTransformer(sparse_threshold=0,\n",
       "                                   transformers=[('num',\n",
       "                                                  Pipeline(steps=[('imputer',\n",
       "                                                                   SimpleImputer(strategy='median'))]),\n",
       "                                                  ['Community_Membership_Family',\n",
       "                                                   'Community_Membership_Hobbies',\n",
       "                                                   'Community_Membership_None',\n",
       "                                                   'Community_Membership_Other',\n",
       "                                                   'Community_Membership_Political',\n",
       "                                                   'Community_Membership_Professional',\n",
       "                                                   'Communi...\n",
       "                 HistGradientBoostingClassifier(categorical_features=[False,\n",
       "                                                                      False,\n",
       "                                                                      False,\n",
       "                                                                      False,\n",
       "                                                                      False,\n",
       "                                                                      False,\n",
       "                                                                      False,\n",
       "                                                                      False,\n",
       "                                                                      False,\n",
       "                                                                      False,\n",
       "                                                                      False,\n",
       "                                                                      False,\n",
       "                                                                      False,\n",
       "                                                                      False,\n",
       "                                                                      False,\n",
       "                                                                      False,\n",
       "                                                                      False,\n",
       "                                                                      False,\n",
       "                                                                      False,\n",
       "                                                                      False,\n",
       "                                                                      False,\n",
       "                                                                      False,\n",
       "                                                                      False,\n",
       "                                                                      False,\n",
       "                                                                      False,\n",
       "                                                                      False,\n",
       "                                                                      False,\n",
       "                                                                      False,\n",
       "                                                                      False,\n",
       "                                                                      False, ...],\n",
       "                                                class_weight='balanced',\n",
       "                                                early_stopping=True,\n",
       "                                                max_iter=1000,\n",
       "                                                n_iter_no_change=5,\n",
       "                                                random_state=1234,\n",
       "                                                scoring='balanced_accuracy'))])"
      ]
     },
     "execution_count": 83,
     "metadata": {},
     "output_type": "execute_result"
    }
   ],
   "source": [
    "# Display pipeline\n",
    "print(\"Time taken: \", catsup_hgb_default_time_taken)\n",
    "catsup_hgb_default"
   ]
  },
  {
   "cell_type": "code",
   "execution_count": 84,
   "id": "6434d612",
   "metadata": {},
   "outputs": [],
   "source": [
    "tic = time.time()\n",
    "\n",
    "catsup_hgb_default9 = catsup_hgb_default_pipeline9.fit(X_train, y_train)\n",
    "\n",
    "toc = time.time()\n",
    "catsup_hgb_default9_time_taken = toc-tic"
   ]
  },
  {
   "cell_type": "code",
   "execution_count": 85,
   "metadata": {},
   "outputs": [
    {
     "name": "stdout",
     "output_type": "stream",
     "text": [
      "Time taken:  0.6893339157104492\n"
     ]
    },
    {
     "data": {
      "text/html": [
       "<style>#sk-container-id-12 {color: black;}#sk-container-id-12 pre{padding: 0;}#sk-container-id-12 div.sk-toggleable {background-color: white;}#sk-container-id-12 label.sk-toggleable__label {cursor: pointer;display: block;width: 100%;margin-bottom: 0;padding: 0.3em;box-sizing: border-box;text-align: center;}#sk-container-id-12 label.sk-toggleable__label-arrow:before {content: \"▸\";float: left;margin-right: 0.25em;color: #696969;}#sk-container-id-12 label.sk-toggleable__label-arrow:hover:before {color: black;}#sk-container-id-12 div.sk-estimator:hover label.sk-toggleable__label-arrow:before {color: black;}#sk-container-id-12 div.sk-toggleable__content {max-height: 0;max-width: 0;overflow: hidden;text-align: left;background-color: #f0f8ff;}#sk-container-id-12 div.sk-toggleable__content pre {margin: 0.2em;color: black;border-radius: 0.25em;background-color: #f0f8ff;}#sk-container-id-12 input.sk-toggleable__control:checked~div.sk-toggleable__content {max-height: 200px;max-width: 100%;overflow: auto;}#sk-container-id-12 input.sk-toggleable__control:checked~label.sk-toggleable__label-arrow:before {content: \"▾\";}#sk-container-id-12 div.sk-estimator input.sk-toggleable__control:checked~label.sk-toggleable__label {background-color: #d4ebff;}#sk-container-id-12 div.sk-label input.sk-toggleable__control:checked~label.sk-toggleable__label {background-color: #d4ebff;}#sk-container-id-12 input.sk-hidden--visually {border: 0;clip: rect(1px 1px 1px 1px);clip: rect(1px, 1px, 1px, 1px);height: 1px;margin: -1px;overflow: hidden;padding: 0;position: absolute;width: 1px;}#sk-container-id-12 div.sk-estimator {font-family: monospace;background-color: #f0f8ff;border: 1px dotted black;border-radius: 0.25em;box-sizing: border-box;margin-bottom: 0.5em;}#sk-container-id-12 div.sk-estimator:hover {background-color: #d4ebff;}#sk-container-id-12 div.sk-parallel-item::after {content: \"\";width: 100%;border-bottom: 1px solid gray;flex-grow: 1;}#sk-container-id-12 div.sk-label:hover label.sk-toggleable__label {background-color: #d4ebff;}#sk-container-id-12 div.sk-serial::before {content: \"\";position: absolute;border-left: 1px solid gray;box-sizing: border-box;top: 0;bottom: 0;left: 50%;z-index: 0;}#sk-container-id-12 div.sk-serial {display: flex;flex-direction: column;align-items: center;background-color: white;padding-right: 0.2em;padding-left: 0.2em;position: relative;}#sk-container-id-12 div.sk-item {position: relative;z-index: 1;}#sk-container-id-12 div.sk-parallel {display: flex;align-items: stretch;justify-content: center;background-color: white;position: relative;}#sk-container-id-12 div.sk-item::before, #sk-container-id-12 div.sk-parallel-item::before {content: \"\";position: absolute;border-left: 1px solid gray;box-sizing: border-box;top: 0;bottom: 0;left: 50%;z-index: -1;}#sk-container-id-12 div.sk-parallel-item {display: flex;flex-direction: column;z-index: 1;position: relative;background-color: white;}#sk-container-id-12 div.sk-parallel-item:first-child::after {align-self: flex-end;width: 50%;}#sk-container-id-12 div.sk-parallel-item:last-child::after {align-self: flex-start;width: 50%;}#sk-container-id-12 div.sk-parallel-item:only-child::after {width: 0;}#sk-container-id-12 div.sk-dashed-wrapped {border: 1px dashed gray;margin: 0 0.4em 0.5em 0.4em;box-sizing: border-box;padding-bottom: 0.4em;background-color: white;}#sk-container-id-12 div.sk-label label {font-family: monospace;font-weight: bold;display: inline-block;line-height: 1.2em;}#sk-container-id-12 div.sk-label-container {text-align: center;}#sk-container-id-12 div.sk-container {/* jupyter's `normalize.less` sets `[hidden] { display: none; }` but bootstrap.min.css set `[hidden] { display: none !important; }` so we also need the `!important` here to be able to override the default hidden behavior on the sphinx rendered scikit-learn.org. See: https://github.com/scikit-learn/scikit-learn/issues/21755 */display: inline-block !important;position: relative;}#sk-container-id-12 div.sk-text-repr-fallback {display: none;}</style><div id=\"sk-container-id-12\" class=\"sk-top-container\"><div class=\"sk-text-repr-fallback\"><pre>Pipeline(steps=[(&#x27;preprocessing&#x27;,\n",
       "                 ColumnTransformer(sparse_threshold=0,\n",
       "                                   transformers=[(&#x27;num&#x27;,\n",
       "                                                  Pipeline(steps=[(&#x27;imputer&#x27;,\n",
       "                                                                   SimpleImputer(strategy=&#x27;median&#x27;))]),\n",
       "                                                  [&#x27;Community_Membership_Family&#x27;,\n",
       "                                                   &#x27;Community_Membership_Hobbies&#x27;,\n",
       "                                                   &#x27;Community_Membership_None&#x27;,\n",
       "                                                   &#x27;Community_Membership_Other&#x27;,\n",
       "                                                   &#x27;Community_Membership_Political&#x27;,\n",
       "                                                   &#x27;Community_Membership_Professional&#x27;,\n",
       "                                                   &#x27;Communi...\n",
       "                 HistGradientBoostingClassifier(categorical_features=[False,\n",
       "                                                                      False,\n",
       "                                                                      False,\n",
       "                                                                      False,\n",
       "                                                                      False,\n",
       "                                                                      False,\n",
       "                                                                      False,\n",
       "                                                                      False,\n",
       "                                                                      False,\n",
       "                                                                      False,\n",
       "                                                                      False,\n",
       "                                                                      False,\n",
       "                                                                      False,\n",
       "                                                                      False,\n",
       "                                                                      False,\n",
       "                                                                      False,\n",
       "                                                                      False,\n",
       "                                                                      False,\n",
       "                                                                      False,\n",
       "                                                                      False,\n",
       "                                                                      False,\n",
       "                                                                      False,\n",
       "                                                                      False,\n",
       "                                                                      False,\n",
       "                                                                      False,\n",
       "                                                                      False,\n",
       "                                                                      False,\n",
       "                                                                      False,\n",
       "                                                                      False,\n",
       "                                                                      False, ...],\n",
       "                                                class_weight=&#x27;balanced&#x27;,\n",
       "                                                early_stopping=True,\n",
       "                                                max_iter=1000,\n",
       "                                                n_iter_no_change=5,\n",
       "                                                random_state=1234,\n",
       "                                                scoring=&#x27;balanced_accuracy&#x27;))])</pre><b>In a Jupyter environment, please rerun this cell to show the HTML representation or trust the notebook. <br />On GitHub, the HTML representation is unable to render, please try loading this page with nbviewer.org.</b></div><div class=\"sk-container\" hidden><div class=\"sk-item sk-dashed-wrapped\"><div class=\"sk-label-container\"><div class=\"sk-label sk-toggleable\"><input class=\"sk-toggleable__control sk-hidden--visually\" id=\"sk-estimator-id-106\" type=\"checkbox\" ><label for=\"sk-estimator-id-106\" class=\"sk-toggleable__label sk-toggleable__label-arrow\">Pipeline</label><div class=\"sk-toggleable__content\"><pre>Pipeline(steps=[(&#x27;preprocessing&#x27;,\n",
       "                 ColumnTransformer(sparse_threshold=0,\n",
       "                                   transformers=[(&#x27;num&#x27;,\n",
       "                                                  Pipeline(steps=[(&#x27;imputer&#x27;,\n",
       "                                                                   SimpleImputer(strategy=&#x27;median&#x27;))]),\n",
       "                                                  [&#x27;Community_Membership_Family&#x27;,\n",
       "                                                   &#x27;Community_Membership_Hobbies&#x27;,\n",
       "                                                   &#x27;Community_Membership_None&#x27;,\n",
       "                                                   &#x27;Community_Membership_Other&#x27;,\n",
       "                                                   &#x27;Community_Membership_Political&#x27;,\n",
       "                                                   &#x27;Community_Membership_Professional&#x27;,\n",
       "                                                   &#x27;Communi...\n",
       "                 HistGradientBoostingClassifier(categorical_features=[False,\n",
       "                                                                      False,\n",
       "                                                                      False,\n",
       "                                                                      False,\n",
       "                                                                      False,\n",
       "                                                                      False,\n",
       "                                                                      False,\n",
       "                                                                      False,\n",
       "                                                                      False,\n",
       "                                                                      False,\n",
       "                                                                      False,\n",
       "                                                                      False,\n",
       "                                                                      False,\n",
       "                                                                      False,\n",
       "                                                                      False,\n",
       "                                                                      False,\n",
       "                                                                      False,\n",
       "                                                                      False,\n",
       "                                                                      False,\n",
       "                                                                      False,\n",
       "                                                                      False,\n",
       "                                                                      False,\n",
       "                                                                      False,\n",
       "                                                                      False,\n",
       "                                                                      False,\n",
       "                                                                      False,\n",
       "                                                                      False,\n",
       "                                                                      False,\n",
       "                                                                      False,\n",
       "                                                                      False, ...],\n",
       "                                                class_weight=&#x27;balanced&#x27;,\n",
       "                                                early_stopping=True,\n",
       "                                                max_iter=1000,\n",
       "                                                n_iter_no_change=5,\n",
       "                                                random_state=1234,\n",
       "                                                scoring=&#x27;balanced_accuracy&#x27;))])</pre></div></div></div><div class=\"sk-serial\"><div class=\"sk-item sk-dashed-wrapped\"><div class=\"sk-label-container\"><div class=\"sk-label sk-toggleable\"><input class=\"sk-toggleable__control sk-hidden--visually\" id=\"sk-estimator-id-107\" type=\"checkbox\" ><label for=\"sk-estimator-id-107\" class=\"sk-toggleable__label sk-toggleable__label-arrow\">preprocessing: ColumnTransformer</label><div class=\"sk-toggleable__content\"><pre>ColumnTransformer(sparse_threshold=0,\n",
       "                  transformers=[(&#x27;num&#x27;,\n",
       "                                 Pipeline(steps=[(&#x27;imputer&#x27;,\n",
       "                                                  SimpleImputer(strategy=&#x27;median&#x27;))]),\n",
       "                                 [&#x27;Community_Membership_Family&#x27;,\n",
       "                                  &#x27;Community_Membership_Hobbies&#x27;,\n",
       "                                  &#x27;Community_Membership_None&#x27;,\n",
       "                                  &#x27;Community_Membership_Other&#x27;,\n",
       "                                  &#x27;Community_Membership_Political&#x27;,\n",
       "                                  &#x27;Community_Membership_Professional&#x27;,\n",
       "                                  &#x27;Community_Membership_Religious&#x27;,\n",
       "                                  &#x27;Communi...\n",
       "                                  &#x27;Web_Ordering&#x27;, &#x27;Web_Page_Creation&#x27;]),\n",
       "                                (&#x27;ordinal_encoding&#x27;,\n",
       "                                 Pipeline(steps=[(&#x27;imputer&#x27;,\n",
       "                                                  SimpleImputer(strategy=&#x27;most_frequent&#x27;)),\n",
       "                                                 (&#x27;encoder&#x27;,\n",
       "                                                  OrdinalEncoder(dtype=&lt;class &#x27;int&#x27;&gt;,\n",
       "                                                                 encoded_missing_value=99999,\n",
       "                                                                 handle_unknown=&#x27;use_encoded_value&#x27;,\n",
       "                                                                 max_categories=254,\n",
       "                                                                 unknown_value=99999))]),\n",
       "                                 [&#x27;Actual_Time&#x27;, &#x27;Country&#x27;,\n",
       "                                  &#x27;Major_Geographical_Location&#x27;,\n",
       "                                  &#x27;Primary_Computing_Platform&#x27;,\n",
       "                                  &#x27;Primary_Language&#x27;])])</pre></div></div></div><div class=\"sk-parallel\"><div class=\"sk-parallel-item\"><div class=\"sk-item\"><div class=\"sk-label-container\"><div class=\"sk-label sk-toggleable\"><input class=\"sk-toggleable__control sk-hidden--visually\" id=\"sk-estimator-id-108\" type=\"checkbox\" ><label for=\"sk-estimator-id-108\" class=\"sk-toggleable__label sk-toggleable__label-arrow\">num</label><div class=\"sk-toggleable__content\"><pre>[&#x27;Community_Membership_Family&#x27;, &#x27;Community_Membership_Hobbies&#x27;, &#x27;Community_Membership_None&#x27;, &#x27;Community_Membership_Other&#x27;, &#x27;Community_Membership_Political&#x27;, &#x27;Community_Membership_Professional&#x27;, &#x27;Community_Membership_Religious&#x27;, &#x27;Community_Membership_Support&#x27;, &#x27;Disability_Cognitive&#x27;, &#x27;Disability_Hearing&#x27;, &#x27;Disability_Motor&#x27;, &#x27;Disability_Not_Impaired&#x27;, &#x27;Disability_Not_Say&#x27;, &#x27;Disability_Vision&#x27;, &#x27;Gender&#x27;, &#x27;How_You_Heard_About_Survey_Banner&#x27;, &#x27;How_You_Heard_About_Survey_Friend&#x27;, &#x27;How_You_Heard_About_Survey_Mailing_List&#x27;, &#x27;How_You_Heard_About_Survey_Others&#x27;, &#x27;How_You_Heard_About_Survey_Printed_Media&#x27;, &#x27;How_You_Heard_About_Survey_Remebered&#x27;, &#x27;How_You_Heard_About_Survey_Search_Engine&#x27;, &#x27;How_You_Heard_About_Survey_Usenet_News&#x27;, &#x27;How_You_Heard_About_Survey_WWW_Page&#x27;, &#x27;Not_Purchasing_Bad_experience&#x27;, &#x27;Not_Purchasing_Bad_press&#x27;, &#x27;Not_Purchasing_Cant_find&#x27;, &#x27;Not_Purchasing_Company_policy&#x27;, &#x27;Not_Purchasing_Easier_locally&#x27;, &#x27;Not_Purchasing_Enough_info&#x27;, &#x27;Not_Purchasing_Judge_quality&#x27;, &#x27;Not_Purchasing_Never_tried&#x27;, &#x27;Not_Purchasing_No_credit&#x27;, &#x27;Not_Purchasing_Not_applicable&#x27;, &#x27;Not_Purchasing_Not_option&#x27;, &#x27;Not_Purchasing_Other&#x27;, &#x27;Not_Purchasing_Prefer_people&#x27;, &#x27;Not_Purchasing_Privacy&#x27;, &#x27;Not_Purchasing_Receipt&#x27;, &#x27;Not_Purchasing_Security&#x27;, &#x27;Not_Purchasing_Too_complicated&#x27;, &#x27;Not_Purchasing_Uncomfortable&#x27;, &#x27;Not_Purchasing_Unfamiliar_vendor&#x27;, &#x27;Who_Pays_for_Access_Dont_Know&#x27;, &#x27;Who_Pays_for_Access_Other&#x27;, &#x27;Who_Pays_for_Access_Parents&#x27;, &#x27;Who_Pays_for_Access_School&#x27;, &#x27;Who_Pays_for_Access_Self&#x27;]</pre></div></div></div><div class=\"sk-serial\"><div class=\"sk-item\"><div class=\"sk-serial\"><div class=\"sk-item\"><div class=\"sk-estimator sk-toggleable\"><input class=\"sk-toggleable__control sk-hidden--visually\" id=\"sk-estimator-id-109\" type=\"checkbox\" ><label for=\"sk-estimator-id-109\" class=\"sk-toggleable__label sk-toggleable__label-arrow\">SimpleImputer</label><div class=\"sk-toggleable__content\"><pre>SimpleImputer(strategy=&#x27;median&#x27;)</pre></div></div></div></div></div></div></div></div><div class=\"sk-parallel-item\"><div class=\"sk-item\"><div class=\"sk-label-container\"><div class=\"sk-label sk-toggleable\"><input class=\"sk-toggleable__control sk-hidden--visually\" id=\"sk-estimator-id-110\" type=\"checkbox\" ><label for=\"sk-estimator-id-110\" class=\"sk-toggleable__label sk-toggleable__label-arrow\">one_hot_encoding</label><div class=\"sk-toggleable__content\"><pre>[&#x27;Community_Building&#x27;, &#x27;Education_Attainment&#x27;, &#x27;Falsification_of_Information&#x27;, &#x27;Household_Income&#x27;, &#x27;Major_Occupation&#x27;, &#x27;Marital_Status&#x27;, &#x27;Most_Import_Issue_Facing_the_Internet&#x27;, &#x27;Opinions_on_Censorship&#x27;, &#x27;Primary_Place_of_WWW_Access&#x27;, &#x27;Race&#x27;, &#x27;Registered_to_Vote&#x27;, &#x27;Sexual_Preference&#x27;, &#x27;Web_Ordering&#x27;, &#x27;Web_Page_Creation&#x27;]</pre></div></div></div><div class=\"sk-serial\"><div class=\"sk-item\"><div class=\"sk-serial\"><div class=\"sk-item\"><div class=\"sk-estimator sk-toggleable\"><input class=\"sk-toggleable__control sk-hidden--visually\" id=\"sk-estimator-id-111\" type=\"checkbox\" ><label for=\"sk-estimator-id-111\" class=\"sk-toggleable__label sk-toggleable__label-arrow\">SimpleImputer</label><div class=\"sk-toggleable__content\"><pre>SimpleImputer(strategy=&#x27;most_frequent&#x27;)</pre></div></div></div><div class=\"sk-item\"><div class=\"sk-estimator sk-toggleable\"><input class=\"sk-toggleable__control sk-hidden--visually\" id=\"sk-estimator-id-112\" type=\"checkbox\" ><label for=\"sk-estimator-id-112\" class=\"sk-toggleable__label sk-toggleable__label-arrow\">OneHotEncoder</label><div class=\"sk-toggleable__content\"><pre>OneHotEncoder(drop=&#x27;first&#x27;, handle_unknown=&#x27;ignore&#x27;)</pre></div></div></div></div></div></div></div></div><div class=\"sk-parallel-item\"><div class=\"sk-item\"><div class=\"sk-label-container\"><div class=\"sk-label sk-toggleable\"><input class=\"sk-toggleable__control sk-hidden--visually\" id=\"sk-estimator-id-113\" type=\"checkbox\" ><label for=\"sk-estimator-id-113\" class=\"sk-toggleable__label sk-toggleable__label-arrow\">ordinal_encoding</label><div class=\"sk-toggleable__content\"><pre>[&#x27;Actual_Time&#x27;, &#x27;Country&#x27;, &#x27;Major_Geographical_Location&#x27;, &#x27;Primary_Computing_Platform&#x27;, &#x27;Primary_Language&#x27;]</pre></div></div></div><div class=\"sk-serial\"><div class=\"sk-item\"><div class=\"sk-serial\"><div class=\"sk-item\"><div class=\"sk-estimator sk-toggleable\"><input class=\"sk-toggleable__control sk-hidden--visually\" id=\"sk-estimator-id-114\" type=\"checkbox\" ><label for=\"sk-estimator-id-114\" class=\"sk-toggleable__label sk-toggleable__label-arrow\">SimpleImputer</label><div class=\"sk-toggleable__content\"><pre>SimpleImputer(strategy=&#x27;most_frequent&#x27;)</pre></div></div></div><div class=\"sk-item\"><div class=\"sk-estimator sk-toggleable\"><input class=\"sk-toggleable__control sk-hidden--visually\" id=\"sk-estimator-id-115\" type=\"checkbox\" ><label for=\"sk-estimator-id-115\" class=\"sk-toggleable__label sk-toggleable__label-arrow\">OrdinalEncoder</label><div class=\"sk-toggleable__content\"><pre>OrdinalEncoder(dtype=&lt;class &#x27;int&#x27;&gt;, encoded_missing_value=99999,\n",
       "               handle_unknown=&#x27;use_encoded_value&#x27;, max_categories=254,\n",
       "               unknown_value=99999)</pre></div></div></div></div></div></div></div></div></div></div><div class=\"sk-item\"><div class=\"sk-estimator sk-toggleable\"><input class=\"sk-toggleable__control sk-hidden--visually\" id=\"sk-estimator-id-116\" type=\"checkbox\" ><label for=\"sk-estimator-id-116\" class=\"sk-toggleable__label sk-toggleable__label-arrow\">HistGradientBoostingClassifier</label><div class=\"sk-toggleable__content\"><pre>HistGradientBoostingClassifier(categorical_features=[False, False, False, False,\n",
       "                                                     False, False, False, False,\n",
       "                                                     False, False, False, False,\n",
       "                                                     False, False, False, False,\n",
       "                                                     False, False, False, False,\n",
       "                                                     False, False, False, False,\n",
       "                                                     False, False, False, False,\n",
       "                                                     False, False, ...],\n",
       "                               class_weight=&#x27;balanced&#x27;, early_stopping=True,\n",
       "                               max_iter=1000, n_iter_no_change=5,\n",
       "                               random_state=1234, scoring=&#x27;balanced_accuracy&#x27;)</pre></div></div></div></div></div></div></div>"
      ],
      "text/plain": [
       "Pipeline(steps=[('preprocessing',\n",
       "                 ColumnTransformer(sparse_threshold=0,\n",
       "                                   transformers=[('num',\n",
       "                                                  Pipeline(steps=[('imputer',\n",
       "                                                                   SimpleImputer(strategy='median'))]),\n",
       "                                                  ['Community_Membership_Family',\n",
       "                                                   'Community_Membership_Hobbies',\n",
       "                                                   'Community_Membership_None',\n",
       "                                                   'Community_Membership_Other',\n",
       "                                                   'Community_Membership_Political',\n",
       "                                                   'Community_Membership_Professional',\n",
       "                                                   'Communi...\n",
       "                 HistGradientBoostingClassifier(categorical_features=[False,\n",
       "                                                                      False,\n",
       "                                                                      False,\n",
       "                                                                      False,\n",
       "                                                                      False,\n",
       "                                                                      False,\n",
       "                                                                      False,\n",
       "                                                                      False,\n",
       "                                                                      False,\n",
       "                                                                      False,\n",
       "                                                                      False,\n",
       "                                                                      False,\n",
       "                                                                      False,\n",
       "                                                                      False,\n",
       "                                                                      False,\n",
       "                                                                      False,\n",
       "                                                                      False,\n",
       "                                                                      False,\n",
       "                                                                      False,\n",
       "                                                                      False,\n",
       "                                                                      False,\n",
       "                                                                      False,\n",
       "                                                                      False,\n",
       "                                                                      False,\n",
       "                                                                      False,\n",
       "                                                                      False,\n",
       "                                                                      False,\n",
       "                                                                      False,\n",
       "                                                                      False,\n",
       "                                                                      False, ...],\n",
       "                                                class_weight='balanced',\n",
       "                                                early_stopping=True,\n",
       "                                                max_iter=1000,\n",
       "                                                n_iter_no_change=5,\n",
       "                                                random_state=1234,\n",
       "                                                scoring='balanced_accuracy'))])"
      ]
     },
     "execution_count": 85,
     "metadata": {},
     "output_type": "execute_result"
    }
   ],
   "source": [
    "# Display pipeline\n",
    "print(\"Time taken: \", catsup_hgb_default9_time_taken)\n",
    "catsup_hgb_default9"
   ]
  },
  {
   "cell_type": "code",
   "execution_count": 86,
   "id": "59e4912c",
   "metadata": {},
   "outputs": [
    {
     "name": "stdout",
     "output_type": "stream",
     "text": [
      "Balanced accuracy with default parameters: 0.8694415983606558\n"
     ]
    }
   ],
   "source": [
    "# Calculate balanced accuracy for the model with default parameters\n",
    "y_catsup_hgb_default_pred = catsup_hgb_default.predict(X_test)\n",
    "catsup_hgb_default_accuracy = balanced_accuracy_score(y_test, y_catsup_hgb_default_pred)\n",
    "print(f'Balanced accuracy with default parameters: {catsup_hgb_default_accuracy}')\n",
    "\n",
    "# Save results\n",
    "default_summary.append(\"Default\")\n",
    "card_9_summary.append(\"AllVariables\")\n",
    "encoder_summary.append(\"HGB_NativeSupport\")\n",
    "value_summary.append(catsup_hgb_default_accuracy)\n",
    "time_summary.append(catsup_hgb_default_time_taken)\n",
    "n_models_summary.append(1)"
   ]
  },
  {
   "cell_type": "code",
   "execution_count": 87,
   "id": "d02d126b",
   "metadata": {},
   "outputs": [
    {
     "name": "stdout",
     "output_type": "stream",
     "text": [
      "Balanced accuracy with default parameters: 0.871150468384075\n"
     ]
    }
   ],
   "source": [
    "# Calculate balanced accuracy for the model with default parameters\n",
    "y_catsup_hgb_default_pred9 = catsup_hgb_default9.predict(X_test)\n",
    "catsup_hgb_default_accuracy9 = balanced_accuracy_score(y_test, y_catsup_hgb_default_pred9)\n",
    "print(f'Balanced accuracy with default parameters: {catsup_hgb_default_accuracy9}')\n",
    "\n",
    "# Save results\n",
    "default_summary.append(\"Default\")\n",
    "card_9_summary.append(\"OnlyVariablesWithCard>9\")\n",
    "encoder_summary.append(\"HGB_NativeSupport\")\n",
    "value_summary.append(catsup_hgb_default_accuracy9)\n",
    "time_summary.append(catsup_hgb_default9_time_taken)\n",
    "n_models_summary.append(1)"
   ]
  },
  {
   "cell_type": "markdown",
   "id": "39380734",
   "metadata": {},
   "source": [
    "#### Create a HistGradientBoostingClassifier model for tuning"
   ]
  },
  {
   "cell_type": "code",
   "execution_count": 88,
   "id": "b1da0715",
   "metadata": {},
   "outputs": [],
   "source": [
    "catsup_hgb_tune = RandomizedSearchCV(estimator = catsup_hgb_default_pipeline, \n",
    "                                   param_distributions = param_distributions, \n",
    "                                   n_iter = 200,\n",
    "                                   cv = stratified_kfold,\n",
    "                                   scoring = 'balanced_accuracy', \n",
    "                                   random_state = 1234,\n",
    "                                   n_jobs = -1)\n",
    "\n",
    "catsup_hgb_tune9 = RandomizedSearchCV(estimator = catsup_hgb_default_pipeline9, \n",
    "                                   param_distributions = param_distributions, \n",
    "                                   n_iter = 200,\n",
    "                                   cv = stratified_kfold,\n",
    "                                   scoring = 'balanced_accuracy', \n",
    "                                   random_state = 1234,\n",
    "                                   n_jobs = -1)"
   ]
  },
  {
   "cell_type": "code",
   "execution_count": 89,
   "id": "9d0cffeb",
   "metadata": {
    "scrolled": false
   },
   "outputs": [],
   "source": [
    "tic = time.time() \n",
    "\n",
    "catsup_hgb_tune = catsup_hgb_tune.fit(X_train, y_train)\n",
    "\n",
    "toc = time.time()\n",
    "catsup_hgb_tune_time_taken = toc-tic"
   ]
  },
  {
   "cell_type": "code",
   "execution_count": 90,
   "metadata": {},
   "outputs": [
    {
     "name": "stdout",
     "output_type": "stream",
     "text": [
      "Time taken:  45.83363652229309\n"
     ]
    },
    {
     "data": {
      "text/html": [
       "<style>#sk-container-id-13 {color: black;}#sk-container-id-13 pre{padding: 0;}#sk-container-id-13 div.sk-toggleable {background-color: white;}#sk-container-id-13 label.sk-toggleable__label {cursor: pointer;display: block;width: 100%;margin-bottom: 0;padding: 0.3em;box-sizing: border-box;text-align: center;}#sk-container-id-13 label.sk-toggleable__label-arrow:before {content: \"▸\";float: left;margin-right: 0.25em;color: #696969;}#sk-container-id-13 label.sk-toggleable__label-arrow:hover:before {color: black;}#sk-container-id-13 div.sk-estimator:hover label.sk-toggleable__label-arrow:before {color: black;}#sk-container-id-13 div.sk-toggleable__content {max-height: 0;max-width: 0;overflow: hidden;text-align: left;background-color: #f0f8ff;}#sk-container-id-13 div.sk-toggleable__content pre {margin: 0.2em;color: black;border-radius: 0.25em;background-color: #f0f8ff;}#sk-container-id-13 input.sk-toggleable__control:checked~div.sk-toggleable__content {max-height: 200px;max-width: 100%;overflow: auto;}#sk-container-id-13 input.sk-toggleable__control:checked~label.sk-toggleable__label-arrow:before {content: \"▾\";}#sk-container-id-13 div.sk-estimator input.sk-toggleable__control:checked~label.sk-toggleable__label {background-color: #d4ebff;}#sk-container-id-13 div.sk-label input.sk-toggleable__control:checked~label.sk-toggleable__label {background-color: #d4ebff;}#sk-container-id-13 input.sk-hidden--visually {border: 0;clip: rect(1px 1px 1px 1px);clip: rect(1px, 1px, 1px, 1px);height: 1px;margin: -1px;overflow: hidden;padding: 0;position: absolute;width: 1px;}#sk-container-id-13 div.sk-estimator {font-family: monospace;background-color: #f0f8ff;border: 1px dotted black;border-radius: 0.25em;box-sizing: border-box;margin-bottom: 0.5em;}#sk-container-id-13 div.sk-estimator:hover {background-color: #d4ebff;}#sk-container-id-13 div.sk-parallel-item::after {content: \"\";width: 100%;border-bottom: 1px solid gray;flex-grow: 1;}#sk-container-id-13 div.sk-label:hover label.sk-toggleable__label {background-color: #d4ebff;}#sk-container-id-13 div.sk-serial::before {content: \"\";position: absolute;border-left: 1px solid gray;box-sizing: border-box;top: 0;bottom: 0;left: 50%;z-index: 0;}#sk-container-id-13 div.sk-serial {display: flex;flex-direction: column;align-items: center;background-color: white;padding-right: 0.2em;padding-left: 0.2em;position: relative;}#sk-container-id-13 div.sk-item {position: relative;z-index: 1;}#sk-container-id-13 div.sk-parallel {display: flex;align-items: stretch;justify-content: center;background-color: white;position: relative;}#sk-container-id-13 div.sk-item::before, #sk-container-id-13 div.sk-parallel-item::before {content: \"\";position: absolute;border-left: 1px solid gray;box-sizing: border-box;top: 0;bottom: 0;left: 50%;z-index: -1;}#sk-container-id-13 div.sk-parallel-item {display: flex;flex-direction: column;z-index: 1;position: relative;background-color: white;}#sk-container-id-13 div.sk-parallel-item:first-child::after {align-self: flex-end;width: 50%;}#sk-container-id-13 div.sk-parallel-item:last-child::after {align-self: flex-start;width: 50%;}#sk-container-id-13 div.sk-parallel-item:only-child::after {width: 0;}#sk-container-id-13 div.sk-dashed-wrapped {border: 1px dashed gray;margin: 0 0.4em 0.5em 0.4em;box-sizing: border-box;padding-bottom: 0.4em;background-color: white;}#sk-container-id-13 div.sk-label label {font-family: monospace;font-weight: bold;display: inline-block;line-height: 1.2em;}#sk-container-id-13 div.sk-label-container {text-align: center;}#sk-container-id-13 div.sk-container {/* jupyter's `normalize.less` sets `[hidden] { display: none; }` but bootstrap.min.css set `[hidden] { display: none !important; }` so we also need the `!important` here to be able to override the default hidden behavior on the sphinx rendered scikit-learn.org. See: https://github.com/scikit-learn/scikit-learn/issues/21755 */display: inline-block !important;position: relative;}#sk-container-id-13 div.sk-text-repr-fallback {display: none;}</style><div id=\"sk-container-id-13\" class=\"sk-top-container\"><div class=\"sk-text-repr-fallback\"><pre>RandomizedSearchCV(cv=StratifiedKFold(n_splits=3, random_state=1234, shuffle=True),\n",
       "                   estimator=Pipeline(steps=[(&#x27;preprocessing&#x27;,\n",
       "                                              ColumnTransformer(sparse_threshold=0,\n",
       "                                                                transformers=[(&#x27;num&#x27;,\n",
       "                                                                               Pipeline(steps=[(&#x27;imputer&#x27;,\n",
       "                                                                                                SimpleImputer(strategy=&#x27;median&#x27;))]),\n",
       "                                                                               [&#x27;Community_Membership_Family&#x27;,\n",
       "                                                                                &#x27;Community_Membership_Hobbies&#x27;,\n",
       "                                                                                &#x27;Community_Membership_None&#x27;,\n",
       "                                                                                &#x27;Community_Memb...\n",
       "                                                                             random_state=1234,\n",
       "                                                                             scoring=&#x27;balanced_accuracy&#x27;))]),\n",
       "                   n_iter=200, n_jobs=-1,\n",
       "                   param_distributions={&#x27;model__learning_rate&#x27;: &lt;scipy.stats._distn_infrastructure.rv_continuous_frozen object at 0x000002AE7921E470&gt;,\n",
       "                                        &#x27;model__min_samples_leaf&#x27;: &lt;scipy.stats._distn_infrastructure.rv_discrete_frozen object at 0x000002AE7A91A710&gt;},\n",
       "                   random_state=1234, scoring=&#x27;balanced_accuracy&#x27;)</pre><b>In a Jupyter environment, please rerun this cell to show the HTML representation or trust the notebook. <br />On GitHub, the HTML representation is unable to render, please try loading this page with nbviewer.org.</b></div><div class=\"sk-container\" hidden><div class=\"sk-item sk-dashed-wrapped\"><div class=\"sk-label-container\"><div class=\"sk-label sk-toggleable\"><input class=\"sk-toggleable__control sk-hidden--visually\" id=\"sk-estimator-id-117\" type=\"checkbox\" ><label for=\"sk-estimator-id-117\" class=\"sk-toggleable__label sk-toggleable__label-arrow\">RandomizedSearchCV</label><div class=\"sk-toggleable__content\"><pre>RandomizedSearchCV(cv=StratifiedKFold(n_splits=3, random_state=1234, shuffle=True),\n",
       "                   estimator=Pipeline(steps=[(&#x27;preprocessing&#x27;,\n",
       "                                              ColumnTransformer(sparse_threshold=0,\n",
       "                                                                transformers=[(&#x27;num&#x27;,\n",
       "                                                                               Pipeline(steps=[(&#x27;imputer&#x27;,\n",
       "                                                                                                SimpleImputer(strategy=&#x27;median&#x27;))]),\n",
       "                                                                               [&#x27;Community_Membership_Family&#x27;,\n",
       "                                                                                &#x27;Community_Membership_Hobbies&#x27;,\n",
       "                                                                                &#x27;Community_Membership_None&#x27;,\n",
       "                                                                                &#x27;Community_Memb...\n",
       "                                                                             random_state=1234,\n",
       "                                                                             scoring=&#x27;balanced_accuracy&#x27;))]),\n",
       "                   n_iter=200, n_jobs=-1,\n",
       "                   param_distributions={&#x27;model__learning_rate&#x27;: &lt;scipy.stats._distn_infrastructure.rv_continuous_frozen object at 0x000002AE7921E470&gt;,\n",
       "                                        &#x27;model__min_samples_leaf&#x27;: &lt;scipy.stats._distn_infrastructure.rv_discrete_frozen object at 0x000002AE7A91A710&gt;},\n",
       "                   random_state=1234, scoring=&#x27;balanced_accuracy&#x27;)</pre></div></div></div><div class=\"sk-parallel\"><div class=\"sk-parallel-item\"><div class=\"sk-item\"><div class=\"sk-label-container\"><div class=\"sk-label sk-toggleable\"><input class=\"sk-toggleable__control sk-hidden--visually\" id=\"sk-estimator-id-118\" type=\"checkbox\" ><label for=\"sk-estimator-id-118\" class=\"sk-toggleable__label sk-toggleable__label-arrow\">estimator: Pipeline</label><div class=\"sk-toggleable__content\"><pre>Pipeline(steps=[(&#x27;preprocessing&#x27;,\n",
       "                 ColumnTransformer(sparse_threshold=0,\n",
       "                                   transformers=[(&#x27;num&#x27;,\n",
       "                                                  Pipeline(steps=[(&#x27;imputer&#x27;,\n",
       "                                                                   SimpleImputer(strategy=&#x27;median&#x27;))]),\n",
       "                                                  [&#x27;Community_Membership_Family&#x27;,\n",
       "                                                   &#x27;Community_Membership_Hobbies&#x27;,\n",
       "                                                   &#x27;Community_Membership_None&#x27;,\n",
       "                                                   &#x27;Community_Membership_Other&#x27;,\n",
       "                                                   &#x27;Community_Membership_Political&#x27;,\n",
       "                                                   &#x27;Community_Membership_Professional&#x27;,\n",
       "                                                   &#x27;Communi...\n",
       "                 HistGradientBoostingClassifier(categorical_features=[False,\n",
       "                                                                      False,\n",
       "                                                                      False,\n",
       "                                                                      False,\n",
       "                                                                      False,\n",
       "                                                                      False,\n",
       "                                                                      False,\n",
       "                                                                      False,\n",
       "                                                                      False,\n",
       "                                                                      False,\n",
       "                                                                      False,\n",
       "                                                                      False,\n",
       "                                                                      False,\n",
       "                                                                      False,\n",
       "                                                                      False,\n",
       "                                                                      False,\n",
       "                                                                      False,\n",
       "                                                                      False,\n",
       "                                                                      False,\n",
       "                                                                      False,\n",
       "                                                                      False,\n",
       "                                                                      False,\n",
       "                                                                      False,\n",
       "                                                                      False,\n",
       "                                                                      False,\n",
       "                                                                      False,\n",
       "                                                                      False,\n",
       "                                                                      False,\n",
       "                                                                      False,\n",
       "                                                                      False, ...],\n",
       "                                                class_weight=&#x27;balanced&#x27;,\n",
       "                                                early_stopping=True,\n",
       "                                                max_iter=1000,\n",
       "                                                n_iter_no_change=5,\n",
       "                                                random_state=1234,\n",
       "                                                scoring=&#x27;balanced_accuracy&#x27;))])</pre></div></div></div><div class=\"sk-serial\"><div class=\"sk-item\"><div class=\"sk-serial\"><div class=\"sk-item sk-dashed-wrapped\"><div class=\"sk-label-container\"><div class=\"sk-label sk-toggleable\"><input class=\"sk-toggleable__control sk-hidden--visually\" id=\"sk-estimator-id-119\" type=\"checkbox\" ><label for=\"sk-estimator-id-119\" class=\"sk-toggleable__label sk-toggleable__label-arrow\">preprocessing: ColumnTransformer</label><div class=\"sk-toggleable__content\"><pre>ColumnTransformer(sparse_threshold=0,\n",
       "                  transformers=[(&#x27;num&#x27;,\n",
       "                                 Pipeline(steps=[(&#x27;imputer&#x27;,\n",
       "                                                  SimpleImputer(strategy=&#x27;median&#x27;))]),\n",
       "                                 [&#x27;Community_Membership_Family&#x27;,\n",
       "                                  &#x27;Community_Membership_Hobbies&#x27;,\n",
       "                                  &#x27;Community_Membership_None&#x27;,\n",
       "                                  &#x27;Community_Membership_Other&#x27;,\n",
       "                                  &#x27;Community_Membership_Political&#x27;,\n",
       "                                  &#x27;Community_Membership_Professional&#x27;,\n",
       "                                  &#x27;Community_Membership_Religious&#x27;,\n",
       "                                  &#x27;Communi...\n",
       "                                  &#x27;Country&#x27;, &#x27;Education_Attainment&#x27;,\n",
       "                                  &#x27;Falsification_of_Information&#x27;,\n",
       "                                  &#x27;Household_Income&#x27;,\n",
       "                                  &#x27;Major_Geographical_Location&#x27;,\n",
       "                                  &#x27;Major_Occupation&#x27;, &#x27;Marital_Status&#x27;,\n",
       "                                  &#x27;Most_Import_Issue_Facing_the_Internet&#x27;,\n",
       "                                  &#x27;Opinions_on_Censorship&#x27;,\n",
       "                                  &#x27;Primary_Computing_Platform&#x27;,\n",
       "                                  &#x27;Primary_Language&#x27;,\n",
       "                                  &#x27;Primary_Place_of_WWW_Access&#x27;, &#x27;Race&#x27;,\n",
       "                                  &#x27;Registered_to_Vote&#x27;, &#x27;Sexual_Preference&#x27;,\n",
       "                                  &#x27;Web_Ordering&#x27;, &#x27;Web_Page_Creation&#x27;])])</pre></div></div></div><div class=\"sk-parallel\"><div class=\"sk-parallel-item\"><div class=\"sk-item\"><div class=\"sk-label-container\"><div class=\"sk-label sk-toggleable\"><input class=\"sk-toggleable__control sk-hidden--visually\" id=\"sk-estimator-id-120\" type=\"checkbox\" ><label for=\"sk-estimator-id-120\" class=\"sk-toggleable__label sk-toggleable__label-arrow\">num</label><div class=\"sk-toggleable__content\"><pre>[&#x27;Community_Membership_Family&#x27;, &#x27;Community_Membership_Hobbies&#x27;, &#x27;Community_Membership_None&#x27;, &#x27;Community_Membership_Other&#x27;, &#x27;Community_Membership_Political&#x27;, &#x27;Community_Membership_Professional&#x27;, &#x27;Community_Membership_Religious&#x27;, &#x27;Community_Membership_Support&#x27;, &#x27;Disability_Cognitive&#x27;, &#x27;Disability_Hearing&#x27;, &#x27;Disability_Motor&#x27;, &#x27;Disability_Not_Impaired&#x27;, &#x27;Disability_Not_Say&#x27;, &#x27;Disability_Vision&#x27;, &#x27;Gender&#x27;, &#x27;How_You_Heard_About_Survey_Banner&#x27;, &#x27;How_You_Heard_About_Survey_Friend&#x27;, &#x27;How_You_Heard_About_Survey_Mailing_List&#x27;, &#x27;How_You_Heard_About_Survey_Others&#x27;, &#x27;How_You_Heard_About_Survey_Printed_Media&#x27;, &#x27;How_You_Heard_About_Survey_Remebered&#x27;, &#x27;How_You_Heard_About_Survey_Search_Engine&#x27;, &#x27;How_You_Heard_About_Survey_Usenet_News&#x27;, &#x27;How_You_Heard_About_Survey_WWW_Page&#x27;, &#x27;Not_Purchasing_Bad_experience&#x27;, &#x27;Not_Purchasing_Bad_press&#x27;, &#x27;Not_Purchasing_Cant_find&#x27;, &#x27;Not_Purchasing_Company_policy&#x27;, &#x27;Not_Purchasing_Easier_locally&#x27;, &#x27;Not_Purchasing_Enough_info&#x27;, &#x27;Not_Purchasing_Judge_quality&#x27;, &#x27;Not_Purchasing_Never_tried&#x27;, &#x27;Not_Purchasing_No_credit&#x27;, &#x27;Not_Purchasing_Not_applicable&#x27;, &#x27;Not_Purchasing_Not_option&#x27;, &#x27;Not_Purchasing_Other&#x27;, &#x27;Not_Purchasing_Prefer_people&#x27;, &#x27;Not_Purchasing_Privacy&#x27;, &#x27;Not_Purchasing_Receipt&#x27;, &#x27;Not_Purchasing_Security&#x27;, &#x27;Not_Purchasing_Too_complicated&#x27;, &#x27;Not_Purchasing_Uncomfortable&#x27;, &#x27;Not_Purchasing_Unfamiliar_vendor&#x27;, &#x27;Who_Pays_for_Access_Dont_Know&#x27;, &#x27;Who_Pays_for_Access_Other&#x27;, &#x27;Who_Pays_for_Access_Parents&#x27;, &#x27;Who_Pays_for_Access_School&#x27;, &#x27;Who_Pays_for_Access_Self&#x27;]</pre></div></div></div><div class=\"sk-serial\"><div class=\"sk-item\"><div class=\"sk-serial\"><div class=\"sk-item\"><div class=\"sk-estimator sk-toggleable\"><input class=\"sk-toggleable__control sk-hidden--visually\" id=\"sk-estimator-id-121\" type=\"checkbox\" ><label for=\"sk-estimator-id-121\" class=\"sk-toggleable__label sk-toggleable__label-arrow\">SimpleImputer</label><div class=\"sk-toggleable__content\"><pre>SimpleImputer(strategy=&#x27;median&#x27;)</pre></div></div></div></div></div></div></div></div><div class=\"sk-parallel-item\"><div class=\"sk-item\"><div class=\"sk-label-container\"><div class=\"sk-label sk-toggleable\"><input class=\"sk-toggleable__control sk-hidden--visually\" id=\"sk-estimator-id-122\" type=\"checkbox\" ><label for=\"sk-estimator-id-122\" class=\"sk-toggleable__label sk-toggleable__label-arrow\">cat</label><div class=\"sk-toggleable__content\"><pre>[&#x27;Actual_Time&#x27;, &#x27;Community_Building&#x27;, &#x27;Country&#x27;, &#x27;Education_Attainment&#x27;, &#x27;Falsification_of_Information&#x27;, &#x27;Household_Income&#x27;, &#x27;Major_Geographical_Location&#x27;, &#x27;Major_Occupation&#x27;, &#x27;Marital_Status&#x27;, &#x27;Most_Import_Issue_Facing_the_Internet&#x27;, &#x27;Opinions_on_Censorship&#x27;, &#x27;Primary_Computing_Platform&#x27;, &#x27;Primary_Language&#x27;, &#x27;Primary_Place_of_WWW_Access&#x27;, &#x27;Race&#x27;, &#x27;Registered_to_Vote&#x27;, &#x27;Sexual_Preference&#x27;, &#x27;Web_Ordering&#x27;, &#x27;Web_Page_Creation&#x27;]</pre></div></div></div><div class=\"sk-serial\"><div class=\"sk-item\"><div class=\"sk-serial\"><div class=\"sk-item\"><div class=\"sk-estimator sk-toggleable\"><input class=\"sk-toggleable__control sk-hidden--visually\" id=\"sk-estimator-id-123\" type=\"checkbox\" ><label for=\"sk-estimator-id-123\" class=\"sk-toggleable__label sk-toggleable__label-arrow\">SimpleImputer</label><div class=\"sk-toggleable__content\"><pre>SimpleImputer(strategy=&#x27;most_frequent&#x27;)</pre></div></div></div><div class=\"sk-item\"><div class=\"sk-estimator sk-toggleable\"><input class=\"sk-toggleable__control sk-hidden--visually\" id=\"sk-estimator-id-124\" type=\"checkbox\" ><label for=\"sk-estimator-id-124\" class=\"sk-toggleable__label sk-toggleable__label-arrow\">OrdinalEncoder</label><div class=\"sk-toggleable__content\"><pre>OrdinalEncoder(dtype=&lt;class &#x27;int&#x27;&gt;, encoded_missing_value=99999,\n",
       "               handle_unknown=&#x27;use_encoded_value&#x27;, max_categories=254,\n",
       "               unknown_value=99999)</pre></div></div></div></div></div></div></div></div></div></div><div class=\"sk-item\"><div class=\"sk-estimator sk-toggleable\"><input class=\"sk-toggleable__control sk-hidden--visually\" id=\"sk-estimator-id-125\" type=\"checkbox\" ><label for=\"sk-estimator-id-125\" class=\"sk-toggleable__label sk-toggleable__label-arrow\">HistGradientBoostingClassifier</label><div class=\"sk-toggleable__content\"><pre>HistGradientBoostingClassifier(categorical_features=[False, False, False, False,\n",
       "                                                     False, False, False, False,\n",
       "                                                     False, False, False, False,\n",
       "                                                     False, False, False, False,\n",
       "                                                     False, False, False, False,\n",
       "                                                     False, False, False, False,\n",
       "                                                     False, False, False, False,\n",
       "                                                     False, False, ...],\n",
       "                               class_weight=&#x27;balanced&#x27;, early_stopping=True,\n",
       "                               max_iter=1000, n_iter_no_change=5,\n",
       "                               random_state=1234, scoring=&#x27;balanced_accuracy&#x27;)</pre></div></div></div></div></div></div></div></div></div></div></div></div>"
      ],
      "text/plain": [
       "RandomizedSearchCV(cv=StratifiedKFold(n_splits=3, random_state=1234, shuffle=True),\n",
       "                   estimator=Pipeline(steps=[('preprocessing',\n",
       "                                              ColumnTransformer(sparse_threshold=0,\n",
       "                                                                transformers=[('num',\n",
       "                                                                               Pipeline(steps=[('imputer',\n",
       "                                                                                                SimpleImputer(strategy='median'))]),\n",
       "                                                                               ['Community_Membership_Family',\n",
       "                                                                                'Community_Membership_Hobbies',\n",
       "                                                                                'Community_Membership_None',\n",
       "                                                                                'Community_Memb...\n",
       "                                                                             random_state=1234,\n",
       "                                                                             scoring='balanced_accuracy'))]),\n",
       "                   n_iter=200, n_jobs=-1,\n",
       "                   param_distributions={'model__learning_rate': <scipy.stats._distn_infrastructure.rv_continuous_frozen object at 0x000002AE7921E470>,\n",
       "                                        'model__min_samples_leaf': <scipy.stats._distn_infrastructure.rv_discrete_frozen object at 0x000002AE7A91A710>},\n",
       "                   random_state=1234, scoring='balanced_accuracy')"
      ]
     },
     "execution_count": 90,
     "metadata": {},
     "output_type": "execute_result"
    }
   ],
   "source": [
    "# Display pipeline\n",
    "print(\"Time taken: \", catsup_hgb_tune_time_taken)\n",
    "catsup_hgb_tune"
   ]
  },
  {
   "cell_type": "code",
   "execution_count": 91,
   "id": "6a80e003",
   "metadata": {},
   "outputs": [],
   "source": [
    "tic = time.time() \n",
    "\n",
    "catsup_hgb_tune9 = catsup_hgb_tune9.fit(X_train, y_train)\n",
    "\n",
    "toc = time.time()\n",
    "catsup_hgb_tune9_time_taken = toc-tic"
   ]
  },
  {
   "cell_type": "code",
   "execution_count": 92,
   "metadata": {},
   "outputs": [
    {
     "name": "stdout",
     "output_type": "stream",
     "text": [
      "Time taken:  52.047276735305786\n"
     ]
    },
    {
     "data": {
      "text/html": [
       "<style>#sk-container-id-14 {color: black;}#sk-container-id-14 pre{padding: 0;}#sk-container-id-14 div.sk-toggleable {background-color: white;}#sk-container-id-14 label.sk-toggleable__label {cursor: pointer;display: block;width: 100%;margin-bottom: 0;padding: 0.3em;box-sizing: border-box;text-align: center;}#sk-container-id-14 label.sk-toggleable__label-arrow:before {content: \"▸\";float: left;margin-right: 0.25em;color: #696969;}#sk-container-id-14 label.sk-toggleable__label-arrow:hover:before {color: black;}#sk-container-id-14 div.sk-estimator:hover label.sk-toggleable__label-arrow:before {color: black;}#sk-container-id-14 div.sk-toggleable__content {max-height: 0;max-width: 0;overflow: hidden;text-align: left;background-color: #f0f8ff;}#sk-container-id-14 div.sk-toggleable__content pre {margin: 0.2em;color: black;border-radius: 0.25em;background-color: #f0f8ff;}#sk-container-id-14 input.sk-toggleable__control:checked~div.sk-toggleable__content {max-height: 200px;max-width: 100%;overflow: auto;}#sk-container-id-14 input.sk-toggleable__control:checked~label.sk-toggleable__label-arrow:before {content: \"▾\";}#sk-container-id-14 div.sk-estimator input.sk-toggleable__control:checked~label.sk-toggleable__label {background-color: #d4ebff;}#sk-container-id-14 div.sk-label input.sk-toggleable__control:checked~label.sk-toggleable__label {background-color: #d4ebff;}#sk-container-id-14 input.sk-hidden--visually {border: 0;clip: rect(1px 1px 1px 1px);clip: rect(1px, 1px, 1px, 1px);height: 1px;margin: -1px;overflow: hidden;padding: 0;position: absolute;width: 1px;}#sk-container-id-14 div.sk-estimator {font-family: monospace;background-color: #f0f8ff;border: 1px dotted black;border-radius: 0.25em;box-sizing: border-box;margin-bottom: 0.5em;}#sk-container-id-14 div.sk-estimator:hover {background-color: #d4ebff;}#sk-container-id-14 div.sk-parallel-item::after {content: \"\";width: 100%;border-bottom: 1px solid gray;flex-grow: 1;}#sk-container-id-14 div.sk-label:hover label.sk-toggleable__label {background-color: #d4ebff;}#sk-container-id-14 div.sk-serial::before {content: \"\";position: absolute;border-left: 1px solid gray;box-sizing: border-box;top: 0;bottom: 0;left: 50%;z-index: 0;}#sk-container-id-14 div.sk-serial {display: flex;flex-direction: column;align-items: center;background-color: white;padding-right: 0.2em;padding-left: 0.2em;position: relative;}#sk-container-id-14 div.sk-item {position: relative;z-index: 1;}#sk-container-id-14 div.sk-parallel {display: flex;align-items: stretch;justify-content: center;background-color: white;position: relative;}#sk-container-id-14 div.sk-item::before, #sk-container-id-14 div.sk-parallel-item::before {content: \"\";position: absolute;border-left: 1px solid gray;box-sizing: border-box;top: 0;bottom: 0;left: 50%;z-index: -1;}#sk-container-id-14 div.sk-parallel-item {display: flex;flex-direction: column;z-index: 1;position: relative;background-color: white;}#sk-container-id-14 div.sk-parallel-item:first-child::after {align-self: flex-end;width: 50%;}#sk-container-id-14 div.sk-parallel-item:last-child::after {align-self: flex-start;width: 50%;}#sk-container-id-14 div.sk-parallel-item:only-child::after {width: 0;}#sk-container-id-14 div.sk-dashed-wrapped {border: 1px dashed gray;margin: 0 0.4em 0.5em 0.4em;box-sizing: border-box;padding-bottom: 0.4em;background-color: white;}#sk-container-id-14 div.sk-label label {font-family: monospace;font-weight: bold;display: inline-block;line-height: 1.2em;}#sk-container-id-14 div.sk-label-container {text-align: center;}#sk-container-id-14 div.sk-container {/* jupyter's `normalize.less` sets `[hidden] { display: none; }` but bootstrap.min.css set `[hidden] { display: none !important; }` so we also need the `!important` here to be able to override the default hidden behavior on the sphinx rendered scikit-learn.org. See: https://github.com/scikit-learn/scikit-learn/issues/21755 */display: inline-block !important;position: relative;}#sk-container-id-14 div.sk-text-repr-fallback {display: none;}</style><div id=\"sk-container-id-14\" class=\"sk-top-container\"><div class=\"sk-text-repr-fallback\"><pre>RandomizedSearchCV(cv=StratifiedKFold(n_splits=3, random_state=1234, shuffle=True),\n",
       "                   estimator=Pipeline(steps=[(&#x27;preprocessing&#x27;,\n",
       "                                              ColumnTransformer(sparse_threshold=0,\n",
       "                                                                transformers=[(&#x27;num&#x27;,\n",
       "                                                                               Pipeline(steps=[(&#x27;imputer&#x27;,\n",
       "                                                                                                SimpleImputer(strategy=&#x27;median&#x27;))]),\n",
       "                                                                               [&#x27;Community_Membership_Family&#x27;,\n",
       "                                                                                &#x27;Community_Membership_Hobbies&#x27;,\n",
       "                                                                                &#x27;Community_Membership_None&#x27;,\n",
       "                                                                                &#x27;Community_Memb...\n",
       "                                                                             random_state=1234,\n",
       "                                                                             scoring=&#x27;balanced_accuracy&#x27;))]),\n",
       "                   n_iter=200, n_jobs=-1,\n",
       "                   param_distributions={&#x27;model__learning_rate&#x27;: &lt;scipy.stats._distn_infrastructure.rv_continuous_frozen object at 0x000002AE7921E470&gt;,\n",
       "                                        &#x27;model__min_samples_leaf&#x27;: &lt;scipy.stats._distn_infrastructure.rv_discrete_frozen object at 0x000002AE7A91A710&gt;},\n",
       "                   random_state=1234, scoring=&#x27;balanced_accuracy&#x27;)</pre><b>In a Jupyter environment, please rerun this cell to show the HTML representation or trust the notebook. <br />On GitHub, the HTML representation is unable to render, please try loading this page with nbviewer.org.</b></div><div class=\"sk-container\" hidden><div class=\"sk-item sk-dashed-wrapped\"><div class=\"sk-label-container\"><div class=\"sk-label sk-toggleable\"><input class=\"sk-toggleable__control sk-hidden--visually\" id=\"sk-estimator-id-126\" type=\"checkbox\" ><label for=\"sk-estimator-id-126\" class=\"sk-toggleable__label sk-toggleable__label-arrow\">RandomizedSearchCV</label><div class=\"sk-toggleable__content\"><pre>RandomizedSearchCV(cv=StratifiedKFold(n_splits=3, random_state=1234, shuffle=True),\n",
       "                   estimator=Pipeline(steps=[(&#x27;preprocessing&#x27;,\n",
       "                                              ColumnTransformer(sparse_threshold=0,\n",
       "                                                                transformers=[(&#x27;num&#x27;,\n",
       "                                                                               Pipeline(steps=[(&#x27;imputer&#x27;,\n",
       "                                                                                                SimpleImputer(strategy=&#x27;median&#x27;))]),\n",
       "                                                                               [&#x27;Community_Membership_Family&#x27;,\n",
       "                                                                                &#x27;Community_Membership_Hobbies&#x27;,\n",
       "                                                                                &#x27;Community_Membership_None&#x27;,\n",
       "                                                                                &#x27;Community_Memb...\n",
       "                                                                             random_state=1234,\n",
       "                                                                             scoring=&#x27;balanced_accuracy&#x27;))]),\n",
       "                   n_iter=200, n_jobs=-1,\n",
       "                   param_distributions={&#x27;model__learning_rate&#x27;: &lt;scipy.stats._distn_infrastructure.rv_continuous_frozen object at 0x000002AE7921E470&gt;,\n",
       "                                        &#x27;model__min_samples_leaf&#x27;: &lt;scipy.stats._distn_infrastructure.rv_discrete_frozen object at 0x000002AE7A91A710&gt;},\n",
       "                   random_state=1234, scoring=&#x27;balanced_accuracy&#x27;)</pre></div></div></div><div class=\"sk-parallel\"><div class=\"sk-parallel-item\"><div class=\"sk-item\"><div class=\"sk-label-container\"><div class=\"sk-label sk-toggleable\"><input class=\"sk-toggleable__control sk-hidden--visually\" id=\"sk-estimator-id-127\" type=\"checkbox\" ><label for=\"sk-estimator-id-127\" class=\"sk-toggleable__label sk-toggleable__label-arrow\">estimator: Pipeline</label><div class=\"sk-toggleable__content\"><pre>Pipeline(steps=[(&#x27;preprocessing&#x27;,\n",
       "                 ColumnTransformer(sparse_threshold=0,\n",
       "                                   transformers=[(&#x27;num&#x27;,\n",
       "                                                  Pipeline(steps=[(&#x27;imputer&#x27;,\n",
       "                                                                   SimpleImputer(strategy=&#x27;median&#x27;))]),\n",
       "                                                  [&#x27;Community_Membership_Family&#x27;,\n",
       "                                                   &#x27;Community_Membership_Hobbies&#x27;,\n",
       "                                                   &#x27;Community_Membership_None&#x27;,\n",
       "                                                   &#x27;Community_Membership_Other&#x27;,\n",
       "                                                   &#x27;Community_Membership_Political&#x27;,\n",
       "                                                   &#x27;Community_Membership_Professional&#x27;,\n",
       "                                                   &#x27;Communi...\n",
       "                 HistGradientBoostingClassifier(categorical_features=[False,\n",
       "                                                                      False,\n",
       "                                                                      False,\n",
       "                                                                      False,\n",
       "                                                                      False,\n",
       "                                                                      False,\n",
       "                                                                      False,\n",
       "                                                                      False,\n",
       "                                                                      False,\n",
       "                                                                      False,\n",
       "                                                                      False,\n",
       "                                                                      False,\n",
       "                                                                      False,\n",
       "                                                                      False,\n",
       "                                                                      False,\n",
       "                                                                      False,\n",
       "                                                                      False,\n",
       "                                                                      False,\n",
       "                                                                      False,\n",
       "                                                                      False,\n",
       "                                                                      False,\n",
       "                                                                      False,\n",
       "                                                                      False,\n",
       "                                                                      False,\n",
       "                                                                      False,\n",
       "                                                                      False,\n",
       "                                                                      False,\n",
       "                                                                      False,\n",
       "                                                                      False,\n",
       "                                                                      False, ...],\n",
       "                                                class_weight=&#x27;balanced&#x27;,\n",
       "                                                early_stopping=True,\n",
       "                                                max_iter=1000,\n",
       "                                                n_iter_no_change=5,\n",
       "                                                random_state=1234,\n",
       "                                                scoring=&#x27;balanced_accuracy&#x27;))])</pre></div></div></div><div class=\"sk-serial\"><div class=\"sk-item\"><div class=\"sk-serial\"><div class=\"sk-item sk-dashed-wrapped\"><div class=\"sk-label-container\"><div class=\"sk-label sk-toggleable\"><input class=\"sk-toggleable__control sk-hidden--visually\" id=\"sk-estimator-id-128\" type=\"checkbox\" ><label for=\"sk-estimator-id-128\" class=\"sk-toggleable__label sk-toggleable__label-arrow\">preprocessing: ColumnTransformer</label><div class=\"sk-toggleable__content\"><pre>ColumnTransformer(sparse_threshold=0,\n",
       "                  transformers=[(&#x27;num&#x27;,\n",
       "                                 Pipeline(steps=[(&#x27;imputer&#x27;,\n",
       "                                                  SimpleImputer(strategy=&#x27;median&#x27;))]),\n",
       "                                 [&#x27;Community_Membership_Family&#x27;,\n",
       "                                  &#x27;Community_Membership_Hobbies&#x27;,\n",
       "                                  &#x27;Community_Membership_None&#x27;,\n",
       "                                  &#x27;Community_Membership_Other&#x27;,\n",
       "                                  &#x27;Community_Membership_Political&#x27;,\n",
       "                                  &#x27;Community_Membership_Professional&#x27;,\n",
       "                                  &#x27;Community_Membership_Religious&#x27;,\n",
       "                                  &#x27;Communi...\n",
       "                                  &#x27;Web_Ordering&#x27;, &#x27;Web_Page_Creation&#x27;]),\n",
       "                                (&#x27;ordinal_encoding&#x27;,\n",
       "                                 Pipeline(steps=[(&#x27;imputer&#x27;,\n",
       "                                                  SimpleImputer(strategy=&#x27;most_frequent&#x27;)),\n",
       "                                                 (&#x27;encoder&#x27;,\n",
       "                                                  OrdinalEncoder(dtype=&lt;class &#x27;int&#x27;&gt;,\n",
       "                                                                 encoded_missing_value=99999,\n",
       "                                                                 handle_unknown=&#x27;use_encoded_value&#x27;,\n",
       "                                                                 max_categories=254,\n",
       "                                                                 unknown_value=99999))]),\n",
       "                                 [&#x27;Actual_Time&#x27;, &#x27;Country&#x27;,\n",
       "                                  &#x27;Major_Geographical_Location&#x27;,\n",
       "                                  &#x27;Primary_Computing_Platform&#x27;,\n",
       "                                  &#x27;Primary_Language&#x27;])])</pre></div></div></div><div class=\"sk-parallel\"><div class=\"sk-parallel-item\"><div class=\"sk-item\"><div class=\"sk-label-container\"><div class=\"sk-label sk-toggleable\"><input class=\"sk-toggleable__control sk-hidden--visually\" id=\"sk-estimator-id-129\" type=\"checkbox\" ><label for=\"sk-estimator-id-129\" class=\"sk-toggleable__label sk-toggleable__label-arrow\">num</label><div class=\"sk-toggleable__content\"><pre>[&#x27;Community_Membership_Family&#x27;, &#x27;Community_Membership_Hobbies&#x27;, &#x27;Community_Membership_None&#x27;, &#x27;Community_Membership_Other&#x27;, &#x27;Community_Membership_Political&#x27;, &#x27;Community_Membership_Professional&#x27;, &#x27;Community_Membership_Religious&#x27;, &#x27;Community_Membership_Support&#x27;, &#x27;Disability_Cognitive&#x27;, &#x27;Disability_Hearing&#x27;, &#x27;Disability_Motor&#x27;, &#x27;Disability_Not_Impaired&#x27;, &#x27;Disability_Not_Say&#x27;, &#x27;Disability_Vision&#x27;, &#x27;Gender&#x27;, &#x27;How_You_Heard_About_Survey_Banner&#x27;, &#x27;How_You_Heard_About_Survey_Friend&#x27;, &#x27;How_You_Heard_About_Survey_Mailing_List&#x27;, &#x27;How_You_Heard_About_Survey_Others&#x27;, &#x27;How_You_Heard_About_Survey_Printed_Media&#x27;, &#x27;How_You_Heard_About_Survey_Remebered&#x27;, &#x27;How_You_Heard_About_Survey_Search_Engine&#x27;, &#x27;How_You_Heard_About_Survey_Usenet_News&#x27;, &#x27;How_You_Heard_About_Survey_WWW_Page&#x27;, &#x27;Not_Purchasing_Bad_experience&#x27;, &#x27;Not_Purchasing_Bad_press&#x27;, &#x27;Not_Purchasing_Cant_find&#x27;, &#x27;Not_Purchasing_Company_policy&#x27;, &#x27;Not_Purchasing_Easier_locally&#x27;, &#x27;Not_Purchasing_Enough_info&#x27;, &#x27;Not_Purchasing_Judge_quality&#x27;, &#x27;Not_Purchasing_Never_tried&#x27;, &#x27;Not_Purchasing_No_credit&#x27;, &#x27;Not_Purchasing_Not_applicable&#x27;, &#x27;Not_Purchasing_Not_option&#x27;, &#x27;Not_Purchasing_Other&#x27;, &#x27;Not_Purchasing_Prefer_people&#x27;, &#x27;Not_Purchasing_Privacy&#x27;, &#x27;Not_Purchasing_Receipt&#x27;, &#x27;Not_Purchasing_Security&#x27;, &#x27;Not_Purchasing_Too_complicated&#x27;, &#x27;Not_Purchasing_Uncomfortable&#x27;, &#x27;Not_Purchasing_Unfamiliar_vendor&#x27;, &#x27;Who_Pays_for_Access_Dont_Know&#x27;, &#x27;Who_Pays_for_Access_Other&#x27;, &#x27;Who_Pays_for_Access_Parents&#x27;, &#x27;Who_Pays_for_Access_School&#x27;, &#x27;Who_Pays_for_Access_Self&#x27;]</pre></div></div></div><div class=\"sk-serial\"><div class=\"sk-item\"><div class=\"sk-serial\"><div class=\"sk-item\"><div class=\"sk-estimator sk-toggleable\"><input class=\"sk-toggleable__control sk-hidden--visually\" id=\"sk-estimator-id-130\" type=\"checkbox\" ><label for=\"sk-estimator-id-130\" class=\"sk-toggleable__label sk-toggleable__label-arrow\">SimpleImputer</label><div class=\"sk-toggleable__content\"><pre>SimpleImputer(strategy=&#x27;median&#x27;)</pre></div></div></div></div></div></div></div></div><div class=\"sk-parallel-item\"><div class=\"sk-item\"><div class=\"sk-label-container\"><div class=\"sk-label sk-toggleable\"><input class=\"sk-toggleable__control sk-hidden--visually\" id=\"sk-estimator-id-131\" type=\"checkbox\" ><label for=\"sk-estimator-id-131\" class=\"sk-toggleable__label sk-toggleable__label-arrow\">one_hot_encoding</label><div class=\"sk-toggleable__content\"><pre>[&#x27;Community_Building&#x27;, &#x27;Education_Attainment&#x27;, &#x27;Falsification_of_Information&#x27;, &#x27;Household_Income&#x27;, &#x27;Major_Occupation&#x27;, &#x27;Marital_Status&#x27;, &#x27;Most_Import_Issue_Facing_the_Internet&#x27;, &#x27;Opinions_on_Censorship&#x27;, &#x27;Primary_Place_of_WWW_Access&#x27;, &#x27;Race&#x27;, &#x27;Registered_to_Vote&#x27;, &#x27;Sexual_Preference&#x27;, &#x27;Web_Ordering&#x27;, &#x27;Web_Page_Creation&#x27;]</pre></div></div></div><div class=\"sk-serial\"><div class=\"sk-item\"><div class=\"sk-serial\"><div class=\"sk-item\"><div class=\"sk-estimator sk-toggleable\"><input class=\"sk-toggleable__control sk-hidden--visually\" id=\"sk-estimator-id-132\" type=\"checkbox\" ><label for=\"sk-estimator-id-132\" class=\"sk-toggleable__label sk-toggleable__label-arrow\">SimpleImputer</label><div class=\"sk-toggleable__content\"><pre>SimpleImputer(strategy=&#x27;most_frequent&#x27;)</pre></div></div></div><div class=\"sk-item\"><div class=\"sk-estimator sk-toggleable\"><input class=\"sk-toggleable__control sk-hidden--visually\" id=\"sk-estimator-id-133\" type=\"checkbox\" ><label for=\"sk-estimator-id-133\" class=\"sk-toggleable__label sk-toggleable__label-arrow\">OneHotEncoder</label><div class=\"sk-toggleable__content\"><pre>OneHotEncoder(drop=&#x27;first&#x27;, handle_unknown=&#x27;ignore&#x27;)</pre></div></div></div></div></div></div></div></div><div class=\"sk-parallel-item\"><div class=\"sk-item\"><div class=\"sk-label-container\"><div class=\"sk-label sk-toggleable\"><input class=\"sk-toggleable__control sk-hidden--visually\" id=\"sk-estimator-id-134\" type=\"checkbox\" ><label for=\"sk-estimator-id-134\" class=\"sk-toggleable__label sk-toggleable__label-arrow\">ordinal_encoding</label><div class=\"sk-toggleable__content\"><pre>[&#x27;Actual_Time&#x27;, &#x27;Country&#x27;, &#x27;Major_Geographical_Location&#x27;, &#x27;Primary_Computing_Platform&#x27;, &#x27;Primary_Language&#x27;]</pre></div></div></div><div class=\"sk-serial\"><div class=\"sk-item\"><div class=\"sk-serial\"><div class=\"sk-item\"><div class=\"sk-estimator sk-toggleable\"><input class=\"sk-toggleable__control sk-hidden--visually\" id=\"sk-estimator-id-135\" type=\"checkbox\" ><label for=\"sk-estimator-id-135\" class=\"sk-toggleable__label sk-toggleable__label-arrow\">SimpleImputer</label><div class=\"sk-toggleable__content\"><pre>SimpleImputer(strategy=&#x27;most_frequent&#x27;)</pre></div></div></div><div class=\"sk-item\"><div class=\"sk-estimator sk-toggleable\"><input class=\"sk-toggleable__control sk-hidden--visually\" id=\"sk-estimator-id-136\" type=\"checkbox\" ><label for=\"sk-estimator-id-136\" class=\"sk-toggleable__label sk-toggleable__label-arrow\">OrdinalEncoder</label><div class=\"sk-toggleable__content\"><pre>OrdinalEncoder(dtype=&lt;class &#x27;int&#x27;&gt;, encoded_missing_value=99999,\n",
       "               handle_unknown=&#x27;use_encoded_value&#x27;, max_categories=254,\n",
       "               unknown_value=99999)</pre></div></div></div></div></div></div></div></div></div></div><div class=\"sk-item\"><div class=\"sk-estimator sk-toggleable\"><input class=\"sk-toggleable__control sk-hidden--visually\" id=\"sk-estimator-id-137\" type=\"checkbox\" ><label for=\"sk-estimator-id-137\" class=\"sk-toggleable__label sk-toggleable__label-arrow\">HistGradientBoostingClassifier</label><div class=\"sk-toggleable__content\"><pre>HistGradientBoostingClassifier(categorical_features=[False, False, False, False,\n",
       "                                                     False, False, False, False,\n",
       "                                                     False, False, False, False,\n",
       "                                                     False, False, False, False,\n",
       "                                                     False, False, False, False,\n",
       "                                                     False, False, False, False,\n",
       "                                                     False, False, False, False,\n",
       "                                                     False, False, ...],\n",
       "                               class_weight=&#x27;balanced&#x27;, early_stopping=True,\n",
       "                               max_iter=1000, n_iter_no_change=5,\n",
       "                               random_state=1234, scoring=&#x27;balanced_accuracy&#x27;)</pre></div></div></div></div></div></div></div></div></div></div></div></div>"
      ],
      "text/plain": [
       "RandomizedSearchCV(cv=StratifiedKFold(n_splits=3, random_state=1234, shuffle=True),\n",
       "                   estimator=Pipeline(steps=[('preprocessing',\n",
       "                                              ColumnTransformer(sparse_threshold=0,\n",
       "                                                                transformers=[('num',\n",
       "                                                                               Pipeline(steps=[('imputer',\n",
       "                                                                                                SimpleImputer(strategy='median'))]),\n",
       "                                                                               ['Community_Membership_Family',\n",
       "                                                                                'Community_Membership_Hobbies',\n",
       "                                                                                'Community_Membership_None',\n",
       "                                                                                'Community_Memb...\n",
       "                                                                             random_state=1234,\n",
       "                                                                             scoring='balanced_accuracy'))]),\n",
       "                   n_iter=200, n_jobs=-1,\n",
       "                   param_distributions={'model__learning_rate': <scipy.stats._distn_infrastructure.rv_continuous_frozen object at 0x000002AE7921E470>,\n",
       "                                        'model__min_samples_leaf': <scipy.stats._distn_infrastructure.rv_discrete_frozen object at 0x000002AE7A91A710>},\n",
       "                   random_state=1234, scoring='balanced_accuracy')"
      ]
     },
     "execution_count": 92,
     "metadata": {},
     "output_type": "execute_result"
    }
   ],
   "source": [
    "# Display pipeline\n",
    "print(\"Time taken: \", catsup_hgb_tune9_time_taken)\n",
    "catsup_hgb_tune9"
   ]
  },
  {
   "cell_type": "code",
   "execution_count": 93,
   "id": "0089267a",
   "metadata": {},
   "outputs": [
    {
     "name": "stdout",
     "output_type": "stream",
     "text": [
      "Best parameters: {'model__learning_rate': 0.20726553314734583, 'model__min_samples_leaf': 5}\n",
      "Balanced accuracy with best parameters: 0.8758068647540984\n"
     ]
    }
   ],
   "source": [
    "# Predict using the model with the best parameters\n",
    "y_catsup_hgb_tune_pred = catsup_hgb_tune.predict(X_test)\n",
    "\n",
    "# Get the best parameters\n",
    "catsup_hgb_tune_best_params = catsup_hgb_tune.best_params_\n",
    "print(f'Best parameters: {catsup_hgb_tune_best_params}')\n",
    "\n",
    "# Calculate balanced accuracy for the model with the best parameters\n",
    "catsup_hgb_tune_accuracy = balanced_accuracy_score(y_test, y_catsup_hgb_tune_pred)\n",
    "print(f'Balanced accuracy with best parameters: {catsup_hgb_tune_accuracy}')\n",
    "\n",
    "# Save results\n",
    "default_summary.append(\"Tune\")\n",
    "card_9_summary.append(\"AllVariables\")\n",
    "encoder_summary.append(\"HGB_NativeSupport\")\n",
    "value_summary.append(catsup_hgb_tune_accuracy)\n",
    "time_summary.append(catsup_hgb_tune_time_taken)\n",
    "n_models_summary.append(catsup_hgb_tune.n_iter * catsup_hgb_tune.n_splits_)"
   ]
  },
  {
   "cell_type": "code",
   "execution_count": 94,
   "id": "e9c4b6cd",
   "metadata": {
    "scrolled": true
   },
   "outputs": [
    {
     "name": "stdout",
     "output_type": "stream",
     "text": [
      "Best parameters: {'model__learning_rate': 0.14558572542745005, 'model__min_samples_leaf': 5}\n",
      "Balanced accuracy with best parameters: 0.878322599531616\n"
     ]
    }
   ],
   "source": [
    "# Predict using the model with the best parameters\n",
    "y_catsup_hgb_tune_pred9 = catsup_hgb_tune9.predict(X_test)\n",
    "\n",
    "# Get the best parameters\n",
    "catsup_hgb_tune_best_params9 = catsup_hgb_tune9.best_params_\n",
    "print(f'Best parameters: {catsup_hgb_tune_best_params9}')\n",
    "\n",
    "# Calculate balanced accuracy for the model with the best parameters\n",
    "catsup_hgb_tune_accuracy9 = balanced_accuracy_score(y_test, y_catsup_hgb_tune_pred9)\n",
    "print(f'Balanced accuracy with best parameters: {catsup_hgb_tune_accuracy9}')\n",
    "\n",
    "# Save results\n",
    "default_summary.append(\"Tune\")\n",
    "card_9_summary.append(\"OnlyVariablesWithCard>9\")\n",
    "encoder_summary.append(\"HGB_NativeSupport\")\n",
    "value_summary.append(catsup_hgb_tune_accuracy9)\n",
    "time_summary.append(catsup_hgb_tune9_time_taken)\n",
    "n_models_summary.append(catsup_hgb_tune9.n_iter * catsup_hgb_tune9.n_splits_)"
   ]
  },
  {
   "cell_type": "markdown",
   "id": "438f6b67",
   "metadata": {},
   "source": [
    " "
   ]
  },
  {
   "cell_type": "markdown",
   "id": "a3f4c3b4",
   "metadata": {},
   "source": [
    "### Target Encoder (scikit-learn)"
   ]
  },
  {
   "cell_type": "code",
   "execution_count": 95,
   "id": "d9290198",
   "metadata": {},
   "outputs": [],
   "source": [
    "from sklearn.preprocessing import TargetEncoder"
   ]
  },
  {
   "cell_type": "markdown",
   "id": "8c8d4972",
   "metadata": {},
   "source": [
    "#### Preprocessing"
   ]
  },
  {
   "cell_type": "code",
   "execution_count": 96,
   "id": "ecceaf49",
   "metadata": {},
   "outputs": [],
   "source": [
    "cat_pipeline_more9 = Pipeline([\n",
    "    (\"imputer\", SimpleImputer(strategy = \"most_frequent\")),\n",
    "    (\"encoder\", TargetEncoder())\n",
    "])\n",
    "\n",
    "cat_pipeline_less9 = Pipeline([\n",
    "    (\"imputer\", SimpleImputer(strategy = \"most_frequent\")),\n",
    "    (\"encoder\", OneHotEncoder(drop = \"first\", handle_unknown = \"ignore\"))\n",
    "])\n",
    "\n",
    "preprop_pipeline = ColumnTransformer(\n",
    "    transformers = [(\"num\", num_pipeline, num_cols),\n",
    "                    (\"cat\", cat_pipeline_more9, cat_cols)],\n",
    "    sparse_threshold=0\n",
    ")\n",
    "\n",
    "preprop_pipeline9 = ColumnTransformer(\n",
    "    transformers = [(\"num\", num_pipeline, num_cols),\n",
    "                    (\"one_hot_encoding\", cat_pipeline_less9, cat_cols_less9),\n",
    "                    (\"ordinal_encoding\", cat_pipeline_more9, cat_cols_more9)\n",
    "                    ],\n",
    "    sparse_threshold=0\n",
    ")"
   ]
  },
  {
   "cell_type": "markdown",
   "id": "31b4246b",
   "metadata": {},
   "source": [
    "#### Create a HistGradientBoostingClassifier model with default parameters and early stopping"
   ]
  },
  {
   "cell_type": "code",
   "execution_count": 97,
   "id": "21ad5f2b",
   "metadata": {},
   "outputs": [],
   "source": [
    "target_hgb_default_pipeline = Pipeline([('preprocessing', preprop_pipeline),\n",
    "                                       ('model', hgb_default)])\n",
    "\n",
    "target_hgb_default_pipeline9 = Pipeline([('preprocessing', preprop_pipeline9),\n",
    "                                       ('model', hgb_default9)])"
   ]
  },
  {
   "cell_type": "code",
   "execution_count": 98,
   "id": "ebaf1b23",
   "metadata": {},
   "outputs": [],
   "source": [
    "tic = time.time()\n",
    "\n",
    "target_hgb_default = target_hgb_default_pipeline.fit(X_train, y_train)\n",
    "\n",
    "toc = time.time()\n",
    "target_hgb_default_time_taken = toc-tic"
   ]
  },
  {
   "cell_type": "code",
   "execution_count": 99,
   "metadata": {},
   "outputs": [
    {
     "name": "stdout",
     "output_type": "stream",
     "text": [
      "Time taken:  1.3524248600006104\n"
     ]
    },
    {
     "data": {
      "text/html": [
       "<style>#sk-container-id-15 {color: black;}#sk-container-id-15 pre{padding: 0;}#sk-container-id-15 div.sk-toggleable {background-color: white;}#sk-container-id-15 label.sk-toggleable__label {cursor: pointer;display: block;width: 100%;margin-bottom: 0;padding: 0.3em;box-sizing: border-box;text-align: center;}#sk-container-id-15 label.sk-toggleable__label-arrow:before {content: \"▸\";float: left;margin-right: 0.25em;color: #696969;}#sk-container-id-15 label.sk-toggleable__label-arrow:hover:before {color: black;}#sk-container-id-15 div.sk-estimator:hover label.sk-toggleable__label-arrow:before {color: black;}#sk-container-id-15 div.sk-toggleable__content {max-height: 0;max-width: 0;overflow: hidden;text-align: left;background-color: #f0f8ff;}#sk-container-id-15 div.sk-toggleable__content pre {margin: 0.2em;color: black;border-radius: 0.25em;background-color: #f0f8ff;}#sk-container-id-15 input.sk-toggleable__control:checked~div.sk-toggleable__content {max-height: 200px;max-width: 100%;overflow: auto;}#sk-container-id-15 input.sk-toggleable__control:checked~label.sk-toggleable__label-arrow:before {content: \"▾\";}#sk-container-id-15 div.sk-estimator input.sk-toggleable__control:checked~label.sk-toggleable__label {background-color: #d4ebff;}#sk-container-id-15 div.sk-label input.sk-toggleable__control:checked~label.sk-toggleable__label {background-color: #d4ebff;}#sk-container-id-15 input.sk-hidden--visually {border: 0;clip: rect(1px 1px 1px 1px);clip: rect(1px, 1px, 1px, 1px);height: 1px;margin: -1px;overflow: hidden;padding: 0;position: absolute;width: 1px;}#sk-container-id-15 div.sk-estimator {font-family: monospace;background-color: #f0f8ff;border: 1px dotted black;border-radius: 0.25em;box-sizing: border-box;margin-bottom: 0.5em;}#sk-container-id-15 div.sk-estimator:hover {background-color: #d4ebff;}#sk-container-id-15 div.sk-parallel-item::after {content: \"\";width: 100%;border-bottom: 1px solid gray;flex-grow: 1;}#sk-container-id-15 div.sk-label:hover label.sk-toggleable__label {background-color: #d4ebff;}#sk-container-id-15 div.sk-serial::before {content: \"\";position: absolute;border-left: 1px solid gray;box-sizing: border-box;top: 0;bottom: 0;left: 50%;z-index: 0;}#sk-container-id-15 div.sk-serial {display: flex;flex-direction: column;align-items: center;background-color: white;padding-right: 0.2em;padding-left: 0.2em;position: relative;}#sk-container-id-15 div.sk-item {position: relative;z-index: 1;}#sk-container-id-15 div.sk-parallel {display: flex;align-items: stretch;justify-content: center;background-color: white;position: relative;}#sk-container-id-15 div.sk-item::before, #sk-container-id-15 div.sk-parallel-item::before {content: \"\";position: absolute;border-left: 1px solid gray;box-sizing: border-box;top: 0;bottom: 0;left: 50%;z-index: -1;}#sk-container-id-15 div.sk-parallel-item {display: flex;flex-direction: column;z-index: 1;position: relative;background-color: white;}#sk-container-id-15 div.sk-parallel-item:first-child::after {align-self: flex-end;width: 50%;}#sk-container-id-15 div.sk-parallel-item:last-child::after {align-self: flex-start;width: 50%;}#sk-container-id-15 div.sk-parallel-item:only-child::after {width: 0;}#sk-container-id-15 div.sk-dashed-wrapped {border: 1px dashed gray;margin: 0 0.4em 0.5em 0.4em;box-sizing: border-box;padding-bottom: 0.4em;background-color: white;}#sk-container-id-15 div.sk-label label {font-family: monospace;font-weight: bold;display: inline-block;line-height: 1.2em;}#sk-container-id-15 div.sk-label-container {text-align: center;}#sk-container-id-15 div.sk-container {/* jupyter's `normalize.less` sets `[hidden] { display: none; }` but bootstrap.min.css set `[hidden] { display: none !important; }` so we also need the `!important` here to be able to override the default hidden behavior on the sphinx rendered scikit-learn.org. See: https://github.com/scikit-learn/scikit-learn/issues/21755 */display: inline-block !important;position: relative;}#sk-container-id-15 div.sk-text-repr-fallback {display: none;}</style><div id=\"sk-container-id-15\" class=\"sk-top-container\"><div class=\"sk-text-repr-fallback\"><pre>Pipeline(steps=[(&#x27;preprocessing&#x27;,\n",
       "                 ColumnTransformer(sparse_threshold=0,\n",
       "                                   transformers=[(&#x27;num&#x27;,\n",
       "                                                  Pipeline(steps=[(&#x27;imputer&#x27;,\n",
       "                                                                   SimpleImputer(strategy=&#x27;median&#x27;))]),\n",
       "                                                  [&#x27;Community_Membership_Family&#x27;,\n",
       "                                                   &#x27;Community_Membership_Hobbies&#x27;,\n",
       "                                                   &#x27;Community_Membership_None&#x27;,\n",
       "                                                   &#x27;Community_Membership_Other&#x27;,\n",
       "                                                   &#x27;Community_Membership_Political&#x27;,\n",
       "                                                   &#x27;Community_Membership_Professional&#x27;,\n",
       "                                                   &#x27;Communi...\n",
       "                                                   &#x27;Most_Import_Issue_Facing_the_Internet&#x27;,\n",
       "                                                   &#x27;Opinions_on_Censorship&#x27;,\n",
       "                                                   &#x27;Primary_Computing_Platform&#x27;,\n",
       "                                                   &#x27;Primary_Language&#x27;,\n",
       "                                                   &#x27;Primary_Place_of_WWW_Access&#x27;,\n",
       "                                                   &#x27;Race&#x27;, &#x27;Registered_to_Vote&#x27;,\n",
       "                                                   &#x27;Sexual_Preference&#x27;,\n",
       "                                                   &#x27;Web_Ordering&#x27;,\n",
       "                                                   &#x27;Web_Page_Creation&#x27;])])),\n",
       "                (&#x27;model&#x27;,\n",
       "                 HistGradientBoostingClassifier(class_weight=&#x27;balanced&#x27;,\n",
       "                                                early_stopping=True,\n",
       "                                                n_iter_no_change=5,\n",
       "                                                random_state=1234,\n",
       "                                                scoring=&#x27;balanced_accuracy&#x27;))])</pre><b>In a Jupyter environment, please rerun this cell to show the HTML representation or trust the notebook. <br />On GitHub, the HTML representation is unable to render, please try loading this page with nbviewer.org.</b></div><div class=\"sk-container\" hidden><div class=\"sk-item sk-dashed-wrapped\"><div class=\"sk-label-container\"><div class=\"sk-label sk-toggleable\"><input class=\"sk-toggleable__control sk-hidden--visually\" id=\"sk-estimator-id-138\" type=\"checkbox\" ><label for=\"sk-estimator-id-138\" class=\"sk-toggleable__label sk-toggleable__label-arrow\">Pipeline</label><div class=\"sk-toggleable__content\"><pre>Pipeline(steps=[(&#x27;preprocessing&#x27;,\n",
       "                 ColumnTransformer(sparse_threshold=0,\n",
       "                                   transformers=[(&#x27;num&#x27;,\n",
       "                                                  Pipeline(steps=[(&#x27;imputer&#x27;,\n",
       "                                                                   SimpleImputer(strategy=&#x27;median&#x27;))]),\n",
       "                                                  [&#x27;Community_Membership_Family&#x27;,\n",
       "                                                   &#x27;Community_Membership_Hobbies&#x27;,\n",
       "                                                   &#x27;Community_Membership_None&#x27;,\n",
       "                                                   &#x27;Community_Membership_Other&#x27;,\n",
       "                                                   &#x27;Community_Membership_Political&#x27;,\n",
       "                                                   &#x27;Community_Membership_Professional&#x27;,\n",
       "                                                   &#x27;Communi...\n",
       "                                                   &#x27;Most_Import_Issue_Facing_the_Internet&#x27;,\n",
       "                                                   &#x27;Opinions_on_Censorship&#x27;,\n",
       "                                                   &#x27;Primary_Computing_Platform&#x27;,\n",
       "                                                   &#x27;Primary_Language&#x27;,\n",
       "                                                   &#x27;Primary_Place_of_WWW_Access&#x27;,\n",
       "                                                   &#x27;Race&#x27;, &#x27;Registered_to_Vote&#x27;,\n",
       "                                                   &#x27;Sexual_Preference&#x27;,\n",
       "                                                   &#x27;Web_Ordering&#x27;,\n",
       "                                                   &#x27;Web_Page_Creation&#x27;])])),\n",
       "                (&#x27;model&#x27;,\n",
       "                 HistGradientBoostingClassifier(class_weight=&#x27;balanced&#x27;,\n",
       "                                                early_stopping=True,\n",
       "                                                n_iter_no_change=5,\n",
       "                                                random_state=1234,\n",
       "                                                scoring=&#x27;balanced_accuracy&#x27;))])</pre></div></div></div><div class=\"sk-serial\"><div class=\"sk-item sk-dashed-wrapped\"><div class=\"sk-label-container\"><div class=\"sk-label sk-toggleable\"><input class=\"sk-toggleable__control sk-hidden--visually\" id=\"sk-estimator-id-139\" type=\"checkbox\" ><label for=\"sk-estimator-id-139\" class=\"sk-toggleable__label sk-toggleable__label-arrow\">preprocessing: ColumnTransformer</label><div class=\"sk-toggleable__content\"><pre>ColumnTransformer(sparse_threshold=0,\n",
       "                  transformers=[(&#x27;num&#x27;,\n",
       "                                 Pipeline(steps=[(&#x27;imputer&#x27;,\n",
       "                                                  SimpleImputer(strategy=&#x27;median&#x27;))]),\n",
       "                                 [&#x27;Community_Membership_Family&#x27;,\n",
       "                                  &#x27;Community_Membership_Hobbies&#x27;,\n",
       "                                  &#x27;Community_Membership_None&#x27;,\n",
       "                                  &#x27;Community_Membership_Other&#x27;,\n",
       "                                  &#x27;Community_Membership_Political&#x27;,\n",
       "                                  &#x27;Community_Membership_Professional&#x27;,\n",
       "                                  &#x27;Community_Membership_Religious&#x27;,\n",
       "                                  &#x27;Communi...\n",
       "                                  &#x27;Country&#x27;, &#x27;Education_Attainment&#x27;,\n",
       "                                  &#x27;Falsification_of_Information&#x27;,\n",
       "                                  &#x27;Household_Income&#x27;,\n",
       "                                  &#x27;Major_Geographical_Location&#x27;,\n",
       "                                  &#x27;Major_Occupation&#x27;, &#x27;Marital_Status&#x27;,\n",
       "                                  &#x27;Most_Import_Issue_Facing_the_Internet&#x27;,\n",
       "                                  &#x27;Opinions_on_Censorship&#x27;,\n",
       "                                  &#x27;Primary_Computing_Platform&#x27;,\n",
       "                                  &#x27;Primary_Language&#x27;,\n",
       "                                  &#x27;Primary_Place_of_WWW_Access&#x27;, &#x27;Race&#x27;,\n",
       "                                  &#x27;Registered_to_Vote&#x27;, &#x27;Sexual_Preference&#x27;,\n",
       "                                  &#x27;Web_Ordering&#x27;, &#x27;Web_Page_Creation&#x27;])])</pre></div></div></div><div class=\"sk-parallel\"><div class=\"sk-parallel-item\"><div class=\"sk-item\"><div class=\"sk-label-container\"><div class=\"sk-label sk-toggleable\"><input class=\"sk-toggleable__control sk-hidden--visually\" id=\"sk-estimator-id-140\" type=\"checkbox\" ><label for=\"sk-estimator-id-140\" class=\"sk-toggleable__label sk-toggleable__label-arrow\">num</label><div class=\"sk-toggleable__content\"><pre>[&#x27;Community_Membership_Family&#x27;, &#x27;Community_Membership_Hobbies&#x27;, &#x27;Community_Membership_None&#x27;, &#x27;Community_Membership_Other&#x27;, &#x27;Community_Membership_Political&#x27;, &#x27;Community_Membership_Professional&#x27;, &#x27;Community_Membership_Religious&#x27;, &#x27;Community_Membership_Support&#x27;, &#x27;Disability_Cognitive&#x27;, &#x27;Disability_Hearing&#x27;, &#x27;Disability_Motor&#x27;, &#x27;Disability_Not_Impaired&#x27;, &#x27;Disability_Not_Say&#x27;, &#x27;Disability_Vision&#x27;, &#x27;Gender&#x27;, &#x27;How_You_Heard_About_Survey_Banner&#x27;, &#x27;How_You_Heard_About_Survey_Friend&#x27;, &#x27;How_You_Heard_About_Survey_Mailing_List&#x27;, &#x27;How_You_Heard_About_Survey_Others&#x27;, &#x27;How_You_Heard_About_Survey_Printed_Media&#x27;, &#x27;How_You_Heard_About_Survey_Remebered&#x27;, &#x27;How_You_Heard_About_Survey_Search_Engine&#x27;, &#x27;How_You_Heard_About_Survey_Usenet_News&#x27;, &#x27;How_You_Heard_About_Survey_WWW_Page&#x27;, &#x27;Not_Purchasing_Bad_experience&#x27;, &#x27;Not_Purchasing_Bad_press&#x27;, &#x27;Not_Purchasing_Cant_find&#x27;, &#x27;Not_Purchasing_Company_policy&#x27;, &#x27;Not_Purchasing_Easier_locally&#x27;, &#x27;Not_Purchasing_Enough_info&#x27;, &#x27;Not_Purchasing_Judge_quality&#x27;, &#x27;Not_Purchasing_Never_tried&#x27;, &#x27;Not_Purchasing_No_credit&#x27;, &#x27;Not_Purchasing_Not_applicable&#x27;, &#x27;Not_Purchasing_Not_option&#x27;, &#x27;Not_Purchasing_Other&#x27;, &#x27;Not_Purchasing_Prefer_people&#x27;, &#x27;Not_Purchasing_Privacy&#x27;, &#x27;Not_Purchasing_Receipt&#x27;, &#x27;Not_Purchasing_Security&#x27;, &#x27;Not_Purchasing_Too_complicated&#x27;, &#x27;Not_Purchasing_Uncomfortable&#x27;, &#x27;Not_Purchasing_Unfamiliar_vendor&#x27;, &#x27;Who_Pays_for_Access_Dont_Know&#x27;, &#x27;Who_Pays_for_Access_Other&#x27;, &#x27;Who_Pays_for_Access_Parents&#x27;, &#x27;Who_Pays_for_Access_School&#x27;, &#x27;Who_Pays_for_Access_Self&#x27;]</pre></div></div></div><div class=\"sk-serial\"><div class=\"sk-item\"><div class=\"sk-serial\"><div class=\"sk-item\"><div class=\"sk-estimator sk-toggleable\"><input class=\"sk-toggleable__control sk-hidden--visually\" id=\"sk-estimator-id-141\" type=\"checkbox\" ><label for=\"sk-estimator-id-141\" class=\"sk-toggleable__label sk-toggleable__label-arrow\">SimpleImputer</label><div class=\"sk-toggleable__content\"><pre>SimpleImputer(strategy=&#x27;median&#x27;)</pre></div></div></div></div></div></div></div></div><div class=\"sk-parallel-item\"><div class=\"sk-item\"><div class=\"sk-label-container\"><div class=\"sk-label sk-toggleable\"><input class=\"sk-toggleable__control sk-hidden--visually\" id=\"sk-estimator-id-142\" type=\"checkbox\" ><label for=\"sk-estimator-id-142\" class=\"sk-toggleable__label sk-toggleable__label-arrow\">cat</label><div class=\"sk-toggleable__content\"><pre>[&#x27;Actual_Time&#x27;, &#x27;Community_Building&#x27;, &#x27;Country&#x27;, &#x27;Education_Attainment&#x27;, &#x27;Falsification_of_Information&#x27;, &#x27;Household_Income&#x27;, &#x27;Major_Geographical_Location&#x27;, &#x27;Major_Occupation&#x27;, &#x27;Marital_Status&#x27;, &#x27;Most_Import_Issue_Facing_the_Internet&#x27;, &#x27;Opinions_on_Censorship&#x27;, &#x27;Primary_Computing_Platform&#x27;, &#x27;Primary_Language&#x27;, &#x27;Primary_Place_of_WWW_Access&#x27;, &#x27;Race&#x27;, &#x27;Registered_to_Vote&#x27;, &#x27;Sexual_Preference&#x27;, &#x27;Web_Ordering&#x27;, &#x27;Web_Page_Creation&#x27;]</pre></div></div></div><div class=\"sk-serial\"><div class=\"sk-item\"><div class=\"sk-serial\"><div class=\"sk-item\"><div class=\"sk-estimator sk-toggleable\"><input class=\"sk-toggleable__control sk-hidden--visually\" id=\"sk-estimator-id-143\" type=\"checkbox\" ><label for=\"sk-estimator-id-143\" class=\"sk-toggleable__label sk-toggleable__label-arrow\">SimpleImputer</label><div class=\"sk-toggleable__content\"><pre>SimpleImputer(strategy=&#x27;most_frequent&#x27;)</pre></div></div></div><div class=\"sk-item\"><div class=\"sk-estimator sk-toggleable\"><input class=\"sk-toggleable__control sk-hidden--visually\" id=\"sk-estimator-id-144\" type=\"checkbox\" ><label for=\"sk-estimator-id-144\" class=\"sk-toggleable__label sk-toggleable__label-arrow\">TargetEncoder</label><div class=\"sk-toggleable__content\"><pre>TargetEncoder()</pre></div></div></div></div></div></div></div></div></div></div><div class=\"sk-item\"><div class=\"sk-estimator sk-toggleable\"><input class=\"sk-toggleable__control sk-hidden--visually\" id=\"sk-estimator-id-145\" type=\"checkbox\" ><label for=\"sk-estimator-id-145\" class=\"sk-toggleable__label sk-toggleable__label-arrow\">HistGradientBoostingClassifier</label><div class=\"sk-toggleable__content\"><pre>HistGradientBoostingClassifier(class_weight=&#x27;balanced&#x27;, early_stopping=True,\n",
       "                               n_iter_no_change=5, random_state=1234,\n",
       "                               scoring=&#x27;balanced_accuracy&#x27;)</pre></div></div></div></div></div></div></div>"
      ],
      "text/plain": [
       "Pipeline(steps=[('preprocessing',\n",
       "                 ColumnTransformer(sparse_threshold=0,\n",
       "                                   transformers=[('num',\n",
       "                                                  Pipeline(steps=[('imputer',\n",
       "                                                                   SimpleImputer(strategy='median'))]),\n",
       "                                                  ['Community_Membership_Family',\n",
       "                                                   'Community_Membership_Hobbies',\n",
       "                                                   'Community_Membership_None',\n",
       "                                                   'Community_Membership_Other',\n",
       "                                                   'Community_Membership_Political',\n",
       "                                                   'Community_Membership_Professional',\n",
       "                                                   'Communi...\n",
       "                                                   'Most_Import_Issue_Facing_the_Internet',\n",
       "                                                   'Opinions_on_Censorship',\n",
       "                                                   'Primary_Computing_Platform',\n",
       "                                                   'Primary_Language',\n",
       "                                                   'Primary_Place_of_WWW_Access',\n",
       "                                                   'Race', 'Registered_to_Vote',\n",
       "                                                   'Sexual_Preference',\n",
       "                                                   'Web_Ordering',\n",
       "                                                   'Web_Page_Creation'])])),\n",
       "                ('model',\n",
       "                 HistGradientBoostingClassifier(class_weight='balanced',\n",
       "                                                early_stopping=True,\n",
       "                                                n_iter_no_change=5,\n",
       "                                                random_state=1234,\n",
       "                                                scoring='balanced_accuracy'))])"
      ]
     },
     "execution_count": 99,
     "metadata": {},
     "output_type": "execute_result"
    }
   ],
   "source": [
    "# Display pipeline\n",
    "print(\"Time taken: \", target_hgb_default_time_taken)\n",
    "target_hgb_default"
   ]
  },
  {
   "cell_type": "code",
   "execution_count": 100,
   "id": "1b7085fe",
   "metadata": {
    "scrolled": true
   },
   "outputs": [],
   "source": [
    "tic = time.time()\n",
    "\n",
    "target_hgb_default9 = target_hgb_default_pipeline9.fit(X_train, y_train)\n",
    "\n",
    "toc = time.time()\n",
    "target_hgb_default9_time_taken = toc-tic"
   ]
  },
  {
   "cell_type": "code",
   "execution_count": 101,
   "metadata": {},
   "outputs": [
    {
     "name": "stdout",
     "output_type": "stream",
     "text": [
      "Time taken:  0.8164570331573486\n"
     ]
    },
    {
     "data": {
      "text/html": [
       "<style>#sk-container-id-16 {color: black;}#sk-container-id-16 pre{padding: 0;}#sk-container-id-16 div.sk-toggleable {background-color: white;}#sk-container-id-16 label.sk-toggleable__label {cursor: pointer;display: block;width: 100%;margin-bottom: 0;padding: 0.3em;box-sizing: border-box;text-align: center;}#sk-container-id-16 label.sk-toggleable__label-arrow:before {content: \"▸\";float: left;margin-right: 0.25em;color: #696969;}#sk-container-id-16 label.sk-toggleable__label-arrow:hover:before {color: black;}#sk-container-id-16 div.sk-estimator:hover label.sk-toggleable__label-arrow:before {color: black;}#sk-container-id-16 div.sk-toggleable__content {max-height: 0;max-width: 0;overflow: hidden;text-align: left;background-color: #f0f8ff;}#sk-container-id-16 div.sk-toggleable__content pre {margin: 0.2em;color: black;border-radius: 0.25em;background-color: #f0f8ff;}#sk-container-id-16 input.sk-toggleable__control:checked~div.sk-toggleable__content {max-height: 200px;max-width: 100%;overflow: auto;}#sk-container-id-16 input.sk-toggleable__control:checked~label.sk-toggleable__label-arrow:before {content: \"▾\";}#sk-container-id-16 div.sk-estimator input.sk-toggleable__control:checked~label.sk-toggleable__label {background-color: #d4ebff;}#sk-container-id-16 div.sk-label input.sk-toggleable__control:checked~label.sk-toggleable__label {background-color: #d4ebff;}#sk-container-id-16 input.sk-hidden--visually {border: 0;clip: rect(1px 1px 1px 1px);clip: rect(1px, 1px, 1px, 1px);height: 1px;margin: -1px;overflow: hidden;padding: 0;position: absolute;width: 1px;}#sk-container-id-16 div.sk-estimator {font-family: monospace;background-color: #f0f8ff;border: 1px dotted black;border-radius: 0.25em;box-sizing: border-box;margin-bottom: 0.5em;}#sk-container-id-16 div.sk-estimator:hover {background-color: #d4ebff;}#sk-container-id-16 div.sk-parallel-item::after {content: \"\";width: 100%;border-bottom: 1px solid gray;flex-grow: 1;}#sk-container-id-16 div.sk-label:hover label.sk-toggleable__label {background-color: #d4ebff;}#sk-container-id-16 div.sk-serial::before {content: \"\";position: absolute;border-left: 1px solid gray;box-sizing: border-box;top: 0;bottom: 0;left: 50%;z-index: 0;}#sk-container-id-16 div.sk-serial {display: flex;flex-direction: column;align-items: center;background-color: white;padding-right: 0.2em;padding-left: 0.2em;position: relative;}#sk-container-id-16 div.sk-item {position: relative;z-index: 1;}#sk-container-id-16 div.sk-parallel {display: flex;align-items: stretch;justify-content: center;background-color: white;position: relative;}#sk-container-id-16 div.sk-item::before, #sk-container-id-16 div.sk-parallel-item::before {content: \"\";position: absolute;border-left: 1px solid gray;box-sizing: border-box;top: 0;bottom: 0;left: 50%;z-index: -1;}#sk-container-id-16 div.sk-parallel-item {display: flex;flex-direction: column;z-index: 1;position: relative;background-color: white;}#sk-container-id-16 div.sk-parallel-item:first-child::after {align-self: flex-end;width: 50%;}#sk-container-id-16 div.sk-parallel-item:last-child::after {align-self: flex-start;width: 50%;}#sk-container-id-16 div.sk-parallel-item:only-child::after {width: 0;}#sk-container-id-16 div.sk-dashed-wrapped {border: 1px dashed gray;margin: 0 0.4em 0.5em 0.4em;box-sizing: border-box;padding-bottom: 0.4em;background-color: white;}#sk-container-id-16 div.sk-label label {font-family: monospace;font-weight: bold;display: inline-block;line-height: 1.2em;}#sk-container-id-16 div.sk-label-container {text-align: center;}#sk-container-id-16 div.sk-container {/* jupyter's `normalize.less` sets `[hidden] { display: none; }` but bootstrap.min.css set `[hidden] { display: none !important; }` so we also need the `!important` here to be able to override the default hidden behavior on the sphinx rendered scikit-learn.org. See: https://github.com/scikit-learn/scikit-learn/issues/21755 */display: inline-block !important;position: relative;}#sk-container-id-16 div.sk-text-repr-fallback {display: none;}</style><div id=\"sk-container-id-16\" class=\"sk-top-container\"><div class=\"sk-text-repr-fallback\"><pre>Pipeline(steps=[(&#x27;preprocessing&#x27;,\n",
       "                 ColumnTransformer(sparse_threshold=0,\n",
       "                                   transformers=[(&#x27;num&#x27;,\n",
       "                                                  Pipeline(steps=[(&#x27;imputer&#x27;,\n",
       "                                                                   SimpleImputer(strategy=&#x27;median&#x27;))]),\n",
       "                                                  [&#x27;Community_Membership_Family&#x27;,\n",
       "                                                   &#x27;Community_Membership_Hobbies&#x27;,\n",
       "                                                   &#x27;Community_Membership_None&#x27;,\n",
       "                                                   &#x27;Community_Membership_Other&#x27;,\n",
       "                                                   &#x27;Community_Membership_Political&#x27;,\n",
       "                                                   &#x27;Community_Membership_Professional&#x27;,\n",
       "                                                   &#x27;Communi...\n",
       "                                                  Pipeline(steps=[(&#x27;imputer&#x27;,\n",
       "                                                                   SimpleImputer(strategy=&#x27;most_frequent&#x27;)),\n",
       "                                                                  (&#x27;encoder&#x27;,\n",
       "                                                                   TargetEncoder())]),\n",
       "                                                  [&#x27;Actual_Time&#x27;, &#x27;Country&#x27;,\n",
       "                                                   &#x27;Major_Geographical_Location&#x27;,\n",
       "                                                   &#x27;Primary_Computing_Platform&#x27;,\n",
       "                                                   &#x27;Primary_Language&#x27;])])),\n",
       "                (&#x27;model&#x27;,\n",
       "                 HistGradientBoostingClassifier(class_weight=&#x27;balanced&#x27;,\n",
       "                                                early_stopping=True,\n",
       "                                                max_iter=1000,\n",
       "                                                n_iter_no_change=5,\n",
       "                                                random_state=1234,\n",
       "                                                scoring=&#x27;balanced_accuracy&#x27;))])</pre><b>In a Jupyter environment, please rerun this cell to show the HTML representation or trust the notebook. <br />On GitHub, the HTML representation is unable to render, please try loading this page with nbviewer.org.</b></div><div class=\"sk-container\" hidden><div class=\"sk-item sk-dashed-wrapped\"><div class=\"sk-label-container\"><div class=\"sk-label sk-toggleable\"><input class=\"sk-toggleable__control sk-hidden--visually\" id=\"sk-estimator-id-146\" type=\"checkbox\" ><label for=\"sk-estimator-id-146\" class=\"sk-toggleable__label sk-toggleable__label-arrow\">Pipeline</label><div class=\"sk-toggleable__content\"><pre>Pipeline(steps=[(&#x27;preprocessing&#x27;,\n",
       "                 ColumnTransformer(sparse_threshold=0,\n",
       "                                   transformers=[(&#x27;num&#x27;,\n",
       "                                                  Pipeline(steps=[(&#x27;imputer&#x27;,\n",
       "                                                                   SimpleImputer(strategy=&#x27;median&#x27;))]),\n",
       "                                                  [&#x27;Community_Membership_Family&#x27;,\n",
       "                                                   &#x27;Community_Membership_Hobbies&#x27;,\n",
       "                                                   &#x27;Community_Membership_None&#x27;,\n",
       "                                                   &#x27;Community_Membership_Other&#x27;,\n",
       "                                                   &#x27;Community_Membership_Political&#x27;,\n",
       "                                                   &#x27;Community_Membership_Professional&#x27;,\n",
       "                                                   &#x27;Communi...\n",
       "                                                  Pipeline(steps=[(&#x27;imputer&#x27;,\n",
       "                                                                   SimpleImputer(strategy=&#x27;most_frequent&#x27;)),\n",
       "                                                                  (&#x27;encoder&#x27;,\n",
       "                                                                   TargetEncoder())]),\n",
       "                                                  [&#x27;Actual_Time&#x27;, &#x27;Country&#x27;,\n",
       "                                                   &#x27;Major_Geographical_Location&#x27;,\n",
       "                                                   &#x27;Primary_Computing_Platform&#x27;,\n",
       "                                                   &#x27;Primary_Language&#x27;])])),\n",
       "                (&#x27;model&#x27;,\n",
       "                 HistGradientBoostingClassifier(class_weight=&#x27;balanced&#x27;,\n",
       "                                                early_stopping=True,\n",
       "                                                max_iter=1000,\n",
       "                                                n_iter_no_change=5,\n",
       "                                                random_state=1234,\n",
       "                                                scoring=&#x27;balanced_accuracy&#x27;))])</pre></div></div></div><div class=\"sk-serial\"><div class=\"sk-item sk-dashed-wrapped\"><div class=\"sk-label-container\"><div class=\"sk-label sk-toggleable\"><input class=\"sk-toggleable__control sk-hidden--visually\" id=\"sk-estimator-id-147\" type=\"checkbox\" ><label for=\"sk-estimator-id-147\" class=\"sk-toggleable__label sk-toggleable__label-arrow\">preprocessing: ColumnTransformer</label><div class=\"sk-toggleable__content\"><pre>ColumnTransformer(sparse_threshold=0,\n",
       "                  transformers=[(&#x27;num&#x27;,\n",
       "                                 Pipeline(steps=[(&#x27;imputer&#x27;,\n",
       "                                                  SimpleImputer(strategy=&#x27;median&#x27;))]),\n",
       "                                 [&#x27;Community_Membership_Family&#x27;,\n",
       "                                  &#x27;Community_Membership_Hobbies&#x27;,\n",
       "                                  &#x27;Community_Membership_None&#x27;,\n",
       "                                  &#x27;Community_Membership_Other&#x27;,\n",
       "                                  &#x27;Community_Membership_Political&#x27;,\n",
       "                                  &#x27;Community_Membership_Professional&#x27;,\n",
       "                                  &#x27;Community_Membership_Religious&#x27;,\n",
       "                                  &#x27;Communi...\n",
       "                                  &#x27;Opinions_on_Censorship&#x27;,\n",
       "                                  &#x27;Primary_Place_of_WWW_Access&#x27;, &#x27;Race&#x27;,\n",
       "                                  &#x27;Registered_to_Vote&#x27;, &#x27;Sexual_Preference&#x27;,\n",
       "                                  &#x27;Web_Ordering&#x27;, &#x27;Web_Page_Creation&#x27;]),\n",
       "                                (&#x27;ordinal_encoding&#x27;,\n",
       "                                 Pipeline(steps=[(&#x27;imputer&#x27;,\n",
       "                                                  SimpleImputer(strategy=&#x27;most_frequent&#x27;)),\n",
       "                                                 (&#x27;encoder&#x27;, TargetEncoder())]),\n",
       "                                 [&#x27;Actual_Time&#x27;, &#x27;Country&#x27;,\n",
       "                                  &#x27;Major_Geographical_Location&#x27;,\n",
       "                                  &#x27;Primary_Computing_Platform&#x27;,\n",
       "                                  &#x27;Primary_Language&#x27;])])</pre></div></div></div><div class=\"sk-parallel\"><div class=\"sk-parallel-item\"><div class=\"sk-item\"><div class=\"sk-label-container\"><div class=\"sk-label sk-toggleable\"><input class=\"sk-toggleable__control sk-hidden--visually\" id=\"sk-estimator-id-148\" type=\"checkbox\" ><label for=\"sk-estimator-id-148\" class=\"sk-toggleable__label sk-toggleable__label-arrow\">num</label><div class=\"sk-toggleable__content\"><pre>[&#x27;Community_Membership_Family&#x27;, &#x27;Community_Membership_Hobbies&#x27;, &#x27;Community_Membership_None&#x27;, &#x27;Community_Membership_Other&#x27;, &#x27;Community_Membership_Political&#x27;, &#x27;Community_Membership_Professional&#x27;, &#x27;Community_Membership_Religious&#x27;, &#x27;Community_Membership_Support&#x27;, &#x27;Disability_Cognitive&#x27;, &#x27;Disability_Hearing&#x27;, &#x27;Disability_Motor&#x27;, &#x27;Disability_Not_Impaired&#x27;, &#x27;Disability_Not_Say&#x27;, &#x27;Disability_Vision&#x27;, &#x27;Gender&#x27;, &#x27;How_You_Heard_About_Survey_Banner&#x27;, &#x27;How_You_Heard_About_Survey_Friend&#x27;, &#x27;How_You_Heard_About_Survey_Mailing_List&#x27;, &#x27;How_You_Heard_About_Survey_Others&#x27;, &#x27;How_You_Heard_About_Survey_Printed_Media&#x27;, &#x27;How_You_Heard_About_Survey_Remebered&#x27;, &#x27;How_You_Heard_About_Survey_Search_Engine&#x27;, &#x27;How_You_Heard_About_Survey_Usenet_News&#x27;, &#x27;How_You_Heard_About_Survey_WWW_Page&#x27;, &#x27;Not_Purchasing_Bad_experience&#x27;, &#x27;Not_Purchasing_Bad_press&#x27;, &#x27;Not_Purchasing_Cant_find&#x27;, &#x27;Not_Purchasing_Company_policy&#x27;, &#x27;Not_Purchasing_Easier_locally&#x27;, &#x27;Not_Purchasing_Enough_info&#x27;, &#x27;Not_Purchasing_Judge_quality&#x27;, &#x27;Not_Purchasing_Never_tried&#x27;, &#x27;Not_Purchasing_No_credit&#x27;, &#x27;Not_Purchasing_Not_applicable&#x27;, &#x27;Not_Purchasing_Not_option&#x27;, &#x27;Not_Purchasing_Other&#x27;, &#x27;Not_Purchasing_Prefer_people&#x27;, &#x27;Not_Purchasing_Privacy&#x27;, &#x27;Not_Purchasing_Receipt&#x27;, &#x27;Not_Purchasing_Security&#x27;, &#x27;Not_Purchasing_Too_complicated&#x27;, &#x27;Not_Purchasing_Uncomfortable&#x27;, &#x27;Not_Purchasing_Unfamiliar_vendor&#x27;, &#x27;Who_Pays_for_Access_Dont_Know&#x27;, &#x27;Who_Pays_for_Access_Other&#x27;, &#x27;Who_Pays_for_Access_Parents&#x27;, &#x27;Who_Pays_for_Access_School&#x27;, &#x27;Who_Pays_for_Access_Self&#x27;]</pre></div></div></div><div class=\"sk-serial\"><div class=\"sk-item\"><div class=\"sk-serial\"><div class=\"sk-item\"><div class=\"sk-estimator sk-toggleable\"><input class=\"sk-toggleable__control sk-hidden--visually\" id=\"sk-estimator-id-149\" type=\"checkbox\" ><label for=\"sk-estimator-id-149\" class=\"sk-toggleable__label sk-toggleable__label-arrow\">SimpleImputer</label><div class=\"sk-toggleable__content\"><pre>SimpleImputer(strategy=&#x27;median&#x27;)</pre></div></div></div></div></div></div></div></div><div class=\"sk-parallel-item\"><div class=\"sk-item\"><div class=\"sk-label-container\"><div class=\"sk-label sk-toggleable\"><input class=\"sk-toggleable__control sk-hidden--visually\" id=\"sk-estimator-id-150\" type=\"checkbox\" ><label for=\"sk-estimator-id-150\" class=\"sk-toggleable__label sk-toggleable__label-arrow\">one_hot_encoding</label><div class=\"sk-toggleable__content\"><pre>[&#x27;Community_Building&#x27;, &#x27;Education_Attainment&#x27;, &#x27;Falsification_of_Information&#x27;, &#x27;Household_Income&#x27;, &#x27;Major_Occupation&#x27;, &#x27;Marital_Status&#x27;, &#x27;Most_Import_Issue_Facing_the_Internet&#x27;, &#x27;Opinions_on_Censorship&#x27;, &#x27;Primary_Place_of_WWW_Access&#x27;, &#x27;Race&#x27;, &#x27;Registered_to_Vote&#x27;, &#x27;Sexual_Preference&#x27;, &#x27;Web_Ordering&#x27;, &#x27;Web_Page_Creation&#x27;]</pre></div></div></div><div class=\"sk-serial\"><div class=\"sk-item\"><div class=\"sk-serial\"><div class=\"sk-item\"><div class=\"sk-estimator sk-toggleable\"><input class=\"sk-toggleable__control sk-hidden--visually\" id=\"sk-estimator-id-151\" type=\"checkbox\" ><label for=\"sk-estimator-id-151\" class=\"sk-toggleable__label sk-toggleable__label-arrow\">SimpleImputer</label><div class=\"sk-toggleable__content\"><pre>SimpleImputer(strategy=&#x27;most_frequent&#x27;)</pre></div></div></div><div class=\"sk-item\"><div class=\"sk-estimator sk-toggleable\"><input class=\"sk-toggleable__control sk-hidden--visually\" id=\"sk-estimator-id-152\" type=\"checkbox\" ><label for=\"sk-estimator-id-152\" class=\"sk-toggleable__label sk-toggleable__label-arrow\">OneHotEncoder</label><div class=\"sk-toggleable__content\"><pre>OneHotEncoder(drop=&#x27;first&#x27;, handle_unknown=&#x27;ignore&#x27;)</pre></div></div></div></div></div></div></div></div><div class=\"sk-parallel-item\"><div class=\"sk-item\"><div class=\"sk-label-container\"><div class=\"sk-label sk-toggleable\"><input class=\"sk-toggleable__control sk-hidden--visually\" id=\"sk-estimator-id-153\" type=\"checkbox\" ><label for=\"sk-estimator-id-153\" class=\"sk-toggleable__label sk-toggleable__label-arrow\">ordinal_encoding</label><div class=\"sk-toggleable__content\"><pre>[&#x27;Actual_Time&#x27;, &#x27;Country&#x27;, &#x27;Major_Geographical_Location&#x27;, &#x27;Primary_Computing_Platform&#x27;, &#x27;Primary_Language&#x27;]</pre></div></div></div><div class=\"sk-serial\"><div class=\"sk-item\"><div class=\"sk-serial\"><div class=\"sk-item\"><div class=\"sk-estimator sk-toggleable\"><input class=\"sk-toggleable__control sk-hidden--visually\" id=\"sk-estimator-id-154\" type=\"checkbox\" ><label for=\"sk-estimator-id-154\" class=\"sk-toggleable__label sk-toggleable__label-arrow\">SimpleImputer</label><div class=\"sk-toggleable__content\"><pre>SimpleImputer(strategy=&#x27;most_frequent&#x27;)</pre></div></div></div><div class=\"sk-item\"><div class=\"sk-estimator sk-toggleable\"><input class=\"sk-toggleable__control sk-hidden--visually\" id=\"sk-estimator-id-155\" type=\"checkbox\" ><label for=\"sk-estimator-id-155\" class=\"sk-toggleable__label sk-toggleable__label-arrow\">TargetEncoder</label><div class=\"sk-toggleable__content\"><pre>TargetEncoder()</pre></div></div></div></div></div></div></div></div></div></div><div class=\"sk-item\"><div class=\"sk-estimator sk-toggleable\"><input class=\"sk-toggleable__control sk-hidden--visually\" id=\"sk-estimator-id-156\" type=\"checkbox\" ><label for=\"sk-estimator-id-156\" class=\"sk-toggleable__label sk-toggleable__label-arrow\">HistGradientBoostingClassifier</label><div class=\"sk-toggleable__content\"><pre>HistGradientBoostingClassifier(class_weight=&#x27;balanced&#x27;, early_stopping=True,\n",
       "                               max_iter=1000, n_iter_no_change=5,\n",
       "                               random_state=1234, scoring=&#x27;balanced_accuracy&#x27;)</pre></div></div></div></div></div></div></div>"
      ],
      "text/plain": [
       "Pipeline(steps=[('preprocessing',\n",
       "                 ColumnTransformer(sparse_threshold=0,\n",
       "                                   transformers=[('num',\n",
       "                                                  Pipeline(steps=[('imputer',\n",
       "                                                                   SimpleImputer(strategy='median'))]),\n",
       "                                                  ['Community_Membership_Family',\n",
       "                                                   'Community_Membership_Hobbies',\n",
       "                                                   'Community_Membership_None',\n",
       "                                                   'Community_Membership_Other',\n",
       "                                                   'Community_Membership_Political',\n",
       "                                                   'Community_Membership_Professional',\n",
       "                                                   'Communi...\n",
       "                                                  Pipeline(steps=[('imputer',\n",
       "                                                                   SimpleImputer(strategy='most_frequent')),\n",
       "                                                                  ('encoder',\n",
       "                                                                   TargetEncoder())]),\n",
       "                                                  ['Actual_Time', 'Country',\n",
       "                                                   'Major_Geographical_Location',\n",
       "                                                   'Primary_Computing_Platform',\n",
       "                                                   'Primary_Language'])])),\n",
       "                ('model',\n",
       "                 HistGradientBoostingClassifier(class_weight='balanced',\n",
       "                                                early_stopping=True,\n",
       "                                                max_iter=1000,\n",
       "                                                n_iter_no_change=5,\n",
       "                                                random_state=1234,\n",
       "                                                scoring='balanced_accuracy'))])"
      ]
     },
     "execution_count": 101,
     "metadata": {},
     "output_type": "execute_result"
    }
   ],
   "source": [
    "# Display pipeline\n",
    "print(\"Time taken: \", target_hgb_default9_time_taken)\n",
    "target_hgb_default9"
   ]
  },
  {
   "cell_type": "code",
   "execution_count": 102,
   "id": "7499758f",
   "metadata": {},
   "outputs": [
    {
     "name": "stdout",
     "output_type": "stream",
     "text": [
      "Balanced accuracy with default parameters: 0.8789373536299766\n"
     ]
    }
   ],
   "source": [
    "# Calculate balanced accuracy for the model with default parameters\n",
    "y_target_hgb_default_pred = target_hgb_default.predict(X_test)\n",
    "target_hgb_default_accuracy = balanced_accuracy_score(y_test, y_target_hgb_default_pred)\n",
    "print(f'Balanced accuracy with default parameters: {target_hgb_default_accuracy}')\n",
    "\n",
    "# Save results\n",
    "default_summary.append(\"Default\")\n",
    "card_9_summary.append(\"AllVariables\")\n",
    "encoder_summary.append(\"TargetEncoder\")\n",
    "value_summary.append(target_hgb_default_accuracy)\n",
    "time_summary.append(target_hgb_default_time_taken)\n",
    "n_models_summary.append(1)"
   ]
  },
  {
   "cell_type": "code",
   "execution_count": 103,
   "id": "015aa2d9",
   "metadata": {},
   "outputs": [
    {
     "name": "stdout",
     "output_type": "stream",
     "text": [
      "Balanced accuracy with default parameters: 0.8770144174473068\n"
     ]
    }
   ],
   "source": [
    "# Calculate balanced accuracy for the model with default parameters\n",
    "y_target_hgb_default_pred9 = target_hgb_default9.predict(X_test)\n",
    "target_hgb_default_accuracy9 = balanced_accuracy_score(y_test, y_target_hgb_default_pred9)\n",
    "print(f'Balanced accuracy with default parameters: {target_hgb_default_accuracy9}')\n",
    "\n",
    "# Save results\n",
    "default_summary.append(\"Default\")\n",
    "card_9_summary.append(\"OnlyVariablesWithCard>9\")\n",
    "encoder_summary.append(\"TargetEncoder\")\n",
    "value_summary.append(target_hgb_default_accuracy9)\n",
    "time_summary.append(target_hgb_default9_time_taken)\n",
    "n_models_summary.append(1)"
   ]
  },
  {
   "cell_type": "markdown",
   "id": "adec275d",
   "metadata": {},
   "source": [
    " "
   ]
  },
  {
   "cell_type": "code",
   "execution_count": 104,
   "id": "75d035cb",
   "metadata": {},
   "outputs": [],
   "source": [
    "target_hgb_tune = RandomizedSearchCV(estimator = target_hgb_default_pipeline, \n",
    "                                     param_distributions = param_distributions, \n",
    "                                     n_iter = 200,\n",
    "                                     cv = stratified_kfold,\n",
    "                                     scoring = 'balanced_accuracy', \n",
    "                                     random_state = 1234,\n",
    "                                     n_jobs = -1)\n",
    "\n",
    "target_hgb_tune9 = RandomizedSearchCV(estimator = target_hgb_default_pipeline9, \n",
    "                                      param_distributions = param_distributions, \n",
    "                                      n_iter = 200,\n",
    "                                      cv = stratified_kfold,\n",
    "                                      scoring = 'balanced_accuracy', \n",
    "                                      random_state = 1234,\n",
    "                                      n_jobs = -1)"
   ]
  },
  {
   "cell_type": "code",
   "execution_count": 105,
   "id": "aea490b2",
   "metadata": {
    "scrolled": true
   },
   "outputs": [],
   "source": [
    "tic = time.time() \n",
    "\n",
    "target_hgb_tune = target_hgb_tune.fit(X_train, y_train)\n",
    "\n",
    "toc = time.time()\n",
    "target_hgb_tune_time_taken = toc-tic"
   ]
  },
  {
   "cell_type": "code",
   "execution_count": 106,
   "metadata": {},
   "outputs": [
    {
     "name": "stdout",
     "output_type": "stream",
     "text": [
      "Time taken:  41.34133720397949\n"
     ]
    },
    {
     "data": {
      "text/html": [
       "<style>#sk-container-id-17 {color: black;}#sk-container-id-17 pre{padding: 0;}#sk-container-id-17 div.sk-toggleable {background-color: white;}#sk-container-id-17 label.sk-toggleable__label {cursor: pointer;display: block;width: 100%;margin-bottom: 0;padding: 0.3em;box-sizing: border-box;text-align: center;}#sk-container-id-17 label.sk-toggleable__label-arrow:before {content: \"▸\";float: left;margin-right: 0.25em;color: #696969;}#sk-container-id-17 label.sk-toggleable__label-arrow:hover:before {color: black;}#sk-container-id-17 div.sk-estimator:hover label.sk-toggleable__label-arrow:before {color: black;}#sk-container-id-17 div.sk-toggleable__content {max-height: 0;max-width: 0;overflow: hidden;text-align: left;background-color: #f0f8ff;}#sk-container-id-17 div.sk-toggleable__content pre {margin: 0.2em;color: black;border-radius: 0.25em;background-color: #f0f8ff;}#sk-container-id-17 input.sk-toggleable__control:checked~div.sk-toggleable__content {max-height: 200px;max-width: 100%;overflow: auto;}#sk-container-id-17 input.sk-toggleable__control:checked~label.sk-toggleable__label-arrow:before {content: \"▾\";}#sk-container-id-17 div.sk-estimator input.sk-toggleable__control:checked~label.sk-toggleable__label {background-color: #d4ebff;}#sk-container-id-17 div.sk-label input.sk-toggleable__control:checked~label.sk-toggleable__label {background-color: #d4ebff;}#sk-container-id-17 input.sk-hidden--visually {border: 0;clip: rect(1px 1px 1px 1px);clip: rect(1px, 1px, 1px, 1px);height: 1px;margin: -1px;overflow: hidden;padding: 0;position: absolute;width: 1px;}#sk-container-id-17 div.sk-estimator {font-family: monospace;background-color: #f0f8ff;border: 1px dotted black;border-radius: 0.25em;box-sizing: border-box;margin-bottom: 0.5em;}#sk-container-id-17 div.sk-estimator:hover {background-color: #d4ebff;}#sk-container-id-17 div.sk-parallel-item::after {content: \"\";width: 100%;border-bottom: 1px solid gray;flex-grow: 1;}#sk-container-id-17 div.sk-label:hover label.sk-toggleable__label {background-color: #d4ebff;}#sk-container-id-17 div.sk-serial::before {content: \"\";position: absolute;border-left: 1px solid gray;box-sizing: border-box;top: 0;bottom: 0;left: 50%;z-index: 0;}#sk-container-id-17 div.sk-serial {display: flex;flex-direction: column;align-items: center;background-color: white;padding-right: 0.2em;padding-left: 0.2em;position: relative;}#sk-container-id-17 div.sk-item {position: relative;z-index: 1;}#sk-container-id-17 div.sk-parallel {display: flex;align-items: stretch;justify-content: center;background-color: white;position: relative;}#sk-container-id-17 div.sk-item::before, #sk-container-id-17 div.sk-parallel-item::before {content: \"\";position: absolute;border-left: 1px solid gray;box-sizing: border-box;top: 0;bottom: 0;left: 50%;z-index: -1;}#sk-container-id-17 div.sk-parallel-item {display: flex;flex-direction: column;z-index: 1;position: relative;background-color: white;}#sk-container-id-17 div.sk-parallel-item:first-child::after {align-self: flex-end;width: 50%;}#sk-container-id-17 div.sk-parallel-item:last-child::after {align-self: flex-start;width: 50%;}#sk-container-id-17 div.sk-parallel-item:only-child::after {width: 0;}#sk-container-id-17 div.sk-dashed-wrapped {border: 1px dashed gray;margin: 0 0.4em 0.5em 0.4em;box-sizing: border-box;padding-bottom: 0.4em;background-color: white;}#sk-container-id-17 div.sk-label label {font-family: monospace;font-weight: bold;display: inline-block;line-height: 1.2em;}#sk-container-id-17 div.sk-label-container {text-align: center;}#sk-container-id-17 div.sk-container {/* jupyter's `normalize.less` sets `[hidden] { display: none; }` but bootstrap.min.css set `[hidden] { display: none !important; }` so we also need the `!important` here to be able to override the default hidden behavior on the sphinx rendered scikit-learn.org. See: https://github.com/scikit-learn/scikit-learn/issues/21755 */display: inline-block !important;position: relative;}#sk-container-id-17 div.sk-text-repr-fallback {display: none;}</style><div id=\"sk-container-id-17\" class=\"sk-top-container\"><div class=\"sk-text-repr-fallback\"><pre>RandomizedSearchCV(cv=StratifiedKFold(n_splits=3, random_state=1234, shuffle=True),\n",
       "                   estimator=Pipeline(steps=[(&#x27;preprocessing&#x27;,\n",
       "                                              ColumnTransformer(sparse_threshold=0,\n",
       "                                                                transformers=[(&#x27;num&#x27;,\n",
       "                                                                               Pipeline(steps=[(&#x27;imputer&#x27;,\n",
       "                                                                                                SimpleImputer(strategy=&#x27;median&#x27;))]),\n",
       "                                                                               [&#x27;Community_Membership_Family&#x27;,\n",
       "                                                                                &#x27;Community_Membership_Hobbies&#x27;,\n",
       "                                                                                &#x27;Community_Membership_None&#x27;,\n",
       "                                                                                &#x27;Community_Memb...\n",
       "                                                                             random_state=1234,\n",
       "                                                                             scoring=&#x27;balanced_accuracy&#x27;))]),\n",
       "                   n_iter=200, n_jobs=-1,\n",
       "                   param_distributions={&#x27;model__learning_rate&#x27;: &lt;scipy.stats._distn_infrastructure.rv_continuous_frozen object at 0x000002AE7921E470&gt;,\n",
       "                                        &#x27;model__min_samples_leaf&#x27;: &lt;scipy.stats._distn_infrastructure.rv_discrete_frozen object at 0x000002AE7A91A710&gt;},\n",
       "                   random_state=1234, scoring=&#x27;balanced_accuracy&#x27;)</pre><b>In a Jupyter environment, please rerun this cell to show the HTML representation or trust the notebook. <br />On GitHub, the HTML representation is unable to render, please try loading this page with nbviewer.org.</b></div><div class=\"sk-container\" hidden><div class=\"sk-item sk-dashed-wrapped\"><div class=\"sk-label-container\"><div class=\"sk-label sk-toggleable\"><input class=\"sk-toggleable__control sk-hidden--visually\" id=\"sk-estimator-id-157\" type=\"checkbox\" ><label for=\"sk-estimator-id-157\" class=\"sk-toggleable__label sk-toggleable__label-arrow\">RandomizedSearchCV</label><div class=\"sk-toggleable__content\"><pre>RandomizedSearchCV(cv=StratifiedKFold(n_splits=3, random_state=1234, shuffle=True),\n",
       "                   estimator=Pipeline(steps=[(&#x27;preprocessing&#x27;,\n",
       "                                              ColumnTransformer(sparse_threshold=0,\n",
       "                                                                transformers=[(&#x27;num&#x27;,\n",
       "                                                                               Pipeline(steps=[(&#x27;imputer&#x27;,\n",
       "                                                                                                SimpleImputer(strategy=&#x27;median&#x27;))]),\n",
       "                                                                               [&#x27;Community_Membership_Family&#x27;,\n",
       "                                                                                &#x27;Community_Membership_Hobbies&#x27;,\n",
       "                                                                                &#x27;Community_Membership_None&#x27;,\n",
       "                                                                                &#x27;Community_Memb...\n",
       "                                                                             random_state=1234,\n",
       "                                                                             scoring=&#x27;balanced_accuracy&#x27;))]),\n",
       "                   n_iter=200, n_jobs=-1,\n",
       "                   param_distributions={&#x27;model__learning_rate&#x27;: &lt;scipy.stats._distn_infrastructure.rv_continuous_frozen object at 0x000002AE7921E470&gt;,\n",
       "                                        &#x27;model__min_samples_leaf&#x27;: &lt;scipy.stats._distn_infrastructure.rv_discrete_frozen object at 0x000002AE7A91A710&gt;},\n",
       "                   random_state=1234, scoring=&#x27;balanced_accuracy&#x27;)</pre></div></div></div><div class=\"sk-parallel\"><div class=\"sk-parallel-item\"><div class=\"sk-item\"><div class=\"sk-label-container\"><div class=\"sk-label sk-toggleable\"><input class=\"sk-toggleable__control sk-hidden--visually\" id=\"sk-estimator-id-158\" type=\"checkbox\" ><label for=\"sk-estimator-id-158\" class=\"sk-toggleable__label sk-toggleable__label-arrow\">estimator: Pipeline</label><div class=\"sk-toggleable__content\"><pre>Pipeline(steps=[(&#x27;preprocessing&#x27;,\n",
       "                 ColumnTransformer(sparse_threshold=0,\n",
       "                                   transformers=[(&#x27;num&#x27;,\n",
       "                                                  Pipeline(steps=[(&#x27;imputer&#x27;,\n",
       "                                                                   SimpleImputer(strategy=&#x27;median&#x27;))]),\n",
       "                                                  [&#x27;Community_Membership_Family&#x27;,\n",
       "                                                   &#x27;Community_Membership_Hobbies&#x27;,\n",
       "                                                   &#x27;Community_Membership_None&#x27;,\n",
       "                                                   &#x27;Community_Membership_Other&#x27;,\n",
       "                                                   &#x27;Community_Membership_Political&#x27;,\n",
       "                                                   &#x27;Community_Membership_Professional&#x27;,\n",
       "                                                   &#x27;Communi...\n",
       "                                                   &#x27;Most_Import_Issue_Facing_the_Internet&#x27;,\n",
       "                                                   &#x27;Opinions_on_Censorship&#x27;,\n",
       "                                                   &#x27;Primary_Computing_Platform&#x27;,\n",
       "                                                   &#x27;Primary_Language&#x27;,\n",
       "                                                   &#x27;Primary_Place_of_WWW_Access&#x27;,\n",
       "                                                   &#x27;Race&#x27;, &#x27;Registered_to_Vote&#x27;,\n",
       "                                                   &#x27;Sexual_Preference&#x27;,\n",
       "                                                   &#x27;Web_Ordering&#x27;,\n",
       "                                                   &#x27;Web_Page_Creation&#x27;])])),\n",
       "                (&#x27;model&#x27;,\n",
       "                 HistGradientBoostingClassifier(class_weight=&#x27;balanced&#x27;,\n",
       "                                                early_stopping=True,\n",
       "                                                n_iter_no_change=5,\n",
       "                                                random_state=1234,\n",
       "                                                scoring=&#x27;balanced_accuracy&#x27;))])</pre></div></div></div><div class=\"sk-serial\"><div class=\"sk-item\"><div class=\"sk-serial\"><div class=\"sk-item sk-dashed-wrapped\"><div class=\"sk-label-container\"><div class=\"sk-label sk-toggleable\"><input class=\"sk-toggleable__control sk-hidden--visually\" id=\"sk-estimator-id-159\" type=\"checkbox\" ><label for=\"sk-estimator-id-159\" class=\"sk-toggleable__label sk-toggleable__label-arrow\">preprocessing: ColumnTransformer</label><div class=\"sk-toggleable__content\"><pre>ColumnTransformer(sparse_threshold=0,\n",
       "                  transformers=[(&#x27;num&#x27;,\n",
       "                                 Pipeline(steps=[(&#x27;imputer&#x27;,\n",
       "                                                  SimpleImputer(strategy=&#x27;median&#x27;))]),\n",
       "                                 [&#x27;Community_Membership_Family&#x27;,\n",
       "                                  &#x27;Community_Membership_Hobbies&#x27;,\n",
       "                                  &#x27;Community_Membership_None&#x27;,\n",
       "                                  &#x27;Community_Membership_Other&#x27;,\n",
       "                                  &#x27;Community_Membership_Political&#x27;,\n",
       "                                  &#x27;Community_Membership_Professional&#x27;,\n",
       "                                  &#x27;Community_Membership_Religious&#x27;,\n",
       "                                  &#x27;Communi...\n",
       "                                  &#x27;Country&#x27;, &#x27;Education_Attainment&#x27;,\n",
       "                                  &#x27;Falsification_of_Information&#x27;,\n",
       "                                  &#x27;Household_Income&#x27;,\n",
       "                                  &#x27;Major_Geographical_Location&#x27;,\n",
       "                                  &#x27;Major_Occupation&#x27;, &#x27;Marital_Status&#x27;,\n",
       "                                  &#x27;Most_Import_Issue_Facing_the_Internet&#x27;,\n",
       "                                  &#x27;Opinions_on_Censorship&#x27;,\n",
       "                                  &#x27;Primary_Computing_Platform&#x27;,\n",
       "                                  &#x27;Primary_Language&#x27;,\n",
       "                                  &#x27;Primary_Place_of_WWW_Access&#x27;, &#x27;Race&#x27;,\n",
       "                                  &#x27;Registered_to_Vote&#x27;, &#x27;Sexual_Preference&#x27;,\n",
       "                                  &#x27;Web_Ordering&#x27;, &#x27;Web_Page_Creation&#x27;])])</pre></div></div></div><div class=\"sk-parallel\"><div class=\"sk-parallel-item\"><div class=\"sk-item\"><div class=\"sk-label-container\"><div class=\"sk-label sk-toggleable\"><input class=\"sk-toggleable__control sk-hidden--visually\" id=\"sk-estimator-id-160\" type=\"checkbox\" ><label for=\"sk-estimator-id-160\" class=\"sk-toggleable__label sk-toggleable__label-arrow\">num</label><div class=\"sk-toggleable__content\"><pre>[&#x27;Community_Membership_Family&#x27;, &#x27;Community_Membership_Hobbies&#x27;, &#x27;Community_Membership_None&#x27;, &#x27;Community_Membership_Other&#x27;, &#x27;Community_Membership_Political&#x27;, &#x27;Community_Membership_Professional&#x27;, &#x27;Community_Membership_Religious&#x27;, &#x27;Community_Membership_Support&#x27;, &#x27;Disability_Cognitive&#x27;, &#x27;Disability_Hearing&#x27;, &#x27;Disability_Motor&#x27;, &#x27;Disability_Not_Impaired&#x27;, &#x27;Disability_Not_Say&#x27;, &#x27;Disability_Vision&#x27;, &#x27;Gender&#x27;, &#x27;How_You_Heard_About_Survey_Banner&#x27;, &#x27;How_You_Heard_About_Survey_Friend&#x27;, &#x27;How_You_Heard_About_Survey_Mailing_List&#x27;, &#x27;How_You_Heard_About_Survey_Others&#x27;, &#x27;How_You_Heard_About_Survey_Printed_Media&#x27;, &#x27;How_You_Heard_About_Survey_Remebered&#x27;, &#x27;How_You_Heard_About_Survey_Search_Engine&#x27;, &#x27;How_You_Heard_About_Survey_Usenet_News&#x27;, &#x27;How_You_Heard_About_Survey_WWW_Page&#x27;, &#x27;Not_Purchasing_Bad_experience&#x27;, &#x27;Not_Purchasing_Bad_press&#x27;, &#x27;Not_Purchasing_Cant_find&#x27;, &#x27;Not_Purchasing_Company_policy&#x27;, &#x27;Not_Purchasing_Easier_locally&#x27;, &#x27;Not_Purchasing_Enough_info&#x27;, &#x27;Not_Purchasing_Judge_quality&#x27;, &#x27;Not_Purchasing_Never_tried&#x27;, &#x27;Not_Purchasing_No_credit&#x27;, &#x27;Not_Purchasing_Not_applicable&#x27;, &#x27;Not_Purchasing_Not_option&#x27;, &#x27;Not_Purchasing_Other&#x27;, &#x27;Not_Purchasing_Prefer_people&#x27;, &#x27;Not_Purchasing_Privacy&#x27;, &#x27;Not_Purchasing_Receipt&#x27;, &#x27;Not_Purchasing_Security&#x27;, &#x27;Not_Purchasing_Too_complicated&#x27;, &#x27;Not_Purchasing_Uncomfortable&#x27;, &#x27;Not_Purchasing_Unfamiliar_vendor&#x27;, &#x27;Who_Pays_for_Access_Dont_Know&#x27;, &#x27;Who_Pays_for_Access_Other&#x27;, &#x27;Who_Pays_for_Access_Parents&#x27;, &#x27;Who_Pays_for_Access_School&#x27;, &#x27;Who_Pays_for_Access_Self&#x27;]</pre></div></div></div><div class=\"sk-serial\"><div class=\"sk-item\"><div class=\"sk-serial\"><div class=\"sk-item\"><div class=\"sk-estimator sk-toggleable\"><input class=\"sk-toggleable__control sk-hidden--visually\" id=\"sk-estimator-id-161\" type=\"checkbox\" ><label for=\"sk-estimator-id-161\" class=\"sk-toggleable__label sk-toggleable__label-arrow\">SimpleImputer</label><div class=\"sk-toggleable__content\"><pre>SimpleImputer(strategy=&#x27;median&#x27;)</pre></div></div></div></div></div></div></div></div><div class=\"sk-parallel-item\"><div class=\"sk-item\"><div class=\"sk-label-container\"><div class=\"sk-label sk-toggleable\"><input class=\"sk-toggleable__control sk-hidden--visually\" id=\"sk-estimator-id-162\" type=\"checkbox\" ><label for=\"sk-estimator-id-162\" class=\"sk-toggleable__label sk-toggleable__label-arrow\">cat</label><div class=\"sk-toggleable__content\"><pre>[&#x27;Actual_Time&#x27;, &#x27;Community_Building&#x27;, &#x27;Country&#x27;, &#x27;Education_Attainment&#x27;, &#x27;Falsification_of_Information&#x27;, &#x27;Household_Income&#x27;, &#x27;Major_Geographical_Location&#x27;, &#x27;Major_Occupation&#x27;, &#x27;Marital_Status&#x27;, &#x27;Most_Import_Issue_Facing_the_Internet&#x27;, &#x27;Opinions_on_Censorship&#x27;, &#x27;Primary_Computing_Platform&#x27;, &#x27;Primary_Language&#x27;, &#x27;Primary_Place_of_WWW_Access&#x27;, &#x27;Race&#x27;, &#x27;Registered_to_Vote&#x27;, &#x27;Sexual_Preference&#x27;, &#x27;Web_Ordering&#x27;, &#x27;Web_Page_Creation&#x27;]</pre></div></div></div><div class=\"sk-serial\"><div class=\"sk-item\"><div class=\"sk-serial\"><div class=\"sk-item\"><div class=\"sk-estimator sk-toggleable\"><input class=\"sk-toggleable__control sk-hidden--visually\" id=\"sk-estimator-id-163\" type=\"checkbox\" ><label for=\"sk-estimator-id-163\" class=\"sk-toggleable__label sk-toggleable__label-arrow\">SimpleImputer</label><div class=\"sk-toggleable__content\"><pre>SimpleImputer(strategy=&#x27;most_frequent&#x27;)</pre></div></div></div><div class=\"sk-item\"><div class=\"sk-estimator sk-toggleable\"><input class=\"sk-toggleable__control sk-hidden--visually\" id=\"sk-estimator-id-164\" type=\"checkbox\" ><label for=\"sk-estimator-id-164\" class=\"sk-toggleable__label sk-toggleable__label-arrow\">TargetEncoder</label><div class=\"sk-toggleable__content\"><pre>TargetEncoder()</pre></div></div></div></div></div></div></div></div></div></div><div class=\"sk-item\"><div class=\"sk-estimator sk-toggleable\"><input class=\"sk-toggleable__control sk-hidden--visually\" id=\"sk-estimator-id-165\" type=\"checkbox\" ><label for=\"sk-estimator-id-165\" class=\"sk-toggleable__label sk-toggleable__label-arrow\">HistGradientBoostingClassifier</label><div class=\"sk-toggleable__content\"><pre>HistGradientBoostingClassifier(class_weight=&#x27;balanced&#x27;, early_stopping=True,\n",
       "                               n_iter_no_change=5, random_state=1234,\n",
       "                               scoring=&#x27;balanced_accuracy&#x27;)</pre></div></div></div></div></div></div></div></div></div></div></div></div>"
      ],
      "text/plain": [
       "RandomizedSearchCV(cv=StratifiedKFold(n_splits=3, random_state=1234, shuffle=True),\n",
       "                   estimator=Pipeline(steps=[('preprocessing',\n",
       "                                              ColumnTransformer(sparse_threshold=0,\n",
       "                                                                transformers=[('num',\n",
       "                                                                               Pipeline(steps=[('imputer',\n",
       "                                                                                                SimpleImputer(strategy='median'))]),\n",
       "                                                                               ['Community_Membership_Family',\n",
       "                                                                                'Community_Membership_Hobbies',\n",
       "                                                                                'Community_Membership_None',\n",
       "                                                                                'Community_Memb...\n",
       "                                                                             random_state=1234,\n",
       "                                                                             scoring='balanced_accuracy'))]),\n",
       "                   n_iter=200, n_jobs=-1,\n",
       "                   param_distributions={'model__learning_rate': <scipy.stats._distn_infrastructure.rv_continuous_frozen object at 0x000002AE7921E470>,\n",
       "                                        'model__min_samples_leaf': <scipy.stats._distn_infrastructure.rv_discrete_frozen object at 0x000002AE7A91A710>},\n",
       "                   random_state=1234, scoring='balanced_accuracy')"
      ]
     },
     "execution_count": 106,
     "metadata": {},
     "output_type": "execute_result"
    }
   ],
   "source": [
    "# Display pipeline\n",
    "print(\"Time taken: \", target_hgb_tune_time_taken)\n",
    "target_hgb_tune"
   ]
  },
  {
   "cell_type": "code",
   "execution_count": 107,
   "id": "f310e635",
   "metadata": {
    "scrolled": false
   },
   "outputs": [],
   "source": [
    "tic = time.time() \n",
    "\n",
    "target_hgb_tune9 = target_hgb_tune9.fit(X_train, y_train)\n",
    "\n",
    "toc = time.time()\n",
    "target_hgb_tune9_time_taken = toc-tic"
   ]
  },
  {
   "cell_type": "code",
   "execution_count": 108,
   "metadata": {},
   "outputs": [
    {
     "name": "stdout",
     "output_type": "stream",
     "text": [
      "Time taken:  52.79973220825195\n"
     ]
    },
    {
     "data": {
      "text/html": [
       "<style>#sk-container-id-18 {color: black;}#sk-container-id-18 pre{padding: 0;}#sk-container-id-18 div.sk-toggleable {background-color: white;}#sk-container-id-18 label.sk-toggleable__label {cursor: pointer;display: block;width: 100%;margin-bottom: 0;padding: 0.3em;box-sizing: border-box;text-align: center;}#sk-container-id-18 label.sk-toggleable__label-arrow:before {content: \"▸\";float: left;margin-right: 0.25em;color: #696969;}#sk-container-id-18 label.sk-toggleable__label-arrow:hover:before {color: black;}#sk-container-id-18 div.sk-estimator:hover label.sk-toggleable__label-arrow:before {color: black;}#sk-container-id-18 div.sk-toggleable__content {max-height: 0;max-width: 0;overflow: hidden;text-align: left;background-color: #f0f8ff;}#sk-container-id-18 div.sk-toggleable__content pre {margin: 0.2em;color: black;border-radius: 0.25em;background-color: #f0f8ff;}#sk-container-id-18 input.sk-toggleable__control:checked~div.sk-toggleable__content {max-height: 200px;max-width: 100%;overflow: auto;}#sk-container-id-18 input.sk-toggleable__control:checked~label.sk-toggleable__label-arrow:before {content: \"▾\";}#sk-container-id-18 div.sk-estimator input.sk-toggleable__control:checked~label.sk-toggleable__label {background-color: #d4ebff;}#sk-container-id-18 div.sk-label input.sk-toggleable__control:checked~label.sk-toggleable__label {background-color: #d4ebff;}#sk-container-id-18 input.sk-hidden--visually {border: 0;clip: rect(1px 1px 1px 1px);clip: rect(1px, 1px, 1px, 1px);height: 1px;margin: -1px;overflow: hidden;padding: 0;position: absolute;width: 1px;}#sk-container-id-18 div.sk-estimator {font-family: monospace;background-color: #f0f8ff;border: 1px dotted black;border-radius: 0.25em;box-sizing: border-box;margin-bottom: 0.5em;}#sk-container-id-18 div.sk-estimator:hover {background-color: #d4ebff;}#sk-container-id-18 div.sk-parallel-item::after {content: \"\";width: 100%;border-bottom: 1px solid gray;flex-grow: 1;}#sk-container-id-18 div.sk-label:hover label.sk-toggleable__label {background-color: #d4ebff;}#sk-container-id-18 div.sk-serial::before {content: \"\";position: absolute;border-left: 1px solid gray;box-sizing: border-box;top: 0;bottom: 0;left: 50%;z-index: 0;}#sk-container-id-18 div.sk-serial {display: flex;flex-direction: column;align-items: center;background-color: white;padding-right: 0.2em;padding-left: 0.2em;position: relative;}#sk-container-id-18 div.sk-item {position: relative;z-index: 1;}#sk-container-id-18 div.sk-parallel {display: flex;align-items: stretch;justify-content: center;background-color: white;position: relative;}#sk-container-id-18 div.sk-item::before, #sk-container-id-18 div.sk-parallel-item::before {content: \"\";position: absolute;border-left: 1px solid gray;box-sizing: border-box;top: 0;bottom: 0;left: 50%;z-index: -1;}#sk-container-id-18 div.sk-parallel-item {display: flex;flex-direction: column;z-index: 1;position: relative;background-color: white;}#sk-container-id-18 div.sk-parallel-item:first-child::after {align-self: flex-end;width: 50%;}#sk-container-id-18 div.sk-parallel-item:last-child::after {align-self: flex-start;width: 50%;}#sk-container-id-18 div.sk-parallel-item:only-child::after {width: 0;}#sk-container-id-18 div.sk-dashed-wrapped {border: 1px dashed gray;margin: 0 0.4em 0.5em 0.4em;box-sizing: border-box;padding-bottom: 0.4em;background-color: white;}#sk-container-id-18 div.sk-label label {font-family: monospace;font-weight: bold;display: inline-block;line-height: 1.2em;}#sk-container-id-18 div.sk-label-container {text-align: center;}#sk-container-id-18 div.sk-container {/* jupyter's `normalize.less` sets `[hidden] { display: none; }` but bootstrap.min.css set `[hidden] { display: none !important; }` so we also need the `!important` here to be able to override the default hidden behavior on the sphinx rendered scikit-learn.org. See: https://github.com/scikit-learn/scikit-learn/issues/21755 */display: inline-block !important;position: relative;}#sk-container-id-18 div.sk-text-repr-fallback {display: none;}</style><div id=\"sk-container-id-18\" class=\"sk-top-container\"><div class=\"sk-text-repr-fallback\"><pre>RandomizedSearchCV(cv=StratifiedKFold(n_splits=3, random_state=1234, shuffle=True),\n",
       "                   estimator=Pipeline(steps=[(&#x27;preprocessing&#x27;,\n",
       "                                              ColumnTransformer(sparse_threshold=0,\n",
       "                                                                transformers=[(&#x27;num&#x27;,\n",
       "                                                                               Pipeline(steps=[(&#x27;imputer&#x27;,\n",
       "                                                                                                SimpleImputer(strategy=&#x27;median&#x27;))]),\n",
       "                                                                               [&#x27;Community_Membership_Family&#x27;,\n",
       "                                                                                &#x27;Community_Membership_Hobbies&#x27;,\n",
       "                                                                                &#x27;Community_Membership_None&#x27;,\n",
       "                                                                                &#x27;Community_Memb...\n",
       "                                                                             random_state=1234,\n",
       "                                                                             scoring=&#x27;balanced_accuracy&#x27;))]),\n",
       "                   n_iter=200, n_jobs=-1,\n",
       "                   param_distributions={&#x27;model__learning_rate&#x27;: &lt;scipy.stats._distn_infrastructure.rv_continuous_frozen object at 0x000002AE7921E470&gt;,\n",
       "                                        &#x27;model__min_samples_leaf&#x27;: &lt;scipy.stats._distn_infrastructure.rv_discrete_frozen object at 0x000002AE7A91A710&gt;},\n",
       "                   random_state=1234, scoring=&#x27;balanced_accuracy&#x27;)</pre><b>In a Jupyter environment, please rerun this cell to show the HTML representation or trust the notebook. <br />On GitHub, the HTML representation is unable to render, please try loading this page with nbviewer.org.</b></div><div class=\"sk-container\" hidden><div class=\"sk-item sk-dashed-wrapped\"><div class=\"sk-label-container\"><div class=\"sk-label sk-toggleable\"><input class=\"sk-toggleable__control sk-hidden--visually\" id=\"sk-estimator-id-166\" type=\"checkbox\" ><label for=\"sk-estimator-id-166\" class=\"sk-toggleable__label sk-toggleable__label-arrow\">RandomizedSearchCV</label><div class=\"sk-toggleable__content\"><pre>RandomizedSearchCV(cv=StratifiedKFold(n_splits=3, random_state=1234, shuffle=True),\n",
       "                   estimator=Pipeline(steps=[(&#x27;preprocessing&#x27;,\n",
       "                                              ColumnTransformer(sparse_threshold=0,\n",
       "                                                                transformers=[(&#x27;num&#x27;,\n",
       "                                                                               Pipeline(steps=[(&#x27;imputer&#x27;,\n",
       "                                                                                                SimpleImputer(strategy=&#x27;median&#x27;))]),\n",
       "                                                                               [&#x27;Community_Membership_Family&#x27;,\n",
       "                                                                                &#x27;Community_Membership_Hobbies&#x27;,\n",
       "                                                                                &#x27;Community_Membership_None&#x27;,\n",
       "                                                                                &#x27;Community_Memb...\n",
       "                                                                             random_state=1234,\n",
       "                                                                             scoring=&#x27;balanced_accuracy&#x27;))]),\n",
       "                   n_iter=200, n_jobs=-1,\n",
       "                   param_distributions={&#x27;model__learning_rate&#x27;: &lt;scipy.stats._distn_infrastructure.rv_continuous_frozen object at 0x000002AE7921E470&gt;,\n",
       "                                        &#x27;model__min_samples_leaf&#x27;: &lt;scipy.stats._distn_infrastructure.rv_discrete_frozen object at 0x000002AE7A91A710&gt;},\n",
       "                   random_state=1234, scoring=&#x27;balanced_accuracy&#x27;)</pre></div></div></div><div class=\"sk-parallel\"><div class=\"sk-parallel-item\"><div class=\"sk-item\"><div class=\"sk-label-container\"><div class=\"sk-label sk-toggleable\"><input class=\"sk-toggleable__control sk-hidden--visually\" id=\"sk-estimator-id-167\" type=\"checkbox\" ><label for=\"sk-estimator-id-167\" class=\"sk-toggleable__label sk-toggleable__label-arrow\">estimator: Pipeline</label><div class=\"sk-toggleable__content\"><pre>Pipeline(steps=[(&#x27;preprocessing&#x27;,\n",
       "                 ColumnTransformer(sparse_threshold=0,\n",
       "                                   transformers=[(&#x27;num&#x27;,\n",
       "                                                  Pipeline(steps=[(&#x27;imputer&#x27;,\n",
       "                                                                   SimpleImputer(strategy=&#x27;median&#x27;))]),\n",
       "                                                  [&#x27;Community_Membership_Family&#x27;,\n",
       "                                                   &#x27;Community_Membership_Hobbies&#x27;,\n",
       "                                                   &#x27;Community_Membership_None&#x27;,\n",
       "                                                   &#x27;Community_Membership_Other&#x27;,\n",
       "                                                   &#x27;Community_Membership_Political&#x27;,\n",
       "                                                   &#x27;Community_Membership_Professional&#x27;,\n",
       "                                                   &#x27;Communi...\n",
       "                                                  Pipeline(steps=[(&#x27;imputer&#x27;,\n",
       "                                                                   SimpleImputer(strategy=&#x27;most_frequent&#x27;)),\n",
       "                                                                  (&#x27;encoder&#x27;,\n",
       "                                                                   TargetEncoder())]),\n",
       "                                                  [&#x27;Actual_Time&#x27;, &#x27;Country&#x27;,\n",
       "                                                   &#x27;Major_Geographical_Location&#x27;,\n",
       "                                                   &#x27;Primary_Computing_Platform&#x27;,\n",
       "                                                   &#x27;Primary_Language&#x27;])])),\n",
       "                (&#x27;model&#x27;,\n",
       "                 HistGradientBoostingClassifier(class_weight=&#x27;balanced&#x27;,\n",
       "                                                early_stopping=True,\n",
       "                                                max_iter=1000,\n",
       "                                                n_iter_no_change=5,\n",
       "                                                random_state=1234,\n",
       "                                                scoring=&#x27;balanced_accuracy&#x27;))])</pre></div></div></div><div class=\"sk-serial\"><div class=\"sk-item\"><div class=\"sk-serial\"><div class=\"sk-item sk-dashed-wrapped\"><div class=\"sk-label-container\"><div class=\"sk-label sk-toggleable\"><input class=\"sk-toggleable__control sk-hidden--visually\" id=\"sk-estimator-id-168\" type=\"checkbox\" ><label for=\"sk-estimator-id-168\" class=\"sk-toggleable__label sk-toggleable__label-arrow\">preprocessing: ColumnTransformer</label><div class=\"sk-toggleable__content\"><pre>ColumnTransformer(sparse_threshold=0,\n",
       "                  transformers=[(&#x27;num&#x27;,\n",
       "                                 Pipeline(steps=[(&#x27;imputer&#x27;,\n",
       "                                                  SimpleImputer(strategy=&#x27;median&#x27;))]),\n",
       "                                 [&#x27;Community_Membership_Family&#x27;,\n",
       "                                  &#x27;Community_Membership_Hobbies&#x27;,\n",
       "                                  &#x27;Community_Membership_None&#x27;,\n",
       "                                  &#x27;Community_Membership_Other&#x27;,\n",
       "                                  &#x27;Community_Membership_Political&#x27;,\n",
       "                                  &#x27;Community_Membership_Professional&#x27;,\n",
       "                                  &#x27;Community_Membership_Religious&#x27;,\n",
       "                                  &#x27;Communi...\n",
       "                                  &#x27;Opinions_on_Censorship&#x27;,\n",
       "                                  &#x27;Primary_Place_of_WWW_Access&#x27;, &#x27;Race&#x27;,\n",
       "                                  &#x27;Registered_to_Vote&#x27;, &#x27;Sexual_Preference&#x27;,\n",
       "                                  &#x27;Web_Ordering&#x27;, &#x27;Web_Page_Creation&#x27;]),\n",
       "                                (&#x27;ordinal_encoding&#x27;,\n",
       "                                 Pipeline(steps=[(&#x27;imputer&#x27;,\n",
       "                                                  SimpleImputer(strategy=&#x27;most_frequent&#x27;)),\n",
       "                                                 (&#x27;encoder&#x27;, TargetEncoder())]),\n",
       "                                 [&#x27;Actual_Time&#x27;, &#x27;Country&#x27;,\n",
       "                                  &#x27;Major_Geographical_Location&#x27;,\n",
       "                                  &#x27;Primary_Computing_Platform&#x27;,\n",
       "                                  &#x27;Primary_Language&#x27;])])</pre></div></div></div><div class=\"sk-parallel\"><div class=\"sk-parallel-item\"><div class=\"sk-item\"><div class=\"sk-label-container\"><div class=\"sk-label sk-toggleable\"><input class=\"sk-toggleable__control sk-hidden--visually\" id=\"sk-estimator-id-169\" type=\"checkbox\" ><label for=\"sk-estimator-id-169\" class=\"sk-toggleable__label sk-toggleable__label-arrow\">num</label><div class=\"sk-toggleable__content\"><pre>[&#x27;Community_Membership_Family&#x27;, &#x27;Community_Membership_Hobbies&#x27;, &#x27;Community_Membership_None&#x27;, &#x27;Community_Membership_Other&#x27;, &#x27;Community_Membership_Political&#x27;, &#x27;Community_Membership_Professional&#x27;, &#x27;Community_Membership_Religious&#x27;, &#x27;Community_Membership_Support&#x27;, &#x27;Disability_Cognitive&#x27;, &#x27;Disability_Hearing&#x27;, &#x27;Disability_Motor&#x27;, &#x27;Disability_Not_Impaired&#x27;, &#x27;Disability_Not_Say&#x27;, &#x27;Disability_Vision&#x27;, &#x27;Gender&#x27;, &#x27;How_You_Heard_About_Survey_Banner&#x27;, &#x27;How_You_Heard_About_Survey_Friend&#x27;, &#x27;How_You_Heard_About_Survey_Mailing_List&#x27;, &#x27;How_You_Heard_About_Survey_Others&#x27;, &#x27;How_You_Heard_About_Survey_Printed_Media&#x27;, &#x27;How_You_Heard_About_Survey_Remebered&#x27;, &#x27;How_You_Heard_About_Survey_Search_Engine&#x27;, &#x27;How_You_Heard_About_Survey_Usenet_News&#x27;, &#x27;How_You_Heard_About_Survey_WWW_Page&#x27;, &#x27;Not_Purchasing_Bad_experience&#x27;, &#x27;Not_Purchasing_Bad_press&#x27;, &#x27;Not_Purchasing_Cant_find&#x27;, &#x27;Not_Purchasing_Company_policy&#x27;, &#x27;Not_Purchasing_Easier_locally&#x27;, &#x27;Not_Purchasing_Enough_info&#x27;, &#x27;Not_Purchasing_Judge_quality&#x27;, &#x27;Not_Purchasing_Never_tried&#x27;, &#x27;Not_Purchasing_No_credit&#x27;, &#x27;Not_Purchasing_Not_applicable&#x27;, &#x27;Not_Purchasing_Not_option&#x27;, &#x27;Not_Purchasing_Other&#x27;, &#x27;Not_Purchasing_Prefer_people&#x27;, &#x27;Not_Purchasing_Privacy&#x27;, &#x27;Not_Purchasing_Receipt&#x27;, &#x27;Not_Purchasing_Security&#x27;, &#x27;Not_Purchasing_Too_complicated&#x27;, &#x27;Not_Purchasing_Uncomfortable&#x27;, &#x27;Not_Purchasing_Unfamiliar_vendor&#x27;, &#x27;Who_Pays_for_Access_Dont_Know&#x27;, &#x27;Who_Pays_for_Access_Other&#x27;, &#x27;Who_Pays_for_Access_Parents&#x27;, &#x27;Who_Pays_for_Access_School&#x27;, &#x27;Who_Pays_for_Access_Self&#x27;]</pre></div></div></div><div class=\"sk-serial\"><div class=\"sk-item\"><div class=\"sk-serial\"><div class=\"sk-item\"><div class=\"sk-estimator sk-toggleable\"><input class=\"sk-toggleable__control sk-hidden--visually\" id=\"sk-estimator-id-170\" type=\"checkbox\" ><label for=\"sk-estimator-id-170\" class=\"sk-toggleable__label sk-toggleable__label-arrow\">SimpleImputer</label><div class=\"sk-toggleable__content\"><pre>SimpleImputer(strategy=&#x27;median&#x27;)</pre></div></div></div></div></div></div></div></div><div class=\"sk-parallel-item\"><div class=\"sk-item\"><div class=\"sk-label-container\"><div class=\"sk-label sk-toggleable\"><input class=\"sk-toggleable__control sk-hidden--visually\" id=\"sk-estimator-id-171\" type=\"checkbox\" ><label for=\"sk-estimator-id-171\" class=\"sk-toggleable__label sk-toggleable__label-arrow\">one_hot_encoding</label><div class=\"sk-toggleable__content\"><pre>[&#x27;Community_Building&#x27;, &#x27;Education_Attainment&#x27;, &#x27;Falsification_of_Information&#x27;, &#x27;Household_Income&#x27;, &#x27;Major_Occupation&#x27;, &#x27;Marital_Status&#x27;, &#x27;Most_Import_Issue_Facing_the_Internet&#x27;, &#x27;Opinions_on_Censorship&#x27;, &#x27;Primary_Place_of_WWW_Access&#x27;, &#x27;Race&#x27;, &#x27;Registered_to_Vote&#x27;, &#x27;Sexual_Preference&#x27;, &#x27;Web_Ordering&#x27;, &#x27;Web_Page_Creation&#x27;]</pre></div></div></div><div class=\"sk-serial\"><div class=\"sk-item\"><div class=\"sk-serial\"><div class=\"sk-item\"><div class=\"sk-estimator sk-toggleable\"><input class=\"sk-toggleable__control sk-hidden--visually\" id=\"sk-estimator-id-172\" type=\"checkbox\" ><label for=\"sk-estimator-id-172\" class=\"sk-toggleable__label sk-toggleable__label-arrow\">SimpleImputer</label><div class=\"sk-toggleable__content\"><pre>SimpleImputer(strategy=&#x27;most_frequent&#x27;)</pre></div></div></div><div class=\"sk-item\"><div class=\"sk-estimator sk-toggleable\"><input class=\"sk-toggleable__control sk-hidden--visually\" id=\"sk-estimator-id-173\" type=\"checkbox\" ><label for=\"sk-estimator-id-173\" class=\"sk-toggleable__label sk-toggleable__label-arrow\">OneHotEncoder</label><div class=\"sk-toggleable__content\"><pre>OneHotEncoder(drop=&#x27;first&#x27;, handle_unknown=&#x27;ignore&#x27;)</pre></div></div></div></div></div></div></div></div><div class=\"sk-parallel-item\"><div class=\"sk-item\"><div class=\"sk-label-container\"><div class=\"sk-label sk-toggleable\"><input class=\"sk-toggleable__control sk-hidden--visually\" id=\"sk-estimator-id-174\" type=\"checkbox\" ><label for=\"sk-estimator-id-174\" class=\"sk-toggleable__label sk-toggleable__label-arrow\">ordinal_encoding</label><div class=\"sk-toggleable__content\"><pre>[&#x27;Actual_Time&#x27;, &#x27;Country&#x27;, &#x27;Major_Geographical_Location&#x27;, &#x27;Primary_Computing_Platform&#x27;, &#x27;Primary_Language&#x27;]</pre></div></div></div><div class=\"sk-serial\"><div class=\"sk-item\"><div class=\"sk-serial\"><div class=\"sk-item\"><div class=\"sk-estimator sk-toggleable\"><input class=\"sk-toggleable__control sk-hidden--visually\" id=\"sk-estimator-id-175\" type=\"checkbox\" ><label for=\"sk-estimator-id-175\" class=\"sk-toggleable__label sk-toggleable__label-arrow\">SimpleImputer</label><div class=\"sk-toggleable__content\"><pre>SimpleImputer(strategy=&#x27;most_frequent&#x27;)</pre></div></div></div><div class=\"sk-item\"><div class=\"sk-estimator sk-toggleable\"><input class=\"sk-toggleable__control sk-hidden--visually\" id=\"sk-estimator-id-176\" type=\"checkbox\" ><label for=\"sk-estimator-id-176\" class=\"sk-toggleable__label sk-toggleable__label-arrow\">TargetEncoder</label><div class=\"sk-toggleable__content\"><pre>TargetEncoder()</pre></div></div></div></div></div></div></div></div></div></div><div class=\"sk-item\"><div class=\"sk-estimator sk-toggleable\"><input class=\"sk-toggleable__control sk-hidden--visually\" id=\"sk-estimator-id-177\" type=\"checkbox\" ><label for=\"sk-estimator-id-177\" class=\"sk-toggleable__label sk-toggleable__label-arrow\">HistGradientBoostingClassifier</label><div class=\"sk-toggleable__content\"><pre>HistGradientBoostingClassifier(class_weight=&#x27;balanced&#x27;, early_stopping=True,\n",
       "                               max_iter=1000, n_iter_no_change=5,\n",
       "                               random_state=1234, scoring=&#x27;balanced_accuracy&#x27;)</pre></div></div></div></div></div></div></div></div></div></div></div></div>"
      ],
      "text/plain": [
       "RandomizedSearchCV(cv=StratifiedKFold(n_splits=3, random_state=1234, shuffle=True),\n",
       "                   estimator=Pipeline(steps=[('preprocessing',\n",
       "                                              ColumnTransformer(sparse_threshold=0,\n",
       "                                                                transformers=[('num',\n",
       "                                                                               Pipeline(steps=[('imputer',\n",
       "                                                                                                SimpleImputer(strategy='median'))]),\n",
       "                                                                               ['Community_Membership_Family',\n",
       "                                                                                'Community_Membership_Hobbies',\n",
       "                                                                                'Community_Membership_None',\n",
       "                                                                                'Community_Memb...\n",
       "                                                                             random_state=1234,\n",
       "                                                                             scoring='balanced_accuracy'))]),\n",
       "                   n_iter=200, n_jobs=-1,\n",
       "                   param_distributions={'model__learning_rate': <scipy.stats._distn_infrastructure.rv_continuous_frozen object at 0x000002AE7921E470>,\n",
       "                                        'model__min_samples_leaf': <scipy.stats._distn_infrastructure.rv_discrete_frozen object at 0x000002AE7A91A710>},\n",
       "                   random_state=1234, scoring='balanced_accuracy')"
      ]
     },
     "execution_count": 108,
     "metadata": {},
     "output_type": "execute_result"
    }
   ],
   "source": [
    "# Display pipeline\n",
    "print(\"Time taken: \", target_hgb_tune9_time_taken)\n",
    "target_hgb_tune9"
   ]
  },
  {
   "cell_type": "code",
   "execution_count": 109,
   "id": "a0a522f3",
   "metadata": {
    "scrolled": true
   },
   "outputs": [
    {
     "name": "stdout",
     "output_type": "stream",
     "text": [
      "Best parameters: {'model__learning_rate': 0.20766204659446258, 'model__min_samples_leaf': 6}\n",
      "Balanced accuracy with best parameters: 0.8814878512880562\n"
     ]
    }
   ],
   "source": [
    "# Predict using the model with the best parameters\n",
    "y_target_hgb_tune_pred = target_hgb_tune.predict(X_test)\n",
    "\n",
    "# Get the best parameters\n",
    "target_hgb_tune_best_params = target_hgb_tune.best_params_\n",
    "print(f'Best parameters: {target_hgb_tune_best_params}')\n",
    "\n",
    "# Calculate balanced accuracy for the model with the best parameters\n",
    "target_hgb_tune_accuracy = balanced_accuracy_score(y_test, y_target_hgb_tune_pred)\n",
    "print(f'Balanced accuracy with best parameters: {target_hgb_tune_accuracy}')\n",
    "\n",
    "# Save results\n",
    "default_summary.append(\"Tune\")\n",
    "card_9_summary.append(\"AllVariables\")\n",
    "encoder_summary.append(\"TargetEncoder\")\n",
    "value_summary.append(target_hgb_tune_accuracy)\n",
    "time_summary.append(target_hgb_tune_time_taken)\n",
    "n_models_summary.append(target_hgb_tune.n_iter * target_hgb_tune.n_splits_)"
   ]
  },
  {
   "cell_type": "code",
   "execution_count": 110,
   "id": "2c354c7b",
   "metadata": {},
   "outputs": [
    {
     "name": "stdout",
     "output_type": "stream",
     "text": [
      "Best parameters: {'model__learning_rate': 0.1824028794421748, 'model__min_samples_leaf': 7}\n",
      "Balanced accuracy with best parameters: 0.8829350848946136\n"
     ]
    }
   ],
   "source": [
    "# Predict using the model with the best parameters\n",
    "y_target_hgb_tune_pred9 = target_hgb_tune9.predict(X_test)\n",
    "\n",
    "# Get the best parameters\n",
    "target_hgb_tune_best_params9 = target_hgb_tune9.best_params_\n",
    "print(f'Best parameters: {target_hgb_tune_best_params9}')\n",
    "\n",
    "# Calculate balanced accuracy for the model with the best parameters\n",
    "target_hgb_tune_accuracy9 = balanced_accuracy_score(y_test, y_target_hgb_tune_pred9)\n",
    "print(f'Balanced accuracy with best parameters: {target_hgb_tune_accuracy9}')\n",
    "\n",
    "# Save results\n",
    "default_summary.append(\"Tune\")\n",
    "card_9_summary.append(\"OnlyVariablesWithCard>9\")\n",
    "encoder_summary.append(\"TargetEncoder\")\n",
    "value_summary.append(target_hgb_tune_accuracy9)\n",
    "time_summary.append(target_hgb_tune9_time_taken)\n",
    "n_models_summary.append(target_hgb_tune9.n_iter * target_hgb_tune9.n_splits_)"
   ]
  },
  {
   "cell_type": "markdown",
   "id": "28ba33b9",
   "metadata": {},
   "source": []
  },
  {
   "cell_type": "markdown",
   "id": "b1aa587e",
   "metadata": {},
   "source": []
  },
  {
   "cell_type": "markdown",
   "id": "55d4149b",
   "metadata": {},
   "source": [
    "### CatBoost"
   ]
  },
  {
   "cell_type": "code",
   "execution_count": 111,
   "id": "e5b53613",
   "metadata": {},
   "outputs": [],
   "source": [
    "from catboost import CatBoostClassifier"
   ]
  },
  {
   "cell_type": "markdown",
   "id": "4736b3c9",
   "metadata": {},
   "source": [
    "#### Preprocessing"
   ]
  },
  {
   "cell_type": "code",
   "execution_count": 112,
   "id": "26143662",
   "metadata": {},
   "outputs": [],
   "source": [
    "cat_pipeline = Pipeline([\n",
    "    (\"imputer\", SimpleImputer(strategy = \"most_frequent\"))\n",
    "])\n",
    "\n",
    "preprop_pipeline = ColumnTransformer(\n",
    "    transformers = [(\"num\", num_pipeline, num_cols),\n",
    "                    (\"cat_less9\", cat_pipeline, cat_cols_less9),\n",
    "                    (\"cat_more9\", cat_pipeline, cat_cols_more9)],\n",
    "    sparse_threshold=0\n",
    ")"
   ]
  },
  {
   "cell_type": "code",
   "execution_count": 113,
   "id": "815ae6f1",
   "metadata": {},
   "outputs": [
    {
     "name": "stdout",
     "output_type": "stream",
     "text": [
      "[48, 49, 50, 51, 52, 53, 54, 55, 56, 57, 58, 59, 60, 61, 62, 63, 64, 65, 66]\n",
      "[62, 63, 64, 65, 66]\n"
     ]
    }
   ],
   "source": [
    "category_features_for_catboostsupport = [index for index in range(len(num_cols), len(num_cols) + len(cat_cols))]\n",
    "category_features_for_catboostsupport9 = [index for index in range(len(num_cols) + len(cat_cols_less9), len(num_cols) + len(cat_cols))]\n",
    "print(category_features_for_catboostsupport)\n",
    "print(category_features_for_catboostsupport9)"
   ]
  },
  {
   "cell_type": "markdown",
   "id": "0a43eb68",
   "metadata": {},
   "source": []
  },
  {
   "cell_type": "markdown",
   "id": "5f370c86",
   "metadata": {},
   "source": [
    "Catboost allows to give a maximum value of unique categories for which a variable is encoded or not by One-Hot-Encoder."
   ]
  },
  {
   "cell_type": "code",
   "execution_count": 114,
   "id": "8cdab085",
   "metadata": {},
   "outputs": [],
   "source": [
    "# Create catboost models\n",
    "catboost_default_raw = CatBoostClassifier(iterations=1000,\n",
    "                                        eval_metric = 'BalancedAccuracy',\n",
    "                                        loss_function = 'Logloss',\n",
    "                                        auto_class_weights = 'Balanced',\n",
    "                                        early_stopping_rounds=5,\n",
    "                                        od_type='Iter',\n",
    "                                        one_hot_max_size = 0,\n",
    "                                        random_seed = 1234,\n",
    "                                        verbose = False)\n",
    "\n",
    "catboost_default9_raw = CatBoostClassifier(iterations=1000,\n",
    "                                        eval_metric = 'BalancedAccuracy',\n",
    "                                        loss_function = 'Logloss',\n",
    "                                        auto_class_weights = 'Balanced',\n",
    "                                        early_stopping_rounds=5,\n",
    "                                        od_type='Iter',\n",
    "                                        one_hot_max_size = 9,\n",
    "                                        random_seed = 1234,\n",
    "                                        verbose = False)\n",
    "\n",
    "\n",
    "catboost_default_raw.set_params(cat_features=category_features_for_catboostsupport)\n",
    "catboost_default9_raw.set_params(cat_features=category_features_for_catboostsupport9)\n",
    "\n",
    "\n",
    "# Default CatBoostClassifier Pipeline\n",
    "catboost_default_pipeline = Pipeline([('preprocessing', preprop_pipeline),\n",
    "                                        ('model', catboost_default_raw)])\n",
    "\n",
    "catboost_default_pipeline9 = Pipeline([('preprocessing', preprop_pipeline),\n",
    "                                         ('model', catboost_default9_raw)])\n",
    "\n",
    "# Define the hyperparameter search space\n",
    "catboost_param_distributions = {\n",
    "    'model__iterations': scipy.stats.randint(10, 1000),\n",
    "    'model__depth': scipy.stats.randint(4,11),\n",
    "    'model__learning_rate': scipy.stats.uniform(0.01, 0.3),\n",
    "}\n",
    "\n",
    "# Create a StratifiedKFold cross-validation instance\n",
    "stratified_kfold = StratifiedKFold(n_splits=3, shuffle=True, random_state=1234)\n",
    "\n",
    "catboost_tune_raw = RandomizedSearchCV(estimator = catboost_default_pipeline, \n",
    "                                   param_distributions = catboost_param_distributions, \n",
    "                                   n_iter = 5,\n",
    "                                   cv = stratified_kfold,\n",
    "                                   scoring = 'balanced_accuracy', \n",
    "                                   random_state = 1234,\n",
    "                                   n_jobs = -1)\n",
    "\n",
    "\n",
    "catboost_tune9_raw = RandomizedSearchCV(estimator = catboost_default_pipeline, \n",
    "                                   param_distributions = catboost_param_distributions, \n",
    "                                   n_iter = 5,\n",
    "                                   cv = stratified_kfold,\n",
    "                                   scoring = 'balanced_accuracy', \n",
    "                                   random_state = 1234,\n",
    "                                   n_jobs = -1)"
   ]
  },
  {
   "cell_type": "code",
   "execution_count": 115,
   "id": "53c7ca29",
   "metadata": {},
   "outputs": [],
   "source": [
    "tic = time.time()\n",
    "\n",
    "catboost_default = catboost_default_pipeline.fit(X_train, y_train)\n",
    "\n",
    "toc = time.time()\n",
    "catboost_default_time_taken = toc-tic"
   ]
  },
  {
   "cell_type": "code",
   "execution_count": 116,
   "id": "0b0fc645",
   "metadata": {},
   "outputs": [
    {
     "name": "stdout",
     "output_type": "stream",
     "text": [
      "Time taken:  38.97459363937378\n"
     ]
    },
    {
     "data": {
      "text/html": [
       "<style>#sk-container-id-19 {color: black;}#sk-container-id-19 pre{padding: 0;}#sk-container-id-19 div.sk-toggleable {background-color: white;}#sk-container-id-19 label.sk-toggleable__label {cursor: pointer;display: block;width: 100%;margin-bottom: 0;padding: 0.3em;box-sizing: border-box;text-align: center;}#sk-container-id-19 label.sk-toggleable__label-arrow:before {content: \"▸\";float: left;margin-right: 0.25em;color: #696969;}#sk-container-id-19 label.sk-toggleable__label-arrow:hover:before {color: black;}#sk-container-id-19 div.sk-estimator:hover label.sk-toggleable__label-arrow:before {color: black;}#sk-container-id-19 div.sk-toggleable__content {max-height: 0;max-width: 0;overflow: hidden;text-align: left;background-color: #f0f8ff;}#sk-container-id-19 div.sk-toggleable__content pre {margin: 0.2em;color: black;border-radius: 0.25em;background-color: #f0f8ff;}#sk-container-id-19 input.sk-toggleable__control:checked~div.sk-toggleable__content {max-height: 200px;max-width: 100%;overflow: auto;}#sk-container-id-19 input.sk-toggleable__control:checked~label.sk-toggleable__label-arrow:before {content: \"▾\";}#sk-container-id-19 div.sk-estimator input.sk-toggleable__control:checked~label.sk-toggleable__label {background-color: #d4ebff;}#sk-container-id-19 div.sk-label input.sk-toggleable__control:checked~label.sk-toggleable__label {background-color: #d4ebff;}#sk-container-id-19 input.sk-hidden--visually {border: 0;clip: rect(1px 1px 1px 1px);clip: rect(1px, 1px, 1px, 1px);height: 1px;margin: -1px;overflow: hidden;padding: 0;position: absolute;width: 1px;}#sk-container-id-19 div.sk-estimator {font-family: monospace;background-color: #f0f8ff;border: 1px dotted black;border-radius: 0.25em;box-sizing: border-box;margin-bottom: 0.5em;}#sk-container-id-19 div.sk-estimator:hover {background-color: #d4ebff;}#sk-container-id-19 div.sk-parallel-item::after {content: \"\";width: 100%;border-bottom: 1px solid gray;flex-grow: 1;}#sk-container-id-19 div.sk-label:hover label.sk-toggleable__label {background-color: #d4ebff;}#sk-container-id-19 div.sk-serial::before {content: \"\";position: absolute;border-left: 1px solid gray;box-sizing: border-box;top: 0;bottom: 0;left: 50%;z-index: 0;}#sk-container-id-19 div.sk-serial {display: flex;flex-direction: column;align-items: center;background-color: white;padding-right: 0.2em;padding-left: 0.2em;position: relative;}#sk-container-id-19 div.sk-item {position: relative;z-index: 1;}#sk-container-id-19 div.sk-parallel {display: flex;align-items: stretch;justify-content: center;background-color: white;position: relative;}#sk-container-id-19 div.sk-item::before, #sk-container-id-19 div.sk-parallel-item::before {content: \"\";position: absolute;border-left: 1px solid gray;box-sizing: border-box;top: 0;bottom: 0;left: 50%;z-index: -1;}#sk-container-id-19 div.sk-parallel-item {display: flex;flex-direction: column;z-index: 1;position: relative;background-color: white;}#sk-container-id-19 div.sk-parallel-item:first-child::after {align-self: flex-end;width: 50%;}#sk-container-id-19 div.sk-parallel-item:last-child::after {align-self: flex-start;width: 50%;}#sk-container-id-19 div.sk-parallel-item:only-child::after {width: 0;}#sk-container-id-19 div.sk-dashed-wrapped {border: 1px dashed gray;margin: 0 0.4em 0.5em 0.4em;box-sizing: border-box;padding-bottom: 0.4em;background-color: white;}#sk-container-id-19 div.sk-label label {font-family: monospace;font-weight: bold;display: inline-block;line-height: 1.2em;}#sk-container-id-19 div.sk-label-container {text-align: center;}#sk-container-id-19 div.sk-container {/* jupyter's `normalize.less` sets `[hidden] { display: none; }` but bootstrap.min.css set `[hidden] { display: none !important; }` so we also need the `!important` here to be able to override the default hidden behavior on the sphinx rendered scikit-learn.org. See: https://github.com/scikit-learn/scikit-learn/issues/21755 */display: inline-block !important;position: relative;}#sk-container-id-19 div.sk-text-repr-fallback {display: none;}</style><div id=\"sk-container-id-19\" class=\"sk-top-container\"><div class=\"sk-text-repr-fallback\"><pre>Pipeline(steps=[(&#x27;preprocessing&#x27;,\n",
       "                 ColumnTransformer(sparse_threshold=0,\n",
       "                                   transformers=[(&#x27;num&#x27;,\n",
       "                                                  Pipeline(steps=[(&#x27;imputer&#x27;,\n",
       "                                                                   SimpleImputer(strategy=&#x27;median&#x27;))]),\n",
       "                                                  [&#x27;Community_Membership_Family&#x27;,\n",
       "                                                   &#x27;Community_Membership_Hobbies&#x27;,\n",
       "                                                   &#x27;Community_Membership_None&#x27;,\n",
       "                                                   &#x27;Community_Membership_Other&#x27;,\n",
       "                                                   &#x27;Community_Membership_Political&#x27;,\n",
       "                                                   &#x27;Community_Membership_Professional&#x27;,\n",
       "                                                   &#x27;Communi...\n",
       "                                                   &#x27;Primary_Place_of_WWW_Access&#x27;,\n",
       "                                                   &#x27;Race&#x27;, &#x27;Registered_to_Vote&#x27;,\n",
       "                                                   &#x27;Sexual_Preference&#x27;,\n",
       "                                                   &#x27;Web_Ordering&#x27;,\n",
       "                                                   &#x27;Web_Page_Creation&#x27;]),\n",
       "                                                 (&#x27;cat_more9&#x27;,\n",
       "                                                  Pipeline(steps=[(&#x27;imputer&#x27;,\n",
       "                                                                   SimpleImputer(strategy=&#x27;most_frequent&#x27;))]),\n",
       "                                                  [&#x27;Actual_Time&#x27;, &#x27;Country&#x27;,\n",
       "                                                   &#x27;Major_Geographical_Location&#x27;,\n",
       "                                                   &#x27;Primary_Computing_Platform&#x27;,\n",
       "                                                   &#x27;Primary_Language&#x27;])])),\n",
       "                (&#x27;model&#x27;,\n",
       "                 &lt;catboost.core.CatBoostClassifier object at 0x000002AE0082D330&gt;)])</pre><b>In a Jupyter environment, please rerun this cell to show the HTML representation or trust the notebook. <br />On GitHub, the HTML representation is unable to render, please try loading this page with nbviewer.org.</b></div><div class=\"sk-container\" hidden><div class=\"sk-item sk-dashed-wrapped\"><div class=\"sk-label-container\"><div class=\"sk-label sk-toggleable\"><input class=\"sk-toggleable__control sk-hidden--visually\" id=\"sk-estimator-id-178\" type=\"checkbox\" ><label for=\"sk-estimator-id-178\" class=\"sk-toggleable__label sk-toggleable__label-arrow\">Pipeline</label><div class=\"sk-toggleable__content\"><pre>Pipeline(steps=[(&#x27;preprocessing&#x27;,\n",
       "                 ColumnTransformer(sparse_threshold=0,\n",
       "                                   transformers=[(&#x27;num&#x27;,\n",
       "                                                  Pipeline(steps=[(&#x27;imputer&#x27;,\n",
       "                                                                   SimpleImputer(strategy=&#x27;median&#x27;))]),\n",
       "                                                  [&#x27;Community_Membership_Family&#x27;,\n",
       "                                                   &#x27;Community_Membership_Hobbies&#x27;,\n",
       "                                                   &#x27;Community_Membership_None&#x27;,\n",
       "                                                   &#x27;Community_Membership_Other&#x27;,\n",
       "                                                   &#x27;Community_Membership_Political&#x27;,\n",
       "                                                   &#x27;Community_Membership_Professional&#x27;,\n",
       "                                                   &#x27;Communi...\n",
       "                                                   &#x27;Primary_Place_of_WWW_Access&#x27;,\n",
       "                                                   &#x27;Race&#x27;, &#x27;Registered_to_Vote&#x27;,\n",
       "                                                   &#x27;Sexual_Preference&#x27;,\n",
       "                                                   &#x27;Web_Ordering&#x27;,\n",
       "                                                   &#x27;Web_Page_Creation&#x27;]),\n",
       "                                                 (&#x27;cat_more9&#x27;,\n",
       "                                                  Pipeline(steps=[(&#x27;imputer&#x27;,\n",
       "                                                                   SimpleImputer(strategy=&#x27;most_frequent&#x27;))]),\n",
       "                                                  [&#x27;Actual_Time&#x27;, &#x27;Country&#x27;,\n",
       "                                                   &#x27;Major_Geographical_Location&#x27;,\n",
       "                                                   &#x27;Primary_Computing_Platform&#x27;,\n",
       "                                                   &#x27;Primary_Language&#x27;])])),\n",
       "                (&#x27;model&#x27;,\n",
       "                 &lt;catboost.core.CatBoostClassifier object at 0x000002AE0082D330&gt;)])</pre></div></div></div><div class=\"sk-serial\"><div class=\"sk-item sk-dashed-wrapped\"><div class=\"sk-label-container\"><div class=\"sk-label sk-toggleable\"><input class=\"sk-toggleable__control sk-hidden--visually\" id=\"sk-estimator-id-179\" type=\"checkbox\" ><label for=\"sk-estimator-id-179\" class=\"sk-toggleable__label sk-toggleable__label-arrow\">preprocessing: ColumnTransformer</label><div class=\"sk-toggleable__content\"><pre>ColumnTransformer(sparse_threshold=0,\n",
       "                  transformers=[(&#x27;num&#x27;,\n",
       "                                 Pipeline(steps=[(&#x27;imputer&#x27;,\n",
       "                                                  SimpleImputer(strategy=&#x27;median&#x27;))]),\n",
       "                                 [&#x27;Community_Membership_Family&#x27;,\n",
       "                                  &#x27;Community_Membership_Hobbies&#x27;,\n",
       "                                  &#x27;Community_Membership_None&#x27;,\n",
       "                                  &#x27;Community_Membership_Other&#x27;,\n",
       "                                  &#x27;Community_Membership_Political&#x27;,\n",
       "                                  &#x27;Community_Membership_Professional&#x27;,\n",
       "                                  &#x27;Community_Membership_Religious&#x27;,\n",
       "                                  &#x27;Communi...\n",
       "                                  &#x27;Most_Import_Issue_Facing_the_Internet&#x27;,\n",
       "                                  &#x27;Opinions_on_Censorship&#x27;,\n",
       "                                  &#x27;Primary_Place_of_WWW_Access&#x27;, &#x27;Race&#x27;,\n",
       "                                  &#x27;Registered_to_Vote&#x27;, &#x27;Sexual_Preference&#x27;,\n",
       "                                  &#x27;Web_Ordering&#x27;, &#x27;Web_Page_Creation&#x27;]),\n",
       "                                (&#x27;cat_more9&#x27;,\n",
       "                                 Pipeline(steps=[(&#x27;imputer&#x27;,\n",
       "                                                  SimpleImputer(strategy=&#x27;most_frequent&#x27;))]),\n",
       "                                 [&#x27;Actual_Time&#x27;, &#x27;Country&#x27;,\n",
       "                                  &#x27;Major_Geographical_Location&#x27;,\n",
       "                                  &#x27;Primary_Computing_Platform&#x27;,\n",
       "                                  &#x27;Primary_Language&#x27;])])</pre></div></div></div><div class=\"sk-parallel\"><div class=\"sk-parallel-item\"><div class=\"sk-item\"><div class=\"sk-label-container\"><div class=\"sk-label sk-toggleable\"><input class=\"sk-toggleable__control sk-hidden--visually\" id=\"sk-estimator-id-180\" type=\"checkbox\" ><label for=\"sk-estimator-id-180\" class=\"sk-toggleable__label sk-toggleable__label-arrow\">num</label><div class=\"sk-toggleable__content\"><pre>[&#x27;Community_Membership_Family&#x27;, &#x27;Community_Membership_Hobbies&#x27;, &#x27;Community_Membership_None&#x27;, &#x27;Community_Membership_Other&#x27;, &#x27;Community_Membership_Political&#x27;, &#x27;Community_Membership_Professional&#x27;, &#x27;Community_Membership_Religious&#x27;, &#x27;Community_Membership_Support&#x27;, &#x27;Disability_Cognitive&#x27;, &#x27;Disability_Hearing&#x27;, &#x27;Disability_Motor&#x27;, &#x27;Disability_Not_Impaired&#x27;, &#x27;Disability_Not_Say&#x27;, &#x27;Disability_Vision&#x27;, &#x27;Gender&#x27;, &#x27;How_You_Heard_About_Survey_Banner&#x27;, &#x27;How_You_Heard_About_Survey_Friend&#x27;, &#x27;How_You_Heard_About_Survey_Mailing_List&#x27;, &#x27;How_You_Heard_About_Survey_Others&#x27;, &#x27;How_You_Heard_About_Survey_Printed_Media&#x27;, &#x27;How_You_Heard_About_Survey_Remebered&#x27;, &#x27;How_You_Heard_About_Survey_Search_Engine&#x27;, &#x27;How_You_Heard_About_Survey_Usenet_News&#x27;, &#x27;How_You_Heard_About_Survey_WWW_Page&#x27;, &#x27;Not_Purchasing_Bad_experience&#x27;, &#x27;Not_Purchasing_Bad_press&#x27;, &#x27;Not_Purchasing_Cant_find&#x27;, &#x27;Not_Purchasing_Company_policy&#x27;, &#x27;Not_Purchasing_Easier_locally&#x27;, &#x27;Not_Purchasing_Enough_info&#x27;, &#x27;Not_Purchasing_Judge_quality&#x27;, &#x27;Not_Purchasing_Never_tried&#x27;, &#x27;Not_Purchasing_No_credit&#x27;, &#x27;Not_Purchasing_Not_applicable&#x27;, &#x27;Not_Purchasing_Not_option&#x27;, &#x27;Not_Purchasing_Other&#x27;, &#x27;Not_Purchasing_Prefer_people&#x27;, &#x27;Not_Purchasing_Privacy&#x27;, &#x27;Not_Purchasing_Receipt&#x27;, &#x27;Not_Purchasing_Security&#x27;, &#x27;Not_Purchasing_Too_complicated&#x27;, &#x27;Not_Purchasing_Uncomfortable&#x27;, &#x27;Not_Purchasing_Unfamiliar_vendor&#x27;, &#x27;Who_Pays_for_Access_Dont_Know&#x27;, &#x27;Who_Pays_for_Access_Other&#x27;, &#x27;Who_Pays_for_Access_Parents&#x27;, &#x27;Who_Pays_for_Access_School&#x27;, &#x27;Who_Pays_for_Access_Self&#x27;]</pre></div></div></div><div class=\"sk-serial\"><div class=\"sk-item\"><div class=\"sk-serial\"><div class=\"sk-item\"><div class=\"sk-estimator sk-toggleable\"><input class=\"sk-toggleable__control sk-hidden--visually\" id=\"sk-estimator-id-181\" type=\"checkbox\" ><label for=\"sk-estimator-id-181\" class=\"sk-toggleable__label sk-toggleable__label-arrow\">SimpleImputer</label><div class=\"sk-toggleable__content\"><pre>SimpleImputer(strategy=&#x27;median&#x27;)</pre></div></div></div></div></div></div></div></div><div class=\"sk-parallel-item\"><div class=\"sk-item\"><div class=\"sk-label-container\"><div class=\"sk-label sk-toggleable\"><input class=\"sk-toggleable__control sk-hidden--visually\" id=\"sk-estimator-id-182\" type=\"checkbox\" ><label for=\"sk-estimator-id-182\" class=\"sk-toggleable__label sk-toggleable__label-arrow\">cat_less9</label><div class=\"sk-toggleable__content\"><pre>[&#x27;Community_Building&#x27;, &#x27;Education_Attainment&#x27;, &#x27;Falsification_of_Information&#x27;, &#x27;Household_Income&#x27;, &#x27;Major_Occupation&#x27;, &#x27;Marital_Status&#x27;, &#x27;Most_Import_Issue_Facing_the_Internet&#x27;, &#x27;Opinions_on_Censorship&#x27;, &#x27;Primary_Place_of_WWW_Access&#x27;, &#x27;Race&#x27;, &#x27;Registered_to_Vote&#x27;, &#x27;Sexual_Preference&#x27;, &#x27;Web_Ordering&#x27;, &#x27;Web_Page_Creation&#x27;]</pre></div></div></div><div class=\"sk-serial\"><div class=\"sk-item\"><div class=\"sk-serial\"><div class=\"sk-item\"><div class=\"sk-estimator sk-toggleable\"><input class=\"sk-toggleable__control sk-hidden--visually\" id=\"sk-estimator-id-183\" type=\"checkbox\" ><label for=\"sk-estimator-id-183\" class=\"sk-toggleable__label sk-toggleable__label-arrow\">SimpleImputer</label><div class=\"sk-toggleable__content\"><pre>SimpleImputer(strategy=&#x27;most_frequent&#x27;)</pre></div></div></div></div></div></div></div></div><div class=\"sk-parallel-item\"><div class=\"sk-item\"><div class=\"sk-label-container\"><div class=\"sk-label sk-toggleable\"><input class=\"sk-toggleable__control sk-hidden--visually\" id=\"sk-estimator-id-184\" type=\"checkbox\" ><label for=\"sk-estimator-id-184\" class=\"sk-toggleable__label sk-toggleable__label-arrow\">cat_more9</label><div class=\"sk-toggleable__content\"><pre>[&#x27;Actual_Time&#x27;, &#x27;Country&#x27;, &#x27;Major_Geographical_Location&#x27;, &#x27;Primary_Computing_Platform&#x27;, &#x27;Primary_Language&#x27;]</pre></div></div></div><div class=\"sk-serial\"><div class=\"sk-item\"><div class=\"sk-serial\"><div class=\"sk-item\"><div class=\"sk-estimator sk-toggleable\"><input class=\"sk-toggleable__control sk-hidden--visually\" id=\"sk-estimator-id-185\" type=\"checkbox\" ><label for=\"sk-estimator-id-185\" class=\"sk-toggleable__label sk-toggleable__label-arrow\">SimpleImputer</label><div class=\"sk-toggleable__content\"><pre>SimpleImputer(strategy=&#x27;most_frequent&#x27;)</pre></div></div></div></div></div></div></div></div></div></div><div class=\"sk-item\"><div class=\"sk-estimator sk-toggleable\"><input class=\"sk-toggleable__control sk-hidden--visually\" id=\"sk-estimator-id-186\" type=\"checkbox\" ><label for=\"sk-estimator-id-186\" class=\"sk-toggleable__label sk-toggleable__label-arrow\">CatBoostClassifier</label><div class=\"sk-toggleable__content\"><pre>&lt;catboost.core.CatBoostClassifier object at 0x000002AE0082D330&gt;</pre></div></div></div></div></div></div></div>"
      ],
      "text/plain": [
       "Pipeline(steps=[('preprocessing',\n",
       "                 ColumnTransformer(sparse_threshold=0,\n",
       "                                   transformers=[('num',\n",
       "                                                  Pipeline(steps=[('imputer',\n",
       "                                                                   SimpleImputer(strategy='median'))]),\n",
       "                                                  ['Community_Membership_Family',\n",
       "                                                   'Community_Membership_Hobbies',\n",
       "                                                   'Community_Membership_None',\n",
       "                                                   'Community_Membership_Other',\n",
       "                                                   'Community_Membership_Political',\n",
       "                                                   'Community_Membership_Professional',\n",
       "                                                   'Communi...\n",
       "                                                   'Primary_Place_of_WWW_Access',\n",
       "                                                   'Race', 'Registered_to_Vote',\n",
       "                                                   'Sexual_Preference',\n",
       "                                                   'Web_Ordering',\n",
       "                                                   'Web_Page_Creation']),\n",
       "                                                 ('cat_more9',\n",
       "                                                  Pipeline(steps=[('imputer',\n",
       "                                                                   SimpleImputer(strategy='most_frequent'))]),\n",
       "                                                  ['Actual_Time', 'Country',\n",
       "                                                   'Major_Geographical_Location',\n",
       "                                                   'Primary_Computing_Platform',\n",
       "                                                   'Primary_Language'])])),\n",
       "                ('model',\n",
       "                 <catboost.core.CatBoostClassifier object at 0x000002AE0082D330>)])"
      ]
     },
     "execution_count": 116,
     "metadata": {},
     "output_type": "execute_result"
    }
   ],
   "source": [
    "# Display pipeline\n",
    "print(\"Time taken: \", catboost_default_time_taken)\n",
    "catboost_default"
   ]
  },
  {
   "cell_type": "code",
   "execution_count": 117,
   "id": "31da5144",
   "metadata": {},
   "outputs": [],
   "source": [
    "tic = time.time()\n",
    "\n",
    "catboost_default9 = catboost_default_pipeline.fit(X_train, y_train)\n",
    "\n",
    "toc = time.time()\n",
    "catboost_default_time_taken9 = toc-tic"
   ]
  },
  {
   "cell_type": "code",
   "execution_count": 118,
   "id": "6cac5e07",
   "metadata": {},
   "outputs": [
    {
     "name": "stdout",
     "output_type": "stream",
     "text": [
      "Time taken:  39.02650856971741\n"
     ]
    },
    {
     "data": {
      "text/html": [
       "<style>#sk-container-id-20 {color: black;}#sk-container-id-20 pre{padding: 0;}#sk-container-id-20 div.sk-toggleable {background-color: white;}#sk-container-id-20 label.sk-toggleable__label {cursor: pointer;display: block;width: 100%;margin-bottom: 0;padding: 0.3em;box-sizing: border-box;text-align: center;}#sk-container-id-20 label.sk-toggleable__label-arrow:before {content: \"▸\";float: left;margin-right: 0.25em;color: #696969;}#sk-container-id-20 label.sk-toggleable__label-arrow:hover:before {color: black;}#sk-container-id-20 div.sk-estimator:hover label.sk-toggleable__label-arrow:before {color: black;}#sk-container-id-20 div.sk-toggleable__content {max-height: 0;max-width: 0;overflow: hidden;text-align: left;background-color: #f0f8ff;}#sk-container-id-20 div.sk-toggleable__content pre {margin: 0.2em;color: black;border-radius: 0.25em;background-color: #f0f8ff;}#sk-container-id-20 input.sk-toggleable__control:checked~div.sk-toggleable__content {max-height: 200px;max-width: 100%;overflow: auto;}#sk-container-id-20 input.sk-toggleable__control:checked~label.sk-toggleable__label-arrow:before {content: \"▾\";}#sk-container-id-20 div.sk-estimator input.sk-toggleable__control:checked~label.sk-toggleable__label {background-color: #d4ebff;}#sk-container-id-20 div.sk-label input.sk-toggleable__control:checked~label.sk-toggleable__label {background-color: #d4ebff;}#sk-container-id-20 input.sk-hidden--visually {border: 0;clip: rect(1px 1px 1px 1px);clip: rect(1px, 1px, 1px, 1px);height: 1px;margin: -1px;overflow: hidden;padding: 0;position: absolute;width: 1px;}#sk-container-id-20 div.sk-estimator {font-family: monospace;background-color: #f0f8ff;border: 1px dotted black;border-radius: 0.25em;box-sizing: border-box;margin-bottom: 0.5em;}#sk-container-id-20 div.sk-estimator:hover {background-color: #d4ebff;}#sk-container-id-20 div.sk-parallel-item::after {content: \"\";width: 100%;border-bottom: 1px solid gray;flex-grow: 1;}#sk-container-id-20 div.sk-label:hover label.sk-toggleable__label {background-color: #d4ebff;}#sk-container-id-20 div.sk-serial::before {content: \"\";position: absolute;border-left: 1px solid gray;box-sizing: border-box;top: 0;bottom: 0;left: 50%;z-index: 0;}#sk-container-id-20 div.sk-serial {display: flex;flex-direction: column;align-items: center;background-color: white;padding-right: 0.2em;padding-left: 0.2em;position: relative;}#sk-container-id-20 div.sk-item {position: relative;z-index: 1;}#sk-container-id-20 div.sk-parallel {display: flex;align-items: stretch;justify-content: center;background-color: white;position: relative;}#sk-container-id-20 div.sk-item::before, #sk-container-id-20 div.sk-parallel-item::before {content: \"\";position: absolute;border-left: 1px solid gray;box-sizing: border-box;top: 0;bottom: 0;left: 50%;z-index: -1;}#sk-container-id-20 div.sk-parallel-item {display: flex;flex-direction: column;z-index: 1;position: relative;background-color: white;}#sk-container-id-20 div.sk-parallel-item:first-child::after {align-self: flex-end;width: 50%;}#sk-container-id-20 div.sk-parallel-item:last-child::after {align-self: flex-start;width: 50%;}#sk-container-id-20 div.sk-parallel-item:only-child::after {width: 0;}#sk-container-id-20 div.sk-dashed-wrapped {border: 1px dashed gray;margin: 0 0.4em 0.5em 0.4em;box-sizing: border-box;padding-bottom: 0.4em;background-color: white;}#sk-container-id-20 div.sk-label label {font-family: monospace;font-weight: bold;display: inline-block;line-height: 1.2em;}#sk-container-id-20 div.sk-label-container {text-align: center;}#sk-container-id-20 div.sk-container {/* jupyter's `normalize.less` sets `[hidden] { display: none; }` but bootstrap.min.css set `[hidden] { display: none !important; }` so we also need the `!important` here to be able to override the default hidden behavior on the sphinx rendered scikit-learn.org. See: https://github.com/scikit-learn/scikit-learn/issues/21755 */display: inline-block !important;position: relative;}#sk-container-id-20 div.sk-text-repr-fallback {display: none;}</style><div id=\"sk-container-id-20\" class=\"sk-top-container\"><div class=\"sk-text-repr-fallback\"><pre>Pipeline(steps=[(&#x27;preprocessing&#x27;,\n",
       "                 ColumnTransformer(sparse_threshold=0,\n",
       "                                   transformers=[(&#x27;num&#x27;,\n",
       "                                                  Pipeline(steps=[(&#x27;imputer&#x27;,\n",
       "                                                                   SimpleImputer(strategy=&#x27;median&#x27;))]),\n",
       "                                                  [&#x27;Community_Membership_Family&#x27;,\n",
       "                                                   &#x27;Community_Membership_Hobbies&#x27;,\n",
       "                                                   &#x27;Community_Membership_None&#x27;,\n",
       "                                                   &#x27;Community_Membership_Other&#x27;,\n",
       "                                                   &#x27;Community_Membership_Political&#x27;,\n",
       "                                                   &#x27;Community_Membership_Professional&#x27;,\n",
       "                                                   &#x27;Communi...\n",
       "                                                   &#x27;Primary_Place_of_WWW_Access&#x27;,\n",
       "                                                   &#x27;Race&#x27;, &#x27;Registered_to_Vote&#x27;,\n",
       "                                                   &#x27;Sexual_Preference&#x27;,\n",
       "                                                   &#x27;Web_Ordering&#x27;,\n",
       "                                                   &#x27;Web_Page_Creation&#x27;]),\n",
       "                                                 (&#x27;cat_more9&#x27;,\n",
       "                                                  Pipeline(steps=[(&#x27;imputer&#x27;,\n",
       "                                                                   SimpleImputer(strategy=&#x27;most_frequent&#x27;))]),\n",
       "                                                  [&#x27;Actual_Time&#x27;, &#x27;Country&#x27;,\n",
       "                                                   &#x27;Major_Geographical_Location&#x27;,\n",
       "                                                   &#x27;Primary_Computing_Platform&#x27;,\n",
       "                                                   &#x27;Primary_Language&#x27;])])),\n",
       "                (&#x27;model&#x27;,\n",
       "                 &lt;catboost.core.CatBoostClassifier object at 0x000002AE0082D330&gt;)])</pre><b>In a Jupyter environment, please rerun this cell to show the HTML representation or trust the notebook. <br />On GitHub, the HTML representation is unable to render, please try loading this page with nbviewer.org.</b></div><div class=\"sk-container\" hidden><div class=\"sk-item sk-dashed-wrapped\"><div class=\"sk-label-container\"><div class=\"sk-label sk-toggleable\"><input class=\"sk-toggleable__control sk-hidden--visually\" id=\"sk-estimator-id-187\" type=\"checkbox\" ><label for=\"sk-estimator-id-187\" class=\"sk-toggleable__label sk-toggleable__label-arrow\">Pipeline</label><div class=\"sk-toggleable__content\"><pre>Pipeline(steps=[(&#x27;preprocessing&#x27;,\n",
       "                 ColumnTransformer(sparse_threshold=0,\n",
       "                                   transformers=[(&#x27;num&#x27;,\n",
       "                                                  Pipeline(steps=[(&#x27;imputer&#x27;,\n",
       "                                                                   SimpleImputer(strategy=&#x27;median&#x27;))]),\n",
       "                                                  [&#x27;Community_Membership_Family&#x27;,\n",
       "                                                   &#x27;Community_Membership_Hobbies&#x27;,\n",
       "                                                   &#x27;Community_Membership_None&#x27;,\n",
       "                                                   &#x27;Community_Membership_Other&#x27;,\n",
       "                                                   &#x27;Community_Membership_Political&#x27;,\n",
       "                                                   &#x27;Community_Membership_Professional&#x27;,\n",
       "                                                   &#x27;Communi...\n",
       "                                                   &#x27;Primary_Place_of_WWW_Access&#x27;,\n",
       "                                                   &#x27;Race&#x27;, &#x27;Registered_to_Vote&#x27;,\n",
       "                                                   &#x27;Sexual_Preference&#x27;,\n",
       "                                                   &#x27;Web_Ordering&#x27;,\n",
       "                                                   &#x27;Web_Page_Creation&#x27;]),\n",
       "                                                 (&#x27;cat_more9&#x27;,\n",
       "                                                  Pipeline(steps=[(&#x27;imputer&#x27;,\n",
       "                                                                   SimpleImputer(strategy=&#x27;most_frequent&#x27;))]),\n",
       "                                                  [&#x27;Actual_Time&#x27;, &#x27;Country&#x27;,\n",
       "                                                   &#x27;Major_Geographical_Location&#x27;,\n",
       "                                                   &#x27;Primary_Computing_Platform&#x27;,\n",
       "                                                   &#x27;Primary_Language&#x27;])])),\n",
       "                (&#x27;model&#x27;,\n",
       "                 &lt;catboost.core.CatBoostClassifier object at 0x000002AE0082D330&gt;)])</pre></div></div></div><div class=\"sk-serial\"><div class=\"sk-item sk-dashed-wrapped\"><div class=\"sk-label-container\"><div class=\"sk-label sk-toggleable\"><input class=\"sk-toggleable__control sk-hidden--visually\" id=\"sk-estimator-id-188\" type=\"checkbox\" ><label for=\"sk-estimator-id-188\" class=\"sk-toggleable__label sk-toggleable__label-arrow\">preprocessing: ColumnTransformer</label><div class=\"sk-toggleable__content\"><pre>ColumnTransformer(sparse_threshold=0,\n",
       "                  transformers=[(&#x27;num&#x27;,\n",
       "                                 Pipeline(steps=[(&#x27;imputer&#x27;,\n",
       "                                                  SimpleImputer(strategy=&#x27;median&#x27;))]),\n",
       "                                 [&#x27;Community_Membership_Family&#x27;,\n",
       "                                  &#x27;Community_Membership_Hobbies&#x27;,\n",
       "                                  &#x27;Community_Membership_None&#x27;,\n",
       "                                  &#x27;Community_Membership_Other&#x27;,\n",
       "                                  &#x27;Community_Membership_Political&#x27;,\n",
       "                                  &#x27;Community_Membership_Professional&#x27;,\n",
       "                                  &#x27;Community_Membership_Religious&#x27;,\n",
       "                                  &#x27;Communi...\n",
       "                                  &#x27;Most_Import_Issue_Facing_the_Internet&#x27;,\n",
       "                                  &#x27;Opinions_on_Censorship&#x27;,\n",
       "                                  &#x27;Primary_Place_of_WWW_Access&#x27;, &#x27;Race&#x27;,\n",
       "                                  &#x27;Registered_to_Vote&#x27;, &#x27;Sexual_Preference&#x27;,\n",
       "                                  &#x27;Web_Ordering&#x27;, &#x27;Web_Page_Creation&#x27;]),\n",
       "                                (&#x27;cat_more9&#x27;,\n",
       "                                 Pipeline(steps=[(&#x27;imputer&#x27;,\n",
       "                                                  SimpleImputer(strategy=&#x27;most_frequent&#x27;))]),\n",
       "                                 [&#x27;Actual_Time&#x27;, &#x27;Country&#x27;,\n",
       "                                  &#x27;Major_Geographical_Location&#x27;,\n",
       "                                  &#x27;Primary_Computing_Platform&#x27;,\n",
       "                                  &#x27;Primary_Language&#x27;])])</pre></div></div></div><div class=\"sk-parallel\"><div class=\"sk-parallel-item\"><div class=\"sk-item\"><div class=\"sk-label-container\"><div class=\"sk-label sk-toggleable\"><input class=\"sk-toggleable__control sk-hidden--visually\" id=\"sk-estimator-id-189\" type=\"checkbox\" ><label for=\"sk-estimator-id-189\" class=\"sk-toggleable__label sk-toggleable__label-arrow\">num</label><div class=\"sk-toggleable__content\"><pre>[&#x27;Community_Membership_Family&#x27;, &#x27;Community_Membership_Hobbies&#x27;, &#x27;Community_Membership_None&#x27;, &#x27;Community_Membership_Other&#x27;, &#x27;Community_Membership_Political&#x27;, &#x27;Community_Membership_Professional&#x27;, &#x27;Community_Membership_Religious&#x27;, &#x27;Community_Membership_Support&#x27;, &#x27;Disability_Cognitive&#x27;, &#x27;Disability_Hearing&#x27;, &#x27;Disability_Motor&#x27;, &#x27;Disability_Not_Impaired&#x27;, &#x27;Disability_Not_Say&#x27;, &#x27;Disability_Vision&#x27;, &#x27;Gender&#x27;, &#x27;How_You_Heard_About_Survey_Banner&#x27;, &#x27;How_You_Heard_About_Survey_Friend&#x27;, &#x27;How_You_Heard_About_Survey_Mailing_List&#x27;, &#x27;How_You_Heard_About_Survey_Others&#x27;, &#x27;How_You_Heard_About_Survey_Printed_Media&#x27;, &#x27;How_You_Heard_About_Survey_Remebered&#x27;, &#x27;How_You_Heard_About_Survey_Search_Engine&#x27;, &#x27;How_You_Heard_About_Survey_Usenet_News&#x27;, &#x27;How_You_Heard_About_Survey_WWW_Page&#x27;, &#x27;Not_Purchasing_Bad_experience&#x27;, &#x27;Not_Purchasing_Bad_press&#x27;, &#x27;Not_Purchasing_Cant_find&#x27;, &#x27;Not_Purchasing_Company_policy&#x27;, &#x27;Not_Purchasing_Easier_locally&#x27;, &#x27;Not_Purchasing_Enough_info&#x27;, &#x27;Not_Purchasing_Judge_quality&#x27;, &#x27;Not_Purchasing_Never_tried&#x27;, &#x27;Not_Purchasing_No_credit&#x27;, &#x27;Not_Purchasing_Not_applicable&#x27;, &#x27;Not_Purchasing_Not_option&#x27;, &#x27;Not_Purchasing_Other&#x27;, &#x27;Not_Purchasing_Prefer_people&#x27;, &#x27;Not_Purchasing_Privacy&#x27;, &#x27;Not_Purchasing_Receipt&#x27;, &#x27;Not_Purchasing_Security&#x27;, &#x27;Not_Purchasing_Too_complicated&#x27;, &#x27;Not_Purchasing_Uncomfortable&#x27;, &#x27;Not_Purchasing_Unfamiliar_vendor&#x27;, &#x27;Who_Pays_for_Access_Dont_Know&#x27;, &#x27;Who_Pays_for_Access_Other&#x27;, &#x27;Who_Pays_for_Access_Parents&#x27;, &#x27;Who_Pays_for_Access_School&#x27;, &#x27;Who_Pays_for_Access_Self&#x27;]</pre></div></div></div><div class=\"sk-serial\"><div class=\"sk-item\"><div class=\"sk-serial\"><div class=\"sk-item\"><div class=\"sk-estimator sk-toggleable\"><input class=\"sk-toggleable__control sk-hidden--visually\" id=\"sk-estimator-id-190\" type=\"checkbox\" ><label for=\"sk-estimator-id-190\" class=\"sk-toggleable__label sk-toggleable__label-arrow\">SimpleImputer</label><div class=\"sk-toggleable__content\"><pre>SimpleImputer(strategy=&#x27;median&#x27;)</pre></div></div></div></div></div></div></div></div><div class=\"sk-parallel-item\"><div class=\"sk-item\"><div class=\"sk-label-container\"><div class=\"sk-label sk-toggleable\"><input class=\"sk-toggleable__control sk-hidden--visually\" id=\"sk-estimator-id-191\" type=\"checkbox\" ><label for=\"sk-estimator-id-191\" class=\"sk-toggleable__label sk-toggleable__label-arrow\">cat_less9</label><div class=\"sk-toggleable__content\"><pre>[&#x27;Community_Building&#x27;, &#x27;Education_Attainment&#x27;, &#x27;Falsification_of_Information&#x27;, &#x27;Household_Income&#x27;, &#x27;Major_Occupation&#x27;, &#x27;Marital_Status&#x27;, &#x27;Most_Import_Issue_Facing_the_Internet&#x27;, &#x27;Opinions_on_Censorship&#x27;, &#x27;Primary_Place_of_WWW_Access&#x27;, &#x27;Race&#x27;, &#x27;Registered_to_Vote&#x27;, &#x27;Sexual_Preference&#x27;, &#x27;Web_Ordering&#x27;, &#x27;Web_Page_Creation&#x27;]</pre></div></div></div><div class=\"sk-serial\"><div class=\"sk-item\"><div class=\"sk-serial\"><div class=\"sk-item\"><div class=\"sk-estimator sk-toggleable\"><input class=\"sk-toggleable__control sk-hidden--visually\" id=\"sk-estimator-id-192\" type=\"checkbox\" ><label for=\"sk-estimator-id-192\" class=\"sk-toggleable__label sk-toggleable__label-arrow\">SimpleImputer</label><div class=\"sk-toggleable__content\"><pre>SimpleImputer(strategy=&#x27;most_frequent&#x27;)</pre></div></div></div></div></div></div></div></div><div class=\"sk-parallel-item\"><div class=\"sk-item\"><div class=\"sk-label-container\"><div class=\"sk-label sk-toggleable\"><input class=\"sk-toggleable__control sk-hidden--visually\" id=\"sk-estimator-id-193\" type=\"checkbox\" ><label for=\"sk-estimator-id-193\" class=\"sk-toggleable__label sk-toggleable__label-arrow\">cat_more9</label><div class=\"sk-toggleable__content\"><pre>[&#x27;Actual_Time&#x27;, &#x27;Country&#x27;, &#x27;Major_Geographical_Location&#x27;, &#x27;Primary_Computing_Platform&#x27;, &#x27;Primary_Language&#x27;]</pre></div></div></div><div class=\"sk-serial\"><div class=\"sk-item\"><div class=\"sk-serial\"><div class=\"sk-item\"><div class=\"sk-estimator sk-toggleable\"><input class=\"sk-toggleable__control sk-hidden--visually\" id=\"sk-estimator-id-194\" type=\"checkbox\" ><label for=\"sk-estimator-id-194\" class=\"sk-toggleable__label sk-toggleable__label-arrow\">SimpleImputer</label><div class=\"sk-toggleable__content\"><pre>SimpleImputer(strategy=&#x27;most_frequent&#x27;)</pre></div></div></div></div></div></div></div></div></div></div><div class=\"sk-item\"><div class=\"sk-estimator sk-toggleable\"><input class=\"sk-toggleable__control sk-hidden--visually\" id=\"sk-estimator-id-195\" type=\"checkbox\" ><label for=\"sk-estimator-id-195\" class=\"sk-toggleable__label sk-toggleable__label-arrow\">CatBoostClassifier</label><div class=\"sk-toggleable__content\"><pre>&lt;catboost.core.CatBoostClassifier object at 0x000002AE0082D330&gt;</pre></div></div></div></div></div></div></div>"
      ],
      "text/plain": [
       "Pipeline(steps=[('preprocessing',\n",
       "                 ColumnTransformer(sparse_threshold=0,\n",
       "                                   transformers=[('num',\n",
       "                                                  Pipeline(steps=[('imputer',\n",
       "                                                                   SimpleImputer(strategy='median'))]),\n",
       "                                                  ['Community_Membership_Family',\n",
       "                                                   'Community_Membership_Hobbies',\n",
       "                                                   'Community_Membership_None',\n",
       "                                                   'Community_Membership_Other',\n",
       "                                                   'Community_Membership_Political',\n",
       "                                                   'Community_Membership_Professional',\n",
       "                                                   'Communi...\n",
       "                                                   'Primary_Place_of_WWW_Access',\n",
       "                                                   'Race', 'Registered_to_Vote',\n",
       "                                                   'Sexual_Preference',\n",
       "                                                   'Web_Ordering',\n",
       "                                                   'Web_Page_Creation']),\n",
       "                                                 ('cat_more9',\n",
       "                                                  Pipeline(steps=[('imputer',\n",
       "                                                                   SimpleImputer(strategy='most_frequent'))]),\n",
       "                                                  ['Actual_Time', 'Country',\n",
       "                                                   'Major_Geographical_Location',\n",
       "                                                   'Primary_Computing_Platform',\n",
       "                                                   'Primary_Language'])])),\n",
       "                ('model',\n",
       "                 <catboost.core.CatBoostClassifier object at 0x000002AE0082D330>)])"
      ]
     },
     "execution_count": 118,
     "metadata": {},
     "output_type": "execute_result"
    }
   ],
   "source": [
    "# Display pipeline\n",
    "print(\"Time taken: \", catboost_default_time_taken9)\n",
    "catboost_default9"
   ]
  },
  {
   "cell_type": "code",
   "execution_count": 119,
   "id": "9227acb8",
   "metadata": {},
   "outputs": [
    {
     "name": "stdout",
     "output_type": "stream",
     "text": [
      "Balanced accuracy with default parameters: 0.8898108167447307\n"
     ]
    }
   ],
   "source": [
    "# Calculate balanced accuracy for the model with default parameters\n",
    "y_catboost_default_pred = catboost_default.predict(X_test)\n",
    "catboost_default_accuracy = balanced_accuracy_score(y_test, y_catboost_default_pred)\n",
    "print(f'Balanced accuracy with default parameters: {catboost_default_accuracy}')\n",
    "\n",
    "# Save results\n",
    "default_summary.append(\"Default\")\n",
    "card_9_summary.append(\"AllVariables\")\n",
    "encoder_summary.append(\"CatboostNativeSupport\")\n",
    "value_summary.append(catboost_default_accuracy)\n",
    "time_summary.append(catboost_default_time_taken)\n",
    "n_models_summary.append(1)"
   ]
  },
  {
   "cell_type": "code",
   "execution_count": 120,
   "id": "46f59b4e",
   "metadata": {},
   "outputs": [
    {
     "name": "stdout",
     "output_type": "stream",
     "text": [
      "Balanced accuracy with default parameters: 0.8898108167447307\n"
     ]
    }
   ],
   "source": [
    "# Calculate balanced accuracy for the model with default parameters\n",
    "y_catboost_default_pred9 = catboost_default9.predict(X_test)\n",
    "catboost_default_accuracy9 = balanced_accuracy_score(y_test, y_catboost_default_pred9)\n",
    "print(f'Balanced accuracy with default parameters: {catboost_default_accuracy9}')\n",
    "\n",
    "# Save results\n",
    "default_summary.append(\"Default\")\n",
    "card_9_summary.append(\"OnlyVariablesWithCard>9\")\n",
    "encoder_summary.append(\"CatboostNativeSupport\")\n",
    "value_summary.append(catboost_default_accuracy9)\n",
    "time_summary.append(catboost_default_time_taken9)\n",
    "n_models_summary.append(1)"
   ]
  },
  {
   "cell_type": "markdown",
   "id": "6f032a60",
   "metadata": {},
   "source": []
  },
  {
   "cell_type": "code",
   "execution_count": 121,
   "id": "7c717415",
   "metadata": {},
   "outputs": [],
   "source": [
    "tic = time.time()\n",
    "\n",
    "catboost_tune = catboost_tune_raw.fit(X_train, y_train)\n",
    "\n",
    "toc = time.time()\n",
    "catboost_tune_time_taken = toc-tic"
   ]
  },
  {
   "cell_type": "code",
   "execution_count": 122,
   "id": "beecbb82",
   "metadata": {},
   "outputs": [
    {
     "name": "stdout",
     "output_type": "stream",
     "text": [
      "Time taken:  252.64670300483704\n"
     ]
    },
    {
     "data": {
      "text/html": [
       "<style>#sk-container-id-21 {color: black;}#sk-container-id-21 pre{padding: 0;}#sk-container-id-21 div.sk-toggleable {background-color: white;}#sk-container-id-21 label.sk-toggleable__label {cursor: pointer;display: block;width: 100%;margin-bottom: 0;padding: 0.3em;box-sizing: border-box;text-align: center;}#sk-container-id-21 label.sk-toggleable__label-arrow:before {content: \"▸\";float: left;margin-right: 0.25em;color: #696969;}#sk-container-id-21 label.sk-toggleable__label-arrow:hover:before {color: black;}#sk-container-id-21 div.sk-estimator:hover label.sk-toggleable__label-arrow:before {color: black;}#sk-container-id-21 div.sk-toggleable__content {max-height: 0;max-width: 0;overflow: hidden;text-align: left;background-color: #f0f8ff;}#sk-container-id-21 div.sk-toggleable__content pre {margin: 0.2em;color: black;border-radius: 0.25em;background-color: #f0f8ff;}#sk-container-id-21 input.sk-toggleable__control:checked~div.sk-toggleable__content {max-height: 200px;max-width: 100%;overflow: auto;}#sk-container-id-21 input.sk-toggleable__control:checked~label.sk-toggleable__label-arrow:before {content: \"▾\";}#sk-container-id-21 div.sk-estimator input.sk-toggleable__control:checked~label.sk-toggleable__label {background-color: #d4ebff;}#sk-container-id-21 div.sk-label input.sk-toggleable__control:checked~label.sk-toggleable__label {background-color: #d4ebff;}#sk-container-id-21 input.sk-hidden--visually {border: 0;clip: rect(1px 1px 1px 1px);clip: rect(1px, 1px, 1px, 1px);height: 1px;margin: -1px;overflow: hidden;padding: 0;position: absolute;width: 1px;}#sk-container-id-21 div.sk-estimator {font-family: monospace;background-color: #f0f8ff;border: 1px dotted black;border-radius: 0.25em;box-sizing: border-box;margin-bottom: 0.5em;}#sk-container-id-21 div.sk-estimator:hover {background-color: #d4ebff;}#sk-container-id-21 div.sk-parallel-item::after {content: \"\";width: 100%;border-bottom: 1px solid gray;flex-grow: 1;}#sk-container-id-21 div.sk-label:hover label.sk-toggleable__label {background-color: #d4ebff;}#sk-container-id-21 div.sk-serial::before {content: \"\";position: absolute;border-left: 1px solid gray;box-sizing: border-box;top: 0;bottom: 0;left: 50%;z-index: 0;}#sk-container-id-21 div.sk-serial {display: flex;flex-direction: column;align-items: center;background-color: white;padding-right: 0.2em;padding-left: 0.2em;position: relative;}#sk-container-id-21 div.sk-item {position: relative;z-index: 1;}#sk-container-id-21 div.sk-parallel {display: flex;align-items: stretch;justify-content: center;background-color: white;position: relative;}#sk-container-id-21 div.sk-item::before, #sk-container-id-21 div.sk-parallel-item::before {content: \"\";position: absolute;border-left: 1px solid gray;box-sizing: border-box;top: 0;bottom: 0;left: 50%;z-index: -1;}#sk-container-id-21 div.sk-parallel-item {display: flex;flex-direction: column;z-index: 1;position: relative;background-color: white;}#sk-container-id-21 div.sk-parallel-item:first-child::after {align-self: flex-end;width: 50%;}#sk-container-id-21 div.sk-parallel-item:last-child::after {align-self: flex-start;width: 50%;}#sk-container-id-21 div.sk-parallel-item:only-child::after {width: 0;}#sk-container-id-21 div.sk-dashed-wrapped {border: 1px dashed gray;margin: 0 0.4em 0.5em 0.4em;box-sizing: border-box;padding-bottom: 0.4em;background-color: white;}#sk-container-id-21 div.sk-label label {font-family: monospace;font-weight: bold;display: inline-block;line-height: 1.2em;}#sk-container-id-21 div.sk-label-container {text-align: center;}#sk-container-id-21 div.sk-container {/* jupyter's `normalize.less` sets `[hidden] { display: none; }` but bootstrap.min.css set `[hidden] { display: none !important; }` so we also need the `!important` here to be able to override the default hidden behavior on the sphinx rendered scikit-learn.org. See: https://github.com/scikit-learn/scikit-learn/issues/21755 */display: inline-block !important;position: relative;}#sk-container-id-21 div.sk-text-repr-fallback {display: none;}</style><div id=\"sk-container-id-21\" class=\"sk-top-container\"><div class=\"sk-text-repr-fallback\"><pre>RandomizedSearchCV(cv=StratifiedKFold(n_splits=3, random_state=1234, shuffle=True),\n",
       "                   estimator=Pipeline(steps=[(&#x27;preprocessing&#x27;,\n",
       "                                              ColumnTransformer(sparse_threshold=0,\n",
       "                                                                transformers=[(&#x27;num&#x27;,\n",
       "                                                                               Pipeline(steps=[(&#x27;imputer&#x27;,\n",
       "                                                                                                SimpleImputer(strategy=&#x27;median&#x27;))]),\n",
       "                                                                               [&#x27;Community_Membership_Family&#x27;,\n",
       "                                                                                &#x27;Community_Membership_Hobbies&#x27;,\n",
       "                                                                                &#x27;Community_Membership_None&#x27;,\n",
       "                                                                                &#x27;Community_Memb...\n",
       "                   param_distributions={&#x27;model__depth&#x27;: &lt;scipy.stats._distn_infrastructure.rv_discrete_frozen object at 0x000002AE0082DD80&gt;,\n",
       "                                        &#x27;model__iterations&#x27;: &lt;scipy.stats._distn_infrastructure.rv_discrete_frozen object at 0x000002AE0082D1E0&gt;,\n",
       "                                        &#x27;model__learning_rate&#x27;: &lt;scipy.stats._distn_infrastructure.rv_continuous_frozen object at 0x000002AE003D7A60&gt;},\n",
       "                   random_state=1234, scoring=&#x27;balanced_accuracy&#x27;)</pre><b>In a Jupyter environment, please rerun this cell to show the HTML representation or trust the notebook. <br />On GitHub, the HTML representation is unable to render, please try loading this page with nbviewer.org.</b></div><div class=\"sk-container\" hidden><div class=\"sk-item sk-dashed-wrapped\"><div class=\"sk-label-container\"><div class=\"sk-label sk-toggleable\"><input class=\"sk-toggleable__control sk-hidden--visually\" id=\"sk-estimator-id-196\" type=\"checkbox\" ><label for=\"sk-estimator-id-196\" class=\"sk-toggleable__label sk-toggleable__label-arrow\">RandomizedSearchCV</label><div class=\"sk-toggleable__content\"><pre>RandomizedSearchCV(cv=StratifiedKFold(n_splits=3, random_state=1234, shuffle=True),\n",
       "                   estimator=Pipeline(steps=[(&#x27;preprocessing&#x27;,\n",
       "                                              ColumnTransformer(sparse_threshold=0,\n",
       "                                                                transformers=[(&#x27;num&#x27;,\n",
       "                                                                               Pipeline(steps=[(&#x27;imputer&#x27;,\n",
       "                                                                                                SimpleImputer(strategy=&#x27;median&#x27;))]),\n",
       "                                                                               [&#x27;Community_Membership_Family&#x27;,\n",
       "                                                                                &#x27;Community_Membership_Hobbies&#x27;,\n",
       "                                                                                &#x27;Community_Membership_None&#x27;,\n",
       "                                                                                &#x27;Community_Memb...\n",
       "                   param_distributions={&#x27;model__depth&#x27;: &lt;scipy.stats._distn_infrastructure.rv_discrete_frozen object at 0x000002AE0082DD80&gt;,\n",
       "                                        &#x27;model__iterations&#x27;: &lt;scipy.stats._distn_infrastructure.rv_discrete_frozen object at 0x000002AE0082D1E0&gt;,\n",
       "                                        &#x27;model__learning_rate&#x27;: &lt;scipy.stats._distn_infrastructure.rv_continuous_frozen object at 0x000002AE003D7A60&gt;},\n",
       "                   random_state=1234, scoring=&#x27;balanced_accuracy&#x27;)</pre></div></div></div><div class=\"sk-parallel\"><div class=\"sk-parallel-item\"><div class=\"sk-item\"><div class=\"sk-label-container\"><div class=\"sk-label sk-toggleable\"><input class=\"sk-toggleable__control sk-hidden--visually\" id=\"sk-estimator-id-197\" type=\"checkbox\" ><label for=\"sk-estimator-id-197\" class=\"sk-toggleable__label sk-toggleable__label-arrow\">estimator: Pipeline</label><div class=\"sk-toggleable__content\"><pre>Pipeline(steps=[(&#x27;preprocessing&#x27;,\n",
       "                 ColumnTransformer(sparse_threshold=0,\n",
       "                                   transformers=[(&#x27;num&#x27;,\n",
       "                                                  Pipeline(steps=[(&#x27;imputer&#x27;,\n",
       "                                                                   SimpleImputer(strategy=&#x27;median&#x27;))]),\n",
       "                                                  [&#x27;Community_Membership_Family&#x27;,\n",
       "                                                   &#x27;Community_Membership_Hobbies&#x27;,\n",
       "                                                   &#x27;Community_Membership_None&#x27;,\n",
       "                                                   &#x27;Community_Membership_Other&#x27;,\n",
       "                                                   &#x27;Community_Membership_Political&#x27;,\n",
       "                                                   &#x27;Community_Membership_Professional&#x27;,\n",
       "                                                   &#x27;Communi...\n",
       "                                                   &#x27;Primary_Place_of_WWW_Access&#x27;,\n",
       "                                                   &#x27;Race&#x27;, &#x27;Registered_to_Vote&#x27;,\n",
       "                                                   &#x27;Sexual_Preference&#x27;,\n",
       "                                                   &#x27;Web_Ordering&#x27;,\n",
       "                                                   &#x27;Web_Page_Creation&#x27;]),\n",
       "                                                 (&#x27;cat_more9&#x27;,\n",
       "                                                  Pipeline(steps=[(&#x27;imputer&#x27;,\n",
       "                                                                   SimpleImputer(strategy=&#x27;most_frequent&#x27;))]),\n",
       "                                                  [&#x27;Actual_Time&#x27;, &#x27;Country&#x27;,\n",
       "                                                   &#x27;Major_Geographical_Location&#x27;,\n",
       "                                                   &#x27;Primary_Computing_Platform&#x27;,\n",
       "                                                   &#x27;Primary_Language&#x27;])])),\n",
       "                (&#x27;model&#x27;,\n",
       "                 &lt;catboost.core.CatBoostClassifier object at 0x000002AE0082D330&gt;)])</pre></div></div></div><div class=\"sk-serial\"><div class=\"sk-item\"><div class=\"sk-serial\"><div class=\"sk-item sk-dashed-wrapped\"><div class=\"sk-label-container\"><div class=\"sk-label sk-toggleable\"><input class=\"sk-toggleable__control sk-hidden--visually\" id=\"sk-estimator-id-198\" type=\"checkbox\" ><label for=\"sk-estimator-id-198\" class=\"sk-toggleable__label sk-toggleable__label-arrow\">preprocessing: ColumnTransformer</label><div class=\"sk-toggleable__content\"><pre>ColumnTransformer(sparse_threshold=0,\n",
       "                  transformers=[(&#x27;num&#x27;,\n",
       "                                 Pipeline(steps=[(&#x27;imputer&#x27;,\n",
       "                                                  SimpleImputer(strategy=&#x27;median&#x27;))]),\n",
       "                                 [&#x27;Community_Membership_Family&#x27;,\n",
       "                                  &#x27;Community_Membership_Hobbies&#x27;,\n",
       "                                  &#x27;Community_Membership_None&#x27;,\n",
       "                                  &#x27;Community_Membership_Other&#x27;,\n",
       "                                  &#x27;Community_Membership_Political&#x27;,\n",
       "                                  &#x27;Community_Membership_Professional&#x27;,\n",
       "                                  &#x27;Community_Membership_Religious&#x27;,\n",
       "                                  &#x27;Communi...\n",
       "                                  &#x27;Most_Import_Issue_Facing_the_Internet&#x27;,\n",
       "                                  &#x27;Opinions_on_Censorship&#x27;,\n",
       "                                  &#x27;Primary_Place_of_WWW_Access&#x27;, &#x27;Race&#x27;,\n",
       "                                  &#x27;Registered_to_Vote&#x27;, &#x27;Sexual_Preference&#x27;,\n",
       "                                  &#x27;Web_Ordering&#x27;, &#x27;Web_Page_Creation&#x27;]),\n",
       "                                (&#x27;cat_more9&#x27;,\n",
       "                                 Pipeline(steps=[(&#x27;imputer&#x27;,\n",
       "                                                  SimpleImputer(strategy=&#x27;most_frequent&#x27;))]),\n",
       "                                 [&#x27;Actual_Time&#x27;, &#x27;Country&#x27;,\n",
       "                                  &#x27;Major_Geographical_Location&#x27;,\n",
       "                                  &#x27;Primary_Computing_Platform&#x27;,\n",
       "                                  &#x27;Primary_Language&#x27;])])</pre></div></div></div><div class=\"sk-parallel\"><div class=\"sk-parallel-item\"><div class=\"sk-item\"><div class=\"sk-label-container\"><div class=\"sk-label sk-toggleable\"><input class=\"sk-toggleable__control sk-hidden--visually\" id=\"sk-estimator-id-199\" type=\"checkbox\" ><label for=\"sk-estimator-id-199\" class=\"sk-toggleable__label sk-toggleable__label-arrow\">num</label><div class=\"sk-toggleable__content\"><pre>[&#x27;Community_Membership_Family&#x27;, &#x27;Community_Membership_Hobbies&#x27;, &#x27;Community_Membership_None&#x27;, &#x27;Community_Membership_Other&#x27;, &#x27;Community_Membership_Political&#x27;, &#x27;Community_Membership_Professional&#x27;, &#x27;Community_Membership_Religious&#x27;, &#x27;Community_Membership_Support&#x27;, &#x27;Disability_Cognitive&#x27;, &#x27;Disability_Hearing&#x27;, &#x27;Disability_Motor&#x27;, &#x27;Disability_Not_Impaired&#x27;, &#x27;Disability_Not_Say&#x27;, &#x27;Disability_Vision&#x27;, &#x27;Gender&#x27;, &#x27;How_You_Heard_About_Survey_Banner&#x27;, &#x27;How_You_Heard_About_Survey_Friend&#x27;, &#x27;How_You_Heard_About_Survey_Mailing_List&#x27;, &#x27;How_You_Heard_About_Survey_Others&#x27;, &#x27;How_You_Heard_About_Survey_Printed_Media&#x27;, &#x27;How_You_Heard_About_Survey_Remebered&#x27;, &#x27;How_You_Heard_About_Survey_Search_Engine&#x27;, &#x27;How_You_Heard_About_Survey_Usenet_News&#x27;, &#x27;How_You_Heard_About_Survey_WWW_Page&#x27;, &#x27;Not_Purchasing_Bad_experience&#x27;, &#x27;Not_Purchasing_Bad_press&#x27;, &#x27;Not_Purchasing_Cant_find&#x27;, &#x27;Not_Purchasing_Company_policy&#x27;, &#x27;Not_Purchasing_Easier_locally&#x27;, &#x27;Not_Purchasing_Enough_info&#x27;, &#x27;Not_Purchasing_Judge_quality&#x27;, &#x27;Not_Purchasing_Never_tried&#x27;, &#x27;Not_Purchasing_No_credit&#x27;, &#x27;Not_Purchasing_Not_applicable&#x27;, &#x27;Not_Purchasing_Not_option&#x27;, &#x27;Not_Purchasing_Other&#x27;, &#x27;Not_Purchasing_Prefer_people&#x27;, &#x27;Not_Purchasing_Privacy&#x27;, &#x27;Not_Purchasing_Receipt&#x27;, &#x27;Not_Purchasing_Security&#x27;, &#x27;Not_Purchasing_Too_complicated&#x27;, &#x27;Not_Purchasing_Uncomfortable&#x27;, &#x27;Not_Purchasing_Unfamiliar_vendor&#x27;, &#x27;Who_Pays_for_Access_Dont_Know&#x27;, &#x27;Who_Pays_for_Access_Other&#x27;, &#x27;Who_Pays_for_Access_Parents&#x27;, &#x27;Who_Pays_for_Access_School&#x27;, &#x27;Who_Pays_for_Access_Self&#x27;]</pre></div></div></div><div class=\"sk-serial\"><div class=\"sk-item\"><div class=\"sk-serial\"><div class=\"sk-item\"><div class=\"sk-estimator sk-toggleable\"><input class=\"sk-toggleable__control sk-hidden--visually\" id=\"sk-estimator-id-200\" type=\"checkbox\" ><label for=\"sk-estimator-id-200\" class=\"sk-toggleable__label sk-toggleable__label-arrow\">SimpleImputer</label><div class=\"sk-toggleable__content\"><pre>SimpleImputer(strategy=&#x27;median&#x27;)</pre></div></div></div></div></div></div></div></div><div class=\"sk-parallel-item\"><div class=\"sk-item\"><div class=\"sk-label-container\"><div class=\"sk-label sk-toggleable\"><input class=\"sk-toggleable__control sk-hidden--visually\" id=\"sk-estimator-id-201\" type=\"checkbox\" ><label for=\"sk-estimator-id-201\" class=\"sk-toggleable__label sk-toggleable__label-arrow\">cat_less9</label><div class=\"sk-toggleable__content\"><pre>[&#x27;Community_Building&#x27;, &#x27;Education_Attainment&#x27;, &#x27;Falsification_of_Information&#x27;, &#x27;Household_Income&#x27;, &#x27;Major_Occupation&#x27;, &#x27;Marital_Status&#x27;, &#x27;Most_Import_Issue_Facing_the_Internet&#x27;, &#x27;Opinions_on_Censorship&#x27;, &#x27;Primary_Place_of_WWW_Access&#x27;, &#x27;Race&#x27;, &#x27;Registered_to_Vote&#x27;, &#x27;Sexual_Preference&#x27;, &#x27;Web_Ordering&#x27;, &#x27;Web_Page_Creation&#x27;]</pre></div></div></div><div class=\"sk-serial\"><div class=\"sk-item\"><div class=\"sk-serial\"><div class=\"sk-item\"><div class=\"sk-estimator sk-toggleable\"><input class=\"sk-toggleable__control sk-hidden--visually\" id=\"sk-estimator-id-202\" type=\"checkbox\" ><label for=\"sk-estimator-id-202\" class=\"sk-toggleable__label sk-toggleable__label-arrow\">SimpleImputer</label><div class=\"sk-toggleable__content\"><pre>SimpleImputer(strategy=&#x27;most_frequent&#x27;)</pre></div></div></div></div></div></div></div></div><div class=\"sk-parallel-item\"><div class=\"sk-item\"><div class=\"sk-label-container\"><div class=\"sk-label sk-toggleable\"><input class=\"sk-toggleable__control sk-hidden--visually\" id=\"sk-estimator-id-203\" type=\"checkbox\" ><label for=\"sk-estimator-id-203\" class=\"sk-toggleable__label sk-toggleable__label-arrow\">cat_more9</label><div class=\"sk-toggleable__content\"><pre>[&#x27;Actual_Time&#x27;, &#x27;Country&#x27;, &#x27;Major_Geographical_Location&#x27;, &#x27;Primary_Computing_Platform&#x27;, &#x27;Primary_Language&#x27;]</pre></div></div></div><div class=\"sk-serial\"><div class=\"sk-item\"><div class=\"sk-serial\"><div class=\"sk-item\"><div class=\"sk-estimator sk-toggleable\"><input class=\"sk-toggleable__control sk-hidden--visually\" id=\"sk-estimator-id-204\" type=\"checkbox\" ><label for=\"sk-estimator-id-204\" class=\"sk-toggleable__label sk-toggleable__label-arrow\">SimpleImputer</label><div class=\"sk-toggleable__content\"><pre>SimpleImputer(strategy=&#x27;most_frequent&#x27;)</pre></div></div></div></div></div></div></div></div></div></div><div class=\"sk-item\"><div class=\"sk-estimator sk-toggleable\"><input class=\"sk-toggleable__control sk-hidden--visually\" id=\"sk-estimator-id-205\" type=\"checkbox\" ><label for=\"sk-estimator-id-205\" class=\"sk-toggleable__label sk-toggleable__label-arrow\">CatBoostClassifier</label><div class=\"sk-toggleable__content\"><pre>&lt;catboost.core.CatBoostClassifier object at 0x000002AE0082D330&gt;</pre></div></div></div></div></div></div></div></div></div></div></div></div>"
      ],
      "text/plain": [
       "RandomizedSearchCV(cv=StratifiedKFold(n_splits=3, random_state=1234, shuffle=True),\n",
       "                   estimator=Pipeline(steps=[('preprocessing',\n",
       "                                              ColumnTransformer(sparse_threshold=0,\n",
       "                                                                transformers=[('num',\n",
       "                                                                               Pipeline(steps=[('imputer',\n",
       "                                                                                                SimpleImputer(strategy='median'))]),\n",
       "                                                                               ['Community_Membership_Family',\n",
       "                                                                                'Community_Membership_Hobbies',\n",
       "                                                                                'Community_Membership_None',\n",
       "                                                                                'Community_Memb...\n",
       "                   param_distributions={'model__depth': <scipy.stats._distn_infrastructure.rv_discrete_frozen object at 0x000002AE0082DD80>,\n",
       "                                        'model__iterations': <scipy.stats._distn_infrastructure.rv_discrete_frozen object at 0x000002AE0082D1E0>,\n",
       "                                        'model__learning_rate': <scipy.stats._distn_infrastructure.rv_continuous_frozen object at 0x000002AE003D7A60>},\n",
       "                   random_state=1234, scoring='balanced_accuracy')"
      ]
     },
     "execution_count": 122,
     "metadata": {},
     "output_type": "execute_result"
    }
   ],
   "source": [
    "# Display pipeline\n",
    "print(\"Time taken: \", catboost_tune_time_taken)\n",
    "catboost_tune"
   ]
  },
  {
   "cell_type": "code",
   "execution_count": 123,
   "id": "c0cea617",
   "metadata": {},
   "outputs": [],
   "source": [
    "tic = time.time()\n",
    "\n",
    "catboost_tune9 = catboost_tune9_raw.fit(X_train, y_train)\n",
    "\n",
    "toc = time.time()\n",
    "catboost_tune_time_taken9 = toc-tic"
   ]
  },
  {
   "cell_type": "code",
   "execution_count": 124,
   "id": "cfba08d0",
   "metadata": {},
   "outputs": [
    {
     "name": "stdout",
     "output_type": "stream",
     "text": [
      "Time taken:  258.6848657131195\n"
     ]
    },
    {
     "data": {
      "text/html": [
       "<style>#sk-container-id-22 {color: black;}#sk-container-id-22 pre{padding: 0;}#sk-container-id-22 div.sk-toggleable {background-color: white;}#sk-container-id-22 label.sk-toggleable__label {cursor: pointer;display: block;width: 100%;margin-bottom: 0;padding: 0.3em;box-sizing: border-box;text-align: center;}#sk-container-id-22 label.sk-toggleable__label-arrow:before {content: \"▸\";float: left;margin-right: 0.25em;color: #696969;}#sk-container-id-22 label.sk-toggleable__label-arrow:hover:before {color: black;}#sk-container-id-22 div.sk-estimator:hover label.sk-toggleable__label-arrow:before {color: black;}#sk-container-id-22 div.sk-toggleable__content {max-height: 0;max-width: 0;overflow: hidden;text-align: left;background-color: #f0f8ff;}#sk-container-id-22 div.sk-toggleable__content pre {margin: 0.2em;color: black;border-radius: 0.25em;background-color: #f0f8ff;}#sk-container-id-22 input.sk-toggleable__control:checked~div.sk-toggleable__content {max-height: 200px;max-width: 100%;overflow: auto;}#sk-container-id-22 input.sk-toggleable__control:checked~label.sk-toggleable__label-arrow:before {content: \"▾\";}#sk-container-id-22 div.sk-estimator input.sk-toggleable__control:checked~label.sk-toggleable__label {background-color: #d4ebff;}#sk-container-id-22 div.sk-label input.sk-toggleable__control:checked~label.sk-toggleable__label {background-color: #d4ebff;}#sk-container-id-22 input.sk-hidden--visually {border: 0;clip: rect(1px 1px 1px 1px);clip: rect(1px, 1px, 1px, 1px);height: 1px;margin: -1px;overflow: hidden;padding: 0;position: absolute;width: 1px;}#sk-container-id-22 div.sk-estimator {font-family: monospace;background-color: #f0f8ff;border: 1px dotted black;border-radius: 0.25em;box-sizing: border-box;margin-bottom: 0.5em;}#sk-container-id-22 div.sk-estimator:hover {background-color: #d4ebff;}#sk-container-id-22 div.sk-parallel-item::after {content: \"\";width: 100%;border-bottom: 1px solid gray;flex-grow: 1;}#sk-container-id-22 div.sk-label:hover label.sk-toggleable__label {background-color: #d4ebff;}#sk-container-id-22 div.sk-serial::before {content: \"\";position: absolute;border-left: 1px solid gray;box-sizing: border-box;top: 0;bottom: 0;left: 50%;z-index: 0;}#sk-container-id-22 div.sk-serial {display: flex;flex-direction: column;align-items: center;background-color: white;padding-right: 0.2em;padding-left: 0.2em;position: relative;}#sk-container-id-22 div.sk-item {position: relative;z-index: 1;}#sk-container-id-22 div.sk-parallel {display: flex;align-items: stretch;justify-content: center;background-color: white;position: relative;}#sk-container-id-22 div.sk-item::before, #sk-container-id-22 div.sk-parallel-item::before {content: \"\";position: absolute;border-left: 1px solid gray;box-sizing: border-box;top: 0;bottom: 0;left: 50%;z-index: -1;}#sk-container-id-22 div.sk-parallel-item {display: flex;flex-direction: column;z-index: 1;position: relative;background-color: white;}#sk-container-id-22 div.sk-parallel-item:first-child::after {align-self: flex-end;width: 50%;}#sk-container-id-22 div.sk-parallel-item:last-child::after {align-self: flex-start;width: 50%;}#sk-container-id-22 div.sk-parallel-item:only-child::after {width: 0;}#sk-container-id-22 div.sk-dashed-wrapped {border: 1px dashed gray;margin: 0 0.4em 0.5em 0.4em;box-sizing: border-box;padding-bottom: 0.4em;background-color: white;}#sk-container-id-22 div.sk-label label {font-family: monospace;font-weight: bold;display: inline-block;line-height: 1.2em;}#sk-container-id-22 div.sk-label-container {text-align: center;}#sk-container-id-22 div.sk-container {/* jupyter's `normalize.less` sets `[hidden] { display: none; }` but bootstrap.min.css set `[hidden] { display: none !important; }` so we also need the `!important` here to be able to override the default hidden behavior on the sphinx rendered scikit-learn.org. See: https://github.com/scikit-learn/scikit-learn/issues/21755 */display: inline-block !important;position: relative;}#sk-container-id-22 div.sk-text-repr-fallback {display: none;}</style><div id=\"sk-container-id-22\" class=\"sk-top-container\"><div class=\"sk-text-repr-fallback\"><pre>RandomizedSearchCV(cv=StratifiedKFold(n_splits=3, random_state=1234, shuffle=True),\n",
       "                   estimator=Pipeline(steps=[(&#x27;preprocessing&#x27;,\n",
       "                                              ColumnTransformer(sparse_threshold=0,\n",
       "                                                                transformers=[(&#x27;num&#x27;,\n",
       "                                                                               Pipeline(steps=[(&#x27;imputer&#x27;,\n",
       "                                                                                                SimpleImputer(strategy=&#x27;median&#x27;))]),\n",
       "                                                                               [&#x27;Community_Membership_Family&#x27;,\n",
       "                                                                                &#x27;Community_Membership_Hobbies&#x27;,\n",
       "                                                                                &#x27;Community_Membership_None&#x27;,\n",
       "                                                                                &#x27;Community_Memb...\n",
       "                   param_distributions={&#x27;model__depth&#x27;: &lt;scipy.stats._distn_infrastructure.rv_discrete_frozen object at 0x000002AE0082DD80&gt;,\n",
       "                                        &#x27;model__iterations&#x27;: &lt;scipy.stats._distn_infrastructure.rv_discrete_frozen object at 0x000002AE0082D1E0&gt;,\n",
       "                                        &#x27;model__learning_rate&#x27;: &lt;scipy.stats._distn_infrastructure.rv_continuous_frozen object at 0x000002AE003D7A60&gt;},\n",
       "                   random_state=1234, scoring=&#x27;balanced_accuracy&#x27;)</pre><b>In a Jupyter environment, please rerun this cell to show the HTML representation or trust the notebook. <br />On GitHub, the HTML representation is unable to render, please try loading this page with nbviewer.org.</b></div><div class=\"sk-container\" hidden><div class=\"sk-item sk-dashed-wrapped\"><div class=\"sk-label-container\"><div class=\"sk-label sk-toggleable\"><input class=\"sk-toggleable__control sk-hidden--visually\" id=\"sk-estimator-id-206\" type=\"checkbox\" ><label for=\"sk-estimator-id-206\" class=\"sk-toggleable__label sk-toggleable__label-arrow\">RandomizedSearchCV</label><div class=\"sk-toggleable__content\"><pre>RandomizedSearchCV(cv=StratifiedKFold(n_splits=3, random_state=1234, shuffle=True),\n",
       "                   estimator=Pipeline(steps=[(&#x27;preprocessing&#x27;,\n",
       "                                              ColumnTransformer(sparse_threshold=0,\n",
       "                                                                transformers=[(&#x27;num&#x27;,\n",
       "                                                                               Pipeline(steps=[(&#x27;imputer&#x27;,\n",
       "                                                                                                SimpleImputer(strategy=&#x27;median&#x27;))]),\n",
       "                                                                               [&#x27;Community_Membership_Family&#x27;,\n",
       "                                                                                &#x27;Community_Membership_Hobbies&#x27;,\n",
       "                                                                                &#x27;Community_Membership_None&#x27;,\n",
       "                                                                                &#x27;Community_Memb...\n",
       "                   param_distributions={&#x27;model__depth&#x27;: &lt;scipy.stats._distn_infrastructure.rv_discrete_frozen object at 0x000002AE0082DD80&gt;,\n",
       "                                        &#x27;model__iterations&#x27;: &lt;scipy.stats._distn_infrastructure.rv_discrete_frozen object at 0x000002AE0082D1E0&gt;,\n",
       "                                        &#x27;model__learning_rate&#x27;: &lt;scipy.stats._distn_infrastructure.rv_continuous_frozen object at 0x000002AE003D7A60&gt;},\n",
       "                   random_state=1234, scoring=&#x27;balanced_accuracy&#x27;)</pre></div></div></div><div class=\"sk-parallel\"><div class=\"sk-parallel-item\"><div class=\"sk-item\"><div class=\"sk-label-container\"><div class=\"sk-label sk-toggleable\"><input class=\"sk-toggleable__control sk-hidden--visually\" id=\"sk-estimator-id-207\" type=\"checkbox\" ><label for=\"sk-estimator-id-207\" class=\"sk-toggleable__label sk-toggleable__label-arrow\">estimator: Pipeline</label><div class=\"sk-toggleable__content\"><pre>Pipeline(steps=[(&#x27;preprocessing&#x27;,\n",
       "                 ColumnTransformer(sparse_threshold=0,\n",
       "                                   transformers=[(&#x27;num&#x27;,\n",
       "                                                  Pipeline(steps=[(&#x27;imputer&#x27;,\n",
       "                                                                   SimpleImputer(strategy=&#x27;median&#x27;))]),\n",
       "                                                  [&#x27;Community_Membership_Family&#x27;,\n",
       "                                                   &#x27;Community_Membership_Hobbies&#x27;,\n",
       "                                                   &#x27;Community_Membership_None&#x27;,\n",
       "                                                   &#x27;Community_Membership_Other&#x27;,\n",
       "                                                   &#x27;Community_Membership_Political&#x27;,\n",
       "                                                   &#x27;Community_Membership_Professional&#x27;,\n",
       "                                                   &#x27;Communi...\n",
       "                                                   &#x27;Primary_Place_of_WWW_Access&#x27;,\n",
       "                                                   &#x27;Race&#x27;, &#x27;Registered_to_Vote&#x27;,\n",
       "                                                   &#x27;Sexual_Preference&#x27;,\n",
       "                                                   &#x27;Web_Ordering&#x27;,\n",
       "                                                   &#x27;Web_Page_Creation&#x27;]),\n",
       "                                                 (&#x27;cat_more9&#x27;,\n",
       "                                                  Pipeline(steps=[(&#x27;imputer&#x27;,\n",
       "                                                                   SimpleImputer(strategy=&#x27;most_frequent&#x27;))]),\n",
       "                                                  [&#x27;Actual_Time&#x27;, &#x27;Country&#x27;,\n",
       "                                                   &#x27;Major_Geographical_Location&#x27;,\n",
       "                                                   &#x27;Primary_Computing_Platform&#x27;,\n",
       "                                                   &#x27;Primary_Language&#x27;])])),\n",
       "                (&#x27;model&#x27;,\n",
       "                 &lt;catboost.core.CatBoostClassifier object at 0x000002AE0082D330&gt;)])</pre></div></div></div><div class=\"sk-serial\"><div class=\"sk-item\"><div class=\"sk-serial\"><div class=\"sk-item sk-dashed-wrapped\"><div class=\"sk-label-container\"><div class=\"sk-label sk-toggleable\"><input class=\"sk-toggleable__control sk-hidden--visually\" id=\"sk-estimator-id-208\" type=\"checkbox\" ><label for=\"sk-estimator-id-208\" class=\"sk-toggleable__label sk-toggleable__label-arrow\">preprocessing: ColumnTransformer</label><div class=\"sk-toggleable__content\"><pre>ColumnTransformer(sparse_threshold=0,\n",
       "                  transformers=[(&#x27;num&#x27;,\n",
       "                                 Pipeline(steps=[(&#x27;imputer&#x27;,\n",
       "                                                  SimpleImputer(strategy=&#x27;median&#x27;))]),\n",
       "                                 [&#x27;Community_Membership_Family&#x27;,\n",
       "                                  &#x27;Community_Membership_Hobbies&#x27;,\n",
       "                                  &#x27;Community_Membership_None&#x27;,\n",
       "                                  &#x27;Community_Membership_Other&#x27;,\n",
       "                                  &#x27;Community_Membership_Political&#x27;,\n",
       "                                  &#x27;Community_Membership_Professional&#x27;,\n",
       "                                  &#x27;Community_Membership_Religious&#x27;,\n",
       "                                  &#x27;Communi...\n",
       "                                  &#x27;Most_Import_Issue_Facing_the_Internet&#x27;,\n",
       "                                  &#x27;Opinions_on_Censorship&#x27;,\n",
       "                                  &#x27;Primary_Place_of_WWW_Access&#x27;, &#x27;Race&#x27;,\n",
       "                                  &#x27;Registered_to_Vote&#x27;, &#x27;Sexual_Preference&#x27;,\n",
       "                                  &#x27;Web_Ordering&#x27;, &#x27;Web_Page_Creation&#x27;]),\n",
       "                                (&#x27;cat_more9&#x27;,\n",
       "                                 Pipeline(steps=[(&#x27;imputer&#x27;,\n",
       "                                                  SimpleImputer(strategy=&#x27;most_frequent&#x27;))]),\n",
       "                                 [&#x27;Actual_Time&#x27;, &#x27;Country&#x27;,\n",
       "                                  &#x27;Major_Geographical_Location&#x27;,\n",
       "                                  &#x27;Primary_Computing_Platform&#x27;,\n",
       "                                  &#x27;Primary_Language&#x27;])])</pre></div></div></div><div class=\"sk-parallel\"><div class=\"sk-parallel-item\"><div class=\"sk-item\"><div class=\"sk-label-container\"><div class=\"sk-label sk-toggleable\"><input class=\"sk-toggleable__control sk-hidden--visually\" id=\"sk-estimator-id-209\" type=\"checkbox\" ><label for=\"sk-estimator-id-209\" class=\"sk-toggleable__label sk-toggleable__label-arrow\">num</label><div class=\"sk-toggleable__content\"><pre>[&#x27;Community_Membership_Family&#x27;, &#x27;Community_Membership_Hobbies&#x27;, &#x27;Community_Membership_None&#x27;, &#x27;Community_Membership_Other&#x27;, &#x27;Community_Membership_Political&#x27;, &#x27;Community_Membership_Professional&#x27;, &#x27;Community_Membership_Religious&#x27;, &#x27;Community_Membership_Support&#x27;, &#x27;Disability_Cognitive&#x27;, &#x27;Disability_Hearing&#x27;, &#x27;Disability_Motor&#x27;, &#x27;Disability_Not_Impaired&#x27;, &#x27;Disability_Not_Say&#x27;, &#x27;Disability_Vision&#x27;, &#x27;Gender&#x27;, &#x27;How_You_Heard_About_Survey_Banner&#x27;, &#x27;How_You_Heard_About_Survey_Friend&#x27;, &#x27;How_You_Heard_About_Survey_Mailing_List&#x27;, &#x27;How_You_Heard_About_Survey_Others&#x27;, &#x27;How_You_Heard_About_Survey_Printed_Media&#x27;, &#x27;How_You_Heard_About_Survey_Remebered&#x27;, &#x27;How_You_Heard_About_Survey_Search_Engine&#x27;, &#x27;How_You_Heard_About_Survey_Usenet_News&#x27;, &#x27;How_You_Heard_About_Survey_WWW_Page&#x27;, &#x27;Not_Purchasing_Bad_experience&#x27;, &#x27;Not_Purchasing_Bad_press&#x27;, &#x27;Not_Purchasing_Cant_find&#x27;, &#x27;Not_Purchasing_Company_policy&#x27;, &#x27;Not_Purchasing_Easier_locally&#x27;, &#x27;Not_Purchasing_Enough_info&#x27;, &#x27;Not_Purchasing_Judge_quality&#x27;, &#x27;Not_Purchasing_Never_tried&#x27;, &#x27;Not_Purchasing_No_credit&#x27;, &#x27;Not_Purchasing_Not_applicable&#x27;, &#x27;Not_Purchasing_Not_option&#x27;, &#x27;Not_Purchasing_Other&#x27;, &#x27;Not_Purchasing_Prefer_people&#x27;, &#x27;Not_Purchasing_Privacy&#x27;, &#x27;Not_Purchasing_Receipt&#x27;, &#x27;Not_Purchasing_Security&#x27;, &#x27;Not_Purchasing_Too_complicated&#x27;, &#x27;Not_Purchasing_Uncomfortable&#x27;, &#x27;Not_Purchasing_Unfamiliar_vendor&#x27;, &#x27;Who_Pays_for_Access_Dont_Know&#x27;, &#x27;Who_Pays_for_Access_Other&#x27;, &#x27;Who_Pays_for_Access_Parents&#x27;, &#x27;Who_Pays_for_Access_School&#x27;, &#x27;Who_Pays_for_Access_Self&#x27;]</pre></div></div></div><div class=\"sk-serial\"><div class=\"sk-item\"><div class=\"sk-serial\"><div class=\"sk-item\"><div class=\"sk-estimator sk-toggleable\"><input class=\"sk-toggleable__control sk-hidden--visually\" id=\"sk-estimator-id-210\" type=\"checkbox\" ><label for=\"sk-estimator-id-210\" class=\"sk-toggleable__label sk-toggleable__label-arrow\">SimpleImputer</label><div class=\"sk-toggleable__content\"><pre>SimpleImputer(strategy=&#x27;median&#x27;)</pre></div></div></div></div></div></div></div></div><div class=\"sk-parallel-item\"><div class=\"sk-item\"><div class=\"sk-label-container\"><div class=\"sk-label sk-toggleable\"><input class=\"sk-toggleable__control sk-hidden--visually\" id=\"sk-estimator-id-211\" type=\"checkbox\" ><label for=\"sk-estimator-id-211\" class=\"sk-toggleable__label sk-toggleable__label-arrow\">cat_less9</label><div class=\"sk-toggleable__content\"><pre>[&#x27;Community_Building&#x27;, &#x27;Education_Attainment&#x27;, &#x27;Falsification_of_Information&#x27;, &#x27;Household_Income&#x27;, &#x27;Major_Occupation&#x27;, &#x27;Marital_Status&#x27;, &#x27;Most_Import_Issue_Facing_the_Internet&#x27;, &#x27;Opinions_on_Censorship&#x27;, &#x27;Primary_Place_of_WWW_Access&#x27;, &#x27;Race&#x27;, &#x27;Registered_to_Vote&#x27;, &#x27;Sexual_Preference&#x27;, &#x27;Web_Ordering&#x27;, &#x27;Web_Page_Creation&#x27;]</pre></div></div></div><div class=\"sk-serial\"><div class=\"sk-item\"><div class=\"sk-serial\"><div class=\"sk-item\"><div class=\"sk-estimator sk-toggleable\"><input class=\"sk-toggleable__control sk-hidden--visually\" id=\"sk-estimator-id-212\" type=\"checkbox\" ><label for=\"sk-estimator-id-212\" class=\"sk-toggleable__label sk-toggleable__label-arrow\">SimpleImputer</label><div class=\"sk-toggleable__content\"><pre>SimpleImputer(strategy=&#x27;most_frequent&#x27;)</pre></div></div></div></div></div></div></div></div><div class=\"sk-parallel-item\"><div class=\"sk-item\"><div class=\"sk-label-container\"><div class=\"sk-label sk-toggleable\"><input class=\"sk-toggleable__control sk-hidden--visually\" id=\"sk-estimator-id-213\" type=\"checkbox\" ><label for=\"sk-estimator-id-213\" class=\"sk-toggleable__label sk-toggleable__label-arrow\">cat_more9</label><div class=\"sk-toggleable__content\"><pre>[&#x27;Actual_Time&#x27;, &#x27;Country&#x27;, &#x27;Major_Geographical_Location&#x27;, &#x27;Primary_Computing_Platform&#x27;, &#x27;Primary_Language&#x27;]</pre></div></div></div><div class=\"sk-serial\"><div class=\"sk-item\"><div class=\"sk-serial\"><div class=\"sk-item\"><div class=\"sk-estimator sk-toggleable\"><input class=\"sk-toggleable__control sk-hidden--visually\" id=\"sk-estimator-id-214\" type=\"checkbox\" ><label for=\"sk-estimator-id-214\" class=\"sk-toggleable__label sk-toggleable__label-arrow\">SimpleImputer</label><div class=\"sk-toggleable__content\"><pre>SimpleImputer(strategy=&#x27;most_frequent&#x27;)</pre></div></div></div></div></div></div></div></div></div></div><div class=\"sk-item\"><div class=\"sk-estimator sk-toggleable\"><input class=\"sk-toggleable__control sk-hidden--visually\" id=\"sk-estimator-id-215\" type=\"checkbox\" ><label for=\"sk-estimator-id-215\" class=\"sk-toggleable__label sk-toggleable__label-arrow\">CatBoostClassifier</label><div class=\"sk-toggleable__content\"><pre>&lt;catboost.core.CatBoostClassifier object at 0x000002AE0082D330&gt;</pre></div></div></div></div></div></div></div></div></div></div></div></div>"
      ],
      "text/plain": [
       "RandomizedSearchCV(cv=StratifiedKFold(n_splits=3, random_state=1234, shuffle=True),\n",
       "                   estimator=Pipeline(steps=[('preprocessing',\n",
       "                                              ColumnTransformer(sparse_threshold=0,\n",
       "                                                                transformers=[('num',\n",
       "                                                                               Pipeline(steps=[('imputer',\n",
       "                                                                                                SimpleImputer(strategy='median'))]),\n",
       "                                                                               ['Community_Membership_Family',\n",
       "                                                                                'Community_Membership_Hobbies',\n",
       "                                                                                'Community_Membership_None',\n",
       "                                                                                'Community_Memb...\n",
       "                   param_distributions={'model__depth': <scipy.stats._distn_infrastructure.rv_discrete_frozen object at 0x000002AE0082DD80>,\n",
       "                                        'model__iterations': <scipy.stats._distn_infrastructure.rv_discrete_frozen object at 0x000002AE0082D1E0>,\n",
       "                                        'model__learning_rate': <scipy.stats._distn_infrastructure.rv_continuous_frozen object at 0x000002AE003D7A60>},\n",
       "                   random_state=1234, scoring='balanced_accuracy')"
      ]
     },
     "execution_count": 124,
     "metadata": {},
     "output_type": "execute_result"
    }
   ],
   "source": [
    "# Display pipeline\n",
    "print(\"Time taken: \", catboost_tune_time_taken9)\n",
    "catboost_tune9"
   ]
  },
  {
   "cell_type": "code",
   "execution_count": 125,
   "id": "a17283f6",
   "metadata": {},
   "outputs": [
    {
     "name": "stdout",
     "output_type": "stream",
     "text": [
      "Best parameters: {'model__depth': 5, 'model__iterations': 289, 'model__learning_rate': 0.05519108968182859}\n",
      "Balanced accuracy with best parameters: 0.8883544350117096\n"
     ]
    }
   ],
   "source": [
    "# Predict using the model with the best parameters\n",
    "y_catboost_tune_pred = catboost_tune.predict(X_test)\n",
    "\n",
    "# Get the best parameters\n",
    "catboost_tune_best_params = catboost_tune.best_params_\n",
    "print(f'Best parameters: {catboost_tune_best_params}')\n",
    "\n",
    "# Calculate balanced accuracy for the model with the best parameters\n",
    "catboost_tune_accuracy = balanced_accuracy_score(y_test, y_catboost_tune_pred)\n",
    "print(f'Balanced accuracy with best parameters: {catboost_tune_accuracy}')\n",
    "\n",
    "# Save results\n",
    "default_summary.append(\"Tune\")\n",
    "card_9_summary.append(\"AllVariables\")\n",
    "encoder_summary.append(\"CatboostNativeSupport\")\n",
    "value_summary.append(catboost_tune_accuracy)\n",
    "time_summary.append(catboost_tune_time_taken)\n",
    "n_models_summary.append(catboost_tune.n_iter * catboost_tune.n_splits_)"
   ]
  },
  {
   "cell_type": "code",
   "execution_count": 126,
   "id": "6812cae0",
   "metadata": {},
   "outputs": [
    {
     "name": "stdout",
     "output_type": "stream",
     "text": [
      "Best parameters: {'model__depth': 5, 'model__iterations': 289, 'model__learning_rate': 0.05519108968182859}\n",
      "Balanced accuracy with best parameters: 0.8883544350117096\n"
     ]
    }
   ],
   "source": [
    "# Predict using the model with the best parameters\n",
    "y_catboost_tune_pred9 = catboost_tune9.predict(X_test)\n",
    "\n",
    "# Get the best parameters\n",
    "catboost_tune_best_params9 = catboost_tune9.best_params_\n",
    "print(f'Best parameters: {catboost_tune_best_params9}')\n",
    "\n",
    "# Calculate balanced accuracy for the model with the best parameters\n",
    "catboost_tune_accuracy9 = balanced_accuracy_score(y_test, y_catboost_tune_pred9)\n",
    "print(f'Balanced accuracy with best parameters: {catboost_tune_accuracy9}')\n",
    "\n",
    "# Save results\n",
    "default_summary.append(\"Tune\")\n",
    "card_9_summary.append(\"OnlyVariablesWithCard>9\")\n",
    "encoder_summary.append(\"CatboostNativeSupport\")\n",
    "value_summary.append(catboost_tune_accuracy9)\n",
    "time_summary.append(catboost_tune_time_taken9)\n",
    "n_models_summary.append(catboost_tune9.n_iter * catboost_tune9.n_splits_)"
   ]
  },
  {
   "cell_type": "markdown",
   "metadata": {},
   "source": [
    "### Results Summary"
   ]
  },
  {
   "cell_type": "code",
   "execution_count": 127,
   "metadata": {},
   "outputs": [
    {
     "data": {
      "text/html": [
       "<div>\n",
       "<style scoped>\n",
       "    .dataframe tbody tr th:only-of-type {\n",
       "        vertical-align: middle;\n",
       "    }\n",
       "\n",
       "    .dataframe tbody tr th {\n",
       "        vertical-align: top;\n",
       "    }\n",
       "\n",
       "    .dataframe thead th {\n",
       "        text-align: right;\n",
       "    }\n",
       "</style>\n",
       "<table border=\"1\" class=\"dataframe\">\n",
       "  <thead>\n",
       "    <tr style=\"text-align: right;\">\n",
       "      <th></th>\n",
       "      <th>Dataset</th>\n",
       "      <th>Variables</th>\n",
       "      <th>Default/Tune</th>\n",
       "      <th>Encoder</th>\n",
       "      <th>Metric</th>\n",
       "      <th>Value</th>\n",
       "      <th>Time</th>\n",
       "      <th>n_Models</th>\n",
       "      <th>mean_Time</th>\n",
       "    </tr>\n",
       "  </thead>\n",
       "  <tbody>\n",
       "    <tr>\n",
       "      <th>0</th>\n",
       "      <td>kdd_internet_usage</td>\n",
       "      <td>AllVariables</td>\n",
       "      <td>Default</td>\n",
       "      <td>OneHotEncoding</td>\n",
       "      <td>BalancedAccuracy</td>\n",
       "      <td>0.864101</td>\n",
       "      <td>1.390631</td>\n",
       "      <td>1</td>\n",
       "      <td>1.390631</td>\n",
       "    </tr>\n",
       "    <tr>\n",
       "      <th>1</th>\n",
       "      <td>kdd_internet_usage</td>\n",
       "      <td>AllVariables</td>\n",
       "      <td>Tune</td>\n",
       "      <td>OneHotEncoding</td>\n",
       "      <td>BalancedAccuracy</td>\n",
       "      <td>0.881191</td>\n",
       "      <td>63.434377</td>\n",
       "      <td>300</td>\n",
       "      <td>0.211448</td>\n",
       "    </tr>\n",
       "    <tr>\n",
       "      <th>2</th>\n",
       "      <td>kdd_internet_usage</td>\n",
       "      <td>AllVariables</td>\n",
       "      <td>Default</td>\n",
       "      <td>CountEncoding</td>\n",
       "      <td>BalancedAccuracy</td>\n",
       "      <td>0.871752</td>\n",
       "      <td>0.767132</td>\n",
       "      <td>1</td>\n",
       "      <td>0.767132</td>\n",
       "    </tr>\n",
       "    <tr>\n",
       "      <th>3</th>\n",
       "      <td>kdd_internet_usage</td>\n",
       "      <td>OnlyVariablesWithCard&gt;9</td>\n",
       "      <td>Default</td>\n",
       "      <td>CountEncoding</td>\n",
       "      <td>BalancedAccuracy</td>\n",
       "      <td>0.870728</td>\n",
       "      <td>0.870026</td>\n",
       "      <td>1</td>\n",
       "      <td>0.870026</td>\n",
       "    </tr>\n",
       "    <tr>\n",
       "      <th>4</th>\n",
       "      <td>kdd_internet_usage</td>\n",
       "      <td>AllVariables</td>\n",
       "      <td>Tune</td>\n",
       "      <td>CountEncoding</td>\n",
       "      <td>BalancedAccuracy</td>\n",
       "      <td>0.873039</td>\n",
       "      <td>58.264780</td>\n",
       "      <td>600</td>\n",
       "      <td>0.097108</td>\n",
       "    </tr>\n",
       "    <tr>\n",
       "      <th>5</th>\n",
       "      <td>kdd_internet_usage</td>\n",
       "      <td>OnlyVariablesWithCard&gt;9</td>\n",
       "      <td>Tune</td>\n",
       "      <td>CountEncoding</td>\n",
       "      <td>BalancedAccuracy</td>\n",
       "      <td>0.873392</td>\n",
       "      <td>59.459978</td>\n",
       "      <td>600</td>\n",
       "      <td>0.099100</td>\n",
       "    </tr>\n",
       "    <tr>\n",
       "      <th>6</th>\n",
       "      <td>kdd_internet_usage</td>\n",
       "      <td>AllVariables</td>\n",
       "      <td>Default</td>\n",
       "      <td>OrdinalEncoder</td>\n",
       "      <td>BalancedAccuracy</td>\n",
       "      <td>0.871081</td>\n",
       "      <td>0.690930</td>\n",
       "      <td>1</td>\n",
       "      <td>0.690930</td>\n",
       "    </tr>\n",
       "    <tr>\n",
       "      <th>7</th>\n",
       "      <td>kdd_internet_usage</td>\n",
       "      <td>OnlyVariablesWithCard&gt;9</td>\n",
       "      <td>Default</td>\n",
       "      <td>OrdinalEncoder</td>\n",
       "      <td>BalancedAccuracy</td>\n",
       "      <td>0.879997</td>\n",
       "      <td>2.219042</td>\n",
       "      <td>1</td>\n",
       "      <td>2.219042</td>\n",
       "    </tr>\n",
       "    <tr>\n",
       "      <th>8</th>\n",
       "      <td>kdd_internet_usage</td>\n",
       "      <td>AllVariables</td>\n",
       "      <td>Tune</td>\n",
       "      <td>OrdinalEncoder</td>\n",
       "      <td>BalancedAccuracy</td>\n",
       "      <td>0.876182</td>\n",
       "      <td>46.684868</td>\n",
       "      <td>600</td>\n",
       "      <td>0.077808</td>\n",
       "    </tr>\n",
       "    <tr>\n",
       "      <th>9</th>\n",
       "      <td>kdd_internet_usage</td>\n",
       "      <td>OnlyVariablesWithCard&gt;9</td>\n",
       "      <td>Tune</td>\n",
       "      <td>OrdinalEncoder</td>\n",
       "      <td>BalancedAccuracy</td>\n",
       "      <td>0.877730</td>\n",
       "      <td>51.843918</td>\n",
       "      <td>600</td>\n",
       "      <td>0.086407</td>\n",
       "    </tr>\n",
       "    <tr>\n",
       "      <th>10</th>\n",
       "      <td>kdd_internet_usage</td>\n",
       "      <td>AllVariables</td>\n",
       "      <td>Default</td>\n",
       "      <td>HGB_NativeSupport</td>\n",
       "      <td>BalancedAccuracy</td>\n",
       "      <td>0.869442</td>\n",
       "      <td>0.593181</td>\n",
       "      <td>1</td>\n",
       "      <td>0.593181</td>\n",
       "    </tr>\n",
       "    <tr>\n",
       "      <th>11</th>\n",
       "      <td>kdd_internet_usage</td>\n",
       "      <td>OnlyVariablesWithCard&gt;9</td>\n",
       "      <td>Default</td>\n",
       "      <td>HGB_NativeSupport</td>\n",
       "      <td>BalancedAccuracy</td>\n",
       "      <td>0.871150</td>\n",
       "      <td>0.689334</td>\n",
       "      <td>1</td>\n",
       "      <td>0.689334</td>\n",
       "    </tr>\n",
       "    <tr>\n",
       "      <th>12</th>\n",
       "      <td>kdd_internet_usage</td>\n",
       "      <td>AllVariables</td>\n",
       "      <td>Tune</td>\n",
       "      <td>HGB_NativeSupport</td>\n",
       "      <td>BalancedAccuracy</td>\n",
       "      <td>0.875807</td>\n",
       "      <td>45.833637</td>\n",
       "      <td>600</td>\n",
       "      <td>0.076389</td>\n",
       "    </tr>\n",
       "    <tr>\n",
       "      <th>13</th>\n",
       "      <td>kdd_internet_usage</td>\n",
       "      <td>OnlyVariablesWithCard&gt;9</td>\n",
       "      <td>Tune</td>\n",
       "      <td>HGB_NativeSupport</td>\n",
       "      <td>BalancedAccuracy</td>\n",
       "      <td>0.878323</td>\n",
       "      <td>52.047277</td>\n",
       "      <td>600</td>\n",
       "      <td>0.086745</td>\n",
       "    </tr>\n",
       "    <tr>\n",
       "      <th>14</th>\n",
       "      <td>kdd_internet_usage</td>\n",
       "      <td>AllVariables</td>\n",
       "      <td>Default</td>\n",
       "      <td>TargetEncoder</td>\n",
       "      <td>BalancedAccuracy</td>\n",
       "      <td>0.878937</td>\n",
       "      <td>1.352425</td>\n",
       "      <td>1</td>\n",
       "      <td>1.352425</td>\n",
       "    </tr>\n",
       "    <tr>\n",
       "      <th>15</th>\n",
       "      <td>kdd_internet_usage</td>\n",
       "      <td>OnlyVariablesWithCard&gt;9</td>\n",
       "      <td>Default</td>\n",
       "      <td>TargetEncoder</td>\n",
       "      <td>BalancedAccuracy</td>\n",
       "      <td>0.877014</td>\n",
       "      <td>0.816457</td>\n",
       "      <td>1</td>\n",
       "      <td>0.816457</td>\n",
       "    </tr>\n",
       "    <tr>\n",
       "      <th>16</th>\n",
       "      <td>kdd_internet_usage</td>\n",
       "      <td>AllVariables</td>\n",
       "      <td>Tune</td>\n",
       "      <td>TargetEncoder</td>\n",
       "      <td>BalancedAccuracy</td>\n",
       "      <td>0.881488</td>\n",
       "      <td>41.341337</td>\n",
       "      <td>600</td>\n",
       "      <td>0.068902</td>\n",
       "    </tr>\n",
       "    <tr>\n",
       "      <th>17</th>\n",
       "      <td>kdd_internet_usage</td>\n",
       "      <td>OnlyVariablesWithCard&gt;9</td>\n",
       "      <td>Tune</td>\n",
       "      <td>TargetEncoder</td>\n",
       "      <td>BalancedAccuracy</td>\n",
       "      <td>0.882935</td>\n",
       "      <td>52.799732</td>\n",
       "      <td>600</td>\n",
       "      <td>0.088000</td>\n",
       "    </tr>\n",
       "    <tr>\n",
       "      <th>18</th>\n",
       "      <td>kdd_internet_usage</td>\n",
       "      <td>AllVariables</td>\n",
       "      <td>Default</td>\n",
       "      <td>CatboostNativeSupport</td>\n",
       "      <td>BalancedAccuracy</td>\n",
       "      <td>0.889811</td>\n",
       "      <td>38.974594</td>\n",
       "      <td>1</td>\n",
       "      <td>38.974594</td>\n",
       "    </tr>\n",
       "    <tr>\n",
       "      <th>19</th>\n",
       "      <td>kdd_internet_usage</td>\n",
       "      <td>OnlyVariablesWithCard&gt;9</td>\n",
       "      <td>Default</td>\n",
       "      <td>CatboostNativeSupport</td>\n",
       "      <td>BalancedAccuracy</td>\n",
       "      <td>0.889811</td>\n",
       "      <td>39.026509</td>\n",
       "      <td>1</td>\n",
       "      <td>39.026509</td>\n",
       "    </tr>\n",
       "    <tr>\n",
       "      <th>20</th>\n",
       "      <td>kdd_internet_usage</td>\n",
       "      <td>AllVariables</td>\n",
       "      <td>Tune</td>\n",
       "      <td>CatboostNativeSupport</td>\n",
       "      <td>BalancedAccuracy</td>\n",
       "      <td>0.888354</td>\n",
       "      <td>252.646703</td>\n",
       "      <td>15</td>\n",
       "      <td>16.843114</td>\n",
       "    </tr>\n",
       "    <tr>\n",
       "      <th>21</th>\n",
       "      <td>kdd_internet_usage</td>\n",
       "      <td>OnlyVariablesWithCard&gt;9</td>\n",
       "      <td>Tune</td>\n",
       "      <td>CatboostNativeSupport</td>\n",
       "      <td>BalancedAccuracy</td>\n",
       "      <td>0.888354</td>\n",
       "      <td>258.684866</td>\n",
       "      <td>15</td>\n",
       "      <td>17.245658</td>\n",
       "    </tr>\n",
       "  </tbody>\n",
       "</table>\n",
       "</div>"
      ],
      "text/plain": [
       "               Dataset                Variables Default/Tune  \\\n",
       "0   kdd_internet_usage             AllVariables      Default   \n",
       "1   kdd_internet_usage             AllVariables         Tune   \n",
       "2   kdd_internet_usage             AllVariables      Default   \n",
       "3   kdd_internet_usage  OnlyVariablesWithCard>9      Default   \n",
       "4   kdd_internet_usage             AllVariables         Tune   \n",
       "5   kdd_internet_usage  OnlyVariablesWithCard>9         Tune   \n",
       "6   kdd_internet_usage             AllVariables      Default   \n",
       "7   kdd_internet_usage  OnlyVariablesWithCard>9      Default   \n",
       "8   kdd_internet_usage             AllVariables         Tune   \n",
       "9   kdd_internet_usage  OnlyVariablesWithCard>9         Tune   \n",
       "10  kdd_internet_usage             AllVariables      Default   \n",
       "11  kdd_internet_usage  OnlyVariablesWithCard>9      Default   \n",
       "12  kdd_internet_usage             AllVariables         Tune   \n",
       "13  kdd_internet_usage  OnlyVariablesWithCard>9         Tune   \n",
       "14  kdd_internet_usage             AllVariables      Default   \n",
       "15  kdd_internet_usage  OnlyVariablesWithCard>9      Default   \n",
       "16  kdd_internet_usage             AllVariables         Tune   \n",
       "17  kdd_internet_usage  OnlyVariablesWithCard>9         Tune   \n",
       "18  kdd_internet_usage             AllVariables      Default   \n",
       "19  kdd_internet_usage  OnlyVariablesWithCard>9      Default   \n",
       "20  kdd_internet_usage             AllVariables         Tune   \n",
       "21  kdd_internet_usage  OnlyVariablesWithCard>9         Tune   \n",
       "\n",
       "                  Encoder            Metric     Value        Time  n_Models  \\\n",
       "0          OneHotEncoding  BalancedAccuracy  0.864101    1.390631         1   \n",
       "1          OneHotEncoding  BalancedAccuracy  0.881191   63.434377       300   \n",
       "2           CountEncoding  BalancedAccuracy  0.871752    0.767132         1   \n",
       "3           CountEncoding  BalancedAccuracy  0.870728    0.870026         1   \n",
       "4           CountEncoding  BalancedAccuracy  0.873039   58.264780       600   \n",
       "5           CountEncoding  BalancedAccuracy  0.873392   59.459978       600   \n",
       "6          OrdinalEncoder  BalancedAccuracy  0.871081    0.690930         1   \n",
       "7          OrdinalEncoder  BalancedAccuracy  0.879997    2.219042         1   \n",
       "8          OrdinalEncoder  BalancedAccuracy  0.876182   46.684868       600   \n",
       "9          OrdinalEncoder  BalancedAccuracy  0.877730   51.843918       600   \n",
       "10      HGB_NativeSupport  BalancedAccuracy  0.869442    0.593181         1   \n",
       "11      HGB_NativeSupport  BalancedAccuracy  0.871150    0.689334         1   \n",
       "12      HGB_NativeSupport  BalancedAccuracy  0.875807   45.833637       600   \n",
       "13      HGB_NativeSupport  BalancedAccuracy  0.878323   52.047277       600   \n",
       "14          TargetEncoder  BalancedAccuracy  0.878937    1.352425         1   \n",
       "15          TargetEncoder  BalancedAccuracy  0.877014    0.816457         1   \n",
       "16          TargetEncoder  BalancedAccuracy  0.881488   41.341337       600   \n",
       "17          TargetEncoder  BalancedAccuracy  0.882935   52.799732       600   \n",
       "18  CatboostNativeSupport  BalancedAccuracy  0.889811   38.974594         1   \n",
       "19  CatboostNativeSupport  BalancedAccuracy  0.889811   39.026509         1   \n",
       "20  CatboostNativeSupport  BalancedAccuracy  0.888354  252.646703        15   \n",
       "21  CatboostNativeSupport  BalancedAccuracy  0.888354  258.684866        15   \n",
       "\n",
       "    mean_Time  \n",
       "0    1.390631  \n",
       "1    0.211448  \n",
       "2    0.767132  \n",
       "3    0.870026  \n",
       "4    0.097108  \n",
       "5    0.099100  \n",
       "6    0.690930  \n",
       "7    2.219042  \n",
       "8    0.077808  \n",
       "9    0.086407  \n",
       "10   0.593181  \n",
       "11   0.689334  \n",
       "12   0.076389  \n",
       "13   0.086745  \n",
       "14   1.352425  \n",
       "15   0.816457  \n",
       "16   0.068902  \n",
       "17   0.088000  \n",
       "18  38.974594  \n",
       "19  39.026509  \n",
       "20  16.843114  \n",
       "21  17.245658  "
      ]
     },
     "execution_count": 127,
     "metadata": {},
     "output_type": "execute_result"
    }
   ],
   "source": [
    "results_summary = pd.DataFrame({\"Dataset\":\"kdd_internet_usage\",\n",
    "                                \"Variables\":card_9_summary,\n",
    "                                \"Default/Tune\":default_summary,\n",
    "                                \"Encoder\":encoder_summary,\n",
    "                                \"Metric\":\"BalancedAccuracy\",\n",
    "                                \"Value\":value_summary,\n",
    "                                \"Time\":time_summary,\n",
    "                                \"n_Models\":n_models_summary})\n",
    "results_summary[\"mean_Time\"] = (results_summary[\"Time\"] / results_summary[\"n_Models\"])\n",
    "results_summary"
   ]
  },
  {
   "cell_type": "code",
   "execution_count": 128,
   "metadata": {},
   "outputs": [],
   "source": [
    "results_summary.to_csv(\"kdd_internet_usage_results.csv\")"
   ]
  }
 ],
 "metadata": {
  "kernelspec": {
   "display_name": "Python 3 (ipykernel)",
   "language": "python",
   "name": "python3"
  },
  "language_info": {
   "codemirror_mode": {
    "name": "ipython",
    "version": 3
   },
   "file_extension": ".py",
   "mimetype": "text/x-python",
   "name": "python",
   "nbconvert_exporter": "python",
   "pygments_lexer": "ipython3",
   "version": "3.10.10"
  }
 },
 "nbformat": 4,
 "nbformat_minor": 5
}
